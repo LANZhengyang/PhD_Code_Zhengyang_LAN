{
 "cells": [
  {
   "cell_type": "markdown",
   "metadata": {},
   "source": [
    "# Quantitative Analysis - Fidelity\n",
    "## Load dataset"
   ]
  },
  {
   "cell_type": "code",
   "execution_count": 30,
   "metadata": {},
   "outputs": [
    {
     "name": "stdout",
     "output_type": "stream",
     "text": [
      "(array([0., 1.]), array([35, 89]))\n",
      "(array([0., 1.]), array([ 6, 14]))\n",
      "(array([0., 1.]), array([18, 45]))\n"
     ]
    }
   ],
   "source": [
    "from utils.utils import gait_dataloader\n",
    "from utils.utils import init_model,  patients_idx_to_cycles_idx, find_cycles_idx_by_patient_idx\n",
    "from sklearn.model_selection import train_test_split\n",
    "\n",
    "from utils.utils import init_model,accuracy_end_to_end\n",
    "import os\n",
    "import numpy as np\n",
    "\n",
    "from sklearn.svm import SVC\n",
    "\n",
    "from sklearn.metrics import f1_score\n",
    "\n",
    "from sklearn.metrics import roc_auc_score\n",
    "from sklearn.metrics import recall_score\n",
    "\n",
    "from sklearn.metrics import accuracy_score\n",
    "\n",
    "from sklearn.metrics import confusion_matrix\n",
    "\n",
    "import seaborn as sn\n",
    "\n",
    "from sklearn.metrics import f1_score\n",
    "\n",
    "\n",
    "from utils.utils import *\n",
    "\n",
    "def load_dataset_v1(dir_dataset,channel_first=True,flatten=True,shuffle=False,random_state=0):\n",
    "    index = [0,1,2,3,4,5,6,7,8,9,14,15,16,17,18,19,20,21,22,23,24,29]\n",
    "    \n",
    "    npzfile = np.load(dir_dataset + 'RightPC.npz')\n",
    "    \n",
    "    x_train_all = npzfile['Input']\n",
    "    y_train = npzfile['Output']\n",
    "    y_train = np.ravel(y_train)\n",
    "    x_train = x_train_all[:,:,index]\n",
    "    if channel_first:\n",
    "        x_train = x_train.transpose(0,2,1)\n",
    "    \n",
    "    npzfile = np.load(dir_dataset + 'LeftPC.npz')\n",
    "    x_val_all = npzfile['Input']\n",
    "    y_val = npzfile['Output']\n",
    "    y_val = np.ravel(y_val)\n",
    "    x_val = x_val_all[:,:,index]\n",
    "    if channel_first:\n",
    "        x_val = x_val.transpose(0,2,1)\n",
    "    \n",
    "    npzfile = np.load(dir_dataset + 'TD.npz')\n",
    "    x_test_all = npzfile['Input']\n",
    "    y_test = npzfile['Output']\n",
    "    y_test = np.ravel(y_test)\n",
    "    x_test = x_test_all[:,:,index]\n",
    "    if channel_first:\n",
    "        x_test = x_test.transpose(0,2,1)\n",
    "    \n",
    "    if flatten == True:\n",
    "        x_train = x_train.reshape([x_train.shape[0],-1])\n",
    "        x_val = x_val.reshape([x_val.shape[0],-1])\n",
    "        x_test = x_test.reshape([x_test.shape[0],-1])\n",
    "    \n",
    "    nb_classes = len(np.unique(np.concatenate((y_train, y_val, y_test), axis=0)))\n",
    "    \n",
    "    return x_train, y_train ,x_val, y_val, x_test, y_test, nb_classes\n",
    "\n",
    "dataset = \"archives/AQM/TDvsPC_new_no_shuffle/\"\n",
    "\n",
    "x_R, y_R ,x_L , y_L, x_TD, y_TD, nb_classes = load_dataset_v1(dataset,channel_first=True,flatten=False,shuffle=False,random_state=0)\n",
    "\n",
    "X_d = np.concatenate([x_R,x_L,x_TD])\n",
    "# X_d = X_d.reshape([len(X_d),-1])\n",
    "y_d = np.concatenate([y_R,y_L,y_TD])\n",
    "import  pandas as pd\n",
    "\n",
    "R_data = pd.read_csv('DataPC - Right.csv', header=None)\n",
    "R_idx = R_data[1].to_numpy()\n",
    "\n",
    "\n",
    "L_data = pd.read_csv('DataPC - Left.csv', header=None)\n",
    "L_idx = L_data[1].to_numpy()\n",
    "L_idx = L_idx + R_idx[-1]\n",
    "\n",
    "TD_data = pd.read_csv('DataTD - By Subject.csv', header=None)\n",
    "TD_idx = TD_data[1].to_numpy()\n",
    "TD_idx = TD_idx + L_idx[-1]\n",
    "\n",
    "cycle_end_idx = np.concatenate([R_idx,L_idx,TD_idx])\n",
    "\n",
    "patient_index_range = np.arange(len(R_idx)+len(L_idx)+len(TD_idx))\n",
    "patient_class = np.concatenate([np.ones(len(R_idx)+len(L_idx)), np.zeros(len(TD_idx))])\n",
    "\n",
    "\n",
    "x_train, x_test, y_train, y_test = train_test_split(patient_index_range, patient_class, test_size=0.4, stratify=patient_class,random_state=0)\n",
    "x_val, x_test, y_val, y_test = train_test_split(x_test,y_test, test_size=0.75, random_state=0, stratify=y_test)\n",
    "print(np.unique(y_train,return_counts=True))\n",
    "print(np.unique(y_val,return_counts=True))\n",
    "print(np.unique(y_test,return_counts=True))"
   ]
  },
  {
   "cell_type": "markdown",
   "metadata": {},
   "source": [
    "## Load function to evaluation"
   ]
  },
  {
   "cell_type": "code",
   "execution_count": 33,
   "metadata": {},
   "outputs": [],
   "source": [
    "from torch.utils.data import Dataset\n",
    "from utils.utils import gait_dataloader\n",
    "from utils.utils import init_model\n",
    "## lime\n",
    "import torch\n",
    "import pytorch_lightning as pl\n",
    "class Dataset_torch(Dataset):\n",
    "\n",
    "    def __init__(self, data,with_label=True):\n",
    "        self.with_label =  with_label\n",
    "        \n",
    "        if self.with_label:\n",
    "            self.data_x, self.data_y = data\n",
    "        else:\n",
    "            self.data_x = data\n",
    "    def __len__(self):\n",
    "        return len(self.data_x)\n",
    "\n",
    "    def __getitem__(self, idx):\n",
    "        if self.with_label:\n",
    "            return self.data_x[idx], self.data_y[idx]\n",
    "        else:\n",
    "            return self.data_x[idx]\n",
    "\n",
    "\n",
    "        \n",
    "# batch_predict(X_d[patients_idx_to_cycles_idx(x_test,cycle_end_idx)],'new_train_lrR_ET_TDvsPC_new_inceptiom_full_InceptionTime/model-epoch=01-val_loss=0.74-val_accuracy=0.91.ckpt')"
   ]
  },
  {
   "cell_type": "code",
   "execution_count": 34,
   "metadata": {},
   "outputs": [],
   "source": [
    "def train_model(D_name,Net_name):\n",
    "    a_list = []\n",
    "    for i in range(10):\n",
    "        print(\"train number -\", i)\n",
    "        classifer = init_model(model_name=Net_name,lr_reduce=True, earlystopping=True, lr_patience=1, batch_size=32,lr=0.001, max_epochs=50,gpu=[0],default_root_dir=\"./new_train_lrR_ET_\"+D_name+\"_\"+Net_name+\"/\")\n",
    "        classifer.fit(X_d[patients_idx_to_cycles_idx(x_train,cycle_end_idx)], y_d[patients_idx_to_cycles_idx(x_train,cycle_end_idx)], X_d[patients_idx_to_cycles_idx(x_val,cycle_end_idx)], y_d[patients_idx_to_cycles_idx(x_val,cycle_end_idx)],ckpt_monitor='val_accuracy')\n",
    "#         a_list.append(accuracy_score(y_d[patients_idx_to_cycles_idx(x_test,cycle_end_idx)], classifer.predict(X_d[patients_idx_to_cycles_idx(x_test,cycle_end_idx)])))\n",
    "        print(\"train number end -\", i)\n",
    "#     list_f1 = []\n",
    "#     list_accuracy = []\n",
    "    \n",
    "#     import os\n",
    "#     filePath = \"./new_train_lrR_ET_\"+D_name+\"_\"+Net_name+\"/\"\n",
    "#     os.listdir(filePath)\n",
    "\n",
    "#     j = 0\n",
    "#     for i in os.listdir(filePath):\n",
    "        \n",
    "#         if 'model' in i:\n",
    "#             j+=1\n",
    "#             print('model_name_loading: ',i,j)\n",
    "#             classifer = init_model(model_name=Net_name).load( \"./new_train_lrR_ET_\"+D_name+\"_\"+Net_name+\"/\"+str(i))\n",
    "#             print('compute acc',j)\n",
    "#             list_accuracy.append(accuracy_score(y_d[patients_idx_to_cycles_idx(x_test,cycle_end_idx)], classifer.predict(X_d[patients_idx_to_cycles_idx(x_test,cycle_end_idx)])))\n",
    "#             print('compute f1',j)\n",
    "#             list_f1.append(f1_score(y_d[patients_idx_to_cycles_idx(x_test,cycle_end_idx)], classifer.predict(X_d[patients_idx_to_cycles_idx(x_test,cycle_end_idx)])))\n",
    "#             print('return',j)\n",
    "# #     return list_accuracy, list_f1 \n",
    "#     return list_accuracy, \"%.4f\" %(np.mean(list_accuracy)) +\"±\"+ \"%.4f\" %(np.std(list_accuracy)),list_f1 , \"%.4f\" %(np.mean(list_f1)) +\"±\"+ \"%.4f\" %(np.std(list_f1))"
   ]
  },
  {
   "cell_type": "code",
   "execution_count": 37,
   "metadata": {},
   "outputs": [],
   "source": [
    "from torch.utils.data import Dataset\n",
    "from torch.utils.data import DataLoader\n",
    "class Dataset_torch(Dataset):\n",
    "    '''\n",
    "    Adapt the dataset to feed to pytorch dataloader\n",
    "\n",
    "    Parameter:\n",
    "    data: input data to adapt\n",
    "    with_label: True or False, with label or not\n",
    "\n",
    "    Return prediction of model by confidence of each class\n",
    "    '''\n",
    "    def __init__(self, data,with_label=True):\n",
    "        self.with_label =  with_label\n",
    "        \n",
    "        if self.with_label:\n",
    "            self.data_x, self.data_y = data\n",
    "        else:\n",
    "            self.data_x = data\n",
    "    def __len__(self):\n",
    "        return len(self.data_x)\n",
    "\n",
    "    def __getitem__(self, idx):\n",
    "        if self.with_label:\n",
    "            return self.data_x[idx], self.data_y[idx]\n",
    "        else:\n",
    "            return self.data_x[idx]\n",
    "pred_set = Dataset_torch(X_d[:200],with_label=False)"
   ]
  },
  {
   "cell_type": "code",
   "execution_count": 38,
   "metadata": {},
   "outputs": [],
   "source": [
    "# from utils.utils import *\n",
    "# from classifiers.ResNet import *\n",
    "# checkpoint = torch.load(\"/Volumes/Untitled/Desktop/Gait_DeepLearning_Diagnostic_Tool/model/new_train_lrR_ET_TDvsCPu_new_full_5test2025_ResNet/model-epoch=02-val_loss=0.24-val_accuracy=0.95.ckpt\")\n",
    "# model = ResNet(nb_classes=2)\n",
    "# model.load_state_dict(checkpoint[\"state_dict\"])\n",
    "# trainer = pl.Trainer(accelerator='cpu')\n",
    "\n",
    "# data_loader_pred = torch.utils.data.DataLoader(dataset=pred_set, batch_size=64,num_workers=0)\n",
    "\n",
    "# pred = trainer.predict(model=model,dataloaders = data_loader_pred)"
   ]
  },
  {
   "cell_type": "code",
   "execution_count": 39,
   "metadata": {},
   "outputs": [],
   "source": [
    "from sklearn.metrics import f1_score\n",
    "\n",
    "def eval_model(D_name,Net_name):\n",
    "    \n",
    "    list_f1 = []\n",
    "    list_accuracy = []\n",
    "\n",
    "    import os\n",
    "    filePath = \"./new_train_lrR_ET_\"+D_name+\"_\"+Net_name+\"/\"\n",
    "    os.listdir(filePath)\n",
    "\n",
    "    for i in os.listdir(filePath):\n",
    "        if 'model' in i:\n",
    "            print(i)\n",
    "            classifer = init_model(model_name=Net_name).load( \"./new_train_lrR_ET_\"+D_name+\"_\"+Net_name+\"/\"+str(i))\n",
    "            list_accuracy.append(accuracy_score(y_d[patients_idx_to_cycles_idx(x_test,cycle_end_idx)], classifer.predict(X_d[patients_idx_to_cycles_idx(x_test,cycle_end_idx)])))\n",
    "            list_f1.append(f1_score(y_d[patients_idx_to_cycles_idx(x_test,cycle_end_idx)], classifer.predict(X_d[patients_idx_to_cycles_idx(x_test,cycle_end_idx)])))\n",
    "    return list_accuracy, \"%.4f\" %(np.mean(list_accuracy)) +\"±\"+ \"%.4f\" %(np.std(list_accuracy)),list_f1 , \"%.4f\" %(np.mean(list_f1)) +\"±\"+ \"%.4f\" %(np.std(list_f1))\n",
    "\n",
    "def batch_predict(images,model_path):\n",
    "    pred_set = Dataset_torch(images,with_label=False)\n",
    "    data_loader_pred = torch.utils.data.DataLoader(dataset=pred_set, batch_size=64,num_workers=0)\n",
    "    \n",
    "    \n",
    "    classifer = init_model(model_name=Net_name).load(model_path)\n",
    "    \n",
    "    trainer = pl.Trainer(accelerator='cpu')\n",
    "    pred = trainer.predict(model=classifer.model,dataloaders = data_loader_pred)\n",
    "    pred = torch.cat(pred)\n",
    "    return pred.detach().cpu().numpy()\n",
    "\n",
    "from torch.utils.data import Dataset\n",
    "from utils.utils import gait_dataloader\n",
    "from utils.utils import init_model\n",
    "## lime\n",
    "import torch\n",
    "import pytorch_lightning as pl\n",
    "class Dataset_torch(Dataset):\n",
    "\n",
    "    def __init__(self, data,with_label=True):\n",
    "        self.with_label =  with_label\n",
    "        \n",
    "        if self.with_label:\n",
    "            self.data_x, self.data_y = data\n",
    "        else:\n",
    "            self.data_x = data\n",
    "    def __len__(self):\n",
    "        return len(self.data_x)\n",
    "\n",
    "    def __getitem__(self, idx):\n",
    "        if self.with_label:\n",
    "            return self.data_x[idx], self.data_y[idx]\n",
    "        else:\n",
    "            return self.data_x[idx]\n",
    "\n",
    "def eval_model_5_bundle(D_name,Net_name,idx=None):\n",
    "    \n",
    "    list_f1 = []\n",
    "    list_accuracy = []\n",
    "\n",
    "    import os\n",
    "    filePath = \"./new_train_lrR_ET_\"+D_name+\"_\"+Net_name+\"/\"\n",
    "    model_list = os.listdir(filePath)\n",
    "    model_list.remove('logs')\n",
    "    proba_sum_list = []\n",
    "    if idx==None:\n",
    "        for index in range(10):\n",
    "            print(index)\n",
    "            proba_sum = np.zeros([len(y_d[patients_idx_to_cycles_idx(x_test,cycle_end_idx)]),2])\n",
    "            for j in range(5):\n",
    "\n",
    "                # print(model_list[index])\n",
    "    #             classifer = init_model(model_name=Net_name).load( \"./new_train_lrR_ET_\"+D_name+\"_\"+Net_name+\"/\"+model_list[index*5+j])\n",
    "                print(batch_predict(X_d[patients_idx_to_cycles_idx(x_test,cycle_end_idx)],\"./new_train_lrR_ET_\"+D_name+\"_\"+Net_name+\"/\"+model_list[index*5+j]))\n",
    "                proba_sum +=batch_predict(X_d[patients_idx_to_cycles_idx(x_test,cycle_end_idx)],\"./new_train_lrR_ET_\"+D_name+\"_\"+Net_name+\"/\"+model_list[index*5+j])/5\n",
    "            proba_sum_list.append(proba_sum)\n",
    "    else:\n",
    "            index = idx\n",
    "            print(index)\n",
    "            proba_sum = np.zeros([len(y_d[patients_idx_to_cycles_idx(x_test,cycle_end_idx)]),2])\n",
    "            for j in range(5):\n",
    "\n",
    "                # print(model_list[index])\n",
    "    #             classifer = init_model(model_name=Net_name).load( \"./new_train_lrR_ET_\"+D_name+\"_\"+Net_name+\"/\"+model_list[index*5+j])\n",
    "                print(batch_predict(X_d[patients_idx_to_cycles_idx(x_test,cycle_end_idx)],\"./new_train_lrR_ET_\"+D_name+\"_\"+Net_name+\"/\"+model_list[index*5+j]))\n",
    "                proba_sum +=batch_predict(X_d[patients_idx_to_cycles_idx(x_test,cycle_end_idx)],\"./new_train_lrR_ET_\"+D_name+\"_\"+Net_name+\"/\"+model_list[index*5+j])/5\n",
    "            proba_sum_list = (proba_sum)\n",
    "    return proba_sum_list"
   ]
  },
  {
   "cell_type": "markdown",
   "metadata": {},
   "source": [
    "## Load the ranking of angles of different XAI methods"
   ]
  },
  {
   "cell_type": "code",
   "execution_count": 40,
   "metadata": {},
   "outputs": [],
   "source": [
    "X_d_original = X_d.copy()\n",
    "arr_all = np.load('./XAI_ranking/LIME_TDvsCPu_weight.npy')"
   ]
  },
  {
   "cell_type": "code",
   "execution_count": null,
   "metadata": {},
   "outputs": [],
   "source": []
  },
  {
   "cell_type": "markdown",
   "metadata": {},
   "source": [
    "## Evaluation of Fidelity by replace the last half to zero for ResNet"
   ]
  },
  {
   "cell_type": "code",
   "execution_count": 14,
   "metadata": {
    "scrolled": true
   },
   "outputs": [
    {
     "name": "stderr",
     "output_type": "stream",
     "text": [
      "GPU available: True (mps), used: False\n",
      "TPU available: False, using: 0 TPU cores\n",
      "HPU available: False, using: 0 HPUs\n"
     ]
    },
    {
     "name": "stdout",
     "output_type": "stream",
     "text": [
      "[ 3  6  0 14 17 19 20 11  9  2  8]\n",
      "[10  7 21  5 13 16 15 12  1  4 18]\n",
      "[[[  9.83950043   9.7201004    9.6335001  ...   9.47509956   9.24769974\n",
      "     9.04039955]\n",
      "  [  0.           0.           0.         ...   0.           0.\n",
      "     0.        ]\n",
      "  [ -1.16919994  -0.93102998  -0.73694998 ...  -2.81369996  -2.54369998\n",
      "    -2.28780007]\n",
      "  ...\n",
      "  [  6.59590006   6.85389996   6.91020012 ...   4.11780024   3.96300006\n",
      "     3.72989988]\n",
      "  [ -2.87540007  -3.09050012  -3.13870001 ...  -6.00860023  -6.19229984\n",
      "    -6.19449997]\n",
      "  [  0.           0.           0.         ...   0.           0.\n",
      "     0.        ]]\n",
      "\n",
      " [[  9.04039955   8.82820034   8.66639996 ...  13.4090004   13.08100033\n",
      "    12.73579979]\n",
      "  [  0.           0.           0.         ...   0.           0.\n",
      "     0.        ]\n",
      "  [ -2.28780007  -2.0000999   -1.73239994 ...   0.29835001   0.66356999\n",
      "     0.96999002]\n",
      "  ...\n",
      "  [  3.72989988   3.39369988   3.03649998 ...   6.45079994   6.55550003\n",
      "     6.6479001 ]\n",
      "  [ -6.19449997  -5.98360014  -5.56080008 ...  -0.67334002  -1.16170001\n",
      "    -1.42040002]\n",
      "  [  0.           0.           0.         ...   0.           0.\n",
      "     0.        ]]\n",
      "\n",
      " [[ 12.73579979  12.3743      12.02490044 ...  13.14729977  13.28199959\n",
      "    13.39649963]\n",
      "  [  0.           0.           0.         ...   0.           0.\n",
      "     0.        ]\n",
      "  [  0.96999002   1.21790004   1.39240003 ...  -4.01039982  -3.38490009\n",
      "    -2.79150009]\n",
      "  ...\n",
      "  [  6.6479001    6.73810005   6.82439995 ...   7.01910019   6.39529991\n",
      "     5.66690016]\n",
      "  [ -1.42040002  -1.42649996  -1.1559     ...  -8.71049976  -8.20170021\n",
      "    -7.52470016]\n",
      "  [  0.           0.           0.         ...   0.           0.\n",
      "     0.        ]]\n",
      "\n",
      " ...\n",
      "\n",
      " [[  9.05691338   9.13669917   9.23606081 ...   7.36619649   7.32759291\n",
      "     7.31393051]\n",
      "  [  0.           0.           0.         ...   0.           0.\n",
      "     0.        ]\n",
      "  [ -0.25563049  -0.03299539   0.10221714 ...   0.45000841   0.81062224\n",
      "     1.0625    ]\n",
      "  ...\n",
      "  [-11.66077232 -11.21641397 -10.77093315 ...  -9.92506886  -9.91634154\n",
      "   -10.03190708]\n",
      "  [ -0.747958    -1.41423312  -2.03653711 ...   0.04937897  -0.35683405\n",
      "    -0.90318918]\n",
      "  [  0.           0.           0.         ...   0.           0.\n",
      "     0.        ]]\n",
      "\n",
      " [[  6.8161087    6.87623537   6.95617437 ...   7.85265207   7.88564551\n",
      "     7.94625521]\n",
      "  [  0.           0.           0.         ...   0.           0.\n",
      "     0.        ]\n",
      "  [  3.44317675   3.45034415   3.40573382 ...   4.15106654   4.26863968\n",
      "     4.29744148]\n",
      "  ...\n",
      "  [-11.46577263 -11.34519873 -11.05035564 ... -10.0489595  -10.01380011\n",
      "    -9.94277   ]\n",
      "  [ -1.53428268  -2.07355649  -2.47931242 ...  -0.39021882  -0.86852482\n",
      "    -1.44324255]\n",
      "  [  0.           0.           0.         ...   0.           0.\n",
      "     0.        ]]\n",
      "\n",
      " [[  8.01304817   8.1131053    8.22476149 ...   8.72506189   8.75647759\n",
      "     8.8262291 ]\n",
      "  [  0.           0.           0.         ...   0.           0.\n",
      "     0.        ]\n",
      "  [  4.25260067   4.11858809   3.91508925 ...   5.47567677   5.7080189\n",
      "     5.81002951]\n",
      "  ...\n",
      "  [ -9.8817482   -9.80164267  -9.68827084 ... -12.91687958 -13.27013899\n",
      "   -13.56380463]\n",
      "  [ -1.95035565  -2.51186775  -2.86611046 ...  -1.64764873  -2.1852711\n",
      "    -2.83439612]\n",
      "  [  0.           0.           0.         ...   0.           0.\n",
      "     0.        ]]]\n",
      "0\n"
     ]
    },
    {
     "name": "stderr",
     "output_type": "stream",
     "text": [
      "/opt/anaconda3/envs/env_gait_new/lib/python3.13/site-packages/pytorch_lightning/trainer/setup.py:177: GPU available but not used. You can set it by doing `Trainer(accelerator='gpu')`.\n",
      "/opt/anaconda3/envs/env_gait_new/lib/python3.13/site-packages/pytorch_lightning/trainer/connectors/data_connector.py:425: The 'predict_dataloader' does not have many workers which may be a bottleneck. Consider increasing the value of the `num_workers` argument` to `num_workers=13` in the `DataLoader` to improve performance.\n"
     ]
    },
    {
     "name": "stdout",
     "output_type": "stream",
     "text": [
      "Predicting DataLoader 0:  25%|████▊              | 4/16 [00:00<00:00, 17.01it/s]"
     ]
    },
    {
     "name": "stderr",
     "output_type": "stream",
     "text": [
      "/opt/anaconda3/envs/env_gait_new/lib/python3.13/site-packages/torch/nn/modules/module.py:1739: UserWarning: Implicit dimension choice for softmax has been deprecated. Change the call to include dim=X as an argument.\n",
      "  return self._call_impl(*args, **kwargs)\n"
     ]
    },
    {
     "name": "stdout",
     "output_type": "stream",
     "text": [
      "Predicting DataLoader 0: 100%|██████████████████| 16/16 [00:00<00:00, 17.79it/s]"
     ]
    },
    {
     "name": "stderr",
     "output_type": "stream",
     "text": [
      "GPU available: True (mps), used: False\n",
      "TPU available: False, using: 0 TPU cores\n",
      "HPU available: False, using: 0 HPUs\n"
     ]
    },
    {
     "name": "stdout",
     "output_type": "stream",
     "text": [
      "\n",
      "[[0.5548192  0.4451808 ]\n",
      " [0.5733951  0.426605  ]\n",
      " [0.5348009  0.4651991 ]\n",
      " ...\n",
      " [0.20907032 0.7909297 ]\n",
      " [0.18928078 0.8107192 ]\n",
      " [0.21052296 0.78947705]]\n",
      "Predicting DataLoader 0: 100%|██████████████████| 16/16 [00:00<00:00, 18.17it/s]"
     ]
    },
    {
     "name": "stderr",
     "output_type": "stream",
     "text": [
      "GPU available: True (mps), used: False\n",
      "TPU available: False, using: 0 TPU cores\n",
      "HPU available: False, using: 0 HPUs\n"
     ]
    },
    {
     "name": "stdout",
     "output_type": "stream",
     "text": [
      "\n",
      "Predicting DataLoader 0: 100%|██████████████████| 16/16 [00:00<00:00, 18.00it/s]"
     ]
    },
    {
     "name": "stderr",
     "output_type": "stream",
     "text": [
      "GPU available: True (mps), used: False\n",
      "TPU available: False, using: 0 TPU cores\n",
      "HPU available: False, using: 0 HPUs\n"
     ]
    },
    {
     "name": "stdout",
     "output_type": "stream",
     "text": [
      "\n",
      "[[0.21547101 0.78452903]\n",
      " [0.24484032 0.7551597 ]\n",
      " [0.19875011 0.80124986]\n",
      " ...\n",
      " [0.12052683 0.8794732 ]\n",
      " [0.11639506 0.88360494]\n",
      " [0.1340188  0.8659813 ]]\n",
      "Predicting DataLoader 0: 100%|██████████████████| 16/16 [00:00<00:00, 18.07it/s]"
     ]
    },
    {
     "name": "stderr",
     "output_type": "stream",
     "text": [
      "GPU available: True (mps), used: False\n",
      "TPU available: False, using: 0 TPU cores\n",
      "HPU available: False, using: 0 HPUs\n"
     ]
    },
    {
     "name": "stdout",
     "output_type": "stream",
     "text": [
      "\n",
      "Predicting DataLoader 0: 100%|██████████████████| 16/16 [00:00<00:00, 18.16it/s]"
     ]
    },
    {
     "name": "stderr",
     "output_type": "stream",
     "text": [
      "GPU available: True (mps), used: False\n",
      "TPU available: False, using: 0 TPU cores\n",
      "HPU available: False, using: 0 HPUs\n"
     ]
    },
    {
     "name": "stdout",
     "output_type": "stream",
     "text": [
      "\n",
      "[[0.15928036 0.84071964]\n",
      " [0.14161201 0.858388  ]\n",
      " [0.19229367 0.8077063 ]\n",
      " ...\n",
      " [0.05709169 0.9429083 ]\n",
      " [0.0631389  0.93686104]\n",
      " [0.06343919 0.93656087]]\n",
      "Predicting DataLoader 0: 100%|██████████████████| 16/16 [00:00<00:00, 17.86it/s]"
     ]
    },
    {
     "name": "stderr",
     "output_type": "stream",
     "text": [
      "GPU available: True (mps), used: False\n",
      "TPU available: False, using: 0 TPU cores\n",
      "HPU available: False, using: 0 HPUs\n"
     ]
    },
    {
     "name": "stdout",
     "output_type": "stream",
     "text": [
      "\n",
      "Predicting DataLoader 0: 100%|██████████████████| 16/16 [00:00<00:00, 18.15it/s]"
     ]
    },
    {
     "name": "stderr",
     "output_type": "stream",
     "text": [
      "GPU available: True (mps), used: False\n",
      "TPU available: False, using: 0 TPU cores\n",
      "HPU available: False, using: 0 HPUs\n"
     ]
    },
    {
     "name": "stdout",
     "output_type": "stream",
     "text": [
      "\n",
      "[[0.10730849 0.89269155]\n",
      " [0.13024543 0.86975455]\n",
      " [0.23066847 0.7693315 ]\n",
      " ...\n",
      " [0.08329779 0.9167022 ]\n",
      " [0.04624404 0.953756  ]\n",
      " [0.06282283 0.9371771 ]]\n",
      "Predicting DataLoader 0: 100%|██████████████████| 16/16 [00:00<00:00, 18.09it/s]"
     ]
    },
    {
     "name": "stderr",
     "output_type": "stream",
     "text": [
      "GPU available: True (mps), used: False\n",
      "TPU available: False, using: 0 TPU cores\n",
      "HPU available: False, using: 0 HPUs\n"
     ]
    },
    {
     "name": "stdout",
     "output_type": "stream",
     "text": [
      "\n",
      "Predicting DataLoader 0: 100%|██████████████████| 16/16 [00:00<00:00, 17.92it/s]"
     ]
    },
    {
     "name": "stderr",
     "output_type": "stream",
     "text": [
      "GPU available: True (mps), used: False\n",
      "TPU available: False, using: 0 TPU cores\n",
      "HPU available: False, using: 0 HPUs\n"
     ]
    },
    {
     "name": "stdout",
     "output_type": "stream",
     "text": [
      "\n",
      "[[0.8683772  0.1316228 ]\n",
      " [0.81684893 0.1831511 ]\n",
      " [0.77932245 0.22067757]\n",
      " ...\n",
      " [0.18657474 0.81342524]\n",
      " [0.0807209  0.91927916]\n",
      " [0.1346208  0.8653792 ]]\n",
      "Predicting DataLoader 0: 100%|██████████████████| 16/16 [00:00<00:00, 18.18it/s]"
     ]
    },
    {
     "name": "stderr",
     "output_type": "stream",
     "text": [
      "GPU available: True (mps), used: False\n",
      "TPU available: False, using: 0 TPU cores\n",
      "HPU available: False, using: 0 HPUs\n"
     ]
    },
    {
     "name": "stdout",
     "output_type": "stream",
     "text": [
      "\n",
      "1\n",
      "Predicting DataLoader 0: 100%|██████████████████| 16/16 [00:00<00:00, 18.20it/s]"
     ]
    },
    {
     "name": "stderr",
     "output_type": "stream",
     "text": [
      "GPU available: True (mps), used: False\n",
      "TPU available: False, using: 0 TPU cores\n",
      "HPU available: False, using: 0 HPUs\n"
     ]
    },
    {
     "name": "stdout",
     "output_type": "stream",
     "text": [
      "\n",
      "[[0.1681094  0.83189064]\n",
      " [0.10830951 0.8916905 ]\n",
      " [0.24496378 0.75503623]\n",
      " ...\n",
      " [0.07140777 0.92859226]\n",
      " [0.04580279 0.95419717]\n",
      " [0.04806186 0.9519381 ]]\n",
      "Predicting DataLoader 0: 100%|██████████████████| 16/16 [00:00<00:00, 18.14it/s]"
     ]
    },
    {
     "name": "stderr",
     "output_type": "stream",
     "text": [
      "GPU available: True (mps), used: False\n",
      "TPU available: False, using: 0 TPU cores\n",
      "HPU available: False, using: 0 HPUs\n"
     ]
    },
    {
     "name": "stdout",
     "output_type": "stream",
     "text": [
      "\n",
      "Predicting DataLoader 0: 100%|██████████████████| 16/16 [00:00<00:00, 18.14it/s]"
     ]
    },
    {
     "name": "stderr",
     "output_type": "stream",
     "text": [
      "GPU available: True (mps), used: False\n",
      "TPU available: False, using: 0 TPU cores\n",
      "HPU available: False, using: 0 HPUs\n"
     ]
    },
    {
     "name": "stdout",
     "output_type": "stream",
     "text": [
      "\n",
      "[[0.2121746  0.7878254 ]\n",
      " [0.21761757 0.7823824 ]\n",
      " [0.32854357 0.67145646]\n",
      " ...\n",
      " [0.07555328 0.9244467 ]\n",
      " [0.06758424 0.9324158 ]\n",
      " [0.08237158 0.91762835]]\n",
      "Predicting DataLoader 0: 100%|██████████████████| 16/16 [00:00<00:00, 18.13it/s]"
     ]
    },
    {
     "name": "stderr",
     "output_type": "stream",
     "text": [
      "GPU available: True (mps), used: False\n",
      "TPU available: False, using: 0 TPU cores\n",
      "HPU available: False, using: 0 HPUs\n"
     ]
    },
    {
     "name": "stdout",
     "output_type": "stream",
     "text": [
      "\n",
      "Predicting DataLoader 0: 100%|██████████████████| 16/16 [00:00<00:00, 18.24it/s]"
     ]
    },
    {
     "name": "stderr",
     "output_type": "stream",
     "text": [
      "GPU available: True (mps), used: False\n",
      "TPU available: False, using: 0 TPU cores\n",
      "HPU available: False, using: 0 HPUs\n"
     ]
    },
    {
     "name": "stdout",
     "output_type": "stream",
     "text": [
      "\n",
      "[[0.03715756 0.96284246]\n",
      " [0.06580198 0.934198  ]\n",
      " [0.09298145 0.90701854]\n",
      " ...\n",
      " [0.05315298 0.946847  ]\n",
      " [0.04203349 0.9579665 ]\n",
      " [0.05295625 0.9470438 ]]\n",
      "Predicting DataLoader 0: 100%|██████████████████| 16/16 [00:00<00:00, 18.18it/s]"
     ]
    },
    {
     "name": "stderr",
     "output_type": "stream",
     "text": [
      "GPU available: True (mps), used: False\n",
      "TPU available: False, using: 0 TPU cores\n",
      "HPU available: False, using: 0 HPUs\n"
     ]
    },
    {
     "name": "stdout",
     "output_type": "stream",
     "text": [
      "\n",
      "Predicting DataLoader 0: 100%|██████████████████| 16/16 [00:00<00:00, 18.16it/s]"
     ]
    },
    {
     "name": "stderr",
     "output_type": "stream",
     "text": [
      "GPU available: True (mps), used: False\n",
      "TPU available: False, using: 0 TPU cores\n",
      "HPU available: False, using: 0 HPUs\n"
     ]
    },
    {
     "name": "stdout",
     "output_type": "stream",
     "text": [
      "\n",
      "[[0.3484643  0.6515357 ]\n",
      " [0.16994925 0.8300507 ]\n",
      " [0.23040351 0.7695965 ]\n",
      " ...\n",
      " [0.04494746 0.9550525 ]\n",
      " [0.04339625 0.9566038 ]\n",
      " [0.06740791 0.9325921 ]]\n",
      "Predicting DataLoader 0: 100%|██████████████████| 16/16 [00:00<00:00, 18.14it/s]"
     ]
    },
    {
     "name": "stderr",
     "output_type": "stream",
     "text": [
      "GPU available: True (mps), used: False\n",
      "TPU available: False, using: 0 TPU cores\n",
      "HPU available: False, using: 0 HPUs\n"
     ]
    },
    {
     "name": "stdout",
     "output_type": "stream",
     "text": [
      "\n",
      "Predicting DataLoader 0: 100%|██████████████████| 16/16 [00:00<00:00, 18.09it/s]"
     ]
    },
    {
     "name": "stderr",
     "output_type": "stream",
     "text": [
      "GPU available: True (mps), used: False\n",
      "TPU available: False, using: 0 TPU cores\n",
      "HPU available: False, using: 0 HPUs\n"
     ]
    },
    {
     "name": "stdout",
     "output_type": "stream",
     "text": [
      "\n",
      "[[0.01357226 0.9864277 ]\n",
      " [0.01629065 0.98370934]\n",
      " [0.03068439 0.9693155 ]\n",
      " ...\n",
      " [0.0204914  0.97950864]\n",
      " [0.01997666 0.9800234 ]\n",
      " [0.02401076 0.9759892 ]]\n",
      "Predicting DataLoader 0: 100%|██████████████████| 16/16 [00:00<00:00, 18.18it/s]"
     ]
    },
    {
     "name": "stderr",
     "output_type": "stream",
     "text": [
      "GPU available: True (mps), used: False\n",
      "TPU available: False, using: 0 TPU cores\n",
      "HPU available: False, using: 0 HPUs\n"
     ]
    },
    {
     "name": "stdout",
     "output_type": "stream",
     "text": [
      "\n",
      "2\n",
      "Predicting DataLoader 0: 100%|██████████████████| 16/16 [00:00<00:00, 18.06it/s]"
     ]
    },
    {
     "name": "stderr",
     "output_type": "stream",
     "text": [
      "GPU available: True (mps), used: False\n",
      "TPU available: False, using: 0 TPU cores\n",
      "HPU available: False, using: 0 HPUs\n"
     ]
    },
    {
     "name": "stdout",
     "output_type": "stream",
     "text": [
      "\n",
      "[[0.42139122 0.5786088 ]\n",
      " [0.20847306 0.7915269 ]\n",
      " [0.48486826 0.5151318 ]\n",
      " ...\n",
      " [0.02144362 0.9785564 ]\n",
      " [0.01134    0.98866   ]\n",
      " [0.01650662 0.9834933 ]]\n",
      "Predicting DataLoader 0: 100%|██████████████████| 16/16 [00:00<00:00, 17.82it/s]"
     ]
    },
    {
     "name": "stderr",
     "output_type": "stream",
     "text": [
      "GPU available: True (mps), used: False\n",
      "TPU available: False, using: 0 TPU cores\n",
      "HPU available: False, using: 0 HPUs\n"
     ]
    },
    {
     "name": "stdout",
     "output_type": "stream",
     "text": [
      "\n",
      "Predicting DataLoader 0: 100%|██████████████████| 16/16 [00:00<00:00, 17.90it/s]"
     ]
    },
    {
     "name": "stderr",
     "output_type": "stream",
     "text": [
      "GPU available: True (mps), used: False\n",
      "TPU available: False, using: 0 TPU cores\n",
      "HPU available: False, using: 0 HPUs\n"
     ]
    },
    {
     "name": "stdout",
     "output_type": "stream",
     "text": [
      "\n",
      "[[0.25060442 0.74939555]\n",
      " [0.2861969  0.71380305]\n",
      " [0.14938651 0.8506135 ]\n",
      " ...\n",
      " [0.06747243 0.9325276 ]\n",
      " [0.04959901 0.950401  ]\n",
      " [0.05984442 0.9401556 ]]\n",
      "Predicting DataLoader 0: 100%|██████████████████| 16/16 [00:00<00:00, 18.18it/s]"
     ]
    },
    {
     "name": "stderr",
     "output_type": "stream",
     "text": [
      "GPU available: True (mps), used: False\n",
      "TPU available: False, using: 0 TPU cores\n",
      "HPU available: False, using: 0 HPUs\n"
     ]
    },
    {
     "name": "stdout",
     "output_type": "stream",
     "text": [
      "\n",
      "Predicting DataLoader 0: 100%|██████████████████| 16/16 [00:00<00:00, 18.16it/s]"
     ]
    },
    {
     "name": "stderr",
     "output_type": "stream",
     "text": [
      "GPU available: True (mps), used: False\n",
      "TPU available: False, using: 0 TPU cores\n",
      "HPU available: False, using: 0 HPUs\n"
     ]
    },
    {
     "name": "stdout",
     "output_type": "stream",
     "text": [
      "\n",
      "[[0.01228462 0.9877153 ]\n",
      " [0.02007642 0.97992355]\n",
      " [0.04199544 0.9580046 ]\n",
      " ...\n",
      " [0.00483767 0.9951623 ]\n",
      " [0.00229996 0.99770004]\n",
      " [0.00390832 0.99609166]]\n",
      "Predicting DataLoader 0: 100%|██████████████████| 16/16 [00:00<00:00, 18.21it/s]"
     ]
    },
    {
     "name": "stderr",
     "output_type": "stream",
     "text": [
      "GPU available: True (mps), used: False\n",
      "TPU available: False, using: 0 TPU cores\n",
      "HPU available: False, using: 0 HPUs\n"
     ]
    },
    {
     "name": "stdout",
     "output_type": "stream",
     "text": [
      "\n",
      "Predicting DataLoader 0: 100%|██████████████████| 16/16 [00:00<00:00, 18.14it/s]"
     ]
    },
    {
     "name": "stderr",
     "output_type": "stream",
     "text": [
      "GPU available: True (mps), used: False\n",
      "TPU available: False, using: 0 TPU cores\n",
      "HPU available: False, using: 0 HPUs\n"
     ]
    },
    {
     "name": "stdout",
     "output_type": "stream",
     "text": [
      "\n",
      "[[0.11366297 0.8863371 ]\n",
      " [0.04981553 0.9501845 ]\n",
      " [0.07972311 0.9202769 ]\n",
      " ...\n",
      " [0.12510842 0.8748915 ]\n",
      " [0.07882356 0.9211765 ]\n",
      " [0.10639392 0.89360607]]\n",
      "Predicting DataLoader 0: 100%|██████████████████| 16/16 [00:00<00:00, 18.17it/s]"
     ]
    },
    {
     "name": "stderr",
     "output_type": "stream",
     "text": [
      "GPU available: True (mps), used: False\n",
      "TPU available: False, using: 0 TPU cores\n",
      "HPU available: False, using: 0 HPUs\n"
     ]
    },
    {
     "name": "stdout",
     "output_type": "stream",
     "text": [
      "\n",
      "Predicting DataLoader 0: 100%|██████████████████| 16/16 [00:00<00:00, 18.21it/s]"
     ]
    },
    {
     "name": "stderr",
     "output_type": "stream",
     "text": [
      "GPU available: True (mps), used: False\n",
      "TPU available: False, using: 0 TPU cores\n",
      "HPU available: False, using: 0 HPUs\n"
     ]
    },
    {
     "name": "stdout",
     "output_type": "stream",
     "text": [
      "\n",
      "[[0.05210647 0.9478935 ]\n",
      " [0.02251002 0.97749   ]\n",
      " [0.14958645 0.85041356]\n",
      " ...\n",
      " [0.02332424 0.9766758 ]\n",
      " [0.01141131 0.9885887 ]\n",
      " [0.01934976 0.9806503 ]]\n",
      "Predicting DataLoader 0: 100%|██████████████████| 16/16 [00:00<00:00, 18.16it/s]"
     ]
    },
    {
     "name": "stderr",
     "output_type": "stream",
     "text": [
      "GPU available: True (mps), used: False\n",
      "TPU available: False, using: 0 TPU cores\n",
      "HPU available: False, using: 0 HPUs\n"
     ]
    },
    {
     "name": "stdout",
     "output_type": "stream",
     "text": [
      "\n",
      "3\n",
      "Predicting DataLoader 0: 100%|██████████████████| 16/16 [00:00<00:00, 18.03it/s]"
     ]
    },
    {
     "name": "stderr",
     "output_type": "stream",
     "text": [
      "GPU available: True (mps), used: False\n",
      "TPU available: False, using: 0 TPU cores\n",
      "HPU available: False, using: 0 HPUs\n"
     ]
    },
    {
     "name": "stdout",
     "output_type": "stream",
     "text": [
      "\n",
      "[[0.42921364 0.5707864 ]\n",
      " [0.49661008 0.50338995]\n",
      " [0.26672027 0.7332798 ]\n",
      " ...\n",
      " [0.0202148  0.97978514]\n",
      " [0.0212181  0.9787819 ]\n",
      " [0.02294147 0.9770585 ]]\n",
      "Predicting DataLoader 0: 100%|██████████████████| 16/16 [00:00<00:00, 18.27it/s]"
     ]
    },
    {
     "name": "stderr",
     "output_type": "stream",
     "text": [
      "GPU available: True (mps), used: False\n",
      "TPU available: False, using: 0 TPU cores\n",
      "HPU available: False, using: 0 HPUs\n"
     ]
    },
    {
     "name": "stdout",
     "output_type": "stream",
     "text": [
      "\n",
      "Predicting DataLoader 0: 100%|██████████████████| 16/16 [00:00<00:00, 18.03it/s]"
     ]
    },
    {
     "name": "stderr",
     "output_type": "stream",
     "text": [
      "GPU available: True (mps), used: False\n",
      "TPU available: False, using: 0 TPU cores\n",
      "HPU available: False, using: 0 HPUs\n"
     ]
    },
    {
     "name": "stdout",
     "output_type": "stream",
     "text": [
      "\n",
      "[[0.08620696 0.913793  ]\n",
      " [0.29150507 0.70849496]\n",
      " [0.05374957 0.9462504 ]\n",
      " ...\n",
      " [0.00400779 0.99599224]\n",
      " [0.00384072 0.9961592 ]\n",
      " [0.00314461 0.9968554 ]]\n",
      "Predicting DataLoader 0: 100%|██████████████████| 16/16 [00:00<00:00, 18.12it/s]"
     ]
    },
    {
     "name": "stderr",
     "output_type": "stream",
     "text": [
      "GPU available: True (mps), used: False\n",
      "TPU available: False, using: 0 TPU cores\n",
      "HPU available: False, using: 0 HPUs\n"
     ]
    },
    {
     "name": "stdout",
     "output_type": "stream",
     "text": [
      "\n",
      "Predicting DataLoader 0: 100%|██████████████████| 16/16 [00:00<00:00, 18.20it/s]"
     ]
    },
    {
     "name": "stderr",
     "output_type": "stream",
     "text": [
      "GPU available: True (mps), used: False\n",
      "TPU available: False, using: 0 TPU cores\n",
      "HPU available: False, using: 0 HPUs\n"
     ]
    },
    {
     "name": "stdout",
     "output_type": "stream",
     "text": [
      "\n",
      "[[0.07589218 0.9241078 ]\n",
      " [0.06906455 0.93093544]\n",
      " [0.07561725 0.92438275]\n",
      " ...\n",
      " [0.02692496 0.973075  ]\n",
      " [0.02269807 0.97730196]\n",
      " [0.02448774 0.9755122 ]]\n",
      "Predicting DataLoader 0: 100%|██████████████████| 16/16 [00:00<00:00, 18.20it/s]"
     ]
    },
    {
     "name": "stderr",
     "output_type": "stream",
     "text": [
      "GPU available: True (mps), used: False\n",
      "TPU available: False, using: 0 TPU cores\n",
      "HPU available: False, using: 0 HPUs\n"
     ]
    },
    {
     "name": "stdout",
     "output_type": "stream",
     "text": [
      "\n",
      "Predicting DataLoader 0: 100%|██████████████████| 16/16 [00:00<00:00, 18.04it/s]"
     ]
    },
    {
     "name": "stderr",
     "output_type": "stream",
     "text": [
      "GPU available: True (mps), used: False\n",
      "TPU available: False, using: 0 TPU cores\n",
      "HPU available: False, using: 0 HPUs\n"
     ]
    },
    {
     "name": "stdout",
     "output_type": "stream",
     "text": [
      "\n",
      "[[0.0135696  0.9864304 ]\n",
      " [0.04816832 0.9518317 ]\n",
      " [0.07514044 0.9248596 ]\n",
      " ...\n",
      " [0.01659003 0.98340994]\n",
      " [0.00939156 0.99060845]\n",
      " [0.01403891 0.9859611 ]]\n",
      "Predicting DataLoader 0: 100%|██████████████████| 16/16 [00:00<00:00, 18.16it/s]"
     ]
    },
    {
     "name": "stderr",
     "output_type": "stream",
     "text": [
      "GPU available: True (mps), used: False\n",
      "TPU available: False, using: 0 TPU cores\n",
      "HPU available: False, using: 0 HPUs\n"
     ]
    },
    {
     "name": "stdout",
     "output_type": "stream",
     "text": [
      "\n",
      "Predicting DataLoader 0: 100%|██████████████████| 16/16 [00:00<00:00, 18.16it/s]"
     ]
    },
    {
     "name": "stderr",
     "output_type": "stream",
     "text": [
      "GPU available: True (mps), used: False\n",
      "TPU available: False, using: 0 TPU cores\n",
      "HPU available: False, using: 0 HPUs\n"
     ]
    },
    {
     "name": "stdout",
     "output_type": "stream",
     "text": [
      "\n",
      "[[0.12981836 0.8701816 ]\n",
      " [0.13553712 0.8644629 ]\n",
      " [0.09273595 0.90726405]\n",
      " ...\n",
      " [0.03203802 0.96796197]\n",
      " [0.02583076 0.9741692 ]\n",
      " [0.02791255 0.97208744]]\n",
      "Predicting DataLoader 0: 100%|██████████████████| 16/16 [00:00<00:00, 18.13it/s]"
     ]
    },
    {
     "name": "stderr",
     "output_type": "stream",
     "text": [
      "GPU available: True (mps), used: False\n",
      "TPU available: False, using: 0 TPU cores\n",
      "HPU available: False, using: 0 HPUs\n"
     ]
    },
    {
     "name": "stdout",
     "output_type": "stream",
     "text": [
      "\n",
      "4\n",
      "Predicting DataLoader 0: 100%|██████████████████| 16/16 [00:00<00:00, 18.05it/s]"
     ]
    },
    {
     "name": "stderr",
     "output_type": "stream",
     "text": [
      "GPU available: True (mps), used: False\n",
      "TPU available: False, using: 0 TPU cores\n",
      "HPU available: False, using: 0 HPUs\n"
     ]
    },
    {
     "name": "stdout",
     "output_type": "stream",
     "text": [
      "\n",
      "[[0.08072666 0.9192733 ]\n",
      " [0.12705822 0.87294173]\n",
      " [0.07288261 0.92711735]\n",
      " ...\n",
      " [0.00617282 0.99382716]\n",
      " [0.00302027 0.9969797 ]\n",
      " [0.00548677 0.9945133 ]]\n",
      "Predicting DataLoader 0: 100%|██████████████████| 16/16 [00:00<00:00, 18.18it/s]"
     ]
    },
    {
     "name": "stderr",
     "output_type": "stream",
     "text": [
      "GPU available: True (mps), used: False\n",
      "TPU available: False, using: 0 TPU cores\n",
      "HPU available: False, using: 0 HPUs\n"
     ]
    },
    {
     "name": "stdout",
     "output_type": "stream",
     "text": [
      "\n",
      "Predicting DataLoader 0: 100%|██████████████████| 16/16 [00:00<00:00, 18.19it/s]"
     ]
    },
    {
     "name": "stderr",
     "output_type": "stream",
     "text": [
      "GPU available: True (mps), used: False\n",
      "TPU available: False, using: 0 TPU cores\n",
      "HPU available: False, using: 0 HPUs\n"
     ]
    },
    {
     "name": "stdout",
     "output_type": "stream",
     "text": [
      "\n",
      "[[0.00351476 0.99648523]\n",
      " [0.0213762  0.97862387]\n",
      " [0.00420796 0.99579203]\n",
      " ...\n",
      " [0.02633806 0.97366196]\n",
      " [0.00261084 0.99738914]\n",
      " [0.01064563 0.9893544 ]]\n",
      "Predicting DataLoader 0: 100%|██████████████████| 16/16 [00:00<00:00, 18.15it/s]"
     ]
    },
    {
     "name": "stderr",
     "output_type": "stream",
     "text": [
      "GPU available: True (mps), used: False\n",
      "TPU available: False, using: 0 TPU cores\n",
      "HPU available: False, using: 0 HPUs\n"
     ]
    },
    {
     "name": "stdout",
     "output_type": "stream",
     "text": [
      "\n",
      "Predicting DataLoader 0: 100%|██████████████████| 16/16 [00:00<00:00, 18.18it/s]"
     ]
    },
    {
     "name": "stderr",
     "output_type": "stream",
     "text": [
      "GPU available: True (mps), used: False\n",
      "TPU available: False, using: 0 TPU cores\n",
      "HPU available: False, using: 0 HPUs\n"
     ]
    },
    {
     "name": "stdout",
     "output_type": "stream",
     "text": [
      "\n",
      "[[0.52349174 0.47650826]\n",
      " [0.36847618 0.63152385]\n",
      " [0.40654048 0.59345955]\n",
      " ...\n",
      " [0.0629217  0.9370783 ]\n",
      " [0.04128611 0.95871395]\n",
      " [0.07812332 0.9218767 ]]\n",
      "Predicting DataLoader 0: 100%|██████████████████| 16/16 [00:00<00:00, 18.18it/s]"
     ]
    },
    {
     "name": "stderr",
     "output_type": "stream",
     "text": [
      "GPU available: True (mps), used: False\n",
      "TPU available: False, using: 0 TPU cores\n",
      "HPU available: False, using: 0 HPUs\n"
     ]
    },
    {
     "name": "stdout",
     "output_type": "stream",
     "text": [
      "\n",
      "Predicting DataLoader 0: 100%|██████████████████| 16/16 [00:00<00:00, 18.12it/s]"
     ]
    },
    {
     "name": "stderr",
     "output_type": "stream",
     "text": [
      "GPU available: True (mps), used: False\n",
      "TPU available: False, using: 0 TPU cores\n",
      "HPU available: False, using: 0 HPUs\n"
     ]
    },
    {
     "name": "stdout",
     "output_type": "stream",
     "text": [
      "\n",
      "[[0.04910924 0.9508908 ]\n",
      " [0.06923494 0.9307651 ]\n",
      " [0.17833371 0.8216663 ]\n",
      " ...\n",
      " [0.04013618 0.95986384]\n",
      " [0.01988176 0.9801183 ]\n",
      " [0.06966431 0.9303357 ]]\n",
      "Predicting DataLoader 0: 100%|██████████████████| 16/16 [00:00<00:00, 18.05it/s]"
     ]
    },
    {
     "name": "stderr",
     "output_type": "stream",
     "text": [
      "GPU available: True (mps), used: False\n",
      "TPU available: False, using: 0 TPU cores\n",
      "HPU available: False, using: 0 HPUs\n"
     ]
    },
    {
     "name": "stdout",
     "output_type": "stream",
     "text": [
      "\n",
      "Predicting DataLoader 0: 100%|██████████████████| 16/16 [00:00<00:00, 18.13it/s]"
     ]
    },
    {
     "name": "stderr",
     "output_type": "stream",
     "text": [
      "GPU available: True (mps), used: False\n",
      "TPU available: False, using: 0 TPU cores\n",
      "HPU available: False, using: 0 HPUs\n"
     ]
    },
    {
     "name": "stdout",
     "output_type": "stream",
     "text": [
      "\n",
      "[[0.04114126 0.9588587 ]\n",
      " [0.05178262 0.9482174 ]\n",
      " [0.20128542 0.79871464]\n",
      " ...\n",
      " [0.01308998 0.98691005]\n",
      " [0.01258222 0.9874178 ]\n",
      " [0.01255776 0.9874422 ]]\n",
      "Predicting DataLoader 0: 100%|██████████████████| 16/16 [00:00<00:00, 18.18it/s]"
     ]
    },
    {
     "name": "stderr",
     "output_type": "stream",
     "text": [
      "GPU available: True (mps), used: False\n",
      "TPU available: False, using: 0 TPU cores\n",
      "HPU available: False, using: 0 HPUs\n"
     ]
    },
    {
     "name": "stdout",
     "output_type": "stream",
     "text": [
      "\n",
      "5\n",
      "Predicting DataLoader 0: 100%|██████████████████| 16/16 [00:00<00:00, 18.17it/s]"
     ]
    },
    {
     "name": "stderr",
     "output_type": "stream",
     "text": [
      "GPU available: True (mps), used: False\n",
      "TPU available: False, using: 0 TPU cores\n",
      "HPU available: False, using: 0 HPUs\n"
     ]
    },
    {
     "name": "stdout",
     "output_type": "stream",
     "text": [
      "\n",
      "[[0.00768791 0.99231213]\n",
      " [0.00765447 0.9923455 ]\n",
      " [0.06408603 0.935914  ]\n",
      " ...\n",
      " [0.00471519 0.99528486]\n",
      " [0.00269262 0.9973074 ]\n",
      " [0.00369507 0.996305  ]]\n",
      "Predicting DataLoader 0: 100%|██████████████████| 16/16 [00:00<00:00, 18.08it/s]"
     ]
    },
    {
     "name": "stderr",
     "output_type": "stream",
     "text": [
      "GPU available: True (mps), used: False\n",
      "TPU available: False, using: 0 TPU cores\n",
      "HPU available: False, using: 0 HPUs\n"
     ]
    },
    {
     "name": "stdout",
     "output_type": "stream",
     "text": [
      "\n",
      "Predicting DataLoader 0: 100%|██████████████████| 16/16 [00:00<00:00, 18.05it/s]"
     ]
    },
    {
     "name": "stderr",
     "output_type": "stream",
     "text": [
      "GPU available: True (mps), used: False\n",
      "TPU available: False, using: 0 TPU cores\n",
      "HPU available: False, using: 0 HPUs\n"
     ]
    },
    {
     "name": "stdout",
     "output_type": "stream",
     "text": [
      "\n",
      "[[0.22381924 0.7761808 ]\n",
      " [0.1923157  0.80768436]\n",
      " [0.32933044 0.67066956]\n",
      " ...\n",
      " [0.10966112 0.89033884]\n",
      " [0.02443101 0.97556907]\n",
      " [0.05074797 0.94925207]]\n",
      "Predicting DataLoader 0: 100%|██████████████████| 16/16 [00:00<00:00, 18.09it/s]"
     ]
    },
    {
     "name": "stderr",
     "output_type": "stream",
     "text": [
      "GPU available: True (mps), used: False\n",
      "TPU available: False, using: 0 TPU cores\n",
      "HPU available: False, using: 0 HPUs\n"
     ]
    },
    {
     "name": "stdout",
     "output_type": "stream",
     "text": [
      "\n",
      "Predicting DataLoader 0: 100%|██████████████████| 16/16 [00:00<00:00, 18.19it/s]"
     ]
    },
    {
     "name": "stderr",
     "output_type": "stream",
     "text": [
      "GPU available: True (mps), used: False\n",
      "TPU available: False, using: 0 TPU cores\n",
      "HPU available: False, using: 0 HPUs\n"
     ]
    },
    {
     "name": "stdout",
     "output_type": "stream",
     "text": [
      "\n",
      "[[0.04411778 0.9558822 ]\n",
      " [0.01999726 0.98000276]\n",
      " [0.0190676  0.98093235]\n",
      " ...\n",
      " [0.00505339 0.99494666]\n",
      " [0.00144373 0.9985563 ]\n",
      " [0.00709753 0.99290246]]\n",
      "Predicting DataLoader 0: 100%|██████████████████| 16/16 [00:00<00:00, 18.03it/s]"
     ]
    },
    {
     "name": "stderr",
     "output_type": "stream",
     "text": [
      "GPU available: True (mps), used: False\n",
      "TPU available: False, using: 0 TPU cores\n",
      "HPU available: False, using: 0 HPUs\n"
     ]
    },
    {
     "name": "stdout",
     "output_type": "stream",
     "text": [
      "\n",
      "Predicting DataLoader 0: 100%|██████████████████| 16/16 [00:00<00:00, 18.22it/s]"
     ]
    },
    {
     "name": "stderr",
     "output_type": "stream",
     "text": [
      "GPU available: True (mps), used: False\n",
      "TPU available: False, using: 0 TPU cores\n",
      "HPU available: False, using: 0 HPUs\n"
     ]
    },
    {
     "name": "stdout",
     "output_type": "stream",
     "text": [
      "\n",
      "[[0.10687122 0.8931288 ]\n",
      " [0.21937126 0.7806287 ]\n",
      " [0.05434353 0.9456564 ]\n",
      " ...\n",
      " [0.00434335 0.9956566 ]\n",
      " [0.00367326 0.99632674]\n",
      " [0.00432503 0.9956749 ]]\n",
      "Predicting DataLoader 0: 100%|██████████████████| 16/16 [00:00<00:00, 18.23it/s]"
     ]
    },
    {
     "name": "stderr",
     "output_type": "stream",
     "text": [
      "GPU available: True (mps), used: False\n",
      "TPU available: False, using: 0 TPU cores\n",
      "HPU available: False, using: 0 HPUs\n"
     ]
    },
    {
     "name": "stdout",
     "output_type": "stream",
     "text": [
      "\n",
      "Predicting DataLoader 0: 100%|██████████████████| 16/16 [00:00<00:00, 18.07it/s]"
     ]
    },
    {
     "name": "stderr",
     "output_type": "stream",
     "text": [
      "GPU available: True (mps), used: False\n",
      "TPU available: False, using: 0 TPU cores\n",
      "HPU available: False, using: 0 HPUs\n"
     ]
    },
    {
     "name": "stdout",
     "output_type": "stream",
     "text": [
      "\n",
      "[[0.38680562 0.61319435]\n",
      " [0.2969244  0.7030755 ]\n",
      " [0.4471889  0.55281115]\n",
      " ...\n",
      " [0.00822463 0.9917754 ]\n",
      " [0.00783112 0.99216884]\n",
      " [0.02306821 0.97693175]]\n",
      "Predicting DataLoader 0: 100%|██████████████████| 16/16 [00:00<00:00, 18.17it/s]"
     ]
    },
    {
     "name": "stderr",
     "output_type": "stream",
     "text": [
      "GPU available: True (mps), used: False\n",
      "TPU available: False, using: 0 TPU cores\n",
      "HPU available: False, using: 0 HPUs\n"
     ]
    },
    {
     "name": "stdout",
     "output_type": "stream",
     "text": [
      "\n",
      "6\n",
      "Predicting DataLoader 0: 100%|██████████████████| 16/16 [00:00<00:00, 18.18it/s]"
     ]
    },
    {
     "name": "stderr",
     "output_type": "stream",
     "text": [
      "GPU available: True (mps), used: False\n",
      "TPU available: False, using: 0 TPU cores\n",
      "HPU available: False, using: 0 HPUs\n"
     ]
    },
    {
     "name": "stdout",
     "output_type": "stream",
     "text": [
      "\n",
      "[[0.02477254 0.9752274 ]\n",
      " [0.02276838 0.9772316 ]\n",
      " [0.0365921  0.9634079 ]\n",
      " ...\n",
      " [0.0031334  0.9968665 ]\n",
      " [0.00191527 0.9980848 ]\n",
      " [0.00392536 0.9960747 ]]\n",
      "Predicting DataLoader 0: 100%|██████████████████| 16/16 [00:00<00:00, 18.15it/s]"
     ]
    },
    {
     "name": "stderr",
     "output_type": "stream",
     "text": [
      "GPU available: True (mps), used: False\n",
      "TPU available: False, using: 0 TPU cores\n",
      "HPU available: False, using: 0 HPUs\n"
     ]
    },
    {
     "name": "stdout",
     "output_type": "stream",
     "text": [
      "\n",
      "Predicting DataLoader 0: 100%|██████████████████| 16/16 [00:00<00:00, 18.15it/s]"
     ]
    },
    {
     "name": "stderr",
     "output_type": "stream",
     "text": [
      "GPU available: True (mps), used: False\n",
      "TPU available: False, using: 0 TPU cores\n",
      "HPU available: False, using: 0 HPUs\n"
     ]
    },
    {
     "name": "stdout",
     "output_type": "stream",
     "text": [
      "\n",
      "[[0.06436125 0.9356388 ]\n",
      " [0.2015686  0.79843146]\n",
      " [0.00224179 0.9977582 ]\n",
      " ...\n",
      " [0.00646969 0.99353033]\n",
      " [0.0024656  0.9975344 ]\n",
      " [0.00468259 0.99531746]]\n",
      "Predicting DataLoader 0: 100%|██████████████████| 16/16 [00:00<00:00, 18.15it/s]"
     ]
    },
    {
     "name": "stderr",
     "output_type": "stream",
     "text": [
      "GPU available: True (mps), used: False\n",
      "TPU available: False, using: 0 TPU cores\n",
      "HPU available: False, using: 0 HPUs\n"
     ]
    },
    {
     "name": "stdout",
     "output_type": "stream",
     "text": [
      "\n",
      "Predicting DataLoader 0: 100%|██████████████████| 16/16 [00:00<00:00, 18.25it/s]"
     ]
    },
    {
     "name": "stderr",
     "output_type": "stream",
     "text": [
      "GPU available: True (mps), used: False\n",
      "TPU available: False, using: 0 TPU cores\n",
      "HPU available: False, using: 0 HPUs\n"
     ]
    },
    {
     "name": "stdout",
     "output_type": "stream",
     "text": [
      "\n",
      "[[0.00638701 0.99361295]\n",
      " [0.01174951 0.9882505 ]\n",
      " [0.00811758 0.9918825 ]\n",
      " ...\n",
      " [0.01281908 0.9871809 ]\n",
      " [0.00760193 0.9923981 ]\n",
      " [0.01022457 0.9897754 ]]\n",
      "Predicting DataLoader 0: 100%|██████████████████| 16/16 [00:00<00:00, 18.25it/s]"
     ]
    },
    {
     "name": "stderr",
     "output_type": "stream",
     "text": [
      "GPU available: True (mps), used: False\n",
      "TPU available: False, using: 0 TPU cores\n",
      "HPU available: False, using: 0 HPUs\n"
     ]
    },
    {
     "name": "stdout",
     "output_type": "stream",
     "text": [
      "\n",
      "Predicting DataLoader 0: 100%|██████████████████| 16/16 [00:00<00:00, 18.11it/s]"
     ]
    },
    {
     "name": "stderr",
     "output_type": "stream",
     "text": [
      "GPU available: True (mps), used: False\n",
      "TPU available: False, using: 0 TPU cores\n",
      "HPU available: False, using: 0 HPUs\n"
     ]
    },
    {
     "name": "stdout",
     "output_type": "stream",
     "text": [
      "\n",
      "[[0.03149121 0.9685088 ]\n",
      " [0.02983542 0.97016466]\n",
      " [0.04922475 0.9507752 ]\n",
      " ...\n",
      " [0.00177116 0.99822885]\n",
      " [0.00189343 0.9981066 ]\n",
      " [0.00244573 0.99755424]]\n",
      "Predicting DataLoader 0: 100%|██████████████████| 16/16 [00:00<00:00, 17.99it/s]"
     ]
    },
    {
     "name": "stderr",
     "output_type": "stream",
     "text": [
      "GPU available: True (mps), used: False\n",
      "TPU available: False, using: 0 TPU cores\n",
      "HPU available: False, using: 0 HPUs\n"
     ]
    },
    {
     "name": "stdout",
     "output_type": "stream",
     "text": [
      "\n",
      "Predicting DataLoader 0: 100%|██████████████████| 16/16 [00:00<00:00, 18.24it/s]"
     ]
    },
    {
     "name": "stderr",
     "output_type": "stream",
     "text": [
      "GPU available: True (mps), used: False\n",
      "TPU available: False, using: 0 TPU cores\n",
      "HPU available: False, using: 0 HPUs\n"
     ]
    },
    {
     "name": "stdout",
     "output_type": "stream",
     "text": [
      "\n",
      "[[0.16766953 0.8323305 ]\n",
      " [0.22114249 0.77885747]\n",
      " [0.31181505 0.6881849 ]\n",
      " ...\n",
      " [0.07010817 0.9298918 ]\n",
      " [0.0481979  0.95180213]\n",
      " [0.06909419 0.93090576]]\n",
      "Predicting DataLoader 0: 100%|██████████████████| 16/16 [00:00<00:00, 18.07it/s]"
     ]
    },
    {
     "name": "stderr",
     "output_type": "stream",
     "text": [
      "GPU available: True (mps), used: False\n",
      "TPU available: False, using: 0 TPU cores\n",
      "HPU available: False, using: 0 HPUs\n"
     ]
    },
    {
     "name": "stdout",
     "output_type": "stream",
     "text": [
      "\n",
      "7\n",
      "Predicting DataLoader 0: 100%|██████████████████| 16/16 [00:00<00:00, 18.11it/s]"
     ]
    },
    {
     "name": "stderr",
     "output_type": "stream",
     "text": [
      "GPU available: True (mps), used: False\n",
      "TPU available: False, using: 0 TPU cores\n",
      "HPU available: False, using: 0 HPUs\n"
     ]
    },
    {
     "name": "stdout",
     "output_type": "stream",
     "text": [
      "\n",
      "[[0.1827715  0.8172285 ]\n",
      " [0.28009215 0.7199078 ]\n",
      " [0.27686256 0.72313744]\n",
      " ...\n",
      " [0.03870265 0.9612973 ]\n",
      " [0.04276567 0.9572343 ]\n",
      " [0.05095525 0.9490447 ]]\n",
      "Predicting DataLoader 0: 100%|██████████████████| 16/16 [00:00<00:00, 17.41it/s]"
     ]
    },
    {
     "name": "stderr",
     "output_type": "stream",
     "text": [
      "GPU available: True (mps), used: False\n",
      "TPU available: False, using: 0 TPU cores\n",
      "HPU available: False, using: 0 HPUs\n"
     ]
    },
    {
     "name": "stdout",
     "output_type": "stream",
     "text": [
      "\n",
      "Predicting DataLoader 0: 100%|██████████████████| 16/16 [00:00<00:00, 18.27it/s]"
     ]
    },
    {
     "name": "stderr",
     "output_type": "stream",
     "text": [
      "GPU available: True (mps), used: False\n",
      "TPU available: False, using: 0 TPU cores\n",
      "HPU available: False, using: 0 HPUs\n"
     ]
    },
    {
     "name": "stdout",
     "output_type": "stream",
     "text": [
      "\n",
      "[[0.47939035 0.5206097 ]\n",
      " [0.797816   0.20218407]\n",
      " [0.21648957 0.7835105 ]\n",
      " ...\n",
      " [0.03846868 0.96153134]\n",
      " [0.01673647 0.98326355]\n",
      " [0.03819418 0.9618058 ]]\n",
      "Predicting DataLoader 0: 100%|██████████████████| 16/16 [00:00<00:00, 18.07it/s]"
     ]
    },
    {
     "name": "stderr",
     "output_type": "stream",
     "text": [
      "GPU available: True (mps), used: False\n",
      "TPU available: False, using: 0 TPU cores\n",
      "HPU available: False, using: 0 HPUs\n"
     ]
    },
    {
     "name": "stdout",
     "output_type": "stream",
     "text": [
      "\n",
      "Predicting DataLoader 0: 100%|██████████████████| 16/16 [00:00<00:00, 18.20it/s]"
     ]
    },
    {
     "name": "stderr",
     "output_type": "stream",
     "text": [
      "GPU available: True (mps), used: False\n",
      "TPU available: False, using: 0 TPU cores\n",
      "HPU available: False, using: 0 HPUs\n"
     ]
    },
    {
     "name": "stdout",
     "output_type": "stream",
     "text": [
      "\n",
      "[[0.05353865 0.9464613 ]\n",
      " [0.1471498  0.8528502 ]\n",
      " [0.02113724 0.97886276]\n",
      " ...\n",
      " [0.01286757 0.98713243]\n",
      " [0.01100625 0.9889937 ]\n",
      " [0.01394873 0.9860512 ]]\n",
      "Predicting DataLoader 0: 100%|██████████████████| 16/16 [00:00<00:00, 18.08it/s]"
     ]
    },
    {
     "name": "stderr",
     "output_type": "stream",
     "text": [
      "GPU available: True (mps), used: False\n",
      "TPU available: False, using: 0 TPU cores\n",
      "HPU available: False, using: 0 HPUs\n"
     ]
    },
    {
     "name": "stdout",
     "output_type": "stream",
     "text": [
      "\n",
      "Predicting DataLoader 0: 100%|██████████████████| 16/16 [00:00<00:00, 18.24it/s]"
     ]
    },
    {
     "name": "stderr",
     "output_type": "stream",
     "text": [
      "GPU available: True (mps), used: False\n",
      "TPU available: False, using: 0 TPU cores\n",
      "HPU available: False, using: 0 HPUs\n"
     ]
    },
    {
     "name": "stdout",
     "output_type": "stream",
     "text": [
      "\n",
      "[[0.10979111 0.89020884]\n",
      " [0.4589926  0.54100734]\n",
      " [0.01456428 0.98543566]\n",
      " ...\n",
      " [0.02012193 0.97987807]\n",
      " [0.02134289 0.97865707]\n",
      " [0.00971524 0.99028474]]\n",
      "Predicting DataLoader 0: 100%|██████████████████| 16/16 [00:00<00:00, 18.21it/s]"
     ]
    },
    {
     "name": "stderr",
     "output_type": "stream",
     "text": [
      "GPU available: True (mps), used: False\n",
      "TPU available: False, using: 0 TPU cores\n",
      "HPU available: False, using: 0 HPUs\n"
     ]
    },
    {
     "name": "stdout",
     "output_type": "stream",
     "text": [
      "\n",
      "Predicting DataLoader 0: 100%|██████████████████| 16/16 [00:00<00:00, 18.19it/s]"
     ]
    },
    {
     "name": "stderr",
     "output_type": "stream",
     "text": [
      "GPU available: True (mps), used: False\n",
      "TPU available: False, using: 0 TPU cores\n",
      "HPU available: False, using: 0 HPUs\n"
     ]
    },
    {
     "name": "stdout",
     "output_type": "stream",
     "text": [
      "\n",
      "[[0.26832256 0.7316775 ]\n",
      " [0.20396997 0.7960301 ]\n",
      " [0.30452985 0.69547015]\n",
      " ...\n",
      " [0.00908268 0.9909174 ]\n",
      " [0.01076187 0.98923814]\n",
      " [0.00961554 0.99038446]]\n",
      "Predicting DataLoader 0: 100%|██████████████████| 16/16 [00:00<00:00, 18.16it/s]"
     ]
    },
    {
     "name": "stderr",
     "output_type": "stream",
     "text": [
      "GPU available: True (mps), used: False\n",
      "TPU available: False, using: 0 TPU cores\n",
      "HPU available: False, using: 0 HPUs\n"
     ]
    },
    {
     "name": "stdout",
     "output_type": "stream",
     "text": [
      "\n",
      "8\n",
      "Predicting DataLoader 0: 100%|██████████████████| 16/16 [00:00<00:00, 18.24it/s]"
     ]
    },
    {
     "name": "stderr",
     "output_type": "stream",
     "text": [
      "GPU available: True (mps), used: False\n",
      "TPU available: False, using: 0 TPU cores\n",
      "HPU available: False, using: 0 HPUs\n"
     ]
    },
    {
     "name": "stdout",
     "output_type": "stream",
     "text": [
      "\n",
      "[[0.0747331  0.92526686]\n",
      " [0.04194128 0.9580587 ]\n",
      " [0.13383915 0.86616087]\n",
      " ...\n",
      " [0.00409296 0.99590707]\n",
      " [0.00185403 0.99814594]\n",
      " [0.00490074 0.99509925]]\n",
      "Predicting DataLoader 0: 100%|██████████████████| 16/16 [00:00<00:00, 18.23it/s]"
     ]
    },
    {
     "name": "stderr",
     "output_type": "stream",
     "text": [
      "GPU available: True (mps), used: False\n",
      "TPU available: False, using: 0 TPU cores\n",
      "HPU available: False, using: 0 HPUs\n"
     ]
    },
    {
     "name": "stdout",
     "output_type": "stream",
     "text": [
      "\n",
      "Predicting DataLoader 0: 100%|██████████████████| 16/16 [00:00<00:00, 18.09it/s]"
     ]
    },
    {
     "name": "stderr",
     "output_type": "stream",
     "text": [
      "GPU available: True (mps), used: False\n",
      "TPU available: False, using: 0 TPU cores\n",
      "HPU available: False, using: 0 HPUs\n"
     ]
    },
    {
     "name": "stdout",
     "output_type": "stream",
     "text": [
      "\n",
      "[[1.5231576e-02 9.8476845e-01]\n",
      " [1.8936321e-02 9.8106372e-01]\n",
      " [1.8573977e-02 9.8142600e-01]\n",
      " ...\n",
      " [1.0410829e-03 9.9895895e-01]\n",
      " [4.6139100e-04 9.9953866e-01]\n",
      " [1.0549146e-03 9.9894506e-01]]\n",
      "Predicting DataLoader 0: 100%|██████████████████| 16/16 [00:00<00:00, 18.13it/s]"
     ]
    },
    {
     "name": "stderr",
     "output_type": "stream",
     "text": [
      "GPU available: True (mps), used: False\n",
      "TPU available: False, using: 0 TPU cores\n",
      "HPU available: False, using: 0 HPUs\n"
     ]
    },
    {
     "name": "stdout",
     "output_type": "stream",
     "text": [
      "\n",
      "Predicting DataLoader 0: 100%|██████████████████| 16/16 [00:00<00:00, 18.23it/s]"
     ]
    },
    {
     "name": "stderr",
     "output_type": "stream",
     "text": [
      "GPU available: True (mps), used: False\n",
      "TPU available: False, using: 0 TPU cores\n",
      "HPU available: False, using: 0 HPUs\n"
     ]
    },
    {
     "name": "stdout",
     "output_type": "stream",
     "text": [
      "\n",
      "[[0.1235997  0.8764003 ]\n",
      " [0.2014022  0.7985978 ]\n",
      " [0.09614524 0.9038547 ]\n",
      " ...\n",
      " [0.06874353 0.9312564 ]\n",
      " [0.05897972 0.9410203 ]\n",
      " [0.09295998 0.90704   ]]\n",
      "Predicting DataLoader 0: 100%|██████████████████| 16/16 [00:00<00:00, 17.98it/s]"
     ]
    },
    {
     "name": "stderr",
     "output_type": "stream",
     "text": [
      "GPU available: True (mps), used: False\n",
      "TPU available: False, using: 0 TPU cores\n",
      "HPU available: False, using: 0 HPUs\n"
     ]
    },
    {
     "name": "stdout",
     "output_type": "stream",
     "text": [
      "\n",
      "Predicting DataLoader 0: 100%|██████████████████| 16/16 [00:00<00:00, 18.15it/s]"
     ]
    },
    {
     "name": "stderr",
     "output_type": "stream",
     "text": [
      "GPU available: True (mps), used: False\n",
      "TPU available: False, using: 0 TPU cores\n",
      "HPU available: False, using: 0 HPUs\n"
     ]
    },
    {
     "name": "stdout",
     "output_type": "stream",
     "text": [
      "\n",
      "[[0.8969564  0.10304362]\n",
      " [0.9402554  0.05974458]\n",
      " [0.94014245 0.05985753]\n",
      " ...\n",
      " [0.08225164 0.91774833]\n",
      " [0.06627387 0.9337262 ]\n",
      " [0.11960736 0.8803926 ]]\n",
      "Predicting DataLoader 0: 100%|██████████████████| 16/16 [00:00<00:00, 17.97it/s]"
     ]
    },
    {
     "name": "stderr",
     "output_type": "stream",
     "text": [
      "GPU available: True (mps), used: False\n",
      "TPU available: False, using: 0 TPU cores\n",
      "HPU available: False, using: 0 HPUs\n"
     ]
    },
    {
     "name": "stdout",
     "output_type": "stream",
     "text": [
      "\n",
      "Predicting DataLoader 0: 100%|██████████████████| 16/16 [00:00<00:00, 18.10it/s]\n",
      "[[0.07391001 0.92608994]\n",
      " [0.08397812 0.9160219 ]\n",
      " [0.30922955 0.6907704 ]\n",
      " ...\n",
      " [0.00780314 0.9921969 ]\n",
      " [0.00804362 0.99195635]\n",
      " [0.00920786 0.99079216]]\n"
     ]
    },
    {
     "name": "stderr",
     "output_type": "stream",
     "text": [
      "GPU available: True (mps), used: False\n",
      "TPU available: False, using: 0 TPU cores\n",
      "HPU available: False, using: 0 HPUs\n"
     ]
    },
    {
     "name": "stdout",
     "output_type": "stream",
     "text": [
      "Predicting DataLoader 0: 100%|██████████████████| 16/16 [00:00<00:00, 18.20it/s]"
     ]
    },
    {
     "name": "stderr",
     "output_type": "stream",
     "text": [
      "GPU available: True (mps), used: False\n",
      "TPU available: False, using: 0 TPU cores\n",
      "HPU available: False, using: 0 HPUs\n"
     ]
    },
    {
     "name": "stdout",
     "output_type": "stream",
     "text": [
      "\n",
      "9\n",
      "Predicting DataLoader 0: 100%|██████████████████| 16/16 [00:00<00:00, 18.21it/s]"
     ]
    },
    {
     "name": "stderr",
     "output_type": "stream",
     "text": [
      "GPU available: True (mps), used: False\n",
      "TPU available: False, using: 0 TPU cores\n",
      "HPU available: False, using: 0 HPUs\n"
     ]
    },
    {
     "name": "stdout",
     "output_type": "stream",
     "text": [
      "\n",
      "[[3.3205649e-01 6.6794348e-01]\n",
      " [5.6496322e-01 4.3503678e-01]\n",
      " [1.2697944e-01 8.7302053e-01]\n",
      " ...\n",
      " [1.8623582e-03 9.9813759e-01]\n",
      " [4.8199235e-04 9.9951804e-01]\n",
      " [1.5705485e-03 9.9842948e-01]]\n",
      "Predicting DataLoader 0: 100%|██████████████████| 16/16 [00:00<00:00, 18.22it/s]"
     ]
    },
    {
     "name": "stderr",
     "output_type": "stream",
     "text": [
      "GPU available: True (mps), used: False\n",
      "TPU available: False, using: 0 TPU cores\n",
      "HPU available: False, using: 0 HPUs\n"
     ]
    },
    {
     "name": "stdout",
     "output_type": "stream",
     "text": [
      "\n",
      "Predicting DataLoader 0: 100%|██████████████████| 16/16 [00:00<00:00, 18.13it/s]"
     ]
    },
    {
     "name": "stderr",
     "output_type": "stream",
     "text": [
      "GPU available: True (mps), used: False\n",
      "TPU available: False, using: 0 TPU cores\n",
      "HPU available: False, using: 0 HPUs\n"
     ]
    },
    {
     "name": "stdout",
     "output_type": "stream",
     "text": [
      "\n",
      "[[0.45333856 0.5466615 ]\n",
      " [0.6886896  0.3113105 ]\n",
      " [0.41828182 0.58171815]\n",
      " ...\n",
      " [0.02078563 0.9792143 ]\n",
      " [0.01755962 0.98244035]\n",
      " [0.01905946 0.9809405 ]]\n",
      "Predicting DataLoader 0: 100%|██████████████████| 16/16 [00:00<00:00, 18.09it/s]"
     ]
    },
    {
     "name": "stderr",
     "output_type": "stream",
     "text": [
      "GPU available: True (mps), used: False\n",
      "TPU available: False, using: 0 TPU cores\n",
      "HPU available: False, using: 0 HPUs\n"
     ]
    },
    {
     "name": "stdout",
     "output_type": "stream",
     "text": [
      "\n",
      "Predicting DataLoader 0: 100%|██████████████████| 16/16 [00:00<00:00, 18.12it/s]"
     ]
    },
    {
     "name": "stderr",
     "output_type": "stream",
     "text": [
      "GPU available: True (mps), used: False\n",
      "TPU available: False, using: 0 TPU cores\n",
      "HPU available: False, using: 0 HPUs\n"
     ]
    },
    {
     "name": "stdout",
     "output_type": "stream",
     "text": [
      "\n",
      "[[0.33966485 0.66033524]\n",
      " [0.41874158 0.5812584 ]\n",
      " [0.2890881  0.71091187]\n",
      " ...\n",
      " [0.02234783 0.9776522 ]\n",
      " [0.00561514 0.9943849 ]\n",
      " [0.02128839 0.97871166]]\n",
      "Predicting DataLoader 0: 100%|██████████████████| 16/16 [00:00<00:00, 18.11it/s]"
     ]
    },
    {
     "name": "stderr",
     "output_type": "stream",
     "text": [
      "GPU available: True (mps), used: False\n",
      "TPU available: False, using: 0 TPU cores\n",
      "HPU available: False, using: 0 HPUs\n"
     ]
    },
    {
     "name": "stdout",
     "output_type": "stream",
     "text": [
      "\n",
      "Predicting DataLoader 0: 100%|██████████████████| 16/16 [00:00<00:00, 18.18it/s]"
     ]
    },
    {
     "name": "stderr",
     "output_type": "stream",
     "text": [
      "GPU available: True (mps), used: False\n",
      "TPU available: False, using: 0 TPU cores\n",
      "HPU available: False, using: 0 HPUs\n"
     ]
    },
    {
     "name": "stdout",
     "output_type": "stream",
     "text": [
      "\n",
      "[[0.08687324 0.91312677]\n",
      " [0.24339058 0.75660944]\n",
      " [0.14013036 0.85986966]\n",
      " ...\n",
      " [0.00227132 0.99772865]\n",
      " [0.00124834 0.99875164]\n",
      " [0.00250565 0.99749434]]\n",
      "Predicting DataLoader 0: 100%|██████████████████| 16/16 [00:00<00:00, 18.11it/s]"
     ]
    },
    {
     "name": "stderr",
     "output_type": "stream",
     "text": [
      "GPU available: True (mps), used: False\n",
      "TPU available: False, using: 0 TPU cores\n",
      "HPU available: False, using: 0 HPUs\n"
     ]
    },
    {
     "name": "stdout",
     "output_type": "stream",
     "text": [
      "\n",
      "Predicting DataLoader 0: 100%|██████████████████| 16/16 [00:00<00:00, 18.12it/s]"
     ]
    },
    {
     "name": "stderr",
     "output_type": "stream",
     "text": [
      "GPU available: True (mps), used: False\n",
      "TPU available: False, using: 0 TPU cores\n",
      "HPU available: False, using: 0 HPUs\n"
     ]
    },
    {
     "name": "stdout",
     "output_type": "stream",
     "text": [
      "\n",
      "[[0.08056045 0.91943955]\n",
      " [0.11433894 0.88566107]\n",
      " [0.09133916 0.9086608 ]\n",
      " ...\n",
      " [0.00146313 0.9985368 ]\n",
      " [0.00157155 0.99842846]\n",
      " [0.00191082 0.99808913]]\n",
      "Predicting DataLoader 0: 100%|██████████████████| 16/16 [00:00<00:00, 18.26it/s]\n",
      "cycles\n",
      "Accuracy:\n",
      "Accuracy_list: [0.7796442687747036, 0.8932806324110671, 0.8320158102766798, 0.8893280632411067, 0.8507905138339921, 0.8814229249011858, 0.8399209486166008, 0.8586956521739131, 0.8784584980237155, 0.8695652173913043]\n",
      "Accuracy_mean: 0.8573122529644269\n",
      "Accuracy_std: 0.03242913792966476\n",
      "---\n",
      "Confusion matrix\n",
      "Confusion matrix mean: [[187.   12. ]\n",
      " [132.4 680.6]]\n",
      "Confusion matrix std: [[ 5.03984127  5.03984127]\n",
      " [32.444414   32.444414  ]]\n",
      "---\n",
      "F1\n",
      "F1_list: [0.8437281009110021, 0.9292267365661862, 0.8849797023004059, 0.9273670557717251, 0.8980418636056718, 0.9215686274509803, 0.8922872340425532, 0.9058591178406846, 0.9194499017681729, 0.9132720105124835]\n",
      "F1_mean: 0.9035780350769868\n",
      "F1_std: 0.024463383744988514\n",
      "---\n",
      "Sensitivity\n",
      "Sensitivity list: [0.7404674046740467, 0.8720787207872078, 0.8044280442804428, 0.8794587945879458, 0.8179581795817958, 0.8671586715867159, 0.8253382533825339, 0.8462484624846248, 0.8634686346863468, 0.8548585485854858]\n",
      "Sensitivity mean: 0.8371463714637146\n",
      "Sensitivity std: 0.03990702829400967\n",
      "---\n",
      "Specificity\n",
      "Specificity list: [0.9396984924623115, 0.9798994974874372, 0.9447236180904522, 0.9296482412060302, 0.9849246231155779, 0.9396984924623115, 0.8994974874371859, 0.9095477386934674, 0.9396984924623115, 0.9296482412060302]\n",
      "Specificity mean: 0.9396984924623115\n",
      "Specificity std: 0.025325835514279707\n",
      "---\n",
      "AUC\n",
      "AUC list: [np.float64(0.840082948568179), np.float64(0.9259891091373226), np.float64(0.8745758311854476), np.float64(0.9045535178969879), np.float64(0.9014414013486869), np.float64(0.9034285820245137), np.float64(0.86241787040986), np.float64(0.8778981005890462), np.float64(0.9015835635743291), np.float64(0.892253394895758)]\n",
      "AUC mean: 0.888422431963013\n",
      "AUC std: 0.023599723967787024\n"
     ]
    }
   ],
   "source": [
    "arr = arr_all[0]\n",
    "first_half_arr = arr[:len(arr) // 2]\n",
    "last_half_arr = arr[len(arr) // 2:]\n",
    "print(first_half_arr)\n",
    "print(last_half_arr)\n",
    "\n",
    "X_d[:,last_half_arr,:] = 0\n",
    "print(X_d)\n",
    "list_result_all = []\n",
    "\n",
    "D_name_add = 'TDvsCPu'\n",
    "D_name = D_name_add+\"_full_5_original_weight\"\n",
    "# Net_name_list = ['ResNet','LSTM','InceptionTime']\n",
    "Net_name_list = ['ResNet']\n",
    "for Net_name in Net_name_list:\n",
    "    # for j in range(5):\n",
    "        # train_model(D_name=D_name,Net_name=Net_name)\n",
    "    out = eval_model_5_bundle(D_name,Net_name)\n",
    "    np.save( './new_train_lrR_ET_'+D_name+'_'+Net_name+'/prediction_test.npy' ,out)\n",
    "#0.65 0.35\n",
    "\n",
    "path_img = './img_cm/'\n",
    "\n",
    "out = np.load( './new_train_lrR_ET_'+D_name_add+'_full_5_original_weight_ResNet/prediction_test.npy')\n",
    "\n",
    "save = path_img+D_name_add+\"_ResNet_original_weight\"\n",
    "print(\"cycles\")\n",
    "results_cycles = print_result_bundle_i_cycles(out,y_d,x_test,cycle_end_idx,label_list=['TD', 'CPu'],n_model=10)\n",
    "list_result_all.append(output_csv(results_cycles))"
   ]
  },
  {
   "cell_type": "markdown",
   "metadata": {},
   "source": [
    "## Evaluation of Fidelity by replace the fast half to zero for ResNet"
   ]
  },
  {
   "cell_type": "code",
   "execution_count": 15,
   "metadata": {
    "scrolled": true
   },
   "outputs": [
    {
     "name": "stderr",
     "output_type": "stream",
     "text": [
      "GPU available: True (mps), used: False\n",
      "TPU available: False, using: 0 TPU cores\n",
      "HPU available: False, using: 0 HPUs\n"
     ]
    },
    {
     "name": "stdout",
     "output_type": "stream",
     "text": [
      "[[[  0.           0.           0.         ...   0.           0.\n",
      "     0.        ]\n",
      "  [ -0.09395     -0.20055     -0.26530001 ...  -1.81280005  -1.99220002\n",
      "    -2.14240003]\n",
      "  [  0.           0.           0.         ...   0.           0.\n",
      "     0.        ]\n",
      "  ...\n",
      "  [  0.           0.           0.         ...   0.           0.\n",
      "     0.        ]\n",
      "  [  0.           0.           0.         ...   0.           0.\n",
      "     0.        ]\n",
      "  [ -1.2658      -0.74980998  -0.40599999 ...  -4.43109989  -4.59639978\n",
      "    -4.76749992]]\n",
      "\n",
      " [[  0.           0.           0.         ...   0.           0.\n",
      "     0.        ]\n",
      "  [ -2.14240003  -2.2730999   -2.33719993 ...   0.41102999   0.15759\n",
      "    -0.10672   ]\n",
      "  [  0.           0.           0.         ...   0.           0.\n",
      "     0.        ]\n",
      "  ...\n",
      "  [  0.           0.           0.         ...   0.           0.\n",
      "     0.        ]\n",
      "  [  0.           0.           0.         ...   0.           0.\n",
      "     0.        ]\n",
      "  [ -4.76749992  -4.95900011  -5.13100004 ...  -9.70460033  -8.66300011\n",
      "    -7.74450016]]\n",
      "\n",
      " [[  0.           0.           0.         ...   0.           0.\n",
      "     0.        ]\n",
      "  [ -0.10672     -0.37911001  -0.63415998 ...  -0.77192003  -0.53368998\n",
      "    -0.26010999]\n",
      "  [  0.           0.           0.         ...   0.           0.\n",
      "     0.        ]\n",
      "  ...\n",
      "  [  0.           0.           0.         ...   0.           0.\n",
      "     0.        ]\n",
      "  [  0.           0.           0.         ...   0.           0.\n",
      "     0.        ]\n",
      "  [ -7.74450016  -6.95069981  -6.34880018 ... -20.10820007 -20.39389992\n",
      "   -20.59670067]]\n",
      "\n",
      " ...\n",
      "\n",
      " [[  0.           0.           0.         ...   0.           0.\n",
      "     0.        ]\n",
      "  [ -2.24236083  -1.90473559  -1.48810814 ...  -1.58531152  -1.42573044\n",
      "    -1.23178673]\n",
      "  [  0.           0.           0.         ...   0.           0.\n",
      "     0.        ]\n",
      "  ...\n",
      "  [  0.           0.           0.         ...   0.           0.\n",
      "     0.        ]\n",
      "  [  0.           0.           0.         ...   0.           0.\n",
      "     0.        ]\n",
      "  [ -8.6161232   -8.1762023   -7.78185129 ... -10.18683767  -9.91475296\n",
      "    -9.76077271]]\n",
      "\n",
      " [[  0.           0.           0.         ...   0.           0.\n",
      "     0.        ]\n",
      "  [ -1.71433377  -1.36683762  -0.93525237 ...  -2.38095212  -2.21133912\n",
      "    -1.99000728]\n",
      "  [  0.           0.           0.         ...   0.           0.\n",
      "     0.        ]\n",
      "  ...\n",
      "  [  0.           0.           0.         ...   0.           0.\n",
      "     0.        ]\n",
      "  [  0.           0.           0.         ...   0.           0.\n",
      "     0.        ]\n",
      "  [ -7.28481627  -7.17203269  -7.02763611 ...  -8.22230179  -8.23544794\n",
      "    -8.25190353]]\n",
      "\n",
      " [[  0.           0.           0.         ...   0.           0.\n",
      "     0.        ]\n",
      "  [ -1.7625562   -1.40059227  -0.95089936 ...  -1.8705765   -1.68114087\n",
      "    -1.45049751]\n",
      "  [  0.           0.           0.         ...   0.           0.\n",
      "     0.        ]\n",
      "  ...\n",
      "  [  0.           0.           0.         ...   0.           0.\n",
      "     0.        ]\n",
      "  [  0.           0.           0.         ...   0.           0.\n",
      "     0.        ]\n",
      "  [ -8.25153828  -8.21928295  -8.15699265 ...  -5.7183407   -6.01631781\n",
      "    -6.36253643]]]\n",
      "0\n"
     ]
    },
    {
     "name": "stderr",
     "output_type": "stream",
     "text": [
      "/opt/anaconda3/envs/env_gait_new/lib/python3.13/site-packages/pytorch_lightning/trainer/setup.py:177: GPU available but not used. You can set it by doing `Trainer(accelerator='gpu')`.\n",
      "/opt/anaconda3/envs/env_gait_new/lib/python3.13/site-packages/pytorch_lightning/trainer/connectors/data_connector.py:425: The 'predict_dataloader' does not have many workers which may be a bottleneck. Consider increasing the value of the `num_workers` argument` to `num_workers=13` in the `DataLoader` to improve performance.\n"
     ]
    },
    {
     "name": "stdout",
     "output_type": "stream",
     "text": [
      "Predicting DataLoader 0:  19%|███▌               | 3/16 [00:00<00:00, 17.84it/s]"
     ]
    },
    {
     "name": "stderr",
     "output_type": "stream",
     "text": [
      "/opt/anaconda3/envs/env_gait_new/lib/python3.13/site-packages/torch/nn/modules/module.py:1739: UserWarning: Implicit dimension choice for softmax has been deprecated. Change the call to include dim=X as an argument.\n",
      "  return self._call_impl(*args, **kwargs)\n"
     ]
    },
    {
     "name": "stdout",
     "output_type": "stream",
     "text": [
      "Predicting DataLoader 0: 100%|██████████████████| 16/16 [00:00<00:00, 18.13it/s]"
     ]
    },
    {
     "name": "stderr",
     "output_type": "stream",
     "text": [
      "GPU available: True (mps), used: False\n",
      "TPU available: False, using: 0 TPU cores\n",
      "HPU available: False, using: 0 HPUs\n"
     ]
    },
    {
     "name": "stdout",
     "output_type": "stream",
     "text": [
      "\n",
      "[[9.9929214e-01 7.0784800e-04]\n",
      " [9.9949038e-01 5.0956232e-04]\n",
      " [9.9944359e-01 5.5640429e-04]\n",
      " ...\n",
      " [9.9893004e-01 1.0699322e-03]\n",
      " [9.9878007e-01 1.2199247e-03]\n",
      " [9.9886382e-01 1.1362090e-03]]\n",
      "Predicting DataLoader 0: 100%|██████████████████| 16/16 [00:00<00:00, 18.12it/s]"
     ]
    },
    {
     "name": "stderr",
     "output_type": "stream",
     "text": [
      "GPU available: True (mps), used: False\n",
      "TPU available: False, using: 0 TPU cores\n",
      "HPU available: False, using: 0 HPUs\n"
     ]
    },
    {
     "name": "stdout",
     "output_type": "stream",
     "text": [
      "\n",
      "Predicting DataLoader 0: 100%|██████████████████| 16/16 [00:00<00:00, 18.26it/s]"
     ]
    },
    {
     "name": "stderr",
     "output_type": "stream",
     "text": [
      "GPU available: True (mps), used: False\n",
      "TPU available: False, using: 0 TPU cores\n",
      "HPU available: False, using: 0 HPUs\n"
     ]
    },
    {
     "name": "stdout",
     "output_type": "stream",
     "text": [
      "\n",
      "[[9.9978060e-01 2.1937510e-04]\n",
      " [9.9974173e-01 2.5820278e-04]\n",
      " [9.9880469e-01 1.1953140e-03]\n",
      " ...\n",
      " [9.9942315e-01 5.7689630e-04]\n",
      " [9.9787116e-01 2.1287731e-03]\n",
      " [9.9804521e-01 1.9548165e-03]]\n",
      "Predicting DataLoader 0: 100%|██████████████████| 16/16 [00:00<00:00, 18.16it/s]"
     ]
    },
    {
     "name": "stderr",
     "output_type": "stream",
     "text": [
      "GPU available: True (mps), used: False\n",
      "TPU available: False, using: 0 TPU cores\n",
      "HPU available: False, using: 0 HPUs\n"
     ]
    },
    {
     "name": "stdout",
     "output_type": "stream",
     "text": [
      "\n",
      "Predicting DataLoader 0: 100%|██████████████████| 16/16 [00:00<00:00, 18.13it/s]"
     ]
    },
    {
     "name": "stderr",
     "output_type": "stream",
     "text": [
      "GPU available: True (mps), used: False\n",
      "TPU available: False, using: 0 TPU cores\n",
      "HPU available: False, using: 0 HPUs\n"
     ]
    },
    {
     "name": "stdout",
     "output_type": "stream",
     "text": [
      "\n",
      "[[0.98580813 0.01419188]\n",
      " [0.989021   0.01097906]\n",
      " [0.9916626  0.00833733]\n",
      " ...\n",
      " [0.9743595  0.02564052]\n",
      " [0.9355006  0.06449942]\n",
      " [0.93188876 0.06811123]]\n",
      "Predicting DataLoader 0: 100%|██████████████████| 16/16 [00:00<00:00, 18.06it/s]"
     ]
    },
    {
     "name": "stderr",
     "output_type": "stream",
     "text": [
      "GPU available: True (mps), used: False\n",
      "TPU available: False, using: 0 TPU cores\n",
      "HPU available: False, using: 0 HPUs\n"
     ]
    },
    {
     "name": "stdout",
     "output_type": "stream",
     "text": [
      "\n",
      "Predicting DataLoader 0: 100%|██████████████████| 16/16 [00:00<00:00, 18.20it/s]"
     ]
    },
    {
     "name": "stderr",
     "output_type": "stream",
     "text": [
      "GPU available: True (mps), used: False\n",
      "TPU available: False, using: 0 TPU cores\n",
      "HPU available: False, using: 0 HPUs\n"
     ]
    },
    {
     "name": "stdout",
     "output_type": "stream",
     "text": [
      "\n",
      "[[0.97524625 0.0247537 ]\n",
      " [0.9744615  0.02553852]\n",
      " [0.9731269  0.0268731 ]\n",
      " ...\n",
      " [0.9614781  0.03852188]\n",
      " [0.95373744 0.04626263]\n",
      " [0.95752835 0.04247167]]\n",
      "Predicting DataLoader 0: 100%|██████████████████| 16/16 [00:00<00:00, 18.18it/s]"
     ]
    },
    {
     "name": "stderr",
     "output_type": "stream",
     "text": [
      "GPU available: True (mps), used: False\n",
      "TPU available: False, using: 0 TPU cores\n",
      "HPU available: False, using: 0 HPUs\n"
     ]
    },
    {
     "name": "stdout",
     "output_type": "stream",
     "text": [
      "\n",
      "Predicting DataLoader 0: 100%|██████████████████| 16/16 [00:00<00:00, 18.29it/s]"
     ]
    },
    {
     "name": "stderr",
     "output_type": "stream",
     "text": [
      "GPU available: True (mps), used: False\n",
      "TPU available: False, using: 0 TPU cores\n",
      "HPU available: False, using: 0 HPUs\n"
     ]
    },
    {
     "name": "stdout",
     "output_type": "stream",
     "text": [
      "\n",
      "[[9.9942076e-01 5.7927263e-04]\n",
      " [9.9936956e-01 6.3042459e-04]\n",
      " [9.9968743e-01 3.1254668e-04]\n",
      " ...\n",
      " [9.9933159e-01 6.6841242e-04]\n",
      " [9.9885094e-01 1.1490247e-03]\n",
      " [9.9906820e-01 9.3186687e-04]]\n",
      "Predicting DataLoader 0: 100%|██████████████████| 16/16 [00:00<00:00, 18.14it/s]"
     ]
    },
    {
     "name": "stderr",
     "output_type": "stream",
     "text": [
      "GPU available: True (mps), used: False\n",
      "TPU available: False, using: 0 TPU cores\n",
      "HPU available: False, using: 0 HPUs\n"
     ]
    },
    {
     "name": "stdout",
     "output_type": "stream",
     "text": [
      "\n",
      "1\n",
      "Predicting DataLoader 0: 100%|██████████████████| 16/16 [00:00<00:00, 18.17it/s]"
     ]
    },
    {
     "name": "stderr",
     "output_type": "stream",
     "text": [
      "GPU available: True (mps), used: False\n",
      "TPU available: False, using: 0 TPU cores\n",
      "HPU available: False, using: 0 HPUs\n"
     ]
    },
    {
     "name": "stdout",
     "output_type": "stream",
     "text": [
      "\n",
      "[[0.9783361  0.02166388]\n",
      " [0.9759251  0.02407492]\n",
      " [0.9290866  0.07091334]\n",
      " ...\n",
      " [0.9290944  0.07090565]\n",
      " [0.88243276 0.11756724]\n",
      " [0.8792148  0.12078521]]\n",
      "Predicting DataLoader 0: 100%|██████████████████| 16/16 [00:00<00:00, 18.15it/s]"
     ]
    },
    {
     "name": "stderr",
     "output_type": "stream",
     "text": [
      "GPU available: True (mps), used: False\n",
      "TPU available: False, using: 0 TPU cores\n",
      "HPU available: False, using: 0 HPUs\n"
     ]
    },
    {
     "name": "stdout",
     "output_type": "stream",
     "text": [
      "\n",
      "Predicting DataLoader 0: 100%|██████████████████| 16/16 [00:00<00:00, 18.27it/s]"
     ]
    },
    {
     "name": "stderr",
     "output_type": "stream",
     "text": [
      "GPU available: True (mps), used: False\n",
      "TPU available: False, using: 0 TPU cores\n",
      "HPU available: False, using: 0 HPUs\n"
     ]
    },
    {
     "name": "stdout",
     "output_type": "stream",
     "text": [
      "\n",
      "[[9.9999940e-01 5.6144268e-07]\n",
      " [9.9999964e-01 4.1316949e-07]\n",
      " [9.9999654e-01 3.4582274e-06]\n",
      " ...\n",
      " [1.0000000e+00 1.4799574e-08]\n",
      " [9.9999976e-01 2.5514743e-07]\n",
      " [9.9999976e-01 2.2974011e-07]]\n",
      "Predicting DataLoader 0: 100%|██████████████████| 16/16 [00:00<00:00, 18.01it/s]"
     ]
    },
    {
     "name": "stderr",
     "output_type": "stream",
     "text": [
      "GPU available: True (mps), used: False\n",
      "TPU available: False, using: 0 TPU cores\n",
      "HPU available: False, using: 0 HPUs\n"
     ]
    },
    {
     "name": "stdout",
     "output_type": "stream",
     "text": [
      "\n",
      "Predicting DataLoader 0: 100%|██████████████████| 16/16 [00:00<00:00, 18.18it/s]"
     ]
    },
    {
     "name": "stderr",
     "output_type": "stream",
     "text": [
      "GPU available: True (mps), used: False\n",
      "TPU available: False, using: 0 TPU cores\n",
      "HPU available: False, using: 0 HPUs\n"
     ]
    },
    {
     "name": "stdout",
     "output_type": "stream",
     "text": [
      "\n",
      "[[9.9998927e-01 1.0704806e-05]\n",
      " [9.9999392e-01 6.0256461e-06]\n",
      " [9.9948502e-01 5.1492639e-04]\n",
      " ...\n",
      " [9.9999928e-01 6.9172194e-07]\n",
      " [9.9999952e-01 5.1057731e-07]\n",
      " [9.9999964e-01 4.0561767e-07]]\n",
      "Predicting DataLoader 0: 100%|██████████████████| 16/16 [00:00<00:00, 18.19it/s]"
     ]
    },
    {
     "name": "stderr",
     "output_type": "stream",
     "text": [
      "GPU available: True (mps), used: False\n",
      "TPU available: False, using: 0 TPU cores\n",
      "HPU available: False, using: 0 HPUs\n"
     ]
    },
    {
     "name": "stdout",
     "output_type": "stream",
     "text": [
      "\n",
      "Predicting DataLoader 0: 100%|██████████████████| 16/16 [00:00<00:00, 18.14it/s]"
     ]
    },
    {
     "name": "stderr",
     "output_type": "stream",
     "text": [
      "GPU available: True (mps), used: False\n",
      "TPU available: False, using: 0 TPU cores\n",
      "HPU available: False, using: 0 HPUs\n"
     ]
    },
    {
     "name": "stdout",
     "output_type": "stream",
     "text": [
      "\n",
      "[[9.9963796e-01 3.6204519e-04]\n",
      " [9.9982554e-01 1.7449341e-04]\n",
      " [9.9670559e-01 3.2944353e-03]\n",
      " ...\n",
      " [9.9931920e-01 6.8084791e-04]\n",
      " [9.8287475e-01 1.7125266e-02]\n",
      " [9.8953664e-01 1.0463308e-02]]\n",
      "Predicting DataLoader 0: 100%|██████████████████| 16/16 [00:00<00:00, 18.13it/s]"
     ]
    },
    {
     "name": "stderr",
     "output_type": "stream",
     "text": [
      "GPU available: True (mps), used: False\n",
      "TPU available: False, using: 0 TPU cores\n",
      "HPU available: False, using: 0 HPUs\n"
     ]
    },
    {
     "name": "stdout",
     "output_type": "stream",
     "text": [
      "\n",
      "Predicting DataLoader 0: 100%|██████████████████| 16/16 [00:00<00:00, 18.13it/s]"
     ]
    },
    {
     "name": "stderr",
     "output_type": "stream",
     "text": [
      "GPU available: True (mps), used: False\n",
      "TPU available: False, using: 0 TPU cores\n",
      "HPU available: False, using: 0 HPUs\n"
     ]
    },
    {
     "name": "stdout",
     "output_type": "stream",
     "text": [
      "\n",
      "[[9.9932349e-01 6.7652273e-04]\n",
      " [9.9924529e-01 7.5479120e-04]\n",
      " [9.9929845e-01 7.0151925e-04]\n",
      " ...\n",
      " [9.9960834e-01 3.9167982e-04]\n",
      " [9.9955064e-01 4.4938613e-04]\n",
      " [9.9946994e-01 5.3006317e-04]]\n",
      "Predicting DataLoader 0: 100%|██████████████████| 16/16 [00:00<00:00, 18.11it/s]"
     ]
    },
    {
     "name": "stderr",
     "output_type": "stream",
     "text": [
      "GPU available: True (mps), used: False\n",
      "TPU available: False, using: 0 TPU cores\n",
      "HPU available: False, using: 0 HPUs\n"
     ]
    },
    {
     "name": "stdout",
     "output_type": "stream",
     "text": [
      "\n",
      "2\n",
      "Predicting DataLoader 0: 100%|██████████████████| 16/16 [00:00<00:00, 18.19it/s]"
     ]
    },
    {
     "name": "stderr",
     "output_type": "stream",
     "text": [
      "GPU available: True (mps), used: False\n",
      "TPU available: False, using: 0 TPU cores\n",
      "HPU available: False, using: 0 HPUs\n"
     ]
    },
    {
     "name": "stdout",
     "output_type": "stream",
     "text": [
      "\n",
      "[[9.9980539e-01 1.9467222e-04]\n",
      " [9.9979848e-01 2.0153422e-04]\n",
      " [9.9980205e-01 1.9795854e-04]\n",
      " ...\n",
      " [9.9978119e-01 2.1881108e-04]\n",
      " [9.9961382e-01 3.8617715e-04]\n",
      " [9.9965310e-01 3.4688815e-04]]\n",
      "Predicting DataLoader 0: 100%|██████████████████| 16/16 [00:00<00:00, 17.98it/s]"
     ]
    },
    {
     "name": "stderr",
     "output_type": "stream",
     "text": [
      "GPU available: True (mps), used: False\n",
      "TPU available: False, using: 0 TPU cores\n",
      "HPU available: False, using: 0 HPUs\n"
     ]
    },
    {
     "name": "stdout",
     "output_type": "stream",
     "text": [
      "\n",
      "Predicting DataLoader 0: 100%|██████████████████| 16/16 [00:00<00:00, 18.05it/s]"
     ]
    },
    {
     "name": "stderr",
     "output_type": "stream",
     "text": [
      "GPU available: True (mps), used: False\n",
      "TPU available: False, using: 0 TPU cores\n",
      "HPU available: False, using: 0 HPUs\n"
     ]
    },
    {
     "name": "stdout",
     "output_type": "stream",
     "text": [
      "\n",
      "[[9.9971455e-01 2.8546024e-04]\n",
      " [9.9966955e-01 3.3044338e-04]\n",
      " [9.9950016e-01 4.9985293e-04]\n",
      " ...\n",
      " [9.9923515e-01 7.6482462e-04]\n",
      " [9.9793458e-01 2.0654586e-03]\n",
      " [9.9873012e-01 1.2698603e-03]]\n",
      "Predicting DataLoader 0: 100%|██████████████████| 16/16 [00:00<00:00, 18.13it/s]"
     ]
    },
    {
     "name": "stderr",
     "output_type": "stream",
     "text": [
      "GPU available: True (mps), used: False\n",
      "TPU available: False, using: 0 TPU cores\n",
      "HPU available: False, using: 0 HPUs\n"
     ]
    },
    {
     "name": "stdout",
     "output_type": "stream",
     "text": [
      "\n",
      "Predicting DataLoader 0: 100%|██████████████████| 16/16 [00:00<00:00, 18.14it/s]"
     ]
    },
    {
     "name": "stderr",
     "output_type": "stream",
     "text": [
      "GPU available: True (mps), used: False\n",
      "TPU available: False, using: 0 TPU cores\n",
      "HPU available: False, using: 0 HPUs\n"
     ]
    },
    {
     "name": "stdout",
     "output_type": "stream",
     "text": [
      "\n",
      "[[9.9997568e-01 2.4304736e-05]\n",
      " [9.9999011e-01 9.8626215e-06]\n",
      " [9.9858451e-01 1.4154784e-03]\n",
      " ...\n",
      " [9.9999297e-01 7.0816404e-06]\n",
      " [9.9997985e-01 2.0169529e-05]\n",
      " [9.9998438e-01 1.5568952e-05]]\n",
      "Predicting DataLoader 0: 100%|██████████████████| 16/16 [00:00<00:00, 18.15it/s]"
     ]
    },
    {
     "name": "stderr",
     "output_type": "stream",
     "text": [
      "GPU available: True (mps), used: False\n",
      "TPU available: False, using: 0 TPU cores\n",
      "HPU available: False, using: 0 HPUs\n"
     ]
    },
    {
     "name": "stdout",
     "output_type": "stream",
     "text": [
      "\n",
      "Predicting DataLoader 0: 100%|██████████████████| 16/16 [00:00<00:00, 18.26it/s]"
     ]
    },
    {
     "name": "stderr",
     "output_type": "stream",
     "text": [
      "GPU available: True (mps), used: False\n",
      "TPU available: False, using: 0 TPU cores\n",
      "HPU available: False, using: 0 HPUs\n"
     ]
    },
    {
     "name": "stdout",
     "output_type": "stream",
     "text": [
      "\n",
      "[[9.99994874e-01 5.15406236e-06]\n",
      " [9.99998331e-01 1.70408396e-06]\n",
      " [9.99963403e-01 3.65602391e-05]\n",
      " ...\n",
      " [9.99980569e-01 1.94807453e-05]\n",
      " [9.99974012e-01 2.59990029e-05]\n",
      " [9.99984860e-01 1.51070035e-05]]\n",
      "Predicting DataLoader 0: 100%|██████████████████| 16/16 [00:00<00:00, 18.09it/s]"
     ]
    },
    {
     "name": "stderr",
     "output_type": "stream",
     "text": [
      "GPU available: True (mps), used: False\n",
      "TPU available: False, using: 0 TPU cores\n",
      "HPU available: False, using: 0 HPUs\n"
     ]
    },
    {
     "name": "stdout",
     "output_type": "stream",
     "text": [
      "\n",
      "Predicting DataLoader 0: 100%|██████████████████| 16/16 [00:00<00:00, 17.51it/s]"
     ]
    },
    {
     "name": "stderr",
     "output_type": "stream",
     "text": [
      "GPU available: True (mps), used: False\n",
      "TPU available: False, using: 0 TPU cores\n",
      "HPU available: False, using: 0 HPUs\n"
     ]
    },
    {
     "name": "stdout",
     "output_type": "stream",
     "text": [
      "\n",
      "[[9.9999940e-01 6.3510066e-07]\n",
      " [9.9999928e-01 7.1505161e-07]\n",
      " [9.9999976e-01 2.4345803e-07]\n",
      " ...\n",
      " [9.9999952e-01 4.9671058e-07]\n",
      " [9.9999595e-01 4.0042501e-06]\n",
      " [9.9999702e-01 3.0283836e-06]]\n",
      "Predicting DataLoader 0: 100%|██████████████████| 16/16 [00:00<00:00, 17.83it/s]"
     ]
    },
    {
     "name": "stderr",
     "output_type": "stream",
     "text": [
      "GPU available: True (mps), used: False\n",
      "TPU available: False, using: 0 TPU cores\n",
      "HPU available: False, using: 0 HPUs\n"
     ]
    },
    {
     "name": "stdout",
     "output_type": "stream",
     "text": [
      "\n",
      "3\n",
      "Predicting DataLoader 0: 100%|██████████████████| 16/16 [00:00<00:00, 18.21it/s]"
     ]
    },
    {
     "name": "stderr",
     "output_type": "stream",
     "text": [
      "GPU available: True (mps), used: False\n",
      "TPU available: False, using: 0 TPU cores\n",
      "HPU available: False, using: 0 HPUs\n"
     ]
    },
    {
     "name": "stdout",
     "output_type": "stream",
     "text": [
      "\n",
      "[[9.99997973e-01 1.98313819e-06]\n",
      " [9.99998569e-01 1.46662592e-06]\n",
      " [9.99998927e-01 1.07333835e-06]\n",
      " ...\n",
      " [9.99993920e-01 6.04482420e-06]\n",
      " [9.99987721e-01 1.22321917e-05]\n",
      " [9.99987483e-01 1.25525885e-05]]\n",
      "Predicting DataLoader 0: 100%|██████████████████| 16/16 [00:00<00:00, 17.98it/s]"
     ]
    },
    {
     "name": "stderr",
     "output_type": "stream",
     "text": [
      "GPU available: True (mps), used: False\n",
      "TPU available: False, using: 0 TPU cores\n",
      "HPU available: False, using: 0 HPUs\n"
     ]
    },
    {
     "name": "stdout",
     "output_type": "stream",
     "text": [
      "\n",
      "Predicting DataLoader 0: 100%|██████████████████| 16/16 [00:00<00:00, 18.10it/s]"
     ]
    },
    {
     "name": "stderr",
     "output_type": "stream",
     "text": [
      "GPU available: True (mps), used: False\n",
      "TPU available: False, using: 0 TPU cores\n",
      "HPU available: False, using: 0 HPUs\n"
     ]
    },
    {
     "name": "stdout",
     "output_type": "stream",
     "text": [
      "\n",
      "[[0.9982691  0.00173094]\n",
      " [0.9973079  0.00269213]\n",
      " [0.9986425  0.00135749]\n",
      " ...\n",
      " [0.9684724  0.03152757]\n",
      " [0.65117323 0.3488268 ]\n",
      " [0.7905596  0.20944044]]\n",
      "Predicting DataLoader 0: 100%|██████████████████| 16/16 [00:00<00:00, 18.21it/s]"
     ]
    },
    {
     "name": "stderr",
     "output_type": "stream",
     "text": [
      "GPU available: True (mps), used: False\n",
      "TPU available: False, using: 0 TPU cores\n",
      "HPU available: False, using: 0 HPUs\n"
     ]
    },
    {
     "name": "stdout",
     "output_type": "stream",
     "text": [
      "\n",
      "Predicting DataLoader 0: 100%|██████████████████| 16/16 [00:00<00:00, 18.26it/s]"
     ]
    },
    {
     "name": "stderr",
     "output_type": "stream",
     "text": [
      "GPU available: True (mps), used: False\n",
      "TPU available: False, using: 0 TPU cores\n",
      "HPU available: False, using: 0 HPUs\n"
     ]
    },
    {
     "name": "stdout",
     "output_type": "stream",
     "text": [
      "\n",
      "[[9.9998081e-01 1.9226360e-05]\n",
      " [9.9999619e-01 3.7633108e-06]\n",
      " [9.9856818e-01 1.4318280e-03]\n",
      " ...\n",
      " [1.0000000e+00 5.0963860e-09]\n",
      " [1.0000000e+00 2.7783679e-08]\n",
      " [9.9999988e-01 6.1847224e-08]]\n",
      "Predicting DataLoader 0: 100%|██████████████████| 16/16 [00:00<00:00, 18.14it/s]"
     ]
    },
    {
     "name": "stderr",
     "output_type": "stream",
     "text": [
      "GPU available: True (mps), used: False\n",
      "TPU available: False, using: 0 TPU cores\n",
      "HPU available: False, using: 0 HPUs\n"
     ]
    },
    {
     "name": "stdout",
     "output_type": "stream",
     "text": [
      "\n",
      "Predicting DataLoader 0: 100%|██████████████████| 16/16 [00:00<00:00, 18.09it/s]"
     ]
    },
    {
     "name": "stderr",
     "output_type": "stream",
     "text": [
      "GPU available: True (mps), used: False\n",
      "TPU available: False, using: 0 TPU cores\n",
      "HPU available: False, using: 0 HPUs\n"
     ]
    },
    {
     "name": "stdout",
     "output_type": "stream",
     "text": [
      "\n",
      "[[0.97804445 0.02195561]\n",
      " [0.988624   0.01137601]\n",
      " [0.9014164  0.09858357]\n",
      " ...\n",
      " [0.9987435  0.00125656]\n",
      " [0.99018806 0.00981191]\n",
      " [0.9918584  0.00814158]]\n",
      "Predicting DataLoader 0: 100%|██████████████████| 16/16 [00:00<00:00, 18.21it/s]"
     ]
    },
    {
     "name": "stderr",
     "output_type": "stream",
     "text": [
      "GPU available: True (mps), used: False\n",
      "TPU available: False, using: 0 TPU cores\n",
      "HPU available: False, using: 0 HPUs\n"
     ]
    },
    {
     "name": "stdout",
     "output_type": "stream",
     "text": [
      "\n",
      "Predicting DataLoader 0: 100%|██████████████████| 16/16 [00:00<00:00, 18.19it/s]"
     ]
    },
    {
     "name": "stderr",
     "output_type": "stream",
     "text": [
      "GPU available: True (mps), used: False\n",
      "TPU available: False, using: 0 TPU cores\n",
      "HPU available: False, using: 0 HPUs\n"
     ]
    },
    {
     "name": "stdout",
     "output_type": "stream",
     "text": [
      "\n",
      "[[9.99999881e-01 1.12866196e-07]\n",
      " [9.99999881e-01 9.36314919e-08]\n",
      " [1.00000000e+00 3.47738442e-08]\n",
      " ...\n",
      " [9.99999881e-01 5.96854051e-08]\n",
      " [9.99999523e-01 4.72450921e-07]\n",
      " [9.99999523e-01 4.18778740e-07]]\n",
      "Predicting DataLoader 0: 100%|██████████████████| 16/16 [00:00<00:00, 17.94it/s]"
     ]
    },
    {
     "name": "stderr",
     "output_type": "stream",
     "text": [
      "GPU available: True (mps), used: False\n",
      "TPU available: False, using: 0 TPU cores\n",
      "HPU available: False, using: 0 HPUs\n"
     ]
    },
    {
     "name": "stdout",
     "output_type": "stream",
     "text": [
      "\n",
      "4\n",
      "Predicting DataLoader 0: 100%|██████████████████| 16/16 [00:00<00:00, 18.22it/s]"
     ]
    },
    {
     "name": "stderr",
     "output_type": "stream",
     "text": [
      "GPU available: True (mps), used: False\n",
      "TPU available: False, using: 0 TPU cores\n",
      "HPU available: False, using: 0 HPUs\n"
     ]
    },
    {
     "name": "stdout",
     "output_type": "stream",
     "text": [
      "\n",
      "[[9.9999845e-01 1.5074976e-06]\n",
      " [9.9999857e-01 1.3831916e-06]\n",
      " [9.9999881e-01 1.1419243e-06]\n",
      " ...\n",
      " [9.9990249e-01 9.7460332e-05]\n",
      " [9.9641246e-01 3.5875395e-03]\n",
      " [9.9692804e-01 3.0719626e-03]]\n",
      "Predicting DataLoader 0: 100%|██████████████████| 16/16 [00:00<00:00, 18.06it/s]"
     ]
    },
    {
     "name": "stderr",
     "output_type": "stream",
     "text": [
      "GPU available: True (mps), used: False\n",
      "TPU available: False, using: 0 TPU cores\n",
      "HPU available: False, using: 0 HPUs\n"
     ]
    },
    {
     "name": "stdout",
     "output_type": "stream",
     "text": [
      "\n",
      "Predicting DataLoader 0: 100%|██████████████████| 16/16 [00:00<00:00, 18.15it/s]"
     ]
    },
    {
     "name": "stderr",
     "output_type": "stream",
     "text": [
      "GPU available: True (mps), used: False\n",
      "TPU available: False, using: 0 TPU cores\n",
      "HPU available: False, using: 0 HPUs\n"
     ]
    },
    {
     "name": "stdout",
     "output_type": "stream",
     "text": [
      "\n",
      "[[9.9998701e-01 1.2990455e-05]\n",
      " [9.9999356e-01 6.4285946e-06]\n",
      " [9.9998379e-01 1.6177750e-05]\n",
      " ...\n",
      " [9.9999094e-01 9.0111507e-06]\n",
      " [9.9996877e-01 3.1284264e-05]\n",
      " [9.9997246e-01 2.7550926e-05]]\n",
      "Predicting DataLoader 0: 100%|██████████████████| 16/16 [00:00<00:00, 18.10it/s]"
     ]
    },
    {
     "name": "stderr",
     "output_type": "stream",
     "text": [
      "GPU available: True (mps), used: False\n",
      "TPU available: False, using: 0 TPU cores\n",
      "HPU available: False, using: 0 HPUs\n"
     ]
    },
    {
     "name": "stdout",
     "output_type": "stream",
     "text": [
      "\n",
      "Predicting DataLoader 0: 100%|██████████████████| 16/16 [00:00<00:00, 18.17it/s]"
     ]
    },
    {
     "name": "stderr",
     "output_type": "stream",
     "text": [
      "GPU available: True (mps), used: False\n",
      "TPU available: False, using: 0 TPU cores\n",
      "HPU available: False, using: 0 HPUs\n"
     ]
    },
    {
     "name": "stdout",
     "output_type": "stream",
     "text": [
      "\n",
      "[[9.9999499e-01 4.9764976e-06]\n",
      " [9.9999380e-01 6.2163745e-06]\n",
      " [9.9998462e-01 1.5433458e-05]\n",
      " ...\n",
      " [9.9999988e-01 1.6154452e-07]\n",
      " [9.9999595e-01 4.0741911e-06]\n",
      " [9.9999344e-01 6.5356362e-06]]\n",
      "Predicting DataLoader 0: 100%|██████████████████| 16/16 [00:00<00:00, 18.20it/s]"
     ]
    },
    {
     "name": "stderr",
     "output_type": "stream",
     "text": [
      "GPU available: True (mps), used: False\n",
      "TPU available: False, using: 0 TPU cores\n",
      "HPU available: False, using: 0 HPUs\n"
     ]
    },
    {
     "name": "stdout",
     "output_type": "stream",
     "text": [
      "\n",
      "Predicting DataLoader 0: 100%|██████████████████| 16/16 [00:00<00:00, 18.07it/s]"
     ]
    },
    {
     "name": "stderr",
     "output_type": "stream",
     "text": [
      "GPU available: True (mps), used: False\n",
      "TPU available: False, using: 0 TPU cores\n",
      "HPU available: False, using: 0 HPUs\n"
     ]
    },
    {
     "name": "stdout",
     "output_type": "stream",
     "text": [
      "\n",
      "[[9.9999344e-01 6.5113359e-06]\n",
      " [9.9999392e-01 6.1086985e-06]\n",
      " [9.9997973e-01 2.0324500e-05]\n",
      " ...\n",
      " [9.9999964e-01 3.8189782e-07]\n",
      " [9.9999964e-01 3.5997095e-07]\n",
      " [9.9999964e-01 3.6667959e-07]]\n",
      "Predicting DataLoader 0: 100%|██████████████████| 16/16 [00:00<00:00, 18.20it/s]"
     ]
    },
    {
     "name": "stderr",
     "output_type": "stream",
     "text": [
      "GPU available: True (mps), used: False\n",
      "TPU available: False, using: 0 TPU cores\n",
      "HPU available: False, using: 0 HPUs\n"
     ]
    },
    {
     "name": "stdout",
     "output_type": "stream",
     "text": [
      "\n",
      "Predicting DataLoader 0: 100%|██████████████████| 16/16 [00:00<00:00, 18.11it/s]"
     ]
    },
    {
     "name": "stderr",
     "output_type": "stream",
     "text": [
      "GPU available: True (mps), used: False\n",
      "TPU available: False, using: 0 TPU cores\n",
      "HPU available: False, using: 0 HPUs\n"
     ]
    },
    {
     "name": "stdout",
     "output_type": "stream",
     "text": [
      "\n",
      "[[9.9999940e-01 6.0659670e-07]\n",
      " [9.9999976e-01 2.9597336e-07]\n",
      " [9.9999845e-01 1.5350535e-06]\n",
      " ...\n",
      " [9.9999928e-01 6.7163853e-07]\n",
      " [9.9999678e-01 3.2404957e-06]\n",
      " [9.9999702e-01 3.0103208e-06]]\n",
      "Predicting DataLoader 0: 100%|██████████████████| 16/16 [00:00<00:00, 17.89it/s]"
     ]
    },
    {
     "name": "stderr",
     "output_type": "stream",
     "text": [
      "GPU available: True (mps), used: False\n",
      "TPU available: False, using: 0 TPU cores\n",
      "HPU available: False, using: 0 HPUs\n"
     ]
    },
    {
     "name": "stdout",
     "output_type": "stream",
     "text": [
      "\n",
      "5\n",
      "Predicting DataLoader 0: 100%|██████████████████| 16/16 [00:00<00:00, 17.71it/s]"
     ]
    },
    {
     "name": "stderr",
     "output_type": "stream",
     "text": [
      "GPU available: True (mps), used: False\n",
      "TPU available: False, using: 0 TPU cores\n",
      "HPU available: False, using: 0 HPUs\n"
     ]
    },
    {
     "name": "stdout",
     "output_type": "stream",
     "text": [
      "\n",
      "[[9.9993539e-01 6.4577114e-05]\n",
      " [9.9989831e-01 1.0162819e-04]\n",
      " [9.9986756e-01 1.3238161e-04]\n",
      " ...\n",
      " [9.9995351e-01 4.6455563e-05]\n",
      " [9.9973387e-01 2.6616073e-04]\n",
      " [9.9969876e-01 3.0125558e-04]]\n",
      "Predicting DataLoader 0: 100%|██████████████████| 16/16 [00:00<00:00, 17.97it/s]"
     ]
    },
    {
     "name": "stderr",
     "output_type": "stream",
     "text": [
      "GPU available: True (mps), used: False\n",
      "TPU available: False, using: 0 TPU cores\n",
      "HPU available: False, using: 0 HPUs\n"
     ]
    },
    {
     "name": "stdout",
     "output_type": "stream",
     "text": [
      "\n",
      "Predicting DataLoader 0: 100%|██████████████████| 16/16 [00:00<00:00, 16.78it/s]\n",
      "[[9.9958950e-01 4.1044844e-04]\n",
      " [9.9975759e-01 2.4240636e-04]\n",
      " [9.9961424e-01 3.8577500e-04]\n",
      " ...\n",
      " [9.9964321e-01 3.5684340e-04]\n",
      " [9.9805462e-01 1.9454430e-03]\n",
      " [9.9821520e-01 1.7847889e-03]]\n"
     ]
    },
    {
     "name": "stderr",
     "output_type": "stream",
     "text": [
      "GPU available: True (mps), used: False\n",
      "TPU available: False, using: 0 TPU cores\n",
      "HPU available: False, using: 0 HPUs\n"
     ]
    },
    {
     "name": "stdout",
     "output_type": "stream",
     "text": [
      "Predicting DataLoader 0: 100%|██████████████████| 16/16 [00:00<00:00, 17.63it/s]"
     ]
    },
    {
     "name": "stderr",
     "output_type": "stream",
     "text": [
      "GPU available: True (mps), used: False\n",
      "TPU available: False, using: 0 TPU cores\n",
      "HPU available: False, using: 0 HPUs\n"
     ]
    },
    {
     "name": "stdout",
     "output_type": "stream",
     "text": [
      "\n",
      "Predicting DataLoader 0: 100%|██████████████████| 16/16 [00:00<00:00, 18.02it/s]"
     ]
    },
    {
     "name": "stderr",
     "output_type": "stream",
     "text": [
      "GPU available: True (mps), used: False\n",
      "TPU available: False, using: 0 TPU cores\n",
      "HPU available: False, using: 0 HPUs\n"
     ]
    },
    {
     "name": "stdout",
     "output_type": "stream",
     "text": [
      "\n",
      "[[9.9996996e-01 3.0015835e-05]\n",
      " [9.9996221e-01 3.7764654e-05]\n",
      " [9.9994636e-01 5.3633685e-05]\n",
      " ...\n",
      " [9.9925953e-01 7.4042444e-04]\n",
      " [9.8186535e-01 1.8134635e-02]\n",
      " [9.8843968e-01 1.1560263e-02]]\n",
      "Predicting DataLoader 0: 100%|██████████████████| 16/16 [00:00<00:00, 18.09it/s]"
     ]
    },
    {
     "name": "stderr",
     "output_type": "stream",
     "text": [
      "GPU available: True (mps), used: False\n",
      "TPU available: False, using: 0 TPU cores\n",
      "HPU available: False, using: 0 HPUs\n"
     ]
    },
    {
     "name": "stdout",
     "output_type": "stream",
     "text": [
      "\n",
      "Predicting DataLoader 0: 100%|██████████████████| 16/16 [00:00<00:00, 17.58it/s]"
     ]
    },
    {
     "name": "stderr",
     "output_type": "stream",
     "text": [
      "GPU available: True (mps), used: False\n",
      "TPU available: False, using: 0 TPU cores\n",
      "HPU available: False, using: 0 HPUs\n"
     ]
    },
    {
     "name": "stdout",
     "output_type": "stream",
     "text": [
      "\n",
      "[[9.9998832e-01 1.1659418e-05]\n",
      " [9.9998903e-01 1.0958975e-05]\n",
      " [9.9999201e-01 7.9671991e-06]\n",
      " ...\n",
      " [9.9998188e-01 1.8165558e-05]\n",
      " [9.9994707e-01 5.2984560e-05]\n",
      " [9.9994743e-01 5.2616793e-05]]\n",
      "Predicting DataLoader 0: 100%|██████████████████| 16/16 [00:00<00:00, 18.07it/s]"
     ]
    },
    {
     "name": "stderr",
     "output_type": "stream",
     "text": [
      "GPU available: True (mps), used: False\n",
      "TPU available: False, using: 0 TPU cores\n",
      "HPU available: False, using: 0 HPUs\n"
     ]
    },
    {
     "name": "stdout",
     "output_type": "stream",
     "text": [
      "\n",
      "Predicting DataLoader 0: 100%|██████████████████| 16/16 [00:00<00:00, 18.07it/s]"
     ]
    },
    {
     "name": "stderr",
     "output_type": "stream",
     "text": [
      "GPU available: True (mps), used: False\n",
      "TPU available: False, using: 0 TPU cores\n",
      "HPU available: False, using: 0 HPUs\n"
     ]
    },
    {
     "name": "stdout",
     "output_type": "stream",
     "text": [
      "\n",
      "[[9.9999905e-01 9.9298268e-07]\n",
      " [9.9999940e-01 5.4634717e-07]\n",
      " [9.9999475e-01 5.2728160e-06]\n",
      " ...\n",
      " [9.9999988e-01 1.7842682e-07]\n",
      " [9.9999821e-01 1.7726106e-06]\n",
      " [9.9999833e-01 1.7029744e-06]]\n",
      "Predicting DataLoader 0: 100%|██████████████████| 16/16 [00:00<00:00, 17.68it/s]"
     ]
    },
    {
     "name": "stderr",
     "output_type": "stream",
     "text": [
      "GPU available: True (mps), used: False\n",
      "TPU available: False, using: 0 TPU cores\n",
      "HPU available: False, using: 0 HPUs\n"
     ]
    },
    {
     "name": "stdout",
     "output_type": "stream",
     "text": [
      "\n",
      "6\n",
      "Predicting DataLoader 0: 100%|██████████████████| 16/16 [00:00<00:00, 17.84it/s]"
     ]
    },
    {
     "name": "stderr",
     "output_type": "stream",
     "text": [
      "GPU available: True (mps), used: False\n",
      "TPU available: False, using: 0 TPU cores\n",
      "HPU available: False, using: 0 HPUs\n"
     ]
    },
    {
     "name": "stdout",
     "output_type": "stream",
     "text": [
      "\n",
      "[[9.9999237e-01 7.6451379e-06]\n",
      " [9.9999595e-01 4.0029977e-06]\n",
      " [9.9990249e-01 9.7508484e-05]\n",
      " ...\n",
      " [9.9999774e-01 2.2798995e-06]\n",
      " [9.9997222e-01 2.7767215e-05]\n",
      " [9.9998319e-01 1.6776385e-05]]\n",
      "Predicting DataLoader 0: 100%|██████████████████| 16/16 [00:00<00:00, 17.87it/s]"
     ]
    },
    {
     "name": "stderr",
     "output_type": "stream",
     "text": [
      "GPU available: True (mps), used: False\n",
      "TPU available: False, using: 0 TPU cores\n",
      "HPU available: False, using: 0 HPUs\n"
     ]
    },
    {
     "name": "stdout",
     "output_type": "stream",
     "text": [
      "\n",
      "Predicting DataLoader 0: 100%|██████████████████| 16/16 [00:00<00:00, 18.00it/s]"
     ]
    },
    {
     "name": "stderr",
     "output_type": "stream",
     "text": [
      "GPU available: True (mps), used: False\n",
      "TPU available: False, using: 0 TPU cores\n",
      "HPU available: False, using: 0 HPUs\n"
     ]
    },
    {
     "name": "stdout",
     "output_type": "stream",
     "text": [
      "\n",
      "[[9.9998641e-01 1.3569866e-05]\n",
      " [9.9999106e-01 8.9268315e-06]\n",
      " [9.9999022e-01 9.8241435e-06]\n",
      " ...\n",
      " [9.9999166e-01 8.2997885e-06]\n",
      " [9.9998188e-01 1.8104161e-05]\n",
      " [9.9997962e-01 2.0325660e-05]]\n",
      "Predicting DataLoader 0: 100%|██████████████████| 16/16 [00:00<00:00, 17.87it/s]"
     ]
    },
    {
     "name": "stderr",
     "output_type": "stream",
     "text": [
      "GPU available: True (mps), used: False\n",
      "TPU available: False, using: 0 TPU cores\n",
      "HPU available: False, using: 0 HPUs\n"
     ]
    },
    {
     "name": "stdout",
     "output_type": "stream",
     "text": [
      "\n",
      "Predicting DataLoader 0: 100%|██████████████████| 16/16 [00:00<00:00, 17.81it/s]"
     ]
    },
    {
     "name": "stderr",
     "output_type": "stream",
     "text": [
      "GPU available: True (mps), used: False\n",
      "TPU available: False, using: 0 TPU cores\n",
      "HPU available: False, using: 0 HPUs\n"
     ]
    },
    {
     "name": "stdout",
     "output_type": "stream",
     "text": [
      "\n",
      "[[9.9999583e-01 4.2303632e-06]\n",
      " [9.9999762e-01 2.3468440e-06]\n",
      " [9.9999821e-01 1.8202296e-06]\n",
      " ...\n",
      " [9.9994767e-01 5.2297532e-05]\n",
      " [9.9959344e-01 4.0661942e-04]\n",
      " [9.9964619e-01 3.5381716e-04]]\n",
      "Predicting DataLoader 0: 100%|██████████████████| 16/16 [00:00<00:00, 17.86it/s]"
     ]
    },
    {
     "name": "stderr",
     "output_type": "stream",
     "text": [
      "GPU available: True (mps), used: False\n",
      "TPU available: False, using: 0 TPU cores\n",
      "HPU available: False, using: 0 HPUs\n"
     ]
    },
    {
     "name": "stdout",
     "output_type": "stream",
     "text": [
      "\n",
      "Predicting DataLoader 0: 100%|██████████████████| 16/16 [00:00<00:00, 18.19it/s]"
     ]
    },
    {
     "name": "stderr",
     "output_type": "stream",
     "text": [
      "GPU available: True (mps), used: False\n",
      "TPU available: False, using: 0 TPU cores\n",
      "HPU available: False, using: 0 HPUs\n"
     ]
    },
    {
     "name": "stdout",
     "output_type": "stream",
     "text": [
      "\n",
      "[[0.99380106 0.00619897]\n",
      " [0.99556583 0.00443415]\n",
      " [0.9954347  0.00456529]\n",
      " ...\n",
      " [0.9171427  0.08285729]\n",
      " [0.86439604 0.13560402]\n",
      " [0.85676837 0.14323163]]\n",
      "Predicting DataLoader 0: 100%|██████████████████| 16/16 [00:00<00:00, 18.16it/s]"
     ]
    },
    {
     "name": "stderr",
     "output_type": "stream",
     "text": [
      "GPU available: True (mps), used: False\n",
      "TPU available: False, using: 0 TPU cores\n",
      "HPU available: False, using: 0 HPUs\n"
     ]
    },
    {
     "name": "stdout",
     "output_type": "stream",
     "text": [
      "\n",
      "Predicting DataLoader 0: 100%|██████████████████| 16/16 [00:00<00:00, 18.09it/s]"
     ]
    },
    {
     "name": "stderr",
     "output_type": "stream",
     "text": [
      "GPU available: True (mps), used: False\n",
      "TPU available: False, using: 0 TPU cores\n",
      "HPU available: False, using: 0 HPUs\n"
     ]
    },
    {
     "name": "stdout",
     "output_type": "stream",
     "text": [
      "\n",
      "[[9.9999154e-01 8.5194279e-06]\n",
      " [9.9999142e-01 8.5295887e-06]\n",
      " [9.9998581e-01 1.4201612e-05]\n",
      " ...\n",
      " [9.9999726e-01 2.7403305e-06]\n",
      " [9.9999475e-01 5.2724790e-06]\n",
      " [9.9999094e-01 9.0077310e-06]]\n",
      "Predicting DataLoader 0: 100%|██████████████████| 16/16 [00:00<00:00, 18.07it/s]"
     ]
    },
    {
     "name": "stderr",
     "output_type": "stream",
     "text": [
      "GPU available: True (mps), used: False\n",
      "TPU available: False, using: 0 TPU cores\n",
      "HPU available: False, using: 0 HPUs\n"
     ]
    },
    {
     "name": "stdout",
     "output_type": "stream",
     "text": [
      "\n",
      "7\n",
      "Predicting DataLoader 0: 100%|██████████████████| 16/16 [00:00<00:00, 17.42it/s]"
     ]
    },
    {
     "name": "stderr",
     "output_type": "stream",
     "text": [
      "GPU available: True (mps), used: False\n",
      "TPU available: False, using: 0 TPU cores\n",
      "HPU available: False, using: 0 HPUs\n"
     ]
    },
    {
     "name": "stdout",
     "output_type": "stream",
     "text": [
      "\n",
      "[[9.9999714e-01 2.8113038e-06]\n",
      " [9.9999809e-01 1.9507197e-06]\n",
      " [9.9998808e-01 1.1903672e-05]\n",
      " ...\n",
      " [9.9999893e-01 1.0267411e-06]\n",
      " [9.9999881e-01 1.1965961e-06]\n",
      " [9.9999928e-01 7.6127230e-07]]\n",
      "Predicting DataLoader 0: 100%|██████████████████| 16/16 [00:00<00:00, 18.24it/s]"
     ]
    },
    {
     "name": "stderr",
     "output_type": "stream",
     "text": [
      "GPU available: True (mps), used: False\n",
      "TPU available: False, using: 0 TPU cores\n",
      "HPU available: False, using: 0 HPUs\n"
     ]
    },
    {
     "name": "stdout",
     "output_type": "stream",
     "text": [
      "\n",
      "Predicting DataLoader 0: 100%|██████████████████| 16/16 [00:00<00:00, 18.06it/s]"
     ]
    },
    {
     "name": "stderr",
     "output_type": "stream",
     "text": [
      "GPU available: True (mps), used: False\n",
      "TPU available: False, using: 0 TPU cores\n",
      "HPU available: False, using: 0 HPUs\n"
     ]
    },
    {
     "name": "stdout",
     "output_type": "stream",
     "text": [
      "\n",
      "[[1.0000000e+00 4.4948287e-08]\n",
      " [9.9999988e-01 1.0830661e-07]\n",
      " [9.9999988e-01 5.9784760e-08]\n",
      " ...\n",
      " [9.9999905e-01 9.7712552e-07]\n",
      " [9.9998629e-01 1.3767635e-05]\n",
      " [9.9999237e-01 7.6873084e-06]]\n",
      "Predicting DataLoader 0: 100%|██████████████████| 16/16 [00:00<00:00, 18.12it/s]"
     ]
    },
    {
     "name": "stderr",
     "output_type": "stream",
     "text": [
      "GPU available: True (mps), used: False\n",
      "TPU available: False, using: 0 TPU cores\n",
      "HPU available: False, using: 0 HPUs\n"
     ]
    },
    {
     "name": "stdout",
     "output_type": "stream",
     "text": [
      "\n",
      "Predicting DataLoader 0: 100%|██████████████████| 16/16 [00:00<00:00, 17.93it/s]"
     ]
    },
    {
     "name": "stderr",
     "output_type": "stream",
     "text": [
      "GPU available: True (mps), used: False\n",
      "TPU available: False, using: 0 TPU cores\n",
      "HPU available: False, using: 0 HPUs\n"
     ]
    },
    {
     "name": "stdout",
     "output_type": "stream",
     "text": [
      "\n",
      "[[9.9999738e-01 2.6782529e-06]\n",
      " [9.9999666e-01 3.2969419e-06]\n",
      " [9.9998677e-01 1.3211933e-05]\n",
      " ...\n",
      " [9.9977702e-01 2.2302731e-04]\n",
      " [9.8617375e-01 1.3826213e-02]\n",
      " [9.9337018e-01 6.6298228e-03]]\n",
      "Predicting DataLoader 0: 100%|██████████████████| 16/16 [00:00<00:00, 18.08it/s]"
     ]
    },
    {
     "name": "stderr",
     "output_type": "stream",
     "text": [
      "GPU available: True (mps), used: False\n",
      "TPU available: False, using: 0 TPU cores\n",
      "HPU available: False, using: 0 HPUs\n"
     ]
    },
    {
     "name": "stdout",
     "output_type": "stream",
     "text": [
      "\n",
      "Predicting DataLoader 0: 100%|██████████████████| 16/16 [00:00<00:00, 17.93it/s]"
     ]
    },
    {
     "name": "stderr",
     "output_type": "stream",
     "text": [
      "GPU available: True (mps), used: False\n",
      "TPU available: False, using: 0 TPU cores\n",
      "HPU available: False, using: 0 HPUs\n"
     ]
    },
    {
     "name": "stdout",
     "output_type": "stream",
     "text": [
      "\n",
      "[[9.9999976e-01 2.3831417e-07]\n",
      " [9.9999917e-01 8.6551609e-07]\n",
      " [9.9999952e-01 4.5053258e-07]\n",
      " ...\n",
      " [9.9999511e-01 4.8606153e-06]\n",
      " [9.9970227e-01 2.9773411e-04]\n",
      " [9.9991667e-01 8.3377010e-05]]\n",
      "Predicting DataLoader 0: 100%|██████████████████| 16/16 [00:00<00:00, 18.12it/s]"
     ]
    },
    {
     "name": "stderr",
     "output_type": "stream",
     "text": [
      "GPU available: True (mps), used: False\n",
      "TPU available: False, using: 0 TPU cores\n",
      "HPU available: False, using: 0 HPUs\n"
     ]
    },
    {
     "name": "stdout",
     "output_type": "stream",
     "text": [
      "\n",
      "Predicting DataLoader 0: 100%|██████████████████| 16/16 [00:00<00:00, 17.99it/s]"
     ]
    },
    {
     "name": "stderr",
     "output_type": "stream",
     "text": [
      "GPU available: True (mps), used: False\n",
      "TPU available: False, using: 0 TPU cores\n",
      "HPU available: False, using: 0 HPUs\n"
     ]
    },
    {
     "name": "stdout",
     "output_type": "stream",
     "text": [
      "\n",
      "[[9.99999046e-01 9.18633873e-07]\n",
      " [9.99999642e-01 3.84151576e-07]\n",
      " [9.99922872e-01 7.71771593e-05]\n",
      " ...\n",
      " [9.99995112e-01 4.85219516e-06]\n",
      " [9.99925733e-01 7.42444099e-05]\n",
      " [9.99880672e-01 1.19256925e-04]]\n",
      "Predicting DataLoader 0: 100%|██████████████████| 16/16 [00:00<00:00, 18.06it/s]"
     ]
    },
    {
     "name": "stderr",
     "output_type": "stream",
     "text": [
      "GPU available: True (mps), used: False\n",
      "TPU available: False, using: 0 TPU cores\n",
      "HPU available: False, using: 0 HPUs\n"
     ]
    },
    {
     "name": "stdout",
     "output_type": "stream",
     "text": [
      "\n",
      "8\n",
      "Predicting DataLoader 0: 100%|██████████████████| 16/16 [00:00<00:00, 17.89it/s]"
     ]
    },
    {
     "name": "stderr",
     "output_type": "stream",
     "text": [
      "GPU available: True (mps), used: False\n",
      "TPU available: False, using: 0 TPU cores\n",
      "HPU available: False, using: 0 HPUs\n"
     ]
    },
    {
     "name": "stdout",
     "output_type": "stream",
     "text": [
      "\n",
      "[[9.9999988e-01 7.9151199e-08]\n",
      " [1.0000000e+00 4.0796817e-08]\n",
      " [9.9999917e-01 7.8078187e-07]\n",
      " ...\n",
      " [9.9999952e-01 4.8086127e-07]\n",
      " [9.9999404e-01 5.9760646e-06]\n",
      " [9.9999595e-01 4.0393061e-06]]\n",
      "Predicting DataLoader 0: 100%|██████████████████| 16/16 [00:00<00:00, 18.04it/s]"
     ]
    },
    {
     "name": "stderr",
     "output_type": "stream",
     "text": [
      "GPU available: True (mps), used: False\n",
      "TPU available: False, using: 0 TPU cores\n",
      "HPU available: False, using: 0 HPUs\n"
     ]
    },
    {
     "name": "stdout",
     "output_type": "stream",
     "text": [
      "\n",
      "Predicting DataLoader 0: 100%|██████████████████| 16/16 [00:00<00:00, 17.85it/s]"
     ]
    },
    {
     "name": "stderr",
     "output_type": "stream",
     "text": [
      "GPU available: True (mps), used: False\n",
      "TPU available: False, using: 0 TPU cores\n",
      "HPU available: False, using: 0 HPUs\n"
     ]
    },
    {
     "name": "stdout",
     "output_type": "stream",
     "text": [
      "\n",
      "[[9.99992013e-01 7.93963591e-06]\n",
      " [9.99975801e-01 2.41700272e-05]\n",
      " [9.99984980e-01 1.49978341e-05]\n",
      " ...\n",
      " [9.99960065e-01 3.99141281e-05]\n",
      " [9.99910235e-01 8.97264617e-05]\n",
      " [9.99892116e-01 1.07821266e-04]]\n",
      "Predicting DataLoader 0: 100%|██████████████████| 16/16 [00:00<00:00, 17.97it/s]"
     ]
    },
    {
     "name": "stderr",
     "output_type": "stream",
     "text": [
      "GPU available: True (mps), used: False\n",
      "TPU available: False, using: 0 TPU cores\n",
      "HPU available: False, using: 0 HPUs\n"
     ]
    },
    {
     "name": "stdout",
     "output_type": "stream",
     "text": [
      "\n",
      "Predicting DataLoader 0: 100%|██████████████████| 16/16 [00:00<00:00, 18.01it/s]"
     ]
    },
    {
     "name": "stderr",
     "output_type": "stream",
     "text": [
      "GPU available: True (mps), used: False\n",
      "TPU available: False, using: 0 TPU cores\n",
      "HPU available: False, using: 0 HPUs\n"
     ]
    },
    {
     "name": "stdout",
     "output_type": "stream",
     "text": [
      "\n",
      "[[9.99999762e-01 2.28300564e-07]\n",
      " [9.99998808e-01 1.24820076e-06]\n",
      " [9.99999642e-01 3.70676872e-07]\n",
      " ...\n",
      " [9.99990702e-01 9.25990480e-06]\n",
      " [9.99986291e-01 1.36913795e-05]\n",
      " [9.99988556e-01 1.14173345e-05]]\n",
      "Predicting DataLoader 0: 100%|██████████████████| 16/16 [00:00<00:00, 18.09it/s]"
     ]
    },
    {
     "name": "stderr",
     "output_type": "stream",
     "text": [
      "GPU available: True (mps), used: False\n",
      "TPU available: False, using: 0 TPU cores\n",
      "HPU available: False, using: 0 HPUs\n"
     ]
    },
    {
     "name": "stdout",
     "output_type": "stream",
     "text": [
      "\n",
      "Predicting DataLoader 0: 100%|██████████████████| 16/16 [00:00<00:00, 18.13it/s]"
     ]
    },
    {
     "name": "stderr",
     "output_type": "stream",
     "text": [
      "GPU available: True (mps), used: False\n",
      "TPU available: False, using: 0 TPU cores\n",
      "HPU available: False, using: 0 HPUs\n"
     ]
    },
    {
     "name": "stdout",
     "output_type": "stream",
     "text": [
      "\n",
      "[[9.9999690e-01 3.1325255e-06]\n",
      " [9.9999738e-01 2.6721198e-06]\n",
      " [9.9997938e-01 2.0660038e-05]\n",
      " ...\n",
      " [9.9998367e-01 1.6348258e-05]\n",
      " [9.9997830e-01 2.1736729e-05]\n",
      " [9.9998784e-01 1.2200621e-05]]\n",
      "Predicting DataLoader 0: 100%|██████████████████| 16/16 [00:00<00:00, 18.03it/s]"
     ]
    },
    {
     "name": "stderr",
     "output_type": "stream",
     "text": [
      "GPU available: True (mps), used: False\n",
      "TPU available: False, using: 0 TPU cores\n",
      "HPU available: False, using: 0 HPUs\n"
     ]
    },
    {
     "name": "stdout",
     "output_type": "stream",
     "text": [
      "\n",
      "Predicting DataLoader 0: 100%|██████████████████| 16/16 [00:00<00:00, 18.08it/s]"
     ]
    },
    {
     "name": "stderr",
     "output_type": "stream",
     "text": [
      "GPU available: True (mps), used: False\n",
      "TPU available: False, using: 0 TPU cores\n",
      "HPU available: False, using: 0 HPUs\n"
     ]
    },
    {
     "name": "stdout",
     "output_type": "stream",
     "text": [
      "\n",
      "[[9.9999952e-01 5.2293609e-07]\n",
      " [9.9999821e-01 1.7323080e-06]\n",
      " [9.9999964e-01 3.3692467e-07]\n",
      " ...\n",
      " [1.0000000e+00 3.0842255e-08]\n",
      " [9.9999642e-01 3.5936284e-06]\n",
      " [9.9999213e-01 7.8284647e-06]]\n",
      "Predicting DataLoader 0: 100%|██████████████████| 16/16 [00:00<00:00, 18.09it/s]"
     ]
    },
    {
     "name": "stderr",
     "output_type": "stream",
     "text": [
      "GPU available: True (mps), used: False\n",
      "TPU available: False, using: 0 TPU cores\n",
      "HPU available: False, using: 0 HPUs\n"
     ]
    },
    {
     "name": "stdout",
     "output_type": "stream",
     "text": [
      "\n",
      "9\n",
      "Predicting DataLoader 0: 100%|██████████████████| 16/16 [00:00<00:00, 18.08it/s]"
     ]
    },
    {
     "name": "stderr",
     "output_type": "stream",
     "text": [
      "GPU available: True (mps), used: False\n",
      "TPU available: False, using: 0 TPU cores\n",
      "HPU available: False, using: 0 HPUs\n"
     ]
    },
    {
     "name": "stdout",
     "output_type": "stream",
     "text": [
      "\n",
      "[[9.9999094e-01 9.1110260e-06]\n",
      " [9.9999630e-01 3.7534078e-06]\n",
      " [9.9998605e-01 1.3890177e-05]\n",
      " ...\n",
      " [9.9999797e-01 2.0121199e-06]\n",
      " [9.9997652e-01 2.3488781e-05]\n",
      " [9.9998212e-01 1.7882685e-05]]\n",
      "Predicting DataLoader 0: 100%|██████████████████| 16/16 [00:00<00:00, 18.17it/s]"
     ]
    },
    {
     "name": "stderr",
     "output_type": "stream",
     "text": [
      "GPU available: True (mps), used: False\n",
      "TPU available: False, using: 0 TPU cores\n",
      "HPU available: False, using: 0 HPUs\n"
     ]
    },
    {
     "name": "stdout",
     "output_type": "stream",
     "text": [
      "\n",
      "Predicting DataLoader 0: 100%|██████████████████| 16/16 [00:00<00:00, 18.23it/s]"
     ]
    },
    {
     "name": "stderr",
     "output_type": "stream",
     "text": [
      "GPU available: True (mps), used: False\n",
      "TPU available: False, using: 0 TPU cores\n",
      "HPU available: False, using: 0 HPUs\n"
     ]
    },
    {
     "name": "stdout",
     "output_type": "stream",
     "text": [
      "\n",
      "[[9.9982256e-01 1.7749905e-04]\n",
      " [9.9960154e-01 3.9845423e-04]\n",
      " [9.6151459e-01 3.8485456e-02]\n",
      " ...\n",
      " [9.9991298e-01 8.7008084e-05]\n",
      " [9.9939287e-01 6.0717860e-04]\n",
      " [9.9960452e-01 3.9555752e-04]]\n",
      "Predicting DataLoader 0: 100%|██████████████████| 16/16 [00:00<00:00, 18.19it/s]"
     ]
    },
    {
     "name": "stderr",
     "output_type": "stream",
     "text": [
      "GPU available: True (mps), used: False\n",
      "TPU available: False, using: 0 TPU cores\n",
      "HPU available: False, using: 0 HPUs\n"
     ]
    },
    {
     "name": "stdout",
     "output_type": "stream",
     "text": [
      "\n",
      "Predicting DataLoader 0: 100%|██████████████████| 16/16 [00:00<00:00, 18.18it/s]"
     ]
    },
    {
     "name": "stderr",
     "output_type": "stream",
     "text": [
      "GPU available: True (mps), used: False\n",
      "TPU available: False, using: 0 TPU cores\n",
      "HPU available: False, using: 0 HPUs\n"
     ]
    },
    {
     "name": "stdout",
     "output_type": "stream",
     "text": [
      "\n",
      "[[1.0000000e+00 4.4125401e-09]\n",
      " [1.0000000e+00 7.9614484e-09]\n",
      " [1.0000000e+00 1.0432442e-08]\n",
      " ...\n",
      " [9.9999964e-01 3.7000333e-07]\n",
      " [9.9999893e-01 1.0211418e-06]\n",
      " [9.9999917e-01 8.7689938e-07]]\n",
      "Predicting DataLoader 0: 100%|██████████████████| 16/16 [00:00<00:00, 17.77it/s]"
     ]
    },
    {
     "name": "stderr",
     "output_type": "stream",
     "text": [
      "GPU available: True (mps), used: False\n",
      "TPU available: False, using: 0 TPU cores\n",
      "HPU available: False, using: 0 HPUs\n"
     ]
    },
    {
     "name": "stdout",
     "output_type": "stream",
     "text": [
      "\n",
      "Predicting DataLoader 0: 100%|██████████████████| 16/16 [00:00<00:00, 18.15it/s]"
     ]
    },
    {
     "name": "stderr",
     "output_type": "stream",
     "text": [
      "GPU available: True (mps), used: False\n",
      "TPU available: False, using: 0 TPU cores\n",
      "HPU available: False, using: 0 HPUs\n"
     ]
    },
    {
     "name": "stdout",
     "output_type": "stream",
     "text": [
      "\n",
      "[[1.0000000e+00 3.9297330e-09]\n",
      " [1.0000000e+00 3.2229184e-09]\n",
      " [1.0000000e+00 3.7789709e-09]\n",
      " ...\n",
      " [1.0000000e+00 2.6146342e-08]\n",
      " [9.9999750e-01 2.5194629e-06]\n",
      " [9.9999905e-01 9.1893264e-07]]\n",
      "Predicting DataLoader 0: 100%|██████████████████| 16/16 [00:00<00:00, 18.04it/s]"
     ]
    },
    {
     "name": "stderr",
     "output_type": "stream",
     "text": [
      "GPU available: True (mps), used: False\n",
      "TPU available: False, using: 0 TPU cores\n",
      "HPU available: False, using: 0 HPUs\n"
     ]
    },
    {
     "name": "stdout",
     "output_type": "stream",
     "text": [
      "\n",
      "Predicting DataLoader 0: 100%|██████████████████| 16/16 [00:00<00:00, 18.23it/s]"
     ]
    },
    {
     "name": "stderr",
     "output_type": "stream",
     "text": [
      "GPU available: True (mps), used: False\n",
      "TPU available: False, using: 0 TPU cores\n",
      "HPU available: False, using: 0 HPUs\n"
     ]
    },
    {
     "name": "stdout",
     "output_type": "stream",
     "text": [
      "\n",
      "[[1.0000000e+00 8.0815410e-11]\n",
      " [1.0000000e+00 1.3657364e-10]\n",
      " [1.0000000e+00 9.7587285e-11]\n",
      " ...\n",
      " [1.0000000e+00 9.6169952e-09]\n",
      " [9.9999595e-01 4.0922087e-06]\n",
      " [9.9999845e-01 1.6066799e-06]]\n",
      "Predicting DataLoader 0: 100%|██████████████████| 16/16 [00:00<00:00, 18.14it/s]\n",
      "cycles\n",
      "Accuracy:\n",
      "Accuracy_list: [0.2134387351778656, 0.20355731225296442, 0.19268774703557312, 0.19960474308300397, 0.19861660079051383, 0.20553359683794467, 0.20059288537549408, 0.1966403162055336, 0.1976284584980237, 0.1808300395256917]\n",
      "Accuracy_mean: 0.19891304347826086\n",
      "Accuracy_std: 0.008076816635146021\n",
      "---\n",
      "Confusion matrix\n",
      "Confusion matrix mean: [[182.2  16.8]\n",
      " [793.9  19.1]]\n",
      "Confusion matrix std: [[4.57820926 4.57820926]\n",
      " [8.56095789 8.56095789]]\n",
      "---\n",
      "F1\n",
      "F1_list: [0.06572769953051644, 0.06496519721577726, 0.01684717208182912, 0.03341288782816229, 0.05367561260210035, 0.06944444444444445, 0.05380116959064327, 0.02867383512544803, 0.04918032786885246, 0.011918951132300357]\n",
      "F1_mean: 0.044764729742007396\n",
      "F1_std: 0.01970575625088769\n",
      "---\n",
      "Sensitivity\n",
      "Sensitivity list: [0.03444034440344403, 0.03444034440344403, 0.008610086100861008, 0.017220172201722016, 0.028290282902829027, 0.03690036900369004, 0.028290282902829027, 0.014760147601476014, 0.025830258302583026, 0.006150061500615006]\n",
      "Sensitivity mean: 0.023493234932349324\n",
      "Sensitivity std: 0.010530083505940709\n",
      "---\n",
      "Specificity\n",
      "Specificity list: [0.9447236180904522, 0.8944723618090452, 0.9447236180904522, 0.9447236180904522, 0.8944723618090452, 0.8944723618090452, 0.9045226130653267, 0.9396984924623115, 0.8994974874371859, 0.8944723618090452]\n",
      "Specificity mean: 0.9155778894472363\n",
      "Specificity std: 0.023006076667858477\n",
      "---\n",
      "AUC\n",
      "AUC list: [np.float64(0.48958198124694813), np.float64(0.4644563531062446), np.float64(0.4766668520956567), np.float64(0.4809718951460871), np.float64(0.46138132235593715), np.float64(0.4656863654063676), np.float64(0.4664064479840779), np.float64(0.4772293200318938), np.float64(0.46266387286988453), np.float64(0.45031121165483007)]\n",
      "AUC mean: 0.4695355621897928\n",
      "AUC std: 0.010846157224240796\n"
     ]
    }
   ],
   "source": [
    "X_d = X_d_original.copy()\n",
    "X_d[:,first_half_arr,:] = 0\n",
    "print(X_d)\n",
    "\n",
    "D_name_add = 'TDvsCPu'\n",
    "D_name = D_name_add+\"_full_5_original_weight\"\n",
    "# Net_name_list = ['ResNet','LSTM','InceptionTime']\n",
    "Net_name_list = ['ResNet']\n",
    "for Net_name in Net_name_list:\n",
    "    # for j in range(5):\n",
    "        # train_model(D_name=D_name,Net_name=Net_name)\n",
    "    out = eval_model_5_bundle(D_name,Net_name)\n",
    "    np.save( './new_train_lrR_ET_'+D_name+'_'+Net_name+'/prediction_test.npy' ,out)\n",
    "#0.65 0.35\n",
    "\n",
    "path_img = './img_cm/'\n",
    "\n",
    "out = np.load( './new_train_lrR_ET_'+D_name_add+'_full_5_original_weight_ResNet/prediction_test.npy')\n",
    "\n",
    "save = path_img+D_name_add+\"_ResNet_original_weight\"\n",
    "print(\"cycles\")\n",
    "results_cycles = print_result_bundle_i_cycles(out,y_d,x_test,cycle_end_idx,label_list=['TD', 'CPu'],n_model=10)\n",
    "list_result_all.append(output_csv(results_cycles))"
   ]
  },
  {
   "cell_type": "markdown",
   "metadata": {},
   "source": [
    "## Evaluation of Fidelity by replace the last half to zero for LSTM"
   ]
  },
  {
   "cell_type": "code",
   "execution_count": 16,
   "metadata": {
    "scrolled": true
   },
   "outputs": [
    {
     "name": "stdout",
     "output_type": "stream",
     "text": [
      "[ 3  6  9 11 17 19 14 13 10  5  0]\n",
      "[15 16  8  2 21  1  7 12 18 20  4]\n",
      "[[[  9.83950043   9.7201004    9.6335001  ...   9.47509956   9.24769974\n",
      "     9.04039955]\n",
      "  [  0.           0.           0.         ...   0.           0.\n",
      "     0.        ]\n",
      "  [  0.           0.           0.         ...   0.           0.\n",
      "     0.        ]\n",
      "  ...\n",
      "  [  6.59590006   6.85389996   6.91020012 ...   4.11780024   3.96300006\n",
      "     3.72989988]\n",
      "  [  0.           0.           0.         ...   0.           0.\n",
      "     0.        ]\n",
      "  [  0.           0.           0.         ...   0.           0.\n",
      "     0.        ]]\n",
      "\n",
      " [[  9.04039955   8.82820034   8.66639996 ...  13.4090004   13.08100033\n",
      "    12.73579979]\n",
      "  [  0.           0.           0.         ...   0.           0.\n",
      "     0.        ]\n",
      "  [  0.           0.           0.         ...   0.           0.\n",
      "     0.        ]\n",
      "  ...\n",
      "  [  3.72989988   3.39369988   3.03649998 ...   6.45079994   6.55550003\n",
      "     6.6479001 ]\n",
      "  [  0.           0.           0.         ...   0.           0.\n",
      "     0.        ]\n",
      "  [  0.           0.           0.         ...   0.           0.\n",
      "     0.        ]]\n",
      "\n",
      " [[ 12.73579979  12.3743      12.02490044 ...  13.14729977  13.28199959\n",
      "    13.39649963]\n",
      "  [  0.           0.           0.         ...   0.           0.\n",
      "     0.        ]\n",
      "  [  0.           0.           0.         ...   0.           0.\n",
      "     0.        ]\n",
      "  ...\n",
      "  [  6.6479001    6.73810005   6.82439995 ...   7.01910019   6.39529991\n",
      "     5.66690016]\n",
      "  [  0.           0.           0.         ...   0.           0.\n",
      "     0.        ]\n",
      "  [  0.           0.           0.         ...   0.           0.\n",
      "     0.        ]]\n",
      "\n",
      " ...\n",
      "\n",
      " [[  9.05691338   9.13669917   9.23606081 ...   7.36619649   7.32759291\n",
      "     7.31393051]\n",
      "  [  0.           0.           0.         ...   0.           0.\n",
      "     0.        ]\n",
      "  [  0.           0.           0.         ...   0.           0.\n",
      "     0.        ]\n",
      "  ...\n",
      "  [-11.66077232 -11.21641397 -10.77093315 ...  -9.92506886  -9.91634154\n",
      "   -10.03190708]\n",
      "  [  0.           0.           0.         ...   0.           0.\n",
      "     0.        ]\n",
      "  [  0.           0.           0.         ...   0.           0.\n",
      "     0.        ]]\n",
      "\n",
      " [[  6.8161087    6.87623537   6.95617437 ...   7.85265207   7.88564551\n",
      "     7.94625521]\n",
      "  [  0.           0.           0.         ...   0.           0.\n",
      "     0.        ]\n",
      "  [  0.           0.           0.         ...   0.           0.\n",
      "     0.        ]\n",
      "  ...\n",
      "  [-11.46577263 -11.34519873 -11.05035564 ... -10.0489595  -10.01380011\n",
      "    -9.94277   ]\n",
      "  [  0.           0.           0.         ...   0.           0.\n",
      "     0.        ]\n",
      "  [  0.           0.           0.         ...   0.           0.\n",
      "     0.        ]]\n",
      "\n",
      " [[  8.01304817   8.1131053    8.22476149 ...   8.72506189   8.75647759\n",
      "     8.8262291 ]\n",
      "  [  0.           0.           0.         ...   0.           0.\n",
      "     0.        ]\n",
      "  [  0.           0.           0.         ...   0.           0.\n",
      "     0.        ]\n",
      "  ...\n",
      "  [ -9.8817482   -9.80164267  -9.68827084 ... -12.91687958 -13.27013899\n",
      "   -13.56380463]\n",
      "  [  0.           0.           0.         ...   0.           0.\n",
      "     0.        ]\n",
      "  [  0.           0.           0.         ...   0.           0.\n",
      "     0.        ]]]\n",
      "0\n"
     ]
    },
    {
     "name": "stderr",
     "output_type": "stream",
     "text": [
      "GPU available: True (mps), used: False\n",
      "TPU available: False, using: 0 TPU cores\n",
      "HPU available: False, using: 0 HPUs\n",
      "/opt/anaconda3/envs/env_gait_new/lib/python3.13/site-packages/pytorch_lightning/trainer/setup.py:177: GPU available but not used. You can set it by doing `Trainer(accelerator='gpu')`.\n",
      "/opt/anaconda3/envs/env_gait_new/lib/python3.13/site-packages/pytorch_lightning/trainer/connectors/data_connector.py:425: The 'predict_dataloader' does not have many workers which may be a bottleneck. Consider increasing the value of the `num_workers` argument` to `num_workers=13` in the `DataLoader` to improve performance.\n"
     ]
    },
    {
     "name": "stdout",
     "output_type": "stream",
     "text": [
      "Predicting DataLoader 0:  12%|██▍                | 2/16 [00:00<00:02,  5.70it/s]"
     ]
    },
    {
     "name": "stderr",
     "output_type": "stream",
     "text": [
      "/opt/anaconda3/envs/env_gait_new/lib/python3.13/site-packages/torch/nn/modules/module.py:1739: UserWarning: Implicit dimension choice for softmax has been deprecated. Change the call to include dim=X as an argument.\n",
      "  return self._call_impl(*args, **kwargs)\n"
     ]
    },
    {
     "name": "stdout",
     "output_type": "stream",
     "text": [
      "Predicting DataLoader 0: 100%|██████████████████| 16/16 [00:02<00:00,  5.55it/s]\n",
      "[[5.1726136e-02 9.4827390e-01]\n",
      " [3.2530971e-02 9.6746910e-01]\n",
      " [1.9797318e-02 9.8020267e-01]\n",
      " ...\n",
      " [1.1409743e-03 9.9885905e-01]\n",
      " [5.5397325e-04 9.9944597e-01]\n",
      " [6.7040097e-04 9.9932957e-01]]\n"
     ]
    },
    {
     "name": "stderr",
     "output_type": "stream",
     "text": [
      "GPU available: True (mps), used: False\n",
      "TPU available: False, using: 0 TPU cores\n",
      "HPU available: False, using: 0 HPUs\n"
     ]
    },
    {
     "name": "stdout",
     "output_type": "stream",
     "text": [
      "Predicting DataLoader 0: 100%|██████████████████| 16/16 [00:03<00:00,  5.20it/s]\n"
     ]
    },
    {
     "name": "stderr",
     "output_type": "stream",
     "text": [
      "GPU available: True (mps), used: False\n",
      "TPU available: False, using: 0 TPU cores\n",
      "HPU available: False, using: 0 HPUs\n"
     ]
    },
    {
     "name": "stdout",
     "output_type": "stream",
     "text": [
      "Predicting DataLoader 0: 100%|██████████████████| 16/16 [00:03<00:00,  5.33it/s]"
     ]
    },
    {
     "name": "stderr",
     "output_type": "stream",
     "text": [
      "GPU available: True (mps), used: False\n"
     ]
    },
    {
     "name": "stdout",
     "output_type": "stream",
     "text": [
      "\n",
      "[[0.5913608  0.4086392 ]\n",
      " [0.41930577 0.58069426]\n",
      " [0.2065742  0.79342574]\n",
      " ...\n",
      " [0.02524256 0.9747575 ]\n",
      " [0.01205648 0.98794353]\n",
      " [0.01591514 0.98408484]]\n"
     ]
    },
    {
     "name": "stderr",
     "output_type": "stream",
     "text": [
      "TPU available: False, using: 0 TPU cores\n",
      "HPU available: False, using: 0 HPUs\n"
     ]
    },
    {
     "name": "stdout",
     "output_type": "stream",
     "text": [
      "Predicting DataLoader 0: 100%|██████████████████| 16/16 [00:03<00:00,  5.33it/s]\n"
     ]
    },
    {
     "name": "stderr",
     "output_type": "stream",
     "text": [
      "GPU available: True (mps), used: False\n",
      "TPU available: False, using: 0 TPU cores\n",
      "HPU available: False, using: 0 HPUs\n"
     ]
    },
    {
     "name": "stdout",
     "output_type": "stream",
     "text": [
      "Predicting DataLoader 0: 100%|██████████████████| 16/16 [00:02<00:00,  5.33it/s]"
     ]
    },
    {
     "name": "stderr",
     "output_type": "stream",
     "text": [
      "GPU available: True (mps), used: False\n",
      "TPU available: False, using: 0 TPU cores\n",
      "HPU available: False, using: 0 HPUs\n"
     ]
    },
    {
     "name": "stdout",
     "output_type": "stream",
     "text": [
      "\n",
      "[[7.0289969e-01 2.9710031e-01]\n",
      " [2.7174938e-03 9.9728251e-01]\n",
      " [2.1417676e-01 7.8582323e-01]\n",
      " ...\n",
      " [1.2002289e-04 9.9987996e-01]\n",
      " [1.0129362e-04 9.9989867e-01]\n",
      " [1.1338327e-04 9.9988663e-01]]\n",
      "Predicting DataLoader 0: 100%|██████████████████| 16/16 [00:03<00:00,  4.94it/s]\n"
     ]
    },
    {
     "name": "stderr",
     "output_type": "stream",
     "text": [
      "GPU available: True (mps), used: False\n",
      "TPU available: False, using: 0 TPU cores\n",
      "HPU available: False, using: 0 HPUs\n"
     ]
    },
    {
     "name": "stdout",
     "output_type": "stream",
     "text": [
      "Predicting DataLoader 0: 100%|██████████████████| 16/16 [00:03<00:00,  5.19it/s]\n",
      "[[0.00363613 0.99636394]\n",
      " [0.00347157 0.99652845]\n",
      " [0.00446848 0.9955315 ]\n",
      " ...\n",
      " [0.00163994 0.9983601 ]\n",
      " [0.00149354 0.9985065 ]\n",
      " [0.00155164 0.9984484 ]]\n"
     ]
    },
    {
     "name": "stderr",
     "output_type": "stream",
     "text": [
      "GPU available: True (mps), used: False\n",
      "TPU available: False, using: 0 TPU cores\n",
      "HPU available: False, using: 0 HPUs\n"
     ]
    },
    {
     "name": "stdout",
     "output_type": "stream",
     "text": [
      "Predicting DataLoader 0: 100%|██████████████████| 16/16 [00:03<00:00,  4.72it/s]"
     ]
    },
    {
     "name": "stderr",
     "output_type": "stream",
     "text": [
      "GPU available: True (mps), used: False\n",
      "TPU available: False, using: 0 TPU cores\n",
      "HPU available: False, using: 0 HPUs\n"
     ]
    },
    {
     "name": "stdout",
     "output_type": "stream",
     "text": [
      "\n",
      "Predicting DataLoader 0: 100%|██████████████████| 16/16 [00:03<00:00,  4.92it/s]\n",
      "[[0.34357798 0.65642196]\n",
      " [0.11340448 0.88659555]\n",
      " [0.15934646 0.8406536 ]\n",
      " ...\n",
      " [0.00679464 0.9932053 ]\n",
      " [0.00125954 0.9987405 ]\n",
      " [0.00186873 0.99813133]]\n"
     ]
    },
    {
     "name": "stderr",
     "output_type": "stream",
     "text": [
      "GPU available: True (mps), used: False\n",
      "TPU available: False, using: 0 TPU cores\n",
      "HPU available: False, using: 0 HPUs\n"
     ]
    },
    {
     "name": "stdout",
     "output_type": "stream",
     "text": [
      "Predicting DataLoader 0: 100%|██████████████████| 16/16 [00:03<00:00,  4.26it/s]\n",
      "1\n"
     ]
    },
    {
     "name": "stderr",
     "output_type": "stream",
     "text": [
      "GPU available: True (mps), used: False\n",
      "TPU available: False, using: 0 TPU cores\n",
      "HPU available: False, using: 0 HPUs\n"
     ]
    },
    {
     "name": "stdout",
     "output_type": "stream",
     "text": [
      "Predicting DataLoader 0: 100%|██████████████████| 16/16 [00:03<00:00,  4.49it/s]"
     ]
    },
    {
     "name": "stderr",
     "output_type": "stream",
     "text": [
      "GPU available: True (mps), used: False\n",
      "TPU available: False, using: 0 TPU cores\n",
      "HPU available: False, using: 0 HPUs\n"
     ]
    },
    {
     "name": "stdout",
     "output_type": "stream",
     "text": [
      "\n",
      "[[0.09036747 0.90963256]\n",
      " [0.04490378 0.9550962 ]\n",
      " [0.06442539 0.9355746 ]\n",
      " ...\n",
      " [0.00189014 0.9981098 ]\n",
      " [0.00125617 0.99874383]\n",
      " [0.00145832 0.9985417 ]]\n",
      "Predicting DataLoader 0: 100%|██████████████████| 16/16 [00:03<00:00,  4.54it/s]\n"
     ]
    },
    {
     "name": "stderr",
     "output_type": "stream",
     "text": [
      "GPU available: True (mps), used: False\n",
      "TPU available: False, using: 0 TPU cores\n",
      "HPU available: False, using: 0 HPUs\n"
     ]
    },
    {
     "name": "stdout",
     "output_type": "stream",
     "text": [
      "Predicting DataLoader 0: 100%|██████████████████| 16/16 [00:03<00:00,  4.54it/s]"
     ]
    },
    {
     "name": "stderr",
     "output_type": "stream",
     "text": [
      "GPU available: True (mps), used: False\n",
      "TPU available: False, using: 0 TPU cores\n",
      "HPU available: False, using: 0 HPUs\n"
     ]
    },
    {
     "name": "stdout",
     "output_type": "stream",
     "text": [
      "\n",
      "[[3.0300643e-03 9.9697000e-01]\n",
      " [4.7459634e-04 9.9952543e-01]\n",
      " [5.6184083e-04 9.9943811e-01]\n",
      " ...\n",
      " [1.0439156e-04 9.9989557e-01]\n",
      " [8.7995184e-05 9.9991202e-01]\n",
      " [9.1876143e-05 9.9990809e-01]]\n",
      "Predicting DataLoader 0: 100%|██████████████████| 16/16 [00:03<00:00,  4.69it/s]"
     ]
    },
    {
     "name": "stderr",
     "output_type": "stream",
     "text": [
      "GPU available: True (mps), used: False\n",
      "TPU available: False, using: 0 TPU cores\n",
      "HPU available: False, using: 0 HPUs\n"
     ]
    },
    {
     "name": "stdout",
     "output_type": "stream",
     "text": [
      "\n",
      "Predicting DataLoader 0: 100%|██████████████████| 16/16 [00:03<00:00,  4.64it/s]\n",
      "[[2.8470596e-03 9.9715292e-01]\n",
      " [1.8047660e-03 9.9819523e-01]\n",
      " [2.2687032e-03 9.9773127e-01]\n",
      " ...\n",
      " [9.7730861e-04 9.9902272e-01]\n",
      " [7.2920852e-04 9.9927074e-01]\n",
      " [6.8535813e-04 9.9931467e-01]]\n"
     ]
    },
    {
     "name": "stderr",
     "output_type": "stream",
     "text": [
      "GPU available: True (mps), used: False\n",
      "TPU available: False, using: 0 TPU cores\n",
      "HPU available: False, using: 0 HPUs\n"
     ]
    },
    {
     "name": "stdout",
     "output_type": "stream",
     "text": [
      "Predicting DataLoader 0: 100%|██████████████████| 16/16 [00:03<00:00,  4.47it/s]"
     ]
    },
    {
     "name": "stderr",
     "output_type": "stream",
     "text": [
      "GPU available: True (mps), used: False\n",
      "TPU available: False, using: 0 TPU cores\n",
      "HPU available: False, using: 0 HPUs\n"
     ]
    },
    {
     "name": "stdout",
     "output_type": "stream",
     "text": [
      "\n",
      "Predicting DataLoader 0: 100%|██████████████████| 16/16 [00:03<00:00,  4.44it/s]\n",
      "[[3.5736065e-02 9.6426392e-01]\n",
      " [1.0345625e-02 9.8965430e-01]\n",
      " [4.8688729e-03 9.9513113e-01]\n",
      " ...\n",
      " [4.7783612e-04 9.9952221e-01]\n",
      " [2.7886880e-04 9.9972111e-01]\n",
      " [3.1917926e-04 9.9968088e-01]]\n"
     ]
    },
    {
     "name": "stderr",
     "output_type": "stream",
     "text": [
      "GPU available: True (mps), used: False\n",
      "TPU available: False, using: 0 TPU cores\n",
      "HPU available: False, using: 0 HPUs\n"
     ]
    },
    {
     "name": "stdout",
     "output_type": "stream",
     "text": [
      "Predicting DataLoader 0: 100%|██████████████████| 16/16 [00:03<00:00,  4.54it/s]\n"
     ]
    },
    {
     "name": "stderr",
     "output_type": "stream",
     "text": [
      "GPU available: True (mps), used: False\n",
      "TPU available: False, using: 0 TPU cores\n",
      "HPU available: False, using: 0 HPUs\n"
     ]
    },
    {
     "name": "stdout",
     "output_type": "stream",
     "text": [
      "Predicting DataLoader 0: 100%|██████████████████| 16/16 [00:03<00:00,  4.50it/s]\n",
      "[[1.7046500e-02 9.8295355e-01]\n",
      " [1.3772870e-02 9.8622710e-01]\n",
      " [6.1338115e-03 9.9386615e-01]\n",
      " ...\n",
      " [3.9215112e-04 9.9960786e-01]\n",
      " [2.2208855e-04 9.9977797e-01]\n",
      " [2.5132622e-04 9.9974865e-01]]\n"
     ]
    },
    {
     "name": "stderr",
     "output_type": "stream",
     "text": [
      "GPU available: True (mps), used: False\n",
      "TPU available: False, using: 0 TPU cores\n",
      "HPU available: False, using: 0 HPUs\n"
     ]
    },
    {
     "name": "stdout",
     "output_type": "stream",
     "text": [
      "Predicting DataLoader 0: 100%|██████████████████| 16/16 [00:03<00:00,  4.58it/s]"
     ]
    },
    {
     "name": "stderr",
     "output_type": "stream",
     "text": [
      "GPU available: True (mps), used: False\n",
      "TPU available: False, using: 0 TPU cores\n",
      "HPU available: False, using: 0 HPUs\n"
     ]
    },
    {
     "name": "stdout",
     "output_type": "stream",
     "text": [
      "\n",
      "2\n",
      "Predicting DataLoader 0: 100%|██████████████████| 16/16 [00:03<00:00,  4.55it/s]"
     ]
    },
    {
     "name": "stderr",
     "output_type": "stream",
     "text": [
      "GPU available: True (mps), used: False\n",
      "TPU available: False, using: 0 TPU cores\n",
      "HPU available: False, using: 0 HPUs\n"
     ]
    },
    {
     "name": "stdout",
     "output_type": "stream",
     "text": [
      "\n",
      "[[1.9689503e-03 9.9803108e-01]\n",
      " [8.2892552e-04 9.9917114e-01]\n",
      " [1.3904459e-03 9.9860954e-01]\n",
      " ...\n",
      " [2.8900249e-05 9.9997115e-01]\n",
      " [1.6628001e-05 9.9998343e-01]\n",
      " [1.8553515e-05 9.9998140e-01]]\n",
      "Predicting DataLoader 0: 100%|██████████████████| 16/16 [00:03<00:00,  4.14it/s]"
     ]
    },
    {
     "name": "stderr",
     "output_type": "stream",
     "text": [
      "GPU available: True (mps), used: False\n",
      "TPU available: False, using: 0 TPU cores\n",
      "HPU available: False, using: 0 HPUs\n"
     ]
    },
    {
     "name": "stdout",
     "output_type": "stream",
     "text": [
      "\n",
      "Predicting DataLoader 0: 100%|██████████████████| 16/16 [00:03<00:00,  4.31it/s]\n",
      "[[1.9237933e-04 9.9980766e-01]\n",
      " [9.7052733e-05 9.9990296e-01]\n",
      " [1.6703682e-04 9.9983299e-01]\n",
      " ...\n",
      " [6.2948115e-05 9.9993706e-01]\n",
      " [4.3917760e-05 9.9995613e-01]\n",
      " [4.4413096e-05 9.9995553e-01]]\n"
     ]
    },
    {
     "name": "stderr",
     "output_type": "stream",
     "text": [
      "GPU available: True (mps), used: False\n",
      "TPU available: False, using: 0 TPU cores\n",
      "HPU available: False, using: 0 HPUs\n"
     ]
    },
    {
     "name": "stdout",
     "output_type": "stream",
     "text": [
      "Predicting DataLoader 0: 100%|██████████████████| 16/16 [00:03<00:00,  4.15it/s]"
     ]
    },
    {
     "name": "stderr",
     "output_type": "stream",
     "text": [
      "GPU available: True (mps), used: False\n",
      "TPU available: False, using: 0 TPU cores\n",
      "HPU available: False, using: 0 HPUs\n"
     ]
    },
    {
     "name": "stdout",
     "output_type": "stream",
     "text": [
      "\n",
      "Predicting DataLoader 0: 100%|██████████████████| 16/16 [00:03<00:00,  4.28it/s]"
     ]
    },
    {
     "name": "stderr",
     "output_type": "stream",
     "text": [
      "GPU available: True (mps), used: False\n",
      "TPU available: False, using: 0 TPU cores\n",
      "HPU available: False, using: 0 HPUs\n"
     ]
    },
    {
     "name": "stdout",
     "output_type": "stream",
     "text": [
      "\n",
      "[[1.1602107e-03 9.9883980e-01]\n",
      " [6.3714996e-04 9.9936289e-01]\n",
      " [5.7821104e-04 9.9942183e-01]\n",
      " ...\n",
      " [1.2246807e-04 9.9987757e-01]\n",
      " [1.0178967e-04 9.9989820e-01]\n",
      " [1.0430996e-04 9.9989569e-01]]\n",
      "Predicting DataLoader 0: 100%|██████████████████| 16/16 [00:03<00:00,  4.40it/s]"
     ]
    },
    {
     "name": "stderr",
     "output_type": "stream",
     "text": [
      "GPU available: True (mps), used: False\n",
      "TPU available: False, using: 0 TPU cores\n",
      "HPU available: False, using: 0 HPUs\n"
     ]
    },
    {
     "name": "stdout",
     "output_type": "stream",
     "text": [
      "\n",
      "Predicting DataLoader 0: 100%|██████████████████| 16/16 [00:03<00:00,  4.21it/s]\n"
     ]
    },
    {
     "name": "stderr",
     "output_type": "stream",
     "text": [
      "GPU available: True (mps), used: False\n",
      "TPU available: False, using: 0 TPU cores\n",
      "HPU available: False, using: 0 HPUs\n"
     ]
    },
    {
     "name": "stdout",
     "output_type": "stream",
     "text": [
      "[[2.1906029e-03 9.9780947e-01]\n",
      " [4.4657642e-04 9.9955338e-01]\n",
      " [2.4051007e-04 9.9975950e-01]\n",
      " ...\n",
      " [3.3461667e-05 9.9996650e-01]\n",
      " [2.3001243e-05 9.9997699e-01]\n",
      " [2.4812189e-05 9.9997520e-01]]\n",
      "Predicting DataLoader 0: 100%|██████████████████| 16/16 [00:03<00:00,  4.07it/s]"
     ]
    },
    {
     "name": "stderr",
     "output_type": "stream",
     "text": [
      "GPU available: True (mps), used: False\n",
      "TPU available: False, using: 0 TPU cores\n",
      "HPU available: False, using: 0 HPUs\n"
     ]
    },
    {
     "name": "stdout",
     "output_type": "stream",
     "text": [
      "\n",
      "Predicting DataLoader 0: 100%|██████████████████| 16/16 [00:03<00:00,  4.06it/s]"
     ]
    },
    {
     "name": "stderr",
     "output_type": "stream",
     "text": [
      "GPU available: True (mps), used: False\n",
      "TPU available: False, using: 0 TPU cores\n",
      "HPU available: False, using: 0 HPUs\n"
     ]
    },
    {
     "name": "stdout",
     "output_type": "stream",
     "text": [
      "\n",
      "[[1.9084997e-02 9.8091507e-01]\n",
      " [6.3047796e-03 9.9369520e-01]\n",
      " [3.8768416e-03 9.9612314e-01]\n",
      " ...\n",
      " [6.3107400e-05 9.9993694e-01]\n",
      " [1.8193174e-05 9.9998176e-01]\n",
      " [2.1731423e-05 9.9997830e-01]]\n",
      "Predicting DataLoader 0: 100%|██████████████████| 16/16 [00:03<00:00,  4.34it/s]\n",
      "3\n"
     ]
    },
    {
     "name": "stderr",
     "output_type": "stream",
     "text": [
      "GPU available: True (mps), used: False\n",
      "TPU available: False, using: 0 TPU cores\n",
      "HPU available: False, using: 0 HPUs\n"
     ]
    },
    {
     "name": "stdout",
     "output_type": "stream",
     "text": [
      "Predicting DataLoader 0: 100%|██████████████████| 16/16 [00:03<00:00,  4.32it/s]\n",
      "[[2.7682115e-03 9.9723178e-01]\n",
      " [1.7660940e-03 9.9823391e-01]\n",
      " [2.3054741e-03 9.9769455e-01]\n",
      " ...\n",
      " [2.1310830e-04 9.9978691e-01]\n",
      " [1.0323237e-04 9.9989676e-01]\n",
      " [1.0783258e-04 9.9989212e-01]]\n"
     ]
    },
    {
     "name": "stderr",
     "output_type": "stream",
     "text": [
      "GPU available: True (mps), used: False\n",
      "TPU available: False, using: 0 TPU cores\n",
      "HPU available: False, using: 0 HPUs\n"
     ]
    },
    {
     "name": "stdout",
     "output_type": "stream",
     "text": [
      "Predicting DataLoader 0: 100%|██████████████████| 16/16 [00:03<00:00,  4.39it/s]\n"
     ]
    },
    {
     "name": "stderr",
     "output_type": "stream",
     "text": [
      "GPU available: True (mps), used: False\n",
      "TPU available: False, using: 0 TPU cores\n",
      "HPU available: False, using: 0 HPUs\n"
     ]
    },
    {
     "name": "stdout",
     "output_type": "stream",
     "text": [
      "Predicting DataLoader 0: 100%|██████████████████| 16/16 [00:03<00:00,  4.52it/s]"
     ]
    },
    {
     "name": "stderr",
     "output_type": "stream",
     "text": [
      "GPU available: True (mps), used: False\n",
      "TPU available: False, using: 0 TPU cores\n",
      "HPU available: False, using: 0 HPUs\n"
     ]
    },
    {
     "name": "stdout",
     "output_type": "stream",
     "text": [
      "\n",
      "[[2.8574449e-04 9.9971420e-01]\n",
      " [1.5224789e-04 9.9984777e-01]\n",
      " [1.9075588e-04 9.9980932e-01]\n",
      " ...\n",
      " [3.4233704e-05 9.9996579e-01]\n",
      " [2.3470868e-05 9.9997652e-01]\n",
      " [2.3291641e-05 9.9997675e-01]]\n",
      "Predicting DataLoader 0: 100%|██████████████████| 16/16 [00:04<00:00,  3.96it/s]"
     ]
    },
    {
     "name": "stderr",
     "output_type": "stream",
     "text": [
      "GPU available: True (mps), used: False\n",
      "TPU available: False, using: 0 TPU cores\n",
      "HPU available: False, using: 0 HPUs\n"
     ]
    },
    {
     "name": "stdout",
     "output_type": "stream",
     "text": [
      "\n",
      "Predicting DataLoader 0: 100%|██████████████████| 16/16 [00:03<00:00,  4.01it/s]"
     ]
    },
    {
     "name": "stderr",
     "output_type": "stream",
     "text": [
      "GPU available: True (mps), used: False\n",
      "TPU available: False, using: 0 TPU cores\n",
      "HPU available: False, using: 0 HPUs\n"
     ]
    },
    {
     "name": "stdout",
     "output_type": "stream",
     "text": [
      "\n",
      "[[2.90496903e-03 9.97094989e-01]\n",
      " [9.72979062e-04 9.99027014e-01]\n",
      " [3.53827141e-04 9.99646187e-01]\n",
      " ...\n",
      " [1.08547734e-04 9.99891400e-01]\n",
      " [8.22732618e-05 9.99917746e-01]\n",
      " [6.97905270e-05 9.99930263e-01]]\n",
      "Predicting DataLoader 0: 100%|██████████████████| 16/16 [00:03<00:00,  4.12it/s]"
     ]
    },
    {
     "name": "stderr",
     "output_type": "stream",
     "text": [
      "GPU available: True (mps), used: False\n",
      "TPU available: False, using: 0 TPU cores\n",
      "HPU available: False, using: 0 HPUs\n"
     ]
    },
    {
     "name": "stdout",
     "output_type": "stream",
     "text": [
      "\n",
      "Predicting DataLoader 0: 100%|██████████████████| 16/16 [00:04<00:00,  3.96it/s]"
     ]
    },
    {
     "name": "stderr",
     "output_type": "stream",
     "text": [
      "GPU available: True (mps), used: False\n",
      "TPU available: False, using: 0 TPU cores\n",
      "HPU available: False, using: 0 HPUs\n"
     ]
    },
    {
     "name": "stdout",
     "output_type": "stream",
     "text": [
      "\n",
      "[[1.7513952e-04 9.9982494e-01]\n",
      " [6.2279207e-05 9.9993777e-01]\n",
      " [4.7728870e-05 9.9995232e-01]\n",
      " ...\n",
      " [8.0812961e-06 9.9999189e-01]\n",
      " [5.6638669e-06 9.9999428e-01]\n",
      " [6.3495208e-06 9.9999368e-01]]\n",
      "Predicting DataLoader 0: 100%|██████████████████| 16/16 [00:03<00:00,  4.05it/s]"
     ]
    },
    {
     "name": "stderr",
     "output_type": "stream",
     "text": [
      "GPU available: True (mps), used: False\n",
      "TPU available: False, using: 0 TPU cores\n",
      "HPU available: False, using: 0 HPUs\n"
     ]
    },
    {
     "name": "stdout",
     "output_type": "stream",
     "text": [
      "\n",
      "Predicting DataLoader 0: 100%|██████████████████| 16/16 [00:03<00:00,  4.01it/s]\n",
      "[[3.1605375e-03 9.9683940e-01]\n",
      " [1.8562390e-03 9.9814379e-01]\n",
      " [1.9470387e-03 9.9805295e-01]\n",
      " ...\n",
      " [2.4848821e-04 9.9975151e-01]\n",
      " [1.6350772e-04 9.9983644e-01]\n",
      " [1.4677994e-04 9.9985325e-01]]\n"
     ]
    },
    {
     "name": "stderr",
     "output_type": "stream",
     "text": [
      "GPU available: True (mps), used: False\n",
      "TPU available: False, using: 0 TPU cores\n",
      "HPU available: False, using: 0 HPUs\n"
     ]
    },
    {
     "name": "stdout",
     "output_type": "stream",
     "text": [
      "Predicting DataLoader 0: 100%|██████████████████| 16/16 [00:03<00:00,  4.03it/s]"
     ]
    },
    {
     "name": "stderr",
     "output_type": "stream",
     "text": [
      "GPU available: True (mps), used: False\n",
      "TPU available: False, using: 0 TPU cores\n",
      "HPU available: False, using: 0 HPUs\n"
     ]
    },
    {
     "name": "stdout",
     "output_type": "stream",
     "text": [
      "\n",
      "4\n",
      "Predicting DataLoader 0: 100%|██████████████████| 16/16 [00:03<00:00,  4.13it/s]"
     ]
    },
    {
     "name": "stderr",
     "output_type": "stream",
     "text": [
      "GPU available: True (mps), used: False\n",
      "TPU available: False, using: 0 TPU cores\n",
      "HPU available: False, using: 0 HPUs\n"
     ]
    },
    {
     "name": "stdout",
     "output_type": "stream",
     "text": [
      "\n",
      "[[2.6386983e-03 9.9736124e-01]\n",
      " [1.8531899e-03 9.9814677e-01]\n",
      " [2.3077084e-03 9.9769235e-01]\n",
      " ...\n",
      " [2.1667499e-04 9.9978334e-01]\n",
      " [9.9934710e-05 9.9990010e-01]\n",
      " [1.1224715e-04 9.9988770e-01]]\n",
      "Predicting DataLoader 0: 100%|██████████████████| 16/16 [00:03<00:00,  4.07it/s]"
     ]
    },
    {
     "name": "stderr",
     "output_type": "stream",
     "text": [
      "GPU available: True (mps), used: False\n",
      "TPU available: False, using: 0 TPU cores\n",
      "HPU available: False, using: 0 HPUs\n"
     ]
    },
    {
     "name": "stdout",
     "output_type": "stream",
     "text": [
      "\n",
      "Predicting DataLoader 0: 100%|██████████████████| 16/16 [00:03<00:00,  4.13it/s]\n",
      "[[7.95404494e-01 2.04595536e-01]\n",
      " [2.24387348e-01 7.75612712e-01]\n",
      " [4.22632729e-04 9.99577343e-01]\n",
      " ...\n",
      " [1.42881736e-05 9.99985695e-01]\n",
      " [1.24614735e-05 9.99987483e-01]\n",
      " [1.42693962e-05 9.99985695e-01]]\n"
     ]
    },
    {
     "name": "stderr",
     "output_type": "stream",
     "text": [
      "GPU available: True (mps), used: False\n",
      "TPU available: False, using: 0 TPU cores\n",
      "HPU available: False, using: 0 HPUs\n"
     ]
    },
    {
     "name": "stdout",
     "output_type": "stream",
     "text": [
      "Predicting DataLoader 0: 100%|██████████████████| 16/16 [00:03<00:00,  4.17it/s]"
     ]
    },
    {
     "name": "stderr",
     "output_type": "stream",
     "text": [
      "GPU available: True (mps), used: False\n",
      "TPU available: False, using: 0 TPU cores\n",
      "HPU available: False, using: 0 HPUs\n"
     ]
    },
    {
     "name": "stdout",
     "output_type": "stream",
     "text": [
      "\n",
      "Predicting DataLoader 0: 100%|██████████████████| 16/16 [00:03<00:00,  4.13it/s]"
     ]
    },
    {
     "name": "stderr",
     "output_type": "stream",
     "text": [
      "GPU available: True (mps), used: False\n",
      "TPU available: False, using: 0 TPU cores\n",
      "HPU available: False, using: 0 HPUs\n"
     ]
    },
    {
     "name": "stdout",
     "output_type": "stream",
     "text": [
      "\n",
      "[[1.2809591e-03 9.9871910e-01]\n",
      " [7.7596278e-04 9.9922407e-01]\n",
      " [1.6628609e-03 9.9833715e-01]\n",
      " ...\n",
      " [5.7154684e-06 9.9999428e-01]\n",
      " [2.3904399e-06 9.9999762e-01]\n",
      " [2.6605423e-06 9.9999738e-01]]\n",
      "Predicting DataLoader 0: 100%|██████████████████| 16/16 [00:04<00:00,  3.84it/s]"
     ]
    },
    {
     "name": "stderr",
     "output_type": "stream",
     "text": [
      "GPU available: True (mps), used: False\n",
      "TPU available: False, using: 0 TPU cores\n",
      "HPU available: False, using: 0 HPUs\n"
     ]
    },
    {
     "name": "stdout",
     "output_type": "stream",
     "text": [
      "\n",
      "Predicting DataLoader 0: 100%|██████████████████| 16/16 [00:04<00:00,  3.90it/s]"
     ]
    },
    {
     "name": "stderr",
     "output_type": "stream",
     "text": [
      "GPU available: True (mps), used: False\n",
      "TPU available: False, using: 0 TPU cores\n",
      "HPU available: False, using: 0 HPUs\n"
     ]
    },
    {
     "name": "stdout",
     "output_type": "stream",
     "text": [
      "\n",
      "[[8.9272260e-05 9.9991071e-01]\n",
      " [1.0883680e-04 9.9989116e-01]\n",
      " [1.5976760e-04 9.9984026e-01]\n",
      " ...\n",
      " [5.7859897e-06 9.9999416e-01]\n",
      " [3.7946211e-06 9.9999619e-01]\n",
      " [4.1020980e-06 9.9999595e-01]]\n",
      "Predicting DataLoader 0: 100%|██████████████████| 16/16 [00:04<00:00,  4.00it/s]"
     ]
    },
    {
     "name": "stderr",
     "output_type": "stream",
     "text": [
      "GPU available: True (mps), used: False\n",
      "TPU available: False, using: 0 TPU cores\n",
      "HPU available: False, using: 0 HPUs\n"
     ]
    },
    {
     "name": "stdout",
     "output_type": "stream",
     "text": [
      "\n",
      "Predicting DataLoader 0: 100%|██████████████████| 16/16 [00:04<00:00,  3.98it/s]"
     ]
    },
    {
     "name": "stderr",
     "output_type": "stream",
     "text": [
      "GPU available: True (mps), used: False\n",
      "TPU available: False, using: 0 TPU cores\n",
      "HPU available: False, using: 0 HPUs\n"
     ]
    },
    {
     "name": "stdout",
     "output_type": "stream",
     "text": [
      "\n",
      "[[4.53497283e-04 9.99546468e-01]\n",
      " [2.78316351e-04 9.99721706e-01]\n",
      " [6.02423272e-04 9.99397516e-01]\n",
      " ...\n",
      " [2.03646996e-05 9.99979615e-01]\n",
      " [1.45648255e-05 9.99985456e-01]\n",
      " [1.53500805e-05 9.99984622e-01]]\n",
      "Predicting DataLoader 0: 100%|██████████████████| 16/16 [00:03<00:00,  4.08it/s]"
     ]
    },
    {
     "name": "stderr",
     "output_type": "stream",
     "text": [
      "GPU available: True (mps), used: False\n",
      "TPU available: False, using: 0 TPU cores\n",
      "HPU available: False, using: 0 HPUs\n"
     ]
    },
    {
     "name": "stdout",
     "output_type": "stream",
     "text": [
      "\n",
      "5\n",
      "Predicting DataLoader 0: 100%|██████████████████| 16/16 [00:03<00:00,  4.02it/s]"
     ]
    },
    {
     "name": "stderr",
     "output_type": "stream",
     "text": [
      "GPU available: True (mps), used: False\n",
      "TPU available: False, using: 0 TPU cores\n",
      "HPU available: False, using: 0 HPUs\n"
     ]
    },
    {
     "name": "stdout",
     "output_type": "stream",
     "text": [
      "\n",
      "[[2.0055294e-03 9.9799454e-01]\n",
      " [5.8778439e-04 9.9941218e-01]\n",
      " [5.0792983e-04 9.9949205e-01]\n",
      " ...\n",
      " [1.8946073e-04 9.9981052e-01]\n",
      " [1.4612330e-04 9.9985385e-01]\n",
      " [1.4999765e-04 9.9985003e-01]]\n",
      "Predicting DataLoader 0: 100%|██████████████████| 16/16 [00:03<00:00,  4.04it/s]"
     ]
    },
    {
     "name": "stderr",
     "output_type": "stream",
     "text": [
      "GPU available: True (mps), used: False\n",
      "TPU available: False, using: 0 TPU cores\n",
      "HPU available: False, using: 0 HPUs\n"
     ]
    },
    {
     "name": "stdout",
     "output_type": "stream",
     "text": [
      "\n",
      "Predicting DataLoader 0: 100%|██████████████████| 16/16 [00:04<00:00,  3.89it/s]"
     ]
    },
    {
     "name": "stderr",
     "output_type": "stream",
     "text": [
      "GPU available: True (mps), used: False\n",
      "TPU available: False, using: 0 TPU cores\n",
      "HPU available: False, using: 0 HPUs\n"
     ]
    },
    {
     "name": "stdout",
     "output_type": "stream",
     "text": [
      "\n",
      "[[6.7312629e-03 9.9326867e-01]\n",
      " [3.7141067e-03 9.9628592e-01]\n",
      " [3.8918674e-03 9.9610811e-01]\n",
      " ...\n",
      " [4.5431580e-06 9.9999547e-01]\n",
      " [2.1487156e-06 9.9999785e-01]\n",
      " [2.1771684e-06 9.9999785e-01]]\n",
      "Predicting DataLoader 0: 100%|██████████████████| 16/16 [00:04<00:00,  3.77it/s]"
     ]
    },
    {
     "name": "stderr",
     "output_type": "stream",
     "text": [
      "GPU available: True (mps), used: False\n",
      "TPU available: False, using: 0 TPU cores\n",
      "HPU available: False, using: 0 HPUs\n"
     ]
    },
    {
     "name": "stdout",
     "output_type": "stream",
     "text": [
      "\n",
      "Predicting DataLoader 0: 100%|██████████████████| 16/16 [00:03<00:00,  4.10it/s]\n",
      "[[9.3014503e-04 9.9906987e-01]\n",
      " [6.0995831e-04 9.9939001e-01]\n",
      " [1.8762043e-03 9.9812382e-01]\n",
      " ...\n",
      " [1.0994679e-04 9.9989009e-01]\n",
      " [3.3019924e-06 9.9999666e-01]\n",
      " [5.7571160e-06 9.9999428e-01]]\n"
     ]
    },
    {
     "name": "stderr",
     "output_type": "stream",
     "text": [
      "GPU available: True (mps), used: False\n",
      "TPU available: False, using: 0 TPU cores\n",
      "HPU available: False, using: 0 HPUs\n"
     ]
    },
    {
     "name": "stdout",
     "output_type": "stream",
     "text": [
      "Predicting DataLoader 0: 100%|██████████████████| 16/16 [00:03<00:00,  4.29it/s]"
     ]
    },
    {
     "name": "stderr",
     "output_type": "stream",
     "text": [
      "GPU available: True (mps), used: False\n",
      "TPU available: False, using: 0 TPU cores\n",
      "HPU available: False, using: 0 HPUs\n"
     ]
    },
    {
     "name": "stdout",
     "output_type": "stream",
     "text": [
      "\n",
      "Predicting DataLoader 0: 100%|██████████████████| 16/16 [00:03<00:00,  4.36it/s]\n",
      "[[5.4638530e-04 9.9945360e-01]\n",
      " [2.1076105e-04 9.9978930e-01]\n",
      " [1.1481226e-03 9.9885190e-01]\n",
      " ...\n",
      " [7.3959727e-06 9.9999261e-01]\n",
      " [3.8337898e-06 9.9999619e-01]\n",
      " [4.7805333e-06 9.9999523e-01]]\n"
     ]
    },
    {
     "name": "stderr",
     "output_type": "stream",
     "text": [
      "GPU available: True (mps), used: False\n",
      "TPU available: False, using: 0 TPU cores\n",
      "HPU available: False, using: 0 HPUs\n"
     ]
    },
    {
     "name": "stdout",
     "output_type": "stream",
     "text": [
      "Predicting DataLoader 0: 100%|██████████████████| 16/16 [00:04<00:00,  3.59it/s]"
     ]
    },
    {
     "name": "stderr",
     "output_type": "stream",
     "text": [
      "GPU available: True (mps), used: False\n",
      "TPU available: False, using: 0 TPU cores\n",
      "HPU available: False, using: 0 HPUs\n"
     ]
    },
    {
     "name": "stdout",
     "output_type": "stream",
     "text": [
      "\n",
      "Predicting DataLoader 0: 100%|██████████████████| 16/16 [00:04<00:00,  3.52it/s]"
     ]
    },
    {
     "name": "stderr",
     "output_type": "stream",
     "text": [
      "GPU available: True (mps), used: False\n",
      "TPU available: False, using: 0 TPU cores\n",
      "HPU available: False, using: 0 HPUs\n"
     ]
    },
    {
     "name": "stdout",
     "output_type": "stream",
     "text": [
      "\n",
      "[[5.3873839e-05 9.9994612e-01]\n",
      " [2.5725803e-05 9.9997425e-01]\n",
      " [4.3021308e-05 9.9995697e-01]\n",
      " ...\n",
      " [7.0884653e-06 9.9999297e-01]\n",
      " [6.5352624e-06 9.9999344e-01]\n",
      " [6.2111239e-06 9.9999380e-01]]\n",
      "Predicting DataLoader 0: 100%|██████████████████| 16/16 [00:04<00:00,  3.76it/s]"
     ]
    },
    {
     "name": "stderr",
     "output_type": "stream",
     "text": [
      "GPU available: True (mps), used: False\n",
      "TPU available: False, using: 0 TPU cores\n",
      "HPU available: False, using: 0 HPUs\n"
     ]
    },
    {
     "name": "stdout",
     "output_type": "stream",
     "text": [
      "\n",
      "6\n",
      "Predicting DataLoader 0: 100%|██████████████████| 16/16 [00:04<00:00,  3.62it/s]"
     ]
    },
    {
     "name": "stderr",
     "output_type": "stream",
     "text": [
      "GPU available: True (mps), used: False\n",
      "TPU available: False, using: 0 TPU cores\n",
      "HPU available: False, using: 0 HPUs\n"
     ]
    },
    {
     "name": "stdout",
     "output_type": "stream",
     "text": [
      "\n",
      "[[4.0431493e-03 9.9595684e-01]\n",
      " [6.4401206e-04 9.9935597e-01]\n",
      " [3.8513486e-04 9.9961483e-01]\n",
      " ...\n",
      " [4.9946811e-05 9.9995005e-01]\n",
      " [3.0614072e-05 9.9996936e-01]\n",
      " [3.4118395e-05 9.9996591e-01]]\n",
      "Predicting DataLoader 0: 100%|██████████████████| 16/16 [00:04<00:00,  3.56it/s]"
     ]
    },
    {
     "name": "stderr",
     "output_type": "stream",
     "text": [
      "GPU available: True (mps), used: False\n",
      "TPU available: False, using: 0 TPU cores\n",
      "HPU available: False, using: 0 HPUs\n"
     ]
    },
    {
     "name": "stdout",
     "output_type": "stream",
     "text": [
      "\n",
      "Predicting DataLoader 0: 100%|██████████████████| 16/16 [00:04<00:00,  3.76it/s]"
     ]
    },
    {
     "name": "stderr",
     "output_type": "stream",
     "text": [
      "GPU available: True (mps), used: False\n",
      "TPU available: False, using: 0 TPU cores\n",
      "HPU available: False, using: 0 HPUs\n"
     ]
    },
    {
     "name": "stdout",
     "output_type": "stream",
     "text": [
      "\n",
      "[[1.6095698e-01 8.3904302e-01]\n",
      " [1.3280203e-02 9.8671979e-01]\n",
      " [3.9771572e-03 9.9602282e-01]\n",
      " ...\n",
      " [1.6614051e-05 9.9998343e-01]\n",
      " [5.7046755e-06 9.9999428e-01]\n",
      " [6.6283083e-06 9.9999332e-01]]\n",
      "Predicting DataLoader 0: 100%|██████████████████| 16/16 [00:04<00:00,  3.75it/s]"
     ]
    },
    {
     "name": "stderr",
     "output_type": "stream",
     "text": [
      "GPU available: True (mps), used: False\n",
      "TPU available: False, using: 0 TPU cores\n",
      "HPU available: False, using: 0 HPUs\n"
     ]
    },
    {
     "name": "stdout",
     "output_type": "stream",
     "text": [
      "\n",
      "Predicting DataLoader 0: 100%|██████████████████| 16/16 [00:04<00:00,  3.78it/s]"
     ]
    },
    {
     "name": "stderr",
     "output_type": "stream",
     "text": [
      "GPU available: True (mps), used: False\n",
      "TPU available: False, using: 0 TPU cores\n",
      "HPU available: False, using: 0 HPUs\n"
     ]
    },
    {
     "name": "stdout",
     "output_type": "stream",
     "text": [
      "\n",
      "[[5.7796313e-04 9.9942207e-01]\n",
      " [6.2592002e-04 9.9937409e-01]\n",
      " [6.3701818e-04 9.9936301e-01]\n",
      " ...\n",
      " [1.2329166e-06 9.9999881e-01]\n",
      " [1.2658971e-06 9.9999869e-01]\n",
      " [1.2972451e-06 9.9999869e-01]]\n",
      "Predicting DataLoader 0: 100%|██████████████████| 16/16 [00:04<00:00,  3.80it/s]"
     ]
    },
    {
     "name": "stderr",
     "output_type": "stream",
     "text": [
      "GPU available: True (mps), used: False\n",
      "TPU available: False, using: 0 TPU cores\n",
      "HPU available: False, using: 0 HPUs\n"
     ]
    },
    {
     "name": "stdout",
     "output_type": "stream",
     "text": [
      "\n",
      "Predicting DataLoader 0: 100%|██████████████████| 16/16 [00:03<00:00,  4.06it/s]"
     ]
    },
    {
     "name": "stderr",
     "output_type": "stream",
     "text": [
      "GPU available: True (mps), used: False\n",
      "TPU available: False, using: 0 TPU cores\n",
      "HPU available: False, using: 0 HPUs\n"
     ]
    },
    {
     "name": "stdout",
     "output_type": "stream",
     "text": [
      "\n",
      "[[1.04708653e-02 9.89529192e-01]\n",
      " [2.93954602e-03 9.97060478e-01]\n",
      " [2.27849768e-03 9.97721493e-01]\n",
      " ...\n",
      " [3.81398604e-05 9.99961853e-01]\n",
      " [1.09710627e-05 9.99989033e-01]\n",
      " [1.40664315e-05 9.99985933e-01]]\n",
      "Predicting DataLoader 0: 100%|██████████████████| 16/16 [00:03<00:00,  4.10it/s]\n"
     ]
    },
    {
     "name": "stderr",
     "output_type": "stream",
     "text": [
      "GPU available: True (mps), used: False\n",
      "TPU available: False, using: 0 TPU cores\n",
      "HPU available: False, using: 0 HPUs\n"
     ]
    },
    {
     "name": "stdout",
     "output_type": "stream",
     "text": [
      "Predicting DataLoader 0: 100%|██████████████████| 16/16 [00:04<00:00,  3.96it/s]"
     ]
    },
    {
     "name": "stderr",
     "output_type": "stream",
     "text": [
      "GPU available: True (mps), used: False\n",
      "TPU available: False, using: 0 TPU cores\n",
      "HPU available: False, using: 0 HPUs\n"
     ]
    },
    {
     "name": "stdout",
     "output_type": "stream",
     "text": [
      "\n",
      "[[1.01320386e-01 8.98679614e-01]\n",
      " [5.71091101e-03 9.94289041e-01]\n",
      " [2.98337359e-03 9.97016668e-01]\n",
      " ...\n",
      " [2.97659590e-05 9.99970198e-01]\n",
      " [1.78313585e-05 9.99982119e-01]\n",
      " [1.76159574e-05 9.99982357e-01]]\n",
      "Predicting DataLoader 0: 100%|██████████████████| 16/16 [00:04<00:00,  3.55it/s]"
     ]
    },
    {
     "name": "stderr",
     "output_type": "stream",
     "text": [
      "GPU available: True (mps), used: False\n",
      "TPU available: False, using: 0 TPU cores\n",
      "HPU available: False, using: 0 HPUs\n"
     ]
    },
    {
     "name": "stdout",
     "output_type": "stream",
     "text": [
      "\n",
      "7\n",
      "Predicting DataLoader 0: 100%|██████████████████| 16/16 [00:04<00:00,  3.65it/s]\n",
      "[[8.6813729e-04 9.9913186e-01]\n",
      " [2.4647571e-04 9.9975353e-01]\n",
      " [9.9912321e-04 9.9900085e-01]\n",
      " ...\n",
      " [6.8400041e-06 9.9999321e-01]\n",
      " [4.6363875e-06 9.9999535e-01]\n",
      " [5.2648870e-06 9.9999475e-01]]\n"
     ]
    },
    {
     "name": "stderr",
     "output_type": "stream",
     "text": [
      "GPU available: True (mps), used: False\n",
      "TPU available: False, using: 0 TPU cores\n",
      "HPU available: False, using: 0 HPUs\n"
     ]
    },
    {
     "name": "stdout",
     "output_type": "stream",
     "text": [
      "Predicting DataLoader 0: 100%|██████████████████| 16/16 [00:04<00:00,  3.86it/s]"
     ]
    },
    {
     "name": "stderr",
     "output_type": "stream",
     "text": [
      "GPU available: True (mps), used: False\n",
      "TPU available: False, using: 0 TPU cores\n",
      "HPU available: False, using: 0 HPUs\n"
     ]
    },
    {
     "name": "stdout",
     "output_type": "stream",
     "text": [
      "\n",
      "Predicting DataLoader 0: 100%|██████████████████| 16/16 [00:04<00:00,  3.86it/s]"
     ]
    },
    {
     "name": "stderr",
     "output_type": "stream",
     "text": [
      "GPU available: True (mps), used: False\n",
      "TPU available: False, using: 0 TPU cores\n",
      "HPU available: False, using: 0 HPUs\n"
     ]
    },
    {
     "name": "stdout",
     "output_type": "stream",
     "text": [
      "\n",
      "[[2.1825412e-04 9.9978179e-01]\n",
      " [4.1838422e-05 9.9995816e-01]\n",
      " [3.2907930e-05 9.9996710e-01]\n",
      " ...\n",
      " [1.5087940e-05 9.9998486e-01]\n",
      " [2.0136875e-05 9.9997985e-01]\n",
      " [1.8948302e-05 9.9998105e-01]]\n",
      "Predicting DataLoader 0: 100%|██████████████████| 16/16 [00:04<00:00,  3.95it/s]"
     ]
    },
    {
     "name": "stderr",
     "output_type": "stream",
     "text": [
      "GPU available: True (mps), used: False\n",
      "TPU available: False, using: 0 TPU cores\n",
      "HPU available: False, using: 0 HPUs\n"
     ]
    },
    {
     "name": "stdout",
     "output_type": "stream",
     "text": [
      "\n",
      "Predicting DataLoader 0: 100%|██████████████████| 16/16 [00:04<00:00,  3.81it/s]"
     ]
    },
    {
     "name": "stderr",
     "output_type": "stream",
     "text": [
      "GPU available: True (mps), used: False\n",
      "TPU available: False, using: 0 TPU cores\n",
      "HPU available: False, using: 0 HPUs\n"
     ]
    },
    {
     "name": "stdout",
     "output_type": "stream",
     "text": [
      "\n",
      "[[1.0895877e-01 8.9104122e-01]\n",
      " [3.6783133e-02 9.6321690e-01]\n",
      " [1.8304443e-02 9.8169553e-01]\n",
      " ...\n",
      " [2.1300257e-05 9.9997866e-01]\n",
      " [8.7513690e-06 9.9999130e-01]\n",
      " [9.9878271e-06 9.9998999e-01]]\n",
      "Predicting DataLoader 0: 100%|██████████████████| 16/16 [00:03<00:00,  4.10it/s]"
     ]
    },
    {
     "name": "stderr",
     "output_type": "stream",
     "text": [
      "GPU available: True (mps), used: False\n",
      "TPU available: False, using: 0 TPU cores\n",
      "HPU available: False, using: 0 HPUs\n"
     ]
    },
    {
     "name": "stdout",
     "output_type": "stream",
     "text": [
      "\n",
      "Predicting DataLoader 0: 100%|██████████████████| 16/16 [00:03<00:00,  4.04it/s]"
     ]
    },
    {
     "name": "stderr",
     "output_type": "stream",
     "text": [
      "GPU available: True (mps), used: False\n",
      "TPU available: False, using: 0 TPU cores\n",
      "HPU available: False, using: 0 HPUs\n"
     ]
    },
    {
     "name": "stdout",
     "output_type": "stream",
     "text": [
      "\n",
      "[[3.9688488e-03 9.9603111e-01]\n",
      " [1.9122771e-03 9.9808770e-01]\n",
      " [1.0921932e-03 9.9890780e-01]\n",
      " ...\n",
      " [6.9044756e-05 9.9993098e-01]\n",
      " [1.1035553e-05 9.9998891e-01]\n",
      " [1.2194037e-05 9.9998784e-01]]\n",
      "Predicting DataLoader 0: 100%|██████████████████| 16/16 [00:04<00:00,  3.95it/s]"
     ]
    },
    {
     "name": "stderr",
     "output_type": "stream",
     "text": [
      "GPU available: True (mps), used: False\n",
      "TPU available: False, using: 0 TPU cores\n",
      "HPU available: False, using: 0 HPUs\n"
     ]
    },
    {
     "name": "stdout",
     "output_type": "stream",
     "text": [
      "\n",
      "Predicting DataLoader 0: 100%|██████████████████| 16/16 [00:03<00:00,  4.17it/s]"
     ]
    },
    {
     "name": "stderr",
     "output_type": "stream",
     "text": [
      "GPU available: True (mps), used: False\n",
      "TPU available: False, using: 0 TPU cores\n",
      "HPU available: False, using: 0 HPUs\n"
     ]
    },
    {
     "name": "stdout",
     "output_type": "stream",
     "text": [
      "\n",
      "[[1.8491597e-03 9.9815077e-01]\n",
      " [5.5366295e-04 9.9944633e-01]\n",
      " [1.8437409e-03 9.9815625e-01]\n",
      " ...\n",
      " [2.9994804e-05 9.9996996e-01]\n",
      " [9.0006124e-06 9.9999094e-01]\n",
      " [9.7910524e-06 9.9999022e-01]]\n",
      "Predicting DataLoader 0: 100%|██████████████████| 16/16 [00:03<00:00,  4.06it/s]"
     ]
    },
    {
     "name": "stderr",
     "output_type": "stream",
     "text": [
      "GPU available: True (mps), used: False\n",
      "TPU available: False, using: 0 TPU cores\n",
      "HPU available: False, using: 0 HPUs\n"
     ]
    },
    {
     "name": "stdout",
     "output_type": "stream",
     "text": [
      "\n",
      "8\n",
      "Predicting DataLoader 0: 100%|██████████████████| 16/16 [00:03<00:00,  4.06it/s]"
     ]
    },
    {
     "name": "stderr",
     "output_type": "stream",
     "text": [
      "GPU available: True (mps), used: False\n",
      "TPU available: False, using: 0 TPU cores\n",
      "HPU available: False, using: 0 HPUs\n"
     ]
    },
    {
     "name": "stdout",
     "output_type": "stream",
     "text": [
      "\n",
      "[[2.2356968e-05 9.9997759e-01]\n",
      " [6.3382795e-06 9.9999368e-01]\n",
      " [1.5802952e-05 9.9998415e-01]\n",
      " ...\n",
      " [1.0042680e-06 9.9999905e-01]\n",
      " [8.5722837e-07 9.9999917e-01]\n",
      " [8.9282196e-07 9.9999917e-01]]\n",
      "Predicting DataLoader 0: 100%|██████████████████| 16/16 [00:04<00:00,  3.64it/s]"
     ]
    },
    {
     "name": "stderr",
     "output_type": "stream",
     "text": [
      "GPU available: True (mps), used: False\n",
      "TPU available: False, using: 0 TPU cores\n",
      "HPU available: False, using: 0 HPUs\n"
     ]
    },
    {
     "name": "stdout",
     "output_type": "stream",
     "text": [
      "\n",
      "Predicting DataLoader 0: 100%|██████████████████| 16/16 [00:04<00:00,  3.58it/s]"
     ]
    },
    {
     "name": "stderr",
     "output_type": "stream",
     "text": [
      "GPU available: True (mps), used: False\n",
      "TPU available: False, using: 0 TPU cores\n",
      "HPU available: False, using: 0 HPUs\n"
     ]
    },
    {
     "name": "stdout",
     "output_type": "stream",
     "text": [
      "\n",
      "[[2.3603065e-02 9.7639698e-01]\n",
      " [2.8633170e-03 9.9713671e-01]\n",
      " [1.7316244e-03 9.9826837e-01]\n",
      " ...\n",
      " [5.8397309e-05 9.9994159e-01]\n",
      " [3.4076740e-05 9.9996591e-01]\n",
      " [3.6452246e-05 9.9996352e-01]]\n",
      "Predicting DataLoader 0: 100%|██████████████████| 16/16 [00:04<00:00,  3.63it/s]"
     ]
    },
    {
     "name": "stderr",
     "output_type": "stream",
     "text": [
      "GPU available: True (mps), used: False\n",
      "TPU available: False, using: 0 TPU cores\n",
      "HPU available: False, using: 0 HPUs\n"
     ]
    },
    {
     "name": "stdout",
     "output_type": "stream",
     "text": [
      "\n",
      "Predicting DataLoader 0: 100%|██████████████████| 16/16 [00:04<00:00,  3.79it/s]"
     ]
    },
    {
     "name": "stderr",
     "output_type": "stream",
     "text": [
      "GPU available: True (mps), used: False\n",
      "TPU available: False, using: 0 TPU cores\n",
      "HPU available: False, using: 0 HPUs\n"
     ]
    },
    {
     "name": "stdout",
     "output_type": "stream",
     "text": [
      "\n",
      "[[2.3548543e-03 9.9764508e-01]\n",
      " [2.3490256e-04 9.9976510e-01]\n",
      " [4.7030521e-04 9.9952972e-01]\n",
      " ...\n",
      " [1.5631815e-06 9.9999845e-01]\n",
      " [1.5330609e-06 9.9999845e-01]\n",
      " [1.5988326e-06 9.9999845e-01]]\n",
      "Predicting DataLoader 0: 100%|██████████████████| 16/16 [00:04<00:00,  3.51it/s]"
     ]
    },
    {
     "name": "stderr",
     "output_type": "stream",
     "text": [
      "GPU available: True (mps), used: False\n",
      "TPU available: False, using: 0 TPU cores\n",
      "HPU available: False, using: 0 HPUs\n"
     ]
    },
    {
     "name": "stdout",
     "output_type": "stream",
     "text": [
      "\n",
      "Predicting DataLoader 0: 100%|██████████████████| 16/16 [00:04<00:00,  3.58it/s]"
     ]
    },
    {
     "name": "stderr",
     "output_type": "stream",
     "text": [
      "GPU available: True (mps), used: False\n",
      "TPU available: False, using: 0 TPU cores\n",
      "HPU available: False, using: 0 HPUs\n"
     ]
    },
    {
     "name": "stdout",
     "output_type": "stream",
     "text": [
      "\n",
      "[[5.56216240e-01 4.43783760e-01]\n",
      " [2.73047894e-01 7.26952076e-01]\n",
      " [1.19228505e-01 8.80771518e-01]\n",
      " ...\n",
      " [1.87996611e-05 9.99981165e-01]\n",
      " [5.31653268e-06 9.99994636e-01]\n",
      " [6.40968437e-06 9.99993563e-01]]\n",
      "Predicting DataLoader 0: 100%|██████████████████| 16/16 [00:03<00:00,  4.02it/s]"
     ]
    },
    {
     "name": "stderr",
     "output_type": "stream",
     "text": [
      "GPU available: True (mps), used: False\n",
      "TPU available: False, using: 0 TPU cores\n",
      "HPU available: False, using: 0 HPUs\n"
     ]
    },
    {
     "name": "stdout",
     "output_type": "stream",
     "text": [
      "\n",
      "Predicting DataLoader 0: 100%|██████████████████| 16/16 [00:04<00:00,  3.84it/s]"
     ]
    },
    {
     "name": "stderr",
     "output_type": "stream",
     "text": [
      "GPU available: True (mps), used: False\n",
      "TPU available: False, using: 0 TPU cores\n",
      "HPU available: False, using: 0 HPUs\n"
     ]
    },
    {
     "name": "stdout",
     "output_type": "stream",
     "text": [
      "\n",
      "[[8.1572391e-04 9.9918431e-01]\n",
      " [2.9054284e-04 9.9970943e-01]\n",
      " [1.4039810e-03 9.9859601e-01]\n",
      " ...\n",
      " [9.2596656e-06 9.9999070e-01]\n",
      " [7.6096185e-06 9.9999237e-01]\n",
      " [7.4677828e-06 9.9999249e-01]]\n",
      "Predicting DataLoader 0: 100%|██████████████████| 16/16 [00:03<00:00,  4.15it/s]"
     ]
    },
    {
     "name": "stderr",
     "output_type": "stream",
     "text": [
      "GPU available: True (mps), used: False\n",
      "TPU available: False, using: 0 TPU cores\n",
      "HPU available: False, using: 0 HPUs\n"
     ]
    },
    {
     "name": "stdout",
     "output_type": "stream",
     "text": [
      "\n",
      "9\n",
      "Predicting DataLoader 0: 100%|██████████████████| 16/16 [00:03<00:00,  4.08it/s]"
     ]
    },
    {
     "name": "stderr",
     "output_type": "stream",
     "text": [
      "GPU available: True (mps), used: False\n",
      "TPU available: False, using: 0 TPU cores\n",
      "HPU available: False, using: 0 HPUs\n"
     ]
    },
    {
     "name": "stdout",
     "output_type": "stream",
     "text": [
      "\n",
      "[[6.9012636e-01 3.0987364e-01]\n",
      " [6.7550518e-02 9.3244946e-01]\n",
      " [1.7685968e-02 9.8231399e-01]\n",
      " ...\n",
      " [7.3487754e-05 9.9992645e-01]\n",
      " [5.1239567e-05 9.9994874e-01]\n",
      " [5.9514568e-05 9.9994051e-01]]\n",
      "Predicting DataLoader 0: 100%|██████████████████| 16/16 [00:03<00:00,  4.08it/s]"
     ]
    },
    {
     "name": "stderr",
     "output_type": "stream",
     "text": [
      "GPU available: True (mps), used: False\n",
      "TPU available: False, using: 0 TPU cores\n",
      "HPU available: False, using: 0 HPUs\n"
     ]
    },
    {
     "name": "stdout",
     "output_type": "stream",
     "text": [
      "\n",
      "Predicting DataLoader 0: 100%|██████████████████| 16/16 [00:03<00:00,  4.19it/s]"
     ]
    },
    {
     "name": "stderr",
     "output_type": "stream",
     "text": [
      "GPU available: True (mps), used: False\n",
      "TPU available: False, using: 0 TPU cores\n",
      "HPU available: False, using: 0 HPUs\n"
     ]
    },
    {
     "name": "stdout",
     "output_type": "stream",
     "text": [
      "\n",
      "[[3.8280205e-03 9.9617201e-01]\n",
      " [4.6864181e-04 9.9953139e-01]\n",
      " [7.2339694e-03 9.9276602e-01]\n",
      " ...\n",
      " [3.6543992e-05 9.9996340e-01]\n",
      " [2.6120775e-05 9.9997389e-01]\n",
      " [3.1983702e-05 9.9996805e-01]]\n",
      "Predicting DataLoader 0: 100%|██████████████████| 16/16 [00:04<00:00,  3.75it/s]"
     ]
    },
    {
     "name": "stderr",
     "output_type": "stream",
     "text": [
      "GPU available: True (mps), used: False\n",
      "TPU available: False, using: 0 TPU cores\n",
      "HPU available: False, using: 0 HPUs\n"
     ]
    },
    {
     "name": "stdout",
     "output_type": "stream",
     "text": [
      "\n",
      "Predicting DataLoader 0: 100%|██████████████████| 16/16 [00:04<00:00,  3.84it/s]"
     ]
    },
    {
     "name": "stderr",
     "output_type": "stream",
     "text": [
      "GPU available: True (mps), used: False\n",
      "TPU available: False, using: 0 TPU cores\n",
      "HPU available: False, using: 0 HPUs\n"
     ]
    },
    {
     "name": "stdout",
     "output_type": "stream",
     "text": [
      "\n",
      "[[4.1124318e-02 9.5887572e-01]\n",
      " [1.2424025e-02 9.8757601e-01]\n",
      " [1.6415324e-02 9.8358464e-01]\n",
      " ...\n",
      " [3.3737620e-06 9.9999666e-01]\n",
      " [1.4579351e-06 9.9999857e-01]\n",
      " [1.6518486e-06 9.9999833e-01]]\n",
      "Predicting DataLoader 0: 100%|██████████████████| 16/16 [00:03<00:00,  4.15it/s]"
     ]
    },
    {
     "name": "stderr",
     "output_type": "stream",
     "text": [
      "GPU available: True (mps), used: False\n",
      "TPU available: False, using: 0 TPU cores\n",
      "HPU available: False, using: 0 HPUs\n"
     ]
    },
    {
     "name": "stdout",
     "output_type": "stream",
     "text": [
      "\n",
      "Predicting DataLoader 0: 100%|██████████████████| 16/16 [00:03<00:00,  4.06it/s]\n",
      "[[1.7727443e-03 9.9822730e-01]\n",
      " [4.8836565e-04 9.9951160e-01]\n",
      " [4.7516872e-04 9.9952483e-01]\n",
      " ...\n",
      " [3.7647431e-05 9.9996233e-01]\n",
      " [2.5160383e-05 9.9997485e-01]\n",
      " [2.5693733e-05 9.9997425e-01]]\n"
     ]
    },
    {
     "name": "stderr",
     "output_type": "stream",
     "text": [
      "GPU available: True (mps), used: False\n",
      "TPU available: False, using: 0 TPU cores\n",
      "HPU available: False, using: 0 HPUs\n"
     ]
    },
    {
     "name": "stdout",
     "output_type": "stream",
     "text": [
      "Predicting DataLoader 0: 100%|██████████████████| 16/16 [00:03<00:00,  4.26it/s]\n"
     ]
    },
    {
     "name": "stderr",
     "output_type": "stream",
     "text": [
      "GPU available: True (mps), used: False\n",
      "TPU available: False, using: 0 TPU cores\n",
      "HPU available: False, using: 0 HPUs\n"
     ]
    },
    {
     "name": "stdout",
     "output_type": "stream",
     "text": [
      "Predicting DataLoader 0: 100%|██████████████████| 16/16 [00:03<00:00,  4.20it/s]"
     ]
    },
    {
     "name": "stderr",
     "output_type": "stream",
     "text": [
      "GPU available: True (mps), used: False\n",
      "TPU available: False, using: 0 TPU cores\n",
      "HPU available: False, using: 0 HPUs\n"
     ]
    },
    {
     "name": "stdout",
     "output_type": "stream",
     "text": [
      "\n",
      "[[2.0150816e-02 9.7984916e-01]\n",
      " [7.6424875e-03 9.9235743e-01]\n",
      " [3.1808398e-03 9.9681914e-01]\n",
      " ...\n",
      " [2.6726022e-05 9.9997330e-01]\n",
      " [1.2211668e-05 9.9998784e-01]\n",
      " [1.4186141e-05 9.9998581e-01]]\n",
      "Predicting DataLoader 0: 100%|██████████████████| 16/16 [00:03<00:00,  4.13it/s]\n",
      "cycles\n",
      "Accuracy:\n",
      "Accuracy_list: [0.9100790513833992, 0.9100790513833992, 0.9090909090909091, 0.9061264822134387, 0.9090909090909091, 0.9090909090909091, 0.8952569169960475, 0.9051383399209486, 0.908102766798419, 0.8843873517786561]\n",
      "Accuracy_mean: 0.9046442687747035\n",
      "Accuracy_std: 0.007945180208587015\n",
      "---\n",
      "Confusion matrix\n",
      "Confusion matrix mean: [[172.1  26.9]\n",
      " [ 69.6 743.4]]\n",
      "Confusion matrix std: [[3.3        3.3       ]\n",
      " [9.93176721 9.93176721]]\n",
      "---\n",
      "F1\n",
      "F1_list: [0.9425142135186355, 0.9432314410480349, 0.9422835633626098, 0.9400630914826499, 0.9420654911838791, 0.9420654911838791, 0.9321382842509603, 0.9392405063291139, 0.9414726242920075, 0.9250480461242793]\n",
      "F1_mean: 0.9390122752776049\n",
      "F1_std: 0.005557621627831604\n",
      "---\n",
      "Sensitivity\n",
      "Sensitivity list: [0.9175891758917589, 0.9298892988929889, 0.923739237392374, 0.9163591635916359, 0.9200492004920049, 0.9200492004920049, 0.8954489544895449, 0.9126691266912669, 0.9200492004920049, 0.8880688806888068]\n",
      "Sensitivity mean: 0.914391143911439\n",
      "Sensitivity std: 0.012216195835606536\n",
      "---\n",
      "Specificity\n",
      "Specificity list: [0.8793969849246231, 0.8291457286432161, 0.8492462311557789, 0.864321608040201, 0.864321608040201, 0.864321608040201, 0.8944723618090452, 0.8743718592964824, 0.8592964824120602, 0.8693467336683417]\n",
      "Specificity mean: 0.864824120603015\n",
      "Specificity std: 0.016582914572864316\n",
      "---\n",
      "AUC\n",
      "AUC list: [np.float64(0.8984930804081911), np.float64(0.8795175137681025), np.float64(0.8864927342740765), np.float64(0.8903403858159185), np.float64(0.8921854042661029), np.float64(0.8921854042661029), np.float64(0.894960658149295), np.float64(0.8935204929938747), np.float64(0.8896728414520327), np.float64(0.8787078071785743)]\n",
      "AUC mean: 0.8896076322572272\n",
      "AUC std: 0.00605860395289711\n"
     ]
    }
   ],
   "source": [
    "X_d = X_d_original.copy()\n",
    "arr = arr_all[1]\n",
    "first_half_arr = arr[:len(arr) // 2]\n",
    "last_half_arr = arr[len(arr) // 2:]\n",
    "print(first_half_arr)\n",
    "print(last_half_arr)\n",
    "\n",
    "X_d[:,last_half_arr,:] = 0\n",
    "print(X_d)\n",
    "path_img = './img_cm/'\n",
    "\n",
    "D_name_add = 'TDvsCPu'\n",
    "D_name = D_name_add+\"_full_5_original_weight\"\n",
    "# Net_name_list = ['ResNet','LSTM','InceptionTime']\n",
    "Net_name_list = ['LSTM']\n",
    "for Net_name in Net_name_list:\n",
    "    # for j in range(5):\n",
    "        # train_model(D_name=D_name,Net_name=Net_name)\n",
    "    out = eval_model_5_bundle(D_name,Net_name)\n",
    "    np.save( './new_train_lrR_ET_'+D_name+'_'+Net_name+'/prediction_test.npy' ,out)\n",
    "#0.65 0.35\n",
    "\n",
    "out = np.load( './new_train_lrR_ET_'+D_name_add+'_full_5_original_weight_LSTM/prediction_test.npy')\n",
    "\n",
    "save = path_img+D_name_add+\"_LSTM_original_weight\"\n",
    "print(\"cycles\")\n",
    "results_cycles = print_result_bundle_i_cycles(out,y_d,x_test,cycle_end_idx,label_list=['TD', 'CPu'],n_model=10)\n",
    "list_result_all.append(output_csv(results_cycles))"
   ]
  },
  {
   "cell_type": "markdown",
   "metadata": {},
   "source": [
    "## Evaluation of Fidelity by replace the first half to zero for LSTM"
   ]
  },
  {
   "cell_type": "code",
   "execution_count": 17,
   "metadata": {
    "scrolled": true
   },
   "outputs": [
    {
     "name": "stdout",
     "output_type": "stream",
     "text": [
      "[ 3  6  9 11 17 19 14 13 10  5  0]\n",
      "[15 16  8  2 21  1  7 12 18 20  4]\n",
      "[[[  0.           0.           0.         ...   0.           0.\n",
      "     0.        ]\n",
      "  [ -0.09395     -0.20055     -0.26530001 ...  -1.81280005  -1.99220002\n",
      "    -2.14240003]\n",
      "  [ -1.16919994  -0.93102998  -0.73694998 ...  -2.81369996  -2.54369998\n",
      "    -2.28780007]\n",
      "  ...\n",
      "  [  0.           0.           0.         ...   0.           0.\n",
      "     0.        ]\n",
      "  [ -2.87540007  -3.09050012  -3.13870001 ...  -6.00860023  -6.19229984\n",
      "    -6.19449997]\n",
      "  [ -1.2658      -0.74980998  -0.40599999 ...  -4.43109989  -4.59639978\n",
      "    -4.76749992]]\n",
      "\n",
      " [[  0.           0.           0.         ...   0.           0.\n",
      "     0.        ]\n",
      "  [ -2.14240003  -2.2730999   -2.33719993 ...   0.41102999   0.15759\n",
      "    -0.10672   ]\n",
      "  [ -2.28780007  -2.0000999   -1.73239994 ...   0.29835001   0.66356999\n",
      "     0.96999002]\n",
      "  ...\n",
      "  [  0.           0.           0.         ...   0.           0.\n",
      "     0.        ]\n",
      "  [ -6.19449997  -5.98360014  -5.56080008 ...  -0.67334002  -1.16170001\n",
      "    -1.42040002]\n",
      "  [ -4.76749992  -4.95900011  -5.13100004 ...  -9.70460033  -8.66300011\n",
      "    -7.74450016]]\n",
      "\n",
      " [[  0.           0.           0.         ...   0.           0.\n",
      "     0.        ]\n",
      "  [ -0.10672     -0.37911001  -0.63415998 ...  -0.77192003  -0.53368998\n",
      "    -0.26010999]\n",
      "  [  0.96999002   1.21790004   1.39240003 ...  -4.01039982  -3.38490009\n",
      "    -2.79150009]\n",
      "  ...\n",
      "  [  0.           0.           0.         ...   0.           0.\n",
      "     0.        ]\n",
      "  [ -1.42040002  -1.42649996  -1.1559     ...  -8.71049976  -8.20170021\n",
      "    -7.52470016]\n",
      "  [ -7.74450016  -6.95069981  -6.34880018 ... -20.10820007 -20.39389992\n",
      "   -20.59670067]]\n",
      "\n",
      " ...\n",
      "\n",
      " [[  0.           0.           0.         ...   0.           0.\n",
      "     0.        ]\n",
      "  [ -2.24236083  -1.90473559  -1.48810814 ...  -1.58531152  -1.42573044\n",
      "    -1.23178673]\n",
      "  [ -0.25563049  -0.03299539   0.10221714 ...   0.45000841   0.81062224\n",
      "     1.0625    ]\n",
      "  ...\n",
      "  [  0.           0.           0.         ...   0.           0.\n",
      "     0.        ]\n",
      "  [ -0.747958    -1.41423312  -2.03653711 ...   0.04937897  -0.35683405\n",
      "    -0.90318918]\n",
      "  [ -8.6161232   -8.1762023   -7.78185129 ... -10.18683767  -9.91475296\n",
      "    -9.76077271]]\n",
      "\n",
      " [[  0.           0.           0.         ...   0.           0.\n",
      "     0.        ]\n",
      "  [ -1.71433377  -1.36683762  -0.93525237 ...  -2.38095212  -2.21133912\n",
      "    -1.99000728]\n",
      "  [  3.44317675   3.45034415   3.40573382 ...   4.15106654   4.26863968\n",
      "     4.29744148]\n",
      "  ...\n",
      "  [  0.           0.           0.         ...   0.           0.\n",
      "     0.        ]\n",
      "  [ -1.53428268  -2.07355649  -2.47931242 ...  -0.39021882  -0.86852482\n",
      "    -1.44324255]\n",
      "  [ -7.28481627  -7.17203269  -7.02763611 ...  -8.22230179  -8.23544794\n",
      "    -8.25190353]]\n",
      "\n",
      " [[  0.           0.           0.         ...   0.           0.\n",
      "     0.        ]\n",
      "  [ -1.7625562   -1.40059227  -0.95089936 ...  -1.8705765   -1.68114087\n",
      "    -1.45049751]\n",
      "  [  4.25260067   4.11858809   3.91508925 ...   5.47567677   5.7080189\n",
      "     5.81002951]\n",
      "  ...\n",
      "  [  0.           0.           0.         ...   0.           0.\n",
      "     0.        ]\n",
      "  [ -1.95035565  -2.51186775  -2.86611046 ...  -1.64764873  -2.1852711\n",
      "    -2.83439612]\n",
      "  [ -8.25153828  -8.21928295  -8.15699265 ...  -5.7183407   -6.01631781\n",
      "    -6.36253643]]]\n",
      "0\n"
     ]
    },
    {
     "name": "stderr",
     "output_type": "stream",
     "text": [
      "GPU available: True (mps), used: False\n",
      "TPU available: False, using: 0 TPU cores\n",
      "HPU available: False, using: 0 HPUs\n",
      "/opt/anaconda3/envs/env_gait_new/lib/python3.13/site-packages/pytorch_lightning/trainer/setup.py:177: GPU available but not used. You can set it by doing `Trainer(accelerator='gpu')`.\n",
      "/opt/anaconda3/envs/env_gait_new/lib/python3.13/site-packages/pytorch_lightning/trainer/connectors/data_connector.py:425: The 'predict_dataloader' does not have many workers which may be a bottleneck. Consider increasing the value of the `num_workers` argument` to `num_workers=13` in the `DataLoader` to improve performance.\n"
     ]
    },
    {
     "name": "stdout",
     "output_type": "stream",
     "text": [
      "Predicting DataLoader 0:   6%|█▏                 | 1/16 [00:00<00:03,  3.96it/s]"
     ]
    },
    {
     "name": "stderr",
     "output_type": "stream",
     "text": [
      "/opt/anaconda3/envs/env_gait_new/lib/python3.13/site-packages/torch/nn/modules/module.py:1739: UserWarning: Implicit dimension choice for softmax has been deprecated. Change the call to include dim=X as an argument.\n",
      "  return self._call_impl(*args, **kwargs)\n"
     ]
    },
    {
     "name": "stdout",
     "output_type": "stream",
     "text": [
      "Predicting DataLoader 0: 100%|██████████████████| 16/16 [00:03<00:00,  4.06it/s]\n",
      "[[0.13429356 0.86570644]\n",
      " [0.0883727  0.91162735]\n",
      " [0.0956146  0.90438545]\n",
      " ...\n",
      " [0.18419257 0.81580746]\n",
      " [0.28992254 0.71007746]\n",
      " [0.3474043  0.65259564]]\n"
     ]
    },
    {
     "name": "stderr",
     "output_type": "stream",
     "text": [
      "GPU available: True (mps), used: False\n",
      "TPU available: False, using: 0 TPU cores\n",
      "HPU available: False, using: 0 HPUs\n"
     ]
    },
    {
     "name": "stdout",
     "output_type": "stream",
     "text": [
      "Predicting DataLoader 0: 100%|██████████████████| 16/16 [00:03<00:00,  4.12it/s]\n"
     ]
    },
    {
     "name": "stderr",
     "output_type": "stream",
     "text": [
      "GPU available: True (mps), used: False\n",
      "TPU available: False, using: 0 TPU cores\n",
      "HPU available: False, using: 0 HPUs\n"
     ]
    },
    {
     "name": "stdout",
     "output_type": "stream",
     "text": [
      "Predicting DataLoader 0: 100%|██████████████████| 16/16 [00:03<00:00,  4.48it/s]"
     ]
    },
    {
     "name": "stderr",
     "output_type": "stream",
     "text": [
      "GPU available: True (mps), used: False\n",
      "TPU available: False, using: 0 TPU cores\n",
      "HPU available: False, using: 0 HPUs\n"
     ]
    },
    {
     "name": "stdout",
     "output_type": "stream",
     "text": [
      "\n",
      "[[0.44164804 0.558352  ]\n",
      " [0.3345859  0.6654141 ]\n",
      " [0.38116276 0.61883724]\n",
      " ...\n",
      " [0.6492395  0.35076046]\n",
      " [0.7079336  0.2920664 ]\n",
      " [0.6892671  0.3107329 ]]\n",
      "Predicting DataLoader 0: 100%|██████████████████| 16/16 [00:03<00:00,  4.12it/s]"
     ]
    },
    {
     "name": "stderr",
     "output_type": "stream",
     "text": [
      "GPU available: True (mps), used: False\n",
      "TPU available: False, using: 0 TPU cores\n",
      "HPU available: False, using: 0 HPUs\n"
     ]
    },
    {
     "name": "stdout",
     "output_type": "stream",
     "text": [
      "\n",
      "Predicting DataLoader 0: 100%|██████████████████| 16/16 [00:03<00:00,  4.27it/s]"
     ]
    },
    {
     "name": "stderr",
     "output_type": "stream",
     "text": [
      "GPU available: True (mps), used: False\n",
      "TPU available: False, using: 0 TPU cores\n",
      "HPU available: False, using: 0 HPUs\n"
     ]
    },
    {
     "name": "stdout",
     "output_type": "stream",
     "text": [
      "\n",
      "[[0.5635687  0.4364313 ]\n",
      " [0.5192903  0.4807096 ]\n",
      " [0.46951306 0.530487  ]\n",
      " ...\n",
      " [0.3801008  0.6198993 ]\n",
      " [0.30320987 0.6967901 ]\n",
      " [0.2713068  0.7286932 ]]\n",
      "Predicting DataLoader 0: 100%|██████████████████| 16/16 [00:04<00:00,  3.73it/s]"
     ]
    },
    {
     "name": "stderr",
     "output_type": "stream",
     "text": [
      "GPU available: True (mps), used: False\n",
      "TPU available: False, using: 0 TPU cores\n",
      "HPU available: False, using: 0 HPUs\n"
     ]
    },
    {
     "name": "stdout",
     "output_type": "stream",
     "text": [
      "\n",
      "Predicting DataLoader 0: 100%|██████████████████| 16/16 [00:04<00:00,  3.71it/s]"
     ]
    },
    {
     "name": "stderr",
     "output_type": "stream",
     "text": [
      "GPU available: True (mps), used: False\n",
      "TPU available: False, using: 0 TPU cores\n",
      "HPU available: False, using: 0 HPUs\n"
     ]
    },
    {
     "name": "stdout",
     "output_type": "stream",
     "text": [
      "\n",
      "[[0.16478533 0.8352147 ]\n",
      " [0.21408847 0.7859115 ]\n",
      " [0.14831202 0.85168797]\n",
      " ...\n",
      " [0.535004   0.46499595]\n",
      " [0.596503   0.40349698]\n",
      " [0.57894766 0.4210523 ]]\n",
      "Predicting DataLoader 0: 100%|██████████████████| 16/16 [00:04<00:00,  3.84it/s]"
     ]
    },
    {
     "name": "stderr",
     "output_type": "stream",
     "text": [
      "GPU available: True (mps), used: False\n",
      "TPU available: False, using: 0 TPU cores\n",
      "HPU available: False, using: 0 HPUs\n"
     ]
    },
    {
     "name": "stdout",
     "output_type": "stream",
     "text": [
      "\n",
      "Predicting DataLoader 0: 100%|██████████████████| 16/16 [00:03<00:00,  4.04it/s]"
     ]
    },
    {
     "name": "stderr",
     "output_type": "stream",
     "text": [
      "GPU available: True (mps), used: False\n",
      "TPU available: False, using: 0 TPU cores\n",
      "HPU available: False, using: 0 HPUs\n"
     ]
    },
    {
     "name": "stdout",
     "output_type": "stream",
     "text": [
      "\n",
      "[[0.8830887  0.11691133]\n",
      " [0.857922   0.14207801]\n",
      " [0.7661604  0.23383954]\n",
      " ...\n",
      " [0.8206716  0.17932841]\n",
      " [0.8054023  0.19459772]\n",
      " [0.79604995 0.20395005]]\n",
      "Predicting DataLoader 0: 100%|██████████████████| 16/16 [00:04<00:00,  3.92it/s]"
     ]
    },
    {
     "name": "stderr",
     "output_type": "stream",
     "text": [
      "GPU available: True (mps), used: False\n",
      "TPU available: False, using: 0 TPU cores\n",
      "HPU available: False, using: 0 HPUs\n"
     ]
    },
    {
     "name": "stdout",
     "output_type": "stream",
     "text": [
      "\n",
      "1\n",
      "Predicting DataLoader 0: 100%|██████████████████| 16/16 [00:03<00:00,  4.09it/s]"
     ]
    },
    {
     "name": "stderr",
     "output_type": "stream",
     "text": [
      "GPU available: True (mps), used: False\n",
      "TPU available: False, using: 0 TPU cores\n",
      "HPU available: False, using: 0 HPUs\n"
     ]
    },
    {
     "name": "stdout",
     "output_type": "stream",
     "text": [
      "\n",
      "[[0.98722714 0.01277288]\n",
      " [0.9837445  0.01625549]\n",
      " [0.9739764  0.02602363]\n",
      " ...\n",
      " [0.9798126  0.02018739]\n",
      " [0.93451965 0.0654804 ]\n",
      " [0.9374423  0.06255772]]\n",
      "Predicting DataLoader 0: 100%|██████████████████| 16/16 [00:03<00:00,  4.06it/s]"
     ]
    },
    {
     "name": "stderr",
     "output_type": "stream",
     "text": [
      "GPU available: True (mps), used: False\n",
      "TPU available: False, using: 0 TPU cores\n",
      "HPU available: False, using: 0 HPUs\n"
     ]
    },
    {
     "name": "stdout",
     "output_type": "stream",
     "text": [
      "\n",
      "Predicting DataLoader 0: 100%|██████████████████| 16/16 [00:03<00:00,  4.18it/s]"
     ]
    },
    {
     "name": "stderr",
     "output_type": "stream",
     "text": [
      "GPU available: True (mps), used: False\n",
      "TPU available: False, using: 0 TPU cores\n",
      "HPU available: False, using: 0 HPUs\n"
     ]
    },
    {
     "name": "stdout",
     "output_type": "stream",
     "text": [
      "\n",
      "[[9.9952757e-01 4.7243072e-04]\n",
      " [9.9934012e-01 6.5983558e-04]\n",
      " [9.9893409e-01 1.0659300e-03]\n",
      " ...\n",
      " [9.9149936e-01 8.5005937e-03]\n",
      " [9.8013866e-01 1.9861365e-02]\n",
      " [9.8569542e-01 1.4304602e-02]]\n",
      "Predicting DataLoader 0: 100%|██████████████████| 16/16 [00:03<00:00,  4.33it/s]"
     ]
    },
    {
     "name": "stderr",
     "output_type": "stream",
     "text": [
      "GPU available: True (mps), used: False\n",
      "TPU available: False, using: 0 TPU cores\n",
      "HPU available: False, using: 0 HPUs\n"
     ]
    },
    {
     "name": "stdout",
     "output_type": "stream",
     "text": [
      "\n",
      "Predicting DataLoader 0: 100%|██████████████████| 16/16 [00:03<00:00,  4.49it/s]"
     ]
    },
    {
     "name": "stderr",
     "output_type": "stream",
     "text": [
      "GPU available: True (mps), used: False\n",
      "TPU available: False, using: 0 TPU cores\n",
      "HPU available: False, using: 0 HPUs\n"
     ]
    },
    {
     "name": "stdout",
     "output_type": "stream",
     "text": [
      "\n",
      "[[0.8657005  0.13429958]\n",
      " [0.80739933 0.19260062]\n",
      " [0.792428   0.20757195]\n",
      " ...\n",
      " [0.5489053  0.45109466]\n",
      " [0.3431237  0.6568763 ]\n",
      " [0.35040566 0.64959437]]\n",
      "Predicting DataLoader 0: 100%|██████████████████| 16/16 [00:03<00:00,  4.68it/s]\n"
     ]
    },
    {
     "name": "stderr",
     "output_type": "stream",
     "text": [
      "GPU available: True (mps), used: False\n",
      "TPU available: False, using: 0 TPU cores\n",
      "HPU available: False, using: 0 HPUs\n"
     ]
    },
    {
     "name": "stdout",
     "output_type": "stream",
     "text": [
      "Predicting DataLoader 0: 100%|██████████████████| 16/16 [00:03<00:00,  4.58it/s]"
     ]
    },
    {
     "name": "stderr",
     "output_type": "stream",
     "text": [
      "GPU available: True (mps), used: False\n",
      "TPU available: False, using: 0 TPU cores\n",
      "HPU available: False, using: 0 HPUs\n"
     ]
    },
    {
     "name": "stdout",
     "output_type": "stream",
     "text": [
      "\n",
      "[[0.15706128 0.84293866]\n",
      " [0.19923168 0.8007683 ]\n",
      " [0.16427346 0.8357265 ]\n",
      " ...\n",
      " [0.1925954  0.80740464]\n",
      " [0.0343925  0.9656075 ]\n",
      " [0.05716716 0.9428328 ]]\n",
      "Predicting DataLoader 0: 100%|██████████████████| 16/16 [00:03<00:00,  4.15it/s]"
     ]
    },
    {
     "name": "stderr",
     "output_type": "stream",
     "text": [
      "GPU available: True (mps), used: False\n",
      "TPU available: False, using: 0 TPU cores\n",
      "HPU available: False, using: 0 HPUs\n"
     ]
    },
    {
     "name": "stdout",
     "output_type": "stream",
     "text": [
      "\n",
      "Predicting DataLoader 0: 100%|██████████████████| 16/16 [00:04<00:00,  4.00it/s]\n",
      "[[0.95499974 0.04500026]\n",
      " [0.96645635 0.03354371]\n",
      " [0.9426444  0.05735557]\n",
      " ...\n",
      " [0.97011024 0.02988982]\n",
      " [0.809396   0.19060397]\n",
      " [0.77695394 0.22304605]]\n"
     ]
    },
    {
     "name": "stderr",
     "output_type": "stream",
     "text": [
      "GPU available: True (mps), used: False\n",
      "TPU available: False, using: 0 TPU cores\n",
      "HPU available: False, using: 0 HPUs\n"
     ]
    },
    {
     "name": "stdout",
     "output_type": "stream",
     "text": [
      "Predicting DataLoader 0: 100%|██████████████████| 16/16 [00:03<00:00,  4.32it/s]"
     ]
    },
    {
     "name": "stderr",
     "output_type": "stream",
     "text": [
      "GPU available: True (mps), used: False\n",
      "TPU available: False, using: 0 TPU cores\n",
      "HPU available: False, using: 0 HPUs\n"
     ]
    },
    {
     "name": "stdout",
     "output_type": "stream",
     "text": [
      "\n",
      "2\n",
      "Predicting DataLoader 0: 100%|██████████████████| 16/16 [00:03<00:00,  4.10it/s]\n",
      "[[0.96759486 0.03240519]\n",
      " [0.94496936 0.05503073]\n",
      " [0.8191464  0.18085358]\n",
      " ...\n",
      " [0.93064636 0.06935368]\n",
      " [0.90455383 0.09544621]\n",
      " [0.84426767 0.15573235]]\n"
     ]
    },
    {
     "name": "stderr",
     "output_type": "stream",
     "text": [
      "GPU available: True (mps), used: False\n",
      "TPU available: False, using: 0 TPU cores\n",
      "HPU available: False, using: 0 HPUs\n"
     ]
    },
    {
     "name": "stdout",
     "output_type": "stream",
     "text": [
      "Predicting DataLoader 0: 100%|██████████████████| 16/16 [00:03<00:00,  4.19it/s]"
     ]
    },
    {
     "name": "stderr",
     "output_type": "stream",
     "text": [
      "GPU available: True (mps), used: False\n",
      "TPU available: False, using: 0 TPU cores\n",
      "HPU available: False, using: 0 HPUs\n"
     ]
    },
    {
     "name": "stdout",
     "output_type": "stream",
     "text": [
      "\n",
      "Predicting DataLoader 0: 100%|██████████████████| 16/16 [00:03<00:00,  4.26it/s]\n",
      "[[0.9839064  0.01609353]\n",
      " [0.9807983  0.01920173]\n",
      " [0.99008393 0.009916  ]\n",
      " ...\n",
      " [0.6785225  0.32147744]\n",
      " [0.36956462 0.6304354 ]\n",
      " [0.30972126 0.6902787 ]]\n"
     ]
    },
    {
     "name": "stderr",
     "output_type": "stream",
     "text": [
      "GPU available: True (mps), used: False\n",
      "TPU available: False, using: 0 TPU cores\n",
      "HPU available: False, using: 0 HPUs\n"
     ]
    },
    {
     "name": "stdout",
     "output_type": "stream",
     "text": [
      "Predicting DataLoader 0: 100%|██████████████████| 16/16 [00:03<00:00,  4.39it/s]\n"
     ]
    },
    {
     "name": "stderr",
     "output_type": "stream",
     "text": [
      "GPU available: True (mps), used: False\n",
      "TPU available: False, using: 0 TPU cores\n",
      "HPU available: False, using: 0 HPUs\n"
     ]
    },
    {
     "name": "stdout",
     "output_type": "stream",
     "text": [
      "Predicting DataLoader 0: 100%|██████████████████| 16/16 [00:03<00:00,  4.05it/s]"
     ]
    },
    {
     "name": "stderr",
     "output_type": "stream",
     "text": [
      "GPU available: True (mps), used: False\n",
      "TPU available: False, using: 0 TPU cores\n",
      "HPU available: False, using: 0 HPUs\n"
     ]
    },
    {
     "name": "stdout",
     "output_type": "stream",
     "text": [
      "\n",
      "[[0.9624111  0.03758885]\n",
      " [0.95752275 0.04247719]\n",
      " [0.77901095 0.22098911]\n",
      " ...\n",
      " [0.96241057 0.03758941]\n",
      " [0.90338856 0.09661137]\n",
      " [0.9281103  0.07188968]]\n",
      "Predicting DataLoader 0: 100%|██████████████████| 16/16 [00:04<00:00,  3.93it/s]"
     ]
    },
    {
     "name": "stderr",
     "output_type": "stream",
     "text": [
      "GPU available: True (mps), used: False\n",
      "TPU available: False, using: 0 TPU cores\n",
      "HPU available: False, using: 0 HPUs\n"
     ]
    },
    {
     "name": "stdout",
     "output_type": "stream",
     "text": [
      "\n",
      "Predicting DataLoader 0: 100%|██████████████████| 16/16 [00:04<00:00,  3.96it/s]"
     ]
    },
    {
     "name": "stderr",
     "output_type": "stream",
     "text": [
      "GPU available: True (mps), used: False\n",
      "TPU available: False, using: 0 TPU cores\n",
      "HPU available: False, using: 0 HPUs\n"
     ]
    },
    {
     "name": "stdout",
     "output_type": "stream",
     "text": [
      "\n",
      "[[0.99267584 0.00732413]\n",
      " [0.99764806 0.0023519 ]\n",
      " [0.9450429  0.05495716]\n",
      " ...\n",
      " [0.88157505 0.11842494]\n",
      " [0.63854814 0.3614519 ]\n",
      " [0.54524237 0.4547576 ]]\n",
      "Predicting DataLoader 0: 100%|██████████████████| 16/16 [00:03<00:00,  4.23it/s]\n"
     ]
    },
    {
     "name": "stderr",
     "output_type": "stream",
     "text": [
      "GPU available: True (mps), used: False\n",
      "TPU available: False, using: 0 TPU cores\n",
      "HPU available: False, using: 0 HPUs\n"
     ]
    },
    {
     "name": "stdout",
     "output_type": "stream",
     "text": [
      "Predicting DataLoader 0: 100%|██████████████████| 16/16 [00:03<00:00,  4.34it/s]\n",
      "[[0.6428918  0.35710824]\n",
      " [0.6363326  0.3636674 ]\n",
      " [0.33783558 0.66216433]\n",
      " ...\n",
      " [0.9897848  0.01021526]\n",
      " [0.9550565  0.0449435 ]\n",
      " [0.9872972  0.01270281]]\n"
     ]
    },
    {
     "name": "stderr",
     "output_type": "stream",
     "text": [
      "GPU available: True (mps), used: False\n",
      "TPU available: False, using: 0 TPU cores\n",
      "HPU available: False, using: 0 HPUs\n"
     ]
    },
    {
     "name": "stdout",
     "output_type": "stream",
     "text": [
      "Predicting DataLoader 0: 100%|██████████████████| 16/16 [00:04<00:00,  3.90it/s]"
     ]
    },
    {
     "name": "stderr",
     "output_type": "stream",
     "text": [
      "GPU available: True (mps), used: False\n",
      "TPU available: False, using: 0 TPU cores\n",
      "HPU available: False, using: 0 HPUs\n"
     ]
    },
    {
     "name": "stdout",
     "output_type": "stream",
     "text": [
      "\n",
      "3\n",
      "Predicting DataLoader 0: 100%|██████████████████| 16/16 [00:04<00:00,  3.95it/s]"
     ]
    },
    {
     "name": "stderr",
     "output_type": "stream",
     "text": [
      "GPU available: True (mps), used: False\n",
      "TPU available: False, using: 0 TPU cores\n",
      "HPU available: False, using: 0 HPUs\n"
     ]
    },
    {
     "name": "stdout",
     "output_type": "stream",
     "text": [
      "\n",
      "[[0.99713504 0.00286492]\n",
      " [0.9924217  0.00757835]\n",
      " [0.9925713  0.00742877]\n",
      " ...\n",
      " [0.8606523  0.13934766]\n",
      " [0.6146472  0.3853528 ]\n",
      " [0.68835133 0.31164867]]\n",
      "Predicting DataLoader 0: 100%|██████████████████| 16/16 [00:04<00:00,  3.80it/s]\n"
     ]
    },
    {
     "name": "stderr",
     "output_type": "stream",
     "text": [
      "GPU available: True (mps), used: False\n",
      "TPU available: False, using: 0 TPU cores\n",
      "HPU available: False, using: 0 HPUs\n"
     ]
    },
    {
     "name": "stdout",
     "output_type": "stream",
     "text": [
      "Predicting DataLoader 0: 100%|██████████████████| 16/16 [00:04<00:00,  3.64it/s]"
     ]
    },
    {
     "name": "stderr",
     "output_type": "stream",
     "text": [
      "GPU available: True (mps), used: False\n",
      "TPU available: False, using: 0 TPU cores\n",
      "HPU available: False, using: 0 HPUs\n"
     ]
    },
    {
     "name": "stdout",
     "output_type": "stream",
     "text": [
      "\n",
      "[[0.5884534  0.41154653]\n",
      " [0.3051943  0.6948057 ]\n",
      " [0.27339467 0.72660536]\n",
      " ...\n",
      " [0.48808566 0.5119144 ]\n",
      " [0.18794681 0.81205314]\n",
      " [0.14889626 0.8511038 ]]\n",
      "Predicting DataLoader 0: 100%|██████████████████| 16/16 [00:04<00:00,  3.79it/s]\n"
     ]
    },
    {
     "name": "stderr",
     "output_type": "stream",
     "text": [
      "GPU available: True (mps), used: False\n",
      "TPU available: False, using: 0 TPU cores\n",
      "HPU available: False, using: 0 HPUs\n"
     ]
    },
    {
     "name": "stdout",
     "output_type": "stream",
     "text": [
      "Predicting DataLoader 0: 100%|██████████████████| 16/16 [00:04<00:00,  3.85it/s]"
     ]
    },
    {
     "name": "stderr",
     "output_type": "stream",
     "text": [
      "GPU available: True (mps), used: False\n",
      "TPU available: False, using: 0 TPU cores\n",
      "HPU available: False, using: 0 HPUs\n"
     ]
    },
    {
     "name": "stdout",
     "output_type": "stream",
     "text": [
      "\n",
      "[[0.5073744  0.49262556]\n",
      " [0.43273002 0.56727   ]\n",
      " [0.47008875 0.5299112 ]\n",
      " ...\n",
      " [0.01808264 0.9819173 ]\n",
      " [0.00324415 0.9967559 ]\n",
      " [0.0058967  0.9941034 ]]\n",
      "Predicting DataLoader 0: 100%|██████████████████| 16/16 [00:03<00:00,  4.10it/s]\n"
     ]
    },
    {
     "name": "stderr",
     "output_type": "stream",
     "text": [
      "GPU available: True (mps), used: False\n",
      "TPU available: False, using: 0 TPU cores\n",
      "HPU available: False, using: 0 HPUs\n"
     ]
    },
    {
     "name": "stdout",
     "output_type": "stream",
     "text": [
      "Predicting DataLoader 0: 100%|██████████████████| 16/16 [00:03<00:00,  4.20it/s]"
     ]
    },
    {
     "name": "stderr",
     "output_type": "stream",
     "text": [
      "GPU available: True (mps), used: False\n",
      "TPU available: False, using: 0 TPU cores\n",
      "HPU available: False, using: 0 HPUs\n"
     ]
    },
    {
     "name": "stdout",
     "output_type": "stream",
     "text": [
      "\n",
      "[[0.18372677 0.8162732 ]\n",
      " [0.60341704 0.39658305]\n",
      " [0.15842392 0.84157604]\n",
      " ...\n",
      " [0.73357373 0.2664262 ]\n",
      " [0.06452082 0.93547916]\n",
      " [0.20420948 0.79579055]]\n",
      "Predicting DataLoader 0: 100%|██████████████████| 16/16 [00:03<00:00,  4.08it/s]"
     ]
    },
    {
     "name": "stderr",
     "output_type": "stream",
     "text": [
      "GPU available: True (mps), used: False\n",
      "TPU available: False, using: 0 TPU cores\n",
      "HPU available: False, using: 0 HPUs\n"
     ]
    },
    {
     "name": "stdout",
     "output_type": "stream",
     "text": [
      "\n",
      "Predicting DataLoader 0: 100%|██████████████████| 16/16 [00:03<00:00,  4.09it/s]"
     ]
    },
    {
     "name": "stderr",
     "output_type": "stream",
     "text": [
      "GPU available: True (mps), used: False\n",
      "TPU available: False, using: 0 TPU cores\n",
      "HPU available: False, using: 0 HPUs\n"
     ]
    },
    {
     "name": "stdout",
     "output_type": "stream",
     "text": [
      "\n",
      "[[0.9278048  0.07219514]\n",
      " [0.92635125 0.07364872]\n",
      " [0.92097753 0.07902248]\n",
      " ...\n",
      " [0.8305143  0.16948575]\n",
      " [0.5296718  0.47032824]\n",
      " [0.8596039  0.14039612]]\n",
      "Predicting DataLoader 0: 100%|██████████████████| 16/16 [00:03<00:00,  4.12it/s]"
     ]
    },
    {
     "name": "stderr",
     "output_type": "stream",
     "text": [
      "GPU available: True (mps), used: False\n",
      "TPU available: False, using: 0 TPU cores\n",
      "HPU available: False, using: 0 HPUs\n"
     ]
    },
    {
     "name": "stdout",
     "output_type": "stream",
     "text": [
      "\n",
      "4\n",
      "Predicting DataLoader 0: 100%|██████████████████| 16/16 [00:03<00:00,  4.36it/s]\n",
      "[[0.17625624 0.82374376]\n",
      " [0.1522572  0.8477428 ]\n",
      " [0.20856117 0.7914388 ]\n",
      " ...\n",
      " [0.93040377 0.06959617]\n",
      " [0.8090939  0.19090609]\n",
      " [0.87382644 0.12617354]]\n"
     ]
    },
    {
     "name": "stderr",
     "output_type": "stream",
     "text": [
      "GPU available: True (mps), used: False\n",
      "TPU available: False, using: 0 TPU cores\n",
      "HPU available: False, using: 0 HPUs\n"
     ]
    },
    {
     "name": "stdout",
     "output_type": "stream",
     "text": [
      "Predicting DataLoader 0: 100%|██████████████████| 16/16 [00:03<00:00,  4.16it/s]\n"
     ]
    },
    {
     "name": "stderr",
     "output_type": "stream",
     "text": [
      "GPU available: True (mps), used: False\n",
      "TPU available: False, using: 0 TPU cores\n",
      "HPU available: False, using: 0 HPUs\n"
     ]
    },
    {
     "name": "stdout",
     "output_type": "stream",
     "text": [
      "Predicting DataLoader 0: 100%|██████████████████| 16/16 [00:03<00:00,  4.01it/s]\n",
      "[[0.9939176  0.00608238]\n",
      " [0.99767405 0.00232594]\n",
      " [0.99705976 0.00294025]\n",
      " ...\n",
      " [0.9828315  0.01716856]\n",
      " [0.8790318  0.12096825]\n",
      " [0.9405679  0.05943209]]\n"
     ]
    },
    {
     "name": "stderr",
     "output_type": "stream",
     "text": [
      "GPU available: True (mps), used: False\n",
      "TPU available: False, using: 0 TPU cores\n",
      "HPU available: False, using: 0 HPUs\n"
     ]
    },
    {
     "name": "stdout",
     "output_type": "stream",
     "text": [
      "Predicting DataLoader 0: 100%|██████████████████| 16/16 [00:03<00:00,  4.23it/s]\n"
     ]
    },
    {
     "name": "stderr",
     "output_type": "stream",
     "text": [
      "GPU available: True (mps), used: False\n",
      "TPU available: False, using: 0 TPU cores\n",
      "HPU available: False, using: 0 HPUs\n"
     ]
    },
    {
     "name": "stdout",
     "output_type": "stream",
     "text": [
      "Predicting DataLoader 0: 100%|██████████████████| 16/16 [00:03<00:00,  4.44it/s]\n",
      "[[0.745175   0.254825  ]\n",
      " [0.6872079  0.3127921 ]\n",
      " [0.09148054 0.90851945]\n",
      " ...\n",
      " [0.966475   0.03352499]\n",
      " [0.93856376 0.06143619]\n",
      " [0.83289    0.16711   ]]\n"
     ]
    },
    {
     "name": "stderr",
     "output_type": "stream",
     "text": [
      "GPU available: True (mps), used: False\n",
      "TPU available: False, using: 0 TPU cores\n",
      "HPU available: False, using: 0 HPUs\n"
     ]
    },
    {
     "name": "stdout",
     "output_type": "stream",
     "text": [
      "Predicting DataLoader 0: 100%|██████████████████| 16/16 [00:03<00:00,  4.50it/s]\n"
     ]
    },
    {
     "name": "stderr",
     "output_type": "stream",
     "text": [
      "GPU available: True (mps), used: False\n",
      "TPU available: False, using: 0 TPU cores\n",
      "HPU available: False, using: 0 HPUs\n"
     ]
    },
    {
     "name": "stdout",
     "output_type": "stream",
     "text": [
      "Predicting DataLoader 0: 100%|██████████████████| 16/16 [00:03<00:00,  4.40it/s]\n",
      "[[0.72416234 0.2758377 ]\n",
      " [0.7895198  0.21048029]\n",
      " [0.70865494 0.29134506]\n",
      " ...\n",
      " [0.12414581 0.8758542 ]\n",
      " [0.00723197 0.99276805]\n",
      " [0.01613075 0.98386925]]\n"
     ]
    },
    {
     "name": "stderr",
     "output_type": "stream",
     "text": [
      "GPU available: True (mps), used: False\n",
      "TPU available: False, using: 0 TPU cores\n",
      "HPU available: False, using: 0 HPUs\n"
     ]
    },
    {
     "name": "stdout",
     "output_type": "stream",
     "text": [
      "Predicting DataLoader 0: 100%|██████████████████| 16/16 [00:03<00:00,  4.46it/s]"
     ]
    },
    {
     "name": "stderr",
     "output_type": "stream",
     "text": [
      "GPU available: True (mps), used: False\n",
      "TPU available: False, using: 0 TPU cores\n",
      "HPU available: False, using: 0 HPUs\n"
     ]
    },
    {
     "name": "stdout",
     "output_type": "stream",
     "text": [
      "\n",
      "Predicting DataLoader 0: 100%|██████████████████| 16/16 [00:03<00:00,  4.61it/s]"
     ]
    },
    {
     "name": "stderr",
     "output_type": "stream",
     "text": [
      "GPU available: True (mps), used: False\n",
      "TPU available: False, using: 0 TPU cores\n",
      "HPU available: False, using: 0 HPUs\n"
     ]
    },
    {
     "name": "stdout",
     "output_type": "stream",
     "text": [
      "\n",
      "[[0.98231065 0.01768928]\n",
      " [0.9711592  0.0288408 ]\n",
      " [0.9328091  0.06719089]\n",
      " ...\n",
      " [0.9092974  0.09070252]\n",
      " [0.8842964  0.11570363]\n",
      " [0.88155067 0.11844934]]\n",
      "Predicting DataLoader 0: 100%|██████████████████| 16/16 [00:03<00:00,  4.44it/s]\n",
      "5\n"
     ]
    },
    {
     "name": "stderr",
     "output_type": "stream",
     "text": [
      "GPU available: True (mps), used: False\n",
      "TPU available: False, using: 0 TPU cores\n",
      "HPU available: False, using: 0 HPUs\n"
     ]
    },
    {
     "name": "stdout",
     "output_type": "stream",
     "text": [
      "Predicting DataLoader 0: 100%|██████████████████| 16/16 [00:03<00:00,  4.62it/s]"
     ]
    },
    {
     "name": "stderr",
     "output_type": "stream",
     "text": [
      "GPU available: True (mps), used: False\n",
      "TPU available: False, using: 0 TPU cores\n",
      "HPU available: False, using: 0 HPUs\n"
     ]
    },
    {
     "name": "stdout",
     "output_type": "stream",
     "text": [
      "\n",
      "[[0.9897704  0.01022964]\n",
      " [0.9920976  0.00790234]\n",
      " [0.9024349  0.09756508]\n",
      " ...\n",
      " [0.15626177 0.8437382 ]\n",
      " [0.10056771 0.89943224]\n",
      " [0.16126326 0.8387368 ]]\n",
      "Predicting DataLoader 0: 100%|██████████████████| 16/16 [00:03<00:00,  4.34it/s]\n"
     ]
    },
    {
     "name": "stderr",
     "output_type": "stream",
     "text": [
      "GPU available: True (mps), used: False\n",
      "TPU available: False, using: 0 TPU cores\n",
      "HPU available: False, using: 0 HPUs\n"
     ]
    },
    {
     "name": "stdout",
     "output_type": "stream",
     "text": [
      "Predicting DataLoader 0: 100%|██████████████████| 16/16 [00:03<00:00,  4.22it/s]\n",
      "[[0.92869496 0.0713051 ]\n",
      " [0.9069981  0.09300188]\n",
      " [0.9113497  0.08865029]\n",
      " ...\n",
      " [0.06035563 0.93964446]\n",
      " [0.00939744 0.9906026 ]\n",
      " [0.00961213 0.99038786]]\n"
     ]
    },
    {
     "name": "stderr",
     "output_type": "stream",
     "text": [
      "GPU available: True (mps), used: False\n",
      "TPU available: False, using: 0 TPU cores\n",
      "HPU available: False, using: 0 HPUs\n"
     ]
    },
    {
     "name": "stdout",
     "output_type": "stream",
     "text": [
      "Predicting DataLoader 0: 100%|██████████████████| 16/16 [00:03<00:00,  4.10it/s]"
     ]
    },
    {
     "name": "stderr",
     "output_type": "stream",
     "text": [
      "GPU available: True (mps), used: False\n",
      "TPU available: False, using: 0 TPU cores\n",
      "HPU available: False, using: 0 HPUs\n"
     ]
    },
    {
     "name": "stdout",
     "output_type": "stream",
     "text": [
      "\n",
      "Predicting DataLoader 0: 100%|██████████████████| 16/16 [00:03<00:00,  4.25it/s]"
     ]
    },
    {
     "name": "stderr",
     "output_type": "stream",
     "text": [
      "GPU available: True (mps), used: False\n",
      "TPU available: False, using: 0 TPU cores\n",
      "HPU available: False, using: 0 HPUs\n"
     ]
    },
    {
     "name": "stdout",
     "output_type": "stream",
     "text": [
      "\n",
      "[[0.9871209  0.01287907]\n",
      " [0.9776012  0.02239879]\n",
      " [0.872567   0.127433  ]\n",
      " ...\n",
      " [0.28680605 0.71319395]\n",
      " [0.01348891 0.9865111 ]\n",
      " [0.01626818 0.98373187]]\n",
      "Predicting DataLoader 0: 100%|██████████████████| 16/16 [00:03<00:00,  4.23it/s]\n"
     ]
    },
    {
     "name": "stderr",
     "output_type": "stream",
     "text": [
      "GPU available: True (mps), used: False\n",
      "TPU available: False, using: 0 TPU cores\n",
      "HPU available: False, using: 0 HPUs\n"
     ]
    },
    {
     "name": "stdout",
     "output_type": "stream",
     "text": [
      "Predicting DataLoader 0: 100%|██████████████████| 16/16 [00:03<00:00,  4.10it/s]"
     ]
    },
    {
     "name": "stderr",
     "output_type": "stream",
     "text": [
      "GPU available: True (mps), used: False\n",
      "TPU available: False, using: 0 TPU cores\n",
      "HPU available: False, using: 0 HPUs\n"
     ]
    },
    {
     "name": "stdout",
     "output_type": "stream",
     "text": [
      "\n",
      "[[0.4637672  0.53623277]\n",
      " [0.30435362 0.6956464 ]\n",
      " [0.54241896 0.45758104]\n",
      " ...\n",
      " [0.6583482  0.34165183]\n",
      " [0.67506295 0.32493696]\n",
      " [0.58979774 0.4102023 ]]\n",
      "Predicting DataLoader 0: 100%|██████████████████| 16/16 [00:03<00:00,  4.26it/s]\n"
     ]
    },
    {
     "name": "stderr",
     "output_type": "stream",
     "text": [
      "GPU available: True (mps), used: False\n",
      "TPU available: False, using: 0 TPU cores\n",
      "HPU available: False, using: 0 HPUs\n"
     ]
    },
    {
     "name": "stdout",
     "output_type": "stream",
     "text": [
      "Predicting DataLoader 0: 100%|██████████████████| 16/16 [00:03<00:00,  4.24it/s]\n",
      "[[0.92826766 0.07173242]\n",
      " [0.9585146  0.04148544]\n",
      " [0.66507167 0.33492833]\n",
      " ...\n",
      " [0.52413803 0.47586197]\n",
      " [0.20966077 0.7903393 ]\n",
      " [0.22136986 0.7786301 ]]\n"
     ]
    },
    {
     "name": "stderr",
     "output_type": "stream",
     "text": [
      "GPU available: True (mps), used: False\n",
      "TPU available: False, using: 0 TPU cores\n",
      "HPU available: False, using: 0 HPUs\n"
     ]
    },
    {
     "name": "stdout",
     "output_type": "stream",
     "text": [
      "Predicting DataLoader 0: 100%|██████████████████| 16/16 [00:03<00:00,  4.30it/s]\n",
      "6\n"
     ]
    },
    {
     "name": "stderr",
     "output_type": "stream",
     "text": [
      "GPU available: True (mps), used: False\n",
      "TPU available: False, using: 0 TPU cores\n",
      "HPU available: False, using: 0 HPUs\n"
     ]
    },
    {
     "name": "stdout",
     "output_type": "stream",
     "text": [
      "Predicting DataLoader 0: 100%|██████████████████| 16/16 [00:03<00:00,  4.20it/s]"
     ]
    },
    {
     "name": "stderr",
     "output_type": "stream",
     "text": [
      "GPU available: True (mps), used: False\n",
      "TPU available: False, using: 0 TPU cores\n",
      "HPU available: False, using: 0 HPUs\n"
     ]
    },
    {
     "name": "stdout",
     "output_type": "stream",
     "text": [
      "\n",
      "[[0.12396348 0.8760365 ]\n",
      " [0.13128994 0.86871004]\n",
      " [0.09093985 0.9090602 ]\n",
      " ...\n",
      " [0.00289064 0.99710935]\n",
      " [0.00123769 0.99876237]\n",
      " [0.00171193 0.9982881 ]]\n",
      "Predicting DataLoader 0: 100%|██████████████████| 16/16 [00:03<00:00,  4.34it/s]"
     ]
    },
    {
     "name": "stderr",
     "output_type": "stream",
     "text": [
      "GPU available: True (mps), used: False\n",
      "TPU available: False, using: 0 TPU cores\n",
      "HPU available: False, using: 0 HPUs\n"
     ]
    },
    {
     "name": "stdout",
     "output_type": "stream",
     "text": [
      "\n",
      "Predicting DataLoader 0: 100%|██████████████████| 16/16 [00:03<00:00,  4.24it/s]"
     ]
    },
    {
     "name": "stderr",
     "output_type": "stream",
     "text": [
      "GPU available: True (mps), used: False\n",
      "TPU available: False, using: 0 TPU cores\n",
      "HPU available: False, using: 0 HPUs\n"
     ]
    },
    {
     "name": "stdout",
     "output_type": "stream",
     "text": [
      "\n",
      "[[0.5637001  0.43629992]\n",
      " [0.52679163 0.4732084 ]\n",
      " [0.3953295  0.60467046]\n",
      " ...\n",
      " [0.05132911 0.94867086]\n",
      " [0.0258995  0.97410053]\n",
      " [0.0170383  0.9829617 ]]\n",
      "Predicting DataLoader 0: 100%|██████████████████| 16/16 [00:03<00:00,  4.27it/s]"
     ]
    },
    {
     "name": "stderr",
     "output_type": "stream",
     "text": [
      "GPU available: True (mps), used: False\n",
      "TPU available: False, using: 0 TPU cores\n",
      "HPU available: False, using: 0 HPUs\n"
     ]
    },
    {
     "name": "stdout",
     "output_type": "stream",
     "text": [
      "\n",
      "Predicting DataLoader 0: 100%|██████████████████| 16/16 [00:03<00:00,  4.32it/s]"
     ]
    },
    {
     "name": "stderr",
     "output_type": "stream",
     "text": [
      "GPU available: True (mps), used: False\n",
      "TPU available: False, using: 0 TPU cores\n",
      "HPU available: False, using: 0 HPUs\n"
     ]
    },
    {
     "name": "stdout",
     "output_type": "stream",
     "text": [
      "\n",
      "[[0.25047567 0.7495243 ]\n",
      " [0.75210834 0.24789163]\n",
      " [0.97662646 0.02337357]\n",
      " ...\n",
      " [0.87464416 0.12535582]\n",
      " [0.292061   0.707939  ]\n",
      " [0.65357953 0.3464205 ]]\n",
      "Predicting DataLoader 0: 100%|██████████████████| 16/16 [00:03<00:00,  4.04it/s]"
     ]
    },
    {
     "name": "stderr",
     "output_type": "stream",
     "text": [
      "GPU available: True (mps), used: False\n",
      "TPU available: False, using: 0 TPU cores\n",
      "HPU available: False, using: 0 HPUs\n"
     ]
    },
    {
     "name": "stdout",
     "output_type": "stream",
     "text": [
      "\n",
      "Predicting DataLoader 0: 100%|██████████████████| 16/16 [00:03<00:00,  4.40it/s]\n",
      "[[0.85126865 0.14873134]\n",
      " [0.60352    0.39648   ]\n",
      " [0.45835984 0.5416401 ]\n",
      " ...\n",
      " [0.5001069  0.49989304]\n",
      " [0.29588696 0.704113  ]\n",
      " [0.2694494  0.7305505 ]]\n"
     ]
    },
    {
     "name": "stderr",
     "output_type": "stream",
     "text": [
      "GPU available: True (mps), used: False\n",
      "TPU available: False, using: 0 TPU cores\n",
      "HPU available: False, using: 0 HPUs\n"
     ]
    },
    {
     "name": "stdout",
     "output_type": "stream",
     "text": [
      "Predicting DataLoader 0: 100%|██████████████████| 16/16 [00:03<00:00,  4.13it/s]\n"
     ]
    },
    {
     "name": "stderr",
     "output_type": "stream",
     "text": [
      "GPU available: True (mps), used: False\n",
      "TPU available: False, using: 0 TPU cores\n",
      "HPU available: False, using: 0 HPUs\n"
     ]
    },
    {
     "name": "stdout",
     "output_type": "stream",
     "text": [
      "Predicting DataLoader 0: 100%|██████████████████| 16/16 [00:03<00:00,  4.23it/s]"
     ]
    },
    {
     "name": "stderr",
     "output_type": "stream",
     "text": [
      "GPU available: True (mps), used: False\n",
      "TPU available: False, using: 0 TPU cores\n",
      "HPU available: False, using: 0 HPUs\n"
     ]
    },
    {
     "name": "stdout",
     "output_type": "stream",
     "text": [
      "\n",
      "[[0.9702219  0.02977809]\n",
      " [0.97369    0.02631   ]\n",
      " [0.8160469  0.18395305]\n",
      " ...\n",
      " [0.5481008  0.4518991 ]\n",
      " [0.21252286 0.78747714]\n",
      " [0.13295867 0.86704135]]\n",
      "Predicting DataLoader 0: 100%|██████████████████| 16/16 [00:03<00:00,  4.59it/s]\n",
      "7\n"
     ]
    },
    {
     "name": "stderr",
     "output_type": "stream",
     "text": [
      "GPU available: True (mps), used: False\n",
      "TPU available: False, using: 0 TPU cores\n",
      "HPU available: False, using: 0 HPUs\n"
     ]
    },
    {
     "name": "stdout",
     "output_type": "stream",
     "text": [
      "Predicting DataLoader 0: 100%|██████████████████| 16/16 [00:03<00:00,  4.46it/s]\n",
      "[[0.95191777 0.04808218]\n",
      " [0.9286348  0.07136521]\n",
      " [0.81664973 0.18335031]\n",
      " ...\n",
      " [0.928446   0.07155397]\n",
      " [0.95848525 0.04151483]\n",
      " [0.97334576 0.02665424]]\n"
     ]
    },
    {
     "name": "stderr",
     "output_type": "stream",
     "text": [
      "GPU available: True (mps), used: False\n",
      "TPU available: False, using: 0 TPU cores\n",
      "HPU available: False, using: 0 HPUs\n"
     ]
    },
    {
     "name": "stdout",
     "output_type": "stream",
     "text": [
      "Predicting DataLoader 0: 100%|██████████████████| 16/16 [00:03<00:00,  4.57it/s]"
     ]
    },
    {
     "name": "stderr",
     "output_type": "stream",
     "text": [
      "GPU available: True (mps), used: False\n",
      "TPU available: False, using: 0 TPU cores\n",
      "HPU available: False, using: 0 HPUs\n"
     ]
    },
    {
     "name": "stdout",
     "output_type": "stream",
     "text": [
      "\n",
      "Predicting DataLoader 0: 100%|██████████████████| 16/16 [00:03<00:00,  4.50it/s]\n",
      "[[0.95097077 0.04902926]\n",
      " [0.95032716 0.04967291]\n",
      " [0.66107726 0.3389227 ]\n",
      " ...\n",
      " [0.88797414 0.11202592]\n",
      " [0.81899047 0.18100959]\n",
      " [0.813262   0.18673798]]\n"
     ]
    },
    {
     "name": "stderr",
     "output_type": "stream",
     "text": [
      "GPU available: True (mps), used: False\n",
      "TPU available: False, using: 0 TPU cores\n",
      "HPU available: False, using: 0 HPUs\n"
     ]
    },
    {
     "name": "stdout",
     "output_type": "stream",
     "text": [
      "Predicting DataLoader 0: 100%|██████████████████| 16/16 [00:03<00:00,  4.44it/s]\n"
     ]
    },
    {
     "name": "stderr",
     "output_type": "stream",
     "text": [
      "GPU available: True (mps), used: False\n",
      "TPU available: False, using: 0 TPU cores\n",
      "HPU available: False, using: 0 HPUs\n"
     ]
    },
    {
     "name": "stdout",
     "output_type": "stream",
     "text": [
      "Predicting DataLoader 0: 100%|██████████████████| 16/16 [00:03<00:00,  4.73it/s]\n",
      "[[7.1404963e-03 9.9285948e-01]\n",
      " [3.1794612e-03 9.9682057e-01]\n",
      " [4.6951598e-03 9.9530482e-01]\n",
      " ...\n",
      " [9.2324830e-04 9.9907672e-01]\n",
      " [8.6796860e-04 9.9913210e-01]\n",
      " [1.3796969e-03 9.9862027e-01]]\n"
     ]
    },
    {
     "name": "stderr",
     "output_type": "stream",
     "text": [
      "GPU available: True (mps), used: False\n",
      "TPU available: False, using: 0 TPU cores\n",
      "HPU available: False, using: 0 HPUs\n"
     ]
    },
    {
     "name": "stdout",
     "output_type": "stream",
     "text": [
      "Predicting DataLoader 0: 100%|██████████████████| 16/16 [00:03<00:00,  4.23it/s]"
     ]
    },
    {
     "name": "stderr",
     "output_type": "stream",
     "text": [
      "GPU available: True (mps), used: False\n",
      "TPU available: False, using: 0 TPU cores\n",
      "HPU available: False, using: 0 HPUs\n"
     ]
    },
    {
     "name": "stdout",
     "output_type": "stream",
     "text": [
      "\n",
      "Predicting DataLoader 0: 100%|██████████████████| 16/16 [00:03<00:00,  4.39it/s]"
     ]
    },
    {
     "name": "stderr",
     "output_type": "stream",
     "text": [
      "GPU available: True (mps), used: False\n",
      "TPU available: False, using: 0 TPU cores\n",
      "HPU available: False, using: 0 HPUs\n"
     ]
    },
    {
     "name": "stdout",
     "output_type": "stream",
     "text": [
      "\n",
      "[[0.7514024  0.24859762]\n",
      " [0.790561   0.20943895]\n",
      " [0.45299834 0.54700166]\n",
      " ...\n",
      " [0.05097057 0.94902945]\n",
      " [0.00300056 0.9969995 ]\n",
      " [0.00371496 0.99628496]]\n",
      "Predicting DataLoader 0: 100%|██████████████████| 16/16 [00:04<00:00,  3.87it/s]"
     ]
    },
    {
     "name": "stderr",
     "output_type": "stream",
     "text": [
      "GPU available: True (mps), used: False\n",
      "TPU available: False, using: 0 TPU cores\n",
      "HPU available: False, using: 0 HPUs\n"
     ]
    },
    {
     "name": "stdout",
     "output_type": "stream",
     "text": [
      "\n",
      "Predicting DataLoader 0: 100%|██████████████████| 16/16 [00:03<00:00,  4.32it/s]"
     ]
    },
    {
     "name": "stderr",
     "output_type": "stream",
     "text": [
      "GPU available: True (mps), used: False\n",
      "TPU available: False, using: 0 TPU cores\n",
      "HPU available: False, using: 0 HPUs\n"
     ]
    },
    {
     "name": "stdout",
     "output_type": "stream",
     "text": [
      "\n",
      "[[0.86385775 0.13614227]\n",
      " [0.8951898  0.10481016]\n",
      " [0.44508064 0.55491936]\n",
      " ...\n",
      " [0.85349107 0.14650892]\n",
      " [0.4384546  0.56154543]\n",
      " [0.4225749  0.57742506]]\n",
      "Predicting DataLoader 0: 100%|██████████████████| 16/16 [00:04<00:00,  3.98it/s]"
     ]
    },
    {
     "name": "stderr",
     "output_type": "stream",
     "text": [
      "GPU available: True (mps), used: False\n",
      "TPU available: False, using: 0 TPU cores\n",
      "HPU available: False, using: 0 HPUs\n"
     ]
    },
    {
     "name": "stdout",
     "output_type": "stream",
     "text": [
      "\n",
      "8\n",
      "Predicting DataLoader 0: 100%|██████████████████| 16/16 [00:03<00:00,  4.27it/s]"
     ]
    },
    {
     "name": "stderr",
     "output_type": "stream",
     "text": [
      "GPU available: True (mps), used: False\n",
      "TPU available: False, using: 0 TPU cores\n",
      "HPU available: False, using: 0 HPUs\n"
     ]
    },
    {
     "name": "stdout",
     "output_type": "stream",
     "text": [
      "\n",
      "[[0.67069066 0.32930928]\n",
      " [0.73780054 0.26219943]\n",
      " [0.5029793  0.4970207 ]\n",
      " ...\n",
      " [0.08089916 0.9191009 ]\n",
      " [0.25723907 0.7427609 ]\n",
      " [0.11513576 0.88486415]]\n",
      "Predicting DataLoader 0: 100%|██████████████████| 16/16 [00:03<00:00,  4.23it/s]"
     ]
    },
    {
     "name": "stderr",
     "output_type": "stream",
     "text": [
      "GPU available: True (mps), used: False\n",
      "TPU available: False, using: 0 TPU cores\n",
      "HPU available: False, using: 0 HPUs\n"
     ]
    },
    {
     "name": "stdout",
     "output_type": "stream",
     "text": [
      "\n",
      "Predicting DataLoader 0: 100%|██████████████████| 16/16 [00:03<00:00,  4.34it/s]\n",
      "[[9.9988937e-01 1.1061951e-04]\n",
      " [9.9995983e-01 4.0136041e-05]\n",
      " [9.9987710e-01 1.2284372e-04]\n",
      " ...\n",
      " [9.9427396e-01 5.7259831e-03]\n",
      " [9.7024137e-01 2.9758677e-02]\n",
      " [9.6308398e-01 3.6915958e-02]]\n"
     ]
    },
    {
     "name": "stderr",
     "output_type": "stream",
     "text": [
      "GPU available: True (mps), used: False\n",
      "TPU available: False, using: 0 TPU cores\n",
      "HPU available: False, using: 0 HPUs\n"
     ]
    },
    {
     "name": "stdout",
     "output_type": "stream",
     "text": [
      "Predicting DataLoader 0: 100%|██████████████████| 16/16 [00:03<00:00,  4.17it/s]\n"
     ]
    },
    {
     "name": "stderr",
     "output_type": "stream",
     "text": [
      "GPU available: True (mps), used: False\n",
      "TPU available: False, using: 0 TPU cores\n",
      "HPU available: False, using: 0 HPUs\n"
     ]
    },
    {
     "name": "stdout",
     "output_type": "stream",
     "text": [
      "Predicting DataLoader 0: 100%|██████████████████| 16/16 [00:03<00:00,  4.50it/s]"
     ]
    },
    {
     "name": "stderr",
     "output_type": "stream",
     "text": [
      "GPU available: True (mps), used: False\n",
      "TPU available: False, using: 0 TPU cores\n",
      "HPU available: False, using: 0 HPUs\n"
     ]
    },
    {
     "name": "stdout",
     "output_type": "stream",
     "text": [
      "\n",
      "[[0.94078064 0.05921936]\n",
      " [0.9910452  0.00895485]\n",
      " [0.34811953 0.6518805 ]\n",
      " ...\n",
      " [0.65310097 0.34689903]\n",
      " [0.8753021  0.1246979 ]\n",
      " [0.7801279  0.21987218]]\n",
      "Predicting DataLoader 0: 100%|██████████████████| 16/16 [00:03<00:00,  4.09it/s]\n"
     ]
    },
    {
     "name": "stderr",
     "output_type": "stream",
     "text": [
      "GPU available: True (mps), used: False\n",
      "TPU available: False, using: 0 TPU cores\n",
      "HPU available: False, using: 0 HPUs\n"
     ]
    },
    {
     "name": "stdout",
     "output_type": "stream",
     "text": [
      "Predicting DataLoader 0: 100%|██████████████████| 16/16 [00:03<00:00,  4.31it/s]"
     ]
    },
    {
     "name": "stderr",
     "output_type": "stream",
     "text": [
      "GPU available: True (mps), used: False\n",
      "TPU available: False, using: 0 TPU cores\n",
      "HPU available: False, using: 0 HPUs\n"
     ]
    },
    {
     "name": "stdout",
     "output_type": "stream",
     "text": [
      "\n",
      "[[0.9946727  0.00532736]\n",
      " [0.99232835 0.00767162]\n",
      " [0.9679337  0.03206631]\n",
      " ...\n",
      " [0.9802957  0.01970429]\n",
      " [0.8576069  0.14239311]\n",
      " [0.71529776 0.28470227]]\n",
      "Predicting DataLoader 0: 100%|██████████████████| 16/16 [00:03<00:00,  4.49it/s]\n"
     ]
    },
    {
     "name": "stderr",
     "output_type": "stream",
     "text": [
      "GPU available: True (mps), used: False\n",
      "TPU available: False, using: 0 TPU cores\n",
      "HPU available: False, using: 0 HPUs\n"
     ]
    },
    {
     "name": "stdout",
     "output_type": "stream",
     "text": [
      "Predicting DataLoader 0: 100%|██████████████████| 16/16 [00:03<00:00,  4.25it/s]\n"
     ]
    },
    {
     "name": "stderr",
     "output_type": "stream",
     "text": [
      "GPU available: True (mps), used: False\n",
      "TPU available: False, using: 0 TPU cores\n",
      "HPU available: False, using: 0 HPUs\n"
     ]
    },
    {
     "name": "stdout",
     "output_type": "stream",
     "text": [
      "[[0.6701106  0.32988942]\n",
      " [0.5004476  0.49955243]\n",
      " [0.38157502 0.61842495]\n",
      " ...\n",
      " [0.5828409  0.41715905]\n",
      " [0.7793851  0.22061491]\n",
      " [0.7689665  0.23103353]]\n",
      "Predicting DataLoader 0: 100%|██████████████████| 16/16 [00:04<00:00,  3.83it/s]"
     ]
    },
    {
     "name": "stderr",
     "output_type": "stream",
     "text": [
      "GPU available: True (mps), used: False\n",
      "TPU available: False, using: 0 TPU cores\n",
      "HPU available: False, using: 0 HPUs\n"
     ]
    },
    {
     "name": "stdout",
     "output_type": "stream",
     "text": [
      "\n",
      "9\n",
      "Predicting DataLoader 0: 100%|██████████████████| 16/16 [00:03<00:00,  4.04it/s]"
     ]
    },
    {
     "name": "stderr",
     "output_type": "stream",
     "text": [
      "GPU available: True (mps), used: False\n",
      "TPU available: False, using: 0 TPU cores\n",
      "HPU available: False, using: 0 HPUs\n"
     ]
    },
    {
     "name": "stdout",
     "output_type": "stream",
     "text": [
      "\n",
      "[[0.9888976  0.01110238]\n",
      " [0.9966737  0.00332634]\n",
      " [0.7959963  0.20400366]\n",
      " ...\n",
      " [0.96120435 0.03879563]\n",
      " [0.8210294  0.17897056]\n",
      " [0.63972306 0.36027688]]\n",
      "Predicting DataLoader 0: 100%|██████████████████| 16/16 [00:03<00:00,  4.20it/s]"
     ]
    },
    {
     "name": "stderr",
     "output_type": "stream",
     "text": [
      "GPU available: True (mps), used: False\n",
      "TPU available: False, using: 0 TPU cores\n",
      "HPU available: False, using: 0 HPUs\n"
     ]
    },
    {
     "name": "stdout",
     "output_type": "stream",
     "text": [
      "\n",
      "Predicting DataLoader 0: 100%|██████████████████| 16/16 [00:04<00:00,  3.98it/s]"
     ]
    },
    {
     "name": "stderr",
     "output_type": "stream",
     "text": [
      "GPU available: True (mps), used: False\n",
      "TPU available: False, using: 0 TPU cores\n",
      "HPU available: False, using: 0 HPUs\n"
     ]
    },
    {
     "name": "stdout",
     "output_type": "stream",
     "text": [
      "\n",
      "[[9.9587870e-01 4.1213022e-03]\n",
      " [9.9901617e-01 9.8376931e-04]\n",
      " [9.9835324e-01 1.6467927e-03]\n",
      " ...\n",
      " [2.3816553e-01 7.6183444e-01]\n",
      " [9.3629010e-02 9.0637106e-01]\n",
      " [1.8824640e-01 8.1175357e-01]]\n",
      "Predicting DataLoader 0: 100%|██████████████████| 16/16 [00:03<00:00,  4.03it/s]"
     ]
    },
    {
     "name": "stderr",
     "output_type": "stream",
     "text": [
      "GPU available: True (mps), used: False\n",
      "TPU available: False, using: 0 TPU cores\n",
      "HPU available: False, using: 0 HPUs\n"
     ]
    },
    {
     "name": "stdout",
     "output_type": "stream",
     "text": [
      "\n",
      "Predicting DataLoader 0: 100%|██████████████████| 16/16 [00:04<00:00,  3.92it/s]\n",
      "[[0.96189266 0.03810732]\n",
      " [0.98492694 0.01507302]\n",
      " [0.8474183  0.15258172]\n",
      " ...\n",
      " [0.3451344  0.65486556]\n",
      " [0.08444227 0.9155577 ]\n",
      " [0.02804128 0.9719587 ]]\n"
     ]
    },
    {
     "name": "stderr",
     "output_type": "stream",
     "text": [
      "GPU available: True (mps), used: False\n",
      "TPU available: False, using: 0 TPU cores\n",
      "HPU available: False, using: 0 HPUs\n"
     ]
    },
    {
     "name": "stdout",
     "output_type": "stream",
     "text": [
      "Predicting DataLoader 0: 100%|██████████████████| 16/16 [00:03<00:00,  4.04it/s]"
     ]
    },
    {
     "name": "stderr",
     "output_type": "stream",
     "text": [
      "GPU available: True (mps), used: False\n",
      "TPU available: False, using: 0 TPU cores\n",
      "HPU available: False, using: 0 HPUs\n"
     ]
    },
    {
     "name": "stdout",
     "output_type": "stream",
     "text": [
      "\n",
      "Predicting DataLoader 0: 100%|██████████████████| 16/16 [00:03<00:00,  4.24it/s]"
     ]
    },
    {
     "name": "stderr",
     "output_type": "stream",
     "text": [
      "GPU available: True (mps), used: False\n",
      "TPU available: False, using: 0 TPU cores\n",
      "HPU available: False, using: 0 HPUs\n"
     ]
    },
    {
     "name": "stdout",
     "output_type": "stream",
     "text": [
      "\n",
      "[[0.9933014  0.00669865]\n",
      " [0.9801522  0.01984784]\n",
      " [0.5285062  0.47149375]\n",
      " ...\n",
      " [0.05839445 0.9416055 ]\n",
      " [0.00936277 0.99063724]\n",
      " [0.0107504  0.9892496 ]]\n",
      "Predicting DataLoader 0: 100%|██████████████████| 16/16 [00:03<00:00,  4.13it/s]"
     ]
    },
    {
     "name": "stderr",
     "output_type": "stream",
     "text": [
      "GPU available: True (mps), used: False\n",
      "TPU available: False, using: 0 TPU cores\n",
      "HPU available: False, using: 0 HPUs\n"
     ]
    },
    {
     "name": "stdout",
     "output_type": "stream",
     "text": [
      "\n",
      "Predicting DataLoader 0: 100%|██████████████████| 16/16 [00:03<00:00,  4.09it/s]"
     ]
    },
    {
     "name": "stderr",
     "output_type": "stream",
     "text": [
      "GPU available: True (mps), used: False\n",
      "TPU available: False, using: 0 TPU cores\n",
      "HPU available: False, using: 0 HPUs\n"
     ]
    },
    {
     "name": "stdout",
     "output_type": "stream",
     "text": [
      "\n",
      "[[9.99374211e-01 6.25823159e-04]\n",
      " [9.99971628e-01 2.83811478e-05]\n",
      " [9.99898434e-01 1.01594575e-04]\n",
      " ...\n",
      " [9.99964952e-01 3.50800801e-05]\n",
      " [9.97234046e-01 2.76601431e-03]\n",
      " [9.98210788e-01 1.78917614e-03]]\n",
      "Predicting DataLoader 0: 100%|██████████████████| 16/16 [00:04<00:00,  3.94it/s]\n",
      "cycles\n",
      "Accuracy:\n",
      "Accuracy_list: [0.6936758893280632, 0.5, 0.4851778656126482, 0.6393280632411067, 0.5731225296442688, 0.6116600790513834, 0.682806324110672, 0.6729249011857708, 0.5820158102766798, 0.5503952569169961]\n",
      "Accuracy_mean: 0.5991106719367589\n",
      "Accuracy_std: 0.07022494449919163\n",
      "---\n",
      "Confusion matrix\n",
      "Confusion matrix mean: [[162.   37. ]\n",
      " [368.7 444.3]]\n",
      "Confusion matrix std: [[16.36459593 16.36459593]\n",
      " [82.53247846 82.53247846]]\n",
      "---\n",
      "F1\n",
      "F1_list: [0.7776183644189383, 0.5697278911564626, 0.5481352992194276, 0.7290274684484038, 0.6544, 0.6965250965250965, 0.7688984881209503, 0.7731322823851954, 0.6629482071713148, 0.6285714285714286]\n",
      "F1_mean: 0.6808984526017218\n",
      "F1_std: 0.07868536489700588\n",
      "---\n",
      "Sensitivity\n",
      "Sensitivity list: [0.6666666666666666, 0.41205412054120544, 0.3886838868388684, 0.6039360393603936, 0.5030750307503075, 0.5547355473554736, 0.6568265682656826, 0.6937269372693727, 0.5116851168511685, 0.4735547355473555]\n",
      "Sensitivity mean: 0.5464944649446495\n",
      "Sensitivity std: 0.10151596365984518\n",
      "---\n",
      "Specificity\n",
      "Specificity list: [0.8040201005025126, 0.8592964824120602, 0.8793969849246231, 0.7839195979899497, 0.8592964824120602, 0.8442211055276382, 0.7889447236180904, 0.5879396984924623, 0.8693467336683417, 0.864321608040201]\n",
      "Specificity mean: 0.8140703517587939\n",
      "Specificity std: 0.08223415040935331\n",
      "---\n",
      "AUC\n",
      "AUC list: [np.float64(0.7353433835845895), np.float64(0.6356753014766329), np.float64(0.6340404358817457), np.float64(0.6939278186751717), np.float64(0.681185756581184), np.float64(0.6994783264415559), np.float64(0.7228856459418864), np.float64(0.6408333178809175), np.float64(0.690515925259755), np.float64(0.6689381717937782)]\n",
      "AUC mean: 0.6802824083517216\n",
      "AUC std: 0.03364521465384344\n"
     ]
    }
   ],
   "source": [
    "X_d = X_d_original.copy()\n",
    "arr = arr_all[1]\n",
    "first_half_arr = arr[:len(arr) // 2]\n",
    "last_half_arr = arr[len(arr) // 2:]\n",
    "print(first_half_arr)\n",
    "print(last_half_arr)\n",
    "\n",
    "X_d[:,first_half_arr,:] = 0\n",
    "print(X_d)\n",
    "path_img = './img_cm/'\n",
    "\n",
    "D_name_add = 'TDvsCPu'\n",
    "D_name = D_name_add+\"_full_5_original_weight\"\n",
    "# Net_name_list = ['ResNet','LSTM','InceptionTime']\n",
    "Net_name_list = ['LSTM']\n",
    "for Net_name in Net_name_list:\n",
    "    # for j in range(5):\n",
    "        # train_model(D_name=D_name,Net_name=Net_name)\n",
    "    out = eval_model_5_bundle(D_name,Net_name)\n",
    "    np.save( './new_train_lrR_ET_'+D_name+'_'+Net_name+'/prediction_test.npy' ,out)\n",
    "\n",
    "out = np.load( './new_train_lrR_ET_'+D_name_add+'_full_5_original_weight_LSTM/prediction_test.npy')\n",
    "\n",
    "save = path_img+D_name_add+\"_LSTM_original_weight\"\n",
    "print(\"cycles\")\n",
    "results_cycles = print_result_bundle_i_cycles(out,y_d,x_test,cycle_end_idx,label_list=['TD', 'CPu'],n_model=10)\n",
    "list_result_all.append(output_csv(results_cycles))"
   ]
  },
  {
   "cell_type": "markdown",
   "metadata": {},
   "source": [
    "## Evaluation of Fidelity by replace the last half to zero for InceptionTime"
   ]
  },
  {
   "cell_type": "code",
   "execution_count": 18,
   "metadata": {},
   "outputs": [
    {
     "name": "stderr",
     "output_type": "stream",
     "text": [
      "GPU available: True (mps), used: False\n",
      "TPU available: False, using: 0 TPU cores\n",
      "HPU available: False, using: 0 HPUs\n",
      "/opt/anaconda3/envs/env_gait_new/lib/python3.13/site-packages/pytorch_lightning/trainer/setup.py:177: GPU available but not used. You can set it by doing `Trainer(accelerator='gpu')`.\n",
      "/opt/anaconda3/envs/env_gait_new/lib/python3.13/site-packages/pytorch_lightning/trainer/connectors/data_connector.py:425: The 'predict_dataloader' does not have many workers which may be a bottleneck. Consider increasing the value of the `num_workers` argument` to `num_workers=13` in the `DataLoader` to improve performance.\n"
     ]
    },
    {
     "name": "stdout",
     "output_type": "stream",
     "text": [
      "[ 3 17  0  6 11  8 20  9  2 19 10]\n",
      "[13 14  7 21  5 16 12  1 18  4 15]\n",
      "[[[  9.83950043   9.7201004    9.6335001  ...   9.47509956   9.24769974\n",
      "     9.04039955]\n",
      "  [  0.           0.           0.         ...   0.           0.\n",
      "     0.        ]\n",
      "  [ -1.16919994  -0.93102998  -0.73694998 ...  -2.81369996  -2.54369998\n",
      "    -2.28780007]\n",
      "  ...\n",
      "  [  6.59590006   6.85389996   6.91020012 ...   4.11780024   3.96300006\n",
      "     3.72989988]\n",
      "  [ -2.87540007  -3.09050012  -3.13870001 ...  -6.00860023  -6.19229984\n",
      "    -6.19449997]\n",
      "  [  0.           0.           0.         ...   0.           0.\n",
      "     0.        ]]\n",
      "\n",
      " [[  9.04039955   8.82820034   8.66639996 ...  13.4090004   13.08100033\n",
      "    12.73579979]\n",
      "  [  0.           0.           0.         ...   0.           0.\n",
      "     0.        ]\n",
      "  [ -2.28780007  -2.0000999   -1.73239994 ...   0.29835001   0.66356999\n",
      "     0.96999002]\n",
      "  ...\n",
      "  [  3.72989988   3.39369988   3.03649998 ...   6.45079994   6.55550003\n",
      "     6.6479001 ]\n",
      "  [ -6.19449997  -5.98360014  -5.56080008 ...  -0.67334002  -1.16170001\n",
      "    -1.42040002]\n",
      "  [  0.           0.           0.         ...   0.           0.\n",
      "     0.        ]]\n",
      "\n",
      " [[ 12.73579979  12.3743      12.02490044 ...  13.14729977  13.28199959\n",
      "    13.39649963]\n",
      "  [  0.           0.           0.         ...   0.           0.\n",
      "     0.        ]\n",
      "  [  0.96999002   1.21790004   1.39240003 ...  -4.01039982  -3.38490009\n",
      "    -2.79150009]\n",
      "  ...\n",
      "  [  6.6479001    6.73810005   6.82439995 ...   7.01910019   6.39529991\n",
      "     5.66690016]\n",
      "  [ -1.42040002  -1.42649996  -1.1559     ...  -8.71049976  -8.20170021\n",
      "    -7.52470016]\n",
      "  [  0.           0.           0.         ...   0.           0.\n",
      "     0.        ]]\n",
      "\n",
      " ...\n",
      "\n",
      " [[  9.05691338   9.13669917   9.23606081 ...   7.36619649   7.32759291\n",
      "     7.31393051]\n",
      "  [  0.           0.           0.         ...   0.           0.\n",
      "     0.        ]\n",
      "  [ -0.25563049  -0.03299539   0.10221714 ...   0.45000841   0.81062224\n",
      "     1.0625    ]\n",
      "  ...\n",
      "  [-11.66077232 -11.21641397 -10.77093315 ...  -9.92506886  -9.91634154\n",
      "   -10.03190708]\n",
      "  [ -0.747958    -1.41423312  -2.03653711 ...   0.04937897  -0.35683405\n",
      "    -0.90318918]\n",
      "  [  0.           0.           0.         ...   0.           0.\n",
      "     0.        ]]\n",
      "\n",
      " [[  6.8161087    6.87623537   6.95617437 ...   7.85265207   7.88564551\n",
      "     7.94625521]\n",
      "  [  0.           0.           0.         ...   0.           0.\n",
      "     0.        ]\n",
      "  [  3.44317675   3.45034415   3.40573382 ...   4.15106654   4.26863968\n",
      "     4.29744148]\n",
      "  ...\n",
      "  [-11.46577263 -11.34519873 -11.05035564 ... -10.0489595  -10.01380011\n",
      "    -9.94277   ]\n",
      "  [ -1.53428268  -2.07355649  -2.47931242 ...  -0.39021882  -0.86852482\n",
      "    -1.44324255]\n",
      "  [  0.           0.           0.         ...   0.           0.\n",
      "     0.        ]]\n",
      "\n",
      " [[  8.01304817   8.1131053    8.22476149 ...   8.72506189   8.75647759\n",
      "     8.8262291 ]\n",
      "  [  0.           0.           0.         ...   0.           0.\n",
      "     0.        ]\n",
      "  [  4.25260067   4.11858809   3.91508925 ...   5.47567677   5.7080189\n",
      "     5.81002951]\n",
      "  ...\n",
      "  [ -9.8817482   -9.80164267  -9.68827084 ... -12.91687958 -13.27013899\n",
      "   -13.56380463]\n",
      "  [ -1.95035565  -2.51186775  -2.86611046 ...  -1.64764873  -2.1852711\n",
      "    -2.83439612]\n",
      "  [  0.           0.           0.         ...   0.           0.\n",
      "     0.        ]]]\n",
      "0\n",
      "Predicting DataLoader 0:   6%|█▏                 | 1/16 [00:00<00:05,  2.99it/s]"
     ]
    },
    {
     "name": "stderr",
     "output_type": "stream",
     "text": [
      "/opt/anaconda3/envs/env_gait_new/lib/python3.13/site-packages/torch/nn/modules/module.py:1739: UserWarning: Implicit dimension choice for softmax has been deprecated. Change the call to include dim=X as an argument.\n",
      "  return self._call_impl(*args, **kwargs)\n"
     ]
    },
    {
     "name": "stdout",
     "output_type": "stream",
     "text": [
      "Predicting DataLoader 0: 100%|██████████████████| 16/16 [00:05<00:00,  3.03it/s]"
     ]
    },
    {
     "name": "stderr",
     "output_type": "stream",
     "text": [
      "GPU available: True (mps), used: False\n",
      "TPU available: False, using: 0 TPU cores\n",
      "HPU available: False, using: 0 HPUs\n"
     ]
    },
    {
     "name": "stdout",
     "output_type": "stream",
     "text": [
      "\n",
      "[[7.1921740e-03 9.9280787e-01]\n",
      " [1.0714865e-02 9.8928517e-01]\n",
      " [3.2744671e-03 9.9672556e-01]\n",
      " ...\n",
      " [2.3031938e-03 9.9769682e-01]\n",
      " [6.3959329e-04 9.9936038e-01]\n",
      " [2.3286461e-03 9.9767131e-01]]\n",
      "Predicting DataLoader 0: 100%|██████████████████| 16/16 [00:05<00:00,  3.04it/s]"
     ]
    },
    {
     "name": "stderr",
     "output_type": "stream",
     "text": [
      "GPU available: True (mps), used: False\n",
      "TPU available: False, using: 0 TPU cores\n",
      "HPU available: False, using: 0 HPUs\n"
     ]
    },
    {
     "name": "stdout",
     "output_type": "stream",
     "text": [
      "\n",
      "Predicting DataLoader 0: 100%|██████████████████| 16/16 [00:05<00:00,  3.04it/s]"
     ]
    },
    {
     "name": "stderr",
     "output_type": "stream",
     "text": [
      "GPU available: True (mps), used: False\n",
      "TPU available: False, using: 0 TPU cores\n",
      "HPU available: False, using: 0 HPUs\n"
     ]
    },
    {
     "name": "stdout",
     "output_type": "stream",
     "text": [
      "\n",
      "[[0.00521977 0.9947803 ]\n",
      " [0.00854976 0.99145025]\n",
      " [0.00748832 0.99251163]\n",
      " ...\n",
      " [0.01090335 0.9890967 ]\n",
      " [0.00377878 0.9962212 ]\n",
      " [0.00600086 0.9939991 ]]\n",
      "Predicting DataLoader 0: 100%|██████████████████| 16/16 [00:05<00:00,  3.02it/s]"
     ]
    },
    {
     "name": "stderr",
     "output_type": "stream",
     "text": [
      "GPU available: True (mps), used: False\n",
      "TPU available: False, using: 0 TPU cores\n",
      "HPU available: False, using: 0 HPUs\n"
     ]
    },
    {
     "name": "stdout",
     "output_type": "stream",
     "text": [
      "\n",
      "Predicting DataLoader 0: 100%|██████████████████| 16/16 [00:05<00:00,  3.05it/s]"
     ]
    },
    {
     "name": "stderr",
     "output_type": "stream",
     "text": [
      "GPU available: True (mps), used: False\n",
      "TPU available: False, using: 0 TPU cores\n",
      "HPU available: False, using: 0 HPUs\n"
     ]
    },
    {
     "name": "stdout",
     "output_type": "stream",
     "text": [
      "\n",
      "[[0.00398895 0.996011  ]\n",
      " [0.04586116 0.9541388 ]\n",
      " [0.02794399 0.972056  ]\n",
      " ...\n",
      " [0.02574593 0.9742541 ]\n",
      " [0.00774425 0.9922558 ]\n",
      " [0.00954361 0.9904564 ]]\n",
      "Predicting DataLoader 0: 100%|██████████████████| 16/16 [00:05<00:00,  3.07it/s]"
     ]
    },
    {
     "name": "stderr",
     "output_type": "stream",
     "text": [
      "GPU available: True (mps), used: False\n",
      "TPU available: False, using: 0 TPU cores\n",
      "HPU available: False, using: 0 HPUs\n"
     ]
    },
    {
     "name": "stdout",
     "output_type": "stream",
     "text": [
      "\n",
      "Predicting DataLoader 0: 100%|██████████████████| 16/16 [00:05<00:00,  3.03it/s]"
     ]
    },
    {
     "name": "stderr",
     "output_type": "stream",
     "text": [
      "GPU available: True (mps), used: False\n",
      "TPU available: False, using: 0 TPU cores\n",
      "HPU available: False, using: 0 HPUs\n"
     ]
    },
    {
     "name": "stdout",
     "output_type": "stream",
     "text": [
      "\n",
      "[[0.10619275 0.89380723]\n",
      " [0.1378817  0.86211836]\n",
      " [0.07996547 0.9200345 ]\n",
      " ...\n",
      " [0.00382254 0.99617743]\n",
      " [0.00170717 0.99829286]\n",
      " [0.00248984 0.9975102 ]]\n",
      "Predicting DataLoader 0: 100%|██████████████████| 16/16 [00:05<00:00,  3.05it/s]"
     ]
    },
    {
     "name": "stderr",
     "output_type": "stream",
     "text": [
      "GPU available: True (mps), used: False\n",
      "TPU available: False, using: 0 TPU cores\n",
      "HPU available: False, using: 0 HPUs\n"
     ]
    },
    {
     "name": "stdout",
     "output_type": "stream",
     "text": [
      "\n",
      "Predicting DataLoader 0: 100%|██████████████████| 16/16 [00:05<00:00,  3.05it/s]"
     ]
    },
    {
     "name": "stderr",
     "output_type": "stream",
     "text": [
      "GPU available: True (mps), used: False\n",
      "TPU available: False, using: 0 TPU cores\n",
      "HPU available: False, using: 0 HPUs\n"
     ]
    },
    {
     "name": "stdout",
     "output_type": "stream",
     "text": [
      "\n",
      "[[0.04901819 0.95098186]\n",
      " [0.05120276 0.9487973 ]\n",
      " [0.038394   0.96160597]\n",
      " ...\n",
      " [0.0184625  0.98153746]\n",
      " [0.01144119 0.9885589 ]\n",
      " [0.01920402 0.980796  ]]\n",
      "Predicting DataLoader 0: 100%|██████████████████| 16/16 [00:05<00:00,  3.04it/s]"
     ]
    },
    {
     "name": "stderr",
     "output_type": "stream",
     "text": [
      "GPU available: True (mps), used: False\n",
      "TPU available: False, using: 0 TPU cores\n",
      "HPU available: False, using: 0 HPUs\n"
     ]
    },
    {
     "name": "stdout",
     "output_type": "stream",
     "text": [
      "\n",
      "1\n",
      "Predicting DataLoader 0: 100%|██████████████████| 16/16 [00:05<00:00,  3.03it/s]"
     ]
    },
    {
     "name": "stderr",
     "output_type": "stream",
     "text": [
      "GPU available: True (mps), used: False\n",
      "TPU available: False, using: 0 TPU cores\n",
      "HPU available: False, using: 0 HPUs\n"
     ]
    },
    {
     "name": "stdout",
     "output_type": "stream",
     "text": [
      "\n",
      "[[0.0705476  0.92945236]\n",
      " [0.10009533 0.89990467]\n",
      " [0.05789171 0.94210833]\n",
      " ...\n",
      " [0.04280889 0.95719117]\n",
      " [0.02062917 0.97937083]\n",
      " [0.04359839 0.9564016 ]]\n",
      "Predicting DataLoader 0: 100%|██████████████████| 16/16 [00:05<00:00,  3.05it/s]"
     ]
    },
    {
     "name": "stderr",
     "output_type": "stream",
     "text": [
      "GPU available: True (mps), used: False\n",
      "TPU available: False, using: 0 TPU cores\n",
      "HPU available: False, using: 0 HPUs\n"
     ]
    },
    {
     "name": "stdout",
     "output_type": "stream",
     "text": [
      "\n",
      "Predicting DataLoader 0: 100%|██████████████████| 16/16 [00:05<00:00,  3.04it/s]"
     ]
    },
    {
     "name": "stderr",
     "output_type": "stream",
     "text": [
      "GPU available: True (mps), used: False\n",
      "TPU available: False, using: 0 TPU cores\n",
      "HPU available: False, using: 0 HPUs\n"
     ]
    },
    {
     "name": "stdout",
     "output_type": "stream",
     "text": [
      "\n",
      "[[2.9732992e-03 9.9702674e-01]\n",
      " [5.7960576e-03 9.9420398e-01]\n",
      " [2.7102279e-03 9.9728978e-01]\n",
      " ...\n",
      " [2.5905876e-03 9.9740940e-01]\n",
      " [5.0972268e-04 9.9949026e-01]\n",
      " [2.9461682e-03 9.9705386e-01]]\n",
      "Predicting DataLoader 0: 100%|██████████████████| 16/16 [00:05<00:00,  2.96it/s]"
     ]
    },
    {
     "name": "stderr",
     "output_type": "stream",
     "text": [
      "GPU available: True (mps), used: False\n",
      "TPU available: False, using: 0 TPU cores\n",
      "HPU available: False, using: 0 HPUs\n"
     ]
    },
    {
     "name": "stdout",
     "output_type": "stream",
     "text": [
      "\n",
      "Predicting DataLoader 0: 100%|██████████████████| 16/16 [00:05<00:00,  2.95it/s]"
     ]
    },
    {
     "name": "stderr",
     "output_type": "stream",
     "text": [
      "GPU available: True (mps), used: False\n",
      "TPU available: False, using: 0 TPU cores\n",
      "HPU available: False, using: 0 HPUs\n"
     ]
    },
    {
     "name": "stdout",
     "output_type": "stream",
     "text": [
      "\n",
      "[[0.05643664 0.9435634 ]\n",
      " [0.03974793 0.96025205]\n",
      " [0.006071   0.993929  ]\n",
      " ...\n",
      " [0.00593748 0.9940625 ]\n",
      " [0.00105487 0.9989452 ]\n",
      " [0.00281481 0.9971852 ]]\n",
      "Predicting DataLoader 0: 100%|██████████████████| 16/16 [00:05<00:00,  2.95it/s]"
     ]
    },
    {
     "name": "stderr",
     "output_type": "stream",
     "text": [
      "GPU available: True (mps), used: False\n",
      "TPU available: False, using: 0 TPU cores\n",
      "HPU available: False, using: 0 HPUs\n"
     ]
    },
    {
     "name": "stdout",
     "output_type": "stream",
     "text": [
      "\n",
      "Predicting DataLoader 0: 100%|██████████████████| 16/16 [00:05<00:00,  2.95it/s]"
     ]
    },
    {
     "name": "stderr",
     "output_type": "stream",
     "text": [
      "GPU available: True (mps), used: False\n",
      "TPU available: False, using: 0 TPU cores\n",
      "HPU available: False, using: 0 HPUs\n"
     ]
    },
    {
     "name": "stdout",
     "output_type": "stream",
     "text": [
      "\n",
      "[[0.08230165 0.9176983 ]\n",
      " [0.18574259 0.8142574 ]\n",
      " [0.14537    0.85463   ]\n",
      " ...\n",
      " [0.02130235 0.9786976 ]\n",
      " [0.01717734 0.9828227 ]\n",
      " [0.03169915 0.9683008 ]]\n",
      "Predicting DataLoader 0: 100%|██████████████████| 16/16 [00:05<00:00,  2.96it/s]"
     ]
    },
    {
     "name": "stderr",
     "output_type": "stream",
     "text": [
      "GPU available: True (mps), used: False\n",
      "TPU available: False, using: 0 TPU cores\n",
      "HPU available: False, using: 0 HPUs\n"
     ]
    },
    {
     "name": "stdout",
     "output_type": "stream",
     "text": [
      "\n",
      "Predicting DataLoader 0: 100%|██████████████████| 16/16 [00:05<00:00,  2.94it/s]"
     ]
    },
    {
     "name": "stderr",
     "output_type": "stream",
     "text": [
      "GPU available: True (mps), used: False\n",
      "TPU available: False, using: 0 TPU cores\n",
      "HPU available: False, using: 0 HPUs\n"
     ]
    },
    {
     "name": "stdout",
     "output_type": "stream",
     "text": [
      "\n",
      "[[0.03177849 0.9682215 ]\n",
      " [0.05817921 0.94182086]\n",
      " [0.02140905 0.97859097]\n",
      " ...\n",
      " [0.02646204 0.973538  ]\n",
      " [0.01067483 0.98932517]\n",
      " [0.02450066 0.9754994 ]]\n",
      "Predicting DataLoader 0: 100%|██████████████████| 16/16 [00:05<00:00,  2.96it/s]"
     ]
    },
    {
     "name": "stderr",
     "output_type": "stream",
     "text": [
      "GPU available: True (mps), used: False\n",
      "TPU available: False, using: 0 TPU cores\n",
      "HPU available: False, using: 0 HPUs\n"
     ]
    },
    {
     "name": "stdout",
     "output_type": "stream",
     "text": [
      "\n",
      "2\n",
      "Predicting DataLoader 0: 100%|██████████████████| 16/16 [00:05<00:00,  2.96it/s]"
     ]
    },
    {
     "name": "stderr",
     "output_type": "stream",
     "text": [
      "GPU available: True (mps), used: False\n",
      "TPU available: False, using: 0 TPU cores\n",
      "HPU available: False, using: 0 HPUs\n"
     ]
    },
    {
     "name": "stdout",
     "output_type": "stream",
     "text": [
      "\n",
      "[[7.0180371e-02 9.2981964e-01]\n",
      " [8.2508676e-02 9.1749126e-01]\n",
      " [1.5477775e-01 8.4522229e-01]\n",
      " ...\n",
      " [2.3813613e-03 9.9761862e-01]\n",
      " [4.3482860e-04 9.9956518e-01]\n",
      " [7.5187569e-04 9.9924809e-01]]\n",
      "Predicting DataLoader 0: 100%|██████████████████| 16/16 [00:05<00:00,  2.96it/s]"
     ]
    },
    {
     "name": "stderr",
     "output_type": "stream",
     "text": [
      "GPU available: True (mps), used: False\n",
      "TPU available: False, using: 0 TPU cores\n",
      "HPU available: False, using: 0 HPUs\n"
     ]
    },
    {
     "name": "stdout",
     "output_type": "stream",
     "text": [
      "\n",
      "Predicting DataLoader 0: 100%|██████████████████| 16/16 [00:05<00:00,  2.95it/s]"
     ]
    },
    {
     "name": "stderr",
     "output_type": "stream",
     "text": [
      "GPU available: True (mps), used: False\n",
      "TPU available: False, using: 0 TPU cores\n",
      "HPU available: False, using: 0 HPUs\n"
     ]
    },
    {
     "name": "stdout",
     "output_type": "stream",
     "text": [
      "\n",
      "[[0.02212534 0.9778747 ]\n",
      " [0.01681642 0.9831836 ]\n",
      " [0.01753789 0.98246205]\n",
      " ...\n",
      " [0.00345265 0.9965474 ]\n",
      " [0.00256064 0.9974394 ]\n",
      " [0.01459079 0.9854092 ]]\n",
      "Predicting DataLoader 0: 100%|██████████████████| 16/16 [00:05<00:00,  2.96it/s]"
     ]
    },
    {
     "name": "stderr",
     "output_type": "stream",
     "text": [
      "GPU available: True (mps), used: False\n",
      "TPU available: False, using: 0 TPU cores\n",
      "HPU available: False, using: 0 HPUs\n"
     ]
    },
    {
     "name": "stdout",
     "output_type": "stream",
     "text": [
      "\n",
      "Predicting DataLoader 0: 100%|██████████████████| 16/16 [00:05<00:00,  2.94it/s]"
     ]
    },
    {
     "name": "stderr",
     "output_type": "stream",
     "text": [
      "GPU available: True (mps), used: False\n",
      "TPU available: False, using: 0 TPU cores\n",
      "HPU available: False, using: 0 HPUs\n"
     ]
    },
    {
     "name": "stdout",
     "output_type": "stream",
     "text": [
      "\n",
      "[[0.01164484 0.98835516]\n",
      " [0.01384417 0.9861558 ]\n",
      " [0.00609388 0.9939061 ]\n",
      " ...\n",
      " [0.0026281  0.9973719 ]\n",
      " [0.00137367 0.99862635]\n",
      " [0.00242197 0.9975781 ]]\n",
      "Predicting DataLoader 0: 100%|██████████████████| 16/16 [00:05<00:00,  2.96it/s]"
     ]
    },
    {
     "name": "stderr",
     "output_type": "stream",
     "text": [
      "GPU available: True (mps), used: False\n",
      "TPU available: False, using: 0 TPU cores\n",
      "HPU available: False, using: 0 HPUs\n"
     ]
    },
    {
     "name": "stdout",
     "output_type": "stream",
     "text": [
      "\n",
      "Predicting DataLoader 0: 100%|██████████████████| 16/16 [00:05<00:00,  2.96it/s]"
     ]
    },
    {
     "name": "stderr",
     "output_type": "stream",
     "text": [
      "GPU available: True (mps), used: False\n",
      "TPU available: False, using: 0 TPU cores\n",
      "HPU available: False, using: 0 HPUs\n"
     ]
    },
    {
     "name": "stdout",
     "output_type": "stream",
     "text": [
      "\n",
      "[[0.02184851 0.97815156]\n",
      " [0.03535039 0.96464956]\n",
      " [0.01839008 0.98160994]\n",
      " ...\n",
      " [0.02191799 0.97808194]\n",
      " [0.00516029 0.9948397 ]\n",
      " [0.00679466 0.9932053 ]]\n",
      "Predicting DataLoader 0: 100%|██████████████████| 16/16 [00:05<00:00,  2.97it/s]"
     ]
    },
    {
     "name": "stderr",
     "output_type": "stream",
     "text": [
      "GPU available: True (mps), used: False\n",
      "TPU available: False, using: 0 TPU cores\n",
      "HPU available: False, using: 0 HPUs\n"
     ]
    },
    {
     "name": "stdout",
     "output_type": "stream",
     "text": [
      "\n",
      "Predicting DataLoader 0: 100%|██████████████████| 16/16 [00:05<00:00,  2.95it/s]"
     ]
    },
    {
     "name": "stderr",
     "output_type": "stream",
     "text": [
      "GPU available: True (mps), used: False\n",
      "TPU available: False, using: 0 TPU cores\n",
      "HPU available: False, using: 0 HPUs\n"
     ]
    },
    {
     "name": "stdout",
     "output_type": "stream",
     "text": [
      "\n",
      "[[2.6189715e-05 9.9997377e-01]\n",
      " [4.4784806e-04 9.9955207e-01]\n",
      " [3.4402245e-05 9.9996555e-01]\n",
      " ...\n",
      " [6.3421490e-04 9.9936575e-01]\n",
      " [1.1942148e-04 9.9988055e-01]\n",
      " [1.9060171e-04 9.9980944e-01]]\n",
      "Predicting DataLoader 0: 100%|██████████████████| 16/16 [00:05<00:00,  2.94it/s]"
     ]
    },
    {
     "name": "stderr",
     "output_type": "stream",
     "text": [
      "GPU available: True (mps), used: False\n",
      "TPU available: False, using: 0 TPU cores\n",
      "HPU available: False, using: 0 HPUs\n"
     ]
    },
    {
     "name": "stdout",
     "output_type": "stream",
     "text": [
      "\n",
      "3\n",
      "Predicting DataLoader 0: 100%|██████████████████| 16/16 [00:05<00:00,  2.94it/s]"
     ]
    },
    {
     "name": "stderr",
     "output_type": "stream",
     "text": [
      "GPU available: True (mps), used: False\n",
      "TPU available: False, using: 0 TPU cores\n",
      "HPU available: False, using: 0 HPUs\n"
     ]
    },
    {
     "name": "stdout",
     "output_type": "stream",
     "text": [
      "\n",
      "[[0.05646716 0.9435328 ]\n",
      " [0.16871549 0.83128446]\n",
      " [0.16238052 0.8376194 ]\n",
      " ...\n",
      " [0.1084459  0.8915541 ]\n",
      " [0.02641795 0.9735821 ]\n",
      " [0.06930176 0.9306982 ]]\n",
      "Predicting DataLoader 0: 100%|██████████████████| 16/16 [00:05<00:00,  2.89it/s]"
     ]
    },
    {
     "name": "stderr",
     "output_type": "stream",
     "text": [
      "GPU available: True (mps), used: False\n",
      "TPU available: False, using: 0 TPU cores\n",
      "HPU available: False, using: 0 HPUs\n"
     ]
    },
    {
     "name": "stdout",
     "output_type": "stream",
     "text": [
      "\n",
      "Predicting DataLoader 0: 100%|██████████████████| 16/16 [00:05<00:00,  2.93it/s]"
     ]
    },
    {
     "name": "stderr",
     "output_type": "stream",
     "text": [
      "GPU available: True (mps), used: False\n",
      "TPU available: False, using: 0 TPU cores\n",
      "HPU available: False, using: 0 HPUs\n"
     ]
    },
    {
     "name": "stdout",
     "output_type": "stream",
     "text": [
      "\n",
      "[[0.00358039 0.99641967]\n",
      " [0.00939666 0.99060327]\n",
      " [0.00655208 0.99344796]\n",
      " ...\n",
      " [0.03576347 0.9642365 ]\n",
      " [0.01443809 0.9855619 ]\n",
      " [0.02880411 0.9711959 ]]\n",
      "Predicting DataLoader 0: 100%|██████████████████| 16/16 [00:05<00:00,  2.93it/s]"
     ]
    },
    {
     "name": "stderr",
     "output_type": "stream",
     "text": [
      "GPU available: True (mps), used: False\n",
      "TPU available: False, using: 0 TPU cores\n",
      "HPU available: False, using: 0 HPUs\n"
     ]
    },
    {
     "name": "stdout",
     "output_type": "stream",
     "text": [
      "\n",
      "Predicting DataLoader 0: 100%|██████████████████| 16/16 [00:05<00:00,  2.93it/s]"
     ]
    },
    {
     "name": "stderr",
     "output_type": "stream",
     "text": [
      "GPU available: True (mps), used: False\n",
      "TPU available: False, using: 0 TPU cores\n",
      "HPU available: False, using: 0 HPUs\n"
     ]
    },
    {
     "name": "stdout",
     "output_type": "stream",
     "text": [
      "\n",
      "[[2.0382339e-03 9.9796176e-01]\n",
      " [3.2582441e-03 9.9674183e-01]\n",
      " [3.5076444e-03 9.9649233e-01]\n",
      " ...\n",
      " [9.3607232e-04 9.9906391e-01]\n",
      " [1.4854741e-04 9.9985147e-01]\n",
      " [9.3197875e-04 9.9906808e-01]]\n",
      "Predicting DataLoader 0: 100%|██████████████████| 16/16 [00:05<00:00,  2.89it/s]"
     ]
    },
    {
     "name": "stderr",
     "output_type": "stream",
     "text": [
      "GPU available: True (mps), used: False\n",
      "TPU available: False, using: 0 TPU cores\n",
      "HPU available: False, using: 0 HPUs\n"
     ]
    },
    {
     "name": "stdout",
     "output_type": "stream",
     "text": [
      "\n",
      "Predicting DataLoader 0: 100%|██████████████████| 16/16 [00:05<00:00,  2.89it/s]"
     ]
    },
    {
     "name": "stderr",
     "output_type": "stream",
     "text": [
      "GPU available: True (mps), used: False\n",
      "TPU available: False, using: 0 TPU cores\n",
      "HPU available: False, using: 0 HPUs\n"
     ]
    },
    {
     "name": "stdout",
     "output_type": "stream",
     "text": [
      "\n",
      "[[0.13023546 0.86976457]\n",
      " [0.41797367 0.5820263 ]\n",
      " [0.0683066  0.93169343]\n",
      " ...\n",
      " [0.01296204 0.987038  ]\n",
      " [0.00347617 0.9965238 ]\n",
      " [0.01598436 0.9840156 ]]\n",
      "Predicting DataLoader 0: 100%|██████████████████| 16/16 [00:05<00:00,  2.92it/s]"
     ]
    },
    {
     "name": "stderr",
     "output_type": "stream",
     "text": [
      "GPU available: True (mps), used: False\n",
      "TPU available: False, using: 0 TPU cores\n",
      "HPU available: False, using: 0 HPUs\n"
     ]
    },
    {
     "name": "stdout",
     "output_type": "stream",
     "text": [
      "\n",
      "Predicting DataLoader 0: 100%|██████████████████| 16/16 [00:05<00:00,  2.93it/s]"
     ]
    },
    {
     "name": "stderr",
     "output_type": "stream",
     "text": [
      "GPU available: True (mps), used: False\n",
      "TPU available: False, using: 0 TPU cores\n",
      "HPU available: False, using: 0 HPUs\n"
     ]
    },
    {
     "name": "stdout",
     "output_type": "stream",
     "text": [
      "\n",
      "[[0.05856627 0.9414338 ]\n",
      " [0.0611725  0.9388275 ]\n",
      " [0.03508127 0.96491873]\n",
      " ...\n",
      " [0.00626771 0.9937323 ]\n",
      " [0.00106159 0.9989384 ]\n",
      " [0.00188119 0.9981188 ]]\n",
      "Predicting DataLoader 0: 100%|██████████████████| 16/16 [00:05<00:00,  2.93it/s]"
     ]
    },
    {
     "name": "stderr",
     "output_type": "stream",
     "text": [
      "GPU available: True (mps), used: False\n",
      "TPU available: False, using: 0 TPU cores\n",
      "HPU available: False, using: 0 HPUs\n"
     ]
    },
    {
     "name": "stdout",
     "output_type": "stream",
     "text": [
      "\n",
      "4\n",
      "Predicting DataLoader 0: 100%|██████████████████| 16/16 [00:05<00:00,  2.95it/s]"
     ]
    },
    {
     "name": "stderr",
     "output_type": "stream",
     "text": [
      "GPU available: True (mps), used: False\n",
      "TPU available: False, using: 0 TPU cores\n",
      "HPU available: False, using: 0 HPUs\n"
     ]
    },
    {
     "name": "stdout",
     "output_type": "stream",
     "text": [
      "\n",
      "[[4.8526819e-04 9.9951470e-01]\n",
      " [2.3065470e-03 9.9769348e-01]\n",
      " [1.2851995e-03 9.9871480e-01]\n",
      " ...\n",
      " [7.3785442e-03 9.9262142e-01]\n",
      " [1.0047053e-03 9.9899524e-01]\n",
      " [2.4692477e-03 9.9753076e-01]]\n",
      "Predicting DataLoader 0: 100%|██████████████████| 16/16 [00:05<00:00,  2.94it/s]"
     ]
    },
    {
     "name": "stderr",
     "output_type": "stream",
     "text": [
      "GPU available: True (mps), used: False\n",
      "TPU available: False, using: 0 TPU cores\n",
      "HPU available: False, using: 0 HPUs\n"
     ]
    },
    {
     "name": "stdout",
     "output_type": "stream",
     "text": [
      "\n",
      "Predicting DataLoader 0: 100%|██████████████████| 16/16 [00:05<00:00,  2.93it/s]"
     ]
    },
    {
     "name": "stderr",
     "output_type": "stream",
     "text": [
      "GPU available: True (mps), used: False\n",
      "TPU available: False, using: 0 TPU cores\n",
      "HPU available: False, using: 0 HPUs\n"
     ]
    },
    {
     "name": "stdout",
     "output_type": "stream",
     "text": [
      "\n",
      "[[1.7779934e-01 8.2220066e-01]\n",
      " [1.2901179e-01 8.7098825e-01]\n",
      " [5.5302203e-02 9.4469774e-01]\n",
      " ...\n",
      " [7.8669650e-04 9.9921334e-01]\n",
      " [7.7877128e-05 9.9992216e-01]\n",
      " [3.0301325e-04 9.9969697e-01]]\n",
      "Predicting DataLoader 0: 100%|██████████████████| 16/16 [00:05<00:00,  2.93it/s]"
     ]
    },
    {
     "name": "stderr",
     "output_type": "stream",
     "text": [
      "GPU available: True (mps), used: False\n",
      "TPU available: False, using: 0 TPU cores\n",
      "HPU available: False, using: 0 HPUs\n"
     ]
    },
    {
     "name": "stdout",
     "output_type": "stream",
     "text": [
      "\n",
      "Predicting DataLoader 0: 100%|██████████████████| 16/16 [00:05<00:00,  2.94it/s]"
     ]
    },
    {
     "name": "stderr",
     "output_type": "stream",
     "text": [
      "GPU available: True (mps), used: False\n",
      "TPU available: False, using: 0 TPU cores\n",
      "HPU available: False, using: 0 HPUs\n"
     ]
    },
    {
     "name": "stdout",
     "output_type": "stream",
     "text": [
      "\n",
      "[[0.02237933 0.97762066]\n",
      " [0.02639358 0.97360635]\n",
      " [0.00671612 0.99328387]\n",
      " ...\n",
      " [0.03908891 0.9609111 ]\n",
      " [0.0113657  0.9886342 ]\n",
      " [0.03679834 0.96320164]]\n",
      "Predicting DataLoader 0: 100%|██████████████████| 16/16 [00:05<00:00,  2.95it/s]"
     ]
    },
    {
     "name": "stderr",
     "output_type": "stream",
     "text": [
      "GPU available: True (mps), used: False\n",
      "TPU available: False, using: 0 TPU cores\n",
      "HPU available: False, using: 0 HPUs\n"
     ]
    },
    {
     "name": "stdout",
     "output_type": "stream",
     "text": [
      "\n",
      "Predicting DataLoader 0: 100%|██████████████████| 16/16 [00:05<00:00,  2.94it/s]"
     ]
    },
    {
     "name": "stderr",
     "output_type": "stream",
     "text": [
      "GPU available: True (mps), used: False\n",
      "TPU available: False, using: 0 TPU cores\n",
      "HPU available: False, using: 0 HPUs\n"
     ]
    },
    {
     "name": "stdout",
     "output_type": "stream",
     "text": [
      "\n",
      "[[0.02949946 0.9705006 ]\n",
      " [0.18574424 0.8142558 ]\n",
      " [0.05103184 0.9489682 ]\n",
      " ...\n",
      " [0.0900211  0.9099789 ]\n",
      " [0.00304548 0.99695456]\n",
      " [0.01175755 0.98824245]]\n",
      "Predicting DataLoader 0: 100%|██████████████████| 16/16 [00:05<00:00,  2.93it/s]"
     ]
    },
    {
     "name": "stderr",
     "output_type": "stream",
     "text": [
      "GPU available: True (mps), used: False\n",
      "TPU available: False, using: 0 TPU cores\n",
      "HPU available: False, using: 0 HPUs\n"
     ]
    },
    {
     "name": "stdout",
     "output_type": "stream",
     "text": [
      "\n",
      "Predicting DataLoader 0: 100%|██████████████████| 16/16 [00:05<00:00,  2.93it/s]"
     ]
    },
    {
     "name": "stderr",
     "output_type": "stream",
     "text": [
      "GPU available: True (mps), used: False\n",
      "TPU available: False, using: 0 TPU cores\n",
      "HPU available: False, using: 0 HPUs\n"
     ]
    },
    {
     "name": "stdout",
     "output_type": "stream",
     "text": [
      "\n",
      "[[0.36495313 0.63504696]\n",
      " [0.82302415 0.17697577]\n",
      " [0.4859887  0.5140113 ]\n",
      " ...\n",
      " [0.02378832 0.9762116 ]\n",
      " [0.0039873  0.9960127 ]\n",
      " [0.00870416 0.9912958 ]]\n",
      "Predicting DataLoader 0: 100%|██████████████████| 16/16 [00:05<00:00,  2.95it/s]"
     ]
    },
    {
     "name": "stderr",
     "output_type": "stream",
     "text": [
      "GPU available: True (mps), used: False\n",
      "TPU available: False, using: 0 TPU cores\n",
      "HPU available: False, using: 0 HPUs\n"
     ]
    },
    {
     "name": "stdout",
     "output_type": "stream",
     "text": [
      "\n",
      "5\n",
      "Predicting DataLoader 0: 100%|██████████████████| 16/16 [00:05<00:00,  2.94it/s]"
     ]
    },
    {
     "name": "stderr",
     "output_type": "stream",
     "text": [
      "GPU available: True (mps), used: False\n",
      "TPU available: False, using: 0 TPU cores\n",
      "HPU available: False, using: 0 HPUs\n"
     ]
    },
    {
     "name": "stdout",
     "output_type": "stream",
     "text": [
      "\n",
      "[[0.00721764 0.99278235]\n",
      " [0.0202028  0.9797972 ]\n",
      " [0.00668925 0.9933108 ]\n",
      " ...\n",
      " [0.00797577 0.9920243 ]\n",
      " [0.00121027 0.9987897 ]\n",
      " [0.00277689 0.99722314]]\n",
      "Predicting DataLoader 0: 100%|██████████████████| 16/16 [00:05<00:00,  2.94it/s]"
     ]
    },
    {
     "name": "stderr",
     "output_type": "stream",
     "text": [
      "GPU available: True (mps), used: False\n",
      "TPU available: False, using: 0 TPU cores\n",
      "HPU available: False, using: 0 HPUs\n"
     ]
    },
    {
     "name": "stdout",
     "output_type": "stream",
     "text": [
      "\n",
      "Predicting DataLoader 0: 100%|██████████████████| 16/16 [00:05<00:00,  2.94it/s]"
     ]
    },
    {
     "name": "stderr",
     "output_type": "stream",
     "text": [
      "GPU available: True (mps), used: False\n",
      "TPU available: False, using: 0 TPU cores\n",
      "HPU available: False, using: 0 HPUs\n"
     ]
    },
    {
     "name": "stdout",
     "output_type": "stream",
     "text": [
      "\n",
      "[[0.28188363 0.71811634]\n",
      " [0.626761   0.37323898]\n",
      " [0.47827956 0.52172047]\n",
      " ...\n",
      " [0.0591173  0.9408827 ]\n",
      " [0.01324887 0.9867511 ]\n",
      " [0.04826926 0.9517307 ]]\n",
      "Predicting DataLoader 0: 100%|██████████████████| 16/16 [00:05<00:00,  2.94it/s]"
     ]
    },
    {
     "name": "stderr",
     "output_type": "stream",
     "text": [
      "GPU available: True (mps), used: False\n",
      "TPU available: False, using: 0 TPU cores\n",
      "HPU available: False, using: 0 HPUs\n"
     ]
    },
    {
     "name": "stdout",
     "output_type": "stream",
     "text": [
      "\n",
      "Predicting DataLoader 0: 100%|██████████████████| 16/16 [00:05<00:00,  2.95it/s]"
     ]
    },
    {
     "name": "stderr",
     "output_type": "stream",
     "text": [
      "GPU available: True (mps), used: False\n",
      "TPU available: False, using: 0 TPU cores\n",
      "HPU available: False, using: 0 HPUs\n"
     ]
    },
    {
     "name": "stdout",
     "output_type": "stream",
     "text": [
      "\n",
      "[[0.11562664 0.88437337]\n",
      " [0.15740275 0.8425972 ]\n",
      " [0.11207438 0.8879256 ]\n",
      " ...\n",
      " [0.03995139 0.9600486 ]\n",
      " [0.01398711 0.9860129 ]\n",
      " [0.08441326 0.91558677]]\n",
      "Predicting DataLoader 0: 100%|██████████████████| 16/16 [00:05<00:00,  2.95it/s]"
     ]
    },
    {
     "name": "stderr",
     "output_type": "stream",
     "text": [
      "GPU available: True (mps), used: False\n",
      "TPU available: False, using: 0 TPU cores\n",
      "HPU available: False, using: 0 HPUs\n"
     ]
    },
    {
     "name": "stdout",
     "output_type": "stream",
     "text": [
      "\n",
      "Predicting DataLoader 0: 100%|██████████████████| 16/16 [00:05<00:00,  2.93it/s]"
     ]
    },
    {
     "name": "stderr",
     "output_type": "stream",
     "text": [
      "GPU available: True (mps), used: False\n",
      "TPU available: False, using: 0 TPU cores\n",
      "HPU available: False, using: 0 HPUs\n"
     ]
    },
    {
     "name": "stdout",
     "output_type": "stream",
     "text": [
      "\n",
      "[[0.04025991 0.95974004]\n",
      " [0.07176441 0.9282356 ]\n",
      " [0.02944277 0.9705573 ]\n",
      " ...\n",
      " [0.02908165 0.9709183 ]\n",
      " [0.00405589 0.9959441 ]\n",
      " [0.01046384 0.98953617]]\n",
      "Predicting DataLoader 0: 100%|██████████████████| 16/16 [00:05<00:00,  2.92it/s]"
     ]
    },
    {
     "name": "stderr",
     "output_type": "stream",
     "text": [
      "GPU available: True (mps), used: False\n",
      "TPU available: False, using: 0 TPU cores\n",
      "HPU available: False, using: 0 HPUs\n"
     ]
    },
    {
     "name": "stdout",
     "output_type": "stream",
     "text": [
      "\n",
      "Predicting DataLoader 0: 100%|██████████████████| 16/16 [00:05<00:00,  2.92it/s]"
     ]
    },
    {
     "name": "stderr",
     "output_type": "stream",
     "text": [
      "GPU available: True (mps), used: False\n",
      "TPU available: False, using: 0 TPU cores\n",
      "HPU available: False, using: 0 HPUs\n"
     ]
    },
    {
     "name": "stdout",
     "output_type": "stream",
     "text": [
      "\n",
      "[[0.01744746 0.9825525 ]\n",
      " [0.15202844 0.84797156]\n",
      " [0.04786813 0.9521318 ]\n",
      " ...\n",
      " [0.02796473 0.9720353 ]\n",
      " [0.00351964 0.9964804 ]\n",
      " [0.01871377 0.9812862 ]]\n",
      "Predicting DataLoader 0: 100%|██████████████████| 16/16 [00:05<00:00,  2.92it/s]"
     ]
    },
    {
     "name": "stderr",
     "output_type": "stream",
     "text": [
      "GPU available: True (mps), used: False\n",
      "TPU available: False, using: 0 TPU cores\n",
      "HPU available: False, using: 0 HPUs\n"
     ]
    },
    {
     "name": "stdout",
     "output_type": "stream",
     "text": [
      "\n",
      "6\n",
      "Predicting DataLoader 0: 100%|██████████████████| 16/16 [00:05<00:00,  2.94it/s]"
     ]
    },
    {
     "name": "stderr",
     "output_type": "stream",
     "text": [
      "GPU available: True (mps), used: False\n",
      "TPU available: False, using: 0 TPU cores\n",
      "HPU available: False, using: 0 HPUs\n"
     ]
    },
    {
     "name": "stdout",
     "output_type": "stream",
     "text": [
      "\n",
      "[[3.5451036e-02 9.6454895e-01]\n",
      " [1.1627031e-01 8.8372970e-01]\n",
      " [1.6447220e-02 9.8355281e-01]\n",
      " ...\n",
      " [1.6732689e-06 9.9999833e-01]\n",
      " [6.0704292e-07 9.9999940e-01]\n",
      " [1.2538785e-06 9.9999869e-01]]\n",
      "Predicting DataLoader 0: 100%|██████████████████| 16/16 [00:05<00:00,  2.93it/s]"
     ]
    },
    {
     "name": "stderr",
     "output_type": "stream",
     "text": [
      "GPU available: True (mps), used: False\n",
      "TPU available: False, using: 0 TPU cores\n",
      "HPU available: False, using: 0 HPUs\n"
     ]
    },
    {
     "name": "stdout",
     "output_type": "stream",
     "text": [
      "\n",
      "Predicting DataLoader 0: 100%|██████████████████| 16/16 [00:05<00:00,  2.93it/s]"
     ]
    },
    {
     "name": "stderr",
     "output_type": "stream",
     "text": [
      "GPU available: True (mps), used: False\n",
      "TPU available: False, using: 0 TPU cores\n",
      "HPU available: False, using: 0 HPUs\n"
     ]
    },
    {
     "name": "stdout",
     "output_type": "stream",
     "text": [
      "\n",
      "[[3.4534696e-01 6.5465307e-01]\n",
      " [1.9314297e-01 8.0685705e-01]\n",
      " [6.6624798e-02 9.3337524e-01]\n",
      " ...\n",
      " [1.3298409e-04 9.9986696e-01]\n",
      " [3.9043589e-06 9.9999607e-01]\n",
      " [7.1515038e-05 9.9992847e-01]]\n",
      "Predicting DataLoader 0: 100%|██████████████████| 16/16 [00:05<00:00,  2.92it/s]"
     ]
    },
    {
     "name": "stderr",
     "output_type": "stream",
     "text": [
      "GPU available: True (mps), used: False\n",
      "TPU available: False, using: 0 TPU cores\n",
      "HPU available: False, using: 0 HPUs\n"
     ]
    },
    {
     "name": "stdout",
     "output_type": "stream",
     "text": [
      "\n",
      "Predicting DataLoader 0: 100%|██████████████████| 16/16 [00:05<00:00,  2.91it/s]"
     ]
    },
    {
     "name": "stderr",
     "output_type": "stream",
     "text": [
      "GPU available: True (mps), used: False\n",
      "TPU available: False, using: 0 TPU cores\n",
      "HPU available: False, using: 0 HPUs\n"
     ]
    },
    {
     "name": "stdout",
     "output_type": "stream",
     "text": [
      "\n",
      "[[0.03604897 0.963951  ]\n",
      " [0.12222259 0.8777774 ]\n",
      " [0.02365012 0.9763499 ]\n",
      " ...\n",
      " [0.04441089 0.95558906]\n",
      " [0.00550386 0.99449617]\n",
      " [0.01433325 0.9856668 ]]\n",
      "Predicting DataLoader 0: 100%|██████████████████| 16/16 [00:05<00:00,  2.93it/s]"
     ]
    },
    {
     "name": "stderr",
     "output_type": "stream",
     "text": [
      "GPU available: True (mps), used: False\n",
      "TPU available: False, using: 0 TPU cores\n",
      "HPU available: False, using: 0 HPUs\n"
     ]
    },
    {
     "name": "stdout",
     "output_type": "stream",
     "text": [
      "\n",
      "Predicting DataLoader 0: 100%|██████████████████| 16/16 [00:05<00:00,  2.90it/s]"
     ]
    },
    {
     "name": "stderr",
     "output_type": "stream",
     "text": [
      "GPU available: True (mps), used: False\n",
      "TPU available: False, using: 0 TPU cores\n",
      "HPU available: False, using: 0 HPUs\n"
     ]
    },
    {
     "name": "stdout",
     "output_type": "stream",
     "text": [
      "\n",
      "[[0.06860118 0.9313988 ]\n",
      " [0.06765624 0.9323437 ]\n",
      " [0.02973796 0.97026205]\n",
      " ...\n",
      " [0.00609975 0.9939003 ]\n",
      " [0.00325184 0.9967482 ]\n",
      " [0.01333121 0.9866688 ]]\n",
      "Predicting DataLoader 0: 100%|██████████████████| 16/16 [00:05<00:00,  2.89it/s]"
     ]
    },
    {
     "name": "stderr",
     "output_type": "stream",
     "text": [
      "GPU available: True (mps), used: False\n",
      "TPU available: False, using: 0 TPU cores\n",
      "HPU available: False, using: 0 HPUs\n"
     ]
    },
    {
     "name": "stdout",
     "output_type": "stream",
     "text": [
      "\n",
      "Predicting DataLoader 0: 100%|██████████████████| 16/16 [00:05<00:00,  2.92it/s]"
     ]
    },
    {
     "name": "stderr",
     "output_type": "stream",
     "text": [
      "GPU available: True (mps), used: False\n",
      "TPU available: False, using: 0 TPU cores\n",
      "HPU available: False, using: 0 HPUs\n"
     ]
    },
    {
     "name": "stdout",
     "output_type": "stream",
     "text": [
      "\n",
      "[[0.61482257 0.38517752]\n",
      " [0.6401203  0.35987967]\n",
      " [0.16077915 0.8392208 ]\n",
      " ...\n",
      " [0.00505166 0.99494827]\n",
      " [0.00103501 0.998965  ]\n",
      " [0.00385755 0.99614245]]\n",
      "Predicting DataLoader 0: 100%|██████████████████| 16/16 [00:05<00:00,  2.91it/s]"
     ]
    },
    {
     "name": "stderr",
     "output_type": "stream",
     "text": [
      "GPU available: True (mps), used: False\n",
      "TPU available: False, using: 0 TPU cores\n",
      "HPU available: False, using: 0 HPUs\n"
     ]
    },
    {
     "name": "stdout",
     "output_type": "stream",
     "text": [
      "\n",
      "7\n",
      "Predicting DataLoader 0: 100%|██████████████████| 16/16 [00:05<00:00,  2.92it/s]"
     ]
    },
    {
     "name": "stderr",
     "output_type": "stream",
     "text": [
      "GPU available: True (mps), used: False\n",
      "TPU available: False, using: 0 TPU cores\n",
      "HPU available: False, using: 0 HPUs\n"
     ]
    },
    {
     "name": "stdout",
     "output_type": "stream",
     "text": [
      "\n",
      "[[0.00185949 0.99814045]\n",
      " [0.00557223 0.9944278 ]\n",
      " [0.00330676 0.99669325]\n",
      " ...\n",
      " [0.0321549  0.96784514]\n",
      " [0.00171512 0.9982849 ]\n",
      " [0.00624702 0.993753  ]]\n",
      "Predicting DataLoader 0: 100%|██████████████████| 16/16 [00:05<00:00,  2.91it/s]"
     ]
    },
    {
     "name": "stderr",
     "output_type": "stream",
     "text": [
      "GPU available: True (mps), used: False\n",
      "TPU available: False, using: 0 TPU cores\n",
      "HPU available: False, using: 0 HPUs\n"
     ]
    },
    {
     "name": "stdout",
     "output_type": "stream",
     "text": [
      "\n",
      "Predicting DataLoader 0: 100%|██████████████████| 16/16 [00:05<00:00,  2.89it/s]"
     ]
    },
    {
     "name": "stderr",
     "output_type": "stream",
     "text": [
      "GPU available: True (mps), used: False\n",
      "TPU available: False, using: 0 TPU cores\n",
      "HPU available: False, using: 0 HPUs\n"
     ]
    },
    {
     "name": "stdout",
     "output_type": "stream",
     "text": [
      "\n",
      "[[0.1913344  0.80866563]\n",
      " [0.28968573 0.7103143 ]\n",
      " [0.0495371  0.95046294]\n",
      " ...\n",
      " [0.039822   0.9601781 ]\n",
      " [0.00865791 0.9913421 ]\n",
      " [0.01319581 0.9868041 ]]\n",
      "Predicting DataLoader 0: 100%|██████████████████| 16/16 [00:05<00:00,  2.92it/s]"
     ]
    },
    {
     "name": "stderr",
     "output_type": "stream",
     "text": [
      "GPU available: True (mps), used: False\n",
      "TPU available: False, using: 0 TPU cores\n",
      "HPU available: False, using: 0 HPUs\n"
     ]
    },
    {
     "name": "stdout",
     "output_type": "stream",
     "text": [
      "\n",
      "Predicting DataLoader 0: 100%|██████████████████| 16/16 [00:05<00:00,  2.90it/s]"
     ]
    },
    {
     "name": "stderr",
     "output_type": "stream",
     "text": [
      "GPU available: True (mps), used: False\n",
      "TPU available: False, using: 0 TPU cores\n",
      "HPU available: False, using: 0 HPUs\n"
     ]
    },
    {
     "name": "stdout",
     "output_type": "stream",
     "text": [
      "\n",
      "[[2.3406655e-02 9.7659338e-01]\n",
      " [9.9320956e-02 9.0067911e-01]\n",
      " [7.1227454e-02 9.2877257e-01]\n",
      " ...\n",
      " [3.7422918e-03 9.9625766e-01]\n",
      " [6.1072619e-04 9.9938929e-01]\n",
      " [2.7529604e-03 9.9724704e-01]]\n",
      "Predicting DataLoader 0: 100%|██████████████████| 16/16 [00:05<00:00,  2.92it/s]"
     ]
    },
    {
     "name": "stderr",
     "output_type": "stream",
     "text": [
      "GPU available: True (mps), used: False\n",
      "TPU available: False, using: 0 TPU cores\n",
      "HPU available: False, using: 0 HPUs\n"
     ]
    },
    {
     "name": "stdout",
     "output_type": "stream",
     "text": [
      "\n",
      "Predicting DataLoader 0: 100%|██████████████████| 16/16 [00:05<00:00,  2.93it/s]"
     ]
    },
    {
     "name": "stderr",
     "output_type": "stream",
     "text": [
      "GPU available: True (mps), used: False\n",
      "TPU available: False, using: 0 TPU cores\n",
      "HPU available: False, using: 0 HPUs\n"
     ]
    },
    {
     "name": "stdout",
     "output_type": "stream",
     "text": [
      "\n",
      "[[1.4387770e-03 9.9856120e-01]\n",
      " [3.8348308e-03 9.9616516e-01]\n",
      " [7.8976364e-04 9.9921024e-01]\n",
      " ...\n",
      " [1.2480328e-02 9.8751962e-01]\n",
      " [4.5515010e-03 9.9544853e-01]\n",
      " [2.5094677e-02 9.7490531e-01]]\n",
      "Predicting DataLoader 0: 100%|██████████████████| 16/16 [00:05<00:00,  2.91it/s]"
     ]
    },
    {
     "name": "stderr",
     "output_type": "stream",
     "text": [
      "GPU available: True (mps), used: False\n",
      "TPU available: False, using: 0 TPU cores\n",
      "HPU available: False, using: 0 HPUs\n"
     ]
    },
    {
     "name": "stdout",
     "output_type": "stream",
     "text": [
      "\n",
      "Predicting DataLoader 0: 100%|██████████████████| 16/16 [00:05<00:00,  2.93it/s]"
     ]
    },
    {
     "name": "stderr",
     "output_type": "stream",
     "text": [
      "GPU available: True (mps), used: False\n",
      "TPU available: False, using: 0 TPU cores\n",
      "HPU available: False, using: 0 HPUs\n"
     ]
    },
    {
     "name": "stdout",
     "output_type": "stream",
     "text": [
      "\n",
      "[[0.3610651  0.6389349 ]\n",
      " [0.78972787 0.21027209]\n",
      " [0.27922377 0.7207762 ]\n",
      " ...\n",
      " [0.09852447 0.9014755 ]\n",
      " [0.00822348 0.99177647]\n",
      " [0.02889758 0.9711024 ]]\n",
      "Predicting DataLoader 0: 100%|██████████████████| 16/16 [00:05<00:00,  2.93it/s]"
     ]
    },
    {
     "name": "stderr",
     "output_type": "stream",
     "text": [
      "GPU available: True (mps), used: False\n",
      "TPU available: False, using: 0 TPU cores\n",
      "HPU available: False, using: 0 HPUs\n"
     ]
    },
    {
     "name": "stdout",
     "output_type": "stream",
     "text": [
      "\n",
      "8\n",
      "Predicting DataLoader 0: 100%|██████████████████| 16/16 [00:05<00:00,  2.93it/s]"
     ]
    },
    {
     "name": "stderr",
     "output_type": "stream",
     "text": [
      "GPU available: True (mps), used: False\n",
      "TPU available: False, using: 0 TPU cores\n",
      "HPU available: False, using: 0 HPUs\n"
     ]
    },
    {
     "name": "stdout",
     "output_type": "stream",
     "text": [
      "\n",
      "[[6.1935920e-05 9.9993801e-01]\n",
      " [5.1460747e-04 9.9948537e-01]\n",
      " [4.0136607e-04 9.9959868e-01]\n",
      " ...\n",
      " [5.9901264e-02 9.4009870e-01]\n",
      " [6.8527064e-03 9.9314731e-01]\n",
      " [4.2234674e-02 9.5776534e-01]]\n",
      "Predicting DataLoader 0: 100%|██████████████████| 16/16 [00:05<00:00,  2.92it/s]"
     ]
    },
    {
     "name": "stderr",
     "output_type": "stream",
     "text": [
      "GPU available: True (mps), used: False\n",
      "TPU available: False, using: 0 TPU cores\n",
      "HPU available: False, using: 0 HPUs\n"
     ]
    },
    {
     "name": "stdout",
     "output_type": "stream",
     "text": [
      "\n",
      "Predicting DataLoader 0: 100%|██████████████████| 16/16 [00:05<00:00,  2.92it/s]"
     ]
    },
    {
     "name": "stderr",
     "output_type": "stream",
     "text": [
      "GPU available: True (mps), used: False\n",
      "TPU available: False, using: 0 TPU cores\n",
      "HPU available: False, using: 0 HPUs\n"
     ]
    },
    {
     "name": "stdout",
     "output_type": "stream",
     "text": [
      "\n",
      "[[0.3399667  0.6600333 ]\n",
      " [0.7748819  0.22511806]\n",
      " [0.48487023 0.51512975]\n",
      " ...\n",
      " [0.01965982 0.9803402 ]\n",
      " [0.00170365 0.9982963 ]\n",
      " [0.00756677 0.9924332 ]]\n",
      "Predicting DataLoader 0: 100%|██████████████████| 16/16 [00:05<00:00,  2.93it/s]"
     ]
    },
    {
     "name": "stderr",
     "output_type": "stream",
     "text": [
      "GPU available: True (mps), used: False\n",
      "TPU available: False, using: 0 TPU cores\n",
      "HPU available: False, using: 0 HPUs\n"
     ]
    },
    {
     "name": "stdout",
     "output_type": "stream",
     "text": [
      "\n",
      "Predicting DataLoader 0: 100%|██████████████████| 16/16 [00:05<00:00,  2.91it/s]"
     ]
    },
    {
     "name": "stderr",
     "output_type": "stream",
     "text": [
      "GPU available: True (mps), used: False\n",
      "TPU available: False, using: 0 TPU cores\n",
      "HPU available: False, using: 0 HPUs\n"
     ]
    },
    {
     "name": "stdout",
     "output_type": "stream",
     "text": [
      "\n",
      "[[0.16227691 0.8377231 ]\n",
      " [0.8452046  0.15479544]\n",
      " [0.41302887 0.5869711 ]\n",
      " ...\n",
      " [0.5771666  0.42283332]\n",
      " [0.20732239 0.7926776 ]\n",
      " [0.53813857 0.46186152]]\n",
      "Predicting DataLoader 0: 100%|██████████████████| 16/16 [00:05<00:00,  2.90it/s]"
     ]
    },
    {
     "name": "stderr",
     "output_type": "stream",
     "text": [
      "GPU available: True (mps), used: False\n",
      "TPU available: False, using: 0 TPU cores\n",
      "HPU available: False, using: 0 HPUs\n"
     ]
    },
    {
     "name": "stdout",
     "output_type": "stream",
     "text": [
      "\n",
      "Predicting DataLoader 0: 100%|██████████████████| 16/16 [00:05<00:00,  2.92it/s]"
     ]
    },
    {
     "name": "stderr",
     "output_type": "stream",
     "text": [
      "GPU available: True (mps), used: False\n",
      "TPU available: False, using: 0 TPU cores\n",
      "HPU available: False, using: 0 HPUs\n"
     ]
    },
    {
     "name": "stdout",
     "output_type": "stream",
     "text": [
      "\n",
      "[[0.04801713 0.9519828 ]\n",
      " [0.16550925 0.8344907 ]\n",
      " [0.0434509  0.95654905]\n",
      " ...\n",
      " [0.00630146 0.9936985 ]\n",
      " [0.00380426 0.9961958 ]\n",
      " [0.00520161 0.9947984 ]]\n",
      "Predicting DataLoader 0: 100%|██████████████████| 16/16 [00:05<00:00,  2.93it/s]"
     ]
    },
    {
     "name": "stderr",
     "output_type": "stream",
     "text": [
      "GPU available: True (mps), used: False\n",
      "TPU available: False, using: 0 TPU cores\n",
      "HPU available: False, using: 0 HPUs\n"
     ]
    },
    {
     "name": "stdout",
     "output_type": "stream",
     "text": [
      "\n",
      "Predicting DataLoader 0: 100%|██████████████████| 16/16 [00:05<00:00,  2.94it/s]"
     ]
    },
    {
     "name": "stderr",
     "output_type": "stream",
     "text": [
      "GPU available: True (mps), used: False\n",
      "TPU available: False, using: 0 TPU cores\n",
      "HPU available: False, using: 0 HPUs\n"
     ]
    },
    {
     "name": "stdout",
     "output_type": "stream",
     "text": [
      "\n",
      "[[1.6360469e-06 9.9999833e-01]\n",
      " [1.7674536e-05 9.9998236e-01]\n",
      " [6.8171330e-06 9.9999321e-01]\n",
      " ...\n",
      " [9.1818621e-04 9.9908185e-01]\n",
      " [7.5661148e-05 9.9992430e-01]\n",
      " [2.0626171e-04 9.9979371e-01]]\n",
      "Predicting DataLoader 0: 100%|██████████████████| 16/16 [00:05<00:00,  2.93it/s]"
     ]
    },
    {
     "name": "stderr",
     "output_type": "stream",
     "text": [
      "GPU available: True (mps), used: False\n",
      "TPU available: False, using: 0 TPU cores\n",
      "HPU available: False, using: 0 HPUs\n"
     ]
    },
    {
     "name": "stdout",
     "output_type": "stream",
     "text": [
      "\n",
      "9\n",
      "Predicting DataLoader 0: 100%|██████████████████| 16/16 [00:05<00:00,  2.94it/s]"
     ]
    },
    {
     "name": "stderr",
     "output_type": "stream",
     "text": [
      "GPU available: True (mps), used: False\n",
      "TPU available: False, using: 0 TPU cores\n",
      "HPU available: False, using: 0 HPUs\n"
     ]
    },
    {
     "name": "stdout",
     "output_type": "stream",
     "text": [
      "\n",
      "[[0.46594936 0.5340506 ]\n",
      " [0.8499483  0.15005173]\n",
      " [0.3542104  0.6457896 ]\n",
      " ...\n",
      " [0.5173642  0.48263586]\n",
      " [0.07130743 0.9286926 ]\n",
      " [0.1665391  0.83346087]]\n",
      "Predicting DataLoader 0: 100%|██████████████████| 16/16 [00:05<00:00,  2.93it/s]"
     ]
    },
    {
     "name": "stderr",
     "output_type": "stream",
     "text": [
      "GPU available: True (mps), used: False\n",
      "TPU available: False, using: 0 TPU cores\n",
      "HPU available: False, using: 0 HPUs\n"
     ]
    },
    {
     "name": "stdout",
     "output_type": "stream",
     "text": [
      "\n",
      "Predicting DataLoader 0: 100%|██████████████████| 16/16 [00:05<00:00,  2.95it/s]"
     ]
    },
    {
     "name": "stderr",
     "output_type": "stream",
     "text": [
      "GPU available: True (mps), used: False\n",
      "TPU available: False, using: 0 TPU cores\n",
      "HPU available: False, using: 0 HPUs\n"
     ]
    },
    {
     "name": "stdout",
     "output_type": "stream",
     "text": [
      "\n",
      "[[7.1503244e-05 9.9992847e-01]\n",
      " [4.6564988e-04 9.9953437e-01]\n",
      " [1.0963054e-03 9.9890363e-01]\n",
      " ...\n",
      " [5.0659818e-03 9.9493402e-01]\n",
      " [2.9214185e-03 9.9707866e-01]\n",
      " [5.1300894e-03 9.9486995e-01]]\n",
      "Predicting DataLoader 0: 100%|██████████████████| 16/16 [00:05<00:00,  2.94it/s]"
     ]
    },
    {
     "name": "stderr",
     "output_type": "stream",
     "text": [
      "GPU available: True (mps), used: False\n",
      "TPU available: False, using: 0 TPU cores\n",
      "HPU available: False, using: 0 HPUs\n"
     ]
    },
    {
     "name": "stdout",
     "output_type": "stream",
     "text": [
      "\n",
      "Predicting DataLoader 0: 100%|██████████████████| 16/16 [00:05<00:00,  2.95it/s]"
     ]
    },
    {
     "name": "stderr",
     "output_type": "stream",
     "text": [
      "GPU available: True (mps), used: False\n",
      "TPU available: False, using: 0 TPU cores\n",
      "HPU available: False, using: 0 HPUs\n"
     ]
    },
    {
     "name": "stdout",
     "output_type": "stream",
     "text": [
      "\n",
      "[[6.6291934e-05 9.9993372e-01]\n",
      " [1.0106383e-03 9.9898940e-01]\n",
      " [2.0202213e-04 9.9979800e-01]\n",
      " ...\n",
      " [2.9869515e-01 7.0130491e-01]\n",
      " [8.3004780e-02 9.1699523e-01]\n",
      " [2.2025202e-01 7.7974796e-01]]\n",
      "Predicting DataLoader 0: 100%|██████████████████| 16/16 [00:05<00:00,  2.96it/s]"
     ]
    },
    {
     "name": "stderr",
     "output_type": "stream",
     "text": [
      "GPU available: True (mps), used: False\n",
      "TPU available: False, using: 0 TPU cores\n",
      "HPU available: False, using: 0 HPUs\n"
     ]
    },
    {
     "name": "stdout",
     "output_type": "stream",
     "text": [
      "\n",
      "Predicting DataLoader 0: 100%|██████████████████| 16/16 [00:05<00:00,  2.93it/s]"
     ]
    },
    {
     "name": "stderr",
     "output_type": "stream",
     "text": [
      "GPU available: True (mps), used: False\n",
      "TPU available: False, using: 0 TPU cores\n",
      "HPU available: False, using: 0 HPUs\n"
     ]
    },
    {
     "name": "stdout",
     "output_type": "stream",
     "text": [
      "\n",
      "[[0.01624322 0.9837568 ]\n",
      " [0.08099665 0.9190033 ]\n",
      " [0.01401749 0.9859825 ]\n",
      " ...\n",
      " [0.2351152  0.7648848 ]\n",
      " [0.03184614 0.9681539 ]\n",
      " [0.24339785 0.75660217]]\n",
      "Predicting DataLoader 0: 100%|██████████████████| 16/16 [00:05<00:00,  2.95it/s]"
     ]
    },
    {
     "name": "stderr",
     "output_type": "stream",
     "text": [
      "GPU available: True (mps), used: False\n",
      "TPU available: False, using: 0 TPU cores\n",
      "HPU available: False, using: 0 HPUs\n"
     ]
    },
    {
     "name": "stdout",
     "output_type": "stream",
     "text": [
      "\n",
      "Predicting DataLoader 0: 100%|██████████████████| 16/16 [00:05<00:00,  2.92it/s]"
     ]
    },
    {
     "name": "stderr",
     "output_type": "stream",
     "text": [
      "GPU available: True (mps), used: False\n",
      "TPU available: False, using: 0 TPU cores\n",
      "HPU available: False, using: 0 HPUs\n"
     ]
    },
    {
     "name": "stdout",
     "output_type": "stream",
     "text": [
      "\n",
      "[[1.1243429e-03 9.9887568e-01]\n",
      " [6.2583615e-03 9.9374157e-01]\n",
      " [4.4392473e-03 9.9556077e-01]\n",
      " ...\n",
      " [8.6281756e-03 9.9137187e-01]\n",
      " [8.4736629e-04 9.9915266e-01]\n",
      " [6.3404478e-03 9.9365956e-01]]\n",
      "Predicting DataLoader 0: 100%|██████████████████| 16/16 [00:05<00:00,  2.93it/s]\n",
      "cycles\n",
      "Accuracy:\n",
      "Accuracy_list: [0.883399209486166, 0.8231225296442688, 0.849802371541502, 0.7598814229249012, 0.8023715415019763, 0.7509881422924901, 0.8300395256916996, 0.7154150197628458, 0.7519762845849802, 0.7450592885375494]\n",
      "Accuracy_mean: 0.791205533596838\n",
      "Accuracy_std: 0.051571277833106256\n",
      "---\n",
      "Confusion matrix\n",
      "Confusion matrix mean: [[185.2  13.8]\n",
      " [197.5 615.5]]\n",
      "Confusion matrix std: [[ 5.43691089  5.43691089]\n",
      " [55.00772673 55.00772673]]\n",
      "---\n",
      "F1\n",
      "F1_list: [0.9241645244215938, 0.8797850906648758, 0.8986666666666666, 0.8270462633451957, 0.861878453038674, 0.8194842406876791, 0.8834688346883469, 0.7900874635568513, 0.8213523131672598, 0.8125]\n",
      "F1_mean: 0.8518433850237143\n",
      "F1_std: 0.04154249654067003\n",
      "---\n",
      "Sensitivity\n",
      "Sensitivity list: [0.8843788437884379, 0.8056580565805658, 0.8290282902829028, 0.7146371463714637, 0.7675276752767528, 0.7035670356703567, 0.8019680196801968, 0.6666666666666666, 0.7097170971709718, 0.6875768757687577]\n",
      "Sensitivity mean: 0.7570725707257073\n",
      "Sensitivity std: 0.06766018047967844\n",
      "---\n",
      "Specificity\n",
      "Specificity list: [0.8793969849246231, 0.8944723618090452, 0.9346733668341709, 0.9447236180904522, 0.9447236180904522, 0.9447236180904522, 0.9447236180904522, 0.914572864321608, 0.9246231155778895, 0.9798994974874372]\n",
      "Specificity mean: 0.9306532663316582\n",
      "Specificity std: 0.027321160239333037\n",
      "---\n",
      "AUC\n",
      "AUC list: [np.float64(0.8818879143565305), np.float64(0.8500652091948054), np.float64(0.8818508285585368), np.float64(0.829680382230958), np.float64(0.8561256466836026), np.float64(0.8241453268804044), np.float64(0.8733458188853245), np.float64(0.7906197654941373), np.float64(0.8171701063744305), np.float64(0.8337381866280975)]\n",
      "AUC mean: 0.8438629185286828\n",
      "AUC std: 0.028612660587505334\n"
     ]
    }
   ],
   "source": [
    "X_d = X_d_original.copy()\n",
    "\n",
    "arr = arr_all[2]\n",
    "first_half_arr = arr[:len(arr) // 2]\n",
    "last_half_arr = arr[len(arr) // 2:]\n",
    "print(first_half_arr)\n",
    "print(last_half_arr)\n",
    "\n",
    "X_d[:,last_half_arr,:] = 0\n",
    "print(X_d)\n",
    "path_img = './img_cm/'\n",
    "\n",
    "D_name_add = 'TDvsCPu'\n",
    "D_name = D_name_add+\"_full_5_original_weight\"\n",
    "# Net_name_list = ['ResNet','LSTM','InceptionTime']\n",
    "Net_name_list = ['InceptionTime']\n",
    "for Net_name in Net_name_list:\n",
    "    # for j in range(5):\n",
    "        # train_model(D_name=D_name,Net_name=Net_name)\n",
    "    out = eval_model_5_bundle(D_name,Net_name)\n",
    "    np.save( './new_train_lrR_ET_'+D_name+'_'+Net_name+'/prediction_test.npy' ,out)\n",
    "\n",
    "out = np.load( './new_train_lrR_ET_'+D_name_add+'_full_5_original_weight_InceptionTime/prediction_test.npy')\n",
    "\n",
    "save = path_img+D_name_add+\"_InceptionTime_original_weight\"\n",
    "print(\"cycles\")\n",
    "results_cycles = print_result_bundle_i_cycles(out,y_d,x_test,cycle_end_idx,label_list=['TD', 'CPu'],n_model=10)\n",
    "list_result_all.append(output_csv(results_cycles))"
   ]
  },
  {
   "cell_type": "markdown",
   "metadata": {},
   "source": [
    "## Evaluation of Fidelity by replace the first half to zero for InceptionTime"
   ]
  },
  {
   "cell_type": "code",
   "execution_count": 19,
   "metadata": {
    "scrolled": true
   },
   "outputs": [
    {
     "name": "stderr",
     "output_type": "stream",
     "text": [
      "GPU available: True (mps), used: False\n",
      "TPU available: False, using: 0 TPU cores\n",
      "HPU available: False, using: 0 HPUs\n"
     ]
    },
    {
     "name": "stdout",
     "output_type": "stream",
     "text": [
      "[ 3 17  0  6 11  8 20  9  2 19 10]\n",
      "[13 14  7 21  5 16 12  1 18  4 15]\n",
      "[[[  0.           0.           0.         ...   0.           0.\n",
      "     0.        ]\n",
      "  [ -0.09395     -0.20055     -0.26530001 ...  -1.81280005  -1.99220002\n",
      "    -2.14240003]\n",
      "  [  0.           0.           0.         ...   0.           0.\n",
      "     0.        ]\n",
      "  ...\n",
      "  [  0.           0.           0.         ...   0.           0.\n",
      "     0.        ]\n",
      "  [  0.           0.           0.         ...   0.           0.\n",
      "     0.        ]\n",
      "  [ -1.2658      -0.74980998  -0.40599999 ...  -4.43109989  -4.59639978\n",
      "    -4.76749992]]\n",
      "\n",
      " [[  0.           0.           0.         ...   0.           0.\n",
      "     0.        ]\n",
      "  [ -2.14240003  -2.2730999   -2.33719993 ...   0.41102999   0.15759\n",
      "    -0.10672   ]\n",
      "  [  0.           0.           0.         ...   0.           0.\n",
      "     0.        ]\n",
      "  ...\n",
      "  [  0.           0.           0.         ...   0.           0.\n",
      "     0.        ]\n",
      "  [  0.           0.           0.         ...   0.           0.\n",
      "     0.        ]\n",
      "  [ -4.76749992  -4.95900011  -5.13100004 ...  -9.70460033  -8.66300011\n",
      "    -7.74450016]]\n",
      "\n",
      " [[  0.           0.           0.         ...   0.           0.\n",
      "     0.        ]\n",
      "  [ -0.10672     -0.37911001  -0.63415998 ...  -0.77192003  -0.53368998\n",
      "    -0.26010999]\n",
      "  [  0.           0.           0.         ...   0.           0.\n",
      "     0.        ]\n",
      "  ...\n",
      "  [  0.           0.           0.         ...   0.           0.\n",
      "     0.        ]\n",
      "  [  0.           0.           0.         ...   0.           0.\n",
      "     0.        ]\n",
      "  [ -7.74450016  -6.95069981  -6.34880018 ... -20.10820007 -20.39389992\n",
      "   -20.59670067]]\n",
      "\n",
      " ...\n",
      "\n",
      " [[  0.           0.           0.         ...   0.           0.\n",
      "     0.        ]\n",
      "  [ -2.24236083  -1.90473559  -1.48810814 ...  -1.58531152  -1.42573044\n",
      "    -1.23178673]\n",
      "  [  0.           0.           0.         ...   0.           0.\n",
      "     0.        ]\n",
      "  ...\n",
      "  [  0.           0.           0.         ...   0.           0.\n",
      "     0.        ]\n",
      "  [  0.           0.           0.         ...   0.           0.\n",
      "     0.        ]\n",
      "  [ -8.6161232   -8.1762023   -7.78185129 ... -10.18683767  -9.91475296\n",
      "    -9.76077271]]\n",
      "\n",
      " [[  0.           0.           0.         ...   0.           0.\n",
      "     0.        ]\n",
      "  [ -1.71433377  -1.36683762  -0.93525237 ...  -2.38095212  -2.21133912\n",
      "    -1.99000728]\n",
      "  [  0.           0.           0.         ...   0.           0.\n",
      "     0.        ]\n",
      "  ...\n",
      "  [  0.           0.           0.         ...   0.           0.\n",
      "     0.        ]\n",
      "  [  0.           0.           0.         ...   0.           0.\n",
      "     0.        ]\n",
      "  [ -7.28481627  -7.17203269  -7.02763611 ...  -8.22230179  -8.23544794\n",
      "    -8.25190353]]\n",
      "\n",
      " [[  0.           0.           0.         ...   0.           0.\n",
      "     0.        ]\n",
      "  [ -1.7625562   -1.40059227  -0.95089936 ...  -1.8705765   -1.68114087\n",
      "    -1.45049751]\n",
      "  [  0.           0.           0.         ...   0.           0.\n",
      "     0.        ]\n",
      "  ...\n",
      "  [  0.           0.           0.         ...   0.           0.\n",
      "     0.        ]\n",
      "  [  0.           0.           0.         ...   0.           0.\n",
      "     0.        ]\n",
      "  [ -8.25153828  -8.21928295  -8.15699265 ...  -5.7183407   -6.01631781\n",
      "    -6.36253643]]]\n",
      "0\n"
     ]
    },
    {
     "name": "stderr",
     "output_type": "stream",
     "text": [
      "/opt/anaconda3/envs/env_gait_new/lib/python3.13/site-packages/pytorch_lightning/trainer/setup.py:177: GPU available but not used. You can set it by doing `Trainer(accelerator='gpu')`.\n",
      "/opt/anaconda3/envs/env_gait_new/lib/python3.13/site-packages/pytorch_lightning/trainer/connectors/data_connector.py:425: The 'predict_dataloader' does not have many workers which may be a bottleneck. Consider increasing the value of the `num_workers` argument` to `num_workers=13` in the `DataLoader` to improve performance.\n"
     ]
    },
    {
     "name": "stdout",
     "output_type": "stream",
     "text": [
      "Predicting DataLoader 0:   6%|█▏                 | 1/16 [00:00<00:05,  2.86it/s]"
     ]
    },
    {
     "name": "stderr",
     "output_type": "stream",
     "text": [
      "/opt/anaconda3/envs/env_gait_new/lib/python3.13/site-packages/torch/nn/modules/module.py:1739: UserWarning: Implicit dimension choice for softmax has been deprecated. Change the call to include dim=X as an argument.\n",
      "  return self._call_impl(*args, **kwargs)\n"
     ]
    },
    {
     "name": "stdout",
     "output_type": "stream",
     "text": [
      "Predicting DataLoader 0: 100%|██████████████████| 16/16 [00:05<00:00,  2.95it/s]"
     ]
    },
    {
     "name": "stderr",
     "output_type": "stream",
     "text": [
      "GPU available: True (mps), used: False\n",
      "TPU available: False, using: 0 TPU cores\n",
      "HPU available: False, using: 0 HPUs\n"
     ]
    },
    {
     "name": "stdout",
     "output_type": "stream",
     "text": [
      "\n",
      "[[9.9995553e-01 4.4462173e-05]\n",
      " [9.9995112e-01 4.8841663e-05]\n",
      " [9.9992859e-01 7.1391230e-05]\n",
      " ...\n",
      " [9.9999726e-01 2.7035014e-06]\n",
      " [9.9998713e-01 1.2921524e-05]\n",
      " [9.9998558e-01 1.4477361e-05]]\n",
      "Predicting DataLoader 0: 100%|██████████████████| 16/16 [00:05<00:00,  2.95it/s]"
     ]
    },
    {
     "name": "stderr",
     "output_type": "stream",
     "text": [
      "GPU available: True (mps), used: False\n",
      "TPU available: False, using: 0 TPU cores\n",
      "HPU available: False, using: 0 HPUs\n"
     ]
    },
    {
     "name": "stdout",
     "output_type": "stream",
     "text": [
      "\n",
      "Predicting DataLoader 0: 100%|██████████████████| 16/16 [00:05<00:00,  2.97it/s]"
     ]
    },
    {
     "name": "stderr",
     "output_type": "stream",
     "text": [
      "GPU available: True (mps), used: False\n",
      "TPU available: False, using: 0 TPU cores\n",
      "HPU available: False, using: 0 HPUs\n"
     ]
    },
    {
     "name": "stdout",
     "output_type": "stream",
     "text": [
      "\n",
      "[[9.9880552e-01 1.1944796e-03]\n",
      " [9.9904603e-01 9.5389789e-04]\n",
      " [9.9816447e-01 1.8355105e-03]\n",
      " ...\n",
      " [9.9985361e-01 1.4633957e-04]\n",
      " [9.9969995e-01 3.0011008e-04]\n",
      " [9.9969292e-01 3.0712169e-04]]\n",
      "Predicting DataLoader 0: 100%|██████████████████| 16/16 [00:05<00:00,  2.94it/s]"
     ]
    },
    {
     "name": "stderr",
     "output_type": "stream",
     "text": [
      "GPU available: True (mps), used: False\n",
      "TPU available: False, using: 0 TPU cores\n",
      "HPU available: False, using: 0 HPUs\n"
     ]
    },
    {
     "name": "stdout",
     "output_type": "stream",
     "text": [
      "\n",
      "Predicting DataLoader 0: 100%|██████████████████| 16/16 [00:05<00:00,  2.93it/s]"
     ]
    },
    {
     "name": "stderr",
     "output_type": "stream",
     "text": [
      "GPU available: True (mps), used: False\n",
      "TPU available: False, using: 0 TPU cores\n",
      "HPU available: False, using: 0 HPUs\n"
     ]
    },
    {
     "name": "stdout",
     "output_type": "stream",
     "text": [
      "\n",
      "[[9.9999011e-01 9.8503833e-06]\n",
      " [9.9999297e-01 7.0600222e-06]\n",
      " [9.9998391e-01 1.6128288e-05]\n",
      " ...\n",
      " [9.9999285e-01 7.1022682e-06]\n",
      " [9.9995029e-01 4.9696522e-05]\n",
      " [9.9996960e-01 3.0397981e-05]]\n",
      "Predicting DataLoader 0: 100%|██████████████████| 16/16 [00:05<00:00,  2.94it/s]"
     ]
    },
    {
     "name": "stderr",
     "output_type": "stream",
     "text": [
      "GPU available: True (mps), used: False\n",
      "TPU available: False, using: 0 TPU cores\n",
      "HPU available: False, using: 0 HPUs\n"
     ]
    },
    {
     "name": "stdout",
     "output_type": "stream",
     "text": [
      "\n",
      "Predicting DataLoader 0: 100%|██████████████████| 16/16 [00:05<00:00,  2.98it/s]"
     ]
    },
    {
     "name": "stderr",
     "output_type": "stream",
     "text": [
      "GPU available: True (mps), used: False\n",
      "TPU available: False, using: 0 TPU cores\n",
      "HPU available: False, using: 0 HPUs\n"
     ]
    },
    {
     "name": "stdout",
     "output_type": "stream",
     "text": [
      "\n",
      "[[9.9999249e-01 7.5311709e-06]\n",
      " [9.9999428e-01 5.7803704e-06]\n",
      " [9.9999547e-01 4.5331690e-06]\n",
      " ...\n",
      " [9.9999559e-01 4.3581763e-06]\n",
      " [9.9997330e-01 2.6705078e-05]\n",
      " [9.9997580e-01 2.4169498e-05]]\n",
      "Predicting DataLoader 0: 100%|██████████████████| 16/16 [00:05<00:00,  2.95it/s]"
     ]
    },
    {
     "name": "stderr",
     "output_type": "stream",
     "text": [
      "GPU available: True (mps), used: False\n",
      "TPU available: False, using: 0 TPU cores\n",
      "HPU available: False, using: 0 HPUs\n"
     ]
    },
    {
     "name": "stdout",
     "output_type": "stream",
     "text": [
      "\n",
      "Predicting DataLoader 0: 100%|██████████████████| 16/16 [00:05<00:00,  2.94it/s]"
     ]
    },
    {
     "name": "stderr",
     "output_type": "stream",
     "text": [
      "GPU available: True (mps), used: False\n",
      "TPU available: False, using: 0 TPU cores\n",
      "HPU available: False, using: 0 HPUs\n"
     ]
    },
    {
     "name": "stdout",
     "output_type": "stream",
     "text": [
      "\n",
      "[[9.9985206e-01 1.4793633e-04]\n",
      " [9.9988174e-01 1.1827325e-04]\n",
      " [9.9999166e-01 8.2894658e-06]\n",
      " ...\n",
      " [9.9992669e-01 7.3288720e-05]\n",
      " [9.9740249e-01 2.5974705e-03]\n",
      " [9.9736291e-01 2.6370559e-03]]\n",
      "Predicting DataLoader 0: 100%|██████████████████| 16/16 [00:05<00:00,  2.94it/s]"
     ]
    },
    {
     "name": "stderr",
     "output_type": "stream",
     "text": [
      "GPU available: True (mps), used: False\n",
      "TPU available: False, using: 0 TPU cores\n",
      "HPU available: False, using: 0 HPUs\n"
     ]
    },
    {
     "name": "stdout",
     "output_type": "stream",
     "text": [
      "\n",
      "1\n",
      "Predicting DataLoader 0: 100%|██████████████████| 16/16 [00:05<00:00,  2.95it/s]"
     ]
    },
    {
     "name": "stderr",
     "output_type": "stream",
     "text": [
      "GPU available: True (mps), used: False\n",
      "TPU available: False, using: 0 TPU cores\n",
      "HPU available: False, using: 0 HPUs\n"
     ]
    },
    {
     "name": "stdout",
     "output_type": "stream",
     "text": [
      "\n",
      "[[9.9986184e-01 1.3815907e-04]\n",
      " [9.9993253e-01 6.7515073e-05]\n",
      " [9.9963665e-01 3.6333452e-04]\n",
      " ...\n",
      " [9.9997497e-01 2.5016663e-05]\n",
      " [9.9986839e-01 1.3160982e-04]\n",
      " [9.9990642e-01 9.3537928e-05]]\n",
      "Predicting DataLoader 0: 100%|██████████████████| 16/16 [00:05<00:00,  2.94it/s]"
     ]
    },
    {
     "name": "stderr",
     "output_type": "stream",
     "text": [
      "GPU available: True (mps), used: False\n",
      "TPU available: False, using: 0 TPU cores\n",
      "HPU available: False, using: 0 HPUs\n"
     ]
    },
    {
     "name": "stdout",
     "output_type": "stream",
     "text": [
      "\n",
      "Predicting DataLoader 0: 100%|██████████████████| 16/16 [00:05<00:00,  2.96it/s]"
     ]
    },
    {
     "name": "stderr",
     "output_type": "stream",
     "text": [
      "GPU available: True (mps), used: False\n",
      "TPU available: False, using: 0 TPU cores\n",
      "HPU available: False, using: 0 HPUs\n"
     ]
    },
    {
     "name": "stdout",
     "output_type": "stream",
     "text": [
      "\n",
      "[[9.9652052e-01 3.4795434e-03]\n",
      " [9.9709737e-01 2.9026016e-03]\n",
      " [9.9908030e-01 9.1970834e-04]\n",
      " ...\n",
      " [9.9957174e-01 4.2830643e-04]\n",
      " [9.9757534e-01 2.4246213e-03]\n",
      " [9.9812251e-01 1.8774610e-03]]\n",
      "Predicting DataLoader 0: 100%|██████████████████| 16/16 [00:05<00:00,  2.95it/s]"
     ]
    },
    {
     "name": "stderr",
     "output_type": "stream",
     "text": [
      "GPU available: True (mps), used: False\n",
      "TPU available: False, using: 0 TPU cores\n",
      "HPU available: False, using: 0 HPUs\n"
     ]
    },
    {
     "name": "stdout",
     "output_type": "stream",
     "text": [
      "\n",
      "Predicting DataLoader 0: 100%|██████████████████| 16/16 [00:05<00:00,  2.97it/s]"
     ]
    },
    {
     "name": "stderr",
     "output_type": "stream",
     "text": [
      "GPU available: True (mps), used: False\n",
      "TPU available: False, using: 0 TPU cores\n",
      "HPU available: False, using: 0 HPUs\n"
     ]
    },
    {
     "name": "stdout",
     "output_type": "stream",
     "text": [
      "\n",
      "[[9.99899268e-01 1.00767036e-04]\n",
      " [9.99899864e-01 1.00122517e-04]\n",
      " [9.99921203e-01 7.87343452e-05]\n",
      " ...\n",
      " [9.99971509e-01 2.84610469e-05]\n",
      " [9.99914527e-01 8.55175822e-05]\n",
      " [9.99912858e-01 8.71663797e-05]]\n",
      "Predicting DataLoader 0: 100%|██████████████████| 16/16 [00:05<00:00,  2.97it/s]"
     ]
    },
    {
     "name": "stderr",
     "output_type": "stream",
     "text": [
      "GPU available: True (mps), used: False\n",
      "TPU available: False, using: 0 TPU cores\n",
      "HPU available: False, using: 0 HPUs\n"
     ]
    },
    {
     "name": "stdout",
     "output_type": "stream",
     "text": [
      "\n",
      "Predicting DataLoader 0: 100%|██████████████████| 16/16 [00:05<00:00,  2.96it/s]"
     ]
    },
    {
     "name": "stderr",
     "output_type": "stream",
     "text": [
      "GPU available: True (mps), used: False\n",
      "TPU available: False, using: 0 TPU cores\n",
      "HPU available: False, using: 0 HPUs\n"
     ]
    },
    {
     "name": "stdout",
     "output_type": "stream",
     "text": [
      "\n",
      "[[9.99593437e-01 4.06533189e-04]\n",
      " [9.99508142e-01 4.91903746e-04]\n",
      " [9.99816239e-01 1.83774755e-04]\n",
      " ...\n",
      " [9.99968171e-01 3.17840568e-05]\n",
      " [9.99882340e-01 1.17631025e-04]\n",
      " [9.99881148e-01 1.18882032e-04]]\n",
      "Predicting DataLoader 0: 100%|██████████████████| 16/16 [00:05<00:00,  2.95it/s]"
     ]
    },
    {
     "name": "stderr",
     "output_type": "stream",
     "text": [
      "GPU available: True (mps), used: False\n",
      "TPU available: False, using: 0 TPU cores\n",
      "HPU available: False, using: 0 HPUs\n"
     ]
    },
    {
     "name": "stdout",
     "output_type": "stream",
     "text": [
      "\n",
      "Predicting DataLoader 0: 100%|██████████████████| 16/16 [00:05<00:00,  2.93it/s]"
     ]
    },
    {
     "name": "stderr",
     "output_type": "stream",
     "text": [
      "GPU available: True (mps), used: False\n",
      "TPU available: False, using: 0 TPU cores\n",
      "HPU available: False, using: 0 HPUs\n"
     ]
    },
    {
     "name": "stdout",
     "output_type": "stream",
     "text": [
      "\n",
      "[[9.9633491e-01 3.6650663e-03]\n",
      " [9.9820328e-01 1.7967015e-03]\n",
      " [9.9918205e-01 8.1788836e-04]\n",
      " ...\n",
      " [9.9983597e-01 1.6398016e-04]\n",
      " [9.9940753e-01 5.9249339e-04]\n",
      " [9.9936694e-01 6.3302793e-04]]\n",
      "Predicting DataLoader 0: 100%|██████████████████| 16/16 [00:05<00:00,  2.95it/s]"
     ]
    },
    {
     "name": "stderr",
     "output_type": "stream",
     "text": [
      "GPU available: True (mps), used: False\n",
      "TPU available: False, using: 0 TPU cores\n",
      "HPU available: False, using: 0 HPUs\n"
     ]
    },
    {
     "name": "stdout",
     "output_type": "stream",
     "text": [
      "\n",
      "2\n",
      "Predicting DataLoader 0: 100%|██████████████████| 16/16 [00:05<00:00,  2.96it/s]"
     ]
    },
    {
     "name": "stderr",
     "output_type": "stream",
     "text": [
      "GPU available: True (mps), used: False\n",
      "TPU available: False, using: 0 TPU cores\n",
      "HPU available: False, using: 0 HPUs\n"
     ]
    },
    {
     "name": "stdout",
     "output_type": "stream",
     "text": [
      "\n",
      "[[9.9996257e-01 3.7428672e-05]\n",
      " [9.9998462e-01 1.5419113e-05]\n",
      " [9.9997318e-01 2.6822790e-05]\n",
      " ...\n",
      " [9.9999821e-01 1.8288271e-06]\n",
      " [9.9999297e-01 6.9966413e-06]\n",
      " [9.9999475e-01 5.2969076e-06]]\n",
      "Predicting DataLoader 0: 100%|██████████████████| 16/16 [00:05<00:00,  2.95it/s]"
     ]
    },
    {
     "name": "stderr",
     "output_type": "stream",
     "text": [
      "GPU available: True (mps), used: False\n",
      "TPU available: False, using: 0 TPU cores\n",
      "HPU available: False, using: 0 HPUs\n"
     ]
    },
    {
     "name": "stdout",
     "output_type": "stream",
     "text": [
      "\n",
      "Predicting DataLoader 0: 100%|██████████████████| 16/16 [00:05<00:00,  2.95it/s]"
     ]
    },
    {
     "name": "stderr",
     "output_type": "stream",
     "text": [
      "GPU available: True (mps), used: False\n",
      "TPU available: False, using: 0 TPU cores\n",
      "HPU available: False, using: 0 HPUs\n"
     ]
    },
    {
     "name": "stdout",
     "output_type": "stream",
     "text": [
      "\n",
      "[[9.9837047e-01 1.6295929e-03]\n",
      " [9.9842072e-01 1.5792390e-03]\n",
      " [9.9876177e-01 1.2382990e-03]\n",
      " ...\n",
      " [9.9910718e-01 8.9283334e-04]\n",
      " [9.8443258e-01 1.5567453e-02]\n",
      " [9.8504585e-01 1.4954137e-02]]\n",
      "Predicting DataLoader 0: 100%|██████████████████| 16/16 [00:05<00:00,  2.93it/s]"
     ]
    },
    {
     "name": "stderr",
     "output_type": "stream",
     "text": [
      "GPU available: True (mps), used: False\n",
      "TPU available: False, using: 0 TPU cores\n",
      "HPU available: False, using: 0 HPUs\n"
     ]
    },
    {
     "name": "stdout",
     "output_type": "stream",
     "text": [
      "\n",
      "Predicting DataLoader 0: 100%|██████████████████| 16/16 [00:05<00:00,  2.94it/s]"
     ]
    },
    {
     "name": "stderr",
     "output_type": "stream",
     "text": [
      "GPU available: True (mps), used: False\n",
      "TPU available: False, using: 0 TPU cores\n",
      "HPU available: False, using: 0 HPUs\n"
     ]
    },
    {
     "name": "stdout",
     "output_type": "stream",
     "text": [
      "\n",
      "[[9.9999976e-01 2.2937516e-07]\n",
      " [9.9999976e-01 2.3427022e-07]\n",
      " [9.9999940e-01 5.8027888e-07]\n",
      " ...\n",
      " [9.9999952e-01 4.3042425e-07]\n",
      " [9.9999404e-01 5.9404256e-06]\n",
      " [9.9999535e-01 4.6903956e-06]]\n",
      "Predicting DataLoader 0: 100%|██████████████████| 16/16 [00:05<00:00,  2.91it/s]"
     ]
    },
    {
     "name": "stderr",
     "output_type": "stream",
     "text": [
      "GPU available: True (mps), used: False\n",
      "TPU available: False, using: 0 TPU cores\n",
      "HPU available: False, using: 0 HPUs\n"
     ]
    },
    {
     "name": "stdout",
     "output_type": "stream",
     "text": [
      "\n",
      "Predicting DataLoader 0: 100%|██████████████████| 16/16 [00:05<00:00,  2.94it/s]"
     ]
    },
    {
     "name": "stderr",
     "output_type": "stream",
     "text": [
      "GPU available: True (mps), used: False\n",
      "TPU available: False, using: 0 TPU cores\n",
      "HPU available: False, using: 0 HPUs\n"
     ]
    },
    {
     "name": "stdout",
     "output_type": "stream",
     "text": [
      "\n",
      "[[9.99999642e-01 3.53294780e-07]\n",
      " [9.99999881e-01 8.58152944e-08]\n",
      " [1.00000000e+00 1.41948195e-08]\n",
      " ...\n",
      " [9.99999046e-01 9.04645333e-07]\n",
      " [9.99989390e-01 1.05798399e-05]\n",
      " [9.99989033e-01 1.09200073e-05]]\n",
      "Predicting DataLoader 0: 100%|██████████████████| 16/16 [00:05<00:00,  2.94it/s]"
     ]
    },
    {
     "name": "stderr",
     "output_type": "stream",
     "text": [
      "GPU available: True (mps), used: False\n",
      "TPU available: False, using: 0 TPU cores\n",
      "HPU available: False, using: 0 HPUs\n"
     ]
    },
    {
     "name": "stdout",
     "output_type": "stream",
     "text": [
      "\n",
      "Predicting DataLoader 0: 100%|██████████████████| 16/16 [00:05<00:00,  2.92it/s]"
     ]
    },
    {
     "name": "stderr",
     "output_type": "stream",
     "text": [
      "GPU available: True (mps), used: False\n",
      "TPU available: False, using: 0 TPU cores\n",
      "HPU available: False, using: 0 HPUs\n"
     ]
    },
    {
     "name": "stdout",
     "output_type": "stream",
     "text": [
      "\n",
      "[[9.9920112e-01 7.9894124e-04]\n",
      " [9.9976963e-01 2.3040611e-04]\n",
      " [9.9979609e-01 2.0386931e-04]\n",
      " ...\n",
      " [9.9991989e-01 8.0107944e-05]\n",
      " [9.9979466e-01 2.0534339e-04]\n",
      " [9.9973053e-01 2.6943805e-04]]\n",
      "Predicting DataLoader 0: 100%|██████████████████| 16/16 [00:05<00:00,  2.99it/s]"
     ]
    },
    {
     "name": "stderr",
     "output_type": "stream",
     "text": [
      "GPU available: True (mps), used: False\n",
      "TPU available: False, using: 0 TPU cores\n",
      "HPU available: False, using: 0 HPUs\n"
     ]
    },
    {
     "name": "stdout",
     "output_type": "stream",
     "text": [
      "\n",
      "3\n",
      "Predicting DataLoader 0: 100%|██████████████████| 16/16 [00:05<00:00,  2.99it/s]"
     ]
    },
    {
     "name": "stderr",
     "output_type": "stream",
     "text": [
      "GPU available: True (mps), used: False\n",
      "TPU available: False, using: 0 TPU cores\n",
      "HPU available: False, using: 0 HPUs\n"
     ]
    },
    {
     "name": "stdout",
     "output_type": "stream",
     "text": [
      "\n",
      "[[1.0000000e+00 2.9028642e-09]\n",
      " [1.0000000e+00 3.7664356e-09]\n",
      " [1.0000000e+00 7.0423445e-10]\n",
      " ...\n",
      " [1.0000000e+00 1.0433869e-09]\n",
      " [1.0000000e+00 9.5789723e-09]\n",
      " [1.0000000e+00 9.8301758e-09]]\n",
      "Predicting DataLoader 0: 100%|██████████████████| 16/16 [00:05<00:00,  2.98it/s]"
     ]
    },
    {
     "name": "stderr",
     "output_type": "stream",
     "text": [
      "GPU available: True (mps), used: False\n",
      "TPU available: False, using: 0 TPU cores\n",
      "HPU available: False, using: 0 HPUs\n"
     ]
    },
    {
     "name": "stdout",
     "output_type": "stream",
     "text": [
      "\n",
      "Predicting DataLoader 0: 100%|██████████████████| 16/16 [00:05<00:00,  2.98it/s]"
     ]
    },
    {
     "name": "stderr",
     "output_type": "stream",
     "text": [
      "GPU available: True (mps), used: False\n",
      "TPU available: False, using: 0 TPU cores\n",
      "HPU available: False, using: 0 HPUs\n"
     ]
    },
    {
     "name": "stdout",
     "output_type": "stream",
     "text": [
      "\n",
      "[[9.9951386e-01 4.8608717e-04]\n",
      " [9.9965191e-01 3.4809383e-04]\n",
      " [9.9977356e-01 2.2646136e-04]\n",
      " ...\n",
      " [9.9994636e-01 5.3670421e-05]\n",
      " [9.9968684e-01 3.1319755e-04]\n",
      " [9.9967420e-01 3.2585434e-04]]\n",
      "Predicting DataLoader 0: 100%|██████████████████| 16/16 [00:05<00:00,  2.98it/s]"
     ]
    },
    {
     "name": "stderr",
     "output_type": "stream",
     "text": [
      "GPU available: True (mps), used: False\n",
      "TPU available: False, using: 0 TPU cores\n",
      "HPU available: False, using: 0 HPUs\n"
     ]
    },
    {
     "name": "stdout",
     "output_type": "stream",
     "text": [
      "\n",
      "Predicting DataLoader 0: 100%|██████████████████| 16/16 [00:05<00:00,  2.99it/s]"
     ]
    },
    {
     "name": "stderr",
     "output_type": "stream",
     "text": [
      "GPU available: True (mps), used: False\n",
      "TPU available: False, using: 0 TPU cores\n",
      "HPU available: False, using: 0 HPUs\n"
     ]
    },
    {
     "name": "stdout",
     "output_type": "stream",
     "text": [
      "\n",
      "[[9.9999070e-01 9.2808041e-06]\n",
      " [9.9999118e-01 8.7714379e-06]\n",
      " [9.9999905e-01 1.0095649e-06]\n",
      " ...\n",
      " [9.9949098e-01 5.0903321e-04]\n",
      " [9.5869935e-01 4.1300591e-02]\n",
      " [9.7321624e-01 2.6783772e-02]]\n",
      "Predicting DataLoader 0: 100%|██████████████████| 16/16 [00:05<00:00,  2.99it/s]"
     ]
    },
    {
     "name": "stderr",
     "output_type": "stream",
     "text": [
      "GPU available: True (mps), used: False\n",
      "TPU available: False, using: 0 TPU cores\n",
      "HPU available: False, using: 0 HPUs\n"
     ]
    },
    {
     "name": "stdout",
     "output_type": "stream",
     "text": [
      "\n",
      "Predicting DataLoader 0: 100%|██████████████████| 16/16 [00:05<00:00,  3.00it/s]"
     ]
    },
    {
     "name": "stderr",
     "output_type": "stream",
     "text": [
      "GPU available: True (mps), used: False\n",
      "TPU available: False, using: 0 TPU cores\n",
      "HPU available: False, using: 0 HPUs\n"
     ]
    },
    {
     "name": "stdout",
     "output_type": "stream",
     "text": [
      "\n",
      "[[9.9997807e-01 2.1935533e-05]\n",
      " [9.9998379e-01 1.6227923e-05]\n",
      " [9.9999452e-01 5.5302539e-06]\n",
      " ...\n",
      " [9.9999416e-01 5.8907244e-06]\n",
      " [9.9997950e-01 2.0516924e-05]\n",
      " [9.9997449e-01 2.5514340e-05]]\n",
      "Predicting DataLoader 0: 100%|██████████████████| 16/16 [00:05<00:00,  3.00it/s]"
     ]
    },
    {
     "name": "stderr",
     "output_type": "stream",
     "text": [
      "GPU available: True (mps), used: False\n",
      "TPU available: False, using: 0 TPU cores\n",
      "HPU available: False, using: 0 HPUs\n"
     ]
    },
    {
     "name": "stdout",
     "output_type": "stream",
     "text": [
      "\n",
      "Predicting DataLoader 0: 100%|██████████████████| 16/16 [00:05<00:00,  3.00it/s]"
     ]
    },
    {
     "name": "stderr",
     "output_type": "stream",
     "text": [
      "GPU available: True (mps), used: False\n",
      "TPU available: False, using: 0 TPU cores\n",
      "HPU available: False, using: 0 HPUs\n"
     ]
    },
    {
     "name": "stdout",
     "output_type": "stream",
     "text": [
      "\n",
      "[[9.9999881e-01 1.1450857e-06]\n",
      " [9.9999857e-01 1.4823835e-06]\n",
      " [9.9999988e-01 9.4329138e-08]\n",
      " ...\n",
      " [9.9999917e-01 8.7845461e-07]\n",
      " [9.9997509e-01 2.4905165e-05]\n",
      " [9.9998057e-01 1.9402965e-05]]\n",
      "Predicting DataLoader 0: 100%|██████████████████| 16/16 [00:05<00:00,  2.96it/s]"
     ]
    },
    {
     "name": "stderr",
     "output_type": "stream",
     "text": [
      "GPU available: True (mps), used: False\n",
      "TPU available: False, using: 0 TPU cores\n",
      "HPU available: False, using: 0 HPUs\n"
     ]
    },
    {
     "name": "stdout",
     "output_type": "stream",
     "text": [
      "\n",
      "4\n",
      "Predicting DataLoader 0: 100%|██████████████████| 16/16 [00:05<00:00,  2.97it/s]"
     ]
    },
    {
     "name": "stderr",
     "output_type": "stream",
     "text": [
      "GPU available: True (mps), used: False\n",
      "TPU available: False, using: 0 TPU cores\n",
      "HPU available: False, using: 0 HPUs\n"
     ]
    },
    {
     "name": "stdout",
     "output_type": "stream",
     "text": [
      "\n",
      "[[9.9999464e-01 5.3216154e-06]\n",
      " [9.9999225e-01 7.7049872e-06]\n",
      " [9.9999928e-01 6.9150491e-07]\n",
      " ...\n",
      " [9.9990821e-01 9.1739050e-05]\n",
      " [9.9784362e-01 2.1564018e-03]\n",
      " [9.9874240e-01 1.2576586e-03]]\n",
      "Predicting DataLoader 0: 100%|██████████████████| 16/16 [00:05<00:00,  2.99it/s]"
     ]
    },
    {
     "name": "stderr",
     "output_type": "stream",
     "text": [
      "GPU available: True (mps), used: False\n",
      "TPU available: False, using: 0 TPU cores\n",
      "HPU available: False, using: 0 HPUs\n"
     ]
    },
    {
     "name": "stdout",
     "output_type": "stream",
     "text": [
      "\n",
      "Predicting DataLoader 0: 100%|██████████████████| 16/16 [00:05<00:00,  2.98it/s]"
     ]
    },
    {
     "name": "stderr",
     "output_type": "stream",
     "text": [
      "GPU available: True (mps), used: False\n",
      "TPU available: False, using: 0 TPU cores\n",
      "HPU available: False, using: 0 HPUs\n"
     ]
    },
    {
     "name": "stdout",
     "output_type": "stream",
     "text": [
      "\n",
      "[[1.0000000e+00 4.5486104e-08]\n",
      " [9.9999988e-01 7.5301493e-08]\n",
      " [9.9999988e-01 9.1493575e-08]\n",
      " ...\n",
      " [9.9999988e-01 8.6798870e-08]\n",
      " [9.9999821e-01 1.7349599e-06]\n",
      " [9.9999797e-01 2.0069035e-06]]\n",
      "Predicting DataLoader 0: 100%|██████████████████| 16/16 [00:05<00:00,  3.00it/s]"
     ]
    },
    {
     "name": "stderr",
     "output_type": "stream",
     "text": [
      "GPU available: True (mps), used: False\n",
      "TPU available: False, using: 0 TPU cores\n",
      "HPU available: False, using: 0 HPUs\n"
     ]
    },
    {
     "name": "stdout",
     "output_type": "stream",
     "text": [
      "\n",
      "Predicting DataLoader 0: 100%|██████████████████| 16/16 [00:05<00:00,  2.98it/s]"
     ]
    },
    {
     "name": "stderr",
     "output_type": "stream",
     "text": [
      "GPU available: True (mps), used: False\n",
      "TPU available: False, using: 0 TPU cores\n",
      "HPU available: False, using: 0 HPUs\n"
     ]
    },
    {
     "name": "stdout",
     "output_type": "stream",
     "text": [
      "\n",
      "[[9.9999833e-01 1.6842613e-06]\n",
      " [9.9999785e-01 2.0865248e-06]\n",
      " [9.9999940e-01 6.5471687e-07]\n",
      " ...\n",
      " [9.9999857e-01 1.4157715e-06]\n",
      " [9.9999201e-01 8.0240989e-06]\n",
      " [9.9999261e-01 7.4253303e-06]]\n",
      "Predicting DataLoader 0: 100%|██████████████████| 16/16 [00:05<00:00,  2.99it/s]"
     ]
    },
    {
     "name": "stderr",
     "output_type": "stream",
     "text": [
      "GPU available: True (mps), used: False\n",
      "TPU available: False, using: 0 TPU cores\n",
      "HPU available: False, using: 0 HPUs\n"
     ]
    },
    {
     "name": "stdout",
     "output_type": "stream",
     "text": [
      "\n",
      "Predicting DataLoader 0: 100%|██████████████████| 16/16 [00:05<00:00,  2.99it/s]"
     ]
    },
    {
     "name": "stderr",
     "output_type": "stream",
     "text": [
      "GPU available: True (mps), used: False\n",
      "TPU available: False, using: 0 TPU cores\n",
      "HPU available: False, using: 0 HPUs\n"
     ]
    },
    {
     "name": "stdout",
     "output_type": "stream",
     "text": [
      "\n",
      "[[9.9999738e-01 2.6328107e-06]\n",
      " [9.9999821e-01 1.8040196e-06]\n",
      " [9.9999964e-01 3.2311129e-07]\n",
      " ...\n",
      " [9.9999690e-01 3.0653523e-06]\n",
      " [9.9998212e-01 1.7825238e-05]\n",
      " [9.9998486e-01 1.5106873e-05]]\n",
      "Predicting DataLoader 0: 100%|██████████████████| 16/16 [00:05<00:00,  2.99it/s]"
     ]
    },
    {
     "name": "stderr",
     "output_type": "stream",
     "text": [
      "GPU available: True (mps), used: False\n",
      "TPU available: False, using: 0 TPU cores\n",
      "HPU available: False, using: 0 HPUs\n"
     ]
    },
    {
     "name": "stdout",
     "output_type": "stream",
     "text": [
      "\n",
      "Predicting DataLoader 0: 100%|██████████████████| 16/16 [00:05<00:00,  2.99it/s]"
     ]
    },
    {
     "name": "stderr",
     "output_type": "stream",
     "text": [
      "GPU available: True (mps), used: False\n",
      "TPU available: False, using: 0 TPU cores\n",
      "HPU available: False, using: 0 HPUs\n"
     ]
    },
    {
     "name": "stdout",
     "output_type": "stream",
     "text": [
      "\n",
      "[[9.9803072e-01 1.9692970e-03]\n",
      " [9.9870682e-01 1.2931961e-03]\n",
      " [9.9961710e-01 3.8286543e-04]\n",
      " ...\n",
      " [9.9715436e-01 2.8456105e-03]\n",
      " [9.7551888e-01 2.4481148e-02]\n",
      " [9.7548169e-01 2.4518274e-02]]\n",
      "Predicting DataLoader 0: 100%|██████████████████| 16/16 [00:05<00:00,  2.98it/s]"
     ]
    },
    {
     "name": "stderr",
     "output_type": "stream",
     "text": [
      "GPU available: True (mps), used: False\n",
      "TPU available: False, using: 0 TPU cores\n",
      "HPU available: False, using: 0 HPUs\n"
     ]
    },
    {
     "name": "stdout",
     "output_type": "stream",
     "text": [
      "\n",
      "5\n",
      "Predicting DataLoader 0: 100%|██████████████████| 16/16 [00:05<00:00,  2.97it/s]"
     ]
    },
    {
     "name": "stderr",
     "output_type": "stream",
     "text": [
      "GPU available: True (mps), used: False\n",
      "TPU available: False, using: 0 TPU cores\n",
      "HPU available: False, using: 0 HPUs\n"
     ]
    },
    {
     "name": "stdout",
     "output_type": "stream",
     "text": [
      "\n",
      "[[9.99984622e-01 1.53842720e-05]\n",
      " [9.99989510e-01 1.04861419e-05]\n",
      " [9.99998808e-01 1.16246281e-06]\n",
      " ...\n",
      " [9.99980927e-01 1.90826013e-05]\n",
      " [9.89147663e-01 1.08523285e-02]\n",
      " [9.86387849e-01 1.36121707e-02]]\n",
      "Predicting DataLoader 0: 100%|██████████████████| 16/16 [00:05<00:00,  2.96it/s]"
     ]
    },
    {
     "name": "stderr",
     "output_type": "stream",
     "text": [
      "GPU available: True (mps), used: False\n",
      "TPU available: False, using: 0 TPU cores\n",
      "HPU available: False, using: 0 HPUs\n"
     ]
    },
    {
     "name": "stdout",
     "output_type": "stream",
     "text": [
      "\n",
      "Predicting DataLoader 0: 100%|██████████████████| 16/16 [00:05<00:00,  2.97it/s]"
     ]
    },
    {
     "name": "stderr",
     "output_type": "stream",
     "text": [
      "GPU available: True (mps), used: False\n",
      "TPU available: False, using: 0 TPU cores\n",
      "HPU available: False, using: 0 HPUs\n"
     ]
    },
    {
     "name": "stdout",
     "output_type": "stream",
     "text": [
      "\n",
      "[[9.9987316e-01 1.2679699e-04]\n",
      " [9.9995542e-01 4.4546672e-05]\n",
      " [9.9974304e-01 2.5691063e-04]\n",
      " ...\n",
      " [9.9994993e-01 5.0056242e-05]\n",
      " [9.9945265e-01 5.4739660e-04]\n",
      " [9.9962211e-01 3.7786100e-04]]\n",
      "Predicting DataLoader 0: 100%|██████████████████| 16/16 [00:05<00:00,  2.98it/s]"
     ]
    },
    {
     "name": "stderr",
     "output_type": "stream",
     "text": [
      "GPU available: True (mps), used: False\n",
      "TPU available: False, using: 0 TPU cores\n",
      "HPU available: False, using: 0 HPUs\n"
     ]
    },
    {
     "name": "stdout",
     "output_type": "stream",
     "text": [
      "\n",
      "Predicting DataLoader 0: 100%|██████████████████| 16/16 [00:05<00:00,  3.01it/s]"
     ]
    },
    {
     "name": "stderr",
     "output_type": "stream",
     "text": [
      "GPU available: True (mps), used: False\n",
      "TPU available: False, using: 0 TPU cores\n",
      "HPU available: False, using: 0 HPUs\n"
     ]
    },
    {
     "name": "stdout",
     "output_type": "stream",
     "text": [
      "\n",
      "[[9.9993217e-01 6.7851208e-05]\n",
      " [9.9994719e-01 5.2772462e-05]\n",
      " [9.9998581e-01 1.4131104e-05]\n",
      " ...\n",
      " [9.9969232e-01 3.0768968e-04]\n",
      " [9.9593449e-01 4.0655402e-03]\n",
      " [9.9568570e-01 4.3142820e-03]]\n",
      "Predicting DataLoader 0: 100%|██████████████████| 16/16 [00:05<00:00,  2.98it/s]"
     ]
    },
    {
     "name": "stderr",
     "output_type": "stream",
     "text": [
      "GPU available: True (mps), used: False\n",
      "TPU available: False, using: 0 TPU cores\n",
      "HPU available: False, using: 0 HPUs\n"
     ]
    },
    {
     "name": "stdout",
     "output_type": "stream",
     "text": [
      "\n",
      "Predicting DataLoader 0: 100%|██████████████████| 16/16 [00:05<00:00,  2.97it/s]"
     ]
    },
    {
     "name": "stderr",
     "output_type": "stream",
     "text": [
      "GPU available: True (mps), used: False\n",
      "TPU available: False, using: 0 TPU cores\n",
      "HPU available: False, using: 0 HPUs\n"
     ]
    },
    {
     "name": "stdout",
     "output_type": "stream",
     "text": [
      "\n",
      "[[9.9999976e-01 1.9218309e-07]\n",
      " [9.9999988e-01 1.3294552e-07]\n",
      " [9.9999988e-01 1.6508015e-07]\n",
      " ...\n",
      " [9.9999976e-01 2.3378412e-07]\n",
      " [9.9999356e-01 6.4122828e-06]\n",
      " [9.9999499e-01 5.0519743e-06]]\n",
      "Predicting DataLoader 0: 100%|██████████████████| 16/16 [00:05<00:00,  2.97it/s]"
     ]
    },
    {
     "name": "stderr",
     "output_type": "stream",
     "text": [
      "GPU available: True (mps), used: False\n",
      "TPU available: False, using: 0 TPU cores\n",
      "HPU available: False, using: 0 HPUs\n"
     ]
    },
    {
     "name": "stdout",
     "output_type": "stream",
     "text": [
      "\n",
      "Predicting DataLoader 0: 100%|██████████████████| 16/16 [00:05<00:00,  2.99it/s]"
     ]
    },
    {
     "name": "stderr",
     "output_type": "stream",
     "text": [
      "GPU available: True (mps), used: False\n",
      "TPU available: False, using: 0 TPU cores\n",
      "HPU available: False, using: 0 HPUs\n"
     ]
    },
    {
     "name": "stdout",
     "output_type": "stream",
     "text": [
      "\n",
      "[[9.9794585e-01 2.0541719e-03]\n",
      " [9.9963975e-01 3.6024608e-04]\n",
      " [9.9953151e-01 4.6849641e-04]\n",
      " ...\n",
      " [9.9987292e-01 1.2702547e-04]\n",
      " [9.9934703e-01 6.5293192e-04]\n",
      " [9.9955982e-01 4.4019736e-04]]\n",
      "Predicting DataLoader 0: 100%|██████████████████| 16/16 [00:05<00:00,  2.98it/s]"
     ]
    },
    {
     "name": "stderr",
     "output_type": "stream",
     "text": [
      "GPU available: True (mps), used: False\n",
      "TPU available: False, using: 0 TPU cores\n",
      "HPU available: False, using: 0 HPUs\n"
     ]
    },
    {
     "name": "stdout",
     "output_type": "stream",
     "text": [
      "\n",
      "6\n",
      "Predicting DataLoader 0: 100%|██████████████████| 16/16 [00:05<00:00,  3.01it/s]"
     ]
    },
    {
     "name": "stderr",
     "output_type": "stream",
     "text": [
      "GPU available: True (mps), used: False\n",
      "TPU available: False, using: 0 TPU cores\n",
      "HPU available: False, using: 0 HPUs\n"
     ]
    },
    {
     "name": "stdout",
     "output_type": "stream",
     "text": [
      "\n",
      "[[9.9999928e-01 7.3242131e-07]\n",
      " [9.9999964e-01 3.4627482e-07]\n",
      " [9.9999976e-01 2.5049511e-07]\n",
      " ...\n",
      " [9.9999988e-01 6.5524468e-08]\n",
      " [9.9999988e-01 1.6475239e-07]\n",
      " [9.9999988e-01 1.5478649e-07]]\n",
      "Predicting DataLoader 0: 100%|██████████████████| 16/16 [00:05<00:00,  2.98it/s]"
     ]
    },
    {
     "name": "stderr",
     "output_type": "stream",
     "text": [
      "GPU available: True (mps), used: False\n",
      "TPU available: False, using: 0 TPU cores\n",
      "HPU available: False, using: 0 HPUs\n"
     ]
    },
    {
     "name": "stdout",
     "output_type": "stream",
     "text": [
      "\n",
      "Predicting DataLoader 0: 100%|██████████████████| 16/16 [00:05<00:00,  2.99it/s]"
     ]
    },
    {
     "name": "stderr",
     "output_type": "stream",
     "text": [
      "GPU available: True (mps), used: False\n",
      "TPU available: False, using: 0 TPU cores\n",
      "HPU available: False, using: 0 HPUs\n"
     ]
    },
    {
     "name": "stdout",
     "output_type": "stream",
     "text": [
      "\n",
      "[[9.9972147e-01 2.7857066e-04]\n",
      " [9.9992049e-01 7.9490572e-05]\n",
      " [9.9984038e-01 1.5955430e-04]\n",
      " ...\n",
      " [9.9892777e-01 1.0722261e-03]\n",
      " [9.9251711e-01 7.4828146e-03]\n",
      " [9.9429297e-01 5.7070516e-03]]\n",
      "Predicting DataLoader 0: 100%|██████████████████| 16/16 [00:05<00:00,  3.02it/s]"
     ]
    },
    {
     "name": "stderr",
     "output_type": "stream",
     "text": [
      "GPU available: True (mps), used: False\n",
      "TPU available: False, using: 0 TPU cores\n",
      "HPU available: False, using: 0 HPUs\n"
     ]
    },
    {
     "name": "stdout",
     "output_type": "stream",
     "text": [
      "\n",
      "Predicting DataLoader 0: 100%|██████████████████| 16/16 [00:05<00:00,  2.99it/s]"
     ]
    },
    {
     "name": "stderr",
     "output_type": "stream",
     "text": [
      "GPU available: True (mps), used: False\n",
      "TPU available: False, using: 0 TPU cores\n",
      "HPU available: False, using: 0 HPUs\n"
     ]
    },
    {
     "name": "stdout",
     "output_type": "stream",
     "text": [
      "\n",
      "[[9.9999595e-01 4.0938835e-06]\n",
      " [9.9999809e-01 1.8768926e-06]\n",
      " [9.9999714e-01 2.8975996e-06]\n",
      " ...\n",
      " [9.9999833e-01 1.6771767e-06]\n",
      " [9.9999011e-01 9.8493310e-06]\n",
      " [9.9999011e-01 9.8730206e-06]]\n",
      "Predicting DataLoader 0: 100%|██████████████████| 16/16 [00:05<00:00,  3.00it/s]"
     ]
    },
    {
     "name": "stderr",
     "output_type": "stream",
     "text": [
      "GPU available: True (mps), used: False\n",
      "TPU available: False, using: 0 TPU cores\n",
      "HPU available: False, using: 0 HPUs\n"
     ]
    },
    {
     "name": "stdout",
     "output_type": "stream",
     "text": [
      "\n",
      "Predicting DataLoader 0: 100%|██████████████████| 16/16 [00:05<00:00,  2.99it/s]"
     ]
    },
    {
     "name": "stderr",
     "output_type": "stream",
     "text": [
      "GPU available: True (mps), used: False\n",
      "TPU available: False, using: 0 TPU cores\n",
      "HPU available: False, using: 0 HPUs\n"
     ]
    },
    {
     "name": "stdout",
     "output_type": "stream",
     "text": [
      "\n",
      "[[9.99814093e-01 1.85940109e-04]\n",
      " [9.99805152e-01 1.94822613e-04]\n",
      " [9.99894738e-01 1.05233405e-04]\n",
      " ...\n",
      " [9.99317884e-01 6.82123471e-04]\n",
      " [9.98285949e-01 1.71400327e-03]\n",
      " [9.98755574e-01 1.24438794e-03]]\n",
      "Predicting DataLoader 0: 100%|██████████████████| 16/16 [00:05<00:00,  2.99it/s]"
     ]
    },
    {
     "name": "stderr",
     "output_type": "stream",
     "text": [
      "GPU available: True (mps), used: False\n",
      "TPU available: False, using: 0 TPU cores\n",
      "HPU available: False, using: 0 HPUs\n"
     ]
    },
    {
     "name": "stdout",
     "output_type": "stream",
     "text": [
      "\n",
      "Predicting DataLoader 0: 100%|██████████████████| 16/16 [00:05<00:00,  2.99it/s]"
     ]
    },
    {
     "name": "stderr",
     "output_type": "stream",
     "text": [
      "GPU available: True (mps), used: False\n",
      "TPU available: False, using: 0 TPU cores\n",
      "HPU available: False, using: 0 HPUs\n"
     ]
    },
    {
     "name": "stdout",
     "output_type": "stream",
     "text": [
      "\n",
      "[[1.0000000e+00 3.4469224e-08]\n",
      " [9.9999988e-01 6.1954431e-08]\n",
      " [1.0000000e+00 3.0024193e-08]\n",
      " ...\n",
      " [9.9999988e-01 8.0287620e-08]\n",
      " [9.9999249e-01 7.5319326e-06]\n",
      " [9.9999368e-01 6.2808990e-06]]\n",
      "Predicting DataLoader 0: 100%|██████████████████| 16/16 [00:05<00:00,  2.98it/s]"
     ]
    },
    {
     "name": "stderr",
     "output_type": "stream",
     "text": [
      "GPU available: True (mps), used: False\n",
      "TPU available: False, using: 0 TPU cores\n",
      "HPU available: False, using: 0 HPUs\n"
     ]
    },
    {
     "name": "stdout",
     "output_type": "stream",
     "text": [
      "\n",
      "7\n",
      "Predicting DataLoader 0: 100%|██████████████████| 16/16 [00:05<00:00,  2.98it/s]"
     ]
    },
    {
     "name": "stderr",
     "output_type": "stream",
     "text": [
      "GPU available: True (mps), used: False\n",
      "TPU available: False, using: 0 TPU cores\n",
      "HPU available: False, using: 0 HPUs\n"
     ]
    },
    {
     "name": "stdout",
     "output_type": "stream",
     "text": [
      "\n",
      "[[9.9984145e-01 1.5857043e-04]\n",
      " [9.9996686e-01 3.3167034e-05]\n",
      " [9.9999666e-01 3.3786948e-06]\n",
      " ...\n",
      " [9.9994230e-01 5.7729663e-05]\n",
      " [9.9886811e-01 1.1318771e-03]\n",
      " [9.9885464e-01 1.1453457e-03]]\n",
      "Predicting DataLoader 0: 100%|██████████████████| 16/16 [00:05<00:00,  2.99it/s]"
     ]
    },
    {
     "name": "stderr",
     "output_type": "stream",
     "text": [
      "GPU available: True (mps), used: False\n",
      "TPU available: False, using: 0 TPU cores\n",
      "HPU available: False, using: 0 HPUs\n"
     ]
    },
    {
     "name": "stdout",
     "output_type": "stream",
     "text": [
      "\n",
      "Predicting DataLoader 0: 100%|██████████████████| 16/16 [00:05<00:00,  2.99it/s]"
     ]
    },
    {
     "name": "stderr",
     "output_type": "stream",
     "text": [
      "GPU available: True (mps), used: False\n",
      "TPU available: False, using: 0 TPU cores\n",
      "HPU available: False, using: 0 HPUs\n"
     ]
    },
    {
     "name": "stdout",
     "output_type": "stream",
     "text": [
      "\n",
      "[[9.9964499e-01 3.5499991e-04]\n",
      " [9.9988604e-01 1.1394427e-04]\n",
      " [9.9989402e-01 1.0596880e-04]\n",
      " ...\n",
      " [9.9789327e-01 2.1067325e-03]\n",
      " [9.6736389e-01 3.2636188e-02]\n",
      " [9.8051363e-01 1.9486362e-02]]\n",
      "Predicting DataLoader 0: 100%|██████████████████| 16/16 [00:05<00:00,  2.98it/s]"
     ]
    },
    {
     "name": "stderr",
     "output_type": "stream",
     "text": [
      "GPU available: True (mps), used: False\n",
      "TPU available: False, using: 0 TPU cores\n",
      "HPU available: False, using: 0 HPUs\n"
     ]
    },
    {
     "name": "stdout",
     "output_type": "stream",
     "text": [
      "\n",
      "Predicting DataLoader 0: 100%|██████████████████| 16/16 [00:05<00:00,  2.98it/s]"
     ]
    },
    {
     "name": "stderr",
     "output_type": "stream",
     "text": [
      "GPU available: True (mps), used: False\n",
      "TPU available: False, using: 0 TPU cores\n",
      "HPU available: False, using: 0 HPUs\n"
     ]
    },
    {
     "name": "stdout",
     "output_type": "stream",
     "text": [
      "\n",
      "[[9.9997997e-01 1.9973522e-05]\n",
      " [9.9997330e-01 2.6737493e-05]\n",
      " [9.9999630e-01 3.6801750e-06]\n",
      " ...\n",
      " [9.9999809e-01 1.9149059e-06]\n",
      " [9.9994433e-01 5.5658249e-05]\n",
      " [9.9995613e-01 4.3826967e-05]]\n",
      "Predicting DataLoader 0: 100%|██████████████████| 16/16 [00:05<00:00,  2.99it/s]"
     ]
    },
    {
     "name": "stderr",
     "output_type": "stream",
     "text": [
      "GPU available: True (mps), used: False\n",
      "TPU available: False, using: 0 TPU cores\n",
      "HPU available: False, using: 0 HPUs\n"
     ]
    },
    {
     "name": "stdout",
     "output_type": "stream",
     "text": [
      "\n",
      "Predicting DataLoader 0: 100%|██████████████████| 16/16 [00:05<00:00,  2.98it/s]"
     ]
    },
    {
     "name": "stderr",
     "output_type": "stream",
     "text": [
      "GPU available: True (mps), used: False\n",
      "TPU available: False, using: 0 TPU cores\n",
      "HPU available: False, using: 0 HPUs\n"
     ]
    },
    {
     "name": "stdout",
     "output_type": "stream",
     "text": [
      "\n",
      "[[9.9996889e-01 3.1081039e-05]\n",
      " [9.9997735e-01 2.2625718e-05]\n",
      " [9.9999213e-01 7.9069941e-06]\n",
      " ...\n",
      " [9.9999475e-01 5.2575510e-06]\n",
      " [9.9995983e-01 4.0174069e-05]\n",
      " [9.9996090e-01 3.9053630e-05]]\n",
      "Predicting DataLoader 0: 100%|██████████████████| 16/16 [00:05<00:00,  3.00it/s]"
     ]
    },
    {
     "name": "stderr",
     "output_type": "stream",
     "text": [
      "GPU available: True (mps), used: False\n",
      "TPU available: False, using: 0 TPU cores\n",
      "HPU available: False, using: 0 HPUs\n"
     ]
    },
    {
     "name": "stdout",
     "output_type": "stream",
     "text": [
      "\n",
      "Predicting DataLoader 0: 100%|██████████████████| 16/16 [00:05<00:00,  3.00it/s]"
     ]
    },
    {
     "name": "stderr",
     "output_type": "stream",
     "text": [
      "GPU available: True (mps), used: False\n",
      "TPU available: False, using: 0 TPU cores\n",
      "HPU available: False, using: 0 HPUs\n"
     ]
    },
    {
     "name": "stdout",
     "output_type": "stream",
     "text": [
      "\n",
      "[[9.9998283e-01 1.7189064e-05]\n",
      " [9.9998093e-01 1.9126583e-05]\n",
      " [9.9999070e-01 9.2419250e-06]\n",
      " ...\n",
      " [9.9991310e-01 8.6883723e-05]\n",
      " [9.9943477e-01 5.6523690e-04]\n",
      " [9.9944955e-01 5.5047678e-04]]\n",
      "Predicting DataLoader 0: 100%|██████████████████| 16/16 [00:05<00:00,  3.00it/s]"
     ]
    },
    {
     "name": "stderr",
     "output_type": "stream",
     "text": [
      "GPU available: True (mps), used: False\n",
      "TPU available: False, using: 0 TPU cores\n",
      "HPU available: False, using: 0 HPUs\n"
     ]
    },
    {
     "name": "stdout",
     "output_type": "stream",
     "text": [
      "\n",
      "8\n",
      "Predicting DataLoader 0: 100%|██████████████████| 16/16 [00:05<00:00,  3.01it/s]"
     ]
    },
    {
     "name": "stderr",
     "output_type": "stream",
     "text": [
      "GPU available: True (mps), used: False\n",
      "TPU available: False, using: 0 TPU cores\n",
      "HPU available: False, using: 0 HPUs\n"
     ]
    },
    {
     "name": "stdout",
     "output_type": "stream",
     "text": [
      "\n",
      "[[9.9995875e-01 4.1271705e-05]\n",
      " [9.9998045e-01 1.9571860e-05]\n",
      " [9.9999690e-01 3.0978322e-06]\n",
      " ...\n",
      " [9.9999869e-01 1.3150162e-06]\n",
      " [9.9999070e-01 9.3219815e-06]\n",
      " [9.9998581e-01 1.4143520e-05]]\n",
      "Predicting DataLoader 0: 100%|██████████████████| 16/16 [00:05<00:00,  2.99it/s]"
     ]
    },
    {
     "name": "stderr",
     "output_type": "stream",
     "text": [
      "GPU available: True (mps), used: False\n",
      "TPU available: False, using: 0 TPU cores\n",
      "HPU available: False, using: 0 HPUs\n"
     ]
    },
    {
     "name": "stdout",
     "output_type": "stream",
     "text": [
      "\n",
      "Predicting DataLoader 0: 100%|██████████████████| 16/16 [00:05<00:00,  2.96it/s]"
     ]
    },
    {
     "name": "stderr",
     "output_type": "stream",
     "text": [
      "GPU available: True (mps), used: False\n",
      "TPU available: False, using: 0 TPU cores\n",
      "HPU available: False, using: 0 HPUs\n"
     ]
    },
    {
     "name": "stdout",
     "output_type": "stream",
     "text": [
      "\n",
      "[[9.9999082e-01 9.1215798e-06]\n",
      " [9.9998474e-01 1.5211104e-05]\n",
      " [9.9998033e-01 1.9728597e-05]\n",
      " ...\n",
      " [9.9998939e-01 1.0631515e-05]\n",
      " [9.9987137e-01 1.2864731e-04]\n",
      " [9.9988806e-01 1.1196986e-04]]\n",
      "Predicting DataLoader 0: 100%|██████████████████| 16/16 [00:05<00:00,  2.98it/s]"
     ]
    },
    {
     "name": "stderr",
     "output_type": "stream",
     "text": [
      "GPU available: True (mps), used: False\n",
      "TPU available: False, using: 0 TPU cores\n",
      "HPU available: False, using: 0 HPUs\n"
     ]
    },
    {
     "name": "stdout",
     "output_type": "stream",
     "text": [
      "\n",
      "Predicting DataLoader 0: 100%|██████████████████| 16/16 [00:05<00:00,  2.99it/s]"
     ]
    },
    {
     "name": "stderr",
     "output_type": "stream",
     "text": [
      "GPU available: True (mps), used: False\n",
      "TPU available: False, using: 0 TPU cores\n",
      "HPU available: False, using: 0 HPUs\n"
     ]
    },
    {
     "name": "stdout",
     "output_type": "stream",
     "text": [
      "\n",
      "[[9.9805522e-01 1.9448375e-03]\n",
      " [9.9959642e-01 4.0362854e-04]\n",
      " [9.9887592e-01 1.1240548e-03]\n",
      " ...\n",
      " [9.9945921e-01 5.4077001e-04]\n",
      " [9.9891615e-01 1.0839053e-03]\n",
      " [9.9904174e-01 9.5825572e-04]]\n",
      "Predicting DataLoader 0: 100%|██████████████████| 16/16 [00:05<00:00,  2.98it/s]"
     ]
    },
    {
     "name": "stderr",
     "output_type": "stream",
     "text": [
      "GPU available: True (mps), used: False\n",
      "TPU available: False, using: 0 TPU cores\n",
      "HPU available: False, using: 0 HPUs\n"
     ]
    },
    {
     "name": "stdout",
     "output_type": "stream",
     "text": [
      "\n",
      "Predicting DataLoader 0: 100%|██████████████████| 16/16 [00:05<00:00,  2.99it/s]"
     ]
    },
    {
     "name": "stderr",
     "output_type": "stream",
     "text": [
      "GPU available: True (mps), used: False\n",
      "TPU available: False, using: 0 TPU cores\n",
      "HPU available: False, using: 0 HPUs\n"
     ]
    },
    {
     "name": "stdout",
     "output_type": "stream",
     "text": [
      "\n",
      "[[9.9999976e-01 2.1510476e-07]\n",
      " [9.9999988e-01 1.5355177e-07]\n",
      " [9.9999964e-01 3.2433942e-07]\n",
      " ...\n",
      " [9.9999750e-01 2.5302550e-06]\n",
      " [9.9997675e-01 2.3299084e-05]\n",
      " [9.9997890e-01 2.1156564e-05]]\n",
      "Predicting DataLoader 0: 100%|██████████████████| 16/16 [00:05<00:00,  2.97it/s]"
     ]
    },
    {
     "name": "stderr",
     "output_type": "stream",
     "text": [
      "GPU available: True (mps), used: False\n",
      "TPU available: False, using: 0 TPU cores\n",
      "HPU available: False, using: 0 HPUs\n"
     ]
    },
    {
     "name": "stdout",
     "output_type": "stream",
     "text": [
      "\n",
      "Predicting DataLoader 0: 100%|██████████████████| 16/16 [00:05<00:00,  2.98it/s]"
     ]
    },
    {
     "name": "stderr",
     "output_type": "stream",
     "text": [
      "GPU available: True (mps), used: False\n",
      "TPU available: False, using: 0 TPU cores\n",
      "HPU available: False, using: 0 HPUs\n"
     ]
    },
    {
     "name": "stdout",
     "output_type": "stream",
     "text": [
      "\n",
      "[[1.0000000e+00 4.0795182e-08]\n",
      " [1.0000000e+00 4.4846466e-08]\n",
      " [9.9999988e-01 1.3737250e-07]\n",
      " ...\n",
      " [1.0000000e+00 2.7251959e-08]\n",
      " [9.9999988e-01 7.9644131e-08]\n",
      " [9.9999988e-01 7.3997157e-08]]\n",
      "Predicting DataLoader 0: 100%|██████████████████| 16/16 [00:05<00:00,  2.97it/s]"
     ]
    },
    {
     "name": "stderr",
     "output_type": "stream",
     "text": [
      "GPU available: True (mps), used: False\n",
      "TPU available: False, using: 0 TPU cores\n",
      "HPU available: False, using: 0 HPUs\n"
     ]
    },
    {
     "name": "stdout",
     "output_type": "stream",
     "text": [
      "\n",
      "9\n",
      "Predicting DataLoader 0: 100%|██████████████████| 16/16 [00:05<00:00,  2.98it/s]"
     ]
    },
    {
     "name": "stderr",
     "output_type": "stream",
     "text": [
      "GPU available: True (mps), used: False\n",
      "TPU available: False, using: 0 TPU cores\n",
      "HPU available: False, using: 0 HPUs\n"
     ]
    },
    {
     "name": "stdout",
     "output_type": "stream",
     "text": [
      "\n",
      "[[9.9991274e-01 8.7267756e-05]\n",
      " [9.9995804e-01 4.2011943e-05]\n",
      " [9.9995518e-01 4.4832806e-05]\n",
      " ...\n",
      " [9.9978405e-01 2.1595745e-04]\n",
      " [9.8540944e-01 1.4590640e-02]\n",
      " [9.9074578e-01 9.2541883e-03]]\n",
      "Predicting DataLoader 0: 100%|██████████████████| 16/16 [00:05<00:00,  2.99it/s]"
     ]
    },
    {
     "name": "stderr",
     "output_type": "stream",
     "text": [
      "GPU available: True (mps), used: False\n",
      "TPU available: False, using: 0 TPU cores\n",
      "HPU available: False, using: 0 HPUs\n"
     ]
    },
    {
     "name": "stdout",
     "output_type": "stream",
     "text": [
      "\n",
      "Predicting DataLoader 0: 100%|██████████████████| 16/16 [00:05<00:00,  2.99it/s]"
     ]
    },
    {
     "name": "stderr",
     "output_type": "stream",
     "text": [
      "GPU available: True (mps), used: False\n",
      "TPU available: False, using: 0 TPU cores\n",
      "HPU available: False, using: 0 HPUs\n"
     ]
    },
    {
     "name": "stdout",
     "output_type": "stream",
     "text": [
      "\n",
      "[[9.9999988e-01 1.0758558e-07]\n",
      " [9.9999988e-01 9.3608278e-08]\n",
      " [1.0000000e+00 2.5437691e-08]\n",
      " ...\n",
      " [9.9999750e-01 2.4627291e-06]\n",
      " [9.9991024e-01 8.9799913e-05]\n",
      " [9.9987483e-01 1.2517841e-04]]\n",
      "Predicting DataLoader 0: 100%|██████████████████| 16/16 [00:05<00:00,  2.99it/s]"
     ]
    },
    {
     "name": "stderr",
     "output_type": "stream",
     "text": [
      "GPU available: True (mps), used: False\n",
      "TPU available: False, using: 0 TPU cores\n",
      "HPU available: False, using: 0 HPUs\n"
     ]
    },
    {
     "name": "stdout",
     "output_type": "stream",
     "text": [
      "\n",
      "Predicting DataLoader 0: 100%|██████████████████| 16/16 [00:05<00:00,  2.97it/s]"
     ]
    },
    {
     "name": "stderr",
     "output_type": "stream",
     "text": [
      "GPU available: True (mps), used: False\n",
      "TPU available: False, using: 0 TPU cores\n",
      "HPU available: False, using: 0 HPUs\n"
     ]
    },
    {
     "name": "stdout",
     "output_type": "stream",
     "text": [
      "\n",
      "[[9.9767476e-01 2.3252745e-03]\n",
      " [9.9763918e-01 2.3608643e-03]\n",
      " [9.9869788e-01 1.3021431e-03]\n",
      " ...\n",
      " [9.9975973e-01 2.4028889e-04]\n",
      " [9.9872512e-01 1.2748556e-03]\n",
      " [9.9880099e-01 1.1989664e-03]]\n",
      "Predicting DataLoader 0: 100%|██████████████████| 16/16 [00:05<00:00,  2.97it/s]"
     ]
    },
    {
     "name": "stderr",
     "output_type": "stream",
     "text": [
      "GPU available: True (mps), used: False\n",
      "TPU available: False, using: 0 TPU cores\n",
      "HPU available: False, using: 0 HPUs\n"
     ]
    },
    {
     "name": "stdout",
     "output_type": "stream",
     "text": [
      "\n",
      "Predicting DataLoader 0: 100%|██████████████████| 16/16 [00:05<00:00,  3.00it/s]"
     ]
    },
    {
     "name": "stderr",
     "output_type": "stream",
     "text": [
      "GPU available: True (mps), used: False\n",
      "TPU available: False, using: 0 TPU cores\n",
      "HPU available: False, using: 0 HPUs\n"
     ]
    },
    {
     "name": "stdout",
     "output_type": "stream",
     "text": [
      "\n",
      "[[9.9952888e-01 4.7112632e-04]\n",
      " [9.9981910e-01 1.8098479e-04]\n",
      " [9.9996984e-01 3.0204030e-05]\n",
      " ...\n",
      " [9.9998546e-01 1.4525016e-05]\n",
      " [9.9966681e-01 3.3317425e-04]\n",
      " [9.9940038e-01 5.9963617e-04]]\n",
      "Predicting DataLoader 0: 100%|██████████████████| 16/16 [00:05<00:00,  2.98it/s]"
     ]
    },
    {
     "name": "stderr",
     "output_type": "stream",
     "text": [
      "GPU available: True (mps), used: False\n",
      "TPU available: False, using: 0 TPU cores\n",
      "HPU available: False, using: 0 HPUs\n"
     ]
    },
    {
     "name": "stdout",
     "output_type": "stream",
     "text": [
      "\n",
      "Predicting DataLoader 0: 100%|██████████████████| 16/16 [00:05<00:00,  3.00it/s]"
     ]
    },
    {
     "name": "stderr",
     "output_type": "stream",
     "text": [
      "GPU available: True (mps), used: False\n",
      "TPU available: False, using: 0 TPU cores\n",
      "HPU available: False, using: 0 HPUs\n"
     ]
    },
    {
     "name": "stdout",
     "output_type": "stream",
     "text": [
      "\n",
      "[[9.9995124e-01 4.8749436e-05]\n",
      " [9.9995852e-01 4.1453426e-05]\n",
      " [9.9999332e-01 6.6878611e-06]\n",
      " ...\n",
      " [9.9987030e-01 1.2971912e-04]\n",
      " [9.9870074e-01 1.2992009e-03]\n",
      " [9.9918598e-01 8.1404508e-04]]\n",
      "Predicting DataLoader 0: 100%|██████████████████| 16/16 [00:05<00:00,  2.99it/s]\n",
      "cycles\n",
      "Accuracy:\n",
      "Accuracy_list: [0.22826086956521738, 0.2391304347826087, 0.20059288537549408, 0.1956521739130435, 0.24011857707509882, 0.20948616600790515, 0.208498023715415, 0.18873517786561264, 0.18774703557312253, 0.1907114624505929]\n",
      "Accuracy_mean: 0.20889328063241108\n",
      "Accuracy_std: 0.01921777989113552\n",
      "---\n",
      "Confusion matrix\n",
      "Confusion matrix mean: [[187.   12. ]\n",
      " [788.6  24.4]]\n",
      "Confusion matrix std: [[ 3.          3.        ]\n",
      " [21.17640196 21.17640196]]\n",
      "---\n",
      "F1\n",
      "F1_list: [0.09919261822376009, 0.14253897550111358, 0.03575685339690107, 0.023980815347721823, 0.12514220705346984, 0.05660377358490566, 0.05430932703659976, 0.007255139056831923, 0.004842615012106538, 0.012062726176115802]\n",
      "F1_mean: 0.05616850503895262\n",
      "F1_std: 0.04743080964161877\n",
      "---\n",
      "Sensitivity\n",
      "Sensitivity list: [0.05289052890528905, 0.07872078720787208, 0.01845018450184502, 0.012300123001230012, 0.06765067650676507, 0.02952029520295203, 0.028290282902829027, 0.0036900369003690036, 0.0024600246002460025, 0.006150061500615006]\n",
      "Sensitivity mean: 0.030012300123001233\n",
      "Sensitivity std: 0.02604723488397677\n",
      "---\n",
      "Specificity\n",
      "Specificity list: [0.9447236180904522, 0.8944723618090452, 0.9447236180904522, 0.9447236180904522, 0.9447236180904522, 0.9447236180904522, 0.9447236180904522, 0.9447236180904522, 0.9447236180904522, 0.9447236180904522]\n",
      "Specificity mean: 0.9396984924623114\n",
      "Specificity std: 0.01507537688442211\n",
      "---\n",
      "AUC\n",
      "AUC list: [np.float64(0.4988070734978706), np.float64(0.48659657450845867), np.float64(0.4815869012961486), np.float64(0.4785118705458411), np.float64(0.5061871472986087), np.float64(0.48712195664670216), np.float64(0.48650695049664067), np.float64(0.4742068274954106), np.float64(0.4735918213453491), np.float64(0.4754368397955336)]\n",
      "AUC mean: 0.4848553962926564\n",
      "AUC std: 0.010200403175758987\n"
     ]
    }
   ],
   "source": [
    "X_d = X_d_original.copy()\n",
    "arr = arr_all[2]\n",
    "first_half_arr = arr[:len(arr) // 2]\n",
    "last_half_arr = arr[len(arr) // 2:]\n",
    "print(first_half_arr)\n",
    "print(last_half_arr)\n",
    "\n",
    "X_d[:,first_half_arr,:] = 0\n",
    "print(X_d)\n",
    "path_img = './img_cm/'\n",
    "\n",
    "D_name_add = 'TDvsCPu'\n",
    "D_name = D_name_add+\"_full_5_original_weight\"\n",
    "# Net_name_list = ['ResNet','LSTM','InceptionTime']\n",
    "Net_name_list = ['InceptionTime']\n",
    "for Net_name in Net_name_list:\n",
    "    # for j in range(5):\n",
    "        # train_model(D_name=D_name,Net_name=Net_name)\n",
    "    out = eval_model_5_bundle(D_name,Net_name)\n",
    "    np.save( './new_train_lrR_ET_'+D_name+'_'+Net_name+'/prediction_test.npy' ,out)\n",
    "\n",
    "out = np.load( './new_train_lrR_ET_'+D_name_add+'_full_5_original_weight_InceptionTime/prediction_test.npy')\n",
    "\n",
    "save = path_img+D_name_add+\"_InceptionTime_original_weight\"\n",
    "print(\"cycles\")\n",
    "results_cycles = print_result_bundle_i_cycles(out,y_d,x_test,cycle_end_idx,label_list=['TD', 'CPu'],n_model=10)\n",
    "list_result_all.append(output_csv(results_cycles))"
   ]
  },
  {
   "cell_type": "code",
   "execution_count": 20,
   "metadata": {},
   "outputs": [],
   "source": [
    "df_test = pd.DataFrame (list_result_all)\n",
    "df_test.T"
   ]
  },
  {
   "cell_type": "code",
   "execution_count": 22,
   "metadata": {},
   "outputs": [
    {
     "data": {
      "text/html": [
       "<div>\n",
       "<style scoped>\n",
       "    .dataframe tbody tr th:only-of-type {\n",
       "        vertical-align: middle;\n",
       "    }\n",
       "\n",
       "    .dataframe tbody tr th {\n",
       "        vertical-align: top;\n",
       "    }\n",
       "\n",
       "    .dataframe thead th {\n",
       "        text-align: right;\n",
       "    }\n",
       "</style>\n",
       "<table border=\"1\" class=\"dataframe\">\n",
       "  <thead>\n",
       "    <tr style=\"text-align: right;\">\n",
       "      <th></th>\n",
       "      <th>0</th>\n",
       "      <th>1</th>\n",
       "      <th>2</th>\n",
       "      <th>3</th>\n",
       "      <th>4</th>\n",
       "      <th>5</th>\n",
       "    </tr>\n",
       "  </thead>\n",
       "  <tbody>\n",
       "    <tr>\n",
       "      <th>0</th>\n",
       "      <td>0.857312±0.032429</td>\n",
       "      <td>0.198913±0.008077</td>\n",
       "      <td>0.904644±0.007945</td>\n",
       "      <td>0.599111±0.070225</td>\n",
       "      <td>0.791206±0.051571</td>\n",
       "      <td>0.208893±0.019218</td>\n",
       "    </tr>\n",
       "    <tr>\n",
       "      <th>1</th>\n",
       "      <td>0.837146±0.039907</td>\n",
       "      <td>0.023493±0.010530</td>\n",
       "      <td>0.914391±0.012216</td>\n",
       "      <td>0.546494±0.101516</td>\n",
       "      <td>0.757073±0.067660</td>\n",
       "      <td>0.030012±0.026047</td>\n",
       "    </tr>\n",
       "    <tr>\n",
       "      <th>2</th>\n",
       "      <td>0.939698±0.025326</td>\n",
       "      <td>0.915578±0.023006</td>\n",
       "      <td>0.864824±0.016583</td>\n",
       "      <td>0.814070±0.082234</td>\n",
       "      <td>0.930653±0.027321</td>\n",
       "      <td>0.939698±0.015075</td>\n",
       "    </tr>\n",
       "    <tr>\n",
       "      <th>3</th>\n",
       "      <td>0.903578±0.024463</td>\n",
       "      <td>0.044765±0.019706</td>\n",
       "      <td>0.939012±0.005558</td>\n",
       "      <td>0.680898±0.078685</td>\n",
       "      <td>0.851843±0.041542</td>\n",
       "      <td>0.056169±0.047431</td>\n",
       "    </tr>\n",
       "    <tr>\n",
       "      <th>4</th>\n",
       "      <td>0.888422±0.023600</td>\n",
       "      <td>0.469536±0.010846</td>\n",
       "      <td>0.889608±0.006059</td>\n",
       "      <td>0.680282±0.033645</td>\n",
       "      <td>0.843863±0.028613</td>\n",
       "      <td>0.484855±0.010200</td>\n",
       "    </tr>\n",
       "  </tbody>\n",
       "</table>\n",
       "</div>"
      ],
      "text/plain": [
       "                   0                  1                  2                  3  \\\n",
       "0  0.857312±0.032429  0.198913±0.008077  0.904644±0.007945  0.599111±0.070225   \n",
       "1  0.837146±0.039907  0.023493±0.010530  0.914391±0.012216  0.546494±0.101516   \n",
       "2  0.939698±0.025326  0.915578±0.023006  0.864824±0.016583  0.814070±0.082234   \n",
       "3  0.903578±0.024463  0.044765±0.019706  0.939012±0.005558  0.680898±0.078685   \n",
       "4  0.888422±0.023600  0.469536±0.010846  0.889608±0.006059  0.680282±0.033645   \n",
       "\n",
       "                   4                  5  \n",
       "0  0.791206±0.051571  0.208893±0.019218  \n",
       "1  0.757073±0.067660  0.030012±0.026047  \n",
       "2  0.930653±0.027321  0.939698±0.015075  \n",
       "3  0.851843±0.041542  0.056169±0.047431  \n",
       "4  0.843863±0.028613  0.484855±0.010200  "
      ]
     },
     "execution_count": 22,
     "metadata": {},
     "output_type": "execute_result"
    }
   ],
   "source": []
  },
  {
   "cell_type": "code",
   "execution_count": null,
   "metadata": {},
   "outputs": [],
   "source": []
  },
  {
   "cell_type": "code",
   "execution_count": 41,
   "metadata": {},
   "outputs": [],
   "source": [
    "\n",
    "\n",
    "arr_all = np.load('./XAI_ranking/DeepShap_TDvsCPu_weight.npy')"
   ]
  },
  {
   "cell_type": "code",
   "execution_count": 42,
   "metadata": {
    "scrolled": true
   },
   "outputs": [
    {
     "name": "stderr",
     "output_type": "stream",
     "text": [
      "GPU available: True (mps), used: False\n",
      "TPU available: False, using: 0 TPU cores\n",
      "HPU available: False, using: 0 HPUs\n",
      "/opt/anaconda3/envs/env_gait_new/lib/python3.13/site-packages/pytorch_lightning/trainer/setup.py:177: GPU available but not used. You can set it by doing `Trainer(accelerator='gpu')`.\n",
      "/opt/anaconda3/envs/env_gait_new/lib/python3.13/site-packages/pytorch_lightning/trainer/connectors/data_connector.py:425: The 'predict_dataloader' does not have many workers which may be a bottleneck. Consider increasing the value of the `num_workers` argument` to `num_workers=13` in the `DataLoader` to improve performance.\n"
     ]
    },
    {
     "name": "stdout",
     "output_type": "stream",
     "text": [
      "[ 3 14  6 17 11 10  0 20  9 13 19]\n",
      "[21  2  5  8 16  7  1 15  4 18 12]\n",
      "[[[  9.83950043   9.7201004    9.6335001  ...   9.47509956   9.24769974\n",
      "     9.04039955]\n",
      "  [  0.           0.           0.         ...   0.           0.\n",
      "     0.        ]\n",
      "  [  0.           0.           0.         ...   0.           0.\n",
      "     0.        ]\n",
      "  ...\n",
      "  [  6.59590006   6.85389996   6.91020012 ...   4.11780024   3.96300006\n",
      "     3.72989988]\n",
      "  [ -2.87540007  -3.09050012  -3.13870001 ...  -6.00860023  -6.19229984\n",
      "    -6.19449997]\n",
      "  [  0.           0.           0.         ...   0.           0.\n",
      "     0.        ]]\n",
      "\n",
      " [[  9.04039955   8.82820034   8.66639996 ...  13.4090004   13.08100033\n",
      "    12.73579979]\n",
      "  [  0.           0.           0.         ...   0.           0.\n",
      "     0.        ]\n",
      "  [  0.           0.           0.         ...   0.           0.\n",
      "     0.        ]\n",
      "  ...\n",
      "  [  3.72989988   3.39369988   3.03649998 ...   6.45079994   6.55550003\n",
      "     6.6479001 ]\n",
      "  [ -6.19449997  -5.98360014  -5.56080008 ...  -0.67334002  -1.16170001\n",
      "    -1.42040002]\n",
      "  [  0.           0.           0.         ...   0.           0.\n",
      "     0.        ]]\n",
      "\n",
      " [[ 12.73579979  12.3743      12.02490044 ...  13.14729977  13.28199959\n",
      "    13.39649963]\n",
      "  [  0.           0.           0.         ...   0.           0.\n",
      "     0.        ]\n",
      "  [  0.           0.           0.         ...   0.           0.\n",
      "     0.        ]\n",
      "  ...\n",
      "  [  6.6479001    6.73810005   6.82439995 ...   7.01910019   6.39529991\n",
      "     5.66690016]\n",
      "  [ -1.42040002  -1.42649996  -1.1559     ...  -8.71049976  -8.20170021\n",
      "    -7.52470016]\n",
      "  [  0.           0.           0.         ...   0.           0.\n",
      "     0.        ]]\n",
      "\n",
      " ...\n",
      "\n",
      " [[  9.05691338   9.13669917   9.23606081 ...   7.36619649   7.32759291\n",
      "     7.31393051]\n",
      "  [  0.           0.           0.         ...   0.           0.\n",
      "     0.        ]\n",
      "  [  0.           0.           0.         ...   0.           0.\n",
      "     0.        ]\n",
      "  ...\n",
      "  [-11.66077232 -11.21641397 -10.77093315 ...  -9.92506886  -9.91634154\n",
      "   -10.03190708]\n",
      "  [ -0.747958    -1.41423312  -2.03653711 ...   0.04937897  -0.35683405\n",
      "    -0.90318918]\n",
      "  [  0.           0.           0.         ...   0.           0.\n",
      "     0.        ]]\n",
      "\n",
      " [[  6.8161087    6.87623537   6.95617437 ...   7.85265207   7.88564551\n",
      "     7.94625521]\n",
      "  [  0.           0.           0.         ...   0.           0.\n",
      "     0.        ]\n",
      "  [  0.           0.           0.         ...   0.           0.\n",
      "     0.        ]\n",
      "  ...\n",
      "  [-11.46577263 -11.34519873 -11.05035564 ... -10.0489595  -10.01380011\n",
      "    -9.94277   ]\n",
      "  [ -1.53428268  -2.07355649  -2.47931242 ...  -0.39021882  -0.86852482\n",
      "    -1.44324255]\n",
      "  [  0.           0.           0.         ...   0.           0.\n",
      "     0.        ]]\n",
      "\n",
      " [[  8.01304817   8.1131053    8.22476149 ...   8.72506189   8.75647759\n",
      "     8.8262291 ]\n",
      "  [  0.           0.           0.         ...   0.           0.\n",
      "     0.        ]\n",
      "  [  0.           0.           0.         ...   0.           0.\n",
      "     0.        ]\n",
      "  ...\n",
      "  [ -9.8817482   -9.80164267  -9.68827084 ... -12.91687958 -13.27013899\n",
      "   -13.56380463]\n",
      "  [ -1.95035565  -2.51186775  -2.86611046 ...  -1.64764873  -2.1852711\n",
      "    -2.83439612]\n",
      "  [  0.           0.           0.         ...   0.           0.\n",
      "     0.        ]]]\n",
      "0\n",
      "Predicting DataLoader 0:   6%|█▏                 | 1/16 [00:00<00:00, 17.23it/s]"
     ]
    },
    {
     "name": "stderr",
     "output_type": "stream",
     "text": [
      "/opt/anaconda3/envs/env_gait_new/lib/python3.13/site-packages/torch/nn/modules/module.py:1739: UserWarning: Implicit dimension choice for softmax has been deprecated. Change the call to include dim=X as an argument.\n",
      "  return self._call_impl(*args, **kwargs)\n"
     ]
    },
    {
     "name": "stdout",
     "output_type": "stream",
     "text": [
      "Predicting DataLoader 0: 100%|██████████████████| 16/16 [00:00<00:00, 16.98it/s]"
     ]
    },
    {
     "name": "stderr",
     "output_type": "stream",
     "text": [
      "GPU available: True (mps), used: False\n",
      "TPU available: False, using: 0 TPU cores\n",
      "HPU available: False, using: 0 HPUs\n"
     ]
    },
    {
     "name": "stdout",
     "output_type": "stream",
     "text": [
      "\n",
      "[[0.79837656 0.20162341]\n",
      " [0.7638254  0.23617455]\n",
      " [0.8244041  0.17559583]\n",
      " ...\n",
      " [0.24909568 0.7509043 ]\n",
      " [0.18691659 0.81308335]\n",
      " [0.20248844 0.7975116 ]]\n",
      "Predicting DataLoader 0: 100%|██████████████████| 16/16 [00:00<00:00, 17.00it/s]"
     ]
    },
    {
     "name": "stderr",
     "output_type": "stream",
     "text": [
      "GPU available: True (mps), used: False\n",
      "TPU available: False, using: 0 TPU cores\n",
      "HPU available: False, using: 0 HPUs\n"
     ]
    },
    {
     "name": "stdout",
     "output_type": "stream",
     "text": [
      "\n",
      "Predicting DataLoader 0: 100%|██████████████████| 16/16 [00:00<00:00, 17.06it/s]"
     ]
    },
    {
     "name": "stderr",
     "output_type": "stream",
     "text": [
      "GPU available: True (mps), used: False\n",
      "TPU available: False, using: 0 TPU cores\n",
      "HPU available: False, using: 0 HPUs\n"
     ]
    },
    {
     "name": "stdout",
     "output_type": "stream",
     "text": [
      "\n",
      "[[0.76875657 0.23124342]\n",
      " [0.7409422  0.2590578 ]\n",
      " [0.754397   0.24560301]\n",
      " ...\n",
      " [0.11549439 0.8845056 ]\n",
      " [0.07801197 0.92198795]\n",
      " [0.08580156 0.91419846]]\n",
      "Predicting DataLoader 0: 100%|██████████████████| 16/16 [00:00<00:00, 16.96it/s]"
     ]
    },
    {
     "name": "stderr",
     "output_type": "stream",
     "text": [
      "GPU available: True (mps), used: False\n",
      "TPU available: False, using: 0 TPU cores\n",
      "HPU available: False, using: 0 HPUs\n"
     ]
    },
    {
     "name": "stdout",
     "output_type": "stream",
     "text": [
      "\n",
      "Predicting DataLoader 0: 100%|██████████████████| 16/16 [00:00<00:00, 16.68it/s]"
     ]
    },
    {
     "name": "stderr",
     "output_type": "stream",
     "text": [
      "GPU available: True (mps), used: False\n",
      "TPU available: False, using: 0 TPU cores\n",
      "HPU available: False, using: 0 HPUs\n"
     ]
    },
    {
     "name": "stdout",
     "output_type": "stream",
     "text": [
      "\n",
      "[[0.8974936  0.10250641]\n",
      " [0.8602732  0.13972688]\n",
      " [0.80211014 0.19788988]\n",
      " ...\n",
      " [0.05119416 0.94880587]\n",
      " [0.05146685 0.9485331 ]\n",
      " [0.0482959  0.9517041 ]]\n",
      "Predicting DataLoader 0: 100%|██████████████████| 16/16 [00:00<00:00, 16.89it/s]"
     ]
    },
    {
     "name": "stderr",
     "output_type": "stream",
     "text": [
      "GPU available: True (mps), used: False\n",
      "TPU available: False, using: 0 TPU cores\n",
      "HPU available: False, using: 0 HPUs\n"
     ]
    },
    {
     "name": "stdout",
     "output_type": "stream",
     "text": [
      "\n",
      "Predicting DataLoader 0: 100%|██████████████████| 16/16 [00:00<00:00, 17.02it/s]"
     ]
    },
    {
     "name": "stderr",
     "output_type": "stream",
     "text": [
      "GPU available: True (mps), used: False\n",
      "TPU available: False, using: 0 TPU cores\n",
      "HPU available: False, using: 0 HPUs\n"
     ]
    },
    {
     "name": "stdout",
     "output_type": "stream",
     "text": [
      "\n",
      "[[0.1317921  0.8682079 ]\n",
      " [0.0886113  0.91138875]\n",
      " [0.09147996 0.90852004]\n",
      " ...\n",
      " [0.19283509 0.8071649 ]\n",
      " [0.02599064 0.9740094 ]\n",
      " [0.04218714 0.95781285]]\n",
      "Predicting DataLoader 0: 100%|██████████████████| 16/16 [00:00<00:00, 17.30it/s]"
     ]
    },
    {
     "name": "stderr",
     "output_type": "stream",
     "text": [
      "GPU available: True (mps), used: False\n",
      "TPU available: False, using: 0 TPU cores\n",
      "HPU available: False, using: 0 HPUs\n"
     ]
    },
    {
     "name": "stdout",
     "output_type": "stream",
     "text": [
      "\n",
      "Predicting DataLoader 0: 100%|██████████████████| 16/16 [00:00<00:00, 17.08it/s]"
     ]
    },
    {
     "name": "stderr",
     "output_type": "stream",
     "text": [
      "GPU available: True (mps), used: False\n",
      "TPU available: False, using: 0 TPU cores\n",
      "HPU available: False, using: 0 HPUs\n"
     ]
    },
    {
     "name": "stdout",
     "output_type": "stream",
     "text": [
      "\n",
      "[[0.9699869  0.03001302]\n",
      " [0.920157   0.07984295]\n",
      " [0.90593827 0.09406171]\n",
      " ...\n",
      " [0.43611613 0.56388384]\n",
      " [0.18745004 0.81254995]\n",
      " [0.23468235 0.7653177 ]]\n",
      "Predicting DataLoader 0: 100%|██████████████████| 16/16 [00:00<00:00, 17.14it/s]"
     ]
    },
    {
     "name": "stderr",
     "output_type": "stream",
     "text": [
      "GPU available: True (mps), used: False\n",
      "TPU available: False, using: 0 TPU cores\n",
      "HPU available: False, using: 0 HPUs\n"
     ]
    },
    {
     "name": "stdout",
     "output_type": "stream",
     "text": [
      "\n",
      "1\n",
      "Predicting DataLoader 0: 100%|██████████████████| 16/16 [00:00<00:00, 16.56it/s]"
     ]
    },
    {
     "name": "stderr",
     "output_type": "stream",
     "text": [
      "GPU available: True (mps), used: False\n",
      "TPU available: False, using: 0 TPU cores\n",
      "HPU available: False, using: 0 HPUs\n"
     ]
    },
    {
     "name": "stdout",
     "output_type": "stream",
     "text": [
      "\n",
      "[[0.48806173 0.51193833]\n",
      " [0.29490772 0.7050923 ]\n",
      " [0.5582117  0.44178826]\n",
      " ...\n",
      " [0.3008531  0.6991469 ]\n",
      " [0.15207598 0.847924  ]\n",
      " [0.14485386 0.8551461 ]]\n",
      "Predicting DataLoader 0: 100%|██████████████████| 16/16 [00:00<00:00, 17.13it/s]"
     ]
    },
    {
     "name": "stderr",
     "output_type": "stream",
     "text": [
      "GPU available: True (mps), used: False\n",
      "TPU available: False, using: 0 TPU cores\n",
      "HPU available: False, using: 0 HPUs\n"
     ]
    },
    {
     "name": "stdout",
     "output_type": "stream",
     "text": [
      "\n",
      "Predicting DataLoader 0: 100%|██████████████████| 16/16 [00:00<00:00, 17.12it/s]"
     ]
    },
    {
     "name": "stderr",
     "output_type": "stream",
     "text": [
      "GPU available: True (mps), used: False\n",
      "TPU available: False, using: 0 TPU cores\n",
      "HPU available: False, using: 0 HPUs\n"
     ]
    },
    {
     "name": "stdout",
     "output_type": "stream",
     "text": [
      "\n",
      "[[0.8985206  0.10147939]\n",
      " [0.8119555  0.1880445 ]\n",
      " [0.93584627 0.06415374]\n",
      " ...\n",
      " [0.08284421 0.9171558 ]\n",
      " [0.07545438 0.92454565]\n",
      " [0.08487765 0.91512233]]\n",
      "Predicting DataLoader 0: 100%|██████████████████| 16/16 [00:00<00:00, 16.42it/s]"
     ]
    },
    {
     "name": "stderr",
     "output_type": "stream",
     "text": [
      "GPU available: True (mps), used: False\n",
      "TPU available: False, using: 0 TPU cores\n",
      "HPU available: False, using: 0 HPUs\n"
     ]
    },
    {
     "name": "stdout",
     "output_type": "stream",
     "text": [
      "\n",
      "Predicting DataLoader 0: 100%|██████████████████| 16/16 [00:00<00:00, 16.49it/s]\n",
      "[[0.06221203 0.93778795]\n",
      " [0.1022099  0.89779013]\n",
      " [0.2619861  0.73801386]\n",
      " ...\n",
      " [0.04940751 0.9505925 ]\n",
      " [0.04729448 0.9527055 ]\n",
      " [0.06421931 0.9357807 ]]\n"
     ]
    },
    {
     "name": "stderr",
     "output_type": "stream",
     "text": [
      "GPU available: True (mps), used: False\n",
      "TPU available: False, using: 0 TPU cores\n",
      "HPU available: False, using: 0 HPUs\n"
     ]
    },
    {
     "name": "stdout",
     "output_type": "stream",
     "text": [
      "Predicting DataLoader 0: 100%|██████████████████| 16/16 [00:00<00:00, 16.85it/s]"
     ]
    },
    {
     "name": "stderr",
     "output_type": "stream",
     "text": [
      "GPU available: True (mps), used: False\n",
      "TPU available: False, using: 0 TPU cores\n",
      "HPU available: False, using: 0 HPUs\n"
     ]
    },
    {
     "name": "stdout",
     "output_type": "stream",
     "text": [
      "\n",
      "Predicting DataLoader 0: 100%|██████████████████| 16/16 [00:00<00:00, 17.00it/s]"
     ]
    },
    {
     "name": "stderr",
     "output_type": "stream",
     "text": [
      "GPU available: True (mps), used: False\n",
      "TPU available: False, using: 0 TPU cores\n",
      "HPU available: False, using: 0 HPUs\n"
     ]
    },
    {
     "name": "stdout",
     "output_type": "stream",
     "text": [
      "\n",
      "[[0.76221824 0.23778176]\n",
      " [0.4975674  0.50243264]\n",
      " [0.6062366  0.39376342]\n",
      " ...\n",
      " [0.10921943 0.89078057]\n",
      " [0.04648738 0.9535126 ]\n",
      " [0.07502883 0.92497116]]\n",
      "Predicting DataLoader 0: 100%|██████████████████| 16/16 [00:00<00:00, 17.13it/s]"
     ]
    },
    {
     "name": "stderr",
     "output_type": "stream",
     "text": [
      "GPU available: True (mps), used: False\n",
      "TPU available: False, using: 0 TPU cores\n",
      "HPU available: False, using: 0 HPUs\n"
     ]
    },
    {
     "name": "stdout",
     "output_type": "stream",
     "text": [
      "\n",
      "Predicting DataLoader 0: 100%|██████████████████| 16/16 [00:00<00:00, 16.97it/s]"
     ]
    },
    {
     "name": "stderr",
     "output_type": "stream",
     "text": [
      "GPU available: True (mps), used: False\n",
      "TPU available: False, using: 0 TPU cores\n",
      "HPU available: False, using: 0 HPUs\n"
     ]
    },
    {
     "name": "stdout",
     "output_type": "stream",
     "text": [
      "\n",
      "[[0.18392186 0.8160782 ]\n",
      " [0.1872802  0.8127198 ]\n",
      " [0.29909712 0.70090294]\n",
      " ...\n",
      " [0.04440709 0.9555929 ]\n",
      " [0.0305533  0.9694467 ]\n",
      " [0.0494743  0.9505257 ]]\n",
      "Predicting DataLoader 0: 100%|██████████████████| 16/16 [00:00<00:00, 17.02it/s]"
     ]
    },
    {
     "name": "stderr",
     "output_type": "stream",
     "text": [
      "GPU available: True (mps), used: False\n",
      "TPU available: False, using: 0 TPU cores\n",
      "HPU available: False, using: 0 HPUs\n"
     ]
    },
    {
     "name": "stdout",
     "output_type": "stream",
     "text": [
      "\n",
      "2\n",
      "Predicting DataLoader 0: 100%|██████████████████| 16/16 [00:00<00:00, 17.06it/s]"
     ]
    },
    {
     "name": "stderr",
     "output_type": "stream",
     "text": [
      "GPU available: True (mps), used: False\n",
      "TPU available: False, using: 0 TPU cores\n",
      "HPU available: False, using: 0 HPUs\n"
     ]
    },
    {
     "name": "stdout",
     "output_type": "stream",
     "text": [
      "\n",
      "[[0.8881688  0.11183115]\n",
      " [0.63199216 0.36800787]\n",
      " [0.5686513  0.43134862]\n",
      " ...\n",
      " [0.09413707 0.9058629 ]\n",
      " [0.03303784 0.9669622 ]\n",
      " [0.05125795 0.94874203]]\n",
      "Predicting DataLoader 0: 100%|██████████████████| 16/16 [00:00<00:00, 17.15it/s]"
     ]
    },
    {
     "name": "stderr",
     "output_type": "stream",
     "text": [
      "GPU available: True (mps), used: False\n",
      "TPU available: False, using: 0 TPU cores\n",
      "HPU available: False, using: 0 HPUs\n"
     ]
    },
    {
     "name": "stdout",
     "output_type": "stream",
     "text": [
      "\n",
      "Predicting DataLoader 0: 100%|██████████████████| 16/16 [00:00<00:00, 17.00it/s]"
     ]
    },
    {
     "name": "stderr",
     "output_type": "stream",
     "text": [
      "GPU available: True (mps), used: False\n",
      "TPU available: False, using: 0 TPU cores\n",
      "HPU available: False, using: 0 HPUs\n"
     ]
    },
    {
     "name": "stdout",
     "output_type": "stream",
     "text": [
      "\n",
      "[[0.8367344  0.1632656 ]\n",
      " [0.6486143  0.35138568]\n",
      " [0.8084721  0.19152787]\n",
      " ...\n",
      " [0.1004418  0.89955825]\n",
      " [0.02228166 0.9777183 ]\n",
      " [0.02795131 0.9720487 ]]\n",
      "Predicting DataLoader 0: 100%|██████████████████| 16/16 [00:00<00:00, 17.03it/s]"
     ]
    },
    {
     "name": "stderr",
     "output_type": "stream",
     "text": [
      "GPU available: True (mps), used: False\n",
      "TPU available: False, using: 0 TPU cores\n",
      "HPU available: False, using: 0 HPUs\n"
     ]
    },
    {
     "name": "stdout",
     "output_type": "stream",
     "text": [
      "\n",
      "Predicting DataLoader 0: 100%|██████████████████| 16/16 [00:00<00:00, 17.01it/s]"
     ]
    },
    {
     "name": "stderr",
     "output_type": "stream",
     "text": [
      "GPU available: True (mps), used: False\n",
      "TPU available: False, using: 0 TPU cores\n",
      "HPU available: False, using: 0 HPUs\n"
     ]
    },
    {
     "name": "stdout",
     "output_type": "stream",
     "text": [
      "\n",
      "[[0.23525622 0.76474375]\n",
      " [0.21608657 0.7839135 ]\n",
      " [0.68751156 0.31248844]\n",
      " ...\n",
      " [0.01146261 0.98853743]\n",
      " [0.0051344  0.9948656 ]\n",
      " [0.00883464 0.99116534]]\n",
      "Predicting DataLoader 0: 100%|██████████████████| 16/16 [00:00<00:00, 17.02it/s]"
     ]
    },
    {
     "name": "stderr",
     "output_type": "stream",
     "text": [
      "GPU available: True (mps), used: False\n",
      "TPU available: False, using: 0 TPU cores\n",
      "HPU available: False, using: 0 HPUs\n"
     ]
    },
    {
     "name": "stdout",
     "output_type": "stream",
     "text": [
      "\n",
      "Predicting DataLoader 0: 100%|██████████████████| 16/16 [00:00<00:00, 16.59it/s]"
     ]
    },
    {
     "name": "stderr",
     "output_type": "stream",
     "text": [
      "GPU available: True (mps), used: False\n",
      "TPU available: False, using: 0 TPU cores\n",
      "HPU available: False, using: 0 HPUs\n"
     ]
    },
    {
     "name": "stdout",
     "output_type": "stream",
     "text": [
      "\n",
      "[[0.47967082 0.5203292 ]\n",
      " [0.16755034 0.8324497 ]\n",
      " [0.78336877 0.21663122]\n",
      " ...\n",
      " [0.09740836 0.90259165]\n",
      " [0.05572097 0.9442791 ]\n",
      " [0.11071683 0.8892832 ]]\n",
      "Predicting DataLoader 0: 100%|██████████████████| 16/16 [00:00<00:00, 16.77it/s]"
     ]
    },
    {
     "name": "stderr",
     "output_type": "stream",
     "text": [
      "GPU available: True (mps), used: False\n",
      "TPU available: False, using: 0 TPU cores\n",
      "HPU available: False, using: 0 HPUs\n"
     ]
    },
    {
     "name": "stdout",
     "output_type": "stream",
     "text": [
      "\n",
      "Predicting DataLoader 0: 100%|██████████████████| 16/16 [00:00<00:00, 17.18it/s]"
     ]
    },
    {
     "name": "stderr",
     "output_type": "stream",
     "text": [
      "GPU available: True (mps), used: False\n",
      "TPU available: False, using: 0 TPU cores\n",
      "HPU available: False, using: 0 HPUs\n"
     ]
    },
    {
     "name": "stdout",
     "output_type": "stream",
     "text": [
      "\n",
      "[[0.09614064 0.9038593 ]\n",
      " [0.02360942 0.9763906 ]\n",
      " [0.09537607 0.90462387]\n",
      " ...\n",
      " [0.06800245 0.93199754]\n",
      " [0.01424816 0.9857518 ]\n",
      " [0.03684949 0.96315056]]\n",
      "Predicting DataLoader 0: 100%|██████████████████| 16/16 [00:00<00:00, 16.93it/s]"
     ]
    },
    {
     "name": "stderr",
     "output_type": "stream",
     "text": [
      "GPU available: True (mps), used: False\n",
      "TPU available: False, using: 0 TPU cores\n",
      "HPU available: False, using: 0 HPUs\n"
     ]
    },
    {
     "name": "stdout",
     "output_type": "stream",
     "text": [
      "\n",
      "3\n",
      "Predicting DataLoader 0: 100%|██████████████████| 16/16 [00:00<00:00, 17.14it/s]"
     ]
    },
    {
     "name": "stderr",
     "output_type": "stream",
     "text": [
      "GPU available: True (mps), used: False\n",
      "TPU available: False, using: 0 TPU cores\n",
      "HPU available: False, using: 0 HPUs\n"
     ]
    },
    {
     "name": "stdout",
     "output_type": "stream",
     "text": [
      "\n",
      "[[0.9023175  0.09768247]\n",
      " [0.98049736 0.01950263]\n",
      " [0.73766893 0.26233107]\n",
      " ...\n",
      " [0.07841423 0.92158574]\n",
      " [0.04719357 0.9528065 ]\n",
      " [0.05555375 0.9444462 ]]\n",
      "Predicting DataLoader 0: 100%|██████████████████| 16/16 [00:00<00:00, 16.76it/s]"
     ]
    },
    {
     "name": "stderr",
     "output_type": "stream",
     "text": [
      "GPU available: True (mps), used: False\n",
      "TPU available: False, using: 0 TPU cores\n",
      "HPU available: False, using: 0 HPUs\n"
     ]
    },
    {
     "name": "stdout",
     "output_type": "stream",
     "text": [
      "\n",
      "Predicting DataLoader 0: 100%|██████████████████| 16/16 [00:00<00:00, 16.99it/s]"
     ]
    },
    {
     "name": "stderr",
     "output_type": "stream",
     "text": [
      "GPU available: True (mps), used: False\n",
      "TPU available: False, using: 0 TPU cores\n",
      "HPU available: False, using: 0 HPUs\n"
     ]
    },
    {
     "name": "stdout",
     "output_type": "stream",
     "text": [
      "\n",
      "[[0.5868708  0.41312915]\n",
      " [0.5439741  0.45602587]\n",
      " [0.39654806 0.603452  ]\n",
      " ...\n",
      " [0.00337391 0.99662614]\n",
      " [0.00170601 0.99829406]\n",
      " [0.00231272 0.99768734]]\n",
      "Predicting DataLoader 0: 100%|██████████████████| 16/16 [00:00<00:00, 16.99it/s]"
     ]
    },
    {
     "name": "stderr",
     "output_type": "stream",
     "text": [
      "GPU available: True (mps), used: False\n",
      "TPU available: False, using: 0 TPU cores\n",
      "HPU available: False, using: 0 HPUs\n"
     ]
    },
    {
     "name": "stdout",
     "output_type": "stream",
     "text": [
      "\n",
      "Predicting DataLoader 0: 100%|██████████████████| 16/16 [00:00<00:00, 17.22it/s]"
     ]
    },
    {
     "name": "stderr",
     "output_type": "stream",
     "text": [
      "GPU available: True (mps), used: False\n",
      "TPU available: False, using: 0 TPU cores\n",
      "HPU available: False, using: 0 HPUs\n"
     ]
    },
    {
     "name": "stdout",
     "output_type": "stream",
     "text": [
      "\n",
      "[[0.78882945 0.21117055]\n",
      " [0.78875655 0.21124344]\n",
      " [0.5195582  0.48044178]\n",
      " ...\n",
      " [0.02278053 0.97721946]\n",
      " [0.01257488 0.98742515]\n",
      " [0.01805237 0.98194766]]\n",
      "Predicting DataLoader 0: 100%|██████████████████| 16/16 [00:00<00:00, 16.74it/s]"
     ]
    },
    {
     "name": "stderr",
     "output_type": "stream",
     "text": [
      "GPU available: True (mps), used: False\n",
      "TPU available: False, using: 0 TPU cores\n",
      "HPU available: False, using: 0 HPUs\n"
     ]
    },
    {
     "name": "stdout",
     "output_type": "stream",
     "text": [
      "\n",
      "Predicting DataLoader 0: 100%|██████████████████| 16/16 [00:00<00:00, 16.95it/s]"
     ]
    },
    {
     "name": "stderr",
     "output_type": "stream",
     "text": [
      "GPU available: True (mps), used: False\n",
      "TPU available: False, using: 0 TPU cores\n",
      "HPU available: False, using: 0 HPUs\n"
     ]
    },
    {
     "name": "stdout",
     "output_type": "stream",
     "text": [
      "\n",
      "[[0.4966763  0.5033237 ]\n",
      " [0.42069682 0.5793031 ]\n",
      " [0.6404264  0.35957357]\n",
      " ...\n",
      " [0.0377285  0.9622716 ]\n",
      " [0.01148017 0.98851985]\n",
      " [0.02004788 0.97995216]]\n",
      "Predicting DataLoader 0: 100%|██████████████████| 16/16 [00:00<00:00, 16.97it/s]"
     ]
    },
    {
     "name": "stderr",
     "output_type": "stream",
     "text": [
      "GPU available: True (mps), used: False\n",
      "TPU available: False, using: 0 TPU cores\n",
      "HPU available: False, using: 0 HPUs\n"
     ]
    },
    {
     "name": "stdout",
     "output_type": "stream",
     "text": [
      "\n",
      "Predicting DataLoader 0: 100%|██████████████████| 16/16 [00:00<00:00, 16.82it/s]"
     ]
    },
    {
     "name": "stderr",
     "output_type": "stream",
     "text": [
      "GPU available: True (mps), used: False\n",
      "TPU available: False, using: 0 TPU cores\n",
      "HPU available: False, using: 0 HPUs\n"
     ]
    },
    {
     "name": "stdout",
     "output_type": "stream",
     "text": [
      "\n",
      "[[0.7863435  0.21365647]\n",
      " [0.6719201  0.32807994]\n",
      " [0.8669619  0.13303806]\n",
      " ...\n",
      " [0.0347045  0.9652955 ]\n",
      " [0.02896301 0.971037  ]\n",
      " [0.02453889 0.9754612 ]]\n",
      "Predicting DataLoader 0: 100%|██████████████████| 16/16 [00:00<00:00, 16.91it/s]"
     ]
    },
    {
     "name": "stderr",
     "output_type": "stream",
     "text": [
      "GPU available: True (mps), used: False\n",
      "TPU available: False, using: 0 TPU cores\n",
      "HPU available: False, using: 0 HPUs\n"
     ]
    },
    {
     "name": "stdout",
     "output_type": "stream",
     "text": [
      "\n",
      "4\n",
      "Predicting DataLoader 0: 100%|██████████████████| 16/16 [00:00<00:00, 17.19it/s]"
     ]
    },
    {
     "name": "stderr",
     "output_type": "stream",
     "text": [
      "GPU available: True (mps), used: False\n",
      "TPU available: False, using: 0 TPU cores\n",
      "HPU available: False, using: 0 HPUs\n"
     ]
    },
    {
     "name": "stdout",
     "output_type": "stream",
     "text": [
      "\n",
      "[[0.8424523  0.15754773]\n",
      " [0.44038534 0.55961466]\n",
      " [0.840601   0.15939905]\n",
      " ...\n",
      " [0.13061799 0.869382  ]\n",
      " [0.14142391 0.8585761 ]\n",
      " [0.07339419 0.9266058 ]]\n",
      "Predicting DataLoader 0: 100%|██████████████████| 16/16 [00:00<00:00, 17.08it/s]"
     ]
    },
    {
     "name": "stderr",
     "output_type": "stream",
     "text": [
      "GPU available: True (mps), used: False\n",
      "TPU available: False, using: 0 TPU cores\n",
      "HPU available: False, using: 0 HPUs\n"
     ]
    },
    {
     "name": "stdout",
     "output_type": "stream",
     "text": [
      "\n",
      "Predicting DataLoader 0: 100%|██████████████████| 16/16 [00:00<00:00, 16.82it/s]"
     ]
    },
    {
     "name": "stderr",
     "output_type": "stream",
     "text": [
      "GPU available: True (mps), used: False\n",
      "TPU available: False, using: 0 TPU cores\n",
      "HPU available: False, using: 0 HPUs\n"
     ]
    },
    {
     "name": "stdout",
     "output_type": "stream",
     "text": [
      "\n",
      "[[0.97189754 0.02810241]\n",
      " [0.9978136  0.00218639]\n",
      " [0.9786916  0.02130844]\n",
      " ...\n",
      " [0.09919    0.90080994]\n",
      " [0.02022292 0.97977704]\n",
      " [0.0176367  0.9823632 ]]\n",
      "Predicting DataLoader 0: 100%|██████████████████| 16/16 [00:00<00:00, 16.69it/s]"
     ]
    },
    {
     "name": "stderr",
     "output_type": "stream",
     "text": [
      "GPU available: True (mps), used: False\n",
      "TPU available: False, using: 0 TPU cores\n",
      "HPU available: False, using: 0 HPUs\n"
     ]
    },
    {
     "name": "stdout",
     "output_type": "stream",
     "text": [
      "\n",
      "Predicting DataLoader 0: 100%|██████████████████| 16/16 [00:00<00:00, 17.11it/s]"
     ]
    },
    {
     "name": "stderr",
     "output_type": "stream",
     "text": [
      "GPU available: True (mps), used: False\n",
      "TPU available: False, using: 0 TPU cores\n",
      "HPU available: False, using: 0 HPUs\n"
     ]
    },
    {
     "name": "stdout",
     "output_type": "stream",
     "text": [
      "\n",
      "[[0.9110546  0.08894539]\n",
      " [0.5818707  0.41812938]\n",
      " [0.75974053 0.24025951]\n",
      " ...\n",
      " [0.0387067  0.96129334]\n",
      " [0.02877823 0.9712218 ]\n",
      " [0.0721656  0.9278344 ]]\n",
      "Predicting DataLoader 0: 100%|██████████████████| 16/16 [00:00<00:00, 17.06it/s]"
     ]
    },
    {
     "name": "stderr",
     "output_type": "stream",
     "text": [
      "GPU available: True (mps), used: False\n",
      "TPU available: False, using: 0 TPU cores\n",
      "HPU available: False, using: 0 HPUs\n"
     ]
    },
    {
     "name": "stdout",
     "output_type": "stream",
     "text": [
      "\n",
      "Predicting DataLoader 0: 100%|██████████████████| 16/16 [00:00<00:00, 17.05it/s]"
     ]
    },
    {
     "name": "stderr",
     "output_type": "stream",
     "text": [
      "GPU available: True (mps), used: False\n",
      "TPU available: False, using: 0 TPU cores\n",
      "HPU available: False, using: 0 HPUs\n"
     ]
    },
    {
     "name": "stdout",
     "output_type": "stream",
     "text": [
      "\n",
      "[[0.23030667 0.7696933 ]\n",
      " [0.10828219 0.8917178 ]\n",
      " [0.17388217 0.8261179 ]\n",
      " ...\n",
      " [0.03320514 0.96679485]\n",
      " [0.01464427 0.9853557 ]\n",
      " [0.01990782 0.98009217]]\n",
      "Predicting DataLoader 0: 100%|██████████████████| 16/16 [00:00<00:00, 16.88it/s]"
     ]
    },
    {
     "name": "stderr",
     "output_type": "stream",
     "text": [
      "GPU available: True (mps), used: False\n",
      "TPU available: False, using: 0 TPU cores\n",
      "HPU available: False, using: 0 HPUs\n"
     ]
    },
    {
     "name": "stdout",
     "output_type": "stream",
     "text": [
      "\n",
      "Predicting DataLoader 0: 100%|██████████████████| 16/16 [00:00<00:00, 16.99it/s]"
     ]
    },
    {
     "name": "stderr",
     "output_type": "stream",
     "text": [
      "GPU available: True (mps), used: False\n",
      "TPU available: False, using: 0 TPU cores\n",
      "HPU available: False, using: 0 HPUs\n"
     ]
    },
    {
     "name": "stdout",
     "output_type": "stream",
     "text": [
      "\n",
      "[[0.64538705 0.35461292]\n",
      " [0.34110188 0.65889806]\n",
      " [0.902088   0.09791204]\n",
      " ...\n",
      " [0.02231712 0.9776829 ]\n",
      " [0.0272698  0.97273016]\n",
      " [0.02887473 0.97112525]]\n",
      "Predicting DataLoader 0: 100%|██████████████████| 16/16 [00:00<00:00, 16.62it/s]"
     ]
    },
    {
     "name": "stderr",
     "output_type": "stream",
     "text": [
      "GPU available: True (mps), used: False\n",
      "TPU available: False, using: 0 TPU cores\n",
      "HPU available: False, using: 0 HPUs\n"
     ]
    },
    {
     "name": "stdout",
     "output_type": "stream",
     "text": [
      "\n",
      "5\n",
      "Predicting DataLoader 0: 100%|██████████████████| 16/16 [00:00<00:00, 17.15it/s]"
     ]
    },
    {
     "name": "stderr",
     "output_type": "stream",
     "text": [
      "GPU available: True (mps), used: False\n",
      "TPU available: False, using: 0 TPU cores\n",
      "HPU available: False, using: 0 HPUs\n"
     ]
    },
    {
     "name": "stdout",
     "output_type": "stream",
     "text": [
      "\n",
      "[[0.02037881 0.9796212 ]\n",
      " [0.0118132  0.9881868 ]\n",
      " [0.10900781 0.8909922 ]\n",
      " ...\n",
      " [0.00568511 0.99431485]\n",
      " [0.00260697 0.997393  ]\n",
      " [0.00335768 0.99664235]]\n",
      "Predicting DataLoader 0: 100%|██████████████████| 16/16 [00:00<00:00, 17.15it/s]"
     ]
    },
    {
     "name": "stderr",
     "output_type": "stream",
     "text": [
      "GPU available: True (mps), used: False\n",
      "TPU available: False, using: 0 TPU cores\n",
      "HPU available: False, using: 0 HPUs\n"
     ]
    },
    {
     "name": "stdout",
     "output_type": "stream",
     "text": [
      "\n",
      "Predicting DataLoader 0: 100%|██████████████████| 16/16 [00:00<00:00, 16.94it/s]"
     ]
    },
    {
     "name": "stderr",
     "output_type": "stream",
     "text": [
      "GPU available: True (mps), used: False\n",
      "TPU available: False, using: 0 TPU cores\n",
      "HPU available: False, using: 0 HPUs\n"
     ]
    },
    {
     "name": "stdout",
     "output_type": "stream",
     "text": [
      "\n",
      "[[0.969829   0.03017091]\n",
      " [0.9107098  0.08929017]\n",
      " [0.95943755 0.0405625 ]\n",
      " ...\n",
      " [0.41400003 0.58599997]\n",
      " [0.06838714 0.93161285]\n",
      " [0.18276367 0.8172363 ]]\n",
      "Predicting DataLoader 0: 100%|██████████████████| 16/16 [00:00<00:00, 16.85it/s]"
     ]
    },
    {
     "name": "stderr",
     "output_type": "stream",
     "text": [
      "GPU available: True (mps), used: False\n",
      "TPU available: False, using: 0 TPU cores\n",
      "HPU available: False, using: 0 HPUs\n"
     ]
    },
    {
     "name": "stdout",
     "output_type": "stream",
     "text": [
      "\n",
      "Predicting DataLoader 0: 100%|██████████████████| 16/16 [00:00<00:00, 16.75it/s]"
     ]
    },
    {
     "name": "stderr",
     "output_type": "stream",
     "text": [
      "GPU available: True (mps), used: False\n",
      "TPU available: False, using: 0 TPU cores\n",
      "HPU available: False, using: 0 HPUs\n"
     ]
    },
    {
     "name": "stdout",
     "output_type": "stream",
     "text": [
      "\n",
      "[[6.9516760e-01 3.0483243e-01]\n",
      " [6.6905808e-01 3.3094192e-01]\n",
      " [8.2247192e-01 1.7752810e-01]\n",
      " ...\n",
      " [1.5394782e-02 9.8460519e-01]\n",
      " [4.0096833e-04 9.9959904e-01]\n",
      " [1.8676176e-03 9.9813241e-01]]\n",
      "Predicting DataLoader 0: 100%|██████████████████| 16/16 [00:00<00:00, 17.05it/s]"
     ]
    },
    {
     "name": "stderr",
     "output_type": "stream",
     "text": [
      "GPU available: True (mps), used: False\n",
      "TPU available: False, using: 0 TPU cores\n",
      "HPU available: False, using: 0 HPUs\n"
     ]
    },
    {
     "name": "stdout",
     "output_type": "stream",
     "text": [
      "\n",
      "Predicting DataLoader 0: 100%|██████████████████| 16/16 [00:00<00:00, 16.89it/s]"
     ]
    },
    {
     "name": "stderr",
     "output_type": "stream",
     "text": [
      "GPU available: True (mps), used: False\n",
      "TPU available: False, using: 0 TPU cores\n",
      "HPU available: False, using: 0 HPUs\n"
     ]
    },
    {
     "name": "stdout",
     "output_type": "stream",
     "text": [
      "\n",
      "[[0.6410336  0.35896638]\n",
      " [0.61885357 0.3811464 ]\n",
      " [0.60910714 0.39089277]\n",
      " ...\n",
      " [0.01050698 0.989493  ]\n",
      " [0.00326606 0.996734  ]\n",
      " [0.00585607 0.9941439 ]]\n",
      "Predicting DataLoader 0: 100%|██████████████████| 16/16 [00:00<00:00, 16.72it/s]"
     ]
    },
    {
     "name": "stderr",
     "output_type": "stream",
     "text": [
      "GPU available: True (mps), used: False\n",
      "TPU available: False, using: 0 TPU cores\n",
      "HPU available: False, using: 0 HPUs\n"
     ]
    },
    {
     "name": "stdout",
     "output_type": "stream",
     "text": [
      "\n",
      "Predicting DataLoader 0: 100%|██████████████████| 16/16 [00:00<00:00, 16.79it/s]"
     ]
    },
    {
     "name": "stderr",
     "output_type": "stream",
     "text": [
      "GPU available: True (mps), used: False\n",
      "TPU available: False, using: 0 TPU cores\n",
      "HPU available: False, using: 0 HPUs\n"
     ]
    },
    {
     "name": "stdout",
     "output_type": "stream",
     "text": [
      "\n",
      "[[0.7503209  0.24967909]\n",
      " [0.6616698  0.3383302 ]\n",
      " [0.92236906 0.07763094]\n",
      " ...\n",
      " [0.02649929 0.9735007 ]\n",
      " [0.01616011 0.9838398 ]\n",
      " [0.05204794 0.9479521 ]]\n",
      "Predicting DataLoader 0: 100%|██████████████████| 16/16 [00:00<00:00, 17.01it/s]"
     ]
    },
    {
     "name": "stderr",
     "output_type": "stream",
     "text": [
      "GPU available: True (mps), used: False\n",
      "TPU available: False, using: 0 TPU cores\n",
      "HPU available: False, using: 0 HPUs\n"
     ]
    },
    {
     "name": "stdout",
     "output_type": "stream",
     "text": [
      "\n",
      "6\n",
      "Predicting DataLoader 0: 100%|██████████████████| 16/16 [00:00<00:00, 17.13it/s]"
     ]
    },
    {
     "name": "stderr",
     "output_type": "stream",
     "text": [
      "GPU available: True (mps), used: False\n",
      "TPU available: False, using: 0 TPU cores\n",
      "HPU available: False, using: 0 HPUs\n"
     ]
    },
    {
     "name": "stdout",
     "output_type": "stream",
     "text": [
      "\n",
      "[[0.74148834 0.25851166]\n",
      " [0.57584053 0.4241595 ]\n",
      " [0.7177798  0.28222016]\n",
      " ...\n",
      " [0.02522713 0.9747729 ]\n",
      " [0.01093218 0.98906785]\n",
      " [0.01696732 0.98303264]]\n",
      "Predicting DataLoader 0: 100%|██████████████████| 16/16 [00:00<00:00, 17.07it/s]"
     ]
    },
    {
     "name": "stderr",
     "output_type": "stream",
     "text": [
      "GPU available: True (mps), used: False\n",
      "TPU available: False, using: 0 TPU cores\n",
      "HPU available: False, using: 0 HPUs\n"
     ]
    },
    {
     "name": "stdout",
     "output_type": "stream",
     "text": [
      "\n",
      "Predicting DataLoader 0: 100%|██████████████████| 16/16 [00:00<00:00, 17.06it/s]"
     ]
    },
    {
     "name": "stderr",
     "output_type": "stream",
     "text": [
      "GPU available: True (mps), used: False\n",
      "TPU available: False, using: 0 TPU cores\n",
      "HPU available: False, using: 0 HPUs\n"
     ]
    },
    {
     "name": "stdout",
     "output_type": "stream",
     "text": [
      "\n",
      "[[0.7983696  0.20163038]\n",
      " [0.6680263  0.33197364]\n",
      " [0.6092469  0.3907531 ]\n",
      " ...\n",
      " [0.04373794 0.95626205]\n",
      " [0.0077143  0.9922857 ]\n",
      " [0.02971282 0.97028714]]\n",
      "Predicting DataLoader 0: 100%|██████████████████| 16/16 [00:00<00:00, 16.88it/s]"
     ]
    },
    {
     "name": "stderr",
     "output_type": "stream",
     "text": [
      "GPU available: True (mps), used: False\n",
      "TPU available: False, using: 0 TPU cores\n",
      "HPU available: False, using: 0 HPUs\n"
     ]
    },
    {
     "name": "stdout",
     "output_type": "stream",
     "text": [
      "\n",
      "Predicting DataLoader 0: 100%|██████████████████| 16/16 [00:00<00:00, 17.04it/s]"
     ]
    },
    {
     "name": "stderr",
     "output_type": "stream",
     "text": [
      "GPU available: True (mps), used: False\n",
      "TPU available: False, using: 0 TPU cores\n",
      "HPU available: False, using: 0 HPUs\n"
     ]
    },
    {
     "name": "stdout",
     "output_type": "stream",
     "text": [
      "\n",
      "[[0.7864058  0.2135942 ]\n",
      " [0.94285816 0.05714185]\n",
      " [0.91878337 0.08121662]\n",
      " ...\n",
      " [0.03419795 0.9658021 ]\n",
      " [0.01423524 0.9857648 ]\n",
      " [0.02466681 0.9753332 ]]\n",
      "Predicting DataLoader 0: 100%|██████████████████| 16/16 [00:00<00:00, 16.93it/s]"
     ]
    },
    {
     "name": "stderr",
     "output_type": "stream",
     "text": [
      "GPU available: True (mps), used: False\n",
      "TPU available: False, using: 0 TPU cores\n",
      "HPU available: False, using: 0 HPUs\n"
     ]
    },
    {
     "name": "stdout",
     "output_type": "stream",
     "text": [
      "\n",
      "Predicting DataLoader 0: 100%|██████████████████| 16/16 [00:00<00:00, 16.56it/s]"
     ]
    },
    {
     "name": "stderr",
     "output_type": "stream",
     "text": [
      "GPU available: True (mps), used: False\n",
      "TPU available: False, using: 0 TPU cores\n",
      "HPU available: False, using: 0 HPUs\n"
     ]
    },
    {
     "name": "stdout",
     "output_type": "stream",
     "text": [
      "\n",
      "[[9.5736772e-01 4.2632271e-02]\n",
      " [8.7007654e-01 1.2992346e-01]\n",
      " [7.2256255e-01 2.7743748e-01]\n",
      " ...\n",
      " [1.2948712e-03 9.9870515e-01]\n",
      " [6.2388432e-04 9.9937612e-01]\n",
      " [1.3822470e-03 9.9861777e-01]]\n",
      "Predicting DataLoader 0: 100%|██████████████████| 16/16 [00:00<00:00, 17.04it/s]"
     ]
    },
    {
     "name": "stderr",
     "output_type": "stream",
     "text": [
      "GPU available: True (mps), used: False\n",
      "TPU available: False, using: 0 TPU cores\n",
      "HPU available: False, using: 0 HPUs\n"
     ]
    },
    {
     "name": "stdout",
     "output_type": "stream",
     "text": [
      "\n",
      "Predicting DataLoader 0: 100%|██████████████████| 16/16 [00:00<00:00, 17.06it/s]"
     ]
    },
    {
     "name": "stderr",
     "output_type": "stream",
     "text": [
      "GPU available: True (mps), used: False\n",
      "TPU available: False, using: 0 TPU cores\n",
      "HPU available: False, using: 0 HPUs\n"
     ]
    },
    {
     "name": "stdout",
     "output_type": "stream",
     "text": [
      "\n",
      "[[0.99115515 0.00884484]\n",
      " [0.9814357  0.01856423]\n",
      " [0.9976737  0.0023263 ]\n",
      " ...\n",
      " [0.04277752 0.9572225 ]\n",
      " [0.06157349 0.93842655]\n",
      " [0.07921768 0.9207823 ]]\n",
      "Predicting DataLoader 0: 100%|██████████████████| 16/16 [00:00<00:00, 17.26it/s]"
     ]
    },
    {
     "name": "stderr",
     "output_type": "stream",
     "text": [
      "GPU available: True (mps), used: False\n",
      "TPU available: False, using: 0 TPU cores\n",
      "HPU available: False, using: 0 HPUs\n"
     ]
    },
    {
     "name": "stdout",
     "output_type": "stream",
     "text": [
      "\n",
      "7\n",
      "Predicting DataLoader 0: 100%|██████████████████| 16/16 [00:00<00:00, 16.63it/s]"
     ]
    },
    {
     "name": "stderr",
     "output_type": "stream",
     "text": [
      "GPU available: True (mps), used: False\n",
      "TPU available: False, using: 0 TPU cores\n",
      "HPU available: False, using: 0 HPUs\n"
     ]
    },
    {
     "name": "stdout",
     "output_type": "stream",
     "text": [
      "\n",
      "[[0.28086996 0.71913004]\n",
      " [0.1223104  0.8776896 ]\n",
      " [0.69442827 0.3055717 ]\n",
      " ...\n",
      " [0.05690291 0.94309705]\n",
      " [0.05001125 0.9499888 ]\n",
      " [0.05155222 0.94844776]]\n",
      "Predicting DataLoader 0: 100%|██████████████████| 16/16 [00:00<00:00, 17.07it/s]"
     ]
    },
    {
     "name": "stderr",
     "output_type": "stream",
     "text": [
      "GPU available: True (mps), used: False\n",
      "TPU available: False, using: 0 TPU cores\n",
      "HPU available: False, using: 0 HPUs\n"
     ]
    },
    {
     "name": "stdout",
     "output_type": "stream",
     "text": [
      "\n",
      "Predicting DataLoader 0: 100%|██████████████████| 16/16 [00:00<00:00, 16.97it/s]"
     ]
    },
    {
     "name": "stderr",
     "output_type": "stream",
     "text": [
      "GPU available: True (mps), used: False\n",
      "TPU available: False, using: 0 TPU cores\n",
      "HPU available: False, using: 0 HPUs\n"
     ]
    },
    {
     "name": "stdout",
     "output_type": "stream",
     "text": [
      "\n",
      "[[0.9761378  0.02386217]\n",
      " [0.9856337  0.01436636]\n",
      " [0.9750439  0.02495603]\n",
      " ...\n",
      " [0.04654956 0.9534505 ]\n",
      " [0.0207899  0.9792101 ]\n",
      " [0.04184458 0.95815545]]\n",
      "Predicting DataLoader 0: 100%|██████████████████| 16/16 [00:00<00:00, 16.81it/s]"
     ]
    },
    {
     "name": "stderr",
     "output_type": "stream",
     "text": [
      "GPU available: True (mps), used: False\n",
      "TPU available: False, using: 0 TPU cores\n",
      "HPU available: False, using: 0 HPUs\n"
     ]
    },
    {
     "name": "stdout",
     "output_type": "stream",
     "text": [
      "\n",
      "Predicting DataLoader 0: 100%|██████████████████| 16/16 [00:00<00:00, 17.08it/s]"
     ]
    },
    {
     "name": "stderr",
     "output_type": "stream",
     "text": [
      "GPU available: True (mps), used: False\n",
      "TPU available: False, using: 0 TPU cores\n",
      "HPU available: False, using: 0 HPUs\n"
     ]
    },
    {
     "name": "stdout",
     "output_type": "stream",
     "text": [
      "\n",
      "[[0.733441   0.26655903]\n",
      " [0.7948664  0.20513368]\n",
      " [0.5680935  0.4319065 ]\n",
      " ...\n",
      " [0.05468508 0.9453149 ]\n",
      " [0.02765197 0.97234803]\n",
      " [0.0404636  0.95953643]]\n",
      "Predicting DataLoader 0: 100%|██████████████████| 16/16 [00:00<00:00, 17.02it/s]"
     ]
    },
    {
     "name": "stderr",
     "output_type": "stream",
     "text": [
      "GPU available: True (mps), used: False\n",
      "TPU available: False, using: 0 TPU cores\n",
      "HPU available: False, using: 0 HPUs\n"
     ]
    },
    {
     "name": "stdout",
     "output_type": "stream",
     "text": [
      "\n",
      "Predicting DataLoader 0: 100%|██████████████████| 16/16 [00:00<00:00, 17.03it/s]"
     ]
    },
    {
     "name": "stderr",
     "output_type": "stream",
     "text": [
      "GPU available: True (mps), used: False\n",
      "TPU available: False, using: 0 TPU cores\n",
      "HPU available: False, using: 0 HPUs\n"
     ]
    },
    {
     "name": "stdout",
     "output_type": "stream",
     "text": [
      "\n",
      "[[0.5910121  0.40898788]\n",
      " [0.56665987 0.43334016]\n",
      " [0.63318884 0.36681116]\n",
      " ...\n",
      " [0.00512888 0.99487114]\n",
      " [0.00149535 0.99850464]\n",
      " [0.00126045 0.99873954]]\n",
      "Predicting DataLoader 0: 100%|██████████████████| 16/16 [00:00<00:00, 16.68it/s]"
     ]
    },
    {
     "name": "stderr",
     "output_type": "stream",
     "text": [
      "GPU available: True (mps), used: False\n",
      "TPU available: False, using: 0 TPU cores\n",
      "HPU available: False, using: 0 HPUs\n"
     ]
    },
    {
     "name": "stdout",
     "output_type": "stream",
     "text": [
      "\n",
      "Predicting DataLoader 0: 100%|██████████████████| 16/16 [00:00<00:00, 16.80it/s]"
     ]
    },
    {
     "name": "stderr",
     "output_type": "stream",
     "text": [
      "GPU available: True (mps), used: False\n",
      "TPU available: False, using: 0 TPU cores\n",
      "HPU available: False, using: 0 HPUs\n"
     ]
    },
    {
     "name": "stdout",
     "output_type": "stream",
     "text": [
      "\n",
      "[[0.2813211  0.7186789 ]\n",
      " [0.42682272 0.5731773 ]\n",
      " [0.35783926 0.6421607 ]\n",
      " ...\n",
      " [0.0048857  0.9951143 ]\n",
      " [0.00308716 0.99691284]\n",
      " [0.0039362  0.99606377]]\n",
      "Predicting DataLoader 0: 100%|██████████████████| 16/16 [00:00<00:00, 16.87it/s]"
     ]
    },
    {
     "name": "stderr",
     "output_type": "stream",
     "text": [
      "GPU available: True (mps), used: False\n",
      "TPU available: False, using: 0 TPU cores\n",
      "HPU available: False, using: 0 HPUs\n"
     ]
    },
    {
     "name": "stdout",
     "output_type": "stream",
     "text": [
      "\n",
      "8\n",
      "Predicting DataLoader 0: 100%|██████████████████| 16/16 [00:00<00:00, 16.96it/s]"
     ]
    },
    {
     "name": "stderr",
     "output_type": "stream",
     "text": [
      "GPU available: True (mps), used: False\n",
      "TPU available: False, using: 0 TPU cores\n",
      "HPU available: False, using: 0 HPUs\n"
     ]
    },
    {
     "name": "stdout",
     "output_type": "stream",
     "text": [
      "\n",
      "[[0.8150384  0.18496162]\n",
      " [0.8195697  0.18043034]\n",
      " [0.9499776  0.05002241]\n",
      " ...\n",
      " [0.01760288 0.9823971 ]\n",
      " [0.00705787 0.9929421 ]\n",
      " [0.01851449 0.98148555]]\n",
      "Predicting DataLoader 0: 100%|██████████████████| 16/16 [00:00<00:00, 17.18it/s]"
     ]
    },
    {
     "name": "stderr",
     "output_type": "stream",
     "text": [
      "GPU available: True (mps), used: False\n",
      "TPU available: False, using: 0 TPU cores\n",
      "HPU available: False, using: 0 HPUs\n"
     ]
    },
    {
     "name": "stdout",
     "output_type": "stream",
     "text": [
      "\n",
      "Predicting DataLoader 0: 100%|██████████████████| 16/16 [00:00<00:00, 17.01it/s]"
     ]
    },
    {
     "name": "stderr",
     "output_type": "stream",
     "text": [
      "GPU available: True (mps), used: False\n",
      "TPU available: False, using: 0 TPU cores\n",
      "HPU available: False, using: 0 HPUs\n"
     ]
    },
    {
     "name": "stdout",
     "output_type": "stream",
     "text": [
      "\n",
      "[[0.53294957 0.46705046]\n",
      " [0.23230241 0.76769763]\n",
      " [0.23345752 0.7665425 ]\n",
      " ...\n",
      " [0.00320892 0.99679106]\n",
      " [0.00110225 0.9988977 ]\n",
      " [0.00564067 0.9943593 ]]\n",
      "Predicting DataLoader 0: 100%|██████████████████| 16/16 [00:00<00:00, 17.05it/s]"
     ]
    },
    {
     "name": "stderr",
     "output_type": "stream",
     "text": [
      "GPU available: True (mps), used: False\n",
      "TPU available: False, using: 0 TPU cores\n",
      "HPU available: False, using: 0 HPUs\n"
     ]
    },
    {
     "name": "stdout",
     "output_type": "stream",
     "text": [
      "\n",
      "Predicting DataLoader 0: 100%|██████████████████| 16/16 [00:00<00:00, 17.07it/s]"
     ]
    },
    {
     "name": "stderr",
     "output_type": "stream",
     "text": [
      "GPU available: True (mps), used: False\n",
      "TPU available: False, using: 0 TPU cores\n",
      "HPU available: False, using: 0 HPUs\n"
     ]
    },
    {
     "name": "stdout",
     "output_type": "stream",
     "text": [
      "\n",
      "[[0.19524789 0.8047521 ]\n",
      " [0.4389731  0.5610269 ]\n",
      " [0.3232738  0.6767263 ]\n",
      " ...\n",
      " [0.0761413  0.92385864]\n",
      " [0.08148106 0.9185189 ]\n",
      " [0.11802131 0.8819787 ]]\n",
      "Predicting DataLoader 0: 100%|██████████████████| 16/16 [00:00<00:00, 17.06it/s]"
     ]
    },
    {
     "name": "stderr",
     "output_type": "stream",
     "text": [
      "GPU available: True (mps), used: False\n",
      "TPU available: False, using: 0 TPU cores\n",
      "HPU available: False, using: 0 HPUs\n"
     ]
    },
    {
     "name": "stdout",
     "output_type": "stream",
     "text": [
      "\n",
      "Predicting DataLoader 0: 100%|██████████████████| 16/16 [00:00<00:00, 17.18it/s]"
     ]
    },
    {
     "name": "stderr",
     "output_type": "stream",
     "text": [
      "GPU available: True (mps), used: False\n",
      "TPU available: False, using: 0 TPU cores\n",
      "HPU available: False, using: 0 HPUs\n"
     ]
    },
    {
     "name": "stdout",
     "output_type": "stream",
     "text": [
      "\n",
      "[[0.95175576 0.04824419]\n",
      " [0.9201408  0.07985919]\n",
      " [0.9092435  0.09075652]\n",
      " ...\n",
      " [0.05773953 0.9422605 ]\n",
      " [0.07761158 0.92238843]\n",
      " [0.07455406 0.9254459 ]]\n",
      "Predicting DataLoader 0: 100%|██████████████████| 16/16 [00:00<00:00, 17.12it/s]"
     ]
    },
    {
     "name": "stderr",
     "output_type": "stream",
     "text": [
      "GPU available: True (mps), used: False\n",
      "TPU available: False, using: 0 TPU cores\n",
      "HPU available: False, using: 0 HPUs\n"
     ]
    },
    {
     "name": "stdout",
     "output_type": "stream",
     "text": [
      "\n",
      "Predicting DataLoader 0: 100%|██████████████████| 16/16 [00:00<00:00, 16.66it/s]"
     ]
    },
    {
     "name": "stderr",
     "output_type": "stream",
     "text": [
      "GPU available: True (mps), used: False\n",
      "TPU available: False, using: 0 TPU cores\n",
      "HPU available: False, using: 0 HPUs\n"
     ]
    },
    {
     "name": "stdout",
     "output_type": "stream",
     "text": [
      "\n",
      "[[0.95751476 0.0424852 ]\n",
      " [0.86420625 0.13579372]\n",
      " [0.9248126  0.07518741]\n",
      " ...\n",
      " [0.00222706 0.9977729 ]\n",
      " [0.00107593 0.9989241 ]\n",
      " [0.00150588 0.99849415]]\n",
      "Predicting DataLoader 0: 100%|██████████████████| 16/16 [00:00<00:00, 16.94it/s]"
     ]
    },
    {
     "name": "stderr",
     "output_type": "stream",
     "text": [
      "GPU available: True (mps), used: False\n",
      "TPU available: False, using: 0 TPU cores\n",
      "HPU available: False, using: 0 HPUs\n"
     ]
    },
    {
     "name": "stdout",
     "output_type": "stream",
     "text": [
      "\n",
      "9\n",
      "Predicting DataLoader 0: 100%|██████████████████| 16/16 [00:00<00:00, 17.14it/s]"
     ]
    },
    {
     "name": "stderr",
     "output_type": "stream",
     "text": [
      "GPU available: True (mps), used: False\n",
      "TPU available: False, using: 0 TPU cores\n",
      "HPU available: False, using: 0 HPUs\n"
     ]
    },
    {
     "name": "stdout",
     "output_type": "stream",
     "text": [
      "\n",
      "[[0.9119416  0.08805838]\n",
      " [0.949055   0.05094497]\n",
      " [0.8241022  0.1758978 ]\n",
      " ...\n",
      " [0.00890974 0.9910903 ]\n",
      " [0.00535445 0.9946456 ]\n",
      " [0.00790653 0.9920935 ]]\n",
      "Predicting DataLoader 0: 100%|██████████████████| 16/16 [00:00<00:00, 16.99it/s]"
     ]
    },
    {
     "name": "stderr",
     "output_type": "stream",
     "text": [
      "GPU available: True (mps), used: False\n",
      "TPU available: False, using: 0 TPU cores\n",
      "HPU available: False, using: 0 HPUs\n"
     ]
    },
    {
     "name": "stdout",
     "output_type": "stream",
     "text": [
      "\n",
      "Predicting DataLoader 0: 100%|██████████████████| 16/16 [00:00<00:00, 16.17it/s]"
     ]
    },
    {
     "name": "stderr",
     "output_type": "stream",
     "text": [
      "GPU available: True (mps), used: False\n",
      "TPU available: False, using: 0 TPU cores\n",
      "HPU available: False, using: 0 HPUs\n"
     ]
    },
    {
     "name": "stdout",
     "output_type": "stream",
     "text": [
      "\n",
      "[[0.80341196 0.19658804]\n",
      " [0.5134183  0.48658174]\n",
      " [0.9409477  0.05905234]\n",
      " ...\n",
      " [0.05348597 0.946514  ]\n",
      " [0.03613244 0.9638676 ]\n",
      " [0.0705797  0.92942023]]\n",
      "Predicting DataLoader 0: 100%|██████████████████| 16/16 [00:00<00:00, 17.04it/s]"
     ]
    },
    {
     "name": "stderr",
     "output_type": "stream",
     "text": [
      "GPU available: True (mps), used: False\n",
      "TPU available: False, using: 0 TPU cores\n",
      "HPU available: False, using: 0 HPUs\n"
     ]
    },
    {
     "name": "stdout",
     "output_type": "stream",
     "text": [
      "\n",
      "Predicting DataLoader 0: 100%|██████████████████| 16/16 [00:00<00:00, 17.17it/s]"
     ]
    },
    {
     "name": "stderr",
     "output_type": "stream",
     "text": [
      "GPU available: True (mps), used: False\n",
      "TPU available: False, using: 0 TPU cores\n",
      "HPU available: False, using: 0 HPUs\n"
     ]
    },
    {
     "name": "stdout",
     "output_type": "stream",
     "text": [
      "\n",
      "[[0.81953657 0.18046345]\n",
      " [0.9413892  0.05861082]\n",
      " [0.5517259  0.44827408]\n",
      " ...\n",
      " [0.03077345 0.96922654]\n",
      " [0.02140223 0.9785978 ]\n",
      " [0.03730621 0.96269387]]\n",
      "Predicting DataLoader 0: 100%|██████████████████| 16/16 [00:00<00:00, 17.10it/s]"
     ]
    },
    {
     "name": "stderr",
     "output_type": "stream",
     "text": [
      "GPU available: True (mps), used: False\n",
      "TPU available: False, using: 0 TPU cores\n",
      "HPU available: False, using: 0 HPUs\n"
     ]
    },
    {
     "name": "stdout",
     "output_type": "stream",
     "text": [
      "\n",
      "Predicting DataLoader 0: 100%|██████████████████| 16/16 [00:00<00:00, 16.71it/s]"
     ]
    },
    {
     "name": "stderr",
     "output_type": "stream",
     "text": [
      "GPU available: True (mps), used: False\n",
      "TPU available: False, using: 0 TPU cores\n",
      "HPU available: False, using: 0 HPUs\n"
     ]
    },
    {
     "name": "stdout",
     "output_type": "stream",
     "text": [
      "\n",
      "[[0.2681501  0.73184985]\n",
      " [0.0329584  0.96704155]\n",
      " [0.14459652 0.8554034 ]\n",
      " ...\n",
      " [0.00281128 0.99718875]\n",
      " [0.00153087 0.99846905]\n",
      " [0.00371412 0.9962859 ]]\n",
      "Predicting DataLoader 0: 100%|██████████████████| 16/16 [00:00<00:00, 16.99it/s]"
     ]
    },
    {
     "name": "stderr",
     "output_type": "stream",
     "text": [
      "GPU available: True (mps), used: False\n",
      "TPU available: False, using: 0 TPU cores\n",
      "HPU available: False, using: 0 HPUs\n"
     ]
    },
    {
     "name": "stdout",
     "output_type": "stream",
     "text": [
      "\n",
      "Predicting DataLoader 0: 100%|██████████████████| 16/16 [00:00<00:00, 16.88it/s]"
     ]
    },
    {
     "name": "stderr",
     "output_type": "stream",
     "text": [
      "GPU available: True (mps), used: False\n",
      "TPU available: False, using: 0 TPU cores\n",
      "HPU available: False, using: 0 HPUs\n"
     ]
    },
    {
     "name": "stdout",
     "output_type": "stream",
     "text": [
      "\n",
      "[[0.889315   0.11068498]\n",
      " [0.8855962  0.11440376]\n",
      " [0.9837511  0.01624888]\n",
      " ...\n",
      " [0.00679353 0.9932065 ]\n",
      " [0.018976   0.981024  ]\n",
      " [0.04004299 0.95995694]]\n",
      "Predicting DataLoader 0: 100%|██████████████████| 16/16 [00:00<00:00, 17.24it/s]\n",
      "cycles\n"
     ]
    },
    {
     "name": "stderr",
     "output_type": "stream",
     "text": [
      "GPU available: True (mps), used: False\n",
      "TPU available: False, using: 0 TPU cores\n",
      "HPU available: False, using: 0 HPUs\n",
      "/opt/anaconda3/envs/env_gait_new/lib/python3.13/site-packages/pytorch_lightning/trainer/setup.py:177: GPU available but not used. You can set it by doing `Trainer(accelerator='gpu')`.\n",
      "/opt/anaconda3/envs/env_gait_new/lib/python3.13/site-packages/pytorch_lightning/trainer/connectors/data_connector.py:425: The 'predict_dataloader' does not have many workers which may be a bottleneck. Consider increasing the value of the `num_workers` argument` to `num_workers=13` in the `DataLoader` to improve performance.\n"
     ]
    },
    {
     "name": "stdout",
     "output_type": "stream",
     "text": [
      "Accuracy:\n",
      "Accuracy_list: [0.7094861660079052, 0.7855731225296443, 0.7766798418972332, 0.8003952569169961, 0.7687747035573123, 0.808300395256917, 0.7371541501976284, 0.8092885375494071, 0.8349802371541502, 0.7954545454545454]\n",
      "Accuracy_mean: 0.7826086956521738\n",
      "Accuracy_std: 0.034991958912303896\n",
      "---\n",
      "Confusion matrix\n",
      "Confusion matrix mean: [[177.9  21.1]\n",
      " [198.9 614.1]]\n",
      "Confusion matrix std: [[ 0.3         0.3       ]\n",
      " [35.20355096 35.20355096]]\n",
      "---\n",
      "F1\n",
      "F1_list: [0.7863372093023255, 0.850447966919366, 0.8432732316227461, 0.8622100954979536, 0.8368200836820083, 0.8683853459972863, 0.8102710413694721, 0.8691525423728813, 0.8887408394403731, 0.8583162217659137]\n",
      "F1_mean: 0.8473954577970326\n",
      "F1_std: 0.02864717158391342\n",
      "---\n",
      "Sensitivity\n",
      "Sensitivity list: [0.6654366543665436, 0.7589175891758918, 0.7478474784747847, 0.7773677736777368, 0.7380073800738007, 0.7872078720787208, 0.6986469864698647, 0.7884378843788438, 0.8204182041820418, 0.7712177121771218]\n",
      "Sensitivity mean: 0.7553505535055351\n",
      "Sensitivity std: 0.04330080068542965\n",
      "---\n",
      "Specificity\n",
      "Specificity list: [0.8894472361809045, 0.8944723618090452, 0.8944723618090452, 0.8944723618090452, 0.8944723618090452, 0.8944723618090452, 0.8944723618090452, 0.8944723618090452, 0.8944723618090452, 0.8944723618090452]\n",
      "Specificity mean: 0.8939698492462311\n",
      "Specificity std: 0.0015075376884422175\n",
      "---\n",
      "AUC\n",
      "AUC list: [np.float64(0.7774419452737241), np.float64(0.8266949754924685), np.float64(0.821159920141915), np.float64(0.835920067743391), np.float64(0.8162398709414229), np.float64(0.840840116943883), np.float64(0.7965596741394549), np.float64(0.8414551230939444), np.float64(0.8574452829955435), np.float64(0.8328450369930834)]\n",
      "AUC mean: 0.8246602013758831\n",
      "AUC std: 0.022178805973604932\n",
      "[[[  0.           0.           0.         ...   0.           0.\n",
      "     0.        ]\n",
      "  [ -0.09395     -0.20055     -0.26530001 ...  -1.81280005  -1.99220002\n",
      "    -2.14240003]\n",
      "  [ -1.16919994  -0.93102998  -0.73694998 ...  -2.81369996  -2.54369998\n",
      "    -2.28780007]\n",
      "  ...\n",
      "  [  0.           0.           0.         ...   0.           0.\n",
      "     0.        ]\n",
      "  [  0.           0.           0.         ...   0.           0.\n",
      "     0.        ]\n",
      "  [ -1.2658      -0.74980998  -0.40599999 ...  -4.43109989  -4.59639978\n",
      "    -4.76749992]]\n",
      "\n",
      " [[  0.           0.           0.         ...   0.           0.\n",
      "     0.        ]\n",
      "  [ -2.14240003  -2.2730999   -2.33719993 ...   0.41102999   0.15759\n",
      "    -0.10672   ]\n",
      "  [ -2.28780007  -2.0000999   -1.73239994 ...   0.29835001   0.66356999\n",
      "     0.96999002]\n",
      "  ...\n",
      "  [  0.           0.           0.         ...   0.           0.\n",
      "     0.        ]\n",
      "  [  0.           0.           0.         ...   0.           0.\n",
      "     0.        ]\n",
      "  [ -4.76749992  -4.95900011  -5.13100004 ...  -9.70460033  -8.66300011\n",
      "    -7.74450016]]\n",
      "\n",
      " [[  0.           0.           0.         ...   0.           0.\n",
      "     0.        ]\n",
      "  [ -0.10672     -0.37911001  -0.63415998 ...  -0.77192003  -0.53368998\n",
      "    -0.26010999]\n",
      "  [  0.96999002   1.21790004   1.39240003 ...  -4.01039982  -3.38490009\n",
      "    -2.79150009]\n",
      "  ...\n",
      "  [  0.           0.           0.         ...   0.           0.\n",
      "     0.        ]\n",
      "  [  0.           0.           0.         ...   0.           0.\n",
      "     0.        ]\n",
      "  [ -7.74450016  -6.95069981  -6.34880018 ... -20.10820007 -20.39389992\n",
      "   -20.59670067]]\n",
      "\n",
      " ...\n",
      "\n",
      " [[  0.           0.           0.         ...   0.           0.\n",
      "     0.        ]\n",
      "  [ -2.24236083  -1.90473559  -1.48810814 ...  -1.58531152  -1.42573044\n",
      "    -1.23178673]\n",
      "  [ -0.25563049  -0.03299539   0.10221714 ...   0.45000841   0.81062224\n",
      "     1.0625    ]\n",
      "  ...\n",
      "  [  0.           0.           0.         ...   0.           0.\n",
      "     0.        ]\n",
      "  [  0.           0.           0.         ...   0.           0.\n",
      "     0.        ]\n",
      "  [ -8.6161232   -8.1762023   -7.78185129 ... -10.18683767  -9.91475296\n",
      "    -9.76077271]]\n",
      "\n",
      " [[  0.           0.           0.         ...   0.           0.\n",
      "     0.        ]\n",
      "  [ -1.71433377  -1.36683762  -0.93525237 ...  -2.38095212  -2.21133912\n",
      "    -1.99000728]\n",
      "  [  3.44317675   3.45034415   3.40573382 ...   4.15106654   4.26863968\n",
      "     4.29744148]\n",
      "  ...\n",
      "  [  0.           0.           0.         ...   0.           0.\n",
      "     0.        ]\n",
      "  [  0.           0.           0.         ...   0.           0.\n",
      "     0.        ]\n",
      "  [ -7.28481627  -7.17203269  -7.02763611 ...  -8.22230179  -8.23544794\n",
      "    -8.25190353]]\n",
      "\n",
      " [[  0.           0.           0.         ...   0.           0.\n",
      "     0.        ]\n",
      "  [ -1.7625562   -1.40059227  -0.95089936 ...  -1.8705765   -1.68114087\n",
      "    -1.45049751]\n",
      "  [  4.25260067   4.11858809   3.91508925 ...   5.47567677   5.7080189\n",
      "     5.81002951]\n",
      "  ...\n",
      "  [  0.           0.           0.         ...   0.           0.\n",
      "     0.        ]\n",
      "  [  0.           0.           0.         ...   0.           0.\n",
      "     0.        ]\n",
      "  [ -8.25153828  -8.21928295  -8.15699265 ...  -5.7183407   -6.01631781\n",
      "    -6.36253643]]]\n",
      "0\n",
      "Predicting DataLoader 0:  12%|██▍                | 2/16 [00:00<00:00, 16.22it/s]"
     ]
    },
    {
     "name": "stderr",
     "output_type": "stream",
     "text": [
      "/opt/anaconda3/envs/env_gait_new/lib/python3.13/site-packages/torch/nn/modules/module.py:1739: UserWarning: Implicit dimension choice for softmax has been deprecated. Change the call to include dim=X as an argument.\n",
      "  return self._call_impl(*args, **kwargs)\n"
     ]
    },
    {
     "name": "stdout",
     "output_type": "stream",
     "text": [
      "Predicting DataLoader 0: 100%|██████████████████| 16/16 [00:00<00:00, 16.86it/s]"
     ]
    },
    {
     "name": "stderr",
     "output_type": "stream",
     "text": [
      "GPU available: True (mps), used: False\n",
      "TPU available: False, using: 0 TPU cores\n",
      "HPU available: False, using: 0 HPUs\n"
     ]
    },
    {
     "name": "stdout",
     "output_type": "stream",
     "text": [
      "\n",
      "[[0.99746215 0.00253785]\n",
      " [0.9975961  0.00240394]\n",
      " [0.998938   0.00106202]\n",
      " ...\n",
      " [0.99867684 0.00132316]\n",
      " [0.994555   0.00544496]\n",
      " [0.99694014 0.00305989]]\n",
      "Predicting DataLoader 0: 100%|██████████████████| 16/16 [00:00<00:00, 16.98it/s]"
     ]
    },
    {
     "name": "stderr",
     "output_type": "stream",
     "text": [
      "GPU available: True (mps), used: False\n",
      "TPU available: False, using: 0 TPU cores\n",
      "HPU available: False, using: 0 HPUs\n"
     ]
    },
    {
     "name": "stdout",
     "output_type": "stream",
     "text": [
      "\n",
      "Predicting DataLoader 0: 100%|██████████████████| 16/16 [00:00<00:00, 17.30it/s]"
     ]
    },
    {
     "name": "stderr",
     "output_type": "stream",
     "text": [
      "GPU available: True (mps), used: False\n",
      "TPU available: False, using: 0 TPU cores\n",
      "HPU available: False, using: 0 HPUs\n"
     ]
    },
    {
     "name": "stdout",
     "output_type": "stream",
     "text": [
      "\n",
      "[[9.9510193e-01 4.8980936e-03]\n",
      " [9.9773127e-01 2.2687961e-03]\n",
      " [9.5266449e-01 4.7335520e-02]\n",
      " ...\n",
      " [9.9917632e-01 8.2370429e-04]\n",
      " [9.9880338e-01 1.1966274e-03]\n",
      " [9.9871182e-01 1.2881733e-03]]\n",
      "Predicting DataLoader 0: 100%|██████████████████| 16/16 [00:00<00:00, 16.77it/s]"
     ]
    },
    {
     "name": "stderr",
     "output_type": "stream",
     "text": [
      "GPU available: True (mps), used: False\n",
      "TPU available: False, using: 0 TPU cores\n",
      "HPU available: False, using: 0 HPUs\n"
     ]
    },
    {
     "name": "stdout",
     "output_type": "stream",
     "text": [
      "\n",
      "Predicting DataLoader 0: 100%|██████████████████| 16/16 [00:00<00:00, 17.09it/s]"
     ]
    },
    {
     "name": "stderr",
     "output_type": "stream",
     "text": [
      "GPU available: True (mps), used: False\n",
      "TPU available: False, using: 0 TPU cores\n",
      "HPU available: False, using: 0 HPUs\n"
     ]
    },
    {
     "name": "stdout",
     "output_type": "stream",
     "text": [
      "\n",
      "[[0.98386097 0.016139  ]\n",
      " [0.99229395 0.00770603]\n",
      " [0.99253744 0.0074626 ]\n",
      " ...\n",
      " [0.96037006 0.03962997]\n",
      " [0.8608195  0.13918042]\n",
      " [0.8839505  0.11604951]]\n",
      "Predicting DataLoader 0: 100%|██████████████████| 16/16 [00:00<00:00, 17.21it/s]"
     ]
    },
    {
     "name": "stderr",
     "output_type": "stream",
     "text": [
      "GPU available: True (mps), used: False\n",
      "TPU available: False, using: 0 TPU cores\n",
      "HPU available: False, using: 0 HPUs\n"
     ]
    },
    {
     "name": "stdout",
     "output_type": "stream",
     "text": [
      "\n",
      "Predicting DataLoader 0: 100%|██████████████████| 16/16 [00:00<00:00, 16.96it/s]"
     ]
    },
    {
     "name": "stderr",
     "output_type": "stream",
     "text": [
      "GPU available: True (mps), used: False\n",
      "TPU available: False, using: 0 TPU cores\n",
      "HPU available: False, using: 0 HPUs\n"
     ]
    },
    {
     "name": "stdout",
     "output_type": "stream",
     "text": [
      "\n",
      "[[0.9720972  0.02790282]\n",
      " [0.9724727  0.02752723]\n",
      " [0.9730191  0.0269809 ]\n",
      " ...\n",
      " [0.9361314  0.06386859]\n",
      " [0.9117873  0.08821271]\n",
      " [0.9276019  0.07239818]]\n",
      "Predicting DataLoader 0: 100%|██████████████████| 16/16 [00:00<00:00, 17.10it/s]"
     ]
    },
    {
     "name": "stderr",
     "output_type": "stream",
     "text": [
      "GPU available: True (mps), used: False\n",
      "TPU available: False, using: 0 TPU cores\n",
      "HPU available: False, using: 0 HPUs\n"
     ]
    },
    {
     "name": "stdout",
     "output_type": "stream",
     "text": [
      "\n",
      "Predicting DataLoader 0: 100%|██████████████████| 16/16 [00:00<00:00, 17.11it/s]"
     ]
    },
    {
     "name": "stderr",
     "output_type": "stream",
     "text": [
      "GPU available: True (mps), used: False\n",
      "TPU available: False, using: 0 TPU cores\n",
      "HPU available: False, using: 0 HPUs\n"
     ]
    },
    {
     "name": "stdout",
     "output_type": "stream",
     "text": [
      "\n",
      "[[9.9886858e-01 1.1314994e-03]\n",
      " [9.9958509e-01 4.1493805e-04]\n",
      " [9.9767143e-01 2.3285777e-03]\n",
      " ...\n",
      " [9.9955469e-01 4.4528779e-04]\n",
      " [9.9954766e-01 4.5233118e-04]\n",
      " [9.9964285e-01 3.5709451e-04]]\n",
      "Predicting DataLoader 0: 100%|██████████████████| 16/16 [00:00<00:00, 17.11it/s]"
     ]
    },
    {
     "name": "stderr",
     "output_type": "stream",
     "text": [
      "GPU available: True (mps), used: False\n",
      "TPU available: False, using: 0 TPU cores\n",
      "HPU available: False, using: 0 HPUs\n"
     ]
    },
    {
     "name": "stdout",
     "output_type": "stream",
     "text": [
      "\n",
      "1\n",
      "Predicting DataLoader 0: 100%|██████████████████| 16/16 [00:00<00:00, 17.02it/s]"
     ]
    },
    {
     "name": "stderr",
     "output_type": "stream",
     "text": [
      "GPU available: True (mps), used: False\n",
      "TPU available: False, using: 0 TPU cores\n",
      "HPU available: False, using: 0 HPUs\n"
     ]
    },
    {
     "name": "stdout",
     "output_type": "stream",
     "text": [
      "\n",
      "[[0.83411247 0.16588752]\n",
      " [0.8512673  0.14873272]\n",
      " [0.79656917 0.2034308 ]\n",
      " ...\n",
      " [0.60948384 0.3905162 ]\n",
      " [0.47334665 0.5266534 ]\n",
      " [0.50794375 0.49205625]]\n",
      "Predicting DataLoader 0: 100%|██████████████████| 16/16 [00:00<00:00, 17.14it/s]"
     ]
    },
    {
     "name": "stderr",
     "output_type": "stream",
     "text": [
      "GPU available: True (mps), used: False\n",
      "TPU available: False, using: 0 TPU cores\n",
      "HPU available: False, using: 0 HPUs\n"
     ]
    },
    {
     "name": "stdout",
     "output_type": "stream",
     "text": [
      "\n",
      "Predicting DataLoader 0: 100%|██████████████████| 16/16 [00:00<00:00, 16.79it/s]"
     ]
    },
    {
     "name": "stderr",
     "output_type": "stream",
     "text": [
      "GPU available: True (mps), used: False\n",
      "TPU available: False, using: 0 TPU cores\n",
      "HPU available: False, using: 0 HPUs\n"
     ]
    },
    {
     "name": "stdout",
     "output_type": "stream",
     "text": [
      "\n",
      "[[9.9897480e-01 1.0251767e-03]\n",
      " [9.9858791e-01 1.4121023e-03]\n",
      " [9.9458450e-01 5.4154843e-03]\n",
      " ...\n",
      " [9.9998498e-01 1.5000094e-05]\n",
      " [9.9992061e-01 7.9433594e-05]\n",
      " [9.9996388e-01 3.6102731e-05]]\n",
      "Predicting DataLoader 0: 100%|██████████████████| 16/16 [00:00<00:00, 17.07it/s]"
     ]
    },
    {
     "name": "stderr",
     "output_type": "stream",
     "text": [
      "GPU available: True (mps), used: False\n",
      "TPU available: False, using: 0 TPU cores\n",
      "HPU available: False, using: 0 HPUs\n"
     ]
    },
    {
     "name": "stdout",
     "output_type": "stream",
     "text": [
      "\n",
      "Predicting DataLoader 0: 100%|██████████████████| 16/16 [00:00<00:00, 17.03it/s]"
     ]
    },
    {
     "name": "stderr",
     "output_type": "stream",
     "text": [
      "GPU available: True (mps), used: False\n",
      "TPU available: False, using: 0 TPU cores\n",
      "HPU available: False, using: 0 HPUs\n"
     ]
    },
    {
     "name": "stdout",
     "output_type": "stream",
     "text": [
      "\n",
      "[[8.7768328e-01 1.2231675e-01]\n",
      " [7.9843277e-01 2.0156717e-01]\n",
      " [3.5902846e-01 6.4097160e-01]\n",
      " ...\n",
      " [9.9904293e-01 9.5702620e-04]\n",
      " [9.9978429e-01 2.1577737e-04]\n",
      " [9.9982721e-01 1.7277506e-04]]\n",
      "Predicting DataLoader 0: 100%|██████████████████| 16/16 [00:00<00:00, 16.87it/s]"
     ]
    },
    {
     "name": "stderr",
     "output_type": "stream",
     "text": [
      "GPU available: True (mps), used: False\n",
      "TPU available: False, using: 0 TPU cores\n",
      "HPU available: False, using: 0 HPUs\n"
     ]
    },
    {
     "name": "stdout",
     "output_type": "stream",
     "text": [
      "\n",
      "Predicting DataLoader 0: 100%|██████████████████| 16/16 [00:00<00:00, 17.16it/s]"
     ]
    },
    {
     "name": "stderr",
     "output_type": "stream",
     "text": [
      "GPU available: True (mps), used: False\n",
      "TPU available: False, using: 0 TPU cores\n",
      "HPU available: False, using: 0 HPUs\n"
     ]
    },
    {
     "name": "stdout",
     "output_type": "stream",
     "text": [
      "\n",
      "[[9.9880934e-01 1.1906878e-03]\n",
      " [9.9955159e-01 4.4837841e-04]\n",
      " [9.9267477e-01 7.3252399e-03]\n",
      " ...\n",
      " [9.9872893e-01 1.2710450e-03]\n",
      " [9.8256564e-01 1.7434381e-02]\n",
      " [9.9501181e-01 4.9882354e-03]]\n",
      "Predicting DataLoader 0: 100%|██████████████████| 16/16 [00:00<00:00, 16.87it/s]"
     ]
    },
    {
     "name": "stderr",
     "output_type": "stream",
     "text": [
      "GPU available: True (mps), used: False\n",
      "TPU available: False, using: 0 TPU cores\n",
      "HPU available: False, using: 0 HPUs\n"
     ]
    },
    {
     "name": "stdout",
     "output_type": "stream",
     "text": [
      "\n",
      "Predicting DataLoader 0: 100%|██████████████████| 16/16 [00:00<00:00, 17.15it/s]"
     ]
    },
    {
     "name": "stderr",
     "output_type": "stream",
     "text": [
      "GPU available: True (mps), used: False\n",
      "TPU available: False, using: 0 TPU cores\n",
      "HPU available: False, using: 0 HPUs\n"
     ]
    },
    {
     "name": "stdout",
     "output_type": "stream",
     "text": [
      "\n",
      "[[9.9707723e-01 2.9228064e-03]\n",
      " [9.9639124e-01 3.6087895e-03]\n",
      " [9.9214089e-01 7.8591267e-03]\n",
      " ...\n",
      " [9.9923086e-01 7.6917827e-04]\n",
      " [9.9620748e-01 3.7924806e-03]\n",
      " [9.9852139e-01 1.4786723e-03]]\n",
      "Predicting DataLoader 0: 100%|██████████████████| 16/16 [00:00<00:00, 17.10it/s]"
     ]
    },
    {
     "name": "stderr",
     "output_type": "stream",
     "text": [
      "GPU available: True (mps), used: False\n",
      "TPU available: False, using: 0 TPU cores\n",
      "HPU available: False, using: 0 HPUs\n"
     ]
    },
    {
     "name": "stdout",
     "output_type": "stream",
     "text": [
      "\n",
      "2\n",
      "Predicting DataLoader 0: 100%|██████████████████| 16/16 [00:00<00:00, 17.00it/s]"
     ]
    },
    {
     "name": "stderr",
     "output_type": "stream",
     "text": [
      "GPU available: True (mps), used: False\n",
      "TPU available: False, using: 0 TPU cores\n",
      "HPU available: False, using: 0 HPUs\n"
     ]
    },
    {
     "name": "stdout",
     "output_type": "stream",
     "text": [
      "\n",
      "[[9.9946934e-01 5.3066510e-04]\n",
      " [9.9923539e-01 7.6456991e-04]\n",
      " [9.9953294e-01 4.6711028e-04]\n",
      " ...\n",
      " [9.9931121e-01 6.8874389e-04]\n",
      " [9.9341339e-01 6.5866262e-03]\n",
      " [9.9780852e-01 2.1914658e-03]]\n",
      "Predicting DataLoader 0: 100%|██████████████████| 16/16 [00:00<00:00, 16.98it/s]"
     ]
    },
    {
     "name": "stderr",
     "output_type": "stream",
     "text": [
      "GPU available: True (mps), used: False\n",
      "TPU available: False, using: 0 TPU cores\n",
      "HPU available: False, using: 0 HPUs\n"
     ]
    },
    {
     "name": "stdout",
     "output_type": "stream",
     "text": [
      "\n",
      "Predicting DataLoader 0: 100%|██████████████████| 16/16 [00:00<00:00, 17.09it/s]"
     ]
    },
    {
     "name": "stderr",
     "output_type": "stream",
     "text": [
      "GPU available: True (mps), used: False\n",
      "TPU available: False, using: 0 TPU cores\n",
      "HPU available: False, using: 0 HPUs\n"
     ]
    },
    {
     "name": "stdout",
     "output_type": "stream",
     "text": [
      "\n",
      "[[9.9817979e-01 1.8202707e-03]\n",
      " [9.9756086e-01 2.4391948e-03]\n",
      " [9.9886060e-01 1.1394629e-03]\n",
      " ...\n",
      " [9.9922705e-01 7.7292812e-04]\n",
      " [9.9441457e-01 5.5853887e-03]\n",
      " [9.9862885e-01 1.3711608e-03]]\n",
      "Predicting DataLoader 0: 100%|██████████████████| 16/16 [00:00<00:00, 16.70it/s]"
     ]
    },
    {
     "name": "stderr",
     "output_type": "stream",
     "text": [
      "GPU available: True (mps), used: False\n",
      "TPU available: False, using: 0 TPU cores\n",
      "HPU available: False, using: 0 HPUs\n"
     ]
    },
    {
     "name": "stdout",
     "output_type": "stream",
     "text": [
      "\n",
      "Predicting DataLoader 0: 100%|██████████████████| 16/16 [00:00<00:00, 17.18it/s]"
     ]
    },
    {
     "name": "stderr",
     "output_type": "stream",
     "text": [
      "GPU available: True (mps), used: False\n",
      "TPU available: False, using: 0 TPU cores\n",
      "HPU available: False, using: 0 HPUs\n"
     ]
    },
    {
     "name": "stdout",
     "output_type": "stream",
     "text": [
      "\n",
      "[[9.9770349e-01 2.2964715e-03]\n",
      " [9.9858177e-01 1.4182972e-03]\n",
      " [8.6512709e-01 1.3487296e-01]\n",
      " ...\n",
      " [9.9928600e-01 7.1403146e-04]\n",
      " [9.9421048e-01 5.7894886e-03]\n",
      " [9.9879515e-01 1.2048188e-03]]\n",
      "Predicting DataLoader 0: 100%|██████████████████| 16/16 [00:00<00:00, 16.95it/s]"
     ]
    },
    {
     "name": "stderr",
     "output_type": "stream",
     "text": [
      "GPU available: True (mps), used: False\n",
      "TPU available: False, using: 0 TPU cores\n",
      "HPU available: False, using: 0 HPUs\n"
     ]
    },
    {
     "name": "stdout",
     "output_type": "stream",
     "text": [
      "\n",
      "Predicting DataLoader 0: 100%|██████████████████| 16/16 [00:00<00:00, 16.80it/s]"
     ]
    },
    {
     "name": "stderr",
     "output_type": "stream",
     "text": [
      "GPU available: True (mps), used: False\n",
      "TPU available: False, using: 0 TPU cores\n",
      "HPU available: False, using: 0 HPUs\n"
     ]
    },
    {
     "name": "stdout",
     "output_type": "stream",
     "text": [
      "\n",
      "[[9.9971205e-01 2.8791829e-04]\n",
      " [9.9988604e-01 1.1398557e-04]\n",
      " [9.9854892e-01 1.4510985e-03]\n",
      " ...\n",
      " [9.9989200e-01 1.0794626e-04]\n",
      " [9.9970824e-01 2.9168188e-04]\n",
      " [9.9980849e-01 1.9152735e-04]]\n",
      "Predicting DataLoader 0: 100%|██████████████████| 16/16 [00:00<00:00, 17.17it/s]"
     ]
    },
    {
     "name": "stderr",
     "output_type": "stream",
     "text": [
      "GPU available: True (mps), used: False\n",
      "TPU available: False, using: 0 TPU cores\n",
      "HPU available: False, using: 0 HPUs\n"
     ]
    },
    {
     "name": "stdout",
     "output_type": "stream",
     "text": [
      "\n",
      "Predicting DataLoader 0: 100%|██████████████████| 16/16 [00:00<00:00, 17.14it/s]"
     ]
    },
    {
     "name": "stderr",
     "output_type": "stream",
     "text": [
      "GPU available: True (mps), used: False\n",
      "TPU available: False, using: 0 TPU cores\n",
      "HPU available: False, using: 0 HPUs\n"
     ]
    },
    {
     "name": "stdout",
     "output_type": "stream",
     "text": [
      "\n",
      "[[9.9999797e-01 2.0520677e-06]\n",
      " [9.9999809e-01 1.9259019e-06]\n",
      " [9.9999928e-01 7.2559203e-07]\n",
      " ...\n",
      " [9.9999869e-01 1.3458568e-06]\n",
      " [9.9993563e-01 6.4371816e-05]\n",
      " [9.9998367e-01 1.6323675e-05]]\n",
      "Predicting DataLoader 0: 100%|██████████████████| 16/16 [00:00<00:00, 16.96it/s]"
     ]
    },
    {
     "name": "stderr",
     "output_type": "stream",
     "text": [
      "GPU available: True (mps), used: False\n",
      "TPU available: False, using: 0 TPU cores\n",
      "HPU available: False, using: 0 HPUs\n"
     ]
    },
    {
     "name": "stdout",
     "output_type": "stream",
     "text": [
      "\n",
      "3\n",
      "Predicting DataLoader 0: 100%|██████████████████| 16/16 [00:00<00:00, 16.73it/s]"
     ]
    },
    {
     "name": "stderr",
     "output_type": "stream",
     "text": [
      "GPU available: True (mps), used: False\n",
      "TPU available: False, using: 0 TPU cores\n",
      "HPU available: False, using: 0 HPUs\n"
     ]
    },
    {
     "name": "stdout",
     "output_type": "stream",
     "text": [
      "\n",
      "[[9.9979848e-01 2.0157458e-04]\n",
      " [9.9976057e-01 2.3940776e-04]\n",
      " [9.9989522e-01 1.0476332e-04]\n",
      " ...\n",
      " [9.9988174e-01 1.1827483e-04]\n",
      " [9.9862027e-01 1.3797745e-03]\n",
      " [9.9956721e-01 4.3273333e-04]]\n",
      "Predicting DataLoader 0: 100%|██████████████████| 16/16 [00:00<00:00, 16.95it/s]"
     ]
    },
    {
     "name": "stderr",
     "output_type": "stream",
     "text": [
      "GPU available: True (mps), used: False\n",
      "TPU available: False, using: 0 TPU cores\n",
      "HPU available: False, using: 0 HPUs\n"
     ]
    },
    {
     "name": "stdout",
     "output_type": "stream",
     "text": [
      "\n",
      "Predicting DataLoader 0: 100%|██████████████████| 16/16 [00:00<00:00, 16.82it/s]"
     ]
    },
    {
     "name": "stderr",
     "output_type": "stream",
     "text": [
      "GPU available: True (mps), used: False\n",
      "TPU available: False, using: 0 TPU cores\n",
      "HPU available: False, using: 0 HPUs\n"
     ]
    },
    {
     "name": "stdout",
     "output_type": "stream",
     "text": [
      "\n",
      "[[9.9901450e-01 9.8543160e-04]\n",
      " [9.9879491e-01 1.2051080e-03]\n",
      " [9.9891067e-01 1.0892821e-03]\n",
      " ...\n",
      " [9.9852461e-01 1.4754597e-03]\n",
      " [9.9014109e-01 9.8589668e-03]\n",
      " [9.9317461e-01 6.8253637e-03]]\n",
      "Predicting DataLoader 0: 100%|██████████████████| 16/16 [00:00<00:00, 16.67it/s]"
     ]
    },
    {
     "name": "stderr",
     "output_type": "stream",
     "text": [
      "GPU available: True (mps), used: False\n",
      "TPU available: False, using: 0 TPU cores\n",
      "HPU available: False, using: 0 HPUs\n"
     ]
    },
    {
     "name": "stdout",
     "output_type": "stream",
     "text": [
      "\n",
      "Predicting DataLoader 0: 100%|██████████████████| 16/16 [00:00<00:00, 16.68it/s]"
     ]
    },
    {
     "name": "stderr",
     "output_type": "stream",
     "text": [
      "GPU available: True (mps), used: False\n",
      "TPU available: False, using: 0 TPU cores\n",
      "HPU available: False, using: 0 HPUs\n"
     ]
    },
    {
     "name": "stdout",
     "output_type": "stream",
     "text": [
      "\n",
      "[[9.99960184e-01 3.97902295e-05]\n",
      " [9.99987245e-01 1.27899630e-05]\n",
      " [9.99754131e-01 2.45876494e-04]\n",
      " ...\n",
      " [1.00000000e+00 3.63561021e-08]\n",
      " [9.99988198e-01 1.17561085e-05]\n",
      " [9.99998808e-01 1.18654975e-06]]\n",
      "Predicting DataLoader 0: 100%|██████████████████| 16/16 [00:00<00:00, 16.79it/s]"
     ]
    },
    {
     "name": "stderr",
     "output_type": "stream",
     "text": [
      "GPU available: True (mps), used: False\n",
      "TPU available: False, using: 0 TPU cores\n",
      "HPU available: False, using: 0 HPUs\n"
     ]
    },
    {
     "name": "stdout",
     "output_type": "stream",
     "text": [
      "\n",
      "Predicting DataLoader 0: 100%|██████████████████| 16/16 [00:00<00:00, 16.61it/s]"
     ]
    },
    {
     "name": "stderr",
     "output_type": "stream",
     "text": [
      "GPU available: True (mps), used: False\n",
      "TPU available: False, using: 0 TPU cores\n",
      "HPU available: False, using: 0 HPUs\n"
     ]
    },
    {
     "name": "stdout",
     "output_type": "stream",
     "text": [
      "\n",
      "[[0.34910628 0.65089375]\n",
      " [0.7784004  0.22159961]\n",
      " [0.09739134 0.90260863]\n",
      " ...\n",
      " [0.99444914 0.00555085]\n",
      " [0.9856821  0.01431792]\n",
      " [0.9902654  0.00973453]]\n",
      "Predicting DataLoader 0: 100%|██████████████████| 16/16 [00:00<00:00, 16.99it/s]"
     ]
    },
    {
     "name": "stderr",
     "output_type": "stream",
     "text": [
      "GPU available: True (mps), used: False\n",
      "TPU available: False, using: 0 TPU cores\n",
      "HPU available: False, using: 0 HPUs\n"
     ]
    },
    {
     "name": "stdout",
     "output_type": "stream",
     "text": [
      "\n",
      "Predicting DataLoader 0: 100%|██████████████████| 16/16 [00:00<00:00, 16.65it/s]"
     ]
    },
    {
     "name": "stderr",
     "output_type": "stream",
     "text": [
      "GPU available: True (mps), used: False\n",
      "TPU available: False, using: 0 TPU cores\n",
      "HPU available: False, using: 0 HPUs\n"
     ]
    },
    {
     "name": "stdout",
     "output_type": "stream",
     "text": [
      "\n",
      "[[9.9960226e-01 3.9779878e-04]\n",
      " [9.9947578e-01 5.2425393e-04]\n",
      " [9.9996448e-01 3.5500310e-05]\n",
      " ...\n",
      " [9.9999249e-01 7.4710597e-06]\n",
      " [9.9979681e-01 2.0324746e-04]\n",
      " [9.9993789e-01 6.2097199e-05]]\n",
      "Predicting DataLoader 0: 100%|██████████████████| 16/16 [00:00<00:00, 17.16it/s]"
     ]
    },
    {
     "name": "stderr",
     "output_type": "stream",
     "text": [
      "GPU available: True (mps), used: False\n",
      "TPU available: False, using: 0 TPU cores\n",
      "HPU available: False, using: 0 HPUs\n"
     ]
    },
    {
     "name": "stdout",
     "output_type": "stream",
     "text": [
      "\n",
      "4\n",
      "Predicting DataLoader 0: 100%|██████████████████| 16/16 [00:00<00:00, 16.86it/s]"
     ]
    },
    {
     "name": "stderr",
     "output_type": "stream",
     "text": [
      "GPU available: True (mps), used: False\n",
      "TPU available: False, using: 0 TPU cores\n",
      "HPU available: False, using: 0 HPUs\n"
     ]
    },
    {
     "name": "stdout",
     "output_type": "stream",
     "text": [
      "\n",
      "[[9.9999905e-01 9.7891268e-07]\n",
      " [9.9999940e-01 5.7208064e-07]\n",
      " [9.9999952e-01 4.4281148e-07]\n",
      " ...\n",
      " [9.9978310e-01 2.1687424e-04]\n",
      " [9.9198055e-01 8.0194902e-03]\n",
      " [9.9698871e-01 3.0113240e-03]]\n",
      "Predicting DataLoader 0: 100%|██████████████████| 16/16 [00:00<00:00, 17.11it/s]"
     ]
    },
    {
     "name": "stderr",
     "output_type": "stream",
     "text": [
      "GPU available: True (mps), used: False\n",
      "TPU available: False, using: 0 TPU cores\n",
      "HPU available: False, using: 0 HPUs\n"
     ]
    },
    {
     "name": "stdout",
     "output_type": "stream",
     "text": [
      "\n",
      "Predicting DataLoader 0: 100%|██████████████████| 16/16 [00:00<00:00, 16.97it/s]"
     ]
    },
    {
     "name": "stderr",
     "output_type": "stream",
     "text": [
      "GPU available: True (mps), used: False\n",
      "TPU available: False, using: 0 TPU cores\n",
      "HPU available: False, using: 0 HPUs\n"
     ]
    },
    {
     "name": "stdout",
     "output_type": "stream",
     "text": [
      "\n",
      "[[9.9944884e-01 5.5111514e-04]\n",
      " [9.9977082e-01 2.2916822e-04]\n",
      " [9.9963915e-01 3.6086619e-04]\n",
      " ...\n",
      " [9.9981970e-01 1.8033157e-04]\n",
      " [9.9430662e-01 5.6934226e-03]\n",
      " [9.9923503e-01 7.6495908e-04]]\n",
      "Predicting DataLoader 0: 100%|██████████████████| 16/16 [00:00<00:00, 17.04it/s]"
     ]
    },
    {
     "name": "stderr",
     "output_type": "stream",
     "text": [
      "GPU available: True (mps), used: False\n",
      "TPU available: False, using: 0 TPU cores\n",
      "HPU available: False, using: 0 HPUs\n"
     ]
    },
    {
     "name": "stdout",
     "output_type": "stream",
     "text": [
      "\n",
      "Predicting DataLoader 0: 100%|██████████████████| 16/16 [00:00<00:00, 16.94it/s]"
     ]
    },
    {
     "name": "stderr",
     "output_type": "stream",
     "text": [
      "GPU available: True (mps), used: False\n",
      "TPU available: False, using: 0 TPU cores\n",
      "HPU available: False, using: 0 HPUs\n"
     ]
    },
    {
     "name": "stdout",
     "output_type": "stream",
     "text": [
      "\n",
      "[[9.9980277e-01 1.9719405e-04]\n",
      " [9.9980921e-01 1.9080553e-04]\n",
      " [9.9903309e-01 9.6688367e-04]\n",
      " ...\n",
      " [9.9999940e-01 5.5258653e-07]\n",
      " [9.9998856e-01 1.1485393e-05]\n",
      " [9.9999285e-01 7.1653071e-06]]\n",
      "Predicting DataLoader 0: 100%|██████████████████| 16/16 [00:00<00:00, 16.77it/s]"
     ]
    },
    {
     "name": "stderr",
     "output_type": "stream",
     "text": [
      "GPU available: True (mps), used: False\n",
      "TPU available: False, using: 0 TPU cores\n",
      "HPU available: False, using: 0 HPUs\n"
     ]
    },
    {
     "name": "stdout",
     "output_type": "stream",
     "text": [
      "\n",
      "Predicting DataLoader 0: 100%|██████████████████| 16/16 [00:00<00:00, 17.14it/s]"
     ]
    },
    {
     "name": "stderr",
     "output_type": "stream",
     "text": [
      "GPU available: True (mps), used: False\n",
      "TPU available: False, using: 0 TPU cores\n",
      "HPU available: False, using: 0 HPUs\n"
     ]
    },
    {
     "name": "stdout",
     "output_type": "stream",
     "text": [
      "\n",
      "[[9.9988103e-01 1.1898330e-04]\n",
      " [9.9984217e-01 1.5779636e-04]\n",
      " [9.9979752e-01 2.0244364e-04]\n",
      " ...\n",
      " [9.9999738e-01 2.6163111e-06]\n",
      " [9.9997616e-01 2.3822835e-05]\n",
      " [9.9999034e-01 9.6665144e-06]]\n",
      "Predicting DataLoader 0: 100%|██████████████████| 16/16 [00:00<00:00, 16.94it/s]"
     ]
    },
    {
     "name": "stderr",
     "output_type": "stream",
     "text": [
      "GPU available: True (mps), used: False\n",
      "TPU available: False, using: 0 TPU cores\n",
      "HPU available: False, using: 0 HPUs\n"
     ]
    },
    {
     "name": "stdout",
     "output_type": "stream",
     "text": [
      "\n",
      "Predicting DataLoader 0: 100%|██████████████████| 16/16 [00:00<00:00, 16.99it/s]"
     ]
    },
    {
     "name": "stderr",
     "output_type": "stream",
     "text": [
      "GPU available: True (mps), used: False\n",
      "TPU available: False, using: 0 TPU cores\n",
      "HPU available: False, using: 0 HPUs\n"
     ]
    },
    {
     "name": "stdout",
     "output_type": "stream",
     "text": [
      "\n",
      "[[9.9999142e-01 8.5676202e-06]\n",
      " [9.9999428e-01 5.6699414e-06]\n",
      " [9.9998963e-01 1.0423041e-05]\n",
      " ...\n",
      " [9.9999630e-01 3.6475158e-06]\n",
      " [9.9992239e-01 7.7542536e-05]\n",
      " [9.9997234e-01 2.7708336e-05]]\n",
      "Predicting DataLoader 0: 100%|██████████████████| 16/16 [00:00<00:00, 16.30it/s]"
     ]
    },
    {
     "name": "stderr",
     "output_type": "stream",
     "text": [
      "GPU available: True (mps), used: False\n",
      "TPU available: False, using: 0 TPU cores\n",
      "HPU available: False, using: 0 HPUs\n"
     ]
    },
    {
     "name": "stdout",
     "output_type": "stream",
     "text": [
      "\n",
      "5\n",
      "Predicting DataLoader 0: 100%|██████████████████| 16/16 [00:00<00:00, 16.69it/s]"
     ]
    },
    {
     "name": "stderr",
     "output_type": "stream",
     "text": [
      "GPU available: True (mps), used: False\n",
      "TPU available: False, using: 0 TPU cores\n",
      "HPU available: False, using: 0 HPUs\n"
     ]
    },
    {
     "name": "stdout",
     "output_type": "stream",
     "text": [
      "\n",
      "[[9.99810278e-01 1.89706014e-04]\n",
      " [9.99867439e-01 1.32588553e-04]\n",
      " [9.99867558e-01 1.32458896e-04]\n",
      " ...\n",
      " [9.99883175e-01 1.16854484e-04]\n",
      " [9.95525658e-01 4.47430182e-03]\n",
      " [9.99038458e-01 9.61550919e-04]]\n",
      "Predicting DataLoader 0: 100%|██████████████████| 16/16 [00:00<00:00, 16.89it/s]"
     ]
    },
    {
     "name": "stderr",
     "output_type": "stream",
     "text": [
      "GPU available: True (mps), used: False\n",
      "TPU available: False, using: 0 TPU cores\n",
      "HPU available: False, using: 0 HPUs\n"
     ]
    },
    {
     "name": "stdout",
     "output_type": "stream",
     "text": [
      "\n",
      "Predicting DataLoader 0: 100%|██████████████████| 16/16 [00:00<00:00, 17.07it/s]"
     ]
    },
    {
     "name": "stderr",
     "output_type": "stream",
     "text": [
      "GPU available: True (mps), used: False\n",
      "TPU available: False, using: 0 TPU cores\n",
      "HPU available: False, using: 0 HPUs\n"
     ]
    },
    {
     "name": "stdout",
     "output_type": "stream",
     "text": [
      "\n",
      "[[0.92273015 0.07726981]\n",
      " [0.91959345 0.08040654]\n",
      " [0.8930828  0.10691717]\n",
      " ...\n",
      " [0.969606   0.030394  ]\n",
      " [0.9060645  0.09393547]\n",
      " [0.95943785 0.04056212]]\n",
      "Predicting DataLoader 0: 100%|██████████████████| 16/16 [00:00<00:00, 17.04it/s]"
     ]
    },
    {
     "name": "stderr",
     "output_type": "stream",
     "text": [
      "GPU available: True (mps), used: False\n",
      "TPU available: False, using: 0 TPU cores\n",
      "HPU available: False, using: 0 HPUs\n"
     ]
    },
    {
     "name": "stdout",
     "output_type": "stream",
     "text": [
      "\n",
      "Predicting DataLoader 0: 100%|██████████████████| 16/16 [00:00<00:00, 16.99it/s]"
     ]
    },
    {
     "name": "stderr",
     "output_type": "stream",
     "text": [
      "GPU available: True (mps), used: False\n",
      "TPU available: False, using: 0 TPU cores\n",
      "HPU available: False, using: 0 HPUs\n"
     ]
    },
    {
     "name": "stdout",
     "output_type": "stream",
     "text": [
      "\n",
      "[[9.99801457e-01 1.98544716e-04]\n",
      " [9.99838948e-01 1.61015094e-04]\n",
      " [9.99886513e-01 1.13474991e-04]\n",
      " ...\n",
      " [9.98893559e-01 1.10648340e-03]\n",
      " [8.75911772e-01 1.24088205e-01]\n",
      " [9.89576340e-01 1.04236295e-02]]\n",
      "Predicting DataLoader 0: 100%|██████████████████| 16/16 [00:00<00:00, 16.95it/s]"
     ]
    },
    {
     "name": "stderr",
     "output_type": "stream",
     "text": [
      "GPU available: True (mps), used: False\n",
      "TPU available: False, using: 0 TPU cores\n",
      "HPU available: False, using: 0 HPUs\n"
     ]
    },
    {
     "name": "stdout",
     "output_type": "stream",
     "text": [
      "\n",
      "Predicting DataLoader 0: 100%|██████████████████| 16/16 [00:00<00:00, 17.10it/s]"
     ]
    },
    {
     "name": "stderr",
     "output_type": "stream",
     "text": [
      "GPU available: True (mps), used: False\n",
      "TPU available: False, using: 0 TPU cores\n",
      "HPU available: False, using: 0 HPUs\n"
     ]
    },
    {
     "name": "stdout",
     "output_type": "stream",
     "text": [
      "\n",
      "[[9.9995744e-01 4.2581229e-05]\n",
      " [9.9994838e-01 5.1617448e-05]\n",
      " [9.9998093e-01 1.9089792e-05]\n",
      " ...\n",
      " [9.9997067e-01 2.9324510e-05]\n",
      " [9.9984992e-01 1.5007576e-04]\n",
      " [9.9990618e-01 9.3802140e-05]]\n",
      "Predicting DataLoader 0: 100%|██████████████████| 16/16 [00:00<00:00, 17.31it/s]"
     ]
    },
    {
     "name": "stderr",
     "output_type": "stream",
     "text": [
      "GPU available: True (mps), used: False\n",
      "TPU available: False, using: 0 TPU cores\n",
      "HPU available: False, using: 0 HPUs\n"
     ]
    },
    {
     "name": "stdout",
     "output_type": "stream",
     "text": [
      "\n",
      "Predicting DataLoader 0: 100%|██████████████████| 16/16 [00:00<00:00, 17.13it/s]"
     ]
    },
    {
     "name": "stderr",
     "output_type": "stream",
     "text": [
      "GPU available: True (mps), used: False\n",
      "TPU available: False, using: 0 TPU cores\n",
      "HPU available: False, using: 0 HPUs\n"
     ]
    },
    {
     "name": "stdout",
     "output_type": "stream",
     "text": [
      "\n",
      "[[9.9973446e-01 2.6549314e-04]\n",
      " [9.9989867e-01 1.0126735e-04]\n",
      " [9.9546754e-01 4.5323949e-03]\n",
      " ...\n",
      " [9.9999905e-01 9.9217993e-07]\n",
      " [9.9975723e-01 2.4274725e-04]\n",
      " [9.9997580e-01 2.4170304e-05]]\n",
      "Predicting DataLoader 0: 100%|██████████████████| 16/16 [00:00<00:00, 16.94it/s]"
     ]
    },
    {
     "name": "stderr",
     "output_type": "stream",
     "text": [
      "GPU available: True (mps), used: False\n",
      "TPU available: False, using: 0 TPU cores\n",
      "HPU available: False, using: 0 HPUs\n"
     ]
    },
    {
     "name": "stdout",
     "output_type": "stream",
     "text": [
      "\n",
      "6\n",
      "Predicting DataLoader 0: 100%|██████████████████| 16/16 [00:00<00:00, 16.94it/s]"
     ]
    },
    {
     "name": "stderr",
     "output_type": "stream",
     "text": [
      "GPU available: True (mps), used: False\n",
      "TPU available: False, using: 0 TPU cores\n",
      "HPU available: False, using: 0 HPUs\n"
     ]
    },
    {
     "name": "stdout",
     "output_type": "stream",
     "text": [
      "\n",
      "[[9.9941874e-01 5.8123178e-04]\n",
      " [9.9969745e-01 3.0263970e-04]\n",
      " [9.9869686e-01 1.3032140e-03]\n",
      " ...\n",
      " [9.9996138e-01 3.8575770e-05]\n",
      " [9.9985850e-01 1.4147730e-04]\n",
      " [9.9988687e-01 1.1310531e-04]]\n",
      "Predicting DataLoader 0: 100%|██████████████████| 16/16 [00:00<00:00, 16.65it/s]"
     ]
    },
    {
     "name": "stderr",
     "output_type": "stream",
     "text": [
      "GPU available: True (mps), used: False\n",
      "TPU available: False, using: 0 TPU cores\n",
      "HPU available: False, using: 0 HPUs\n"
     ]
    },
    {
     "name": "stdout",
     "output_type": "stream",
     "text": [
      "\n",
      "Predicting DataLoader 0: 100%|██████████████████| 16/16 [00:00<00:00, 16.84it/s]"
     ]
    },
    {
     "name": "stderr",
     "output_type": "stream",
     "text": [
      "GPU available: True (mps), used: False\n",
      "TPU available: False, using: 0 TPU cores\n",
      "HPU available: False, using: 0 HPUs\n"
     ]
    },
    {
     "name": "stdout",
     "output_type": "stream",
     "text": [
      "\n",
      "[[9.9997997e-01 1.9980533e-05]\n",
      " [9.9998653e-01 1.3528906e-05]\n",
      " [9.9998748e-01 1.2525194e-05]\n",
      " ...\n",
      " [9.9998832e-01 1.1660475e-05]\n",
      " [9.9998295e-01 1.7076034e-05]\n",
      " [9.9998260e-01 1.7349039e-05]]\n",
      "Predicting DataLoader 0: 100%|██████████████████| 16/16 [00:00<00:00, 16.61it/s]"
     ]
    },
    {
     "name": "stderr",
     "output_type": "stream",
     "text": [
      "GPU available: True (mps), used: False\n",
      "TPU available: False, using: 0 TPU cores\n",
      "HPU available: False, using: 0 HPUs\n"
     ]
    },
    {
     "name": "stdout",
     "output_type": "stream",
     "text": [
      "\n",
      "Predicting DataLoader 0: 100%|██████████████████| 16/16 [00:00<00:00, 16.99it/s]"
     ]
    },
    {
     "name": "stderr",
     "output_type": "stream",
     "text": [
      "GPU available: True (mps), used: False\n",
      "TPU available: False, using: 0 TPU cores\n",
      "HPU available: False, using: 0 HPUs\n"
     ]
    },
    {
     "name": "stdout",
     "output_type": "stream",
     "text": [
      "\n",
      "[[9.9994874e-01 5.1215189e-05]\n",
      " [9.9996889e-01 3.1168365e-05]\n",
      " [9.9980730e-01 1.9270813e-04]\n",
      " ...\n",
      " [9.9971551e-01 2.8444960e-04]\n",
      " [9.9916291e-01 8.3715020e-04]\n",
      " [9.9946803e-01 5.3195440e-04]]\n",
      "Predicting DataLoader 0: 100%|██████████████████| 16/16 [00:00<00:00, 17.05it/s]"
     ]
    },
    {
     "name": "stderr",
     "output_type": "stream",
     "text": [
      "GPU available: True (mps), used: False\n",
      "TPU available: False, using: 0 TPU cores\n",
      "HPU available: False, using: 0 HPUs\n"
     ]
    },
    {
     "name": "stdout",
     "output_type": "stream",
     "text": [
      "\n",
      "Predicting DataLoader 0: 100%|██████████████████| 16/16 [00:00<00:00, 17.06it/s]"
     ]
    },
    {
     "name": "stderr",
     "output_type": "stream",
     "text": [
      "GPU available: True (mps), used: False\n",
      "TPU available: False, using: 0 TPU cores\n",
      "HPU available: False, using: 0 HPUs\n"
     ]
    },
    {
     "name": "stdout",
     "output_type": "stream",
     "text": [
      "\n",
      "[[0.995993   0.00400692]\n",
      " [0.99580705 0.00419299]\n",
      " [0.9977418  0.00225816]\n",
      " ...\n",
      " [0.98442614 0.01557385]\n",
      " [0.82667786 0.17332216]\n",
      " [0.93500876 0.06499126]]\n",
      "Predicting DataLoader 0: 100%|██████████████████| 16/16 [00:00<00:00, 17.00it/s]"
     ]
    },
    {
     "name": "stderr",
     "output_type": "stream",
     "text": [
      "GPU available: True (mps), used: False\n",
      "TPU available: False, using: 0 TPU cores\n",
      "HPU available: False, using: 0 HPUs\n"
     ]
    },
    {
     "name": "stdout",
     "output_type": "stream",
     "text": [
      "\n",
      "Predicting DataLoader 0: 100%|██████████████████| 16/16 [00:00<00:00, 17.03it/s]"
     ]
    },
    {
     "name": "stderr",
     "output_type": "stream",
     "text": [
      "GPU available: True (mps), used: False\n",
      "TPU available: False, using: 0 TPU cores\n",
      "HPU available: False, using: 0 HPUs\n"
     ]
    },
    {
     "name": "stdout",
     "output_type": "stream",
     "text": [
      "\n",
      "[[9.9992716e-01 7.2854549e-05]\n",
      " [9.9995780e-01 4.2250678e-05]\n",
      " [9.9983835e-01 1.6160264e-04]\n",
      " ...\n",
      " [9.9999118e-01 8.7659773e-06]\n",
      " [9.9996221e-01 3.7818281e-05]\n",
      " [9.9995327e-01 4.6732384e-05]]\n",
      "Predicting DataLoader 0: 100%|██████████████████| 16/16 [00:00<00:00, 16.89it/s]"
     ]
    },
    {
     "name": "stderr",
     "output_type": "stream",
     "text": [
      "GPU available: True (mps), used: False\n",
      "TPU available: False, using: 0 TPU cores\n",
      "HPU available: False, using: 0 HPUs\n"
     ]
    },
    {
     "name": "stdout",
     "output_type": "stream",
     "text": [
      "\n",
      "7\n",
      "Predicting DataLoader 0: 100%|██████████████████| 16/16 [00:00<00:00, 16.62it/s]\n",
      "[[9.9974495e-01 2.5504993e-04]\n",
      " [9.9975950e-01 2.4052383e-04]\n",
      " [9.9936122e-01 6.3880376e-04]\n",
      " ...\n",
      " [9.9998176e-01 1.8235089e-05]\n",
      " [9.9991679e-01 8.3214654e-05]\n",
      " [9.9997938e-01 2.0589798e-05]]\n"
     ]
    },
    {
     "name": "stderr",
     "output_type": "stream",
     "text": [
      "GPU available: True (mps), used: False\n",
      "TPU available: False, using: 0 TPU cores\n",
      "HPU available: False, using: 0 HPUs\n"
     ]
    },
    {
     "name": "stdout",
     "output_type": "stream",
     "text": [
      "Predicting DataLoader 0: 100%|██████████████████| 16/16 [00:00<00:00, 17.05it/s]"
     ]
    },
    {
     "name": "stderr",
     "output_type": "stream",
     "text": [
      "GPU available: True (mps), used: False\n",
      "TPU available: False, using: 0 TPU cores\n",
      "HPU available: False, using: 0 HPUs\n"
     ]
    },
    {
     "name": "stdout",
     "output_type": "stream",
     "text": [
      "\n",
      "Predicting DataLoader 0: 100%|██████████████████| 16/16 [00:00<00:00, 16.76it/s]"
     ]
    },
    {
     "name": "stderr",
     "output_type": "stream",
     "text": [
      "GPU available: True (mps), used: False\n",
      "TPU available: False, using: 0 TPU cores\n",
      "HPU available: False, using: 0 HPUs\n"
     ]
    },
    {
     "name": "stdout",
     "output_type": "stream",
     "text": [
      "\n",
      "[[9.9999964e-01 3.1974159e-07]\n",
      " [9.9999905e-01 9.4452434e-07]\n",
      " [9.9999964e-01 3.3674797e-07]\n",
      " ...\n",
      " [9.9999249e-01 7.4718932e-06]\n",
      " [9.9988878e-01 1.1121275e-04]\n",
      " [9.9997997e-01 1.9981828e-05]]\n",
      "Predicting DataLoader 0: 100%|██████████████████| 16/16 [00:00<00:00, 17.13it/s]"
     ]
    },
    {
     "name": "stderr",
     "output_type": "stream",
     "text": [
      "GPU available: True (mps), used: False\n",
      "TPU available: False, using: 0 TPU cores\n",
      "HPU available: False, using: 0 HPUs\n"
     ]
    },
    {
     "name": "stdout",
     "output_type": "stream",
     "text": [
      "\n",
      "Predicting DataLoader 0: 100%|██████████████████| 16/16 [00:00<00:00, 16.94it/s]"
     ]
    },
    {
     "name": "stderr",
     "output_type": "stream",
     "text": [
      "GPU available: True (mps), used: False\n",
      "TPU available: False, using: 0 TPU cores\n",
      "HPU available: False, using: 0 HPUs\n"
     ]
    },
    {
     "name": "stdout",
     "output_type": "stream",
     "text": [
      "\n",
      "[[9.9973410e-01 2.6590101e-04]\n",
      " [9.9884510e-01 1.1549069e-03]\n",
      " [9.9921894e-01 7.8102550e-04]\n",
      " ...\n",
      " [9.9915385e-01 8.4616651e-04]\n",
      " [9.3872803e-01 6.1271917e-02]\n",
      " [9.5772249e-01 4.2277534e-02]]\n",
      "Predicting DataLoader 0: 100%|██████████████████| 16/16 [00:00<00:00, 16.93it/s]"
     ]
    },
    {
     "name": "stderr",
     "output_type": "stream",
     "text": [
      "GPU available: True (mps), used: False\n",
      "TPU available: False, using: 0 TPU cores\n",
      "HPU available: False, using: 0 HPUs\n"
     ]
    },
    {
     "name": "stdout",
     "output_type": "stream",
     "text": [
      "\n",
      "Predicting DataLoader 0: 100%|██████████████████| 16/16 [00:00<00:00, 16.89it/s]"
     ]
    },
    {
     "name": "stderr",
     "output_type": "stream",
     "text": [
      "GPU available: True (mps), used: False\n",
      "TPU available: False, using: 0 TPU cores\n",
      "HPU available: False, using: 0 HPUs\n"
     ]
    },
    {
     "name": "stdout",
     "output_type": "stream",
     "text": [
      "\n",
      "[[9.9999869e-01 1.2922209e-06]\n",
      " [9.9999595e-01 4.1008893e-06]\n",
      " [9.9999130e-01 8.6879618e-06]\n",
      " ...\n",
      " [9.9994600e-01 5.4008713e-05]\n",
      " [9.9945873e-01 5.4127414e-04]\n",
      " [9.9983478e-01 1.6523032e-04]]\n",
      "Predicting DataLoader 0: 100%|██████████████████| 16/16 [00:00<00:00, 17.04it/s]"
     ]
    },
    {
     "name": "stderr",
     "output_type": "stream",
     "text": [
      "GPU available: True (mps), used: False\n",
      "TPU available: False, using: 0 TPU cores\n",
      "HPU available: False, using: 0 HPUs\n"
     ]
    },
    {
     "name": "stdout",
     "output_type": "stream",
     "text": [
      "\n",
      "Predicting DataLoader 0: 100%|██████████████████| 16/16 [00:00<00:00, 16.88it/s]"
     ]
    },
    {
     "name": "stderr",
     "output_type": "stream",
     "text": [
      "GPU available: True (mps), used: False\n",
      "TPU available: False, using: 0 TPU cores\n",
      "HPU available: False, using: 0 HPUs\n"
     ]
    },
    {
     "name": "stdout",
     "output_type": "stream",
     "text": [
      "\n",
      "[[9.9997330e-01 2.6700545e-05]\n",
      " [9.9998832e-01 1.1651260e-05]\n",
      " [9.9981457e-01 1.8548768e-04]\n",
      " ...\n",
      " [9.9999511e-01 4.9262376e-06]\n",
      " [9.9983096e-01 1.6900577e-04]\n",
      " [9.9989843e-01 1.0157858e-04]]\n",
      "Predicting DataLoader 0: 100%|██████████████████| 16/16 [00:00<00:00, 16.47it/s]"
     ]
    },
    {
     "name": "stderr",
     "output_type": "stream",
     "text": [
      "GPU available: True (mps), used: False\n",
      "TPU available: False, using: 0 TPU cores\n",
      "HPU available: False, using: 0 HPUs\n"
     ]
    },
    {
     "name": "stdout",
     "output_type": "stream",
     "text": [
      "\n",
      "8\n",
      "Predicting DataLoader 0: 100%|██████████████████| 16/16 [00:00<00:00, 17.09it/s]"
     ]
    },
    {
     "name": "stderr",
     "output_type": "stream",
     "text": [
      "GPU available: True (mps), used: False\n",
      "TPU available: False, using: 0 TPU cores\n",
      "HPU available: False, using: 0 HPUs\n"
     ]
    },
    {
     "name": "stdout",
     "output_type": "stream",
     "text": [
      "\n",
      "[[9.9999499e-01 4.9574128e-06]\n",
      " [9.9999607e-01 3.9611077e-06]\n",
      " [9.9995875e-01 4.1280644e-05]\n",
      " ...\n",
      " [9.9999475e-01 5.2959172e-06]\n",
      " [9.9998009e-01 1.9895844e-05]\n",
      " [9.9998653e-01 1.3518975e-05]]\n",
      "Predicting DataLoader 0: 100%|██████████████████| 16/16 [00:00<00:00, 16.80it/s]"
     ]
    },
    {
     "name": "stderr",
     "output_type": "stream",
     "text": [
      "GPU available: True (mps), used: False\n",
      "TPU available: False, using: 0 TPU cores\n",
      "HPU available: False, using: 0 HPUs\n"
     ]
    },
    {
     "name": "stdout",
     "output_type": "stream",
     "text": [
      "\n",
      "Predicting DataLoader 0: 100%|██████████████████| 16/16 [00:00<00:00, 16.81it/s]"
     ]
    },
    {
     "name": "stderr",
     "output_type": "stream",
     "text": [
      "GPU available: True (mps), used: False\n",
      "TPU available: False, using: 0 TPU cores\n",
      "HPU available: False, using: 0 HPUs\n"
     ]
    },
    {
     "name": "stdout",
     "output_type": "stream",
     "text": [
      "\n",
      "[[9.9998641e-01 1.3617457e-05]\n",
      " [9.9995387e-01 4.6123565e-05]\n",
      " [9.9997973e-01 2.0243697e-05]\n",
      " ...\n",
      " [9.9996567e-01 3.4369230e-05]\n",
      " [9.9994171e-01 5.8329300e-05]\n",
      " [9.9994063e-01 5.9337701e-05]]\n",
      "Predicting DataLoader 0: 100%|██████████████████| 16/16 [00:01<00:00, 15.31it/s]"
     ]
    },
    {
     "name": "stderr",
     "output_type": "stream",
     "text": [
      "GPU available: True (mps), used: False\n",
      "TPU available: False, using: 0 TPU cores\n",
      "HPU available: False, using: 0 HPUs\n"
     ]
    },
    {
     "name": "stdout",
     "output_type": "stream",
     "text": [
      "\n",
      "Predicting DataLoader 0: 100%|██████████████████| 16/16 [00:00<00:00, 17.23it/s]"
     ]
    },
    {
     "name": "stderr",
     "output_type": "stream",
     "text": [
      "GPU available: True (mps), used: False\n",
      "TPU available: False, using: 0 TPU cores\n",
      "HPU available: False, using: 0 HPUs\n"
     ]
    },
    {
     "name": "stdout",
     "output_type": "stream",
     "text": [
      "\n",
      "[[9.9999964e-01 3.7690361e-07]\n",
      " [9.9999881e-01 1.2223109e-06]\n",
      " [9.9999964e-01 3.7005168e-07]\n",
      " ...\n",
      " [9.9999094e-01 9.0602862e-06]\n",
      " [9.9958986e-01 4.1009643e-04]\n",
      " [9.9988723e-01 1.1271867e-04]]\n",
      "Predicting DataLoader 0: 100%|██████████████████| 16/16 [00:00<00:00, 16.85it/s]"
     ]
    },
    {
     "name": "stderr",
     "output_type": "stream",
     "text": [
      "GPU available: True (mps), used: False\n",
      "TPU available: False, using: 0 TPU cores\n",
      "HPU available: False, using: 0 HPUs\n"
     ]
    },
    {
     "name": "stdout",
     "output_type": "stream",
     "text": [
      "\n",
      "Predicting DataLoader 0: 100%|██████████████████| 16/16 [00:00<00:00, 16.74it/s]"
     ]
    },
    {
     "name": "stderr",
     "output_type": "stream",
     "text": [
      "GPU available: True (mps), used: False\n",
      "TPU available: False, using: 0 TPU cores\n",
      "HPU available: False, using: 0 HPUs\n"
     ]
    },
    {
     "name": "stdout",
     "output_type": "stream",
     "text": [
      "\n",
      "[[9.9999917e-01 8.1608277e-07]\n",
      " [9.9999988e-01 9.3417071e-08]\n",
      " [9.9998784e-01 1.2135115e-05]\n",
      " ...\n",
      " [9.9999952e-01 4.8697098e-07]\n",
      " [9.9999917e-01 8.2254223e-07]\n",
      " [9.9999928e-01 7.5512474e-07]]\n",
      "Predicting DataLoader 0: 100%|██████████████████| 16/16 [00:00<00:00, 17.00it/s]"
     ]
    },
    {
     "name": "stderr",
     "output_type": "stream",
     "text": [
      "GPU available: True (mps), used: False\n",
      "TPU available: False, using: 0 TPU cores\n",
      "HPU available: False, using: 0 HPUs\n"
     ]
    },
    {
     "name": "stdout",
     "output_type": "stream",
     "text": [
      "\n",
      "Predicting DataLoader 0: 100%|██████████████████| 16/16 [00:00<00:00, 16.40it/s]"
     ]
    },
    {
     "name": "stderr",
     "output_type": "stream",
     "text": [
      "GPU available: True (mps), used: False\n",
      "TPU available: False, using: 0 TPU cores\n",
      "HPU available: False, using: 0 HPUs\n"
     ]
    },
    {
     "name": "stdout",
     "output_type": "stream",
     "text": [
      "\n",
      "[[9.9999869e-01 1.3496201e-06]\n",
      " [9.9999869e-01 1.3309690e-06]\n",
      " [9.9999678e-01 3.1739271e-06]\n",
      " ...\n",
      " [1.0000000e+00 2.9340992e-08]\n",
      " [9.9999988e-01 5.9923579e-08]\n",
      " [9.9999976e-01 1.9917668e-07]]\n",
      "Predicting DataLoader 0: 100%|██████████████████| 16/16 [00:00<00:00, 16.29it/s]"
     ]
    },
    {
     "name": "stderr",
     "output_type": "stream",
     "text": [
      "GPU available: True (mps), used: False\n",
      "TPU available: False, using: 0 TPU cores\n",
      "HPU available: False, using: 0 HPUs\n"
     ]
    },
    {
     "name": "stdout",
     "output_type": "stream",
     "text": [
      "\n",
      "9\n",
      "Predicting DataLoader 0: 100%|██████████████████| 16/16 [00:00<00:00, 16.71it/s]"
     ]
    },
    {
     "name": "stderr",
     "output_type": "stream",
     "text": [
      "GPU available: True (mps), used: False\n",
      "TPU available: False, using: 0 TPU cores\n",
      "HPU available: False, using: 0 HPUs\n"
     ]
    },
    {
     "name": "stdout",
     "output_type": "stream",
     "text": [
      "\n",
      "[[9.9997342e-01 2.6566489e-05]\n",
      " [9.9997497e-01 2.5076450e-05]\n",
      " [9.9982518e-01 1.7484867e-04]\n",
      " ...\n",
      " [9.9999261e-01 7.3626993e-06]\n",
      " [9.9997032e-01 2.9722534e-05]\n",
      " [9.9998498e-01 1.4966700e-05]]\n",
      "Predicting DataLoader 0: 100%|██████████████████| 16/16 [00:00<00:00, 16.55it/s]"
     ]
    },
    {
     "name": "stderr",
     "output_type": "stream",
     "text": [
      "GPU available: True (mps), used: False\n",
      "TPU available: False, using: 0 TPU cores\n",
      "HPU available: False, using: 0 HPUs\n"
     ]
    },
    {
     "name": "stdout",
     "output_type": "stream",
     "text": [
      "\n",
      "Predicting DataLoader 0: 100%|██████████████████| 16/16 [00:00<00:00, 16.56it/s]"
     ]
    },
    {
     "name": "stderr",
     "output_type": "stream",
     "text": [
      "GPU available: True (mps), used: False\n",
      "TPU available: False, using: 0 TPU cores\n",
      "HPU available: False, using: 0 HPUs\n"
     ]
    },
    {
     "name": "stdout",
     "output_type": "stream",
     "text": [
      "\n",
      "[[9.9997365e-01 2.6360558e-05]\n",
      " [9.9999261e-01 7.3923693e-06]\n",
      " [9.8770010e-01 1.2299911e-02]\n",
      " ...\n",
      " [9.9992418e-01 7.5763812e-05]\n",
      " [9.9622130e-01 3.7786772e-03]\n",
      " [9.9919826e-01 8.0178864e-04]]\n",
      "Predicting DataLoader 0: 100%|██████████████████| 16/16 [00:00<00:00, 16.58it/s]\n"
     ]
    },
    {
     "name": "stderr",
     "output_type": "stream",
     "text": [
      "GPU available: True (mps), used: False\n",
      "TPU available: False, using: 0 TPU cores\n",
      "HPU available: False, using: 0 HPUs\n"
     ]
    },
    {
     "name": "stdout",
     "output_type": "stream",
     "text": [
      "Predicting DataLoader 0: 100%|██████████████████| 16/16 [00:00<00:00, 17.02it/s]"
     ]
    },
    {
     "name": "stderr",
     "output_type": "stream",
     "text": [
      "GPU available: True (mps), used: False\n",
      "TPU available: False, using: 0 TPU cores\n",
      "HPU available: False, using: 0 HPUs\n"
     ]
    },
    {
     "name": "stdout",
     "output_type": "stream",
     "text": [
      "\n",
      "[[9.9999988e-01 1.4247256e-07]\n",
      " [9.9999964e-01 3.6349761e-07]\n",
      " [9.9999976e-01 2.9090577e-07]\n",
      " ...\n",
      " [9.9999452e-01 5.4251364e-06]\n",
      " [9.9988878e-01 1.1116196e-04]\n",
      " [9.9994457e-01 5.5409400e-05]]\n",
      "Predicting DataLoader 0: 100%|██████████████████| 16/16 [00:00<00:00, 16.40it/s]"
     ]
    },
    {
     "name": "stderr",
     "output_type": "stream",
     "text": [
      "GPU available: True (mps), used: False\n",
      "TPU available: False, using: 0 TPU cores\n",
      "HPU available: False, using: 0 HPUs\n"
     ]
    },
    {
     "name": "stdout",
     "output_type": "stream",
     "text": [
      "\n",
      "Predicting DataLoader 0: 100%|██████████████████| 16/16 [00:00<00:00, 16.91it/s]"
     ]
    },
    {
     "name": "stderr",
     "output_type": "stream",
     "text": [
      "GPU available: True (mps), used: False\n",
      "TPU available: False, using: 0 TPU cores\n",
      "HPU available: False, using: 0 HPUs\n"
     ]
    },
    {
     "name": "stdout",
     "output_type": "stream",
     "text": [
      "\n",
      "[[9.99993563e-01 6.42099076e-06]\n",
      " [9.99979496e-01 2.04609987e-05]\n",
      " [9.99987602e-01 1.24216085e-05]\n",
      " ...\n",
      " [9.99973536e-01 2.64273585e-05]\n",
      " [9.94600892e-01 5.39909955e-03]\n",
      " [9.99272645e-01 7.27384293e-04]]\n",
      "Predicting DataLoader 0: 100%|██████████████████| 16/16 [00:00<00:00, 16.86it/s]"
     ]
    },
    {
     "name": "stderr",
     "output_type": "stream",
     "text": [
      "GPU available: True (mps), used: False\n",
      "TPU available: False, using: 0 TPU cores\n",
      "HPU available: False, using: 0 HPUs\n"
     ]
    },
    {
     "name": "stdout",
     "output_type": "stream",
     "text": [
      "\n",
      "Predicting DataLoader 0: 100%|██████████████████| 16/16 [00:00<00:00, 16.79it/s]"
     ]
    },
    {
     "name": "stderr",
     "output_type": "stream",
     "text": [
      "GPU available: True (mps), used: False\n",
      "TPU available: False, using: 0 TPU cores\n",
      "HPU available: False, using: 0 HPUs\n"
     ]
    },
    {
     "name": "stdout",
     "output_type": "stream",
     "text": [
      "\n",
      "[[1.0000000e+00 2.3122812e-10]\n",
      " [1.0000000e+00 6.7883993e-10]\n",
      " [1.0000000e+00 8.9189967e-10]\n",
      " ...\n",
      " [1.0000000e+00 4.1578378e-08]\n",
      " [9.9998391e-01 1.6093241e-05]\n",
      " [9.9999809e-01 1.9522795e-06]]\n",
      "Predicting DataLoader 0: 100%|██████████████████| 16/16 [00:00<00:00, 16.24it/s]\n",
      "cycles\n",
      "Accuracy:\n",
      "Accuracy_list: [0.22035573122529645, 0.2628458498023715, 0.19466403162055335, 0.2183794466403162, 0.21146245059288538, 0.2450592885375494, 0.21541501976284586, 0.1907114624505929, 0.18675889328063242, 0.18478260869565216]\n",
      "Accuracy_mean: 0.21304347826086958\n",
      "Accuracy_std: 0.02433399458267206\n",
      "---\n",
      "Confusion matrix\n",
      "Confusion matrix mean: [[189.9   9.1]\n",
      " [787.3  25.7]]\n",
      "Confusion matrix std: [[ 4.25323406  4.25323406]\n",
      " [22.56568191 22.56568191]]\n",
      "---\n",
      "F1\n",
      "F1_list: [0.08149010477299184, 0.1580135440180587, 0.021608643457382955, 0.059453032104637336, 0.04316546762589928, 0.13574660633484162, 0.0702576112412178, 0.012062726176115802, 0.0024242424242424242, 0.009603841536614645]\n",
      "F1_mean: 0.059382581969200245\n",
      "F1_std: 0.05081117407104328\n",
      "---\n",
      "Sensitivity\n",
      "Sensitivity list: [0.04305043050430504, 0.08610086100861009, 0.01107011070110701, 0.03075030750307503, 0.02214022140221402, 0.07380073800738007, 0.03690036900369004, 0.006150061500615006, 0.0012300123001230013, 0.004920049200492005]\n",
      "Sensitivity mean: 0.031611316113161134\n",
      "Sensitivity std: 0.027756066308237886\n",
      "---\n",
      "Specificity\n",
      "Specificity list: [0.9447236180904522, 0.9849246231155779, 0.9447236180904522, 0.9849246231155779, 0.9849246231155779, 0.9447236180904522, 0.9447236180904522, 0.9447236180904522, 0.9447236180904522, 0.9195979899497487]\n",
      "Specificity mean: 0.9542713567839195\n",
      "Specificity std: 0.02137303549561484\n",
      "---\n",
      "AUC\n",
      "AUC list: [np.float64(0.4938870242973787), np.float64(0.535512742062094), np.float64(0.47789686439577966), np.float64(0.5078374653093265), np.float64(0.5035324222588959), np.float64(0.509262178048916), np.float64(0.4908119935470711), np.float64(0.4754368397955336), np.float64(0.4729768151952876), np.float64(0.46225901957512033)]\n",
      "AUC mean: 0.4929413364485404\n",
      "AUC std: 0.02071453317565027\n",
      "[ 3  6 17 11  9 14 19  8 10  5  0]\n",
      "[13 21 16  2 15  7 20  1 18 12  4]\n",
      "[[[  9.83950043   9.7201004    9.6335001  ...   9.47509956   9.24769974\n",
      "     9.04039955]\n",
      "  [  0.           0.           0.         ...   0.           0.\n",
      "     0.        ]\n",
      "  [  0.           0.           0.         ...   0.           0.\n",
      "     0.        ]\n",
      "  ...\n",
      "  [  6.59590006   6.85389996   6.91020012 ...   4.11780024   3.96300006\n",
      "     3.72989988]\n",
      "  [  0.           0.           0.         ...   0.           0.\n",
      "     0.        ]\n",
      "  [  0.           0.           0.         ...   0.           0.\n",
      "     0.        ]]\n",
      "\n",
      " [[  9.04039955   8.82820034   8.66639996 ...  13.4090004   13.08100033\n",
      "    12.73579979]\n",
      "  [  0.           0.           0.         ...   0.           0.\n",
      "     0.        ]\n",
      "  [  0.           0.           0.         ...   0.           0.\n",
      "     0.        ]\n",
      "  ...\n",
      "  [  3.72989988   3.39369988   3.03649998 ...   6.45079994   6.55550003\n",
      "     6.6479001 ]\n",
      "  [  0.           0.           0.         ...   0.           0.\n",
      "     0.        ]\n",
      "  [  0.           0.           0.         ...   0.           0.\n",
      "     0.        ]]\n",
      "\n",
      " [[ 12.73579979  12.3743      12.02490044 ...  13.14729977  13.28199959\n",
      "    13.39649963]\n",
      "  [  0.           0.           0.         ...   0.           0.\n",
      "     0.        ]\n",
      "  [  0.           0.           0.         ...   0.           0.\n",
      "     0.        ]\n",
      "  ...\n",
      "  [  6.6479001    6.73810005   6.82439995 ...   7.01910019   6.39529991\n",
      "     5.66690016]\n",
      "  [  0.           0.           0.         ...   0.           0.\n",
      "     0.        ]\n",
      "  [  0.           0.           0.         ...   0.           0.\n",
      "     0.        ]]\n",
      "\n",
      " ...\n",
      "\n",
      " [[  9.05691338   9.13669917   9.23606081 ...   7.36619649   7.32759291\n",
      "     7.31393051]\n",
      "  [  0.           0.           0.         ...   0.           0.\n",
      "     0.        ]\n",
      "  [  0.           0.           0.         ...   0.           0.\n",
      "     0.        ]\n",
      "  ...\n",
      "  [-11.66077232 -11.21641397 -10.77093315 ...  -9.92506886  -9.91634154\n",
      "   -10.03190708]\n",
      "  [  0.           0.           0.         ...   0.           0.\n",
      "     0.        ]\n",
      "  [  0.           0.           0.         ...   0.           0.\n",
      "     0.        ]]\n",
      "\n",
      " [[  6.8161087    6.87623537   6.95617437 ...   7.85265207   7.88564551\n",
      "     7.94625521]\n",
      "  [  0.           0.           0.         ...   0.           0.\n",
      "     0.        ]\n",
      "  [  0.           0.           0.         ...   0.           0.\n",
      "     0.        ]\n",
      "  ...\n",
      "  [-11.46577263 -11.34519873 -11.05035564 ... -10.0489595  -10.01380011\n",
      "    -9.94277   ]\n",
      "  [  0.           0.           0.         ...   0.           0.\n",
      "     0.        ]\n",
      "  [  0.           0.           0.         ...   0.           0.\n",
      "     0.        ]]\n",
      "\n",
      " [[  8.01304817   8.1131053    8.22476149 ...   8.72506189   8.75647759\n",
      "     8.8262291 ]\n",
      "  [  0.           0.           0.         ...   0.           0.\n",
      "     0.        ]\n",
      "  [  0.           0.           0.         ...   0.           0.\n",
      "     0.        ]\n",
      "  ...\n",
      "  [ -9.8817482   -9.80164267  -9.68827084 ... -12.91687958 -13.27013899\n",
      "   -13.56380463]\n",
      "  [  0.           0.           0.         ...   0.           0.\n",
      "     0.        ]\n",
      "  [  0.           0.           0.         ...   0.           0.\n",
      "     0.        ]]]\n",
      "0\n"
     ]
    },
    {
     "name": "stderr",
     "output_type": "stream",
     "text": [
      "GPU available: True (mps), used: False\n",
      "TPU available: False, using: 0 TPU cores\n",
      "HPU available: False, using: 0 HPUs\n",
      "/opt/anaconda3/envs/env_gait_new/lib/python3.13/site-packages/pytorch_lightning/trainer/setup.py:177: GPU available but not used. You can set it by doing `Trainer(accelerator='gpu')`.\n",
      "/opt/anaconda3/envs/env_gait_new/lib/python3.13/site-packages/pytorch_lightning/trainer/connectors/data_connector.py:425: The 'predict_dataloader' does not have many workers which may be a bottleneck. Consider increasing the value of the `num_workers` argument` to `num_workers=13` in the `DataLoader` to improve performance.\n"
     ]
    },
    {
     "name": "stdout",
     "output_type": "stream",
     "text": [
      "Predicting DataLoader 0:   6%|█▏                 | 1/16 [00:00<00:04,  3.39it/s]"
     ]
    },
    {
     "name": "stderr",
     "output_type": "stream",
     "text": [
      "/opt/anaconda3/envs/env_gait_new/lib/python3.13/site-packages/torch/nn/modules/module.py:1739: UserWarning: Implicit dimension choice for softmax has been deprecated. Change the call to include dim=X as an argument.\n",
      "  return self._call_impl(*args, **kwargs)\n"
     ]
    },
    {
     "name": "stdout",
     "output_type": "stream",
     "text": [
      "Predicting DataLoader 0: 100%|██████████████████| 16/16 [00:04<00:00,  3.71it/s]\n",
      "[[3.8296501e-03 9.9617034e-01]\n",
      " [2.4961603e-03 9.9750382e-01]\n",
      " [2.0655813e-03 9.9793446e-01]\n",
      " ...\n",
      " [2.5290766e-04 9.9974710e-01]\n",
      " [2.2675304e-04 9.9977320e-01]\n",
      " [2.6773463e-04 9.9973220e-01]]\n"
     ]
    },
    {
     "name": "stderr",
     "output_type": "stream",
     "text": [
      "GPU available: True (mps), used: False\n",
      "TPU available: False, using: 0 TPU cores\n",
      "HPU available: False, using: 0 HPUs\n"
     ]
    },
    {
     "name": "stdout",
     "output_type": "stream",
     "text": [
      "Predicting DataLoader 0: 100%|██████████████████| 16/16 [00:04<00:00,  3.91it/s]"
     ]
    },
    {
     "name": "stderr",
     "output_type": "stream",
     "text": [
      "GPU available: True (mps), used: False\n",
      "TPU available: False, using: 0 TPU cores\n",
      "HPU available: False, using: 0 HPUs\n"
     ]
    },
    {
     "name": "stdout",
     "output_type": "stream",
     "text": [
      "\n",
      "Predicting DataLoader 0: 100%|██████████████████| 16/16 [00:04<00:00,  3.68it/s]"
     ]
    },
    {
     "name": "stderr",
     "output_type": "stream",
     "text": [
      "GPU available: True (mps), used: False\n",
      "TPU available: False, using: 0 TPU cores\n",
      "HPU available: False, using: 0 HPUs\n"
     ]
    },
    {
     "name": "stdout",
     "output_type": "stream",
     "text": [
      "\n",
      "[[0.36023813 0.6397619 ]\n",
      " [0.23862    0.76138   ]\n",
      " [0.05596589 0.94403416]\n",
      " ...\n",
      " [0.03333646 0.9666636 ]\n",
      " [0.01848924 0.9815107 ]\n",
      " [0.02373241 0.97626764]]\n",
      "Predicting DataLoader 0: 100%|██████████████████| 16/16 [00:04<00:00,  3.66it/s]"
     ]
    },
    {
     "name": "stderr",
     "output_type": "stream",
     "text": [
      "GPU available: True (mps), used: False\n",
      "TPU available: False, using: 0 TPU cores\n",
      "HPU available: False, using: 0 HPUs\n"
     ]
    },
    {
     "name": "stdout",
     "output_type": "stream",
     "text": [
      "\n",
      "Predicting DataLoader 0: 100%|██████████████████| 16/16 [00:04<00:00,  3.72it/s]"
     ]
    },
    {
     "name": "stderr",
     "output_type": "stream",
     "text": [
      "GPU available: True (mps), used: False\n",
      "TPU available: False, using: 0 TPU cores\n",
      "HPU available: False, using: 0 HPUs\n"
     ]
    },
    {
     "name": "stdout",
     "output_type": "stream",
     "text": [
      "\n",
      "[[2.3348498e-01 7.6651496e-01]\n",
      " [6.7197286e-02 9.3280274e-01]\n",
      " [6.2128361e-02 9.3787163e-01]\n",
      " ...\n",
      " [1.9242484e-04 9.9980766e-01]\n",
      " [1.6912346e-04 9.9983084e-01]\n",
      " [1.8532292e-04 9.9981469e-01]]\n",
      "Predicting DataLoader 0: 100%|██████████████████| 16/16 [00:04<00:00,  3.69it/s]"
     ]
    },
    {
     "name": "stderr",
     "output_type": "stream",
     "text": [
      "GPU available: True (mps), used: False\n",
      "TPU available: False, using: 0 TPU cores\n",
      "HPU available: False, using: 0 HPUs\n"
     ]
    },
    {
     "name": "stdout",
     "output_type": "stream",
     "text": [
      "\n",
      "Predicting DataLoader 0: 100%|██████████████████| 16/16 [00:04<00:00,  3.78it/s]"
     ]
    },
    {
     "name": "stderr",
     "output_type": "stream",
     "text": [
      "GPU available: True (mps), used: False\n",
      "TPU available: False, using: 0 TPU cores\n",
      "HPU available: False, using: 0 HPUs\n"
     ]
    },
    {
     "name": "stdout",
     "output_type": "stream",
     "text": [
      "\n",
      "[[0.0041688  0.9958312 ]\n",
      " [0.00505679 0.9949432 ]\n",
      " [0.00468469 0.9953153 ]\n",
      " ...\n",
      " [0.00162282 0.9983772 ]\n",
      " [0.00161103 0.998389  ]\n",
      " [0.00165164 0.99834836]]\n",
      "Predicting DataLoader 0: 100%|██████████████████| 16/16 [00:04<00:00,  3.56it/s]"
     ]
    },
    {
     "name": "stderr",
     "output_type": "stream",
     "text": [
      "GPU available: True (mps), used: False\n",
      "TPU available: False, using: 0 TPU cores\n",
      "HPU available: False, using: 0 HPUs\n"
     ]
    },
    {
     "name": "stdout",
     "output_type": "stream",
     "text": [
      "\n",
      "Predicting DataLoader 0: 100%|██████████████████| 16/16 [00:04<00:00,  3.91it/s]"
     ]
    },
    {
     "name": "stderr",
     "output_type": "stream",
     "text": [
      "GPU available: True (mps), used: False\n",
      "TPU available: False, using: 0 TPU cores\n",
      "HPU available: False, using: 0 HPUs\n"
     ]
    },
    {
     "name": "stdout",
     "output_type": "stream",
     "text": [
      "\n",
      "[[0.27418712 0.7258129 ]\n",
      " [0.11743124 0.8825688 ]\n",
      " [0.1269603  0.8730397 ]\n",
      " ...\n",
      " [0.00517101 0.994829  ]\n",
      " [0.00629997 0.9937    ]\n",
      " [0.00540482 0.9945952 ]]\n",
      "Predicting DataLoader 0: 100%|██████████████████| 16/16 [00:04<00:00,  3.75it/s]"
     ]
    },
    {
     "name": "stderr",
     "output_type": "stream",
     "text": [
      "GPU available: True (mps), used: False\n",
      "TPU available: False, using: 0 TPU cores\n",
      "HPU available: False, using: 0 HPUs\n"
     ]
    },
    {
     "name": "stdout",
     "output_type": "stream",
     "text": [
      "\n",
      "1\n",
      "Predicting DataLoader 0: 100%|██████████████████| 16/16 [00:04<00:00,  3.82it/s]"
     ]
    },
    {
     "name": "stderr",
     "output_type": "stream",
     "text": [
      "GPU available: True (mps), used: False\n",
      "TPU available: False, using: 0 TPU cores\n",
      "HPU available: False, using: 0 HPUs\n"
     ]
    },
    {
     "name": "stdout",
     "output_type": "stream",
     "text": [
      "\n",
      "[[0.701211   0.29878905]\n",
      " [0.61263746 0.3873626 ]\n",
      " [0.17925024 0.8207497 ]\n",
      " ...\n",
      " [0.03132381 0.9686762 ]\n",
      " [0.02519249 0.97480756]\n",
      " [0.03343093 0.966569  ]]\n",
      "Predicting DataLoader 0: 100%|██████████████████| 16/16 [00:04<00:00,  3.76it/s]"
     ]
    },
    {
     "name": "stderr",
     "output_type": "stream",
     "text": [
      "GPU available: True (mps), used: False\n",
      "TPU available: False, using: 0 TPU cores\n",
      "HPU available: False, using: 0 HPUs\n"
     ]
    },
    {
     "name": "stdout",
     "output_type": "stream",
     "text": [
      "\n",
      "Predicting DataLoader 0: 100%|██████████████████| 16/16 [00:04<00:00,  3.65it/s]"
     ]
    },
    {
     "name": "stderr",
     "output_type": "stream",
     "text": [
      "GPU available: True (mps), used: False\n",
      "TPU available: False, using: 0 TPU cores\n",
      "HPU available: False, using: 0 HPUs\n"
     ]
    },
    {
     "name": "stdout",
     "output_type": "stream",
     "text": [
      "\n",
      "[[2.1368677e-02 9.7863126e-01]\n",
      " [3.2045756e-02 9.6795422e-01]\n",
      " [1.4520609e-02 9.8547947e-01]\n",
      " ...\n",
      " [2.1578639e-04 9.9978417e-01]\n",
      " [1.8324460e-04 9.9981683e-01]\n",
      " [2.2015521e-04 9.9977988e-01]]\n",
      "Predicting DataLoader 0: 100%|██████████████████| 16/16 [00:04<00:00,  3.70it/s]"
     ]
    },
    {
     "name": "stderr",
     "output_type": "stream",
     "text": [
      "GPU available: True (mps), used: False\n",
      "TPU available: False, using: 0 TPU cores\n",
      "HPU available: False, using: 0 HPUs\n"
     ]
    },
    {
     "name": "stdout",
     "output_type": "stream",
     "text": [
      "\n",
      "Predicting DataLoader 0: 100%|██████████████████| 16/16 [00:04<00:00,  3.73it/s]"
     ]
    },
    {
     "name": "stderr",
     "output_type": "stream",
     "text": [
      "GPU available: True (mps), used: False\n",
      "TPU available: False, using: 0 TPU cores\n",
      "HPU available: False, using: 0 HPUs\n"
     ]
    },
    {
     "name": "stdout",
     "output_type": "stream",
     "text": [
      "\n",
      "[[0.10596699 0.894033  ]\n",
      " [0.05096563 0.9490344 ]\n",
      " [0.02363999 0.97636   ]\n",
      " ...\n",
      " [0.0049032  0.99509674]\n",
      " [0.0038513  0.9961487 ]\n",
      " [0.0037438  0.99625623]]\n",
      "Predicting DataLoader 0: 100%|██████████████████| 16/16 [00:04<00:00,  3.90it/s]"
     ]
    },
    {
     "name": "stderr",
     "output_type": "stream",
     "text": [
      "GPU available: True (mps), used: False\n",
      "TPU available: False, using: 0 TPU cores\n",
      "HPU available: False, using: 0 HPUs\n"
     ]
    },
    {
     "name": "stdout",
     "output_type": "stream",
     "text": [
      "\n",
      "Predicting DataLoader 0: 100%|██████████████████| 16/16 [00:04<00:00,  3.95it/s]"
     ]
    },
    {
     "name": "stderr",
     "output_type": "stream",
     "text": [
      "GPU available: True (mps), used: False\n",
      "TPU available: False, using: 0 TPU cores\n",
      "HPU available: False, using: 0 HPUs\n"
     ]
    },
    {
     "name": "stdout",
     "output_type": "stream",
     "text": [
      "\n",
      "[[3.2754511e-02 9.6724552e-01]\n",
      " [3.4901906e-02 9.6509814e-01]\n",
      " [1.3794559e-02 9.8620540e-01]\n",
      " ...\n",
      " [4.7598427e-04 9.9952400e-01]\n",
      " [4.7143718e-04 9.9952853e-01]\n",
      " [5.5322802e-04 9.9944681e-01]]\n",
      "Predicting DataLoader 0: 100%|██████████████████| 16/16 [00:04<00:00,  3.94it/s]"
     ]
    },
    {
     "name": "stderr",
     "output_type": "stream",
     "text": [
      "GPU available: True (mps), used: False\n",
      "TPU available: False, using: 0 TPU cores\n",
      "HPU available: False, using: 0 HPUs\n"
     ]
    },
    {
     "name": "stdout",
     "output_type": "stream",
     "text": [
      "\n",
      "Predicting DataLoader 0: 100%|██████████████████| 16/16 [00:03<00:00,  4.07it/s]\n",
      "[[7.3190979e-03 9.9268085e-01]\n",
      " [6.1505991e-03 9.9384946e-01]\n",
      " [7.6170675e-03 9.9238294e-01]\n",
      " ...\n",
      " [3.3717920e-04 9.9966288e-01]\n",
      " [2.5078238e-04 9.9974924e-01]\n",
      " [3.1126296e-04 9.9968874e-01]]\n"
     ]
    },
    {
     "name": "stderr",
     "output_type": "stream",
     "text": [
      "GPU available: True (mps), used: False\n",
      "TPU available: False, using: 0 TPU cores\n",
      "HPU available: False, using: 0 HPUs\n"
     ]
    },
    {
     "name": "stdout",
     "output_type": "stream",
     "text": [
      "Predicting DataLoader 0: 100%|██████████████████| 16/16 [00:03<00:00,  4.18it/s]"
     ]
    },
    {
     "name": "stderr",
     "output_type": "stream",
     "text": [
      "GPU available: True (mps), used: False\n",
      "TPU available: False, using: 0 TPU cores\n",
      "HPU available: False, using: 0 HPUs\n"
     ]
    },
    {
     "name": "stdout",
     "output_type": "stream",
     "text": [
      "\n",
      "2\n",
      "Predicting DataLoader 0: 100%|██████████████████| 16/16 [00:03<00:00,  4.11it/s]"
     ]
    },
    {
     "name": "stderr",
     "output_type": "stream",
     "text": [
      "GPU available: True (mps), used: False\n",
      "TPU available: False, using: 0 TPU cores\n",
      "HPU available: False, using: 0 HPUs\n"
     ]
    },
    {
     "name": "stdout",
     "output_type": "stream",
     "text": [
      "\n",
      "[[2.3603992e-04 9.9976391e-01]\n",
      " [2.5228795e-04 9.9974769e-01]\n",
      " [2.4011162e-04 9.9975985e-01]\n",
      " ...\n",
      " [3.4497752e-05 9.9996555e-01]\n",
      " [3.0808373e-05 9.9996924e-01]\n",
      " [3.6640206e-05 9.9996340e-01]]\n",
      "Predicting DataLoader 0: 100%|██████████████████| 16/16 [00:04<00:00,  3.93it/s]"
     ]
    },
    {
     "name": "stderr",
     "output_type": "stream",
     "text": [
      "GPU available: True (mps), used: False\n",
      "TPU available: False, using: 0 TPU cores\n",
      "HPU available: False, using: 0 HPUs\n"
     ]
    },
    {
     "name": "stdout",
     "output_type": "stream",
     "text": [
      "\n",
      "Predicting DataLoader 0: 100%|██████████████████| 16/16 [00:04<00:00,  3.76it/s]"
     ]
    },
    {
     "name": "stderr",
     "output_type": "stream",
     "text": [
      "GPU available: True (mps), used: False\n",
      "TPU available: False, using: 0 TPU cores\n",
      "HPU available: False, using: 0 HPUs\n"
     ]
    },
    {
     "name": "stdout",
     "output_type": "stream",
     "text": [
      "\n",
      "[[2.7907945e-04 9.9972087e-01]\n",
      " [2.7744099e-04 9.9972254e-01]\n",
      " [3.0899723e-04 9.9969101e-01]\n",
      " ...\n",
      " [1.0677356e-04 9.9989319e-01]\n",
      " [8.6532651e-05 9.9991345e-01]\n",
      " [8.8120301e-05 9.9991190e-01]]\n",
      "Predicting DataLoader 0: 100%|██████████████████| 16/16 [00:04<00:00,  3.60it/s]"
     ]
    },
    {
     "name": "stderr",
     "output_type": "stream",
     "text": [
      "GPU available: True (mps), used: False\n",
      "TPU available: False, using: 0 TPU cores\n",
      "HPU available: False, using: 0 HPUs\n"
     ]
    },
    {
     "name": "stdout",
     "output_type": "stream",
     "text": [
      "\n",
      "Predicting DataLoader 0: 100%|██████████████████| 16/16 [00:04<00:00,  3.58it/s]"
     ]
    },
    {
     "name": "stderr",
     "output_type": "stream",
     "text": [
      "GPU available: True (mps), used: False\n",
      "TPU available: False, using: 0 TPU cores\n",
      "HPU available: False, using: 0 HPUs\n"
     ]
    },
    {
     "name": "stdout",
     "output_type": "stream",
     "text": [
      "\n",
      "[[1.2029508e-03 9.9879706e-01]\n",
      " [9.0764783e-04 9.9909234e-01]\n",
      " [1.5338333e-03 9.9846625e-01]\n",
      " ...\n",
      " [2.1278569e-04 9.9978727e-01]\n",
      " [1.9916016e-04 9.9980086e-01]\n",
      " [2.1783166e-04 9.9978215e-01]]\n",
      "Predicting DataLoader 0: 100%|██████████████████| 16/16 [00:04<00:00,  3.63it/s]"
     ]
    },
    {
     "name": "stderr",
     "output_type": "stream",
     "text": [
      "GPU available: True (mps), used: False\n",
      "TPU available: False, using: 0 TPU cores\n",
      "HPU available: False, using: 0 HPUs\n"
     ]
    },
    {
     "name": "stdout",
     "output_type": "stream",
     "text": [
      "\n",
      "Predicting DataLoader 0: 100%|██████████████████| 16/16 [00:03<00:00,  4.03it/s]"
     ]
    },
    {
     "name": "stderr",
     "output_type": "stream",
     "text": [
      "GPU available: True (mps), used: False\n",
      "TPU available: False, using: 0 TPU cores\n",
      "HPU available: False, using: 0 HPUs\n"
     ]
    },
    {
     "name": "stdout",
     "output_type": "stream",
     "text": [
      "\n",
      "[[2.2603723e-03 9.9773967e-01]\n",
      " [6.1831344e-04 9.9938166e-01]\n",
      " [2.0997356e-04 9.9979001e-01]\n",
      " ...\n",
      " [5.8513371e-05 9.9994147e-01]\n",
      " [4.7776637e-05 9.9995220e-01]\n",
      " [4.8771850e-05 9.9995124e-01]]\n",
      "Predicting DataLoader 0: 100%|██████████████████| 16/16 [00:04<00:00,  3.90it/s]"
     ]
    },
    {
     "name": "stderr",
     "output_type": "stream",
     "text": [
      "GPU available: True (mps), used: False\n",
      "TPU available: False, using: 0 TPU cores\n",
      "HPU available: False, using: 0 HPUs\n"
     ]
    },
    {
     "name": "stdout",
     "output_type": "stream",
     "text": [
      "\n",
      "Predicting DataLoader 0: 100%|██████████████████| 16/16 [00:03<00:00,  4.07it/s]"
     ]
    },
    {
     "name": "stderr",
     "output_type": "stream",
     "text": [
      "GPU available: True (mps), used: False\n",
      "TPU available: False, using: 0 TPU cores\n",
      "HPU available: False, using: 0 HPUs\n"
     ]
    },
    {
     "name": "stdout",
     "output_type": "stream",
     "text": [
      "\n",
      "[[5.1805926e-03 9.9481946e-01]\n",
      " [3.4404162e-03 9.9655956e-01]\n",
      " [2.1732221e-03 9.9782676e-01]\n",
      " ...\n",
      " [3.0884203e-05 9.9996912e-01]\n",
      " [2.5957428e-05 9.9997401e-01]\n",
      " [3.2659384e-05 9.9996734e-01]]\n",
      "Predicting DataLoader 0: 100%|██████████████████| 16/16 [00:04<00:00,  3.73it/s]"
     ]
    },
    {
     "name": "stderr",
     "output_type": "stream",
     "text": [
      "GPU available: True (mps), used: False\n",
      "TPU available: False, using: 0 TPU cores\n",
      "HPU available: False, using: 0 HPUs\n"
     ]
    },
    {
     "name": "stdout",
     "output_type": "stream",
     "text": [
      "\n",
      "3\n",
      "Predicting DataLoader 0: 100%|██████████████████| 16/16 [00:04<00:00,  3.70it/s]"
     ]
    },
    {
     "name": "stderr",
     "output_type": "stream",
     "text": [
      "GPU available: True (mps), used: False\n",
      "TPU available: False, using: 0 TPU cores\n",
      "HPU available: False, using: 0 HPUs\n"
     ]
    },
    {
     "name": "stdout",
     "output_type": "stream",
     "text": [
      "\n",
      "[[9.2701325e-03 9.9072987e-01]\n",
      " [1.1448991e-02 9.8855108e-01]\n",
      " [9.7193103e-03 9.9028063e-01]\n",
      " ...\n",
      " [2.6376289e-04 9.9973625e-01]\n",
      " [1.5499080e-04 9.9984503e-01]\n",
      " [1.7500480e-04 9.9982506e-01]]\n",
      "Predicting DataLoader 0: 100%|██████████████████| 16/16 [00:04<00:00,  3.68it/s]"
     ]
    },
    {
     "name": "stderr",
     "output_type": "stream",
     "text": [
      "GPU available: True (mps), used: False\n",
      "TPU available: False, using: 0 TPU cores\n",
      "HPU available: False, using: 0 HPUs\n"
     ]
    },
    {
     "name": "stdout",
     "output_type": "stream",
     "text": [
      "\n",
      "Predicting DataLoader 0: 100%|██████████████████| 16/16 [00:04<00:00,  3.77it/s]"
     ]
    },
    {
     "name": "stderr",
     "output_type": "stream",
     "text": [
      "GPU available: True (mps), used: False\n",
      "TPU available: False, using: 0 TPU cores\n",
      "HPU available: False, using: 0 HPUs\n"
     ]
    },
    {
     "name": "stdout",
     "output_type": "stream",
     "text": [
      "\n",
      "[[1.3054804e-04 9.9986947e-01]\n",
      " [1.2961712e-04 9.9987042e-01]\n",
      " [1.4875534e-04 9.9985123e-01]\n",
      " ...\n",
      " [4.9775492e-05 9.9995017e-01]\n",
      " [4.5643483e-05 9.9995434e-01]\n",
      " [4.3802491e-05 9.9995625e-01]]\n",
      "Predicting DataLoader 0: 100%|██████████████████| 16/16 [00:04<00:00,  3.87it/s]"
     ]
    },
    {
     "name": "stderr",
     "output_type": "stream",
     "text": [
      "GPU available: True (mps), used: False\n",
      "TPU available: False, using: 0 TPU cores\n",
      "HPU available: False, using: 0 HPUs\n"
     ]
    },
    {
     "name": "stdout",
     "output_type": "stream",
     "text": [
      "\n",
      "Predicting DataLoader 0: 100%|██████████████████| 16/16 [00:04<00:00,  3.57it/s]"
     ]
    },
    {
     "name": "stderr",
     "output_type": "stream",
     "text": [
      "GPU available: True (mps), used: False\n",
      "TPU available: False, using: 0 TPU cores\n",
      "HPU available: False, using: 0 HPUs\n"
     ]
    },
    {
     "name": "stdout",
     "output_type": "stream",
     "text": [
      "\n",
      "[[5.2062996e-02 9.4793695e-01]\n",
      " [7.6103443e-03 9.9238962e-01]\n",
      " [1.0638129e-03 9.9893624e-01]\n",
      " ...\n",
      " [1.5178940e-04 9.9984825e-01]\n",
      " [9.3358991e-05 9.9990666e-01]\n",
      " [1.1494390e-04 9.9988508e-01]]\n",
      "Predicting DataLoader 0: 100%|██████████████████| 16/16 [00:04<00:00,  3.53it/s]\n"
     ]
    },
    {
     "name": "stderr",
     "output_type": "stream",
     "text": [
      "GPU available: True (mps), used: False\n",
      "TPU available: False, using: 0 TPU cores\n",
      "HPU available: False, using: 0 HPUs\n"
     ]
    },
    {
     "name": "stdout",
     "output_type": "stream",
     "text": [
      "Predicting DataLoader 0: 100%|██████████████████| 16/16 [00:04<00:00,  3.67it/s]"
     ]
    },
    {
     "name": "stderr",
     "output_type": "stream",
     "text": [
      "GPU available: True (mps), used: False\n",
      "TPU available: False, using: 0 TPU cores\n",
      "HPU available: False, using: 0 HPUs\n"
     ]
    },
    {
     "name": "stdout",
     "output_type": "stream",
     "text": [
      "\n",
      "[[1.3887517e-05 9.9998617e-01]\n",
      " [2.1879292e-05 9.9997807e-01]\n",
      " [1.4088906e-05 9.9998593e-01]\n",
      " ...\n",
      " [5.5522055e-06 9.9999440e-01]\n",
      " [5.5519672e-06 9.9999440e-01]\n",
      " [6.3776065e-06 9.9999368e-01]]\n",
      "Predicting DataLoader 0: 100%|██████████████████| 16/16 [00:04<00:00,  3.72it/s]"
     ]
    },
    {
     "name": "stderr",
     "output_type": "stream",
     "text": [
      "GPU available: True (mps), used: False\n",
      "TPU available: False, using: 0 TPU cores\n",
      "HPU available: False, using: 0 HPUs\n"
     ]
    },
    {
     "name": "stdout",
     "output_type": "stream",
     "text": [
      "\n",
      "Predicting DataLoader 0: 100%|██████████████████| 16/16 [00:04<00:00,  3.76it/s]"
     ]
    },
    {
     "name": "stderr",
     "output_type": "stream",
     "text": [
      "GPU available: True (mps), used: False\n",
      "TPU available: False, using: 0 TPU cores\n",
      "HPU available: False, using: 0 HPUs\n"
     ]
    },
    {
     "name": "stdout",
     "output_type": "stream",
     "text": [
      "\n",
      "[[2.9973767e-03 9.9700266e-01]\n",
      " [2.3963843e-03 9.9760360e-01]\n",
      " [1.0334098e-03 9.9896657e-01]\n",
      " ...\n",
      " [3.3212645e-04 9.9966788e-01]\n",
      " [2.9043597e-04 9.9970955e-01]\n",
      " [3.1703149e-04 9.9968302e-01]]\n",
      "Predicting DataLoader 0: 100%|██████████████████| 16/16 [00:04<00:00,  3.62it/s]"
     ]
    },
    {
     "name": "stderr",
     "output_type": "stream",
     "text": [
      "GPU available: True (mps), used: False\n",
      "TPU available: False, using: 0 TPU cores\n",
      "HPU available: False, using: 0 HPUs\n"
     ]
    },
    {
     "name": "stdout",
     "output_type": "stream",
     "text": [
      "\n",
      "4\n",
      "Predicting DataLoader 0: 100%|██████████████████| 16/16 [00:04<00:00,  3.98it/s]"
     ]
    },
    {
     "name": "stderr",
     "output_type": "stream",
     "text": [
      "GPU available: True (mps), used: False\n",
      "TPU available: False, using: 0 TPU cores\n",
      "HPU available: False, using: 0 HPUs\n"
     ]
    },
    {
     "name": "stdout",
     "output_type": "stream",
     "text": [
      "\n",
      "[[2.3376369e-03 9.9766243e-01]\n",
      " [3.2326980e-03 9.9676728e-01]\n",
      " [3.1827090e-03 9.9681723e-01]\n",
      " ...\n",
      " [2.3847098e-04 9.9976152e-01]\n",
      " [1.5429892e-04 9.9984562e-01]\n",
      " [1.9792661e-04 9.9980205e-01]]\n",
      "Predicting DataLoader 0: 100%|██████████████████| 16/16 [00:04<00:00,  3.86it/s]"
     ]
    },
    {
     "name": "stderr",
     "output_type": "stream",
     "text": [
      "GPU available: True (mps), used: False\n",
      "TPU available: False, using: 0 TPU cores\n",
      "HPU available: False, using: 0 HPUs\n"
     ]
    },
    {
     "name": "stdout",
     "output_type": "stream",
     "text": [
      "\n",
      "Predicting DataLoader 0: 100%|██████████████████| 16/16 [00:03<00:00,  4.00it/s]"
     ]
    },
    {
     "name": "stderr",
     "output_type": "stream",
     "text": [
      "GPU available: True (mps), used: False\n",
      "TPU available: False, using: 0 TPU cores\n",
      "HPU available: False, using: 0 HPUs\n"
     ]
    },
    {
     "name": "stdout",
     "output_type": "stream",
     "text": [
      "\n",
      "[[6.6221988e-01 3.3778009e-01]\n",
      " [2.8119001e-01 7.1880996e-01]\n",
      " [1.6348246e-04 9.9983644e-01]\n",
      " ...\n",
      " [1.7106349e-05 9.9998283e-01]\n",
      " [2.1367090e-05 9.9997866e-01]\n",
      " [2.1674545e-05 9.9997830e-01]]\n",
      "Predicting DataLoader 0: 100%|██████████████████| 16/16 [00:04<00:00,  3.84it/s]"
     ]
    },
    {
     "name": "stderr",
     "output_type": "stream",
     "text": [
      "GPU available: True (mps), used: False\n",
      "TPU available: False, using: 0 TPU cores\n",
      "HPU available: False, using: 0 HPUs\n"
     ]
    },
    {
     "name": "stdout",
     "output_type": "stream",
     "text": [
      "\n",
      "Predicting DataLoader 0: 100%|██████████████████| 16/16 [00:04<00:00,  3.97it/s]"
     ]
    },
    {
     "name": "stderr",
     "output_type": "stream",
     "text": [
      "GPU available: True (mps), used: False\n",
      "TPU available: False, using: 0 TPU cores\n",
      "HPU available: False, using: 0 HPUs\n"
     ]
    },
    {
     "name": "stdout",
     "output_type": "stream",
     "text": [
      "\n",
      "[[1.6164822e-03 9.9838352e-01]\n",
      " [1.2118378e-02 9.8788166e-01]\n",
      " [9.7225793e-03 9.9027741e-01]\n",
      " ...\n",
      " [1.0143632e-05 9.9998987e-01]\n",
      " [6.3347989e-06 9.9999368e-01]\n",
      " [7.5677672e-06 9.9999249e-01]]\n",
      "Predicting DataLoader 0: 100%|██████████████████| 16/16 [00:04<00:00,  3.88it/s]"
     ]
    },
    {
     "name": "stderr",
     "output_type": "stream",
     "text": [
      "GPU available: True (mps), used: False\n",
      "TPU available: False, using: 0 TPU cores\n",
      "HPU available: False, using: 0 HPUs\n"
     ]
    },
    {
     "name": "stdout",
     "output_type": "stream",
     "text": [
      "\n",
      "Predicting DataLoader 0: 100%|██████████████████| 16/16 [00:04<00:00,  3.67it/s]"
     ]
    },
    {
     "name": "stderr",
     "output_type": "stream",
     "text": [
      "GPU available: True (mps), used: False\n",
      "TPU available: False, using: 0 TPU cores\n",
      "HPU available: False, using: 0 HPUs\n"
     ]
    },
    {
     "name": "stdout",
     "output_type": "stream",
     "text": [
      "\n",
      "[[6.1913255e-05 9.9993813e-01]\n",
      " [1.6241535e-04 9.9983752e-01]\n",
      " [7.4918062e-05 9.9992502e-01]\n",
      " ...\n",
      " [5.3479034e-06 9.9999464e-01]\n",
      " [5.1337529e-06 9.9999487e-01]\n",
      " [6.8746367e-06 9.9999309e-01]]\n",
      "Predicting DataLoader 0: 100%|██████████████████| 16/16 [00:04<00:00,  3.69it/s]"
     ]
    },
    {
     "name": "stderr",
     "output_type": "stream",
     "text": [
      "GPU available: True (mps), used: False\n",
      "TPU available: False, using: 0 TPU cores\n",
      "HPU available: False, using: 0 HPUs\n"
     ]
    },
    {
     "name": "stdout",
     "output_type": "stream",
     "text": [
      "\n",
      "Predicting DataLoader 0: 100%|██████████████████| 16/16 [00:04<00:00,  3.64it/s]"
     ]
    },
    {
     "name": "stderr",
     "output_type": "stream",
     "text": [
      "GPU available: True (mps), used: False\n",
      "TPU available: False, using: 0 TPU cores\n",
      "HPU available: False, using: 0 HPUs\n"
     ]
    },
    {
     "name": "stdout",
     "output_type": "stream",
     "text": [
      "\n",
      "[[2.5658549e-03 9.9743420e-01]\n",
      " [2.9218977e-03 9.9707818e-01]\n",
      " [1.2068563e-03 9.9879313e-01]\n",
      " ...\n",
      " [1.9743895e-05 9.9998021e-01]\n",
      " [2.1484251e-05 9.9997854e-01]\n",
      " [2.3321289e-05 9.9997663e-01]]\n",
      "Predicting DataLoader 0: 100%|██████████████████| 16/16 [00:04<00:00,  3.73it/s]"
     ]
    },
    {
     "name": "stderr",
     "output_type": "stream",
     "text": [
      "GPU available: True (mps), used: False\n",
      "TPU available: False, using: 0 TPU cores\n",
      "HPU available: False, using: 0 HPUs\n"
     ]
    },
    {
     "name": "stdout",
     "output_type": "stream",
     "text": [
      "\n",
      "5\n",
      "Predicting DataLoader 0: 100%|██████████████████| 16/16 [00:04<00:00,  3.82it/s]"
     ]
    },
    {
     "name": "stderr",
     "output_type": "stream",
     "text": [
      "GPU available: True (mps), used: False\n",
      "TPU available: False, using: 0 TPU cores\n",
      "HPU available: False, using: 0 HPUs\n"
     ]
    },
    {
     "name": "stdout",
     "output_type": "stream",
     "text": [
      "\n",
      "[[1.2015124e-03 9.9879849e-01]\n",
      " [6.4702198e-04 9.9935299e-01]\n",
      " [3.1736656e-04 9.9968266e-01]\n",
      " ...\n",
      " [1.9735450e-04 9.9980265e-01]\n",
      " [1.8366598e-04 9.9981636e-01]\n",
      " [1.9014065e-04 9.9980992e-01]]\n",
      "Predicting DataLoader 0: 100%|██████████████████| 16/16 [00:04<00:00,  3.84it/s]"
     ]
    },
    {
     "name": "stderr",
     "output_type": "stream",
     "text": [
      "GPU available: True (mps), used: False\n",
      "TPU available: False, using: 0 TPU cores\n",
      "HPU available: False, using: 0 HPUs\n"
     ]
    },
    {
     "name": "stdout",
     "output_type": "stream",
     "text": [
      "\n",
      "Predicting DataLoader 0: 100%|██████████████████| 16/16 [00:04<00:00,  3.63it/s]\n",
      "[[1.1398738e-03 9.9886012e-01]\n",
      " [2.7609707e-03 9.9723899e-01]\n",
      " [2.8345773e-03 9.9716538e-01]\n",
      " ...\n",
      " [1.0052790e-05 9.9998999e-01]\n",
      " [6.6725906e-06 9.9999332e-01]\n",
      " [6.6989237e-06 9.9999332e-01]]\n"
     ]
    },
    {
     "name": "stderr",
     "output_type": "stream",
     "text": [
      "GPU available: True (mps), used: False\n",
      "TPU available: False, using: 0 TPU cores\n",
      "HPU available: False, using: 0 HPUs\n"
     ]
    },
    {
     "name": "stdout",
     "output_type": "stream",
     "text": [
      "Predicting DataLoader 0: 100%|██████████████████| 16/16 [00:04<00:00,  3.73it/s]\n"
     ]
    },
    {
     "name": "stderr",
     "output_type": "stream",
     "text": [
      "GPU available: True (mps), used: False\n",
      "TPU available: False, using: 0 TPU cores\n",
      "HPU available: False, using: 0 HPUs\n"
     ]
    },
    {
     "name": "stdout",
     "output_type": "stream",
     "text": [
      "Predicting DataLoader 0: 100%|██████████████████| 16/16 [00:04<00:00,  3.71it/s]\n",
      "[[6.4305338e-04 9.9935693e-01]\n",
      " [1.3144497e-03 9.9868554e-01]\n",
      " [2.7047123e-03 9.9729532e-01]\n",
      " ...\n",
      " [5.3534091e-05 9.9994648e-01]\n",
      " [1.1358875e-05 9.9998868e-01]\n",
      " [1.6513839e-05 9.9998343e-01]]\n"
     ]
    },
    {
     "name": "stderr",
     "output_type": "stream",
     "text": [
      "GPU available: True (mps), used: False\n",
      "TPU available: False, using: 0 TPU cores\n",
      "HPU available: False, using: 0 HPUs\n"
     ]
    },
    {
     "name": "stdout",
     "output_type": "stream",
     "text": [
      "Predicting DataLoader 0: 100%|██████████████████| 16/16 [00:04<00:00,  3.93it/s]\n"
     ]
    },
    {
     "name": "stderr",
     "output_type": "stream",
     "text": [
      "GPU available: True (mps), used: False\n",
      "TPU available: False, using: 0 TPU cores\n",
      "HPU available: False, using: 0 HPUs\n"
     ]
    },
    {
     "name": "stdout",
     "output_type": "stream",
     "text": [
      "Predicting DataLoader 0: 100%|██████████████████| 16/16 [00:04<00:00,  3.71it/s]"
     ]
    },
    {
     "name": "stderr",
     "output_type": "stream",
     "text": [
      "GPU available: True (mps), used: False\n",
      "TPU available: False, using: 0 TPU cores\n",
      "HPU available: False, using: 0 HPUs\n"
     ]
    },
    {
     "name": "stdout",
     "output_type": "stream",
     "text": [
      "\n",
      "[[8.6517027e-04 9.9913484e-01]\n",
      " [2.3581907e-03 9.9764180e-01]\n",
      " [2.2265986e-03 9.9777335e-01]\n",
      " ...\n",
      " [5.0861813e-06 9.9999487e-01]\n",
      " [3.8161197e-06 9.9999619e-01]\n",
      " [5.2475175e-06 9.9999475e-01]]\n",
      "Predicting DataLoader 0: 100%|██████████████████| 16/16 [00:04<00:00,  3.85it/s]\n"
     ]
    },
    {
     "name": "stderr",
     "output_type": "stream",
     "text": [
      "GPU available: True (mps), used: False\n",
      "TPU available: False, using: 0 TPU cores\n",
      "HPU available: False, using: 0 HPUs\n"
     ]
    },
    {
     "name": "stdout",
     "output_type": "stream",
     "text": [
      "Predicting DataLoader 0: 100%|██████████████████| 16/16 [00:04<00:00,  3.54it/s]"
     ]
    },
    {
     "name": "stderr",
     "output_type": "stream",
     "text": [
      "GPU available: True (mps), used: False\n",
      "TPU available: False, using: 0 TPU cores\n",
      "HPU available: False, using: 0 HPUs\n"
     ]
    },
    {
     "name": "stdout",
     "output_type": "stream",
     "text": [
      "\n",
      "[[4.3500643e-04 9.9956495e-01]\n",
      " [2.2483573e-04 9.9977523e-01]\n",
      " [1.0994469e-04 9.9989009e-01]\n",
      " ...\n",
      " [9.0896929e-06 9.9999094e-01]\n",
      " [9.0427793e-06 9.9999094e-01]\n",
      " [8.9339601e-06 9.9999106e-01]]\n",
      "Predicting DataLoader 0: 100%|██████████████████| 16/16 [00:04<00:00,  3.95it/s]\n",
      "6\n"
     ]
    },
    {
     "name": "stderr",
     "output_type": "stream",
     "text": [
      "GPU available: True (mps), used: False\n",
      "TPU available: False, using: 0 TPU cores\n",
      "HPU available: False, using: 0 HPUs\n"
     ]
    },
    {
     "name": "stdout",
     "output_type": "stream",
     "text": [
      "Predicting DataLoader 0: 100%|██████████████████| 16/16 [00:04<00:00,  3.78it/s]"
     ]
    },
    {
     "name": "stderr",
     "output_type": "stream",
     "text": [
      "GPU available: True (mps), used: False\n",
      "TPU available: False, using: 0 TPU cores\n",
      "HPU available: False, using: 0 HPUs\n"
     ]
    },
    {
     "name": "stdout",
     "output_type": "stream",
     "text": [
      "\n",
      "[[1.23041518e-01 8.76958489e-01]\n",
      " [1.63950641e-02 9.83604968e-01]\n",
      " [1.15647900e-03 9.98843551e-01]\n",
      " ...\n",
      " [7.56491718e-05 9.99924302e-01]\n",
      " [8.26171381e-05 9.99917388e-01]\n",
      " [1.03783124e-04 9.99896169e-01]]\n",
      "Predicting DataLoader 0: 100%|██████████████████| 16/16 [00:04<00:00,  3.75it/s]"
     ]
    },
    {
     "name": "stderr",
     "output_type": "stream",
     "text": [
      "GPU available: True (mps), used: False\n",
      "TPU available: False, using: 0 TPU cores\n",
      "HPU available: False, using: 0 HPUs\n"
     ]
    },
    {
     "name": "stdout",
     "output_type": "stream",
     "text": [
      "\n",
      "Predicting DataLoader 0: 100%|██████████████████| 16/16 [00:04<00:00,  3.88it/s]"
     ]
    },
    {
     "name": "stderr",
     "output_type": "stream",
     "text": [
      "GPU available: True (mps), used: False\n",
      "TPU available: False, using: 0 TPU cores\n",
      "HPU available: False, using: 0 HPUs\n"
     ]
    },
    {
     "name": "stdout",
     "output_type": "stream",
     "text": [
      "\n",
      "[[3.1638645e-02 9.6836132e-01]\n",
      " [1.5522852e-02 9.8447716e-01]\n",
      " [1.8834790e-03 9.9811649e-01]\n",
      " ...\n",
      " [2.0372081e-05 9.9997962e-01]\n",
      " [2.0406691e-05 9.9997962e-01]\n",
      " [2.8076893e-05 9.9997187e-01]]\n",
      "Predicting DataLoader 0: 100%|██████████████████| 16/16 [00:04<00:00,  3.78it/s]"
     ]
    },
    {
     "name": "stderr",
     "output_type": "stream",
     "text": [
      "GPU available: True (mps), used: False\n",
      "TPU available: False, using: 0 TPU cores\n",
      "HPU available: False, using: 0 HPUs\n"
     ]
    },
    {
     "name": "stdout",
     "output_type": "stream",
     "text": [
      "\n",
      "Predicting DataLoader 0: 100%|██████████████████| 16/16 [00:04<00:00,  3.66it/s]"
     ]
    },
    {
     "name": "stderr",
     "output_type": "stream",
     "text": [
      "GPU available: True (mps), used: False\n",
      "TPU available: False, using: 0 TPU cores\n",
      "HPU available: False, using: 0 HPUs\n"
     ]
    },
    {
     "name": "stdout",
     "output_type": "stream",
     "text": [
      "\n",
      "[[3.2951313e-04 9.9967051e-01]\n",
      " [4.3890893e-04 9.9956113e-01]\n",
      " [2.9783262e-04 9.9970216e-01]\n",
      " ...\n",
      " [1.2269322e-06 9.9999881e-01]\n",
      " [1.3783064e-06 9.9999857e-01]\n",
      " [1.8814570e-06 9.9999809e-01]]\n",
      "Predicting DataLoader 0: 100%|██████████████████| 16/16 [00:04<00:00,  3.71it/s]"
     ]
    },
    {
     "name": "stderr",
     "output_type": "stream",
     "text": [
      "GPU available: True (mps), used: False\n",
      "TPU available: False, using: 0 TPU cores\n",
      "HPU available: False, using: 0 HPUs\n"
     ]
    },
    {
     "name": "stdout",
     "output_type": "stream",
     "text": [
      "\n",
      "Predicting DataLoader 0: 100%|██████████████████| 16/16 [00:04<00:00,  3.86it/s]\n",
      "[[1.5776595e-03 9.9842238e-01]\n",
      " [9.5288601e-04 9.9904710e-01]\n",
      " [8.3616324e-04 9.9916387e-01]\n",
      " ...\n",
      " [2.1755206e-05 9.9997830e-01]\n",
      " [1.4257372e-05 9.9998569e-01]\n",
      " [2.0759298e-05 9.9997926e-01]]\n"
     ]
    },
    {
     "name": "stderr",
     "output_type": "stream",
     "text": [
      "GPU available: True (mps), used: False\n",
      "TPU available: False, using: 0 TPU cores\n",
      "HPU available: False, using: 0 HPUs\n"
     ]
    },
    {
     "name": "stdout",
     "output_type": "stream",
     "text": [
      "Predicting DataLoader 0: 100%|██████████████████| 16/16 [00:04<00:00,  3.94it/s]\n"
     ]
    },
    {
     "name": "stderr",
     "output_type": "stream",
     "text": [
      "GPU available: True (mps), used: False\n",
      "TPU available: False, using: 0 TPU cores\n",
      "HPU available: False, using: 0 HPUs\n"
     ]
    },
    {
     "name": "stdout",
     "output_type": "stream",
     "text": [
      "Predicting DataLoader 0: 100%|██████████████████| 16/16 [00:04<00:00,  3.80it/s]"
     ]
    },
    {
     "name": "stderr",
     "output_type": "stream",
     "text": [
      "GPU available: True (mps), used: False\n",
      "TPU available: False, using: 0 TPU cores\n",
      "HPU available: False, using: 0 HPUs\n"
     ]
    },
    {
     "name": "stdout",
     "output_type": "stream",
     "text": [
      "\n",
      "[[3.6106154e-02 9.6389383e-01]\n",
      " [7.5986423e-03 9.9240136e-01]\n",
      " [1.3961251e-03 9.9860388e-01]\n",
      " ...\n",
      " [7.0987167e-05 9.9992895e-01]\n",
      " [7.5952623e-05 9.9992406e-01]\n",
      " [7.5704309e-05 9.9992430e-01]]\n",
      "Predicting DataLoader 0: 100%|██████████████████| 16/16 [00:03<00:00,  4.03it/s]"
     ]
    },
    {
     "name": "stderr",
     "output_type": "stream",
     "text": [
      "GPU available: True (mps), used: False\n",
      "TPU available: False, using: 0 TPU cores\n",
      "HPU available: False, using: 0 HPUs\n"
     ]
    },
    {
     "name": "stdout",
     "output_type": "stream",
     "text": [
      "\n",
      "7\n",
      "Predicting DataLoader 0: 100%|██████████████████| 16/16 [00:04<00:00,  3.75it/s]"
     ]
    },
    {
     "name": "stderr",
     "output_type": "stream",
     "text": [
      "GPU available: True (mps), used: False\n",
      "TPU available: False, using: 0 TPU cores\n",
      "HPU available: False, using: 0 HPUs\n"
     ]
    },
    {
     "name": "stdout",
     "output_type": "stream",
     "text": [
      "\n",
      "[[6.4857602e-01 3.5142395e-01]\n",
      " [2.6435953e-01 7.3564047e-01]\n",
      " [6.3605742e-03 9.9363941e-01]\n",
      " ...\n",
      " [1.3799155e-05 9.9998617e-01]\n",
      " [1.6594067e-05 9.9998343e-01]\n",
      " [1.9680039e-05 9.9998033e-01]]\n",
      "Predicting DataLoader 0: 100%|██████████████████| 16/16 [00:04<00:00,  3.81it/s]\n"
     ]
    },
    {
     "name": "stderr",
     "output_type": "stream",
     "text": [
      "GPU available: True (mps), used: False\n",
      "TPU available: False, using: 0 TPU cores\n",
      "HPU available: False, using: 0 HPUs\n"
     ]
    },
    {
     "name": "stdout",
     "output_type": "stream",
     "text": [
      "Predicting DataLoader 0: 100%|██████████████████| 16/16 [00:03<00:00,  4.13it/s]"
     ]
    },
    {
     "name": "stderr",
     "output_type": "stream",
     "text": [
      "GPU available: True (mps), used: False\n",
      "TPU available: False, using: 0 TPU cores\n",
      "HPU available: False, using: 0 HPUs\n"
     ]
    },
    {
     "name": "stdout",
     "output_type": "stream",
     "text": [
      "\n",
      "[[2.78496300e-04 9.99721467e-01]\n",
      " [1.02813763e-04 9.99897122e-01]\n",
      " [3.94829331e-05 9.99960542e-01]\n",
      " ...\n",
      " [1.49665575e-05 9.99984980e-01]\n",
      " [3.48691829e-05 9.99965072e-01]\n",
      " [3.31552401e-05 9.99966860e-01]]\n",
      "Predicting DataLoader 0: 100%|██████████████████| 16/16 [00:04<00:00,  3.92it/s]"
     ]
    },
    {
     "name": "stderr",
     "output_type": "stream",
     "text": [
      "GPU available: True (mps), used: False\n",
      "TPU available: False, using: 0 TPU cores\n",
      "HPU available: False, using: 0 HPUs\n"
     ]
    },
    {
     "name": "stdout",
     "output_type": "stream",
     "text": [
      "\n",
      "Predicting DataLoader 0: 100%|██████████████████| 16/16 [00:03<00:00,  4.02it/s]"
     ]
    },
    {
     "name": "stderr",
     "output_type": "stream",
     "text": [
      "GPU available: True (mps), used: False\n",
      "TPU available: False, using: 0 TPU cores\n",
      "HPU available: False, using: 0 HPUs\n"
     ]
    },
    {
     "name": "stdout",
     "output_type": "stream",
     "text": [
      "\n",
      "[[4.6549696e-02 9.5345026e-01]\n",
      " [1.1600996e-01 8.8399011e-01]\n",
      " [1.8444827e-02 9.8155516e-01]\n",
      " ...\n",
      " [2.9141300e-05 9.9997091e-01]\n",
      " [4.6036650e-05 9.9995399e-01]\n",
      " [6.2010629e-05 9.9993801e-01]]\n",
      "Predicting DataLoader 0: 100%|██████████████████| 16/16 [00:04<00:00,  3.96it/s]"
     ]
    },
    {
     "name": "stderr",
     "output_type": "stream",
     "text": [
      "GPU available: True (mps), used: False\n",
      "TPU available: False, using: 0 TPU cores\n",
      "HPU available: False, using: 0 HPUs\n"
     ]
    },
    {
     "name": "stdout",
     "output_type": "stream",
     "text": [
      "\n",
      "Predicting DataLoader 0: 100%|██████████████████| 16/16 [00:04<00:00,  3.74it/s]"
     ]
    },
    {
     "name": "stderr",
     "output_type": "stream",
     "text": [
      "GPU available: True (mps), used: False\n",
      "TPU available: False, using: 0 TPU cores\n",
      "HPU available: False, using: 0 HPUs\n"
     ]
    },
    {
     "name": "stdout",
     "output_type": "stream",
     "text": [
      "\n",
      "[[1.3355111e-02 9.8664492e-01]\n",
      " [5.9370324e-03 9.9406296e-01]\n",
      " [1.6629177e-03 9.9833703e-01]\n",
      " ...\n",
      " [1.9738831e-05 9.9998021e-01]\n",
      " [1.5341022e-05 9.9998462e-01]\n",
      " [2.0705324e-05 9.9997926e-01]]\n",
      "Predicting DataLoader 0: 100%|██████████████████| 16/16 [00:04<00:00,  3.89it/s]"
     ]
    },
    {
     "name": "stderr",
     "output_type": "stream",
     "text": [
      "GPU available: True (mps), used: False\n",
      "TPU available: False, using: 0 TPU cores\n",
      "HPU available: False, using: 0 HPUs\n"
     ]
    },
    {
     "name": "stdout",
     "output_type": "stream",
     "text": [
      "\n",
      "Predicting DataLoader 0: 100%|██████████████████| 16/16 [00:04<00:00,  3.61it/s]"
     ]
    },
    {
     "name": "stderr",
     "output_type": "stream",
     "text": [
      "GPU available: True (mps), used: False\n",
      "TPU available: False, using: 0 TPU cores\n",
      "HPU available: False, using: 0 HPUs\n"
     ]
    },
    {
     "name": "stdout",
     "output_type": "stream",
     "text": [
      "\n",
      "[[1.2157417e-02 9.8784256e-01]\n",
      " [3.7279446e-03 9.9627209e-01]\n",
      " [1.8988821e-03 9.9810117e-01]\n",
      " ...\n",
      " [1.5570364e-05 9.9998438e-01]\n",
      " [9.5788691e-06 9.9999046e-01]\n",
      " [1.2875727e-05 9.9998713e-01]]\n",
      "Predicting DataLoader 0: 100%|██████████████████| 16/16 [00:04<00:00,  3.62it/s]"
     ]
    },
    {
     "name": "stderr",
     "output_type": "stream",
     "text": [
      "GPU available: True (mps), used: False\n",
      "TPU available: False, using: 0 TPU cores\n",
      "HPU available: False, using: 0 HPUs\n"
     ]
    },
    {
     "name": "stdout",
     "output_type": "stream",
     "text": [
      "\n",
      "8\n",
      "Predicting DataLoader 0: 100%|██████████████████| 16/16 [00:04<00:00,  3.80it/s]\n",
      "[[1.2137229e-01 8.7862778e-01]\n",
      " [1.5707241e-01 8.4292758e-01]\n",
      " [2.2413878e-02 9.7758615e-01]\n",
      " ...\n",
      " [1.7517887e-06 9.9999821e-01]\n",
      " [1.5552173e-06 9.9999845e-01]\n",
      " [1.9091622e-06 9.9999809e-01]]\n"
     ]
    },
    {
     "name": "stderr",
     "output_type": "stream",
     "text": [
      "GPU available: True (mps), used: False\n",
      "TPU available: False, using: 0 TPU cores\n",
      "HPU available: False, using: 0 HPUs\n"
     ]
    },
    {
     "name": "stdout",
     "output_type": "stream",
     "text": [
      "Predicting DataLoader 0: 100%|██████████████████| 16/16 [00:03<00:00,  4.04it/s]"
     ]
    },
    {
     "name": "stderr",
     "output_type": "stream",
     "text": [
      "GPU available: True (mps), used: False\n",
      "TPU available: False, using: 0 TPU cores\n",
      "HPU available: False, using: 0 HPUs\n"
     ]
    },
    {
     "name": "stdout",
     "output_type": "stream",
     "text": [
      "\n",
      "Predicting DataLoader 0: 100%|██████████████████| 16/16 [00:04<00:00,  3.87it/s]"
     ]
    },
    {
     "name": "stderr",
     "output_type": "stream",
     "text": [
      "GPU available: True (mps), used: False\n",
      "TPU available: False, using: 0 TPU cores\n",
      "HPU available: False, using: 0 HPUs\n"
     ]
    },
    {
     "name": "stdout",
     "output_type": "stream",
     "text": [
      "\n",
      "[[4.28819191e-03 9.95711803e-01]\n",
      " [3.77386808e-03 9.96226192e-01]\n",
      " [2.48320284e-03 9.97516870e-01]\n",
      " ...\n",
      " [1.13834154e-04 9.99886155e-01]\n",
      " [7.74375294e-05 9.99922514e-01]\n",
      " [1.42634075e-04 9.99857306e-01]]\n",
      "Predicting DataLoader 0: 100%|██████████████████| 16/16 [00:03<00:00,  4.07it/s]"
     ]
    },
    {
     "name": "stderr",
     "output_type": "stream",
     "text": [
      "GPU available: True (mps), used: False\n",
      "TPU available: False, using: 0 TPU cores\n",
      "HPU available: False, using: 0 HPUs\n"
     ]
    },
    {
     "name": "stdout",
     "output_type": "stream",
     "text": [
      "\n",
      "Predicting DataLoader 0: 100%|██████████████████| 16/16 [00:03<00:00,  4.03it/s]\n",
      "[[1.8647328e-04 9.9981350e-01]\n",
      " [5.6262870e-05 9.9994373e-01]\n",
      " [5.2152947e-05 9.9994779e-01]\n",
      " ...\n",
      " [2.3772134e-06 9.9999762e-01]\n",
      " [2.0552679e-06 9.9999797e-01]\n",
      " [2.3541652e-06 9.9999762e-01]]\n"
     ]
    },
    {
     "name": "stderr",
     "output_type": "stream",
     "text": [
      "GPU available: True (mps), used: False\n",
      "TPU available: False, using: 0 TPU cores\n",
      "HPU available: False, using: 0 HPUs\n"
     ]
    },
    {
     "name": "stdout",
     "output_type": "stream",
     "text": [
      "Predicting DataLoader 0: 100%|██████████████████| 16/16 [00:03<00:00,  4.11it/s]"
     ]
    },
    {
     "name": "stderr",
     "output_type": "stream",
     "text": [
      "GPU available: True (mps), used: False\n",
      "TPU available: False, using: 0 TPU cores\n",
      "HPU available: False, using: 0 HPUs\n"
     ]
    },
    {
     "name": "stdout",
     "output_type": "stream",
     "text": [
      "\n",
      "Predicting DataLoader 0: 100%|██████████████████| 16/16 [00:03<00:00,  4.15it/s]\n",
      "[[8.8079043e-02 9.1192096e-01]\n",
      " [3.9530668e-02 9.6046937e-01]\n",
      " [3.2883313e-02 9.6711671e-01]\n",
      " ...\n",
      " [1.7883880e-05 9.9998212e-01]\n",
      " [1.2678395e-05 9.9998736e-01]\n",
      " [1.9964800e-05 9.9998009e-01]]\n"
     ]
    },
    {
     "name": "stderr",
     "output_type": "stream",
     "text": [
      "GPU available: True (mps), used: False\n",
      "TPU available: False, using: 0 TPU cores\n",
      "HPU available: False, using: 0 HPUs\n"
     ]
    },
    {
     "name": "stdout",
     "output_type": "stream",
     "text": [
      "Predicting DataLoader 0: 100%|██████████████████| 16/16 [00:03<00:00,  4.24it/s]\n"
     ]
    },
    {
     "name": "stderr",
     "output_type": "stream",
     "text": [
      "GPU available: True (mps), used: False\n",
      "TPU available: False, using: 0 TPU cores\n",
      "HPU available: False, using: 0 HPUs\n"
     ]
    },
    {
     "name": "stdout",
     "output_type": "stream",
     "text": [
      "Predicting DataLoader 0: 100%|██████████████████| 16/16 [00:03<00:00,  4.41it/s]\n",
      "[[4.5370096e-03 9.9546295e-01]\n",
      " [1.7062105e-03 9.9829382e-01]\n",
      " [4.6204234e-04 9.9953794e-01]\n",
      " ...\n",
      " [8.9981768e-06 9.9999106e-01]\n",
      " [8.5989304e-06 9.9999142e-01]\n",
      " [8.2198057e-06 9.9999177e-01]]\n"
     ]
    },
    {
     "name": "stderr",
     "output_type": "stream",
     "text": [
      "GPU available: True (mps), used: False\n",
      "TPU available: False, using: 0 TPU cores\n",
      "HPU available: False, using: 0 HPUs\n"
     ]
    },
    {
     "name": "stdout",
     "output_type": "stream",
     "text": [
      "Predicting DataLoader 0: 100%|██████████████████| 16/16 [00:04<00:00,  3.85it/s]"
     ]
    },
    {
     "name": "stderr",
     "output_type": "stream",
     "text": [
      "GPU available: True (mps), used: False\n",
      "TPU available: False, using: 0 TPU cores\n",
      "HPU available: False, using: 0 HPUs\n"
     ]
    },
    {
     "name": "stdout",
     "output_type": "stream",
     "text": [
      "\n",
      "9\n",
      "Predicting DataLoader 0: 100%|██████████████████| 16/16 [00:04<00:00,  3.95it/s]"
     ]
    },
    {
     "name": "stderr",
     "output_type": "stream",
     "text": [
      "GPU available: True (mps), used: False\n",
      "TPU available: False, using: 0 TPU cores\n",
      "HPU available: False, using: 0 HPUs\n"
     ]
    },
    {
     "name": "stdout",
     "output_type": "stream",
     "text": [
      "\n",
      "[[2.7484500e-01 7.2515500e-01]\n",
      " [9.0528056e-02 9.0947193e-01]\n",
      " [1.3506520e-02 9.8649347e-01]\n",
      " ...\n",
      " [1.4743810e-04 9.9985254e-01]\n",
      " [1.2202067e-04 9.9987793e-01]\n",
      " [1.4160876e-04 9.9985838e-01]]\n",
      "Predicting DataLoader 0: 100%|██████████████████| 16/16 [00:03<00:00,  4.02it/s]"
     ]
    },
    {
     "name": "stderr",
     "output_type": "stream",
     "text": [
      "GPU available: True (mps), used: False\n",
      "TPU available: False, using: 0 TPU cores\n",
      "HPU available: False, using: 0 HPUs\n"
     ]
    },
    {
     "name": "stdout",
     "output_type": "stream",
     "text": [
      "\n",
      "Predicting DataLoader 0: 100%|██████████████████| 16/16 [00:03<00:00,  4.10it/s]"
     ]
    },
    {
     "name": "stderr",
     "output_type": "stream",
     "text": [
      "GPU available: True (mps), used: False\n",
      "TPU available: False, using: 0 TPU cores\n",
      "HPU available: False, using: 0 HPUs\n"
     ]
    },
    {
     "name": "stdout",
     "output_type": "stream",
     "text": [
      "\n",
      "[[1.9464975e-04 9.9980539e-01]\n",
      " [3.2823457e-04 9.9967182e-01]\n",
      " [5.6985032e-04 9.9943012e-01]\n",
      " ...\n",
      " [4.4160002e-05 9.9995589e-01]\n",
      " [4.5946475e-05 9.9995410e-01]\n",
      " [6.6211702e-05 9.9993384e-01]]\n",
      "Predicting DataLoader 0: 100%|██████████████████| 16/16 [00:03<00:00,  4.22it/s]"
     ]
    },
    {
     "name": "stderr",
     "output_type": "stream",
     "text": [
      "GPU available: True (mps), used: False\n",
      "TPU available: False, using: 0 TPU cores\n",
      "HPU available: False, using: 0 HPUs\n"
     ]
    },
    {
     "name": "stdout",
     "output_type": "stream",
     "text": [
      "\n",
      "Predicting DataLoader 0: 100%|██████████████████| 16/16 [00:04<00:00,  3.90it/s]\n",
      "[[3.8146388e-04 9.9961853e-01]\n",
      " [1.8286757e-04 9.9981719e-01]\n",
      " [9.6518626e-05 9.9990344e-01]\n",
      " ...\n",
      " [2.3943094e-06 9.9999762e-01]\n",
      " [1.7371304e-06 9.9999821e-01]\n",
      " [2.0605160e-06 9.9999797e-01]]\n"
     ]
    },
    {
     "name": "stderr",
     "output_type": "stream",
     "text": [
      "GPU available: True (mps), used: False\n",
      "TPU available: False, using: 0 TPU cores\n",
      "HPU available: False, using: 0 HPUs\n"
     ]
    },
    {
     "name": "stdout",
     "output_type": "stream",
     "text": [
      "Predicting DataLoader 0: 100%|██████████████████| 16/16 [00:03<00:00,  4.35it/s]\n"
     ]
    },
    {
     "name": "stderr",
     "output_type": "stream",
     "text": [
      "GPU available: True (mps), used: False\n",
      "TPU available: False, using: 0 TPU cores\n",
      "HPU available: False, using: 0 HPUs\n"
     ]
    },
    {
     "name": "stdout",
     "output_type": "stream",
     "text": [
      "Predicting DataLoader 0: 100%|██████████████████| 16/16 [00:03<00:00,  4.30it/s]"
     ]
    },
    {
     "name": "stderr",
     "output_type": "stream",
     "text": [
      "GPU available: True (mps), used: False\n",
      "TPU available: False, using: 0 TPU cores\n",
      "HPU available: False, using: 0 HPUs\n"
     ]
    },
    {
     "name": "stdout",
     "output_type": "stream",
     "text": [
      "\n",
      "[[2.40855687e-03 9.97591496e-01]\n",
      " [1.82873046e-03 9.98171210e-01]\n",
      " [1.60518393e-03 9.98394787e-01]\n",
      " ...\n",
      " [1.11740315e-04 9.99888301e-01]\n",
      " [9.89689070e-05 9.99901056e-01]\n",
      " [1.18639233e-04 9.99881387e-01]]\n",
      "Predicting DataLoader 0: 100%|██████████████████| 16/16 [00:03<00:00,  4.14it/s]\n"
     ]
    },
    {
     "name": "stderr",
     "output_type": "stream",
     "text": [
      "GPU available: True (mps), used: False\n",
      "TPU available: False, using: 0 TPU cores\n",
      "HPU available: False, using: 0 HPUs\n"
     ]
    },
    {
     "name": "stdout",
     "output_type": "stream",
     "text": [
      "Predicting DataLoader 0: 100%|██████████████████| 16/16 [00:03<00:00,  4.18it/s]\n",
      "[[6.4227340e-04 9.9935776e-01]\n",
      " [8.2081393e-04 9.9917918e-01]\n",
      " [1.3072279e-04 9.9986923e-01]\n",
      " ...\n",
      " [2.1287036e-05 9.9997866e-01]\n",
      " [1.9660905e-05 9.9998033e-01]\n",
      " [2.1461337e-05 9.9997854e-01]]\n"
     ]
    },
    {
     "name": "stderr",
     "output_type": "stream",
     "text": [
      "GPU available: True (mps), used: False\n",
      "TPU available: False, using: 0 TPU cores\n",
      "HPU available: False, using: 0 HPUs\n"
     ]
    },
    {
     "name": "stdout",
     "output_type": "stream",
     "text": [
      "Predicting DataLoader 0: 100%|██████████████████| 16/16 [00:03<00:00,  4.13it/s]\n",
      "cycles\n"
     ]
    },
    {
     "name": "stderr",
     "output_type": "stream",
     "text": [
      "GPU available: True (mps), used: False\n",
      "TPU available: False, using: 0 TPU cores\n",
      "HPU available: False, using: 0 HPUs\n"
     ]
    },
    {
     "name": "stdout",
     "output_type": "stream",
     "text": [
      "Accuracy:\n",
      "Accuracy_list: [0.9130434782608695, 0.9179841897233202, 0.9140316205533597, 0.9169960474308301, 0.9150197628458498, 0.9140316205533597, 0.9100790513833992, 0.9110671936758893, 0.9150197628458498, 0.908102766798419]\n",
      "Accuracy_mean: 0.9135375494071148\n",
      "Accuracy_std: 0.0029062136699314007\n",
      "---\n",
      "Confusion matrix\n",
      "Confusion matrix mean: [[178.3  20.7]\n",
      " [ 66.8 746.2]]\n",
      "Confusion matrix std: [[3.79605058 3.79605058]\n",
      " [6.38435588 6.38435588]]\n",
      "---\n",
      "F1\n",
      "F1_list: [0.944233206590621, 0.9479623824451411, 0.9453860640301318, 0.9472361809045227, 0.9456384323640961, 0.9448319594166138, 0.9419272495213784, 0.9427480916030534, 0.9455006337135615, 0.9405750798722045]\n",
      "F1_mean: 0.9446039280461322\n",
      "F1_std: 0.00218457719333692\n",
      "---\n",
      "Sensitivity\n",
      "Sensitivity list: [0.9163591635916359, 0.9298892988929889, 0.9261992619926199, 0.9274292742927429, 0.9200492004920049, 0.9163591635916359, 0.9077490774907749, 0.9114391143911439, 0.9175891758917589, 0.9052890528905289]\n",
      "Sensitivity mean: 0.9178351783517836\n",
      "Sensitivity std: 0.007852836260522685\n",
      "---\n",
      "Specificity\n",
      "Specificity list: [0.8994974874371859, 0.8693467336683417, 0.864321608040201, 0.8743718592964824, 0.8944723618090452, 0.9045226130653267, 0.9195979899497487, 0.9095477386934674, 0.9045226130653267, 0.9195979899497487]\n",
      "Specificity mean: 0.8959798994974874\n",
      "Specificity std: 0.01907563105135911\n",
      "---\n",
      "AUC\n",
      "AUC list: [np.float64(0.9079283255144109), np.float64(0.8996180162806652), np.float64(0.8952604350164105), np.float64(0.9009005667946126), np.float64(0.907260781150525), np.float64(0.9104408883284814), np.float64(0.9136735337202618), np.float64(0.9104934265423056), np.float64(0.9110558944785428), np.float64(0.9124435214201387)]\n",
      "AUC mean: 0.9069075389246354\n",
      "AUC std: 0.005873844217475016\n",
      "[ 3  6 17 11  9 14 19  8 10  5  0]\n",
      "[13 21 16  2 15  7 20  1 18 12  4]\n",
      "[[[  0.           0.           0.         ...   0.           0.\n",
      "     0.        ]\n",
      "  [ -0.09395     -0.20055     -0.26530001 ...  -1.81280005  -1.99220002\n",
      "    -2.14240003]\n",
      "  [ -1.16919994  -0.93102998  -0.73694998 ...  -2.81369996  -2.54369998\n",
      "    -2.28780007]\n",
      "  ...\n",
      "  [  0.           0.           0.         ...   0.           0.\n",
      "     0.        ]\n",
      "  [ -2.87540007  -3.09050012  -3.13870001 ...  -6.00860023  -6.19229984\n",
      "    -6.19449997]\n",
      "  [ -1.2658      -0.74980998  -0.40599999 ...  -4.43109989  -4.59639978\n",
      "    -4.76749992]]\n",
      "\n",
      " [[  0.           0.           0.         ...   0.           0.\n",
      "     0.        ]\n",
      "  [ -2.14240003  -2.2730999   -2.33719993 ...   0.41102999   0.15759\n",
      "    -0.10672   ]\n",
      "  [ -2.28780007  -2.0000999   -1.73239994 ...   0.29835001   0.66356999\n",
      "     0.96999002]\n",
      "  ...\n",
      "  [  0.           0.           0.         ...   0.           0.\n",
      "     0.        ]\n",
      "  [ -6.19449997  -5.98360014  -5.56080008 ...  -0.67334002  -1.16170001\n",
      "    -1.42040002]\n",
      "  [ -4.76749992  -4.95900011  -5.13100004 ...  -9.70460033  -8.66300011\n",
      "    -7.74450016]]\n",
      "\n",
      " [[  0.           0.           0.         ...   0.           0.\n",
      "     0.        ]\n",
      "  [ -0.10672     -0.37911001  -0.63415998 ...  -0.77192003  -0.53368998\n",
      "    -0.26010999]\n",
      "  [  0.96999002   1.21790004   1.39240003 ...  -4.01039982  -3.38490009\n",
      "    -2.79150009]\n",
      "  ...\n",
      "  [  0.           0.           0.         ...   0.           0.\n",
      "     0.        ]\n",
      "  [ -1.42040002  -1.42649996  -1.1559     ...  -8.71049976  -8.20170021\n",
      "    -7.52470016]\n",
      "  [ -7.74450016  -6.95069981  -6.34880018 ... -20.10820007 -20.39389992\n",
      "   -20.59670067]]\n",
      "\n",
      " ...\n",
      "\n",
      " [[  0.           0.           0.         ...   0.           0.\n",
      "     0.        ]\n",
      "  [ -2.24236083  -1.90473559  -1.48810814 ...  -1.58531152  -1.42573044\n",
      "    -1.23178673]\n",
      "  [ -0.25563049  -0.03299539   0.10221714 ...   0.45000841   0.81062224\n",
      "     1.0625    ]\n",
      "  ...\n",
      "  [  0.           0.           0.         ...   0.           0.\n",
      "     0.        ]\n",
      "  [ -0.747958    -1.41423312  -2.03653711 ...   0.04937897  -0.35683405\n",
      "    -0.90318918]\n",
      "  [ -8.6161232   -8.1762023   -7.78185129 ... -10.18683767  -9.91475296\n",
      "    -9.76077271]]\n",
      "\n",
      " [[  0.           0.           0.         ...   0.           0.\n",
      "     0.        ]\n",
      "  [ -1.71433377  -1.36683762  -0.93525237 ...  -2.38095212  -2.21133912\n",
      "    -1.99000728]\n",
      "  [  3.44317675   3.45034415   3.40573382 ...   4.15106654   4.26863968\n",
      "     4.29744148]\n",
      "  ...\n",
      "  [  0.           0.           0.         ...   0.           0.\n",
      "     0.        ]\n",
      "  [ -1.53428268  -2.07355649  -2.47931242 ...  -0.39021882  -0.86852482\n",
      "    -1.44324255]\n",
      "  [ -7.28481627  -7.17203269  -7.02763611 ...  -8.22230179  -8.23544794\n",
      "    -8.25190353]]\n",
      "\n",
      " [[  0.           0.           0.         ...   0.           0.\n",
      "     0.        ]\n",
      "  [ -1.7625562   -1.40059227  -0.95089936 ...  -1.8705765   -1.68114087\n",
      "    -1.45049751]\n",
      "  [  4.25260067   4.11858809   3.91508925 ...   5.47567677   5.7080189\n",
      "     5.81002951]\n",
      "  ...\n",
      "  [  0.           0.           0.         ...   0.           0.\n",
      "     0.        ]\n",
      "  [ -1.95035565  -2.51186775  -2.86611046 ...  -1.64764873  -2.1852711\n",
      "    -2.83439612]\n",
      "  [ -8.25153828  -8.21928295  -8.15699265 ...  -5.7183407   -6.01631781\n",
      "    -6.36253643]]]\n",
      "0\n"
     ]
    },
    {
     "name": "stderr",
     "output_type": "stream",
     "text": [
      "/opt/anaconda3/envs/env_gait_new/lib/python3.13/site-packages/pytorch_lightning/trainer/setup.py:177: GPU available but not used. You can set it by doing `Trainer(accelerator='gpu')`.\n",
      "/opt/anaconda3/envs/env_gait_new/lib/python3.13/site-packages/pytorch_lightning/trainer/connectors/data_connector.py:425: The 'predict_dataloader' does not have many workers which may be a bottleneck. Consider increasing the value of the `num_workers` argument` to `num_workers=13` in the `DataLoader` to improve performance.\n"
     ]
    },
    {
     "name": "stdout",
     "output_type": "stream",
     "text": [
      "Predicting DataLoader 0:   6%|█▏                 | 1/16 [00:00<00:03,  4.46it/s]"
     ]
    },
    {
     "name": "stderr",
     "output_type": "stream",
     "text": [
      "/opt/anaconda3/envs/env_gait_new/lib/python3.13/site-packages/torch/nn/modules/module.py:1739: UserWarning: Implicit dimension choice for softmax has been deprecated. Change the call to include dim=X as an argument.\n",
      "  return self._call_impl(*args, **kwargs)\n"
     ]
    },
    {
     "name": "stdout",
     "output_type": "stream",
     "text": [
      "Predicting DataLoader 0: 100%|██████████████████| 16/16 [00:03<00:00,  4.19it/s]"
     ]
    },
    {
     "name": "stderr",
     "output_type": "stream",
     "text": [
      "GPU available: True (mps), used: False\n",
      "TPU available: False, using: 0 TPU cores\n",
      "HPU available: False, using: 0 HPUs\n"
     ]
    },
    {
     "name": "stdout",
     "output_type": "stream",
     "text": [
      "\n",
      "[[0.16053155 0.8394684 ]\n",
      " [0.10045823 0.89954174]\n",
      " [0.19781402 0.80218595]\n",
      " ...\n",
      " [0.38316032 0.61683965]\n",
      " [0.08255153 0.9174484 ]\n",
      " [0.1152909  0.88470906]]\n",
      "Predicting DataLoader 0: 100%|██████████████████| 16/16 [00:03<00:00,  4.20it/s]\n"
     ]
    },
    {
     "name": "stderr",
     "output_type": "stream",
     "text": [
      "GPU available: True (mps), used: False\n",
      "TPU available: False, using: 0 TPU cores\n",
      "HPU available: False, using: 0 HPUs\n"
     ]
    },
    {
     "name": "stdout",
     "output_type": "stream",
     "text": [
      "Predicting DataLoader 0: 100%|██████████████████| 16/16 [00:03<00:00,  4.17it/s]\n",
      "[[0.41002992 0.58997005]\n",
      " [0.10690361 0.8930964 ]\n",
      " [0.16382843 0.83617157]\n",
      " ...\n",
      " [0.8950362  0.10496381]\n",
      " [0.39283058 0.60716945]\n",
      " [0.43654925 0.56345075]]\n"
     ]
    },
    {
     "name": "stderr",
     "output_type": "stream",
     "text": [
      "GPU available: True (mps), used: False\n",
      "TPU available: False, using: 0 TPU cores\n",
      "HPU available: False, using: 0 HPUs\n"
     ]
    },
    {
     "name": "stdout",
     "output_type": "stream",
     "text": [
      "Predicting DataLoader 0: 100%|██████████████████| 16/16 [00:03<00:00,  4.22it/s]\n"
     ]
    },
    {
     "name": "stderr",
     "output_type": "stream",
     "text": [
      "GPU available: True (mps), used: False\n",
      "TPU available: False, using: 0 TPU cores\n",
      "HPU available: False, using: 0 HPUs\n"
     ]
    },
    {
     "name": "stdout",
     "output_type": "stream",
     "text": [
      "Predicting DataLoader 0: 100%|██████████████████| 16/16 [00:03<00:00,  4.37it/s]"
     ]
    },
    {
     "name": "stderr",
     "output_type": "stream",
     "text": [
      "GPU available: True (mps), used: False\n",
      "TPU available: False, using: 0 TPU cores\n",
      "HPU available: False, using: 0 HPUs\n"
     ]
    },
    {
     "name": "stdout",
     "output_type": "stream",
     "text": [
      "\n",
      "[[0.35868323 0.6413168 ]\n",
      " [0.08244494 0.9175551 ]\n",
      " [0.06081657 0.9391834 ]\n",
      " ...\n",
      " [0.12689546 0.87310445]\n",
      " [0.05434899 0.945651  ]\n",
      " [0.04152507 0.95847493]]\n",
      "Predicting DataLoader 0: 100%|██████████████████| 16/16 [00:03<00:00,  4.31it/s]"
     ]
    },
    {
     "name": "stderr",
     "output_type": "stream",
     "text": [
      "GPU available: True (mps), used: False\n",
      "TPU available: False, using: 0 TPU cores\n",
      "HPU available: False, using: 0 HPUs\n"
     ]
    },
    {
     "name": "stdout",
     "output_type": "stream",
     "text": [
      "\n",
      "Predicting DataLoader 0: 100%|██████████████████| 16/16 [00:03<00:00,  4.02it/s]"
     ]
    },
    {
     "name": "stderr",
     "output_type": "stream",
     "text": [
      "GPU available: True (mps), used: False\n",
      "TPU available: False, using: 0 TPU cores\n",
      "HPU available: False, using: 0 HPUs\n"
     ]
    },
    {
     "name": "stdout",
     "output_type": "stream",
     "text": [
      "\n",
      "[[0.12320008 0.87679994]\n",
      " [0.07643368 0.92356634]\n",
      " [0.12566686 0.8743331 ]\n",
      " ...\n",
      " [0.15993494 0.84006506]\n",
      " [0.08104485 0.9189552 ]\n",
      " [0.06450062 0.93549937]]\n",
      "Predicting DataLoader 0: 100%|██████████████████| 16/16 [00:04<00:00,  3.76it/s]"
     ]
    },
    {
     "name": "stderr",
     "output_type": "stream",
     "text": [
      "GPU available: True (mps), used: False\n",
      "TPU available: False, using: 0 TPU cores\n",
      "HPU available: False, using: 0 HPUs\n"
     ]
    },
    {
     "name": "stdout",
     "output_type": "stream",
     "text": [
      "\n",
      "Predicting DataLoader 0: 100%|██████████████████| 16/16 [00:03<00:00,  4.25it/s]\n",
      "[[0.4967348  0.5032652 ]\n",
      " [0.17712225 0.8228778 ]\n",
      " [0.2030262  0.79697376]\n",
      " ...\n",
      " [0.13746278 0.86253726]\n",
      " [0.07777081 0.92222923]\n",
      " [0.05334323 0.9466568 ]]\n"
     ]
    },
    {
     "name": "stderr",
     "output_type": "stream",
     "text": [
      "GPU available: True (mps), used: False\n",
      "TPU available: False, using: 0 TPU cores\n",
      "HPU available: False, using: 0 HPUs\n"
     ]
    },
    {
     "name": "stdout",
     "output_type": "stream",
     "text": [
      "Predicting DataLoader 0: 100%|██████████████████| 16/16 [00:03<00:00,  4.10it/s]"
     ]
    },
    {
     "name": "stderr",
     "output_type": "stream",
     "text": [
      "GPU available: True (mps), used: False\n",
      "TPU available: False, using: 0 TPU cores\n",
      "HPU available: False, using: 0 HPUs\n"
     ]
    },
    {
     "name": "stdout",
     "output_type": "stream",
     "text": [
      "\n",
      "1\n",
      "Predicting DataLoader 0: 100%|██████████████████| 16/16 [00:03<00:00,  4.13it/s]"
     ]
    },
    {
     "name": "stderr",
     "output_type": "stream",
     "text": [
      "GPU available: True (mps), used: False\n",
      "TPU available: False, using: 0 TPU cores\n",
      "HPU available: False, using: 0 HPUs\n"
     ]
    },
    {
     "name": "stdout",
     "output_type": "stream",
     "text": [
      "\n",
      "[[0.0707088  0.92929125]\n",
      " [0.00993406 0.99006593]\n",
      " [0.04715753 0.9528425 ]\n",
      " ...\n",
      " [0.02283567 0.9771643 ]\n",
      " [0.00453832 0.99546164]\n",
      " [0.00351938 0.99648064]]\n",
      "Predicting DataLoader 0: 100%|██████████████████| 16/16 [00:04<00:00,  3.90it/s]"
     ]
    },
    {
     "name": "stderr",
     "output_type": "stream",
     "text": [
      "GPU available: True (mps), used: False\n",
      "TPU available: False, using: 0 TPU cores\n",
      "HPU available: False, using: 0 HPUs\n"
     ]
    },
    {
     "name": "stdout",
     "output_type": "stream",
     "text": [
      "\n",
      "Predicting DataLoader 0: 100%|██████████████████| 16/16 [00:04<00:00,  3.92it/s]"
     ]
    },
    {
     "name": "stderr",
     "output_type": "stream",
     "text": [
      "GPU available: True (mps), used: False\n",
      "TPU available: False, using: 0 TPU cores\n",
      "HPU available: False, using: 0 HPUs\n"
     ]
    },
    {
     "name": "stdout",
     "output_type": "stream",
     "text": [
      "\n",
      "[[0.5411819  0.45881805]\n",
      " [0.08765235 0.9123477 ]\n",
      " [0.0900834  0.90991664]\n",
      " ...\n",
      " [0.01587954 0.9841204 ]\n",
      " [0.0031886  0.99681145]\n",
      " [0.00412224 0.99587774]]\n",
      "Predicting DataLoader 0: 100%|██████████████████| 16/16 [00:04<00:00,  3.98it/s]"
     ]
    },
    {
     "name": "stderr",
     "output_type": "stream",
     "text": [
      "GPU available: True (mps), used: False\n",
      "TPU available: False, using: 0 TPU cores\n",
      "HPU available: False, using: 0 HPUs\n"
     ]
    },
    {
     "name": "stdout",
     "output_type": "stream",
     "text": [
      "\n",
      "Predicting DataLoader 0: 100%|██████████████████| 16/16 [00:04<00:00,  3.96it/s]"
     ]
    },
    {
     "name": "stderr",
     "output_type": "stream",
     "text": [
      "GPU available: True (mps), used: False\n",
      "TPU available: False, using: 0 TPU cores\n",
      "HPU available: False, using: 0 HPUs\n"
     ]
    },
    {
     "name": "stdout",
     "output_type": "stream",
     "text": [
      "\n",
      "[[0.03881639 0.9611836 ]\n",
      " [0.0140872  0.98591274]\n",
      " [0.07267118 0.9273288 ]\n",
      " ...\n",
      " [0.00486026 0.9951397 ]\n",
      " [0.00141562 0.9985844 ]\n",
      " [0.00141165 0.99858826]]\n",
      "Predicting DataLoader 0: 100%|██████████████████| 16/16 [00:03<00:00,  4.17it/s]\n"
     ]
    },
    {
     "name": "stderr",
     "output_type": "stream",
     "text": [
      "GPU available: True (mps), used: False\n",
      "TPU available: False, using: 0 TPU cores\n",
      "HPU available: False, using: 0 HPUs\n"
     ]
    },
    {
     "name": "stdout",
     "output_type": "stream",
     "text": [
      "Predicting DataLoader 0: 100%|██████████████████| 16/16 [00:03<00:00,  4.08it/s]\n",
      "[[0.01557786 0.9844222 ]\n",
      " [0.00536982 0.9946302 ]\n",
      " [0.01259869 0.9874013 ]\n",
      " ...\n",
      " [0.04547458 0.9545254 ]\n",
      " [0.0039994  0.9960006 ]\n",
      " [0.00410151 0.9958984 ]]\n"
     ]
    },
    {
     "name": "stderr",
     "output_type": "stream",
     "text": [
      "GPU available: True (mps), used: False\n",
      "TPU available: False, using: 0 TPU cores\n",
      "HPU available: False, using: 0 HPUs\n"
     ]
    },
    {
     "name": "stdout",
     "output_type": "stream",
     "text": [
      "Predicting DataLoader 0: 100%|██████████████████| 16/16 [00:03<00:00,  4.35it/s]"
     ]
    },
    {
     "name": "stderr",
     "output_type": "stream",
     "text": [
      "GPU available: True (mps), used: False\n",
      "TPU available: False, using: 0 TPU cores\n",
      "HPU available: False, using: 0 HPUs\n"
     ]
    },
    {
     "name": "stdout",
     "output_type": "stream",
     "text": [
      "\n",
      "Predicting DataLoader 0: 100%|██████████████████| 16/16 [00:04<00:00,  3.97it/s]"
     ]
    },
    {
     "name": "stderr",
     "output_type": "stream",
     "text": [
      "GPU available: True (mps), used: False\n",
      "TPU available: False, using: 0 TPU cores\n",
      "HPU available: False, using: 0 HPUs\n"
     ]
    },
    {
     "name": "stdout",
     "output_type": "stream",
     "text": [
      "\n",
      "[[0.02092193 0.9790781 ]\n",
      " [0.00796138 0.9920386 ]\n",
      " [0.01202851 0.9879715 ]\n",
      " ...\n",
      " [0.07334969 0.9266502 ]\n",
      " [0.00212674 0.9978733 ]\n",
      " [0.00208911 0.9979109 ]]\n",
      "Predicting DataLoader 0: 100%|██████████████████| 16/16 [00:04<00:00,  3.99it/s]"
     ]
    },
    {
     "name": "stderr",
     "output_type": "stream",
     "text": [
      "GPU available: True (mps), used: False\n",
      "TPU available: False, using: 0 TPU cores\n",
      "HPU available: False, using: 0 HPUs\n"
     ]
    },
    {
     "name": "stdout",
     "output_type": "stream",
     "text": [
      "\n",
      "2\n",
      "Predicting DataLoader 0: 100%|██████████████████| 16/16 [00:04<00:00,  3.91it/s]"
     ]
    },
    {
     "name": "stderr",
     "output_type": "stream",
     "text": [
      "GPU available: True (mps), used: False\n",
      "TPU available: False, using: 0 TPU cores\n",
      "HPU available: False, using: 0 HPUs\n"
     ]
    },
    {
     "name": "stdout",
     "output_type": "stream",
     "text": [
      "\n",
      "[[0.00864055 0.9913594 ]\n",
      " [0.00110107 0.99889886]\n",
      " [0.00136815 0.9986318 ]\n",
      " ...\n",
      " [0.1800908  0.8199093 ]\n",
      " [0.00984326 0.99015677]\n",
      " [0.02704504 0.972955  ]]\n",
      "Predicting DataLoader 0: 100%|██████████████████| 16/16 [00:04<00:00,  3.91it/s]"
     ]
    },
    {
     "name": "stderr",
     "output_type": "stream",
     "text": [
      "GPU available: True (mps), used: False\n",
      "TPU available: False, using: 0 TPU cores\n",
      "HPU available: False, using: 0 HPUs\n"
     ]
    },
    {
     "name": "stdout",
     "output_type": "stream",
     "text": [
      "\n",
      "Predicting DataLoader 0: 100%|██████████████████| 16/16 [00:03<00:00,  4.23it/s]\n",
      "[[0.09436085 0.9056392 ]\n",
      " [0.01737419 0.98262584]\n",
      " [0.7592044  0.24079561]\n",
      " ...\n",
      " [0.0109117  0.9890883 ]\n",
      " [0.00211628 0.99788374]\n",
      " [0.00122987 0.99877006]]\n"
     ]
    },
    {
     "name": "stderr",
     "output_type": "stream",
     "text": [
      "GPU available: True (mps), used: False\n",
      "TPU available: False, using: 0 TPU cores\n",
      "HPU available: False, using: 0 HPUs\n"
     ]
    },
    {
     "name": "stdout",
     "output_type": "stream",
     "text": [
      "Predicting DataLoader 0: 100%|██████████████████| 16/16 [00:03<00:00,  4.29it/s]"
     ]
    },
    {
     "name": "stderr",
     "output_type": "stream",
     "text": [
      "GPU available: True (mps), used: False\n",
      "TPU available: False, using: 0 TPU cores\n",
      "HPU available: False, using: 0 HPUs\n"
     ]
    },
    {
     "name": "stdout",
     "output_type": "stream",
     "text": [
      "\n",
      "Predicting DataLoader 0: 100%|██████████████████| 16/16 [00:03<00:00,  4.30it/s]"
     ]
    },
    {
     "name": "stderr",
     "output_type": "stream",
     "text": [
      "GPU available: True (mps), used: False\n",
      "TPU available: False, using: 0 TPU cores\n",
      "HPU available: False, using: 0 HPUs\n"
     ]
    },
    {
     "name": "stdout",
     "output_type": "stream",
     "text": [
      "\n",
      "[[0.02110148 0.97889847]\n",
      " [0.01072806 0.989272  ]\n",
      " [0.00586239 0.99413764]\n",
      " ...\n",
      " [0.18753192 0.8124681 ]\n",
      " [0.01204187 0.9879581 ]\n",
      " [0.00654246 0.9934575 ]]\n",
      "Predicting DataLoader 0: 100%|██████████████████| 16/16 [00:03<00:00,  4.06it/s]\n"
     ]
    },
    {
     "name": "stderr",
     "output_type": "stream",
     "text": [
      "GPU available: True (mps), used: False\n",
      "TPU available: False, using: 0 TPU cores\n",
      "HPU available: False, using: 0 HPUs\n"
     ]
    },
    {
     "name": "stdout",
     "output_type": "stream",
     "text": [
      "Predicting DataLoader 0: 100%|██████████████████| 16/16 [00:03<00:00,  4.12it/s]"
     ]
    },
    {
     "name": "stderr",
     "output_type": "stream",
     "text": [
      "GPU available: True (mps), used: False\n",
      "TPU available: False, using: 0 TPU cores\n",
      "HPU available: False, using: 0 HPUs\n"
     ]
    },
    {
     "name": "stdout",
     "output_type": "stream",
     "text": [
      "\n",
      "[[2.4893070e-03 9.9751067e-01]\n",
      " [8.3179213e-04 9.9916828e-01]\n",
      " [2.8826294e-03 9.9711740e-01]\n",
      " ...\n",
      " [1.1918317e-03 9.9880815e-01]\n",
      " [1.8490355e-04 9.9981517e-01]\n",
      " [2.7893181e-04 9.9972099e-01]]\n",
      "Predicting DataLoader 0: 100%|██████████████████| 16/16 [00:03<00:00,  4.60it/s]"
     ]
    },
    {
     "name": "stderr",
     "output_type": "stream",
     "text": [
      "GPU available: True (mps), used: False\n",
      "TPU available: False, using: 0 TPU cores\n",
      "HPU available: False, using: 0 HPUs\n"
     ]
    },
    {
     "name": "stdout",
     "output_type": "stream",
     "text": [
      "\n",
      "Predicting DataLoader 0: 100%|██████████████████| 16/16 [00:03<00:00,  4.55it/s]\n",
      "[[6.9749879e-04 9.9930251e-01]\n",
      " [4.0553691e-04 9.9959451e-01]\n",
      " [5.4576749e-04 9.9945420e-01]\n",
      " ...\n",
      " [1.8250525e-02 9.8174942e-01]\n",
      " [8.3402107e-03 9.9165982e-01]\n",
      " [1.3129510e-02 9.8687047e-01]]\n"
     ]
    },
    {
     "name": "stderr",
     "output_type": "stream",
     "text": [
      "GPU available: True (mps), used: False\n",
      "TPU available: False, using: 0 TPU cores\n",
      "HPU available: False, using: 0 HPUs\n"
     ]
    },
    {
     "name": "stdout",
     "output_type": "stream",
     "text": [
      "Predicting DataLoader 0: 100%|██████████████████| 16/16 [00:03<00:00,  4.43it/s]"
     ]
    },
    {
     "name": "stderr",
     "output_type": "stream",
     "text": [
      "GPU available: True (mps), used: False\n",
      "TPU available: False, using: 0 TPU cores\n",
      "HPU available: False, using: 0 HPUs\n"
     ]
    },
    {
     "name": "stdout",
     "output_type": "stream",
     "text": [
      "\n",
      "3\n",
      "Predicting DataLoader 0: 100%|██████████████████| 16/16 [00:04<00:00,  3.86it/s]"
     ]
    },
    {
     "name": "stderr",
     "output_type": "stream",
     "text": [
      "GPU available: True (mps), used: False\n",
      "TPU available: False, using: 0 TPU cores\n",
      "HPU available: False, using: 0 HPUs\n"
     ]
    },
    {
     "name": "stdout",
     "output_type": "stream",
     "text": [
      "\n",
      "[[0.0646487  0.93535125]\n",
      " [0.02692253 0.9730775 ]\n",
      " [0.05213608 0.94786394]\n",
      " ...\n",
      " [0.02539282 0.9746072 ]\n",
      " [0.00550996 0.99449   ]\n",
      " [0.00303876 0.9969612 ]]\n",
      "Predicting DataLoader 0: 100%|██████████████████| 16/16 [00:04<00:00,  3.76it/s]"
     ]
    },
    {
     "name": "stderr",
     "output_type": "stream",
     "text": [
      "GPU available: True (mps), used: False\n",
      "TPU available: False, using: 0 TPU cores\n",
      "HPU available: False, using: 0 HPUs\n"
     ]
    },
    {
     "name": "stdout",
     "output_type": "stream",
     "text": [
      "\n",
      "Predicting DataLoader 0: 100%|██████████████████| 16/16 [00:04<00:00,  3.90it/s]"
     ]
    },
    {
     "name": "stderr",
     "output_type": "stream",
     "text": [
      "GPU available: True (mps), used: False\n",
      "TPU available: False, using: 0 TPU cores\n",
      "HPU available: False, using: 0 HPUs\n"
     ]
    },
    {
     "name": "stdout",
     "output_type": "stream",
     "text": [
      "\n",
      "[[1.4830611e-02 9.8516941e-01]\n",
      " [5.9032906e-03 9.9409676e-01]\n",
      " [1.2986635e-02 9.8701340e-01]\n",
      " ...\n",
      " [4.3392247e-03 9.9566072e-01]\n",
      " [6.6099438e-04 9.9933904e-01]\n",
      " [6.3498819e-04 9.9936503e-01]]\n",
      "Predicting DataLoader 0: 100%|██████████████████| 16/16 [00:04<00:00,  3.97it/s]"
     ]
    },
    {
     "name": "stderr",
     "output_type": "stream",
     "text": [
      "GPU available: True (mps), used: False\n",
      "TPU available: False, using: 0 TPU cores\n",
      "HPU available: False, using: 0 HPUs\n"
     ]
    },
    {
     "name": "stdout",
     "output_type": "stream",
     "text": [
      "\n",
      "Predicting DataLoader 0: 100%|██████████████████| 16/16 [00:04<00:00,  3.95it/s]"
     ]
    },
    {
     "name": "stderr",
     "output_type": "stream",
     "text": [
      "GPU available: True (mps), used: False\n",
      "TPU available: False, using: 0 TPU cores\n",
      "HPU available: False, using: 0 HPUs\n"
     ]
    },
    {
     "name": "stdout",
     "output_type": "stream",
     "text": [
      "\n",
      "[[2.3295083e-03 9.9767047e-01]\n",
      " [1.2393938e-03 9.9876058e-01]\n",
      " [1.5120727e-02 9.8487931e-01]\n",
      " ...\n",
      " [8.1647112e-04 9.9918348e-01]\n",
      " [2.9849753e-04 9.9970144e-01]\n",
      " [3.4651844e-04 9.9965346e-01]]\n",
      "Predicting DataLoader 0: 100%|██████████████████| 16/16 [00:04<00:00,  3.99it/s]\n"
     ]
    },
    {
     "name": "stderr",
     "output_type": "stream",
     "text": [
      "GPU available: True (mps), used: False\n",
      "TPU available: False, using: 0 TPU cores\n",
      "HPU available: False, using: 0 HPUs\n"
     ]
    },
    {
     "name": "stdout",
     "output_type": "stream",
     "text": [
      "Predicting DataLoader 0: 100%|██████████████████| 16/16 [00:04<00:00,  3.81it/s]"
     ]
    },
    {
     "name": "stderr",
     "output_type": "stream",
     "text": [
      "GPU available: True (mps), used: False\n",
      "TPU available: False, using: 0 TPU cores\n",
      "HPU available: False, using: 0 HPUs\n"
     ]
    },
    {
     "name": "stdout",
     "output_type": "stream",
     "text": [
      "\n",
      "[[2.1341087e-04 9.9978656e-01]\n",
      " [1.1343971e-04 9.9988651e-01]\n",
      " [5.6999183e-04 9.9943000e-01]\n",
      " ...\n",
      " [8.3780935e-04 9.9916220e-01]\n",
      " [7.8539531e-05 9.9992144e-01]\n",
      " [6.6252367e-05 9.9993372e-01]]\n",
      "Predicting DataLoader 0: 100%|██████████████████| 16/16 [00:04<00:00,  3.89it/s]\n"
     ]
    },
    {
     "name": "stderr",
     "output_type": "stream",
     "text": [
      "GPU available: True (mps), used: False\n",
      "TPU available: False, using: 0 TPU cores\n",
      "HPU available: False, using: 0 HPUs\n"
     ]
    },
    {
     "name": "stdout",
     "output_type": "stream",
     "text": [
      "Predicting DataLoader 0: 100%|██████████████████| 16/16 [00:03<00:00,  4.22it/s]\n",
      "[[0.03822893 0.96177113]\n",
      " [0.02373328 0.97626674]\n",
      " [0.05298132 0.9470187 ]\n",
      " ...\n",
      " [0.01421767 0.98578227]\n",
      " [0.00496189 0.9950381 ]\n",
      " [0.00411989 0.9958801 ]]\n"
     ]
    },
    {
     "name": "stderr",
     "output_type": "stream",
     "text": [
      "GPU available: True (mps), used: False\n",
      "TPU available: False, using: 0 TPU cores\n",
      "HPU available: False, using: 0 HPUs\n"
     ]
    },
    {
     "name": "stdout",
     "output_type": "stream",
     "text": [
      "Predicting DataLoader 0: 100%|██████████████████| 16/16 [00:03<00:00,  4.04it/s]"
     ]
    },
    {
     "name": "stderr",
     "output_type": "stream",
     "text": [
      "GPU available: True (mps), used: False\n",
      "TPU available: False, using: 0 TPU cores\n",
      "HPU available: False, using: 0 HPUs\n"
     ]
    },
    {
     "name": "stdout",
     "output_type": "stream",
     "text": [
      "\n",
      "4\n",
      "Predicting DataLoader 0: 100%|██████████████████| 16/16 [00:03<00:00,  4.29it/s]"
     ]
    },
    {
     "name": "stderr",
     "output_type": "stream",
     "text": [
      "GPU available: True (mps), used: False\n",
      "TPU available: False, using: 0 TPU cores\n",
      "HPU available: False, using: 0 HPUs\n"
     ]
    },
    {
     "name": "stdout",
     "output_type": "stream",
     "text": [
      "\n",
      "[[0.04724585 0.9527542 ]\n",
      " [0.03552019 0.96447986]\n",
      " [0.20824194 0.79175806]\n",
      " ...\n",
      " [0.02719235 0.97280765]\n",
      " [0.00472933 0.99527067]\n",
      " [0.00503437 0.9949656 ]]\n",
      "Predicting DataLoader 0: 100%|██████████████████| 16/16 [00:03<00:00,  4.03it/s]"
     ]
    },
    {
     "name": "stderr",
     "output_type": "stream",
     "text": [
      "GPU available: True (mps), used: False\n",
      "TPU available: False, using: 0 TPU cores\n",
      "HPU available: False, using: 0 HPUs\n"
     ]
    },
    {
     "name": "stdout",
     "output_type": "stream",
     "text": [
      "\n",
      "Predicting DataLoader 0: 100%|██████████████████| 16/16 [00:04<00:00,  3.58it/s]\n",
      "[[0.1843235  0.8156765 ]\n",
      " [0.18690333 0.8130967 ]\n",
      " [0.28692964 0.71307033]\n",
      " ...\n",
      " [0.07644112 0.9235589 ]\n",
      " [0.00150382 0.9984962 ]\n",
      " [0.00300758 0.99699235]]\n"
     ]
    },
    {
     "name": "stderr",
     "output_type": "stream",
     "text": [
      "GPU available: True (mps), used: False\n",
      "TPU available: False, using: 0 TPU cores\n",
      "HPU available: False, using: 0 HPUs\n"
     ]
    },
    {
     "name": "stdout",
     "output_type": "stream",
     "text": [
      "Predicting DataLoader 0: 100%|██████████████████| 16/16 [00:04<00:00,  3.84it/s]"
     ]
    },
    {
     "name": "stderr",
     "output_type": "stream",
     "text": [
      "GPU available: True (mps), used: False\n",
      "TPU available: False, using: 0 TPU cores\n",
      "HPU available: False, using: 0 HPUs\n"
     ]
    },
    {
     "name": "stdout",
     "output_type": "stream",
     "text": [
      "\n",
      "Predicting DataLoader 0: 100%|██████████████████| 16/16 [00:04<00:00,  3.72it/s]"
     ]
    },
    {
     "name": "stderr",
     "output_type": "stream",
     "text": [
      "GPU available: True (mps), used: False\n",
      "TPU available: False, using: 0 TPU cores\n",
      "HPU available: False, using: 0 HPUs\n"
     ]
    },
    {
     "name": "stdout",
     "output_type": "stream",
     "text": [
      "\n",
      "[[1.7199444e-03 9.9828005e-01]\n",
      " [5.3460826e-04 9.9946541e-01]\n",
      " [3.9477993e-04 9.9960524e-01]\n",
      " ...\n",
      " [2.6008415e-03 9.9739921e-01]\n",
      " [3.9155366e-05 9.9996090e-01]\n",
      " [1.6262782e-05 9.9998379e-01]]\n",
      "Predicting DataLoader 0: 100%|██████████████████| 16/16 [00:04<00:00,  3.79it/s]"
     ]
    },
    {
     "name": "stderr",
     "output_type": "stream",
     "text": [
      "GPU available: True (mps), used: False\n",
      "TPU available: False, using: 0 TPU cores\n",
      "HPU available: False, using: 0 HPUs\n"
     ]
    },
    {
     "name": "stdout",
     "output_type": "stream",
     "text": [
      "\n",
      "Predicting DataLoader 0: 100%|██████████████████| 16/16 [00:04<00:00,  3.99it/s]"
     ]
    },
    {
     "name": "stderr",
     "output_type": "stream",
     "text": [
      "GPU available: True (mps), used: False\n",
      "TPU available: False, using: 0 TPU cores\n",
      "HPU available: False, using: 0 HPUs\n"
     ]
    },
    {
     "name": "stdout",
     "output_type": "stream",
     "text": [
      "\n",
      "[[2.8608222e-03 9.9713922e-01]\n",
      " [1.5111802e-03 9.9848878e-01]\n",
      " [6.1397594e-03 9.9386024e-01]\n",
      " ...\n",
      " [5.4737728e-04 9.9945265e-01]\n",
      " [4.2916494e-05 9.9995708e-01]\n",
      " [5.0897404e-05 9.9994910e-01]]\n",
      "Predicting DataLoader 0: 100%|██████████████████| 16/16 [00:04<00:00,  3.88it/s]"
     ]
    },
    {
     "name": "stderr",
     "output_type": "stream",
     "text": [
      "GPU available: True (mps), used: False\n",
      "TPU available: False, using: 0 TPU cores\n",
      "HPU available: False, using: 0 HPUs\n"
     ]
    },
    {
     "name": "stdout",
     "output_type": "stream",
     "text": [
      "\n",
      "Predicting DataLoader 0: 100%|██████████████████| 16/16 [00:03<00:00,  4.11it/s]"
     ]
    },
    {
     "name": "stderr",
     "output_type": "stream",
     "text": [
      "GPU available: True (mps), used: False\n",
      "TPU available: False, using: 0 TPU cores\n",
      "HPU available: False, using: 0 HPUs\n"
     ]
    },
    {
     "name": "stdout",
     "output_type": "stream",
     "text": [
      "\n",
      "[[2.45547126e-04 9.99754488e-01]\n",
      " [9.22327163e-05 9.99907732e-01]\n",
      " [2.60452507e-04 9.99739587e-01]\n",
      " ...\n",
      " [9.55439697e-04 9.99044597e-01]\n",
      " [1.31474604e-04 9.99868512e-01]\n",
      " [1.02185004e-04 9.99897838e-01]]\n",
      "Predicting DataLoader 0: 100%|██████████████████| 16/16 [00:03<00:00,  4.29it/s]\n",
      "5\n"
     ]
    },
    {
     "name": "stderr",
     "output_type": "stream",
     "text": [
      "GPU available: True (mps), used: False\n",
      "TPU available: False, using: 0 TPU cores\n",
      "HPU available: False, using: 0 HPUs\n"
     ]
    },
    {
     "name": "stdout",
     "output_type": "stream",
     "text": [
      "Predicting DataLoader 0: 100%|██████████████████| 16/16 [00:04<00:00,  3.91it/s]"
     ]
    },
    {
     "name": "stderr",
     "output_type": "stream",
     "text": [
      "GPU available: True (mps), used: False\n",
      "TPU available: False, using: 0 TPU cores\n",
      "HPU available: False, using: 0 HPUs\n"
     ]
    },
    {
     "name": "stdout",
     "output_type": "stream",
     "text": [
      "\n",
      "[[3.3809396e-03 9.9661899e-01]\n",
      " [7.7641546e-04 9.9922359e-01]\n",
      " [1.5645586e-03 9.9843544e-01]\n",
      " ...\n",
      " [5.0584259e-03 9.9494153e-01]\n",
      " [9.8517817e-04 9.9901485e-01]\n",
      " [9.5420063e-04 9.9904579e-01]]\n",
      "Predicting DataLoader 0: 100%|██████████████████| 16/16 [00:03<00:00,  4.25it/s]\n"
     ]
    },
    {
     "name": "stderr",
     "output_type": "stream",
     "text": [
      "GPU available: True (mps), used: False\n",
      "TPU available: False, using: 0 TPU cores\n",
      "HPU available: False, using: 0 HPUs\n"
     ]
    },
    {
     "name": "stdout",
     "output_type": "stream",
     "text": [
      "Predicting DataLoader 0: 100%|██████████████████| 16/16 [00:03<00:00,  4.25it/s]"
     ]
    },
    {
     "name": "stderr",
     "output_type": "stream",
     "text": [
      "GPU available: True (mps), used: False\n",
      "TPU available: False, using: 0 TPU cores\n",
      "HPU available: False, using: 0 HPUs\n"
     ]
    },
    {
     "name": "stdout",
     "output_type": "stream",
     "text": [
      "\n",
      "[[1.6324858e-03 9.9836749e-01]\n",
      " [5.0584145e-04 9.9949419e-01]\n",
      " [2.4376009e-04 9.9975628e-01]\n",
      " ...\n",
      " [4.3013660e-04 9.9956983e-01]\n",
      " [1.3204625e-04 9.9986792e-01]\n",
      " [5.4042877e-05 9.9994600e-01]]\n",
      "Predicting DataLoader 0: 100%|██████████████████| 16/16 [00:03<00:00,  4.23it/s]"
     ]
    },
    {
     "name": "stderr",
     "output_type": "stream",
     "text": [
      "GPU available: True (mps), used: False\n",
      "TPU available: False, using: 0 TPU cores\n",
      "HPU available: False, using: 0 HPUs\n"
     ]
    },
    {
     "name": "stdout",
     "output_type": "stream",
     "text": [
      "\n",
      "Predicting DataLoader 0: 100%|██████████████████| 16/16 [00:03<00:00,  4.01it/s]\n",
      "[[9.3388004e-04 9.9906617e-01]\n",
      " [1.5476721e-04 9.9984527e-01]\n",
      " [1.5950760e-04 9.9984050e-01]\n",
      " ...\n",
      " [8.7847002e-03 9.9121535e-01]\n",
      " [4.7040326e-03 9.9529594e-01]\n",
      " [2.2992361e-03 9.9770075e-01]]\n"
     ]
    },
    {
     "name": "stderr",
     "output_type": "stream",
     "text": [
      "GPU available: True (mps), used: False\n",
      "TPU available: False, using: 0 TPU cores\n",
      "HPU available: False, using: 0 HPUs\n"
     ]
    },
    {
     "name": "stdout",
     "output_type": "stream",
     "text": [
      "Predicting DataLoader 0: 100%|██████████████████| 16/16 [00:04<00:00,  3.90it/s]"
     ]
    },
    {
     "name": "stderr",
     "output_type": "stream",
     "text": [
      "GPU available: True (mps), used: False\n",
      "TPU available: False, using: 0 TPU cores\n",
      "HPU available: False, using: 0 HPUs\n"
     ]
    },
    {
     "name": "stdout",
     "output_type": "stream",
     "text": [
      "\n",
      "Predicting DataLoader 0: 100%|██████████████████| 16/16 [00:03<00:00,  4.10it/s]"
     ]
    },
    {
     "name": "stderr",
     "output_type": "stream",
     "text": [
      "GPU available: True (mps), used: False\n",
      "TPU available: False, using: 0 TPU cores\n",
      "HPU available: False, using: 0 HPUs\n"
     ]
    },
    {
     "name": "stdout",
     "output_type": "stream",
     "text": [
      "\n",
      "[[1.6920491e-04 9.9983072e-01]\n",
      " [5.6787783e-05 9.9994326e-01]\n",
      " [2.8674936e-04 9.9971324e-01]\n",
      " ...\n",
      " [1.0941989e-03 9.9890578e-01]\n",
      " [1.1437993e-04 9.9988556e-01]\n",
      " [5.6269095e-05 9.9994373e-01]]\n",
      "Predicting DataLoader 0: 100%|██████████████████| 16/16 [00:04<00:00,  3.97it/s]"
     ]
    },
    {
     "name": "stderr",
     "output_type": "stream",
     "text": [
      "GPU available: True (mps), used: False\n",
      "TPU available: False, using: 0 TPU cores\n",
      "HPU available: False, using: 0 HPUs\n"
     ]
    },
    {
     "name": "stdout",
     "output_type": "stream",
     "text": [
      "\n",
      "Predicting DataLoader 0: 100%|██████████████████| 16/16 [00:03<00:00,  4.11it/s]"
     ]
    },
    {
     "name": "stderr",
     "output_type": "stream",
     "text": [
      "GPU available: True (mps), used: False\n",
      "TPU available: False, using: 0 TPU cores\n",
      "HPU available: False, using: 0 HPUs\n"
     ]
    },
    {
     "name": "stdout",
     "output_type": "stream",
     "text": [
      "\n",
      "[[1.2794476e-02 9.8720551e-01]\n",
      " [3.0469904e-03 9.9695301e-01]\n",
      " [3.7799000e-03 9.9622017e-01]\n",
      " ...\n",
      " [3.4982504e-04 9.9965012e-01]\n",
      " [4.8958012e-05 9.9995100e-01]\n",
      " [3.3175071e-05 9.9996686e-01]]\n",
      "Predicting DataLoader 0: 100%|██████████████████| 16/16 [00:03<00:00,  4.17it/s]\n",
      "6\n"
     ]
    },
    {
     "name": "stderr",
     "output_type": "stream",
     "text": [
      "GPU available: True (mps), used: False\n",
      "TPU available: False, using: 0 TPU cores\n",
      "HPU available: False, using: 0 HPUs\n"
     ]
    },
    {
     "name": "stdout",
     "output_type": "stream",
     "text": [
      "Predicting DataLoader 0: 100%|██████████████████| 16/16 [00:04<00:00,  4.00it/s]"
     ]
    },
    {
     "name": "stderr",
     "output_type": "stream",
     "text": [
      "GPU available: True (mps), used: False\n",
      "TPU available: False, using: 0 TPU cores\n",
      "HPU available: False, using: 0 HPUs\n"
     ]
    },
    {
     "name": "stdout",
     "output_type": "stream",
     "text": [
      "\n",
      "[[4.5502678e-02 9.5449728e-01]\n",
      " [8.4055346e-03 9.9159449e-01]\n",
      " [1.9056784e-02 9.8094314e-01]\n",
      " ...\n",
      " [8.9596550e-04 9.9910396e-01]\n",
      " [2.2109087e-04 9.9977893e-01]\n",
      " [2.6294135e-04 9.9973708e-01]]\n",
      "Predicting DataLoader 0: 100%|██████████████████| 16/16 [00:03<00:00,  4.35it/s]\n"
     ]
    },
    {
     "name": "stderr",
     "output_type": "stream",
     "text": [
      "GPU available: True (mps), used: False\n",
      "TPU available: False, using: 0 TPU cores\n",
      "HPU available: False, using: 0 HPUs\n"
     ]
    },
    {
     "name": "stdout",
     "output_type": "stream",
     "text": [
      "Predicting DataLoader 0: 100%|██████████████████| 16/16 [00:03<00:00,  4.28it/s]\n",
      "[[2.2442658e-02 9.7755730e-01]\n",
      " [5.2301930e-03 9.9476975e-01]\n",
      " [6.7781210e-03 9.9322188e-01]\n",
      " ...\n",
      " [1.2303052e-02 9.8769695e-01]\n",
      " [1.5647344e-03 9.9843520e-01]\n",
      " [3.7724822e-04 9.9962270e-01]]\n"
     ]
    },
    {
     "name": "stderr",
     "output_type": "stream",
     "text": [
      "GPU available: True (mps), used: False\n",
      "TPU available: False, using: 0 TPU cores\n",
      "HPU available: False, using: 0 HPUs\n"
     ]
    },
    {
     "name": "stdout",
     "output_type": "stream",
     "text": [
      "Predicting DataLoader 0: 100%|██████████████████| 16/16 [00:03<00:00,  4.23it/s]"
     ]
    },
    {
     "name": "stderr",
     "output_type": "stream",
     "text": [
      "GPU available: True (mps), used: False\n",
      "TPU available: False, using: 0 TPU cores\n",
      "HPU available: False, using: 0 HPUs\n"
     ]
    },
    {
     "name": "stdout",
     "output_type": "stream",
     "text": [
      "\n",
      "Predicting DataLoader 0: 100%|██████████████████| 16/16 [00:03<00:00,  4.33it/s]\n",
      "[[2.7829164e-04 9.9972171e-01]\n",
      " [5.1314877e-05 9.9994874e-01]\n",
      " [6.1780331e-04 9.9938214e-01]\n",
      " ...\n",
      " [1.2794626e-02 9.8720539e-01]\n",
      " [1.6233224e-03 9.9837661e-01]\n",
      " [2.6497457e-03 9.9735022e-01]]\n"
     ]
    },
    {
     "name": "stderr",
     "output_type": "stream",
     "text": [
      "GPU available: True (mps), used: False\n",
      "TPU available: False, using: 0 TPU cores\n",
      "HPU available: False, using: 0 HPUs\n"
     ]
    },
    {
     "name": "stdout",
     "output_type": "stream",
     "text": [
      "Predicting DataLoader 0: 100%|██████████████████| 16/16 [00:04<00:00,  3.64it/s]"
     ]
    },
    {
     "name": "stderr",
     "output_type": "stream",
     "text": [
      "GPU available: True (mps), used: False\n",
      "TPU available: False, using: 0 TPU cores\n",
      "HPU available: False, using: 0 HPUs\n"
     ]
    },
    {
     "name": "stdout",
     "output_type": "stream",
     "text": [
      "\n",
      "Predicting DataLoader 0: 100%|██████████████████| 16/16 [00:04<00:00,  3.21it/s]\n",
      "[[2.6247504e-01 7.3752493e-01]\n",
      " [9.7050471e-03 9.9029493e-01]\n",
      " [2.1957201e-01 7.8042799e-01]\n",
      " ...\n",
      " [1.5821801e-03 9.9841785e-01]\n",
      " [3.8565384e-04 9.9961436e-01]\n",
      " [2.4023824e-04 9.9975973e-01]]\n"
     ]
    },
    {
     "name": "stderr",
     "output_type": "stream",
     "text": [
      "GPU available: True (mps), used: False\n",
      "TPU available: False, using: 0 TPU cores\n",
      "HPU available: False, using: 0 HPUs\n"
     ]
    },
    {
     "name": "stdout",
     "output_type": "stream",
     "text": [
      "Predicting DataLoader 0: 100%|██████████████████| 16/16 [00:03<00:00,  4.08it/s]\n"
     ]
    },
    {
     "name": "stderr",
     "output_type": "stream",
     "text": [
      "GPU available: True (mps), used: False\n",
      "TPU available: False, using: 0 TPU cores\n",
      "HPU available: False, using: 0 HPUs\n"
     ]
    },
    {
     "name": "stdout",
     "output_type": "stream",
     "text": [
      "Predicting DataLoader 0: 100%|██████████████████| 16/16 [00:04<00:00,  3.92it/s]\n",
      "[[3.3111494e-02 9.6688855e-01]\n",
      " [4.1587865e-03 9.9584121e-01]\n",
      " [2.5245966e-02 9.7475398e-01]\n",
      " ...\n",
      " [3.2320959e-03 9.9676788e-01]\n",
      " [1.9825547e-04 9.9980181e-01]\n",
      " [7.0886446e-05 9.9992907e-01]]\n"
     ]
    },
    {
     "name": "stderr",
     "output_type": "stream",
     "text": [
      "GPU available: True (mps), used: False\n",
      "TPU available: False, using: 0 TPU cores\n",
      "HPU available: False, using: 0 HPUs\n"
     ]
    },
    {
     "name": "stdout",
     "output_type": "stream",
     "text": [
      "Predicting DataLoader 0: 100%|██████████████████| 16/16 [00:03<00:00,  4.35it/s]"
     ]
    },
    {
     "name": "stderr",
     "output_type": "stream",
     "text": [
      "GPU available: True (mps), used: False\n",
      "TPU available: False, using: 0 TPU cores\n",
      "HPU available: False, using: 0 HPUs\n"
     ]
    },
    {
     "name": "stdout",
     "output_type": "stream",
     "text": [
      "\n",
      "7\n",
      "Predicting DataLoader 0: 100%|██████████████████| 16/16 [00:03<00:00,  4.36it/s]"
     ]
    },
    {
     "name": "stderr",
     "output_type": "stream",
     "text": [
      "GPU available: True (mps), used: False\n",
      "TPU available: False, using: 0 TPU cores\n",
      "HPU available: False, using: 0 HPUs\n"
     ]
    },
    {
     "name": "stdout",
     "output_type": "stream",
     "text": [
      "\n",
      "[[6.5470784e-04 9.9934524e-01]\n",
      " [2.2066756e-04 9.9977928e-01]\n",
      " [9.8158477e-04 9.9901843e-01]\n",
      " ...\n",
      " [1.2057109e-03 9.9879432e-01]\n",
      " [1.4004865e-04 9.9985993e-01]\n",
      " [2.7622134e-04 9.9972373e-01]]\n",
      "Predicting DataLoader 0: 100%|██████████████████| 16/16 [00:03<00:00,  4.62it/s]"
     ]
    },
    {
     "name": "stderr",
     "output_type": "stream",
     "text": [
      "GPU available: True (mps), used: False\n",
      "TPU available: False, using: 0 TPU cores\n",
      "HPU available: False, using: 0 HPUs\n"
     ]
    },
    {
     "name": "stdout",
     "output_type": "stream",
     "text": [
      "\n",
      "Predicting DataLoader 0: 100%|██████████████████| 16/16 [00:03<00:00,  4.46it/s]\n",
      "[[9.7877788e-04 9.9902117e-01]\n",
      " [6.1206782e-04 9.9938786e-01]\n",
      " [3.8705012e-03 9.9612951e-01]\n",
      " ...\n",
      " [2.3477790e-01 7.6522207e-01]\n",
      " [6.9913538e-03 9.9300861e-01]\n",
      " [1.2251738e-02 9.8774827e-01]]\n"
     ]
    },
    {
     "name": "stderr",
     "output_type": "stream",
     "text": [
      "GPU available: True (mps), used: False\n",
      "TPU available: False, using: 0 TPU cores\n",
      "HPU available: False, using: 0 HPUs\n"
     ]
    },
    {
     "name": "stdout",
     "output_type": "stream",
     "text": [
      "Predicting DataLoader 0: 100%|██████████████████| 16/16 [00:03<00:00,  4.41it/s]\n"
     ]
    },
    {
     "name": "stderr",
     "output_type": "stream",
     "text": [
      "GPU available: True (mps), used: False\n",
      "TPU available: False, using: 0 TPU cores\n",
      "HPU available: False, using: 0 HPUs\n"
     ]
    },
    {
     "name": "stdout",
     "output_type": "stream",
     "text": [
      "Predicting DataLoader 0: 100%|██████████████████| 16/16 [00:03<00:00,  4.67it/s]\n",
      "[[2.4829758e-04 9.9975175e-01]\n",
      " [2.1631045e-04 9.9978369e-01]\n",
      " [6.0584472e-04 9.9939418e-01]\n",
      " ...\n",
      " [7.1326860e-05 9.9992871e-01]\n",
      " [1.9641058e-05 9.9998033e-01]\n",
      " [2.3153361e-05 9.9997687e-01]]\n"
     ]
    },
    {
     "name": "stderr",
     "output_type": "stream",
     "text": [
      "GPU available: True (mps), used: False\n",
      "TPU available: False, using: 0 TPU cores\n",
      "HPU available: False, using: 0 HPUs\n"
     ]
    },
    {
     "name": "stdout",
     "output_type": "stream",
     "text": [
      "Predicting DataLoader 0: 100%|██████████████████| 16/16 [00:03<00:00,  4.58it/s]"
     ]
    },
    {
     "name": "stderr",
     "output_type": "stream",
     "text": [
      "GPU available: True (mps), used: False\n",
      "TPU available: False, using: 0 TPU cores\n",
      "HPU available: False, using: 0 HPUs\n"
     ]
    },
    {
     "name": "stdout",
     "output_type": "stream",
     "text": [
      "\n",
      "Predicting DataLoader 0: 100%|██████████████████| 16/16 [00:03<00:00,  4.62it/s]\n",
      "[[1.0238532e-03 9.9897611e-01]\n",
      " [2.1085278e-03 9.9789149e-01]\n",
      " [1.7584933e-03 9.9824154e-01]\n",
      " ...\n",
      " [2.3279665e-02 9.7672039e-01]\n",
      " [1.8936157e-04 9.9981064e-01]\n",
      " [1.3990769e-04 9.9986005e-01]]\n"
     ]
    },
    {
     "name": "stderr",
     "output_type": "stream",
     "text": [
      "GPU available: True (mps), used: False\n",
      "TPU available: False, using: 0 TPU cores\n",
      "HPU available: False, using: 0 HPUs\n"
     ]
    },
    {
     "name": "stdout",
     "output_type": "stream",
     "text": [
      "Predicting DataLoader 0: 100%|██████████████████| 16/16 [00:03<00:00,  4.62it/s]\n"
     ]
    },
    {
     "name": "stderr",
     "output_type": "stream",
     "text": [
      "GPU available: True (mps), used: False\n",
      "TPU available: False, using: 0 TPU cores\n",
      "HPU available: False, using: 0 HPUs\n"
     ]
    },
    {
     "name": "stdout",
     "output_type": "stream",
     "text": [
      "Predicting DataLoader 0: 100%|██████████████████| 16/16 [00:03<00:00,  4.10it/s]"
     ]
    },
    {
     "name": "stderr",
     "output_type": "stream",
     "text": [
      "GPU available: True (mps), used: False\n",
      "TPU available: False, using: 0 TPU cores\n",
      "HPU available: False, using: 0 HPUs\n"
     ]
    },
    {
     "name": "stdout",
     "output_type": "stream",
     "text": [
      "\n",
      "[[3.1158511e-04 9.9968839e-01]\n",
      " [9.3601993e-05 9.9990642e-01]\n",
      " [2.0682557e-04 9.9979323e-01]\n",
      " ...\n",
      " [3.4462297e-04 9.9965537e-01]\n",
      " [1.1734400e-04 9.9988270e-01]\n",
      " [7.7352066e-05 9.9992263e-01]]\n",
      "Predicting DataLoader 0: 100%|██████████████████| 16/16 [00:04<00:00,  3.91it/s]"
     ]
    },
    {
     "name": "stderr",
     "output_type": "stream",
     "text": [
      "GPU available: True (mps), used: False\n",
      "TPU available: False, using: 0 TPU cores\n",
      "HPU available: False, using: 0 HPUs\n"
     ]
    },
    {
     "name": "stdout",
     "output_type": "stream",
     "text": [
      "\n",
      "8\n",
      "Predicting DataLoader 0: 100%|██████████████████| 16/16 [00:03<00:00,  4.09it/s]\n",
      "[[4.2424224e-02 9.5757580e-01]\n",
      " [1.2792379e-03 9.9872071e-01]\n",
      " [2.1595657e-02 9.7840434e-01]\n",
      " ...\n",
      " [5.8020428e-03 9.9419796e-01]\n",
      " [4.5274348e-05 9.9995470e-01]\n",
      " [5.1834584e-05 9.9994814e-01]]\n"
     ]
    },
    {
     "name": "stderr",
     "output_type": "stream",
     "text": [
      "GPU available: True (mps), used: False\n",
      "TPU available: False, using: 0 TPU cores\n",
      "HPU available: False, using: 0 HPUs\n"
     ]
    },
    {
     "name": "stdout",
     "output_type": "stream",
     "text": [
      "Predicting DataLoader 0: 100%|██████████████████| 16/16 [00:04<00:00,  3.96it/s]"
     ]
    },
    {
     "name": "stderr",
     "output_type": "stream",
     "text": [
      "GPU available: True (mps), used: False\n",
      "TPU available: False, using: 0 TPU cores\n",
      "HPU available: False, using: 0 HPUs\n"
     ]
    },
    {
     "name": "stdout",
     "output_type": "stream",
     "text": [
      "\n",
      "Predicting DataLoader 0: 100%|██████████████████| 16/16 [00:03<00:00,  4.15it/s]"
     ]
    },
    {
     "name": "stderr",
     "output_type": "stream",
     "text": [
      "GPU available: True (mps), used: False\n",
      "TPU available: False, using: 0 TPU cores\n",
      "HPU available: False, using: 0 HPUs\n"
     ]
    },
    {
     "name": "stdout",
     "output_type": "stream",
     "text": [
      "\n",
      "[[0.02575408 0.9742459 ]\n",
      " [0.00320103 0.996799  ]\n",
      " [0.01405246 0.9859475 ]\n",
      " ...\n",
      " [0.03452725 0.9654727 ]\n",
      " [0.00605837 0.99394166]\n",
      " [0.00294557 0.99705446]]\n",
      "Predicting DataLoader 0: 100%|██████████████████| 16/16 [00:03<00:00,  4.11it/s]\n"
     ]
    },
    {
     "name": "stderr",
     "output_type": "stream",
     "text": [
      "GPU available: True (mps), used: False\n",
      "TPU available: False, using: 0 TPU cores\n",
      "HPU available: False, using: 0 HPUs\n"
     ]
    },
    {
     "name": "stdout",
     "output_type": "stream",
     "text": [
      "Predicting DataLoader 0: 100%|██████████████████| 16/16 [00:03<00:00,  4.22it/s]\n",
      "[[2.2153240e-03 9.9778467e-01]\n",
      " [8.2248545e-05 9.9991775e-01]\n",
      " [8.2057732e-04 9.9917942e-01]\n",
      " ...\n",
      " [1.8972665e-04 9.9981028e-01]\n",
      " [1.9136214e-05 9.9998081e-01]\n",
      " [1.8822446e-05 9.9998116e-01]]\n"
     ]
    },
    {
     "name": "stderr",
     "output_type": "stream",
     "text": [
      "GPU available: True (mps), used: False\n",
      "TPU available: False, using: 0 TPU cores\n",
      "HPU available: False, using: 0 HPUs\n"
     ]
    },
    {
     "name": "stdout",
     "output_type": "stream",
     "text": [
      "Predicting DataLoader 0: 100%|██████████████████| 16/16 [00:03<00:00,  4.15it/s]\n"
     ]
    },
    {
     "name": "stderr",
     "output_type": "stream",
     "text": [
      "GPU available: True (mps), used: False\n",
      "TPU available: False, using: 0 TPU cores\n",
      "HPU available: False, using: 0 HPUs\n"
     ]
    },
    {
     "name": "stdout",
     "output_type": "stream",
     "text": [
      "Predicting DataLoader 0: 100%|██████████████████| 16/16 [00:03<00:00,  4.31it/s]"
     ]
    },
    {
     "name": "stderr",
     "output_type": "stream",
     "text": [
      "GPU available: True (mps), used: False\n",
      "TPU available: False, using: 0 TPU cores\n",
      "HPU available: False, using: 0 HPUs\n"
     ]
    },
    {
     "name": "stdout",
     "output_type": "stream",
     "text": [
      "\n",
      "[[0.17292786 0.82707214]\n",
      " [0.00181362 0.9981864 ]\n",
      " [0.01523555 0.9847645 ]\n",
      " ...\n",
      " [0.13155317 0.8684469 ]\n",
      " [0.02180956 0.9781904 ]\n",
      " [0.00539629 0.9946037 ]]\n",
      "Predicting DataLoader 0: 100%|██████████████████| 16/16 [00:03<00:00,  4.02it/s]"
     ]
    },
    {
     "name": "stderr",
     "output_type": "stream",
     "text": [
      "GPU available: True (mps), used: False\n",
      "TPU available: False, using: 0 TPU cores\n",
      "HPU available: False, using: 0 HPUs\n"
     ]
    },
    {
     "name": "stdout",
     "output_type": "stream",
     "text": [
      "\n",
      "Predicting DataLoader 0: 100%|██████████████████| 16/16 [00:03<00:00,  4.22it/s]\n",
      "[[2.8173359e-02 9.7182661e-01]\n",
      " [5.1972922e-04 9.9948031e-01]\n",
      " [2.1027865e-02 9.7897220e-01]\n",
      " ...\n",
      " [7.9098949e-03 9.9209011e-01]\n",
      " [7.0577167e-04 9.9929416e-01]\n",
      " [5.1051623e-04 9.9948943e-01]]\n"
     ]
    },
    {
     "name": "stderr",
     "output_type": "stream",
     "text": [
      "GPU available: True (mps), used: False\n",
      "TPU available: False, using: 0 TPU cores\n",
      "HPU available: False, using: 0 HPUs\n"
     ]
    },
    {
     "name": "stdout",
     "output_type": "stream",
     "text": [
      "Predicting DataLoader 0: 100%|██████████████████| 16/16 [00:03<00:00,  4.36it/s]"
     ]
    },
    {
     "name": "stderr",
     "output_type": "stream",
     "text": [
      "GPU available: True (mps), used: False\n",
      "TPU available: False, using: 0 TPU cores\n",
      "HPU available: False, using: 0 HPUs\n"
     ]
    },
    {
     "name": "stdout",
     "output_type": "stream",
     "text": [
      "\n",
      "9\n",
      "Predicting DataLoader 0: 100%|██████████████████| 16/16 [00:04<00:00,  3.86it/s]"
     ]
    },
    {
     "name": "stderr",
     "output_type": "stream",
     "text": [
      "GPU available: True (mps), used: False\n",
      "TPU available: False, using: 0 TPU cores\n",
      "HPU available: False, using: 0 HPUs\n"
     ]
    },
    {
     "name": "stdout",
     "output_type": "stream",
     "text": [
      "\n",
      "[[6.2644887e-03 9.9373549e-01]\n",
      " [1.5227478e-03 9.9847728e-01]\n",
      " [6.3627539e-03 9.9363732e-01]\n",
      " ...\n",
      " [1.7455410e-03 9.9825448e-01]\n",
      " [7.6274120e-04 9.9923730e-01]\n",
      " [5.6854717e-04 9.9943143e-01]]\n",
      "Predicting DataLoader 0: 100%|██████████████████| 16/16 [00:03<00:00,  4.01it/s]\n"
     ]
    },
    {
     "name": "stderr",
     "output_type": "stream",
     "text": [
      "GPU available: True (mps), used: False\n",
      "TPU available: False, using: 0 TPU cores\n",
      "HPU available: False, using: 0 HPUs\n"
     ]
    },
    {
     "name": "stdout",
     "output_type": "stream",
     "text": [
      "Predicting DataLoader 0: 100%|██████████████████| 16/16 [00:04<00:00,  3.87it/s]\n",
      "[[5.3383583e-01 4.6616414e-01]\n",
      " [3.1439878e-02 9.6856010e-01]\n",
      " [2.6895127e-01 7.3104864e-01]\n",
      " ...\n",
      " [1.6696437e-03 9.9833041e-01]\n",
      " [2.9466787e-04 9.9970526e-01]\n",
      " [5.7482783e-04 9.9942517e-01]]\n"
     ]
    },
    {
     "name": "stderr",
     "output_type": "stream",
     "text": [
      "GPU available: True (mps), used: False\n",
      "TPU available: False, using: 0 TPU cores\n",
      "HPU available: False, using: 0 HPUs\n"
     ]
    },
    {
     "name": "stdout",
     "output_type": "stream",
     "text": [
      "Predicting DataLoader 0: 100%|██████████████████| 16/16 [00:04<00:00,  3.86it/s]"
     ]
    },
    {
     "name": "stderr",
     "output_type": "stream",
     "text": [
      "GPU available: True (mps), used: False\n",
      "TPU available: False, using: 0 TPU cores\n",
      "HPU available: False, using: 0 HPUs\n"
     ]
    },
    {
     "name": "stdout",
     "output_type": "stream",
     "text": [
      "\n",
      "Predicting DataLoader 0: 100%|██████████████████| 16/16 [00:04<00:00,  3.57it/s]"
     ]
    },
    {
     "name": "stderr",
     "output_type": "stream",
     "text": [
      "GPU available: True (mps), used: False\n",
      "TPU available: False, using: 0 TPU cores\n",
      "HPU available: False, using: 0 HPUs\n"
     ]
    },
    {
     "name": "stdout",
     "output_type": "stream",
     "text": [
      "\n",
      "[[1.9607606e-04 9.9980396e-01]\n",
      " [4.9380247e-05 9.9995065e-01]\n",
      " [2.2454694e-04 9.9977547e-01]\n",
      " ...\n",
      " [8.2993793e-04 9.9917006e-01]\n",
      " [3.2441596e-05 9.9996758e-01]\n",
      " [2.8483097e-05 9.9997151e-01]]\n",
      "Predicting DataLoader 0: 100%|██████████████████| 16/16 [00:03<00:00,  4.39it/s]\n"
     ]
    },
    {
     "name": "stderr",
     "output_type": "stream",
     "text": [
      "GPU available: True (mps), used: False\n",
      "TPU available: False, using: 0 TPU cores\n",
      "HPU available: False, using: 0 HPUs\n"
     ]
    },
    {
     "name": "stdout",
     "output_type": "stream",
     "text": [
      "Predicting DataLoader 0: 100%|██████████████████| 16/16 [00:04<00:00,  3.57it/s]"
     ]
    },
    {
     "name": "stderr",
     "output_type": "stream",
     "text": [
      "GPU available: True (mps), used: False\n",
      "TPU available: False, using: 0 TPU cores\n",
      "HPU available: False, using: 0 HPUs\n"
     ]
    },
    {
     "name": "stdout",
     "output_type": "stream",
     "text": [
      "\n",
      "[[1.6815813e-02 9.8318416e-01]\n",
      " [1.8771108e-03 9.9812287e-01]\n",
      " [2.0572236e-03 9.9794275e-01]\n",
      " ...\n",
      " [8.7594130e-04 9.9912411e-01]\n",
      " [8.9893125e-05 9.9991012e-01]\n",
      " [7.9921389e-05 9.9992013e-01]]\n",
      "Predicting DataLoader 0: 100%|██████████████████| 16/16 [00:03<00:00,  4.24it/s]\n"
     ]
    },
    {
     "name": "stderr",
     "output_type": "stream",
     "text": [
      "GPU available: True (mps), used: False\n",
      "TPU available: False, using: 0 TPU cores\n",
      "HPU available: False, using: 0 HPUs\n"
     ]
    },
    {
     "name": "stdout",
     "output_type": "stream",
     "text": [
      "Predicting DataLoader 0: 100%|██████████████████| 16/16 [00:03<00:00,  4.29it/s]"
     ]
    },
    {
     "name": "stderr",
     "output_type": "stream",
     "text": [
      "GPU available: True (mps), used: False\n",
      "TPU available: False, using: 0 TPU cores\n",
      "HPU available: False, using: 0 HPUs\n"
     ]
    },
    {
     "name": "stdout",
     "output_type": "stream",
     "text": [
      "\n",
      "[[5.1976912e-02 9.4802308e-01]\n",
      " [9.3522975e-03 9.9064773e-01]\n",
      " [5.8395900e-02 9.4160414e-01]\n",
      " ...\n",
      " [2.4165774e-03 9.9758339e-01]\n",
      " [1.4700348e-04 9.9985301e-01]\n",
      " [2.4597612e-04 9.9975401e-01]]\n",
      "Predicting DataLoader 0: 100%|██████████████████| 16/16 [00:03<00:00,  4.06it/s]"
     ]
    },
    {
     "name": "stderr",
     "output_type": "stream",
     "text": [
      "GPU available: True (mps), used: False\n",
      "TPU available: False, using: 0 TPU cores\n",
      "HPU available: False, using: 0 HPUs\n",
      "/opt/anaconda3/envs/env_gait_new/lib/python3.13/site-packages/pytorch_lightning/trainer/setup.py:177: GPU available but not used. You can set it by doing `Trainer(accelerator='gpu')`.\n",
      "/opt/anaconda3/envs/env_gait_new/lib/python3.13/site-packages/pytorch_lightning/trainer/connectors/data_connector.py:425: The 'predict_dataloader' does not have many workers which may be a bottleneck. Consider increasing the value of the `num_workers` argument` to `num_workers=13` in the `DataLoader` to improve performance.\n"
     ]
    },
    {
     "name": "stdout",
     "output_type": "stream",
     "text": [
      "\n",
      "cycles\n",
      "Accuracy:\n",
      "Accuracy_list: [0.7519762845849802, 0.7895256916996047, 0.7490118577075099, 0.8231225296442688, 0.8023715415019763, 0.808300395256917, 0.775691699604743, 0.8290513833992095, 0.7747035573122529, 0.8270750988142292]\n",
      "Accuracy_mean: 0.7930830039525691\n",
      "Accuracy_std: 0.028203457535393453\n",
      "---\n",
      "Confusion matrix\n",
      "Confusion matrix mean: [[ 96.9 102.1]\n",
      " [107.3 705.7]]\n",
      "Confusion matrix std: [[17.88546896 17.88546896]\n",
      " [39.09488458 39.09488458]]\n",
      "---\n",
      "F1\n",
      "F1_list: [0.8343234323432344, 0.8692449355432781, 0.8416458852867831, 0.8921036769138035, 0.8751560549313359, 0.8814180929095354, 0.858213616489694, 0.9004029936672424, 0.8564231738035264, 0.8930971288943189]\n",
      "F1_mean: 0.8702028990782752\n",
      "F1_std: 0.02122152317125275\n",
      "---\n",
      "Sensitivity\n",
      "Sensitivity list: [0.7773677736777368, 0.8708487084870848, 0.8302583025830258, 0.9102091020910209, 0.8622386223862238, 0.8868388683886839, 0.8450184501845018, 0.9618696186961869, 0.8364083640836408, 0.8991389913899139]\n",
      "Sensitivity mean: 0.868019680196802\n",
      "Sensitivity std: 0.04808718890019969\n",
      "---\n",
      "Specificity\n",
      "Specificity list: [0.6482412060301508, 0.457286432160804, 0.41708542713567837, 0.46733668341708545, 0.5577889447236181, 0.48743718592964824, 0.49246231155778897, 0.2864321608040201, 0.5226130653266332, 0.5326633165829145]\n",
      "Specificity mean: 0.48693467336683416\n",
      "Specificity std: 0.08987672845357264\n",
      "---\n",
      "AUC\n",
      "AUC list: [np.float64(0.7128044898539438), np.float64(0.6640675703239445), np.float64(0.6236718648593522), np.float64(0.6887728927540532), np.float64(0.7100137835549211), np.float64(0.687138027159166), np.float64(0.6687403808711454), np.float64(0.6241508897501036), np.float64(0.679510714705137), np.float64(0.7159011539864142)]\n",
      "AUC mean: 0.6774771767818182\n",
      "AUC std: 0.031627465891294185\n",
      "[ 3 17 13  6  2  0 11 10 14 20 19]\n",
      "[ 8 21  9  7 12  5 16  4  1 18 15]\n",
      "[[[  9.83950043   9.7201004    9.6335001  ...   9.47509956   9.24769974\n",
      "     9.04039955]\n",
      "  [  0.           0.           0.         ...   0.           0.\n",
      "     0.        ]\n",
      "  [ -1.16919994  -0.93102998  -0.73694998 ...  -2.81369996  -2.54369998\n",
      "    -2.28780007]\n",
      "  ...\n",
      "  [  6.59590006   6.85389996   6.91020012 ...   4.11780024   3.96300006\n",
      "     3.72989988]\n",
      "  [ -2.87540007  -3.09050012  -3.13870001 ...  -6.00860023  -6.19229984\n",
      "    -6.19449997]\n",
      "  [  0.           0.           0.         ...   0.           0.\n",
      "     0.        ]]\n",
      "\n",
      " [[  9.04039955   8.82820034   8.66639996 ...  13.4090004   13.08100033\n",
      "    12.73579979]\n",
      "  [  0.           0.           0.         ...   0.           0.\n",
      "     0.        ]\n",
      "  [ -2.28780007  -2.0000999   -1.73239994 ...   0.29835001   0.66356999\n",
      "     0.96999002]\n",
      "  ...\n",
      "  [  3.72989988   3.39369988   3.03649998 ...   6.45079994   6.55550003\n",
      "     6.6479001 ]\n",
      "  [ -6.19449997  -5.98360014  -5.56080008 ...  -0.67334002  -1.16170001\n",
      "    -1.42040002]\n",
      "  [  0.           0.           0.         ...   0.           0.\n",
      "     0.        ]]\n",
      "\n",
      " [[ 12.73579979  12.3743      12.02490044 ...  13.14729977  13.28199959\n",
      "    13.39649963]\n",
      "  [  0.           0.           0.         ...   0.           0.\n",
      "     0.        ]\n",
      "  [  0.96999002   1.21790004   1.39240003 ...  -4.01039982  -3.38490009\n",
      "    -2.79150009]\n",
      "  ...\n",
      "  [  6.6479001    6.73810005   6.82439995 ...   7.01910019   6.39529991\n",
      "     5.66690016]\n",
      "  [ -1.42040002  -1.42649996  -1.1559     ...  -8.71049976  -8.20170021\n",
      "    -7.52470016]\n",
      "  [  0.           0.           0.         ...   0.           0.\n",
      "     0.        ]]\n",
      "\n",
      " ...\n",
      "\n",
      " [[  9.05691338   9.13669917   9.23606081 ...   7.36619649   7.32759291\n",
      "     7.31393051]\n",
      "  [  0.           0.           0.         ...   0.           0.\n",
      "     0.        ]\n",
      "  [ -0.25563049  -0.03299539   0.10221714 ...   0.45000841   0.81062224\n",
      "     1.0625    ]\n",
      "  ...\n",
      "  [-11.66077232 -11.21641397 -10.77093315 ...  -9.92506886  -9.91634154\n",
      "   -10.03190708]\n",
      "  [ -0.747958    -1.41423312  -2.03653711 ...   0.04937897  -0.35683405\n",
      "    -0.90318918]\n",
      "  [  0.           0.           0.         ...   0.           0.\n",
      "     0.        ]]\n",
      "\n",
      " [[  6.8161087    6.87623537   6.95617437 ...   7.85265207   7.88564551\n",
      "     7.94625521]\n",
      "  [  0.           0.           0.         ...   0.           0.\n",
      "     0.        ]\n",
      "  [  3.44317675   3.45034415   3.40573382 ...   4.15106654   4.26863968\n",
      "     4.29744148]\n",
      "  ...\n",
      "  [-11.46577263 -11.34519873 -11.05035564 ... -10.0489595  -10.01380011\n",
      "    -9.94277   ]\n",
      "  [ -1.53428268  -2.07355649  -2.47931242 ...  -0.39021882  -0.86852482\n",
      "    -1.44324255]\n",
      "  [  0.           0.           0.         ...   0.           0.\n",
      "     0.        ]]\n",
      "\n",
      " [[  8.01304817   8.1131053    8.22476149 ...   8.72506189   8.75647759\n",
      "     8.8262291 ]\n",
      "  [  0.           0.           0.         ...   0.           0.\n",
      "     0.        ]\n",
      "  [  4.25260067   4.11858809   3.91508925 ...   5.47567677   5.7080189\n",
      "     5.81002951]\n",
      "  ...\n",
      "  [ -9.8817482   -9.80164267  -9.68827084 ... -12.91687958 -13.27013899\n",
      "   -13.56380463]\n",
      "  [ -1.95035565  -2.51186775  -2.86611046 ...  -1.64764873  -2.1852711\n",
      "    -2.83439612]\n",
      "  [  0.           0.           0.         ...   0.           0.\n",
      "     0.        ]]]\n",
      "0\n",
      "Predicting DataLoader 0:   6%|█▏                 | 1/16 [00:00<00:05,  2.94it/s]"
     ]
    },
    {
     "name": "stderr",
     "output_type": "stream",
     "text": [
      "/opt/anaconda3/envs/env_gait_new/lib/python3.13/site-packages/torch/nn/modules/module.py:1739: UserWarning: Implicit dimension choice for softmax has been deprecated. Change the call to include dim=X as an argument.\n",
      "  return self._call_impl(*args, **kwargs)\n"
     ]
    },
    {
     "name": "stdout",
     "output_type": "stream",
     "text": [
      "Predicting DataLoader 0: 100%|██████████████████| 16/16 [00:05<00:00,  3.01it/s]"
     ]
    },
    {
     "name": "stderr",
     "output_type": "stream",
     "text": [
      "GPU available: True (mps), used: False\n",
      "TPU available: False, using: 0 TPU cores\n",
      "HPU available: False, using: 0 HPUs\n"
     ]
    },
    {
     "name": "stdout",
     "output_type": "stream",
     "text": [
      "\n",
      "[[0.7074124  0.2925876 ]\n",
      " [0.6879186  0.3120814 ]\n",
      " [0.5468084  0.4531916 ]\n",
      " ...\n",
      " [0.0425906  0.95740944]\n",
      " [0.01564468 0.98435533]\n",
      " [0.03861256 0.9613874 ]]\n",
      "Predicting DataLoader 0: 100%|██████████████████| 16/16 [00:05<00:00,  3.01it/s]"
     ]
    },
    {
     "name": "stderr",
     "output_type": "stream",
     "text": [
      "GPU available: True (mps), used: False\n",
      "TPU available: False, using: 0 TPU cores\n",
      "HPU available: False, using: 0 HPUs\n"
     ]
    },
    {
     "name": "stdout",
     "output_type": "stream",
     "text": [
      "\n",
      "Predicting DataLoader 0: 100%|██████████████████| 16/16 [00:05<00:00,  2.99it/s]"
     ]
    },
    {
     "name": "stderr",
     "output_type": "stream",
     "text": [
      "GPU available: True (mps), used: False\n",
      "TPU available: False, using: 0 TPU cores\n",
      "HPU available: False, using: 0 HPUs\n"
     ]
    },
    {
     "name": "stdout",
     "output_type": "stream",
     "text": [
      "\n",
      "[[0.10582071 0.8941793 ]\n",
      " [0.19803949 0.8019605 ]\n",
      " [0.50780183 0.49219817]\n",
      " ...\n",
      " [0.04939673 0.95060325]\n",
      " [0.01787914 0.98212093]\n",
      " [0.02507624 0.9749238 ]]\n",
      "Predicting DataLoader 0: 100%|██████████████████| 16/16 [00:05<00:00,  3.01it/s]"
     ]
    },
    {
     "name": "stderr",
     "output_type": "stream",
     "text": [
      "GPU available: True (mps), used: False\n",
      "TPU available: False, using: 0 TPU cores\n",
      "HPU available: False, using: 0 HPUs\n"
     ]
    },
    {
     "name": "stdout",
     "output_type": "stream",
     "text": [
      "\n",
      "Predicting DataLoader 0: 100%|██████████████████| 16/16 [00:05<00:00,  3.02it/s]"
     ]
    },
    {
     "name": "stderr",
     "output_type": "stream",
     "text": [
      "GPU available: True (mps), used: False\n",
      "TPU available: False, using: 0 TPU cores\n",
      "HPU available: False, using: 0 HPUs\n"
     ]
    },
    {
     "name": "stdout",
     "output_type": "stream",
     "text": [
      "\n",
      "[[0.33575037 0.66424966]\n",
      " [0.47968864 0.5203113 ]\n",
      " [0.7382162  0.26178378]\n",
      " ...\n",
      " [0.01266472 0.98733526]\n",
      " [0.00624652 0.9937535 ]\n",
      " [0.00684149 0.9931585 ]]\n",
      "Predicting DataLoader 0: 100%|██████████████████| 16/16 [00:05<00:00,  3.02it/s]"
     ]
    },
    {
     "name": "stderr",
     "output_type": "stream",
     "text": [
      "GPU available: True (mps), used: False\n",
      "TPU available: False, using: 0 TPU cores\n",
      "HPU available: False, using: 0 HPUs\n"
     ]
    },
    {
     "name": "stdout",
     "output_type": "stream",
     "text": [
      "\n",
      "Predicting DataLoader 0: 100%|██████████████████| 16/16 [00:05<00:00,  3.03it/s]"
     ]
    },
    {
     "name": "stderr",
     "output_type": "stream",
     "text": [
      "GPU available: True (mps), used: False\n",
      "TPU available: False, using: 0 TPU cores\n",
      "HPU available: False, using: 0 HPUs\n"
     ]
    },
    {
     "name": "stdout",
     "output_type": "stream",
     "text": [
      "\n",
      "[[0.4175215  0.58247846]\n",
      " [0.2754481  0.72455186]\n",
      " [0.66505456 0.3349454 ]\n",
      " ...\n",
      " [0.01253468 0.9874653 ]\n",
      " [0.00540514 0.9945949 ]\n",
      " [0.00592009 0.9940799 ]]\n",
      "Predicting DataLoader 0: 100%|██████████████████| 16/16 [00:05<00:00,  3.01it/s]"
     ]
    },
    {
     "name": "stderr",
     "output_type": "stream",
     "text": [
      "GPU available: True (mps), used: False\n",
      "TPU available: False, using: 0 TPU cores\n",
      "HPU available: False, using: 0 HPUs\n"
     ]
    },
    {
     "name": "stdout",
     "output_type": "stream",
     "text": [
      "\n",
      "Predicting DataLoader 0: 100%|██████████████████| 16/16 [00:05<00:00,  3.00it/s]"
     ]
    },
    {
     "name": "stderr",
     "output_type": "stream",
     "text": [
      "GPU available: True (mps), used: False\n",
      "TPU available: False, using: 0 TPU cores\n",
      "HPU available: False, using: 0 HPUs\n"
     ]
    },
    {
     "name": "stdout",
     "output_type": "stream",
     "text": [
      "\n",
      "[[0.25000092 0.7499991 ]\n",
      " [0.06096056 0.9390394 ]\n",
      " [0.40538248 0.5946175 ]\n",
      " ...\n",
      " [0.00877873 0.9912212 ]\n",
      " [0.00553617 0.99446386]\n",
      " [0.00922842 0.99077153]]\n",
      "Predicting DataLoader 0: 100%|██████████████████| 16/16 [00:05<00:00,  3.00it/s]"
     ]
    },
    {
     "name": "stderr",
     "output_type": "stream",
     "text": [
      "GPU available: True (mps), used: False\n",
      "TPU available: False, using: 0 TPU cores\n",
      "HPU available: False, using: 0 HPUs\n"
     ]
    },
    {
     "name": "stdout",
     "output_type": "stream",
     "text": [
      "\n",
      "1\n",
      "Predicting DataLoader 0: 100%|██████████████████| 16/16 [00:05<00:00,  3.00it/s]"
     ]
    },
    {
     "name": "stderr",
     "output_type": "stream",
     "text": [
      "GPU available: True (mps), used: False\n",
      "TPU available: False, using: 0 TPU cores\n",
      "HPU available: False, using: 0 HPUs\n"
     ]
    },
    {
     "name": "stdout",
     "output_type": "stream",
     "text": [
      "\n",
      "[[0.8848341  0.11516584]\n",
      " [0.83603126 0.16396874]\n",
      " [0.9760944  0.02390563]\n",
      " ...\n",
      " [0.12783554 0.87216437]\n",
      " [0.03548058 0.96451944]\n",
      " [0.10204408 0.8979559 ]]\n",
      "Predicting DataLoader 0: 100%|██████████████████| 16/16 [00:05<00:00,  3.00it/s]"
     ]
    },
    {
     "name": "stderr",
     "output_type": "stream",
     "text": [
      "GPU available: True (mps), used: False\n",
      "TPU available: False, using: 0 TPU cores\n",
      "HPU available: False, using: 0 HPUs\n"
     ]
    },
    {
     "name": "stdout",
     "output_type": "stream",
     "text": [
      "\n",
      "Predicting DataLoader 0: 100%|██████████████████| 16/16 [00:05<00:00,  3.00it/s]"
     ]
    },
    {
     "name": "stderr",
     "output_type": "stream",
     "text": [
      "GPU available: True (mps), used: False\n",
      "TPU available: False, using: 0 TPU cores\n",
      "HPU available: False, using: 0 HPUs\n"
     ]
    },
    {
     "name": "stdout",
     "output_type": "stream",
     "text": [
      "\n",
      "[[0.2854077  0.7145923 ]\n",
      " [0.23483546 0.7651645 ]\n",
      " [0.16987848 0.8301215 ]\n",
      " ...\n",
      " [0.01135076 0.98864925]\n",
      " [0.00539996 0.99460006]\n",
      " [0.01412003 0.98587996]]\n",
      "Predicting DataLoader 0: 100%|██████████████████| 16/16 [00:05<00:00,  2.98it/s]"
     ]
    },
    {
     "name": "stderr",
     "output_type": "stream",
     "text": [
      "GPU available: True (mps), used: False\n",
      "TPU available: False, using: 0 TPU cores\n",
      "HPU available: False, using: 0 HPUs\n"
     ]
    },
    {
     "name": "stdout",
     "output_type": "stream",
     "text": [
      "\n",
      "Predicting DataLoader 0: 100%|██████████████████| 16/16 [00:05<00:00,  2.97it/s]"
     ]
    },
    {
     "name": "stderr",
     "output_type": "stream",
     "text": [
      "GPU available: True (mps), used: False\n",
      "TPU available: False, using: 0 TPU cores\n",
      "HPU available: False, using: 0 HPUs\n"
     ]
    },
    {
     "name": "stdout",
     "output_type": "stream",
     "text": [
      "\n",
      "[[0.07733506 0.922665  ]\n",
      " [0.01660397 0.983396  ]\n",
      " [0.11102472 0.88897526]\n",
      " ...\n",
      " [0.00459992 0.99540013]\n",
      " [0.00140811 0.99859184]\n",
      " [0.0034207  0.99657935]]\n",
      "Predicting DataLoader 0: 100%|██████████████████| 16/16 [00:05<00:00,  3.00it/s]"
     ]
    },
    {
     "name": "stderr",
     "output_type": "stream",
     "text": [
      "GPU available: True (mps), used: False\n",
      "TPU available: False, using: 0 TPU cores\n",
      "HPU available: False, using: 0 HPUs\n"
     ]
    },
    {
     "name": "stdout",
     "output_type": "stream",
     "text": [
      "\n",
      "Predicting DataLoader 0: 100%|██████████████████| 16/16 [00:05<00:00,  3.00it/s]"
     ]
    },
    {
     "name": "stderr",
     "output_type": "stream",
     "text": [
      "GPU available: True (mps), used: False\n",
      "TPU available: False, using: 0 TPU cores\n",
      "HPU available: False, using: 0 HPUs\n"
     ]
    },
    {
     "name": "stdout",
     "output_type": "stream",
     "text": [
      "\n",
      "[[6.4377064e-01 3.5622942e-01]\n",
      " [5.3987724e-01 4.6012273e-01]\n",
      " [8.4389335e-01 1.5610667e-01]\n",
      " ...\n",
      " [1.5382087e-03 9.9846184e-01]\n",
      " [9.2062802e-04 9.9907935e-01]\n",
      " [1.2839730e-03 9.9871600e-01]]\n",
      "Predicting DataLoader 0: 100%|██████████████████| 16/16 [00:05<00:00,  3.03it/s]"
     ]
    },
    {
     "name": "stderr",
     "output_type": "stream",
     "text": [
      "GPU available: True (mps), used: False\n",
      "TPU available: False, using: 0 TPU cores\n",
      "HPU available: False, using: 0 HPUs\n"
     ]
    },
    {
     "name": "stdout",
     "output_type": "stream",
     "text": [
      "\n",
      "Predicting DataLoader 0: 100%|██████████████████| 16/16 [00:05<00:00,  3.03it/s]"
     ]
    },
    {
     "name": "stderr",
     "output_type": "stream",
     "text": [
      "GPU available: True (mps), used: False\n",
      "TPU available: False, using: 0 TPU cores\n",
      "HPU available: False, using: 0 HPUs\n"
     ]
    },
    {
     "name": "stdout",
     "output_type": "stream",
     "text": [
      "\n",
      "[[0.9528442  0.04715584]\n",
      " [0.9522054  0.04779462]\n",
      " [0.9164356  0.08356445]\n",
      " ...\n",
      " [0.00373865 0.9962613 ]\n",
      " [0.00173235 0.99826765]\n",
      " [0.00363994 0.99636   ]]\n",
      "Predicting DataLoader 0: 100%|██████████████████| 16/16 [00:05<00:00,  3.00it/s]"
     ]
    },
    {
     "name": "stderr",
     "output_type": "stream",
     "text": [
      "GPU available: True (mps), used: False\n",
      "TPU available: False, using: 0 TPU cores\n",
      "HPU available: False, using: 0 HPUs\n"
     ]
    },
    {
     "name": "stdout",
     "output_type": "stream",
     "text": [
      "\n",
      "2\n",
      "Predicting DataLoader 0: 100%|██████████████████| 16/16 [00:05<00:00,  2.99it/s]"
     ]
    },
    {
     "name": "stderr",
     "output_type": "stream",
     "text": [
      "GPU available: True (mps), used: False\n",
      "TPU available: False, using: 0 TPU cores\n",
      "HPU available: False, using: 0 HPUs\n"
     ]
    },
    {
     "name": "stdout",
     "output_type": "stream",
     "text": [
      "\n",
      "[[0.27623025 0.7237698 ]\n",
      " [0.27107298 0.728927  ]\n",
      " [0.5223084  0.47769156]\n",
      " ...\n",
      " [0.02016731 0.97983265]\n",
      " [0.00621318 0.9937868 ]\n",
      " [0.00729596 0.99270403]]\n",
      "Predicting DataLoader 0: 100%|██████████████████| 16/16 [00:05<00:00,  3.00it/s]"
     ]
    },
    {
     "name": "stderr",
     "output_type": "stream",
     "text": [
      "GPU available: True (mps), used: False\n",
      "TPU available: False, using: 0 TPU cores\n",
      "HPU available: False, using: 0 HPUs\n"
     ]
    },
    {
     "name": "stdout",
     "output_type": "stream",
     "text": [
      "\n",
      "Predicting DataLoader 0: 100%|██████████████████| 16/16 [00:05<00:00,  2.99it/s]"
     ]
    },
    {
     "name": "stderr",
     "output_type": "stream",
     "text": [
      "GPU available: True (mps), used: False\n",
      "TPU available: False, using: 0 TPU cores\n",
      "HPU available: False, using: 0 HPUs\n"
     ]
    },
    {
     "name": "stdout",
     "output_type": "stream",
     "text": [
      "\n",
      "[[0.3858746  0.61412543]\n",
      " [0.14224026 0.8577597 ]\n",
      " [0.7467622  0.25323775]\n",
      " ...\n",
      " [0.45240483 0.5475952 ]\n",
      " [0.0316912  0.96830875]\n",
      " [0.18280081 0.8171991 ]]\n",
      "Predicting DataLoader 0: 100%|██████████████████| 16/16 [00:05<00:00,  2.99it/s]"
     ]
    },
    {
     "name": "stderr",
     "output_type": "stream",
     "text": [
      "GPU available: True (mps), used: False\n",
      "TPU available: False, using: 0 TPU cores\n",
      "HPU available: False, using: 0 HPUs\n"
     ]
    },
    {
     "name": "stdout",
     "output_type": "stream",
     "text": [
      "\n",
      "Predicting DataLoader 0: 100%|██████████████████| 16/16 [00:05<00:00,  3.00it/s]"
     ]
    },
    {
     "name": "stderr",
     "output_type": "stream",
     "text": [
      "GPU available: True (mps), used: False\n",
      "TPU available: False, using: 0 TPU cores\n",
      "HPU available: False, using: 0 HPUs\n"
     ]
    },
    {
     "name": "stdout",
     "output_type": "stream",
     "text": [
      "\n",
      "[[0.57829183 0.42170814]\n",
      " [0.47214505 0.527855  ]\n",
      " [0.64213383 0.3578661 ]\n",
      " ...\n",
      " [0.03742552 0.96257454]\n",
      " [0.00982925 0.9901708 ]\n",
      " [0.014195   0.985805  ]]\n",
      "Predicting DataLoader 0: 100%|██████████████████| 16/16 [00:05<00:00,  2.99it/s]"
     ]
    },
    {
     "name": "stderr",
     "output_type": "stream",
     "text": [
      "GPU available: True (mps), used: False\n",
      "TPU available: False, using: 0 TPU cores\n",
      "HPU available: False, using: 0 HPUs\n"
     ]
    },
    {
     "name": "stdout",
     "output_type": "stream",
     "text": [
      "\n",
      "Predicting DataLoader 0: 100%|██████████████████| 16/16 [00:05<00:00,  3.01it/s]"
     ]
    },
    {
     "name": "stderr",
     "output_type": "stream",
     "text": [
      "GPU available: True (mps), used: False\n",
      "TPU available: False, using: 0 TPU cores\n",
      "HPU available: False, using: 0 HPUs\n"
     ]
    },
    {
     "name": "stdout",
     "output_type": "stream",
     "text": [
      "\n",
      "[[0.6194995  0.38050047]\n",
      " [0.7359116  0.26408836]\n",
      " [0.6389755  0.36102447]\n",
      " ...\n",
      " [0.10940988 0.89059013]\n",
      " [0.02858679 0.97141325]\n",
      " [0.03591203 0.964088  ]]\n",
      "Predicting DataLoader 0: 100%|██████████████████| 16/16 [00:05<00:00,  3.04it/s]"
     ]
    },
    {
     "name": "stderr",
     "output_type": "stream",
     "text": [
      "GPU available: True (mps), used: False\n",
      "TPU available: False, using: 0 TPU cores\n",
      "HPU available: False, using: 0 HPUs\n"
     ]
    },
    {
     "name": "stdout",
     "output_type": "stream",
     "text": [
      "\n",
      "Predicting DataLoader 0: 100%|██████████████████| 16/16 [00:05<00:00,  3.02it/s]"
     ]
    },
    {
     "name": "stderr",
     "output_type": "stream",
     "text": [
      "GPU available: True (mps), used: False\n",
      "TPU available: False, using: 0 TPU cores\n",
      "HPU available: False, using: 0 HPUs\n"
     ]
    },
    {
     "name": "stdout",
     "output_type": "stream",
     "text": [
      "\n",
      "[[0.13140124 0.86859876]\n",
      " [0.5127774  0.48722264]\n",
      " [0.07719368 0.92280626]\n",
      " ...\n",
      " [0.00757365 0.9924264 ]\n",
      " [0.00419148 0.9958085 ]\n",
      " [0.00540016 0.9945998 ]]\n",
      "Predicting DataLoader 0: 100%|██████████████████| 16/16 [00:05<00:00,  3.03it/s]"
     ]
    },
    {
     "name": "stderr",
     "output_type": "stream",
     "text": [
      "GPU available: True (mps), used: False\n",
      "TPU available: False, using: 0 TPU cores\n",
      "HPU available: False, using: 0 HPUs\n"
     ]
    },
    {
     "name": "stdout",
     "output_type": "stream",
     "text": [
      "\n",
      "3\n",
      "Predicting DataLoader 0: 100%|██████████████████| 16/16 [00:05<00:00,  3.02it/s]"
     ]
    },
    {
     "name": "stderr",
     "output_type": "stream",
     "text": [
      "GPU available: True (mps), used: False\n",
      "TPU available: False, using: 0 TPU cores\n",
      "HPU available: False, using: 0 HPUs\n"
     ]
    },
    {
     "name": "stdout",
     "output_type": "stream",
     "text": [
      "\n",
      "[[0.9751389  0.02486112]\n",
      " [0.9460109  0.05398913]\n",
      " [0.98553663 0.01446337]\n",
      " ...\n",
      " [0.0335048  0.9664952 ]\n",
      " [0.01019666 0.9898033 ]\n",
      " [0.02214129 0.9778587 ]]\n",
      "Predicting DataLoader 0: 100%|██████████████████| 16/16 [00:05<00:00,  3.00it/s]"
     ]
    },
    {
     "name": "stderr",
     "output_type": "stream",
     "text": [
      "GPU available: True (mps), used: False\n",
      "TPU available: False, using: 0 TPU cores\n",
      "HPU available: False, using: 0 HPUs\n"
     ]
    },
    {
     "name": "stdout",
     "output_type": "stream",
     "text": [
      "\n",
      "Predicting DataLoader 0: 100%|██████████████████| 16/16 [00:05<00:00,  3.02it/s]"
     ]
    },
    {
     "name": "stderr",
     "output_type": "stream",
     "text": [
      "GPU available: True (mps), used: False\n",
      "TPU available: False, using: 0 TPU cores\n",
      "HPU available: False, using: 0 HPUs\n"
     ]
    },
    {
     "name": "stdout",
     "output_type": "stream",
     "text": [
      "\n",
      "[[9.5001847e-01 4.9981520e-02]\n",
      " [9.1568792e-01 8.4312081e-02]\n",
      " [9.6104985e-01 3.8950127e-02]\n",
      " ...\n",
      " [2.5096734e-03 9.9749029e-01]\n",
      " [8.5084292e-04 9.9914920e-01]\n",
      " [1.2448456e-03 9.9875510e-01]]\n",
      "Predicting DataLoader 0: 100%|██████████████████| 16/16 [00:05<00:00,  3.02it/s]"
     ]
    },
    {
     "name": "stderr",
     "output_type": "stream",
     "text": [
      "GPU available: True (mps), used: False\n",
      "TPU available: False, using: 0 TPU cores\n",
      "HPU available: False, using: 0 HPUs\n"
     ]
    },
    {
     "name": "stdout",
     "output_type": "stream",
     "text": [
      "\n",
      "Predicting DataLoader 0: 100%|██████████████████| 16/16 [00:05<00:00,  3.01it/s]"
     ]
    },
    {
     "name": "stderr",
     "output_type": "stream",
     "text": [
      "GPU available: True (mps), used: False\n",
      "TPU available: False, using: 0 TPU cores\n",
      "HPU available: False, using: 0 HPUs\n"
     ]
    },
    {
     "name": "stdout",
     "output_type": "stream",
     "text": [
      "\n",
      "[[0.2626349  0.7373651 ]\n",
      " [0.20808677 0.79191315]\n",
      " [0.50699645 0.49300352]\n",
      " ...\n",
      " [0.06413722 0.9358628 ]\n",
      " [0.00282101 0.99717903]\n",
      " [0.01264995 0.98735005]]\n",
      "Predicting DataLoader 0: 100%|██████████████████| 16/16 [00:05<00:00,  3.00it/s]"
     ]
    },
    {
     "name": "stderr",
     "output_type": "stream",
     "text": [
      "GPU available: True (mps), used: False\n",
      "TPU available: False, using: 0 TPU cores\n",
      "HPU available: False, using: 0 HPUs\n"
     ]
    },
    {
     "name": "stdout",
     "output_type": "stream",
     "text": [
      "\n",
      "Predicting DataLoader 0: 100%|██████████████████| 16/16 [00:05<00:00,  3.02it/s]"
     ]
    },
    {
     "name": "stderr",
     "output_type": "stream",
     "text": [
      "GPU available: True (mps), used: False\n",
      "TPU available: False, using: 0 TPU cores\n",
      "HPU available: False, using: 0 HPUs\n"
     ]
    },
    {
     "name": "stdout",
     "output_type": "stream",
     "text": [
      "\n",
      "[[0.2535485  0.7464515 ]\n",
      " [0.31814945 0.68185055]\n",
      " [0.64931196 0.35068804]\n",
      " ...\n",
      " [0.04822386 0.9517761 ]\n",
      " [0.00775718 0.99224275]\n",
      " [0.02785795 0.97214204]]\n",
      "Predicting DataLoader 0: 100%|██████████████████| 16/16 [00:05<00:00,  3.01it/s]"
     ]
    },
    {
     "name": "stderr",
     "output_type": "stream",
     "text": [
      "GPU available: True (mps), used: False\n",
      "TPU available: False, using: 0 TPU cores\n",
      "HPU available: False, using: 0 HPUs\n"
     ]
    },
    {
     "name": "stdout",
     "output_type": "stream",
     "text": [
      "\n",
      "Predicting DataLoader 0: 100%|██████████████████| 16/16 [00:05<00:00,  3.01it/s]"
     ]
    },
    {
     "name": "stderr",
     "output_type": "stream",
     "text": [
      "GPU available: True (mps), used: False\n",
      "TPU available: False, using: 0 TPU cores\n",
      "HPU available: False, using: 0 HPUs\n"
     ]
    },
    {
     "name": "stdout",
     "output_type": "stream",
     "text": [
      "\n",
      "[[7.1708685e-01 2.8291312e-01]\n",
      " [6.3817477e-01 3.6182523e-01]\n",
      " [9.3750435e-01 6.2495682e-02]\n",
      " ...\n",
      " [4.1658012e-03 9.9583423e-01]\n",
      " [2.7876912e-04 9.9972123e-01]\n",
      " [4.7384074e-04 9.9952614e-01]]\n",
      "Predicting DataLoader 0: 100%|██████████████████| 16/16 [00:05<00:00,  3.01it/s]"
     ]
    },
    {
     "name": "stderr",
     "output_type": "stream",
     "text": [
      "GPU available: True (mps), used: False\n",
      "TPU available: False, using: 0 TPU cores\n",
      "HPU available: False, using: 0 HPUs\n"
     ]
    },
    {
     "name": "stdout",
     "output_type": "stream",
     "text": [
      "\n",
      "4\n",
      "Predicting DataLoader 0: 100%|██████████████████| 16/16 [00:05<00:00,  3.00it/s]"
     ]
    },
    {
     "name": "stderr",
     "output_type": "stream",
     "text": [
      "GPU available: True (mps), used: False\n",
      "TPU available: False, using: 0 TPU cores\n",
      "HPU available: False, using: 0 HPUs\n"
     ]
    },
    {
     "name": "stdout",
     "output_type": "stream",
     "text": [
      "\n",
      "[[8.96028504e-02 9.10397172e-01]\n",
      " [1.01035483e-01 8.98964465e-01]\n",
      " [1.17029235e-01 8.82970750e-01]\n",
      " ...\n",
      " [5.42551745e-03 9.94574487e-01]\n",
      " [9.28579422e-04 9.99071360e-01]\n",
      " [1.78615563e-03 9.98213887e-01]]\n",
      "Predicting DataLoader 0: 100%|██████████████████| 16/16 [00:05<00:00,  3.01it/s]"
     ]
    },
    {
     "name": "stderr",
     "output_type": "stream",
     "text": [
      "GPU available: True (mps), used: False\n",
      "TPU available: False, using: 0 TPU cores\n",
      "HPU available: False, using: 0 HPUs\n"
     ]
    },
    {
     "name": "stdout",
     "output_type": "stream",
     "text": [
      "\n",
      "Predicting DataLoader 0: 100%|██████████████████| 16/16 [00:05<00:00,  3.02it/s]"
     ]
    },
    {
     "name": "stderr",
     "output_type": "stream",
     "text": [
      "GPU available: True (mps), used: False\n",
      "TPU available: False, using: 0 TPU cores\n",
      "HPU available: False, using: 0 HPUs\n"
     ]
    },
    {
     "name": "stdout",
     "output_type": "stream",
     "text": [
      "\n",
      "[[7.7225578e-01 2.2774424e-01]\n",
      " [3.9406461e-01 6.0593539e-01]\n",
      " [9.6814436e-01 3.1855591e-02]\n",
      " ...\n",
      " [7.8061078e-04 9.9921942e-01]\n",
      " [1.6955343e-04 9.9983037e-01]\n",
      " [2.6748053e-04 9.9973255e-01]]\n",
      "Predicting DataLoader 0: 100%|██████████████████| 16/16 [00:05<00:00,  3.00it/s]"
     ]
    },
    {
     "name": "stderr",
     "output_type": "stream",
     "text": [
      "GPU available: True (mps), used: False\n",
      "TPU available: False, using: 0 TPU cores\n",
      "HPU available: False, using: 0 HPUs\n"
     ]
    },
    {
     "name": "stdout",
     "output_type": "stream",
     "text": [
      "\n",
      "Predicting DataLoader 0: 100%|██████████████████| 16/16 [00:05<00:00,  3.01it/s]"
     ]
    },
    {
     "name": "stderr",
     "output_type": "stream",
     "text": [
      "GPU available: True (mps), used: False\n",
      "TPU available: False, using: 0 TPU cores\n",
      "HPU available: False, using: 0 HPUs\n"
     ]
    },
    {
     "name": "stdout",
     "output_type": "stream",
     "text": [
      "\n",
      "[[0.69904566 0.30095437]\n",
      " [0.7010603  0.2989397 ]\n",
      " [0.8295339  0.1704662 ]\n",
      " ...\n",
      " [0.03735234 0.9626477 ]\n",
      " [0.01548181 0.98451823]\n",
      " [0.01527748 0.98472255]]\n",
      "Predicting DataLoader 0: 100%|██████████████████| 16/16 [00:05<00:00,  2.99it/s]"
     ]
    },
    {
     "name": "stderr",
     "output_type": "stream",
     "text": [
      "GPU available: True (mps), used: False\n",
      "TPU available: False, using: 0 TPU cores\n",
      "HPU available: False, using: 0 HPUs\n"
     ]
    },
    {
     "name": "stdout",
     "output_type": "stream",
     "text": [
      "\n",
      "Predicting DataLoader 0: 100%|██████████████████| 16/16 [00:05<00:00,  2.99it/s]"
     ]
    },
    {
     "name": "stderr",
     "output_type": "stream",
     "text": [
      "GPU available: True (mps), used: False\n",
      "TPU available: False, using: 0 TPU cores\n",
      "HPU available: False, using: 0 HPUs\n"
     ]
    },
    {
     "name": "stdout",
     "output_type": "stream",
     "text": [
      "\n",
      "[[4.0879601e-01 5.9120405e-01]\n",
      " [2.9786900e-01 7.0213097e-01]\n",
      " [5.7264346e-01 4.2735660e-01]\n",
      " ...\n",
      " [1.4170645e-03 9.9858296e-01]\n",
      " [3.8127770e-04 9.9961865e-01]\n",
      " [3.3433433e-04 9.9966562e-01]]\n",
      "Predicting DataLoader 0: 100%|██████████████████| 16/16 [00:05<00:00,  3.01it/s]"
     ]
    },
    {
     "name": "stderr",
     "output_type": "stream",
     "text": [
      "GPU available: True (mps), used: False\n",
      "TPU available: False, using: 0 TPU cores\n",
      "HPU available: False, using: 0 HPUs\n"
     ]
    },
    {
     "name": "stdout",
     "output_type": "stream",
     "text": [
      "\n",
      "Predicting DataLoader 0: 100%|██████████████████| 16/16 [00:05<00:00,  3.04it/s]"
     ]
    },
    {
     "name": "stderr",
     "output_type": "stream",
     "text": [
      "GPU available: True (mps), used: False\n",
      "TPU available: False, using: 0 TPU cores\n",
      "HPU available: False, using: 0 HPUs\n"
     ]
    },
    {
     "name": "stdout",
     "output_type": "stream",
     "text": [
      "\n",
      "[[5.8161342e-01 4.1838661e-01]\n",
      " [7.4561518e-01 2.5438482e-01]\n",
      " [9.0434515e-01 9.5654890e-02]\n",
      " ...\n",
      " [1.6617640e-03 9.9833822e-01]\n",
      " [9.3513716e-04 9.9906486e-01]\n",
      " [6.3865737e-04 9.9936134e-01]]\n",
      "Predicting DataLoader 0: 100%|██████████████████| 16/16 [00:05<00:00,  3.01it/s]"
     ]
    },
    {
     "name": "stderr",
     "output_type": "stream",
     "text": [
      "GPU available: True (mps), used: False\n",
      "TPU available: False, using: 0 TPU cores\n",
      "HPU available: False, using: 0 HPUs\n"
     ]
    },
    {
     "name": "stdout",
     "output_type": "stream",
     "text": [
      "\n",
      "5\n",
      "Predicting DataLoader 0: 100%|██████████████████| 16/16 [00:05<00:00,  3.01it/s]"
     ]
    },
    {
     "name": "stderr",
     "output_type": "stream",
     "text": [
      "GPU available: True (mps), used: False\n",
      "TPU available: False, using: 0 TPU cores\n",
      "HPU available: False, using: 0 HPUs\n"
     ]
    },
    {
     "name": "stdout",
     "output_type": "stream",
     "text": [
      "\n",
      "[[0.8311349  0.16886513]\n",
      " [0.86648816 0.13351187]\n",
      " [0.83781904 0.16218093]\n",
      " ...\n",
      " [0.01066695 0.98933303]\n",
      " [0.0025872  0.99741286]\n",
      " [0.00516535 0.99483466]]\n",
      "Predicting DataLoader 0: 100%|██████████████████| 16/16 [00:05<00:00,  3.00it/s]"
     ]
    },
    {
     "name": "stderr",
     "output_type": "stream",
     "text": [
      "GPU available: True (mps), used: False\n",
      "TPU available: False, using: 0 TPU cores\n",
      "HPU available: False, using: 0 HPUs\n"
     ]
    },
    {
     "name": "stdout",
     "output_type": "stream",
     "text": [
      "\n",
      "Predicting DataLoader 0: 100%|██████████████████| 16/16 [00:05<00:00,  3.01it/s]"
     ]
    },
    {
     "name": "stderr",
     "output_type": "stream",
     "text": [
      "GPU available: True (mps), used: False\n",
      "TPU available: False, using: 0 TPU cores\n",
      "HPU available: False, using: 0 HPUs\n"
     ]
    },
    {
     "name": "stdout",
     "output_type": "stream",
     "text": [
      "\n",
      "[[0.99530905 0.00469095]\n",
      " [0.9897001  0.01029995]\n",
      " [0.99536574 0.00463421]\n",
      " ...\n",
      " [0.02792722 0.9720728 ]\n",
      " [0.00646895 0.99353105]\n",
      " [0.01081086 0.98918915]]\n",
      "Predicting DataLoader 0: 100%|██████████████████| 16/16 [00:05<00:00,  3.02it/s]"
     ]
    },
    {
     "name": "stderr",
     "output_type": "stream",
     "text": [
      "GPU available: True (mps), used: False\n",
      "TPU available: False, using: 0 TPU cores\n",
      "HPU available: False, using: 0 HPUs\n"
     ]
    },
    {
     "name": "stdout",
     "output_type": "stream",
     "text": [
      "\n",
      "Predicting DataLoader 0: 100%|██████████████████| 16/16 [00:05<00:00,  3.03it/s]"
     ]
    },
    {
     "name": "stderr",
     "output_type": "stream",
     "text": [
      "GPU available: True (mps), used: False\n",
      "TPU available: False, using: 0 TPU cores\n",
      "HPU available: False, using: 0 HPUs\n"
     ]
    },
    {
     "name": "stdout",
     "output_type": "stream",
     "text": [
      "\n",
      "[[0.99011034 0.0098896 ]\n",
      " [0.98781824 0.0121817 ]\n",
      " [0.9941977  0.00580232]\n",
      " ...\n",
      " [0.1030027  0.8969973 ]\n",
      " [0.0060128  0.9939872 ]\n",
      " [0.01158893 0.98841107]]\n",
      "Predicting DataLoader 0: 100%|██████████████████| 16/16 [00:05<00:00,  3.02it/s]"
     ]
    },
    {
     "name": "stderr",
     "output_type": "stream",
     "text": [
      "GPU available: True (mps), used: False\n",
      "TPU available: False, using: 0 TPU cores\n",
      "HPU available: False, using: 0 HPUs\n"
     ]
    },
    {
     "name": "stdout",
     "output_type": "stream",
     "text": [
      "\n",
      "Predicting DataLoader 0: 100%|██████████████████| 16/16 [00:05<00:00,  3.00it/s]"
     ]
    },
    {
     "name": "stderr",
     "output_type": "stream",
     "text": [
      "GPU available: True (mps), used: False\n",
      "TPU available: False, using: 0 TPU cores\n",
      "HPU available: False, using: 0 HPUs\n"
     ]
    },
    {
     "name": "stdout",
     "output_type": "stream",
     "text": [
      "\n",
      "[[0.9942291  0.00577089]\n",
      " [0.985393   0.01460701]\n",
      " [0.97083414 0.02916588]\n",
      " ...\n",
      " [0.01123007 0.9887699 ]\n",
      " [0.00113001 0.99886996]\n",
      " [0.00197043 0.99802953]]\n",
      "Predicting DataLoader 0: 100%|██████████████████| 16/16 [00:05<00:00,  2.99it/s]"
     ]
    },
    {
     "name": "stderr",
     "output_type": "stream",
     "text": [
      "GPU available: True (mps), used: False\n",
      "TPU available: False, using: 0 TPU cores\n",
      "HPU available: False, using: 0 HPUs\n"
     ]
    },
    {
     "name": "stdout",
     "output_type": "stream",
     "text": [
      "\n",
      "Predicting DataLoader 0: 100%|██████████████████| 16/16 [00:05<00:00,  3.03it/s]"
     ]
    },
    {
     "name": "stderr",
     "output_type": "stream",
     "text": [
      "GPU available: True (mps), used: False\n",
      "TPU available: False, using: 0 TPU cores\n",
      "HPU available: False, using: 0 HPUs\n"
     ]
    },
    {
     "name": "stdout",
     "output_type": "stream",
     "text": [
      "\n",
      "[[0.9908121  0.0091878 ]\n",
      " [0.9918356  0.00816442]\n",
      " [0.9961169  0.00388317]\n",
      " ...\n",
      " [0.0140242  0.9859758 ]\n",
      " [0.00118685 0.99881315]\n",
      " [0.00265256 0.99734735]]\n",
      "Predicting DataLoader 0: 100%|██████████████████| 16/16 [00:05<00:00,  3.03it/s]"
     ]
    },
    {
     "name": "stderr",
     "output_type": "stream",
     "text": [
      "GPU available: True (mps), used: False\n",
      "TPU available: False, using: 0 TPU cores\n",
      "HPU available: False, using: 0 HPUs\n"
     ]
    },
    {
     "name": "stdout",
     "output_type": "stream",
     "text": [
      "\n",
      "6\n",
      "Predicting DataLoader 0: 100%|██████████████████| 16/16 [00:05<00:00,  3.05it/s]"
     ]
    },
    {
     "name": "stderr",
     "output_type": "stream",
     "text": [
      "GPU available: True (mps), used: False\n",
      "TPU available: False, using: 0 TPU cores\n",
      "HPU available: False, using: 0 HPUs\n"
     ]
    },
    {
     "name": "stdout",
     "output_type": "stream",
     "text": [
      "\n",
      "[[7.77821898e-01 2.22178072e-01]\n",
      " [8.11606884e-01 1.88393071e-01]\n",
      " [8.80938172e-01 1.19061776e-01]\n",
      " ...\n",
      " [5.02042099e-07 9.99999523e-01]\n",
      " [1.56641534e-07 9.99999881e-01]\n",
      " [1.90096685e-07 9.99999762e-01]]\n",
      "Predicting DataLoader 0: 100%|██████████████████| 16/16 [00:05<00:00,  3.01it/s]"
     ]
    },
    {
     "name": "stderr",
     "output_type": "stream",
     "text": [
      "GPU available: True (mps), used: False\n",
      "TPU available: False, using: 0 TPU cores\n",
      "HPU available: False, using: 0 HPUs\n"
     ]
    },
    {
     "name": "stdout",
     "output_type": "stream",
     "text": [
      "\n",
      "Predicting DataLoader 0: 100%|██████████████████| 16/16 [00:05<00:00,  3.00it/s]"
     ]
    },
    {
     "name": "stderr",
     "output_type": "stream",
     "text": [
      "GPU available: True (mps), used: False\n",
      "TPU available: False, using: 0 TPU cores\n",
      "HPU available: False, using: 0 HPUs\n"
     ]
    },
    {
     "name": "stdout",
     "output_type": "stream",
     "text": [
      "\n",
      "[[9.4313830e-01 5.6861620e-02]\n",
      " [7.1956640e-01 2.8043357e-01]\n",
      " [9.5061713e-01 4.9382877e-02]\n",
      " ...\n",
      " [2.3688650e-02 9.7631139e-01]\n",
      " [9.2687790e-04 9.9907315e-01]\n",
      " [2.4403716e-03 9.9755967e-01]]\n",
      "Predicting DataLoader 0: 100%|██████████████████| 16/16 [00:05<00:00,  3.00it/s]"
     ]
    },
    {
     "name": "stderr",
     "output_type": "stream",
     "text": [
      "GPU available: True (mps), used: False\n",
      "TPU available: False, using: 0 TPU cores\n",
      "HPU available: False, using: 0 HPUs\n"
     ]
    },
    {
     "name": "stdout",
     "output_type": "stream",
     "text": [
      "\n",
      "Predicting DataLoader 0: 100%|██████████████████| 16/16 [00:05<00:00,  2.99it/s]"
     ]
    },
    {
     "name": "stderr",
     "output_type": "stream",
     "text": [
      "GPU available: True (mps), used: False\n",
      "TPU available: False, using: 0 TPU cores\n",
      "HPU available: False, using: 0 HPUs\n"
     ]
    },
    {
     "name": "stdout",
     "output_type": "stream",
     "text": [
      "\n",
      "[[0.9687556  0.03124433]\n",
      " [0.9487859  0.05121407]\n",
      " [0.9582676  0.04173231]\n",
      " ...\n",
      " [0.04260673 0.9573933 ]\n",
      " [0.01252988 0.9874701 ]\n",
      " [0.02325886 0.9767411 ]]\n",
      "Predicting DataLoader 0: 100%|██████████████████| 16/16 [00:05<00:00,  3.02it/s]"
     ]
    },
    {
     "name": "stderr",
     "output_type": "stream",
     "text": [
      "GPU available: True (mps), used: False\n",
      "TPU available: False, using: 0 TPU cores\n",
      "HPU available: False, using: 0 HPUs\n"
     ]
    },
    {
     "name": "stdout",
     "output_type": "stream",
     "text": [
      "\n",
      "Predicting DataLoader 0: 100%|██████████████████| 16/16 [00:05<00:00,  3.02it/s]"
     ]
    },
    {
     "name": "stderr",
     "output_type": "stream",
     "text": [
      "GPU available: True (mps), used: False\n",
      "TPU available: False, using: 0 TPU cores\n",
      "HPU available: False, using: 0 HPUs\n"
     ]
    },
    {
     "name": "stdout",
     "output_type": "stream",
     "text": [
      "\n",
      "[[0.9847905  0.01520945]\n",
      " [0.96831423 0.03168573]\n",
      " [0.9852996  0.01470041]\n",
      " ...\n",
      " [0.01538905 0.984611  ]\n",
      " [0.00361093 0.99638915]\n",
      " [0.01030347 0.9896965 ]]\n",
      "Predicting DataLoader 0: 100%|██████████████████| 16/16 [00:05<00:00,  2.99it/s]"
     ]
    },
    {
     "name": "stderr",
     "output_type": "stream",
     "text": [
      "GPU available: True (mps), used: False\n",
      "TPU available: False, using: 0 TPU cores\n",
      "HPU available: False, using: 0 HPUs\n"
     ]
    },
    {
     "name": "stdout",
     "output_type": "stream",
     "text": [
      "\n",
      "Predicting DataLoader 0: 100%|██████████████████| 16/16 [00:05<00:00,  3.00it/s]"
     ]
    },
    {
     "name": "stderr",
     "output_type": "stream",
     "text": [
      "GPU available: True (mps), used: False\n",
      "TPU available: False, using: 0 TPU cores\n",
      "HPU available: False, using: 0 HPUs\n"
     ]
    },
    {
     "name": "stdout",
     "output_type": "stream",
     "text": [
      "\n",
      "[[0.9987644  0.00123559]\n",
      " [0.9980348  0.00196527]\n",
      " [0.9986889  0.00131108]\n",
      " ...\n",
      " [0.03863997 0.96136   ]\n",
      " [0.0066478  0.9933522 ]\n",
      " [0.00768393 0.992316  ]]\n",
      "Predicting DataLoader 0: 100%|██████████████████| 16/16 [00:05<00:00,  2.99it/s]"
     ]
    },
    {
     "name": "stderr",
     "output_type": "stream",
     "text": [
      "GPU available: True (mps), used: False\n",
      "TPU available: False, using: 0 TPU cores\n",
      "HPU available: False, using: 0 HPUs\n"
     ]
    },
    {
     "name": "stdout",
     "output_type": "stream",
     "text": [
      "\n",
      "7\n",
      "Predicting DataLoader 0: 100%|██████████████████| 16/16 [00:05<00:00,  2.99it/s]"
     ]
    },
    {
     "name": "stderr",
     "output_type": "stream",
     "text": [
      "GPU available: True (mps), used: False\n",
      "TPU available: False, using: 0 TPU cores\n",
      "HPU available: False, using: 0 HPUs\n"
     ]
    },
    {
     "name": "stdout",
     "output_type": "stream",
     "text": [
      "\n",
      "[[9.6571523e-01 3.4284804e-02]\n",
      " [9.8926687e-01 1.0733117e-02]\n",
      " [9.8327070e-01 1.6729284e-02]\n",
      " ...\n",
      " [3.9445451e-03 9.9605548e-01]\n",
      " [4.3006914e-04 9.9956995e-01]\n",
      " [9.2125102e-04 9.9907875e-01]]\n",
      "Predicting DataLoader 0: 100%|██████████████████| 16/16 [00:05<00:00,  3.04it/s]"
     ]
    },
    {
     "name": "stderr",
     "output_type": "stream",
     "text": [
      "GPU available: True (mps), used: False\n",
      "TPU available: False, using: 0 TPU cores\n",
      "HPU available: False, using: 0 HPUs\n"
     ]
    },
    {
     "name": "stdout",
     "output_type": "stream",
     "text": [
      "\n",
      "Predicting DataLoader 0: 100%|██████████████████| 16/16 [00:05<00:00,  3.04it/s]"
     ]
    },
    {
     "name": "stderr",
     "output_type": "stream",
     "text": [
      "GPU available: True (mps), used: False\n",
      "TPU available: False, using: 0 TPU cores\n",
      "HPU available: False, using: 0 HPUs\n"
     ]
    },
    {
     "name": "stdout",
     "output_type": "stream",
     "text": [
      "\n",
      "[[9.9148625e-01 8.5137505e-03]\n",
      " [9.9208915e-01 7.9107964e-03]\n",
      " [9.8562837e-01 1.4371667e-02]\n",
      " ...\n",
      " [4.4440659e-04 9.9955553e-01]\n",
      " [1.5993326e-04 9.9984002e-01]\n",
      " [2.0136117e-04 9.9979872e-01]]\n",
      "Predicting DataLoader 0: 100%|██████████████████| 16/16 [00:05<00:00,  3.02it/s]"
     ]
    },
    {
     "name": "stderr",
     "output_type": "stream",
     "text": [
      "GPU available: True (mps), used: False\n",
      "TPU available: False, using: 0 TPU cores\n",
      "HPU available: False, using: 0 HPUs\n"
     ]
    },
    {
     "name": "stdout",
     "output_type": "stream",
     "text": [
      "\n",
      "Predicting DataLoader 0: 100%|██████████████████| 16/16 [00:05<00:00,  3.02it/s]"
     ]
    },
    {
     "name": "stderr",
     "output_type": "stream",
     "text": [
      "GPU available: True (mps), used: False\n",
      "TPU available: False, using: 0 TPU cores\n",
      "HPU available: False, using: 0 HPUs\n"
     ]
    },
    {
     "name": "stdout",
     "output_type": "stream",
     "text": [
      "\n",
      "[[9.3291134e-01 6.7088641e-02]\n",
      " [7.8830290e-01 2.1169706e-01]\n",
      " [9.7117525e-01 2.8824670e-02]\n",
      " ...\n",
      " [7.3132914e-04 9.9926871e-01]\n",
      " [1.2263808e-04 9.9987733e-01]\n",
      " [4.9804617e-04 9.9950194e-01]]\n",
      "Predicting DataLoader 0: 100%|██████████████████| 16/16 [00:05<00:00,  3.01it/s]"
     ]
    },
    {
     "name": "stderr",
     "output_type": "stream",
     "text": [
      "GPU available: True (mps), used: False\n",
      "TPU available: False, using: 0 TPU cores\n",
      "HPU available: False, using: 0 HPUs\n"
     ]
    },
    {
     "name": "stdout",
     "output_type": "stream",
     "text": [
      "\n",
      "Predicting DataLoader 0: 100%|██████████████████| 16/16 [00:05<00:00,  3.01it/s]"
     ]
    },
    {
     "name": "stderr",
     "output_type": "stream",
     "text": [
      "GPU available: True (mps), used: False\n",
      "TPU available: False, using: 0 TPU cores\n",
      "HPU available: False, using: 0 HPUs\n"
     ]
    },
    {
     "name": "stdout",
     "output_type": "stream",
     "text": [
      "\n",
      "[[9.4931000e-01 5.0689988e-02]\n",
      " [8.7572348e-01 1.2427652e-01]\n",
      " [8.9874303e-01 1.0125690e-01]\n",
      " ...\n",
      " [1.7166809e-03 9.9828339e-01]\n",
      " [5.9461821e-04 9.9940538e-01]\n",
      " [2.0871118e-03 9.9791282e-01]]\n",
      "Predicting DataLoader 0: 100%|██████████████████| 16/16 [00:05<00:00,  3.06it/s]"
     ]
    },
    {
     "name": "stderr",
     "output_type": "stream",
     "text": [
      "GPU available: True (mps), used: False\n",
      "TPU available: False, using: 0 TPU cores\n",
      "HPU available: False, using: 0 HPUs\n"
     ]
    },
    {
     "name": "stdout",
     "output_type": "stream",
     "text": [
      "\n",
      "Predicting DataLoader 0: 100%|██████████████████| 16/16 [00:05<00:00,  3.05it/s]"
     ]
    },
    {
     "name": "stderr",
     "output_type": "stream",
     "text": [
      "GPU available: True (mps), used: False\n",
      "TPU available: False, using: 0 TPU cores\n",
      "HPU available: False, using: 0 HPUs\n"
     ]
    },
    {
     "name": "stdout",
     "output_type": "stream",
     "text": [
      "\n",
      "[[0.9173733  0.08262678]\n",
      " [0.8789974  0.12100264]\n",
      " [0.9648569  0.03514302]\n",
      " ...\n",
      " [0.0576116  0.94238836]\n",
      " [0.012913   0.987087  ]\n",
      " [0.02449843 0.97550154]]\n",
      "Predicting DataLoader 0: 100%|██████████████████| 16/16 [00:05<00:00,  3.01it/s]"
     ]
    },
    {
     "name": "stderr",
     "output_type": "stream",
     "text": [
      "GPU available: True (mps), used: False\n",
      "TPU available: False, using: 0 TPU cores\n",
      "HPU available: False, using: 0 HPUs\n"
     ]
    },
    {
     "name": "stdout",
     "output_type": "stream",
     "text": [
      "\n",
      "8\n",
      "Predicting DataLoader 0: 100%|██████████████████| 16/16 [00:05<00:00,  3.01it/s]"
     ]
    },
    {
     "name": "stderr",
     "output_type": "stream",
     "text": [
      "GPU available: True (mps), used: False\n",
      "TPU available: False, using: 0 TPU cores\n",
      "HPU available: False, using: 0 HPUs\n"
     ]
    },
    {
     "name": "stdout",
     "output_type": "stream",
     "text": [
      "\n",
      "[[7.8690684e-01 2.1309319e-01]\n",
      " [7.9764062e-01 2.0235939e-01]\n",
      " [7.3632234e-01 2.6367766e-01]\n",
      " ...\n",
      " [3.8630990e-03 9.9613684e-01]\n",
      " [3.6330454e-04 9.9963665e-01]\n",
      " [9.7278069e-04 9.9902725e-01]]\n",
      "Predicting DataLoader 0: 100%|██████████████████| 16/16 [00:05<00:00,  3.02it/s]"
     ]
    },
    {
     "name": "stderr",
     "output_type": "stream",
     "text": [
      "GPU available: True (mps), used: False\n",
      "TPU available: False, using: 0 TPU cores\n",
      "HPU available: False, using: 0 HPUs\n"
     ]
    },
    {
     "name": "stdout",
     "output_type": "stream",
     "text": [
      "\n",
      "Predicting DataLoader 0: 100%|██████████████████| 16/16 [00:05<00:00,  3.04it/s]"
     ]
    },
    {
     "name": "stderr",
     "output_type": "stream",
     "text": [
      "GPU available: True (mps), used: False\n",
      "TPU available: False, using: 0 TPU cores\n",
      "HPU available: False, using: 0 HPUs\n"
     ]
    },
    {
     "name": "stdout",
     "output_type": "stream",
     "text": [
      "\n",
      "[[0.8113657  0.18863425]\n",
      " [0.6555582  0.34444186]\n",
      " [0.9589782  0.04102178]\n",
      " ...\n",
      " [0.24237563 0.7576244 ]\n",
      " [0.01599835 0.98400164]\n",
      " [0.04083722 0.9591627 ]]\n",
      "Predicting DataLoader 0: 100%|██████████████████| 16/16 [00:05<00:00,  3.05it/s]"
     ]
    },
    {
     "name": "stderr",
     "output_type": "stream",
     "text": [
      "GPU available: True (mps), used: False\n",
      "TPU available: False, using: 0 TPU cores\n",
      "HPU available: False, using: 0 HPUs\n"
     ]
    },
    {
     "name": "stdout",
     "output_type": "stream",
     "text": [
      "\n",
      "Predicting DataLoader 0: 100%|██████████████████| 16/16 [00:05<00:00,  3.06it/s]"
     ]
    },
    {
     "name": "stderr",
     "output_type": "stream",
     "text": [
      "GPU available: True (mps), used: False\n",
      "TPU available: False, using: 0 TPU cores\n",
      "HPU available: False, using: 0 HPUs\n"
     ]
    },
    {
     "name": "stdout",
     "output_type": "stream",
     "text": [
      "\n",
      "[[7.2143459e-01 2.7856541e-01]\n",
      " [6.6608804e-01 3.3391199e-01]\n",
      " [9.2423558e-01 7.5764455e-02]\n",
      " ...\n",
      " [2.3082243e-03 9.9769175e-01]\n",
      " [2.4659466e-04 9.9975342e-01]\n",
      " [3.2229818e-04 9.9967766e-01]]\n",
      "Predicting DataLoader 0: 100%|██████████████████| 16/16 [00:05<00:00,  3.01it/s]"
     ]
    },
    {
     "name": "stderr",
     "output_type": "stream",
     "text": [
      "GPU available: True (mps), used: False\n",
      "TPU available: False, using: 0 TPU cores\n",
      "HPU available: False, using: 0 HPUs\n"
     ]
    },
    {
     "name": "stdout",
     "output_type": "stream",
     "text": [
      "\n",
      "Predicting DataLoader 0: 100%|██████████████████| 16/16 [00:05<00:00,  3.00it/s]"
     ]
    },
    {
     "name": "stderr",
     "output_type": "stream",
     "text": [
      "GPU available: True (mps), used: False\n",
      "TPU available: False, using: 0 TPU cores\n",
      "HPU available: False, using: 0 HPUs\n"
     ]
    },
    {
     "name": "stdout",
     "output_type": "stream",
     "text": [
      "\n",
      "[[0.94266117 0.05733886]\n",
      " [0.9653858  0.03461424]\n",
      " [0.9879265  0.01207358]\n",
      " ...\n",
      " [0.0259457  0.9740543 ]\n",
      " [0.00435336 0.99564666]\n",
      " [0.00524961 0.99475044]]\n",
      "Predicting DataLoader 0: 100%|██████████████████| 16/16 [00:05<00:00,  3.00it/s]"
     ]
    },
    {
     "name": "stderr",
     "output_type": "stream",
     "text": [
      "GPU available: True (mps), used: False\n",
      "TPU available: False, using: 0 TPU cores\n",
      "HPU available: False, using: 0 HPUs\n"
     ]
    },
    {
     "name": "stdout",
     "output_type": "stream",
     "text": [
      "\n",
      "Predicting DataLoader 0: 100%|██████████████████| 16/16 [00:05<00:00,  2.99it/s]"
     ]
    },
    {
     "name": "stderr",
     "output_type": "stream",
     "text": [
      "GPU available: True (mps), used: False\n",
      "TPU available: False, using: 0 TPU cores\n",
      "HPU available: False, using: 0 HPUs\n"
     ]
    },
    {
     "name": "stdout",
     "output_type": "stream",
     "text": [
      "\n",
      "[[0.86885685 0.13114312]\n",
      " [0.8027115  0.19728853]\n",
      " [0.78421676 0.21578331]\n",
      " ...\n",
      " [0.51324224 0.48675773]\n",
      " [0.09152575 0.90847427]\n",
      " [0.08690635 0.9130937 ]]\n",
      "Predicting DataLoader 0: 100%|██████████████████| 16/16 [00:05<00:00,  3.04it/s]"
     ]
    },
    {
     "name": "stderr",
     "output_type": "stream",
     "text": [
      "GPU available: True (mps), used: False\n",
      "TPU available: False, using: 0 TPU cores\n",
      "HPU available: False, using: 0 HPUs\n"
     ]
    },
    {
     "name": "stdout",
     "output_type": "stream",
     "text": [
      "\n",
      "9\n",
      "Predicting DataLoader 0: 100%|██████████████████| 16/16 [00:05<00:00,  3.05it/s]"
     ]
    },
    {
     "name": "stderr",
     "output_type": "stream",
     "text": [
      "GPU available: True (mps), used: False\n",
      "TPU available: False, using: 0 TPU cores\n",
      "HPU available: False, using: 0 HPUs\n"
     ]
    },
    {
     "name": "stdout",
     "output_type": "stream",
     "text": [
      "\n",
      "[[0.9973036  0.00269635]\n",
      " [0.97620934 0.0237906 ]\n",
      " [0.99730384 0.00269619]\n",
      " ...\n",
      " [0.01349383 0.98650616]\n",
      " [0.00223287 0.9977671 ]\n",
      " [0.00393602 0.996064  ]]\n",
      "Predicting DataLoader 0: 100%|██████████████████| 16/16 [00:05<00:00,  3.01it/s]"
     ]
    },
    {
     "name": "stderr",
     "output_type": "stream",
     "text": [
      "GPU available: True (mps), used: False\n",
      "TPU available: False, using: 0 TPU cores\n",
      "HPU available: False, using: 0 HPUs\n"
     ]
    },
    {
     "name": "stdout",
     "output_type": "stream",
     "text": [
      "\n",
      "Predicting DataLoader 0: 100%|██████████████████| 16/16 [00:05<00:00,  3.04it/s]"
     ]
    },
    {
     "name": "stderr",
     "output_type": "stream",
     "text": [
      "GPU available: True (mps), used: False\n",
      "TPU available: False, using: 0 TPU cores\n",
      "HPU available: False, using: 0 HPUs\n"
     ]
    },
    {
     "name": "stdout",
     "output_type": "stream",
     "text": [
      "\n",
      "[[1.9382256e-01 8.0617750e-01]\n",
      " [1.6123098e-01 8.3876902e-01]\n",
      " [8.4177248e-02 9.1582280e-01]\n",
      " ...\n",
      " [2.9322712e-03 9.9706775e-01]\n",
      " [5.3427694e-04 9.9946576e-01]\n",
      " [8.0623530e-04 9.9919373e-01]]\n",
      "Predicting DataLoader 0: 100%|██████████████████| 16/16 [00:05<00:00,  3.02it/s]"
     ]
    },
    {
     "name": "stderr",
     "output_type": "stream",
     "text": [
      "GPU available: True (mps), used: False\n",
      "TPU available: False, using: 0 TPU cores\n",
      "HPU available: False, using: 0 HPUs\n"
     ]
    },
    {
     "name": "stdout",
     "output_type": "stream",
     "text": [
      "\n",
      "Predicting DataLoader 0: 100%|██████████████████| 16/16 [00:05<00:00,  3.03it/s]"
     ]
    },
    {
     "name": "stderr",
     "output_type": "stream",
     "text": [
      "GPU available: True (mps), used: False\n",
      "TPU available: False, using: 0 TPU cores\n",
      "HPU available: False, using: 0 HPUs\n"
     ]
    },
    {
     "name": "stdout",
     "output_type": "stream",
     "text": [
      "\n",
      "[[0.62638956 0.3736104 ]\n",
      " [0.8571382  0.14286172]\n",
      " [0.966286   0.03371399]\n",
      " ...\n",
      " [0.01330918 0.9866909 ]\n",
      " [0.00408724 0.99591273]\n",
      " [0.01114736 0.9888526 ]]\n",
      "Predicting DataLoader 0: 100%|██████████████████| 16/16 [00:05<00:00,  3.02it/s]"
     ]
    },
    {
     "name": "stderr",
     "output_type": "stream",
     "text": [
      "GPU available: True (mps), used: False\n",
      "TPU available: False, using: 0 TPU cores\n",
      "HPU available: False, using: 0 HPUs\n"
     ]
    },
    {
     "name": "stdout",
     "output_type": "stream",
     "text": [
      "\n",
      "Predicting DataLoader 0: 100%|██████████████████| 16/16 [00:05<00:00,  3.06it/s]"
     ]
    },
    {
     "name": "stderr",
     "output_type": "stream",
     "text": [
      "GPU available: True (mps), used: False\n",
      "TPU available: False, using: 0 TPU cores\n",
      "HPU available: False, using: 0 HPUs\n"
     ]
    },
    {
     "name": "stdout",
     "output_type": "stream",
     "text": [
      "\n",
      "[[9.7986072e-01 2.0139355e-02]\n",
      " [9.6061140e-01 3.9388649e-02]\n",
      " [9.8636872e-01 1.3631367e-02]\n",
      " ...\n",
      " [3.0006003e-03 9.9699938e-01]\n",
      " [7.6071342e-04 9.9923933e-01]\n",
      " [1.9237604e-03 9.9807620e-01]]\n",
      "Predicting DataLoader 0: 100%|██████████████████| 16/16 [00:05<00:00,  3.01it/s]"
     ]
    },
    {
     "name": "stderr",
     "output_type": "stream",
     "text": [
      "GPU available: True (mps), used: False\n",
      "TPU available: False, using: 0 TPU cores\n",
      "HPU available: False, using: 0 HPUs\n"
     ]
    },
    {
     "name": "stdout",
     "output_type": "stream",
     "text": [
      "\n",
      "Predicting DataLoader 0: 100%|██████████████████| 16/16 [00:05<00:00,  3.02it/s]"
     ]
    },
    {
     "name": "stderr",
     "output_type": "stream",
     "text": [
      "GPU available: True (mps), used: False\n",
      "TPU available: False, using: 0 TPU cores\n",
      "HPU available: False, using: 0 HPUs\n"
     ]
    },
    {
     "name": "stdout",
     "output_type": "stream",
     "text": [
      "\n",
      "[[5.6898916e-01 4.3101087e-01]\n",
      " [9.1019851e-01 8.9801498e-02]\n",
      " [7.5842506e-01 2.4157493e-01]\n",
      " ...\n",
      " [8.7760040e-04 9.9912244e-01]\n",
      " [1.0749481e-04 9.9989247e-01]\n",
      " [3.2749627e-04 9.9967253e-01]]\n",
      "Predicting DataLoader 0: 100%|██████████████████| 16/16 [00:05<00:00,  3.03it/s]"
     ]
    },
    {
     "name": "stderr",
     "output_type": "stream",
     "text": [
      "GPU available: True (mps), used: False\n",
      "TPU available: False, using: 0 TPU cores\n",
      "HPU available: False, using: 0 HPUs\n"
     ]
    },
    {
     "name": "stdout",
     "output_type": "stream",
     "text": [
      "\n",
      "cycles\n",
      "Accuracy:\n",
      "Accuracy_list: [0.8586956521739131, 0.8616600790513834, 0.8389328063241107, 0.7865612648221344, 0.8656126482213439, 0.741106719367589, 0.7895256916996047, 0.791501976284585, 0.7964426877470355, 0.83399209486166]\n",
      "Accuracy_mean: 0.8164031620553359\n",
      "Accuracy_std: 0.03921269351283284\n",
      "---\n",
      "Confusion matrix\n",
      "Confusion matrix mean: [[171.9  27.1]\n",
      " [158.7 654.3]]\n",
      "Confusion matrix std: [[ 4.27668096  4.27668096]\n",
      " [42.58650021 42.58650021]]\n",
      "---\n",
      "F1\n",
      "F1_list: [0.9069616135328562, 0.9090909090909091, 0.8922670191672174, 0.8518518518518519, 0.913154533844189, 0.813655761024182, 0.8546075085324232, 0.856754921928038, 0.8598639455782313, 0.8891820580474934]\n",
      "F1_mean: 0.8747390122597392\n",
      "F1_std: 0.030683695987104145\n",
      "---\n",
      "Sensitivity\n",
      "Sensitivity list: [0.8573185731857319, 0.8610086100861009, 0.8302583025830258, 0.7638376383763837, 0.8794587945879458, 0.7035670356703567, 0.7699876998769988, 0.7761377613776138, 0.7773677736777368, 0.8290282902829028]\n",
      "Sensitivity mean: 0.8047970479704798\n",
      "Sensitivity std: 0.05238191907552198\n",
      "---\n",
      "Specificity\n",
      "Specificity list: [0.864321608040201, 0.864321608040201, 0.8743718592964824, 0.8793969849246231, 0.8090452261306532, 0.8944723618090452, 0.8693467336683417, 0.8542713567839196, 0.8743718592964824, 0.8542713567839196]\n",
      "Specificity mean: 0.863819095477387\n",
      "Specificity std: 0.021490859075721718\n",
      "---\n",
      "AUC\n",
      "AUC list: [np.float64(0.8608200906129665), np.float64(0.8626651090631509), np.float64(0.8523150809397542), np.float64(0.8216173116505034), np.float64(0.8442520103592995), np.float64(0.7990196987397009), np.float64(0.8196672167726702), np.float64(0.8152045590807666), np.float64(0.8258698164871097), np.float64(0.8416498235334112)]\n",
      "AUC mean: 0.8343080717239333\n",
      "AUC std: 0.020101920226470383\n",
      "[ 3 17 13  6  2  0 11 10 14 20 19]\n",
      "[ 8 21  9  7 12  5 16  4  1 18 15]\n",
      "[[[  0.           0.           0.         ...   0.           0.\n",
      "     0.        ]\n",
      "  [ -0.09395     -0.20055     -0.26530001 ...  -1.81280005  -1.99220002\n",
      "    -2.14240003]\n",
      "  [  0.           0.           0.         ...   0.           0.\n",
      "     0.        ]\n",
      "  ...\n",
      "  [  0.           0.           0.         ...   0.           0.\n",
      "     0.        ]\n",
      "  [  0.           0.           0.         ...   0.           0.\n",
      "     0.        ]\n",
      "  [ -1.2658      -0.74980998  -0.40599999 ...  -4.43109989  -4.59639978\n",
      "    -4.76749992]]\n",
      "\n",
      " [[  0.           0.           0.         ...   0.           0.\n",
      "     0.        ]\n",
      "  [ -2.14240003  -2.2730999   -2.33719993 ...   0.41102999   0.15759\n",
      "    -0.10672   ]\n",
      "  [  0.           0.           0.         ...   0.           0.\n",
      "     0.        ]\n",
      "  ...\n",
      "  [  0.           0.           0.         ...   0.           0.\n",
      "     0.        ]\n",
      "  [  0.           0.           0.         ...   0.           0.\n",
      "     0.        ]\n",
      "  [ -4.76749992  -4.95900011  -5.13100004 ...  -9.70460033  -8.66300011\n",
      "    -7.74450016]]\n",
      "\n",
      " [[  0.           0.           0.         ...   0.           0.\n",
      "     0.        ]\n",
      "  [ -0.10672     -0.37911001  -0.63415998 ...  -0.77192003  -0.53368998\n",
      "    -0.26010999]\n",
      "  [  0.           0.           0.         ...   0.           0.\n",
      "     0.        ]\n",
      "  ...\n",
      "  [  0.           0.           0.         ...   0.           0.\n",
      "     0.        ]\n",
      "  [  0.           0.           0.         ...   0.           0.\n",
      "     0.        ]\n",
      "  [ -7.74450016  -6.95069981  -6.34880018 ... -20.10820007 -20.39389992\n",
      "   -20.59670067]]\n",
      "\n",
      " ...\n",
      "\n",
      " [[  0.           0.           0.         ...   0.           0.\n",
      "     0.        ]\n",
      "  [ -2.24236083  -1.90473559  -1.48810814 ...  -1.58531152  -1.42573044\n",
      "    -1.23178673]\n",
      "  [  0.           0.           0.         ...   0.           0.\n",
      "     0.        ]\n",
      "  ...\n",
      "  [  0.           0.           0.         ...   0.           0.\n",
      "     0.        ]\n",
      "  [  0.           0.           0.         ...   0.           0.\n",
      "     0.        ]\n",
      "  [ -8.6161232   -8.1762023   -7.78185129 ... -10.18683767  -9.91475296\n",
      "    -9.76077271]]\n",
      "\n",
      " [[  0.           0.           0.         ...   0.           0.\n",
      "     0.        ]\n",
      "  [ -1.71433377  -1.36683762  -0.93525237 ...  -2.38095212  -2.21133912\n",
      "    -1.99000728]\n",
      "  [  0.           0.           0.         ...   0.           0.\n",
      "     0.        ]\n",
      "  ...\n",
      "  [  0.           0.           0.         ...   0.           0.\n",
      "     0.        ]\n",
      "  [  0.           0.           0.         ...   0.           0.\n",
      "     0.        ]\n",
      "  [ -7.28481627  -7.17203269  -7.02763611 ...  -8.22230179  -8.23544794\n",
      "    -8.25190353]]\n",
      "\n",
      " [[  0.           0.           0.         ...   0.           0.\n",
      "     0.        ]\n",
      "  [ -1.7625562   -1.40059227  -0.95089936 ...  -1.8705765   -1.68114087\n",
      "    -1.45049751]\n",
      "  [  0.           0.           0.         ...   0.           0.\n",
      "     0.        ]\n",
      "  ...\n",
      "  [  0.           0.           0.         ...   0.           0.\n",
      "     0.        ]\n",
      "  [  0.           0.           0.         ...   0.           0.\n",
      "     0.        ]\n",
      "  [ -8.25153828  -8.21928295  -8.15699265 ...  -5.7183407   -6.01631781\n",
      "    -6.36253643]]]\n",
      "0\n"
     ]
    },
    {
     "name": "stderr",
     "output_type": "stream",
     "text": [
      "/opt/anaconda3/envs/env_gait_new/lib/python3.13/site-packages/pytorch_lightning/trainer/setup.py:177: GPU available but not used. You can set it by doing `Trainer(accelerator='gpu')`.\n",
      "/opt/anaconda3/envs/env_gait_new/lib/python3.13/site-packages/pytorch_lightning/trainer/connectors/data_connector.py:425: The 'predict_dataloader' does not have many workers which may be a bottleneck. Consider increasing the value of the `num_workers` argument` to `num_workers=13` in the `DataLoader` to improve performance.\n"
     ]
    },
    {
     "name": "stdout",
     "output_type": "stream",
     "text": [
      "Predicting DataLoader 0:   6%|█▏                 | 1/16 [00:00<00:05,  2.97it/s]"
     ]
    },
    {
     "name": "stderr",
     "output_type": "stream",
     "text": [
      "/opt/anaconda3/envs/env_gait_new/lib/python3.13/site-packages/torch/nn/modules/module.py:1739: UserWarning: Implicit dimension choice for softmax has been deprecated. Change the call to include dim=X as an argument.\n",
      "  return self._call_impl(*args, **kwargs)\n"
     ]
    },
    {
     "name": "stdout",
     "output_type": "stream",
     "text": [
      "Predicting DataLoader 0: 100%|██████████████████| 16/16 [00:05<00:00,  3.02it/s]"
     ]
    },
    {
     "name": "stderr",
     "output_type": "stream",
     "text": [
      "GPU available: True (mps), used: False\n",
      "TPU available: False, using: 0 TPU cores\n",
      "HPU available: False, using: 0 HPUs\n"
     ]
    },
    {
     "name": "stdout",
     "output_type": "stream",
     "text": [
      "\n",
      "[[9.99290109e-01 7.09824555e-04]\n",
      " [9.98891532e-01 1.10843917e-03]\n",
      " [9.91098106e-01 8.90185777e-03]\n",
      " ...\n",
      " [9.99978304e-01 2.17501856e-05]\n",
      " [9.99888420e-01 1.11522095e-04]\n",
      " [9.99928832e-01 7.11938046e-05]]\n",
      "Predicting DataLoader 0: 100%|██████████████████| 16/16 [00:05<00:00,  2.94it/s]"
     ]
    },
    {
     "name": "stderr",
     "output_type": "stream",
     "text": [
      "GPU available: True (mps), used: False\n",
      "TPU available: False, using: 0 TPU cores\n",
      "HPU available: False, using: 0 HPUs\n"
     ]
    },
    {
     "name": "stdout",
     "output_type": "stream",
     "text": [
      "\n",
      "Predicting DataLoader 0: 100%|██████████████████| 16/16 [00:05<00:00,  2.97it/s]"
     ]
    },
    {
     "name": "stderr",
     "output_type": "stream",
     "text": [
      "GPU available: True (mps), used: False\n",
      "TPU available: False, using: 0 TPU cores\n",
      "HPU available: False, using: 0 HPUs\n"
     ]
    },
    {
     "name": "stdout",
     "output_type": "stream",
     "text": [
      "\n",
      "[[9.5179003e-01 4.8209928e-02]\n",
      " [9.5575213e-01 4.4247836e-02]\n",
      " [8.5401946e-01 1.4598057e-01]\n",
      " ...\n",
      " [9.9933773e-01 6.6221826e-04]\n",
      " [9.9760985e-01 2.3900908e-03]\n",
      " [9.9884427e-01 1.1557053e-03]]\n",
      "Predicting DataLoader 0: 100%|██████████████████| 16/16 [00:05<00:00,  2.93it/s]"
     ]
    },
    {
     "name": "stderr",
     "output_type": "stream",
     "text": [
      "GPU available: True (mps), used: False\n",
      "TPU available: False, using: 0 TPU cores\n",
      "HPU available: False, using: 0 HPUs\n"
     ]
    },
    {
     "name": "stdout",
     "output_type": "stream",
     "text": [
      "\n",
      "Predicting DataLoader 0: 100%|██████████████████| 16/16 [00:05<00:00,  2.95it/s]"
     ]
    },
    {
     "name": "stderr",
     "output_type": "stream",
     "text": [
      "GPU available: True (mps), used: False\n",
      "TPU available: False, using: 0 TPU cores\n",
      "HPU available: False, using: 0 HPUs\n"
     ]
    },
    {
     "name": "stdout",
     "output_type": "stream",
     "text": [
      "\n",
      "[[9.9735308e-01 2.6468916e-03]\n",
      " [9.9488741e-01 5.1125600e-03]\n",
      " [9.7463846e-01 2.5361490e-02]\n",
      " ...\n",
      " [9.9929976e-01 7.0022442e-04]\n",
      " [9.9904329e-01 9.5669623e-04]\n",
      " [9.9944788e-01 5.5215415e-04]]\n",
      "Predicting DataLoader 0: 100%|██████████████████| 16/16 [00:05<00:00,  2.96it/s]"
     ]
    },
    {
     "name": "stderr",
     "output_type": "stream",
     "text": [
      "GPU available: True (mps), used: False\n",
      "TPU available: False, using: 0 TPU cores\n",
      "HPU available: False, using: 0 HPUs\n"
     ]
    },
    {
     "name": "stdout",
     "output_type": "stream",
     "text": [
      "\n",
      "Predicting DataLoader 0: 100%|██████████████████| 16/16 [00:05<00:00,  2.96it/s]"
     ]
    },
    {
     "name": "stderr",
     "output_type": "stream",
     "text": [
      "GPU available: True (mps), used: False\n",
      "TPU available: False, using: 0 TPU cores\n",
      "HPU available: False, using: 0 HPUs\n"
     ]
    },
    {
     "name": "stdout",
     "output_type": "stream",
     "text": [
      "\n",
      "[[9.9990511e-01 9.4880867e-05]\n",
      " [9.9974853e-01 2.5150983e-04]\n",
      " [9.9823642e-01 1.7635914e-03]\n",
      " ...\n",
      " [9.9995577e-01 4.4249158e-05]\n",
      " [9.9972492e-01 2.7509205e-04]\n",
      " [9.9991000e-01 9.0037254e-05]]\n",
      "Predicting DataLoader 0: 100%|██████████████████| 16/16 [00:05<00:00,  2.97it/s]"
     ]
    },
    {
     "name": "stderr",
     "output_type": "stream",
     "text": [
      "GPU available: True (mps), used: False\n",
      "TPU available: False, using: 0 TPU cores\n",
      "HPU available: False, using: 0 HPUs\n"
     ]
    },
    {
     "name": "stdout",
     "output_type": "stream",
     "text": [
      "\n",
      "Predicting DataLoader 0: 100%|██████████████████| 16/16 [00:05<00:00,  2.96it/s]"
     ]
    },
    {
     "name": "stderr",
     "output_type": "stream",
     "text": [
      "GPU available: True (mps), used: False\n",
      "TPU available: False, using: 0 TPU cores\n",
      "HPU available: False, using: 0 HPUs\n"
     ]
    },
    {
     "name": "stdout",
     "output_type": "stream",
     "text": [
      "\n",
      "[[9.9999678e-01 3.2550502e-06]\n",
      " [9.9999654e-01 3.4657453e-06]\n",
      " [9.9999630e-01 3.6867159e-06]\n",
      " ...\n",
      " [9.9999344e-01 6.5130748e-06]\n",
      " [9.9984932e-01 1.5070314e-04]\n",
      " [9.9995613e-01 4.3899508e-05]]\n",
      "Predicting DataLoader 0:   0%|                           | 0/16 [30:20<?, ?it/s]\n",
      "Predicting DataLoader 0: 100%|██████████████████| 16/16 [00:05<00:00,  2.84it/s]"
     ]
    },
    {
     "name": "stderr",
     "output_type": "stream",
     "text": [
      "GPU available: True (mps), used: False\n",
      "TPU available: False, using: 0 TPU cores\n",
      "HPU available: False, using: 0 HPUs\n"
     ]
    },
    {
     "name": "stdout",
     "output_type": "stream",
     "text": [
      "\n",
      "1\n",
      "Predicting DataLoader 0: 100%|██████████████████| 16/16 [00:05<00:00,  2.84it/s]"
     ]
    },
    {
     "name": "stderr",
     "output_type": "stream",
     "text": [
      "GPU available: True (mps), used: False\n",
      "TPU available: False, using: 0 TPU cores\n",
      "HPU available: False, using: 0 HPUs\n"
     ]
    },
    {
     "name": "stdout",
     "output_type": "stream",
     "text": [
      "\n",
      "[[0.80794877 0.19205125]\n",
      " [0.75945944 0.24054056]\n",
      " [0.197022   0.802978  ]\n",
      " ...\n",
      " [0.99540544 0.00459461]\n",
      " [0.964348   0.03565193]\n",
      " [0.98975044 0.01024954]]\n",
      "Predicting DataLoader 0: 100%|██████████████████| 16/16 [00:05<00:00,  2.83it/s]"
     ]
    },
    {
     "name": "stderr",
     "output_type": "stream",
     "text": [
      "GPU available: True (mps), used: False\n",
      "TPU available: False, using: 0 TPU cores\n",
      "HPU available: False, using: 0 HPUs\n"
     ]
    },
    {
     "name": "stdout",
     "output_type": "stream",
     "text": [
      "\n",
      "Predicting DataLoader 0: 100%|██████████████████| 16/16 [00:05<00:00,  2.84it/s]"
     ]
    },
    {
     "name": "stderr",
     "output_type": "stream",
     "text": [
      "GPU available: True (mps), used: False\n",
      "TPU available: False, using: 0 TPU cores\n",
      "HPU available: False, using: 0 HPUs\n"
     ]
    },
    {
     "name": "stdout",
     "output_type": "stream",
     "text": [
      "\n",
      "[[0.9960706  0.00392933]\n",
      " [0.99681747 0.00318246]\n",
      " [0.9914658  0.00853417]\n",
      " ...\n",
      " [0.998247   0.00175297]\n",
      " [0.97024554 0.0297545 ]\n",
      " [0.99169487 0.0083051 ]]\n",
      "Predicting DataLoader 0: 100%|██████████████████| 16/16 [00:05<00:00,  2.85it/s]"
     ]
    },
    {
     "name": "stderr",
     "output_type": "stream",
     "text": [
      "GPU available: True (mps), used: False\n",
      "TPU available: False, using: 0 TPU cores\n",
      "HPU available: False, using: 0 HPUs\n"
     ]
    },
    {
     "name": "stdout",
     "output_type": "stream",
     "text": [
      "\n",
      "Predicting DataLoader 0: 100%|██████████████████| 16/16 [00:05<00:00,  2.83it/s]"
     ]
    },
    {
     "name": "stderr",
     "output_type": "stream",
     "text": [
      "GPU available: True (mps), used: False\n",
      "TPU available: False, using: 0 TPU cores\n",
      "HPU available: False, using: 0 HPUs\n"
     ]
    },
    {
     "name": "stdout",
     "output_type": "stream",
     "text": [
      "\n",
      "[[9.9945527e-01 5.4478418e-04]\n",
      " [9.9914432e-01 8.5571350e-04]\n",
      " [9.9893111e-01 1.0688540e-03]\n",
      " ...\n",
      " [9.9970752e-01 2.9242141e-04]\n",
      " [9.9873453e-01 1.2654194e-03]\n",
      " [9.9951732e-01 4.8266220e-04]]\n",
      "Predicting DataLoader 0: 100%|██████████████████| 16/16 [00:05<00:00,  2.85it/s]"
     ]
    },
    {
     "name": "stderr",
     "output_type": "stream",
     "text": [
      "GPU available: True (mps), used: False\n",
      "TPU available: False, using: 0 TPU cores\n",
      "HPU available: False, using: 0 HPUs\n"
     ]
    },
    {
     "name": "stdout",
     "output_type": "stream",
     "text": [
      "\n",
      "Predicting DataLoader 0: 100%|██████████████████| 16/16 [00:05<00:00,  2.85it/s]"
     ]
    },
    {
     "name": "stderr",
     "output_type": "stream",
     "text": [
      "GPU available: True (mps), used: False\n",
      "TPU available: False, using: 0 TPU cores\n",
      "HPU available: False, using: 0 HPUs\n"
     ]
    },
    {
     "name": "stdout",
     "output_type": "stream",
     "text": [
      "\n",
      "[[9.9994540e-01 5.4595002e-05]\n",
      " [9.9992025e-01 7.9706748e-05]\n",
      " [9.9979359e-01 2.0645968e-04]\n",
      " ...\n",
      " [9.9999321e-01 6.8477448e-06]\n",
      " [9.9997902e-01 2.0998072e-05]\n",
      " [9.9998760e-01 1.2389062e-05]]\n",
      "Predicting DataLoader 0: 100%|██████████████████| 16/16 [00:05<00:00,  2.85it/s]"
     ]
    },
    {
     "name": "stderr",
     "output_type": "stream",
     "text": [
      "GPU available: True (mps), used: False\n",
      "TPU available: False, using: 0 TPU cores\n",
      "HPU available: False, using: 0 HPUs\n"
     ]
    },
    {
     "name": "stdout",
     "output_type": "stream",
     "text": [
      "\n",
      "Predicting DataLoader 0: 100%|██████████████████| 16/16 [00:05<00:00,  2.85it/s]"
     ]
    },
    {
     "name": "stderr",
     "output_type": "stream",
     "text": [
      "GPU available: True (mps), used: False\n",
      "TPU available: False, using: 0 TPU cores\n",
      "HPU available: False, using: 0 HPUs\n"
     ]
    },
    {
     "name": "stdout",
     "output_type": "stream",
     "text": [
      "\n",
      "[[9.9899393e-01 1.0061201e-03]\n",
      " [9.9892247e-01 1.0775488e-03]\n",
      " [9.9743384e-01 2.5662186e-03]\n",
      " ...\n",
      " [9.9988270e-01 1.1732934e-04]\n",
      " [9.9900299e-01 9.9702564e-04]\n",
      " [9.9954933e-01 4.5066039e-04]]\n",
      "Predicting DataLoader 0: 100%|██████████████████| 16/16 [00:05<00:00,  2.86it/s]"
     ]
    },
    {
     "name": "stderr",
     "output_type": "stream",
     "text": [
      "GPU available: True (mps), used: False\n",
      "TPU available: False, using: 0 TPU cores\n",
      "HPU available: False, using: 0 HPUs\n"
     ]
    },
    {
     "name": "stdout",
     "output_type": "stream",
     "text": [
      "\n",
      "2\n",
      "Predicting DataLoader 0: 100%|██████████████████| 16/16 [00:05<00:00,  2.85it/s]"
     ]
    },
    {
     "name": "stderr",
     "output_type": "stream",
     "text": [
      "GPU available: True (mps), used: False\n",
      "TPU available: False, using: 0 TPU cores\n",
      "HPU available: False, using: 0 HPUs\n"
     ]
    },
    {
     "name": "stdout",
     "output_type": "stream",
     "text": [
      "\n",
      "[[9.9999106e-01 8.9469968e-06]\n",
      " [9.9999261e-01 7.3619972e-06]\n",
      " [9.9975449e-01 2.4554593e-04]\n",
      " ...\n",
      " [9.9999750e-01 2.5606523e-06]\n",
      " [9.9998426e-01 1.5696043e-05]\n",
      " [9.9999559e-01 4.4218541e-06]]\n",
      "Predicting DataLoader 0: 100%|██████████████████| 16/16 [00:05<00:00,  2.88it/s]"
     ]
    },
    {
     "name": "stderr",
     "output_type": "stream",
     "text": [
      "GPU available: True (mps), used: False\n",
      "TPU available: False, using: 0 TPU cores\n",
      "HPU available: False, using: 0 HPUs\n"
     ]
    },
    {
     "name": "stdout",
     "output_type": "stream",
     "text": [
      "\n",
      "Predicting DataLoader 0: 100%|██████████████████| 16/16 [00:05<00:00,  2.86it/s]"
     ]
    },
    {
     "name": "stderr",
     "output_type": "stream",
     "text": [
      "GPU available: True (mps), used: False\n",
      "TPU available: False, using: 0 TPU cores\n",
      "HPU available: False, using: 0 HPUs\n"
     ]
    },
    {
     "name": "stdout",
     "output_type": "stream",
     "text": [
      "\n",
      "[[0.95955026 0.04044973]\n",
      " [0.97036517 0.0296348 ]\n",
      " [0.96006    0.03994001]\n",
      " ...\n",
      " [0.9917848  0.00821518]\n",
      " [0.97021234 0.02978766]\n",
      " [0.97420686 0.02579318]]\n",
      "Predicting DataLoader 0: 100%|██████████████████| 16/16 [00:05<00:00,  2.84it/s]"
     ]
    },
    {
     "name": "stderr",
     "output_type": "stream",
     "text": [
      "GPU available: True (mps), used: False\n",
      "TPU available: False, using: 0 TPU cores\n",
      "HPU available: False, using: 0 HPUs\n"
     ]
    },
    {
     "name": "stdout",
     "output_type": "stream",
     "text": [
      "\n",
      "Predicting DataLoader 0: 100%|██████████████████| 16/16 [00:05<00:00,  2.85it/s]"
     ]
    },
    {
     "name": "stderr",
     "output_type": "stream",
     "text": [
      "GPU available: True (mps), used: False\n",
      "TPU available: False, using: 0 TPU cores\n",
      "HPU available: False, using: 0 HPUs\n"
     ]
    },
    {
     "name": "stdout",
     "output_type": "stream",
     "text": [
      "\n",
      "[[0.9989015  0.00109853]\n",
      " [0.99430674 0.00569324]\n",
      " [0.7012653  0.29873475]\n",
      " ...\n",
      " [0.9966425  0.00335754]\n",
      " [0.9440767  0.05592328]\n",
      " [0.9864335  0.01356652]]\n",
      "Predicting DataLoader 0: 100%|██████████████████| 16/16 [00:05<00:00,  2.86it/s]"
     ]
    },
    {
     "name": "stderr",
     "output_type": "stream",
     "text": [
      "GPU available: True (mps), used: False\n",
      "TPU available: False, using: 0 TPU cores\n",
      "HPU available: False, using: 0 HPUs\n"
     ]
    },
    {
     "name": "stdout",
     "output_type": "stream",
     "text": [
      "\n",
      "Predicting DataLoader 0: 100%|██████████████████| 16/16 [00:05<00:00,  2.85it/s]"
     ]
    },
    {
     "name": "stderr",
     "output_type": "stream",
     "text": [
      "GPU available: True (mps), used: False\n",
      "TPU available: False, using: 0 TPU cores\n",
      "HPU available: False, using: 0 HPUs\n"
     ]
    },
    {
     "name": "stdout",
     "output_type": "stream",
     "text": [
      "\n",
      "[[9.9999344e-01 6.5841573e-06]\n",
      " [9.9999404e-01 5.9101490e-06]\n",
      " [9.9998784e-01 1.2178127e-05]\n",
      " ...\n",
      " [9.9994826e-01 5.1750769e-05]\n",
      " [9.9554551e-01 4.4545210e-03]\n",
      " [9.9858034e-01 1.4197147e-03]]\n",
      "Predicting DataLoader 0: 100%|██████████████████| 16/16 [00:05<00:00,  2.87it/s]"
     ]
    },
    {
     "name": "stderr",
     "output_type": "stream",
     "text": [
      "GPU available: True (mps), used: False\n",
      "TPU available: False, using: 0 TPU cores\n",
      "HPU available: False, using: 0 HPUs\n"
     ]
    },
    {
     "name": "stdout",
     "output_type": "stream",
     "text": [
      "\n",
      "Predicting DataLoader 0: 100%|██████████████████| 16/16 [00:05<00:00,  2.86it/s]"
     ]
    },
    {
     "name": "stderr",
     "output_type": "stream",
     "text": [
      "GPU available: True (mps), used: False\n",
      "TPU available: False, using: 0 TPU cores\n",
      "HPU available: False, using: 0 HPUs\n"
     ]
    },
    {
     "name": "stdout",
     "output_type": "stream",
     "text": [
      "\n",
      "[[0.9515376  0.04846241]\n",
      " [0.99170446 0.00829556]\n",
      " [0.8365905  0.16340949]\n",
      " ...\n",
      " [0.9566984  0.04330157]\n",
      " [0.72034425 0.27965578]\n",
      " [0.8659293  0.1340707 ]]\n",
      "Predicting DataLoader 0: 100%|██████████████████| 16/16 [00:05<00:00,  2.86it/s]"
     ]
    },
    {
     "name": "stderr",
     "output_type": "stream",
     "text": [
      "GPU available: True (mps), used: False\n",
      "TPU available: False, using: 0 TPU cores\n",
      "HPU available: False, using: 0 HPUs\n"
     ]
    },
    {
     "name": "stdout",
     "output_type": "stream",
     "text": [
      "\n",
      "3\n",
      "Predicting DataLoader 0: 100%|██████████████████| 16/16 [00:05<00:00,  2.86it/s]"
     ]
    },
    {
     "name": "stderr",
     "output_type": "stream",
     "text": [
      "GPU available: True (mps), used: False\n",
      "TPU available: False, using: 0 TPU cores\n",
      "HPU available: False, using: 0 HPUs\n"
     ]
    },
    {
     "name": "stdout",
     "output_type": "stream",
     "text": [
      "\n",
      "[[1.0000000e+00 3.4158020e-08]\n",
      " [9.9999976e-01 2.1083484e-07]\n",
      " [9.9999964e-01 3.2826028e-07]\n",
      " ...\n",
      " [1.0000000e+00 2.4043612e-09]\n",
      " [1.0000000e+00 1.2812606e-08]\n",
      " [1.0000000e+00 1.1852233e-08]]\n",
      "Predicting DataLoader 0: 100%|██████████████████| 16/16 [00:05<00:00,  2.83it/s]"
     ]
    },
    {
     "name": "stderr",
     "output_type": "stream",
     "text": [
      "GPU available: True (mps), used: False\n",
      "TPU available: False, using: 0 TPU cores\n",
      "HPU available: False, using: 0 HPUs\n"
     ]
    },
    {
     "name": "stdout",
     "output_type": "stream",
     "text": [
      "\n",
      "Predicting DataLoader 0: 100%|██████████████████| 16/16 [00:05<00:00,  2.83it/s]"
     ]
    },
    {
     "name": "stderr",
     "output_type": "stream",
     "text": [
      "GPU available: True (mps), used: False\n",
      "TPU available: False, using: 0 TPU cores\n",
      "HPU available: False, using: 0 HPUs\n"
     ]
    },
    {
     "name": "stdout",
     "output_type": "stream",
     "text": [
      "\n",
      "[[9.9998009e-01 1.9930958e-05]\n",
      " [9.9996102e-01 3.8965169e-05]\n",
      " [9.9956185e-01 4.3818756e-04]\n",
      " ...\n",
      " [9.9999404e-01 5.9852700e-06]\n",
      " [9.9996328e-01 3.6664180e-05]\n",
      " [9.9998200e-01 1.7988201e-05]]\n",
      "Predicting DataLoader 0: 100%|██████████████████| 16/16 [00:05<00:00,  2.85it/s]"
     ]
    },
    {
     "name": "stderr",
     "output_type": "stream",
     "text": [
      "GPU available: True (mps), used: False\n",
      "TPU available: False, using: 0 TPU cores\n",
      "HPU available: False, using: 0 HPUs\n"
     ]
    },
    {
     "name": "stdout",
     "output_type": "stream",
     "text": [
      "\n",
      "Predicting DataLoader 0: 100%|██████████████████| 16/16 [00:05<00:00,  2.84it/s]"
     ]
    },
    {
     "name": "stderr",
     "output_type": "stream",
     "text": [
      "GPU available: True (mps), used: False\n",
      "TPU available: False, using: 0 TPU cores\n",
      "HPU available: False, using: 0 HPUs\n"
     ]
    },
    {
     "name": "stdout",
     "output_type": "stream",
     "text": [
      "\n",
      "[[0.9973863  0.00261377]\n",
      " [0.9966286  0.00337138]\n",
      " [0.9909271  0.00907291]\n",
      " ...\n",
      " [0.93950564 0.06049439]\n",
      " [0.6999912  0.30000883]\n",
      " [0.7378422  0.2621577 ]]\n",
      "Predicting DataLoader 0: 100%|██████████████████| 16/16 [00:05<00:00,  2.86it/s]"
     ]
    },
    {
     "name": "stderr",
     "output_type": "stream",
     "text": [
      "GPU available: True (mps), used: False\n",
      "TPU available: False, using: 0 TPU cores\n",
      "HPU available: False, using: 0 HPUs\n"
     ]
    },
    {
     "name": "stdout",
     "output_type": "stream",
     "text": [
      "\n",
      "Predicting DataLoader 0: 100%|██████████████████| 16/16 [00:05<00:00,  2.85it/s]"
     ]
    },
    {
     "name": "stderr",
     "output_type": "stream",
     "text": [
      "GPU available: True (mps), used: False\n",
      "TPU available: False, using: 0 TPU cores\n",
      "HPU available: False, using: 0 HPUs\n"
     ]
    },
    {
     "name": "stdout",
     "output_type": "stream",
     "text": [
      "\n",
      "[[9.9987590e-01 1.2410896e-04]\n",
      " [9.9973434e-01 2.6560607e-04]\n",
      " [9.9930859e-01 6.9139223e-04]\n",
      " ...\n",
      " [9.9956578e-01 4.3423459e-04]\n",
      " [9.8767221e-01 1.2327836e-02]\n",
      " [9.9790144e-01 2.0985063e-03]]\n",
      "Predicting DataLoader 0: 100%|██████████████████| 16/16 [00:05<00:00,  2.85it/s]"
     ]
    },
    {
     "name": "stderr",
     "output_type": "stream",
     "text": [
      "GPU available: True (mps), used: False\n",
      "TPU available: False, using: 0 TPU cores\n",
      "HPU available: False, using: 0 HPUs\n"
     ]
    },
    {
     "name": "stdout",
     "output_type": "stream",
     "text": [
      "\n",
      "Predicting DataLoader 0: 100%|██████████████████| 16/16 [00:05<00:00,  2.85it/s]"
     ]
    },
    {
     "name": "stderr",
     "output_type": "stream",
     "text": [
      "GPU available: True (mps), used: False\n",
      "TPU available: False, using: 0 TPU cores\n",
      "HPU available: False, using: 0 HPUs\n"
     ]
    },
    {
     "name": "stdout",
     "output_type": "stream",
     "text": [
      "\n",
      "[[1.0000000e+00 6.6804819e-09]\n",
      " [1.0000000e+00 1.0362515e-08]\n",
      " [1.0000000e+00 9.4227683e-09]\n",
      " ...\n",
      " [1.0000000e+00 1.9849512e-08]\n",
      " [9.9999893e-01 1.0300442e-06]\n",
      " [9.9999976e-01 1.9833963e-07]]\n",
      "Predicting DataLoader 0: 100%|██████████████████| 16/16 [00:05<00:00,  2.85it/s]"
     ]
    },
    {
     "name": "stderr",
     "output_type": "stream",
     "text": [
      "GPU available: True (mps), used: False\n",
      "TPU available: False, using: 0 TPU cores\n",
      "HPU available: False, using: 0 HPUs\n"
     ]
    },
    {
     "name": "stdout",
     "output_type": "stream",
     "text": [
      "\n",
      "4\n",
      "Predicting DataLoader 0: 100%|██████████████████| 16/16 [00:05<00:00,  2.87it/s]"
     ]
    },
    {
     "name": "stderr",
     "output_type": "stream",
     "text": [
      "GPU available: True (mps), used: False\n",
      "TPU available: False, using: 0 TPU cores\n",
      "HPU available: False, using: 0 HPUs\n"
     ]
    },
    {
     "name": "stdout",
     "output_type": "stream",
     "text": [
      "\n",
      "[[9.9999928e-01 6.7348066e-07]\n",
      " [9.9999738e-01 2.6352097e-06]\n",
      " [9.9999833e-01 1.6193737e-06]\n",
      " ...\n",
      " [9.9998951e-01 1.0436210e-05]\n",
      " [9.9968159e-01 3.1848077e-04]\n",
      " [9.9991608e-01 8.3862382e-05]]\n",
      "Predicting DataLoader 0: 100%|██████████████████| 16/16 [00:05<00:00,  2.86it/s]"
     ]
    },
    {
     "name": "stderr",
     "output_type": "stream",
     "text": [
      "GPU available: True (mps), used: False\n",
      "TPU available: False, using: 0 TPU cores\n",
      "HPU available: False, using: 0 HPUs\n"
     ]
    },
    {
     "name": "stdout",
     "output_type": "stream",
     "text": [
      "\n",
      "Predicting DataLoader 0: 100%|██████████████████| 16/16 [00:05<00:00,  2.85it/s]"
     ]
    },
    {
     "name": "stderr",
     "output_type": "stream",
     "text": [
      "GPU available: True (mps), used: False\n",
      "TPU available: False, using: 0 TPU cores\n",
      "HPU available: False, using: 0 HPUs\n"
     ]
    },
    {
     "name": "stdout",
     "output_type": "stream",
     "text": [
      "\n",
      "[[9.9998653e-01 1.3415508e-05]\n",
      " [9.9998558e-01 1.4388993e-05]\n",
      " [9.9997568e-01 2.4356294e-05]\n",
      " ...\n",
      " [9.9998415e-01 1.5799185e-05]\n",
      " [9.9874783e-01 1.2521847e-03]\n",
      " [9.9971455e-01 2.8545372e-04]]\n",
      "Predicting DataLoader 0: 100%|██████████████████| 16/16 [00:05<00:00,  2.85it/s]"
     ]
    },
    {
     "name": "stderr",
     "output_type": "stream",
     "text": [
      "GPU available: True (mps), used: False\n",
      "TPU available: False, using: 0 TPU cores\n",
      "HPU available: False, using: 0 HPUs\n"
     ]
    },
    {
     "name": "stdout",
     "output_type": "stream",
     "text": [
      "\n",
      "Predicting DataLoader 0: 100%|██████████████████| 16/16 [00:05<00:00,  2.84it/s]"
     ]
    },
    {
     "name": "stderr",
     "output_type": "stream",
     "text": [
      "GPU available: True (mps), used: False\n",
      "TPU available: False, using: 0 TPU cores\n",
      "HPU available: False, using: 0 HPUs\n"
     ]
    },
    {
     "name": "stdout",
     "output_type": "stream",
     "text": [
      "\n",
      "[[9.9974161e-01 2.5841460e-04]\n",
      " [9.9951255e-01 4.8739926e-04]\n",
      " [9.9221194e-01 7.7880714e-03]\n",
      " ...\n",
      " [9.9986744e-01 1.3259513e-04]\n",
      " [9.9974662e-01 2.5336162e-04]\n",
      " [9.9992609e-01 7.3960349e-05]]\n",
      "Predicting DataLoader 0: 100%|██████████████████| 16/16 [00:05<00:00,  2.86it/s]"
     ]
    },
    {
     "name": "stderr",
     "output_type": "stream",
     "text": [
      "GPU available: True (mps), used: False\n",
      "TPU available: False, using: 0 TPU cores\n",
      "HPU available: False, using: 0 HPUs\n"
     ]
    },
    {
     "name": "stdout",
     "output_type": "stream",
     "text": [
      "\n",
      "Predicting DataLoader 0: 100%|██████████████████| 16/16 [00:05<00:00,  2.85it/s]"
     ]
    },
    {
     "name": "stderr",
     "output_type": "stream",
     "text": [
      "GPU available: True (mps), used: False\n",
      "TPU available: False, using: 0 TPU cores\n",
      "HPU available: False, using: 0 HPUs\n"
     ]
    },
    {
     "name": "stdout",
     "output_type": "stream",
     "text": [
      "\n",
      "[[9.9999702e-01 2.9842352e-06]\n",
      " [9.9999321e-01 6.7688766e-06]\n",
      " [9.9999225e-01 7.7497643e-06]\n",
      " ...\n",
      " [9.9999499e-01 5.0534682e-06]\n",
      " [9.9987984e-01 1.2020169e-04]\n",
      " [9.9996400e-01 3.6004058e-05]]\n",
      "Predicting DataLoader 0: 100%|██████████████████| 16/16 [00:05<00:00,  2.85it/s]"
     ]
    },
    {
     "name": "stderr",
     "output_type": "stream",
     "text": [
      "GPU available: True (mps), used: False\n",
      "TPU available: False, using: 0 TPU cores\n",
      "HPU available: False, using: 0 HPUs\n"
     ]
    },
    {
     "name": "stdout",
     "output_type": "stream",
     "text": [
      "\n",
      "Predicting DataLoader 0: 100%|██████████████████| 16/16 [00:05<00:00,  2.86it/s]"
     ]
    },
    {
     "name": "stderr",
     "output_type": "stream",
     "text": [
      "GPU available: True (mps), used: False\n",
      "TPU available: False, using: 0 TPU cores\n",
      "HPU available: False, using: 0 HPUs\n"
     ]
    },
    {
     "name": "stdout",
     "output_type": "stream",
     "text": [
      "\n",
      "[[9.9995136e-01 4.8675764e-05]\n",
      " [9.9995029e-01 4.9733266e-05]\n",
      " [9.9944621e-01 5.5377820e-04]\n",
      " ...\n",
      " [9.9815035e-01 1.8496845e-03]\n",
      " [9.3658835e-01 6.3411623e-02]\n",
      " [9.8370415e-01 1.6295873e-02]]\n",
      "Predicting DataLoader 0: 100%|██████████████████| 16/16 [00:05<00:00,  2.86it/s]"
     ]
    },
    {
     "name": "stderr",
     "output_type": "stream",
     "text": [
      "GPU available: True (mps), used: False\n",
      "TPU available: False, using: 0 TPU cores\n",
      "HPU available: False, using: 0 HPUs\n"
     ]
    },
    {
     "name": "stdout",
     "output_type": "stream",
     "text": [
      "\n",
      "5\n",
      "Predicting DataLoader 0: 100%|██████████████████| 16/16 [00:05<00:00,  2.85it/s]"
     ]
    },
    {
     "name": "stderr",
     "output_type": "stream",
     "text": [
      "GPU available: True (mps), used: False\n",
      "TPU available: False, using: 0 TPU cores\n",
      "HPU available: False, using: 0 HPUs\n"
     ]
    },
    {
     "name": "stdout",
     "output_type": "stream",
     "text": [
      "\n",
      "[[9.9993920e-01 6.0830793e-05]\n",
      " [9.9976581e-01 2.3419924e-04]\n",
      " [9.9958211e-01 4.1785036e-04]\n",
      " ...\n",
      " [9.9993277e-01 6.7251043e-05]\n",
      " [9.4601399e-01 5.3986017e-02]\n",
      " [9.7139055e-01 2.8609505e-02]]\n",
      "Predicting DataLoader 0: 100%|██████████████████| 16/16 [00:05<00:00,  2.87it/s]"
     ]
    },
    {
     "name": "stderr",
     "output_type": "stream",
     "text": [
      "GPU available: True (mps), used: False\n",
      "TPU available: False, using: 0 TPU cores\n",
      "HPU available: False, using: 0 HPUs\n"
     ]
    },
    {
     "name": "stdout",
     "output_type": "stream",
     "text": [
      "\n",
      "Predicting DataLoader 0: 100%|██████████████████| 16/16 [00:05<00:00,  2.86it/s]"
     ]
    },
    {
     "name": "stderr",
     "output_type": "stream",
     "text": [
      "GPU available: True (mps), used: False\n",
      "TPU available: False, using: 0 TPU cores\n",
      "HPU available: False, using: 0 HPUs\n"
     ]
    },
    {
     "name": "stdout",
     "output_type": "stream",
     "text": [
      "\n",
      "[[9.9997771e-01 2.2255519e-05]\n",
      " [9.9998391e-01 1.6083683e-05]\n",
      " [9.9955565e-01 4.4430894e-04]\n",
      " ...\n",
      " [9.9992621e-01 7.3815754e-05]\n",
      " [9.9458200e-01 5.4179812e-03]\n",
      " [9.9913305e-01 8.6698291e-04]]\n",
      "Predicting DataLoader 0: 100%|██████████████████| 16/16 [00:05<00:00,  2.86it/s]"
     ]
    },
    {
     "name": "stderr",
     "output_type": "stream",
     "text": [
      "GPU available: True (mps), used: False\n",
      "TPU available: False, using: 0 TPU cores\n",
      "HPU available: False, using: 0 HPUs\n"
     ]
    },
    {
     "name": "stdout",
     "output_type": "stream",
     "text": [
      "\n",
      "Predicting DataLoader 0: 100%|██████████████████| 16/16 [00:05<00:00,  2.84it/s]"
     ]
    },
    {
     "name": "stderr",
     "output_type": "stream",
     "text": [
      "GPU available: True (mps), used: False\n",
      "TPU available: False, using: 0 TPU cores\n",
      "HPU available: False, using: 0 HPUs\n"
     ]
    },
    {
     "name": "stdout",
     "output_type": "stream",
     "text": [
      "\n",
      "[[9.9994648e-01 5.3535929e-05]\n",
      " [9.9984896e-01 1.5100118e-04]\n",
      " [9.9986100e-01 1.3900572e-04]\n",
      " ...\n",
      " [9.9991238e-01 8.7640285e-05]\n",
      " [9.9853706e-01 1.4629079e-03]\n",
      " [9.9938583e-01 6.1414286e-04]]\n",
      "Predicting DataLoader 0: 100%|██████████████████| 16/16 [00:05<00:00,  2.87it/s]"
     ]
    },
    {
     "name": "stderr",
     "output_type": "stream",
     "text": [
      "GPU available: True (mps), used: False\n",
      "TPU available: False, using: 0 TPU cores\n",
      "HPU available: False, using: 0 HPUs\n"
     ]
    },
    {
     "name": "stdout",
     "output_type": "stream",
     "text": [
      "\n",
      "Predicting DataLoader 0: 100%|██████████████████| 16/16 [00:05<00:00,  2.86it/s]"
     ]
    },
    {
     "name": "stderr",
     "output_type": "stream",
     "text": [
      "GPU available: True (mps), used: False\n",
      "TPU available: False, using: 0 TPU cores\n",
      "HPU available: False, using: 0 HPUs\n"
     ]
    },
    {
     "name": "stdout",
     "output_type": "stream",
     "text": [
      "\n",
      "[[9.99993443e-01 6.61461263e-06]\n",
      " [9.99987960e-01 1.20529385e-05]\n",
      " [9.99968886e-01 3.10829055e-05]\n",
      " ...\n",
      " [9.99959826e-01 4.02290862e-05]\n",
      " [9.97152686e-01 2.84729269e-03]\n",
      " [9.99459922e-01 5.40114299e-04]]\n",
      "Predicting DataLoader 0: 100%|██████████████████| 16/16 [00:05<00:00,  2.86it/s]"
     ]
    },
    {
     "name": "stderr",
     "output_type": "stream",
     "text": [
      "GPU available: True (mps), used: False\n",
      "TPU available: False, using: 0 TPU cores\n",
      "HPU available: False, using: 0 HPUs\n"
     ]
    },
    {
     "name": "stdout",
     "output_type": "stream",
     "text": [
      "\n",
      "Predicting DataLoader 0: 100%|██████████████████| 16/16 [00:05<00:00,  2.87it/s]"
     ]
    },
    {
     "name": "stderr",
     "output_type": "stream",
     "text": [
      "GPU available: True (mps), used: False\n",
      "TPU available: False, using: 0 TPU cores\n",
      "HPU available: False, using: 0 HPUs\n"
     ]
    },
    {
     "name": "stdout",
     "output_type": "stream",
     "text": [
      "\n",
      "[[9.9966419e-01 3.3576280e-04]\n",
      " [9.9959904e-01 4.0103029e-04]\n",
      " [9.9307090e-01 6.9290437e-03]\n",
      " ...\n",
      " [9.9984622e-01 1.5370727e-04]\n",
      " [9.9669904e-01 3.3009409e-03]\n",
      " [9.9940908e-01 5.9087481e-04]]\n",
      "Predicting DataLoader 0: 100%|██████████████████| 16/16 [00:05<00:00,  2.85it/s]"
     ]
    },
    {
     "name": "stderr",
     "output_type": "stream",
     "text": [
      "GPU available: True (mps), used: False\n",
      "TPU available: False, using: 0 TPU cores\n",
      "HPU available: False, using: 0 HPUs\n"
     ]
    },
    {
     "name": "stdout",
     "output_type": "stream",
     "text": [
      "\n",
      "6\n",
      "Predicting DataLoader 0: 100%|██████████████████| 16/16 [00:05<00:00,  2.86it/s]"
     ]
    },
    {
     "name": "stderr",
     "output_type": "stream",
     "text": [
      "GPU available: True (mps), used: False\n",
      "TPU available: False, using: 0 TPU cores\n",
      "HPU available: False, using: 0 HPUs\n"
     ]
    },
    {
     "name": "stdout",
     "output_type": "stream",
     "text": [
      "\n",
      "[[9.9998713e-01 1.2838905e-05]\n",
      " [9.9998307e-01 1.6955191e-05]\n",
      " [9.9994743e-01 5.2625521e-05]\n",
      " ...\n",
      " [9.9999774e-01 2.2533209e-06]\n",
      " [9.9998200e-01 1.8045090e-05]\n",
      " [9.9999380e-01 6.1755090e-06]]\n",
      "Predicting DataLoader 0: 100%|██████████████████| 16/16 [00:05<00:00,  2.83it/s]"
     ]
    },
    {
     "name": "stderr",
     "output_type": "stream",
     "text": [
      "GPU available: True (mps), used: False\n",
      "TPU available: False, using: 0 TPU cores\n",
      "HPU available: False, using: 0 HPUs\n"
     ]
    },
    {
     "name": "stdout",
     "output_type": "stream",
     "text": [
      "\n",
      "Predicting DataLoader 0: 100%|██████████████████| 16/16 [00:05<00:00,  2.83it/s]"
     ]
    },
    {
     "name": "stderr",
     "output_type": "stream",
     "text": [
      "GPU available: True (mps), used: False\n",
      "TPU available: False, using: 0 TPU cores\n",
      "HPU available: False, using: 0 HPUs\n"
     ]
    },
    {
     "name": "stdout",
     "output_type": "stream",
     "text": [
      "\n",
      "[[0.77412635 0.22587366]\n",
      " [0.82551575 0.17448427]\n",
      " [0.14362957 0.8563704 ]\n",
      " ...\n",
      " [0.31149173 0.6885082 ]\n",
      " [0.00592676 0.9940732 ]\n",
      " [0.0295482  0.97045183]]\n",
      "Predicting DataLoader 0: 100%|██████████████████| 16/16 [00:05<00:00,  2.88it/s]"
     ]
    },
    {
     "name": "stderr",
     "output_type": "stream",
     "text": [
      "GPU available: True (mps), used: False\n",
      "TPU available: False, using: 0 TPU cores\n",
      "HPU available: False, using: 0 HPUs\n"
     ]
    },
    {
     "name": "stdout",
     "output_type": "stream",
     "text": [
      "\n",
      "Predicting DataLoader 0: 100%|██████████████████| 16/16 [00:05<00:00,  2.85it/s]"
     ]
    },
    {
     "name": "stderr",
     "output_type": "stream",
     "text": [
      "GPU available: True (mps), used: False\n",
      "TPU available: False, using: 0 TPU cores\n",
      "HPU available: False, using: 0 HPUs\n"
     ]
    },
    {
     "name": "stdout",
     "output_type": "stream",
     "text": [
      "\n",
      "[[9.9996221e-01 3.7733764e-05]\n",
      " [9.9996889e-01 3.1081396e-05]\n",
      " [9.9934715e-01 6.5288093e-04]\n",
      " ...\n",
      " [9.9986303e-01 1.3698971e-04]\n",
      " [9.9198687e-01 8.0130883e-03]\n",
      " [9.9819046e-01 1.8095649e-03]]\n",
      "Predicting DataLoader 0: 100%|██████████████████| 16/16 [00:05<00:00,  2.85it/s]"
     ]
    },
    {
     "name": "stderr",
     "output_type": "stream",
     "text": [
      "GPU available: True (mps), used: False\n",
      "TPU available: False, using: 0 TPU cores\n",
      "HPU available: False, using: 0 HPUs\n"
     ]
    },
    {
     "name": "stdout",
     "output_type": "stream",
     "text": [
      "\n",
      "Predicting DataLoader 0: 100%|██████████████████| 16/16 [00:05<00:00,  2.86it/s]"
     ]
    },
    {
     "name": "stderr",
     "output_type": "stream",
     "text": [
      "GPU available: True (mps), used: False\n",
      "TPU available: False, using: 0 TPU cores\n",
      "HPU available: False, using: 0 HPUs\n"
     ]
    },
    {
     "name": "stdout",
     "output_type": "stream",
     "text": [
      "\n",
      "[[0.9703353  0.0296647 ]\n",
      " [0.9486868  0.05131327]\n",
      " [0.9176669  0.08233314]\n",
      " ...\n",
      " [0.9874407  0.01255934]\n",
      " [0.98173875 0.01826129]\n",
      " [0.98989534 0.01010468]]\n",
      "Predicting DataLoader 0: 100%|██████████████████| 16/16 [00:05<00:00,  2.86it/s]"
     ]
    },
    {
     "name": "stderr",
     "output_type": "stream",
     "text": [
      "GPU available: True (mps), used: False\n",
      "TPU available: False, using: 0 TPU cores\n",
      "HPU available: False, using: 0 HPUs\n"
     ]
    },
    {
     "name": "stdout",
     "output_type": "stream",
     "text": [
      "\n",
      "Predicting DataLoader 0: 100%|██████████████████| 16/16 [00:05<00:00,  2.88it/s]"
     ]
    },
    {
     "name": "stderr",
     "output_type": "stream",
     "text": [
      "GPU available: True (mps), used: False\n",
      "TPU available: False, using: 0 TPU cores\n",
      "HPU available: False, using: 0 HPUs\n"
     ]
    },
    {
     "name": "stdout",
     "output_type": "stream",
     "text": [
      "\n",
      "[[9.9999881e-01 1.1513021e-06]\n",
      " [9.9999714e-01 2.8042132e-06]\n",
      " [9.9999690e-01 3.1421057e-06]\n",
      " ...\n",
      " [9.9999487e-01 5.1762981e-06]\n",
      " [9.9956340e-01 4.3655382e-04]\n",
      " [9.9980468e-01 1.9533190e-04]]\n",
      "Predicting DataLoader 0: 100%|██████████████████| 16/16 [00:05<00:00,  2.86it/s]"
     ]
    },
    {
     "name": "stderr",
     "output_type": "stream",
     "text": [
      "GPU available: True (mps), used: False\n",
      "TPU available: False, using: 0 TPU cores\n",
      "HPU available: False, using: 0 HPUs\n"
     ]
    },
    {
     "name": "stdout",
     "output_type": "stream",
     "text": [
      "\n",
      "7\n",
      "Predicting DataLoader 0: 100%|██████████████████| 16/16 [00:05<00:00,  2.86it/s]"
     ]
    },
    {
     "name": "stderr",
     "output_type": "stream",
     "text": [
      "GPU available: True (mps), used: False\n",
      "TPU available: False, using: 0 TPU cores\n",
      "HPU available: False, using: 0 HPUs\n"
     ]
    },
    {
     "name": "stdout",
     "output_type": "stream",
     "text": [
      "\n",
      "[[9.99999881e-01 1.26986777e-07]\n",
      " [9.99999642e-01 3.27952392e-07]\n",
      " [9.99990940e-01 9.04405533e-06]\n",
      " ...\n",
      " [9.99995470e-01 4.47693901e-06]\n",
      " [9.99889851e-01 1.10087036e-04]\n",
      " [9.99945641e-01 5.43173774e-05]]\n",
      "Predicting DataLoader 0: 100%|██████████████████| 16/16 [00:05<00:00,  2.87it/s]"
     ]
    },
    {
     "name": "stderr",
     "output_type": "stream",
     "text": [
      "GPU available: True (mps), used: False\n",
      "TPU available: False, using: 0 TPU cores\n",
      "HPU available: False, using: 0 HPUs\n"
     ]
    },
    {
     "name": "stdout",
     "output_type": "stream",
     "text": [
      "\n",
      "Predicting DataLoader 0: 100%|██████████████████| 16/16 [00:05<00:00,  2.86it/s]"
     ]
    },
    {
     "name": "stderr",
     "output_type": "stream",
     "text": [
      "GPU available: True (mps), used: False\n",
      "TPU available: False, using: 0 TPU cores\n",
      "HPU available: False, using: 0 HPUs\n"
     ]
    },
    {
     "name": "stdout",
     "output_type": "stream",
     "text": [
      "\n",
      "[[9.9909174e-01 9.0830104e-04]\n",
      " [9.9916887e-01 8.3117728e-04]\n",
      " [9.9529052e-01 4.7094785e-03]\n",
      " ...\n",
      " [9.7162646e-01 2.8373566e-02]\n",
      " [6.2059814e-01 3.7940177e-01]\n",
      " [7.7747411e-01 2.2252589e-01]]\n",
      "Predicting DataLoader 0: 100%|██████████████████| 16/16 [00:05<00:00,  2.86it/s]"
     ]
    },
    {
     "name": "stderr",
     "output_type": "stream",
     "text": [
      "GPU available: True (mps), used: False\n",
      "TPU available: False, using: 0 TPU cores\n",
      "HPU available: False, using: 0 HPUs\n"
     ]
    },
    {
     "name": "stdout",
     "output_type": "stream",
     "text": [
      "\n",
      "Predicting DataLoader 0: 100%|██████████████████| 16/16 [00:05<00:00,  2.88it/s]"
     ]
    },
    {
     "name": "stderr",
     "output_type": "stream",
     "text": [
      "GPU available: True (mps), used: False\n",
      "TPU available: False, using: 0 TPU cores\n",
      "HPU available: False, using: 0 HPUs\n"
     ]
    },
    {
     "name": "stdout",
     "output_type": "stream",
     "text": [
      "\n",
      "[[9.9999976e-01 2.1901329e-07]\n",
      " [9.9999940e-01 5.8540815e-07]\n",
      " [9.9999368e-01 6.2595277e-06]\n",
      " ...\n",
      " [1.0000000e+00 4.9801542e-08]\n",
      " [9.9999893e-01 1.0568892e-06]\n",
      " [9.9999940e-01 5.8260781e-07]]\n",
      "Predicting DataLoader 0: 100%|██████████████████| 16/16 [00:05<00:00,  2.88it/s]"
     ]
    },
    {
     "name": "stderr",
     "output_type": "stream",
     "text": [
      "GPU available: True (mps), used: False\n",
      "TPU available: False, using: 0 TPU cores\n",
      "HPU available: False, using: 0 HPUs\n"
     ]
    },
    {
     "name": "stdout",
     "output_type": "stream",
     "text": [
      "\n",
      "Predicting DataLoader 0: 100%|██████████████████| 16/16 [00:05<00:00,  2.86it/s]"
     ]
    },
    {
     "name": "stderr",
     "output_type": "stream",
     "text": [
      "GPU available: True (mps), used: False\n",
      "TPU available: False, using: 0 TPU cores\n",
      "HPU available: False, using: 0 HPUs\n"
     ]
    },
    {
     "name": "stdout",
     "output_type": "stream",
     "text": [
      "\n",
      "[[9.9999797e-01 2.0702698e-06]\n",
      " [9.9999404e-01 5.9010813e-06]\n",
      " [9.9998188e-01 1.8147912e-05]\n",
      " ...\n",
      " [9.9998868e-01 1.1281684e-05]\n",
      " [9.9930906e-01 6.9098419e-04]\n",
      " [9.9980646e-01 1.9351221e-04]]\n",
      "Predicting DataLoader 0: 100%|██████████████████| 16/16 [00:05<00:00,  2.87it/s]"
     ]
    },
    {
     "name": "stderr",
     "output_type": "stream",
     "text": [
      "GPU available: True (mps), used: False\n",
      "TPU available: False, using: 0 TPU cores\n",
      "HPU available: False, using: 0 HPUs\n"
     ]
    },
    {
     "name": "stdout",
     "output_type": "stream",
     "text": [
      "\n",
      "Predicting DataLoader 0: 100%|██████████████████| 16/16 [00:05<00:00,  2.87it/s]"
     ]
    },
    {
     "name": "stderr",
     "output_type": "stream",
     "text": [
      "GPU available: True (mps), used: False\n",
      "TPU available: False, using: 0 TPU cores\n",
      "HPU available: False, using: 0 HPUs\n"
     ]
    },
    {
     "name": "stdout",
     "output_type": "stream",
     "text": [
      "\n",
      "[[9.9997091e-01 2.9075980e-05]\n",
      " [9.9996591e-01 3.4137567e-05]\n",
      " [9.9992955e-01 7.0443857e-05]\n",
      " ...\n",
      " [9.9992561e-01 7.4385003e-05]\n",
      " [9.9972004e-01 2.7989215e-04]\n",
      " [9.9988949e-01 1.1055361e-04]]\n",
      "Predicting DataLoader 0: 100%|██████████████████| 16/16 [00:05<00:00,  2.86it/s]"
     ]
    },
    {
     "name": "stderr",
     "output_type": "stream",
     "text": [
      "GPU available: True (mps), used: False\n",
      "TPU available: False, using: 0 TPU cores\n",
      "HPU available: False, using: 0 HPUs\n"
     ]
    },
    {
     "name": "stdout",
     "output_type": "stream",
     "text": [
      "\n",
      "8\n",
      "Predicting DataLoader 0: 100%|██████████████████| 16/16 [00:05<00:00,  2.86it/s]"
     ]
    },
    {
     "name": "stderr",
     "output_type": "stream",
     "text": [
      "GPU available: True (mps), used: False\n",
      "TPU available: False, using: 0 TPU cores\n",
      "HPU available: False, using: 0 HPUs\n"
     ]
    },
    {
     "name": "stdout",
     "output_type": "stream",
     "text": [
      "\n",
      "[[9.99994755e-01 5.25695941e-06]\n",
      " [9.99992609e-01 7.43405963e-06]\n",
      " [9.99989629e-01 1.03783477e-05]\n",
      " ...\n",
      " [9.99990702e-01 9.32792227e-06]\n",
      " [9.99683738e-01 3.16230318e-04]\n",
      " [9.99896288e-01 1.03675506e-04]]\n",
      "Predicting DataLoader 0: 100%|██████████████████| 16/16 [00:05<00:00,  2.86it/s]"
     ]
    },
    {
     "name": "stderr",
     "output_type": "stream",
     "text": [
      "GPU available: True (mps), used: False\n",
      "TPU available: False, using: 0 TPU cores\n",
      "HPU available: False, using: 0 HPUs\n"
     ]
    },
    {
     "name": "stdout",
     "output_type": "stream",
     "text": [
      "\n",
      "Predicting DataLoader 0: 100%|██████████████████| 16/16 [00:05<00:00,  2.86it/s]"
     ]
    },
    {
     "name": "stderr",
     "output_type": "stream",
     "text": [
      "GPU available: True (mps), used: False\n",
      "TPU available: False, using: 0 TPU cores\n",
      "HPU available: False, using: 0 HPUs\n"
     ]
    },
    {
     "name": "stdout",
     "output_type": "stream",
     "text": [
      "\n",
      "[[0.9805817  0.01941825]\n",
      " [0.8904839  0.10951604]\n",
      " [0.4760607  0.5239393 ]\n",
      " ...\n",
      " [0.39863023 0.6013698 ]\n",
      " [0.04992404 0.9500759 ]\n",
      " [0.14142099 0.85857904]]\n",
      "Predicting DataLoader 0: 100%|██████████████████| 16/16 [00:05<00:00,  2.84it/s]"
     ]
    },
    {
     "name": "stderr",
     "output_type": "stream",
     "text": [
      "GPU available: True (mps), used: False\n",
      "TPU available: False, using: 0 TPU cores\n",
      "HPU available: False, using: 0 HPUs\n"
     ]
    },
    {
     "name": "stdout",
     "output_type": "stream",
     "text": [
      "\n",
      "Predicting DataLoader 0: 100%|██████████████████| 16/16 [00:05<00:00,  2.86it/s]"
     ]
    },
    {
     "name": "stderr",
     "output_type": "stream",
     "text": [
      "GPU available: True (mps), used: False\n",
      "TPU available: False, using: 0 TPU cores\n",
      "HPU available: False, using: 0 HPUs\n"
     ]
    },
    {
     "name": "stdout",
     "output_type": "stream",
     "text": [
      "\n",
      "[[9.8286384e-01 1.7136211e-02]\n",
      " [9.9169278e-01 8.3072335e-03]\n",
      " [8.2022715e-01 1.7977288e-01]\n",
      " ...\n",
      " [9.9782443e-01 2.1756038e-03]\n",
      " [9.9861515e-01 1.3848097e-03]\n",
      " [9.9917442e-01 8.2557841e-04]]\n",
      "Predicting DataLoader 0: 100%|██████████████████| 16/16 [00:05<00:00,  2.86it/s]"
     ]
    },
    {
     "name": "stderr",
     "output_type": "stream",
     "text": [
      "GPU available: True (mps), used: False\n",
      "TPU available: False, using: 0 TPU cores\n",
      "HPU available: False, using: 0 HPUs\n"
     ]
    },
    {
     "name": "stdout",
     "output_type": "stream",
     "text": [
      "\n",
      "Predicting DataLoader 0: 100%|██████████████████| 16/16 [00:05<00:00,  2.87it/s]"
     ]
    },
    {
     "name": "stderr",
     "output_type": "stream",
     "text": [
      "GPU available: True (mps), used: False\n",
      "TPU available: False, using: 0 TPU cores\n",
      "HPU available: False, using: 0 HPUs\n"
     ]
    },
    {
     "name": "stdout",
     "output_type": "stream",
     "text": [
      "\n",
      "[[9.9999869e-01 1.3624461e-06]\n",
      " [9.9999857e-01 1.3797452e-06]\n",
      " [9.9997318e-01 2.6870901e-05]\n",
      " ...\n",
      " [9.9998367e-01 1.6351658e-05]\n",
      " [9.9983227e-01 1.6773908e-04]\n",
      " [9.9991453e-01 8.5497697e-05]]\n",
      "Predicting DataLoader 0: 100%|██████████████████| 16/16 [00:05<00:00,  2.88it/s]"
     ]
    },
    {
     "name": "stderr",
     "output_type": "stream",
     "text": [
      "GPU available: True (mps), used: False\n",
      "TPU available: False, using: 0 TPU cores\n",
      "HPU available: False, using: 0 HPUs\n"
     ]
    },
    {
     "name": "stdout",
     "output_type": "stream",
     "text": [
      "\n",
      "Predicting DataLoader 0: 100%|██████████████████| 16/16 [00:05<00:00,  2.85it/s]"
     ]
    },
    {
     "name": "stderr",
     "output_type": "stream",
     "text": [
      "GPU available: True (mps), used: False\n",
      "TPU available: False, using: 0 TPU cores\n",
      "HPU available: False, using: 0 HPUs\n"
     ]
    },
    {
     "name": "stdout",
     "output_type": "stream",
     "text": [
      "\n",
      "[[9.9999321e-01 6.8340314e-06]\n",
      " [9.9993742e-01 6.2583254e-05]\n",
      " [9.9932206e-01 6.7795749e-04]\n",
      " ...\n",
      " [9.9997294e-01 2.7051366e-05]\n",
      " [9.9963164e-01 3.6834338e-04]\n",
      " [9.9991405e-01 8.5886481e-05]]\n",
      "Predicting DataLoader 0: 100%|██████████████████| 16/16 [00:05<00:00,  2.86it/s]"
     ]
    },
    {
     "name": "stderr",
     "output_type": "stream",
     "text": [
      "GPU available: True (mps), used: False\n",
      "TPU available: False, using: 0 TPU cores\n",
      "HPU available: False, using: 0 HPUs\n"
     ]
    },
    {
     "name": "stdout",
     "output_type": "stream",
     "text": [
      "\n",
      "9\n",
      "Predicting DataLoader 0: 100%|██████████████████| 16/16 [00:05<00:00,  2.88it/s]"
     ]
    },
    {
     "name": "stderr",
     "output_type": "stream",
     "text": [
      "GPU available: True (mps), used: False\n",
      "TPU available: False, using: 0 TPU cores\n",
      "HPU available: False, using: 0 HPUs\n"
     ]
    },
    {
     "name": "stdout",
     "output_type": "stream",
     "text": [
      "\n",
      "[[9.9999750e-01 2.5461682e-06]\n",
      " [9.9999642e-01 3.5877320e-06]\n",
      " [9.9995100e-01 4.9043574e-05]\n",
      " ...\n",
      " [9.9994373e-01 5.6223176e-05]\n",
      " [9.9539822e-01 4.6017766e-03]\n",
      " [9.9961144e-01 3.8859071e-04]]\n",
      "Predicting DataLoader 0: 100%|██████████████████| 16/16 [00:05<00:00,  2.88it/s]"
     ]
    },
    {
     "name": "stderr",
     "output_type": "stream",
     "text": [
      "GPU available: True (mps), used: False\n",
      "TPU available: False, using: 0 TPU cores\n",
      "HPU available: False, using: 0 HPUs\n"
     ]
    },
    {
     "name": "stdout",
     "output_type": "stream",
     "text": [
      "\n",
      "Predicting DataLoader 0: 100%|██████████████████| 16/16 [00:05<00:00,  2.87it/s]"
     ]
    },
    {
     "name": "stderr",
     "output_type": "stream",
     "text": [
      "GPU available: True (mps), used: False\n",
      "TPU available: False, using: 0 TPU cores\n",
      "HPU available: False, using: 0 HPUs\n"
     ]
    },
    {
     "name": "stdout",
     "output_type": "stream",
     "text": [
      "\n",
      "[[9.9999952e-01 5.1064205e-07]\n",
      " [9.9999869e-01 1.3085759e-06]\n",
      " [9.9999654e-01 3.4840980e-06]\n",
      " ...\n",
      " [9.9999869e-01 1.3599979e-06]\n",
      " [9.9994886e-01 5.1083782e-05]\n",
      " [9.9998105e-01 1.8933633e-05]]\n",
      "Predicting DataLoader 0: 100%|██████████████████| 16/16 [00:05<00:00,  2.87it/s]"
     ]
    },
    {
     "name": "stderr",
     "output_type": "stream",
     "text": [
      "GPU available: True (mps), used: False\n",
      "TPU available: False, using: 0 TPU cores\n",
      "HPU available: False, using: 0 HPUs\n"
     ]
    },
    {
     "name": "stdout",
     "output_type": "stream",
     "text": [
      "\n",
      "Predicting DataLoader 0: 100%|██████████████████| 16/16 [00:05<00:00,  2.86it/s]"
     ]
    },
    {
     "name": "stderr",
     "output_type": "stream",
     "text": [
      "GPU available: True (mps), used: False\n",
      "TPU available: False, using: 0 TPU cores\n",
      "HPU available: False, using: 0 HPUs\n"
     ]
    },
    {
     "name": "stdout",
     "output_type": "stream",
     "text": [
      "\n",
      "[[9.9993515e-01 6.4887805e-05]\n",
      " [9.9991596e-01 8.4071129e-05]\n",
      " [9.9964428e-01 3.5567145e-04]\n",
      " ...\n",
      " [9.9993122e-01 6.8772119e-05]\n",
      " [9.9825317e-01 1.7468034e-03]\n",
      " [9.9950838e-01 4.9162441e-04]]\n",
      "Predicting DataLoader 0: 100%|██████████████████| 16/16 [00:05<00:00,  2.88it/s]"
     ]
    },
    {
     "name": "stderr",
     "output_type": "stream",
     "text": [
      "GPU available: True (mps), used: False\n",
      "TPU available: False, using: 0 TPU cores\n",
      "HPU available: False, using: 0 HPUs\n"
     ]
    },
    {
     "name": "stdout",
     "output_type": "stream",
     "text": [
      "\n",
      "Predicting DataLoader 0: 100%|██████████████████| 16/16 [00:05<00:00,  2.88it/s]"
     ]
    },
    {
     "name": "stderr",
     "output_type": "stream",
     "text": [
      "GPU available: True (mps), used: False\n",
      "TPU available: False, using: 0 TPU cores\n",
      "HPU available: False, using: 0 HPUs\n"
     ]
    },
    {
     "name": "stdout",
     "output_type": "stream",
     "text": [
      "\n",
      "[[0.9973564  0.00264361]\n",
      " [0.9933134  0.00668661]\n",
      " [0.9750437  0.02495626]\n",
      " ...\n",
      " [0.9961287  0.00387127]\n",
      " [0.84213585 0.15786415]\n",
      " [0.94795895 0.05204111]]\n",
      "Predicting DataLoader 0: 100%|██████████████████| 16/16 [00:05<00:00,  2.86it/s]"
     ]
    },
    {
     "name": "stderr",
     "output_type": "stream",
     "text": [
      "GPU available: True (mps), used: False\n",
      "TPU available: False, using: 0 TPU cores\n",
      "HPU available: False, using: 0 HPUs\n"
     ]
    },
    {
     "name": "stdout",
     "output_type": "stream",
     "text": [
      "\n",
      "Predicting DataLoader 0: 100%|██████████████████| 16/16 [00:05<00:00,  2.87it/s]"
     ]
    },
    {
     "name": "stderr",
     "output_type": "stream",
     "text": [
      "GPU available: True (mps), used: False\n",
      "TPU available: False, using: 0 TPU cores\n",
      "HPU available: False, using: 0 HPUs\n"
     ]
    },
    {
     "name": "stdout",
     "output_type": "stream",
     "text": [
      "\n",
      "[[9.9993241e-01 6.7630230e-05]\n",
      " [9.9979407e-01 2.0591254e-04]\n",
      " [9.9846703e-01 1.5329330e-03]\n",
      " ...\n",
      " [9.9822479e-01 1.7751625e-03]\n",
      " [9.7187042e-01 2.8129634e-02]\n",
      " [9.8840630e-01 1.1593734e-02]]\n",
      "Predicting DataLoader 0: 100%|██████████████████| 16/16 [00:05<00:00,  2.87it/s]\n",
      "cycles\n",
      "Accuracy:\n",
      "Accuracy_list: [0.2341897233201581, 0.2766798418972332, 0.22924901185770752, 0.1966403162055336, 0.23221343873517786, 0.2341897233201581, 0.233201581027668, 0.21146245059288538, 0.20355731225296442, 0.1976284584980237]\n",
      "Accuracy_mean: 0.22490118577075102\n",
      "Accuracy_std: 0.022745309907310766\n",
      "---\n",
      "Confusion matrix\n",
      "Confusion matrix mean: [[197.    2. ]\n",
      " [782.4  30.6]]\n",
      "Confusion matrix std: [[ 2.44948974  2.44948974]\n",
      " [23.99249883 23.99249883]]\n",
      "---\n",
      "F1\n",
      "F1_list: [0.08930669800235018, 0.18666666666666668, 0.0951276102088167, 0.0, 0.0912280701754386, 0.08930669800235018, 0.09345794392523364, 0.04316546762589928, 0.01707317073170732, 0.002457002457002457]\n",
      "F1_mean: 0.0707789327795465\n",
      "F1_std: 0.053820295164995625\n",
      "---\n",
      "Sensitivity\n",
      "Sensitivity list: [0.046740467404674045, 0.1033210332103321, 0.05043050430504305, 0.0, 0.04797047970479705, 0.046740467404674045, 0.04920049200492005, 0.02214022140221402, 0.008610086100861008, 0.0012300123001230013]\n",
      "Sensitivity mean: 0.03763837638376384\n",
      "Sensitivity std: 0.029511068668829823\n",
      "---\n",
      "Specificity\n",
      "Specificity list: [1.0, 0.9849246231155779, 0.9597989949748744, 1.0, 0.9849246231155779, 1.0, 0.9849246231155779, 0.9849246231155779, 1.0, 1.0]\n",
      "Specificity mean: 0.9899497487437185\n",
      "Specificity std: 0.012308993682327511\n",
      "---\n",
      "AUC\n",
      "AUC list: [np.float64(0.523370233702337), np.float64(0.544122828162955), np.float64(0.5051147496399587), np.float64(0.5), np.float64(0.5164475514101875), np.float64(0.523370233702337), np.float64(0.517062557560249), np.float64(0.5035324222588959), np.float64(0.5043050430504306), np.float64(0.5006150061500615)]\n",
      "AUC mean: 0.5137940625637413\n",
      "AUC std: 0.013249909843429606\n"
     ]
    }
   ],
   "source": [
    "X_d = X_d_original.copy()\n",
    "arr = arr_all[0]\n",
    "first_half_arr = arr[:len(arr) // 2]\n",
    "last_half_arr = arr[len(arr) // 2:]\n",
    "print(first_half_arr)\n",
    "print(last_half_arr)\n",
    "\n",
    "X_d[:,last_half_arr,:] = 0\n",
    "print(X_d)\n",
    "list_result_all = []\n",
    "\n",
    "D_name_add = 'TDvsCPu'\n",
    "D_name = D_name_add+\"_full_5_original_weight\"\n",
    "# Net_name_list = ['ResNet','LSTM','InceptionTime']\n",
    "Net_name_list = ['ResNet']\n",
    "for Net_name in Net_name_list:\n",
    "    # for j in range(5):\n",
    "        # train_model(D_name=D_name,Net_name=Net_name)\n",
    "    out = eval_model_5_bundle(D_name,Net_name)\n",
    "    np.save( './new_train_lrR_ET_'+D_name+'_'+Net_name+'/prediction_test.npy' ,out)\n",
    "#0.65 0.35\n",
    "\n",
    "path_img = './img_cm/'\n",
    "\n",
    "out = np.load( './new_train_lrR_ET_'+D_name_add+'_full_5_original_weight_ResNet/prediction_test.npy')\n",
    "\n",
    "save = path_img+D_name_add+\"_ResNet_original_weight\"\n",
    "print(\"cycles\")\n",
    "results_cycles = print_result_bundle_i_cycles(out,y_d,x_test,cycle_end_idx,label_list=['TD', 'CPu'],n_model=10)\n",
    "list_result_all.append(output_csv(results_cycles))\n",
    "\n",
    "X_d = X_d_original.copy()\n",
    "X_d[:,first_half_arr,:] = 0\n",
    "print(X_d)\n",
    "\n",
    "D_name_add = 'TDvsCPu'\n",
    "D_name = D_name_add+\"_full_5_original_weight\"\n",
    "# Net_name_list = ['ResNet','LSTM','InceptionTime']\n",
    "Net_name_list = ['ResNet']\n",
    "for Net_name in Net_name_list:\n",
    "    # for j in range(5):\n",
    "        # train_model(D_name=D_name,Net_name=Net_name)\n",
    "    out = eval_model_5_bundle(D_name,Net_name)\n",
    "    np.save( './new_train_lrR_ET_'+D_name+'_'+Net_name+'/prediction_test.npy' ,out)\n",
    "#0.65 0.35\n",
    "\n",
    "path_img = './img_cm/'\n",
    "\n",
    "out = np.load( './new_train_lrR_ET_'+D_name_add+'_full_5_original_weight_ResNet/prediction_test.npy')\n",
    "\n",
    "save = path_img+D_name_add+\"_ResNet_original_weight\"\n",
    "print(\"cycles\")\n",
    "results_cycles = print_result_bundle_i_cycles(out,y_d,x_test,cycle_end_idx,label_list=['TD', 'CPu'],n_model=10)\n",
    "list_result_all.append(output_csv(results_cycles))\n",
    "\n",
    "\n",
    "X_d = X_d_original.copy()\n",
    "arr = arr_all[1]\n",
    "first_half_arr = arr[:len(arr) // 2]\n",
    "last_half_arr = arr[len(arr) // 2:]\n",
    "print(first_half_arr)\n",
    "print(last_half_arr)\n",
    "\n",
    "X_d[:,last_half_arr,:] = 0\n",
    "print(X_d)\n",
    "path_img = './img_cm/'\n",
    "\n",
    "D_name_add = 'TDvsCPu'\n",
    "D_name = D_name_add+\"_full_5_original_weight\"\n",
    "# Net_name_list = ['ResNet','LSTM','InceptionTime']\n",
    "Net_name_list = ['LSTM']\n",
    "for Net_name in Net_name_list:\n",
    "    # for j in range(5):\n",
    "        # train_model(D_name=D_name,Net_name=Net_name)\n",
    "    out = eval_model_5_bundle(D_name,Net_name)\n",
    "    np.save( './new_train_lrR_ET_'+D_name+'_'+Net_name+'/prediction_test.npy' ,out)\n",
    "#0.65 0.35\n",
    "\n",
    "out = np.load( './new_train_lrR_ET_'+D_name_add+'_full_5_original_weight_LSTM/prediction_test.npy')\n",
    "\n",
    "save = path_img+D_name_add+\"_LSTM_original_weight\"\n",
    "print(\"cycles\")\n",
    "results_cycles = print_result_bundle_i_cycles(out,y_d,x_test,cycle_end_idx,label_list=['TD', 'CPu'],n_model=10)\n",
    "list_result_all.append(output_csv(results_cycles))\n",
    "\n",
    "X_d = X_d_original.copy()\n",
    "arr = arr_all[1]\n",
    "first_half_arr = arr[:len(arr) // 2]\n",
    "last_half_arr = arr[len(arr) // 2:]\n",
    "print(first_half_arr)\n",
    "print(last_half_arr)\n",
    "\n",
    "X_d[:,first_half_arr,:] = 0\n",
    "print(X_d)\n",
    "path_img = './img_cm/'\n",
    "\n",
    "D_name_add = 'TDvsCPu'\n",
    "D_name = D_name_add+\"_full_5_original_weight\"\n",
    "# Net_name_list = ['ResNet','LSTM','InceptionTime']\n",
    "Net_name_list = ['LSTM']\n",
    "for Net_name in Net_name_list:\n",
    "    # for j in range(5):\n",
    "        # train_model(D_name=D_name,Net_name=Net_name)\n",
    "    out = eval_model_5_bundle(D_name,Net_name)\n",
    "    np.save( './new_train_lrR_ET_'+D_name+'_'+Net_name+'/prediction_test.npy' ,out)\n",
    "\n",
    "out = np.load( './new_train_lrR_ET_'+D_name_add+'_full_5_original_weight_LSTM/prediction_test.npy')\n",
    "\n",
    "save = path_img+D_name_add+\"_LSTM_original_weight\"\n",
    "print(\"cycles\")\n",
    "results_cycles = print_result_bundle_i_cycles(out,y_d,x_test,cycle_end_idx,label_list=['TD', 'CPu'],n_model=10)\n",
    "list_result_all.append(output_csv(results_cycles))\n",
    "\n",
    "X_d = X_d_original.copy()\n",
    "\n",
    "arr = arr_all[2]\n",
    "first_half_arr = arr[:len(arr) // 2]\n",
    "last_half_arr = arr[len(arr) // 2:]\n",
    "print(first_half_arr)\n",
    "print(last_half_arr)\n",
    "\n",
    "X_d[:,last_half_arr,:] = 0\n",
    "print(X_d)\n",
    "path_img = './img_cm/'\n",
    "\n",
    "D_name_add = 'TDvsCPu'\n",
    "D_name = D_name_add+\"_full_5_original_weight\"\n",
    "# Net_name_list = ['ResNet','LSTM','InceptionTime']\n",
    "Net_name_list = ['InceptionTime']\n",
    "for Net_name in Net_name_list:\n",
    "    # for j in range(5):\n",
    "        # train_model(D_name=D_name,Net_name=Net_name)\n",
    "    out = eval_model_5_bundle(D_name,Net_name)\n",
    "    np.save( './new_train_lrR_ET_'+D_name+'_'+Net_name+'/prediction_test.npy' ,out)\n",
    "\n",
    "out = np.load( './new_train_lrR_ET_'+D_name_add+'_full_5_original_weight_InceptionTime/prediction_test.npy')\n",
    "\n",
    "save = path_img+D_name_add+\"_InceptionTime_original_weight\"\n",
    "print(\"cycles\")\n",
    "results_cycles = print_result_bundle_i_cycles(out,y_d,x_test,cycle_end_idx,label_list=['TD', 'CPu'],n_model=10)\n",
    "list_result_all.append(output_csv(results_cycles))\n",
    "\n",
    "X_d = X_d_original.copy()\n",
    "arr = arr_all[2]\n",
    "first_half_arr = arr[:len(arr) // 2]\n",
    "last_half_arr = arr[len(arr) // 2:]\n",
    "print(first_half_arr)\n",
    "print(last_half_arr)\n",
    "\n",
    "X_d[:,first_half_arr,:] = 0\n",
    "print(X_d)\n",
    "path_img = './img_cm/'\n",
    "\n",
    "D_name_add = 'TDvsCPu'\n",
    "D_name = D_name_add+\"_full_5_original_weight\"\n",
    "# Net_name_list = ['ResNet','LSTM','InceptionTime']\n",
    "Net_name_list = ['InceptionTime']\n",
    "for Net_name in Net_name_list:\n",
    "    # for j in range(5):\n",
    "        # train_model(D_name=D_name,Net_name=Net_name)\n",
    "    out = eval_model_5_bundle(D_name,Net_name)\n",
    "    np.save( './new_train_lrR_ET_'+D_name+'_'+Net_name+'/prediction_test.npy' ,out)\n",
    "\n",
    "out = np.load( './new_train_lrR_ET_'+D_name_add+'_full_5_original_weight_InceptionTime/prediction_test.npy')\n",
    "\n",
    "save = path_img+D_name_add+\"_InceptionTime_original_weight\"\n",
    "print(\"cycles\")\n",
    "results_cycles = print_result_bundle_i_cycles(out,y_d,x_test,cycle_end_idx,label_list=['TD', 'CPu'],n_model=10)\n",
    "list_result_all.append(output_csv(results_cycles))"
   ]
  },
  {
   "cell_type": "markdown",
   "metadata": {},
   "source": [
    "## ALL results will be in this table"
   ]
  },
  {
   "cell_type": "code",
   "execution_count": 43,
   "metadata": {},
   "outputs": [
    {
     "data": {
      "text/html": [
       "<div>\n",
       "<style scoped>\n",
       "    .dataframe tbody tr th:only-of-type {\n",
       "        vertical-align: middle;\n",
       "    }\n",
       "\n",
       "    .dataframe tbody tr th {\n",
       "        vertical-align: top;\n",
       "    }\n",
       "\n",
       "    .dataframe thead th {\n",
       "        text-align: right;\n",
       "    }\n",
       "</style>\n",
       "<table border=\"1\" class=\"dataframe\">\n",
       "  <thead>\n",
       "    <tr style=\"text-align: right;\">\n",
       "      <th></th>\n",
       "      <th>0</th>\n",
       "      <th>1</th>\n",
       "      <th>2</th>\n",
       "      <th>3</th>\n",
       "      <th>4</th>\n",
       "      <th>5</th>\n",
       "    </tr>\n",
       "  </thead>\n",
       "  <tbody>\n",
       "    <tr>\n",
       "      <th>0</th>\n",
       "      <td>0.782609±0.034992</td>\n",
       "      <td>0.213043±0.024334</td>\n",
       "      <td>0.913538±0.002906</td>\n",
       "      <td>0.793083±0.028203</td>\n",
       "      <td>0.816403±0.039213</td>\n",
       "      <td>0.224901±0.022745</td>\n",
       "    </tr>\n",
       "    <tr>\n",
       "      <th>1</th>\n",
       "      <td>0.755351±0.043301</td>\n",
       "      <td>0.031611±0.027756</td>\n",
       "      <td>0.917835±0.007853</td>\n",
       "      <td>0.868020±0.048087</td>\n",
       "      <td>0.804797±0.052382</td>\n",
       "      <td>0.037638±0.029511</td>\n",
       "    </tr>\n",
       "    <tr>\n",
       "      <th>2</th>\n",
       "      <td>0.893970±0.001508</td>\n",
       "      <td>0.954271±0.021373</td>\n",
       "      <td>0.895980±0.019076</td>\n",
       "      <td>0.486935±0.089877</td>\n",
       "      <td>0.863819±0.021491</td>\n",
       "      <td>0.989950±0.012309</td>\n",
       "    </tr>\n",
       "    <tr>\n",
       "      <th>3</th>\n",
       "      <td>0.847395±0.028647</td>\n",
       "      <td>0.059383±0.050811</td>\n",
       "      <td>0.944604±0.002185</td>\n",
       "      <td>0.870203±0.021222</td>\n",
       "      <td>0.874739±0.030684</td>\n",
       "      <td>0.070779±0.053820</td>\n",
       "    </tr>\n",
       "    <tr>\n",
       "      <th>4</th>\n",
       "      <td>0.824660±0.022179</td>\n",
       "      <td>0.492941±0.020715</td>\n",
       "      <td>0.906908±0.005874</td>\n",
       "      <td>0.677477±0.031627</td>\n",
       "      <td>0.834308±0.020102</td>\n",
       "      <td>0.513794±0.013250</td>\n",
       "    </tr>\n",
       "  </tbody>\n",
       "</table>\n",
       "</div>"
      ],
      "text/plain": [
       "                   0                  1                  2                  3  \\\n",
       "0  0.782609±0.034992  0.213043±0.024334  0.913538±0.002906  0.793083±0.028203   \n",
       "1  0.755351±0.043301  0.031611±0.027756  0.917835±0.007853  0.868020±0.048087   \n",
       "2  0.893970±0.001508  0.954271±0.021373  0.895980±0.019076  0.486935±0.089877   \n",
       "3  0.847395±0.028647  0.059383±0.050811  0.944604±0.002185  0.870203±0.021222   \n",
       "4  0.824660±0.022179  0.492941±0.020715  0.906908±0.005874  0.677477±0.031627   \n",
       "\n",
       "                   4                  5  \n",
       "0  0.816403±0.039213  0.224901±0.022745  \n",
       "1  0.804797±0.052382  0.037638±0.029511  \n",
       "2  0.863819±0.021491  0.989950±0.012309  \n",
       "3  0.874739±0.030684  0.070779±0.053820  \n",
       "4  0.834308±0.020102  0.513794±0.013250  "
      ]
     },
     "execution_count": 43,
     "metadata": {},
     "output_type": "execute_result"
    }
   ],
   "source": [
    "df_test = pd.DataFrame (list_result_all)\n",
    "df_test.T"
   ]
  }
 ],
 "metadata": {
  "kernelspec": {
   "display_name": "Python 3 (ipykernel)",
   "language": "python",
   "name": "python3"
  },
  "language_info": {
   "codemirror_mode": {
    "name": "ipython",
    "version": 3
   },
   "file_extension": ".py",
   "mimetype": "text/x-python",
   "name": "python",
   "nbconvert_exporter": "python",
   "pygments_lexer": "ipython3",
   "version": "3.12.2"
  }
 },
 "nbformat": 4,
 "nbformat_minor": 4
}
