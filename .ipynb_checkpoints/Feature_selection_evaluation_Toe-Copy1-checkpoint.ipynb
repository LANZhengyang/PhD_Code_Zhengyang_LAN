{
 "cells": [
  {
   "cell_type": "markdown",
   "metadata": {},
   "source": [
    "# Evaluation of forward/ backward Feature selection\n",
    "Full selection: The ranking of best angles and the accuracy achieved will be saved <br>\n",
    "First round selection: The ranking of the angles and the accuracy achieved for each angle during the first round's selection will be saved"
   ]
  },
  {
   "cell_type": "code",
   "execution_count": 16,
   "metadata": {},
   "outputs": [
    {
     "name": "stdout",
     "output_type": "stream",
     "text": [
      "[0.92777 0.95188 0.95474 0.95543 0.96225 0.96561 0.96611 0.97184 0.97164\n",
      " 0.96186 0.96176 0.96502 0.96571 0.96601 0.96097 0.95672 0.95109 0.94377\n",
      " 0.94476 0.93241 0.92342 0.91976]\n",
      "[ 9  5  6  8  3  7 10 20  0 19 17  4 11 21 18 15 16 12  1  2 14 13]\n",
      "[ 9  5  6  8  3  7 10 20  0 19 17  4 11 21 18 15 16 12  1  2 14 13]\n"
     ]
    }
   ],
   "source": [
    "import numpy as np\n",
    "print(np.load(\"FS_result/FS_forward_accuracy_ResNet.npy\"))\n",
    "\n",
    "print(np.load(\"XAI_ranking/FS_forward_ResNet_TDvsCPu.npy\"))\n",
    "print(np.load(\"XAI_ranking/FS_forward_ranking_first_ResNet_TDvsCPu.npy\"))"
   ]
  },
  {
   "cell_type": "code",
   "execution_count": 17,
   "metadata": {},
   "outputs": [
    {
     "name": "stdout",
     "output_type": "stream",
     "text": [
      "[ 9 20  3 10  5  0  8  6  4 15 16 12 11  7 13 19  2 21 17 18 14  1]\n",
      "[ 9 20  3 10  5  0  8  6  4 15 16 12 11  7 13 19  2 21 17 18 14  1]\n"
     ]
    }
   ],
   "source": [
    "print(np.load(\"XAI_ranking/FS_forward_LSTM_TDvsCPu.npy\"))\n",
    "print(np.load(\"XAI_ranking/FS_forward_ranking_first_LSTM_TDvsCPu.npy\"))"
   ]
  },
  {
   "cell_type": "code",
   "execution_count": 18,
   "metadata": {},
   "outputs": [
    {
     "name": "stdout",
     "output_type": "stream",
     "text": [
      "[ 9  6  3  5 20  8  7 10 17  0 19  4 12 11  1 21 18 15 16 14  2 13]\n",
      "[ 9  6  3  5 20  8  7 10 17  0 19  4 12 11  1 21 18 15 16 14  2 13]\n"
     ]
    }
   ],
   "source": [
    "print(np.load(\"XAI_ranking/FS_forward_InceptionTime_TDvsCPu.npy\"))\n",
    "print(np.load(\"XAI_ranking/FS_forward_ranking_first_InceptionTime_TDvsCPu.npy\"))"
   ]
  },
  {
   "cell_type": "code",
   "execution_count": 19,
   "metadata": {},
   "outputs": [
    {
     "name": "stdout",
     "output_type": "stream",
     "text": [
      "[ 3  6  9  0 11 10  4 14 15  8 13 19 17  2 20 12 16 18  5  7 21  1]\n"
     ]
    },
    {
     "ename": "FileNotFoundError",
     "evalue": "[Errno 2] No such file or directory: 'XAI_ranking/FS_backward_ranking_first_ResNet_TDvsCPu.npy'",
     "output_type": "error",
     "traceback": [
      "\u001b[0;31m---------------------------------------------------------------------------\u001b[0m",
      "\u001b[0;31mFileNotFoundError\u001b[0m                         Traceback (most recent call last)",
      "Cell \u001b[0;32mIn[19], line 2\u001b[0m\n\u001b[1;32m      1\u001b[0m \u001b[38;5;28mprint\u001b[39m(np\u001b[38;5;241m.\u001b[39mload(\u001b[38;5;124m\"\u001b[39m\u001b[38;5;124mXAI_ranking/FS_backward_ResNet_TDvsCPu.npy\u001b[39m\u001b[38;5;124m\"\u001b[39m))\n\u001b[0;32m----> 2\u001b[0m \u001b[38;5;28mprint\u001b[39m(\u001b[43mnp\u001b[49m\u001b[38;5;241;43m.\u001b[39;49m\u001b[43mload\u001b[49m\u001b[43m(\u001b[49m\u001b[38;5;124;43m\"\u001b[39;49m\u001b[38;5;124;43mXAI_ranking/FS_backward_ranking_first_ResNet_TDvsCPu.npy\u001b[39;49m\u001b[38;5;124;43m\"\u001b[39;49m\u001b[43m)\u001b[49m)\n\u001b[1;32m      4\u001b[0m \u001b[38;5;28mprint\u001b[39m(np\u001b[38;5;241m.\u001b[39mload(\u001b[38;5;124m\"\u001b[39m\u001b[38;5;124mXAI_ranking/FS_backward_LSTM_TDvsCPu.npy\u001b[39m\u001b[38;5;124m\"\u001b[39m))\n\u001b[1;32m      5\u001b[0m \u001b[38;5;28mprint\u001b[39m(np\u001b[38;5;241m.\u001b[39mload(\u001b[38;5;124m\"\u001b[39m\u001b[38;5;124mXAI_ranking/FS_backward_ranking_first_LSTM_TDvsCPu.npy\u001b[39m\u001b[38;5;124m\"\u001b[39m))\n",
      "File \u001b[0;32m/opt/anaconda3/envs/env_gait_new_1x/lib/python3.10/site-packages/numpy/lib/npyio.py:427\u001b[0m, in \u001b[0;36mload\u001b[0;34m(file, mmap_mode, allow_pickle, fix_imports, encoding, max_header_size)\u001b[0m\n\u001b[1;32m    425\u001b[0m     own_fid \u001b[38;5;241m=\u001b[39m \u001b[38;5;28;01mFalse\u001b[39;00m\n\u001b[1;32m    426\u001b[0m \u001b[38;5;28;01melse\u001b[39;00m:\n\u001b[0;32m--> 427\u001b[0m     fid \u001b[38;5;241m=\u001b[39m stack\u001b[38;5;241m.\u001b[39menter_context(\u001b[38;5;28;43mopen\u001b[39;49m\u001b[43m(\u001b[49m\u001b[43mos_fspath\u001b[49m\u001b[43m(\u001b[49m\u001b[43mfile\u001b[49m\u001b[43m)\u001b[49m\u001b[43m,\u001b[49m\u001b[43m \u001b[49m\u001b[38;5;124;43m\"\u001b[39;49m\u001b[38;5;124;43mrb\u001b[39;49m\u001b[38;5;124;43m\"\u001b[39;49m\u001b[43m)\u001b[49m)\n\u001b[1;32m    428\u001b[0m     own_fid \u001b[38;5;241m=\u001b[39m \u001b[38;5;28;01mTrue\u001b[39;00m\n\u001b[1;32m    430\u001b[0m \u001b[38;5;66;03m# Code to distinguish from NumPy binary files and pickles.\u001b[39;00m\n",
      "\u001b[0;31mFileNotFoundError\u001b[0m: [Errno 2] No such file or directory: 'XAI_ranking/FS_backward_ranking_first_ResNet_TDvsCPu.npy'"
     ]
    }
   ],
   "source": [
    "print(np.load(\"XAI_ranking/FS_backward_ResNet_TDvsCPu.npy\"))\n",
    "print(np.load(\"XAI_ranking/FS_backward_ranking_first_ResNet_TDvsCPu.npy\"))\n",
    "\n",
    "print(np.load(\"XAI_ranking/FS_backward_LSTM_TDvsCPu.npy\"))\n",
    "print(np.load(\"XAI_ranking/FS_backward_ranking_first_LSTM_TDvsCPu.npy\"))\n",
    "\n",
    "print(np.load(\"XAI_ranking/FS_backward_InceptionTime_TDvsCPu.npy\"))\n",
    "print(np.load(\"XAI_ranking/FS_backward_ranking_first_InceptionTime_TDvsCPu.npy\"))"
   ]
  },
  {
   "cell_type": "code",
   "execution_count": null,
   "metadata": {},
   "outputs": [],
   "source": []
  },
  {
   "cell_type": "code",
   "execution_count": null,
   "metadata": {},
   "outputs": [],
   "source": []
  },
  {
   "cell_type": "code",
   "execution_count": 3,
   "metadata": {},
   "outputs": [
    {
     "ename": "FileNotFoundError",
     "evalue": "[Errno 2] No such file or directory: 'DataCP - By Subject.csv'",
     "output_type": "error",
     "traceback": [
      "\u001b[0;31m---------------------------------------------------------------------------\u001b[0m",
      "\u001b[0;31mFileNotFoundError\u001b[0m                         Traceback (most recent call last)",
      "Cell \u001b[0;32mIn[3], line 14\u001b[0m\n\u001b[1;32m     12\u001b[0m \u001b[38;5;66;03m# Load subject cycle table and split the dataset to training, validation and test set\u001b[39;00m\n\u001b[1;32m     13\u001b[0m idx_file_list \u001b[38;5;241m=\u001b[39m [\u001b[38;5;124m'\u001b[39m\u001b[38;5;124mDataCP - By Subject.csv\u001b[39m\u001b[38;5;124m'\u001b[39m,\u001b[38;5;124m'\u001b[39m\u001b[38;5;124mDataTD - By Subject.csv\u001b[39m\u001b[38;5;124m'\u001b[39m]\n\u001b[0;32m---> 14\u001b[0m x_train, x_test, y_train, y_test, x_val, y_val, cycle_end_idx, X_d, y_d \u001b[38;5;241m=\u001b[39m \u001b[43mgenerate_data_for_train\u001b[49m\u001b[43m(\u001b[49m\u001b[43mx_list\u001b[49m\u001b[43m,\u001b[49m\u001b[43m \u001b[49m\u001b[43midx_file_list\u001b[49m\u001b[43m,\u001b[49m\u001b[43morder\u001b[49m\u001b[38;5;241;43m=\u001b[39;49m\u001b[43m[\u001b[49m\u001b[38;5;241;43m1\u001b[39;49m\u001b[43m,\u001b[49m\u001b[38;5;241;43m0\u001b[39;49m\u001b[43m]\u001b[49m\u001b[43m)\u001b[49m\n",
      "File \u001b[0;32m/Volumes/Untitled/Desktop/FS_TDvsCPu/utils/utils.py:712\u001b[0m, in \u001b[0;36mgenerate_data_for_train\u001b[0;34m(x_list, idx_file_list, order, random_state)\u001b[0m\n\u001b[1;32m    709\u001b[0m \u001b[38;5;28;01mfor\u001b[39;00m idx,i \u001b[38;5;129;01min\u001b[39;00m \u001b[38;5;28menumerate\u001b[39m(idx_file_list):\n\u001b[1;32m    711\u001b[0m     \u001b[38;5;28;01mif\u001b[39;00m Flag \u001b[38;5;241m==\u001b[39m \u001b[38;5;28;01mTrue\u001b[39;00m:\n\u001b[0;32m--> 712\u001b[0m         idx_0 \u001b[38;5;241m=\u001b[39m \u001b[43mpd\u001b[49m\u001b[38;5;241;43m.\u001b[39;49m\u001b[43mread_csv\u001b[49m\u001b[43m(\u001b[49m\u001b[43mi\u001b[49m\u001b[43m,\u001b[49m\u001b[43m \u001b[49m\u001b[43mheader\u001b[49m\u001b[38;5;241;43m=\u001b[39;49m\u001b[38;5;28;43;01mNone\u001b[39;49;00m\u001b[43m)\u001b[49m[\u001b[38;5;241m1\u001b[39m]\u001b[38;5;241m.\u001b[39mto_numpy()\n\u001b[1;32m    713\u001b[0m         idx_list\u001b[38;5;241m.\u001b[39mappend(idx_0)\n\u001b[1;32m    714\u001b[0m         y_d\u001b[38;5;241m.\u001b[39mappend(np\u001b[38;5;241m.\u001b[39mzeros((idx_0[\u001b[38;5;241m-\u001b[39m\u001b[38;5;241m1\u001b[39m]))\u001b[38;5;241m+\u001b[39morder[idx])\n",
      "File \u001b[0;32m/opt/anaconda3/envs/env_gait_new_1x/lib/python3.10/site-packages/pandas/io/parsers/readers.py:1026\u001b[0m, in \u001b[0;36mread_csv\u001b[0;34m(filepath_or_buffer, sep, delimiter, header, names, index_col, usecols, dtype, engine, converters, true_values, false_values, skipinitialspace, skiprows, skipfooter, nrows, na_values, keep_default_na, na_filter, verbose, skip_blank_lines, parse_dates, infer_datetime_format, keep_date_col, date_parser, date_format, dayfirst, cache_dates, iterator, chunksize, compression, thousands, decimal, lineterminator, quotechar, quoting, doublequote, escapechar, comment, encoding, encoding_errors, dialect, on_bad_lines, delim_whitespace, low_memory, memory_map, float_precision, storage_options, dtype_backend)\u001b[0m\n\u001b[1;32m   1013\u001b[0m kwds_defaults \u001b[38;5;241m=\u001b[39m _refine_defaults_read(\n\u001b[1;32m   1014\u001b[0m     dialect,\n\u001b[1;32m   1015\u001b[0m     delimiter,\n\u001b[0;32m   (...)\u001b[0m\n\u001b[1;32m   1022\u001b[0m     dtype_backend\u001b[38;5;241m=\u001b[39mdtype_backend,\n\u001b[1;32m   1023\u001b[0m )\n\u001b[1;32m   1024\u001b[0m kwds\u001b[38;5;241m.\u001b[39mupdate(kwds_defaults)\n\u001b[0;32m-> 1026\u001b[0m \u001b[38;5;28;01mreturn\u001b[39;00m \u001b[43m_read\u001b[49m\u001b[43m(\u001b[49m\u001b[43mfilepath_or_buffer\u001b[49m\u001b[43m,\u001b[49m\u001b[43m \u001b[49m\u001b[43mkwds\u001b[49m\u001b[43m)\u001b[49m\n",
      "File \u001b[0;32m/opt/anaconda3/envs/env_gait_new_1x/lib/python3.10/site-packages/pandas/io/parsers/readers.py:620\u001b[0m, in \u001b[0;36m_read\u001b[0;34m(filepath_or_buffer, kwds)\u001b[0m\n\u001b[1;32m    617\u001b[0m _validate_names(kwds\u001b[38;5;241m.\u001b[39mget(\u001b[38;5;124m\"\u001b[39m\u001b[38;5;124mnames\u001b[39m\u001b[38;5;124m\"\u001b[39m, \u001b[38;5;28;01mNone\u001b[39;00m))\n\u001b[1;32m    619\u001b[0m \u001b[38;5;66;03m# Create the parser.\u001b[39;00m\n\u001b[0;32m--> 620\u001b[0m parser \u001b[38;5;241m=\u001b[39m \u001b[43mTextFileReader\u001b[49m\u001b[43m(\u001b[49m\u001b[43mfilepath_or_buffer\u001b[49m\u001b[43m,\u001b[49m\u001b[43m \u001b[49m\u001b[38;5;241;43m*\u001b[39;49m\u001b[38;5;241;43m*\u001b[39;49m\u001b[43mkwds\u001b[49m\u001b[43m)\u001b[49m\n\u001b[1;32m    622\u001b[0m \u001b[38;5;28;01mif\u001b[39;00m chunksize \u001b[38;5;129;01mor\u001b[39;00m iterator:\n\u001b[1;32m    623\u001b[0m     \u001b[38;5;28;01mreturn\u001b[39;00m parser\n",
      "File \u001b[0;32m/opt/anaconda3/envs/env_gait_new_1x/lib/python3.10/site-packages/pandas/io/parsers/readers.py:1620\u001b[0m, in \u001b[0;36mTextFileReader.__init__\u001b[0;34m(self, f, engine, **kwds)\u001b[0m\n\u001b[1;32m   1617\u001b[0m     \u001b[38;5;28mself\u001b[39m\u001b[38;5;241m.\u001b[39moptions[\u001b[38;5;124m\"\u001b[39m\u001b[38;5;124mhas_index_names\u001b[39m\u001b[38;5;124m\"\u001b[39m] \u001b[38;5;241m=\u001b[39m kwds[\u001b[38;5;124m\"\u001b[39m\u001b[38;5;124mhas_index_names\u001b[39m\u001b[38;5;124m\"\u001b[39m]\n\u001b[1;32m   1619\u001b[0m \u001b[38;5;28mself\u001b[39m\u001b[38;5;241m.\u001b[39mhandles: IOHandles \u001b[38;5;241m|\u001b[39m \u001b[38;5;28;01mNone\u001b[39;00m \u001b[38;5;241m=\u001b[39m \u001b[38;5;28;01mNone\u001b[39;00m\n\u001b[0;32m-> 1620\u001b[0m \u001b[38;5;28mself\u001b[39m\u001b[38;5;241m.\u001b[39m_engine \u001b[38;5;241m=\u001b[39m \u001b[38;5;28;43mself\u001b[39;49m\u001b[38;5;241;43m.\u001b[39;49m\u001b[43m_make_engine\u001b[49m\u001b[43m(\u001b[49m\u001b[43mf\u001b[49m\u001b[43m,\u001b[49m\u001b[43m \u001b[49m\u001b[38;5;28;43mself\u001b[39;49m\u001b[38;5;241;43m.\u001b[39;49m\u001b[43mengine\u001b[49m\u001b[43m)\u001b[49m\n",
      "File \u001b[0;32m/opt/anaconda3/envs/env_gait_new_1x/lib/python3.10/site-packages/pandas/io/parsers/readers.py:1880\u001b[0m, in \u001b[0;36mTextFileReader._make_engine\u001b[0;34m(self, f, engine)\u001b[0m\n\u001b[1;32m   1878\u001b[0m     \u001b[38;5;28;01mif\u001b[39;00m \u001b[38;5;124m\"\u001b[39m\u001b[38;5;124mb\u001b[39m\u001b[38;5;124m\"\u001b[39m \u001b[38;5;129;01mnot\u001b[39;00m \u001b[38;5;129;01min\u001b[39;00m mode:\n\u001b[1;32m   1879\u001b[0m         mode \u001b[38;5;241m+\u001b[39m\u001b[38;5;241m=\u001b[39m \u001b[38;5;124m\"\u001b[39m\u001b[38;5;124mb\u001b[39m\u001b[38;5;124m\"\u001b[39m\n\u001b[0;32m-> 1880\u001b[0m \u001b[38;5;28mself\u001b[39m\u001b[38;5;241m.\u001b[39mhandles \u001b[38;5;241m=\u001b[39m \u001b[43mget_handle\u001b[49m\u001b[43m(\u001b[49m\n\u001b[1;32m   1881\u001b[0m \u001b[43m    \u001b[49m\u001b[43mf\u001b[49m\u001b[43m,\u001b[49m\n\u001b[1;32m   1882\u001b[0m \u001b[43m    \u001b[49m\u001b[43mmode\u001b[49m\u001b[43m,\u001b[49m\n\u001b[1;32m   1883\u001b[0m \u001b[43m    \u001b[49m\u001b[43mencoding\u001b[49m\u001b[38;5;241;43m=\u001b[39;49m\u001b[38;5;28;43mself\u001b[39;49m\u001b[38;5;241;43m.\u001b[39;49m\u001b[43moptions\u001b[49m\u001b[38;5;241;43m.\u001b[39;49m\u001b[43mget\u001b[49m\u001b[43m(\u001b[49m\u001b[38;5;124;43m\"\u001b[39;49m\u001b[38;5;124;43mencoding\u001b[39;49m\u001b[38;5;124;43m\"\u001b[39;49m\u001b[43m,\u001b[49m\u001b[43m \u001b[49m\u001b[38;5;28;43;01mNone\u001b[39;49;00m\u001b[43m)\u001b[49m\u001b[43m,\u001b[49m\n\u001b[1;32m   1884\u001b[0m \u001b[43m    \u001b[49m\u001b[43mcompression\u001b[49m\u001b[38;5;241;43m=\u001b[39;49m\u001b[38;5;28;43mself\u001b[39;49m\u001b[38;5;241;43m.\u001b[39;49m\u001b[43moptions\u001b[49m\u001b[38;5;241;43m.\u001b[39;49m\u001b[43mget\u001b[49m\u001b[43m(\u001b[49m\u001b[38;5;124;43m\"\u001b[39;49m\u001b[38;5;124;43mcompression\u001b[39;49m\u001b[38;5;124;43m\"\u001b[39;49m\u001b[43m,\u001b[49m\u001b[43m \u001b[49m\u001b[38;5;28;43;01mNone\u001b[39;49;00m\u001b[43m)\u001b[49m\u001b[43m,\u001b[49m\n\u001b[1;32m   1885\u001b[0m \u001b[43m    \u001b[49m\u001b[43mmemory_map\u001b[49m\u001b[38;5;241;43m=\u001b[39;49m\u001b[38;5;28;43mself\u001b[39;49m\u001b[38;5;241;43m.\u001b[39;49m\u001b[43moptions\u001b[49m\u001b[38;5;241;43m.\u001b[39;49m\u001b[43mget\u001b[49m\u001b[43m(\u001b[49m\u001b[38;5;124;43m\"\u001b[39;49m\u001b[38;5;124;43mmemory_map\u001b[39;49m\u001b[38;5;124;43m\"\u001b[39;49m\u001b[43m,\u001b[49m\u001b[43m \u001b[49m\u001b[38;5;28;43;01mFalse\u001b[39;49;00m\u001b[43m)\u001b[49m\u001b[43m,\u001b[49m\n\u001b[1;32m   1886\u001b[0m \u001b[43m    \u001b[49m\u001b[43mis_text\u001b[49m\u001b[38;5;241;43m=\u001b[39;49m\u001b[43mis_text\u001b[49m\u001b[43m,\u001b[49m\n\u001b[1;32m   1887\u001b[0m \u001b[43m    \u001b[49m\u001b[43merrors\u001b[49m\u001b[38;5;241;43m=\u001b[39;49m\u001b[38;5;28;43mself\u001b[39;49m\u001b[38;5;241;43m.\u001b[39;49m\u001b[43moptions\u001b[49m\u001b[38;5;241;43m.\u001b[39;49m\u001b[43mget\u001b[49m\u001b[43m(\u001b[49m\u001b[38;5;124;43m\"\u001b[39;49m\u001b[38;5;124;43mencoding_errors\u001b[39;49m\u001b[38;5;124;43m\"\u001b[39;49m\u001b[43m,\u001b[49m\u001b[43m \u001b[49m\u001b[38;5;124;43m\"\u001b[39;49m\u001b[38;5;124;43mstrict\u001b[39;49m\u001b[38;5;124;43m\"\u001b[39;49m\u001b[43m)\u001b[49m\u001b[43m,\u001b[49m\n\u001b[1;32m   1888\u001b[0m \u001b[43m    \u001b[49m\u001b[43mstorage_options\u001b[49m\u001b[38;5;241;43m=\u001b[39;49m\u001b[38;5;28;43mself\u001b[39;49m\u001b[38;5;241;43m.\u001b[39;49m\u001b[43moptions\u001b[49m\u001b[38;5;241;43m.\u001b[39;49m\u001b[43mget\u001b[49m\u001b[43m(\u001b[49m\u001b[38;5;124;43m\"\u001b[39;49m\u001b[38;5;124;43mstorage_options\u001b[39;49m\u001b[38;5;124;43m\"\u001b[39;49m\u001b[43m,\u001b[49m\u001b[43m \u001b[49m\u001b[38;5;28;43;01mNone\u001b[39;49;00m\u001b[43m)\u001b[49m\u001b[43m,\u001b[49m\n\u001b[1;32m   1889\u001b[0m \u001b[43m\u001b[49m\u001b[43m)\u001b[49m\n\u001b[1;32m   1890\u001b[0m \u001b[38;5;28;01massert\u001b[39;00m \u001b[38;5;28mself\u001b[39m\u001b[38;5;241m.\u001b[39mhandles \u001b[38;5;129;01mis\u001b[39;00m \u001b[38;5;129;01mnot\u001b[39;00m \u001b[38;5;28;01mNone\u001b[39;00m\n\u001b[1;32m   1891\u001b[0m f \u001b[38;5;241m=\u001b[39m \u001b[38;5;28mself\u001b[39m\u001b[38;5;241m.\u001b[39mhandles\u001b[38;5;241m.\u001b[39mhandle\n",
      "File \u001b[0;32m/opt/anaconda3/envs/env_gait_new_1x/lib/python3.10/site-packages/pandas/io/common.py:873\u001b[0m, in \u001b[0;36mget_handle\u001b[0;34m(path_or_buf, mode, encoding, compression, memory_map, is_text, errors, storage_options)\u001b[0m\n\u001b[1;32m    868\u001b[0m \u001b[38;5;28;01melif\u001b[39;00m \u001b[38;5;28misinstance\u001b[39m(handle, \u001b[38;5;28mstr\u001b[39m):\n\u001b[1;32m    869\u001b[0m     \u001b[38;5;66;03m# Check whether the filename is to be opened in binary mode.\u001b[39;00m\n\u001b[1;32m    870\u001b[0m     \u001b[38;5;66;03m# Binary mode does not support 'encoding' and 'newline'.\u001b[39;00m\n\u001b[1;32m    871\u001b[0m     \u001b[38;5;28;01mif\u001b[39;00m ioargs\u001b[38;5;241m.\u001b[39mencoding \u001b[38;5;129;01mand\u001b[39;00m \u001b[38;5;124m\"\u001b[39m\u001b[38;5;124mb\u001b[39m\u001b[38;5;124m\"\u001b[39m \u001b[38;5;129;01mnot\u001b[39;00m \u001b[38;5;129;01min\u001b[39;00m ioargs\u001b[38;5;241m.\u001b[39mmode:\n\u001b[1;32m    872\u001b[0m         \u001b[38;5;66;03m# Encoding\u001b[39;00m\n\u001b[0;32m--> 873\u001b[0m         handle \u001b[38;5;241m=\u001b[39m \u001b[38;5;28;43mopen\u001b[39;49m\u001b[43m(\u001b[49m\n\u001b[1;32m    874\u001b[0m \u001b[43m            \u001b[49m\u001b[43mhandle\u001b[49m\u001b[43m,\u001b[49m\n\u001b[1;32m    875\u001b[0m \u001b[43m            \u001b[49m\u001b[43mioargs\u001b[49m\u001b[38;5;241;43m.\u001b[39;49m\u001b[43mmode\u001b[49m\u001b[43m,\u001b[49m\n\u001b[1;32m    876\u001b[0m \u001b[43m            \u001b[49m\u001b[43mencoding\u001b[49m\u001b[38;5;241;43m=\u001b[39;49m\u001b[43mioargs\u001b[49m\u001b[38;5;241;43m.\u001b[39;49m\u001b[43mencoding\u001b[49m\u001b[43m,\u001b[49m\n\u001b[1;32m    877\u001b[0m \u001b[43m            \u001b[49m\u001b[43merrors\u001b[49m\u001b[38;5;241;43m=\u001b[39;49m\u001b[43merrors\u001b[49m\u001b[43m,\u001b[49m\n\u001b[1;32m    878\u001b[0m \u001b[43m            \u001b[49m\u001b[43mnewline\u001b[49m\u001b[38;5;241;43m=\u001b[39;49m\u001b[38;5;124;43m\"\u001b[39;49m\u001b[38;5;124;43m\"\u001b[39;49m\u001b[43m,\u001b[49m\n\u001b[1;32m    879\u001b[0m \u001b[43m        \u001b[49m\u001b[43m)\u001b[49m\n\u001b[1;32m    880\u001b[0m     \u001b[38;5;28;01melse\u001b[39;00m:\n\u001b[1;32m    881\u001b[0m         \u001b[38;5;66;03m# Binary mode\u001b[39;00m\n\u001b[1;32m    882\u001b[0m         handle \u001b[38;5;241m=\u001b[39m \u001b[38;5;28mopen\u001b[39m(handle, ioargs\u001b[38;5;241m.\u001b[39mmode)\n",
      "\u001b[0;31mFileNotFoundError\u001b[0m: [Errno 2] No such file or directory: 'DataCP - By Subject.csv'"
     ]
    }
   ],
   "source": [
    "import numpy as np\n",
    "import os\n",
    "\n",
    "from utils.utils import *\n",
    "import numpy as np\n",
    "import matplotlib.pyplot as plt\n",
    "# Load dataset\n",
    "dataset = \"archives/AQM/TDvsPC_new_no_shuffle/\"\n",
    "d_file_list = ['CP.npz','TD.npz']\n",
    "x_list, nb_classes = load_dataset_v1(dataset, d_file_list, channel_first=True,flatten=False)\n",
    "\n",
    "# Load subject cycle table and split the dataset to training, validation and test set\n",
    "idx_file_list = ['DataCP - By Subject.csv','DataTD - By Subject.csv']\n",
    "x_train, x_test, y_train, y_test, x_val, y_val, cycle_end_idx, X_d, y_d = generate_data_for_train(x_list, idx_file_list,order=[1,0])\n",
    "\n",
    "# Create folder to save the results\n",
    "# os.makedirs('XAI_ranking', exist_ok=True)\n",
    "# os.makedirs('FS_result', exist_ok=True)"
   ]
  },
  {
   "cell_type": "markdown",
   "metadata": {},
   "source": [
    "# Evaluation of forward Feature selection"
   ]
  },
  {
   "cell_type": "code",
   "execution_count": null,
   "metadata": {},
   "outputs": [],
   "source": [
    "\n",
    "for Net_name in ['ResNet','LSTM','InceptionTime']:\n",
    "    print('------------------------'+Net_name+'------------------------')\n",
    "    # Read the best angles list\n",
    "    n_list_int = np.load('./XAI_ranking/FS_forward_'+str(Net_name)+'_TDvsCPu.npy')\n",
    "    ac_list_train = []\n",
    "    # Evaluation of forward Feature selection for all best angles\n",
    "    for idx, i in enumerate(range(len(n_list_int))):\n",
    "\n",
    "\n",
    "        i_best = n_list_int[idx]\n",
    "        best_list = n_list_int[:idx]\n",
    "\n",
    "        list_angle = list(range(22))\n",
    "\n",
    "        best_list_str = ''\n",
    "        for i in best_list:\n",
    "            best_list_str+=str(i)+\"_\"\n",
    "\n",
    "        list_i_m_accuray_nets = []\n",
    "        i_angle = i_best\n",
    "\n",
    "        D_name = \"TDvsCPu_full_angle_\"+best_list_str+str(i_angle)\n",
    "\n",
    "        list_accuracy_nets = []\n",
    "\n",
    "        for i_net_name in [Net_name]:\n",
    "            Net_name = i_net_name\n",
    "            out = np.load( './model/FS_forward/new_train_lrR_ET_'+D_name+'_'+Net_name+'/prediction.npy')\n",
    "            results_cycles = print_result_bundle_i_cycles(out, y_d, x_test, cycle_end_idx,label_list=['TD', 'CPu'])\n",
    "            list_accuracy_nets.append(np.array(results_cycles)[:,0])\n",
    "\n",
    "\n",
    "        ac_list_train.append(list_accuracy_nets[0][0])\n",
    "\n",
    "    os.makedirs('FS_result', exist_ok=True)\n",
    "    # np.save('./FS_result/FS_forward_accuracy_'+str(Net_name),ac_list_train)\n",
    "    print(Net_name+'_accuracy', ac_list_train)\n",
    "    # Evaluation of forward Feature selection for first round selection\n",
    "    list_i_m_accuray_nets = []\n",
    "    for i_angle in range(22):\n",
    "\n",
    "        D_name = \"TDvsCPu_full_angle_\"+str(i_angle)\n",
    "\n",
    "        list_accuracy_nets = []\n",
    "\n",
    "        for i_net_name in [Net_name]:\n",
    "            Net_name = i_net_name\n",
    "            out = np.load( './model/FS_forward/new_train_lrR_ET_'+\"TDvsCPu_full_angle_\"+str(i_angle)+'_'+Net_name+'/prediction.npy')\n",
    "            results_cycles = print_result_bundle_i_cycles(out, y_d, x_test, cycle_end_idx,label_list=['TD', 'CPu'])\n",
    "            list_accuracy_nets.append(np.array(results_cycles)[:,0])\n",
    "\n",
    "        list_i_m_accuray_nets.append(np.mean(list_accuracy_nets,axis=0)[0])\n",
    "\n",
    "    best_angle = np.argmax(list_i_m_accuray_nets)\n",
    "\n",
    "    # np.save('./FS_result/FS_forward_accuracy_first_'+str(Net_name),list_i_m_accuray_nets)\n",
    "    # np.save('./XAI_ranking/FS_forward_ranking_first_'+str(Net_name), np.argsort(-np.array(list_i_m_accuray_nets)))\n",
    "    print(Net_name+'_accuracy_first_round', list_i_m_accuray_nets)"
   ]
  },
  {
   "cell_type": "markdown",
   "metadata": {},
   "source": [
    "# Evaluation of backward Feature selection"
   ]
  },
  {
   "cell_type": "code",
   "execution_count": null,
   "metadata": {},
   "outputs": [],
   "source": [
    "for Net_name in ['ResNet','LSTM','InceptionTime']:\n",
    "    print('------------------------'+Net_name+'------------------------')\n",
    "    # Load the best angles list\n",
    "    n_list_int = np.load('./XAI_ranking/FS_backward_'+str(Net_name)+'_TDvsCPu.npy')\n",
    "    ac_list_train = []\n",
    "    # Evaluation of backward Feature selection for all best angles\n",
    "    for idx, i in enumerate(range(len(n_list_int)-1)):\n",
    "\n",
    "\n",
    "        i_best = n_list_int[idx]\n",
    "        best_list = n_list_int[:idx]\n",
    "\n",
    "        list_angle = list(range(22))\n",
    "\n",
    "        best_list_str = ''\n",
    "        for i in best_list:\n",
    "            best_list_str+=str(i)+\"_\"\n",
    "\n",
    "        list_i_m_accuray_nets = []\n",
    "        i_angle = i_best\n",
    "\n",
    "        D_name = \"TDvsCPu_full_angle_\"+best_list_str+str(i_angle)\n",
    "\n",
    "        list_accuracy_nets = []\n",
    "\n",
    "        for i_net_name in [Net_name]:\n",
    "            Net_name = i_net_name\n",
    "            out = np.load( './model/FS_backward/new_train_lrR_ET_'+D_name+'_'+Net_name+'/prediction.npy')\n",
    "            results_cycles = print_result_bundle_i_cycles(out, y_d, x_test, cycle_end_idx,label_list=['TD', 'CPu'])\n",
    "            list_accuracy_nets.append(np.array(results_cycles)[:,0])\n",
    "\n",
    "\n",
    "        ac_list_train.append(list_accuracy_nets[0][0])\n",
    "\n",
    "    os.makedirs('FS_result', exist_ok=True)\n",
    "    np.save('./FS_result/FS_backward_accuracy_'+str(Net_name),ac_list_train)\n",
    "    print(Net_name+'_accuracy', ac_list_train)\n",
    "    \n",
    "    # Evaluation of backward Feature selection for first round selection\n",
    "    list_i_m_accuray_nets = []\n",
    "    for i_angle in range(22):\n",
    "\n",
    "        D_name = \"TDvsCPu_full_angle_\"+str(i_angle)\n",
    "\n",
    "        list_accuracy_nets = []\n",
    "\n",
    "        for i_net_name in [Net_name]:\n",
    "            Net_name = i_net_name\n",
    "            out = np.load( './model/FS_backward/new_train_lrR_ET_'+\"TDvsCPu_full_angle_\"+str(i_angle)+'_'+Net_name+'/prediction.npy')\n",
    "            results_cycles = print_result_bundle_i_cycles(out, y_d, x_test, cycle_end_idx,label_list=['TD', 'CPu'])\n",
    "            list_accuracy_nets.append(np.array(results_cycles)[:,0])\n",
    "\n",
    "        list_i_m_accuray_nets.append(np.mean(list_accuracy_nets,axis=0)[0])\n",
    "\n",
    "    best_angle = np.argmax(list_i_m_accuray_nets)\n",
    "\n",
    "    np.save('./FS_result/FS_backward_accuracy_first_'+str(Net_name),list_i_m_accuray_nets)\n",
    "    np.save('./XAI_ranking/FS_backward_ranking_first_'+str(Net_name), np.argsort(np.array(list_i_m_accuray_nets)))\n",
    "    print(Net_name+'_accuracy_first_round', list_i_m_accuray_nets)"
   ]
  }
 ],
 "metadata": {
  "kernelspec": {
   "display_name": "Python 3 (ipykernel)",
   "language": "python",
   "name": "python3"
  },
  "language_info": {
   "codemirror_mode": {
    "name": "ipython",
    "version": 3
   },
   "file_extension": ".py",
   "mimetype": "text/x-python",
   "name": "python",
   "nbconvert_exporter": "python",
   "pygments_lexer": "ipython3",
   "version": "3.12.2"
  }
 },
 "nbformat": 4,
 "nbformat_minor": 4
}
