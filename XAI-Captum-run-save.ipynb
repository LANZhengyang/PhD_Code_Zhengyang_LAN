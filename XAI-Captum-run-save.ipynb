{
 "cells": [
  {
   "cell_type": "markdown",
   "metadata": {},
   "source": [
    "## This notebook show how to do the XAI with the trained model with TDvsCPu - ResNet \n",
    "### Load the data first"
   ]
  },
  {
   "cell_type": "code",
   "execution_count": 1,
   "metadata": {},
   "outputs": [
    {
     "name": "stderr",
     "output_type": "stream",
     "text": [
      "/home/zylan/anaconda3/envs/env_gait/lib/python3.9/site-packages/tqdm/auto.py:21: TqdmWarning: IProgress not found. Please update jupyter and ipywidgets. See https://ipywidgets.readthedocs.io/en/stable/user_install.html\n",
      "  from .autonotebook import tqdm as notebook_tqdm\n",
      "/tmp/ipykernel_4524/4063324783.py:68: DtypeWarning: Columns (0) have mixed types. Specify dtype option on import or set low_memory=False.\n",
      "  R_data = pd.read_csv('DataPC - Right.csv', header=None)\n"
     ]
    },
    {
     "name": "stdout",
     "output_type": "stream",
     "text": [
      "(array([0., 1.]), array([35, 89]))\n",
      "(array([0., 1.]), array([ 6, 14]))\n",
      "(array([0., 1.]), array([18, 45]))\n"
     ]
    },
    {
     "name": "stderr",
     "output_type": "stream",
     "text": [
      "/tmp/ipykernel_4524/4063324783.py:72: DtypeWarning: Columns (0) have mixed types. Specify dtype option on import or set low_memory=False.\n",
      "  L_data = pd.read_csv('DataPC - Left.csv', header=None)\n"
     ]
    }
   ],
   "source": [
    "from utils.utils import gait_dataloader\n",
    "from utils.utils import init_model,  patients_idx_to_cycles_idx, find_cycles_idx_by_patient_idx\n",
    "from sklearn.model_selection import train_test_split\n",
    "\n",
    "from utils.utils import init_model,accuracy_end_to_end, GridSearchCV\n",
    "\n",
    "import numpy as np\n",
    "\n",
    "from sklearn.svm import SVC\n",
    "\n",
    "from sklearn.metrics import f1_score\n",
    "\n",
    "from sklearn.metrics import accuracy_score\n",
    "\n",
    "from sklearn.metrics import confusion_matrix\n",
    "\n",
    "from captum.attr import visualization as viz\n",
    "from captum.attr import Lime, LimeBase\n",
    "from captum._utils.models.linear_model import SkLearnLinearRegression, SkLearnLasso\n",
    "from captum.attr._core.lime import get_exp_kernel_similarity_function\n",
    "\n",
    "def load_dataset_v1(dir_dataset,channel_first=True,flatten=True,shuffle=False,random_state=0):\n",
    "    index = [0,1,2,3,4,5,6,7,8,9,14,15,16,17,18,19,20,21,22,23,24,29]\n",
    "    \n",
    "    npzfile = np.load(dir_dataset + 'RightPC.npz')\n",
    "    \n",
    "    x_train_all = npzfile['Input']\n",
    "    y_train = npzfile['Output']\n",
    "    y_train = np.ravel(y_train)\n",
    "    x_train = x_train_all[:,:,index]\n",
    "    if channel_first:\n",
    "        x_train = x_train.transpose(0,2,1)\n",
    "    \n",
    "    npzfile = np.load(dir_dataset + 'LeftPC.npz')\n",
    "    x_val_all = npzfile['Input']\n",
    "    y_val = npzfile['Output']\n",
    "    y_val = np.ravel(y_val)\n",
    "    x_val = x_val_all[:,:,index]\n",
    "    if channel_first:\n",
    "        x_val = x_val.transpose(0,2,1)\n",
    "    \n",
    "    npzfile = np.load(dir_dataset + 'TD.npz')\n",
    "    x_test_all = npzfile['Input']\n",
    "    y_test = npzfile['Output']\n",
    "    y_test = np.ravel(y_test)\n",
    "    x_test = x_test_all[:,:,index]\n",
    "    if channel_first:\n",
    "        x_test = x_test.transpose(0,2,1)\n",
    "    \n",
    "    if flatten == True:\n",
    "        x_train = x_train.reshape([x_train.shape[0],-1])\n",
    "        x_val = x_val.reshape([x_val.shape[0],-1])\n",
    "        x_test = x_test.reshape([x_test.shape[0],-1])\n",
    "    \n",
    "    nb_classes = len(np.unique(np.concatenate((y_train, y_val, y_test), axis=0)))\n",
    "    \n",
    "    return x_train, y_train ,x_val, y_val, x_test, y_test, nb_classes\n",
    "\n",
    "dataset = \"archives/AQM/TDvsPC_new_no_shuffle/\"\n",
    "\n",
    "x_R, y_R ,x_L , y_L, x_TD, y_TD, nb_classes = load_dataset_v1(dataset,channel_first=True,flatten=False,shuffle=False,random_state=0)\n",
    "\n",
    "X_d = np.concatenate([x_R,x_L,x_TD])\n",
    "# X_d = X_d.reshape([len(X_d),-1])\n",
    "y_d = np.concatenate([y_R,y_L,y_TD])\n",
    "import  pandas as pd\n",
    "\n",
    "R_data = pd.read_csv('DataPC - Right.csv', header=None)\n",
    "R_idx = R_data[2].to_numpy()\n",
    "\n",
    "\n",
    "L_data = pd.read_csv('DataPC - Left.csv', header=None)\n",
    "L_idx = L_data[2].to_numpy()\n",
    "L_idx = L_idx + R_idx[-1]\n",
    "\n",
    "TD_data = pd.read_csv('DataTD - By Subject.csv', header=None)\n",
    "TD_idx = TD_data[2].to_numpy()\n",
    "TD_idx = TD_idx + L_idx[-1]\n",
    "\n",
    "cycle_end_idx = np.concatenate([R_idx,L_idx,TD_idx])\n",
    "cycle_end_idx\n",
    "\n",
    "patient_index_range = np.arange(len(R_idx)+len(L_idx)+len(TD_idx))\n",
    "patient_class = np.concatenate([np.ones(len(R_idx)+len(L_idx)), np.zeros(len(TD_idx))])\n",
    "\n",
    "x_train, x_test, y_train, y_test = train_test_split(patient_index_range, patient_class, test_size=0.4, stratify=patient_class,random_state=0)\n",
    "x_val, x_test, y_val, y_test = train_test_split(x_test,y_test, test_size=0.75, random_state=0, stratify=y_test)\n",
    "print(np.unique(y_train,return_counts=True))\n",
    "print(np.unique(y_val,return_counts=True))\n",
    "print(np.unique(y_test,return_counts=True))"
   ]
  },
  {
   "cell_type": "code",
   "execution_count": 2,
   "metadata": {},
   "outputs": [
    {
     "data": {
      "text/plain": [
       "array([  10,   34,   63,   72,   89,  100,  123,  146,  166,  176,  188,\n",
       "        209,  236,  259,  273,  281,  299,  308,  327,  347,  370,  387,\n",
       "        415,  441,  457,  482,  502,  521,  534,  539,  563,  579,  596,\n",
       "        619,  633,  646,  662,  674,  695,  709,  726,  739,  752,  769,\n",
       "        790,  815,  832,  847,  870,  890,  908,  929,  963,  987, 1007,\n",
       "       1034, 1056, 1071, 1090, 1119, 1134, 1161, 1193, 1210, 1232, 1253,\n",
       "       1271, 1286, 1312, 1321, 1333, 1358, 1379, 1400, 1416, 1439, 1461,\n",
       "       1491, 1512, 1528, 1539, 1549, 1565, 1581, 1602, 1624, 1649, 1669,\n",
       "       1683, 1705, 1714, 1736, 1752, 1767, 1781, 1796, 1812, 1826, 1844,\n",
       "       1849, 1875, 1888, 1908, 1928, 1940, 1966, 1973, 1982, 1998, 2017,\n",
       "       2033, 2041, 2055, 2071, 2091, 2100, 2111, 2120, 2128, 2141, 2157,\n",
       "       2167, 2193, 2210, 2233, 2246, 2270, 2288, 2306, 2348, 2361, 2372,\n",
       "       2388, 2422, 2441, 2445, 2470, 2491, 2511, 2543, 2574, 2605, 2631,\n",
       "       2646, 2671, 2701, 2717, 2729, 2738, 2740, 2735, 2736, 2735, 2741,\n",
       "       2743, 2741, 2746, 2743, 2743, 2734, 2735, 2738, 2735, 2737, 2737,\n",
       "       2734, 2733, 2740, 2735, 2737, 2739, 2750, 2743, 2736, 2735, 2733,\n",
       "       2736, 2736, 2745, 2742, 2748, 2748, 2739, 2742, 2742, 2739, 2739,\n",
       "       2742, 2747, 2741, 2747, 2738, 2737, 2743, 2742, 2744, 2738, 2737,\n",
       "       2743, 2747, 2748, 2743, 2738, 2737, 2739, 2746, 2736])"
      ]
     },
     "execution_count": 2,
     "metadata": {},
     "output_type": "execute_result"
    }
   ],
   "source": [
    "cycle_end_idx"
   ]
  },
  {
   "cell_type": "code",
   "execution_count": 3,
   "metadata": {},
   "outputs": [],
   "source": [
    "from utils.utils import gait_dataloader\n",
    "from utils.utils import init_model\n",
    "## lime\n",
    "import torch\n",
    "import pytorch_lightning as pl\n",
    "from torch.utils.data import Dataset\n",
    "class Dataset_torch(Dataset):\n",
    "\n",
    "    def __init__(self, data,with_label=True):\n",
    "        self.with_label =  with_label\n",
    "        \n",
    "        if self.with_label:\n",
    "            self.data_x, self.data_y = data\n",
    "        else:\n",
    "            self.data_x = data\n",
    "    def __len__(self):\n",
    "        return len(self.data_x)\n",
    "\n",
    "    def __getitem__(self, idx):\n",
    "        if self.with_label:\n",
    "            return self.data_x[idx], self.data_y[idx]\n",
    "        else:\n",
    "            return self.data_x[idx]"
   ]
  },
  {
   "cell_type": "markdown",
   "metadata": {},
   "source": [
    "### Load the model with best accuracy"
   ]
  },
  {
   "cell_type": "code",
   "execution_count": 4,
   "metadata": {},
   "outputs": [
    {
     "name": "stderr",
     "output_type": "stream",
     "text": [
      "/home/zylan/Desktop/paper2/classifiers/DL_classifier.py:60: FutureWarning: You are using `torch.load` with `weights_only=False` (the current default value), which uses the default pickle module implicitly. It is possible to construct malicious pickle data which will execute arbitrary code during unpickling (See https://github.com/pytorch/pytorch/blob/main/SECURITY.md#untrusted-models for more details). In a future release, the default value for `weights_only` will be flipped to `True`. This limits the functions that could be executed during unpickling. Arbitrary objects will no longer be allowed to be loaded via this mode unless they are explicitly allowlisted by the user via `torch.serialization.add_safe_globals`. We recommend you start setting `weights_only=True` for any use case where you don't have full control of the loaded file. Please open an issue on GitHub for any issues related to this experimental feature.\n",
      "  checkpoint = torch.load(model_dir,map_location=torch.device('cpu'))\n"
     ]
    }
   ],
   "source": [
    "classifer = init_model(model_name='ResNet').load('TDvsCPu/new_train_lrR_ET_TDvsCPu_full_5_original_weight_ResNet/model-epoch=04-val_loss=0.96-val_accuracy=0.92.ckpt')"
   ]
  },
  {
   "cell_type": "markdown",
   "metadata": {},
   "source": [
    "## Compute the XAI of IntegratedGradients and save the results"
   ]
  },
  {
   "cell_type": "code",
   "execution_count": 6,
   "metadata": {},
   "outputs": [],
   "source": [
    "from captum.attr import IntegratedGradients\n",
    "target=0\n",
    "ig = IntegratedGradients(classifer.model)\n",
    "inputs = torch.from_numpy(X_d[patients_idx_to_cycles_idx(x_test,cycle_end_idx)][y_d[patients_idx_to_cycles_idx(x_test,cycle_end_idx)]==target]).to(torch.float32)\n",
    "attrs_0 = ig.attribute(inputs,target=target)\n",
    "\n",
    "from captum.attr import IntegratedGradients\n",
    "target=1\n",
    "ig = IntegratedGradients(classifer.model)\n",
    "inputs = torch.from_numpy(X_d[patients_idx_to_cycles_idx(x_test,cycle_end_idx)][y_d[patients_idx_to_cycles_idx(x_test,cycle_end_idx)]==target]).to(torch.float32)\n",
    "attrs_1 = ig.attribute(inputs,target=target)\n",
    "\n",
    "np.save(\"./XAI_value/ig_tdvscp_weight_ResNet_0\", attrs_0)\n",
    "np.save(\"./XAI_value/ig_tdvscp_weight_ResNet_1\", attrs_1)"
   ]
  },
  {
   "cell_type": "markdown",
   "metadata": {},
   "source": [
    "## Compute the XAI of LIME and save the results"
   ]
  },
  {
   "cell_type": "code",
   "execution_count": 5,
   "metadata": {},
   "outputs": [
    {
     "name": "stderr",
     "output_type": "stream",
     "text": [
      "/home/zhengyang/Desktop/Git_resp_limesegment/classifiers/ResNet.py:149: UserWarning: Implicit dimension choice for softmax has been deprecated. Change the call to include dim=X as an argument.\n",
      "  output_layer = self.softmax(output_layer)\n",
      "/home/zhengyang/anaconda3/envs/env_gait/lib/python3.9/site-packages/captum/attr/_core/lime.py:1115: UserWarning: You are providing multiple inputs for Lime / Kernel SHAP attributions. This trains a separate interpretable model for each example, which can be time consuming. It is recommended to compute attributions for one example at a time.\n",
      "  warnings.warn(\n"
     ]
    },
    {
     "data": {
      "application/vnd.jupyter.widget-view+json": {
       "model_id": "968872baca8547508b71d84298227200",
       "version_major": 2,
       "version_minor": 0
      },
      "text/plain": [
       "Lime attribution:   0%|          | 0/25 [00:00<?, ?it/s]"
      ]
     },
     "metadata": {},
     "output_type": "display_data"
    },
    {
     "data": {
      "application/vnd.jupyter.widget-view+json": {
       "model_id": "e61e9d4363e84102a135959cbc6a3354",
       "version_major": 2,
       "version_minor": 0
      },
      "text/plain": [
       "Lime attribution:   0%|          | 0/25 [00:00<?, ?it/s]"
      ]
     },
     "metadata": {},
     "output_type": "display_data"
    },
    {
     "name": "stderr",
     "output_type": "stream",
     "text": [
      "/home/zhengyang/Desktop/Git_resp_limesegment/classifiers/ResNet.py:149: UserWarning: Implicit dimension choice for softmax has been deprecated. Change the call to include dim=X as an argument.\n",
      "  output_layer = self.softmax(output_layer)\n"
     ]
    },
    {
     "data": {
      "application/vnd.jupyter.widget-view+json": {
       "model_id": "9987f194bfa048ed9a247b8f12f7f351",
       "version_major": 2,
       "version_minor": 0
      },
      "text/plain": [
       "Lime attribution:   0%|          | 0/25 [00:00<?, ?it/s]"
      ]
     },
     "metadata": {},
     "output_type": "display_data"
    },
    {
     "name": "stderr",
     "output_type": "stream",
     "text": [
      "/home/zhengyang/Desktop/Git_resp_limesegment/classifiers/ResNet.py:149: UserWarning: Implicit dimension choice for softmax has been deprecated. Change the call to include dim=X as an argument.\n",
      "  output_layer = self.softmax(output_layer)\n"
     ]
    },
    {
     "data": {
      "application/vnd.jupyter.widget-view+json": {
       "model_id": "00622a6340864e25af57b3a43968c089",
       "version_major": 2,
       "version_minor": 0
      },
      "text/plain": [
       "Lime attribution:   0%|          | 0/25 [00:00<?, ?it/s]"
      ]
     },
     "metadata": {},
     "output_type": "display_data"
    },
    {
     "name": "stderr",
     "output_type": "stream",
     "text": [
      "/home/zhengyang/Desktop/Git_resp_limesegment/classifiers/ResNet.py:149: UserWarning: Implicit dimension choice for softmax has been deprecated. Change the call to include dim=X as an argument.\n",
      "  output_layer = self.softmax(output_layer)\n"
     ]
    },
    {
     "data": {
      "application/vnd.jupyter.widget-view+json": {
       "model_id": "1b20e105460446d59194f467d2ad056e",
       "version_major": 2,
       "version_minor": 0
      },
      "text/plain": [
       "Lime attribution:   0%|          | 0/25 [00:00<?, ?it/s]"
      ]
     },
     "metadata": {},
     "output_type": "display_data"
    },
    {
     "name": "stderr",
     "output_type": "stream",
     "text": [
      "/home/zhengyang/Desktop/Git_resp_limesegment/classifiers/ResNet.py:149: UserWarning: Implicit dimension choice for softmax has been deprecated. Change the call to include dim=X as an argument.\n",
      "  output_layer = self.softmax(output_layer)\n"
     ]
    },
    {
     "data": {
      "application/vnd.jupyter.widget-view+json": {
       "model_id": "4b3dd55951dd4990b0c3b90427fdcb02",
       "version_major": 2,
       "version_minor": 0
      },
      "text/plain": [
       "Lime attribution:   0%|          | 0/25 [00:00<?, ?it/s]"
      ]
     },
     "metadata": {},
     "output_type": "display_data"
    },
    {
     "name": "stderr",
     "output_type": "stream",
     "text": [
      "/home/zhengyang/Desktop/Git_resp_limesegment/classifiers/ResNet.py:149: UserWarning: Implicit dimension choice for softmax has been deprecated. Change the call to include dim=X as an argument.\n",
      "  output_layer = self.softmax(output_layer)\n"
     ]
    },
    {
     "data": {
      "application/vnd.jupyter.widget-view+json": {
       "model_id": "3519cb9e8b584a68b02843b05a0450cf",
       "version_major": 2,
       "version_minor": 0
      },
      "text/plain": [
       "Lime attribution:   0%|          | 0/25 [00:00<?, ?it/s]"
      ]
     },
     "metadata": {},
     "output_type": "display_data"
    },
    {
     "name": "stderr",
     "output_type": "stream",
     "text": [
      "/home/zhengyang/Desktop/Git_resp_limesegment/classifiers/ResNet.py:149: UserWarning: Implicit dimension choice for softmax has been deprecated. Change the call to include dim=X as an argument.\n",
      "  output_layer = self.softmax(output_layer)\n"
     ]
    },
    {
     "data": {
      "application/vnd.jupyter.widget-view+json": {
       "model_id": "acd71eeac9df4d6fbc753047dc6ec1c6",
       "version_major": 2,
       "version_minor": 0
      },
      "text/plain": [
       "Lime attribution:   0%|          | 0/25 [00:00<?, ?it/s]"
      ]
     },
     "metadata": {},
     "output_type": "display_data"
    },
    {
     "name": "stderr",
     "output_type": "stream",
     "text": [
      "/home/zhengyang/Desktop/Git_resp_limesegment/classifiers/ResNet.py:149: UserWarning: Implicit dimension choice for softmax has been deprecated. Change the call to include dim=X as an argument.\n",
      "  output_layer = self.softmax(output_layer)\n"
     ]
    },
    {
     "data": {
      "application/vnd.jupyter.widget-view+json": {
       "model_id": "da73233dcbf3490c9516dec9afb7b921",
       "version_major": 2,
       "version_minor": 0
      },
      "text/plain": [
       "Lime attribution:   0%|          | 0/25 [00:00<?, ?it/s]"
      ]
     },
     "metadata": {},
     "output_type": "display_data"
    },
    {
     "name": "stderr",
     "output_type": "stream",
     "text": [
      "/home/zhengyang/Desktop/Git_resp_limesegment/classifiers/ResNet.py:149: UserWarning: Implicit dimension choice for softmax has been deprecated. Change the call to include dim=X as an argument.\n",
      "  output_layer = self.softmax(output_layer)\n"
     ]
    },
    {
     "data": {
      "application/vnd.jupyter.widget-view+json": {
       "model_id": "cb5d91ebf38d48f39789809cea9b65c8",
       "version_major": 2,
       "version_minor": 0
      },
      "text/plain": [
       "Lime attribution:   0%|          | 0/25 [00:00<?, ?it/s]"
      ]
     },
     "metadata": {},
     "output_type": "display_data"
    },
    {
     "name": "stderr",
     "output_type": "stream",
     "text": [
      "/home/zhengyang/Desktop/Git_resp_limesegment/classifiers/ResNet.py:149: UserWarning: Implicit dimension choice for softmax has been deprecated. Change the call to include dim=X as an argument.\n",
      "  output_layer = self.softmax(output_layer)\n"
     ]
    },
    {
     "data": {
      "application/vnd.jupyter.widget-view+json": {
       "model_id": "fbf0037fd9df4287bce2401b165777d6",
       "version_major": 2,
       "version_minor": 0
      },
      "text/plain": [
       "Lime attribution:   0%|          | 0/25 [00:00<?, ?it/s]"
      ]
     },
     "metadata": {},
     "output_type": "display_data"
    },
    {
     "name": "stderr",
     "output_type": "stream",
     "text": [
      "/home/zhengyang/Desktop/Git_resp_limesegment/classifiers/ResNet.py:149: UserWarning: Implicit dimension choice for softmax has been deprecated. Change the call to include dim=X as an argument.\n",
      "  output_layer = self.softmax(output_layer)\n"
     ]
    },
    {
     "data": {
      "application/vnd.jupyter.widget-view+json": {
       "model_id": "7fc61e68f90c4930b8173b3772dcf2fb",
       "version_major": 2,
       "version_minor": 0
      },
      "text/plain": [
       "Lime attribution:   0%|          | 0/25 [00:00<?, ?it/s]"
      ]
     },
     "metadata": {},
     "output_type": "display_data"
    },
    {
     "name": "stderr",
     "output_type": "stream",
     "text": [
      "/home/zhengyang/Desktop/Git_resp_limesegment/classifiers/ResNet.py:149: UserWarning: Implicit dimension choice for softmax has been deprecated. Change the call to include dim=X as an argument.\n",
      "  output_layer = self.softmax(output_layer)\n"
     ]
    },
    {
     "data": {
      "application/vnd.jupyter.widget-view+json": {
       "model_id": "bde26fb64e8149e0ac688188f5eab252",
       "version_major": 2,
       "version_minor": 0
      },
      "text/plain": [
       "Lime attribution:   0%|          | 0/25 [00:00<?, ?it/s]"
      ]
     },
     "metadata": {},
     "output_type": "display_data"
    },
    {
     "name": "stderr",
     "output_type": "stream",
     "text": [
      "/home/zhengyang/Desktop/Git_resp_limesegment/classifiers/ResNet.py:149: UserWarning: Implicit dimension choice for softmax has been deprecated. Change the call to include dim=X as an argument.\n",
      "  output_layer = self.softmax(output_layer)\n"
     ]
    },
    {
     "data": {
      "application/vnd.jupyter.widget-view+json": {
       "model_id": "196b5e533b9648a8aadfec869b5c7d03",
       "version_major": 2,
       "version_minor": 0
      },
      "text/plain": [
       "Lime attribution:   0%|          | 0/25 [00:00<?, ?it/s]"
      ]
     },
     "metadata": {},
     "output_type": "display_data"
    },
    {
     "name": "stderr",
     "output_type": "stream",
     "text": [
      "/home/zhengyang/Desktop/Git_resp_limesegment/classifiers/ResNet.py:149: UserWarning: Implicit dimension choice for softmax has been deprecated. Change the call to include dim=X as an argument.\n",
      "  output_layer = self.softmax(output_layer)\n"
     ]
    },
    {
     "data": {
      "application/vnd.jupyter.widget-view+json": {
       "model_id": "3227fc0557b64a6e81c2099ccab02175",
       "version_major": 2,
       "version_minor": 0
      },
      "text/plain": [
       "Lime attribution:   0%|          | 0/25 [00:00<?, ?it/s]"
      ]
     },
     "metadata": {},
     "output_type": "display_data"
    },
    {
     "name": "stderr",
     "output_type": "stream",
     "text": [
      "/home/zhengyang/Desktop/Git_resp_limesegment/classifiers/ResNet.py:149: UserWarning: Implicit dimension choice for softmax has been deprecated. Change the call to include dim=X as an argument.\n",
      "  output_layer = self.softmax(output_layer)\n"
     ]
    },
    {
     "data": {
      "application/vnd.jupyter.widget-view+json": {
       "model_id": "7b39bd46c4d94fb38f75149bbf7c18fd",
       "version_major": 2,
       "version_minor": 0
      },
      "text/plain": [
       "Lime attribution:   0%|          | 0/25 [00:00<?, ?it/s]"
      ]
     },
     "metadata": {},
     "output_type": "display_data"
    },
    {
     "name": "stderr",
     "output_type": "stream",
     "text": [
      "/home/zhengyang/Desktop/Git_resp_limesegment/classifiers/ResNet.py:149: UserWarning: Implicit dimension choice for softmax has been deprecated. Change the call to include dim=X as an argument.\n",
      "  output_layer = self.softmax(output_layer)\n"
     ]
    },
    {
     "data": {
      "application/vnd.jupyter.widget-view+json": {
       "model_id": "f5f8d74238ae4272bef537eb1fd88d33",
       "version_major": 2,
       "version_minor": 0
      },
      "text/plain": [
       "Lime attribution:   0%|          | 0/25 [00:00<?, ?it/s]"
      ]
     },
     "metadata": {},
     "output_type": "display_data"
    },
    {
     "name": "stderr",
     "output_type": "stream",
     "text": [
      "/home/zhengyang/Desktop/Git_resp_limesegment/classifiers/ResNet.py:149: UserWarning: Implicit dimension choice for softmax has been deprecated. Change the call to include dim=X as an argument.\n",
      "  output_layer = self.softmax(output_layer)\n"
     ]
    },
    {
     "data": {
      "application/vnd.jupyter.widget-view+json": {
       "model_id": "c46b4b637d44405baf11453a3241a507",
       "version_major": 2,
       "version_minor": 0
      },
      "text/plain": [
       "Lime attribution:   0%|          | 0/25 [00:00<?, ?it/s]"
      ]
     },
     "metadata": {},
     "output_type": "display_data"
    },
    {
     "name": "stderr",
     "output_type": "stream",
     "text": [
      "/home/zhengyang/Desktop/Git_resp_limesegment/classifiers/ResNet.py:149: UserWarning: Implicit dimension choice for softmax has been deprecated. Change the call to include dim=X as an argument.\n",
      "  output_layer = self.softmax(output_layer)\n"
     ]
    },
    {
     "data": {
      "application/vnd.jupyter.widget-view+json": {
       "model_id": "42a05b4c686648119f8d7d5220eb126d",
       "version_major": 2,
       "version_minor": 0
      },
      "text/plain": [
       "Lime attribution:   0%|          | 0/25 [00:00<?, ?it/s]"
      ]
     },
     "metadata": {},
     "output_type": "display_data"
    },
    {
     "name": "stderr",
     "output_type": "stream",
     "text": [
      "/home/zhengyang/Desktop/Git_resp_limesegment/classifiers/ResNet.py:149: UserWarning: Implicit dimension choice for softmax has been deprecated. Change the call to include dim=X as an argument.\n",
      "  output_layer = self.softmax(output_layer)\n"
     ]
    },
    {
     "data": {
      "application/vnd.jupyter.widget-view+json": {
       "model_id": "974ab1901477479590e8255be28886e2",
       "version_major": 2,
       "version_minor": 0
      },
      "text/plain": [
       "Lime attribution:   0%|          | 0/25 [00:00<?, ?it/s]"
      ]
     },
     "metadata": {},
     "output_type": "display_data"
    },
    {
     "name": "stderr",
     "output_type": "stream",
     "text": [
      "/home/zhengyang/Desktop/Git_resp_limesegment/classifiers/ResNet.py:149: UserWarning: Implicit dimension choice for softmax has been deprecated. Change the call to include dim=X as an argument.\n",
      "  output_layer = self.softmax(output_layer)\n"
     ]
    },
    {
     "data": {
      "application/vnd.jupyter.widget-view+json": {
       "model_id": "55232d4459bd490e8f20105a036f3762",
       "version_major": 2,
       "version_minor": 0
      },
      "text/plain": [
       "Lime attribution:   0%|          | 0/25 [00:00<?, ?it/s]"
      ]
     },
     "metadata": {},
     "output_type": "display_data"
    },
    {
     "name": "stderr",
     "output_type": "stream",
     "text": [
      "/home/zhengyang/Desktop/Git_resp_limesegment/classifiers/ResNet.py:149: UserWarning: Implicit dimension choice for softmax has been deprecated. Change the call to include dim=X as an argument.\n",
      "  output_layer = self.softmax(output_layer)\n"
     ]
    },
    {
     "data": {
      "application/vnd.jupyter.widget-view+json": {
       "model_id": "4cecc5ab52ba4138b87d5f1059f1ac88",
       "version_major": 2,
       "version_minor": 0
      },
      "text/plain": [
       "Lime attribution:   0%|          | 0/25 [00:00<?, ?it/s]"
      ]
     },
     "metadata": {},
     "output_type": "display_data"
    },
    {
     "name": "stderr",
     "output_type": "stream",
     "text": [
      "/home/zhengyang/Desktop/Git_resp_limesegment/classifiers/ResNet.py:149: UserWarning: Implicit dimension choice for softmax has been deprecated. Change the call to include dim=X as an argument.\n",
      "  output_layer = self.softmax(output_layer)\n"
     ]
    },
    {
     "data": {
      "application/vnd.jupyter.widget-view+json": {
       "model_id": "6a2b6a0d03f44128871013dd1eeaefec",
       "version_major": 2,
       "version_minor": 0
      },
      "text/plain": [
       "Lime attribution:   0%|          | 0/25 [00:00<?, ?it/s]"
      ]
     },
     "metadata": {},
     "output_type": "display_data"
    },
    {
     "name": "stderr",
     "output_type": "stream",
     "text": [
      "/home/zhengyang/Desktop/Git_resp_limesegment/classifiers/ResNet.py:149: UserWarning: Implicit dimension choice for softmax has been deprecated. Change the call to include dim=X as an argument.\n",
      "  output_layer = self.softmax(output_layer)\n"
     ]
    },
    {
     "data": {
      "application/vnd.jupyter.widget-view+json": {
       "model_id": "9df8e96e0a2741589681090372999d3f",
       "version_major": 2,
       "version_minor": 0
      },
      "text/plain": [
       "Lime attribution:   0%|          | 0/25 [00:00<?, ?it/s]"
      ]
     },
     "metadata": {},
     "output_type": "display_data"
    },
    {
     "name": "stderr",
     "output_type": "stream",
     "text": [
      "/home/zhengyang/Desktop/Git_resp_limesegment/classifiers/ResNet.py:149: UserWarning: Implicit dimension choice for softmax has been deprecated. Change the call to include dim=X as an argument.\n",
      "  output_layer = self.softmax(output_layer)\n"
     ]
    },
    {
     "data": {
      "application/vnd.jupyter.widget-view+json": {
       "model_id": "9222ad4e13bc4f4d9849c11ee3426b79",
       "version_major": 2,
       "version_minor": 0
      },
      "text/plain": [
       "Lime attribution:   0%|          | 0/25 [00:00<?, ?it/s]"
      ]
     },
     "metadata": {},
     "output_type": "display_data"
    },
    {
     "name": "stderr",
     "output_type": "stream",
     "text": [
      "/home/zhengyang/Desktop/Git_resp_limesegment/classifiers/ResNet.py:149: UserWarning: Implicit dimension choice for softmax has been deprecated. Change the call to include dim=X as an argument.\n",
      "  output_layer = self.softmax(output_layer)\n"
     ]
    },
    {
     "data": {
      "application/vnd.jupyter.widget-view+json": {
       "model_id": "9284255f81354ca7ad85c8edaaab6c75",
       "version_major": 2,
       "version_minor": 0
      },
      "text/plain": [
       "Lime attribution:   0%|          | 0/25 [00:00<?, ?it/s]"
      ]
     },
     "metadata": {},
     "output_type": "display_data"
    },
    {
     "name": "stderr",
     "output_type": "stream",
     "text": [
      "/home/zhengyang/Desktop/Git_resp_limesegment/classifiers/ResNet.py:149: UserWarning: Implicit dimension choice for softmax has been deprecated. Change the call to include dim=X as an argument.\n",
      "  output_layer = self.softmax(output_layer)\n"
     ]
    },
    {
     "data": {
      "application/vnd.jupyter.widget-view+json": {
       "model_id": "44f3cc3eb5f64960a1f258b3cbc11618",
       "version_major": 2,
       "version_minor": 0
      },
      "text/plain": [
       "Lime attribution:   0%|          | 0/25 [00:00<?, ?it/s]"
      ]
     },
     "metadata": {},
     "output_type": "display_data"
    },
    {
     "name": "stderr",
     "output_type": "stream",
     "text": [
      "/home/zhengyang/Desktop/Git_resp_limesegment/classifiers/ResNet.py:149: UserWarning: Implicit dimension choice for softmax has been deprecated. Change the call to include dim=X as an argument.\n",
      "  output_layer = self.softmax(output_layer)\n"
     ]
    },
    {
     "data": {
      "application/vnd.jupyter.widget-view+json": {
       "model_id": "06935c2928e743d5942fd9be57567d33",
       "version_major": 2,
       "version_minor": 0
      },
      "text/plain": [
       "Lime attribution:   0%|          | 0/25 [00:00<?, ?it/s]"
      ]
     },
     "metadata": {},
     "output_type": "display_data"
    },
    {
     "name": "stderr",
     "output_type": "stream",
     "text": [
      "/home/zhengyang/Desktop/Git_resp_limesegment/classifiers/ResNet.py:149: UserWarning: Implicit dimension choice for softmax has been deprecated. Change the call to include dim=X as an argument.\n",
      "  output_layer = self.softmax(output_layer)\n"
     ]
    },
    {
     "data": {
      "application/vnd.jupyter.widget-view+json": {
       "model_id": "0f07a97aa38a492fbef24961a46068b3",
       "version_major": 2,
       "version_minor": 0
      },
      "text/plain": [
       "Lime attribution:   0%|          | 0/25 [00:00<?, ?it/s]"
      ]
     },
     "metadata": {},
     "output_type": "display_data"
    },
    {
     "name": "stderr",
     "output_type": "stream",
     "text": [
      "/home/zhengyang/Desktop/Git_resp_limesegment/classifiers/ResNet.py:149: UserWarning: Implicit dimension choice for softmax has been deprecated. Change the call to include dim=X as an argument.\n",
      "  output_layer = self.softmax(output_layer)\n"
     ]
    },
    {
     "data": {
      "application/vnd.jupyter.widget-view+json": {
       "model_id": "98962c6dbce341a18e12ddf346057289",
       "version_major": 2,
       "version_minor": 0
      },
      "text/plain": [
       "Lime attribution:   0%|          | 0/25 [00:00<?, ?it/s]"
      ]
     },
     "metadata": {},
     "output_type": "display_data"
    },
    {
     "name": "stderr",
     "output_type": "stream",
     "text": [
      "/home/zhengyang/Desktop/Git_resp_limesegment/classifiers/ResNet.py:149: UserWarning: Implicit dimension choice for softmax has been deprecated. Change the call to include dim=X as an argument.\n",
      "  output_layer = self.softmax(output_layer)\n"
     ]
    },
    {
     "data": {
      "application/vnd.jupyter.widget-view+json": {
       "model_id": "67ee452a9eb64538a1dd53c5a765cf5a",
       "version_major": 2,
       "version_minor": 0
      },
      "text/plain": [
       "Lime attribution:   0%|          | 0/25 [00:00<?, ?it/s]"
      ]
     },
     "metadata": {},
     "output_type": "display_data"
    },
    {
     "name": "stderr",
     "output_type": "stream",
     "text": [
      "/home/zhengyang/Desktop/Git_resp_limesegment/classifiers/ResNet.py:149: UserWarning: Implicit dimension choice for softmax has been deprecated. Change the call to include dim=X as an argument.\n",
      "  output_layer = self.softmax(output_layer)\n"
     ]
    },
    {
     "data": {
      "application/vnd.jupyter.widget-view+json": {
       "model_id": "44477cb746cb4412be905690d4ee322e",
       "version_major": 2,
       "version_minor": 0
      },
      "text/plain": [
       "Lime attribution:   0%|          | 0/25 [00:00<?, ?it/s]"
      ]
     },
     "metadata": {},
     "output_type": "display_data"
    },
    {
     "name": "stderr",
     "output_type": "stream",
     "text": [
      "/home/zhengyang/Desktop/Git_resp_limesegment/classifiers/ResNet.py:149: UserWarning: Implicit dimension choice for softmax has been deprecated. Change the call to include dim=X as an argument.\n",
      "  output_layer = self.softmax(output_layer)\n"
     ]
    },
    {
     "data": {
      "application/vnd.jupyter.widget-view+json": {
       "model_id": "936683fcb6644d8f81cbbc2d5503c5c5",
       "version_major": 2,
       "version_minor": 0
      },
      "text/plain": [
       "Lime attribution:   0%|          | 0/25 [00:00<?, ?it/s]"
      ]
     },
     "metadata": {},
     "output_type": "display_data"
    },
    {
     "name": "stderr",
     "output_type": "stream",
     "text": [
      "/home/zhengyang/Desktop/Git_resp_limesegment/classifiers/ResNet.py:149: UserWarning: Implicit dimension choice for softmax has been deprecated. Change the call to include dim=X as an argument.\n",
      "  output_layer = self.softmax(output_layer)\n"
     ]
    },
    {
     "data": {
      "application/vnd.jupyter.widget-view+json": {
       "model_id": "f319ba9643e34cab84bded1b521cdeb5",
       "version_major": 2,
       "version_minor": 0
      },
      "text/plain": [
       "Lime attribution:   0%|          | 0/25 [00:00<?, ?it/s]"
      ]
     },
     "metadata": {},
     "output_type": "display_data"
    },
    {
     "name": "stderr",
     "output_type": "stream",
     "text": [
      "/home/zhengyang/Desktop/Git_resp_limesegment/classifiers/ResNet.py:149: UserWarning: Implicit dimension choice for softmax has been deprecated. Change the call to include dim=X as an argument.\n",
      "  output_layer = self.softmax(output_layer)\n"
     ]
    },
    {
     "data": {
      "application/vnd.jupyter.widget-view+json": {
       "model_id": "733b71869b054e7c80e55d3ef1653d5a",
       "version_major": 2,
       "version_minor": 0
      },
      "text/plain": [
       "Lime attribution:   0%|          | 0/25 [00:00<?, ?it/s]"
      ]
     },
     "metadata": {},
     "output_type": "display_data"
    },
    {
     "name": "stderr",
     "output_type": "stream",
     "text": [
      "/home/zhengyang/Desktop/Git_resp_limesegment/classifiers/ResNet.py:149: UserWarning: Implicit dimension choice for softmax has been deprecated. Change the call to include dim=X as an argument.\n",
      "  output_layer = self.softmax(output_layer)\n"
     ]
    },
    {
     "data": {
      "application/vnd.jupyter.widget-view+json": {
       "model_id": "17ccd0de0cc84d80bbd5a49f6f5d52b4",
       "version_major": 2,
       "version_minor": 0
      },
      "text/plain": [
       "Lime attribution:   0%|          | 0/25 [00:00<?, ?it/s]"
      ]
     },
     "metadata": {},
     "output_type": "display_data"
    },
    {
     "name": "stderr",
     "output_type": "stream",
     "text": [
      "/home/zhengyang/Desktop/Git_resp_limesegment/classifiers/ResNet.py:149: UserWarning: Implicit dimension choice for softmax has been deprecated. Change the call to include dim=X as an argument.\n",
      "  output_layer = self.softmax(output_layer)\n"
     ]
    },
    {
     "data": {
      "application/vnd.jupyter.widget-view+json": {
       "model_id": "78a767d100f64747a3587acbea0c3a19",
       "version_major": 2,
       "version_minor": 0
      },
      "text/plain": [
       "Lime attribution:   0%|          | 0/25 [00:00<?, ?it/s]"
      ]
     },
     "metadata": {},
     "output_type": "display_data"
    },
    {
     "name": "stderr",
     "output_type": "stream",
     "text": [
      "/home/zhengyang/Desktop/Git_resp_limesegment/classifiers/ResNet.py:149: UserWarning: Implicit dimension choice for softmax has been deprecated. Change the call to include dim=X as an argument.\n",
      "  output_layer = self.softmax(output_layer)\n"
     ]
    },
    {
     "data": {
      "application/vnd.jupyter.widget-view+json": {
       "model_id": "b153e794b1b04e6ea4fa03b565782549",
       "version_major": 2,
       "version_minor": 0
      },
      "text/plain": [
       "Lime attribution:   0%|          | 0/25 [00:00<?, ?it/s]"
      ]
     },
     "metadata": {},
     "output_type": "display_data"
    },
    {
     "name": "stderr",
     "output_type": "stream",
     "text": [
      "/home/zhengyang/Desktop/Git_resp_limesegment/classifiers/ResNet.py:149: UserWarning: Implicit dimension choice for softmax has been deprecated. Change the call to include dim=X as an argument.\n",
      "  output_layer = self.softmax(output_layer)\n"
     ]
    },
    {
     "data": {
      "application/vnd.jupyter.widget-view+json": {
       "model_id": "c692be8444fe44b9994bfaca0b1293f5",
       "version_major": 2,
       "version_minor": 0
      },
      "text/plain": [
       "Lime attribution:   0%|          | 0/25 [00:00<?, ?it/s]"
      ]
     },
     "metadata": {},
     "output_type": "display_data"
    },
    {
     "name": "stderr",
     "output_type": "stream",
     "text": [
      "/home/zhengyang/Desktop/Git_resp_limesegment/classifiers/ResNet.py:149: UserWarning: Implicit dimension choice for softmax has been deprecated. Change the call to include dim=X as an argument.\n",
      "  output_layer = self.softmax(output_layer)\n"
     ]
    },
    {
     "data": {
      "application/vnd.jupyter.widget-view+json": {
       "model_id": "1f6b4bddb60548a3b5176e57f16b5705",
       "version_major": 2,
       "version_minor": 0
      },
      "text/plain": [
       "Lime attribution:   0%|          | 0/25 [00:00<?, ?it/s]"
      ]
     },
     "metadata": {},
     "output_type": "display_data"
    },
    {
     "name": "stderr",
     "output_type": "stream",
     "text": [
      "/home/zhengyang/Desktop/Git_resp_limesegment/classifiers/ResNet.py:149: UserWarning: Implicit dimension choice for softmax has been deprecated. Change the call to include dim=X as an argument.\n",
      "  output_layer = self.softmax(output_layer)\n"
     ]
    },
    {
     "data": {
      "application/vnd.jupyter.widget-view+json": {
       "model_id": "4f3ffc4551ce45daabf0d1dc7c97bdca",
       "version_major": 2,
       "version_minor": 0
      },
      "text/plain": [
       "Lime attribution:   0%|          | 0/25 [00:00<?, ?it/s]"
      ]
     },
     "metadata": {},
     "output_type": "display_data"
    },
    {
     "name": "stderr",
     "output_type": "stream",
     "text": [
      "/home/zhengyang/Desktop/Git_resp_limesegment/classifiers/ResNet.py:149: UserWarning: Implicit dimension choice for softmax has been deprecated. Change the call to include dim=X as an argument.\n",
      "  output_layer = self.softmax(output_layer)\n"
     ]
    },
    {
     "data": {
      "application/vnd.jupyter.widget-view+json": {
       "model_id": "b84857c6352c4e25aa34cb09712ca8c9",
       "version_major": 2,
       "version_minor": 0
      },
      "text/plain": [
       "Lime attribution:   0%|          | 0/25 [00:00<?, ?it/s]"
      ]
     },
     "metadata": {},
     "output_type": "display_data"
    },
    {
     "name": "stderr",
     "output_type": "stream",
     "text": [
      "/home/zhengyang/Desktop/Git_resp_limesegment/classifiers/ResNet.py:149: UserWarning: Implicit dimension choice for softmax has been deprecated. Change the call to include dim=X as an argument.\n",
      "  output_layer = self.softmax(output_layer)\n"
     ]
    },
    {
     "data": {
      "application/vnd.jupyter.widget-view+json": {
       "model_id": "c047b51131344895bc24eba0cfd74db0",
       "version_major": 2,
       "version_minor": 0
      },
      "text/plain": [
       "Lime attribution:   0%|          | 0/25 [00:00<?, ?it/s]"
      ]
     },
     "metadata": {},
     "output_type": "display_data"
    },
    {
     "name": "stderr",
     "output_type": "stream",
     "text": [
      "/home/zhengyang/Desktop/Git_resp_limesegment/classifiers/ResNet.py:149: UserWarning: Implicit dimension choice for softmax has been deprecated. Change the call to include dim=X as an argument.\n",
      "  output_layer = self.softmax(output_layer)\n"
     ]
    },
    {
     "data": {
      "application/vnd.jupyter.widget-view+json": {
       "model_id": "19200bb616f64675b4dac9abad3c0ddb",
       "version_major": 2,
       "version_minor": 0
      },
      "text/plain": [
       "Lime attribution:   0%|          | 0/25 [00:00<?, ?it/s]"
      ]
     },
     "metadata": {},
     "output_type": "display_data"
    },
    {
     "name": "stderr",
     "output_type": "stream",
     "text": [
      "/home/zhengyang/Desktop/Git_resp_limesegment/classifiers/ResNet.py:149: UserWarning: Implicit dimension choice for softmax has been deprecated. Change the call to include dim=X as an argument.\n",
      "  output_layer = self.softmax(output_layer)\n"
     ]
    },
    {
     "data": {
      "application/vnd.jupyter.widget-view+json": {
       "model_id": "54842f287145453bbbc261e0c37dd6e2",
       "version_major": 2,
       "version_minor": 0
      },
      "text/plain": [
       "Lime attribution:   0%|          | 0/25 [00:00<?, ?it/s]"
      ]
     },
     "metadata": {},
     "output_type": "display_data"
    },
    {
     "name": "stderr",
     "output_type": "stream",
     "text": [
      "/home/zhengyang/Desktop/Git_resp_limesegment/classifiers/ResNet.py:149: UserWarning: Implicit dimension choice for softmax has been deprecated. Change the call to include dim=X as an argument.\n",
      "  output_layer = self.softmax(output_layer)\n"
     ]
    },
    {
     "data": {
      "application/vnd.jupyter.widget-view+json": {
       "model_id": "989c55a61a4c4c5f9293d9b3ac0347dc",
       "version_major": 2,
       "version_minor": 0
      },
      "text/plain": [
       "Lime attribution:   0%|          | 0/25 [00:00<?, ?it/s]"
      ]
     },
     "metadata": {},
     "output_type": "display_data"
    },
    {
     "name": "stderr",
     "output_type": "stream",
     "text": [
      "/home/zhengyang/Desktop/Git_resp_limesegment/classifiers/ResNet.py:149: UserWarning: Implicit dimension choice for softmax has been deprecated. Change the call to include dim=X as an argument.\n",
      "  output_layer = self.softmax(output_layer)\n"
     ]
    },
    {
     "data": {
      "application/vnd.jupyter.widget-view+json": {
       "model_id": "b199d5b20df54a6e83ff1f41c27c3bfa",
       "version_major": 2,
       "version_minor": 0
      },
      "text/plain": [
       "Lime attribution:   0%|          | 0/25 [00:00<?, ?it/s]"
      ]
     },
     "metadata": {},
     "output_type": "display_data"
    },
    {
     "name": "stderr",
     "output_type": "stream",
     "text": [
      "/home/zhengyang/Desktop/Git_resp_limesegment/classifiers/ResNet.py:149: UserWarning: Implicit dimension choice for softmax has been deprecated. Change the call to include dim=X as an argument.\n",
      "  output_layer = self.softmax(output_layer)\n"
     ]
    },
    {
     "data": {
      "application/vnd.jupyter.widget-view+json": {
       "model_id": "f8eb88cba5fc4b978a196e798696a9df",
       "version_major": 2,
       "version_minor": 0
      },
      "text/plain": [
       "Lime attribution:   0%|          | 0/25 [00:00<?, ?it/s]"
      ]
     },
     "metadata": {},
     "output_type": "display_data"
    },
    {
     "name": "stderr",
     "output_type": "stream",
     "text": [
      "/home/zhengyang/Desktop/Git_resp_limesegment/classifiers/ResNet.py:149: UserWarning: Implicit dimension choice for softmax has been deprecated. Change the call to include dim=X as an argument.\n",
      "  output_layer = self.softmax(output_layer)\n"
     ]
    },
    {
     "data": {
      "application/vnd.jupyter.widget-view+json": {
       "model_id": "2dd1c3cbcbbd471ebe0fa125ba9fd161",
       "version_major": 2,
       "version_minor": 0
      },
      "text/plain": [
       "Lime attribution:   0%|          | 0/25 [00:00<?, ?it/s]"
      ]
     },
     "metadata": {},
     "output_type": "display_data"
    },
    {
     "name": "stderr",
     "output_type": "stream",
     "text": [
      "/home/zhengyang/Desktop/Git_resp_limesegment/classifiers/ResNet.py:149: UserWarning: Implicit dimension choice for softmax has been deprecated. Change the call to include dim=X as an argument.\n",
      "  output_layer = self.softmax(output_layer)\n"
     ]
    },
    {
     "data": {
      "application/vnd.jupyter.widget-view+json": {
       "model_id": "8b92f362d8f04f239d26e35d012f5b9a",
       "version_major": 2,
       "version_minor": 0
      },
      "text/plain": [
       "Lime attribution:   0%|          | 0/25 [00:00<?, ?it/s]"
      ]
     },
     "metadata": {},
     "output_type": "display_data"
    },
    {
     "name": "stderr",
     "output_type": "stream",
     "text": [
      "/home/zhengyang/Desktop/Git_resp_limesegment/classifiers/ResNet.py:149: UserWarning: Implicit dimension choice for softmax has been deprecated. Change the call to include dim=X as an argument.\n",
      "  output_layer = self.softmax(output_layer)\n"
     ]
    },
    {
     "data": {
      "application/vnd.jupyter.widget-view+json": {
       "model_id": "795e7dc660cb4597a5967d7db6c6d650",
       "version_major": 2,
       "version_minor": 0
      },
      "text/plain": [
       "Lime attribution:   0%|          | 0/25 [00:00<?, ?it/s]"
      ]
     },
     "metadata": {},
     "output_type": "display_data"
    },
    {
     "name": "stderr",
     "output_type": "stream",
     "text": [
      "/home/zhengyang/Desktop/Git_resp_limesegment/classifiers/ResNet.py:149: UserWarning: Implicit dimension choice for softmax has been deprecated. Change the call to include dim=X as an argument.\n",
      "  output_layer = self.softmax(output_layer)\n"
     ]
    },
    {
     "data": {
      "application/vnd.jupyter.widget-view+json": {
       "model_id": "c1d02afa4078470199bfd981e293e9a3",
       "version_major": 2,
       "version_minor": 0
      },
      "text/plain": [
       "Lime attribution:   0%|          | 0/25 [00:00<?, ?it/s]"
      ]
     },
     "metadata": {},
     "output_type": "display_data"
    },
    {
     "name": "stderr",
     "output_type": "stream",
     "text": [
      "/home/zhengyang/Desktop/Git_resp_limesegment/classifiers/ResNet.py:149: UserWarning: Implicit dimension choice for softmax has been deprecated. Change the call to include dim=X as an argument.\n",
      "  output_layer = self.softmax(output_layer)\n"
     ]
    },
    {
     "data": {
      "application/vnd.jupyter.widget-view+json": {
       "model_id": "84eec5eafec543cc92d48139377cb835",
       "version_major": 2,
       "version_minor": 0
      },
      "text/plain": [
       "Lime attribution:   0%|          | 0/25 [00:00<?, ?it/s]"
      ]
     },
     "metadata": {},
     "output_type": "display_data"
    },
    {
     "name": "stderr",
     "output_type": "stream",
     "text": [
      "/home/zhengyang/Desktop/Git_resp_limesegment/classifiers/ResNet.py:149: UserWarning: Implicit dimension choice for softmax has been deprecated. Change the call to include dim=X as an argument.\n",
      "  output_layer = self.softmax(output_layer)\n"
     ]
    },
    {
     "data": {
      "application/vnd.jupyter.widget-view+json": {
       "model_id": "4f883624d4194321ace133d1ef3d7e76",
       "version_major": 2,
       "version_minor": 0
      },
      "text/plain": [
       "Lime attribution:   0%|          | 0/25 [00:00<?, ?it/s]"
      ]
     },
     "metadata": {},
     "output_type": "display_data"
    },
    {
     "name": "stderr",
     "output_type": "stream",
     "text": [
      "/home/zhengyang/Desktop/Git_resp_limesegment/classifiers/ResNet.py:149: UserWarning: Implicit dimension choice for softmax has been deprecated. Change the call to include dim=X as an argument.\n",
      "  output_layer = self.softmax(output_layer)\n"
     ]
    },
    {
     "data": {
      "application/vnd.jupyter.widget-view+json": {
       "model_id": "35ba522408864f42a2ba39f854776893",
       "version_major": 2,
       "version_minor": 0
      },
      "text/plain": [
       "Lime attribution:   0%|          | 0/25 [00:00<?, ?it/s]"
      ]
     },
     "metadata": {},
     "output_type": "display_data"
    },
    {
     "name": "stderr",
     "output_type": "stream",
     "text": [
      "/home/zhengyang/Desktop/Git_resp_limesegment/classifiers/ResNet.py:149: UserWarning: Implicit dimension choice for softmax has been deprecated. Change the call to include dim=X as an argument.\n",
      "  output_layer = self.softmax(output_layer)\n"
     ]
    },
    {
     "data": {
      "application/vnd.jupyter.widget-view+json": {
       "model_id": "734b3ed5e84c415a91719a0ad8f7f3e7",
       "version_major": 2,
       "version_minor": 0
      },
      "text/plain": [
       "Lime attribution:   0%|          | 0/25 [00:00<?, ?it/s]"
      ]
     },
     "metadata": {},
     "output_type": "display_data"
    },
    {
     "name": "stderr",
     "output_type": "stream",
     "text": [
      "/home/zhengyang/Desktop/Git_resp_limesegment/classifiers/ResNet.py:149: UserWarning: Implicit dimension choice for softmax has been deprecated. Change the call to include dim=X as an argument.\n",
      "  output_layer = self.softmax(output_layer)\n"
     ]
    },
    {
     "data": {
      "application/vnd.jupyter.widget-view+json": {
       "model_id": "93d91f7e1c544049a39d6856d53adf23",
       "version_major": 2,
       "version_minor": 0
      },
      "text/plain": [
       "Lime attribution:   0%|          | 0/25 [00:00<?, ?it/s]"
      ]
     },
     "metadata": {},
     "output_type": "display_data"
    },
    {
     "name": "stderr",
     "output_type": "stream",
     "text": [
      "/home/zhengyang/Desktop/Git_resp_limesegment/classifiers/ResNet.py:149: UserWarning: Implicit dimension choice for softmax has been deprecated. Change the call to include dim=X as an argument.\n",
      "  output_layer = self.softmax(output_layer)\n"
     ]
    },
    {
     "data": {
      "application/vnd.jupyter.widget-view+json": {
       "model_id": "d39cdfce2f014b79aef3e66d51d094b1",
       "version_major": 2,
       "version_minor": 0
      },
      "text/plain": [
       "Lime attribution:   0%|          | 0/25 [00:00<?, ?it/s]"
      ]
     },
     "metadata": {},
     "output_type": "display_data"
    },
    {
     "name": "stderr",
     "output_type": "stream",
     "text": [
      "/home/zhengyang/Desktop/Git_resp_limesegment/classifiers/ResNet.py:149: UserWarning: Implicit dimension choice for softmax has been deprecated. Change the call to include dim=X as an argument.\n",
      "  output_layer = self.softmax(output_layer)\n"
     ]
    },
    {
     "data": {
      "application/vnd.jupyter.widget-view+json": {
       "model_id": "f33af8d932c74c0faf96073b5fe9753d",
       "version_major": 2,
       "version_minor": 0
      },
      "text/plain": [
       "Lime attribution:   0%|          | 0/25 [00:00<?, ?it/s]"
      ]
     },
     "metadata": {},
     "output_type": "display_data"
    },
    {
     "name": "stderr",
     "output_type": "stream",
     "text": [
      "/home/zhengyang/Desktop/Git_resp_limesegment/classifiers/ResNet.py:149: UserWarning: Implicit dimension choice for softmax has been deprecated. Change the call to include dim=X as an argument.\n",
      "  output_layer = self.softmax(output_layer)\n"
     ]
    },
    {
     "data": {
      "application/vnd.jupyter.widget-view+json": {
       "model_id": "84700670ccee47d7b18c244dd8d31c5f",
       "version_major": 2,
       "version_minor": 0
      },
      "text/plain": [
       "Lime attribution:   0%|          | 0/25 [00:00<?, ?it/s]"
      ]
     },
     "metadata": {},
     "output_type": "display_data"
    },
    {
     "name": "stderr",
     "output_type": "stream",
     "text": [
      "/home/zhengyang/Desktop/Git_resp_limesegment/classifiers/ResNet.py:149: UserWarning: Implicit dimension choice for softmax has been deprecated. Change the call to include dim=X as an argument.\n",
      "  output_layer = self.softmax(output_layer)\n"
     ]
    },
    {
     "data": {
      "application/vnd.jupyter.widget-view+json": {
       "model_id": "b234fb2af1ab4bee8d70a7997a45257a",
       "version_major": 2,
       "version_minor": 0
      },
      "text/plain": [
       "Lime attribution:   0%|          | 0/25 [00:00<?, ?it/s]"
      ]
     },
     "metadata": {},
     "output_type": "display_data"
    },
    {
     "name": "stderr",
     "output_type": "stream",
     "text": [
      "/home/zhengyang/Desktop/Git_resp_limesegment/classifiers/ResNet.py:149: UserWarning: Implicit dimension choice for softmax has been deprecated. Change the call to include dim=X as an argument.\n",
      "  output_layer = self.softmax(output_layer)\n"
     ]
    },
    {
     "data": {
      "application/vnd.jupyter.widget-view+json": {
       "model_id": "c0bd851d7e624f85b9e587e20bc4afac",
       "version_major": 2,
       "version_minor": 0
      },
      "text/plain": [
       "Lime attribution:   0%|          | 0/25 [00:00<?, ?it/s]"
      ]
     },
     "metadata": {},
     "output_type": "display_data"
    },
    {
     "name": "stderr",
     "output_type": "stream",
     "text": [
      "/home/zhengyang/Desktop/Git_resp_limesegment/classifiers/ResNet.py:149: UserWarning: Implicit dimension choice for softmax has been deprecated. Change the call to include dim=X as an argument.\n",
      "  output_layer = self.softmax(output_layer)\n"
     ]
    },
    {
     "data": {
      "application/vnd.jupyter.widget-view+json": {
       "model_id": "671bef73c5ec4f05a3c65048d31f68e0",
       "version_major": 2,
       "version_minor": 0
      },
      "text/plain": [
       "Lime attribution:   0%|          | 0/25 [00:00<?, ?it/s]"
      ]
     },
     "metadata": {},
     "output_type": "display_data"
    },
    {
     "name": "stderr",
     "output_type": "stream",
     "text": [
      "/home/zhengyang/Desktop/Git_resp_limesegment/classifiers/ResNet.py:149: UserWarning: Implicit dimension choice for softmax has been deprecated. Change the call to include dim=X as an argument.\n",
      "  output_layer = self.softmax(output_layer)\n"
     ]
    },
    {
     "data": {
      "application/vnd.jupyter.widget-view+json": {
       "model_id": "53e405acdf5d4825958b541684c5a186",
       "version_major": 2,
       "version_minor": 0
      },
      "text/plain": [
       "Lime attribution:   0%|          | 0/25 [00:00<?, ?it/s]"
      ]
     },
     "metadata": {},
     "output_type": "display_data"
    },
    {
     "name": "stderr",
     "output_type": "stream",
     "text": [
      "/home/zhengyang/Desktop/Git_resp_limesegment/classifiers/ResNet.py:149: UserWarning: Implicit dimension choice for softmax has been deprecated. Change the call to include dim=X as an argument.\n",
      "  output_layer = self.softmax(output_layer)\n"
     ]
    },
    {
     "data": {
      "application/vnd.jupyter.widget-view+json": {
       "model_id": "edce047944e74767bb3ace0331fbc21e",
       "version_major": 2,
       "version_minor": 0
      },
      "text/plain": [
       "Lime attribution:   0%|          | 0/25 [00:00<?, ?it/s]"
      ]
     },
     "metadata": {},
     "output_type": "display_data"
    },
    {
     "name": "stderr",
     "output_type": "stream",
     "text": [
      "/home/zhengyang/Desktop/Git_resp_limesegment/classifiers/ResNet.py:149: UserWarning: Implicit dimension choice for softmax has been deprecated. Change the call to include dim=X as an argument.\n",
      "  output_layer = self.softmax(output_layer)\n"
     ]
    },
    {
     "data": {
      "application/vnd.jupyter.widget-view+json": {
       "model_id": "6ec2757247da4f0486fe425201672160",
       "version_major": 2,
       "version_minor": 0
      },
      "text/plain": [
       "Lime attribution:   0%|          | 0/25 [00:00<?, ?it/s]"
      ]
     },
     "metadata": {},
     "output_type": "display_data"
    },
    {
     "name": "stderr",
     "output_type": "stream",
     "text": [
      "/home/zhengyang/Desktop/Git_resp_limesegment/classifiers/ResNet.py:149: UserWarning: Implicit dimension choice for softmax has been deprecated. Change the call to include dim=X as an argument.\n",
      "  output_layer = self.softmax(output_layer)\n"
     ]
    },
    {
     "data": {
      "application/vnd.jupyter.widget-view+json": {
       "model_id": "1fe7eb3a9aeb43a0b9258ea7617926c2",
       "version_major": 2,
       "version_minor": 0
      },
      "text/plain": [
       "Lime attribution:   0%|          | 0/25 [00:00<?, ?it/s]"
      ]
     },
     "metadata": {},
     "output_type": "display_data"
    },
    {
     "name": "stderr",
     "output_type": "stream",
     "text": [
      "/home/zhengyang/Desktop/Git_resp_limesegment/classifiers/ResNet.py:149: UserWarning: Implicit dimension choice for softmax has been deprecated. Change the call to include dim=X as an argument.\n",
      "  output_layer = self.softmax(output_layer)\n"
     ]
    },
    {
     "data": {
      "application/vnd.jupyter.widget-view+json": {
       "model_id": "7decfef1cff749e38b1351ce4176e9d6",
       "version_major": 2,
       "version_minor": 0
      },
      "text/plain": [
       "Lime attribution:   0%|          | 0/25 [00:00<?, ?it/s]"
      ]
     },
     "metadata": {},
     "output_type": "display_data"
    },
    {
     "name": "stderr",
     "output_type": "stream",
     "text": [
      "/home/zhengyang/Desktop/Git_resp_limesegment/classifiers/ResNet.py:149: UserWarning: Implicit dimension choice for softmax has been deprecated. Change the call to include dim=X as an argument.\n",
      "  output_layer = self.softmax(output_layer)\n"
     ]
    },
    {
     "data": {
      "application/vnd.jupyter.widget-view+json": {
       "model_id": "5fcf26514dec432a90905c48373b9dfb",
       "version_major": 2,
       "version_minor": 0
      },
      "text/plain": [
       "Lime attribution:   0%|          | 0/25 [00:00<?, ?it/s]"
      ]
     },
     "metadata": {},
     "output_type": "display_data"
    },
    {
     "name": "stderr",
     "output_type": "stream",
     "text": [
      "/home/zhengyang/Desktop/Git_resp_limesegment/classifiers/ResNet.py:149: UserWarning: Implicit dimension choice for softmax has been deprecated. Change the call to include dim=X as an argument.\n",
      "  output_layer = self.softmax(output_layer)\n"
     ]
    },
    {
     "data": {
      "application/vnd.jupyter.widget-view+json": {
       "model_id": "f28c1933cbac449495494264d4f07efe",
       "version_major": 2,
       "version_minor": 0
      },
      "text/plain": [
       "Lime attribution:   0%|          | 0/25 [00:00<?, ?it/s]"
      ]
     },
     "metadata": {},
     "output_type": "display_data"
    },
    {
     "name": "stderr",
     "output_type": "stream",
     "text": [
      "/home/zhengyang/Desktop/Git_resp_limesegment/classifiers/ResNet.py:149: UserWarning: Implicit dimension choice for softmax has been deprecated. Change the call to include dim=X as an argument.\n",
      "  output_layer = self.softmax(output_layer)\n"
     ]
    },
    {
     "data": {
      "application/vnd.jupyter.widget-view+json": {
       "model_id": "ed919f6f2ab042cdb2c63dd48d865517",
       "version_major": 2,
       "version_minor": 0
      },
      "text/plain": [
       "Lime attribution:   0%|          | 0/25 [00:00<?, ?it/s]"
      ]
     },
     "metadata": {},
     "output_type": "display_data"
    },
    {
     "name": "stderr",
     "output_type": "stream",
     "text": [
      "/home/zhengyang/Desktop/Git_resp_limesegment/classifiers/ResNet.py:149: UserWarning: Implicit dimension choice for softmax has been deprecated. Change the call to include dim=X as an argument.\n",
      "  output_layer = self.softmax(output_layer)\n"
     ]
    },
    {
     "data": {
      "application/vnd.jupyter.widget-view+json": {
       "model_id": "2a86a3a7bc27459fb2065e6283a32bf2",
       "version_major": 2,
       "version_minor": 0
      },
      "text/plain": [
       "Lime attribution:   0%|          | 0/25 [00:00<?, ?it/s]"
      ]
     },
     "metadata": {},
     "output_type": "display_data"
    },
    {
     "name": "stderr",
     "output_type": "stream",
     "text": [
      "/home/zhengyang/Desktop/Git_resp_limesegment/classifiers/ResNet.py:149: UserWarning: Implicit dimension choice for softmax has been deprecated. Change the call to include dim=X as an argument.\n",
      "  output_layer = self.softmax(output_layer)\n"
     ]
    },
    {
     "data": {
      "application/vnd.jupyter.widget-view+json": {
       "model_id": "8f661d74b2c84415a5447a4dc0893330",
       "version_major": 2,
       "version_minor": 0
      },
      "text/plain": [
       "Lime attribution:   0%|          | 0/25 [00:00<?, ?it/s]"
      ]
     },
     "metadata": {},
     "output_type": "display_data"
    },
    {
     "name": "stderr",
     "output_type": "stream",
     "text": [
      "/home/zhengyang/Desktop/Git_resp_limesegment/classifiers/ResNet.py:149: UserWarning: Implicit dimension choice for softmax has been deprecated. Change the call to include dim=X as an argument.\n",
      "  output_layer = self.softmax(output_layer)\n"
     ]
    },
    {
     "data": {
      "application/vnd.jupyter.widget-view+json": {
       "model_id": "4688d39408ca42c6a8b4c4ace29a5dad",
       "version_major": 2,
       "version_minor": 0
      },
      "text/plain": [
       "Lime attribution:   0%|          | 0/25 [00:00<?, ?it/s]"
      ]
     },
     "metadata": {},
     "output_type": "display_data"
    },
    {
     "name": "stderr",
     "output_type": "stream",
     "text": [
      "/home/zhengyang/Desktop/Git_resp_limesegment/classifiers/ResNet.py:149: UserWarning: Implicit dimension choice for softmax has been deprecated. Change the call to include dim=X as an argument.\n",
      "  output_layer = self.softmax(output_layer)\n"
     ]
    },
    {
     "data": {
      "application/vnd.jupyter.widget-view+json": {
       "model_id": "0c18185838ef4336a6f4f26c5b31db2f",
       "version_major": 2,
       "version_minor": 0
      },
      "text/plain": [
       "Lime attribution:   0%|          | 0/25 [00:00<?, ?it/s]"
      ]
     },
     "metadata": {},
     "output_type": "display_data"
    },
    {
     "name": "stderr",
     "output_type": "stream",
     "text": [
      "/home/zhengyang/Desktop/Git_resp_limesegment/classifiers/ResNet.py:149: UserWarning: Implicit dimension choice for softmax has been deprecated. Change the call to include dim=X as an argument.\n",
      "  output_layer = self.softmax(output_layer)\n"
     ]
    },
    {
     "data": {
      "application/vnd.jupyter.widget-view+json": {
       "model_id": "840ed4b20703400587246851389fbbcc",
       "version_major": 2,
       "version_minor": 0
      },
      "text/plain": [
       "Lime attribution:   0%|          | 0/25 [00:00<?, ?it/s]"
      ]
     },
     "metadata": {},
     "output_type": "display_data"
    },
    {
     "name": "stderr",
     "output_type": "stream",
     "text": [
      "/home/zhengyang/Desktop/Git_resp_limesegment/classifiers/ResNet.py:149: UserWarning: Implicit dimension choice for softmax has been deprecated. Change the call to include dim=X as an argument.\n",
      "  output_layer = self.softmax(output_layer)\n"
     ]
    },
    {
     "data": {
      "application/vnd.jupyter.widget-view+json": {
       "model_id": "43ee6693c13f4f8ba7f438f88ca763c7",
       "version_major": 2,
       "version_minor": 0
      },
      "text/plain": [
       "Lime attribution:   0%|          | 0/25 [00:00<?, ?it/s]"
      ]
     },
     "metadata": {},
     "output_type": "display_data"
    },
    {
     "name": "stderr",
     "output_type": "stream",
     "text": [
      "/home/zhengyang/Desktop/Git_resp_limesegment/classifiers/ResNet.py:149: UserWarning: Implicit dimension choice for softmax has been deprecated. Change the call to include dim=X as an argument.\n",
      "  output_layer = self.softmax(output_layer)\n"
     ]
    },
    {
     "data": {
      "application/vnd.jupyter.widget-view+json": {
       "model_id": "15e39644e4fe4734bd394cc662eefc5c",
       "version_major": 2,
       "version_minor": 0
      },
      "text/plain": [
       "Lime attribution:   0%|          | 0/25 [00:00<?, ?it/s]"
      ]
     },
     "metadata": {},
     "output_type": "display_data"
    },
    {
     "name": "stderr",
     "output_type": "stream",
     "text": [
      "/home/zhengyang/Desktop/Git_resp_limesegment/classifiers/ResNet.py:149: UserWarning: Implicit dimension choice for softmax has been deprecated. Change the call to include dim=X as an argument.\n",
      "  output_layer = self.softmax(output_layer)\n"
     ]
    },
    {
     "data": {
      "application/vnd.jupyter.widget-view+json": {
       "model_id": "e18e91d27e0f4f3dad3925d7d061213f",
       "version_major": 2,
       "version_minor": 0
      },
      "text/plain": [
       "Lime attribution:   0%|          | 0/25 [00:00<?, ?it/s]"
      ]
     },
     "metadata": {},
     "output_type": "display_data"
    },
    {
     "name": "stderr",
     "output_type": "stream",
     "text": [
      "/home/zhengyang/Desktop/Git_resp_limesegment/classifiers/ResNet.py:149: UserWarning: Implicit dimension choice for softmax has been deprecated. Change the call to include dim=X as an argument.\n",
      "  output_layer = self.softmax(output_layer)\n"
     ]
    },
    {
     "data": {
      "application/vnd.jupyter.widget-view+json": {
       "model_id": "1dc8edc0c520424fb3b80252396b54b6",
       "version_major": 2,
       "version_minor": 0
      },
      "text/plain": [
       "Lime attribution:   0%|          | 0/25 [00:00<?, ?it/s]"
      ]
     },
     "metadata": {},
     "output_type": "display_data"
    },
    {
     "name": "stderr",
     "output_type": "stream",
     "text": [
      "/home/zhengyang/Desktop/Git_resp_limesegment/classifiers/ResNet.py:149: UserWarning: Implicit dimension choice for softmax has been deprecated. Change the call to include dim=X as an argument.\n",
      "  output_layer = self.softmax(output_layer)\n"
     ]
    },
    {
     "data": {
      "application/vnd.jupyter.widget-view+json": {
       "model_id": "53fb902ef46f497691e5ff097842ef0d",
       "version_major": 2,
       "version_minor": 0
      },
      "text/plain": [
       "Lime attribution:   0%|          | 0/25 [00:00<?, ?it/s]"
      ]
     },
     "metadata": {},
     "output_type": "display_data"
    },
    {
     "name": "stderr",
     "output_type": "stream",
     "text": [
      "/home/zhengyang/Desktop/Git_resp_limesegment/classifiers/ResNet.py:149: UserWarning: Implicit dimension choice for softmax has been deprecated. Change the call to include dim=X as an argument.\n",
      "  output_layer = self.softmax(output_layer)\n"
     ]
    },
    {
     "data": {
      "application/vnd.jupyter.widget-view+json": {
       "model_id": "0f9c26fb70ee41eba929292d738fc6a3",
       "version_major": 2,
       "version_minor": 0
      },
      "text/plain": [
       "Lime attribution:   0%|          | 0/25 [00:00<?, ?it/s]"
      ]
     },
     "metadata": {},
     "output_type": "display_data"
    },
    {
     "name": "stderr",
     "output_type": "stream",
     "text": [
      "/home/zhengyang/Desktop/Git_resp_limesegment/classifiers/ResNet.py:149: UserWarning: Implicit dimension choice for softmax has been deprecated. Change the call to include dim=X as an argument.\n",
      "  output_layer = self.softmax(output_layer)\n"
     ]
    },
    {
     "data": {
      "application/vnd.jupyter.widget-view+json": {
       "model_id": "7286cf0da1f549c1ae20dd97f378bb5c",
       "version_major": 2,
       "version_minor": 0
      },
      "text/plain": [
       "Lime attribution:   0%|          | 0/25 [00:00<?, ?it/s]"
      ]
     },
     "metadata": {},
     "output_type": "display_data"
    },
    {
     "name": "stderr",
     "output_type": "stream",
     "text": [
      "/home/zhengyang/Desktop/Git_resp_limesegment/classifiers/ResNet.py:149: UserWarning: Implicit dimension choice for softmax has been deprecated. Change the call to include dim=X as an argument.\n",
      "  output_layer = self.softmax(output_layer)\n"
     ]
    },
    {
     "data": {
      "application/vnd.jupyter.widget-view+json": {
       "model_id": "e22286a54657432ca31b39d966a7ce7f",
       "version_major": 2,
       "version_minor": 0
      },
      "text/plain": [
       "Lime attribution:   0%|          | 0/25 [00:00<?, ?it/s]"
      ]
     },
     "metadata": {},
     "output_type": "display_data"
    },
    {
     "name": "stderr",
     "output_type": "stream",
     "text": [
      "/home/zhengyang/Desktop/Git_resp_limesegment/classifiers/ResNet.py:149: UserWarning: Implicit dimension choice for softmax has been deprecated. Change the call to include dim=X as an argument.\n",
      "  output_layer = self.softmax(output_layer)\n"
     ]
    },
    {
     "data": {
      "application/vnd.jupyter.widget-view+json": {
       "model_id": "a95709d9151545b89d3b38dc43435ee2",
       "version_major": 2,
       "version_minor": 0
      },
      "text/plain": [
       "Lime attribution:   0%|          | 0/25 [00:00<?, ?it/s]"
      ]
     },
     "metadata": {},
     "output_type": "display_data"
    },
    {
     "name": "stderr",
     "output_type": "stream",
     "text": [
      "/home/zhengyang/Desktop/Git_resp_limesegment/classifiers/ResNet.py:149: UserWarning: Implicit dimension choice for softmax has been deprecated. Change the call to include dim=X as an argument.\n",
      "  output_layer = self.softmax(output_layer)\n"
     ]
    },
    {
     "data": {
      "application/vnd.jupyter.widget-view+json": {
       "model_id": "4766ea8094fe44439cd3780c754f73dc",
       "version_major": 2,
       "version_minor": 0
      },
      "text/plain": [
       "Lime attribution:   0%|          | 0/25 [00:00<?, ?it/s]"
      ]
     },
     "metadata": {},
     "output_type": "display_data"
    },
    {
     "name": "stderr",
     "output_type": "stream",
     "text": [
      "/home/zhengyang/Desktop/Git_resp_limesegment/classifiers/ResNet.py:149: UserWarning: Implicit dimension choice for softmax has been deprecated. Change the call to include dim=X as an argument.\n",
      "  output_layer = self.softmax(output_layer)\n"
     ]
    },
    {
     "data": {
      "application/vnd.jupyter.widget-view+json": {
       "model_id": "7ad24116ce7245c3a058f31a4269f2c8",
       "version_major": 2,
       "version_minor": 0
      },
      "text/plain": [
       "Lime attribution:   0%|          | 0/25 [00:00<?, ?it/s]"
      ]
     },
     "metadata": {},
     "output_type": "display_data"
    },
    {
     "name": "stderr",
     "output_type": "stream",
     "text": [
      "/home/zhengyang/Desktop/Git_resp_limesegment/classifiers/ResNet.py:149: UserWarning: Implicit dimension choice for softmax has been deprecated. Change the call to include dim=X as an argument.\n",
      "  output_layer = self.softmax(output_layer)\n"
     ]
    },
    {
     "data": {
      "application/vnd.jupyter.widget-view+json": {
       "model_id": "6fbfbf32cc6e4fc09612be9de008b66e",
       "version_major": 2,
       "version_minor": 0
      },
      "text/plain": [
       "Lime attribution:   0%|          | 0/25 [00:00<?, ?it/s]"
      ]
     },
     "metadata": {},
     "output_type": "display_data"
    },
    {
     "name": "stderr",
     "output_type": "stream",
     "text": [
      "/home/zhengyang/Desktop/Git_resp_limesegment/classifiers/ResNet.py:149: UserWarning: Implicit dimension choice for softmax has been deprecated. Change the call to include dim=X as an argument.\n",
      "  output_layer = self.softmax(output_layer)\n"
     ]
    },
    {
     "data": {
      "application/vnd.jupyter.widget-view+json": {
       "model_id": "642a0aae6c10498a87f269585f078ea3",
       "version_major": 2,
       "version_minor": 0
      },
      "text/plain": [
       "Lime attribution:   0%|          | 0/25 [00:00<?, ?it/s]"
      ]
     },
     "metadata": {},
     "output_type": "display_data"
    },
    {
     "name": "stderr",
     "output_type": "stream",
     "text": [
      "/home/zhengyang/Desktop/Git_resp_limesegment/classifiers/ResNet.py:149: UserWarning: Implicit dimension choice for softmax has been deprecated. Change the call to include dim=X as an argument.\n",
      "  output_layer = self.softmax(output_layer)\n"
     ]
    },
    {
     "data": {
      "application/vnd.jupyter.widget-view+json": {
       "model_id": "98b300e4c2b34b07a071c80f2b6bef37",
       "version_major": 2,
       "version_minor": 0
      },
      "text/plain": [
       "Lime attribution:   0%|          | 0/25 [00:00<?, ?it/s]"
      ]
     },
     "metadata": {},
     "output_type": "display_data"
    },
    {
     "name": "stderr",
     "output_type": "stream",
     "text": [
      "/home/zhengyang/Desktop/Git_resp_limesegment/classifiers/ResNet.py:149: UserWarning: Implicit dimension choice for softmax has been deprecated. Change the call to include dim=X as an argument.\n",
      "  output_layer = self.softmax(output_layer)\n"
     ]
    },
    {
     "data": {
      "application/vnd.jupyter.widget-view+json": {
       "model_id": "3fc263df257147bca0c972924f90a5f8",
       "version_major": 2,
       "version_minor": 0
      },
      "text/plain": [
       "Lime attribution:   0%|          | 0/25 [00:00<?, ?it/s]"
      ]
     },
     "metadata": {},
     "output_type": "display_data"
    },
    {
     "name": "stderr",
     "output_type": "stream",
     "text": [
      "/home/zhengyang/Desktop/Git_resp_limesegment/classifiers/ResNet.py:149: UserWarning: Implicit dimension choice for softmax has been deprecated. Change the call to include dim=X as an argument.\n",
      "  output_layer = self.softmax(output_layer)\n"
     ]
    },
    {
     "data": {
      "application/vnd.jupyter.widget-view+json": {
       "model_id": "c9093bbc29ad4636b03207cfb257aca0",
       "version_major": 2,
       "version_minor": 0
      },
      "text/plain": [
       "Lime attribution:   0%|          | 0/25 [00:00<?, ?it/s]"
      ]
     },
     "metadata": {},
     "output_type": "display_data"
    },
    {
     "name": "stderr",
     "output_type": "stream",
     "text": [
      "/home/zhengyang/Desktop/Git_resp_limesegment/classifiers/ResNet.py:149: UserWarning: Implicit dimension choice for softmax has been deprecated. Change the call to include dim=X as an argument.\n",
      "  output_layer = self.softmax(output_layer)\n"
     ]
    },
    {
     "data": {
      "application/vnd.jupyter.widget-view+json": {
       "model_id": "a28aff9110644299a3ab32449ff111cc",
       "version_major": 2,
       "version_minor": 0
      },
      "text/plain": [
       "Lime attribution:   0%|          | 0/25 [00:00<?, ?it/s]"
      ]
     },
     "metadata": {},
     "output_type": "display_data"
    },
    {
     "name": "stderr",
     "output_type": "stream",
     "text": [
      "/home/zhengyang/Desktop/Git_resp_limesegment/classifiers/ResNet.py:149: UserWarning: Implicit dimension choice for softmax has been deprecated. Change the call to include dim=X as an argument.\n",
      "  output_layer = self.softmax(output_layer)\n"
     ]
    },
    {
     "data": {
      "application/vnd.jupyter.widget-view+json": {
       "model_id": "dd4b9419e01c447692736644740f23d3",
       "version_major": 2,
       "version_minor": 0
      },
      "text/plain": [
       "Lime attribution:   0%|          | 0/25 [00:00<?, ?it/s]"
      ]
     },
     "metadata": {},
     "output_type": "display_data"
    },
    {
     "name": "stderr",
     "output_type": "stream",
     "text": [
      "/home/zhengyang/Desktop/Git_resp_limesegment/classifiers/ResNet.py:149: UserWarning: Implicit dimension choice for softmax has been deprecated. Change the call to include dim=X as an argument.\n",
      "  output_layer = self.softmax(output_layer)\n"
     ]
    },
    {
     "data": {
      "application/vnd.jupyter.widget-view+json": {
       "model_id": "2de37c0cded240e19389c301d305ba22",
       "version_major": 2,
       "version_minor": 0
      },
      "text/plain": [
       "Lime attribution:   0%|          | 0/25 [00:00<?, ?it/s]"
      ]
     },
     "metadata": {},
     "output_type": "display_data"
    },
    {
     "name": "stderr",
     "output_type": "stream",
     "text": [
      "/home/zhengyang/Desktop/Git_resp_limesegment/classifiers/ResNet.py:149: UserWarning: Implicit dimension choice for softmax has been deprecated. Change the call to include dim=X as an argument.\n",
      "  output_layer = self.softmax(output_layer)\n"
     ]
    },
    {
     "data": {
      "application/vnd.jupyter.widget-view+json": {
       "model_id": "087e4a812b02494d8a85ab0bd43db462",
       "version_major": 2,
       "version_minor": 0
      },
      "text/plain": [
       "Lime attribution:   0%|          | 0/25 [00:00<?, ?it/s]"
      ]
     },
     "metadata": {},
     "output_type": "display_data"
    },
    {
     "name": "stderr",
     "output_type": "stream",
     "text": [
      "/home/zhengyang/Desktop/Git_resp_limesegment/classifiers/ResNet.py:149: UserWarning: Implicit dimension choice for softmax has been deprecated. Change the call to include dim=X as an argument.\n",
      "  output_layer = self.softmax(output_layer)\n"
     ]
    },
    {
     "data": {
      "application/vnd.jupyter.widget-view+json": {
       "model_id": "17671abf2a674f14a30c9f30b29953d1",
       "version_major": 2,
       "version_minor": 0
      },
      "text/plain": [
       "Lime attribution:   0%|          | 0/25 [00:00<?, ?it/s]"
      ]
     },
     "metadata": {},
     "output_type": "display_data"
    },
    {
     "name": "stderr",
     "output_type": "stream",
     "text": [
      "/home/zhengyang/Desktop/Git_resp_limesegment/classifiers/ResNet.py:149: UserWarning: Implicit dimension choice for softmax has been deprecated. Change the call to include dim=X as an argument.\n",
      "  output_layer = self.softmax(output_layer)\n"
     ]
    },
    {
     "data": {
      "application/vnd.jupyter.widget-view+json": {
       "model_id": "4b919cb1996f43dda830c3450c320a5b",
       "version_major": 2,
       "version_minor": 0
      },
      "text/plain": [
       "Lime attribution:   0%|          | 0/25 [00:00<?, ?it/s]"
      ]
     },
     "metadata": {},
     "output_type": "display_data"
    },
    {
     "name": "stderr",
     "output_type": "stream",
     "text": [
      "/home/zhengyang/Desktop/Git_resp_limesegment/classifiers/ResNet.py:149: UserWarning: Implicit dimension choice for softmax has been deprecated. Change the call to include dim=X as an argument.\n",
      "  output_layer = self.softmax(output_layer)\n"
     ]
    },
    {
     "data": {
      "application/vnd.jupyter.widget-view+json": {
       "model_id": "fe9408aa34134bc2aac139a749376cbc",
       "version_major": 2,
       "version_minor": 0
      },
      "text/plain": [
       "Lime attribution:   0%|          | 0/25 [00:00<?, ?it/s]"
      ]
     },
     "metadata": {},
     "output_type": "display_data"
    },
    {
     "name": "stderr",
     "output_type": "stream",
     "text": [
      "/home/zhengyang/Desktop/Git_resp_limesegment/classifiers/ResNet.py:149: UserWarning: Implicit dimension choice for softmax has been deprecated. Change the call to include dim=X as an argument.\n",
      "  output_layer = self.softmax(output_layer)\n"
     ]
    },
    {
     "data": {
      "application/vnd.jupyter.widget-view+json": {
       "model_id": "6b1b680801914285a0cbf4a4517c5d1a",
       "version_major": 2,
       "version_minor": 0
      },
      "text/plain": [
       "Lime attribution:   0%|          | 0/25 [00:00<?, ?it/s]"
      ]
     },
     "metadata": {},
     "output_type": "display_data"
    },
    {
     "name": "stderr",
     "output_type": "stream",
     "text": [
      "/home/zhengyang/Desktop/Git_resp_limesegment/classifiers/ResNet.py:149: UserWarning: Implicit dimension choice for softmax has been deprecated. Change the call to include dim=X as an argument.\n",
      "  output_layer = self.softmax(output_layer)\n"
     ]
    },
    {
     "data": {
      "application/vnd.jupyter.widget-view+json": {
       "model_id": "5f4eba056f0545b29d3c8397e6b0a6d4",
       "version_major": 2,
       "version_minor": 0
      },
      "text/plain": [
       "Lime attribution:   0%|          | 0/25 [00:00<?, ?it/s]"
      ]
     },
     "metadata": {},
     "output_type": "display_data"
    },
    {
     "name": "stderr",
     "output_type": "stream",
     "text": [
      "/home/zhengyang/Desktop/Git_resp_limesegment/classifiers/ResNet.py:149: UserWarning: Implicit dimension choice for softmax has been deprecated. Change the call to include dim=X as an argument.\n",
      "  output_layer = self.softmax(output_layer)\n"
     ]
    },
    {
     "data": {
      "application/vnd.jupyter.widget-view+json": {
       "model_id": "b933c3525db34b9e93244c263b1fe0a1",
       "version_major": 2,
       "version_minor": 0
      },
      "text/plain": [
       "Lime attribution:   0%|          | 0/25 [00:00<?, ?it/s]"
      ]
     },
     "metadata": {},
     "output_type": "display_data"
    },
    {
     "name": "stderr",
     "output_type": "stream",
     "text": [
      "/home/zhengyang/Desktop/Git_resp_limesegment/classifiers/ResNet.py:149: UserWarning: Implicit dimension choice for softmax has been deprecated. Change the call to include dim=X as an argument.\n",
      "  output_layer = self.softmax(output_layer)\n"
     ]
    },
    {
     "data": {
      "application/vnd.jupyter.widget-view+json": {
       "model_id": "1248925bda2a43ceaccb1e06092ea347",
       "version_major": 2,
       "version_minor": 0
      },
      "text/plain": [
       "Lime attribution:   0%|          | 0/25 [00:00<?, ?it/s]"
      ]
     },
     "metadata": {},
     "output_type": "display_data"
    },
    {
     "name": "stderr",
     "output_type": "stream",
     "text": [
      "/home/zhengyang/Desktop/Git_resp_limesegment/classifiers/ResNet.py:149: UserWarning: Implicit dimension choice for softmax has been deprecated. Change the call to include dim=X as an argument.\n",
      "  output_layer = self.softmax(output_layer)\n"
     ]
    },
    {
     "data": {
      "application/vnd.jupyter.widget-view+json": {
       "model_id": "0106664a90c046c785f0b0e3d7c4a345",
       "version_major": 2,
       "version_minor": 0
      },
      "text/plain": [
       "Lime attribution:   0%|          | 0/25 [00:00<?, ?it/s]"
      ]
     },
     "metadata": {},
     "output_type": "display_data"
    },
    {
     "name": "stderr",
     "output_type": "stream",
     "text": [
      "/home/zhengyang/Desktop/Git_resp_limesegment/classifiers/ResNet.py:149: UserWarning: Implicit dimension choice for softmax has been deprecated. Change the call to include dim=X as an argument.\n",
      "  output_layer = self.softmax(output_layer)\n"
     ]
    },
    {
     "data": {
      "application/vnd.jupyter.widget-view+json": {
       "model_id": "bd76bc4c3d274ee6abcc2810d53b08f7",
       "version_major": 2,
       "version_minor": 0
      },
      "text/plain": [
       "Lime attribution:   0%|          | 0/25 [00:00<?, ?it/s]"
      ]
     },
     "metadata": {},
     "output_type": "display_data"
    },
    {
     "name": "stderr",
     "output_type": "stream",
     "text": [
      "/home/zhengyang/Desktop/Git_resp_limesegment/classifiers/ResNet.py:149: UserWarning: Implicit dimension choice for softmax has been deprecated. Change the call to include dim=X as an argument.\n",
      "  output_layer = self.softmax(output_layer)\n"
     ]
    },
    {
     "data": {
      "application/vnd.jupyter.widget-view+json": {
       "model_id": "9f29c10536a5482abb14ea9cde010e64",
       "version_major": 2,
       "version_minor": 0
      },
      "text/plain": [
       "Lime attribution:   0%|          | 0/25 [00:00<?, ?it/s]"
      ]
     },
     "metadata": {},
     "output_type": "display_data"
    },
    {
     "name": "stderr",
     "output_type": "stream",
     "text": [
      "/home/zhengyang/Desktop/Git_resp_limesegment/classifiers/ResNet.py:149: UserWarning: Implicit dimension choice for softmax has been deprecated. Change the call to include dim=X as an argument.\n",
      "  output_layer = self.softmax(output_layer)\n"
     ]
    },
    {
     "data": {
      "application/vnd.jupyter.widget-view+json": {
       "model_id": "527015b3e2564577833b3119da639498",
       "version_major": 2,
       "version_minor": 0
      },
      "text/plain": [
       "Lime attribution:   0%|          | 0/25 [00:00<?, ?it/s]"
      ]
     },
     "metadata": {},
     "output_type": "display_data"
    },
    {
     "name": "stderr",
     "output_type": "stream",
     "text": [
      "/home/zhengyang/Desktop/Git_resp_limesegment/classifiers/ResNet.py:149: UserWarning: Implicit dimension choice for softmax has been deprecated. Change the call to include dim=X as an argument.\n",
      "  output_layer = self.softmax(output_layer)\n"
     ]
    },
    {
     "data": {
      "application/vnd.jupyter.widget-view+json": {
       "model_id": "1faaa1e1c5f949e5a5e67c7cdbef4715",
       "version_major": 2,
       "version_minor": 0
      },
      "text/plain": [
       "Lime attribution:   0%|          | 0/25 [00:00<?, ?it/s]"
      ]
     },
     "metadata": {},
     "output_type": "display_data"
    },
    {
     "name": "stderr",
     "output_type": "stream",
     "text": [
      "/home/zhengyang/Desktop/Git_resp_limesegment/classifiers/ResNet.py:149: UserWarning: Implicit dimension choice for softmax has been deprecated. Change the call to include dim=X as an argument.\n",
      "  output_layer = self.softmax(output_layer)\n"
     ]
    },
    {
     "data": {
      "application/vnd.jupyter.widget-view+json": {
       "model_id": "4e777bf7b0dd43659326e56361c86d7b",
       "version_major": 2,
       "version_minor": 0
      },
      "text/plain": [
       "Lime attribution:   0%|          | 0/25 [00:00<?, ?it/s]"
      ]
     },
     "metadata": {},
     "output_type": "display_data"
    },
    {
     "name": "stderr",
     "output_type": "stream",
     "text": [
      "/home/zhengyang/Desktop/Git_resp_limesegment/classifiers/ResNet.py:149: UserWarning: Implicit dimension choice for softmax has been deprecated. Change the call to include dim=X as an argument.\n",
      "  output_layer = self.softmax(output_layer)\n"
     ]
    },
    {
     "data": {
      "application/vnd.jupyter.widget-view+json": {
       "model_id": "0552248444b24ffd87c15d1ee8ec2c95",
       "version_major": 2,
       "version_minor": 0
      },
      "text/plain": [
       "Lime attribution:   0%|          | 0/25 [00:00<?, ?it/s]"
      ]
     },
     "metadata": {},
     "output_type": "display_data"
    },
    {
     "name": "stderr",
     "output_type": "stream",
     "text": [
      "/home/zhengyang/Desktop/Git_resp_limesegment/classifiers/ResNet.py:149: UserWarning: Implicit dimension choice for softmax has been deprecated. Change the call to include dim=X as an argument.\n",
      "  output_layer = self.softmax(output_layer)\n"
     ]
    },
    {
     "data": {
      "application/vnd.jupyter.widget-view+json": {
       "model_id": "62661c923f814462b89c0a90cba6668f",
       "version_major": 2,
       "version_minor": 0
      },
      "text/plain": [
       "Lime attribution:   0%|          | 0/25 [00:00<?, ?it/s]"
      ]
     },
     "metadata": {},
     "output_type": "display_data"
    },
    {
     "name": "stderr",
     "output_type": "stream",
     "text": [
      "/home/zhengyang/Desktop/Git_resp_limesegment/classifiers/ResNet.py:149: UserWarning: Implicit dimension choice for softmax has been deprecated. Change the call to include dim=X as an argument.\n",
      "  output_layer = self.softmax(output_layer)\n"
     ]
    },
    {
     "data": {
      "application/vnd.jupyter.widget-view+json": {
       "model_id": "f7d8fcdef9614a89b8b9b61dae1ef064",
       "version_major": 2,
       "version_minor": 0
      },
      "text/plain": [
       "Lime attribution:   0%|          | 0/25 [00:00<?, ?it/s]"
      ]
     },
     "metadata": {},
     "output_type": "display_data"
    },
    {
     "name": "stderr",
     "output_type": "stream",
     "text": [
      "/home/zhengyang/Desktop/Git_resp_limesegment/classifiers/ResNet.py:149: UserWarning: Implicit dimension choice for softmax has been deprecated. Change the call to include dim=X as an argument.\n",
      "  output_layer = self.softmax(output_layer)\n"
     ]
    },
    {
     "data": {
      "application/vnd.jupyter.widget-view+json": {
       "model_id": "d797cc7a01d34d95827d1e702cb1ab54",
       "version_major": 2,
       "version_minor": 0
      },
      "text/plain": [
       "Lime attribution:   0%|          | 0/25 [00:00<?, ?it/s]"
      ]
     },
     "metadata": {},
     "output_type": "display_data"
    },
    {
     "name": "stderr",
     "output_type": "stream",
     "text": [
      "/home/zhengyang/Desktop/Git_resp_limesegment/classifiers/ResNet.py:149: UserWarning: Implicit dimension choice for softmax has been deprecated. Change the call to include dim=X as an argument.\n",
      "  output_layer = self.softmax(output_layer)\n"
     ]
    },
    {
     "data": {
      "application/vnd.jupyter.widget-view+json": {
       "model_id": "ccf54127b1eb4edabf5cbfa29faf345a",
       "version_major": 2,
       "version_minor": 0
      },
      "text/plain": [
       "Lime attribution:   0%|          | 0/25 [00:00<?, ?it/s]"
      ]
     },
     "metadata": {},
     "output_type": "display_data"
    },
    {
     "name": "stderr",
     "output_type": "stream",
     "text": [
      "/home/zhengyang/Desktop/Git_resp_limesegment/classifiers/ResNet.py:149: UserWarning: Implicit dimension choice for softmax has been deprecated. Change the call to include dim=X as an argument.\n",
      "  output_layer = self.softmax(output_layer)\n"
     ]
    },
    {
     "data": {
      "application/vnd.jupyter.widget-view+json": {
       "model_id": "b9e71de56f03422b9b06f4dc1d37f0e3",
       "version_major": 2,
       "version_minor": 0
      },
      "text/plain": [
       "Lime attribution:   0%|          | 0/25 [00:00<?, ?it/s]"
      ]
     },
     "metadata": {},
     "output_type": "display_data"
    },
    {
     "name": "stderr",
     "output_type": "stream",
     "text": [
      "/home/zhengyang/Desktop/Git_resp_limesegment/classifiers/ResNet.py:149: UserWarning: Implicit dimension choice for softmax has been deprecated. Change the call to include dim=X as an argument.\n",
      "  output_layer = self.softmax(output_layer)\n"
     ]
    },
    {
     "data": {
      "application/vnd.jupyter.widget-view+json": {
       "model_id": "15bc0125a70c4dabb991a70f68ebd455",
       "version_major": 2,
       "version_minor": 0
      },
      "text/plain": [
       "Lime attribution:   0%|          | 0/25 [00:00<?, ?it/s]"
      ]
     },
     "metadata": {},
     "output_type": "display_data"
    },
    {
     "name": "stderr",
     "output_type": "stream",
     "text": [
      "/home/zhengyang/Desktop/Git_resp_limesegment/classifiers/ResNet.py:149: UserWarning: Implicit dimension choice for softmax has been deprecated. Change the call to include dim=X as an argument.\n",
      "  output_layer = self.softmax(output_layer)\n"
     ]
    },
    {
     "data": {
      "application/vnd.jupyter.widget-view+json": {
       "model_id": "6fa21a852db245dc9dd3b67f498006bf",
       "version_major": 2,
       "version_minor": 0
      },
      "text/plain": [
       "Lime attribution:   0%|          | 0/25 [00:00<?, ?it/s]"
      ]
     },
     "metadata": {},
     "output_type": "display_data"
    },
    {
     "name": "stderr",
     "output_type": "stream",
     "text": [
      "/home/zhengyang/Desktop/Git_resp_limesegment/classifiers/ResNet.py:149: UserWarning: Implicit dimension choice for softmax has been deprecated. Change the call to include dim=X as an argument.\n",
      "  output_layer = self.softmax(output_layer)\n"
     ]
    },
    {
     "data": {
      "application/vnd.jupyter.widget-view+json": {
       "model_id": "42fc1da5214543d7b0a15232c57faf8a",
       "version_major": 2,
       "version_minor": 0
      },
      "text/plain": [
       "Lime attribution:   0%|          | 0/25 [00:00<?, ?it/s]"
      ]
     },
     "metadata": {},
     "output_type": "display_data"
    },
    {
     "name": "stderr",
     "output_type": "stream",
     "text": [
      "/home/zhengyang/Desktop/Git_resp_limesegment/classifiers/ResNet.py:149: UserWarning: Implicit dimension choice for softmax has been deprecated. Change the call to include dim=X as an argument.\n",
      "  output_layer = self.softmax(output_layer)\n"
     ]
    },
    {
     "data": {
      "application/vnd.jupyter.widget-view+json": {
       "model_id": "4224db62ed48400ca4e8b56e4ad14290",
       "version_major": 2,
       "version_minor": 0
      },
      "text/plain": [
       "Lime attribution:   0%|          | 0/25 [00:00<?, ?it/s]"
      ]
     },
     "metadata": {},
     "output_type": "display_data"
    },
    {
     "name": "stderr",
     "output_type": "stream",
     "text": [
      "/home/zhengyang/Desktop/Git_resp_limesegment/classifiers/ResNet.py:149: UserWarning: Implicit dimension choice for softmax has been deprecated. Change the call to include dim=X as an argument.\n",
      "  output_layer = self.softmax(output_layer)\n"
     ]
    },
    {
     "data": {
      "application/vnd.jupyter.widget-view+json": {
       "model_id": "6a5b23b815c84d4381c4aaa83e84ad93",
       "version_major": 2,
       "version_minor": 0
      },
      "text/plain": [
       "Lime attribution:   0%|          | 0/25 [00:00<?, ?it/s]"
      ]
     },
     "metadata": {},
     "output_type": "display_data"
    },
    {
     "name": "stderr",
     "output_type": "stream",
     "text": [
      "/home/zhengyang/Desktop/Git_resp_limesegment/classifiers/ResNet.py:149: UserWarning: Implicit dimension choice for softmax has been deprecated. Change the call to include dim=X as an argument.\n",
      "  output_layer = self.softmax(output_layer)\n"
     ]
    },
    {
     "data": {
      "application/vnd.jupyter.widget-view+json": {
       "model_id": "f940fe6e0dfa4f089206a622842784b8",
       "version_major": 2,
       "version_minor": 0
      },
      "text/plain": [
       "Lime attribution:   0%|          | 0/25 [00:00<?, ?it/s]"
      ]
     },
     "metadata": {},
     "output_type": "display_data"
    },
    {
     "name": "stderr",
     "output_type": "stream",
     "text": [
      "/home/zhengyang/Desktop/Git_resp_limesegment/classifiers/ResNet.py:149: UserWarning: Implicit dimension choice for softmax has been deprecated. Change the call to include dim=X as an argument.\n",
      "  output_layer = self.softmax(output_layer)\n"
     ]
    },
    {
     "data": {
      "application/vnd.jupyter.widget-view+json": {
       "model_id": "030398b069734f5fa826ce3418bce8b6",
       "version_major": 2,
       "version_minor": 0
      },
      "text/plain": [
       "Lime attribution:   0%|          | 0/25 [00:00<?, ?it/s]"
      ]
     },
     "metadata": {},
     "output_type": "display_data"
    },
    {
     "name": "stderr",
     "output_type": "stream",
     "text": [
      "/home/zhengyang/Desktop/Git_resp_limesegment/classifiers/ResNet.py:149: UserWarning: Implicit dimension choice for softmax has been deprecated. Change the call to include dim=X as an argument.\n",
      "  output_layer = self.softmax(output_layer)\n"
     ]
    },
    {
     "data": {
      "application/vnd.jupyter.widget-view+json": {
       "model_id": "41ab0a4d9bc84bb291f896e9b405eb5c",
       "version_major": 2,
       "version_minor": 0
      },
      "text/plain": [
       "Lime attribution:   0%|          | 0/25 [00:00<?, ?it/s]"
      ]
     },
     "metadata": {},
     "output_type": "display_data"
    },
    {
     "name": "stderr",
     "output_type": "stream",
     "text": [
      "/home/zhengyang/Desktop/Git_resp_limesegment/classifiers/ResNet.py:149: UserWarning: Implicit dimension choice for softmax has been deprecated. Change the call to include dim=X as an argument.\n",
      "  output_layer = self.softmax(output_layer)\n"
     ]
    },
    {
     "data": {
      "application/vnd.jupyter.widget-view+json": {
       "model_id": "944891e799f74e069b9ca14607de3d42",
       "version_major": 2,
       "version_minor": 0
      },
      "text/plain": [
       "Lime attribution:   0%|          | 0/25 [00:00<?, ?it/s]"
      ]
     },
     "metadata": {},
     "output_type": "display_data"
    },
    {
     "name": "stderr",
     "output_type": "stream",
     "text": [
      "/home/zhengyang/Desktop/Git_resp_limesegment/classifiers/ResNet.py:149: UserWarning: Implicit dimension choice for softmax has been deprecated. Change the call to include dim=X as an argument.\n",
      "  output_layer = self.softmax(output_layer)\n"
     ]
    },
    {
     "data": {
      "application/vnd.jupyter.widget-view+json": {
       "model_id": "f430ecbcdf884fefbf1f78272e77aa29",
       "version_major": 2,
       "version_minor": 0
      },
      "text/plain": [
       "Lime attribution:   0%|          | 0/25 [00:00<?, ?it/s]"
      ]
     },
     "metadata": {},
     "output_type": "display_data"
    },
    {
     "name": "stderr",
     "output_type": "stream",
     "text": [
      "/home/zhengyang/Desktop/Git_resp_limesegment/classifiers/ResNet.py:149: UserWarning: Implicit dimension choice for softmax has been deprecated. Change the call to include dim=X as an argument.\n",
      "  output_layer = self.softmax(output_layer)\n"
     ]
    },
    {
     "data": {
      "application/vnd.jupyter.widget-view+json": {
       "model_id": "693fe57322164913af80b8b9edc0a05c",
       "version_major": 2,
       "version_minor": 0
      },
      "text/plain": [
       "Lime attribution:   0%|          | 0/25 [00:00<?, ?it/s]"
      ]
     },
     "metadata": {},
     "output_type": "display_data"
    },
    {
     "name": "stderr",
     "output_type": "stream",
     "text": [
      "/home/zhengyang/Desktop/Git_resp_limesegment/classifiers/ResNet.py:149: UserWarning: Implicit dimension choice for softmax has been deprecated. Change the call to include dim=X as an argument.\n",
      "  output_layer = self.softmax(output_layer)\n"
     ]
    },
    {
     "data": {
      "application/vnd.jupyter.widget-view+json": {
       "model_id": "e28ec73de1574aa4a609e3d742a77011",
       "version_major": 2,
       "version_minor": 0
      },
      "text/plain": [
       "Lime attribution:   0%|          | 0/25 [00:00<?, ?it/s]"
      ]
     },
     "metadata": {},
     "output_type": "display_data"
    },
    {
     "name": "stderr",
     "output_type": "stream",
     "text": [
      "/home/zhengyang/Desktop/Git_resp_limesegment/classifiers/ResNet.py:149: UserWarning: Implicit dimension choice for softmax has been deprecated. Change the call to include dim=X as an argument.\n",
      "  output_layer = self.softmax(output_layer)\n"
     ]
    },
    {
     "data": {
      "application/vnd.jupyter.widget-view+json": {
       "model_id": "d2349ba4174d4610a0deeac44f13d147",
       "version_major": 2,
       "version_minor": 0
      },
      "text/plain": [
       "Lime attribution:   0%|          | 0/25 [00:00<?, ?it/s]"
      ]
     },
     "metadata": {},
     "output_type": "display_data"
    },
    {
     "name": "stderr",
     "output_type": "stream",
     "text": [
      "/home/zhengyang/Desktop/Git_resp_limesegment/classifiers/ResNet.py:149: UserWarning: Implicit dimension choice for softmax has been deprecated. Change the call to include dim=X as an argument.\n",
      "  output_layer = self.softmax(output_layer)\n"
     ]
    },
    {
     "data": {
      "application/vnd.jupyter.widget-view+json": {
       "model_id": "d1c3b3b8754e490782ece6d9edc895ac",
       "version_major": 2,
       "version_minor": 0
      },
      "text/plain": [
       "Lime attribution:   0%|          | 0/25 [00:00<?, ?it/s]"
      ]
     },
     "metadata": {},
     "output_type": "display_data"
    },
    {
     "name": "stderr",
     "output_type": "stream",
     "text": [
      "/home/zhengyang/Desktop/Git_resp_limesegment/classifiers/ResNet.py:149: UserWarning: Implicit dimension choice for softmax has been deprecated. Change the call to include dim=X as an argument.\n",
      "  output_layer = self.softmax(output_layer)\n"
     ]
    },
    {
     "data": {
      "application/vnd.jupyter.widget-view+json": {
       "model_id": "218c059db0a143dfb36800e5189eaa21",
       "version_major": 2,
       "version_minor": 0
      },
      "text/plain": [
       "Lime attribution:   0%|          | 0/25 [00:00<?, ?it/s]"
      ]
     },
     "metadata": {},
     "output_type": "display_data"
    },
    {
     "name": "stderr",
     "output_type": "stream",
     "text": [
      "/home/zhengyang/Desktop/Git_resp_limesegment/classifiers/ResNet.py:149: UserWarning: Implicit dimension choice for softmax has been deprecated. Change the call to include dim=X as an argument.\n",
      "  output_layer = self.softmax(output_layer)\n"
     ]
    },
    {
     "data": {
      "application/vnd.jupyter.widget-view+json": {
       "model_id": "8e9f0397fd944bd6bec425d9c03f68cb",
       "version_major": 2,
       "version_minor": 0
      },
      "text/plain": [
       "Lime attribution:   0%|          | 0/25 [00:00<?, ?it/s]"
      ]
     },
     "metadata": {},
     "output_type": "display_data"
    },
    {
     "name": "stderr",
     "output_type": "stream",
     "text": [
      "/home/zhengyang/Desktop/Git_resp_limesegment/classifiers/ResNet.py:149: UserWarning: Implicit dimension choice for softmax has been deprecated. Change the call to include dim=X as an argument.\n",
      "  output_layer = self.softmax(output_layer)\n"
     ]
    },
    {
     "data": {
      "application/vnd.jupyter.widget-view+json": {
       "model_id": "a4e2120d0e3344be87f6565254c79cf7",
       "version_major": 2,
       "version_minor": 0
      },
      "text/plain": [
       "Lime attribution:   0%|          | 0/25 [00:00<?, ?it/s]"
      ]
     },
     "metadata": {},
     "output_type": "display_data"
    },
    {
     "name": "stderr",
     "output_type": "stream",
     "text": [
      "/home/zhengyang/Desktop/Git_resp_limesegment/classifiers/ResNet.py:149: UserWarning: Implicit dimension choice for softmax has been deprecated. Change the call to include dim=X as an argument.\n",
      "  output_layer = self.softmax(output_layer)\n"
     ]
    },
    {
     "data": {
      "application/vnd.jupyter.widget-view+json": {
       "model_id": "5e6731b7758b4749a1ee97867c2e9232",
       "version_major": 2,
       "version_minor": 0
      },
      "text/plain": [
       "Lime attribution:   0%|          | 0/25 [00:00<?, ?it/s]"
      ]
     },
     "metadata": {},
     "output_type": "display_data"
    },
    {
     "name": "stderr",
     "output_type": "stream",
     "text": [
      "/home/zhengyang/Desktop/Git_resp_limesegment/classifiers/ResNet.py:149: UserWarning: Implicit dimension choice for softmax has been deprecated. Change the call to include dim=X as an argument.\n",
      "  output_layer = self.softmax(output_layer)\n"
     ]
    },
    {
     "data": {
      "application/vnd.jupyter.widget-view+json": {
       "model_id": "2c2f16425c3d417e80cdb4ae0f827030",
       "version_major": 2,
       "version_minor": 0
      },
      "text/plain": [
       "Lime attribution:   0%|          | 0/25 [00:00<?, ?it/s]"
      ]
     },
     "metadata": {},
     "output_type": "display_data"
    },
    {
     "name": "stderr",
     "output_type": "stream",
     "text": [
      "/home/zhengyang/Desktop/Git_resp_limesegment/classifiers/ResNet.py:149: UserWarning: Implicit dimension choice for softmax has been deprecated. Change the call to include dim=X as an argument.\n",
      "  output_layer = self.softmax(output_layer)\n"
     ]
    },
    {
     "data": {
      "application/vnd.jupyter.widget-view+json": {
       "model_id": "96d6e30082b747569e8aa7c0444c184b",
       "version_major": 2,
       "version_minor": 0
      },
      "text/plain": [
       "Lime attribution:   0%|          | 0/25 [00:00<?, ?it/s]"
      ]
     },
     "metadata": {},
     "output_type": "display_data"
    },
    {
     "name": "stderr",
     "output_type": "stream",
     "text": [
      "/home/zhengyang/Desktop/Git_resp_limesegment/classifiers/ResNet.py:149: UserWarning: Implicit dimension choice for softmax has been deprecated. Change the call to include dim=X as an argument.\n",
      "  output_layer = self.softmax(output_layer)\n"
     ]
    },
    {
     "data": {
      "application/vnd.jupyter.widget-view+json": {
       "model_id": "1982ee6f859a4905a00a127233eaad21",
       "version_major": 2,
       "version_minor": 0
      },
      "text/plain": [
       "Lime attribution:   0%|          | 0/25 [00:00<?, ?it/s]"
      ]
     },
     "metadata": {},
     "output_type": "display_data"
    },
    {
     "name": "stderr",
     "output_type": "stream",
     "text": [
      "/home/zhengyang/Desktop/Git_resp_limesegment/classifiers/ResNet.py:149: UserWarning: Implicit dimension choice for softmax has been deprecated. Change the call to include dim=X as an argument.\n",
      "  output_layer = self.softmax(output_layer)\n"
     ]
    },
    {
     "data": {
      "application/vnd.jupyter.widget-view+json": {
       "model_id": "d62e0fb6dca044028bc9159caeb07159",
       "version_major": 2,
       "version_minor": 0
      },
      "text/plain": [
       "Lime attribution:   0%|          | 0/25 [00:00<?, ?it/s]"
      ]
     },
     "metadata": {},
     "output_type": "display_data"
    },
    {
     "name": "stderr",
     "output_type": "stream",
     "text": [
      "/home/zhengyang/Desktop/Git_resp_limesegment/classifiers/ResNet.py:149: UserWarning: Implicit dimension choice for softmax has been deprecated. Change the call to include dim=X as an argument.\n",
      "  output_layer = self.softmax(output_layer)\n"
     ]
    },
    {
     "data": {
      "application/vnd.jupyter.widget-view+json": {
       "model_id": "4a3c7f301c344fc6b2a72472e3c24879",
       "version_major": 2,
       "version_minor": 0
      },
      "text/plain": [
       "Lime attribution:   0%|          | 0/25 [00:00<?, ?it/s]"
      ]
     },
     "metadata": {},
     "output_type": "display_data"
    },
    {
     "name": "stderr",
     "output_type": "stream",
     "text": [
      "/home/zhengyang/Desktop/Git_resp_limesegment/classifiers/ResNet.py:149: UserWarning: Implicit dimension choice for softmax has been deprecated. Change the call to include dim=X as an argument.\n",
      "  output_layer = self.softmax(output_layer)\n"
     ]
    },
    {
     "data": {
      "application/vnd.jupyter.widget-view+json": {
       "model_id": "3c893e924f2240389a2340ee8e5f31a8",
       "version_major": 2,
       "version_minor": 0
      },
      "text/plain": [
       "Lime attribution:   0%|          | 0/25 [00:00<?, ?it/s]"
      ]
     },
     "metadata": {},
     "output_type": "display_data"
    },
    {
     "name": "stderr",
     "output_type": "stream",
     "text": [
      "/home/zhengyang/Desktop/Git_resp_limesegment/classifiers/ResNet.py:149: UserWarning: Implicit dimension choice for softmax has been deprecated. Change the call to include dim=X as an argument.\n",
      "  output_layer = self.softmax(output_layer)\n"
     ]
    },
    {
     "data": {
      "application/vnd.jupyter.widget-view+json": {
       "model_id": "710d0cd1dfd54998ae20396f456421a7",
       "version_major": 2,
       "version_minor": 0
      },
      "text/plain": [
       "Lime attribution:   0%|          | 0/25 [00:00<?, ?it/s]"
      ]
     },
     "metadata": {},
     "output_type": "display_data"
    },
    {
     "name": "stderr",
     "output_type": "stream",
     "text": [
      "/home/zhengyang/Desktop/Git_resp_limesegment/classifiers/ResNet.py:149: UserWarning: Implicit dimension choice for softmax has been deprecated. Change the call to include dim=X as an argument.\n",
      "  output_layer = self.softmax(output_layer)\n"
     ]
    },
    {
     "data": {
      "application/vnd.jupyter.widget-view+json": {
       "model_id": "ca1b808b3a134da9807e430a9469e498",
       "version_major": 2,
       "version_minor": 0
      },
      "text/plain": [
       "Lime attribution:   0%|          | 0/25 [00:00<?, ?it/s]"
      ]
     },
     "metadata": {},
     "output_type": "display_data"
    },
    {
     "name": "stderr",
     "output_type": "stream",
     "text": [
      "/home/zhengyang/Desktop/Git_resp_limesegment/classifiers/ResNet.py:149: UserWarning: Implicit dimension choice for softmax has been deprecated. Change the call to include dim=X as an argument.\n",
      "  output_layer = self.softmax(output_layer)\n"
     ]
    },
    {
     "data": {
      "application/vnd.jupyter.widget-view+json": {
       "model_id": "bdcfddb63d494bc2b7ea11fb75c12974",
       "version_major": 2,
       "version_minor": 0
      },
      "text/plain": [
       "Lime attribution:   0%|          | 0/25 [00:00<?, ?it/s]"
      ]
     },
     "metadata": {},
     "output_type": "display_data"
    },
    {
     "name": "stderr",
     "output_type": "stream",
     "text": [
      "/home/zhengyang/Desktop/Git_resp_limesegment/classifiers/ResNet.py:149: UserWarning: Implicit dimension choice for softmax has been deprecated. Change the call to include dim=X as an argument.\n",
      "  output_layer = self.softmax(output_layer)\n"
     ]
    },
    {
     "data": {
      "application/vnd.jupyter.widget-view+json": {
       "model_id": "4ecf1bf075824626a1e74d47aea8620b",
       "version_major": 2,
       "version_minor": 0
      },
      "text/plain": [
       "Lime attribution:   0%|          | 0/25 [00:00<?, ?it/s]"
      ]
     },
     "metadata": {},
     "output_type": "display_data"
    },
    {
     "name": "stderr",
     "output_type": "stream",
     "text": [
      "/home/zhengyang/Desktop/Git_resp_limesegment/classifiers/ResNet.py:149: UserWarning: Implicit dimension choice for softmax has been deprecated. Change the call to include dim=X as an argument.\n",
      "  output_layer = self.softmax(output_layer)\n"
     ]
    },
    {
     "data": {
      "application/vnd.jupyter.widget-view+json": {
       "model_id": "2c961e18b390431a89ef2a4cbd1ba065",
       "version_major": 2,
       "version_minor": 0
      },
      "text/plain": [
       "Lime attribution:   0%|          | 0/25 [00:00<?, ?it/s]"
      ]
     },
     "metadata": {},
     "output_type": "display_data"
    },
    {
     "name": "stderr",
     "output_type": "stream",
     "text": [
      "/home/zhengyang/Desktop/Git_resp_limesegment/classifiers/ResNet.py:149: UserWarning: Implicit dimension choice for softmax has been deprecated. Change the call to include dim=X as an argument.\n",
      "  output_layer = self.softmax(output_layer)\n"
     ]
    },
    {
     "data": {
      "application/vnd.jupyter.widget-view+json": {
       "model_id": "2ceb3e9758234b32b54aab052369d28a",
       "version_major": 2,
       "version_minor": 0
      },
      "text/plain": [
       "Lime attribution:   0%|          | 0/25 [00:00<?, ?it/s]"
      ]
     },
     "metadata": {},
     "output_type": "display_data"
    },
    {
     "name": "stderr",
     "output_type": "stream",
     "text": [
      "/home/zhengyang/Desktop/Git_resp_limesegment/classifiers/ResNet.py:149: UserWarning: Implicit dimension choice for softmax has been deprecated. Change the call to include dim=X as an argument.\n",
      "  output_layer = self.softmax(output_layer)\n"
     ]
    },
    {
     "data": {
      "application/vnd.jupyter.widget-view+json": {
       "model_id": "ed5ca860bb2a4cf48efb20b1a695dd66",
       "version_major": 2,
       "version_minor": 0
      },
      "text/plain": [
       "Lime attribution:   0%|          | 0/25 [00:00<?, ?it/s]"
      ]
     },
     "metadata": {},
     "output_type": "display_data"
    },
    {
     "name": "stderr",
     "output_type": "stream",
     "text": [
      "/home/zhengyang/Desktop/Git_resp_limesegment/classifiers/ResNet.py:149: UserWarning: Implicit dimension choice for softmax has been deprecated. Change the call to include dim=X as an argument.\n",
      "  output_layer = self.softmax(output_layer)\n"
     ]
    },
    {
     "data": {
      "application/vnd.jupyter.widget-view+json": {
       "model_id": "6cf72a37e7a045d88c23c1f957b7e4a7",
       "version_major": 2,
       "version_minor": 0
      },
      "text/plain": [
       "Lime attribution:   0%|          | 0/25 [00:00<?, ?it/s]"
      ]
     },
     "metadata": {},
     "output_type": "display_data"
    },
    {
     "name": "stderr",
     "output_type": "stream",
     "text": [
      "/home/zhengyang/Desktop/Git_resp_limesegment/classifiers/ResNet.py:149: UserWarning: Implicit dimension choice for softmax has been deprecated. Change the call to include dim=X as an argument.\n",
      "  output_layer = self.softmax(output_layer)\n"
     ]
    },
    {
     "data": {
      "application/vnd.jupyter.widget-view+json": {
       "model_id": "02de6d5194e648e38780f281ced899fe",
       "version_major": 2,
       "version_minor": 0
      },
      "text/plain": [
       "Lime attribution:   0%|          | 0/25 [00:00<?, ?it/s]"
      ]
     },
     "metadata": {},
     "output_type": "display_data"
    },
    {
     "name": "stderr",
     "output_type": "stream",
     "text": [
      "/home/zhengyang/Desktop/Git_resp_limesegment/classifiers/ResNet.py:149: UserWarning: Implicit dimension choice for softmax has been deprecated. Change the call to include dim=X as an argument.\n",
      "  output_layer = self.softmax(output_layer)\n"
     ]
    },
    {
     "data": {
      "application/vnd.jupyter.widget-view+json": {
       "model_id": "d63483e7076f4c8fa2fb5f0ae6b41b62",
       "version_major": 2,
       "version_minor": 0
      },
      "text/plain": [
       "Lime attribution:   0%|          | 0/25 [00:00<?, ?it/s]"
      ]
     },
     "metadata": {},
     "output_type": "display_data"
    },
    {
     "name": "stderr",
     "output_type": "stream",
     "text": [
      "/home/zhengyang/Desktop/Git_resp_limesegment/classifiers/ResNet.py:149: UserWarning: Implicit dimension choice for softmax has been deprecated. Change the call to include dim=X as an argument.\n",
      "  output_layer = self.softmax(output_layer)\n"
     ]
    },
    {
     "data": {
      "application/vnd.jupyter.widget-view+json": {
       "model_id": "ad77c1378e4c4821985e97411600d40a",
       "version_major": 2,
       "version_minor": 0
      },
      "text/plain": [
       "Lime attribution:   0%|          | 0/25 [00:00<?, ?it/s]"
      ]
     },
     "metadata": {},
     "output_type": "display_data"
    },
    {
     "name": "stderr",
     "output_type": "stream",
     "text": [
      "/home/zhengyang/Desktop/Git_resp_limesegment/classifiers/ResNet.py:149: UserWarning: Implicit dimension choice for softmax has been deprecated. Change the call to include dim=X as an argument.\n",
      "  output_layer = self.softmax(output_layer)\n"
     ]
    },
    {
     "data": {
      "application/vnd.jupyter.widget-view+json": {
       "model_id": "3d622374600b46e2b632c198d7983883",
       "version_major": 2,
       "version_minor": 0
      },
      "text/plain": [
       "Lime attribution:   0%|          | 0/25 [00:00<?, ?it/s]"
      ]
     },
     "metadata": {},
     "output_type": "display_data"
    },
    {
     "name": "stderr",
     "output_type": "stream",
     "text": [
      "/home/zhengyang/Desktop/Git_resp_limesegment/classifiers/ResNet.py:149: UserWarning: Implicit dimension choice for softmax has been deprecated. Change the call to include dim=X as an argument.\n",
      "  output_layer = self.softmax(output_layer)\n"
     ]
    },
    {
     "data": {
      "application/vnd.jupyter.widget-view+json": {
       "model_id": "67688e7745514c8891a491ecb2840f09",
       "version_major": 2,
       "version_minor": 0
      },
      "text/plain": [
       "Lime attribution:   0%|          | 0/25 [00:00<?, ?it/s]"
      ]
     },
     "metadata": {},
     "output_type": "display_data"
    },
    {
     "name": "stderr",
     "output_type": "stream",
     "text": [
      "/home/zhengyang/Desktop/Git_resp_limesegment/classifiers/ResNet.py:149: UserWarning: Implicit dimension choice for softmax has been deprecated. Change the call to include dim=X as an argument.\n",
      "  output_layer = self.softmax(output_layer)\n"
     ]
    },
    {
     "data": {
      "application/vnd.jupyter.widget-view+json": {
       "model_id": "42a29b92ee6c468f8adba5d43877b34a",
       "version_major": 2,
       "version_minor": 0
      },
      "text/plain": [
       "Lime attribution:   0%|          | 0/25 [00:00<?, ?it/s]"
      ]
     },
     "metadata": {},
     "output_type": "display_data"
    },
    {
     "name": "stderr",
     "output_type": "stream",
     "text": [
      "/home/zhengyang/Desktop/Git_resp_limesegment/classifiers/ResNet.py:149: UserWarning: Implicit dimension choice for softmax has been deprecated. Change the call to include dim=X as an argument.\n",
      "  output_layer = self.softmax(output_layer)\n"
     ]
    },
    {
     "data": {
      "application/vnd.jupyter.widget-view+json": {
       "model_id": "6848aa47f49f4737ad8c7bb766b20b02",
       "version_major": 2,
       "version_minor": 0
      },
      "text/plain": [
       "Lime attribution:   0%|          | 0/25 [00:00<?, ?it/s]"
      ]
     },
     "metadata": {},
     "output_type": "display_data"
    },
    {
     "name": "stderr",
     "output_type": "stream",
     "text": [
      "/home/zhengyang/Desktop/Git_resp_limesegment/classifiers/ResNet.py:149: UserWarning: Implicit dimension choice for softmax has been deprecated. Change the call to include dim=X as an argument.\n",
      "  output_layer = self.softmax(output_layer)\n"
     ]
    },
    {
     "data": {
      "application/vnd.jupyter.widget-view+json": {
       "model_id": "ed2c109947aa4d5284303cef9d085402",
       "version_major": 2,
       "version_minor": 0
      },
      "text/plain": [
       "Lime attribution:   0%|          | 0/25 [00:00<?, ?it/s]"
      ]
     },
     "metadata": {},
     "output_type": "display_data"
    },
    {
     "name": "stderr",
     "output_type": "stream",
     "text": [
      "/home/zhengyang/Desktop/Git_resp_limesegment/classifiers/ResNet.py:149: UserWarning: Implicit dimension choice for softmax has been deprecated. Change the call to include dim=X as an argument.\n",
      "  output_layer = self.softmax(output_layer)\n"
     ]
    },
    {
     "data": {
      "application/vnd.jupyter.widget-view+json": {
       "model_id": "b4ed3c959c524932b29a7c16c3de1a9e",
       "version_major": 2,
       "version_minor": 0
      },
      "text/plain": [
       "Lime attribution:   0%|          | 0/25 [00:00<?, ?it/s]"
      ]
     },
     "metadata": {},
     "output_type": "display_data"
    },
    {
     "name": "stderr",
     "output_type": "stream",
     "text": [
      "/home/zhengyang/Desktop/Git_resp_limesegment/classifiers/ResNet.py:149: UserWarning: Implicit dimension choice for softmax has been deprecated. Change the call to include dim=X as an argument.\n",
      "  output_layer = self.softmax(output_layer)\n"
     ]
    },
    {
     "data": {
      "application/vnd.jupyter.widget-view+json": {
       "model_id": "5c072df2e2e348d786416de53c2b5946",
       "version_major": 2,
       "version_minor": 0
      },
      "text/plain": [
       "Lime attribution:   0%|          | 0/25 [00:00<?, ?it/s]"
      ]
     },
     "metadata": {},
     "output_type": "display_data"
    },
    {
     "name": "stderr",
     "output_type": "stream",
     "text": [
      "/home/zhengyang/Desktop/Git_resp_limesegment/classifiers/ResNet.py:149: UserWarning: Implicit dimension choice for softmax has been deprecated. Change the call to include dim=X as an argument.\n",
      "  output_layer = self.softmax(output_layer)\n"
     ]
    },
    {
     "data": {
      "application/vnd.jupyter.widget-view+json": {
       "model_id": "641409a562df499796d64d38317d1ea6",
       "version_major": 2,
       "version_minor": 0
      },
      "text/plain": [
       "Lime attribution:   0%|          | 0/25 [00:00<?, ?it/s]"
      ]
     },
     "metadata": {},
     "output_type": "display_data"
    },
    {
     "name": "stderr",
     "output_type": "stream",
     "text": [
      "/home/zhengyang/Desktop/Git_resp_limesegment/classifiers/ResNet.py:149: UserWarning: Implicit dimension choice for softmax has been deprecated. Change the call to include dim=X as an argument.\n",
      "  output_layer = self.softmax(output_layer)\n"
     ]
    },
    {
     "data": {
      "application/vnd.jupyter.widget-view+json": {
       "model_id": "5545ff19f3a440f6ba656eabd81d4d52",
       "version_major": 2,
       "version_minor": 0
      },
      "text/plain": [
       "Lime attribution:   0%|          | 0/25 [00:00<?, ?it/s]"
      ]
     },
     "metadata": {},
     "output_type": "display_data"
    },
    {
     "name": "stderr",
     "output_type": "stream",
     "text": [
      "/home/zhengyang/Desktop/Git_resp_limesegment/classifiers/ResNet.py:149: UserWarning: Implicit dimension choice for softmax has been deprecated. Change the call to include dim=X as an argument.\n",
      "  output_layer = self.softmax(output_layer)\n"
     ]
    },
    {
     "data": {
      "application/vnd.jupyter.widget-view+json": {
       "model_id": "9c2e5e0f45fa4df3a2f5ad99bbef2e2f",
       "version_major": 2,
       "version_minor": 0
      },
      "text/plain": [
       "Lime attribution:   0%|          | 0/25 [00:00<?, ?it/s]"
      ]
     },
     "metadata": {},
     "output_type": "display_data"
    },
    {
     "name": "stderr",
     "output_type": "stream",
     "text": [
      "/home/zhengyang/Desktop/Git_resp_limesegment/classifiers/ResNet.py:149: UserWarning: Implicit dimension choice for softmax has been deprecated. Change the call to include dim=X as an argument.\n",
      "  output_layer = self.softmax(output_layer)\n"
     ]
    },
    {
     "data": {
      "application/vnd.jupyter.widget-view+json": {
       "model_id": "cd8e8434b1394f7b851fb4878ed9a5fb",
       "version_major": 2,
       "version_minor": 0
      },
      "text/plain": [
       "Lime attribution:   0%|          | 0/25 [00:00<?, ?it/s]"
      ]
     },
     "metadata": {},
     "output_type": "display_data"
    },
    {
     "name": "stderr",
     "output_type": "stream",
     "text": [
      "/home/zhengyang/Desktop/Git_resp_limesegment/classifiers/ResNet.py:149: UserWarning: Implicit dimension choice for softmax has been deprecated. Change the call to include dim=X as an argument.\n",
      "  output_layer = self.softmax(output_layer)\n"
     ]
    },
    {
     "data": {
      "application/vnd.jupyter.widget-view+json": {
       "model_id": "e976be842a4741389c879fb240503c0f",
       "version_major": 2,
       "version_minor": 0
      },
      "text/plain": [
       "Lime attribution:   0%|          | 0/25 [00:00<?, ?it/s]"
      ]
     },
     "metadata": {},
     "output_type": "display_data"
    },
    {
     "name": "stderr",
     "output_type": "stream",
     "text": [
      "/home/zhengyang/Desktop/Git_resp_limesegment/classifiers/ResNet.py:149: UserWarning: Implicit dimension choice for softmax has been deprecated. Change the call to include dim=X as an argument.\n",
      "  output_layer = self.softmax(output_layer)\n"
     ]
    },
    {
     "data": {
      "application/vnd.jupyter.widget-view+json": {
       "model_id": "c84780270f2a4212b9422724f024fa9c",
       "version_major": 2,
       "version_minor": 0
      },
      "text/plain": [
       "Lime attribution:   0%|          | 0/25 [00:00<?, ?it/s]"
      ]
     },
     "metadata": {},
     "output_type": "display_data"
    },
    {
     "name": "stderr",
     "output_type": "stream",
     "text": [
      "/home/zhengyang/Desktop/Git_resp_limesegment/classifiers/ResNet.py:149: UserWarning: Implicit dimension choice for softmax has been deprecated. Change the call to include dim=X as an argument.\n",
      "  output_layer = self.softmax(output_layer)\n"
     ]
    },
    {
     "data": {
      "application/vnd.jupyter.widget-view+json": {
       "model_id": "51ba61408f424633bb49eff4841b220f",
       "version_major": 2,
       "version_minor": 0
      },
      "text/plain": [
       "Lime attribution:   0%|          | 0/25 [00:00<?, ?it/s]"
      ]
     },
     "metadata": {},
     "output_type": "display_data"
    },
    {
     "name": "stderr",
     "output_type": "stream",
     "text": [
      "/home/zhengyang/Desktop/Git_resp_limesegment/classifiers/ResNet.py:149: UserWarning: Implicit dimension choice for softmax has been deprecated. Change the call to include dim=X as an argument.\n",
      "  output_layer = self.softmax(output_layer)\n"
     ]
    },
    {
     "data": {
      "application/vnd.jupyter.widget-view+json": {
       "model_id": "c6460a960ab94c749eef234e51132c7d",
       "version_major": 2,
       "version_minor": 0
      },
      "text/plain": [
       "Lime attribution:   0%|          | 0/25 [00:00<?, ?it/s]"
      ]
     },
     "metadata": {},
     "output_type": "display_data"
    },
    {
     "name": "stderr",
     "output_type": "stream",
     "text": [
      "/home/zhengyang/Desktop/Git_resp_limesegment/classifiers/ResNet.py:149: UserWarning: Implicit dimension choice for softmax has been deprecated. Change the call to include dim=X as an argument.\n",
      "  output_layer = self.softmax(output_layer)\n"
     ]
    },
    {
     "data": {
      "application/vnd.jupyter.widget-view+json": {
       "model_id": "2067e6e9600a4fb1a36660e4488caa20",
       "version_major": 2,
       "version_minor": 0
      },
      "text/plain": [
       "Lime attribution:   0%|          | 0/25 [00:00<?, ?it/s]"
      ]
     },
     "metadata": {},
     "output_type": "display_data"
    },
    {
     "name": "stderr",
     "output_type": "stream",
     "text": [
      "/home/zhengyang/Desktop/Git_resp_limesegment/classifiers/ResNet.py:149: UserWarning: Implicit dimension choice for softmax has been deprecated. Change the call to include dim=X as an argument.\n",
      "  output_layer = self.softmax(output_layer)\n"
     ]
    },
    {
     "data": {
      "application/vnd.jupyter.widget-view+json": {
       "model_id": "4e85c29666194282b4b03dc6f8dc76a7",
       "version_major": 2,
       "version_minor": 0
      },
      "text/plain": [
       "Lime attribution:   0%|          | 0/25 [00:00<?, ?it/s]"
      ]
     },
     "metadata": {},
     "output_type": "display_data"
    },
    {
     "name": "stderr",
     "output_type": "stream",
     "text": [
      "/home/zhengyang/Desktop/Git_resp_limesegment/classifiers/ResNet.py:149: UserWarning: Implicit dimension choice for softmax has been deprecated. Change the call to include dim=X as an argument.\n",
      "  output_layer = self.softmax(output_layer)\n"
     ]
    },
    {
     "data": {
      "application/vnd.jupyter.widget-view+json": {
       "model_id": "d0daf618c5fd45fabba70e7564ffab79",
       "version_major": 2,
       "version_minor": 0
      },
      "text/plain": [
       "Lime attribution:   0%|          | 0/25 [00:00<?, ?it/s]"
      ]
     },
     "metadata": {},
     "output_type": "display_data"
    },
    {
     "name": "stderr",
     "output_type": "stream",
     "text": [
      "/home/zhengyang/Desktop/Git_resp_limesegment/classifiers/ResNet.py:149: UserWarning: Implicit dimension choice for softmax has been deprecated. Change the call to include dim=X as an argument.\n",
      "  output_layer = self.softmax(output_layer)\n"
     ]
    },
    {
     "data": {
      "application/vnd.jupyter.widget-view+json": {
       "model_id": "48fa3d9a36e44508a598e1cd2c440636",
       "version_major": 2,
       "version_minor": 0
      },
      "text/plain": [
       "Lime attribution:   0%|          | 0/25 [00:00<?, ?it/s]"
      ]
     },
     "metadata": {},
     "output_type": "display_data"
    },
    {
     "name": "stderr",
     "output_type": "stream",
     "text": [
      "/home/zhengyang/Desktop/Git_resp_limesegment/classifiers/ResNet.py:149: UserWarning: Implicit dimension choice for softmax has been deprecated. Change the call to include dim=X as an argument.\n",
      "  output_layer = self.softmax(output_layer)\n"
     ]
    },
    {
     "data": {
      "application/vnd.jupyter.widget-view+json": {
       "model_id": "834af656b1964a2d8977491e85703df8",
       "version_major": 2,
       "version_minor": 0
      },
      "text/plain": [
       "Lime attribution:   0%|          | 0/25 [00:00<?, ?it/s]"
      ]
     },
     "metadata": {},
     "output_type": "display_data"
    },
    {
     "name": "stderr",
     "output_type": "stream",
     "text": [
      "/home/zhengyang/Desktop/Git_resp_limesegment/classifiers/ResNet.py:149: UserWarning: Implicit dimension choice for softmax has been deprecated. Change the call to include dim=X as an argument.\n",
      "  output_layer = self.softmax(output_layer)\n"
     ]
    },
    {
     "data": {
      "application/vnd.jupyter.widget-view+json": {
       "model_id": "c5e70aefc2f6487c82656532b59124e1",
       "version_major": 2,
       "version_minor": 0
      },
      "text/plain": [
       "Lime attribution:   0%|          | 0/25 [00:00<?, ?it/s]"
      ]
     },
     "metadata": {},
     "output_type": "display_data"
    },
    {
     "name": "stderr",
     "output_type": "stream",
     "text": [
      "/home/zhengyang/Desktop/Git_resp_limesegment/classifiers/ResNet.py:149: UserWarning: Implicit dimension choice for softmax has been deprecated. Change the call to include dim=X as an argument.\n",
      "  output_layer = self.softmax(output_layer)\n"
     ]
    },
    {
     "data": {
      "application/vnd.jupyter.widget-view+json": {
       "model_id": "65b0c0f8eb24459598964ff1a19f6378",
       "version_major": 2,
       "version_minor": 0
      },
      "text/plain": [
       "Lime attribution:   0%|          | 0/25 [00:00<?, ?it/s]"
      ]
     },
     "metadata": {},
     "output_type": "display_data"
    },
    {
     "name": "stderr",
     "output_type": "stream",
     "text": [
      "/home/zhengyang/Desktop/Git_resp_limesegment/classifiers/ResNet.py:149: UserWarning: Implicit dimension choice for softmax has been deprecated. Change the call to include dim=X as an argument.\n",
      "  output_layer = self.softmax(output_layer)\n"
     ]
    },
    {
     "data": {
      "application/vnd.jupyter.widget-view+json": {
       "model_id": "ee02cf5aaa0944f288b98bd90cb224b5",
       "version_major": 2,
       "version_minor": 0
      },
      "text/plain": [
       "Lime attribution:   0%|          | 0/25 [00:00<?, ?it/s]"
      ]
     },
     "metadata": {},
     "output_type": "display_data"
    },
    {
     "name": "stderr",
     "output_type": "stream",
     "text": [
      "/home/zhengyang/Desktop/Git_resp_limesegment/classifiers/ResNet.py:149: UserWarning: Implicit dimension choice for softmax has been deprecated. Change the call to include dim=X as an argument.\n",
      "  output_layer = self.softmax(output_layer)\n"
     ]
    },
    {
     "data": {
      "application/vnd.jupyter.widget-view+json": {
       "model_id": "bd771855ce264adf8472ed2c12729267",
       "version_major": 2,
       "version_minor": 0
      },
      "text/plain": [
       "Lime attribution:   0%|          | 0/25 [00:00<?, ?it/s]"
      ]
     },
     "metadata": {},
     "output_type": "display_data"
    },
    {
     "name": "stderr",
     "output_type": "stream",
     "text": [
      "/home/zhengyang/Desktop/Git_resp_limesegment/classifiers/ResNet.py:149: UserWarning: Implicit dimension choice for softmax has been deprecated. Change the call to include dim=X as an argument.\n",
      "  output_layer = self.softmax(output_layer)\n"
     ]
    },
    {
     "data": {
      "application/vnd.jupyter.widget-view+json": {
       "model_id": "e6d3ebdb018b439180ef8265f06efdbf",
       "version_major": 2,
       "version_minor": 0
      },
      "text/plain": [
       "Lime attribution:   0%|          | 0/25 [00:00<?, ?it/s]"
      ]
     },
     "metadata": {},
     "output_type": "display_data"
    },
    {
     "name": "stderr",
     "output_type": "stream",
     "text": [
      "/home/zhengyang/Desktop/Git_resp_limesegment/classifiers/ResNet.py:149: UserWarning: Implicit dimension choice for softmax has been deprecated. Change the call to include dim=X as an argument.\n",
      "  output_layer = self.softmax(output_layer)\n"
     ]
    },
    {
     "data": {
      "application/vnd.jupyter.widget-view+json": {
       "model_id": "073ecd2e668a4f4fa07ee86d85b637d1",
       "version_major": 2,
       "version_minor": 0
      },
      "text/plain": [
       "Lime attribution:   0%|          | 0/25 [00:00<?, ?it/s]"
      ]
     },
     "metadata": {},
     "output_type": "display_data"
    },
    {
     "name": "stderr",
     "output_type": "stream",
     "text": [
      "/home/zhengyang/Desktop/Git_resp_limesegment/classifiers/ResNet.py:149: UserWarning: Implicit dimension choice for softmax has been deprecated. Change the call to include dim=X as an argument.\n",
      "  output_layer = self.softmax(output_layer)\n"
     ]
    },
    {
     "data": {
      "application/vnd.jupyter.widget-view+json": {
       "model_id": "7cce3c70d8474a77b34b1412cf9efeb6",
       "version_major": 2,
       "version_minor": 0
      },
      "text/plain": [
       "Lime attribution:   0%|          | 0/25 [00:00<?, ?it/s]"
      ]
     },
     "metadata": {},
     "output_type": "display_data"
    },
    {
     "name": "stderr",
     "output_type": "stream",
     "text": [
      "/home/zhengyang/Desktop/Git_resp_limesegment/classifiers/ResNet.py:149: UserWarning: Implicit dimension choice for softmax has been deprecated. Change the call to include dim=X as an argument.\n",
      "  output_layer = self.softmax(output_layer)\n"
     ]
    },
    {
     "data": {
      "application/vnd.jupyter.widget-view+json": {
       "model_id": "744689a3bd134f3c821f21eca277d9ec",
       "version_major": 2,
       "version_minor": 0
      },
      "text/plain": [
       "Lime attribution:   0%|          | 0/25 [00:00<?, ?it/s]"
      ]
     },
     "metadata": {},
     "output_type": "display_data"
    },
    {
     "name": "stderr",
     "output_type": "stream",
     "text": [
      "/home/zhengyang/Desktop/Git_resp_limesegment/classifiers/ResNet.py:149: UserWarning: Implicit dimension choice for softmax has been deprecated. Change the call to include dim=X as an argument.\n",
      "  output_layer = self.softmax(output_layer)\n"
     ]
    },
    {
     "data": {
      "application/vnd.jupyter.widget-view+json": {
       "model_id": "04f0ebce5fe94fdc8d406274e5fa024a",
       "version_major": 2,
       "version_minor": 0
      },
      "text/plain": [
       "Lime attribution:   0%|          | 0/25 [00:00<?, ?it/s]"
      ]
     },
     "metadata": {},
     "output_type": "display_data"
    },
    {
     "name": "stderr",
     "output_type": "stream",
     "text": [
      "/home/zhengyang/Desktop/Git_resp_limesegment/classifiers/ResNet.py:149: UserWarning: Implicit dimension choice for softmax has been deprecated. Change the call to include dim=X as an argument.\n",
      "  output_layer = self.softmax(output_layer)\n"
     ]
    },
    {
     "data": {
      "application/vnd.jupyter.widget-view+json": {
       "model_id": "483bf01b61e449aab8645522b3288348",
       "version_major": 2,
       "version_minor": 0
      },
      "text/plain": [
       "Lime attribution:   0%|          | 0/25 [00:00<?, ?it/s]"
      ]
     },
     "metadata": {},
     "output_type": "display_data"
    },
    {
     "name": "stderr",
     "output_type": "stream",
     "text": [
      "/home/zhengyang/Desktop/Git_resp_limesegment/classifiers/ResNet.py:149: UserWarning: Implicit dimension choice for softmax has been deprecated. Change the call to include dim=X as an argument.\n",
      "  output_layer = self.softmax(output_layer)\n"
     ]
    },
    {
     "data": {
      "application/vnd.jupyter.widget-view+json": {
       "model_id": "477c6dfc743e4c0a8c0bc7fbb03c70ff",
       "version_major": 2,
       "version_minor": 0
      },
      "text/plain": [
       "Lime attribution:   0%|          | 0/25 [00:00<?, ?it/s]"
      ]
     },
     "metadata": {},
     "output_type": "display_data"
    },
    {
     "name": "stderr",
     "output_type": "stream",
     "text": [
      "/home/zhengyang/Desktop/Git_resp_limesegment/classifiers/ResNet.py:149: UserWarning: Implicit dimension choice for softmax has been deprecated. Change the call to include dim=X as an argument.\n",
      "  output_layer = self.softmax(output_layer)\n"
     ]
    },
    {
     "data": {
      "application/vnd.jupyter.widget-view+json": {
       "model_id": "ba8b979cf1e3458cb7c59af393c722f8",
       "version_major": 2,
       "version_minor": 0
      },
      "text/plain": [
       "Lime attribution:   0%|          | 0/25 [00:00<?, ?it/s]"
      ]
     },
     "metadata": {},
     "output_type": "display_data"
    },
    {
     "name": "stderr",
     "output_type": "stream",
     "text": [
      "/home/zhengyang/Desktop/Git_resp_limesegment/classifiers/ResNet.py:149: UserWarning: Implicit dimension choice for softmax has been deprecated. Change the call to include dim=X as an argument.\n",
      "  output_layer = self.softmax(output_layer)\n"
     ]
    },
    {
     "data": {
      "application/vnd.jupyter.widget-view+json": {
       "model_id": "b8306d8ca9af4fe7b8426f8860c199c6",
       "version_major": 2,
       "version_minor": 0
      },
      "text/plain": [
       "Lime attribution:   0%|          | 0/25 [00:00<?, ?it/s]"
      ]
     },
     "metadata": {},
     "output_type": "display_data"
    },
    {
     "name": "stderr",
     "output_type": "stream",
     "text": [
      "/home/zhengyang/Desktop/Git_resp_limesegment/classifiers/ResNet.py:149: UserWarning: Implicit dimension choice for softmax has been deprecated. Change the call to include dim=X as an argument.\n",
      "  output_layer = self.softmax(output_layer)\n"
     ]
    },
    {
     "data": {
      "application/vnd.jupyter.widget-view+json": {
       "model_id": "430521ef3ca741a8a7f99006991fdd03",
       "version_major": 2,
       "version_minor": 0
      },
      "text/plain": [
       "Lime attribution:   0%|          | 0/25 [00:00<?, ?it/s]"
      ]
     },
     "metadata": {},
     "output_type": "display_data"
    },
    {
     "name": "stderr",
     "output_type": "stream",
     "text": [
      "/home/zhengyang/Desktop/Git_resp_limesegment/classifiers/ResNet.py:149: UserWarning: Implicit dimension choice for softmax has been deprecated. Change the call to include dim=X as an argument.\n",
      "  output_layer = self.softmax(output_layer)\n"
     ]
    },
    {
     "data": {
      "application/vnd.jupyter.widget-view+json": {
       "model_id": "865740bb7c784e85b3b293fb64f00bc1",
       "version_major": 2,
       "version_minor": 0
      },
      "text/plain": [
       "Lime attribution:   0%|          | 0/25 [00:00<?, ?it/s]"
      ]
     },
     "metadata": {},
     "output_type": "display_data"
    },
    {
     "name": "stderr",
     "output_type": "stream",
     "text": [
      "/home/zhengyang/Desktop/Git_resp_limesegment/classifiers/ResNet.py:149: UserWarning: Implicit dimension choice for softmax has been deprecated. Change the call to include dim=X as an argument.\n",
      "  output_layer = self.softmax(output_layer)\n"
     ]
    },
    {
     "data": {
      "application/vnd.jupyter.widget-view+json": {
       "model_id": "724b96e08c9d40aeb11e7c6cdfa1032a",
       "version_major": 2,
       "version_minor": 0
      },
      "text/plain": [
       "Lime attribution:   0%|          | 0/25 [00:00<?, ?it/s]"
      ]
     },
     "metadata": {},
     "output_type": "display_data"
    },
    {
     "name": "stderr",
     "output_type": "stream",
     "text": [
      "/home/zhengyang/Desktop/Git_resp_limesegment/classifiers/ResNet.py:149: UserWarning: Implicit dimension choice for softmax has been deprecated. Change the call to include dim=X as an argument.\n",
      "  output_layer = self.softmax(output_layer)\n"
     ]
    },
    {
     "data": {
      "application/vnd.jupyter.widget-view+json": {
       "model_id": "c2717a5ca9b145ebb7cd9b8dcd6b659c",
       "version_major": 2,
       "version_minor": 0
      },
      "text/plain": [
       "Lime attribution:   0%|          | 0/25 [00:00<?, ?it/s]"
      ]
     },
     "metadata": {},
     "output_type": "display_data"
    },
    {
     "name": "stderr",
     "output_type": "stream",
     "text": [
      "/home/zhengyang/Desktop/Git_resp_limesegment/classifiers/ResNet.py:149: UserWarning: Implicit dimension choice for softmax has been deprecated. Change the call to include dim=X as an argument.\n",
      "  output_layer = self.softmax(output_layer)\n"
     ]
    },
    {
     "data": {
      "application/vnd.jupyter.widget-view+json": {
       "model_id": "f21ab79b7a544691959cda26c2f1dbd5",
       "version_major": 2,
       "version_minor": 0
      },
      "text/plain": [
       "Lime attribution:   0%|          | 0/25 [00:00<?, ?it/s]"
      ]
     },
     "metadata": {},
     "output_type": "display_data"
    },
    {
     "name": "stderr",
     "output_type": "stream",
     "text": [
      "/home/zhengyang/Desktop/Git_resp_limesegment/classifiers/ResNet.py:149: UserWarning: Implicit dimension choice for softmax has been deprecated. Change the call to include dim=X as an argument.\n",
      "  output_layer = self.softmax(output_layer)\n"
     ]
    },
    {
     "data": {
      "application/vnd.jupyter.widget-view+json": {
       "model_id": "aa92f46f540745b38e8603dcc1e84af3",
       "version_major": 2,
       "version_minor": 0
      },
      "text/plain": [
       "Lime attribution:   0%|          | 0/25 [00:00<?, ?it/s]"
      ]
     },
     "metadata": {},
     "output_type": "display_data"
    },
    {
     "name": "stderr",
     "output_type": "stream",
     "text": [
      "/home/zhengyang/Desktop/Git_resp_limesegment/classifiers/ResNet.py:149: UserWarning: Implicit dimension choice for softmax has been deprecated. Change the call to include dim=X as an argument.\n",
      "  output_layer = self.softmax(output_layer)\n"
     ]
    },
    {
     "data": {
      "application/vnd.jupyter.widget-view+json": {
       "model_id": "502d2c3b4e8c4788bb4e0020fd85045a",
       "version_major": 2,
       "version_minor": 0
      },
      "text/plain": [
       "Lime attribution:   0%|          | 0/25 [00:00<?, ?it/s]"
      ]
     },
     "metadata": {},
     "output_type": "display_data"
    },
    {
     "name": "stderr",
     "output_type": "stream",
     "text": [
      "/home/zhengyang/Desktop/Git_resp_limesegment/classifiers/ResNet.py:149: UserWarning: Implicit dimension choice for softmax has been deprecated. Change the call to include dim=X as an argument.\n",
      "  output_layer = self.softmax(output_layer)\n"
     ]
    },
    {
     "data": {
      "application/vnd.jupyter.widget-view+json": {
       "model_id": "2a782900094d4c23b526862fb9052258",
       "version_major": 2,
       "version_minor": 0
      },
      "text/plain": [
       "Lime attribution:   0%|          | 0/25 [00:00<?, ?it/s]"
      ]
     },
     "metadata": {},
     "output_type": "display_data"
    },
    {
     "name": "stderr",
     "output_type": "stream",
     "text": [
      "/home/zhengyang/Desktop/Git_resp_limesegment/classifiers/ResNet.py:149: UserWarning: Implicit dimension choice for softmax has been deprecated. Change the call to include dim=X as an argument.\n",
      "  output_layer = self.softmax(output_layer)\n"
     ]
    },
    {
     "data": {
      "application/vnd.jupyter.widget-view+json": {
       "model_id": "02a29497948e4e0bb56da12407de1abd",
       "version_major": 2,
       "version_minor": 0
      },
      "text/plain": [
       "Lime attribution:   0%|          | 0/25 [00:00<?, ?it/s]"
      ]
     },
     "metadata": {},
     "output_type": "display_data"
    },
    {
     "name": "stderr",
     "output_type": "stream",
     "text": [
      "/home/zhengyang/Desktop/Git_resp_limesegment/classifiers/ResNet.py:149: UserWarning: Implicit dimension choice for softmax has been deprecated. Change the call to include dim=X as an argument.\n",
      "  output_layer = self.softmax(output_layer)\n"
     ]
    },
    {
     "data": {
      "application/vnd.jupyter.widget-view+json": {
       "model_id": "d9bea70c44d64223ae0512fff8fd9354",
       "version_major": 2,
       "version_minor": 0
      },
      "text/plain": [
       "Lime attribution:   0%|          | 0/25 [00:00<?, ?it/s]"
      ]
     },
     "metadata": {},
     "output_type": "display_data"
    },
    {
     "name": "stderr",
     "output_type": "stream",
     "text": [
      "/home/zhengyang/Desktop/Git_resp_limesegment/classifiers/ResNet.py:149: UserWarning: Implicit dimension choice for softmax has been deprecated. Change the call to include dim=X as an argument.\n",
      "  output_layer = self.softmax(output_layer)\n"
     ]
    },
    {
     "data": {
      "application/vnd.jupyter.widget-view+json": {
       "model_id": "5a0836932f054596bbc7a8a6f65cd6a7",
       "version_major": 2,
       "version_minor": 0
      },
      "text/plain": [
       "Lime attribution:   0%|          | 0/25 [00:00<?, ?it/s]"
      ]
     },
     "metadata": {},
     "output_type": "display_data"
    },
    {
     "name": "stderr",
     "output_type": "stream",
     "text": [
      "/home/zhengyang/Desktop/Git_resp_limesegment/classifiers/ResNet.py:149: UserWarning: Implicit dimension choice for softmax has been deprecated. Change the call to include dim=X as an argument.\n",
      "  output_layer = self.softmax(output_layer)\n"
     ]
    },
    {
     "data": {
      "application/vnd.jupyter.widget-view+json": {
       "model_id": "4229a3dd64744141b8e0330e2896e701",
       "version_major": 2,
       "version_minor": 0
      },
      "text/plain": [
       "Lime attribution:   0%|          | 0/25 [00:00<?, ?it/s]"
      ]
     },
     "metadata": {},
     "output_type": "display_data"
    },
    {
     "name": "stderr",
     "output_type": "stream",
     "text": [
      "/home/zhengyang/Desktop/Git_resp_limesegment/classifiers/ResNet.py:149: UserWarning: Implicit dimension choice for softmax has been deprecated. Change the call to include dim=X as an argument.\n",
      "  output_layer = self.softmax(output_layer)\n"
     ]
    },
    {
     "data": {
      "application/vnd.jupyter.widget-view+json": {
       "model_id": "da077c3f651742449d6844994ef95f00",
       "version_major": 2,
       "version_minor": 0
      },
      "text/plain": [
       "Lime attribution:   0%|          | 0/25 [00:00<?, ?it/s]"
      ]
     },
     "metadata": {},
     "output_type": "display_data"
    },
    {
     "name": "stderr",
     "output_type": "stream",
     "text": [
      "/home/zhengyang/Desktop/Git_resp_limesegment/classifiers/ResNet.py:149: UserWarning: Implicit dimension choice for softmax has been deprecated. Change the call to include dim=X as an argument.\n",
      "  output_layer = self.softmax(output_layer)\n"
     ]
    },
    {
     "data": {
      "application/vnd.jupyter.widget-view+json": {
       "model_id": "89390516a5bf43eabd90a7729a0cd78f",
       "version_major": 2,
       "version_minor": 0
      },
      "text/plain": [
       "Lime attribution:   0%|          | 0/25 [00:00<?, ?it/s]"
      ]
     },
     "metadata": {},
     "output_type": "display_data"
    },
    {
     "name": "stderr",
     "output_type": "stream",
     "text": [
      "/home/zhengyang/Desktop/Git_resp_limesegment/classifiers/ResNet.py:149: UserWarning: Implicit dimension choice for softmax has been deprecated. Change the call to include dim=X as an argument.\n",
      "  output_layer = self.softmax(output_layer)\n"
     ]
    },
    {
     "data": {
      "application/vnd.jupyter.widget-view+json": {
       "model_id": "86a154e8ca724a59a05438fba95e648e",
       "version_major": 2,
       "version_minor": 0
      },
      "text/plain": [
       "Lime attribution:   0%|          | 0/25 [00:00<?, ?it/s]"
      ]
     },
     "metadata": {},
     "output_type": "display_data"
    },
    {
     "name": "stderr",
     "output_type": "stream",
     "text": [
      "/home/zhengyang/Desktop/Git_resp_limesegment/classifiers/ResNet.py:149: UserWarning: Implicit dimension choice for softmax has been deprecated. Change the call to include dim=X as an argument.\n",
      "  output_layer = self.softmax(output_layer)\n"
     ]
    },
    {
     "data": {
      "application/vnd.jupyter.widget-view+json": {
       "model_id": "9366c90ead4840cb99fb4fb33b8d6c2b",
       "version_major": 2,
       "version_minor": 0
      },
      "text/plain": [
       "Lime attribution:   0%|          | 0/25 [00:00<?, ?it/s]"
      ]
     },
     "metadata": {},
     "output_type": "display_data"
    },
    {
     "name": "stderr",
     "output_type": "stream",
     "text": [
      "/home/zhengyang/Desktop/Git_resp_limesegment/classifiers/ResNet.py:149: UserWarning: Implicit dimension choice for softmax has been deprecated. Change the call to include dim=X as an argument.\n",
      "  output_layer = self.softmax(output_layer)\n",
      "/home/zhengyang/Desktop/Git_resp_limesegment/classifiers/ResNet.py:149: UserWarning: Implicit dimension choice for softmax has been deprecated. Change the call to include dim=X as an argument.\n",
      "  output_layer = self.softmax(output_layer)\n",
      "/home/zhengyang/anaconda3/envs/env_gait/lib/python3.9/site-packages/captum/attr/_core/lime.py:1115: UserWarning: You are providing multiple inputs for Lime / Kernel SHAP attributions. This trains a separate interpretable model for each example, which can be time consuming. It is recommended to compute attributions for one example at a time.\n",
      "  warnings.warn(\n"
     ]
    },
    {
     "data": {
      "application/vnd.jupyter.widget-view+json": {
       "model_id": "97ea4438a19d4716a20ab00c7add246f",
       "version_major": 2,
       "version_minor": 0
      },
      "text/plain": [
       "Lime attribution:   0%|          | 0/25 [00:00<?, ?it/s]"
      ]
     },
     "metadata": {},
     "output_type": "display_data"
    },
    {
     "data": {
      "application/vnd.jupyter.widget-view+json": {
       "model_id": "d6b4c23bd3014cb69302fc5042d78b11",
       "version_major": 2,
       "version_minor": 0
      },
      "text/plain": [
       "Lime attribution:   0%|          | 0/25 [00:00<?, ?it/s]"
      ]
     },
     "metadata": {},
     "output_type": "display_data"
    },
    {
     "name": "stderr",
     "output_type": "stream",
     "text": [
      "/home/zhengyang/Desktop/Git_resp_limesegment/classifiers/ResNet.py:149: UserWarning: Implicit dimension choice for softmax has been deprecated. Change the call to include dim=X as an argument.\n",
      "  output_layer = self.softmax(output_layer)\n"
     ]
    },
    {
     "data": {
      "application/vnd.jupyter.widget-view+json": {
       "model_id": "a221520397d944769cd749f50e3e2311",
       "version_major": 2,
       "version_minor": 0
      },
      "text/plain": [
       "Lime attribution:   0%|          | 0/25 [00:00<?, ?it/s]"
      ]
     },
     "metadata": {},
     "output_type": "display_data"
    },
    {
     "name": "stderr",
     "output_type": "stream",
     "text": [
      "/home/zhengyang/Desktop/Git_resp_limesegment/classifiers/ResNet.py:149: UserWarning: Implicit dimension choice for softmax has been deprecated. Change the call to include dim=X as an argument.\n",
      "  output_layer = self.softmax(output_layer)\n"
     ]
    },
    {
     "data": {
      "application/vnd.jupyter.widget-view+json": {
       "model_id": "bd0cc373b57749a99b1f56670e970347",
       "version_major": 2,
       "version_minor": 0
      },
      "text/plain": [
       "Lime attribution:   0%|          | 0/25 [00:00<?, ?it/s]"
      ]
     },
     "metadata": {},
     "output_type": "display_data"
    },
    {
     "name": "stderr",
     "output_type": "stream",
     "text": [
      "/home/zhengyang/Desktop/Git_resp_limesegment/classifiers/ResNet.py:149: UserWarning: Implicit dimension choice for softmax has been deprecated. Change the call to include dim=X as an argument.\n",
      "  output_layer = self.softmax(output_layer)\n"
     ]
    },
    {
     "data": {
      "application/vnd.jupyter.widget-view+json": {
       "model_id": "ac09d0bb7e414186a71d113a66576ee3",
       "version_major": 2,
       "version_minor": 0
      },
      "text/plain": [
       "Lime attribution:   0%|          | 0/25 [00:00<?, ?it/s]"
      ]
     },
     "metadata": {},
     "output_type": "display_data"
    },
    {
     "name": "stderr",
     "output_type": "stream",
     "text": [
      "/home/zhengyang/Desktop/Git_resp_limesegment/classifiers/ResNet.py:149: UserWarning: Implicit dimension choice for softmax has been deprecated. Change the call to include dim=X as an argument.\n",
      "  output_layer = self.softmax(output_layer)\n"
     ]
    },
    {
     "data": {
      "application/vnd.jupyter.widget-view+json": {
       "model_id": "cd82f3123c224ef7bde3db7dc27dbd90",
       "version_major": 2,
       "version_minor": 0
      },
      "text/plain": [
       "Lime attribution:   0%|          | 0/25 [00:00<?, ?it/s]"
      ]
     },
     "metadata": {},
     "output_type": "display_data"
    },
    {
     "name": "stderr",
     "output_type": "stream",
     "text": [
      "/home/zhengyang/Desktop/Git_resp_limesegment/classifiers/ResNet.py:149: UserWarning: Implicit dimension choice for softmax has been deprecated. Change the call to include dim=X as an argument.\n",
      "  output_layer = self.softmax(output_layer)\n"
     ]
    },
    {
     "data": {
      "application/vnd.jupyter.widget-view+json": {
       "model_id": "5f1e68ef07c043d5b1c1e72c301b8e93",
       "version_major": 2,
       "version_minor": 0
      },
      "text/plain": [
       "Lime attribution:   0%|          | 0/25 [00:00<?, ?it/s]"
      ]
     },
     "metadata": {},
     "output_type": "display_data"
    },
    {
     "name": "stderr",
     "output_type": "stream",
     "text": [
      "/home/zhengyang/Desktop/Git_resp_limesegment/classifiers/ResNet.py:149: UserWarning: Implicit dimension choice for softmax has been deprecated. Change the call to include dim=X as an argument.\n",
      "  output_layer = self.softmax(output_layer)\n"
     ]
    },
    {
     "data": {
      "application/vnd.jupyter.widget-view+json": {
       "model_id": "6a3ea414724149ed8fa89efdbee806b1",
       "version_major": 2,
       "version_minor": 0
      },
      "text/plain": [
       "Lime attribution:   0%|          | 0/25 [00:00<?, ?it/s]"
      ]
     },
     "metadata": {},
     "output_type": "display_data"
    },
    {
     "name": "stderr",
     "output_type": "stream",
     "text": [
      "/home/zhengyang/Desktop/Git_resp_limesegment/classifiers/ResNet.py:149: UserWarning: Implicit dimension choice for softmax has been deprecated. Change the call to include dim=X as an argument.\n",
      "  output_layer = self.softmax(output_layer)\n"
     ]
    },
    {
     "data": {
      "application/vnd.jupyter.widget-view+json": {
       "model_id": "070e3975de0645d086da1d2da773fd05",
       "version_major": 2,
       "version_minor": 0
      },
      "text/plain": [
       "Lime attribution:   0%|          | 0/25 [00:00<?, ?it/s]"
      ]
     },
     "metadata": {},
     "output_type": "display_data"
    },
    {
     "name": "stderr",
     "output_type": "stream",
     "text": [
      "/home/zhengyang/Desktop/Git_resp_limesegment/classifiers/ResNet.py:149: UserWarning: Implicit dimension choice for softmax has been deprecated. Change the call to include dim=X as an argument.\n",
      "  output_layer = self.softmax(output_layer)\n"
     ]
    },
    {
     "data": {
      "application/vnd.jupyter.widget-view+json": {
       "model_id": "0acc61e187ae49b68b74aaf4c19780db",
       "version_major": 2,
       "version_minor": 0
      },
      "text/plain": [
       "Lime attribution:   0%|          | 0/25 [00:00<?, ?it/s]"
      ]
     },
     "metadata": {},
     "output_type": "display_data"
    },
    {
     "name": "stderr",
     "output_type": "stream",
     "text": [
      "/home/zhengyang/Desktop/Git_resp_limesegment/classifiers/ResNet.py:149: UserWarning: Implicit dimension choice for softmax has been deprecated. Change the call to include dim=X as an argument.\n",
      "  output_layer = self.softmax(output_layer)\n"
     ]
    },
    {
     "data": {
      "application/vnd.jupyter.widget-view+json": {
       "model_id": "b252a4abaddb48dba112f6aa0be32c21",
       "version_major": 2,
       "version_minor": 0
      },
      "text/plain": [
       "Lime attribution:   0%|          | 0/25 [00:00<?, ?it/s]"
      ]
     },
     "metadata": {},
     "output_type": "display_data"
    },
    {
     "name": "stderr",
     "output_type": "stream",
     "text": [
      "/home/zhengyang/Desktop/Git_resp_limesegment/classifiers/ResNet.py:149: UserWarning: Implicit dimension choice for softmax has been deprecated. Change the call to include dim=X as an argument.\n",
      "  output_layer = self.softmax(output_layer)\n"
     ]
    },
    {
     "data": {
      "application/vnd.jupyter.widget-view+json": {
       "model_id": "90af1814e00940d6855e9722d72e5f85",
       "version_major": 2,
       "version_minor": 0
      },
      "text/plain": [
       "Lime attribution:   0%|          | 0/25 [00:00<?, ?it/s]"
      ]
     },
     "metadata": {},
     "output_type": "display_data"
    },
    {
     "name": "stderr",
     "output_type": "stream",
     "text": [
      "/home/zhengyang/Desktop/Git_resp_limesegment/classifiers/ResNet.py:149: UserWarning: Implicit dimension choice for softmax has been deprecated. Change the call to include dim=X as an argument.\n",
      "  output_layer = self.softmax(output_layer)\n"
     ]
    },
    {
     "data": {
      "application/vnd.jupyter.widget-view+json": {
       "model_id": "eca432f163d546b6bc30745816db5a1e",
       "version_major": 2,
       "version_minor": 0
      },
      "text/plain": [
       "Lime attribution:   0%|          | 0/25 [00:00<?, ?it/s]"
      ]
     },
     "metadata": {},
     "output_type": "display_data"
    },
    {
     "name": "stderr",
     "output_type": "stream",
     "text": [
      "/home/zhengyang/Desktop/Git_resp_limesegment/classifiers/ResNet.py:149: UserWarning: Implicit dimension choice for softmax has been deprecated. Change the call to include dim=X as an argument.\n",
      "  output_layer = self.softmax(output_layer)\n"
     ]
    },
    {
     "data": {
      "application/vnd.jupyter.widget-view+json": {
       "model_id": "b3bc0eebf4554160849da93f189bb809",
       "version_major": 2,
       "version_minor": 0
      },
      "text/plain": [
       "Lime attribution:   0%|          | 0/25 [00:00<?, ?it/s]"
      ]
     },
     "metadata": {},
     "output_type": "display_data"
    },
    {
     "name": "stderr",
     "output_type": "stream",
     "text": [
      "/home/zhengyang/Desktop/Git_resp_limesegment/classifiers/ResNet.py:149: UserWarning: Implicit dimension choice for softmax has been deprecated. Change the call to include dim=X as an argument.\n",
      "  output_layer = self.softmax(output_layer)\n"
     ]
    },
    {
     "data": {
      "application/vnd.jupyter.widget-view+json": {
       "model_id": "11802247a5494baba03da50f18e56981",
       "version_major": 2,
       "version_minor": 0
      },
      "text/plain": [
       "Lime attribution:   0%|          | 0/25 [00:00<?, ?it/s]"
      ]
     },
     "metadata": {},
     "output_type": "display_data"
    },
    {
     "name": "stderr",
     "output_type": "stream",
     "text": [
      "/home/zhengyang/Desktop/Git_resp_limesegment/classifiers/ResNet.py:149: UserWarning: Implicit dimension choice for softmax has been deprecated. Change the call to include dim=X as an argument.\n",
      "  output_layer = self.softmax(output_layer)\n"
     ]
    },
    {
     "data": {
      "application/vnd.jupyter.widget-view+json": {
       "model_id": "db2ca0b06da64ebb816d781aa60c810a",
       "version_major": 2,
       "version_minor": 0
      },
      "text/plain": [
       "Lime attribution:   0%|          | 0/25 [00:00<?, ?it/s]"
      ]
     },
     "metadata": {},
     "output_type": "display_data"
    },
    {
     "name": "stderr",
     "output_type": "stream",
     "text": [
      "/home/zhengyang/Desktop/Git_resp_limesegment/classifiers/ResNet.py:149: UserWarning: Implicit dimension choice for softmax has been deprecated. Change the call to include dim=X as an argument.\n",
      "  output_layer = self.softmax(output_layer)\n"
     ]
    },
    {
     "data": {
      "application/vnd.jupyter.widget-view+json": {
       "model_id": "5d2531c8e3d24bf794a7f0b101aac372",
       "version_major": 2,
       "version_minor": 0
      },
      "text/plain": [
       "Lime attribution:   0%|          | 0/25 [00:00<?, ?it/s]"
      ]
     },
     "metadata": {},
     "output_type": "display_data"
    },
    {
     "name": "stderr",
     "output_type": "stream",
     "text": [
      "/home/zhengyang/Desktop/Git_resp_limesegment/classifiers/ResNet.py:149: UserWarning: Implicit dimension choice for softmax has been deprecated. Change the call to include dim=X as an argument.\n",
      "  output_layer = self.softmax(output_layer)\n"
     ]
    },
    {
     "data": {
      "application/vnd.jupyter.widget-view+json": {
       "model_id": "92a5badfc7f94d0a909a6f84f05ee44e",
       "version_major": 2,
       "version_minor": 0
      },
      "text/plain": [
       "Lime attribution:   0%|          | 0/25 [00:00<?, ?it/s]"
      ]
     },
     "metadata": {},
     "output_type": "display_data"
    },
    {
     "name": "stderr",
     "output_type": "stream",
     "text": [
      "/home/zhengyang/Desktop/Git_resp_limesegment/classifiers/ResNet.py:149: UserWarning: Implicit dimension choice for softmax has been deprecated. Change the call to include dim=X as an argument.\n",
      "  output_layer = self.softmax(output_layer)\n"
     ]
    },
    {
     "data": {
      "application/vnd.jupyter.widget-view+json": {
       "model_id": "35dbeab84dba46b0b4fca627657c8367",
       "version_major": 2,
       "version_minor": 0
      },
      "text/plain": [
       "Lime attribution:   0%|          | 0/25 [00:00<?, ?it/s]"
      ]
     },
     "metadata": {},
     "output_type": "display_data"
    },
    {
     "name": "stderr",
     "output_type": "stream",
     "text": [
      "/home/zhengyang/Desktop/Git_resp_limesegment/classifiers/ResNet.py:149: UserWarning: Implicit dimension choice for softmax has been deprecated. Change the call to include dim=X as an argument.\n",
      "  output_layer = self.softmax(output_layer)\n"
     ]
    },
    {
     "data": {
      "application/vnd.jupyter.widget-view+json": {
       "model_id": "ccd84d4920654fa8b34212b79eddb9e9",
       "version_major": 2,
       "version_minor": 0
      },
      "text/plain": [
       "Lime attribution:   0%|          | 0/25 [00:00<?, ?it/s]"
      ]
     },
     "metadata": {},
     "output_type": "display_data"
    },
    {
     "name": "stderr",
     "output_type": "stream",
     "text": [
      "/home/zhengyang/Desktop/Git_resp_limesegment/classifiers/ResNet.py:149: UserWarning: Implicit dimension choice for softmax has been deprecated. Change the call to include dim=X as an argument.\n",
      "  output_layer = self.softmax(output_layer)\n"
     ]
    },
    {
     "data": {
      "application/vnd.jupyter.widget-view+json": {
       "model_id": "dd17a19108834cf7991880a388082eb3",
       "version_major": 2,
       "version_minor": 0
      },
      "text/plain": [
       "Lime attribution:   0%|          | 0/25 [00:00<?, ?it/s]"
      ]
     },
     "metadata": {},
     "output_type": "display_data"
    },
    {
     "name": "stderr",
     "output_type": "stream",
     "text": [
      "/home/zhengyang/Desktop/Git_resp_limesegment/classifiers/ResNet.py:149: UserWarning: Implicit dimension choice for softmax has been deprecated. Change the call to include dim=X as an argument.\n",
      "  output_layer = self.softmax(output_layer)\n"
     ]
    },
    {
     "data": {
      "application/vnd.jupyter.widget-view+json": {
       "model_id": "d8ae74094196452aa4d11639fc90ea9a",
       "version_major": 2,
       "version_minor": 0
      },
      "text/plain": [
       "Lime attribution:   0%|          | 0/25 [00:00<?, ?it/s]"
      ]
     },
     "metadata": {},
     "output_type": "display_data"
    },
    {
     "name": "stderr",
     "output_type": "stream",
     "text": [
      "/home/zhengyang/Desktop/Git_resp_limesegment/classifiers/ResNet.py:149: UserWarning: Implicit dimension choice for softmax has been deprecated. Change the call to include dim=X as an argument.\n",
      "  output_layer = self.softmax(output_layer)\n"
     ]
    },
    {
     "data": {
      "application/vnd.jupyter.widget-view+json": {
       "model_id": "051348ad88d54181ad5dd28c14b866a6",
       "version_major": 2,
       "version_minor": 0
      },
      "text/plain": [
       "Lime attribution:   0%|          | 0/25 [00:00<?, ?it/s]"
      ]
     },
     "metadata": {},
     "output_type": "display_data"
    },
    {
     "name": "stderr",
     "output_type": "stream",
     "text": [
      "/home/zhengyang/Desktop/Git_resp_limesegment/classifiers/ResNet.py:149: UserWarning: Implicit dimension choice for softmax has been deprecated. Change the call to include dim=X as an argument.\n",
      "  output_layer = self.softmax(output_layer)\n"
     ]
    },
    {
     "data": {
      "application/vnd.jupyter.widget-view+json": {
       "model_id": "196f7489d8754b1590012b1653ff4973",
       "version_major": 2,
       "version_minor": 0
      },
      "text/plain": [
       "Lime attribution:   0%|          | 0/25 [00:00<?, ?it/s]"
      ]
     },
     "metadata": {},
     "output_type": "display_data"
    },
    {
     "name": "stderr",
     "output_type": "stream",
     "text": [
      "/home/zhengyang/Desktop/Git_resp_limesegment/classifiers/ResNet.py:149: UserWarning: Implicit dimension choice for softmax has been deprecated. Change the call to include dim=X as an argument.\n",
      "  output_layer = self.softmax(output_layer)\n"
     ]
    },
    {
     "data": {
      "application/vnd.jupyter.widget-view+json": {
       "model_id": "57adfd5d9dbd476fb5046ff984666cea",
       "version_major": 2,
       "version_minor": 0
      },
      "text/plain": [
       "Lime attribution:   0%|          | 0/25 [00:00<?, ?it/s]"
      ]
     },
     "metadata": {},
     "output_type": "display_data"
    },
    {
     "name": "stderr",
     "output_type": "stream",
     "text": [
      "/home/zhengyang/Desktop/Git_resp_limesegment/classifiers/ResNet.py:149: UserWarning: Implicit dimension choice for softmax has been deprecated. Change the call to include dim=X as an argument.\n",
      "  output_layer = self.softmax(output_layer)\n"
     ]
    },
    {
     "data": {
      "application/vnd.jupyter.widget-view+json": {
       "model_id": "5ff338759aeb445b800aebebaae4f989",
       "version_major": 2,
       "version_minor": 0
      },
      "text/plain": [
       "Lime attribution:   0%|          | 0/25 [00:00<?, ?it/s]"
      ]
     },
     "metadata": {},
     "output_type": "display_data"
    },
    {
     "name": "stderr",
     "output_type": "stream",
     "text": [
      "/home/zhengyang/Desktop/Git_resp_limesegment/classifiers/ResNet.py:149: UserWarning: Implicit dimension choice for softmax has been deprecated. Change the call to include dim=X as an argument.\n",
      "  output_layer = self.softmax(output_layer)\n"
     ]
    },
    {
     "data": {
      "application/vnd.jupyter.widget-view+json": {
       "model_id": "aacbd5f82e1a480cb6600847fdf3f4c9",
       "version_major": 2,
       "version_minor": 0
      },
      "text/plain": [
       "Lime attribution:   0%|          | 0/25 [00:00<?, ?it/s]"
      ]
     },
     "metadata": {},
     "output_type": "display_data"
    },
    {
     "name": "stderr",
     "output_type": "stream",
     "text": [
      "/home/zhengyang/Desktop/Git_resp_limesegment/classifiers/ResNet.py:149: UserWarning: Implicit dimension choice for softmax has been deprecated. Change the call to include dim=X as an argument.\n",
      "  output_layer = self.softmax(output_layer)\n"
     ]
    },
    {
     "data": {
      "application/vnd.jupyter.widget-view+json": {
       "model_id": "f6cd63b9bc694505a00609c5e07bb1c6",
       "version_major": 2,
       "version_minor": 0
      },
      "text/plain": [
       "Lime attribution:   0%|          | 0/25 [00:00<?, ?it/s]"
      ]
     },
     "metadata": {},
     "output_type": "display_data"
    },
    {
     "name": "stderr",
     "output_type": "stream",
     "text": [
      "/home/zhengyang/Desktop/Git_resp_limesegment/classifiers/ResNet.py:149: UserWarning: Implicit dimension choice for softmax has been deprecated. Change the call to include dim=X as an argument.\n",
      "  output_layer = self.softmax(output_layer)\n"
     ]
    },
    {
     "data": {
      "application/vnd.jupyter.widget-view+json": {
       "model_id": "99ac2d6996ec405aa1eb4d314deaa26b",
       "version_major": 2,
       "version_minor": 0
      },
      "text/plain": [
       "Lime attribution:   0%|          | 0/25 [00:00<?, ?it/s]"
      ]
     },
     "metadata": {},
     "output_type": "display_data"
    },
    {
     "name": "stderr",
     "output_type": "stream",
     "text": [
      "/home/zhengyang/Desktop/Git_resp_limesegment/classifiers/ResNet.py:149: UserWarning: Implicit dimension choice for softmax has been deprecated. Change the call to include dim=X as an argument.\n",
      "  output_layer = self.softmax(output_layer)\n"
     ]
    },
    {
     "data": {
      "application/vnd.jupyter.widget-view+json": {
       "model_id": "6d86db42c95a44419c27345e5fa902e4",
       "version_major": 2,
       "version_minor": 0
      },
      "text/plain": [
       "Lime attribution:   0%|          | 0/25 [00:00<?, ?it/s]"
      ]
     },
     "metadata": {},
     "output_type": "display_data"
    },
    {
     "name": "stderr",
     "output_type": "stream",
     "text": [
      "/home/zhengyang/Desktop/Git_resp_limesegment/classifiers/ResNet.py:149: UserWarning: Implicit dimension choice for softmax has been deprecated. Change the call to include dim=X as an argument.\n",
      "  output_layer = self.softmax(output_layer)\n"
     ]
    },
    {
     "data": {
      "application/vnd.jupyter.widget-view+json": {
       "model_id": "aa06e2fc668b47f58eef4154dd521cf8",
       "version_major": 2,
       "version_minor": 0
      },
      "text/plain": [
       "Lime attribution:   0%|          | 0/25 [00:00<?, ?it/s]"
      ]
     },
     "metadata": {},
     "output_type": "display_data"
    },
    {
     "name": "stderr",
     "output_type": "stream",
     "text": [
      "/home/zhengyang/Desktop/Git_resp_limesegment/classifiers/ResNet.py:149: UserWarning: Implicit dimension choice for softmax has been deprecated. Change the call to include dim=X as an argument.\n",
      "  output_layer = self.softmax(output_layer)\n"
     ]
    },
    {
     "data": {
      "application/vnd.jupyter.widget-view+json": {
       "model_id": "b68c88a3524d47ffbf3bf0fd98628393",
       "version_major": 2,
       "version_minor": 0
      },
      "text/plain": [
       "Lime attribution:   0%|          | 0/25 [00:00<?, ?it/s]"
      ]
     },
     "metadata": {},
     "output_type": "display_data"
    },
    {
     "name": "stderr",
     "output_type": "stream",
     "text": [
      "/home/zhengyang/Desktop/Git_resp_limesegment/classifiers/ResNet.py:149: UserWarning: Implicit dimension choice for softmax has been deprecated. Change the call to include dim=X as an argument.\n",
      "  output_layer = self.softmax(output_layer)\n"
     ]
    },
    {
     "data": {
      "application/vnd.jupyter.widget-view+json": {
       "model_id": "23f347a5ab4642a098c0db23ce35b853",
       "version_major": 2,
       "version_minor": 0
      },
      "text/plain": [
       "Lime attribution:   0%|          | 0/25 [00:00<?, ?it/s]"
      ]
     },
     "metadata": {},
     "output_type": "display_data"
    },
    {
     "name": "stderr",
     "output_type": "stream",
     "text": [
      "/home/zhengyang/Desktop/Git_resp_limesegment/classifiers/ResNet.py:149: UserWarning: Implicit dimension choice for softmax has been deprecated. Change the call to include dim=X as an argument.\n",
      "  output_layer = self.softmax(output_layer)\n"
     ]
    },
    {
     "data": {
      "application/vnd.jupyter.widget-view+json": {
       "model_id": "4cd10e35161a4b649ec3d94ed3776a77",
       "version_major": 2,
       "version_minor": 0
      },
      "text/plain": [
       "Lime attribution:   0%|          | 0/25 [00:00<?, ?it/s]"
      ]
     },
     "metadata": {},
     "output_type": "display_data"
    },
    {
     "name": "stderr",
     "output_type": "stream",
     "text": [
      "/home/zhengyang/Desktop/Git_resp_limesegment/classifiers/ResNet.py:149: UserWarning: Implicit dimension choice for softmax has been deprecated. Change the call to include dim=X as an argument.\n",
      "  output_layer = self.softmax(output_layer)\n"
     ]
    },
    {
     "data": {
      "application/vnd.jupyter.widget-view+json": {
       "model_id": "4e9b875e63544ec3ae47e5dbb6bd8faa",
       "version_major": 2,
       "version_minor": 0
      },
      "text/plain": [
       "Lime attribution:   0%|          | 0/25 [00:00<?, ?it/s]"
      ]
     },
     "metadata": {},
     "output_type": "display_data"
    },
    {
     "name": "stderr",
     "output_type": "stream",
     "text": [
      "/home/zhengyang/Desktop/Git_resp_limesegment/classifiers/ResNet.py:149: UserWarning: Implicit dimension choice for softmax has been deprecated. Change the call to include dim=X as an argument.\n",
      "  output_layer = self.softmax(output_layer)\n"
     ]
    },
    {
     "data": {
      "application/vnd.jupyter.widget-view+json": {
       "model_id": "dedbe63e12284f98a6406a62e42be67d",
       "version_major": 2,
       "version_minor": 0
      },
      "text/plain": [
       "Lime attribution:   0%|          | 0/25 [00:00<?, ?it/s]"
      ]
     },
     "metadata": {},
     "output_type": "display_data"
    },
    {
     "name": "stderr",
     "output_type": "stream",
     "text": [
      "/home/zhengyang/Desktop/Git_resp_limesegment/classifiers/ResNet.py:149: UserWarning: Implicit dimension choice for softmax has been deprecated. Change the call to include dim=X as an argument.\n",
      "  output_layer = self.softmax(output_layer)\n"
     ]
    },
    {
     "data": {
      "application/vnd.jupyter.widget-view+json": {
       "model_id": "45dc19b0662a4bcb84f1047e7313e40e",
       "version_major": 2,
       "version_minor": 0
      },
      "text/plain": [
       "Lime attribution:   0%|          | 0/25 [00:00<?, ?it/s]"
      ]
     },
     "metadata": {},
     "output_type": "display_data"
    },
    {
     "name": "stderr",
     "output_type": "stream",
     "text": [
      "/home/zhengyang/Desktop/Git_resp_limesegment/classifiers/ResNet.py:149: UserWarning: Implicit dimension choice for softmax has been deprecated. Change the call to include dim=X as an argument.\n",
      "  output_layer = self.softmax(output_layer)\n"
     ]
    },
    {
     "data": {
      "application/vnd.jupyter.widget-view+json": {
       "model_id": "cea39698323b49ec805df202e27498fb",
       "version_major": 2,
       "version_minor": 0
      },
      "text/plain": [
       "Lime attribution:   0%|          | 0/25 [00:00<?, ?it/s]"
      ]
     },
     "metadata": {},
     "output_type": "display_data"
    },
    {
     "name": "stderr",
     "output_type": "stream",
     "text": [
      "/home/zhengyang/Desktop/Git_resp_limesegment/classifiers/ResNet.py:149: UserWarning: Implicit dimension choice for softmax has been deprecated. Change the call to include dim=X as an argument.\n",
      "  output_layer = self.softmax(output_layer)\n"
     ]
    },
    {
     "data": {
      "application/vnd.jupyter.widget-view+json": {
       "model_id": "d8170d7b125f4964af7ce1a1a0d4997f",
       "version_major": 2,
       "version_minor": 0
      },
      "text/plain": [
       "Lime attribution:   0%|          | 0/25 [00:00<?, ?it/s]"
      ]
     },
     "metadata": {},
     "output_type": "display_data"
    },
    {
     "name": "stderr",
     "output_type": "stream",
     "text": [
      "/home/zhengyang/Desktop/Git_resp_limesegment/classifiers/ResNet.py:149: UserWarning: Implicit dimension choice for softmax has been deprecated. Change the call to include dim=X as an argument.\n",
      "  output_layer = self.softmax(output_layer)\n"
     ]
    },
    {
     "data": {
      "application/vnd.jupyter.widget-view+json": {
       "model_id": "20ca2eb378374d9aaf9c0d4a9f34b019",
       "version_major": 2,
       "version_minor": 0
      },
      "text/plain": [
       "Lime attribution:   0%|          | 0/25 [00:00<?, ?it/s]"
      ]
     },
     "metadata": {},
     "output_type": "display_data"
    },
    {
     "name": "stderr",
     "output_type": "stream",
     "text": [
      "/home/zhengyang/Desktop/Git_resp_limesegment/classifiers/ResNet.py:149: UserWarning: Implicit dimension choice for softmax has been deprecated. Change the call to include dim=X as an argument.\n",
      "  output_layer = self.softmax(output_layer)\n"
     ]
    },
    {
     "data": {
      "application/vnd.jupyter.widget-view+json": {
       "model_id": "630d927aa9544804aede6b4541afd6b7",
       "version_major": 2,
       "version_minor": 0
      },
      "text/plain": [
       "Lime attribution:   0%|          | 0/25 [00:00<?, ?it/s]"
      ]
     },
     "metadata": {},
     "output_type": "display_data"
    },
    {
     "name": "stderr",
     "output_type": "stream",
     "text": [
      "/home/zhengyang/Desktop/Git_resp_limesegment/classifiers/ResNet.py:149: UserWarning: Implicit dimension choice for softmax has been deprecated. Change the call to include dim=X as an argument.\n",
      "  output_layer = self.softmax(output_layer)\n"
     ]
    },
    {
     "data": {
      "application/vnd.jupyter.widget-view+json": {
       "model_id": "9d4899c062444f0f9ab26c8ad917883d",
       "version_major": 2,
       "version_minor": 0
      },
      "text/plain": [
       "Lime attribution:   0%|          | 0/25 [00:00<?, ?it/s]"
      ]
     },
     "metadata": {},
     "output_type": "display_data"
    },
    {
     "name": "stderr",
     "output_type": "stream",
     "text": [
      "/home/zhengyang/Desktop/Git_resp_limesegment/classifiers/ResNet.py:149: UserWarning: Implicit dimension choice for softmax has been deprecated. Change the call to include dim=X as an argument.\n",
      "  output_layer = self.softmax(output_layer)\n"
     ]
    },
    {
     "data": {
      "application/vnd.jupyter.widget-view+json": {
       "model_id": "8361364c974a4a13ba6039ab1dac21c7",
       "version_major": 2,
       "version_minor": 0
      },
      "text/plain": [
       "Lime attribution:   0%|          | 0/25 [00:00<?, ?it/s]"
      ]
     },
     "metadata": {},
     "output_type": "display_data"
    },
    {
     "name": "stderr",
     "output_type": "stream",
     "text": [
      "/home/zhengyang/Desktop/Git_resp_limesegment/classifiers/ResNet.py:149: UserWarning: Implicit dimension choice for softmax has been deprecated. Change the call to include dim=X as an argument.\n",
      "  output_layer = self.softmax(output_layer)\n"
     ]
    },
    {
     "data": {
      "application/vnd.jupyter.widget-view+json": {
       "model_id": "40ce8dfb298c49d5a54732b959a44dd5",
       "version_major": 2,
       "version_minor": 0
      },
      "text/plain": [
       "Lime attribution:   0%|          | 0/25 [00:00<?, ?it/s]"
      ]
     },
     "metadata": {},
     "output_type": "display_data"
    },
    {
     "name": "stderr",
     "output_type": "stream",
     "text": [
      "/home/zhengyang/Desktop/Git_resp_limesegment/classifiers/ResNet.py:149: UserWarning: Implicit dimension choice for softmax has been deprecated. Change the call to include dim=X as an argument.\n",
      "  output_layer = self.softmax(output_layer)\n"
     ]
    },
    {
     "data": {
      "application/vnd.jupyter.widget-view+json": {
       "model_id": "baf49333199c4cb4b7ca9b7d74905f55",
       "version_major": 2,
       "version_minor": 0
      },
      "text/plain": [
       "Lime attribution:   0%|          | 0/25 [00:00<?, ?it/s]"
      ]
     },
     "metadata": {},
     "output_type": "display_data"
    },
    {
     "name": "stderr",
     "output_type": "stream",
     "text": [
      "/home/zhengyang/Desktop/Git_resp_limesegment/classifiers/ResNet.py:149: UserWarning: Implicit dimension choice for softmax has been deprecated. Change the call to include dim=X as an argument.\n",
      "  output_layer = self.softmax(output_layer)\n"
     ]
    },
    {
     "data": {
      "application/vnd.jupyter.widget-view+json": {
       "model_id": "8e404b9860dd46ada497314a91f512b1",
       "version_major": 2,
       "version_minor": 0
      },
      "text/plain": [
       "Lime attribution:   0%|          | 0/25 [00:00<?, ?it/s]"
      ]
     },
     "metadata": {},
     "output_type": "display_data"
    },
    {
     "name": "stderr",
     "output_type": "stream",
     "text": [
      "/home/zhengyang/Desktop/Git_resp_limesegment/classifiers/ResNet.py:149: UserWarning: Implicit dimension choice for softmax has been deprecated. Change the call to include dim=X as an argument.\n",
      "  output_layer = self.softmax(output_layer)\n"
     ]
    },
    {
     "data": {
      "application/vnd.jupyter.widget-view+json": {
       "model_id": "9a33f522731647f3b5d3006d05b29de0",
       "version_major": 2,
       "version_minor": 0
      },
      "text/plain": [
       "Lime attribution:   0%|          | 0/25 [00:00<?, ?it/s]"
      ]
     },
     "metadata": {},
     "output_type": "display_data"
    },
    {
     "name": "stderr",
     "output_type": "stream",
     "text": [
      "/home/zhengyang/Desktop/Git_resp_limesegment/classifiers/ResNet.py:149: UserWarning: Implicit dimension choice for softmax has been deprecated. Change the call to include dim=X as an argument.\n",
      "  output_layer = self.softmax(output_layer)\n"
     ]
    },
    {
     "data": {
      "application/vnd.jupyter.widget-view+json": {
       "model_id": "00848bd512f54ae4936bc9fe3638bb85",
       "version_major": 2,
       "version_minor": 0
      },
      "text/plain": [
       "Lime attribution:   0%|          | 0/25 [00:00<?, ?it/s]"
      ]
     },
     "metadata": {},
     "output_type": "display_data"
    },
    {
     "name": "stderr",
     "output_type": "stream",
     "text": [
      "/home/zhengyang/Desktop/Git_resp_limesegment/classifiers/ResNet.py:149: UserWarning: Implicit dimension choice for softmax has been deprecated. Change the call to include dim=X as an argument.\n",
      "  output_layer = self.softmax(output_layer)\n"
     ]
    },
    {
     "data": {
      "application/vnd.jupyter.widget-view+json": {
       "model_id": "c0c5f79ad5f54795b985965dab688922",
       "version_major": 2,
       "version_minor": 0
      },
      "text/plain": [
       "Lime attribution:   0%|          | 0/25 [00:00<?, ?it/s]"
      ]
     },
     "metadata": {},
     "output_type": "display_data"
    },
    {
     "name": "stderr",
     "output_type": "stream",
     "text": [
      "/home/zhengyang/Desktop/Git_resp_limesegment/classifiers/ResNet.py:149: UserWarning: Implicit dimension choice for softmax has been deprecated. Change the call to include dim=X as an argument.\n",
      "  output_layer = self.softmax(output_layer)\n"
     ]
    },
    {
     "data": {
      "application/vnd.jupyter.widget-view+json": {
       "model_id": "a8cd65babb374bd9a87262edb8c23f0a",
       "version_major": 2,
       "version_minor": 0
      },
      "text/plain": [
       "Lime attribution:   0%|          | 0/25 [00:00<?, ?it/s]"
      ]
     },
     "metadata": {},
     "output_type": "display_data"
    },
    {
     "name": "stderr",
     "output_type": "stream",
     "text": [
      "/home/zhengyang/Desktop/Git_resp_limesegment/classifiers/ResNet.py:149: UserWarning: Implicit dimension choice for softmax has been deprecated. Change the call to include dim=X as an argument.\n",
      "  output_layer = self.softmax(output_layer)\n"
     ]
    },
    {
     "data": {
      "application/vnd.jupyter.widget-view+json": {
       "model_id": "94e81bb373b448ebb8a9a52acaf9861d",
       "version_major": 2,
       "version_minor": 0
      },
      "text/plain": [
       "Lime attribution:   0%|          | 0/25 [00:00<?, ?it/s]"
      ]
     },
     "metadata": {},
     "output_type": "display_data"
    },
    {
     "name": "stderr",
     "output_type": "stream",
     "text": [
      "/home/zhengyang/Desktop/Git_resp_limesegment/classifiers/ResNet.py:149: UserWarning: Implicit dimension choice for softmax has been deprecated. Change the call to include dim=X as an argument.\n",
      "  output_layer = self.softmax(output_layer)\n"
     ]
    },
    {
     "data": {
      "application/vnd.jupyter.widget-view+json": {
       "model_id": "c6e82c751a434c34a80766a1c960b2d3",
       "version_major": 2,
       "version_minor": 0
      },
      "text/plain": [
       "Lime attribution:   0%|          | 0/25 [00:00<?, ?it/s]"
      ]
     },
     "metadata": {},
     "output_type": "display_data"
    },
    {
     "name": "stderr",
     "output_type": "stream",
     "text": [
      "/home/zhengyang/Desktop/Git_resp_limesegment/classifiers/ResNet.py:149: UserWarning: Implicit dimension choice for softmax has been deprecated. Change the call to include dim=X as an argument.\n",
      "  output_layer = self.softmax(output_layer)\n"
     ]
    },
    {
     "data": {
      "application/vnd.jupyter.widget-view+json": {
       "model_id": "ad31c581058945bfb8006410378553af",
       "version_major": 2,
       "version_minor": 0
      },
      "text/plain": [
       "Lime attribution:   0%|          | 0/25 [00:00<?, ?it/s]"
      ]
     },
     "metadata": {},
     "output_type": "display_data"
    },
    {
     "name": "stderr",
     "output_type": "stream",
     "text": [
      "/home/zhengyang/Desktop/Git_resp_limesegment/classifiers/ResNet.py:149: UserWarning: Implicit dimension choice for softmax has been deprecated. Change the call to include dim=X as an argument.\n",
      "  output_layer = self.softmax(output_layer)\n"
     ]
    },
    {
     "data": {
      "application/vnd.jupyter.widget-view+json": {
       "model_id": "ded9e39268674664bed3ed84df81bc4f",
       "version_major": 2,
       "version_minor": 0
      },
      "text/plain": [
       "Lime attribution:   0%|          | 0/25 [00:00<?, ?it/s]"
      ]
     },
     "metadata": {},
     "output_type": "display_data"
    },
    {
     "name": "stderr",
     "output_type": "stream",
     "text": [
      "/home/zhengyang/Desktop/Git_resp_limesegment/classifiers/ResNet.py:149: UserWarning: Implicit dimension choice for softmax has been deprecated. Change the call to include dim=X as an argument.\n",
      "  output_layer = self.softmax(output_layer)\n"
     ]
    },
    {
     "data": {
      "application/vnd.jupyter.widget-view+json": {
       "model_id": "6ab99ceeee974211bc8620b7e42c2bca",
       "version_major": 2,
       "version_minor": 0
      },
      "text/plain": [
       "Lime attribution:   0%|          | 0/25 [00:00<?, ?it/s]"
      ]
     },
     "metadata": {},
     "output_type": "display_data"
    },
    {
     "name": "stderr",
     "output_type": "stream",
     "text": [
      "/home/zhengyang/Desktop/Git_resp_limesegment/classifiers/ResNet.py:149: UserWarning: Implicit dimension choice for softmax has been deprecated. Change the call to include dim=X as an argument.\n",
      "  output_layer = self.softmax(output_layer)\n"
     ]
    },
    {
     "data": {
      "application/vnd.jupyter.widget-view+json": {
       "model_id": "8698a351a86141468d6391d9002a94d6",
       "version_major": 2,
       "version_minor": 0
      },
      "text/plain": [
       "Lime attribution:   0%|          | 0/25 [00:00<?, ?it/s]"
      ]
     },
     "metadata": {},
     "output_type": "display_data"
    },
    {
     "name": "stderr",
     "output_type": "stream",
     "text": [
      "/home/zhengyang/Desktop/Git_resp_limesegment/classifiers/ResNet.py:149: UserWarning: Implicit dimension choice for softmax has been deprecated. Change the call to include dim=X as an argument.\n",
      "  output_layer = self.softmax(output_layer)\n"
     ]
    },
    {
     "data": {
      "application/vnd.jupyter.widget-view+json": {
       "model_id": "764e94a67b9f4dfc86adfa86b5684e9b",
       "version_major": 2,
       "version_minor": 0
      },
      "text/plain": [
       "Lime attribution:   0%|          | 0/25 [00:00<?, ?it/s]"
      ]
     },
     "metadata": {},
     "output_type": "display_data"
    },
    {
     "name": "stderr",
     "output_type": "stream",
     "text": [
      "/home/zhengyang/Desktop/Git_resp_limesegment/classifiers/ResNet.py:149: UserWarning: Implicit dimension choice for softmax has been deprecated. Change the call to include dim=X as an argument.\n",
      "  output_layer = self.softmax(output_layer)\n"
     ]
    },
    {
     "data": {
      "application/vnd.jupyter.widget-view+json": {
       "model_id": "901ff3b6f4f1406fbbeec395ddf328e3",
       "version_major": 2,
       "version_minor": 0
      },
      "text/plain": [
       "Lime attribution:   0%|          | 0/25 [00:00<?, ?it/s]"
      ]
     },
     "metadata": {},
     "output_type": "display_data"
    },
    {
     "name": "stderr",
     "output_type": "stream",
     "text": [
      "/home/zhengyang/Desktop/Git_resp_limesegment/classifiers/ResNet.py:149: UserWarning: Implicit dimension choice for softmax has been deprecated. Change the call to include dim=X as an argument.\n",
      "  output_layer = self.softmax(output_layer)\n"
     ]
    },
    {
     "data": {
      "application/vnd.jupyter.widget-view+json": {
       "model_id": "b3bcb32ea39b46778e98a1e171233fd5",
       "version_major": 2,
       "version_minor": 0
      },
      "text/plain": [
       "Lime attribution:   0%|          | 0/25 [00:00<?, ?it/s]"
      ]
     },
     "metadata": {},
     "output_type": "display_data"
    },
    {
     "name": "stderr",
     "output_type": "stream",
     "text": [
      "/home/zhengyang/Desktop/Git_resp_limesegment/classifiers/ResNet.py:149: UserWarning: Implicit dimension choice for softmax has been deprecated. Change the call to include dim=X as an argument.\n",
      "  output_layer = self.softmax(output_layer)\n"
     ]
    },
    {
     "data": {
      "application/vnd.jupyter.widget-view+json": {
       "model_id": "a5c9aa1cda2f45d9b3711ccb0b4c57fc",
       "version_major": 2,
       "version_minor": 0
      },
      "text/plain": [
       "Lime attribution:   0%|          | 0/25 [00:00<?, ?it/s]"
      ]
     },
     "metadata": {},
     "output_type": "display_data"
    },
    {
     "name": "stderr",
     "output_type": "stream",
     "text": [
      "/home/zhengyang/Desktop/Git_resp_limesegment/classifiers/ResNet.py:149: UserWarning: Implicit dimension choice for softmax has been deprecated. Change the call to include dim=X as an argument.\n",
      "  output_layer = self.softmax(output_layer)\n"
     ]
    },
    {
     "data": {
      "application/vnd.jupyter.widget-view+json": {
       "model_id": "209728533f754850be4dfd8bdfe77bf2",
       "version_major": 2,
       "version_minor": 0
      },
      "text/plain": [
       "Lime attribution:   0%|          | 0/25 [00:00<?, ?it/s]"
      ]
     },
     "metadata": {},
     "output_type": "display_data"
    },
    {
     "name": "stderr",
     "output_type": "stream",
     "text": [
      "/home/zhengyang/Desktop/Git_resp_limesegment/classifiers/ResNet.py:149: UserWarning: Implicit dimension choice for softmax has been deprecated. Change the call to include dim=X as an argument.\n",
      "  output_layer = self.softmax(output_layer)\n"
     ]
    },
    {
     "data": {
      "application/vnd.jupyter.widget-view+json": {
       "model_id": "43fa4bf20eab45c4a0bf1902e6ed26ec",
       "version_major": 2,
       "version_minor": 0
      },
      "text/plain": [
       "Lime attribution:   0%|          | 0/25 [00:00<?, ?it/s]"
      ]
     },
     "metadata": {},
     "output_type": "display_data"
    },
    {
     "name": "stderr",
     "output_type": "stream",
     "text": [
      "/home/zhengyang/Desktop/Git_resp_limesegment/classifiers/ResNet.py:149: UserWarning: Implicit dimension choice for softmax has been deprecated. Change the call to include dim=X as an argument.\n",
      "  output_layer = self.softmax(output_layer)\n"
     ]
    },
    {
     "data": {
      "application/vnd.jupyter.widget-view+json": {
       "model_id": "5606e222154243bfb3aeda441233db47",
       "version_major": 2,
       "version_minor": 0
      },
      "text/plain": [
       "Lime attribution:   0%|          | 0/25 [00:00<?, ?it/s]"
      ]
     },
     "metadata": {},
     "output_type": "display_data"
    },
    {
     "name": "stderr",
     "output_type": "stream",
     "text": [
      "/home/zhengyang/Desktop/Git_resp_limesegment/classifiers/ResNet.py:149: UserWarning: Implicit dimension choice for softmax has been deprecated. Change the call to include dim=X as an argument.\n",
      "  output_layer = self.softmax(output_layer)\n"
     ]
    },
    {
     "data": {
      "application/vnd.jupyter.widget-view+json": {
       "model_id": "06ba2da50c8b4a8d82fe4fa7b9b1c9cb",
       "version_major": 2,
       "version_minor": 0
      },
      "text/plain": [
       "Lime attribution:   0%|          | 0/25 [00:00<?, ?it/s]"
      ]
     },
     "metadata": {},
     "output_type": "display_data"
    },
    {
     "name": "stderr",
     "output_type": "stream",
     "text": [
      "/home/zhengyang/Desktop/Git_resp_limesegment/classifiers/ResNet.py:149: UserWarning: Implicit dimension choice for softmax has been deprecated. Change the call to include dim=X as an argument.\n",
      "  output_layer = self.softmax(output_layer)\n"
     ]
    },
    {
     "data": {
      "application/vnd.jupyter.widget-view+json": {
       "model_id": "5c84f36ab4894150935758470a8307a1",
       "version_major": 2,
       "version_minor": 0
      },
      "text/plain": [
       "Lime attribution:   0%|          | 0/25 [00:00<?, ?it/s]"
      ]
     },
     "metadata": {},
     "output_type": "display_data"
    },
    {
     "name": "stderr",
     "output_type": "stream",
     "text": [
      "/home/zhengyang/Desktop/Git_resp_limesegment/classifiers/ResNet.py:149: UserWarning: Implicit dimension choice for softmax has been deprecated. Change the call to include dim=X as an argument.\n",
      "  output_layer = self.softmax(output_layer)\n"
     ]
    },
    {
     "data": {
      "application/vnd.jupyter.widget-view+json": {
       "model_id": "84b104fd4a934016af8ac069f66f4245",
       "version_major": 2,
       "version_minor": 0
      },
      "text/plain": [
       "Lime attribution:   0%|          | 0/25 [00:00<?, ?it/s]"
      ]
     },
     "metadata": {},
     "output_type": "display_data"
    },
    {
     "name": "stderr",
     "output_type": "stream",
     "text": [
      "/home/zhengyang/Desktop/Git_resp_limesegment/classifiers/ResNet.py:149: UserWarning: Implicit dimension choice for softmax has been deprecated. Change the call to include dim=X as an argument.\n",
      "  output_layer = self.softmax(output_layer)\n"
     ]
    },
    {
     "data": {
      "application/vnd.jupyter.widget-view+json": {
       "model_id": "6e50ab22336d4efeaa41b8e5cdd59fdd",
       "version_major": 2,
       "version_minor": 0
      },
      "text/plain": [
       "Lime attribution:   0%|          | 0/25 [00:00<?, ?it/s]"
      ]
     },
     "metadata": {},
     "output_type": "display_data"
    },
    {
     "name": "stderr",
     "output_type": "stream",
     "text": [
      "/home/zhengyang/Desktop/Git_resp_limesegment/classifiers/ResNet.py:149: UserWarning: Implicit dimension choice for softmax has been deprecated. Change the call to include dim=X as an argument.\n",
      "  output_layer = self.softmax(output_layer)\n"
     ]
    },
    {
     "data": {
      "application/vnd.jupyter.widget-view+json": {
       "model_id": "7f1f219b1bb3421d85499b190dfdfe6e",
       "version_major": 2,
       "version_minor": 0
      },
      "text/plain": [
       "Lime attribution:   0%|          | 0/25 [00:00<?, ?it/s]"
      ]
     },
     "metadata": {},
     "output_type": "display_data"
    },
    {
     "name": "stderr",
     "output_type": "stream",
     "text": [
      "/home/zhengyang/Desktop/Git_resp_limesegment/classifiers/ResNet.py:149: UserWarning: Implicit dimension choice for softmax has been deprecated. Change the call to include dim=X as an argument.\n",
      "  output_layer = self.softmax(output_layer)\n"
     ]
    },
    {
     "data": {
      "application/vnd.jupyter.widget-view+json": {
       "model_id": "f62ba7b9b78e4a298d2573e9b48a8892",
       "version_major": 2,
       "version_minor": 0
      },
      "text/plain": [
       "Lime attribution:   0%|          | 0/25 [00:00<?, ?it/s]"
      ]
     },
     "metadata": {},
     "output_type": "display_data"
    },
    {
     "name": "stderr",
     "output_type": "stream",
     "text": [
      "/home/zhengyang/Desktop/Git_resp_limesegment/classifiers/ResNet.py:149: UserWarning: Implicit dimension choice for softmax has been deprecated. Change the call to include dim=X as an argument.\n",
      "  output_layer = self.softmax(output_layer)\n"
     ]
    },
    {
     "data": {
      "application/vnd.jupyter.widget-view+json": {
       "model_id": "121e321610134d77b8edb52327633fcf",
       "version_major": 2,
       "version_minor": 0
      },
      "text/plain": [
       "Lime attribution:   0%|          | 0/25 [00:00<?, ?it/s]"
      ]
     },
     "metadata": {},
     "output_type": "display_data"
    },
    {
     "name": "stderr",
     "output_type": "stream",
     "text": [
      "/home/zhengyang/Desktop/Git_resp_limesegment/classifiers/ResNet.py:149: UserWarning: Implicit dimension choice for softmax has been deprecated. Change the call to include dim=X as an argument.\n",
      "  output_layer = self.softmax(output_layer)\n"
     ]
    },
    {
     "data": {
      "application/vnd.jupyter.widget-view+json": {
       "model_id": "b05ecd371968435f83cda65c3564227d",
       "version_major": 2,
       "version_minor": 0
      },
      "text/plain": [
       "Lime attribution:   0%|          | 0/25 [00:00<?, ?it/s]"
      ]
     },
     "metadata": {},
     "output_type": "display_data"
    },
    {
     "name": "stderr",
     "output_type": "stream",
     "text": [
      "/home/zhengyang/Desktop/Git_resp_limesegment/classifiers/ResNet.py:149: UserWarning: Implicit dimension choice for softmax has been deprecated. Change the call to include dim=X as an argument.\n",
      "  output_layer = self.softmax(output_layer)\n"
     ]
    },
    {
     "data": {
      "application/vnd.jupyter.widget-view+json": {
       "model_id": "3c2a9747460a4e678d8102af2a4e57a1",
       "version_major": 2,
       "version_minor": 0
      },
      "text/plain": [
       "Lime attribution:   0%|          | 0/25 [00:00<?, ?it/s]"
      ]
     },
     "metadata": {},
     "output_type": "display_data"
    },
    {
     "name": "stderr",
     "output_type": "stream",
     "text": [
      "/home/zhengyang/Desktop/Git_resp_limesegment/classifiers/ResNet.py:149: UserWarning: Implicit dimension choice for softmax has been deprecated. Change the call to include dim=X as an argument.\n",
      "  output_layer = self.softmax(output_layer)\n"
     ]
    },
    {
     "data": {
      "application/vnd.jupyter.widget-view+json": {
       "model_id": "c7e5657826e647039b32c71867fc0911",
       "version_major": 2,
       "version_minor": 0
      },
      "text/plain": [
       "Lime attribution:   0%|          | 0/25 [00:00<?, ?it/s]"
      ]
     },
     "metadata": {},
     "output_type": "display_data"
    },
    {
     "name": "stderr",
     "output_type": "stream",
     "text": [
      "/home/zhengyang/Desktop/Git_resp_limesegment/classifiers/ResNet.py:149: UserWarning: Implicit dimension choice for softmax has been deprecated. Change the call to include dim=X as an argument.\n",
      "  output_layer = self.softmax(output_layer)\n"
     ]
    },
    {
     "data": {
      "application/vnd.jupyter.widget-view+json": {
       "model_id": "5147c4f1b423406bb002ef04eed86eb9",
       "version_major": 2,
       "version_minor": 0
      },
      "text/plain": [
       "Lime attribution:   0%|          | 0/25 [00:00<?, ?it/s]"
      ]
     },
     "metadata": {},
     "output_type": "display_data"
    },
    {
     "name": "stderr",
     "output_type": "stream",
     "text": [
      "/home/zhengyang/Desktop/Git_resp_limesegment/classifiers/ResNet.py:149: UserWarning: Implicit dimension choice for softmax has been deprecated. Change the call to include dim=X as an argument.\n",
      "  output_layer = self.softmax(output_layer)\n"
     ]
    },
    {
     "data": {
      "application/vnd.jupyter.widget-view+json": {
       "model_id": "8d277276eb6c431fbcfee253a0dde0b7",
       "version_major": 2,
       "version_minor": 0
      },
      "text/plain": [
       "Lime attribution:   0%|          | 0/25 [00:00<?, ?it/s]"
      ]
     },
     "metadata": {},
     "output_type": "display_data"
    },
    {
     "name": "stderr",
     "output_type": "stream",
     "text": [
      "/home/zhengyang/Desktop/Git_resp_limesegment/classifiers/ResNet.py:149: UserWarning: Implicit dimension choice for softmax has been deprecated. Change the call to include dim=X as an argument.\n",
      "  output_layer = self.softmax(output_layer)\n"
     ]
    },
    {
     "data": {
      "application/vnd.jupyter.widget-view+json": {
       "model_id": "10c3a55fc16348c88c89891f6c3c8abf",
       "version_major": 2,
       "version_minor": 0
      },
      "text/plain": [
       "Lime attribution:   0%|          | 0/25 [00:00<?, ?it/s]"
      ]
     },
     "metadata": {},
     "output_type": "display_data"
    },
    {
     "name": "stderr",
     "output_type": "stream",
     "text": [
      "/home/zhengyang/Desktop/Git_resp_limesegment/classifiers/ResNet.py:149: UserWarning: Implicit dimension choice for softmax has been deprecated. Change the call to include dim=X as an argument.\n",
      "  output_layer = self.softmax(output_layer)\n"
     ]
    },
    {
     "data": {
      "application/vnd.jupyter.widget-view+json": {
       "model_id": "d662e8ee01d949d28cac201229494327",
       "version_major": 2,
       "version_minor": 0
      },
      "text/plain": [
       "Lime attribution:   0%|          | 0/25 [00:00<?, ?it/s]"
      ]
     },
     "metadata": {},
     "output_type": "display_data"
    },
    {
     "name": "stderr",
     "output_type": "stream",
     "text": [
      "/home/zhengyang/Desktop/Git_resp_limesegment/classifiers/ResNet.py:149: UserWarning: Implicit dimension choice for softmax has been deprecated. Change the call to include dim=X as an argument.\n",
      "  output_layer = self.softmax(output_layer)\n"
     ]
    },
    {
     "data": {
      "application/vnd.jupyter.widget-view+json": {
       "model_id": "5641342dfe8d4671a69c1ca56d9b34ab",
       "version_major": 2,
       "version_minor": 0
      },
      "text/plain": [
       "Lime attribution:   0%|          | 0/25 [00:00<?, ?it/s]"
      ]
     },
     "metadata": {},
     "output_type": "display_data"
    },
    {
     "name": "stderr",
     "output_type": "stream",
     "text": [
      "/home/zhengyang/Desktop/Git_resp_limesegment/classifiers/ResNet.py:149: UserWarning: Implicit dimension choice for softmax has been deprecated. Change the call to include dim=X as an argument.\n",
      "  output_layer = self.softmax(output_layer)\n"
     ]
    },
    {
     "data": {
      "application/vnd.jupyter.widget-view+json": {
       "model_id": "e522abcc14e5424f82a100b27f88e8dc",
       "version_major": 2,
       "version_minor": 0
      },
      "text/plain": [
       "Lime attribution:   0%|          | 0/25 [00:00<?, ?it/s]"
      ]
     },
     "metadata": {},
     "output_type": "display_data"
    },
    {
     "name": "stderr",
     "output_type": "stream",
     "text": [
      "/home/zhengyang/Desktop/Git_resp_limesegment/classifiers/ResNet.py:149: UserWarning: Implicit dimension choice for softmax has been deprecated. Change the call to include dim=X as an argument.\n",
      "  output_layer = self.softmax(output_layer)\n"
     ]
    },
    {
     "data": {
      "application/vnd.jupyter.widget-view+json": {
       "model_id": "f020e98eb0bb4e569b460e818326d24c",
       "version_major": 2,
       "version_minor": 0
      },
      "text/plain": [
       "Lime attribution:   0%|          | 0/25 [00:00<?, ?it/s]"
      ]
     },
     "metadata": {},
     "output_type": "display_data"
    },
    {
     "name": "stderr",
     "output_type": "stream",
     "text": [
      "/home/zhengyang/Desktop/Git_resp_limesegment/classifiers/ResNet.py:149: UserWarning: Implicit dimension choice for softmax has been deprecated. Change the call to include dim=X as an argument.\n",
      "  output_layer = self.softmax(output_layer)\n"
     ]
    },
    {
     "data": {
      "application/vnd.jupyter.widget-view+json": {
       "model_id": "3da09ded5f29475eacb5e7929b36755e",
       "version_major": 2,
       "version_minor": 0
      },
      "text/plain": [
       "Lime attribution:   0%|          | 0/25 [00:00<?, ?it/s]"
      ]
     },
     "metadata": {},
     "output_type": "display_data"
    },
    {
     "name": "stderr",
     "output_type": "stream",
     "text": [
      "/home/zhengyang/Desktop/Git_resp_limesegment/classifiers/ResNet.py:149: UserWarning: Implicit dimension choice for softmax has been deprecated. Change the call to include dim=X as an argument.\n",
      "  output_layer = self.softmax(output_layer)\n"
     ]
    },
    {
     "data": {
      "application/vnd.jupyter.widget-view+json": {
       "model_id": "6d7e8f5edbd84d35892389d90e7722ca",
       "version_major": 2,
       "version_minor": 0
      },
      "text/plain": [
       "Lime attribution:   0%|          | 0/25 [00:00<?, ?it/s]"
      ]
     },
     "metadata": {},
     "output_type": "display_data"
    },
    {
     "name": "stderr",
     "output_type": "stream",
     "text": [
      "/home/zhengyang/Desktop/Git_resp_limesegment/classifiers/ResNet.py:149: UserWarning: Implicit dimension choice for softmax has been deprecated. Change the call to include dim=X as an argument.\n",
      "  output_layer = self.softmax(output_layer)\n"
     ]
    },
    {
     "data": {
      "application/vnd.jupyter.widget-view+json": {
       "model_id": "2614fd93631642e799fba508d3fe0a70",
       "version_major": 2,
       "version_minor": 0
      },
      "text/plain": [
       "Lime attribution:   0%|          | 0/25 [00:00<?, ?it/s]"
      ]
     },
     "metadata": {},
     "output_type": "display_data"
    },
    {
     "name": "stderr",
     "output_type": "stream",
     "text": [
      "/home/zhengyang/Desktop/Git_resp_limesegment/classifiers/ResNet.py:149: UserWarning: Implicit dimension choice for softmax has been deprecated. Change the call to include dim=X as an argument.\n",
      "  output_layer = self.softmax(output_layer)\n"
     ]
    },
    {
     "data": {
      "application/vnd.jupyter.widget-view+json": {
       "model_id": "7109b6ff48864787b8e271fbe87023e6",
       "version_major": 2,
       "version_minor": 0
      },
      "text/plain": [
       "Lime attribution:   0%|          | 0/25 [00:00<?, ?it/s]"
      ]
     },
     "metadata": {},
     "output_type": "display_data"
    },
    {
     "name": "stderr",
     "output_type": "stream",
     "text": [
      "/home/zhengyang/Desktop/Git_resp_limesegment/classifiers/ResNet.py:149: UserWarning: Implicit dimension choice for softmax has been deprecated. Change the call to include dim=X as an argument.\n",
      "  output_layer = self.softmax(output_layer)\n"
     ]
    },
    {
     "data": {
      "application/vnd.jupyter.widget-view+json": {
       "model_id": "2b552f016ec84f5f8b1bc9eff5374415",
       "version_major": 2,
       "version_minor": 0
      },
      "text/plain": [
       "Lime attribution:   0%|          | 0/25 [00:00<?, ?it/s]"
      ]
     },
     "metadata": {},
     "output_type": "display_data"
    },
    {
     "name": "stderr",
     "output_type": "stream",
     "text": [
      "/home/zhengyang/Desktop/Git_resp_limesegment/classifiers/ResNet.py:149: UserWarning: Implicit dimension choice for softmax has been deprecated. Change the call to include dim=X as an argument.\n",
      "  output_layer = self.softmax(output_layer)\n"
     ]
    },
    {
     "data": {
      "application/vnd.jupyter.widget-view+json": {
       "model_id": "a6a1b89d1809476d97bc15714c568d52",
       "version_major": 2,
       "version_minor": 0
      },
      "text/plain": [
       "Lime attribution:   0%|          | 0/25 [00:00<?, ?it/s]"
      ]
     },
     "metadata": {},
     "output_type": "display_data"
    },
    {
     "name": "stderr",
     "output_type": "stream",
     "text": [
      "/home/zhengyang/Desktop/Git_resp_limesegment/classifiers/ResNet.py:149: UserWarning: Implicit dimension choice for softmax has been deprecated. Change the call to include dim=X as an argument.\n",
      "  output_layer = self.softmax(output_layer)\n"
     ]
    },
    {
     "data": {
      "application/vnd.jupyter.widget-view+json": {
       "model_id": "cae6dca0e4ca47e2acfd3aeec7329aa4",
       "version_major": 2,
       "version_minor": 0
      },
      "text/plain": [
       "Lime attribution:   0%|          | 0/25 [00:00<?, ?it/s]"
      ]
     },
     "metadata": {},
     "output_type": "display_data"
    },
    {
     "name": "stderr",
     "output_type": "stream",
     "text": [
      "/home/zhengyang/Desktop/Git_resp_limesegment/classifiers/ResNet.py:149: UserWarning: Implicit dimension choice for softmax has been deprecated. Change the call to include dim=X as an argument.\n",
      "  output_layer = self.softmax(output_layer)\n"
     ]
    },
    {
     "data": {
      "application/vnd.jupyter.widget-view+json": {
       "model_id": "ca8cf5ce7d0f40d4af1d373289723373",
       "version_major": 2,
       "version_minor": 0
      },
      "text/plain": [
       "Lime attribution:   0%|          | 0/25 [00:00<?, ?it/s]"
      ]
     },
     "metadata": {},
     "output_type": "display_data"
    },
    {
     "name": "stderr",
     "output_type": "stream",
     "text": [
      "/home/zhengyang/Desktop/Git_resp_limesegment/classifiers/ResNet.py:149: UserWarning: Implicit dimension choice for softmax has been deprecated. Change the call to include dim=X as an argument.\n",
      "  output_layer = self.softmax(output_layer)\n"
     ]
    },
    {
     "data": {
      "application/vnd.jupyter.widget-view+json": {
       "model_id": "bc86da397df74e9cbf93c4d1ba1b9077",
       "version_major": 2,
       "version_minor": 0
      },
      "text/plain": [
       "Lime attribution:   0%|          | 0/25 [00:00<?, ?it/s]"
      ]
     },
     "metadata": {},
     "output_type": "display_data"
    },
    {
     "name": "stderr",
     "output_type": "stream",
     "text": [
      "/home/zhengyang/Desktop/Git_resp_limesegment/classifiers/ResNet.py:149: UserWarning: Implicit dimension choice for softmax has been deprecated. Change the call to include dim=X as an argument.\n",
      "  output_layer = self.softmax(output_layer)\n"
     ]
    },
    {
     "data": {
      "application/vnd.jupyter.widget-view+json": {
       "model_id": "b4d28dc1153b409b94e2f385c1f74f11",
       "version_major": 2,
       "version_minor": 0
      },
      "text/plain": [
       "Lime attribution:   0%|          | 0/25 [00:00<?, ?it/s]"
      ]
     },
     "metadata": {},
     "output_type": "display_data"
    },
    {
     "name": "stderr",
     "output_type": "stream",
     "text": [
      "/home/zhengyang/Desktop/Git_resp_limesegment/classifiers/ResNet.py:149: UserWarning: Implicit dimension choice for softmax has been deprecated. Change the call to include dim=X as an argument.\n",
      "  output_layer = self.softmax(output_layer)\n"
     ]
    },
    {
     "data": {
      "application/vnd.jupyter.widget-view+json": {
       "model_id": "940f1d1c7fae413e99a19924fe0b529e",
       "version_major": 2,
       "version_minor": 0
      },
      "text/plain": [
       "Lime attribution:   0%|          | 0/25 [00:00<?, ?it/s]"
      ]
     },
     "metadata": {},
     "output_type": "display_data"
    },
    {
     "name": "stderr",
     "output_type": "stream",
     "text": [
      "/home/zhengyang/Desktop/Git_resp_limesegment/classifiers/ResNet.py:149: UserWarning: Implicit dimension choice for softmax has been deprecated. Change the call to include dim=X as an argument.\n",
      "  output_layer = self.softmax(output_layer)\n"
     ]
    },
    {
     "data": {
      "application/vnd.jupyter.widget-view+json": {
       "model_id": "56da3fe1c1b2482688f3a858db0c0ee2",
       "version_major": 2,
       "version_minor": 0
      },
      "text/plain": [
       "Lime attribution:   0%|          | 0/25 [00:00<?, ?it/s]"
      ]
     },
     "metadata": {},
     "output_type": "display_data"
    },
    {
     "name": "stderr",
     "output_type": "stream",
     "text": [
      "/home/zhengyang/Desktop/Git_resp_limesegment/classifiers/ResNet.py:149: UserWarning: Implicit dimension choice for softmax has been deprecated. Change the call to include dim=X as an argument.\n",
      "  output_layer = self.softmax(output_layer)\n"
     ]
    },
    {
     "data": {
      "application/vnd.jupyter.widget-view+json": {
       "model_id": "7c5241bd13b84913ab8002ef3b0daa05",
       "version_major": 2,
       "version_minor": 0
      },
      "text/plain": [
       "Lime attribution:   0%|          | 0/25 [00:00<?, ?it/s]"
      ]
     },
     "metadata": {},
     "output_type": "display_data"
    },
    {
     "name": "stderr",
     "output_type": "stream",
     "text": [
      "/home/zhengyang/Desktop/Git_resp_limesegment/classifiers/ResNet.py:149: UserWarning: Implicit dimension choice for softmax has been deprecated. Change the call to include dim=X as an argument.\n",
      "  output_layer = self.softmax(output_layer)\n"
     ]
    },
    {
     "data": {
      "application/vnd.jupyter.widget-view+json": {
       "model_id": "ae067ea045464b18a697779e439dd592",
       "version_major": 2,
       "version_minor": 0
      },
      "text/plain": [
       "Lime attribution:   0%|          | 0/25 [00:00<?, ?it/s]"
      ]
     },
     "metadata": {},
     "output_type": "display_data"
    },
    {
     "name": "stderr",
     "output_type": "stream",
     "text": [
      "/home/zhengyang/Desktop/Git_resp_limesegment/classifiers/ResNet.py:149: UserWarning: Implicit dimension choice for softmax has been deprecated. Change the call to include dim=X as an argument.\n",
      "  output_layer = self.softmax(output_layer)\n"
     ]
    },
    {
     "data": {
      "application/vnd.jupyter.widget-view+json": {
       "model_id": "bdbe35911288474eafe9c64d85980b84",
       "version_major": 2,
       "version_minor": 0
      },
      "text/plain": [
       "Lime attribution:   0%|          | 0/25 [00:00<?, ?it/s]"
      ]
     },
     "metadata": {},
     "output_type": "display_data"
    },
    {
     "name": "stderr",
     "output_type": "stream",
     "text": [
      "/home/zhengyang/Desktop/Git_resp_limesegment/classifiers/ResNet.py:149: UserWarning: Implicit dimension choice for softmax has been deprecated. Change the call to include dim=X as an argument.\n",
      "  output_layer = self.softmax(output_layer)\n"
     ]
    },
    {
     "data": {
      "application/vnd.jupyter.widget-view+json": {
       "model_id": "c634f488ea7e43f992c1763ef323af26",
       "version_major": 2,
       "version_minor": 0
      },
      "text/plain": [
       "Lime attribution:   0%|          | 0/25 [00:00<?, ?it/s]"
      ]
     },
     "metadata": {},
     "output_type": "display_data"
    },
    {
     "name": "stderr",
     "output_type": "stream",
     "text": [
      "/home/zhengyang/Desktop/Git_resp_limesegment/classifiers/ResNet.py:149: UserWarning: Implicit dimension choice for softmax has been deprecated. Change the call to include dim=X as an argument.\n",
      "  output_layer = self.softmax(output_layer)\n"
     ]
    },
    {
     "data": {
      "application/vnd.jupyter.widget-view+json": {
       "model_id": "1da2b0427dee4ba89f0f22649ab5dfbd",
       "version_major": 2,
       "version_minor": 0
      },
      "text/plain": [
       "Lime attribution:   0%|          | 0/25 [00:00<?, ?it/s]"
      ]
     },
     "metadata": {},
     "output_type": "display_data"
    },
    {
     "name": "stderr",
     "output_type": "stream",
     "text": [
      "/home/zhengyang/Desktop/Git_resp_limesegment/classifiers/ResNet.py:149: UserWarning: Implicit dimension choice for softmax has been deprecated. Change the call to include dim=X as an argument.\n",
      "  output_layer = self.softmax(output_layer)\n"
     ]
    },
    {
     "data": {
      "application/vnd.jupyter.widget-view+json": {
       "model_id": "55bf6c651547496f9fde79ea74f9b615",
       "version_major": 2,
       "version_minor": 0
      },
      "text/plain": [
       "Lime attribution:   0%|          | 0/25 [00:00<?, ?it/s]"
      ]
     },
     "metadata": {},
     "output_type": "display_data"
    },
    {
     "name": "stderr",
     "output_type": "stream",
     "text": [
      "/home/zhengyang/Desktop/Git_resp_limesegment/classifiers/ResNet.py:149: UserWarning: Implicit dimension choice for softmax has been deprecated. Change the call to include dim=X as an argument.\n",
      "  output_layer = self.softmax(output_layer)\n"
     ]
    },
    {
     "data": {
      "application/vnd.jupyter.widget-view+json": {
       "model_id": "1af0747e928a41fba6488eac1dd024db",
       "version_major": 2,
       "version_minor": 0
      },
      "text/plain": [
       "Lime attribution:   0%|          | 0/25 [00:00<?, ?it/s]"
      ]
     },
     "metadata": {},
     "output_type": "display_data"
    },
    {
     "name": "stderr",
     "output_type": "stream",
     "text": [
      "/home/zhengyang/Desktop/Git_resp_limesegment/classifiers/ResNet.py:149: UserWarning: Implicit dimension choice for softmax has been deprecated. Change the call to include dim=X as an argument.\n",
      "  output_layer = self.softmax(output_layer)\n"
     ]
    },
    {
     "data": {
      "application/vnd.jupyter.widget-view+json": {
       "model_id": "466296e24188476ebc5e9072c9e08d03",
       "version_major": 2,
       "version_minor": 0
      },
      "text/plain": [
       "Lime attribution:   0%|          | 0/25 [00:00<?, ?it/s]"
      ]
     },
     "metadata": {},
     "output_type": "display_data"
    },
    {
     "name": "stderr",
     "output_type": "stream",
     "text": [
      "/home/zhengyang/Desktop/Git_resp_limesegment/classifiers/ResNet.py:149: UserWarning: Implicit dimension choice for softmax has been deprecated. Change the call to include dim=X as an argument.\n",
      "  output_layer = self.softmax(output_layer)\n"
     ]
    },
    {
     "data": {
      "application/vnd.jupyter.widget-view+json": {
       "model_id": "111414c87f3245fabf5479f53e5c87b2",
       "version_major": 2,
       "version_minor": 0
      },
      "text/plain": [
       "Lime attribution:   0%|          | 0/25 [00:00<?, ?it/s]"
      ]
     },
     "metadata": {},
     "output_type": "display_data"
    },
    {
     "name": "stderr",
     "output_type": "stream",
     "text": [
      "/home/zhengyang/Desktop/Git_resp_limesegment/classifiers/ResNet.py:149: UserWarning: Implicit dimension choice for softmax has been deprecated. Change the call to include dim=X as an argument.\n",
      "  output_layer = self.softmax(output_layer)\n"
     ]
    },
    {
     "data": {
      "application/vnd.jupyter.widget-view+json": {
       "model_id": "1ff07c22ef6e4b5f9775aa85c28aadeb",
       "version_major": 2,
       "version_minor": 0
      },
      "text/plain": [
       "Lime attribution:   0%|          | 0/25 [00:00<?, ?it/s]"
      ]
     },
     "metadata": {},
     "output_type": "display_data"
    },
    {
     "name": "stderr",
     "output_type": "stream",
     "text": [
      "/home/zhengyang/Desktop/Git_resp_limesegment/classifiers/ResNet.py:149: UserWarning: Implicit dimension choice for softmax has been deprecated. Change the call to include dim=X as an argument.\n",
      "  output_layer = self.softmax(output_layer)\n"
     ]
    },
    {
     "data": {
      "application/vnd.jupyter.widget-view+json": {
       "model_id": "bdf32263dfef443d8a7ae5a0df3315a4",
       "version_major": 2,
       "version_minor": 0
      },
      "text/plain": [
       "Lime attribution:   0%|          | 0/25 [00:00<?, ?it/s]"
      ]
     },
     "metadata": {},
     "output_type": "display_data"
    },
    {
     "name": "stderr",
     "output_type": "stream",
     "text": [
      "/home/zhengyang/Desktop/Git_resp_limesegment/classifiers/ResNet.py:149: UserWarning: Implicit dimension choice for softmax has been deprecated. Change the call to include dim=X as an argument.\n",
      "  output_layer = self.softmax(output_layer)\n"
     ]
    },
    {
     "data": {
      "application/vnd.jupyter.widget-view+json": {
       "model_id": "ddb8d69802604dda805dabd29db0601d",
       "version_major": 2,
       "version_minor": 0
      },
      "text/plain": [
       "Lime attribution:   0%|          | 0/25 [00:00<?, ?it/s]"
      ]
     },
     "metadata": {},
     "output_type": "display_data"
    },
    {
     "name": "stderr",
     "output_type": "stream",
     "text": [
      "/home/zhengyang/Desktop/Git_resp_limesegment/classifiers/ResNet.py:149: UserWarning: Implicit dimension choice for softmax has been deprecated. Change the call to include dim=X as an argument.\n",
      "  output_layer = self.softmax(output_layer)\n"
     ]
    },
    {
     "data": {
      "application/vnd.jupyter.widget-view+json": {
       "model_id": "9a30814be1c14692bf6bbd11eb41bae2",
       "version_major": 2,
       "version_minor": 0
      },
      "text/plain": [
       "Lime attribution:   0%|          | 0/25 [00:00<?, ?it/s]"
      ]
     },
     "metadata": {},
     "output_type": "display_data"
    },
    {
     "name": "stderr",
     "output_type": "stream",
     "text": [
      "/home/zhengyang/Desktop/Git_resp_limesegment/classifiers/ResNet.py:149: UserWarning: Implicit dimension choice for softmax has been deprecated. Change the call to include dim=X as an argument.\n",
      "  output_layer = self.softmax(output_layer)\n"
     ]
    },
    {
     "data": {
      "application/vnd.jupyter.widget-view+json": {
       "model_id": "6b64c329d1c849af8054bf9327d9b317",
       "version_major": 2,
       "version_minor": 0
      },
      "text/plain": [
       "Lime attribution:   0%|          | 0/25 [00:00<?, ?it/s]"
      ]
     },
     "metadata": {},
     "output_type": "display_data"
    },
    {
     "name": "stderr",
     "output_type": "stream",
     "text": [
      "/home/zhengyang/Desktop/Git_resp_limesegment/classifiers/ResNet.py:149: UserWarning: Implicit dimension choice for softmax has been deprecated. Change the call to include dim=X as an argument.\n",
      "  output_layer = self.softmax(output_layer)\n"
     ]
    },
    {
     "data": {
      "application/vnd.jupyter.widget-view+json": {
       "model_id": "42c2cd2c91b4482e978d65051453736f",
       "version_major": 2,
       "version_minor": 0
      },
      "text/plain": [
       "Lime attribution:   0%|          | 0/25 [00:00<?, ?it/s]"
      ]
     },
     "metadata": {},
     "output_type": "display_data"
    },
    {
     "name": "stderr",
     "output_type": "stream",
     "text": [
      "/home/zhengyang/Desktop/Git_resp_limesegment/classifiers/ResNet.py:149: UserWarning: Implicit dimension choice for softmax has been deprecated. Change the call to include dim=X as an argument.\n",
      "  output_layer = self.softmax(output_layer)\n"
     ]
    },
    {
     "data": {
      "application/vnd.jupyter.widget-view+json": {
       "model_id": "9a48cae31d474b8bbef6612abeaebde7",
       "version_major": 2,
       "version_minor": 0
      },
      "text/plain": [
       "Lime attribution:   0%|          | 0/25 [00:00<?, ?it/s]"
      ]
     },
     "metadata": {},
     "output_type": "display_data"
    },
    {
     "name": "stderr",
     "output_type": "stream",
     "text": [
      "/home/zhengyang/Desktop/Git_resp_limesegment/classifiers/ResNet.py:149: UserWarning: Implicit dimension choice for softmax has been deprecated. Change the call to include dim=X as an argument.\n",
      "  output_layer = self.softmax(output_layer)\n"
     ]
    },
    {
     "data": {
      "application/vnd.jupyter.widget-view+json": {
       "model_id": "75b342d418a2423bb5add9b255b1edb3",
       "version_major": 2,
       "version_minor": 0
      },
      "text/plain": [
       "Lime attribution:   0%|          | 0/25 [00:00<?, ?it/s]"
      ]
     },
     "metadata": {},
     "output_type": "display_data"
    },
    {
     "name": "stderr",
     "output_type": "stream",
     "text": [
      "/home/zhengyang/Desktop/Git_resp_limesegment/classifiers/ResNet.py:149: UserWarning: Implicit dimension choice for softmax has been deprecated. Change the call to include dim=X as an argument.\n",
      "  output_layer = self.softmax(output_layer)\n"
     ]
    },
    {
     "data": {
      "application/vnd.jupyter.widget-view+json": {
       "model_id": "44290ec12943431eb59ae0febbc5552a",
       "version_major": 2,
       "version_minor": 0
      },
      "text/plain": [
       "Lime attribution:   0%|          | 0/25 [00:00<?, ?it/s]"
      ]
     },
     "metadata": {},
     "output_type": "display_data"
    },
    {
     "name": "stderr",
     "output_type": "stream",
     "text": [
      "/home/zhengyang/Desktop/Git_resp_limesegment/classifiers/ResNet.py:149: UserWarning: Implicit dimension choice for softmax has been deprecated. Change the call to include dim=X as an argument.\n",
      "  output_layer = self.softmax(output_layer)\n"
     ]
    },
    {
     "data": {
      "application/vnd.jupyter.widget-view+json": {
       "model_id": "16facb4e71ef4fa5a6693c7420a68220",
       "version_major": 2,
       "version_minor": 0
      },
      "text/plain": [
       "Lime attribution:   0%|          | 0/25 [00:00<?, ?it/s]"
      ]
     },
     "metadata": {},
     "output_type": "display_data"
    },
    {
     "name": "stderr",
     "output_type": "stream",
     "text": [
      "/home/zhengyang/Desktop/Git_resp_limesegment/classifiers/ResNet.py:149: UserWarning: Implicit dimension choice for softmax has been deprecated. Change the call to include dim=X as an argument.\n",
      "  output_layer = self.softmax(output_layer)\n"
     ]
    },
    {
     "data": {
      "application/vnd.jupyter.widget-view+json": {
       "model_id": "cf89dc1a184d413286dbe160c0762b09",
       "version_major": 2,
       "version_minor": 0
      },
      "text/plain": [
       "Lime attribution:   0%|          | 0/25 [00:00<?, ?it/s]"
      ]
     },
     "metadata": {},
     "output_type": "display_data"
    },
    {
     "name": "stderr",
     "output_type": "stream",
     "text": [
      "/home/zhengyang/Desktop/Git_resp_limesegment/classifiers/ResNet.py:149: UserWarning: Implicit dimension choice for softmax has been deprecated. Change the call to include dim=X as an argument.\n",
      "  output_layer = self.softmax(output_layer)\n"
     ]
    },
    {
     "data": {
      "application/vnd.jupyter.widget-view+json": {
       "model_id": "12df9b47f72243fb9027634abacafdad",
       "version_major": 2,
       "version_minor": 0
      },
      "text/plain": [
       "Lime attribution:   0%|          | 0/25 [00:00<?, ?it/s]"
      ]
     },
     "metadata": {},
     "output_type": "display_data"
    },
    {
     "name": "stderr",
     "output_type": "stream",
     "text": [
      "/home/zhengyang/Desktop/Git_resp_limesegment/classifiers/ResNet.py:149: UserWarning: Implicit dimension choice for softmax has been deprecated. Change the call to include dim=X as an argument.\n",
      "  output_layer = self.softmax(output_layer)\n"
     ]
    },
    {
     "data": {
      "application/vnd.jupyter.widget-view+json": {
       "model_id": "c010aa8cb0d44c16a81ccf8d62a4c987",
       "version_major": 2,
       "version_minor": 0
      },
      "text/plain": [
       "Lime attribution:   0%|          | 0/25 [00:00<?, ?it/s]"
      ]
     },
     "metadata": {},
     "output_type": "display_data"
    },
    {
     "name": "stderr",
     "output_type": "stream",
     "text": [
      "/home/zhengyang/Desktop/Git_resp_limesegment/classifiers/ResNet.py:149: UserWarning: Implicit dimension choice for softmax has been deprecated. Change the call to include dim=X as an argument.\n",
      "  output_layer = self.softmax(output_layer)\n"
     ]
    },
    {
     "data": {
      "application/vnd.jupyter.widget-view+json": {
       "model_id": "c0e5cfd02dd24eb78c68cf32d8268bd2",
       "version_major": 2,
       "version_minor": 0
      },
      "text/plain": [
       "Lime attribution:   0%|          | 0/25 [00:00<?, ?it/s]"
      ]
     },
     "metadata": {},
     "output_type": "display_data"
    },
    {
     "name": "stderr",
     "output_type": "stream",
     "text": [
      "/home/zhengyang/Desktop/Git_resp_limesegment/classifiers/ResNet.py:149: UserWarning: Implicit dimension choice for softmax has been deprecated. Change the call to include dim=X as an argument.\n",
      "  output_layer = self.softmax(output_layer)\n"
     ]
    },
    {
     "data": {
      "application/vnd.jupyter.widget-view+json": {
       "model_id": "481f570e88c749cd891ed7fd51920a90",
       "version_major": 2,
       "version_minor": 0
      },
      "text/plain": [
       "Lime attribution:   0%|          | 0/25 [00:00<?, ?it/s]"
      ]
     },
     "metadata": {},
     "output_type": "display_data"
    },
    {
     "name": "stderr",
     "output_type": "stream",
     "text": [
      "/home/zhengyang/Desktop/Git_resp_limesegment/classifiers/ResNet.py:149: UserWarning: Implicit dimension choice for softmax has been deprecated. Change the call to include dim=X as an argument.\n",
      "  output_layer = self.softmax(output_layer)\n"
     ]
    },
    {
     "data": {
      "application/vnd.jupyter.widget-view+json": {
       "model_id": "492613ed8b8e440eb444e663ed4ba5f4",
       "version_major": 2,
       "version_minor": 0
      },
      "text/plain": [
       "Lime attribution:   0%|          | 0/25 [00:00<?, ?it/s]"
      ]
     },
     "metadata": {},
     "output_type": "display_data"
    },
    {
     "name": "stderr",
     "output_type": "stream",
     "text": [
      "/home/zhengyang/Desktop/Git_resp_limesegment/classifiers/ResNet.py:149: UserWarning: Implicit dimension choice for softmax has been deprecated. Change the call to include dim=X as an argument.\n",
      "  output_layer = self.softmax(output_layer)\n"
     ]
    },
    {
     "data": {
      "application/vnd.jupyter.widget-view+json": {
       "model_id": "77d5f8d288dd49b0a14390aaa3d2c4c7",
       "version_major": 2,
       "version_minor": 0
      },
      "text/plain": [
       "Lime attribution:   0%|          | 0/25 [00:00<?, ?it/s]"
      ]
     },
     "metadata": {},
     "output_type": "display_data"
    },
    {
     "name": "stderr",
     "output_type": "stream",
     "text": [
      "/home/zhengyang/Desktop/Git_resp_limesegment/classifiers/ResNet.py:149: UserWarning: Implicit dimension choice for softmax has been deprecated. Change the call to include dim=X as an argument.\n",
      "  output_layer = self.softmax(output_layer)\n"
     ]
    },
    {
     "data": {
      "application/vnd.jupyter.widget-view+json": {
       "model_id": "cb5e6f3ff51746e8a03018252dcc35aa",
       "version_major": 2,
       "version_minor": 0
      },
      "text/plain": [
       "Lime attribution:   0%|          | 0/25 [00:00<?, ?it/s]"
      ]
     },
     "metadata": {},
     "output_type": "display_data"
    },
    {
     "name": "stderr",
     "output_type": "stream",
     "text": [
      "/home/zhengyang/Desktop/Git_resp_limesegment/classifiers/ResNet.py:149: UserWarning: Implicit dimension choice for softmax has been deprecated. Change the call to include dim=X as an argument.\n",
      "  output_layer = self.softmax(output_layer)\n"
     ]
    },
    {
     "data": {
      "application/vnd.jupyter.widget-view+json": {
       "model_id": "0f80691bf3364491944271bc86fbbe07",
       "version_major": 2,
       "version_minor": 0
      },
      "text/plain": [
       "Lime attribution:   0%|          | 0/25 [00:00<?, ?it/s]"
      ]
     },
     "metadata": {},
     "output_type": "display_data"
    },
    {
     "name": "stderr",
     "output_type": "stream",
     "text": [
      "/home/zhengyang/Desktop/Git_resp_limesegment/classifiers/ResNet.py:149: UserWarning: Implicit dimension choice for softmax has been deprecated. Change the call to include dim=X as an argument.\n",
      "  output_layer = self.softmax(output_layer)\n"
     ]
    },
    {
     "data": {
      "application/vnd.jupyter.widget-view+json": {
       "model_id": "f85f7e5973dc4ab3bb4ef1cbad10f841",
       "version_major": 2,
       "version_minor": 0
      },
      "text/plain": [
       "Lime attribution:   0%|          | 0/25 [00:00<?, ?it/s]"
      ]
     },
     "metadata": {},
     "output_type": "display_data"
    },
    {
     "name": "stderr",
     "output_type": "stream",
     "text": [
      "/home/zhengyang/Desktop/Git_resp_limesegment/classifiers/ResNet.py:149: UserWarning: Implicit dimension choice for softmax has been deprecated. Change the call to include dim=X as an argument.\n",
      "  output_layer = self.softmax(output_layer)\n"
     ]
    },
    {
     "data": {
      "application/vnd.jupyter.widget-view+json": {
       "model_id": "0b402645b763405fb7ec924b59db909c",
       "version_major": 2,
       "version_minor": 0
      },
      "text/plain": [
       "Lime attribution:   0%|          | 0/25 [00:00<?, ?it/s]"
      ]
     },
     "metadata": {},
     "output_type": "display_data"
    },
    {
     "name": "stderr",
     "output_type": "stream",
     "text": [
      "/home/zhengyang/Desktop/Git_resp_limesegment/classifiers/ResNet.py:149: UserWarning: Implicit dimension choice for softmax has been deprecated. Change the call to include dim=X as an argument.\n",
      "  output_layer = self.softmax(output_layer)\n"
     ]
    },
    {
     "data": {
      "application/vnd.jupyter.widget-view+json": {
       "model_id": "c6b5dace856f43ec94d50b82260e49a5",
       "version_major": 2,
       "version_minor": 0
      },
      "text/plain": [
       "Lime attribution:   0%|          | 0/25 [00:00<?, ?it/s]"
      ]
     },
     "metadata": {},
     "output_type": "display_data"
    },
    {
     "name": "stderr",
     "output_type": "stream",
     "text": [
      "/home/zhengyang/Desktop/Git_resp_limesegment/classifiers/ResNet.py:149: UserWarning: Implicit dimension choice for softmax has been deprecated. Change the call to include dim=X as an argument.\n",
      "  output_layer = self.softmax(output_layer)\n"
     ]
    },
    {
     "data": {
      "application/vnd.jupyter.widget-view+json": {
       "model_id": "5c59af8bfa3a48c3a49d9caec99289c3",
       "version_major": 2,
       "version_minor": 0
      },
      "text/plain": [
       "Lime attribution:   0%|          | 0/25 [00:00<?, ?it/s]"
      ]
     },
     "metadata": {},
     "output_type": "display_data"
    },
    {
     "name": "stderr",
     "output_type": "stream",
     "text": [
      "/home/zhengyang/Desktop/Git_resp_limesegment/classifiers/ResNet.py:149: UserWarning: Implicit dimension choice for softmax has been deprecated. Change the call to include dim=X as an argument.\n",
      "  output_layer = self.softmax(output_layer)\n"
     ]
    },
    {
     "data": {
      "application/vnd.jupyter.widget-view+json": {
       "model_id": "0280c0bf1a234a159bee76b57c960223",
       "version_major": 2,
       "version_minor": 0
      },
      "text/plain": [
       "Lime attribution:   0%|          | 0/25 [00:00<?, ?it/s]"
      ]
     },
     "metadata": {},
     "output_type": "display_data"
    },
    {
     "name": "stderr",
     "output_type": "stream",
     "text": [
      "/home/zhengyang/Desktop/Git_resp_limesegment/classifiers/ResNet.py:149: UserWarning: Implicit dimension choice for softmax has been deprecated. Change the call to include dim=X as an argument.\n",
      "  output_layer = self.softmax(output_layer)\n"
     ]
    },
    {
     "data": {
      "application/vnd.jupyter.widget-view+json": {
       "model_id": "9c7c748c9e6342a0b9d72a9a8e9e6e03",
       "version_major": 2,
       "version_minor": 0
      },
      "text/plain": [
       "Lime attribution:   0%|          | 0/25 [00:00<?, ?it/s]"
      ]
     },
     "metadata": {},
     "output_type": "display_data"
    },
    {
     "name": "stderr",
     "output_type": "stream",
     "text": [
      "/home/zhengyang/Desktop/Git_resp_limesegment/classifiers/ResNet.py:149: UserWarning: Implicit dimension choice for softmax has been deprecated. Change the call to include dim=X as an argument.\n",
      "  output_layer = self.softmax(output_layer)\n"
     ]
    },
    {
     "data": {
      "application/vnd.jupyter.widget-view+json": {
       "model_id": "aa968f8068754998a97128af0690784e",
       "version_major": 2,
       "version_minor": 0
      },
      "text/plain": [
       "Lime attribution:   0%|          | 0/25 [00:00<?, ?it/s]"
      ]
     },
     "metadata": {},
     "output_type": "display_data"
    },
    {
     "name": "stderr",
     "output_type": "stream",
     "text": [
      "/home/zhengyang/Desktop/Git_resp_limesegment/classifiers/ResNet.py:149: UserWarning: Implicit dimension choice for softmax has been deprecated. Change the call to include dim=X as an argument.\n",
      "  output_layer = self.softmax(output_layer)\n"
     ]
    },
    {
     "data": {
      "application/vnd.jupyter.widget-view+json": {
       "model_id": "fb5bff3d9709441caac4627bd9f0862a",
       "version_major": 2,
       "version_minor": 0
      },
      "text/plain": [
       "Lime attribution:   0%|          | 0/25 [00:00<?, ?it/s]"
      ]
     },
     "metadata": {},
     "output_type": "display_data"
    },
    {
     "name": "stderr",
     "output_type": "stream",
     "text": [
      "/home/zhengyang/Desktop/Git_resp_limesegment/classifiers/ResNet.py:149: UserWarning: Implicit dimension choice for softmax has been deprecated. Change the call to include dim=X as an argument.\n",
      "  output_layer = self.softmax(output_layer)\n"
     ]
    },
    {
     "data": {
      "application/vnd.jupyter.widget-view+json": {
       "model_id": "b2ebd2ca27b14f8c9690f50a5cd0a124",
       "version_major": 2,
       "version_minor": 0
      },
      "text/plain": [
       "Lime attribution:   0%|          | 0/25 [00:00<?, ?it/s]"
      ]
     },
     "metadata": {},
     "output_type": "display_data"
    },
    {
     "name": "stderr",
     "output_type": "stream",
     "text": [
      "/home/zhengyang/Desktop/Git_resp_limesegment/classifiers/ResNet.py:149: UserWarning: Implicit dimension choice for softmax has been deprecated. Change the call to include dim=X as an argument.\n",
      "  output_layer = self.softmax(output_layer)\n"
     ]
    },
    {
     "data": {
      "application/vnd.jupyter.widget-view+json": {
       "model_id": "b4d6a1b0e24744b7893a9528ed921f26",
       "version_major": 2,
       "version_minor": 0
      },
      "text/plain": [
       "Lime attribution:   0%|          | 0/25 [00:00<?, ?it/s]"
      ]
     },
     "metadata": {},
     "output_type": "display_data"
    },
    {
     "name": "stderr",
     "output_type": "stream",
     "text": [
      "/home/zhengyang/Desktop/Git_resp_limesegment/classifiers/ResNet.py:149: UserWarning: Implicit dimension choice for softmax has been deprecated. Change the call to include dim=X as an argument.\n",
      "  output_layer = self.softmax(output_layer)\n"
     ]
    },
    {
     "data": {
      "application/vnd.jupyter.widget-view+json": {
       "model_id": "f7dfee5618624df091823bd43bbda79e",
       "version_major": 2,
       "version_minor": 0
      },
      "text/plain": [
       "Lime attribution:   0%|          | 0/25 [00:00<?, ?it/s]"
      ]
     },
     "metadata": {},
     "output_type": "display_data"
    },
    {
     "name": "stderr",
     "output_type": "stream",
     "text": [
      "/home/zhengyang/Desktop/Git_resp_limesegment/classifiers/ResNet.py:149: UserWarning: Implicit dimension choice for softmax has been deprecated. Change the call to include dim=X as an argument.\n",
      "  output_layer = self.softmax(output_layer)\n"
     ]
    },
    {
     "data": {
      "application/vnd.jupyter.widget-view+json": {
       "model_id": "7710123f98e04b8c8c2637fe947da8ac",
       "version_major": 2,
       "version_minor": 0
      },
      "text/plain": [
       "Lime attribution:   0%|          | 0/25 [00:00<?, ?it/s]"
      ]
     },
     "metadata": {},
     "output_type": "display_data"
    },
    {
     "name": "stderr",
     "output_type": "stream",
     "text": [
      "/home/zhengyang/Desktop/Git_resp_limesegment/classifiers/ResNet.py:149: UserWarning: Implicit dimension choice for softmax has been deprecated. Change the call to include dim=X as an argument.\n",
      "  output_layer = self.softmax(output_layer)\n"
     ]
    },
    {
     "data": {
      "application/vnd.jupyter.widget-view+json": {
       "model_id": "33d46f81a080410f80e36fad6cd88093",
       "version_major": 2,
       "version_minor": 0
      },
      "text/plain": [
       "Lime attribution:   0%|          | 0/25 [00:00<?, ?it/s]"
      ]
     },
     "metadata": {},
     "output_type": "display_data"
    },
    {
     "name": "stderr",
     "output_type": "stream",
     "text": [
      "/home/zhengyang/Desktop/Git_resp_limesegment/classifiers/ResNet.py:149: UserWarning: Implicit dimension choice for softmax has been deprecated. Change the call to include dim=X as an argument.\n",
      "  output_layer = self.softmax(output_layer)\n"
     ]
    },
    {
     "data": {
      "application/vnd.jupyter.widget-view+json": {
       "model_id": "e5b388679b2840bea0c5c21fa0104094",
       "version_major": 2,
       "version_minor": 0
      },
      "text/plain": [
       "Lime attribution:   0%|          | 0/25 [00:00<?, ?it/s]"
      ]
     },
     "metadata": {},
     "output_type": "display_data"
    },
    {
     "name": "stderr",
     "output_type": "stream",
     "text": [
      "/home/zhengyang/Desktop/Git_resp_limesegment/classifiers/ResNet.py:149: UserWarning: Implicit dimension choice for softmax has been deprecated. Change the call to include dim=X as an argument.\n",
      "  output_layer = self.softmax(output_layer)\n"
     ]
    },
    {
     "data": {
      "application/vnd.jupyter.widget-view+json": {
       "model_id": "f7bc9e2cf18f47ff998a246496f0eaa0",
       "version_major": 2,
       "version_minor": 0
      },
      "text/plain": [
       "Lime attribution:   0%|          | 0/25 [00:00<?, ?it/s]"
      ]
     },
     "metadata": {},
     "output_type": "display_data"
    },
    {
     "name": "stderr",
     "output_type": "stream",
     "text": [
      "/home/zhengyang/Desktop/Git_resp_limesegment/classifiers/ResNet.py:149: UserWarning: Implicit dimension choice for softmax has been deprecated. Change the call to include dim=X as an argument.\n",
      "  output_layer = self.softmax(output_layer)\n"
     ]
    },
    {
     "data": {
      "application/vnd.jupyter.widget-view+json": {
       "model_id": "20bf8d6ca5c5431d9ffc7a899a0e50f6",
       "version_major": 2,
       "version_minor": 0
      },
      "text/plain": [
       "Lime attribution:   0%|          | 0/25 [00:00<?, ?it/s]"
      ]
     },
     "metadata": {},
     "output_type": "display_data"
    },
    {
     "name": "stderr",
     "output_type": "stream",
     "text": [
      "/home/zhengyang/Desktop/Git_resp_limesegment/classifiers/ResNet.py:149: UserWarning: Implicit dimension choice for softmax has been deprecated. Change the call to include dim=X as an argument.\n",
      "  output_layer = self.softmax(output_layer)\n"
     ]
    },
    {
     "data": {
      "application/vnd.jupyter.widget-view+json": {
       "model_id": "f8d6da0761934d57b9965a214c984c64",
       "version_major": 2,
       "version_minor": 0
      },
      "text/plain": [
       "Lime attribution:   0%|          | 0/25 [00:00<?, ?it/s]"
      ]
     },
     "metadata": {},
     "output_type": "display_data"
    },
    {
     "name": "stderr",
     "output_type": "stream",
     "text": [
      "/home/zhengyang/Desktop/Git_resp_limesegment/classifiers/ResNet.py:149: UserWarning: Implicit dimension choice for softmax has been deprecated. Change the call to include dim=X as an argument.\n",
      "  output_layer = self.softmax(output_layer)\n"
     ]
    },
    {
     "data": {
      "application/vnd.jupyter.widget-view+json": {
       "model_id": "d5fa3f9e88f642e089cbf5892a22188d",
       "version_major": 2,
       "version_minor": 0
      },
      "text/plain": [
       "Lime attribution:   0%|          | 0/25 [00:00<?, ?it/s]"
      ]
     },
     "metadata": {},
     "output_type": "display_data"
    },
    {
     "name": "stderr",
     "output_type": "stream",
     "text": [
      "/home/zhengyang/Desktop/Git_resp_limesegment/classifiers/ResNet.py:149: UserWarning: Implicit dimension choice for softmax has been deprecated. Change the call to include dim=X as an argument.\n",
      "  output_layer = self.softmax(output_layer)\n"
     ]
    },
    {
     "data": {
      "application/vnd.jupyter.widget-view+json": {
       "model_id": "352b436308474ecdbe2c384e75e0e04a",
       "version_major": 2,
       "version_minor": 0
      },
      "text/plain": [
       "Lime attribution:   0%|          | 0/25 [00:00<?, ?it/s]"
      ]
     },
     "metadata": {},
     "output_type": "display_data"
    },
    {
     "name": "stderr",
     "output_type": "stream",
     "text": [
      "/home/zhengyang/Desktop/Git_resp_limesegment/classifiers/ResNet.py:149: UserWarning: Implicit dimension choice for softmax has been deprecated. Change the call to include dim=X as an argument.\n",
      "  output_layer = self.softmax(output_layer)\n"
     ]
    },
    {
     "data": {
      "application/vnd.jupyter.widget-view+json": {
       "model_id": "0e0347ebf5c041b28960de075defbc93",
       "version_major": 2,
       "version_minor": 0
      },
      "text/plain": [
       "Lime attribution:   0%|          | 0/25 [00:00<?, ?it/s]"
      ]
     },
     "metadata": {},
     "output_type": "display_data"
    },
    {
     "name": "stderr",
     "output_type": "stream",
     "text": [
      "/home/zhengyang/Desktop/Git_resp_limesegment/classifiers/ResNet.py:149: UserWarning: Implicit dimension choice for softmax has been deprecated. Change the call to include dim=X as an argument.\n",
      "  output_layer = self.softmax(output_layer)\n"
     ]
    },
    {
     "data": {
      "application/vnd.jupyter.widget-view+json": {
       "model_id": "a60b79cce0a848e1a264692ebd7b26cc",
       "version_major": 2,
       "version_minor": 0
      },
      "text/plain": [
       "Lime attribution:   0%|          | 0/25 [00:00<?, ?it/s]"
      ]
     },
     "metadata": {},
     "output_type": "display_data"
    },
    {
     "name": "stderr",
     "output_type": "stream",
     "text": [
      "/home/zhengyang/Desktop/Git_resp_limesegment/classifiers/ResNet.py:149: UserWarning: Implicit dimension choice for softmax has been deprecated. Change the call to include dim=X as an argument.\n",
      "  output_layer = self.softmax(output_layer)\n"
     ]
    },
    {
     "data": {
      "application/vnd.jupyter.widget-view+json": {
       "model_id": "b1d376c11e4842e6b1e931db9f75a140",
       "version_major": 2,
       "version_minor": 0
      },
      "text/plain": [
       "Lime attribution:   0%|          | 0/25 [00:00<?, ?it/s]"
      ]
     },
     "metadata": {},
     "output_type": "display_data"
    },
    {
     "name": "stderr",
     "output_type": "stream",
     "text": [
      "/home/zhengyang/Desktop/Git_resp_limesegment/classifiers/ResNet.py:149: UserWarning: Implicit dimension choice for softmax has been deprecated. Change the call to include dim=X as an argument.\n",
      "  output_layer = self.softmax(output_layer)\n"
     ]
    },
    {
     "data": {
      "application/vnd.jupyter.widget-view+json": {
       "model_id": "f9fb5ab43c8e45cca078a6236b5e60b3",
       "version_major": 2,
       "version_minor": 0
      },
      "text/plain": [
       "Lime attribution:   0%|          | 0/25 [00:00<?, ?it/s]"
      ]
     },
     "metadata": {},
     "output_type": "display_data"
    },
    {
     "name": "stderr",
     "output_type": "stream",
     "text": [
      "/home/zhengyang/Desktop/Git_resp_limesegment/classifiers/ResNet.py:149: UserWarning: Implicit dimension choice for softmax has been deprecated. Change the call to include dim=X as an argument.\n",
      "  output_layer = self.softmax(output_layer)\n"
     ]
    },
    {
     "data": {
      "application/vnd.jupyter.widget-view+json": {
       "model_id": "f9211bbcbb0f4781a252956a63e1d342",
       "version_major": 2,
       "version_minor": 0
      },
      "text/plain": [
       "Lime attribution:   0%|          | 0/25 [00:00<?, ?it/s]"
      ]
     },
     "metadata": {},
     "output_type": "display_data"
    },
    {
     "name": "stderr",
     "output_type": "stream",
     "text": [
      "/home/zhengyang/Desktop/Git_resp_limesegment/classifiers/ResNet.py:149: UserWarning: Implicit dimension choice for softmax has been deprecated. Change the call to include dim=X as an argument.\n",
      "  output_layer = self.softmax(output_layer)\n"
     ]
    },
    {
     "data": {
      "application/vnd.jupyter.widget-view+json": {
       "model_id": "6e2f147204c542be9eb98b7e6f29e413",
       "version_major": 2,
       "version_minor": 0
      },
      "text/plain": [
       "Lime attribution:   0%|          | 0/25 [00:00<?, ?it/s]"
      ]
     },
     "metadata": {},
     "output_type": "display_data"
    },
    {
     "name": "stderr",
     "output_type": "stream",
     "text": [
      "/home/zhengyang/Desktop/Git_resp_limesegment/classifiers/ResNet.py:149: UserWarning: Implicit dimension choice for softmax has been deprecated. Change the call to include dim=X as an argument.\n",
      "  output_layer = self.softmax(output_layer)\n"
     ]
    },
    {
     "data": {
      "application/vnd.jupyter.widget-view+json": {
       "model_id": "70bf06aa0edc467488f81ae985522188",
       "version_major": 2,
       "version_minor": 0
      },
      "text/plain": [
       "Lime attribution:   0%|          | 0/25 [00:00<?, ?it/s]"
      ]
     },
     "metadata": {},
     "output_type": "display_data"
    },
    {
     "name": "stderr",
     "output_type": "stream",
     "text": [
      "/home/zhengyang/Desktop/Git_resp_limesegment/classifiers/ResNet.py:149: UserWarning: Implicit dimension choice for softmax has been deprecated. Change the call to include dim=X as an argument.\n",
      "  output_layer = self.softmax(output_layer)\n"
     ]
    },
    {
     "data": {
      "application/vnd.jupyter.widget-view+json": {
       "model_id": "cae21030186d41f897949932ac09c292",
       "version_major": 2,
       "version_minor": 0
      },
      "text/plain": [
       "Lime attribution:   0%|          | 0/25 [00:00<?, ?it/s]"
      ]
     },
     "metadata": {},
     "output_type": "display_data"
    },
    {
     "name": "stderr",
     "output_type": "stream",
     "text": [
      "/home/zhengyang/Desktop/Git_resp_limesegment/classifiers/ResNet.py:149: UserWarning: Implicit dimension choice for softmax has been deprecated. Change the call to include dim=X as an argument.\n",
      "  output_layer = self.softmax(output_layer)\n"
     ]
    },
    {
     "data": {
      "application/vnd.jupyter.widget-view+json": {
       "model_id": "3dab10ae099544f78dfec94cc95cac9d",
       "version_major": 2,
       "version_minor": 0
      },
      "text/plain": [
       "Lime attribution:   0%|          | 0/25 [00:00<?, ?it/s]"
      ]
     },
     "metadata": {},
     "output_type": "display_data"
    },
    {
     "name": "stderr",
     "output_type": "stream",
     "text": [
      "/home/zhengyang/Desktop/Git_resp_limesegment/classifiers/ResNet.py:149: UserWarning: Implicit dimension choice for softmax has been deprecated. Change the call to include dim=X as an argument.\n",
      "  output_layer = self.softmax(output_layer)\n"
     ]
    },
    {
     "data": {
      "application/vnd.jupyter.widget-view+json": {
       "model_id": "d840380c043f4bd79368e1915cb30828",
       "version_major": 2,
       "version_minor": 0
      },
      "text/plain": [
       "Lime attribution:   0%|          | 0/25 [00:00<?, ?it/s]"
      ]
     },
     "metadata": {},
     "output_type": "display_data"
    },
    {
     "name": "stderr",
     "output_type": "stream",
     "text": [
      "/home/zhengyang/Desktop/Git_resp_limesegment/classifiers/ResNet.py:149: UserWarning: Implicit dimension choice for softmax has been deprecated. Change the call to include dim=X as an argument.\n",
      "  output_layer = self.softmax(output_layer)\n"
     ]
    },
    {
     "data": {
      "application/vnd.jupyter.widget-view+json": {
       "model_id": "92c514251afc45a697096070ecc2b67a",
       "version_major": 2,
       "version_minor": 0
      },
      "text/plain": [
       "Lime attribution:   0%|          | 0/25 [00:00<?, ?it/s]"
      ]
     },
     "metadata": {},
     "output_type": "display_data"
    },
    {
     "name": "stderr",
     "output_type": "stream",
     "text": [
      "/home/zhengyang/Desktop/Git_resp_limesegment/classifiers/ResNet.py:149: UserWarning: Implicit dimension choice for softmax has been deprecated. Change the call to include dim=X as an argument.\n",
      "  output_layer = self.softmax(output_layer)\n"
     ]
    },
    {
     "data": {
      "application/vnd.jupyter.widget-view+json": {
       "model_id": "d8aeb2d70c844b399d056201c8301f4b",
       "version_major": 2,
       "version_minor": 0
      },
      "text/plain": [
       "Lime attribution:   0%|          | 0/25 [00:00<?, ?it/s]"
      ]
     },
     "metadata": {},
     "output_type": "display_data"
    },
    {
     "name": "stderr",
     "output_type": "stream",
     "text": [
      "/home/zhengyang/Desktop/Git_resp_limesegment/classifiers/ResNet.py:149: UserWarning: Implicit dimension choice for softmax has been deprecated. Change the call to include dim=X as an argument.\n",
      "  output_layer = self.softmax(output_layer)\n"
     ]
    },
    {
     "data": {
      "application/vnd.jupyter.widget-view+json": {
       "model_id": "6377bab12e764ede94981434f236f553",
       "version_major": 2,
       "version_minor": 0
      },
      "text/plain": [
       "Lime attribution:   0%|          | 0/25 [00:00<?, ?it/s]"
      ]
     },
     "metadata": {},
     "output_type": "display_data"
    },
    {
     "name": "stderr",
     "output_type": "stream",
     "text": [
      "/home/zhengyang/Desktop/Git_resp_limesegment/classifiers/ResNet.py:149: UserWarning: Implicit dimension choice for softmax has been deprecated. Change the call to include dim=X as an argument.\n",
      "  output_layer = self.softmax(output_layer)\n"
     ]
    },
    {
     "data": {
      "application/vnd.jupyter.widget-view+json": {
       "model_id": "978d41258ed346ce941831d1ddcb8eb1",
       "version_major": 2,
       "version_minor": 0
      },
      "text/plain": [
       "Lime attribution:   0%|          | 0/25 [00:00<?, ?it/s]"
      ]
     },
     "metadata": {},
     "output_type": "display_data"
    },
    {
     "name": "stderr",
     "output_type": "stream",
     "text": [
      "/home/zhengyang/Desktop/Git_resp_limesegment/classifiers/ResNet.py:149: UserWarning: Implicit dimension choice for softmax has been deprecated. Change the call to include dim=X as an argument.\n",
      "  output_layer = self.softmax(output_layer)\n"
     ]
    },
    {
     "data": {
      "application/vnd.jupyter.widget-view+json": {
       "model_id": "a3558cedca184507ad16bea1d60392fe",
       "version_major": 2,
       "version_minor": 0
      },
      "text/plain": [
       "Lime attribution:   0%|          | 0/25 [00:00<?, ?it/s]"
      ]
     },
     "metadata": {},
     "output_type": "display_data"
    },
    {
     "name": "stderr",
     "output_type": "stream",
     "text": [
      "/home/zhengyang/Desktop/Git_resp_limesegment/classifiers/ResNet.py:149: UserWarning: Implicit dimension choice for softmax has been deprecated. Change the call to include dim=X as an argument.\n",
      "  output_layer = self.softmax(output_layer)\n"
     ]
    },
    {
     "data": {
      "application/vnd.jupyter.widget-view+json": {
       "model_id": "3caa35cc4c4d4d6d955d4a9045bfc9fc",
       "version_major": 2,
       "version_minor": 0
      },
      "text/plain": [
       "Lime attribution:   0%|          | 0/25 [00:00<?, ?it/s]"
      ]
     },
     "metadata": {},
     "output_type": "display_data"
    },
    {
     "name": "stderr",
     "output_type": "stream",
     "text": [
      "/home/zhengyang/Desktop/Git_resp_limesegment/classifiers/ResNet.py:149: UserWarning: Implicit dimension choice for softmax has been deprecated. Change the call to include dim=X as an argument.\n",
      "  output_layer = self.softmax(output_layer)\n"
     ]
    },
    {
     "data": {
      "application/vnd.jupyter.widget-view+json": {
       "model_id": "a49aa329b8674521821208f8578de9e1",
       "version_major": 2,
       "version_minor": 0
      },
      "text/plain": [
       "Lime attribution:   0%|          | 0/25 [00:00<?, ?it/s]"
      ]
     },
     "metadata": {},
     "output_type": "display_data"
    },
    {
     "name": "stderr",
     "output_type": "stream",
     "text": [
      "/home/zhengyang/Desktop/Git_resp_limesegment/classifiers/ResNet.py:149: UserWarning: Implicit dimension choice for softmax has been deprecated. Change the call to include dim=X as an argument.\n",
      "  output_layer = self.softmax(output_layer)\n"
     ]
    },
    {
     "data": {
      "application/vnd.jupyter.widget-view+json": {
       "model_id": "14dfbaa636da496a9e969ae8470e7789",
       "version_major": 2,
       "version_minor": 0
      },
      "text/plain": [
       "Lime attribution:   0%|          | 0/25 [00:00<?, ?it/s]"
      ]
     },
     "metadata": {},
     "output_type": "display_data"
    },
    {
     "name": "stderr",
     "output_type": "stream",
     "text": [
      "/home/zhengyang/Desktop/Git_resp_limesegment/classifiers/ResNet.py:149: UserWarning: Implicit dimension choice for softmax has been deprecated. Change the call to include dim=X as an argument.\n",
      "  output_layer = self.softmax(output_layer)\n"
     ]
    },
    {
     "data": {
      "application/vnd.jupyter.widget-view+json": {
       "model_id": "af4141075b014b738cd6630786ef3f84",
       "version_major": 2,
       "version_minor": 0
      },
      "text/plain": [
       "Lime attribution:   0%|          | 0/25 [00:00<?, ?it/s]"
      ]
     },
     "metadata": {},
     "output_type": "display_data"
    },
    {
     "name": "stderr",
     "output_type": "stream",
     "text": [
      "/home/zhengyang/Desktop/Git_resp_limesegment/classifiers/ResNet.py:149: UserWarning: Implicit dimension choice for softmax has been deprecated. Change the call to include dim=X as an argument.\n",
      "  output_layer = self.softmax(output_layer)\n"
     ]
    },
    {
     "data": {
      "application/vnd.jupyter.widget-view+json": {
       "model_id": "2483d6cfa0234c1b91d00448bd1e7026",
       "version_major": 2,
       "version_minor": 0
      },
      "text/plain": [
       "Lime attribution:   0%|          | 0/25 [00:00<?, ?it/s]"
      ]
     },
     "metadata": {},
     "output_type": "display_data"
    },
    {
     "name": "stderr",
     "output_type": "stream",
     "text": [
      "/home/zhengyang/Desktop/Git_resp_limesegment/classifiers/ResNet.py:149: UserWarning: Implicit dimension choice for softmax has been deprecated. Change the call to include dim=X as an argument.\n",
      "  output_layer = self.softmax(output_layer)\n"
     ]
    },
    {
     "data": {
      "application/vnd.jupyter.widget-view+json": {
       "model_id": "e9ca1a8df45247d6abbec3a34eaccc8c",
       "version_major": 2,
       "version_minor": 0
      },
      "text/plain": [
       "Lime attribution:   0%|          | 0/25 [00:00<?, ?it/s]"
      ]
     },
     "metadata": {},
     "output_type": "display_data"
    },
    {
     "name": "stderr",
     "output_type": "stream",
     "text": [
      "/home/zhengyang/Desktop/Git_resp_limesegment/classifiers/ResNet.py:149: UserWarning: Implicit dimension choice for softmax has been deprecated. Change the call to include dim=X as an argument.\n",
      "  output_layer = self.softmax(output_layer)\n"
     ]
    },
    {
     "data": {
      "application/vnd.jupyter.widget-view+json": {
       "model_id": "4fa3f73cb7d64440825f7e4a1746b98c",
       "version_major": 2,
       "version_minor": 0
      },
      "text/plain": [
       "Lime attribution:   0%|          | 0/25 [00:00<?, ?it/s]"
      ]
     },
     "metadata": {},
     "output_type": "display_data"
    },
    {
     "name": "stderr",
     "output_type": "stream",
     "text": [
      "/home/zhengyang/Desktop/Git_resp_limesegment/classifiers/ResNet.py:149: UserWarning: Implicit dimension choice for softmax has been deprecated. Change the call to include dim=X as an argument.\n",
      "  output_layer = self.softmax(output_layer)\n"
     ]
    },
    {
     "data": {
      "application/vnd.jupyter.widget-view+json": {
       "model_id": "621257217766435998427df12cffdd1f",
       "version_major": 2,
       "version_minor": 0
      },
      "text/plain": [
       "Lime attribution:   0%|          | 0/25 [00:00<?, ?it/s]"
      ]
     },
     "metadata": {},
     "output_type": "display_data"
    },
    {
     "name": "stderr",
     "output_type": "stream",
     "text": [
      "/home/zhengyang/Desktop/Git_resp_limesegment/classifiers/ResNet.py:149: UserWarning: Implicit dimension choice for softmax has been deprecated. Change the call to include dim=X as an argument.\n",
      "  output_layer = self.softmax(output_layer)\n"
     ]
    },
    {
     "data": {
      "application/vnd.jupyter.widget-view+json": {
       "model_id": "e31f91420713407285ede37bed1d5326",
       "version_major": 2,
       "version_minor": 0
      },
      "text/plain": [
       "Lime attribution:   0%|          | 0/25 [00:00<?, ?it/s]"
      ]
     },
     "metadata": {},
     "output_type": "display_data"
    },
    {
     "name": "stderr",
     "output_type": "stream",
     "text": [
      "/home/zhengyang/Desktop/Git_resp_limesegment/classifiers/ResNet.py:149: UserWarning: Implicit dimension choice for softmax has been deprecated. Change the call to include dim=X as an argument.\n",
      "  output_layer = self.softmax(output_layer)\n"
     ]
    },
    {
     "data": {
      "application/vnd.jupyter.widget-view+json": {
       "model_id": "629a116eeb594725b211f8f99e0415ca",
       "version_major": 2,
       "version_minor": 0
      },
      "text/plain": [
       "Lime attribution:   0%|          | 0/25 [00:00<?, ?it/s]"
      ]
     },
     "metadata": {},
     "output_type": "display_data"
    },
    {
     "name": "stderr",
     "output_type": "stream",
     "text": [
      "/home/zhengyang/Desktop/Git_resp_limesegment/classifiers/ResNet.py:149: UserWarning: Implicit dimension choice for softmax has been deprecated. Change the call to include dim=X as an argument.\n",
      "  output_layer = self.softmax(output_layer)\n"
     ]
    },
    {
     "data": {
      "application/vnd.jupyter.widget-view+json": {
       "model_id": "55982448990d46d588ca2f3661760cea",
       "version_major": 2,
       "version_minor": 0
      },
      "text/plain": [
       "Lime attribution:   0%|          | 0/25 [00:00<?, ?it/s]"
      ]
     },
     "metadata": {},
     "output_type": "display_data"
    },
    {
     "name": "stderr",
     "output_type": "stream",
     "text": [
      "/home/zhengyang/Desktop/Git_resp_limesegment/classifiers/ResNet.py:149: UserWarning: Implicit dimension choice for softmax has been deprecated. Change the call to include dim=X as an argument.\n",
      "  output_layer = self.softmax(output_layer)\n"
     ]
    },
    {
     "data": {
      "application/vnd.jupyter.widget-view+json": {
       "model_id": "bf8d6fbf1888487c82817924c2328218",
       "version_major": 2,
       "version_minor": 0
      },
      "text/plain": [
       "Lime attribution:   0%|          | 0/25 [00:00<?, ?it/s]"
      ]
     },
     "metadata": {},
     "output_type": "display_data"
    },
    {
     "name": "stderr",
     "output_type": "stream",
     "text": [
      "/home/zhengyang/Desktop/Git_resp_limesegment/classifiers/ResNet.py:149: UserWarning: Implicit dimension choice for softmax has been deprecated. Change the call to include dim=X as an argument.\n",
      "  output_layer = self.softmax(output_layer)\n"
     ]
    },
    {
     "data": {
      "application/vnd.jupyter.widget-view+json": {
       "model_id": "13fc634eb56d4bd1a8637c9b3cbbf1c2",
       "version_major": 2,
       "version_minor": 0
      },
      "text/plain": [
       "Lime attribution:   0%|          | 0/25 [00:00<?, ?it/s]"
      ]
     },
     "metadata": {},
     "output_type": "display_data"
    },
    {
     "name": "stderr",
     "output_type": "stream",
     "text": [
      "/home/zhengyang/Desktop/Git_resp_limesegment/classifiers/ResNet.py:149: UserWarning: Implicit dimension choice for softmax has been deprecated. Change the call to include dim=X as an argument.\n",
      "  output_layer = self.softmax(output_layer)\n"
     ]
    },
    {
     "data": {
      "application/vnd.jupyter.widget-view+json": {
       "model_id": "07f04ca96f634ede8f99c0f5788cd957",
       "version_major": 2,
       "version_minor": 0
      },
      "text/plain": [
       "Lime attribution:   0%|          | 0/25 [00:00<?, ?it/s]"
      ]
     },
     "metadata": {},
     "output_type": "display_data"
    },
    {
     "name": "stderr",
     "output_type": "stream",
     "text": [
      "/home/zhengyang/Desktop/Git_resp_limesegment/classifiers/ResNet.py:149: UserWarning: Implicit dimension choice for softmax has been deprecated. Change the call to include dim=X as an argument.\n",
      "  output_layer = self.softmax(output_layer)\n"
     ]
    },
    {
     "data": {
      "application/vnd.jupyter.widget-view+json": {
       "model_id": "e24af4deff92434b842c04c3f10f1b05",
       "version_major": 2,
       "version_minor": 0
      },
      "text/plain": [
       "Lime attribution:   0%|          | 0/25 [00:00<?, ?it/s]"
      ]
     },
     "metadata": {},
     "output_type": "display_data"
    },
    {
     "name": "stderr",
     "output_type": "stream",
     "text": [
      "/home/zhengyang/Desktop/Git_resp_limesegment/classifiers/ResNet.py:149: UserWarning: Implicit dimension choice for softmax has been deprecated. Change the call to include dim=X as an argument.\n",
      "  output_layer = self.softmax(output_layer)\n"
     ]
    },
    {
     "data": {
      "application/vnd.jupyter.widget-view+json": {
       "model_id": "60caf7c0722d43b8a14523a444f5c263",
       "version_major": 2,
       "version_minor": 0
      },
      "text/plain": [
       "Lime attribution:   0%|          | 0/25 [00:00<?, ?it/s]"
      ]
     },
     "metadata": {},
     "output_type": "display_data"
    },
    {
     "name": "stderr",
     "output_type": "stream",
     "text": [
      "/home/zhengyang/Desktop/Git_resp_limesegment/classifiers/ResNet.py:149: UserWarning: Implicit dimension choice for softmax has been deprecated. Change the call to include dim=X as an argument.\n",
      "  output_layer = self.softmax(output_layer)\n"
     ]
    },
    {
     "data": {
      "application/vnd.jupyter.widget-view+json": {
       "model_id": "a0fcab9514934c14852b50e6c194ed9c",
       "version_major": 2,
       "version_minor": 0
      },
      "text/plain": [
       "Lime attribution:   0%|          | 0/25 [00:00<?, ?it/s]"
      ]
     },
     "metadata": {},
     "output_type": "display_data"
    },
    {
     "name": "stderr",
     "output_type": "stream",
     "text": [
      "/home/zhengyang/Desktop/Git_resp_limesegment/classifiers/ResNet.py:149: UserWarning: Implicit dimension choice for softmax has been deprecated. Change the call to include dim=X as an argument.\n",
      "  output_layer = self.softmax(output_layer)\n"
     ]
    },
    {
     "data": {
      "application/vnd.jupyter.widget-view+json": {
       "model_id": "828bf3e684ac4e9db0f3d5a251e1d1a0",
       "version_major": 2,
       "version_minor": 0
      },
      "text/plain": [
       "Lime attribution:   0%|          | 0/25 [00:00<?, ?it/s]"
      ]
     },
     "metadata": {},
     "output_type": "display_data"
    },
    {
     "name": "stderr",
     "output_type": "stream",
     "text": [
      "/home/zhengyang/Desktop/Git_resp_limesegment/classifiers/ResNet.py:149: UserWarning: Implicit dimension choice for softmax has been deprecated. Change the call to include dim=X as an argument.\n",
      "  output_layer = self.softmax(output_layer)\n"
     ]
    },
    {
     "data": {
      "application/vnd.jupyter.widget-view+json": {
       "model_id": "5a607a322407480fa1ec53ce2b646f0f",
       "version_major": 2,
       "version_minor": 0
      },
      "text/plain": [
       "Lime attribution:   0%|          | 0/25 [00:00<?, ?it/s]"
      ]
     },
     "metadata": {},
     "output_type": "display_data"
    },
    {
     "name": "stderr",
     "output_type": "stream",
     "text": [
      "/home/zhengyang/Desktop/Git_resp_limesegment/classifiers/ResNet.py:149: UserWarning: Implicit dimension choice for softmax has been deprecated. Change the call to include dim=X as an argument.\n",
      "  output_layer = self.softmax(output_layer)\n"
     ]
    },
    {
     "data": {
      "application/vnd.jupyter.widget-view+json": {
       "model_id": "d72f937d1dcc488b980fc03192ceed24",
       "version_major": 2,
       "version_minor": 0
      },
      "text/plain": [
       "Lime attribution:   0%|          | 0/25 [00:00<?, ?it/s]"
      ]
     },
     "metadata": {},
     "output_type": "display_data"
    },
    {
     "name": "stderr",
     "output_type": "stream",
     "text": [
      "/home/zhengyang/Desktop/Git_resp_limesegment/classifiers/ResNet.py:149: UserWarning: Implicit dimension choice for softmax has been deprecated. Change the call to include dim=X as an argument.\n",
      "  output_layer = self.softmax(output_layer)\n"
     ]
    },
    {
     "data": {
      "application/vnd.jupyter.widget-view+json": {
       "model_id": "1c6fc264b64f49a4b9acb3725ce23ac8",
       "version_major": 2,
       "version_minor": 0
      },
      "text/plain": [
       "Lime attribution:   0%|          | 0/25 [00:00<?, ?it/s]"
      ]
     },
     "metadata": {},
     "output_type": "display_data"
    },
    {
     "name": "stderr",
     "output_type": "stream",
     "text": [
      "/home/zhengyang/Desktop/Git_resp_limesegment/classifiers/ResNet.py:149: UserWarning: Implicit dimension choice for softmax has been deprecated. Change the call to include dim=X as an argument.\n",
      "  output_layer = self.softmax(output_layer)\n"
     ]
    },
    {
     "data": {
      "application/vnd.jupyter.widget-view+json": {
       "model_id": "fb94ea0a59ca43deb35866412b328b7f",
       "version_major": 2,
       "version_minor": 0
      },
      "text/plain": [
       "Lime attribution:   0%|          | 0/25 [00:00<?, ?it/s]"
      ]
     },
     "metadata": {},
     "output_type": "display_data"
    },
    {
     "name": "stderr",
     "output_type": "stream",
     "text": [
      "/home/zhengyang/Desktop/Git_resp_limesegment/classifiers/ResNet.py:149: UserWarning: Implicit dimension choice for softmax has been deprecated. Change the call to include dim=X as an argument.\n",
      "  output_layer = self.softmax(output_layer)\n"
     ]
    },
    {
     "data": {
      "application/vnd.jupyter.widget-view+json": {
       "model_id": "57baee80109c434fbc543ab7c6a1ecbe",
       "version_major": 2,
       "version_minor": 0
      },
      "text/plain": [
       "Lime attribution:   0%|          | 0/25 [00:00<?, ?it/s]"
      ]
     },
     "metadata": {},
     "output_type": "display_data"
    },
    {
     "name": "stderr",
     "output_type": "stream",
     "text": [
      "/home/zhengyang/Desktop/Git_resp_limesegment/classifiers/ResNet.py:149: UserWarning: Implicit dimension choice for softmax has been deprecated. Change the call to include dim=X as an argument.\n",
      "  output_layer = self.softmax(output_layer)\n"
     ]
    },
    {
     "data": {
      "application/vnd.jupyter.widget-view+json": {
       "model_id": "d0c2f5c5045f4d6bac68e24ebc62ed35",
       "version_major": 2,
       "version_minor": 0
      },
      "text/plain": [
       "Lime attribution:   0%|          | 0/25 [00:00<?, ?it/s]"
      ]
     },
     "metadata": {},
     "output_type": "display_data"
    },
    {
     "name": "stderr",
     "output_type": "stream",
     "text": [
      "/home/zhengyang/Desktop/Git_resp_limesegment/classifiers/ResNet.py:149: UserWarning: Implicit dimension choice for softmax has been deprecated. Change the call to include dim=X as an argument.\n",
      "  output_layer = self.softmax(output_layer)\n"
     ]
    },
    {
     "data": {
      "application/vnd.jupyter.widget-view+json": {
       "model_id": "3f80461798f14a9f9c162e0265264ab6",
       "version_major": 2,
       "version_minor": 0
      },
      "text/plain": [
       "Lime attribution:   0%|          | 0/25 [00:00<?, ?it/s]"
      ]
     },
     "metadata": {},
     "output_type": "display_data"
    },
    {
     "name": "stderr",
     "output_type": "stream",
     "text": [
      "/home/zhengyang/Desktop/Git_resp_limesegment/classifiers/ResNet.py:149: UserWarning: Implicit dimension choice for softmax has been deprecated. Change the call to include dim=X as an argument.\n",
      "  output_layer = self.softmax(output_layer)\n"
     ]
    },
    {
     "data": {
      "application/vnd.jupyter.widget-view+json": {
       "model_id": "f9f60dbb771b43db97bbacc8e3683080",
       "version_major": 2,
       "version_minor": 0
      },
      "text/plain": [
       "Lime attribution:   0%|          | 0/25 [00:00<?, ?it/s]"
      ]
     },
     "metadata": {},
     "output_type": "display_data"
    },
    {
     "name": "stderr",
     "output_type": "stream",
     "text": [
      "/home/zhengyang/Desktop/Git_resp_limesegment/classifiers/ResNet.py:149: UserWarning: Implicit dimension choice for softmax has been deprecated. Change the call to include dim=X as an argument.\n",
      "  output_layer = self.softmax(output_layer)\n"
     ]
    },
    {
     "data": {
      "application/vnd.jupyter.widget-view+json": {
       "model_id": "875f7a79a78440719c732aaca5d53cfd",
       "version_major": 2,
       "version_minor": 0
      },
      "text/plain": [
       "Lime attribution:   0%|          | 0/25 [00:00<?, ?it/s]"
      ]
     },
     "metadata": {},
     "output_type": "display_data"
    },
    {
     "name": "stderr",
     "output_type": "stream",
     "text": [
      "/home/zhengyang/Desktop/Git_resp_limesegment/classifiers/ResNet.py:149: UserWarning: Implicit dimension choice for softmax has been deprecated. Change the call to include dim=X as an argument.\n",
      "  output_layer = self.softmax(output_layer)\n"
     ]
    },
    {
     "data": {
      "application/vnd.jupyter.widget-view+json": {
       "model_id": "f42304bfee3d4ddca9a85b617ecea7b9",
       "version_major": 2,
       "version_minor": 0
      },
      "text/plain": [
       "Lime attribution:   0%|          | 0/25 [00:00<?, ?it/s]"
      ]
     },
     "metadata": {},
     "output_type": "display_data"
    },
    {
     "name": "stderr",
     "output_type": "stream",
     "text": [
      "/home/zhengyang/Desktop/Git_resp_limesegment/classifiers/ResNet.py:149: UserWarning: Implicit dimension choice for softmax has been deprecated. Change the call to include dim=X as an argument.\n",
      "  output_layer = self.softmax(output_layer)\n"
     ]
    },
    {
     "data": {
      "application/vnd.jupyter.widget-view+json": {
       "model_id": "6bae2cf309fe40f581eb4be3b0ce684a",
       "version_major": 2,
       "version_minor": 0
      },
      "text/plain": [
       "Lime attribution:   0%|          | 0/25 [00:00<?, ?it/s]"
      ]
     },
     "metadata": {},
     "output_type": "display_data"
    },
    {
     "name": "stderr",
     "output_type": "stream",
     "text": [
      "/home/zhengyang/Desktop/Git_resp_limesegment/classifiers/ResNet.py:149: UserWarning: Implicit dimension choice for softmax has been deprecated. Change the call to include dim=X as an argument.\n",
      "  output_layer = self.softmax(output_layer)\n"
     ]
    },
    {
     "data": {
      "application/vnd.jupyter.widget-view+json": {
       "model_id": "229aacf7845f44ecb55011afcb972f75",
       "version_major": 2,
       "version_minor": 0
      },
      "text/plain": [
       "Lime attribution:   0%|          | 0/25 [00:00<?, ?it/s]"
      ]
     },
     "metadata": {},
     "output_type": "display_data"
    },
    {
     "name": "stderr",
     "output_type": "stream",
     "text": [
      "/home/zhengyang/Desktop/Git_resp_limesegment/classifiers/ResNet.py:149: UserWarning: Implicit dimension choice for softmax has been deprecated. Change the call to include dim=X as an argument.\n",
      "  output_layer = self.softmax(output_layer)\n"
     ]
    },
    {
     "data": {
      "application/vnd.jupyter.widget-view+json": {
       "model_id": "774c79b80a8249a0b06f511198015119",
       "version_major": 2,
       "version_minor": 0
      },
      "text/plain": [
       "Lime attribution:   0%|          | 0/25 [00:00<?, ?it/s]"
      ]
     },
     "metadata": {},
     "output_type": "display_data"
    },
    {
     "name": "stderr",
     "output_type": "stream",
     "text": [
      "/home/zhengyang/Desktop/Git_resp_limesegment/classifiers/ResNet.py:149: UserWarning: Implicit dimension choice for softmax has been deprecated. Change the call to include dim=X as an argument.\n",
      "  output_layer = self.softmax(output_layer)\n"
     ]
    },
    {
     "data": {
      "application/vnd.jupyter.widget-view+json": {
       "model_id": "e931c5351c4442c09c9fe8387061f046",
       "version_major": 2,
       "version_minor": 0
      },
      "text/plain": [
       "Lime attribution:   0%|          | 0/25 [00:00<?, ?it/s]"
      ]
     },
     "metadata": {},
     "output_type": "display_data"
    },
    {
     "name": "stderr",
     "output_type": "stream",
     "text": [
      "/home/zhengyang/Desktop/Git_resp_limesegment/classifiers/ResNet.py:149: UserWarning: Implicit dimension choice for softmax has been deprecated. Change the call to include dim=X as an argument.\n",
      "  output_layer = self.softmax(output_layer)\n"
     ]
    },
    {
     "data": {
      "application/vnd.jupyter.widget-view+json": {
       "model_id": "f26bf8aac1b247df8052933ab35e8d2b",
       "version_major": 2,
       "version_minor": 0
      },
      "text/plain": [
       "Lime attribution:   0%|          | 0/25 [00:00<?, ?it/s]"
      ]
     },
     "metadata": {},
     "output_type": "display_data"
    },
    {
     "name": "stderr",
     "output_type": "stream",
     "text": [
      "/home/zhengyang/Desktop/Git_resp_limesegment/classifiers/ResNet.py:149: UserWarning: Implicit dimension choice for softmax has been deprecated. Change the call to include dim=X as an argument.\n",
      "  output_layer = self.softmax(output_layer)\n"
     ]
    },
    {
     "data": {
      "application/vnd.jupyter.widget-view+json": {
       "model_id": "fa760b0bf43943aea95dc4b35bdc08b4",
       "version_major": 2,
       "version_minor": 0
      },
      "text/plain": [
       "Lime attribution:   0%|          | 0/25 [00:00<?, ?it/s]"
      ]
     },
     "metadata": {},
     "output_type": "display_data"
    },
    {
     "name": "stderr",
     "output_type": "stream",
     "text": [
      "/home/zhengyang/Desktop/Git_resp_limesegment/classifiers/ResNet.py:149: UserWarning: Implicit dimension choice for softmax has been deprecated. Change the call to include dim=X as an argument.\n",
      "  output_layer = self.softmax(output_layer)\n"
     ]
    },
    {
     "data": {
      "application/vnd.jupyter.widget-view+json": {
       "model_id": "d44beaa01ca9411e85eafd182d3598d2",
       "version_major": 2,
       "version_minor": 0
      },
      "text/plain": [
       "Lime attribution:   0%|          | 0/25 [00:00<?, ?it/s]"
      ]
     },
     "metadata": {},
     "output_type": "display_data"
    },
    {
     "name": "stderr",
     "output_type": "stream",
     "text": [
      "/home/zhengyang/Desktop/Git_resp_limesegment/classifiers/ResNet.py:149: UserWarning: Implicit dimension choice for softmax has been deprecated. Change the call to include dim=X as an argument.\n",
      "  output_layer = self.softmax(output_layer)\n"
     ]
    },
    {
     "data": {
      "application/vnd.jupyter.widget-view+json": {
       "model_id": "4bc717fedff245b0ba6e20921f002528",
       "version_major": 2,
       "version_minor": 0
      },
      "text/plain": [
       "Lime attribution:   0%|          | 0/25 [00:00<?, ?it/s]"
      ]
     },
     "metadata": {},
     "output_type": "display_data"
    },
    {
     "name": "stderr",
     "output_type": "stream",
     "text": [
      "/home/zhengyang/Desktop/Git_resp_limesegment/classifiers/ResNet.py:149: UserWarning: Implicit dimension choice for softmax has been deprecated. Change the call to include dim=X as an argument.\n",
      "  output_layer = self.softmax(output_layer)\n"
     ]
    },
    {
     "data": {
      "application/vnd.jupyter.widget-view+json": {
       "model_id": "9bbc7d1407fb472da3bc5c84907eabb8",
       "version_major": 2,
       "version_minor": 0
      },
      "text/plain": [
       "Lime attribution:   0%|          | 0/25 [00:00<?, ?it/s]"
      ]
     },
     "metadata": {},
     "output_type": "display_data"
    },
    {
     "name": "stderr",
     "output_type": "stream",
     "text": [
      "/home/zhengyang/Desktop/Git_resp_limesegment/classifiers/ResNet.py:149: UserWarning: Implicit dimension choice for softmax has been deprecated. Change the call to include dim=X as an argument.\n",
      "  output_layer = self.softmax(output_layer)\n"
     ]
    },
    {
     "data": {
      "application/vnd.jupyter.widget-view+json": {
       "model_id": "74c7e8e929834f4a9c5ea5b813378e72",
       "version_major": 2,
       "version_minor": 0
      },
      "text/plain": [
       "Lime attribution:   0%|          | 0/25 [00:00<?, ?it/s]"
      ]
     },
     "metadata": {},
     "output_type": "display_data"
    },
    {
     "name": "stderr",
     "output_type": "stream",
     "text": [
      "/home/zhengyang/Desktop/Git_resp_limesegment/classifiers/ResNet.py:149: UserWarning: Implicit dimension choice for softmax has been deprecated. Change the call to include dim=X as an argument.\n",
      "  output_layer = self.softmax(output_layer)\n"
     ]
    },
    {
     "data": {
      "application/vnd.jupyter.widget-view+json": {
       "model_id": "6921f45ebdb648c3b0620c28ce3195d5",
       "version_major": 2,
       "version_minor": 0
      },
      "text/plain": [
       "Lime attribution:   0%|          | 0/25 [00:00<?, ?it/s]"
      ]
     },
     "metadata": {},
     "output_type": "display_data"
    },
    {
     "name": "stderr",
     "output_type": "stream",
     "text": [
      "/home/zhengyang/Desktop/Git_resp_limesegment/classifiers/ResNet.py:149: UserWarning: Implicit dimension choice for softmax has been deprecated. Change the call to include dim=X as an argument.\n",
      "  output_layer = self.softmax(output_layer)\n"
     ]
    },
    {
     "data": {
      "application/vnd.jupyter.widget-view+json": {
       "model_id": "ec5fae85745847a09778eb7bd343abe4",
       "version_major": 2,
       "version_minor": 0
      },
      "text/plain": [
       "Lime attribution:   0%|          | 0/25 [00:00<?, ?it/s]"
      ]
     },
     "metadata": {},
     "output_type": "display_data"
    },
    {
     "name": "stderr",
     "output_type": "stream",
     "text": [
      "/home/zhengyang/Desktop/Git_resp_limesegment/classifiers/ResNet.py:149: UserWarning: Implicit dimension choice for softmax has been deprecated. Change the call to include dim=X as an argument.\n",
      "  output_layer = self.softmax(output_layer)\n"
     ]
    },
    {
     "data": {
      "application/vnd.jupyter.widget-view+json": {
       "model_id": "80f5e6b0f8c44ee0bd59de3ac4e425ff",
       "version_major": 2,
       "version_minor": 0
      },
      "text/plain": [
       "Lime attribution:   0%|          | 0/25 [00:00<?, ?it/s]"
      ]
     },
     "metadata": {},
     "output_type": "display_data"
    },
    {
     "name": "stderr",
     "output_type": "stream",
     "text": [
      "/home/zhengyang/Desktop/Git_resp_limesegment/classifiers/ResNet.py:149: UserWarning: Implicit dimension choice for softmax has been deprecated. Change the call to include dim=X as an argument.\n",
      "  output_layer = self.softmax(output_layer)\n"
     ]
    },
    {
     "data": {
      "application/vnd.jupyter.widget-view+json": {
       "model_id": "6f5d1e7e8a9f47a4a2cadaa7662888f7",
       "version_major": 2,
       "version_minor": 0
      },
      "text/plain": [
       "Lime attribution:   0%|          | 0/25 [00:00<?, ?it/s]"
      ]
     },
     "metadata": {},
     "output_type": "display_data"
    },
    {
     "name": "stderr",
     "output_type": "stream",
     "text": [
      "/home/zhengyang/Desktop/Git_resp_limesegment/classifiers/ResNet.py:149: UserWarning: Implicit dimension choice for softmax has been deprecated. Change the call to include dim=X as an argument.\n",
      "  output_layer = self.softmax(output_layer)\n"
     ]
    },
    {
     "data": {
      "application/vnd.jupyter.widget-view+json": {
       "model_id": "bc5607e003e1491284e8ce680d1b4311",
       "version_major": 2,
       "version_minor": 0
      },
      "text/plain": [
       "Lime attribution:   0%|          | 0/25 [00:00<?, ?it/s]"
      ]
     },
     "metadata": {},
     "output_type": "display_data"
    },
    {
     "name": "stderr",
     "output_type": "stream",
     "text": [
      "/home/zhengyang/Desktop/Git_resp_limesegment/classifiers/ResNet.py:149: UserWarning: Implicit dimension choice for softmax has been deprecated. Change the call to include dim=X as an argument.\n",
      "  output_layer = self.softmax(output_layer)\n"
     ]
    },
    {
     "data": {
      "application/vnd.jupyter.widget-view+json": {
       "model_id": "e7e540ee3c3b4d789f986c721033ab71",
       "version_major": 2,
       "version_minor": 0
      },
      "text/plain": [
       "Lime attribution:   0%|          | 0/25 [00:00<?, ?it/s]"
      ]
     },
     "metadata": {},
     "output_type": "display_data"
    },
    {
     "name": "stderr",
     "output_type": "stream",
     "text": [
      "/home/zhengyang/Desktop/Git_resp_limesegment/classifiers/ResNet.py:149: UserWarning: Implicit dimension choice for softmax has been deprecated. Change the call to include dim=X as an argument.\n",
      "  output_layer = self.softmax(output_layer)\n"
     ]
    },
    {
     "data": {
      "application/vnd.jupyter.widget-view+json": {
       "model_id": "8338df6ab5174a56ba69182ecf550064",
       "version_major": 2,
       "version_minor": 0
      },
      "text/plain": [
       "Lime attribution:   0%|          | 0/25 [00:00<?, ?it/s]"
      ]
     },
     "metadata": {},
     "output_type": "display_data"
    },
    {
     "name": "stderr",
     "output_type": "stream",
     "text": [
      "/home/zhengyang/Desktop/Git_resp_limesegment/classifiers/ResNet.py:149: UserWarning: Implicit dimension choice for softmax has been deprecated. Change the call to include dim=X as an argument.\n",
      "  output_layer = self.softmax(output_layer)\n"
     ]
    },
    {
     "data": {
      "application/vnd.jupyter.widget-view+json": {
       "model_id": "8ff578f1ea354d37b2b61e0718fc727c",
       "version_major": 2,
       "version_minor": 0
      },
      "text/plain": [
       "Lime attribution:   0%|          | 0/25 [00:00<?, ?it/s]"
      ]
     },
     "metadata": {},
     "output_type": "display_data"
    },
    {
     "name": "stderr",
     "output_type": "stream",
     "text": [
      "/home/zhengyang/Desktop/Git_resp_limesegment/classifiers/ResNet.py:149: UserWarning: Implicit dimension choice for softmax has been deprecated. Change the call to include dim=X as an argument.\n",
      "  output_layer = self.softmax(output_layer)\n"
     ]
    },
    {
     "data": {
      "application/vnd.jupyter.widget-view+json": {
       "model_id": "f6730c9ab6dd497e89189d77d05f86af",
       "version_major": 2,
       "version_minor": 0
      },
      "text/plain": [
       "Lime attribution:   0%|          | 0/25 [00:00<?, ?it/s]"
      ]
     },
     "metadata": {},
     "output_type": "display_data"
    },
    {
     "name": "stderr",
     "output_type": "stream",
     "text": [
      "/home/zhengyang/Desktop/Git_resp_limesegment/classifiers/ResNet.py:149: UserWarning: Implicit dimension choice for softmax has been deprecated. Change the call to include dim=X as an argument.\n",
      "  output_layer = self.softmax(output_layer)\n"
     ]
    },
    {
     "data": {
      "application/vnd.jupyter.widget-view+json": {
       "model_id": "9aa89113ca78478eb68cddeacaa3ad05",
       "version_major": 2,
       "version_minor": 0
      },
      "text/plain": [
       "Lime attribution:   0%|          | 0/25 [00:00<?, ?it/s]"
      ]
     },
     "metadata": {},
     "output_type": "display_data"
    },
    {
     "name": "stderr",
     "output_type": "stream",
     "text": [
      "/home/zhengyang/Desktop/Git_resp_limesegment/classifiers/ResNet.py:149: UserWarning: Implicit dimension choice for softmax has been deprecated. Change the call to include dim=X as an argument.\n",
      "  output_layer = self.softmax(output_layer)\n"
     ]
    },
    {
     "data": {
      "application/vnd.jupyter.widget-view+json": {
       "model_id": "d6a79d099f664dbf8e9f10d836977e2a",
       "version_major": 2,
       "version_minor": 0
      },
      "text/plain": [
       "Lime attribution:   0%|          | 0/25 [00:00<?, ?it/s]"
      ]
     },
     "metadata": {},
     "output_type": "display_data"
    },
    {
     "name": "stderr",
     "output_type": "stream",
     "text": [
      "/home/zhengyang/Desktop/Git_resp_limesegment/classifiers/ResNet.py:149: UserWarning: Implicit dimension choice for softmax has been deprecated. Change the call to include dim=X as an argument.\n",
      "  output_layer = self.softmax(output_layer)\n"
     ]
    },
    {
     "data": {
      "application/vnd.jupyter.widget-view+json": {
       "model_id": "bbfddf900a914179b212b9e8ec6c2e4f",
       "version_major": 2,
       "version_minor": 0
      },
      "text/plain": [
       "Lime attribution:   0%|          | 0/25 [00:00<?, ?it/s]"
      ]
     },
     "metadata": {},
     "output_type": "display_data"
    },
    {
     "name": "stderr",
     "output_type": "stream",
     "text": [
      "/home/zhengyang/Desktop/Git_resp_limesegment/classifiers/ResNet.py:149: UserWarning: Implicit dimension choice for softmax has been deprecated. Change the call to include dim=X as an argument.\n",
      "  output_layer = self.softmax(output_layer)\n"
     ]
    },
    {
     "data": {
      "application/vnd.jupyter.widget-view+json": {
       "model_id": "13872b8488a54ef6a4e82990adc3acbf",
       "version_major": 2,
       "version_minor": 0
      },
      "text/plain": [
       "Lime attribution:   0%|          | 0/25 [00:00<?, ?it/s]"
      ]
     },
     "metadata": {},
     "output_type": "display_data"
    },
    {
     "name": "stderr",
     "output_type": "stream",
     "text": [
      "/home/zhengyang/Desktop/Git_resp_limesegment/classifiers/ResNet.py:149: UserWarning: Implicit dimension choice for softmax has been deprecated. Change the call to include dim=X as an argument.\n",
      "  output_layer = self.softmax(output_layer)\n"
     ]
    },
    {
     "data": {
      "application/vnd.jupyter.widget-view+json": {
       "model_id": "680fece8931a4d7ea55d6405cd3d311e",
       "version_major": 2,
       "version_minor": 0
      },
      "text/plain": [
       "Lime attribution:   0%|          | 0/25 [00:00<?, ?it/s]"
      ]
     },
     "metadata": {},
     "output_type": "display_data"
    },
    {
     "name": "stderr",
     "output_type": "stream",
     "text": [
      "/home/zhengyang/Desktop/Git_resp_limesegment/classifiers/ResNet.py:149: UserWarning: Implicit dimension choice for softmax has been deprecated. Change the call to include dim=X as an argument.\n",
      "  output_layer = self.softmax(output_layer)\n"
     ]
    },
    {
     "data": {
      "application/vnd.jupyter.widget-view+json": {
       "model_id": "ff3f4b1fdcf74c489a7ecd4c76ff1064",
       "version_major": 2,
       "version_minor": 0
      },
      "text/plain": [
       "Lime attribution:   0%|          | 0/25 [00:00<?, ?it/s]"
      ]
     },
     "metadata": {},
     "output_type": "display_data"
    },
    {
     "name": "stderr",
     "output_type": "stream",
     "text": [
      "/home/zhengyang/Desktop/Git_resp_limesegment/classifiers/ResNet.py:149: UserWarning: Implicit dimension choice for softmax has been deprecated. Change the call to include dim=X as an argument.\n",
      "  output_layer = self.softmax(output_layer)\n"
     ]
    },
    {
     "data": {
      "application/vnd.jupyter.widget-view+json": {
       "model_id": "fd241a248b354a0d95373bdf75203016",
       "version_major": 2,
       "version_minor": 0
      },
      "text/plain": [
       "Lime attribution:   0%|          | 0/25 [00:00<?, ?it/s]"
      ]
     },
     "metadata": {},
     "output_type": "display_data"
    },
    {
     "name": "stderr",
     "output_type": "stream",
     "text": [
      "/home/zhengyang/Desktop/Git_resp_limesegment/classifiers/ResNet.py:149: UserWarning: Implicit dimension choice for softmax has been deprecated. Change the call to include dim=X as an argument.\n",
      "  output_layer = self.softmax(output_layer)\n"
     ]
    },
    {
     "data": {
      "application/vnd.jupyter.widget-view+json": {
       "model_id": "382e512eaaaf432293ad1cb02eeec1a4",
       "version_major": 2,
       "version_minor": 0
      },
      "text/plain": [
       "Lime attribution:   0%|          | 0/25 [00:00<?, ?it/s]"
      ]
     },
     "metadata": {},
     "output_type": "display_data"
    },
    {
     "name": "stderr",
     "output_type": "stream",
     "text": [
      "/home/zhengyang/Desktop/Git_resp_limesegment/classifiers/ResNet.py:149: UserWarning: Implicit dimension choice for softmax has been deprecated. Change the call to include dim=X as an argument.\n",
      "  output_layer = self.softmax(output_layer)\n"
     ]
    },
    {
     "data": {
      "application/vnd.jupyter.widget-view+json": {
       "model_id": "af078d7eaa8141009fa69778e9eafb7d",
       "version_major": 2,
       "version_minor": 0
      },
      "text/plain": [
       "Lime attribution:   0%|          | 0/25 [00:00<?, ?it/s]"
      ]
     },
     "metadata": {},
     "output_type": "display_data"
    },
    {
     "name": "stderr",
     "output_type": "stream",
     "text": [
      "/home/zhengyang/Desktop/Git_resp_limesegment/classifiers/ResNet.py:149: UserWarning: Implicit dimension choice for softmax has been deprecated. Change the call to include dim=X as an argument.\n",
      "  output_layer = self.softmax(output_layer)\n"
     ]
    },
    {
     "data": {
      "application/vnd.jupyter.widget-view+json": {
       "model_id": "77ad39fac3494347ad1ebf0fc9c0a9d9",
       "version_major": 2,
       "version_minor": 0
      },
      "text/plain": [
       "Lime attribution:   0%|          | 0/25 [00:00<?, ?it/s]"
      ]
     },
     "metadata": {},
     "output_type": "display_data"
    },
    {
     "name": "stderr",
     "output_type": "stream",
     "text": [
      "/home/zhengyang/Desktop/Git_resp_limesegment/classifiers/ResNet.py:149: UserWarning: Implicit dimension choice for softmax has been deprecated. Change the call to include dim=X as an argument.\n",
      "  output_layer = self.softmax(output_layer)\n"
     ]
    },
    {
     "data": {
      "application/vnd.jupyter.widget-view+json": {
       "model_id": "323efb8ba8c94e19af4a8eb390ac1271",
       "version_major": 2,
       "version_minor": 0
      },
      "text/plain": [
       "Lime attribution:   0%|          | 0/25 [00:00<?, ?it/s]"
      ]
     },
     "metadata": {},
     "output_type": "display_data"
    },
    {
     "name": "stderr",
     "output_type": "stream",
     "text": [
      "/home/zhengyang/Desktop/Git_resp_limesegment/classifiers/ResNet.py:149: UserWarning: Implicit dimension choice for softmax has been deprecated. Change the call to include dim=X as an argument.\n",
      "  output_layer = self.softmax(output_layer)\n"
     ]
    },
    {
     "data": {
      "application/vnd.jupyter.widget-view+json": {
       "model_id": "42ba49485814403ead545272163200e1",
       "version_major": 2,
       "version_minor": 0
      },
      "text/plain": [
       "Lime attribution:   0%|          | 0/25 [00:00<?, ?it/s]"
      ]
     },
     "metadata": {},
     "output_type": "display_data"
    },
    {
     "name": "stderr",
     "output_type": "stream",
     "text": [
      "/home/zhengyang/Desktop/Git_resp_limesegment/classifiers/ResNet.py:149: UserWarning: Implicit dimension choice for softmax has been deprecated. Change the call to include dim=X as an argument.\n",
      "  output_layer = self.softmax(output_layer)\n"
     ]
    },
    {
     "data": {
      "application/vnd.jupyter.widget-view+json": {
       "model_id": "12447ac2c49443f683fcaaae335bd1d5",
       "version_major": 2,
       "version_minor": 0
      },
      "text/plain": [
       "Lime attribution:   0%|          | 0/25 [00:00<?, ?it/s]"
      ]
     },
     "metadata": {},
     "output_type": "display_data"
    },
    {
     "name": "stderr",
     "output_type": "stream",
     "text": [
      "/home/zhengyang/Desktop/Git_resp_limesegment/classifiers/ResNet.py:149: UserWarning: Implicit dimension choice for softmax has been deprecated. Change the call to include dim=X as an argument.\n",
      "  output_layer = self.softmax(output_layer)\n"
     ]
    },
    {
     "data": {
      "application/vnd.jupyter.widget-view+json": {
       "model_id": "a185f16cad9940dfa90fac0eab8ead29",
       "version_major": 2,
       "version_minor": 0
      },
      "text/plain": [
       "Lime attribution:   0%|          | 0/25 [00:00<?, ?it/s]"
      ]
     },
     "metadata": {},
     "output_type": "display_data"
    },
    {
     "name": "stderr",
     "output_type": "stream",
     "text": [
      "/home/zhengyang/Desktop/Git_resp_limesegment/classifiers/ResNet.py:149: UserWarning: Implicit dimension choice for softmax has been deprecated. Change the call to include dim=X as an argument.\n",
      "  output_layer = self.softmax(output_layer)\n"
     ]
    },
    {
     "data": {
      "application/vnd.jupyter.widget-view+json": {
       "model_id": "221600f4a9944784b61682794fdaec77",
       "version_major": 2,
       "version_minor": 0
      },
      "text/plain": [
       "Lime attribution:   0%|          | 0/25 [00:00<?, ?it/s]"
      ]
     },
     "metadata": {},
     "output_type": "display_data"
    },
    {
     "name": "stderr",
     "output_type": "stream",
     "text": [
      "/home/zhengyang/Desktop/Git_resp_limesegment/classifiers/ResNet.py:149: UserWarning: Implicit dimension choice for softmax has been deprecated. Change the call to include dim=X as an argument.\n",
      "  output_layer = self.softmax(output_layer)\n"
     ]
    },
    {
     "data": {
      "application/vnd.jupyter.widget-view+json": {
       "model_id": "46d41a926c8c4c52be8cd00c7cf4ee2c",
       "version_major": 2,
       "version_minor": 0
      },
      "text/plain": [
       "Lime attribution:   0%|          | 0/25 [00:00<?, ?it/s]"
      ]
     },
     "metadata": {},
     "output_type": "display_data"
    },
    {
     "name": "stderr",
     "output_type": "stream",
     "text": [
      "/home/zhengyang/Desktop/Git_resp_limesegment/classifiers/ResNet.py:149: UserWarning: Implicit dimension choice for softmax has been deprecated. Change the call to include dim=X as an argument.\n",
      "  output_layer = self.softmax(output_layer)\n"
     ]
    },
    {
     "data": {
      "application/vnd.jupyter.widget-view+json": {
       "model_id": "64687e21d2da41a0958105da898f6ecb",
       "version_major": 2,
       "version_minor": 0
      },
      "text/plain": [
       "Lime attribution:   0%|          | 0/25 [00:00<?, ?it/s]"
      ]
     },
     "metadata": {},
     "output_type": "display_data"
    },
    {
     "name": "stderr",
     "output_type": "stream",
     "text": [
      "/home/zhengyang/Desktop/Git_resp_limesegment/classifiers/ResNet.py:149: UserWarning: Implicit dimension choice for softmax has been deprecated. Change the call to include dim=X as an argument.\n",
      "  output_layer = self.softmax(output_layer)\n"
     ]
    },
    {
     "data": {
      "application/vnd.jupyter.widget-view+json": {
       "model_id": "a30e8c5948b14eb69d73c14b892a8b5e",
       "version_major": 2,
       "version_minor": 0
      },
      "text/plain": [
       "Lime attribution:   0%|          | 0/25 [00:00<?, ?it/s]"
      ]
     },
     "metadata": {},
     "output_type": "display_data"
    },
    {
     "name": "stderr",
     "output_type": "stream",
     "text": [
      "/home/zhengyang/Desktop/Git_resp_limesegment/classifiers/ResNet.py:149: UserWarning: Implicit dimension choice for softmax has been deprecated. Change the call to include dim=X as an argument.\n",
      "  output_layer = self.softmax(output_layer)\n"
     ]
    },
    {
     "data": {
      "application/vnd.jupyter.widget-view+json": {
       "model_id": "4703967fb1954d66ac433a3527790547",
       "version_major": 2,
       "version_minor": 0
      },
      "text/plain": [
       "Lime attribution:   0%|          | 0/25 [00:00<?, ?it/s]"
      ]
     },
     "metadata": {},
     "output_type": "display_data"
    },
    {
     "name": "stderr",
     "output_type": "stream",
     "text": [
      "/home/zhengyang/Desktop/Git_resp_limesegment/classifiers/ResNet.py:149: UserWarning: Implicit dimension choice for softmax has been deprecated. Change the call to include dim=X as an argument.\n",
      "  output_layer = self.softmax(output_layer)\n"
     ]
    },
    {
     "data": {
      "application/vnd.jupyter.widget-view+json": {
       "model_id": "2e461495c20b465eb6d0b6683621cf68",
       "version_major": 2,
       "version_minor": 0
      },
      "text/plain": [
       "Lime attribution:   0%|          | 0/25 [00:00<?, ?it/s]"
      ]
     },
     "metadata": {},
     "output_type": "display_data"
    },
    {
     "name": "stderr",
     "output_type": "stream",
     "text": [
      "/home/zhengyang/Desktop/Git_resp_limesegment/classifiers/ResNet.py:149: UserWarning: Implicit dimension choice for softmax has been deprecated. Change the call to include dim=X as an argument.\n",
      "  output_layer = self.softmax(output_layer)\n"
     ]
    },
    {
     "data": {
      "application/vnd.jupyter.widget-view+json": {
       "model_id": "87950eb9414f4ce7911dd6fb606272e3",
       "version_major": 2,
       "version_minor": 0
      },
      "text/plain": [
       "Lime attribution:   0%|          | 0/25 [00:00<?, ?it/s]"
      ]
     },
     "metadata": {},
     "output_type": "display_data"
    },
    {
     "name": "stderr",
     "output_type": "stream",
     "text": [
      "/home/zhengyang/Desktop/Git_resp_limesegment/classifiers/ResNet.py:149: UserWarning: Implicit dimension choice for softmax has been deprecated. Change the call to include dim=X as an argument.\n",
      "  output_layer = self.softmax(output_layer)\n"
     ]
    },
    {
     "data": {
      "application/vnd.jupyter.widget-view+json": {
       "model_id": "6365973dbde44fe49453293628a0f5be",
       "version_major": 2,
       "version_minor": 0
      },
      "text/plain": [
       "Lime attribution:   0%|          | 0/25 [00:00<?, ?it/s]"
      ]
     },
     "metadata": {},
     "output_type": "display_data"
    },
    {
     "name": "stderr",
     "output_type": "stream",
     "text": [
      "/home/zhengyang/Desktop/Git_resp_limesegment/classifiers/ResNet.py:149: UserWarning: Implicit dimension choice for softmax has been deprecated. Change the call to include dim=X as an argument.\n",
      "  output_layer = self.softmax(output_layer)\n"
     ]
    },
    {
     "data": {
      "application/vnd.jupyter.widget-view+json": {
       "model_id": "59bcb0f284a34a68b68a198dc2fc2702",
       "version_major": 2,
       "version_minor": 0
      },
      "text/plain": [
       "Lime attribution:   0%|          | 0/25 [00:00<?, ?it/s]"
      ]
     },
     "metadata": {},
     "output_type": "display_data"
    },
    {
     "name": "stderr",
     "output_type": "stream",
     "text": [
      "/home/zhengyang/Desktop/Git_resp_limesegment/classifiers/ResNet.py:149: UserWarning: Implicit dimension choice for softmax has been deprecated. Change the call to include dim=X as an argument.\n",
      "  output_layer = self.softmax(output_layer)\n"
     ]
    },
    {
     "data": {
      "application/vnd.jupyter.widget-view+json": {
       "model_id": "56225bb01d074f2a92bf379dcf473154",
       "version_major": 2,
       "version_minor": 0
      },
      "text/plain": [
       "Lime attribution:   0%|          | 0/25 [00:00<?, ?it/s]"
      ]
     },
     "metadata": {},
     "output_type": "display_data"
    },
    {
     "name": "stderr",
     "output_type": "stream",
     "text": [
      "/home/zhengyang/Desktop/Git_resp_limesegment/classifiers/ResNet.py:149: UserWarning: Implicit dimension choice for softmax has been deprecated. Change the call to include dim=X as an argument.\n",
      "  output_layer = self.softmax(output_layer)\n"
     ]
    },
    {
     "data": {
      "application/vnd.jupyter.widget-view+json": {
       "model_id": "f34f501721f84ba3808bc8084ce18f1f",
       "version_major": 2,
       "version_minor": 0
      },
      "text/plain": [
       "Lime attribution:   0%|          | 0/25 [00:00<?, ?it/s]"
      ]
     },
     "metadata": {},
     "output_type": "display_data"
    },
    {
     "name": "stderr",
     "output_type": "stream",
     "text": [
      "/home/zhengyang/Desktop/Git_resp_limesegment/classifiers/ResNet.py:149: UserWarning: Implicit dimension choice for softmax has been deprecated. Change the call to include dim=X as an argument.\n",
      "  output_layer = self.softmax(output_layer)\n"
     ]
    },
    {
     "data": {
      "application/vnd.jupyter.widget-view+json": {
       "model_id": "befae6ae79634820988f0771ba0890a4",
       "version_major": 2,
       "version_minor": 0
      },
      "text/plain": [
       "Lime attribution:   0%|          | 0/25 [00:00<?, ?it/s]"
      ]
     },
     "metadata": {},
     "output_type": "display_data"
    },
    {
     "name": "stderr",
     "output_type": "stream",
     "text": [
      "/home/zhengyang/Desktop/Git_resp_limesegment/classifiers/ResNet.py:149: UserWarning: Implicit dimension choice for softmax has been deprecated. Change the call to include dim=X as an argument.\n",
      "  output_layer = self.softmax(output_layer)\n"
     ]
    },
    {
     "data": {
      "application/vnd.jupyter.widget-view+json": {
       "model_id": "9db2f13a82984cbd88001564b6f9fe63",
       "version_major": 2,
       "version_minor": 0
      },
      "text/plain": [
       "Lime attribution:   0%|          | 0/25 [00:00<?, ?it/s]"
      ]
     },
     "metadata": {},
     "output_type": "display_data"
    },
    {
     "name": "stderr",
     "output_type": "stream",
     "text": [
      "/home/zhengyang/Desktop/Git_resp_limesegment/classifiers/ResNet.py:149: UserWarning: Implicit dimension choice for softmax has been deprecated. Change the call to include dim=X as an argument.\n",
      "  output_layer = self.softmax(output_layer)\n"
     ]
    },
    {
     "data": {
      "application/vnd.jupyter.widget-view+json": {
       "model_id": "b20d041cf23b41bdb2b9fc7c05986a96",
       "version_major": 2,
       "version_minor": 0
      },
      "text/plain": [
       "Lime attribution:   0%|          | 0/25 [00:00<?, ?it/s]"
      ]
     },
     "metadata": {},
     "output_type": "display_data"
    },
    {
     "name": "stderr",
     "output_type": "stream",
     "text": [
      "/home/zhengyang/Desktop/Git_resp_limesegment/classifiers/ResNet.py:149: UserWarning: Implicit dimension choice for softmax has been deprecated. Change the call to include dim=X as an argument.\n",
      "  output_layer = self.softmax(output_layer)\n"
     ]
    },
    {
     "data": {
      "application/vnd.jupyter.widget-view+json": {
       "model_id": "6a471f26459642cd9890a933431c64e3",
       "version_major": 2,
       "version_minor": 0
      },
      "text/plain": [
       "Lime attribution:   0%|          | 0/25 [00:00<?, ?it/s]"
      ]
     },
     "metadata": {},
     "output_type": "display_data"
    },
    {
     "name": "stderr",
     "output_type": "stream",
     "text": [
      "/home/zhengyang/Desktop/Git_resp_limesegment/classifiers/ResNet.py:149: UserWarning: Implicit dimension choice for softmax has been deprecated. Change the call to include dim=X as an argument.\n",
      "  output_layer = self.softmax(output_layer)\n"
     ]
    },
    {
     "data": {
      "application/vnd.jupyter.widget-view+json": {
       "model_id": "bfcf90431e604209bcbe13c80fa52c04",
       "version_major": 2,
       "version_minor": 0
      },
      "text/plain": [
       "Lime attribution:   0%|          | 0/25 [00:00<?, ?it/s]"
      ]
     },
     "metadata": {},
     "output_type": "display_data"
    },
    {
     "name": "stderr",
     "output_type": "stream",
     "text": [
      "/home/zhengyang/Desktop/Git_resp_limesegment/classifiers/ResNet.py:149: UserWarning: Implicit dimension choice for softmax has been deprecated. Change the call to include dim=X as an argument.\n",
      "  output_layer = self.softmax(output_layer)\n"
     ]
    },
    {
     "data": {
      "application/vnd.jupyter.widget-view+json": {
       "model_id": "fb77c3160aad46beaf983a0f5d848ed0",
       "version_major": 2,
       "version_minor": 0
      },
      "text/plain": [
       "Lime attribution:   0%|          | 0/25 [00:00<?, ?it/s]"
      ]
     },
     "metadata": {},
     "output_type": "display_data"
    },
    {
     "name": "stderr",
     "output_type": "stream",
     "text": [
      "/home/zhengyang/Desktop/Git_resp_limesegment/classifiers/ResNet.py:149: UserWarning: Implicit dimension choice for softmax has been deprecated. Change the call to include dim=X as an argument.\n",
      "  output_layer = self.softmax(output_layer)\n"
     ]
    },
    {
     "data": {
      "application/vnd.jupyter.widget-view+json": {
       "model_id": "7cf4015caffd4b2abd32989af2670bce",
       "version_major": 2,
       "version_minor": 0
      },
      "text/plain": [
       "Lime attribution:   0%|          | 0/25 [00:00<?, ?it/s]"
      ]
     },
     "metadata": {},
     "output_type": "display_data"
    },
    {
     "name": "stderr",
     "output_type": "stream",
     "text": [
      "/home/zhengyang/Desktop/Git_resp_limesegment/classifiers/ResNet.py:149: UserWarning: Implicit dimension choice for softmax has been deprecated. Change the call to include dim=X as an argument.\n",
      "  output_layer = self.softmax(output_layer)\n"
     ]
    },
    {
     "data": {
      "application/vnd.jupyter.widget-view+json": {
       "model_id": "bc2ffe19725d4aed9eac0382c5a1509f",
       "version_major": 2,
       "version_minor": 0
      },
      "text/plain": [
       "Lime attribution:   0%|          | 0/25 [00:00<?, ?it/s]"
      ]
     },
     "metadata": {},
     "output_type": "display_data"
    },
    {
     "name": "stderr",
     "output_type": "stream",
     "text": [
      "/home/zhengyang/Desktop/Git_resp_limesegment/classifiers/ResNet.py:149: UserWarning: Implicit dimension choice for softmax has been deprecated. Change the call to include dim=X as an argument.\n",
      "  output_layer = self.softmax(output_layer)\n"
     ]
    },
    {
     "data": {
      "application/vnd.jupyter.widget-view+json": {
       "model_id": "f402d639faff47168fb088bbd4036ee3",
       "version_major": 2,
       "version_minor": 0
      },
      "text/plain": [
       "Lime attribution:   0%|          | 0/25 [00:00<?, ?it/s]"
      ]
     },
     "metadata": {},
     "output_type": "display_data"
    },
    {
     "name": "stderr",
     "output_type": "stream",
     "text": [
      "/home/zhengyang/Desktop/Git_resp_limesegment/classifiers/ResNet.py:149: UserWarning: Implicit dimension choice for softmax has been deprecated. Change the call to include dim=X as an argument.\n",
      "  output_layer = self.softmax(output_layer)\n"
     ]
    },
    {
     "data": {
      "application/vnd.jupyter.widget-view+json": {
       "model_id": "cf21c28c7cf64d758998528493759aa7",
       "version_major": 2,
       "version_minor": 0
      },
      "text/plain": [
       "Lime attribution:   0%|          | 0/25 [00:00<?, ?it/s]"
      ]
     },
     "metadata": {},
     "output_type": "display_data"
    },
    {
     "name": "stderr",
     "output_type": "stream",
     "text": [
      "/home/zhengyang/Desktop/Git_resp_limesegment/classifiers/ResNet.py:149: UserWarning: Implicit dimension choice for softmax has been deprecated. Change the call to include dim=X as an argument.\n",
      "  output_layer = self.softmax(output_layer)\n"
     ]
    },
    {
     "data": {
      "application/vnd.jupyter.widget-view+json": {
       "model_id": "10dfb420923b41df8ae2dafe8bbf6e5e",
       "version_major": 2,
       "version_minor": 0
      },
      "text/plain": [
       "Lime attribution:   0%|          | 0/25 [00:00<?, ?it/s]"
      ]
     },
     "metadata": {},
     "output_type": "display_data"
    },
    {
     "name": "stderr",
     "output_type": "stream",
     "text": [
      "/home/zhengyang/Desktop/Git_resp_limesegment/classifiers/ResNet.py:149: UserWarning: Implicit dimension choice for softmax has been deprecated. Change the call to include dim=X as an argument.\n",
      "  output_layer = self.softmax(output_layer)\n"
     ]
    },
    {
     "data": {
      "application/vnd.jupyter.widget-view+json": {
       "model_id": "e261269a3ad544f79dc5f2d39c600b5b",
       "version_major": 2,
       "version_minor": 0
      },
      "text/plain": [
       "Lime attribution:   0%|          | 0/25 [00:00<?, ?it/s]"
      ]
     },
     "metadata": {},
     "output_type": "display_data"
    },
    {
     "name": "stderr",
     "output_type": "stream",
     "text": [
      "/home/zhengyang/Desktop/Git_resp_limesegment/classifiers/ResNet.py:149: UserWarning: Implicit dimension choice for softmax has been deprecated. Change the call to include dim=X as an argument.\n",
      "  output_layer = self.softmax(output_layer)\n"
     ]
    },
    {
     "data": {
      "application/vnd.jupyter.widget-view+json": {
       "model_id": "ea062d78479849c8ae7e231b0c0ff0cf",
       "version_major": 2,
       "version_minor": 0
      },
      "text/plain": [
       "Lime attribution:   0%|          | 0/25 [00:00<?, ?it/s]"
      ]
     },
     "metadata": {},
     "output_type": "display_data"
    },
    {
     "name": "stderr",
     "output_type": "stream",
     "text": [
      "/home/zhengyang/Desktop/Git_resp_limesegment/classifiers/ResNet.py:149: UserWarning: Implicit dimension choice for softmax has been deprecated. Change the call to include dim=X as an argument.\n",
      "  output_layer = self.softmax(output_layer)\n"
     ]
    },
    {
     "data": {
      "application/vnd.jupyter.widget-view+json": {
       "model_id": "4a528ce8395e497d98ea62658cf0a6a3",
       "version_major": 2,
       "version_minor": 0
      },
      "text/plain": [
       "Lime attribution:   0%|          | 0/25 [00:00<?, ?it/s]"
      ]
     },
     "metadata": {},
     "output_type": "display_data"
    },
    {
     "name": "stderr",
     "output_type": "stream",
     "text": [
      "/home/zhengyang/Desktop/Git_resp_limesegment/classifiers/ResNet.py:149: UserWarning: Implicit dimension choice for softmax has been deprecated. Change the call to include dim=X as an argument.\n",
      "  output_layer = self.softmax(output_layer)\n"
     ]
    },
    {
     "data": {
      "application/vnd.jupyter.widget-view+json": {
       "model_id": "490f6c9cdda645099913f64ec0ecae89",
       "version_major": 2,
       "version_minor": 0
      },
      "text/plain": [
       "Lime attribution:   0%|          | 0/25 [00:00<?, ?it/s]"
      ]
     },
     "metadata": {},
     "output_type": "display_data"
    },
    {
     "name": "stderr",
     "output_type": "stream",
     "text": [
      "/home/zhengyang/Desktop/Git_resp_limesegment/classifiers/ResNet.py:149: UserWarning: Implicit dimension choice for softmax has been deprecated. Change the call to include dim=X as an argument.\n",
      "  output_layer = self.softmax(output_layer)\n"
     ]
    },
    {
     "data": {
      "application/vnd.jupyter.widget-view+json": {
       "model_id": "4fe30acda56546a3abcfa0d583b1431d",
       "version_major": 2,
       "version_minor": 0
      },
      "text/plain": [
       "Lime attribution:   0%|          | 0/25 [00:00<?, ?it/s]"
      ]
     },
     "metadata": {},
     "output_type": "display_data"
    },
    {
     "name": "stderr",
     "output_type": "stream",
     "text": [
      "/home/zhengyang/Desktop/Git_resp_limesegment/classifiers/ResNet.py:149: UserWarning: Implicit dimension choice for softmax has been deprecated. Change the call to include dim=X as an argument.\n",
      "  output_layer = self.softmax(output_layer)\n"
     ]
    },
    {
     "data": {
      "application/vnd.jupyter.widget-view+json": {
       "model_id": "2c5e9fb1c8be4fb89a75fbd7b9ffedab",
       "version_major": 2,
       "version_minor": 0
      },
      "text/plain": [
       "Lime attribution:   0%|          | 0/25 [00:00<?, ?it/s]"
      ]
     },
     "metadata": {},
     "output_type": "display_data"
    },
    {
     "name": "stderr",
     "output_type": "stream",
     "text": [
      "/home/zhengyang/Desktop/Git_resp_limesegment/classifiers/ResNet.py:149: UserWarning: Implicit dimension choice for softmax has been deprecated. Change the call to include dim=X as an argument.\n",
      "  output_layer = self.softmax(output_layer)\n"
     ]
    },
    {
     "data": {
      "application/vnd.jupyter.widget-view+json": {
       "model_id": "4c07ce8ea05049ab9d1ef837295f273d",
       "version_major": 2,
       "version_minor": 0
      },
      "text/plain": [
       "Lime attribution:   0%|          | 0/25 [00:00<?, ?it/s]"
      ]
     },
     "metadata": {},
     "output_type": "display_data"
    },
    {
     "name": "stderr",
     "output_type": "stream",
     "text": [
      "/home/zhengyang/Desktop/Git_resp_limesegment/classifiers/ResNet.py:149: UserWarning: Implicit dimension choice for softmax has been deprecated. Change the call to include dim=X as an argument.\n",
      "  output_layer = self.softmax(output_layer)\n"
     ]
    },
    {
     "data": {
      "application/vnd.jupyter.widget-view+json": {
       "model_id": "16aa8429aebb4c58b11ba0efe3b9d2dd",
       "version_major": 2,
       "version_minor": 0
      },
      "text/plain": [
       "Lime attribution:   0%|          | 0/25 [00:00<?, ?it/s]"
      ]
     },
     "metadata": {},
     "output_type": "display_data"
    },
    {
     "name": "stderr",
     "output_type": "stream",
     "text": [
      "/home/zhengyang/Desktop/Git_resp_limesegment/classifiers/ResNet.py:149: UserWarning: Implicit dimension choice for softmax has been deprecated. Change the call to include dim=X as an argument.\n",
      "  output_layer = self.softmax(output_layer)\n"
     ]
    },
    {
     "data": {
      "application/vnd.jupyter.widget-view+json": {
       "model_id": "6bea1a18410249d8ae36d9a82d2ba7da",
       "version_major": 2,
       "version_minor": 0
      },
      "text/plain": [
       "Lime attribution:   0%|          | 0/25 [00:00<?, ?it/s]"
      ]
     },
     "metadata": {},
     "output_type": "display_data"
    },
    {
     "name": "stderr",
     "output_type": "stream",
     "text": [
      "/home/zhengyang/Desktop/Git_resp_limesegment/classifiers/ResNet.py:149: UserWarning: Implicit dimension choice for softmax has been deprecated. Change the call to include dim=X as an argument.\n",
      "  output_layer = self.softmax(output_layer)\n"
     ]
    },
    {
     "data": {
      "application/vnd.jupyter.widget-view+json": {
       "model_id": "7ba26d0a22904c7cb58ba6b301197e82",
       "version_major": 2,
       "version_minor": 0
      },
      "text/plain": [
       "Lime attribution:   0%|          | 0/25 [00:00<?, ?it/s]"
      ]
     },
     "metadata": {},
     "output_type": "display_data"
    },
    {
     "name": "stderr",
     "output_type": "stream",
     "text": [
      "/home/zhengyang/Desktop/Git_resp_limesegment/classifiers/ResNet.py:149: UserWarning: Implicit dimension choice for softmax has been deprecated. Change the call to include dim=X as an argument.\n",
      "  output_layer = self.softmax(output_layer)\n"
     ]
    },
    {
     "data": {
      "application/vnd.jupyter.widget-view+json": {
       "model_id": "8ce9a9d84cd246a69e88610e7e78d895",
       "version_major": 2,
       "version_minor": 0
      },
      "text/plain": [
       "Lime attribution:   0%|          | 0/25 [00:00<?, ?it/s]"
      ]
     },
     "metadata": {},
     "output_type": "display_data"
    },
    {
     "name": "stderr",
     "output_type": "stream",
     "text": [
      "/home/zhengyang/Desktop/Git_resp_limesegment/classifiers/ResNet.py:149: UserWarning: Implicit dimension choice for softmax has been deprecated. Change the call to include dim=X as an argument.\n",
      "  output_layer = self.softmax(output_layer)\n"
     ]
    },
    {
     "data": {
      "application/vnd.jupyter.widget-view+json": {
       "model_id": "e17e00b1c4454ee9b263ec5de7673972",
       "version_major": 2,
       "version_minor": 0
      },
      "text/plain": [
       "Lime attribution:   0%|          | 0/25 [00:00<?, ?it/s]"
      ]
     },
     "metadata": {},
     "output_type": "display_data"
    },
    {
     "name": "stderr",
     "output_type": "stream",
     "text": [
      "/home/zhengyang/Desktop/Git_resp_limesegment/classifiers/ResNet.py:149: UserWarning: Implicit dimension choice for softmax has been deprecated. Change the call to include dim=X as an argument.\n",
      "  output_layer = self.softmax(output_layer)\n"
     ]
    },
    {
     "data": {
      "application/vnd.jupyter.widget-view+json": {
       "model_id": "421abe9877fc4195befd2fba96057540",
       "version_major": 2,
       "version_minor": 0
      },
      "text/plain": [
       "Lime attribution:   0%|          | 0/25 [00:00<?, ?it/s]"
      ]
     },
     "metadata": {},
     "output_type": "display_data"
    },
    {
     "name": "stderr",
     "output_type": "stream",
     "text": [
      "/home/zhengyang/Desktop/Git_resp_limesegment/classifiers/ResNet.py:149: UserWarning: Implicit dimension choice for softmax has been deprecated. Change the call to include dim=X as an argument.\n",
      "  output_layer = self.softmax(output_layer)\n"
     ]
    },
    {
     "data": {
      "application/vnd.jupyter.widget-view+json": {
       "model_id": "c8969bf33ac7412380fe725f8309b3ab",
       "version_major": 2,
       "version_minor": 0
      },
      "text/plain": [
       "Lime attribution:   0%|          | 0/25 [00:00<?, ?it/s]"
      ]
     },
     "metadata": {},
     "output_type": "display_data"
    },
    {
     "name": "stderr",
     "output_type": "stream",
     "text": [
      "/home/zhengyang/Desktop/Git_resp_limesegment/classifiers/ResNet.py:149: UserWarning: Implicit dimension choice for softmax has been deprecated. Change the call to include dim=X as an argument.\n",
      "  output_layer = self.softmax(output_layer)\n"
     ]
    },
    {
     "data": {
      "application/vnd.jupyter.widget-view+json": {
       "model_id": "c1541dbb41f845bda9d80371eb5cd84b",
       "version_major": 2,
       "version_minor": 0
      },
      "text/plain": [
       "Lime attribution:   0%|          | 0/25 [00:00<?, ?it/s]"
      ]
     },
     "metadata": {},
     "output_type": "display_data"
    },
    {
     "name": "stderr",
     "output_type": "stream",
     "text": [
      "/home/zhengyang/Desktop/Git_resp_limesegment/classifiers/ResNet.py:149: UserWarning: Implicit dimension choice for softmax has been deprecated. Change the call to include dim=X as an argument.\n",
      "  output_layer = self.softmax(output_layer)\n"
     ]
    },
    {
     "data": {
      "application/vnd.jupyter.widget-view+json": {
       "model_id": "5c338c781c4d4e27ae19f77f342896d9",
       "version_major": 2,
       "version_minor": 0
      },
      "text/plain": [
       "Lime attribution:   0%|          | 0/25 [00:00<?, ?it/s]"
      ]
     },
     "metadata": {},
     "output_type": "display_data"
    },
    {
     "name": "stderr",
     "output_type": "stream",
     "text": [
      "/home/zhengyang/Desktop/Git_resp_limesegment/classifiers/ResNet.py:149: UserWarning: Implicit dimension choice for softmax has been deprecated. Change the call to include dim=X as an argument.\n",
      "  output_layer = self.softmax(output_layer)\n"
     ]
    },
    {
     "data": {
      "application/vnd.jupyter.widget-view+json": {
       "model_id": "a08b1ef322bc40bbaf088ffbcf01a8a6",
       "version_major": 2,
       "version_minor": 0
      },
      "text/plain": [
       "Lime attribution:   0%|          | 0/25 [00:00<?, ?it/s]"
      ]
     },
     "metadata": {},
     "output_type": "display_data"
    },
    {
     "name": "stderr",
     "output_type": "stream",
     "text": [
      "/home/zhengyang/Desktop/Git_resp_limesegment/classifiers/ResNet.py:149: UserWarning: Implicit dimension choice for softmax has been deprecated. Change the call to include dim=X as an argument.\n",
      "  output_layer = self.softmax(output_layer)\n"
     ]
    },
    {
     "data": {
      "application/vnd.jupyter.widget-view+json": {
       "model_id": "8f052eb11d82473f8f186d36140c1617",
       "version_major": 2,
       "version_minor": 0
      },
      "text/plain": [
       "Lime attribution:   0%|          | 0/25 [00:00<?, ?it/s]"
      ]
     },
     "metadata": {},
     "output_type": "display_data"
    },
    {
     "name": "stderr",
     "output_type": "stream",
     "text": [
      "/home/zhengyang/Desktop/Git_resp_limesegment/classifiers/ResNet.py:149: UserWarning: Implicit dimension choice for softmax has been deprecated. Change the call to include dim=X as an argument.\n",
      "  output_layer = self.softmax(output_layer)\n"
     ]
    },
    {
     "data": {
      "application/vnd.jupyter.widget-view+json": {
       "model_id": "df16924f4b8f407e9f4cc16ae431633e",
       "version_major": 2,
       "version_minor": 0
      },
      "text/plain": [
       "Lime attribution:   0%|          | 0/25 [00:00<?, ?it/s]"
      ]
     },
     "metadata": {},
     "output_type": "display_data"
    },
    {
     "name": "stderr",
     "output_type": "stream",
     "text": [
      "/home/zhengyang/Desktop/Git_resp_limesegment/classifiers/ResNet.py:149: UserWarning: Implicit dimension choice for softmax has been deprecated. Change the call to include dim=X as an argument.\n",
      "  output_layer = self.softmax(output_layer)\n"
     ]
    },
    {
     "data": {
      "application/vnd.jupyter.widget-view+json": {
       "model_id": "67024a359ffd471fa55439fccbbad184",
       "version_major": 2,
       "version_minor": 0
      },
      "text/plain": [
       "Lime attribution:   0%|          | 0/25 [00:00<?, ?it/s]"
      ]
     },
     "metadata": {},
     "output_type": "display_data"
    },
    {
     "name": "stderr",
     "output_type": "stream",
     "text": [
      "/home/zhengyang/Desktop/Git_resp_limesegment/classifiers/ResNet.py:149: UserWarning: Implicit dimension choice for softmax has been deprecated. Change the call to include dim=X as an argument.\n",
      "  output_layer = self.softmax(output_layer)\n"
     ]
    },
    {
     "data": {
      "application/vnd.jupyter.widget-view+json": {
       "model_id": "dced38795b874b199ec65ceb35e9edba",
       "version_major": 2,
       "version_minor": 0
      },
      "text/plain": [
       "Lime attribution:   0%|          | 0/25 [00:00<?, ?it/s]"
      ]
     },
     "metadata": {},
     "output_type": "display_data"
    },
    {
     "name": "stderr",
     "output_type": "stream",
     "text": [
      "/home/zhengyang/Desktop/Git_resp_limesegment/classifiers/ResNet.py:149: UserWarning: Implicit dimension choice for softmax has been deprecated. Change the call to include dim=X as an argument.\n",
      "  output_layer = self.softmax(output_layer)\n"
     ]
    },
    {
     "data": {
      "application/vnd.jupyter.widget-view+json": {
       "model_id": "20b972f7b69e4b84bba46485463678f1",
       "version_major": 2,
       "version_minor": 0
      },
      "text/plain": [
       "Lime attribution:   0%|          | 0/25 [00:00<?, ?it/s]"
      ]
     },
     "metadata": {},
     "output_type": "display_data"
    },
    {
     "name": "stderr",
     "output_type": "stream",
     "text": [
      "/home/zhengyang/Desktop/Git_resp_limesegment/classifiers/ResNet.py:149: UserWarning: Implicit dimension choice for softmax has been deprecated. Change the call to include dim=X as an argument.\n",
      "  output_layer = self.softmax(output_layer)\n"
     ]
    },
    {
     "data": {
      "application/vnd.jupyter.widget-view+json": {
       "model_id": "d88a593f8aed4126a50f2088a331c265",
       "version_major": 2,
       "version_minor": 0
      },
      "text/plain": [
       "Lime attribution:   0%|          | 0/25 [00:00<?, ?it/s]"
      ]
     },
     "metadata": {},
     "output_type": "display_data"
    },
    {
     "name": "stderr",
     "output_type": "stream",
     "text": [
      "/home/zhengyang/Desktop/Git_resp_limesegment/classifiers/ResNet.py:149: UserWarning: Implicit dimension choice for softmax has been deprecated. Change the call to include dim=X as an argument.\n",
      "  output_layer = self.softmax(output_layer)\n"
     ]
    },
    {
     "data": {
      "application/vnd.jupyter.widget-view+json": {
       "model_id": "8cb9c2d6af9444999f089c697da4612a",
       "version_major": 2,
       "version_minor": 0
      },
      "text/plain": [
       "Lime attribution:   0%|          | 0/25 [00:00<?, ?it/s]"
      ]
     },
     "metadata": {},
     "output_type": "display_data"
    },
    {
     "name": "stderr",
     "output_type": "stream",
     "text": [
      "/home/zhengyang/Desktop/Git_resp_limesegment/classifiers/ResNet.py:149: UserWarning: Implicit dimension choice for softmax has been deprecated. Change the call to include dim=X as an argument.\n",
      "  output_layer = self.softmax(output_layer)\n"
     ]
    },
    {
     "data": {
      "application/vnd.jupyter.widget-view+json": {
       "model_id": "581a82e627e144d1a24e413703fda9ca",
       "version_major": 2,
       "version_minor": 0
      },
      "text/plain": [
       "Lime attribution:   0%|          | 0/25 [00:00<?, ?it/s]"
      ]
     },
     "metadata": {},
     "output_type": "display_data"
    },
    {
     "name": "stderr",
     "output_type": "stream",
     "text": [
      "/home/zhengyang/Desktop/Git_resp_limesegment/classifiers/ResNet.py:149: UserWarning: Implicit dimension choice for softmax has been deprecated. Change the call to include dim=X as an argument.\n",
      "  output_layer = self.softmax(output_layer)\n"
     ]
    },
    {
     "data": {
      "application/vnd.jupyter.widget-view+json": {
       "model_id": "e81be6faf449490d946089c698b5e3fc",
       "version_major": 2,
       "version_minor": 0
      },
      "text/plain": [
       "Lime attribution:   0%|          | 0/25 [00:00<?, ?it/s]"
      ]
     },
     "metadata": {},
     "output_type": "display_data"
    },
    {
     "name": "stderr",
     "output_type": "stream",
     "text": [
      "/home/zhengyang/Desktop/Git_resp_limesegment/classifiers/ResNet.py:149: UserWarning: Implicit dimension choice for softmax has been deprecated. Change the call to include dim=X as an argument.\n",
      "  output_layer = self.softmax(output_layer)\n"
     ]
    },
    {
     "data": {
      "application/vnd.jupyter.widget-view+json": {
       "model_id": "6d317237276f445395991c3d399ea0da",
       "version_major": 2,
       "version_minor": 0
      },
      "text/plain": [
       "Lime attribution:   0%|          | 0/25 [00:00<?, ?it/s]"
      ]
     },
     "metadata": {},
     "output_type": "display_data"
    },
    {
     "name": "stderr",
     "output_type": "stream",
     "text": [
      "/home/zhengyang/Desktop/Git_resp_limesegment/classifiers/ResNet.py:149: UserWarning: Implicit dimension choice for softmax has been deprecated. Change the call to include dim=X as an argument.\n",
      "  output_layer = self.softmax(output_layer)\n"
     ]
    },
    {
     "data": {
      "application/vnd.jupyter.widget-view+json": {
       "model_id": "51ee37c7655e4ad589033fec447e5d61",
       "version_major": 2,
       "version_minor": 0
      },
      "text/plain": [
       "Lime attribution:   0%|          | 0/25 [00:00<?, ?it/s]"
      ]
     },
     "metadata": {},
     "output_type": "display_data"
    },
    {
     "name": "stderr",
     "output_type": "stream",
     "text": [
      "/home/zhengyang/Desktop/Git_resp_limesegment/classifiers/ResNet.py:149: UserWarning: Implicit dimension choice for softmax has been deprecated. Change the call to include dim=X as an argument.\n",
      "  output_layer = self.softmax(output_layer)\n"
     ]
    },
    {
     "data": {
      "application/vnd.jupyter.widget-view+json": {
       "model_id": "cdd3f5285e164a189f0c797ed1401ac1",
       "version_major": 2,
       "version_minor": 0
      },
      "text/plain": [
       "Lime attribution:   0%|          | 0/25 [00:00<?, ?it/s]"
      ]
     },
     "metadata": {},
     "output_type": "display_data"
    },
    {
     "name": "stderr",
     "output_type": "stream",
     "text": [
      "/home/zhengyang/Desktop/Git_resp_limesegment/classifiers/ResNet.py:149: UserWarning: Implicit dimension choice for softmax has been deprecated. Change the call to include dim=X as an argument.\n",
      "  output_layer = self.softmax(output_layer)\n"
     ]
    },
    {
     "data": {
      "application/vnd.jupyter.widget-view+json": {
       "model_id": "d07491fbe59e48b293f4a30724ef7cb0",
       "version_major": 2,
       "version_minor": 0
      },
      "text/plain": [
       "Lime attribution:   0%|          | 0/25 [00:00<?, ?it/s]"
      ]
     },
     "metadata": {},
     "output_type": "display_data"
    },
    {
     "name": "stderr",
     "output_type": "stream",
     "text": [
      "/home/zhengyang/Desktop/Git_resp_limesegment/classifiers/ResNet.py:149: UserWarning: Implicit dimension choice for softmax has been deprecated. Change the call to include dim=X as an argument.\n",
      "  output_layer = self.softmax(output_layer)\n"
     ]
    },
    {
     "data": {
      "application/vnd.jupyter.widget-view+json": {
       "model_id": "c64d2b0293624cd1ba45083bd58ccf32",
       "version_major": 2,
       "version_minor": 0
      },
      "text/plain": [
       "Lime attribution:   0%|          | 0/25 [00:00<?, ?it/s]"
      ]
     },
     "metadata": {},
     "output_type": "display_data"
    },
    {
     "name": "stderr",
     "output_type": "stream",
     "text": [
      "/home/zhengyang/Desktop/Git_resp_limesegment/classifiers/ResNet.py:149: UserWarning: Implicit dimension choice for softmax has been deprecated. Change the call to include dim=X as an argument.\n",
      "  output_layer = self.softmax(output_layer)\n"
     ]
    },
    {
     "data": {
      "application/vnd.jupyter.widget-view+json": {
       "model_id": "1f95cd843d19419da1d5e29b453b3673",
       "version_major": 2,
       "version_minor": 0
      },
      "text/plain": [
       "Lime attribution:   0%|          | 0/25 [00:00<?, ?it/s]"
      ]
     },
     "metadata": {},
     "output_type": "display_data"
    },
    {
     "name": "stderr",
     "output_type": "stream",
     "text": [
      "/home/zhengyang/Desktop/Git_resp_limesegment/classifiers/ResNet.py:149: UserWarning: Implicit dimension choice for softmax has been deprecated. Change the call to include dim=X as an argument.\n",
      "  output_layer = self.softmax(output_layer)\n"
     ]
    },
    {
     "data": {
      "application/vnd.jupyter.widget-view+json": {
       "model_id": "d379c125980644eca3da0b119997669a",
       "version_major": 2,
       "version_minor": 0
      },
      "text/plain": [
       "Lime attribution:   0%|          | 0/25 [00:00<?, ?it/s]"
      ]
     },
     "metadata": {},
     "output_type": "display_data"
    },
    {
     "name": "stderr",
     "output_type": "stream",
     "text": [
      "/home/zhengyang/Desktop/Git_resp_limesegment/classifiers/ResNet.py:149: UserWarning: Implicit dimension choice for softmax has been deprecated. Change the call to include dim=X as an argument.\n",
      "  output_layer = self.softmax(output_layer)\n"
     ]
    },
    {
     "data": {
      "application/vnd.jupyter.widget-view+json": {
       "model_id": "7bfce45876f4405d8c5393e52e21325a",
       "version_major": 2,
       "version_minor": 0
      },
      "text/plain": [
       "Lime attribution:   0%|          | 0/25 [00:00<?, ?it/s]"
      ]
     },
     "metadata": {},
     "output_type": "display_data"
    },
    {
     "name": "stderr",
     "output_type": "stream",
     "text": [
      "/home/zhengyang/Desktop/Git_resp_limesegment/classifiers/ResNet.py:149: UserWarning: Implicit dimension choice for softmax has been deprecated. Change the call to include dim=X as an argument.\n",
      "  output_layer = self.softmax(output_layer)\n"
     ]
    },
    {
     "data": {
      "application/vnd.jupyter.widget-view+json": {
       "model_id": "0bc2abf2bc7946cbb8693687ad2a5915",
       "version_major": 2,
       "version_minor": 0
      },
      "text/plain": [
       "Lime attribution:   0%|          | 0/25 [00:00<?, ?it/s]"
      ]
     },
     "metadata": {},
     "output_type": "display_data"
    },
    {
     "name": "stderr",
     "output_type": "stream",
     "text": [
      "/home/zhengyang/Desktop/Git_resp_limesegment/classifiers/ResNet.py:149: UserWarning: Implicit dimension choice for softmax has been deprecated. Change the call to include dim=X as an argument.\n",
      "  output_layer = self.softmax(output_layer)\n"
     ]
    },
    {
     "data": {
      "application/vnd.jupyter.widget-view+json": {
       "model_id": "0546e12e4a174e8aa3ffd3c8df21a7ae",
       "version_major": 2,
       "version_minor": 0
      },
      "text/plain": [
       "Lime attribution:   0%|          | 0/25 [00:00<?, ?it/s]"
      ]
     },
     "metadata": {},
     "output_type": "display_data"
    },
    {
     "name": "stderr",
     "output_type": "stream",
     "text": [
      "/home/zhengyang/Desktop/Git_resp_limesegment/classifiers/ResNet.py:149: UserWarning: Implicit dimension choice for softmax has been deprecated. Change the call to include dim=X as an argument.\n",
      "  output_layer = self.softmax(output_layer)\n"
     ]
    },
    {
     "data": {
      "application/vnd.jupyter.widget-view+json": {
       "model_id": "bff1b970a88340008bbc256c809cbf93",
       "version_major": 2,
       "version_minor": 0
      },
      "text/plain": [
       "Lime attribution:   0%|          | 0/25 [00:00<?, ?it/s]"
      ]
     },
     "metadata": {},
     "output_type": "display_data"
    },
    {
     "name": "stderr",
     "output_type": "stream",
     "text": [
      "/home/zhengyang/Desktop/Git_resp_limesegment/classifiers/ResNet.py:149: UserWarning: Implicit dimension choice for softmax has been deprecated. Change the call to include dim=X as an argument.\n",
      "  output_layer = self.softmax(output_layer)\n"
     ]
    },
    {
     "data": {
      "application/vnd.jupyter.widget-view+json": {
       "model_id": "f7c5b5a72dcc4816a88452eab43d1c6a",
       "version_major": 2,
       "version_minor": 0
      },
      "text/plain": [
       "Lime attribution:   0%|          | 0/25 [00:00<?, ?it/s]"
      ]
     },
     "metadata": {},
     "output_type": "display_data"
    },
    {
     "name": "stderr",
     "output_type": "stream",
     "text": [
      "/home/zhengyang/Desktop/Git_resp_limesegment/classifiers/ResNet.py:149: UserWarning: Implicit dimension choice for softmax has been deprecated. Change the call to include dim=X as an argument.\n",
      "  output_layer = self.softmax(output_layer)\n"
     ]
    },
    {
     "data": {
      "application/vnd.jupyter.widget-view+json": {
       "model_id": "999aa915b56b4fd98bc20792606e9159",
       "version_major": 2,
       "version_minor": 0
      },
      "text/plain": [
       "Lime attribution:   0%|          | 0/25 [00:00<?, ?it/s]"
      ]
     },
     "metadata": {},
     "output_type": "display_data"
    },
    {
     "name": "stderr",
     "output_type": "stream",
     "text": [
      "/home/zhengyang/Desktop/Git_resp_limesegment/classifiers/ResNet.py:149: UserWarning: Implicit dimension choice for softmax has been deprecated. Change the call to include dim=X as an argument.\n",
      "  output_layer = self.softmax(output_layer)\n"
     ]
    },
    {
     "data": {
      "application/vnd.jupyter.widget-view+json": {
       "model_id": "e0ad7b64db3842dabacca01661216c54",
       "version_major": 2,
       "version_minor": 0
      },
      "text/plain": [
       "Lime attribution:   0%|          | 0/25 [00:00<?, ?it/s]"
      ]
     },
     "metadata": {},
     "output_type": "display_data"
    },
    {
     "name": "stderr",
     "output_type": "stream",
     "text": [
      "/home/zhengyang/Desktop/Git_resp_limesegment/classifiers/ResNet.py:149: UserWarning: Implicit dimension choice for softmax has been deprecated. Change the call to include dim=X as an argument.\n",
      "  output_layer = self.softmax(output_layer)\n"
     ]
    },
    {
     "data": {
      "application/vnd.jupyter.widget-view+json": {
       "model_id": "fc308cf76a7248b3a0512aa855028d0f",
       "version_major": 2,
       "version_minor": 0
      },
      "text/plain": [
       "Lime attribution:   0%|          | 0/25 [00:00<?, ?it/s]"
      ]
     },
     "metadata": {},
     "output_type": "display_data"
    },
    {
     "name": "stderr",
     "output_type": "stream",
     "text": [
      "/home/zhengyang/Desktop/Git_resp_limesegment/classifiers/ResNet.py:149: UserWarning: Implicit dimension choice for softmax has been deprecated. Change the call to include dim=X as an argument.\n",
      "  output_layer = self.softmax(output_layer)\n"
     ]
    },
    {
     "data": {
      "application/vnd.jupyter.widget-view+json": {
       "model_id": "078954cd900f4e7284c589ce66664c38",
       "version_major": 2,
       "version_minor": 0
      },
      "text/plain": [
       "Lime attribution:   0%|          | 0/25 [00:00<?, ?it/s]"
      ]
     },
     "metadata": {},
     "output_type": "display_data"
    },
    {
     "name": "stderr",
     "output_type": "stream",
     "text": [
      "/home/zhengyang/Desktop/Git_resp_limesegment/classifiers/ResNet.py:149: UserWarning: Implicit dimension choice for softmax has been deprecated. Change the call to include dim=X as an argument.\n",
      "  output_layer = self.softmax(output_layer)\n"
     ]
    },
    {
     "data": {
      "application/vnd.jupyter.widget-view+json": {
       "model_id": "63dfa0e3347f4bbaa69b82ff97c7a067",
       "version_major": 2,
       "version_minor": 0
      },
      "text/plain": [
       "Lime attribution:   0%|          | 0/25 [00:00<?, ?it/s]"
      ]
     },
     "metadata": {},
     "output_type": "display_data"
    },
    {
     "name": "stderr",
     "output_type": "stream",
     "text": [
      "/home/zhengyang/Desktop/Git_resp_limesegment/classifiers/ResNet.py:149: UserWarning: Implicit dimension choice for softmax has been deprecated. Change the call to include dim=X as an argument.\n",
      "  output_layer = self.softmax(output_layer)\n"
     ]
    },
    {
     "data": {
      "application/vnd.jupyter.widget-view+json": {
       "model_id": "8056d8047ae24042ba87b0734f19821b",
       "version_major": 2,
       "version_minor": 0
      },
      "text/plain": [
       "Lime attribution:   0%|          | 0/25 [00:00<?, ?it/s]"
      ]
     },
     "metadata": {},
     "output_type": "display_data"
    },
    {
     "name": "stderr",
     "output_type": "stream",
     "text": [
      "/home/zhengyang/Desktop/Git_resp_limesegment/classifiers/ResNet.py:149: UserWarning: Implicit dimension choice for softmax has been deprecated. Change the call to include dim=X as an argument.\n",
      "  output_layer = self.softmax(output_layer)\n"
     ]
    },
    {
     "data": {
      "application/vnd.jupyter.widget-view+json": {
       "model_id": "3dbcb893e0954b68b4c3c76331c70f7a",
       "version_major": 2,
       "version_minor": 0
      },
      "text/plain": [
       "Lime attribution:   0%|          | 0/25 [00:00<?, ?it/s]"
      ]
     },
     "metadata": {},
     "output_type": "display_data"
    },
    {
     "name": "stderr",
     "output_type": "stream",
     "text": [
      "/home/zhengyang/Desktop/Git_resp_limesegment/classifiers/ResNet.py:149: UserWarning: Implicit dimension choice for softmax has been deprecated. Change the call to include dim=X as an argument.\n",
      "  output_layer = self.softmax(output_layer)\n"
     ]
    },
    {
     "data": {
      "application/vnd.jupyter.widget-view+json": {
       "model_id": "e0c40ad10fb64d90a1ee92febe9657dd",
       "version_major": 2,
       "version_minor": 0
      },
      "text/plain": [
       "Lime attribution:   0%|          | 0/25 [00:00<?, ?it/s]"
      ]
     },
     "metadata": {},
     "output_type": "display_data"
    },
    {
     "name": "stderr",
     "output_type": "stream",
     "text": [
      "/home/zhengyang/Desktop/Git_resp_limesegment/classifiers/ResNet.py:149: UserWarning: Implicit dimension choice for softmax has been deprecated. Change the call to include dim=X as an argument.\n",
      "  output_layer = self.softmax(output_layer)\n"
     ]
    },
    {
     "data": {
      "application/vnd.jupyter.widget-view+json": {
       "model_id": "a88783bfd42d4cdca2cc051aeb0ee8a5",
       "version_major": 2,
       "version_minor": 0
      },
      "text/plain": [
       "Lime attribution:   0%|          | 0/25 [00:00<?, ?it/s]"
      ]
     },
     "metadata": {},
     "output_type": "display_data"
    },
    {
     "name": "stderr",
     "output_type": "stream",
     "text": [
      "/home/zhengyang/Desktop/Git_resp_limesegment/classifiers/ResNet.py:149: UserWarning: Implicit dimension choice for softmax has been deprecated. Change the call to include dim=X as an argument.\n",
      "  output_layer = self.softmax(output_layer)\n"
     ]
    },
    {
     "data": {
      "application/vnd.jupyter.widget-view+json": {
       "model_id": "b69be9763d75442c989bbab7d35b9921",
       "version_major": 2,
       "version_minor": 0
      },
      "text/plain": [
       "Lime attribution:   0%|          | 0/25 [00:00<?, ?it/s]"
      ]
     },
     "metadata": {},
     "output_type": "display_data"
    },
    {
     "name": "stderr",
     "output_type": "stream",
     "text": [
      "/home/zhengyang/Desktop/Git_resp_limesegment/classifiers/ResNet.py:149: UserWarning: Implicit dimension choice for softmax has been deprecated. Change the call to include dim=X as an argument.\n",
      "  output_layer = self.softmax(output_layer)\n"
     ]
    },
    {
     "data": {
      "application/vnd.jupyter.widget-view+json": {
       "model_id": "b62d0f4d6c98426481589b2cac7c8bb9",
       "version_major": 2,
       "version_minor": 0
      },
      "text/plain": [
       "Lime attribution:   0%|          | 0/25 [00:00<?, ?it/s]"
      ]
     },
     "metadata": {},
     "output_type": "display_data"
    },
    {
     "name": "stderr",
     "output_type": "stream",
     "text": [
      "/home/zhengyang/Desktop/Git_resp_limesegment/classifiers/ResNet.py:149: UserWarning: Implicit dimension choice for softmax has been deprecated. Change the call to include dim=X as an argument.\n",
      "  output_layer = self.softmax(output_layer)\n"
     ]
    },
    {
     "data": {
      "application/vnd.jupyter.widget-view+json": {
       "model_id": "ea7192ccc849408cbfd2e36d3e5bd677",
       "version_major": 2,
       "version_minor": 0
      },
      "text/plain": [
       "Lime attribution:   0%|          | 0/25 [00:00<?, ?it/s]"
      ]
     },
     "metadata": {},
     "output_type": "display_data"
    },
    {
     "name": "stderr",
     "output_type": "stream",
     "text": [
      "/home/zhengyang/Desktop/Git_resp_limesegment/classifiers/ResNet.py:149: UserWarning: Implicit dimension choice for softmax has been deprecated. Change the call to include dim=X as an argument.\n",
      "  output_layer = self.softmax(output_layer)\n"
     ]
    },
    {
     "data": {
      "application/vnd.jupyter.widget-view+json": {
       "model_id": "752871d522c04a75b8541aff6f8b3c76",
       "version_major": 2,
       "version_minor": 0
      },
      "text/plain": [
       "Lime attribution:   0%|          | 0/25 [00:00<?, ?it/s]"
      ]
     },
     "metadata": {},
     "output_type": "display_data"
    },
    {
     "name": "stderr",
     "output_type": "stream",
     "text": [
      "/home/zhengyang/Desktop/Git_resp_limesegment/classifiers/ResNet.py:149: UserWarning: Implicit dimension choice for softmax has been deprecated. Change the call to include dim=X as an argument.\n",
      "  output_layer = self.softmax(output_layer)\n"
     ]
    },
    {
     "data": {
      "application/vnd.jupyter.widget-view+json": {
       "model_id": "6f6d98037b634729968b67a9c6b89bf9",
       "version_major": 2,
       "version_minor": 0
      },
      "text/plain": [
       "Lime attribution:   0%|          | 0/25 [00:00<?, ?it/s]"
      ]
     },
     "metadata": {},
     "output_type": "display_data"
    },
    {
     "name": "stderr",
     "output_type": "stream",
     "text": [
      "/home/zhengyang/Desktop/Git_resp_limesegment/classifiers/ResNet.py:149: UserWarning: Implicit dimension choice for softmax has been deprecated. Change the call to include dim=X as an argument.\n",
      "  output_layer = self.softmax(output_layer)\n"
     ]
    },
    {
     "data": {
      "application/vnd.jupyter.widget-view+json": {
       "model_id": "9949eb89e6f04b20bafdc086ed7f5c6b",
       "version_major": 2,
       "version_minor": 0
      },
      "text/plain": [
       "Lime attribution:   0%|          | 0/25 [00:00<?, ?it/s]"
      ]
     },
     "metadata": {},
     "output_type": "display_data"
    },
    {
     "name": "stderr",
     "output_type": "stream",
     "text": [
      "/home/zhengyang/Desktop/Git_resp_limesegment/classifiers/ResNet.py:149: UserWarning: Implicit dimension choice for softmax has been deprecated. Change the call to include dim=X as an argument.\n",
      "  output_layer = self.softmax(output_layer)\n"
     ]
    },
    {
     "data": {
      "application/vnd.jupyter.widget-view+json": {
       "model_id": "42b9ea768e054a3aa67b3e7f8409a535",
       "version_major": 2,
       "version_minor": 0
      },
      "text/plain": [
       "Lime attribution:   0%|          | 0/25 [00:00<?, ?it/s]"
      ]
     },
     "metadata": {},
     "output_type": "display_data"
    },
    {
     "name": "stderr",
     "output_type": "stream",
     "text": [
      "/home/zhengyang/Desktop/Git_resp_limesegment/classifiers/ResNet.py:149: UserWarning: Implicit dimension choice for softmax has been deprecated. Change the call to include dim=X as an argument.\n",
      "  output_layer = self.softmax(output_layer)\n"
     ]
    },
    {
     "data": {
      "application/vnd.jupyter.widget-view+json": {
       "model_id": "f74e2a94368b45eeaa599766728cf73c",
       "version_major": 2,
       "version_minor": 0
      },
      "text/plain": [
       "Lime attribution:   0%|          | 0/25 [00:00<?, ?it/s]"
      ]
     },
     "metadata": {},
     "output_type": "display_data"
    },
    {
     "name": "stderr",
     "output_type": "stream",
     "text": [
      "/home/zhengyang/Desktop/Git_resp_limesegment/classifiers/ResNet.py:149: UserWarning: Implicit dimension choice for softmax has been deprecated. Change the call to include dim=X as an argument.\n",
      "  output_layer = self.softmax(output_layer)\n"
     ]
    },
    {
     "data": {
      "application/vnd.jupyter.widget-view+json": {
       "model_id": "f0bb5e64b93442a18326d7c9f6fa2486",
       "version_major": 2,
       "version_minor": 0
      },
      "text/plain": [
       "Lime attribution:   0%|          | 0/25 [00:00<?, ?it/s]"
      ]
     },
     "metadata": {},
     "output_type": "display_data"
    },
    {
     "name": "stderr",
     "output_type": "stream",
     "text": [
      "/home/zhengyang/Desktop/Git_resp_limesegment/classifiers/ResNet.py:149: UserWarning: Implicit dimension choice for softmax has been deprecated. Change the call to include dim=X as an argument.\n",
      "  output_layer = self.softmax(output_layer)\n"
     ]
    },
    {
     "data": {
      "application/vnd.jupyter.widget-view+json": {
       "model_id": "cb186ab9126345a49d7c016de0a8647e",
       "version_major": 2,
       "version_minor": 0
      },
      "text/plain": [
       "Lime attribution:   0%|          | 0/25 [00:00<?, ?it/s]"
      ]
     },
     "metadata": {},
     "output_type": "display_data"
    },
    {
     "name": "stderr",
     "output_type": "stream",
     "text": [
      "/home/zhengyang/Desktop/Git_resp_limesegment/classifiers/ResNet.py:149: UserWarning: Implicit dimension choice for softmax has been deprecated. Change the call to include dim=X as an argument.\n",
      "  output_layer = self.softmax(output_layer)\n"
     ]
    },
    {
     "data": {
      "application/vnd.jupyter.widget-view+json": {
       "model_id": "4ab3f1f8019a4b619af57362340645c9",
       "version_major": 2,
       "version_minor": 0
      },
      "text/plain": [
       "Lime attribution:   0%|          | 0/25 [00:00<?, ?it/s]"
      ]
     },
     "metadata": {},
     "output_type": "display_data"
    },
    {
     "name": "stderr",
     "output_type": "stream",
     "text": [
      "/home/zhengyang/Desktop/Git_resp_limesegment/classifiers/ResNet.py:149: UserWarning: Implicit dimension choice for softmax has been deprecated. Change the call to include dim=X as an argument.\n",
      "  output_layer = self.softmax(output_layer)\n"
     ]
    },
    {
     "data": {
      "application/vnd.jupyter.widget-view+json": {
       "model_id": "a39b849b25df411e925cd01ba2543274",
       "version_major": 2,
       "version_minor": 0
      },
      "text/plain": [
       "Lime attribution:   0%|          | 0/25 [00:00<?, ?it/s]"
      ]
     },
     "metadata": {},
     "output_type": "display_data"
    },
    {
     "name": "stderr",
     "output_type": "stream",
     "text": [
      "/home/zhengyang/Desktop/Git_resp_limesegment/classifiers/ResNet.py:149: UserWarning: Implicit dimension choice for softmax has been deprecated. Change the call to include dim=X as an argument.\n",
      "  output_layer = self.softmax(output_layer)\n"
     ]
    },
    {
     "data": {
      "application/vnd.jupyter.widget-view+json": {
       "model_id": "68fbb08c75d04bddb7772aeedd8900a9",
       "version_major": 2,
       "version_minor": 0
      },
      "text/plain": [
       "Lime attribution:   0%|          | 0/25 [00:00<?, ?it/s]"
      ]
     },
     "metadata": {},
     "output_type": "display_data"
    },
    {
     "name": "stderr",
     "output_type": "stream",
     "text": [
      "/home/zhengyang/Desktop/Git_resp_limesegment/classifiers/ResNet.py:149: UserWarning: Implicit dimension choice for softmax has been deprecated. Change the call to include dim=X as an argument.\n",
      "  output_layer = self.softmax(output_layer)\n"
     ]
    },
    {
     "data": {
      "application/vnd.jupyter.widget-view+json": {
       "model_id": "d33a250e71774456bf27af4606d9c2f2",
       "version_major": 2,
       "version_minor": 0
      },
      "text/plain": [
       "Lime attribution:   0%|          | 0/25 [00:00<?, ?it/s]"
      ]
     },
     "metadata": {},
     "output_type": "display_data"
    },
    {
     "name": "stderr",
     "output_type": "stream",
     "text": [
      "/home/zhengyang/Desktop/Git_resp_limesegment/classifiers/ResNet.py:149: UserWarning: Implicit dimension choice for softmax has been deprecated. Change the call to include dim=X as an argument.\n",
      "  output_layer = self.softmax(output_layer)\n"
     ]
    },
    {
     "data": {
      "application/vnd.jupyter.widget-view+json": {
       "model_id": "e8e98ab88b264463958797080f75703b",
       "version_major": 2,
       "version_minor": 0
      },
      "text/plain": [
       "Lime attribution:   0%|          | 0/25 [00:00<?, ?it/s]"
      ]
     },
     "metadata": {},
     "output_type": "display_data"
    },
    {
     "name": "stderr",
     "output_type": "stream",
     "text": [
      "/home/zhengyang/Desktop/Git_resp_limesegment/classifiers/ResNet.py:149: UserWarning: Implicit dimension choice for softmax has been deprecated. Change the call to include dim=X as an argument.\n",
      "  output_layer = self.softmax(output_layer)\n"
     ]
    },
    {
     "data": {
      "application/vnd.jupyter.widget-view+json": {
       "model_id": "aad481d47db34da68ccb107213ba00ed",
       "version_major": 2,
       "version_minor": 0
      },
      "text/plain": [
       "Lime attribution:   0%|          | 0/25 [00:00<?, ?it/s]"
      ]
     },
     "metadata": {},
     "output_type": "display_data"
    },
    {
     "name": "stderr",
     "output_type": "stream",
     "text": [
      "/home/zhengyang/Desktop/Git_resp_limesegment/classifiers/ResNet.py:149: UserWarning: Implicit dimension choice for softmax has been deprecated. Change the call to include dim=X as an argument.\n",
      "  output_layer = self.softmax(output_layer)\n"
     ]
    },
    {
     "data": {
      "application/vnd.jupyter.widget-view+json": {
       "model_id": "654cac6f2e1847e1853f9d58da55636d",
       "version_major": 2,
       "version_minor": 0
      },
      "text/plain": [
       "Lime attribution:   0%|          | 0/25 [00:00<?, ?it/s]"
      ]
     },
     "metadata": {},
     "output_type": "display_data"
    },
    {
     "name": "stderr",
     "output_type": "stream",
     "text": [
      "/home/zhengyang/Desktop/Git_resp_limesegment/classifiers/ResNet.py:149: UserWarning: Implicit dimension choice for softmax has been deprecated. Change the call to include dim=X as an argument.\n",
      "  output_layer = self.softmax(output_layer)\n"
     ]
    },
    {
     "data": {
      "application/vnd.jupyter.widget-view+json": {
       "model_id": "21ed0dcec75d4349a312793feba98cb7",
       "version_major": 2,
       "version_minor": 0
      },
      "text/plain": [
       "Lime attribution:   0%|          | 0/25 [00:00<?, ?it/s]"
      ]
     },
     "metadata": {},
     "output_type": "display_data"
    },
    {
     "name": "stderr",
     "output_type": "stream",
     "text": [
      "/home/zhengyang/Desktop/Git_resp_limesegment/classifiers/ResNet.py:149: UserWarning: Implicit dimension choice for softmax has been deprecated. Change the call to include dim=X as an argument.\n",
      "  output_layer = self.softmax(output_layer)\n"
     ]
    },
    {
     "data": {
      "application/vnd.jupyter.widget-view+json": {
       "model_id": "bca20bc7417f4baebcab3d8f186f407e",
       "version_major": 2,
       "version_minor": 0
      },
      "text/plain": [
       "Lime attribution:   0%|          | 0/25 [00:00<?, ?it/s]"
      ]
     },
     "metadata": {},
     "output_type": "display_data"
    },
    {
     "name": "stderr",
     "output_type": "stream",
     "text": [
      "/home/zhengyang/Desktop/Git_resp_limesegment/classifiers/ResNet.py:149: UserWarning: Implicit dimension choice for softmax has been deprecated. Change the call to include dim=X as an argument.\n",
      "  output_layer = self.softmax(output_layer)\n"
     ]
    },
    {
     "data": {
      "application/vnd.jupyter.widget-view+json": {
       "model_id": "8028903e8bda44bfa4772221dfb932a6",
       "version_major": 2,
       "version_minor": 0
      },
      "text/plain": [
       "Lime attribution:   0%|          | 0/25 [00:00<?, ?it/s]"
      ]
     },
     "metadata": {},
     "output_type": "display_data"
    },
    {
     "name": "stderr",
     "output_type": "stream",
     "text": [
      "/home/zhengyang/Desktop/Git_resp_limesegment/classifiers/ResNet.py:149: UserWarning: Implicit dimension choice for softmax has been deprecated. Change the call to include dim=X as an argument.\n",
      "  output_layer = self.softmax(output_layer)\n"
     ]
    },
    {
     "data": {
      "application/vnd.jupyter.widget-view+json": {
       "model_id": "7fb5f57300774cfc9e5fd0bbe3e1b5c8",
       "version_major": 2,
       "version_minor": 0
      },
      "text/plain": [
       "Lime attribution:   0%|          | 0/25 [00:00<?, ?it/s]"
      ]
     },
     "metadata": {},
     "output_type": "display_data"
    },
    {
     "name": "stderr",
     "output_type": "stream",
     "text": [
      "/home/zhengyang/Desktop/Git_resp_limesegment/classifiers/ResNet.py:149: UserWarning: Implicit dimension choice for softmax has been deprecated. Change the call to include dim=X as an argument.\n",
      "  output_layer = self.softmax(output_layer)\n"
     ]
    },
    {
     "data": {
      "application/vnd.jupyter.widget-view+json": {
       "model_id": "28350bad88124046be4757dfb31959fb",
       "version_major": 2,
       "version_minor": 0
      },
      "text/plain": [
       "Lime attribution:   0%|          | 0/25 [00:00<?, ?it/s]"
      ]
     },
     "metadata": {},
     "output_type": "display_data"
    },
    {
     "name": "stderr",
     "output_type": "stream",
     "text": [
      "/home/zhengyang/Desktop/Git_resp_limesegment/classifiers/ResNet.py:149: UserWarning: Implicit dimension choice for softmax has been deprecated. Change the call to include dim=X as an argument.\n",
      "  output_layer = self.softmax(output_layer)\n"
     ]
    },
    {
     "data": {
      "application/vnd.jupyter.widget-view+json": {
       "model_id": "ad37219592604995a83838d4a25b7b3f",
       "version_major": 2,
       "version_minor": 0
      },
      "text/plain": [
       "Lime attribution:   0%|          | 0/25 [00:00<?, ?it/s]"
      ]
     },
     "metadata": {},
     "output_type": "display_data"
    },
    {
     "name": "stderr",
     "output_type": "stream",
     "text": [
      "/home/zhengyang/Desktop/Git_resp_limesegment/classifiers/ResNet.py:149: UserWarning: Implicit dimension choice for softmax has been deprecated. Change the call to include dim=X as an argument.\n",
      "  output_layer = self.softmax(output_layer)\n"
     ]
    },
    {
     "data": {
      "application/vnd.jupyter.widget-view+json": {
       "model_id": "d477fd3940124c24a948b46f0e47aa81",
       "version_major": 2,
       "version_minor": 0
      },
      "text/plain": [
       "Lime attribution:   0%|          | 0/25 [00:00<?, ?it/s]"
      ]
     },
     "metadata": {},
     "output_type": "display_data"
    },
    {
     "name": "stderr",
     "output_type": "stream",
     "text": [
      "/home/zhengyang/Desktop/Git_resp_limesegment/classifiers/ResNet.py:149: UserWarning: Implicit dimension choice for softmax has been deprecated. Change the call to include dim=X as an argument.\n",
      "  output_layer = self.softmax(output_layer)\n"
     ]
    },
    {
     "data": {
      "application/vnd.jupyter.widget-view+json": {
       "model_id": "ac75a86743564a009b110a892b37250f",
       "version_major": 2,
       "version_minor": 0
      },
      "text/plain": [
       "Lime attribution:   0%|          | 0/25 [00:00<?, ?it/s]"
      ]
     },
     "metadata": {},
     "output_type": "display_data"
    },
    {
     "name": "stderr",
     "output_type": "stream",
     "text": [
      "/home/zhengyang/Desktop/Git_resp_limesegment/classifiers/ResNet.py:149: UserWarning: Implicit dimension choice for softmax has been deprecated. Change the call to include dim=X as an argument.\n",
      "  output_layer = self.softmax(output_layer)\n"
     ]
    },
    {
     "data": {
      "application/vnd.jupyter.widget-view+json": {
       "model_id": "f82dca94dba64f309989b906c30ec6ca",
       "version_major": 2,
       "version_minor": 0
      },
      "text/plain": [
       "Lime attribution:   0%|          | 0/25 [00:00<?, ?it/s]"
      ]
     },
     "metadata": {},
     "output_type": "display_data"
    },
    {
     "name": "stderr",
     "output_type": "stream",
     "text": [
      "/home/zhengyang/Desktop/Git_resp_limesegment/classifiers/ResNet.py:149: UserWarning: Implicit dimension choice for softmax has been deprecated. Change the call to include dim=X as an argument.\n",
      "  output_layer = self.softmax(output_layer)\n"
     ]
    },
    {
     "data": {
      "application/vnd.jupyter.widget-view+json": {
       "model_id": "79b8c9892fd54526906b3db3db39deeb",
       "version_major": 2,
       "version_minor": 0
      },
      "text/plain": [
       "Lime attribution:   0%|          | 0/25 [00:00<?, ?it/s]"
      ]
     },
     "metadata": {},
     "output_type": "display_data"
    },
    {
     "name": "stderr",
     "output_type": "stream",
     "text": [
      "/home/zhengyang/Desktop/Git_resp_limesegment/classifiers/ResNet.py:149: UserWarning: Implicit dimension choice for softmax has been deprecated. Change the call to include dim=X as an argument.\n",
      "  output_layer = self.softmax(output_layer)\n"
     ]
    },
    {
     "data": {
      "application/vnd.jupyter.widget-view+json": {
       "model_id": "701e782e47844fffb46e68deefbcbc45",
       "version_major": 2,
       "version_minor": 0
      },
      "text/plain": [
       "Lime attribution:   0%|          | 0/25 [00:00<?, ?it/s]"
      ]
     },
     "metadata": {},
     "output_type": "display_data"
    },
    {
     "name": "stderr",
     "output_type": "stream",
     "text": [
      "/home/zhengyang/Desktop/Git_resp_limesegment/classifiers/ResNet.py:149: UserWarning: Implicit dimension choice for softmax has been deprecated. Change the call to include dim=X as an argument.\n",
      "  output_layer = self.softmax(output_layer)\n"
     ]
    },
    {
     "data": {
      "application/vnd.jupyter.widget-view+json": {
       "model_id": "14cffa6f6a2a472daa018c64853dae43",
       "version_major": 2,
       "version_minor": 0
      },
      "text/plain": [
       "Lime attribution:   0%|          | 0/25 [00:00<?, ?it/s]"
      ]
     },
     "metadata": {},
     "output_type": "display_data"
    },
    {
     "name": "stderr",
     "output_type": "stream",
     "text": [
      "/home/zhengyang/Desktop/Git_resp_limesegment/classifiers/ResNet.py:149: UserWarning: Implicit dimension choice for softmax has been deprecated. Change the call to include dim=X as an argument.\n",
      "  output_layer = self.softmax(output_layer)\n"
     ]
    },
    {
     "data": {
      "application/vnd.jupyter.widget-view+json": {
       "model_id": "96d300394a004a628943335922c4028f",
       "version_major": 2,
       "version_minor": 0
      },
      "text/plain": [
       "Lime attribution:   0%|          | 0/25 [00:00<?, ?it/s]"
      ]
     },
     "metadata": {},
     "output_type": "display_data"
    },
    {
     "name": "stderr",
     "output_type": "stream",
     "text": [
      "/home/zhengyang/Desktop/Git_resp_limesegment/classifiers/ResNet.py:149: UserWarning: Implicit dimension choice for softmax has been deprecated. Change the call to include dim=X as an argument.\n",
      "  output_layer = self.softmax(output_layer)\n"
     ]
    },
    {
     "data": {
      "application/vnd.jupyter.widget-view+json": {
       "model_id": "aa013e9cfb634c04afa0f472f906ee0d",
       "version_major": 2,
       "version_minor": 0
      },
      "text/plain": [
       "Lime attribution:   0%|          | 0/25 [00:00<?, ?it/s]"
      ]
     },
     "metadata": {},
     "output_type": "display_data"
    },
    {
     "name": "stderr",
     "output_type": "stream",
     "text": [
      "/home/zhengyang/Desktop/Git_resp_limesegment/classifiers/ResNet.py:149: UserWarning: Implicit dimension choice for softmax has been deprecated. Change the call to include dim=X as an argument.\n",
      "  output_layer = self.softmax(output_layer)\n"
     ]
    },
    {
     "data": {
      "application/vnd.jupyter.widget-view+json": {
       "model_id": "51a167aa8eea43fcb79a7207723ec71b",
       "version_major": 2,
       "version_minor": 0
      },
      "text/plain": [
       "Lime attribution:   0%|          | 0/25 [00:00<?, ?it/s]"
      ]
     },
     "metadata": {},
     "output_type": "display_data"
    },
    {
     "name": "stderr",
     "output_type": "stream",
     "text": [
      "/home/zhengyang/Desktop/Git_resp_limesegment/classifiers/ResNet.py:149: UserWarning: Implicit dimension choice for softmax has been deprecated. Change the call to include dim=X as an argument.\n",
      "  output_layer = self.softmax(output_layer)\n"
     ]
    },
    {
     "data": {
      "application/vnd.jupyter.widget-view+json": {
       "model_id": "91d206cf5a1b4402a9cea5b3259c689a",
       "version_major": 2,
       "version_minor": 0
      },
      "text/plain": [
       "Lime attribution:   0%|          | 0/25 [00:00<?, ?it/s]"
      ]
     },
     "metadata": {},
     "output_type": "display_data"
    },
    {
     "name": "stderr",
     "output_type": "stream",
     "text": [
      "/home/zhengyang/Desktop/Git_resp_limesegment/classifiers/ResNet.py:149: UserWarning: Implicit dimension choice for softmax has been deprecated. Change the call to include dim=X as an argument.\n",
      "  output_layer = self.softmax(output_layer)\n"
     ]
    },
    {
     "data": {
      "application/vnd.jupyter.widget-view+json": {
       "model_id": "7c86e3e7566b4754b1d2ea73487d6e7c",
       "version_major": 2,
       "version_minor": 0
      },
      "text/plain": [
       "Lime attribution:   0%|          | 0/25 [00:00<?, ?it/s]"
      ]
     },
     "metadata": {},
     "output_type": "display_data"
    },
    {
     "name": "stderr",
     "output_type": "stream",
     "text": [
      "/home/zhengyang/Desktop/Git_resp_limesegment/classifiers/ResNet.py:149: UserWarning: Implicit dimension choice for softmax has been deprecated. Change the call to include dim=X as an argument.\n",
      "  output_layer = self.softmax(output_layer)\n"
     ]
    },
    {
     "data": {
      "application/vnd.jupyter.widget-view+json": {
       "model_id": "7067457c91254c73a90528f4fcd6fda4",
       "version_major": 2,
       "version_minor": 0
      },
      "text/plain": [
       "Lime attribution:   0%|          | 0/25 [00:00<?, ?it/s]"
      ]
     },
     "metadata": {},
     "output_type": "display_data"
    },
    {
     "name": "stderr",
     "output_type": "stream",
     "text": [
      "/home/zhengyang/Desktop/Git_resp_limesegment/classifiers/ResNet.py:149: UserWarning: Implicit dimension choice for softmax has been deprecated. Change the call to include dim=X as an argument.\n",
      "  output_layer = self.softmax(output_layer)\n"
     ]
    },
    {
     "data": {
      "application/vnd.jupyter.widget-view+json": {
       "model_id": "655e8f79bcf04021a3678dfd8bf440a7",
       "version_major": 2,
       "version_minor": 0
      },
      "text/plain": [
       "Lime attribution:   0%|          | 0/25 [00:00<?, ?it/s]"
      ]
     },
     "metadata": {},
     "output_type": "display_data"
    },
    {
     "name": "stderr",
     "output_type": "stream",
     "text": [
      "/home/zhengyang/Desktop/Git_resp_limesegment/classifiers/ResNet.py:149: UserWarning: Implicit dimension choice for softmax has been deprecated. Change the call to include dim=X as an argument.\n",
      "  output_layer = self.softmax(output_layer)\n"
     ]
    },
    {
     "data": {
      "application/vnd.jupyter.widget-view+json": {
       "model_id": "d794dbac79a744c385fd34a721dd4b6a",
       "version_major": 2,
       "version_minor": 0
      },
      "text/plain": [
       "Lime attribution:   0%|          | 0/25 [00:00<?, ?it/s]"
      ]
     },
     "metadata": {},
     "output_type": "display_data"
    },
    {
     "name": "stderr",
     "output_type": "stream",
     "text": [
      "/home/zhengyang/Desktop/Git_resp_limesegment/classifiers/ResNet.py:149: UserWarning: Implicit dimension choice for softmax has been deprecated. Change the call to include dim=X as an argument.\n",
      "  output_layer = self.softmax(output_layer)\n"
     ]
    },
    {
     "data": {
      "application/vnd.jupyter.widget-view+json": {
       "model_id": "d080b7cb889144028ead0036bf6160cb",
       "version_major": 2,
       "version_minor": 0
      },
      "text/plain": [
       "Lime attribution:   0%|          | 0/25 [00:00<?, ?it/s]"
      ]
     },
     "metadata": {},
     "output_type": "display_data"
    },
    {
     "name": "stderr",
     "output_type": "stream",
     "text": [
      "/home/zhengyang/Desktop/Git_resp_limesegment/classifiers/ResNet.py:149: UserWarning: Implicit dimension choice for softmax has been deprecated. Change the call to include dim=X as an argument.\n",
      "  output_layer = self.softmax(output_layer)\n"
     ]
    },
    {
     "data": {
      "application/vnd.jupyter.widget-view+json": {
       "model_id": "97c867e6b94e4c7eaf3e3e0fd1537054",
       "version_major": 2,
       "version_minor": 0
      },
      "text/plain": [
       "Lime attribution:   0%|          | 0/25 [00:00<?, ?it/s]"
      ]
     },
     "metadata": {},
     "output_type": "display_data"
    },
    {
     "name": "stderr",
     "output_type": "stream",
     "text": [
      "/home/zhengyang/Desktop/Git_resp_limesegment/classifiers/ResNet.py:149: UserWarning: Implicit dimension choice for softmax has been deprecated. Change the call to include dim=X as an argument.\n",
      "  output_layer = self.softmax(output_layer)\n"
     ]
    },
    {
     "data": {
      "application/vnd.jupyter.widget-view+json": {
       "model_id": "c5ca4ac3d039469eb43b79b6ca110500",
       "version_major": 2,
       "version_minor": 0
      },
      "text/plain": [
       "Lime attribution:   0%|          | 0/25 [00:00<?, ?it/s]"
      ]
     },
     "metadata": {},
     "output_type": "display_data"
    },
    {
     "name": "stderr",
     "output_type": "stream",
     "text": [
      "/home/zhengyang/Desktop/Git_resp_limesegment/classifiers/ResNet.py:149: UserWarning: Implicit dimension choice for softmax has been deprecated. Change the call to include dim=X as an argument.\n",
      "  output_layer = self.softmax(output_layer)\n"
     ]
    },
    {
     "data": {
      "application/vnd.jupyter.widget-view+json": {
       "model_id": "144845de4088492186b4fe01814a4a51",
       "version_major": 2,
       "version_minor": 0
      },
      "text/plain": [
       "Lime attribution:   0%|          | 0/25 [00:00<?, ?it/s]"
      ]
     },
     "metadata": {},
     "output_type": "display_data"
    },
    {
     "name": "stderr",
     "output_type": "stream",
     "text": [
      "/home/zhengyang/Desktop/Git_resp_limesegment/classifiers/ResNet.py:149: UserWarning: Implicit dimension choice for softmax has been deprecated. Change the call to include dim=X as an argument.\n",
      "  output_layer = self.softmax(output_layer)\n"
     ]
    },
    {
     "data": {
      "application/vnd.jupyter.widget-view+json": {
       "model_id": "bb8a1884745347988d5324b0642aa913",
       "version_major": 2,
       "version_minor": 0
      },
      "text/plain": [
       "Lime attribution:   0%|          | 0/25 [00:00<?, ?it/s]"
      ]
     },
     "metadata": {},
     "output_type": "display_data"
    },
    {
     "name": "stderr",
     "output_type": "stream",
     "text": [
      "/home/zhengyang/Desktop/Git_resp_limesegment/classifiers/ResNet.py:149: UserWarning: Implicit dimension choice for softmax has been deprecated. Change the call to include dim=X as an argument.\n",
      "  output_layer = self.softmax(output_layer)\n"
     ]
    },
    {
     "data": {
      "application/vnd.jupyter.widget-view+json": {
       "model_id": "269191f9151948f5aed89096df9dbb4d",
       "version_major": 2,
       "version_minor": 0
      },
      "text/plain": [
       "Lime attribution:   0%|          | 0/25 [00:00<?, ?it/s]"
      ]
     },
     "metadata": {},
     "output_type": "display_data"
    },
    {
     "name": "stderr",
     "output_type": "stream",
     "text": [
      "/home/zhengyang/Desktop/Git_resp_limesegment/classifiers/ResNet.py:149: UserWarning: Implicit dimension choice for softmax has been deprecated. Change the call to include dim=X as an argument.\n",
      "  output_layer = self.softmax(output_layer)\n"
     ]
    },
    {
     "data": {
      "application/vnd.jupyter.widget-view+json": {
       "model_id": "b3a474c80aa24c3bb93c483627aa3ce6",
       "version_major": 2,
       "version_minor": 0
      },
      "text/plain": [
       "Lime attribution:   0%|          | 0/25 [00:00<?, ?it/s]"
      ]
     },
     "metadata": {},
     "output_type": "display_data"
    },
    {
     "name": "stderr",
     "output_type": "stream",
     "text": [
      "/home/zhengyang/Desktop/Git_resp_limesegment/classifiers/ResNet.py:149: UserWarning: Implicit dimension choice for softmax has been deprecated. Change the call to include dim=X as an argument.\n",
      "  output_layer = self.softmax(output_layer)\n"
     ]
    },
    {
     "data": {
      "application/vnd.jupyter.widget-view+json": {
       "model_id": "534b3ceba9d94668b255e1341316cf8c",
       "version_major": 2,
       "version_minor": 0
      },
      "text/plain": [
       "Lime attribution:   0%|          | 0/25 [00:00<?, ?it/s]"
      ]
     },
     "metadata": {},
     "output_type": "display_data"
    },
    {
     "name": "stderr",
     "output_type": "stream",
     "text": [
      "/home/zhengyang/Desktop/Git_resp_limesegment/classifiers/ResNet.py:149: UserWarning: Implicit dimension choice for softmax has been deprecated. Change the call to include dim=X as an argument.\n",
      "  output_layer = self.softmax(output_layer)\n"
     ]
    },
    {
     "data": {
      "application/vnd.jupyter.widget-view+json": {
       "model_id": "f1b1d1d56b9346a8b542a987e5dcd5c7",
       "version_major": 2,
       "version_minor": 0
      },
      "text/plain": [
       "Lime attribution:   0%|          | 0/25 [00:00<?, ?it/s]"
      ]
     },
     "metadata": {},
     "output_type": "display_data"
    },
    {
     "name": "stderr",
     "output_type": "stream",
     "text": [
      "/home/zhengyang/Desktop/Git_resp_limesegment/classifiers/ResNet.py:149: UserWarning: Implicit dimension choice for softmax has been deprecated. Change the call to include dim=X as an argument.\n",
      "  output_layer = self.softmax(output_layer)\n"
     ]
    },
    {
     "data": {
      "application/vnd.jupyter.widget-view+json": {
       "model_id": "88f968b41c2b40768b9cb5c31db7c9cb",
       "version_major": 2,
       "version_minor": 0
      },
      "text/plain": [
       "Lime attribution:   0%|          | 0/25 [00:00<?, ?it/s]"
      ]
     },
     "metadata": {},
     "output_type": "display_data"
    },
    {
     "name": "stderr",
     "output_type": "stream",
     "text": [
      "/home/zhengyang/Desktop/Git_resp_limesegment/classifiers/ResNet.py:149: UserWarning: Implicit dimension choice for softmax has been deprecated. Change the call to include dim=X as an argument.\n",
      "  output_layer = self.softmax(output_layer)\n"
     ]
    },
    {
     "data": {
      "application/vnd.jupyter.widget-view+json": {
       "model_id": "688be7537b0c40379559a77b93971c65",
       "version_major": 2,
       "version_minor": 0
      },
      "text/plain": [
       "Lime attribution:   0%|          | 0/25 [00:00<?, ?it/s]"
      ]
     },
     "metadata": {},
     "output_type": "display_data"
    },
    {
     "name": "stderr",
     "output_type": "stream",
     "text": [
      "/home/zhengyang/Desktop/Git_resp_limesegment/classifiers/ResNet.py:149: UserWarning: Implicit dimension choice for softmax has been deprecated. Change the call to include dim=X as an argument.\n",
      "  output_layer = self.softmax(output_layer)\n"
     ]
    },
    {
     "data": {
      "application/vnd.jupyter.widget-view+json": {
       "model_id": "7eee14414b35450d86c1cad1ae339b4f",
       "version_major": 2,
       "version_minor": 0
      },
      "text/plain": [
       "Lime attribution:   0%|          | 0/25 [00:00<?, ?it/s]"
      ]
     },
     "metadata": {},
     "output_type": "display_data"
    },
    {
     "name": "stderr",
     "output_type": "stream",
     "text": [
      "/home/zhengyang/Desktop/Git_resp_limesegment/classifiers/ResNet.py:149: UserWarning: Implicit dimension choice for softmax has been deprecated. Change the call to include dim=X as an argument.\n",
      "  output_layer = self.softmax(output_layer)\n"
     ]
    },
    {
     "data": {
      "application/vnd.jupyter.widget-view+json": {
       "model_id": "c7af788429284135b07861b907b70a47",
       "version_major": 2,
       "version_minor": 0
      },
      "text/plain": [
       "Lime attribution:   0%|          | 0/25 [00:00<?, ?it/s]"
      ]
     },
     "metadata": {},
     "output_type": "display_data"
    },
    {
     "name": "stderr",
     "output_type": "stream",
     "text": [
      "/home/zhengyang/Desktop/Git_resp_limesegment/classifiers/ResNet.py:149: UserWarning: Implicit dimension choice for softmax has been deprecated. Change the call to include dim=X as an argument.\n",
      "  output_layer = self.softmax(output_layer)\n"
     ]
    },
    {
     "data": {
      "application/vnd.jupyter.widget-view+json": {
       "model_id": "0877366ea9f649acbfa53bfb05c5f758",
       "version_major": 2,
       "version_minor": 0
      },
      "text/plain": [
       "Lime attribution:   0%|          | 0/25 [00:00<?, ?it/s]"
      ]
     },
     "metadata": {},
     "output_type": "display_data"
    },
    {
     "name": "stderr",
     "output_type": "stream",
     "text": [
      "/home/zhengyang/Desktop/Git_resp_limesegment/classifiers/ResNet.py:149: UserWarning: Implicit dimension choice for softmax has been deprecated. Change the call to include dim=X as an argument.\n",
      "  output_layer = self.softmax(output_layer)\n"
     ]
    },
    {
     "data": {
      "application/vnd.jupyter.widget-view+json": {
       "model_id": "b19149a918be490c9618388f9c836213",
       "version_major": 2,
       "version_minor": 0
      },
      "text/plain": [
       "Lime attribution:   0%|          | 0/25 [00:00<?, ?it/s]"
      ]
     },
     "metadata": {},
     "output_type": "display_data"
    },
    {
     "name": "stderr",
     "output_type": "stream",
     "text": [
      "/home/zhengyang/Desktop/Git_resp_limesegment/classifiers/ResNet.py:149: UserWarning: Implicit dimension choice for softmax has been deprecated. Change the call to include dim=X as an argument.\n",
      "  output_layer = self.softmax(output_layer)\n"
     ]
    },
    {
     "data": {
      "application/vnd.jupyter.widget-view+json": {
       "model_id": "0ed984b24a3f4899a0f3c355764d6554",
       "version_major": 2,
       "version_minor": 0
      },
      "text/plain": [
       "Lime attribution:   0%|          | 0/25 [00:00<?, ?it/s]"
      ]
     },
     "metadata": {},
     "output_type": "display_data"
    },
    {
     "name": "stderr",
     "output_type": "stream",
     "text": [
      "/home/zhengyang/Desktop/Git_resp_limesegment/classifiers/ResNet.py:149: UserWarning: Implicit dimension choice for softmax has been deprecated. Change the call to include dim=X as an argument.\n",
      "  output_layer = self.softmax(output_layer)\n"
     ]
    },
    {
     "data": {
      "application/vnd.jupyter.widget-view+json": {
       "model_id": "5cf37bf3e3534602b2fb8d4a60643260",
       "version_major": 2,
       "version_minor": 0
      },
      "text/plain": [
       "Lime attribution:   0%|          | 0/25 [00:00<?, ?it/s]"
      ]
     },
     "metadata": {},
     "output_type": "display_data"
    },
    {
     "name": "stderr",
     "output_type": "stream",
     "text": [
      "/home/zhengyang/Desktop/Git_resp_limesegment/classifiers/ResNet.py:149: UserWarning: Implicit dimension choice for softmax has been deprecated. Change the call to include dim=X as an argument.\n",
      "  output_layer = self.softmax(output_layer)\n"
     ]
    },
    {
     "data": {
      "application/vnd.jupyter.widget-view+json": {
       "model_id": "99fff1fbeb96419f9fa196c935688e1c",
       "version_major": 2,
       "version_minor": 0
      },
      "text/plain": [
       "Lime attribution:   0%|          | 0/25 [00:00<?, ?it/s]"
      ]
     },
     "metadata": {},
     "output_type": "display_data"
    },
    {
     "name": "stderr",
     "output_type": "stream",
     "text": [
      "/home/zhengyang/Desktop/Git_resp_limesegment/classifiers/ResNet.py:149: UserWarning: Implicit dimension choice for softmax has been deprecated. Change the call to include dim=X as an argument.\n",
      "  output_layer = self.softmax(output_layer)\n"
     ]
    },
    {
     "data": {
      "application/vnd.jupyter.widget-view+json": {
       "model_id": "9e864454a8504802aefad2f55a02a4ef",
       "version_major": 2,
       "version_minor": 0
      },
      "text/plain": [
       "Lime attribution:   0%|          | 0/25 [00:00<?, ?it/s]"
      ]
     },
     "metadata": {},
     "output_type": "display_data"
    },
    {
     "name": "stderr",
     "output_type": "stream",
     "text": [
      "/home/zhengyang/Desktop/Git_resp_limesegment/classifiers/ResNet.py:149: UserWarning: Implicit dimension choice for softmax has been deprecated. Change the call to include dim=X as an argument.\n",
      "  output_layer = self.softmax(output_layer)\n"
     ]
    },
    {
     "data": {
      "application/vnd.jupyter.widget-view+json": {
       "model_id": "9d9c3014dffc4d2894fcdf55b32cf1f4",
       "version_major": 2,
       "version_minor": 0
      },
      "text/plain": [
       "Lime attribution:   0%|          | 0/25 [00:00<?, ?it/s]"
      ]
     },
     "metadata": {},
     "output_type": "display_data"
    },
    {
     "name": "stderr",
     "output_type": "stream",
     "text": [
      "/home/zhengyang/Desktop/Git_resp_limesegment/classifiers/ResNet.py:149: UserWarning: Implicit dimension choice for softmax has been deprecated. Change the call to include dim=X as an argument.\n",
      "  output_layer = self.softmax(output_layer)\n"
     ]
    },
    {
     "data": {
      "application/vnd.jupyter.widget-view+json": {
       "model_id": "78dc833d8c5941fdac6685245d1b6ecb",
       "version_major": 2,
       "version_minor": 0
      },
      "text/plain": [
       "Lime attribution:   0%|          | 0/25 [00:00<?, ?it/s]"
      ]
     },
     "metadata": {},
     "output_type": "display_data"
    },
    {
     "name": "stderr",
     "output_type": "stream",
     "text": [
      "/home/zhengyang/Desktop/Git_resp_limesegment/classifiers/ResNet.py:149: UserWarning: Implicit dimension choice for softmax has been deprecated. Change the call to include dim=X as an argument.\n",
      "  output_layer = self.softmax(output_layer)\n"
     ]
    },
    {
     "data": {
      "application/vnd.jupyter.widget-view+json": {
       "model_id": "f85523d4e20b404aaab0b9209e681404",
       "version_major": 2,
       "version_minor": 0
      },
      "text/plain": [
       "Lime attribution:   0%|          | 0/25 [00:00<?, ?it/s]"
      ]
     },
     "metadata": {},
     "output_type": "display_data"
    },
    {
     "name": "stderr",
     "output_type": "stream",
     "text": [
      "/home/zhengyang/Desktop/Git_resp_limesegment/classifiers/ResNet.py:149: UserWarning: Implicit dimension choice for softmax has been deprecated. Change the call to include dim=X as an argument.\n",
      "  output_layer = self.softmax(output_layer)\n"
     ]
    },
    {
     "data": {
      "application/vnd.jupyter.widget-view+json": {
       "model_id": "3981b5856b694b70af12fffed6ed9a4d",
       "version_major": 2,
       "version_minor": 0
      },
      "text/plain": [
       "Lime attribution:   0%|          | 0/25 [00:00<?, ?it/s]"
      ]
     },
     "metadata": {},
     "output_type": "display_data"
    },
    {
     "name": "stderr",
     "output_type": "stream",
     "text": [
      "/home/zhengyang/Desktop/Git_resp_limesegment/classifiers/ResNet.py:149: UserWarning: Implicit dimension choice for softmax has been deprecated. Change the call to include dim=X as an argument.\n",
      "  output_layer = self.softmax(output_layer)\n"
     ]
    },
    {
     "data": {
      "application/vnd.jupyter.widget-view+json": {
       "model_id": "3f0206f1e50d487d9c4b6b8728cb8fd6",
       "version_major": 2,
       "version_minor": 0
      },
      "text/plain": [
       "Lime attribution:   0%|          | 0/25 [00:00<?, ?it/s]"
      ]
     },
     "metadata": {},
     "output_type": "display_data"
    },
    {
     "name": "stderr",
     "output_type": "stream",
     "text": [
      "/home/zhengyang/Desktop/Git_resp_limesegment/classifiers/ResNet.py:149: UserWarning: Implicit dimension choice for softmax has been deprecated. Change the call to include dim=X as an argument.\n",
      "  output_layer = self.softmax(output_layer)\n"
     ]
    },
    {
     "data": {
      "application/vnd.jupyter.widget-view+json": {
       "model_id": "d53bf216a2ab4711a03fea73851ab5f4",
       "version_major": 2,
       "version_minor": 0
      },
      "text/plain": [
       "Lime attribution:   0%|          | 0/25 [00:00<?, ?it/s]"
      ]
     },
     "metadata": {},
     "output_type": "display_data"
    },
    {
     "name": "stderr",
     "output_type": "stream",
     "text": [
      "/home/zhengyang/Desktop/Git_resp_limesegment/classifiers/ResNet.py:149: UserWarning: Implicit dimension choice for softmax has been deprecated. Change the call to include dim=X as an argument.\n",
      "  output_layer = self.softmax(output_layer)\n"
     ]
    },
    {
     "data": {
      "application/vnd.jupyter.widget-view+json": {
       "model_id": "d89e99c0126d4d71be559fd32b7acb69",
       "version_major": 2,
       "version_minor": 0
      },
      "text/plain": [
       "Lime attribution:   0%|          | 0/25 [00:00<?, ?it/s]"
      ]
     },
     "metadata": {},
     "output_type": "display_data"
    },
    {
     "name": "stderr",
     "output_type": "stream",
     "text": [
      "/home/zhengyang/Desktop/Git_resp_limesegment/classifiers/ResNet.py:149: UserWarning: Implicit dimension choice for softmax has been deprecated. Change the call to include dim=X as an argument.\n",
      "  output_layer = self.softmax(output_layer)\n"
     ]
    },
    {
     "data": {
      "application/vnd.jupyter.widget-view+json": {
       "model_id": "39045f0a54444407b2ef89352911ea67",
       "version_major": 2,
       "version_minor": 0
      },
      "text/plain": [
       "Lime attribution:   0%|          | 0/25 [00:00<?, ?it/s]"
      ]
     },
     "metadata": {},
     "output_type": "display_data"
    },
    {
     "name": "stderr",
     "output_type": "stream",
     "text": [
      "/home/zhengyang/Desktop/Git_resp_limesegment/classifiers/ResNet.py:149: UserWarning: Implicit dimension choice for softmax has been deprecated. Change the call to include dim=X as an argument.\n",
      "  output_layer = self.softmax(output_layer)\n"
     ]
    },
    {
     "data": {
      "application/vnd.jupyter.widget-view+json": {
       "model_id": "a0e85d10dd454f9e8da32fe9c6ce69c5",
       "version_major": 2,
       "version_minor": 0
      },
      "text/plain": [
       "Lime attribution:   0%|          | 0/25 [00:00<?, ?it/s]"
      ]
     },
     "metadata": {},
     "output_type": "display_data"
    },
    {
     "name": "stderr",
     "output_type": "stream",
     "text": [
      "/home/zhengyang/Desktop/Git_resp_limesegment/classifiers/ResNet.py:149: UserWarning: Implicit dimension choice for softmax has been deprecated. Change the call to include dim=X as an argument.\n",
      "  output_layer = self.softmax(output_layer)\n"
     ]
    },
    {
     "data": {
      "application/vnd.jupyter.widget-view+json": {
       "model_id": "13908634dcd94f678c053d3ff5f19b9e",
       "version_major": 2,
       "version_minor": 0
      },
      "text/plain": [
       "Lime attribution:   0%|          | 0/25 [00:00<?, ?it/s]"
      ]
     },
     "metadata": {},
     "output_type": "display_data"
    },
    {
     "name": "stderr",
     "output_type": "stream",
     "text": [
      "/home/zhengyang/Desktop/Git_resp_limesegment/classifiers/ResNet.py:149: UserWarning: Implicit dimension choice for softmax has been deprecated. Change the call to include dim=X as an argument.\n",
      "  output_layer = self.softmax(output_layer)\n"
     ]
    },
    {
     "data": {
      "application/vnd.jupyter.widget-view+json": {
       "model_id": "bc9624f965044557a4f2fbce7277685e",
       "version_major": 2,
       "version_minor": 0
      },
      "text/plain": [
       "Lime attribution:   0%|          | 0/25 [00:00<?, ?it/s]"
      ]
     },
     "metadata": {},
     "output_type": "display_data"
    },
    {
     "name": "stderr",
     "output_type": "stream",
     "text": [
      "/home/zhengyang/Desktop/Git_resp_limesegment/classifiers/ResNet.py:149: UserWarning: Implicit dimension choice for softmax has been deprecated. Change the call to include dim=X as an argument.\n",
      "  output_layer = self.softmax(output_layer)\n"
     ]
    },
    {
     "data": {
      "application/vnd.jupyter.widget-view+json": {
       "model_id": "decbdb67c1bf4d43b26677da75bcb7bd",
       "version_major": 2,
       "version_minor": 0
      },
      "text/plain": [
       "Lime attribution:   0%|          | 0/25 [00:00<?, ?it/s]"
      ]
     },
     "metadata": {},
     "output_type": "display_data"
    },
    {
     "name": "stderr",
     "output_type": "stream",
     "text": [
      "/home/zhengyang/Desktop/Git_resp_limesegment/classifiers/ResNet.py:149: UserWarning: Implicit dimension choice for softmax has been deprecated. Change the call to include dim=X as an argument.\n",
      "  output_layer = self.softmax(output_layer)\n"
     ]
    },
    {
     "data": {
      "application/vnd.jupyter.widget-view+json": {
       "model_id": "ed6676fb69c54cc7aeddee27920c3944",
       "version_major": 2,
       "version_minor": 0
      },
      "text/plain": [
       "Lime attribution:   0%|          | 0/25 [00:00<?, ?it/s]"
      ]
     },
     "metadata": {},
     "output_type": "display_data"
    },
    {
     "name": "stderr",
     "output_type": "stream",
     "text": [
      "/home/zhengyang/Desktop/Git_resp_limesegment/classifiers/ResNet.py:149: UserWarning: Implicit dimension choice for softmax has been deprecated. Change the call to include dim=X as an argument.\n",
      "  output_layer = self.softmax(output_layer)\n"
     ]
    },
    {
     "data": {
      "application/vnd.jupyter.widget-view+json": {
       "model_id": "881c29681bd44d0aaadf73a943b958c0",
       "version_major": 2,
       "version_minor": 0
      },
      "text/plain": [
       "Lime attribution:   0%|          | 0/25 [00:00<?, ?it/s]"
      ]
     },
     "metadata": {},
     "output_type": "display_data"
    },
    {
     "name": "stderr",
     "output_type": "stream",
     "text": [
      "/home/zhengyang/Desktop/Git_resp_limesegment/classifiers/ResNet.py:149: UserWarning: Implicit dimension choice for softmax has been deprecated. Change the call to include dim=X as an argument.\n",
      "  output_layer = self.softmax(output_layer)\n"
     ]
    },
    {
     "data": {
      "application/vnd.jupyter.widget-view+json": {
       "model_id": "03939da2cb824cd58ed44ee1134eb9d1",
       "version_major": 2,
       "version_minor": 0
      },
      "text/plain": [
       "Lime attribution:   0%|          | 0/25 [00:00<?, ?it/s]"
      ]
     },
     "metadata": {},
     "output_type": "display_data"
    },
    {
     "name": "stderr",
     "output_type": "stream",
     "text": [
      "/home/zhengyang/Desktop/Git_resp_limesegment/classifiers/ResNet.py:149: UserWarning: Implicit dimension choice for softmax has been deprecated. Change the call to include dim=X as an argument.\n",
      "  output_layer = self.softmax(output_layer)\n"
     ]
    },
    {
     "data": {
      "application/vnd.jupyter.widget-view+json": {
       "model_id": "18c4685cd9d74ad589e39ed7e63762ff",
       "version_major": 2,
       "version_minor": 0
      },
      "text/plain": [
       "Lime attribution:   0%|          | 0/25 [00:00<?, ?it/s]"
      ]
     },
     "metadata": {},
     "output_type": "display_data"
    },
    {
     "name": "stderr",
     "output_type": "stream",
     "text": [
      "/home/zhengyang/Desktop/Git_resp_limesegment/classifiers/ResNet.py:149: UserWarning: Implicit dimension choice for softmax has been deprecated. Change the call to include dim=X as an argument.\n",
      "  output_layer = self.softmax(output_layer)\n"
     ]
    },
    {
     "data": {
      "application/vnd.jupyter.widget-view+json": {
       "model_id": "be8b2dec4067410a9f432e9e441f59cd",
       "version_major": 2,
       "version_minor": 0
      },
      "text/plain": [
       "Lime attribution:   0%|          | 0/25 [00:00<?, ?it/s]"
      ]
     },
     "metadata": {},
     "output_type": "display_data"
    },
    {
     "name": "stderr",
     "output_type": "stream",
     "text": [
      "/home/zhengyang/Desktop/Git_resp_limesegment/classifiers/ResNet.py:149: UserWarning: Implicit dimension choice for softmax has been deprecated. Change the call to include dim=X as an argument.\n",
      "  output_layer = self.softmax(output_layer)\n"
     ]
    },
    {
     "data": {
      "application/vnd.jupyter.widget-view+json": {
       "model_id": "ad066fe069f840a3bdbbbda66652a701",
       "version_major": 2,
       "version_minor": 0
      },
      "text/plain": [
       "Lime attribution:   0%|          | 0/25 [00:00<?, ?it/s]"
      ]
     },
     "metadata": {},
     "output_type": "display_data"
    },
    {
     "name": "stderr",
     "output_type": "stream",
     "text": [
      "/home/zhengyang/Desktop/Git_resp_limesegment/classifiers/ResNet.py:149: UserWarning: Implicit dimension choice for softmax has been deprecated. Change the call to include dim=X as an argument.\n",
      "  output_layer = self.softmax(output_layer)\n"
     ]
    },
    {
     "data": {
      "application/vnd.jupyter.widget-view+json": {
       "model_id": "32994f3c070b472c999f704160238a1c",
       "version_major": 2,
       "version_minor": 0
      },
      "text/plain": [
       "Lime attribution:   0%|          | 0/25 [00:00<?, ?it/s]"
      ]
     },
     "metadata": {},
     "output_type": "display_data"
    },
    {
     "name": "stderr",
     "output_type": "stream",
     "text": [
      "/home/zhengyang/Desktop/Git_resp_limesegment/classifiers/ResNet.py:149: UserWarning: Implicit dimension choice for softmax has been deprecated. Change the call to include dim=X as an argument.\n",
      "  output_layer = self.softmax(output_layer)\n"
     ]
    },
    {
     "data": {
      "application/vnd.jupyter.widget-view+json": {
       "model_id": "d8bc19ebdccc4965a207e6becee0a192",
       "version_major": 2,
       "version_minor": 0
      },
      "text/plain": [
       "Lime attribution:   0%|          | 0/25 [00:00<?, ?it/s]"
      ]
     },
     "metadata": {},
     "output_type": "display_data"
    },
    {
     "name": "stderr",
     "output_type": "stream",
     "text": [
      "/home/zhengyang/Desktop/Git_resp_limesegment/classifiers/ResNet.py:149: UserWarning: Implicit dimension choice for softmax has been deprecated. Change the call to include dim=X as an argument.\n",
      "  output_layer = self.softmax(output_layer)\n"
     ]
    },
    {
     "data": {
      "application/vnd.jupyter.widget-view+json": {
       "model_id": "d8c5597c992d421d970eef14ee792855",
       "version_major": 2,
       "version_minor": 0
      },
      "text/plain": [
       "Lime attribution:   0%|          | 0/25 [00:00<?, ?it/s]"
      ]
     },
     "metadata": {},
     "output_type": "display_data"
    },
    {
     "name": "stderr",
     "output_type": "stream",
     "text": [
      "/home/zhengyang/Desktop/Git_resp_limesegment/classifiers/ResNet.py:149: UserWarning: Implicit dimension choice for softmax has been deprecated. Change the call to include dim=X as an argument.\n",
      "  output_layer = self.softmax(output_layer)\n"
     ]
    },
    {
     "data": {
      "application/vnd.jupyter.widget-view+json": {
       "model_id": "33e2851d907c49458f987c600f10b752",
       "version_major": 2,
       "version_minor": 0
      },
      "text/plain": [
       "Lime attribution:   0%|          | 0/25 [00:00<?, ?it/s]"
      ]
     },
     "metadata": {},
     "output_type": "display_data"
    },
    {
     "name": "stderr",
     "output_type": "stream",
     "text": [
      "/home/zhengyang/Desktop/Git_resp_limesegment/classifiers/ResNet.py:149: UserWarning: Implicit dimension choice for softmax has been deprecated. Change the call to include dim=X as an argument.\n",
      "  output_layer = self.softmax(output_layer)\n"
     ]
    },
    {
     "data": {
      "application/vnd.jupyter.widget-view+json": {
       "model_id": "9f3ba94c31794568b18073c82af1b53c",
       "version_major": 2,
       "version_minor": 0
      },
      "text/plain": [
       "Lime attribution:   0%|          | 0/25 [00:00<?, ?it/s]"
      ]
     },
     "metadata": {},
     "output_type": "display_data"
    },
    {
     "name": "stderr",
     "output_type": "stream",
     "text": [
      "/home/zhengyang/Desktop/Git_resp_limesegment/classifiers/ResNet.py:149: UserWarning: Implicit dimension choice for softmax has been deprecated. Change the call to include dim=X as an argument.\n",
      "  output_layer = self.softmax(output_layer)\n"
     ]
    },
    {
     "data": {
      "application/vnd.jupyter.widget-view+json": {
       "model_id": "e639f457e0fd4f799e442ad3bd6f3814",
       "version_major": 2,
       "version_minor": 0
      },
      "text/plain": [
       "Lime attribution:   0%|          | 0/25 [00:00<?, ?it/s]"
      ]
     },
     "metadata": {},
     "output_type": "display_data"
    },
    {
     "name": "stderr",
     "output_type": "stream",
     "text": [
      "/home/zhengyang/Desktop/Git_resp_limesegment/classifiers/ResNet.py:149: UserWarning: Implicit dimension choice for softmax has been deprecated. Change the call to include dim=X as an argument.\n",
      "  output_layer = self.softmax(output_layer)\n"
     ]
    },
    {
     "data": {
      "application/vnd.jupyter.widget-view+json": {
       "model_id": "153db8d114b44155b3339882e384f02d",
       "version_major": 2,
       "version_minor": 0
      },
      "text/plain": [
       "Lime attribution:   0%|          | 0/25 [00:00<?, ?it/s]"
      ]
     },
     "metadata": {},
     "output_type": "display_data"
    },
    {
     "name": "stderr",
     "output_type": "stream",
     "text": [
      "/home/zhengyang/Desktop/Git_resp_limesegment/classifiers/ResNet.py:149: UserWarning: Implicit dimension choice for softmax has been deprecated. Change the call to include dim=X as an argument.\n",
      "  output_layer = self.softmax(output_layer)\n"
     ]
    },
    {
     "data": {
      "application/vnd.jupyter.widget-view+json": {
       "model_id": "c6c9df85535048e6879496e28d2de084",
       "version_major": 2,
       "version_minor": 0
      },
      "text/plain": [
       "Lime attribution:   0%|          | 0/25 [00:00<?, ?it/s]"
      ]
     },
     "metadata": {},
     "output_type": "display_data"
    },
    {
     "name": "stderr",
     "output_type": "stream",
     "text": [
      "/home/zhengyang/Desktop/Git_resp_limesegment/classifiers/ResNet.py:149: UserWarning: Implicit dimension choice for softmax has been deprecated. Change the call to include dim=X as an argument.\n",
      "  output_layer = self.softmax(output_layer)\n"
     ]
    },
    {
     "data": {
      "application/vnd.jupyter.widget-view+json": {
       "model_id": "52e63c6b33c74633a6f288cb47a6873e",
       "version_major": 2,
       "version_minor": 0
      },
      "text/plain": [
       "Lime attribution:   0%|          | 0/25 [00:00<?, ?it/s]"
      ]
     },
     "metadata": {},
     "output_type": "display_data"
    },
    {
     "name": "stderr",
     "output_type": "stream",
     "text": [
      "/home/zhengyang/Desktop/Git_resp_limesegment/classifiers/ResNet.py:149: UserWarning: Implicit dimension choice for softmax has been deprecated. Change the call to include dim=X as an argument.\n",
      "  output_layer = self.softmax(output_layer)\n"
     ]
    },
    {
     "data": {
      "application/vnd.jupyter.widget-view+json": {
       "model_id": "b5af8d03fe954391818ac6c923289797",
       "version_major": 2,
       "version_minor": 0
      },
      "text/plain": [
       "Lime attribution:   0%|          | 0/25 [00:00<?, ?it/s]"
      ]
     },
     "metadata": {},
     "output_type": "display_data"
    },
    {
     "name": "stderr",
     "output_type": "stream",
     "text": [
      "/home/zhengyang/Desktop/Git_resp_limesegment/classifiers/ResNet.py:149: UserWarning: Implicit dimension choice for softmax has been deprecated. Change the call to include dim=X as an argument.\n",
      "  output_layer = self.softmax(output_layer)\n"
     ]
    },
    {
     "data": {
      "application/vnd.jupyter.widget-view+json": {
       "model_id": "a9ebacad94654ced97a4057b62900389",
       "version_major": 2,
       "version_minor": 0
      },
      "text/plain": [
       "Lime attribution:   0%|          | 0/25 [00:00<?, ?it/s]"
      ]
     },
     "metadata": {},
     "output_type": "display_data"
    },
    {
     "name": "stderr",
     "output_type": "stream",
     "text": [
      "/home/zhengyang/Desktop/Git_resp_limesegment/classifiers/ResNet.py:149: UserWarning: Implicit dimension choice for softmax has been deprecated. Change the call to include dim=X as an argument.\n",
      "  output_layer = self.softmax(output_layer)\n"
     ]
    },
    {
     "data": {
      "application/vnd.jupyter.widget-view+json": {
       "model_id": "8391ab7f4172477588ab3a8b5d721739",
       "version_major": 2,
       "version_minor": 0
      },
      "text/plain": [
       "Lime attribution:   0%|          | 0/25 [00:00<?, ?it/s]"
      ]
     },
     "metadata": {},
     "output_type": "display_data"
    },
    {
     "name": "stderr",
     "output_type": "stream",
     "text": [
      "/home/zhengyang/Desktop/Git_resp_limesegment/classifiers/ResNet.py:149: UserWarning: Implicit dimension choice for softmax has been deprecated. Change the call to include dim=X as an argument.\n",
      "  output_layer = self.softmax(output_layer)\n"
     ]
    },
    {
     "data": {
      "application/vnd.jupyter.widget-view+json": {
       "model_id": "b32fe1e21cb8421389db4fbb64e90a55",
       "version_major": 2,
       "version_minor": 0
      },
      "text/plain": [
       "Lime attribution:   0%|          | 0/25 [00:00<?, ?it/s]"
      ]
     },
     "metadata": {},
     "output_type": "display_data"
    },
    {
     "name": "stderr",
     "output_type": "stream",
     "text": [
      "/home/zhengyang/Desktop/Git_resp_limesegment/classifiers/ResNet.py:149: UserWarning: Implicit dimension choice for softmax has been deprecated. Change the call to include dim=X as an argument.\n",
      "  output_layer = self.softmax(output_layer)\n"
     ]
    },
    {
     "data": {
      "application/vnd.jupyter.widget-view+json": {
       "model_id": "597246d84231455597e225a8084e7078",
       "version_major": 2,
       "version_minor": 0
      },
      "text/plain": [
       "Lime attribution:   0%|          | 0/25 [00:00<?, ?it/s]"
      ]
     },
     "metadata": {},
     "output_type": "display_data"
    },
    {
     "name": "stderr",
     "output_type": "stream",
     "text": [
      "/home/zhengyang/Desktop/Git_resp_limesegment/classifiers/ResNet.py:149: UserWarning: Implicit dimension choice for softmax has been deprecated. Change the call to include dim=X as an argument.\n",
      "  output_layer = self.softmax(output_layer)\n"
     ]
    },
    {
     "data": {
      "application/vnd.jupyter.widget-view+json": {
       "model_id": "955a39b3e7124a0fb41f6eda4918cc6e",
       "version_major": 2,
       "version_minor": 0
      },
      "text/plain": [
       "Lime attribution:   0%|          | 0/25 [00:00<?, ?it/s]"
      ]
     },
     "metadata": {},
     "output_type": "display_data"
    },
    {
     "name": "stderr",
     "output_type": "stream",
     "text": [
      "/home/zhengyang/Desktop/Git_resp_limesegment/classifiers/ResNet.py:149: UserWarning: Implicit dimension choice for softmax has been deprecated. Change the call to include dim=X as an argument.\n",
      "  output_layer = self.softmax(output_layer)\n"
     ]
    },
    {
     "data": {
      "application/vnd.jupyter.widget-view+json": {
       "model_id": "ba06d21f5844450dbd7827c28be1c410",
       "version_major": 2,
       "version_minor": 0
      },
      "text/plain": [
       "Lime attribution:   0%|          | 0/25 [00:00<?, ?it/s]"
      ]
     },
     "metadata": {},
     "output_type": "display_data"
    },
    {
     "name": "stderr",
     "output_type": "stream",
     "text": [
      "/home/zhengyang/Desktop/Git_resp_limesegment/classifiers/ResNet.py:149: UserWarning: Implicit dimension choice for softmax has been deprecated. Change the call to include dim=X as an argument.\n",
      "  output_layer = self.softmax(output_layer)\n"
     ]
    },
    {
     "data": {
      "application/vnd.jupyter.widget-view+json": {
       "model_id": "e1dd3cc3cf684c2dbaec4d228b63c19e",
       "version_major": 2,
       "version_minor": 0
      },
      "text/plain": [
       "Lime attribution:   0%|          | 0/25 [00:00<?, ?it/s]"
      ]
     },
     "metadata": {},
     "output_type": "display_data"
    },
    {
     "name": "stderr",
     "output_type": "stream",
     "text": [
      "/home/zhengyang/Desktop/Git_resp_limesegment/classifiers/ResNet.py:149: UserWarning: Implicit dimension choice for softmax has been deprecated. Change the call to include dim=X as an argument.\n",
      "  output_layer = self.softmax(output_layer)\n"
     ]
    },
    {
     "data": {
      "application/vnd.jupyter.widget-view+json": {
       "model_id": "6d5cdbdc94f84ffdbfb7bcba2cb95b1d",
       "version_major": 2,
       "version_minor": 0
      },
      "text/plain": [
       "Lime attribution:   0%|          | 0/25 [00:00<?, ?it/s]"
      ]
     },
     "metadata": {},
     "output_type": "display_data"
    },
    {
     "name": "stderr",
     "output_type": "stream",
     "text": [
      "/home/zhengyang/Desktop/Git_resp_limesegment/classifiers/ResNet.py:149: UserWarning: Implicit dimension choice for softmax has been deprecated. Change the call to include dim=X as an argument.\n",
      "  output_layer = self.softmax(output_layer)\n"
     ]
    },
    {
     "data": {
      "application/vnd.jupyter.widget-view+json": {
       "model_id": "005b4b8761d948d39ab488dabe3adf8b",
       "version_major": 2,
       "version_minor": 0
      },
      "text/plain": [
       "Lime attribution:   0%|          | 0/25 [00:00<?, ?it/s]"
      ]
     },
     "metadata": {},
     "output_type": "display_data"
    },
    {
     "name": "stderr",
     "output_type": "stream",
     "text": [
      "/home/zhengyang/Desktop/Git_resp_limesegment/classifiers/ResNet.py:149: UserWarning: Implicit dimension choice for softmax has been deprecated. Change the call to include dim=X as an argument.\n",
      "  output_layer = self.softmax(output_layer)\n"
     ]
    },
    {
     "data": {
      "application/vnd.jupyter.widget-view+json": {
       "model_id": "980b51af15e949cfa72d5e71fafc99a0",
       "version_major": 2,
       "version_minor": 0
      },
      "text/plain": [
       "Lime attribution:   0%|          | 0/25 [00:00<?, ?it/s]"
      ]
     },
     "metadata": {},
     "output_type": "display_data"
    },
    {
     "name": "stderr",
     "output_type": "stream",
     "text": [
      "/home/zhengyang/Desktop/Git_resp_limesegment/classifiers/ResNet.py:149: UserWarning: Implicit dimension choice for softmax has been deprecated. Change the call to include dim=X as an argument.\n",
      "  output_layer = self.softmax(output_layer)\n"
     ]
    },
    {
     "data": {
      "application/vnd.jupyter.widget-view+json": {
       "model_id": "a5b6b41ac76e4b7f92a7dde28d2f6455",
       "version_major": 2,
       "version_minor": 0
      },
      "text/plain": [
       "Lime attribution:   0%|          | 0/25 [00:00<?, ?it/s]"
      ]
     },
     "metadata": {},
     "output_type": "display_data"
    },
    {
     "name": "stderr",
     "output_type": "stream",
     "text": [
      "/home/zhengyang/Desktop/Git_resp_limesegment/classifiers/ResNet.py:149: UserWarning: Implicit dimension choice for softmax has been deprecated. Change the call to include dim=X as an argument.\n",
      "  output_layer = self.softmax(output_layer)\n"
     ]
    },
    {
     "data": {
      "application/vnd.jupyter.widget-view+json": {
       "model_id": "a9de008a0d3f40e9aa640ea3bc6ac52c",
       "version_major": 2,
       "version_minor": 0
      },
      "text/plain": [
       "Lime attribution:   0%|          | 0/25 [00:00<?, ?it/s]"
      ]
     },
     "metadata": {},
     "output_type": "display_data"
    },
    {
     "name": "stderr",
     "output_type": "stream",
     "text": [
      "/home/zhengyang/Desktop/Git_resp_limesegment/classifiers/ResNet.py:149: UserWarning: Implicit dimension choice for softmax has been deprecated. Change the call to include dim=X as an argument.\n",
      "  output_layer = self.softmax(output_layer)\n"
     ]
    },
    {
     "data": {
      "application/vnd.jupyter.widget-view+json": {
       "model_id": "ceb8045bf29c416385e4a9c4bc34facf",
       "version_major": 2,
       "version_minor": 0
      },
      "text/plain": [
       "Lime attribution:   0%|          | 0/25 [00:00<?, ?it/s]"
      ]
     },
     "metadata": {},
     "output_type": "display_data"
    },
    {
     "name": "stderr",
     "output_type": "stream",
     "text": [
      "/home/zhengyang/Desktop/Git_resp_limesegment/classifiers/ResNet.py:149: UserWarning: Implicit dimension choice for softmax has been deprecated. Change the call to include dim=X as an argument.\n",
      "  output_layer = self.softmax(output_layer)\n"
     ]
    },
    {
     "data": {
      "application/vnd.jupyter.widget-view+json": {
       "model_id": "85bfce1f4fab412ba7a84a9c40010feb",
       "version_major": 2,
       "version_minor": 0
      },
      "text/plain": [
       "Lime attribution:   0%|          | 0/25 [00:00<?, ?it/s]"
      ]
     },
     "metadata": {},
     "output_type": "display_data"
    },
    {
     "name": "stderr",
     "output_type": "stream",
     "text": [
      "/home/zhengyang/Desktop/Git_resp_limesegment/classifiers/ResNet.py:149: UserWarning: Implicit dimension choice for softmax has been deprecated. Change the call to include dim=X as an argument.\n",
      "  output_layer = self.softmax(output_layer)\n"
     ]
    },
    {
     "data": {
      "application/vnd.jupyter.widget-view+json": {
       "model_id": "83d4ed7c00dc40118bb9813908cc5264",
       "version_major": 2,
       "version_minor": 0
      },
      "text/plain": [
       "Lime attribution:   0%|          | 0/25 [00:00<?, ?it/s]"
      ]
     },
     "metadata": {},
     "output_type": "display_data"
    },
    {
     "name": "stderr",
     "output_type": "stream",
     "text": [
      "/home/zhengyang/Desktop/Git_resp_limesegment/classifiers/ResNet.py:149: UserWarning: Implicit dimension choice for softmax has been deprecated. Change the call to include dim=X as an argument.\n",
      "  output_layer = self.softmax(output_layer)\n"
     ]
    },
    {
     "data": {
      "application/vnd.jupyter.widget-view+json": {
       "model_id": "bdf84d11c40643789f197911f227f017",
       "version_major": 2,
       "version_minor": 0
      },
      "text/plain": [
       "Lime attribution:   0%|          | 0/25 [00:00<?, ?it/s]"
      ]
     },
     "metadata": {},
     "output_type": "display_data"
    },
    {
     "name": "stderr",
     "output_type": "stream",
     "text": [
      "/home/zhengyang/Desktop/Git_resp_limesegment/classifiers/ResNet.py:149: UserWarning: Implicit dimension choice for softmax has been deprecated. Change the call to include dim=X as an argument.\n",
      "  output_layer = self.softmax(output_layer)\n"
     ]
    },
    {
     "data": {
      "application/vnd.jupyter.widget-view+json": {
       "model_id": "567f42880f4542e2b35c6813911b4c34",
       "version_major": 2,
       "version_minor": 0
      },
      "text/plain": [
       "Lime attribution:   0%|          | 0/25 [00:00<?, ?it/s]"
      ]
     },
     "metadata": {},
     "output_type": "display_data"
    },
    {
     "name": "stderr",
     "output_type": "stream",
     "text": [
      "/home/zhengyang/Desktop/Git_resp_limesegment/classifiers/ResNet.py:149: UserWarning: Implicit dimension choice for softmax has been deprecated. Change the call to include dim=X as an argument.\n",
      "  output_layer = self.softmax(output_layer)\n"
     ]
    },
    {
     "data": {
      "application/vnd.jupyter.widget-view+json": {
       "model_id": "b1f1e773062149f09d168ea6e649e81c",
       "version_major": 2,
       "version_minor": 0
      },
      "text/plain": [
       "Lime attribution:   0%|          | 0/25 [00:00<?, ?it/s]"
      ]
     },
     "metadata": {},
     "output_type": "display_data"
    },
    {
     "name": "stderr",
     "output_type": "stream",
     "text": [
      "/home/zhengyang/Desktop/Git_resp_limesegment/classifiers/ResNet.py:149: UserWarning: Implicit dimension choice for softmax has been deprecated. Change the call to include dim=X as an argument.\n",
      "  output_layer = self.softmax(output_layer)\n"
     ]
    },
    {
     "data": {
      "application/vnd.jupyter.widget-view+json": {
       "model_id": "40b941c3291243198bb0de04ea1b7bb7",
       "version_major": 2,
       "version_minor": 0
      },
      "text/plain": [
       "Lime attribution:   0%|          | 0/25 [00:00<?, ?it/s]"
      ]
     },
     "metadata": {},
     "output_type": "display_data"
    },
    {
     "name": "stderr",
     "output_type": "stream",
     "text": [
      "/home/zhengyang/Desktop/Git_resp_limesegment/classifiers/ResNet.py:149: UserWarning: Implicit dimension choice for softmax has been deprecated. Change the call to include dim=X as an argument.\n",
      "  output_layer = self.softmax(output_layer)\n"
     ]
    },
    {
     "data": {
      "application/vnd.jupyter.widget-view+json": {
       "model_id": "da10ecb24eca460f81386837a2f55559",
       "version_major": 2,
       "version_minor": 0
      },
      "text/plain": [
       "Lime attribution:   0%|          | 0/25 [00:00<?, ?it/s]"
      ]
     },
     "metadata": {},
     "output_type": "display_data"
    },
    {
     "name": "stderr",
     "output_type": "stream",
     "text": [
      "/home/zhengyang/Desktop/Git_resp_limesegment/classifiers/ResNet.py:149: UserWarning: Implicit dimension choice for softmax has been deprecated. Change the call to include dim=X as an argument.\n",
      "  output_layer = self.softmax(output_layer)\n"
     ]
    },
    {
     "data": {
      "application/vnd.jupyter.widget-view+json": {
       "model_id": "a7f989accecf4a68bfab84e2d5ddad69",
       "version_major": 2,
       "version_minor": 0
      },
      "text/plain": [
       "Lime attribution:   0%|          | 0/25 [00:00<?, ?it/s]"
      ]
     },
     "metadata": {},
     "output_type": "display_data"
    },
    {
     "name": "stderr",
     "output_type": "stream",
     "text": [
      "/home/zhengyang/Desktop/Git_resp_limesegment/classifiers/ResNet.py:149: UserWarning: Implicit dimension choice for softmax has been deprecated. Change the call to include dim=X as an argument.\n",
      "  output_layer = self.softmax(output_layer)\n"
     ]
    },
    {
     "data": {
      "application/vnd.jupyter.widget-view+json": {
       "model_id": "26695841103b430bacaea6f58996e128",
       "version_major": 2,
       "version_minor": 0
      },
      "text/plain": [
       "Lime attribution:   0%|          | 0/25 [00:00<?, ?it/s]"
      ]
     },
     "metadata": {},
     "output_type": "display_data"
    },
    {
     "name": "stderr",
     "output_type": "stream",
     "text": [
      "/home/zhengyang/Desktop/Git_resp_limesegment/classifiers/ResNet.py:149: UserWarning: Implicit dimension choice for softmax has been deprecated. Change the call to include dim=X as an argument.\n",
      "  output_layer = self.softmax(output_layer)\n"
     ]
    },
    {
     "data": {
      "application/vnd.jupyter.widget-view+json": {
       "model_id": "ec48aa781ca04f85893afcd47472190a",
       "version_major": 2,
       "version_minor": 0
      },
      "text/plain": [
       "Lime attribution:   0%|          | 0/25 [00:00<?, ?it/s]"
      ]
     },
     "metadata": {},
     "output_type": "display_data"
    },
    {
     "name": "stderr",
     "output_type": "stream",
     "text": [
      "/home/zhengyang/Desktop/Git_resp_limesegment/classifiers/ResNet.py:149: UserWarning: Implicit dimension choice for softmax has been deprecated. Change the call to include dim=X as an argument.\n",
      "  output_layer = self.softmax(output_layer)\n"
     ]
    },
    {
     "data": {
      "application/vnd.jupyter.widget-view+json": {
       "model_id": "51eb723a2a66426387f1cd2f2c1169ed",
       "version_major": 2,
       "version_minor": 0
      },
      "text/plain": [
       "Lime attribution:   0%|          | 0/25 [00:00<?, ?it/s]"
      ]
     },
     "metadata": {},
     "output_type": "display_data"
    },
    {
     "name": "stderr",
     "output_type": "stream",
     "text": [
      "/home/zhengyang/Desktop/Git_resp_limesegment/classifiers/ResNet.py:149: UserWarning: Implicit dimension choice for softmax has been deprecated. Change the call to include dim=X as an argument.\n",
      "  output_layer = self.softmax(output_layer)\n"
     ]
    },
    {
     "data": {
      "application/vnd.jupyter.widget-view+json": {
       "model_id": "7a00e1f330d541bfaa07ba2e84d2f282",
       "version_major": 2,
       "version_minor": 0
      },
      "text/plain": [
       "Lime attribution:   0%|          | 0/25 [00:00<?, ?it/s]"
      ]
     },
     "metadata": {},
     "output_type": "display_data"
    },
    {
     "name": "stderr",
     "output_type": "stream",
     "text": [
      "/home/zhengyang/Desktop/Git_resp_limesegment/classifiers/ResNet.py:149: UserWarning: Implicit dimension choice for softmax has been deprecated. Change the call to include dim=X as an argument.\n",
      "  output_layer = self.softmax(output_layer)\n"
     ]
    },
    {
     "data": {
      "application/vnd.jupyter.widget-view+json": {
       "model_id": "621c63cc4b104481966c8489be97cddf",
       "version_major": 2,
       "version_minor": 0
      },
      "text/plain": [
       "Lime attribution:   0%|          | 0/25 [00:00<?, ?it/s]"
      ]
     },
     "metadata": {},
     "output_type": "display_data"
    },
    {
     "name": "stderr",
     "output_type": "stream",
     "text": [
      "/home/zhengyang/Desktop/Git_resp_limesegment/classifiers/ResNet.py:149: UserWarning: Implicit dimension choice for softmax has been deprecated. Change the call to include dim=X as an argument.\n",
      "  output_layer = self.softmax(output_layer)\n"
     ]
    },
    {
     "data": {
      "application/vnd.jupyter.widget-view+json": {
       "model_id": "ee51a30e07ef4c66947e7922e03b0a0b",
       "version_major": 2,
       "version_minor": 0
      },
      "text/plain": [
       "Lime attribution:   0%|          | 0/25 [00:00<?, ?it/s]"
      ]
     },
     "metadata": {},
     "output_type": "display_data"
    },
    {
     "name": "stderr",
     "output_type": "stream",
     "text": [
      "/home/zhengyang/Desktop/Git_resp_limesegment/classifiers/ResNet.py:149: UserWarning: Implicit dimension choice for softmax has been deprecated. Change the call to include dim=X as an argument.\n",
      "  output_layer = self.softmax(output_layer)\n"
     ]
    },
    {
     "data": {
      "application/vnd.jupyter.widget-view+json": {
       "model_id": "d557ec188fe2436fb6b099ff8352948a",
       "version_major": 2,
       "version_minor": 0
      },
      "text/plain": [
       "Lime attribution:   0%|          | 0/25 [00:00<?, ?it/s]"
      ]
     },
     "metadata": {},
     "output_type": "display_data"
    },
    {
     "name": "stderr",
     "output_type": "stream",
     "text": [
      "/home/zhengyang/Desktop/Git_resp_limesegment/classifiers/ResNet.py:149: UserWarning: Implicit dimension choice for softmax has been deprecated. Change the call to include dim=X as an argument.\n",
      "  output_layer = self.softmax(output_layer)\n"
     ]
    },
    {
     "data": {
      "application/vnd.jupyter.widget-view+json": {
       "model_id": "cbd6cf044549459c87df9d89808dd58a",
       "version_major": 2,
       "version_minor": 0
      },
      "text/plain": [
       "Lime attribution:   0%|          | 0/25 [00:00<?, ?it/s]"
      ]
     },
     "metadata": {},
     "output_type": "display_data"
    },
    {
     "name": "stderr",
     "output_type": "stream",
     "text": [
      "/home/zhengyang/Desktop/Git_resp_limesegment/classifiers/ResNet.py:149: UserWarning: Implicit dimension choice for softmax has been deprecated. Change the call to include dim=X as an argument.\n",
      "  output_layer = self.softmax(output_layer)\n"
     ]
    },
    {
     "data": {
      "application/vnd.jupyter.widget-view+json": {
       "model_id": "5303a89c438244a59ef3bd90bf00a0e5",
       "version_major": 2,
       "version_minor": 0
      },
      "text/plain": [
       "Lime attribution:   0%|          | 0/25 [00:00<?, ?it/s]"
      ]
     },
     "metadata": {},
     "output_type": "display_data"
    },
    {
     "name": "stderr",
     "output_type": "stream",
     "text": [
      "/home/zhengyang/Desktop/Git_resp_limesegment/classifiers/ResNet.py:149: UserWarning: Implicit dimension choice for softmax has been deprecated. Change the call to include dim=X as an argument.\n",
      "  output_layer = self.softmax(output_layer)\n"
     ]
    },
    {
     "data": {
      "application/vnd.jupyter.widget-view+json": {
       "model_id": "d999be1290184a04b7a7441e5e08e4d2",
       "version_major": 2,
       "version_minor": 0
      },
      "text/plain": [
       "Lime attribution:   0%|          | 0/25 [00:00<?, ?it/s]"
      ]
     },
     "metadata": {},
     "output_type": "display_data"
    },
    {
     "name": "stderr",
     "output_type": "stream",
     "text": [
      "/home/zhengyang/Desktop/Git_resp_limesegment/classifiers/ResNet.py:149: UserWarning: Implicit dimension choice for softmax has been deprecated. Change the call to include dim=X as an argument.\n",
      "  output_layer = self.softmax(output_layer)\n"
     ]
    },
    {
     "data": {
      "application/vnd.jupyter.widget-view+json": {
       "model_id": "2e593b2d8b79451db5a5acba238a77a6",
       "version_major": 2,
       "version_minor": 0
      },
      "text/plain": [
       "Lime attribution:   0%|          | 0/25 [00:00<?, ?it/s]"
      ]
     },
     "metadata": {},
     "output_type": "display_data"
    },
    {
     "name": "stderr",
     "output_type": "stream",
     "text": [
      "/home/zhengyang/Desktop/Git_resp_limesegment/classifiers/ResNet.py:149: UserWarning: Implicit dimension choice for softmax has been deprecated. Change the call to include dim=X as an argument.\n",
      "  output_layer = self.softmax(output_layer)\n"
     ]
    },
    {
     "data": {
      "application/vnd.jupyter.widget-view+json": {
       "model_id": "a86d0ebab27745c49a22ba226a169e13",
       "version_major": 2,
       "version_minor": 0
      },
      "text/plain": [
       "Lime attribution:   0%|          | 0/25 [00:00<?, ?it/s]"
      ]
     },
     "metadata": {},
     "output_type": "display_data"
    },
    {
     "name": "stderr",
     "output_type": "stream",
     "text": [
      "/home/zhengyang/Desktop/Git_resp_limesegment/classifiers/ResNet.py:149: UserWarning: Implicit dimension choice for softmax has been deprecated. Change the call to include dim=X as an argument.\n",
      "  output_layer = self.softmax(output_layer)\n"
     ]
    },
    {
     "data": {
      "application/vnd.jupyter.widget-view+json": {
       "model_id": "b632a4a0adb04ea7a444f91b85e3a43e",
       "version_major": 2,
       "version_minor": 0
      },
      "text/plain": [
       "Lime attribution:   0%|          | 0/25 [00:00<?, ?it/s]"
      ]
     },
     "metadata": {},
     "output_type": "display_data"
    },
    {
     "name": "stderr",
     "output_type": "stream",
     "text": [
      "/home/zhengyang/Desktop/Git_resp_limesegment/classifiers/ResNet.py:149: UserWarning: Implicit dimension choice for softmax has been deprecated. Change the call to include dim=X as an argument.\n",
      "  output_layer = self.softmax(output_layer)\n"
     ]
    },
    {
     "data": {
      "application/vnd.jupyter.widget-view+json": {
       "model_id": "5f25ad7a829a443e9d534527d8083d4d",
       "version_major": 2,
       "version_minor": 0
      },
      "text/plain": [
       "Lime attribution:   0%|          | 0/25 [00:00<?, ?it/s]"
      ]
     },
     "metadata": {},
     "output_type": "display_data"
    },
    {
     "name": "stderr",
     "output_type": "stream",
     "text": [
      "/home/zhengyang/Desktop/Git_resp_limesegment/classifiers/ResNet.py:149: UserWarning: Implicit dimension choice for softmax has been deprecated. Change the call to include dim=X as an argument.\n",
      "  output_layer = self.softmax(output_layer)\n"
     ]
    },
    {
     "data": {
      "application/vnd.jupyter.widget-view+json": {
       "model_id": "84ae86b42fca4369bcc59fcddffe974a",
       "version_major": 2,
       "version_minor": 0
      },
      "text/plain": [
       "Lime attribution:   0%|          | 0/25 [00:00<?, ?it/s]"
      ]
     },
     "metadata": {},
     "output_type": "display_data"
    },
    {
     "name": "stderr",
     "output_type": "stream",
     "text": [
      "/home/zhengyang/Desktop/Git_resp_limesegment/classifiers/ResNet.py:149: UserWarning: Implicit dimension choice for softmax has been deprecated. Change the call to include dim=X as an argument.\n",
      "  output_layer = self.softmax(output_layer)\n"
     ]
    },
    {
     "data": {
      "application/vnd.jupyter.widget-view+json": {
       "model_id": "b21dc435df7e45638309f2af1a99d388",
       "version_major": 2,
       "version_minor": 0
      },
      "text/plain": [
       "Lime attribution:   0%|          | 0/25 [00:00<?, ?it/s]"
      ]
     },
     "metadata": {},
     "output_type": "display_data"
    },
    {
     "name": "stderr",
     "output_type": "stream",
     "text": [
      "/home/zhengyang/Desktop/Git_resp_limesegment/classifiers/ResNet.py:149: UserWarning: Implicit dimension choice for softmax has been deprecated. Change the call to include dim=X as an argument.\n",
      "  output_layer = self.softmax(output_layer)\n"
     ]
    },
    {
     "data": {
      "application/vnd.jupyter.widget-view+json": {
       "model_id": "3282c34f5900453db121399642bca2f3",
       "version_major": 2,
       "version_minor": 0
      },
      "text/plain": [
       "Lime attribution:   0%|          | 0/25 [00:00<?, ?it/s]"
      ]
     },
     "metadata": {},
     "output_type": "display_data"
    },
    {
     "name": "stderr",
     "output_type": "stream",
     "text": [
      "/home/zhengyang/Desktop/Git_resp_limesegment/classifiers/ResNet.py:149: UserWarning: Implicit dimension choice for softmax has been deprecated. Change the call to include dim=X as an argument.\n",
      "  output_layer = self.softmax(output_layer)\n"
     ]
    },
    {
     "data": {
      "application/vnd.jupyter.widget-view+json": {
       "model_id": "0bde19adbbfc41c4b68a18fc914faca1",
       "version_major": 2,
       "version_minor": 0
      },
      "text/plain": [
       "Lime attribution:   0%|          | 0/25 [00:00<?, ?it/s]"
      ]
     },
     "metadata": {},
     "output_type": "display_data"
    },
    {
     "name": "stderr",
     "output_type": "stream",
     "text": [
      "/home/zhengyang/Desktop/Git_resp_limesegment/classifiers/ResNet.py:149: UserWarning: Implicit dimension choice for softmax has been deprecated. Change the call to include dim=X as an argument.\n",
      "  output_layer = self.softmax(output_layer)\n"
     ]
    },
    {
     "data": {
      "application/vnd.jupyter.widget-view+json": {
       "model_id": "9165140b0d3047338251f5fc8becc396",
       "version_major": 2,
       "version_minor": 0
      },
      "text/plain": [
       "Lime attribution:   0%|          | 0/25 [00:00<?, ?it/s]"
      ]
     },
     "metadata": {},
     "output_type": "display_data"
    },
    {
     "name": "stderr",
     "output_type": "stream",
     "text": [
      "/home/zhengyang/Desktop/Git_resp_limesegment/classifiers/ResNet.py:149: UserWarning: Implicit dimension choice for softmax has been deprecated. Change the call to include dim=X as an argument.\n",
      "  output_layer = self.softmax(output_layer)\n"
     ]
    },
    {
     "data": {
      "application/vnd.jupyter.widget-view+json": {
       "model_id": "301e91778c3c4d68a1d3d97547b17450",
       "version_major": 2,
       "version_minor": 0
      },
      "text/plain": [
       "Lime attribution:   0%|          | 0/25 [00:00<?, ?it/s]"
      ]
     },
     "metadata": {},
     "output_type": "display_data"
    },
    {
     "name": "stderr",
     "output_type": "stream",
     "text": [
      "/home/zhengyang/Desktop/Git_resp_limesegment/classifiers/ResNet.py:149: UserWarning: Implicit dimension choice for softmax has been deprecated. Change the call to include dim=X as an argument.\n",
      "  output_layer = self.softmax(output_layer)\n"
     ]
    },
    {
     "data": {
      "application/vnd.jupyter.widget-view+json": {
       "model_id": "4692c5148f5e488f87aecac5f8e0682d",
       "version_major": 2,
       "version_minor": 0
      },
      "text/plain": [
       "Lime attribution:   0%|          | 0/25 [00:00<?, ?it/s]"
      ]
     },
     "metadata": {},
     "output_type": "display_data"
    },
    {
     "name": "stderr",
     "output_type": "stream",
     "text": [
      "/home/zhengyang/Desktop/Git_resp_limesegment/classifiers/ResNet.py:149: UserWarning: Implicit dimension choice for softmax has been deprecated. Change the call to include dim=X as an argument.\n",
      "  output_layer = self.softmax(output_layer)\n"
     ]
    },
    {
     "data": {
      "application/vnd.jupyter.widget-view+json": {
       "model_id": "9ee090f9b4614716a3b67751f9ade88c",
       "version_major": 2,
       "version_minor": 0
      },
      "text/plain": [
       "Lime attribution:   0%|          | 0/25 [00:00<?, ?it/s]"
      ]
     },
     "metadata": {},
     "output_type": "display_data"
    },
    {
     "name": "stderr",
     "output_type": "stream",
     "text": [
      "/home/zhengyang/Desktop/Git_resp_limesegment/classifiers/ResNet.py:149: UserWarning: Implicit dimension choice for softmax has been deprecated. Change the call to include dim=X as an argument.\n",
      "  output_layer = self.softmax(output_layer)\n"
     ]
    },
    {
     "data": {
      "application/vnd.jupyter.widget-view+json": {
       "model_id": "48d56097c5f2432ea45dbbe259e4fed6",
       "version_major": 2,
       "version_minor": 0
      },
      "text/plain": [
       "Lime attribution:   0%|          | 0/25 [00:00<?, ?it/s]"
      ]
     },
     "metadata": {},
     "output_type": "display_data"
    },
    {
     "name": "stderr",
     "output_type": "stream",
     "text": [
      "/home/zhengyang/Desktop/Git_resp_limesegment/classifiers/ResNet.py:149: UserWarning: Implicit dimension choice for softmax has been deprecated. Change the call to include dim=X as an argument.\n",
      "  output_layer = self.softmax(output_layer)\n"
     ]
    },
    {
     "data": {
      "application/vnd.jupyter.widget-view+json": {
       "model_id": "60217af190c64f6886e71d539327f6de",
       "version_major": 2,
       "version_minor": 0
      },
      "text/plain": [
       "Lime attribution:   0%|          | 0/25 [00:00<?, ?it/s]"
      ]
     },
     "metadata": {},
     "output_type": "display_data"
    },
    {
     "name": "stderr",
     "output_type": "stream",
     "text": [
      "/home/zhengyang/Desktop/Git_resp_limesegment/classifiers/ResNet.py:149: UserWarning: Implicit dimension choice for softmax has been deprecated. Change the call to include dim=X as an argument.\n",
      "  output_layer = self.softmax(output_layer)\n"
     ]
    },
    {
     "data": {
      "application/vnd.jupyter.widget-view+json": {
       "model_id": "0555c3fdc9094598938ad4f7f19869d5",
       "version_major": 2,
       "version_minor": 0
      },
      "text/plain": [
       "Lime attribution:   0%|          | 0/25 [00:00<?, ?it/s]"
      ]
     },
     "metadata": {},
     "output_type": "display_data"
    },
    {
     "name": "stderr",
     "output_type": "stream",
     "text": [
      "/home/zhengyang/Desktop/Git_resp_limesegment/classifiers/ResNet.py:149: UserWarning: Implicit dimension choice for softmax has been deprecated. Change the call to include dim=X as an argument.\n",
      "  output_layer = self.softmax(output_layer)\n"
     ]
    },
    {
     "data": {
      "application/vnd.jupyter.widget-view+json": {
       "model_id": "a56cf893006d4d93892fc9dafff82c37",
       "version_major": 2,
       "version_minor": 0
      },
      "text/plain": [
       "Lime attribution:   0%|          | 0/25 [00:00<?, ?it/s]"
      ]
     },
     "metadata": {},
     "output_type": "display_data"
    },
    {
     "name": "stderr",
     "output_type": "stream",
     "text": [
      "/home/zhengyang/Desktop/Git_resp_limesegment/classifiers/ResNet.py:149: UserWarning: Implicit dimension choice for softmax has been deprecated. Change the call to include dim=X as an argument.\n",
      "  output_layer = self.softmax(output_layer)\n"
     ]
    },
    {
     "data": {
      "application/vnd.jupyter.widget-view+json": {
       "model_id": "3ba5dbc565d4424d815e2de74764f5fd",
       "version_major": 2,
       "version_minor": 0
      },
      "text/plain": [
       "Lime attribution:   0%|          | 0/25 [00:00<?, ?it/s]"
      ]
     },
     "metadata": {},
     "output_type": "display_data"
    },
    {
     "name": "stderr",
     "output_type": "stream",
     "text": [
      "/home/zhengyang/Desktop/Git_resp_limesegment/classifiers/ResNet.py:149: UserWarning: Implicit dimension choice for softmax has been deprecated. Change the call to include dim=X as an argument.\n",
      "  output_layer = self.softmax(output_layer)\n"
     ]
    },
    {
     "data": {
      "application/vnd.jupyter.widget-view+json": {
       "model_id": "3146765eadbf4eef93f1107e21ccde4c",
       "version_major": 2,
       "version_minor": 0
      },
      "text/plain": [
       "Lime attribution:   0%|          | 0/25 [00:00<?, ?it/s]"
      ]
     },
     "metadata": {},
     "output_type": "display_data"
    },
    {
     "name": "stderr",
     "output_type": "stream",
     "text": [
      "/home/zhengyang/Desktop/Git_resp_limesegment/classifiers/ResNet.py:149: UserWarning: Implicit dimension choice for softmax has been deprecated. Change the call to include dim=X as an argument.\n",
      "  output_layer = self.softmax(output_layer)\n"
     ]
    },
    {
     "data": {
      "application/vnd.jupyter.widget-view+json": {
       "model_id": "2b56f931f88544859080c04127ca123a",
       "version_major": 2,
       "version_minor": 0
      },
      "text/plain": [
       "Lime attribution:   0%|          | 0/25 [00:00<?, ?it/s]"
      ]
     },
     "metadata": {},
     "output_type": "display_data"
    },
    {
     "name": "stderr",
     "output_type": "stream",
     "text": [
      "/home/zhengyang/Desktop/Git_resp_limesegment/classifiers/ResNet.py:149: UserWarning: Implicit dimension choice for softmax has been deprecated. Change the call to include dim=X as an argument.\n",
      "  output_layer = self.softmax(output_layer)\n"
     ]
    },
    {
     "data": {
      "application/vnd.jupyter.widget-view+json": {
       "model_id": "5c3c1f9244e648d0b9ec30af2f272973",
       "version_major": 2,
       "version_minor": 0
      },
      "text/plain": [
       "Lime attribution:   0%|          | 0/25 [00:00<?, ?it/s]"
      ]
     },
     "metadata": {},
     "output_type": "display_data"
    },
    {
     "name": "stderr",
     "output_type": "stream",
     "text": [
      "/home/zhengyang/Desktop/Git_resp_limesegment/classifiers/ResNet.py:149: UserWarning: Implicit dimension choice for softmax has been deprecated. Change the call to include dim=X as an argument.\n",
      "  output_layer = self.softmax(output_layer)\n"
     ]
    },
    {
     "data": {
      "application/vnd.jupyter.widget-view+json": {
       "model_id": "9f1cf0acc7b94b049a21a90bce76789a",
       "version_major": 2,
       "version_minor": 0
      },
      "text/plain": [
       "Lime attribution:   0%|          | 0/25 [00:00<?, ?it/s]"
      ]
     },
     "metadata": {},
     "output_type": "display_data"
    },
    {
     "name": "stderr",
     "output_type": "stream",
     "text": [
      "/home/zhengyang/Desktop/Git_resp_limesegment/classifiers/ResNet.py:149: UserWarning: Implicit dimension choice for softmax has been deprecated. Change the call to include dim=X as an argument.\n",
      "  output_layer = self.softmax(output_layer)\n"
     ]
    },
    {
     "data": {
      "application/vnd.jupyter.widget-view+json": {
       "model_id": "db361ec1bb104c2fbadedf24b3f1a80b",
       "version_major": 2,
       "version_minor": 0
      },
      "text/plain": [
       "Lime attribution:   0%|          | 0/25 [00:00<?, ?it/s]"
      ]
     },
     "metadata": {},
     "output_type": "display_data"
    },
    {
     "name": "stderr",
     "output_type": "stream",
     "text": [
      "/home/zhengyang/Desktop/Git_resp_limesegment/classifiers/ResNet.py:149: UserWarning: Implicit dimension choice for softmax has been deprecated. Change the call to include dim=X as an argument.\n",
      "  output_layer = self.softmax(output_layer)\n"
     ]
    },
    {
     "data": {
      "application/vnd.jupyter.widget-view+json": {
       "model_id": "ba001fa1c43b4baa8114d004e060195d",
       "version_major": 2,
       "version_minor": 0
      },
      "text/plain": [
       "Lime attribution:   0%|          | 0/25 [00:00<?, ?it/s]"
      ]
     },
     "metadata": {},
     "output_type": "display_data"
    },
    {
     "name": "stderr",
     "output_type": "stream",
     "text": [
      "/home/zhengyang/Desktop/Git_resp_limesegment/classifiers/ResNet.py:149: UserWarning: Implicit dimension choice for softmax has been deprecated. Change the call to include dim=X as an argument.\n",
      "  output_layer = self.softmax(output_layer)\n"
     ]
    },
    {
     "data": {
      "application/vnd.jupyter.widget-view+json": {
       "model_id": "442e19054feb4d5da06470292ce4c492",
       "version_major": 2,
       "version_minor": 0
      },
      "text/plain": [
       "Lime attribution:   0%|          | 0/25 [00:00<?, ?it/s]"
      ]
     },
     "metadata": {},
     "output_type": "display_data"
    },
    {
     "name": "stderr",
     "output_type": "stream",
     "text": [
      "/home/zhengyang/Desktop/Git_resp_limesegment/classifiers/ResNet.py:149: UserWarning: Implicit dimension choice for softmax has been deprecated. Change the call to include dim=X as an argument.\n",
      "  output_layer = self.softmax(output_layer)\n"
     ]
    },
    {
     "data": {
      "application/vnd.jupyter.widget-view+json": {
       "model_id": "e8d095d6aa4841d8834d5921daa80c69",
       "version_major": 2,
       "version_minor": 0
      },
      "text/plain": [
       "Lime attribution:   0%|          | 0/25 [00:00<?, ?it/s]"
      ]
     },
     "metadata": {},
     "output_type": "display_data"
    },
    {
     "name": "stderr",
     "output_type": "stream",
     "text": [
      "/home/zhengyang/Desktop/Git_resp_limesegment/classifiers/ResNet.py:149: UserWarning: Implicit dimension choice for softmax has been deprecated. Change the call to include dim=X as an argument.\n",
      "  output_layer = self.softmax(output_layer)\n"
     ]
    },
    {
     "data": {
      "application/vnd.jupyter.widget-view+json": {
       "model_id": "87b48be805af40f6b2c79a1c6f312840",
       "version_major": 2,
       "version_minor": 0
      },
      "text/plain": [
       "Lime attribution:   0%|          | 0/25 [00:00<?, ?it/s]"
      ]
     },
     "metadata": {},
     "output_type": "display_data"
    },
    {
     "name": "stderr",
     "output_type": "stream",
     "text": [
      "/home/zhengyang/Desktop/Git_resp_limesegment/classifiers/ResNet.py:149: UserWarning: Implicit dimension choice for softmax has been deprecated. Change the call to include dim=X as an argument.\n",
      "  output_layer = self.softmax(output_layer)\n"
     ]
    },
    {
     "data": {
      "application/vnd.jupyter.widget-view+json": {
       "model_id": "7a30478bd5834100a8ae46e3077bf04d",
       "version_major": 2,
       "version_minor": 0
      },
      "text/plain": [
       "Lime attribution:   0%|          | 0/25 [00:00<?, ?it/s]"
      ]
     },
     "metadata": {},
     "output_type": "display_data"
    },
    {
     "name": "stderr",
     "output_type": "stream",
     "text": [
      "/home/zhengyang/Desktop/Git_resp_limesegment/classifiers/ResNet.py:149: UserWarning: Implicit dimension choice for softmax has been deprecated. Change the call to include dim=X as an argument.\n",
      "  output_layer = self.softmax(output_layer)\n"
     ]
    },
    {
     "data": {
      "application/vnd.jupyter.widget-view+json": {
       "model_id": "12704d9b20dc4c95a0d924536dd855a9",
       "version_major": 2,
       "version_minor": 0
      },
      "text/plain": [
       "Lime attribution:   0%|          | 0/25 [00:00<?, ?it/s]"
      ]
     },
     "metadata": {},
     "output_type": "display_data"
    },
    {
     "name": "stderr",
     "output_type": "stream",
     "text": [
      "/home/zhengyang/Desktop/Git_resp_limesegment/classifiers/ResNet.py:149: UserWarning: Implicit dimension choice for softmax has been deprecated. Change the call to include dim=X as an argument.\n",
      "  output_layer = self.softmax(output_layer)\n"
     ]
    },
    {
     "data": {
      "application/vnd.jupyter.widget-view+json": {
       "model_id": "633ad505bd2c430d80b1397132a6ea9b",
       "version_major": 2,
       "version_minor": 0
      },
      "text/plain": [
       "Lime attribution:   0%|          | 0/25 [00:00<?, ?it/s]"
      ]
     },
     "metadata": {},
     "output_type": "display_data"
    },
    {
     "name": "stderr",
     "output_type": "stream",
     "text": [
      "/home/zhengyang/Desktop/Git_resp_limesegment/classifiers/ResNet.py:149: UserWarning: Implicit dimension choice for softmax has been deprecated. Change the call to include dim=X as an argument.\n",
      "  output_layer = self.softmax(output_layer)\n"
     ]
    },
    {
     "data": {
      "application/vnd.jupyter.widget-view+json": {
       "model_id": "7dfce4a888d7405687cae4f904798bf4",
       "version_major": 2,
       "version_minor": 0
      },
      "text/plain": [
       "Lime attribution:   0%|          | 0/25 [00:00<?, ?it/s]"
      ]
     },
     "metadata": {},
     "output_type": "display_data"
    },
    {
     "name": "stderr",
     "output_type": "stream",
     "text": [
      "/home/zhengyang/Desktop/Git_resp_limesegment/classifiers/ResNet.py:149: UserWarning: Implicit dimension choice for softmax has been deprecated. Change the call to include dim=X as an argument.\n",
      "  output_layer = self.softmax(output_layer)\n"
     ]
    },
    {
     "data": {
      "application/vnd.jupyter.widget-view+json": {
       "model_id": "8b01218f07cd45b1870ce388d70cf142",
       "version_major": 2,
       "version_minor": 0
      },
      "text/plain": [
       "Lime attribution:   0%|          | 0/25 [00:00<?, ?it/s]"
      ]
     },
     "metadata": {},
     "output_type": "display_data"
    },
    {
     "name": "stderr",
     "output_type": "stream",
     "text": [
      "/home/zhengyang/Desktop/Git_resp_limesegment/classifiers/ResNet.py:149: UserWarning: Implicit dimension choice for softmax has been deprecated. Change the call to include dim=X as an argument.\n",
      "  output_layer = self.softmax(output_layer)\n"
     ]
    },
    {
     "data": {
      "application/vnd.jupyter.widget-view+json": {
       "model_id": "38163bf99ac74b76baabe6fd6c4c83bc",
       "version_major": 2,
       "version_minor": 0
      },
      "text/plain": [
       "Lime attribution:   0%|          | 0/25 [00:00<?, ?it/s]"
      ]
     },
     "metadata": {},
     "output_type": "display_data"
    },
    {
     "name": "stderr",
     "output_type": "stream",
     "text": [
      "/home/zhengyang/Desktop/Git_resp_limesegment/classifiers/ResNet.py:149: UserWarning: Implicit dimension choice for softmax has been deprecated. Change the call to include dim=X as an argument.\n",
      "  output_layer = self.softmax(output_layer)\n"
     ]
    },
    {
     "data": {
      "application/vnd.jupyter.widget-view+json": {
       "model_id": "6e5a6c8732f042d99e8c61b550cbe187",
       "version_major": 2,
       "version_minor": 0
      },
      "text/plain": [
       "Lime attribution:   0%|          | 0/25 [00:00<?, ?it/s]"
      ]
     },
     "metadata": {},
     "output_type": "display_data"
    },
    {
     "name": "stderr",
     "output_type": "stream",
     "text": [
      "/home/zhengyang/Desktop/Git_resp_limesegment/classifiers/ResNet.py:149: UserWarning: Implicit dimension choice for softmax has been deprecated. Change the call to include dim=X as an argument.\n",
      "  output_layer = self.softmax(output_layer)\n"
     ]
    },
    {
     "data": {
      "application/vnd.jupyter.widget-view+json": {
       "model_id": "c86a1dcdd2da49cbbcf93e70c2ab7147",
       "version_major": 2,
       "version_minor": 0
      },
      "text/plain": [
       "Lime attribution:   0%|          | 0/25 [00:00<?, ?it/s]"
      ]
     },
     "metadata": {},
     "output_type": "display_data"
    },
    {
     "name": "stderr",
     "output_type": "stream",
     "text": [
      "/home/zhengyang/Desktop/Git_resp_limesegment/classifiers/ResNet.py:149: UserWarning: Implicit dimension choice for softmax has been deprecated. Change the call to include dim=X as an argument.\n",
      "  output_layer = self.softmax(output_layer)\n"
     ]
    },
    {
     "data": {
      "application/vnd.jupyter.widget-view+json": {
       "model_id": "3f761e3feb9248f78f4de426f7ca7b90",
       "version_major": 2,
       "version_minor": 0
      },
      "text/plain": [
       "Lime attribution:   0%|          | 0/25 [00:00<?, ?it/s]"
      ]
     },
     "metadata": {},
     "output_type": "display_data"
    },
    {
     "name": "stderr",
     "output_type": "stream",
     "text": [
      "/home/zhengyang/Desktop/Git_resp_limesegment/classifiers/ResNet.py:149: UserWarning: Implicit dimension choice for softmax has been deprecated. Change the call to include dim=X as an argument.\n",
      "  output_layer = self.softmax(output_layer)\n"
     ]
    },
    {
     "data": {
      "application/vnd.jupyter.widget-view+json": {
       "model_id": "1b1f765c10904329941c54cdc832a218",
       "version_major": 2,
       "version_minor": 0
      },
      "text/plain": [
       "Lime attribution:   0%|          | 0/25 [00:00<?, ?it/s]"
      ]
     },
     "metadata": {},
     "output_type": "display_data"
    },
    {
     "name": "stderr",
     "output_type": "stream",
     "text": [
      "/home/zhengyang/Desktop/Git_resp_limesegment/classifiers/ResNet.py:149: UserWarning: Implicit dimension choice for softmax has been deprecated. Change the call to include dim=X as an argument.\n",
      "  output_layer = self.softmax(output_layer)\n"
     ]
    },
    {
     "data": {
      "application/vnd.jupyter.widget-view+json": {
       "model_id": "c5368d675324468b88e1363d83c2b1c1",
       "version_major": 2,
       "version_minor": 0
      },
      "text/plain": [
       "Lime attribution:   0%|          | 0/25 [00:00<?, ?it/s]"
      ]
     },
     "metadata": {},
     "output_type": "display_data"
    },
    {
     "name": "stderr",
     "output_type": "stream",
     "text": [
      "/home/zhengyang/Desktop/Git_resp_limesegment/classifiers/ResNet.py:149: UserWarning: Implicit dimension choice for softmax has been deprecated. Change the call to include dim=X as an argument.\n",
      "  output_layer = self.softmax(output_layer)\n"
     ]
    },
    {
     "data": {
      "application/vnd.jupyter.widget-view+json": {
       "model_id": "fd55ce30872840b8934d7352f01b8e63",
       "version_major": 2,
       "version_minor": 0
      },
      "text/plain": [
       "Lime attribution:   0%|          | 0/25 [00:00<?, ?it/s]"
      ]
     },
     "metadata": {},
     "output_type": "display_data"
    },
    {
     "name": "stderr",
     "output_type": "stream",
     "text": [
      "/home/zhengyang/Desktop/Git_resp_limesegment/classifiers/ResNet.py:149: UserWarning: Implicit dimension choice for softmax has been deprecated. Change the call to include dim=X as an argument.\n",
      "  output_layer = self.softmax(output_layer)\n"
     ]
    },
    {
     "data": {
      "application/vnd.jupyter.widget-view+json": {
       "model_id": "61b0ca7b77544b93aa1d5990b0bb1306",
       "version_major": 2,
       "version_minor": 0
      },
      "text/plain": [
       "Lime attribution:   0%|          | 0/25 [00:00<?, ?it/s]"
      ]
     },
     "metadata": {},
     "output_type": "display_data"
    },
    {
     "name": "stderr",
     "output_type": "stream",
     "text": [
      "/home/zhengyang/Desktop/Git_resp_limesegment/classifiers/ResNet.py:149: UserWarning: Implicit dimension choice for softmax has been deprecated. Change the call to include dim=X as an argument.\n",
      "  output_layer = self.softmax(output_layer)\n"
     ]
    },
    {
     "data": {
      "application/vnd.jupyter.widget-view+json": {
       "model_id": "b28e7931be2c4466b138cfec549d0840",
       "version_major": 2,
       "version_minor": 0
      },
      "text/plain": [
       "Lime attribution:   0%|          | 0/25 [00:00<?, ?it/s]"
      ]
     },
     "metadata": {},
     "output_type": "display_data"
    },
    {
     "name": "stderr",
     "output_type": "stream",
     "text": [
      "/home/zhengyang/Desktop/Git_resp_limesegment/classifiers/ResNet.py:149: UserWarning: Implicit dimension choice for softmax has been deprecated. Change the call to include dim=X as an argument.\n",
      "  output_layer = self.softmax(output_layer)\n"
     ]
    },
    {
     "data": {
      "application/vnd.jupyter.widget-view+json": {
       "model_id": "020d633270b243f580b525e4d0d75009",
       "version_major": 2,
       "version_minor": 0
      },
      "text/plain": [
       "Lime attribution:   0%|          | 0/25 [00:00<?, ?it/s]"
      ]
     },
     "metadata": {},
     "output_type": "display_data"
    },
    {
     "name": "stderr",
     "output_type": "stream",
     "text": [
      "/home/zhengyang/Desktop/Git_resp_limesegment/classifiers/ResNet.py:149: UserWarning: Implicit dimension choice for softmax has been deprecated. Change the call to include dim=X as an argument.\n",
      "  output_layer = self.softmax(output_layer)\n"
     ]
    },
    {
     "data": {
      "application/vnd.jupyter.widget-view+json": {
       "model_id": "86935d724cf045c48bbc83d2c4c07899",
       "version_major": 2,
       "version_minor": 0
      },
      "text/plain": [
       "Lime attribution:   0%|          | 0/25 [00:00<?, ?it/s]"
      ]
     },
     "metadata": {},
     "output_type": "display_data"
    },
    {
     "name": "stderr",
     "output_type": "stream",
     "text": [
      "/home/zhengyang/Desktop/Git_resp_limesegment/classifiers/ResNet.py:149: UserWarning: Implicit dimension choice for softmax has been deprecated. Change the call to include dim=X as an argument.\n",
      "  output_layer = self.softmax(output_layer)\n"
     ]
    },
    {
     "data": {
      "application/vnd.jupyter.widget-view+json": {
       "model_id": "66a8a612183a44b2b7912f52ea334cf1",
       "version_major": 2,
       "version_minor": 0
      },
      "text/plain": [
       "Lime attribution:   0%|          | 0/25 [00:00<?, ?it/s]"
      ]
     },
     "metadata": {},
     "output_type": "display_data"
    },
    {
     "name": "stderr",
     "output_type": "stream",
     "text": [
      "/home/zhengyang/Desktop/Git_resp_limesegment/classifiers/ResNet.py:149: UserWarning: Implicit dimension choice for softmax has been deprecated. Change the call to include dim=X as an argument.\n",
      "  output_layer = self.softmax(output_layer)\n"
     ]
    },
    {
     "data": {
      "application/vnd.jupyter.widget-view+json": {
       "model_id": "49fb988a3b9843f19b1116ef0211873e",
       "version_major": 2,
       "version_minor": 0
      },
      "text/plain": [
       "Lime attribution:   0%|          | 0/25 [00:00<?, ?it/s]"
      ]
     },
     "metadata": {},
     "output_type": "display_data"
    },
    {
     "name": "stderr",
     "output_type": "stream",
     "text": [
      "/home/zhengyang/Desktop/Git_resp_limesegment/classifiers/ResNet.py:149: UserWarning: Implicit dimension choice for softmax has been deprecated. Change the call to include dim=X as an argument.\n",
      "  output_layer = self.softmax(output_layer)\n"
     ]
    },
    {
     "data": {
      "application/vnd.jupyter.widget-view+json": {
       "model_id": "419eade654484ca399773ae2332795b2",
       "version_major": 2,
       "version_minor": 0
      },
      "text/plain": [
       "Lime attribution:   0%|          | 0/25 [00:00<?, ?it/s]"
      ]
     },
     "metadata": {},
     "output_type": "display_data"
    },
    {
     "name": "stderr",
     "output_type": "stream",
     "text": [
      "/home/zhengyang/Desktop/Git_resp_limesegment/classifiers/ResNet.py:149: UserWarning: Implicit dimension choice for softmax has been deprecated. Change the call to include dim=X as an argument.\n",
      "  output_layer = self.softmax(output_layer)\n"
     ]
    },
    {
     "data": {
      "application/vnd.jupyter.widget-view+json": {
       "model_id": "e3c7543d69c146a9a5dcf6b774a64e12",
       "version_major": 2,
       "version_minor": 0
      },
      "text/plain": [
       "Lime attribution:   0%|          | 0/25 [00:00<?, ?it/s]"
      ]
     },
     "metadata": {},
     "output_type": "display_data"
    },
    {
     "name": "stderr",
     "output_type": "stream",
     "text": [
      "/home/zhengyang/Desktop/Git_resp_limesegment/classifiers/ResNet.py:149: UserWarning: Implicit dimension choice for softmax has been deprecated. Change the call to include dim=X as an argument.\n",
      "  output_layer = self.softmax(output_layer)\n"
     ]
    },
    {
     "data": {
      "application/vnd.jupyter.widget-view+json": {
       "model_id": "f46dc06085034dafa032beeac6abaf08",
       "version_major": 2,
       "version_minor": 0
      },
      "text/plain": [
       "Lime attribution:   0%|          | 0/25 [00:00<?, ?it/s]"
      ]
     },
     "metadata": {},
     "output_type": "display_data"
    },
    {
     "name": "stderr",
     "output_type": "stream",
     "text": [
      "/home/zhengyang/Desktop/Git_resp_limesegment/classifiers/ResNet.py:149: UserWarning: Implicit dimension choice for softmax has been deprecated. Change the call to include dim=X as an argument.\n",
      "  output_layer = self.softmax(output_layer)\n"
     ]
    },
    {
     "data": {
      "application/vnd.jupyter.widget-view+json": {
       "model_id": "07313e6cc52a499784c7032963334c49",
       "version_major": 2,
       "version_minor": 0
      },
      "text/plain": [
       "Lime attribution:   0%|          | 0/25 [00:00<?, ?it/s]"
      ]
     },
     "metadata": {},
     "output_type": "display_data"
    },
    {
     "name": "stderr",
     "output_type": "stream",
     "text": [
      "/home/zhengyang/Desktop/Git_resp_limesegment/classifiers/ResNet.py:149: UserWarning: Implicit dimension choice for softmax has been deprecated. Change the call to include dim=X as an argument.\n",
      "  output_layer = self.softmax(output_layer)\n"
     ]
    },
    {
     "data": {
      "application/vnd.jupyter.widget-view+json": {
       "model_id": "b761e76ca862436b8d95d223d902b654",
       "version_major": 2,
       "version_minor": 0
      },
      "text/plain": [
       "Lime attribution:   0%|          | 0/25 [00:00<?, ?it/s]"
      ]
     },
     "metadata": {},
     "output_type": "display_data"
    },
    {
     "name": "stderr",
     "output_type": "stream",
     "text": [
      "/home/zhengyang/Desktop/Git_resp_limesegment/classifiers/ResNet.py:149: UserWarning: Implicit dimension choice for softmax has been deprecated. Change the call to include dim=X as an argument.\n",
      "  output_layer = self.softmax(output_layer)\n"
     ]
    },
    {
     "data": {
      "application/vnd.jupyter.widget-view+json": {
       "model_id": "4455e42734914ac9b33d292696e5da20",
       "version_major": 2,
       "version_minor": 0
      },
      "text/plain": [
       "Lime attribution:   0%|          | 0/25 [00:00<?, ?it/s]"
      ]
     },
     "metadata": {},
     "output_type": "display_data"
    },
    {
     "name": "stderr",
     "output_type": "stream",
     "text": [
      "/home/zhengyang/Desktop/Git_resp_limesegment/classifiers/ResNet.py:149: UserWarning: Implicit dimension choice for softmax has been deprecated. Change the call to include dim=X as an argument.\n",
      "  output_layer = self.softmax(output_layer)\n"
     ]
    },
    {
     "data": {
      "application/vnd.jupyter.widget-view+json": {
       "model_id": "3f2cba4c95c247428c3448118d5e8881",
       "version_major": 2,
       "version_minor": 0
      },
      "text/plain": [
       "Lime attribution:   0%|          | 0/25 [00:00<?, ?it/s]"
      ]
     },
     "metadata": {},
     "output_type": "display_data"
    },
    {
     "name": "stderr",
     "output_type": "stream",
     "text": [
      "/home/zhengyang/Desktop/Git_resp_limesegment/classifiers/ResNet.py:149: UserWarning: Implicit dimension choice for softmax has been deprecated. Change the call to include dim=X as an argument.\n",
      "  output_layer = self.softmax(output_layer)\n"
     ]
    },
    {
     "data": {
      "application/vnd.jupyter.widget-view+json": {
       "model_id": "57aa8947e40b494e905f8409cff43247",
       "version_major": 2,
       "version_minor": 0
      },
      "text/plain": [
       "Lime attribution:   0%|          | 0/25 [00:00<?, ?it/s]"
      ]
     },
     "metadata": {},
     "output_type": "display_data"
    },
    {
     "name": "stderr",
     "output_type": "stream",
     "text": [
      "/home/zhengyang/Desktop/Git_resp_limesegment/classifiers/ResNet.py:149: UserWarning: Implicit dimension choice for softmax has been deprecated. Change the call to include dim=X as an argument.\n",
      "  output_layer = self.softmax(output_layer)\n"
     ]
    },
    {
     "data": {
      "application/vnd.jupyter.widget-view+json": {
       "model_id": "7ed3ca25036947e9a33a45fdfc8bf876",
       "version_major": 2,
       "version_minor": 0
      },
      "text/plain": [
       "Lime attribution:   0%|          | 0/25 [00:00<?, ?it/s]"
      ]
     },
     "metadata": {},
     "output_type": "display_data"
    },
    {
     "name": "stderr",
     "output_type": "stream",
     "text": [
      "/home/zhengyang/Desktop/Git_resp_limesegment/classifiers/ResNet.py:149: UserWarning: Implicit dimension choice for softmax has been deprecated. Change the call to include dim=X as an argument.\n",
      "  output_layer = self.softmax(output_layer)\n"
     ]
    },
    {
     "data": {
      "application/vnd.jupyter.widget-view+json": {
       "model_id": "4d39cf523f3949b08a9d96177ce0ef35",
       "version_major": 2,
       "version_minor": 0
      },
      "text/plain": [
       "Lime attribution:   0%|          | 0/25 [00:00<?, ?it/s]"
      ]
     },
     "metadata": {},
     "output_type": "display_data"
    },
    {
     "name": "stderr",
     "output_type": "stream",
     "text": [
      "/home/zhengyang/Desktop/Git_resp_limesegment/classifiers/ResNet.py:149: UserWarning: Implicit dimension choice for softmax has been deprecated. Change the call to include dim=X as an argument.\n",
      "  output_layer = self.softmax(output_layer)\n"
     ]
    },
    {
     "data": {
      "application/vnd.jupyter.widget-view+json": {
       "model_id": "5655a114a86f442f88047676d92cb499",
       "version_major": 2,
       "version_minor": 0
      },
      "text/plain": [
       "Lime attribution:   0%|          | 0/25 [00:00<?, ?it/s]"
      ]
     },
     "metadata": {},
     "output_type": "display_data"
    },
    {
     "name": "stderr",
     "output_type": "stream",
     "text": [
      "/home/zhengyang/Desktop/Git_resp_limesegment/classifiers/ResNet.py:149: UserWarning: Implicit dimension choice for softmax has been deprecated. Change the call to include dim=X as an argument.\n",
      "  output_layer = self.softmax(output_layer)\n"
     ]
    },
    {
     "data": {
      "application/vnd.jupyter.widget-view+json": {
       "model_id": "31438c3a31bf4dacbe54c72378fd1977",
       "version_major": 2,
       "version_minor": 0
      },
      "text/plain": [
       "Lime attribution:   0%|          | 0/25 [00:00<?, ?it/s]"
      ]
     },
     "metadata": {},
     "output_type": "display_data"
    },
    {
     "name": "stderr",
     "output_type": "stream",
     "text": [
      "/home/zhengyang/Desktop/Git_resp_limesegment/classifiers/ResNet.py:149: UserWarning: Implicit dimension choice for softmax has been deprecated. Change the call to include dim=X as an argument.\n",
      "  output_layer = self.softmax(output_layer)\n"
     ]
    },
    {
     "data": {
      "application/vnd.jupyter.widget-view+json": {
       "model_id": "791c1f166a6545ae95b3288c3fb38f62",
       "version_major": 2,
       "version_minor": 0
      },
      "text/plain": [
       "Lime attribution:   0%|          | 0/25 [00:00<?, ?it/s]"
      ]
     },
     "metadata": {},
     "output_type": "display_data"
    },
    {
     "name": "stderr",
     "output_type": "stream",
     "text": [
      "/home/zhengyang/Desktop/Git_resp_limesegment/classifiers/ResNet.py:149: UserWarning: Implicit dimension choice for softmax has been deprecated. Change the call to include dim=X as an argument.\n",
      "  output_layer = self.softmax(output_layer)\n"
     ]
    },
    {
     "data": {
      "application/vnd.jupyter.widget-view+json": {
       "model_id": "0d6864f31e4b4703a3d6757174a5b74f",
       "version_major": 2,
       "version_minor": 0
      },
      "text/plain": [
       "Lime attribution:   0%|          | 0/25 [00:00<?, ?it/s]"
      ]
     },
     "metadata": {},
     "output_type": "display_data"
    },
    {
     "name": "stderr",
     "output_type": "stream",
     "text": [
      "/home/zhengyang/Desktop/Git_resp_limesegment/classifiers/ResNet.py:149: UserWarning: Implicit dimension choice for softmax has been deprecated. Change the call to include dim=X as an argument.\n",
      "  output_layer = self.softmax(output_layer)\n"
     ]
    },
    {
     "data": {
      "application/vnd.jupyter.widget-view+json": {
       "model_id": "539589b657194a088ab63a1b3ca969b3",
       "version_major": 2,
       "version_minor": 0
      },
      "text/plain": [
       "Lime attribution:   0%|          | 0/25 [00:00<?, ?it/s]"
      ]
     },
     "metadata": {},
     "output_type": "display_data"
    },
    {
     "name": "stderr",
     "output_type": "stream",
     "text": [
      "/home/zhengyang/Desktop/Git_resp_limesegment/classifiers/ResNet.py:149: UserWarning: Implicit dimension choice for softmax has been deprecated. Change the call to include dim=X as an argument.\n",
      "  output_layer = self.softmax(output_layer)\n"
     ]
    },
    {
     "data": {
      "application/vnd.jupyter.widget-view+json": {
       "model_id": "83df14539d034e34afe590d21726d12e",
       "version_major": 2,
       "version_minor": 0
      },
      "text/plain": [
       "Lime attribution:   0%|          | 0/25 [00:00<?, ?it/s]"
      ]
     },
     "metadata": {},
     "output_type": "display_data"
    },
    {
     "name": "stderr",
     "output_type": "stream",
     "text": [
      "/home/zhengyang/Desktop/Git_resp_limesegment/classifiers/ResNet.py:149: UserWarning: Implicit dimension choice for softmax has been deprecated. Change the call to include dim=X as an argument.\n",
      "  output_layer = self.softmax(output_layer)\n"
     ]
    },
    {
     "data": {
      "application/vnd.jupyter.widget-view+json": {
       "model_id": "3635c39d1b38460b89bcd5cc4eef9308",
       "version_major": 2,
       "version_minor": 0
      },
      "text/plain": [
       "Lime attribution:   0%|          | 0/25 [00:00<?, ?it/s]"
      ]
     },
     "metadata": {},
     "output_type": "display_data"
    },
    {
     "name": "stderr",
     "output_type": "stream",
     "text": [
      "/home/zhengyang/Desktop/Git_resp_limesegment/classifiers/ResNet.py:149: UserWarning: Implicit dimension choice for softmax has been deprecated. Change the call to include dim=X as an argument.\n",
      "  output_layer = self.softmax(output_layer)\n"
     ]
    },
    {
     "data": {
      "application/vnd.jupyter.widget-view+json": {
       "model_id": "6fc99f2be545481f8e48cd27aefbb5c7",
       "version_major": 2,
       "version_minor": 0
      },
      "text/plain": [
       "Lime attribution:   0%|          | 0/25 [00:00<?, ?it/s]"
      ]
     },
     "metadata": {},
     "output_type": "display_data"
    },
    {
     "name": "stderr",
     "output_type": "stream",
     "text": [
      "/home/zhengyang/Desktop/Git_resp_limesegment/classifiers/ResNet.py:149: UserWarning: Implicit dimension choice for softmax has been deprecated. Change the call to include dim=X as an argument.\n",
      "  output_layer = self.softmax(output_layer)\n"
     ]
    },
    {
     "data": {
      "application/vnd.jupyter.widget-view+json": {
       "model_id": "d5b1bdfe62c34a78af7da06d9d8b026c",
       "version_major": 2,
       "version_minor": 0
      },
      "text/plain": [
       "Lime attribution:   0%|          | 0/25 [00:00<?, ?it/s]"
      ]
     },
     "metadata": {},
     "output_type": "display_data"
    },
    {
     "name": "stderr",
     "output_type": "stream",
     "text": [
      "/home/zhengyang/Desktop/Git_resp_limesegment/classifiers/ResNet.py:149: UserWarning: Implicit dimension choice for softmax has been deprecated. Change the call to include dim=X as an argument.\n",
      "  output_layer = self.softmax(output_layer)\n"
     ]
    },
    {
     "data": {
      "application/vnd.jupyter.widget-view+json": {
       "model_id": "128da2b259e44daab1ccc4bebba6686d",
       "version_major": 2,
       "version_minor": 0
      },
      "text/plain": [
       "Lime attribution:   0%|          | 0/25 [00:00<?, ?it/s]"
      ]
     },
     "metadata": {},
     "output_type": "display_data"
    },
    {
     "name": "stderr",
     "output_type": "stream",
     "text": [
      "/home/zhengyang/Desktop/Git_resp_limesegment/classifiers/ResNet.py:149: UserWarning: Implicit dimension choice for softmax has been deprecated. Change the call to include dim=X as an argument.\n",
      "  output_layer = self.softmax(output_layer)\n"
     ]
    },
    {
     "data": {
      "application/vnd.jupyter.widget-view+json": {
       "model_id": "86dab896f9874b0da2d30cc40bd795e9",
       "version_major": 2,
       "version_minor": 0
      },
      "text/plain": [
       "Lime attribution:   0%|          | 0/25 [00:00<?, ?it/s]"
      ]
     },
     "metadata": {},
     "output_type": "display_data"
    },
    {
     "name": "stderr",
     "output_type": "stream",
     "text": [
      "/home/zhengyang/Desktop/Git_resp_limesegment/classifiers/ResNet.py:149: UserWarning: Implicit dimension choice for softmax has been deprecated. Change the call to include dim=X as an argument.\n",
      "  output_layer = self.softmax(output_layer)\n"
     ]
    },
    {
     "data": {
      "application/vnd.jupyter.widget-view+json": {
       "model_id": "43ed3b60cbee4b1eba88686fd6ce03c1",
       "version_major": 2,
       "version_minor": 0
      },
      "text/plain": [
       "Lime attribution:   0%|          | 0/25 [00:00<?, ?it/s]"
      ]
     },
     "metadata": {},
     "output_type": "display_data"
    },
    {
     "name": "stderr",
     "output_type": "stream",
     "text": [
      "/home/zhengyang/Desktop/Git_resp_limesegment/classifiers/ResNet.py:149: UserWarning: Implicit dimension choice for softmax has been deprecated. Change the call to include dim=X as an argument.\n",
      "  output_layer = self.softmax(output_layer)\n"
     ]
    },
    {
     "data": {
      "application/vnd.jupyter.widget-view+json": {
       "model_id": "aa82acf3923e4073be17020f83ab1118",
       "version_major": 2,
       "version_minor": 0
      },
      "text/plain": [
       "Lime attribution:   0%|          | 0/25 [00:00<?, ?it/s]"
      ]
     },
     "metadata": {},
     "output_type": "display_data"
    },
    {
     "name": "stderr",
     "output_type": "stream",
     "text": [
      "/home/zhengyang/Desktop/Git_resp_limesegment/classifiers/ResNet.py:149: UserWarning: Implicit dimension choice for softmax has been deprecated. Change the call to include dim=X as an argument.\n",
      "  output_layer = self.softmax(output_layer)\n"
     ]
    },
    {
     "data": {
      "application/vnd.jupyter.widget-view+json": {
       "model_id": "58f50847e36844749f2a8821bed1b8e2",
       "version_major": 2,
       "version_minor": 0
      },
      "text/plain": [
       "Lime attribution:   0%|          | 0/25 [00:00<?, ?it/s]"
      ]
     },
     "metadata": {},
     "output_type": "display_data"
    },
    {
     "name": "stderr",
     "output_type": "stream",
     "text": [
      "/home/zhengyang/Desktop/Git_resp_limesegment/classifiers/ResNet.py:149: UserWarning: Implicit dimension choice for softmax has been deprecated. Change the call to include dim=X as an argument.\n",
      "  output_layer = self.softmax(output_layer)\n"
     ]
    },
    {
     "data": {
      "application/vnd.jupyter.widget-view+json": {
       "model_id": "f155c208a6b640aa8e1ca8b18876ef4d",
       "version_major": 2,
       "version_minor": 0
      },
      "text/plain": [
       "Lime attribution:   0%|          | 0/25 [00:00<?, ?it/s]"
      ]
     },
     "metadata": {},
     "output_type": "display_data"
    },
    {
     "name": "stderr",
     "output_type": "stream",
     "text": [
      "/home/zhengyang/Desktop/Git_resp_limesegment/classifiers/ResNet.py:149: UserWarning: Implicit dimension choice for softmax has been deprecated. Change the call to include dim=X as an argument.\n",
      "  output_layer = self.softmax(output_layer)\n"
     ]
    },
    {
     "data": {
      "application/vnd.jupyter.widget-view+json": {
       "model_id": "eac9555077e14a1da5e4088ba728963f",
       "version_major": 2,
       "version_minor": 0
      },
      "text/plain": [
       "Lime attribution:   0%|          | 0/25 [00:00<?, ?it/s]"
      ]
     },
     "metadata": {},
     "output_type": "display_data"
    },
    {
     "name": "stderr",
     "output_type": "stream",
     "text": [
      "/home/zhengyang/Desktop/Git_resp_limesegment/classifiers/ResNet.py:149: UserWarning: Implicit dimension choice for softmax has been deprecated. Change the call to include dim=X as an argument.\n",
      "  output_layer = self.softmax(output_layer)\n"
     ]
    },
    {
     "data": {
      "application/vnd.jupyter.widget-view+json": {
       "model_id": "818a8c248e074a729e153b6b05947b79",
       "version_major": 2,
       "version_minor": 0
      },
      "text/plain": [
       "Lime attribution:   0%|          | 0/25 [00:00<?, ?it/s]"
      ]
     },
     "metadata": {},
     "output_type": "display_data"
    },
    {
     "name": "stderr",
     "output_type": "stream",
     "text": [
      "/home/zhengyang/Desktop/Git_resp_limesegment/classifiers/ResNet.py:149: UserWarning: Implicit dimension choice for softmax has been deprecated. Change the call to include dim=X as an argument.\n",
      "  output_layer = self.softmax(output_layer)\n"
     ]
    },
    {
     "data": {
      "application/vnd.jupyter.widget-view+json": {
       "model_id": "2f91a2c1106644308d78c23a52935f63",
       "version_major": 2,
       "version_minor": 0
      },
      "text/plain": [
       "Lime attribution:   0%|          | 0/25 [00:00<?, ?it/s]"
      ]
     },
     "metadata": {},
     "output_type": "display_data"
    },
    {
     "name": "stderr",
     "output_type": "stream",
     "text": [
      "/home/zhengyang/Desktop/Git_resp_limesegment/classifiers/ResNet.py:149: UserWarning: Implicit dimension choice for softmax has been deprecated. Change the call to include dim=X as an argument.\n",
      "  output_layer = self.softmax(output_layer)\n"
     ]
    },
    {
     "data": {
      "application/vnd.jupyter.widget-view+json": {
       "model_id": "24806654becb4327919f240e6aeac9b5",
       "version_major": 2,
       "version_minor": 0
      },
      "text/plain": [
       "Lime attribution:   0%|          | 0/25 [00:00<?, ?it/s]"
      ]
     },
     "metadata": {},
     "output_type": "display_data"
    },
    {
     "name": "stderr",
     "output_type": "stream",
     "text": [
      "/home/zhengyang/Desktop/Git_resp_limesegment/classifiers/ResNet.py:149: UserWarning: Implicit dimension choice for softmax has been deprecated. Change the call to include dim=X as an argument.\n",
      "  output_layer = self.softmax(output_layer)\n"
     ]
    },
    {
     "data": {
      "application/vnd.jupyter.widget-view+json": {
       "model_id": "f388929a92f649efac215ec6a5b9d643",
       "version_major": 2,
       "version_minor": 0
      },
      "text/plain": [
       "Lime attribution:   0%|          | 0/25 [00:00<?, ?it/s]"
      ]
     },
     "metadata": {},
     "output_type": "display_data"
    },
    {
     "name": "stderr",
     "output_type": "stream",
     "text": [
      "/home/zhengyang/Desktop/Git_resp_limesegment/classifiers/ResNet.py:149: UserWarning: Implicit dimension choice for softmax has been deprecated. Change the call to include dim=X as an argument.\n",
      "  output_layer = self.softmax(output_layer)\n"
     ]
    },
    {
     "data": {
      "application/vnd.jupyter.widget-view+json": {
       "model_id": "85f789e9774e4d928e1d36d5bb0e153e",
       "version_major": 2,
       "version_minor": 0
      },
      "text/plain": [
       "Lime attribution:   0%|          | 0/25 [00:00<?, ?it/s]"
      ]
     },
     "metadata": {},
     "output_type": "display_data"
    },
    {
     "name": "stderr",
     "output_type": "stream",
     "text": [
      "/home/zhengyang/Desktop/Git_resp_limesegment/classifiers/ResNet.py:149: UserWarning: Implicit dimension choice for softmax has been deprecated. Change the call to include dim=X as an argument.\n",
      "  output_layer = self.softmax(output_layer)\n"
     ]
    },
    {
     "data": {
      "application/vnd.jupyter.widget-view+json": {
       "model_id": "16e38625aaa34ebd8b15ef9521833ef1",
       "version_major": 2,
       "version_minor": 0
      },
      "text/plain": [
       "Lime attribution:   0%|          | 0/25 [00:00<?, ?it/s]"
      ]
     },
     "metadata": {},
     "output_type": "display_data"
    },
    {
     "name": "stderr",
     "output_type": "stream",
     "text": [
      "/home/zhengyang/Desktop/Git_resp_limesegment/classifiers/ResNet.py:149: UserWarning: Implicit dimension choice for softmax has been deprecated. Change the call to include dim=X as an argument.\n",
      "  output_layer = self.softmax(output_layer)\n"
     ]
    },
    {
     "data": {
      "application/vnd.jupyter.widget-view+json": {
       "model_id": "79e6fc047fb94dcca89e89fd947872e7",
       "version_major": 2,
       "version_minor": 0
      },
      "text/plain": [
       "Lime attribution:   0%|          | 0/25 [00:00<?, ?it/s]"
      ]
     },
     "metadata": {},
     "output_type": "display_data"
    },
    {
     "name": "stderr",
     "output_type": "stream",
     "text": [
      "/home/zhengyang/Desktop/Git_resp_limesegment/classifiers/ResNet.py:149: UserWarning: Implicit dimension choice for softmax has been deprecated. Change the call to include dim=X as an argument.\n",
      "  output_layer = self.softmax(output_layer)\n"
     ]
    },
    {
     "data": {
      "application/vnd.jupyter.widget-view+json": {
       "model_id": "f576ae2d06e54cf3b244ff8ce4b3cc74",
       "version_major": 2,
       "version_minor": 0
      },
      "text/plain": [
       "Lime attribution:   0%|          | 0/25 [00:00<?, ?it/s]"
      ]
     },
     "metadata": {},
     "output_type": "display_data"
    },
    {
     "name": "stderr",
     "output_type": "stream",
     "text": [
      "/home/zhengyang/Desktop/Git_resp_limesegment/classifiers/ResNet.py:149: UserWarning: Implicit dimension choice for softmax has been deprecated. Change the call to include dim=X as an argument.\n",
      "  output_layer = self.softmax(output_layer)\n"
     ]
    },
    {
     "data": {
      "application/vnd.jupyter.widget-view+json": {
       "model_id": "490fd0bed2094a5a927529b1f6738916",
       "version_major": 2,
       "version_minor": 0
      },
      "text/plain": [
       "Lime attribution:   0%|          | 0/25 [00:00<?, ?it/s]"
      ]
     },
     "metadata": {},
     "output_type": "display_data"
    },
    {
     "name": "stderr",
     "output_type": "stream",
     "text": [
      "/home/zhengyang/Desktop/Git_resp_limesegment/classifiers/ResNet.py:149: UserWarning: Implicit dimension choice for softmax has been deprecated. Change the call to include dim=X as an argument.\n",
      "  output_layer = self.softmax(output_layer)\n"
     ]
    },
    {
     "data": {
      "application/vnd.jupyter.widget-view+json": {
       "model_id": "aadf11e79f214ab1b1f8eff3e697b90b",
       "version_major": 2,
       "version_minor": 0
      },
      "text/plain": [
       "Lime attribution:   0%|          | 0/25 [00:00<?, ?it/s]"
      ]
     },
     "metadata": {},
     "output_type": "display_data"
    },
    {
     "name": "stderr",
     "output_type": "stream",
     "text": [
      "/home/zhengyang/Desktop/Git_resp_limesegment/classifiers/ResNet.py:149: UserWarning: Implicit dimension choice for softmax has been deprecated. Change the call to include dim=X as an argument.\n",
      "  output_layer = self.softmax(output_layer)\n"
     ]
    },
    {
     "data": {
      "application/vnd.jupyter.widget-view+json": {
       "model_id": "77043d2e9bc7471b8141be73c38659aa",
       "version_major": 2,
       "version_minor": 0
      },
      "text/plain": [
       "Lime attribution:   0%|          | 0/25 [00:00<?, ?it/s]"
      ]
     },
     "metadata": {},
     "output_type": "display_data"
    },
    {
     "name": "stderr",
     "output_type": "stream",
     "text": [
      "/home/zhengyang/Desktop/Git_resp_limesegment/classifiers/ResNet.py:149: UserWarning: Implicit dimension choice for softmax has been deprecated. Change the call to include dim=X as an argument.\n",
      "  output_layer = self.softmax(output_layer)\n"
     ]
    },
    {
     "data": {
      "application/vnd.jupyter.widget-view+json": {
       "model_id": "db79a5d7c9eb48659bb3ddccc9930563",
       "version_major": 2,
       "version_minor": 0
      },
      "text/plain": [
       "Lime attribution:   0%|          | 0/25 [00:00<?, ?it/s]"
      ]
     },
     "metadata": {},
     "output_type": "display_data"
    },
    {
     "name": "stderr",
     "output_type": "stream",
     "text": [
      "/home/zhengyang/Desktop/Git_resp_limesegment/classifiers/ResNet.py:149: UserWarning: Implicit dimension choice for softmax has been deprecated. Change the call to include dim=X as an argument.\n",
      "  output_layer = self.softmax(output_layer)\n"
     ]
    },
    {
     "data": {
      "application/vnd.jupyter.widget-view+json": {
       "model_id": "5953147eb0cb44889eae5c06ef5d05a5",
       "version_major": 2,
       "version_minor": 0
      },
      "text/plain": [
       "Lime attribution:   0%|          | 0/25 [00:00<?, ?it/s]"
      ]
     },
     "metadata": {},
     "output_type": "display_data"
    },
    {
     "name": "stderr",
     "output_type": "stream",
     "text": [
      "/home/zhengyang/Desktop/Git_resp_limesegment/classifiers/ResNet.py:149: UserWarning: Implicit dimension choice for softmax has been deprecated. Change the call to include dim=X as an argument.\n",
      "  output_layer = self.softmax(output_layer)\n"
     ]
    },
    {
     "data": {
      "application/vnd.jupyter.widget-view+json": {
       "model_id": "2abfca59efad4d1dbe328c9ba190f2e9",
       "version_major": 2,
       "version_minor": 0
      },
      "text/plain": [
       "Lime attribution:   0%|          | 0/25 [00:00<?, ?it/s]"
      ]
     },
     "metadata": {},
     "output_type": "display_data"
    },
    {
     "name": "stderr",
     "output_type": "stream",
     "text": [
      "/home/zhengyang/Desktop/Git_resp_limesegment/classifiers/ResNet.py:149: UserWarning: Implicit dimension choice for softmax has been deprecated. Change the call to include dim=X as an argument.\n",
      "  output_layer = self.softmax(output_layer)\n"
     ]
    },
    {
     "data": {
      "application/vnd.jupyter.widget-view+json": {
       "model_id": "e1bcb158476040c7968c8356dbf56065",
       "version_major": 2,
       "version_minor": 0
      },
      "text/plain": [
       "Lime attribution:   0%|          | 0/25 [00:00<?, ?it/s]"
      ]
     },
     "metadata": {},
     "output_type": "display_data"
    },
    {
     "name": "stderr",
     "output_type": "stream",
     "text": [
      "/home/zhengyang/Desktop/Git_resp_limesegment/classifiers/ResNet.py:149: UserWarning: Implicit dimension choice for softmax has been deprecated. Change the call to include dim=X as an argument.\n",
      "  output_layer = self.softmax(output_layer)\n"
     ]
    },
    {
     "data": {
      "application/vnd.jupyter.widget-view+json": {
       "model_id": "ef1e29e072fb4078b20e134c037a9742",
       "version_major": 2,
       "version_minor": 0
      },
      "text/plain": [
       "Lime attribution:   0%|          | 0/25 [00:00<?, ?it/s]"
      ]
     },
     "metadata": {},
     "output_type": "display_data"
    },
    {
     "name": "stderr",
     "output_type": "stream",
     "text": [
      "/home/zhengyang/Desktop/Git_resp_limesegment/classifiers/ResNet.py:149: UserWarning: Implicit dimension choice for softmax has been deprecated. Change the call to include dim=X as an argument.\n",
      "  output_layer = self.softmax(output_layer)\n"
     ]
    },
    {
     "data": {
      "application/vnd.jupyter.widget-view+json": {
       "model_id": "502fa8fc29c04bd38ea1e5eedd88957f",
       "version_major": 2,
       "version_minor": 0
      },
      "text/plain": [
       "Lime attribution:   0%|          | 0/25 [00:00<?, ?it/s]"
      ]
     },
     "metadata": {},
     "output_type": "display_data"
    },
    {
     "name": "stderr",
     "output_type": "stream",
     "text": [
      "/home/zhengyang/Desktop/Git_resp_limesegment/classifiers/ResNet.py:149: UserWarning: Implicit dimension choice for softmax has been deprecated. Change the call to include dim=X as an argument.\n",
      "  output_layer = self.softmax(output_layer)\n"
     ]
    },
    {
     "data": {
      "application/vnd.jupyter.widget-view+json": {
       "model_id": "4d3404be02f84aa9ae467edc32ccbb80",
       "version_major": 2,
       "version_minor": 0
      },
      "text/plain": [
       "Lime attribution:   0%|          | 0/25 [00:00<?, ?it/s]"
      ]
     },
     "metadata": {},
     "output_type": "display_data"
    },
    {
     "name": "stderr",
     "output_type": "stream",
     "text": [
      "/home/zhengyang/Desktop/Git_resp_limesegment/classifiers/ResNet.py:149: UserWarning: Implicit dimension choice for softmax has been deprecated. Change the call to include dim=X as an argument.\n",
      "  output_layer = self.softmax(output_layer)\n"
     ]
    },
    {
     "data": {
      "application/vnd.jupyter.widget-view+json": {
       "model_id": "9f557998929e4415a687d13939537616",
       "version_major": 2,
       "version_minor": 0
      },
      "text/plain": [
       "Lime attribution:   0%|          | 0/25 [00:00<?, ?it/s]"
      ]
     },
     "metadata": {},
     "output_type": "display_data"
    },
    {
     "name": "stderr",
     "output_type": "stream",
     "text": [
      "/home/zhengyang/Desktop/Git_resp_limesegment/classifiers/ResNet.py:149: UserWarning: Implicit dimension choice for softmax has been deprecated. Change the call to include dim=X as an argument.\n",
      "  output_layer = self.softmax(output_layer)\n"
     ]
    },
    {
     "data": {
      "application/vnd.jupyter.widget-view+json": {
       "model_id": "94c9c66ef4e242699975d85c9adb5245",
       "version_major": 2,
       "version_minor": 0
      },
      "text/plain": [
       "Lime attribution:   0%|          | 0/25 [00:00<?, ?it/s]"
      ]
     },
     "metadata": {},
     "output_type": "display_data"
    },
    {
     "name": "stderr",
     "output_type": "stream",
     "text": [
      "/home/zhengyang/Desktop/Git_resp_limesegment/classifiers/ResNet.py:149: UserWarning: Implicit dimension choice for softmax has been deprecated. Change the call to include dim=X as an argument.\n",
      "  output_layer = self.softmax(output_layer)\n"
     ]
    },
    {
     "data": {
      "application/vnd.jupyter.widget-view+json": {
       "model_id": "7eb24a7d964c40f3b297165c5cc8637b",
       "version_major": 2,
       "version_minor": 0
      },
      "text/plain": [
       "Lime attribution:   0%|          | 0/25 [00:00<?, ?it/s]"
      ]
     },
     "metadata": {},
     "output_type": "display_data"
    },
    {
     "name": "stderr",
     "output_type": "stream",
     "text": [
      "/home/zhengyang/Desktop/Git_resp_limesegment/classifiers/ResNet.py:149: UserWarning: Implicit dimension choice for softmax has been deprecated. Change the call to include dim=X as an argument.\n",
      "  output_layer = self.softmax(output_layer)\n"
     ]
    },
    {
     "data": {
      "application/vnd.jupyter.widget-view+json": {
       "model_id": "1ab30f3eb4d043838413f873b8a83c0d",
       "version_major": 2,
       "version_minor": 0
      },
      "text/plain": [
       "Lime attribution:   0%|          | 0/25 [00:00<?, ?it/s]"
      ]
     },
     "metadata": {},
     "output_type": "display_data"
    },
    {
     "name": "stderr",
     "output_type": "stream",
     "text": [
      "/home/zhengyang/Desktop/Git_resp_limesegment/classifiers/ResNet.py:149: UserWarning: Implicit dimension choice for softmax has been deprecated. Change the call to include dim=X as an argument.\n",
      "  output_layer = self.softmax(output_layer)\n"
     ]
    },
    {
     "data": {
      "application/vnd.jupyter.widget-view+json": {
       "model_id": "e3224a3babdc48c7b8490a57d99ea3ca",
       "version_major": 2,
       "version_minor": 0
      },
      "text/plain": [
       "Lime attribution:   0%|          | 0/25 [00:00<?, ?it/s]"
      ]
     },
     "metadata": {},
     "output_type": "display_data"
    },
    {
     "name": "stderr",
     "output_type": "stream",
     "text": [
      "/home/zhengyang/Desktop/Git_resp_limesegment/classifiers/ResNet.py:149: UserWarning: Implicit dimension choice for softmax has been deprecated. Change the call to include dim=X as an argument.\n",
      "  output_layer = self.softmax(output_layer)\n"
     ]
    },
    {
     "data": {
      "application/vnd.jupyter.widget-view+json": {
       "model_id": "a7ede8fceb2143899ef1fdaeb7c3b886",
       "version_major": 2,
       "version_minor": 0
      },
      "text/plain": [
       "Lime attribution:   0%|          | 0/25 [00:00<?, ?it/s]"
      ]
     },
     "metadata": {},
     "output_type": "display_data"
    },
    {
     "name": "stderr",
     "output_type": "stream",
     "text": [
      "/home/zhengyang/Desktop/Git_resp_limesegment/classifiers/ResNet.py:149: UserWarning: Implicit dimension choice for softmax has been deprecated. Change the call to include dim=X as an argument.\n",
      "  output_layer = self.softmax(output_layer)\n"
     ]
    },
    {
     "data": {
      "application/vnd.jupyter.widget-view+json": {
       "model_id": "bc452bef4de64cd38e124ba9b624b53d",
       "version_major": 2,
       "version_minor": 0
      },
      "text/plain": [
       "Lime attribution:   0%|          | 0/25 [00:00<?, ?it/s]"
      ]
     },
     "metadata": {},
     "output_type": "display_data"
    },
    {
     "name": "stderr",
     "output_type": "stream",
     "text": [
      "/home/zhengyang/Desktop/Git_resp_limesegment/classifiers/ResNet.py:149: UserWarning: Implicit dimension choice for softmax has been deprecated. Change the call to include dim=X as an argument.\n",
      "  output_layer = self.softmax(output_layer)\n"
     ]
    },
    {
     "data": {
      "application/vnd.jupyter.widget-view+json": {
       "model_id": "348778f58e5e40c88ec7a14e1a91549f",
       "version_major": 2,
       "version_minor": 0
      },
      "text/plain": [
       "Lime attribution:   0%|          | 0/25 [00:00<?, ?it/s]"
      ]
     },
     "metadata": {},
     "output_type": "display_data"
    },
    {
     "name": "stderr",
     "output_type": "stream",
     "text": [
      "/home/zhengyang/Desktop/Git_resp_limesegment/classifiers/ResNet.py:149: UserWarning: Implicit dimension choice for softmax has been deprecated. Change the call to include dim=X as an argument.\n",
      "  output_layer = self.softmax(output_layer)\n"
     ]
    },
    {
     "data": {
      "application/vnd.jupyter.widget-view+json": {
       "model_id": "8ee971e4b6dc46a6ba54d3712b7094b0",
       "version_major": 2,
       "version_minor": 0
      },
      "text/plain": [
       "Lime attribution:   0%|          | 0/25 [00:00<?, ?it/s]"
      ]
     },
     "metadata": {},
     "output_type": "display_data"
    },
    {
     "name": "stderr",
     "output_type": "stream",
     "text": [
      "/home/zhengyang/Desktop/Git_resp_limesegment/classifiers/ResNet.py:149: UserWarning: Implicit dimension choice for softmax has been deprecated. Change the call to include dim=X as an argument.\n",
      "  output_layer = self.softmax(output_layer)\n"
     ]
    },
    {
     "data": {
      "application/vnd.jupyter.widget-view+json": {
       "model_id": "65846c72692d49cb9f579f7ef4772d69",
       "version_major": 2,
       "version_minor": 0
      },
      "text/plain": [
       "Lime attribution:   0%|          | 0/25 [00:00<?, ?it/s]"
      ]
     },
     "metadata": {},
     "output_type": "display_data"
    },
    {
     "name": "stderr",
     "output_type": "stream",
     "text": [
      "/home/zhengyang/Desktop/Git_resp_limesegment/classifiers/ResNet.py:149: UserWarning: Implicit dimension choice for softmax has been deprecated. Change the call to include dim=X as an argument.\n",
      "  output_layer = self.softmax(output_layer)\n"
     ]
    },
    {
     "data": {
      "application/vnd.jupyter.widget-view+json": {
       "model_id": "e92ed8c5172042818f99f74497040cdd",
       "version_major": 2,
       "version_minor": 0
      },
      "text/plain": [
       "Lime attribution:   0%|          | 0/25 [00:00<?, ?it/s]"
      ]
     },
     "metadata": {},
     "output_type": "display_data"
    },
    {
     "name": "stderr",
     "output_type": "stream",
     "text": [
      "/home/zhengyang/Desktop/Git_resp_limesegment/classifiers/ResNet.py:149: UserWarning: Implicit dimension choice for softmax has been deprecated. Change the call to include dim=X as an argument.\n",
      "  output_layer = self.softmax(output_layer)\n"
     ]
    },
    {
     "data": {
      "application/vnd.jupyter.widget-view+json": {
       "model_id": "82c27fc968414b8f9ab882634b4081d8",
       "version_major": 2,
       "version_minor": 0
      },
      "text/plain": [
       "Lime attribution:   0%|          | 0/25 [00:00<?, ?it/s]"
      ]
     },
     "metadata": {},
     "output_type": "display_data"
    },
    {
     "name": "stderr",
     "output_type": "stream",
     "text": [
      "/home/zhengyang/Desktop/Git_resp_limesegment/classifiers/ResNet.py:149: UserWarning: Implicit dimension choice for softmax has been deprecated. Change the call to include dim=X as an argument.\n",
      "  output_layer = self.softmax(output_layer)\n"
     ]
    },
    {
     "data": {
      "application/vnd.jupyter.widget-view+json": {
       "model_id": "a19cedc8f63b4bb2818ece2a0d21a751",
       "version_major": 2,
       "version_minor": 0
      },
      "text/plain": [
       "Lime attribution:   0%|          | 0/25 [00:00<?, ?it/s]"
      ]
     },
     "metadata": {},
     "output_type": "display_data"
    },
    {
     "name": "stderr",
     "output_type": "stream",
     "text": [
      "/home/zhengyang/Desktop/Git_resp_limesegment/classifiers/ResNet.py:149: UserWarning: Implicit dimension choice for softmax has been deprecated. Change the call to include dim=X as an argument.\n",
      "  output_layer = self.softmax(output_layer)\n"
     ]
    },
    {
     "data": {
      "application/vnd.jupyter.widget-view+json": {
       "model_id": "025180aa64dc403abbbfe7f44627786f",
       "version_major": 2,
       "version_minor": 0
      },
      "text/plain": [
       "Lime attribution:   0%|          | 0/25 [00:00<?, ?it/s]"
      ]
     },
     "metadata": {},
     "output_type": "display_data"
    },
    {
     "name": "stderr",
     "output_type": "stream",
     "text": [
      "/home/zhengyang/Desktop/Git_resp_limesegment/classifiers/ResNet.py:149: UserWarning: Implicit dimension choice for softmax has been deprecated. Change the call to include dim=X as an argument.\n",
      "  output_layer = self.softmax(output_layer)\n"
     ]
    },
    {
     "data": {
      "application/vnd.jupyter.widget-view+json": {
       "model_id": "e581fbdf386f43ada3c011a16b433e2c",
       "version_major": 2,
       "version_minor": 0
      },
      "text/plain": [
       "Lime attribution:   0%|          | 0/25 [00:00<?, ?it/s]"
      ]
     },
     "metadata": {},
     "output_type": "display_data"
    },
    {
     "name": "stderr",
     "output_type": "stream",
     "text": [
      "/home/zhengyang/Desktop/Git_resp_limesegment/classifiers/ResNet.py:149: UserWarning: Implicit dimension choice for softmax has been deprecated. Change the call to include dim=X as an argument.\n",
      "  output_layer = self.softmax(output_layer)\n"
     ]
    },
    {
     "data": {
      "application/vnd.jupyter.widget-view+json": {
       "model_id": "7b732fe7419b452eb2da39a1307a647c",
       "version_major": 2,
       "version_minor": 0
      },
      "text/plain": [
       "Lime attribution:   0%|          | 0/25 [00:00<?, ?it/s]"
      ]
     },
     "metadata": {},
     "output_type": "display_data"
    },
    {
     "name": "stderr",
     "output_type": "stream",
     "text": [
      "/home/zhengyang/Desktop/Git_resp_limesegment/classifiers/ResNet.py:149: UserWarning: Implicit dimension choice for softmax has been deprecated. Change the call to include dim=X as an argument.\n",
      "  output_layer = self.softmax(output_layer)\n"
     ]
    },
    {
     "data": {
      "application/vnd.jupyter.widget-view+json": {
       "model_id": "f0a4abfe301b4af39d3b1454b30ed0ca",
       "version_major": 2,
       "version_minor": 0
      },
      "text/plain": [
       "Lime attribution:   0%|          | 0/25 [00:00<?, ?it/s]"
      ]
     },
     "metadata": {},
     "output_type": "display_data"
    },
    {
     "name": "stderr",
     "output_type": "stream",
     "text": [
      "/home/zhengyang/Desktop/Git_resp_limesegment/classifiers/ResNet.py:149: UserWarning: Implicit dimension choice for softmax has been deprecated. Change the call to include dim=X as an argument.\n",
      "  output_layer = self.softmax(output_layer)\n"
     ]
    },
    {
     "data": {
      "application/vnd.jupyter.widget-view+json": {
       "model_id": "81347b9fe78c403cb28b45823849b7ca",
       "version_major": 2,
       "version_minor": 0
      },
      "text/plain": [
       "Lime attribution:   0%|          | 0/25 [00:00<?, ?it/s]"
      ]
     },
     "metadata": {},
     "output_type": "display_data"
    },
    {
     "name": "stderr",
     "output_type": "stream",
     "text": [
      "/home/zhengyang/Desktop/Git_resp_limesegment/classifiers/ResNet.py:149: UserWarning: Implicit dimension choice for softmax has been deprecated. Change the call to include dim=X as an argument.\n",
      "  output_layer = self.softmax(output_layer)\n"
     ]
    },
    {
     "data": {
      "application/vnd.jupyter.widget-view+json": {
       "model_id": "cc14b6676f77476e96896a246f49e54f",
       "version_major": 2,
       "version_minor": 0
      },
      "text/plain": [
       "Lime attribution:   0%|          | 0/25 [00:00<?, ?it/s]"
      ]
     },
     "metadata": {},
     "output_type": "display_data"
    },
    {
     "name": "stderr",
     "output_type": "stream",
     "text": [
      "/home/zhengyang/Desktop/Git_resp_limesegment/classifiers/ResNet.py:149: UserWarning: Implicit dimension choice for softmax has been deprecated. Change the call to include dim=X as an argument.\n",
      "  output_layer = self.softmax(output_layer)\n"
     ]
    },
    {
     "data": {
      "application/vnd.jupyter.widget-view+json": {
       "model_id": "1bbc5b92b9ae484ab948e176a5f54754",
       "version_major": 2,
       "version_minor": 0
      },
      "text/plain": [
       "Lime attribution:   0%|          | 0/25 [00:00<?, ?it/s]"
      ]
     },
     "metadata": {},
     "output_type": "display_data"
    },
    {
     "name": "stderr",
     "output_type": "stream",
     "text": [
      "/home/zhengyang/Desktop/Git_resp_limesegment/classifiers/ResNet.py:149: UserWarning: Implicit dimension choice for softmax has been deprecated. Change the call to include dim=X as an argument.\n",
      "  output_layer = self.softmax(output_layer)\n"
     ]
    },
    {
     "data": {
      "application/vnd.jupyter.widget-view+json": {
       "model_id": "d638899b75594140bfb151aa20ed47d4",
       "version_major": 2,
       "version_minor": 0
      },
      "text/plain": [
       "Lime attribution:   0%|          | 0/25 [00:00<?, ?it/s]"
      ]
     },
     "metadata": {},
     "output_type": "display_data"
    },
    {
     "name": "stderr",
     "output_type": "stream",
     "text": [
      "/home/zhengyang/Desktop/Git_resp_limesegment/classifiers/ResNet.py:149: UserWarning: Implicit dimension choice for softmax has been deprecated. Change the call to include dim=X as an argument.\n",
      "  output_layer = self.softmax(output_layer)\n"
     ]
    },
    {
     "data": {
      "application/vnd.jupyter.widget-view+json": {
       "model_id": "5df0af77baac47119ff45b309c5c4849",
       "version_major": 2,
       "version_minor": 0
      },
      "text/plain": [
       "Lime attribution:   0%|          | 0/25 [00:00<?, ?it/s]"
      ]
     },
     "metadata": {},
     "output_type": "display_data"
    },
    {
     "name": "stderr",
     "output_type": "stream",
     "text": [
      "/home/zhengyang/Desktop/Git_resp_limesegment/classifiers/ResNet.py:149: UserWarning: Implicit dimension choice for softmax has been deprecated. Change the call to include dim=X as an argument.\n",
      "  output_layer = self.softmax(output_layer)\n"
     ]
    },
    {
     "data": {
      "application/vnd.jupyter.widget-view+json": {
       "model_id": "3dc01c581aec41cb897c571b64902f1f",
       "version_major": 2,
       "version_minor": 0
      },
      "text/plain": [
       "Lime attribution:   0%|          | 0/25 [00:00<?, ?it/s]"
      ]
     },
     "metadata": {},
     "output_type": "display_data"
    },
    {
     "name": "stderr",
     "output_type": "stream",
     "text": [
      "/home/zhengyang/Desktop/Git_resp_limesegment/classifiers/ResNet.py:149: UserWarning: Implicit dimension choice for softmax has been deprecated. Change the call to include dim=X as an argument.\n",
      "  output_layer = self.softmax(output_layer)\n"
     ]
    },
    {
     "data": {
      "application/vnd.jupyter.widget-view+json": {
       "model_id": "b9c1e43ba6e747ffad1d7eefeb3edc7c",
       "version_major": 2,
       "version_minor": 0
      },
      "text/plain": [
       "Lime attribution:   0%|          | 0/25 [00:00<?, ?it/s]"
      ]
     },
     "metadata": {},
     "output_type": "display_data"
    },
    {
     "name": "stderr",
     "output_type": "stream",
     "text": [
      "/home/zhengyang/Desktop/Git_resp_limesegment/classifiers/ResNet.py:149: UserWarning: Implicit dimension choice for softmax has been deprecated. Change the call to include dim=X as an argument.\n",
      "  output_layer = self.softmax(output_layer)\n"
     ]
    },
    {
     "data": {
      "application/vnd.jupyter.widget-view+json": {
       "model_id": "1d8eca7f8bcc4643be4562cb209eddc9",
       "version_major": 2,
       "version_minor": 0
      },
      "text/plain": [
       "Lime attribution:   0%|          | 0/25 [00:00<?, ?it/s]"
      ]
     },
     "metadata": {},
     "output_type": "display_data"
    },
    {
     "name": "stderr",
     "output_type": "stream",
     "text": [
      "/home/zhengyang/Desktop/Git_resp_limesegment/classifiers/ResNet.py:149: UserWarning: Implicit dimension choice for softmax has been deprecated. Change the call to include dim=X as an argument.\n",
      "  output_layer = self.softmax(output_layer)\n"
     ]
    },
    {
     "data": {
      "application/vnd.jupyter.widget-view+json": {
       "model_id": "8fbcdd9a9d3a413e9527d322bf511566",
       "version_major": 2,
       "version_minor": 0
      },
      "text/plain": [
       "Lime attribution:   0%|          | 0/25 [00:00<?, ?it/s]"
      ]
     },
     "metadata": {},
     "output_type": "display_data"
    },
    {
     "name": "stderr",
     "output_type": "stream",
     "text": [
      "/home/zhengyang/Desktop/Git_resp_limesegment/classifiers/ResNet.py:149: UserWarning: Implicit dimension choice for softmax has been deprecated. Change the call to include dim=X as an argument.\n",
      "  output_layer = self.softmax(output_layer)\n"
     ]
    },
    {
     "data": {
      "application/vnd.jupyter.widget-view+json": {
       "model_id": "be808d4955f549baae71eb3389796259",
       "version_major": 2,
       "version_minor": 0
      },
      "text/plain": [
       "Lime attribution:   0%|          | 0/25 [00:00<?, ?it/s]"
      ]
     },
     "metadata": {},
     "output_type": "display_data"
    },
    {
     "name": "stderr",
     "output_type": "stream",
     "text": [
      "/home/zhengyang/Desktop/Git_resp_limesegment/classifiers/ResNet.py:149: UserWarning: Implicit dimension choice for softmax has been deprecated. Change the call to include dim=X as an argument.\n",
      "  output_layer = self.softmax(output_layer)\n"
     ]
    },
    {
     "data": {
      "application/vnd.jupyter.widget-view+json": {
       "model_id": "04ef07fc9bdf403c90e128018d3bcca7",
       "version_major": 2,
       "version_minor": 0
      },
      "text/plain": [
       "Lime attribution:   0%|          | 0/25 [00:00<?, ?it/s]"
      ]
     },
     "metadata": {},
     "output_type": "display_data"
    },
    {
     "name": "stderr",
     "output_type": "stream",
     "text": [
      "/home/zhengyang/Desktop/Git_resp_limesegment/classifiers/ResNet.py:149: UserWarning: Implicit dimension choice for softmax has been deprecated. Change the call to include dim=X as an argument.\n",
      "  output_layer = self.softmax(output_layer)\n"
     ]
    },
    {
     "data": {
      "application/vnd.jupyter.widget-view+json": {
       "model_id": "4dac2625fbb14c1eb8373da1fd8bfcc4",
       "version_major": 2,
       "version_minor": 0
      },
      "text/plain": [
       "Lime attribution:   0%|          | 0/25 [00:00<?, ?it/s]"
      ]
     },
     "metadata": {},
     "output_type": "display_data"
    },
    {
     "name": "stderr",
     "output_type": "stream",
     "text": [
      "/home/zhengyang/Desktop/Git_resp_limesegment/classifiers/ResNet.py:149: UserWarning: Implicit dimension choice for softmax has been deprecated. Change the call to include dim=X as an argument.\n",
      "  output_layer = self.softmax(output_layer)\n"
     ]
    },
    {
     "data": {
      "application/vnd.jupyter.widget-view+json": {
       "model_id": "bb8e4ac0c6224e58bfe2ceb9b6098b7b",
       "version_major": 2,
       "version_minor": 0
      },
      "text/plain": [
       "Lime attribution:   0%|          | 0/25 [00:00<?, ?it/s]"
      ]
     },
     "metadata": {},
     "output_type": "display_data"
    },
    {
     "name": "stderr",
     "output_type": "stream",
     "text": [
      "/home/zhengyang/Desktop/Git_resp_limesegment/classifiers/ResNet.py:149: UserWarning: Implicit dimension choice for softmax has been deprecated. Change the call to include dim=X as an argument.\n",
      "  output_layer = self.softmax(output_layer)\n"
     ]
    },
    {
     "data": {
      "application/vnd.jupyter.widget-view+json": {
       "model_id": "558ec91b23fb47658faa4ab5f2b8d807",
       "version_major": 2,
       "version_minor": 0
      },
      "text/plain": [
       "Lime attribution:   0%|          | 0/25 [00:00<?, ?it/s]"
      ]
     },
     "metadata": {},
     "output_type": "display_data"
    },
    {
     "name": "stderr",
     "output_type": "stream",
     "text": [
      "/home/zhengyang/Desktop/Git_resp_limesegment/classifiers/ResNet.py:149: UserWarning: Implicit dimension choice for softmax has been deprecated. Change the call to include dim=X as an argument.\n",
      "  output_layer = self.softmax(output_layer)\n"
     ]
    },
    {
     "data": {
      "application/vnd.jupyter.widget-view+json": {
       "model_id": "f3653eb90ef14f73953b3b9ff655dfc7",
       "version_major": 2,
       "version_minor": 0
      },
      "text/plain": [
       "Lime attribution:   0%|          | 0/25 [00:00<?, ?it/s]"
      ]
     },
     "metadata": {},
     "output_type": "display_data"
    },
    {
     "name": "stderr",
     "output_type": "stream",
     "text": [
      "/home/zhengyang/Desktop/Git_resp_limesegment/classifiers/ResNet.py:149: UserWarning: Implicit dimension choice for softmax has been deprecated. Change the call to include dim=X as an argument.\n",
      "  output_layer = self.softmax(output_layer)\n"
     ]
    },
    {
     "data": {
      "application/vnd.jupyter.widget-view+json": {
       "model_id": "6089279194da4718958585c84bf67969",
       "version_major": 2,
       "version_minor": 0
      },
      "text/plain": [
       "Lime attribution:   0%|          | 0/25 [00:00<?, ?it/s]"
      ]
     },
     "metadata": {},
     "output_type": "display_data"
    },
    {
     "name": "stderr",
     "output_type": "stream",
     "text": [
      "/home/zhengyang/Desktop/Git_resp_limesegment/classifiers/ResNet.py:149: UserWarning: Implicit dimension choice for softmax has been deprecated. Change the call to include dim=X as an argument.\n",
      "  output_layer = self.softmax(output_layer)\n"
     ]
    },
    {
     "data": {
      "application/vnd.jupyter.widget-view+json": {
       "model_id": "191f62f8b1fe47d6a28ab8da9251216d",
       "version_major": 2,
       "version_minor": 0
      },
      "text/plain": [
       "Lime attribution:   0%|          | 0/25 [00:00<?, ?it/s]"
      ]
     },
     "metadata": {},
     "output_type": "display_data"
    },
    {
     "name": "stderr",
     "output_type": "stream",
     "text": [
      "/home/zhengyang/Desktop/Git_resp_limesegment/classifiers/ResNet.py:149: UserWarning: Implicit dimension choice for softmax has been deprecated. Change the call to include dim=X as an argument.\n",
      "  output_layer = self.softmax(output_layer)\n"
     ]
    },
    {
     "data": {
      "application/vnd.jupyter.widget-view+json": {
       "model_id": "30a90aebfbd9409d9a27cffa7ffbb868",
       "version_major": 2,
       "version_minor": 0
      },
      "text/plain": [
       "Lime attribution:   0%|          | 0/25 [00:00<?, ?it/s]"
      ]
     },
     "metadata": {},
     "output_type": "display_data"
    },
    {
     "name": "stderr",
     "output_type": "stream",
     "text": [
      "/home/zhengyang/Desktop/Git_resp_limesegment/classifiers/ResNet.py:149: UserWarning: Implicit dimension choice for softmax has been deprecated. Change the call to include dim=X as an argument.\n",
      "  output_layer = self.softmax(output_layer)\n"
     ]
    },
    {
     "data": {
      "application/vnd.jupyter.widget-view+json": {
       "model_id": "5f18a7e19ae84ffb9482a4d007a14342",
       "version_major": 2,
       "version_minor": 0
      },
      "text/plain": [
       "Lime attribution:   0%|          | 0/25 [00:00<?, ?it/s]"
      ]
     },
     "metadata": {},
     "output_type": "display_data"
    },
    {
     "name": "stderr",
     "output_type": "stream",
     "text": [
      "/home/zhengyang/Desktop/Git_resp_limesegment/classifiers/ResNet.py:149: UserWarning: Implicit dimension choice for softmax has been deprecated. Change the call to include dim=X as an argument.\n",
      "  output_layer = self.softmax(output_layer)\n"
     ]
    },
    {
     "data": {
      "application/vnd.jupyter.widget-view+json": {
       "model_id": "feb43a85576f47c8a3747dccf4723c87",
       "version_major": 2,
       "version_minor": 0
      },
      "text/plain": [
       "Lime attribution:   0%|          | 0/25 [00:00<?, ?it/s]"
      ]
     },
     "metadata": {},
     "output_type": "display_data"
    },
    {
     "name": "stderr",
     "output_type": "stream",
     "text": [
      "/home/zhengyang/Desktop/Git_resp_limesegment/classifiers/ResNet.py:149: UserWarning: Implicit dimension choice for softmax has been deprecated. Change the call to include dim=X as an argument.\n",
      "  output_layer = self.softmax(output_layer)\n"
     ]
    },
    {
     "data": {
      "application/vnd.jupyter.widget-view+json": {
       "model_id": "9ace1309eca1419198adf88b4951817f",
       "version_major": 2,
       "version_minor": 0
      },
      "text/plain": [
       "Lime attribution:   0%|          | 0/25 [00:00<?, ?it/s]"
      ]
     },
     "metadata": {},
     "output_type": "display_data"
    },
    {
     "name": "stderr",
     "output_type": "stream",
     "text": [
      "/home/zhengyang/Desktop/Git_resp_limesegment/classifiers/ResNet.py:149: UserWarning: Implicit dimension choice for softmax has been deprecated. Change the call to include dim=X as an argument.\n",
      "  output_layer = self.softmax(output_layer)\n"
     ]
    },
    {
     "data": {
      "application/vnd.jupyter.widget-view+json": {
       "model_id": "11e1ba4f77aa44399812824b89d1ab7e",
       "version_major": 2,
       "version_minor": 0
      },
      "text/plain": [
       "Lime attribution:   0%|          | 0/25 [00:00<?, ?it/s]"
      ]
     },
     "metadata": {},
     "output_type": "display_data"
    },
    {
     "name": "stderr",
     "output_type": "stream",
     "text": [
      "/home/zhengyang/Desktop/Git_resp_limesegment/classifiers/ResNet.py:149: UserWarning: Implicit dimension choice for softmax has been deprecated. Change the call to include dim=X as an argument.\n",
      "  output_layer = self.softmax(output_layer)\n"
     ]
    },
    {
     "data": {
      "application/vnd.jupyter.widget-view+json": {
       "model_id": "91bcfde0188e4e708c3e819d56beebbf",
       "version_major": 2,
       "version_minor": 0
      },
      "text/plain": [
       "Lime attribution:   0%|          | 0/25 [00:00<?, ?it/s]"
      ]
     },
     "metadata": {},
     "output_type": "display_data"
    },
    {
     "name": "stderr",
     "output_type": "stream",
     "text": [
      "/home/zhengyang/Desktop/Git_resp_limesegment/classifiers/ResNet.py:149: UserWarning: Implicit dimension choice for softmax has been deprecated. Change the call to include dim=X as an argument.\n",
      "  output_layer = self.softmax(output_layer)\n"
     ]
    },
    {
     "data": {
      "application/vnd.jupyter.widget-view+json": {
       "model_id": "1c8c5afb643a4b28899bfedc6ecbe463",
       "version_major": 2,
       "version_minor": 0
      },
      "text/plain": [
       "Lime attribution:   0%|          | 0/25 [00:00<?, ?it/s]"
      ]
     },
     "metadata": {},
     "output_type": "display_data"
    },
    {
     "name": "stderr",
     "output_type": "stream",
     "text": [
      "/home/zhengyang/Desktop/Git_resp_limesegment/classifiers/ResNet.py:149: UserWarning: Implicit dimension choice for softmax has been deprecated. Change the call to include dim=X as an argument.\n",
      "  output_layer = self.softmax(output_layer)\n"
     ]
    },
    {
     "data": {
      "application/vnd.jupyter.widget-view+json": {
       "model_id": "0ec48e39ed384aa992fd6f6dd230d388",
       "version_major": 2,
       "version_minor": 0
      },
      "text/plain": [
       "Lime attribution:   0%|          | 0/25 [00:00<?, ?it/s]"
      ]
     },
     "metadata": {},
     "output_type": "display_data"
    },
    {
     "name": "stderr",
     "output_type": "stream",
     "text": [
      "/home/zhengyang/Desktop/Git_resp_limesegment/classifiers/ResNet.py:149: UserWarning: Implicit dimension choice for softmax has been deprecated. Change the call to include dim=X as an argument.\n",
      "  output_layer = self.softmax(output_layer)\n"
     ]
    },
    {
     "data": {
      "application/vnd.jupyter.widget-view+json": {
       "model_id": "b1fbc5f7d3f2436fbe1cd199ea4013a6",
       "version_major": 2,
       "version_minor": 0
      },
      "text/plain": [
       "Lime attribution:   0%|          | 0/25 [00:00<?, ?it/s]"
      ]
     },
     "metadata": {},
     "output_type": "display_data"
    },
    {
     "name": "stderr",
     "output_type": "stream",
     "text": [
      "/home/zhengyang/Desktop/Git_resp_limesegment/classifiers/ResNet.py:149: UserWarning: Implicit dimension choice for softmax has been deprecated. Change the call to include dim=X as an argument.\n",
      "  output_layer = self.softmax(output_layer)\n"
     ]
    },
    {
     "data": {
      "application/vnd.jupyter.widget-view+json": {
       "model_id": "f57628c609074bc294923ec4ae67f47d",
       "version_major": 2,
       "version_minor": 0
      },
      "text/plain": [
       "Lime attribution:   0%|          | 0/25 [00:00<?, ?it/s]"
      ]
     },
     "metadata": {},
     "output_type": "display_data"
    },
    {
     "name": "stderr",
     "output_type": "stream",
     "text": [
      "/home/zhengyang/Desktop/Git_resp_limesegment/classifiers/ResNet.py:149: UserWarning: Implicit dimension choice for softmax has been deprecated. Change the call to include dim=X as an argument.\n",
      "  output_layer = self.softmax(output_layer)\n"
     ]
    },
    {
     "data": {
      "application/vnd.jupyter.widget-view+json": {
       "model_id": "548bcbae7033419ab0e4a773877b021e",
       "version_major": 2,
       "version_minor": 0
      },
      "text/plain": [
       "Lime attribution:   0%|          | 0/25 [00:00<?, ?it/s]"
      ]
     },
     "metadata": {},
     "output_type": "display_data"
    },
    {
     "name": "stderr",
     "output_type": "stream",
     "text": [
      "/home/zhengyang/Desktop/Git_resp_limesegment/classifiers/ResNet.py:149: UserWarning: Implicit dimension choice for softmax has been deprecated. Change the call to include dim=X as an argument.\n",
      "  output_layer = self.softmax(output_layer)\n"
     ]
    },
    {
     "data": {
      "application/vnd.jupyter.widget-view+json": {
       "model_id": "a56753e1699643d6a670e974e3ded0eb",
       "version_major": 2,
       "version_minor": 0
      },
      "text/plain": [
       "Lime attribution:   0%|          | 0/25 [00:00<?, ?it/s]"
      ]
     },
     "metadata": {},
     "output_type": "display_data"
    },
    {
     "name": "stderr",
     "output_type": "stream",
     "text": [
      "/home/zhengyang/Desktop/Git_resp_limesegment/classifiers/ResNet.py:149: UserWarning: Implicit dimension choice for softmax has been deprecated. Change the call to include dim=X as an argument.\n",
      "  output_layer = self.softmax(output_layer)\n"
     ]
    },
    {
     "data": {
      "application/vnd.jupyter.widget-view+json": {
       "model_id": "7f370cd3066a427699153e00e7277192",
       "version_major": 2,
       "version_minor": 0
      },
      "text/plain": [
       "Lime attribution:   0%|          | 0/25 [00:00<?, ?it/s]"
      ]
     },
     "metadata": {},
     "output_type": "display_data"
    },
    {
     "name": "stderr",
     "output_type": "stream",
     "text": [
      "/home/zhengyang/Desktop/Git_resp_limesegment/classifiers/ResNet.py:149: UserWarning: Implicit dimension choice for softmax has been deprecated. Change the call to include dim=X as an argument.\n",
      "  output_layer = self.softmax(output_layer)\n"
     ]
    },
    {
     "data": {
      "application/vnd.jupyter.widget-view+json": {
       "model_id": "7eda52424b144fb7905545a686f93e50",
       "version_major": 2,
       "version_minor": 0
      },
      "text/plain": [
       "Lime attribution:   0%|          | 0/25 [00:00<?, ?it/s]"
      ]
     },
     "metadata": {},
     "output_type": "display_data"
    },
    {
     "name": "stderr",
     "output_type": "stream",
     "text": [
      "/home/zhengyang/Desktop/Git_resp_limesegment/classifiers/ResNet.py:149: UserWarning: Implicit dimension choice for softmax has been deprecated. Change the call to include dim=X as an argument.\n",
      "  output_layer = self.softmax(output_layer)\n"
     ]
    },
    {
     "data": {
      "application/vnd.jupyter.widget-view+json": {
       "model_id": "64ef99e376034aa3bddf8044064835ca",
       "version_major": 2,
       "version_minor": 0
      },
      "text/plain": [
       "Lime attribution:   0%|          | 0/25 [00:00<?, ?it/s]"
      ]
     },
     "metadata": {},
     "output_type": "display_data"
    },
    {
     "name": "stderr",
     "output_type": "stream",
     "text": [
      "/home/zhengyang/Desktop/Git_resp_limesegment/classifiers/ResNet.py:149: UserWarning: Implicit dimension choice for softmax has been deprecated. Change the call to include dim=X as an argument.\n",
      "  output_layer = self.softmax(output_layer)\n"
     ]
    },
    {
     "data": {
      "application/vnd.jupyter.widget-view+json": {
       "model_id": "8f08342b252b4cbe845afb9368f5f7a6",
       "version_major": 2,
       "version_minor": 0
      },
      "text/plain": [
       "Lime attribution:   0%|          | 0/25 [00:00<?, ?it/s]"
      ]
     },
     "metadata": {},
     "output_type": "display_data"
    },
    {
     "name": "stderr",
     "output_type": "stream",
     "text": [
      "/home/zhengyang/Desktop/Git_resp_limesegment/classifiers/ResNet.py:149: UserWarning: Implicit dimension choice for softmax has been deprecated. Change the call to include dim=X as an argument.\n",
      "  output_layer = self.softmax(output_layer)\n"
     ]
    },
    {
     "data": {
      "application/vnd.jupyter.widget-view+json": {
       "model_id": "ff1db71110d847e48003d7b3426ebd8e",
       "version_major": 2,
       "version_minor": 0
      },
      "text/plain": [
       "Lime attribution:   0%|          | 0/25 [00:00<?, ?it/s]"
      ]
     },
     "metadata": {},
     "output_type": "display_data"
    },
    {
     "name": "stderr",
     "output_type": "stream",
     "text": [
      "/home/zhengyang/Desktop/Git_resp_limesegment/classifiers/ResNet.py:149: UserWarning: Implicit dimension choice for softmax has been deprecated. Change the call to include dim=X as an argument.\n",
      "  output_layer = self.softmax(output_layer)\n"
     ]
    },
    {
     "data": {
      "application/vnd.jupyter.widget-view+json": {
       "model_id": "e3f70d9664b940dfb0c45f66b401b73a",
       "version_major": 2,
       "version_minor": 0
      },
      "text/plain": [
       "Lime attribution:   0%|          | 0/25 [00:00<?, ?it/s]"
      ]
     },
     "metadata": {},
     "output_type": "display_data"
    },
    {
     "name": "stderr",
     "output_type": "stream",
     "text": [
      "/home/zhengyang/Desktop/Git_resp_limesegment/classifiers/ResNet.py:149: UserWarning: Implicit dimension choice for softmax has been deprecated. Change the call to include dim=X as an argument.\n",
      "  output_layer = self.softmax(output_layer)\n"
     ]
    },
    {
     "data": {
      "application/vnd.jupyter.widget-view+json": {
       "model_id": "60f2de2469f34528b6609646baf4d7ac",
       "version_major": 2,
       "version_minor": 0
      },
      "text/plain": [
       "Lime attribution:   0%|          | 0/25 [00:00<?, ?it/s]"
      ]
     },
     "metadata": {},
     "output_type": "display_data"
    },
    {
     "name": "stderr",
     "output_type": "stream",
     "text": [
      "/home/zhengyang/Desktop/Git_resp_limesegment/classifiers/ResNet.py:149: UserWarning: Implicit dimension choice for softmax has been deprecated. Change the call to include dim=X as an argument.\n",
      "  output_layer = self.softmax(output_layer)\n"
     ]
    },
    {
     "data": {
      "application/vnd.jupyter.widget-view+json": {
       "model_id": "341eaf4c59a248f884126e1cd927074f",
       "version_major": 2,
       "version_minor": 0
      },
      "text/plain": [
       "Lime attribution:   0%|          | 0/25 [00:00<?, ?it/s]"
      ]
     },
     "metadata": {},
     "output_type": "display_data"
    },
    {
     "name": "stderr",
     "output_type": "stream",
     "text": [
      "/home/zhengyang/Desktop/Git_resp_limesegment/classifiers/ResNet.py:149: UserWarning: Implicit dimension choice for softmax has been deprecated. Change the call to include dim=X as an argument.\n",
      "  output_layer = self.softmax(output_layer)\n"
     ]
    },
    {
     "data": {
      "application/vnd.jupyter.widget-view+json": {
       "model_id": "d80c5334f34f4a5f8815e75eccfd33d7",
       "version_major": 2,
       "version_minor": 0
      },
      "text/plain": [
       "Lime attribution:   0%|          | 0/25 [00:00<?, ?it/s]"
      ]
     },
     "metadata": {},
     "output_type": "display_data"
    },
    {
     "name": "stderr",
     "output_type": "stream",
     "text": [
      "/home/zhengyang/Desktop/Git_resp_limesegment/classifiers/ResNet.py:149: UserWarning: Implicit dimension choice for softmax has been deprecated. Change the call to include dim=X as an argument.\n",
      "  output_layer = self.softmax(output_layer)\n"
     ]
    },
    {
     "data": {
      "application/vnd.jupyter.widget-view+json": {
       "model_id": "8115a81baae3414fb9e4bc8958a76aeb",
       "version_major": 2,
       "version_minor": 0
      },
      "text/plain": [
       "Lime attribution:   0%|          | 0/25 [00:00<?, ?it/s]"
      ]
     },
     "metadata": {},
     "output_type": "display_data"
    },
    {
     "name": "stderr",
     "output_type": "stream",
     "text": [
      "/home/zhengyang/Desktop/Git_resp_limesegment/classifiers/ResNet.py:149: UserWarning: Implicit dimension choice for softmax has been deprecated. Change the call to include dim=X as an argument.\n",
      "  output_layer = self.softmax(output_layer)\n"
     ]
    },
    {
     "data": {
      "application/vnd.jupyter.widget-view+json": {
       "model_id": "c4c6f4790069406d969d98c4c3e889a5",
       "version_major": 2,
       "version_minor": 0
      },
      "text/plain": [
       "Lime attribution:   0%|          | 0/25 [00:00<?, ?it/s]"
      ]
     },
     "metadata": {},
     "output_type": "display_data"
    },
    {
     "name": "stderr",
     "output_type": "stream",
     "text": [
      "/home/zhengyang/Desktop/Git_resp_limesegment/classifiers/ResNet.py:149: UserWarning: Implicit dimension choice for softmax has been deprecated. Change the call to include dim=X as an argument.\n",
      "  output_layer = self.softmax(output_layer)\n"
     ]
    },
    {
     "data": {
      "application/vnd.jupyter.widget-view+json": {
       "model_id": "bca5658df9cb46eca9cd56811bf1c6b1",
       "version_major": 2,
       "version_minor": 0
      },
      "text/plain": [
       "Lime attribution:   0%|          | 0/25 [00:00<?, ?it/s]"
      ]
     },
     "metadata": {},
     "output_type": "display_data"
    },
    {
     "name": "stderr",
     "output_type": "stream",
     "text": [
      "/home/zhengyang/Desktop/Git_resp_limesegment/classifiers/ResNet.py:149: UserWarning: Implicit dimension choice for softmax has been deprecated. Change the call to include dim=X as an argument.\n",
      "  output_layer = self.softmax(output_layer)\n"
     ]
    },
    {
     "data": {
      "application/vnd.jupyter.widget-view+json": {
       "model_id": "ca8cbb66872642a39d9c24856cf091e6",
       "version_major": 2,
       "version_minor": 0
      },
      "text/plain": [
       "Lime attribution:   0%|          | 0/25 [00:00<?, ?it/s]"
      ]
     },
     "metadata": {},
     "output_type": "display_data"
    },
    {
     "name": "stderr",
     "output_type": "stream",
     "text": [
      "/home/zhengyang/Desktop/Git_resp_limesegment/classifiers/ResNet.py:149: UserWarning: Implicit dimension choice for softmax has been deprecated. Change the call to include dim=X as an argument.\n",
      "  output_layer = self.softmax(output_layer)\n"
     ]
    },
    {
     "data": {
      "application/vnd.jupyter.widget-view+json": {
       "model_id": "1147755ac2f44aa5b908b6c380c3ee21",
       "version_major": 2,
       "version_minor": 0
      },
      "text/plain": [
       "Lime attribution:   0%|          | 0/25 [00:00<?, ?it/s]"
      ]
     },
     "metadata": {},
     "output_type": "display_data"
    },
    {
     "name": "stderr",
     "output_type": "stream",
     "text": [
      "/home/zhengyang/Desktop/Git_resp_limesegment/classifiers/ResNet.py:149: UserWarning: Implicit dimension choice for softmax has been deprecated. Change the call to include dim=X as an argument.\n",
      "  output_layer = self.softmax(output_layer)\n"
     ]
    },
    {
     "data": {
      "application/vnd.jupyter.widget-view+json": {
       "model_id": "0c59fd7cd23740b59d331d1a619c4570",
       "version_major": 2,
       "version_minor": 0
      },
      "text/plain": [
       "Lime attribution:   0%|          | 0/25 [00:00<?, ?it/s]"
      ]
     },
     "metadata": {},
     "output_type": "display_data"
    },
    {
     "name": "stderr",
     "output_type": "stream",
     "text": [
      "/home/zhengyang/Desktop/Git_resp_limesegment/classifiers/ResNet.py:149: UserWarning: Implicit dimension choice for softmax has been deprecated. Change the call to include dim=X as an argument.\n",
      "  output_layer = self.softmax(output_layer)\n"
     ]
    },
    {
     "data": {
      "application/vnd.jupyter.widget-view+json": {
       "model_id": "ecc2b31ac8df4d84aabb24c6a680aa77",
       "version_major": 2,
       "version_minor": 0
      },
      "text/plain": [
       "Lime attribution:   0%|          | 0/25 [00:00<?, ?it/s]"
      ]
     },
     "metadata": {},
     "output_type": "display_data"
    },
    {
     "name": "stderr",
     "output_type": "stream",
     "text": [
      "/home/zhengyang/Desktop/Git_resp_limesegment/classifiers/ResNet.py:149: UserWarning: Implicit dimension choice for softmax has been deprecated. Change the call to include dim=X as an argument.\n",
      "  output_layer = self.softmax(output_layer)\n"
     ]
    },
    {
     "data": {
      "application/vnd.jupyter.widget-view+json": {
       "model_id": "accd752a79874f3a8175b60a88f05f81",
       "version_major": 2,
       "version_minor": 0
      },
      "text/plain": [
       "Lime attribution:   0%|          | 0/25 [00:00<?, ?it/s]"
      ]
     },
     "metadata": {},
     "output_type": "display_data"
    },
    {
     "name": "stderr",
     "output_type": "stream",
     "text": [
      "/home/zhengyang/Desktop/Git_resp_limesegment/classifiers/ResNet.py:149: UserWarning: Implicit dimension choice for softmax has been deprecated. Change the call to include dim=X as an argument.\n",
      "  output_layer = self.softmax(output_layer)\n"
     ]
    },
    {
     "data": {
      "application/vnd.jupyter.widget-view+json": {
       "model_id": "3a44533667854758946fef86287072d9",
       "version_major": 2,
       "version_minor": 0
      },
      "text/plain": [
       "Lime attribution:   0%|          | 0/25 [00:00<?, ?it/s]"
      ]
     },
     "metadata": {},
     "output_type": "display_data"
    },
    {
     "name": "stderr",
     "output_type": "stream",
     "text": [
      "/home/zhengyang/Desktop/Git_resp_limesegment/classifiers/ResNet.py:149: UserWarning: Implicit dimension choice for softmax has been deprecated. Change the call to include dim=X as an argument.\n",
      "  output_layer = self.softmax(output_layer)\n"
     ]
    },
    {
     "data": {
      "application/vnd.jupyter.widget-view+json": {
       "model_id": "3b992e282b1441e3862923802bf20fa2",
       "version_major": 2,
       "version_minor": 0
      },
      "text/plain": [
       "Lime attribution:   0%|          | 0/25 [00:00<?, ?it/s]"
      ]
     },
     "metadata": {},
     "output_type": "display_data"
    },
    {
     "name": "stderr",
     "output_type": "stream",
     "text": [
      "/home/zhengyang/Desktop/Git_resp_limesegment/classifiers/ResNet.py:149: UserWarning: Implicit dimension choice for softmax has been deprecated. Change the call to include dim=X as an argument.\n",
      "  output_layer = self.softmax(output_layer)\n"
     ]
    },
    {
     "data": {
      "application/vnd.jupyter.widget-view+json": {
       "model_id": "c0ae90e75a2249d68c8ebedae3befaaa",
       "version_major": 2,
       "version_minor": 0
      },
      "text/plain": [
       "Lime attribution:   0%|          | 0/25 [00:00<?, ?it/s]"
      ]
     },
     "metadata": {},
     "output_type": "display_data"
    },
    {
     "name": "stderr",
     "output_type": "stream",
     "text": [
      "/home/zhengyang/Desktop/Git_resp_limesegment/classifiers/ResNet.py:149: UserWarning: Implicit dimension choice for softmax has been deprecated. Change the call to include dim=X as an argument.\n",
      "  output_layer = self.softmax(output_layer)\n"
     ]
    },
    {
     "data": {
      "application/vnd.jupyter.widget-view+json": {
       "model_id": "87b62c4ae0d14f01b084306bf4b3c9fc",
       "version_major": 2,
       "version_minor": 0
      },
      "text/plain": [
       "Lime attribution:   0%|          | 0/25 [00:00<?, ?it/s]"
      ]
     },
     "metadata": {},
     "output_type": "display_data"
    },
    {
     "name": "stderr",
     "output_type": "stream",
     "text": [
      "/home/zhengyang/Desktop/Git_resp_limesegment/classifiers/ResNet.py:149: UserWarning: Implicit dimension choice for softmax has been deprecated. Change the call to include dim=X as an argument.\n",
      "  output_layer = self.softmax(output_layer)\n"
     ]
    },
    {
     "data": {
      "application/vnd.jupyter.widget-view+json": {
       "model_id": "b050f6492ad544e9b26ac912fb55da9d",
       "version_major": 2,
       "version_minor": 0
      },
      "text/plain": [
       "Lime attribution:   0%|          | 0/25 [00:00<?, ?it/s]"
      ]
     },
     "metadata": {},
     "output_type": "display_data"
    },
    {
     "name": "stderr",
     "output_type": "stream",
     "text": [
      "/home/zhengyang/Desktop/Git_resp_limesegment/classifiers/ResNet.py:149: UserWarning: Implicit dimension choice for softmax has been deprecated. Change the call to include dim=X as an argument.\n",
      "  output_layer = self.softmax(output_layer)\n"
     ]
    },
    {
     "data": {
      "application/vnd.jupyter.widget-view+json": {
       "model_id": "57fe153c52724622a02ca2052c811cd8",
       "version_major": 2,
       "version_minor": 0
      },
      "text/plain": [
       "Lime attribution:   0%|          | 0/25 [00:00<?, ?it/s]"
      ]
     },
     "metadata": {},
     "output_type": "display_data"
    },
    {
     "name": "stderr",
     "output_type": "stream",
     "text": [
      "/home/zhengyang/Desktop/Git_resp_limesegment/classifiers/ResNet.py:149: UserWarning: Implicit dimension choice for softmax has been deprecated. Change the call to include dim=X as an argument.\n",
      "  output_layer = self.softmax(output_layer)\n"
     ]
    },
    {
     "data": {
      "application/vnd.jupyter.widget-view+json": {
       "model_id": "bfc4a8b431dd4a4ab38eab02307399ec",
       "version_major": 2,
       "version_minor": 0
      },
      "text/plain": [
       "Lime attribution:   0%|          | 0/25 [00:00<?, ?it/s]"
      ]
     },
     "metadata": {},
     "output_type": "display_data"
    },
    {
     "name": "stderr",
     "output_type": "stream",
     "text": [
      "/home/zhengyang/Desktop/Git_resp_limesegment/classifiers/ResNet.py:149: UserWarning: Implicit dimension choice for softmax has been deprecated. Change the call to include dim=X as an argument.\n",
      "  output_layer = self.softmax(output_layer)\n"
     ]
    },
    {
     "data": {
      "application/vnd.jupyter.widget-view+json": {
       "model_id": "cec2ac65f66a4ab082a2613497533bff",
       "version_major": 2,
       "version_minor": 0
      },
      "text/plain": [
       "Lime attribution:   0%|          | 0/25 [00:00<?, ?it/s]"
      ]
     },
     "metadata": {},
     "output_type": "display_data"
    },
    {
     "name": "stderr",
     "output_type": "stream",
     "text": [
      "/home/zhengyang/Desktop/Git_resp_limesegment/classifiers/ResNet.py:149: UserWarning: Implicit dimension choice for softmax has been deprecated. Change the call to include dim=X as an argument.\n",
      "  output_layer = self.softmax(output_layer)\n"
     ]
    },
    {
     "data": {
      "application/vnd.jupyter.widget-view+json": {
       "model_id": "81890e353883412599e0b2fc144cbf02",
       "version_major": 2,
       "version_minor": 0
      },
      "text/plain": [
       "Lime attribution:   0%|          | 0/25 [00:00<?, ?it/s]"
      ]
     },
     "metadata": {},
     "output_type": "display_data"
    },
    {
     "name": "stderr",
     "output_type": "stream",
     "text": [
      "/home/zhengyang/Desktop/Git_resp_limesegment/classifiers/ResNet.py:149: UserWarning: Implicit dimension choice for softmax has been deprecated. Change the call to include dim=X as an argument.\n",
      "  output_layer = self.softmax(output_layer)\n"
     ]
    },
    {
     "data": {
      "application/vnd.jupyter.widget-view+json": {
       "model_id": "d81ac121205a43209f56d76974216175",
       "version_major": 2,
       "version_minor": 0
      },
      "text/plain": [
       "Lime attribution:   0%|          | 0/25 [00:00<?, ?it/s]"
      ]
     },
     "metadata": {},
     "output_type": "display_data"
    },
    {
     "name": "stderr",
     "output_type": "stream",
     "text": [
      "/home/zhengyang/Desktop/Git_resp_limesegment/classifiers/ResNet.py:149: UserWarning: Implicit dimension choice for softmax has been deprecated. Change the call to include dim=X as an argument.\n",
      "  output_layer = self.softmax(output_layer)\n"
     ]
    },
    {
     "data": {
      "application/vnd.jupyter.widget-view+json": {
       "model_id": "876d040542654b78b1aaa80c5c38c72c",
       "version_major": 2,
       "version_minor": 0
      },
      "text/plain": [
       "Lime attribution:   0%|          | 0/25 [00:00<?, ?it/s]"
      ]
     },
     "metadata": {},
     "output_type": "display_data"
    },
    {
     "name": "stderr",
     "output_type": "stream",
     "text": [
      "/home/zhengyang/Desktop/Git_resp_limesegment/classifiers/ResNet.py:149: UserWarning: Implicit dimension choice for softmax has been deprecated. Change the call to include dim=X as an argument.\n",
      "  output_layer = self.softmax(output_layer)\n"
     ]
    },
    {
     "data": {
      "application/vnd.jupyter.widget-view+json": {
       "model_id": "ee431af41abd4ba5be66a6c4880ff5bc",
       "version_major": 2,
       "version_minor": 0
      },
      "text/plain": [
       "Lime attribution:   0%|          | 0/25 [00:00<?, ?it/s]"
      ]
     },
     "metadata": {},
     "output_type": "display_data"
    },
    {
     "name": "stderr",
     "output_type": "stream",
     "text": [
      "/home/zhengyang/Desktop/Git_resp_limesegment/classifiers/ResNet.py:149: UserWarning: Implicit dimension choice for softmax has been deprecated. Change the call to include dim=X as an argument.\n",
      "  output_layer = self.softmax(output_layer)\n"
     ]
    },
    {
     "data": {
      "application/vnd.jupyter.widget-view+json": {
       "model_id": "cc3ddabe39cd4d6591a3ec08bbcab8d8",
       "version_major": 2,
       "version_minor": 0
      },
      "text/plain": [
       "Lime attribution:   0%|          | 0/25 [00:00<?, ?it/s]"
      ]
     },
     "metadata": {},
     "output_type": "display_data"
    },
    {
     "name": "stderr",
     "output_type": "stream",
     "text": [
      "/home/zhengyang/Desktop/Git_resp_limesegment/classifiers/ResNet.py:149: UserWarning: Implicit dimension choice for softmax has been deprecated. Change the call to include dim=X as an argument.\n",
      "  output_layer = self.softmax(output_layer)\n"
     ]
    },
    {
     "data": {
      "application/vnd.jupyter.widget-view+json": {
       "model_id": "17dcea1567524b748c20d9de1327e256",
       "version_major": 2,
       "version_minor": 0
      },
      "text/plain": [
       "Lime attribution:   0%|          | 0/25 [00:00<?, ?it/s]"
      ]
     },
     "metadata": {},
     "output_type": "display_data"
    },
    {
     "name": "stderr",
     "output_type": "stream",
     "text": [
      "/home/zhengyang/Desktop/Git_resp_limesegment/classifiers/ResNet.py:149: UserWarning: Implicit dimension choice for softmax has been deprecated. Change the call to include dim=X as an argument.\n",
      "  output_layer = self.softmax(output_layer)\n"
     ]
    },
    {
     "data": {
      "application/vnd.jupyter.widget-view+json": {
       "model_id": "016c133126884a238b44078087705887",
       "version_major": 2,
       "version_minor": 0
      },
      "text/plain": [
       "Lime attribution:   0%|          | 0/25 [00:00<?, ?it/s]"
      ]
     },
     "metadata": {},
     "output_type": "display_data"
    },
    {
     "name": "stderr",
     "output_type": "stream",
     "text": [
      "/home/zhengyang/Desktop/Git_resp_limesegment/classifiers/ResNet.py:149: UserWarning: Implicit dimension choice for softmax has been deprecated. Change the call to include dim=X as an argument.\n",
      "  output_layer = self.softmax(output_layer)\n"
     ]
    },
    {
     "data": {
      "application/vnd.jupyter.widget-view+json": {
       "model_id": "361db1fc762948c6a6a3b17c28cdf778",
       "version_major": 2,
       "version_minor": 0
      },
      "text/plain": [
       "Lime attribution:   0%|          | 0/25 [00:00<?, ?it/s]"
      ]
     },
     "metadata": {},
     "output_type": "display_data"
    },
    {
     "name": "stderr",
     "output_type": "stream",
     "text": [
      "/home/zhengyang/Desktop/Git_resp_limesegment/classifiers/ResNet.py:149: UserWarning: Implicit dimension choice for softmax has been deprecated. Change the call to include dim=X as an argument.\n",
      "  output_layer = self.softmax(output_layer)\n"
     ]
    },
    {
     "data": {
      "application/vnd.jupyter.widget-view+json": {
       "model_id": "704055ecb69c4e92a4aa4bb4629cb43b",
       "version_major": 2,
       "version_minor": 0
      },
      "text/plain": [
       "Lime attribution:   0%|          | 0/25 [00:00<?, ?it/s]"
      ]
     },
     "metadata": {},
     "output_type": "display_data"
    },
    {
     "name": "stderr",
     "output_type": "stream",
     "text": [
      "/home/zhengyang/Desktop/Git_resp_limesegment/classifiers/ResNet.py:149: UserWarning: Implicit dimension choice for softmax has been deprecated. Change the call to include dim=X as an argument.\n",
      "  output_layer = self.softmax(output_layer)\n"
     ]
    },
    {
     "data": {
      "application/vnd.jupyter.widget-view+json": {
       "model_id": "64949f36ee8644f0a4448bc2419f4757",
       "version_major": 2,
       "version_minor": 0
      },
      "text/plain": [
       "Lime attribution:   0%|          | 0/25 [00:00<?, ?it/s]"
      ]
     },
     "metadata": {},
     "output_type": "display_data"
    },
    {
     "name": "stderr",
     "output_type": "stream",
     "text": [
      "/home/zhengyang/Desktop/Git_resp_limesegment/classifiers/ResNet.py:149: UserWarning: Implicit dimension choice for softmax has been deprecated. Change the call to include dim=X as an argument.\n",
      "  output_layer = self.softmax(output_layer)\n"
     ]
    },
    {
     "data": {
      "application/vnd.jupyter.widget-view+json": {
       "model_id": "8bccc91ee07747ec98f7bdc50de14338",
       "version_major": 2,
       "version_minor": 0
      },
      "text/plain": [
       "Lime attribution:   0%|          | 0/25 [00:00<?, ?it/s]"
      ]
     },
     "metadata": {},
     "output_type": "display_data"
    },
    {
     "name": "stderr",
     "output_type": "stream",
     "text": [
      "/home/zhengyang/Desktop/Git_resp_limesegment/classifiers/ResNet.py:149: UserWarning: Implicit dimension choice for softmax has been deprecated. Change the call to include dim=X as an argument.\n",
      "  output_layer = self.softmax(output_layer)\n"
     ]
    },
    {
     "data": {
      "application/vnd.jupyter.widget-view+json": {
       "model_id": "c2fcb549890743af8122dc44325e97d0",
       "version_major": 2,
       "version_minor": 0
      },
      "text/plain": [
       "Lime attribution:   0%|          | 0/25 [00:00<?, ?it/s]"
      ]
     },
     "metadata": {},
     "output_type": "display_data"
    },
    {
     "name": "stderr",
     "output_type": "stream",
     "text": [
      "/home/zhengyang/Desktop/Git_resp_limesegment/classifiers/ResNet.py:149: UserWarning: Implicit dimension choice for softmax has been deprecated. Change the call to include dim=X as an argument.\n",
      "  output_layer = self.softmax(output_layer)\n"
     ]
    },
    {
     "data": {
      "application/vnd.jupyter.widget-view+json": {
       "model_id": "8e42d3475846410da4ba1665aab9da14",
       "version_major": 2,
       "version_minor": 0
      },
      "text/plain": [
       "Lime attribution:   0%|          | 0/25 [00:00<?, ?it/s]"
      ]
     },
     "metadata": {},
     "output_type": "display_data"
    },
    {
     "name": "stderr",
     "output_type": "stream",
     "text": [
      "/home/zhengyang/Desktop/Git_resp_limesegment/classifiers/ResNet.py:149: UserWarning: Implicit dimension choice for softmax has been deprecated. Change the call to include dim=X as an argument.\n",
      "  output_layer = self.softmax(output_layer)\n"
     ]
    },
    {
     "data": {
      "application/vnd.jupyter.widget-view+json": {
       "model_id": "ce76c5b1856342009b7048a9666f3e59",
       "version_major": 2,
       "version_minor": 0
      },
      "text/plain": [
       "Lime attribution:   0%|          | 0/25 [00:00<?, ?it/s]"
      ]
     },
     "metadata": {},
     "output_type": "display_data"
    },
    {
     "name": "stderr",
     "output_type": "stream",
     "text": [
      "/home/zhengyang/Desktop/Git_resp_limesegment/classifiers/ResNet.py:149: UserWarning: Implicit dimension choice for softmax has been deprecated. Change the call to include dim=X as an argument.\n",
      "  output_layer = self.softmax(output_layer)\n"
     ]
    },
    {
     "data": {
      "application/vnd.jupyter.widget-view+json": {
       "model_id": "9972b03fb3a847ccadc16f65b016b0be",
       "version_major": 2,
       "version_minor": 0
      },
      "text/plain": [
       "Lime attribution:   0%|          | 0/25 [00:00<?, ?it/s]"
      ]
     },
     "metadata": {},
     "output_type": "display_data"
    },
    {
     "name": "stderr",
     "output_type": "stream",
     "text": [
      "/home/zhengyang/Desktop/Git_resp_limesegment/classifiers/ResNet.py:149: UserWarning: Implicit dimension choice for softmax has been deprecated. Change the call to include dim=X as an argument.\n",
      "  output_layer = self.softmax(output_layer)\n"
     ]
    },
    {
     "data": {
      "application/vnd.jupyter.widget-view+json": {
       "model_id": "fb44fd06422b489c88017a8dc11d7dd8",
       "version_major": 2,
       "version_minor": 0
      },
      "text/plain": [
       "Lime attribution:   0%|          | 0/25 [00:00<?, ?it/s]"
      ]
     },
     "metadata": {},
     "output_type": "display_data"
    },
    {
     "name": "stderr",
     "output_type": "stream",
     "text": [
      "/home/zhengyang/Desktop/Git_resp_limesegment/classifiers/ResNet.py:149: UserWarning: Implicit dimension choice for softmax has been deprecated. Change the call to include dim=X as an argument.\n",
      "  output_layer = self.softmax(output_layer)\n"
     ]
    },
    {
     "data": {
      "application/vnd.jupyter.widget-view+json": {
       "model_id": "4c35792620044050ac6bfb454786b3fd",
       "version_major": 2,
       "version_minor": 0
      },
      "text/plain": [
       "Lime attribution:   0%|          | 0/25 [00:00<?, ?it/s]"
      ]
     },
     "metadata": {},
     "output_type": "display_data"
    },
    {
     "name": "stderr",
     "output_type": "stream",
     "text": [
      "/home/zhengyang/Desktop/Git_resp_limesegment/classifiers/ResNet.py:149: UserWarning: Implicit dimension choice for softmax has been deprecated. Change the call to include dim=X as an argument.\n",
      "  output_layer = self.softmax(output_layer)\n"
     ]
    },
    {
     "data": {
      "application/vnd.jupyter.widget-view+json": {
       "model_id": "da7e297c94114ca1be1cac154081fae2",
       "version_major": 2,
       "version_minor": 0
      },
      "text/plain": [
       "Lime attribution:   0%|          | 0/25 [00:00<?, ?it/s]"
      ]
     },
     "metadata": {},
     "output_type": "display_data"
    },
    {
     "name": "stderr",
     "output_type": "stream",
     "text": [
      "/home/zhengyang/Desktop/Git_resp_limesegment/classifiers/ResNet.py:149: UserWarning: Implicit dimension choice for softmax has been deprecated. Change the call to include dim=X as an argument.\n",
      "  output_layer = self.softmax(output_layer)\n"
     ]
    },
    {
     "data": {
      "application/vnd.jupyter.widget-view+json": {
       "model_id": "513ba0621137446cb029126a1913e824",
       "version_major": 2,
       "version_minor": 0
      },
      "text/plain": [
       "Lime attribution:   0%|          | 0/25 [00:00<?, ?it/s]"
      ]
     },
     "metadata": {},
     "output_type": "display_data"
    },
    {
     "name": "stderr",
     "output_type": "stream",
     "text": [
      "/home/zhengyang/Desktop/Git_resp_limesegment/classifiers/ResNet.py:149: UserWarning: Implicit dimension choice for softmax has been deprecated. Change the call to include dim=X as an argument.\n",
      "  output_layer = self.softmax(output_layer)\n"
     ]
    },
    {
     "data": {
      "application/vnd.jupyter.widget-view+json": {
       "model_id": "405721d1b48e48f19dc60c057954a071",
       "version_major": 2,
       "version_minor": 0
      },
      "text/plain": [
       "Lime attribution:   0%|          | 0/25 [00:00<?, ?it/s]"
      ]
     },
     "metadata": {},
     "output_type": "display_data"
    },
    {
     "name": "stderr",
     "output_type": "stream",
     "text": [
      "/home/zhengyang/Desktop/Git_resp_limesegment/classifiers/ResNet.py:149: UserWarning: Implicit dimension choice for softmax has been deprecated. Change the call to include dim=X as an argument.\n",
      "  output_layer = self.softmax(output_layer)\n"
     ]
    },
    {
     "data": {
      "application/vnd.jupyter.widget-view+json": {
       "model_id": "5b8b440a5fd645f3840c359bfda8ab72",
       "version_major": 2,
       "version_minor": 0
      },
      "text/plain": [
       "Lime attribution:   0%|          | 0/25 [00:00<?, ?it/s]"
      ]
     },
     "metadata": {},
     "output_type": "display_data"
    },
    {
     "name": "stderr",
     "output_type": "stream",
     "text": [
      "/home/zhengyang/Desktop/Git_resp_limesegment/classifiers/ResNet.py:149: UserWarning: Implicit dimension choice for softmax has been deprecated. Change the call to include dim=X as an argument.\n",
      "  output_layer = self.softmax(output_layer)\n"
     ]
    },
    {
     "data": {
      "application/vnd.jupyter.widget-view+json": {
       "model_id": "6202e9ad3e894d3d9eb375412926a3ce",
       "version_major": 2,
       "version_minor": 0
      },
      "text/plain": [
       "Lime attribution:   0%|          | 0/25 [00:00<?, ?it/s]"
      ]
     },
     "metadata": {},
     "output_type": "display_data"
    },
    {
     "name": "stderr",
     "output_type": "stream",
     "text": [
      "/home/zhengyang/Desktop/Git_resp_limesegment/classifiers/ResNet.py:149: UserWarning: Implicit dimension choice for softmax has been deprecated. Change the call to include dim=X as an argument.\n",
      "  output_layer = self.softmax(output_layer)\n"
     ]
    },
    {
     "data": {
      "application/vnd.jupyter.widget-view+json": {
       "model_id": "c2309ef18bfe48ed8ff8aa73bb8b944e",
       "version_major": 2,
       "version_minor": 0
      },
      "text/plain": [
       "Lime attribution:   0%|          | 0/25 [00:00<?, ?it/s]"
      ]
     },
     "metadata": {},
     "output_type": "display_data"
    },
    {
     "name": "stderr",
     "output_type": "stream",
     "text": [
      "/home/zhengyang/Desktop/Git_resp_limesegment/classifiers/ResNet.py:149: UserWarning: Implicit dimension choice for softmax has been deprecated. Change the call to include dim=X as an argument.\n",
      "  output_layer = self.softmax(output_layer)\n"
     ]
    },
    {
     "data": {
      "application/vnd.jupyter.widget-view+json": {
       "model_id": "aa542078a28440578abb4ccbe776842e",
       "version_major": 2,
       "version_minor": 0
      },
      "text/plain": [
       "Lime attribution:   0%|          | 0/25 [00:00<?, ?it/s]"
      ]
     },
     "metadata": {},
     "output_type": "display_data"
    },
    {
     "name": "stderr",
     "output_type": "stream",
     "text": [
      "/home/zhengyang/Desktop/Git_resp_limesegment/classifiers/ResNet.py:149: UserWarning: Implicit dimension choice for softmax has been deprecated. Change the call to include dim=X as an argument.\n",
      "  output_layer = self.softmax(output_layer)\n"
     ]
    },
    {
     "data": {
      "application/vnd.jupyter.widget-view+json": {
       "model_id": "d2f1770ecaf64ae4be568fda41432f76",
       "version_major": 2,
       "version_minor": 0
      },
      "text/plain": [
       "Lime attribution:   0%|          | 0/25 [00:00<?, ?it/s]"
      ]
     },
     "metadata": {},
     "output_type": "display_data"
    },
    {
     "name": "stderr",
     "output_type": "stream",
     "text": [
      "/home/zhengyang/Desktop/Git_resp_limesegment/classifiers/ResNet.py:149: UserWarning: Implicit dimension choice for softmax has been deprecated. Change the call to include dim=X as an argument.\n",
      "  output_layer = self.softmax(output_layer)\n"
     ]
    },
    {
     "data": {
      "application/vnd.jupyter.widget-view+json": {
       "model_id": "2eaff9b68f024143b784b6730ef9f90d",
       "version_major": 2,
       "version_minor": 0
      },
      "text/plain": [
       "Lime attribution:   0%|          | 0/25 [00:00<?, ?it/s]"
      ]
     },
     "metadata": {},
     "output_type": "display_data"
    },
    {
     "name": "stderr",
     "output_type": "stream",
     "text": [
      "/home/zhengyang/Desktop/Git_resp_limesegment/classifiers/ResNet.py:149: UserWarning: Implicit dimension choice for softmax has been deprecated. Change the call to include dim=X as an argument.\n",
      "  output_layer = self.softmax(output_layer)\n"
     ]
    },
    {
     "data": {
      "application/vnd.jupyter.widget-view+json": {
       "model_id": "a36b659f765e45cbaa6be9b52f6502b0",
       "version_major": 2,
       "version_minor": 0
      },
      "text/plain": [
       "Lime attribution:   0%|          | 0/25 [00:00<?, ?it/s]"
      ]
     },
     "metadata": {},
     "output_type": "display_data"
    },
    {
     "name": "stderr",
     "output_type": "stream",
     "text": [
      "/home/zhengyang/Desktop/Git_resp_limesegment/classifiers/ResNet.py:149: UserWarning: Implicit dimension choice for softmax has been deprecated. Change the call to include dim=X as an argument.\n",
      "  output_layer = self.softmax(output_layer)\n"
     ]
    },
    {
     "data": {
      "application/vnd.jupyter.widget-view+json": {
       "model_id": "016069f2c56741f4a2030326603e6afe",
       "version_major": 2,
       "version_minor": 0
      },
      "text/plain": [
       "Lime attribution:   0%|          | 0/25 [00:00<?, ?it/s]"
      ]
     },
     "metadata": {},
     "output_type": "display_data"
    },
    {
     "name": "stderr",
     "output_type": "stream",
     "text": [
      "/home/zhengyang/Desktop/Git_resp_limesegment/classifiers/ResNet.py:149: UserWarning: Implicit dimension choice for softmax has been deprecated. Change the call to include dim=X as an argument.\n",
      "  output_layer = self.softmax(output_layer)\n"
     ]
    },
    {
     "data": {
      "application/vnd.jupyter.widget-view+json": {
       "model_id": "6991879cc96f43e2ba25b5bba4eddac8",
       "version_major": 2,
       "version_minor": 0
      },
      "text/plain": [
       "Lime attribution:   0%|          | 0/25 [00:00<?, ?it/s]"
      ]
     },
     "metadata": {},
     "output_type": "display_data"
    },
    {
     "name": "stderr",
     "output_type": "stream",
     "text": [
      "/home/zhengyang/Desktop/Git_resp_limesegment/classifiers/ResNet.py:149: UserWarning: Implicit dimension choice for softmax has been deprecated. Change the call to include dim=X as an argument.\n",
      "  output_layer = self.softmax(output_layer)\n"
     ]
    },
    {
     "data": {
      "application/vnd.jupyter.widget-view+json": {
       "model_id": "6b1cfa299eee45eb9006c1eec2d7a47b",
       "version_major": 2,
       "version_minor": 0
      },
      "text/plain": [
       "Lime attribution:   0%|          | 0/25 [00:00<?, ?it/s]"
      ]
     },
     "metadata": {},
     "output_type": "display_data"
    },
    {
     "name": "stderr",
     "output_type": "stream",
     "text": [
      "/home/zhengyang/Desktop/Git_resp_limesegment/classifiers/ResNet.py:149: UserWarning: Implicit dimension choice for softmax has been deprecated. Change the call to include dim=X as an argument.\n",
      "  output_layer = self.softmax(output_layer)\n"
     ]
    },
    {
     "data": {
      "application/vnd.jupyter.widget-view+json": {
       "model_id": "32ecceb1792648f096d3113b2e93de66",
       "version_major": 2,
       "version_minor": 0
      },
      "text/plain": [
       "Lime attribution:   0%|          | 0/25 [00:00<?, ?it/s]"
      ]
     },
     "metadata": {},
     "output_type": "display_data"
    },
    {
     "name": "stderr",
     "output_type": "stream",
     "text": [
      "/home/zhengyang/Desktop/Git_resp_limesegment/classifiers/ResNet.py:149: UserWarning: Implicit dimension choice for softmax has been deprecated. Change the call to include dim=X as an argument.\n",
      "  output_layer = self.softmax(output_layer)\n"
     ]
    },
    {
     "data": {
      "application/vnd.jupyter.widget-view+json": {
       "model_id": "71865fdb1b78498dadefaa47e9a2f05c",
       "version_major": 2,
       "version_minor": 0
      },
      "text/plain": [
       "Lime attribution:   0%|          | 0/25 [00:00<?, ?it/s]"
      ]
     },
     "metadata": {},
     "output_type": "display_data"
    },
    {
     "name": "stderr",
     "output_type": "stream",
     "text": [
      "/home/zhengyang/Desktop/Git_resp_limesegment/classifiers/ResNet.py:149: UserWarning: Implicit dimension choice for softmax has been deprecated. Change the call to include dim=X as an argument.\n",
      "  output_layer = self.softmax(output_layer)\n"
     ]
    },
    {
     "data": {
      "application/vnd.jupyter.widget-view+json": {
       "model_id": "48ecc4efc07d421fb595748e20a5f3e3",
       "version_major": 2,
       "version_minor": 0
      },
      "text/plain": [
       "Lime attribution:   0%|          | 0/25 [00:00<?, ?it/s]"
      ]
     },
     "metadata": {},
     "output_type": "display_data"
    },
    {
     "name": "stderr",
     "output_type": "stream",
     "text": [
      "/home/zhengyang/Desktop/Git_resp_limesegment/classifiers/ResNet.py:149: UserWarning: Implicit dimension choice for softmax has been deprecated. Change the call to include dim=X as an argument.\n",
      "  output_layer = self.softmax(output_layer)\n"
     ]
    },
    {
     "data": {
      "application/vnd.jupyter.widget-view+json": {
       "model_id": "50ebcecad49a4da39ee8595779839598",
       "version_major": 2,
       "version_minor": 0
      },
      "text/plain": [
       "Lime attribution:   0%|          | 0/25 [00:00<?, ?it/s]"
      ]
     },
     "metadata": {},
     "output_type": "display_data"
    },
    {
     "name": "stderr",
     "output_type": "stream",
     "text": [
      "/home/zhengyang/Desktop/Git_resp_limesegment/classifiers/ResNet.py:149: UserWarning: Implicit dimension choice for softmax has been deprecated. Change the call to include dim=X as an argument.\n",
      "  output_layer = self.softmax(output_layer)\n"
     ]
    },
    {
     "data": {
      "application/vnd.jupyter.widget-view+json": {
       "model_id": "6935b9756afb40c9837e4ce5f3dfd198",
       "version_major": 2,
       "version_minor": 0
      },
      "text/plain": [
       "Lime attribution:   0%|          | 0/25 [00:00<?, ?it/s]"
      ]
     },
     "metadata": {},
     "output_type": "display_data"
    },
    {
     "name": "stderr",
     "output_type": "stream",
     "text": [
      "/home/zhengyang/Desktop/Git_resp_limesegment/classifiers/ResNet.py:149: UserWarning: Implicit dimension choice for softmax has been deprecated. Change the call to include dim=X as an argument.\n",
      "  output_layer = self.softmax(output_layer)\n"
     ]
    },
    {
     "data": {
      "application/vnd.jupyter.widget-view+json": {
       "model_id": "0071d05b00a247c5ac32bad897dcf277",
       "version_major": 2,
       "version_minor": 0
      },
      "text/plain": [
       "Lime attribution:   0%|          | 0/25 [00:00<?, ?it/s]"
      ]
     },
     "metadata": {},
     "output_type": "display_data"
    },
    {
     "name": "stderr",
     "output_type": "stream",
     "text": [
      "/home/zhengyang/Desktop/Git_resp_limesegment/classifiers/ResNet.py:149: UserWarning: Implicit dimension choice for softmax has been deprecated. Change the call to include dim=X as an argument.\n",
      "  output_layer = self.softmax(output_layer)\n"
     ]
    },
    {
     "data": {
      "application/vnd.jupyter.widget-view+json": {
       "model_id": "c8a7a9ed1a69493f84149a166978defb",
       "version_major": 2,
       "version_minor": 0
      },
      "text/plain": [
       "Lime attribution:   0%|          | 0/25 [00:00<?, ?it/s]"
      ]
     },
     "metadata": {},
     "output_type": "display_data"
    },
    {
     "name": "stderr",
     "output_type": "stream",
     "text": [
      "/home/zhengyang/Desktop/Git_resp_limesegment/classifiers/ResNet.py:149: UserWarning: Implicit dimension choice for softmax has been deprecated. Change the call to include dim=X as an argument.\n",
      "  output_layer = self.softmax(output_layer)\n"
     ]
    },
    {
     "data": {
      "application/vnd.jupyter.widget-view+json": {
       "model_id": "77138f609ffb4b5e82036247f27d806b",
       "version_major": 2,
       "version_minor": 0
      },
      "text/plain": [
       "Lime attribution:   0%|          | 0/25 [00:00<?, ?it/s]"
      ]
     },
     "metadata": {},
     "output_type": "display_data"
    },
    {
     "name": "stderr",
     "output_type": "stream",
     "text": [
      "/home/zhengyang/Desktop/Git_resp_limesegment/classifiers/ResNet.py:149: UserWarning: Implicit dimension choice for softmax has been deprecated. Change the call to include dim=X as an argument.\n",
      "  output_layer = self.softmax(output_layer)\n"
     ]
    },
    {
     "data": {
      "application/vnd.jupyter.widget-view+json": {
       "model_id": "4929232d665243ca9ca6677ba5efb505",
       "version_major": 2,
       "version_minor": 0
      },
      "text/plain": [
       "Lime attribution:   0%|          | 0/25 [00:00<?, ?it/s]"
      ]
     },
     "metadata": {},
     "output_type": "display_data"
    },
    {
     "name": "stderr",
     "output_type": "stream",
     "text": [
      "/home/zhengyang/Desktop/Git_resp_limesegment/classifiers/ResNet.py:149: UserWarning: Implicit dimension choice for softmax has been deprecated. Change the call to include dim=X as an argument.\n",
      "  output_layer = self.softmax(output_layer)\n"
     ]
    },
    {
     "data": {
      "application/vnd.jupyter.widget-view+json": {
       "model_id": "e0d5ac20cf0e46ffb242dc1c244bd002",
       "version_major": 2,
       "version_minor": 0
      },
      "text/plain": [
       "Lime attribution:   0%|          | 0/25 [00:00<?, ?it/s]"
      ]
     },
     "metadata": {},
     "output_type": "display_data"
    },
    {
     "name": "stderr",
     "output_type": "stream",
     "text": [
      "/home/zhengyang/Desktop/Git_resp_limesegment/classifiers/ResNet.py:149: UserWarning: Implicit dimension choice for softmax has been deprecated. Change the call to include dim=X as an argument.\n",
      "  output_layer = self.softmax(output_layer)\n"
     ]
    },
    {
     "data": {
      "application/vnd.jupyter.widget-view+json": {
       "model_id": "245dede51e8046a3b55f023f82d15ded",
       "version_major": 2,
       "version_minor": 0
      },
      "text/plain": [
       "Lime attribution:   0%|          | 0/25 [00:00<?, ?it/s]"
      ]
     },
     "metadata": {},
     "output_type": "display_data"
    },
    {
     "name": "stderr",
     "output_type": "stream",
     "text": [
      "/home/zhengyang/Desktop/Git_resp_limesegment/classifiers/ResNet.py:149: UserWarning: Implicit dimension choice for softmax has been deprecated. Change the call to include dim=X as an argument.\n",
      "  output_layer = self.softmax(output_layer)\n"
     ]
    },
    {
     "data": {
      "application/vnd.jupyter.widget-view+json": {
       "model_id": "6854895347854ec9a32a287a4216ab31",
       "version_major": 2,
       "version_minor": 0
      },
      "text/plain": [
       "Lime attribution:   0%|          | 0/25 [00:00<?, ?it/s]"
      ]
     },
     "metadata": {},
     "output_type": "display_data"
    },
    {
     "name": "stderr",
     "output_type": "stream",
     "text": [
      "/home/zhengyang/Desktop/Git_resp_limesegment/classifiers/ResNet.py:149: UserWarning: Implicit dimension choice for softmax has been deprecated. Change the call to include dim=X as an argument.\n",
      "  output_layer = self.softmax(output_layer)\n"
     ]
    },
    {
     "data": {
      "application/vnd.jupyter.widget-view+json": {
       "model_id": "2c121264bba04aaa8befa7b755017e2b",
       "version_major": 2,
       "version_minor": 0
      },
      "text/plain": [
       "Lime attribution:   0%|          | 0/25 [00:00<?, ?it/s]"
      ]
     },
     "metadata": {},
     "output_type": "display_data"
    },
    {
     "name": "stderr",
     "output_type": "stream",
     "text": [
      "/home/zhengyang/Desktop/Git_resp_limesegment/classifiers/ResNet.py:149: UserWarning: Implicit dimension choice for softmax has been deprecated. Change the call to include dim=X as an argument.\n",
      "  output_layer = self.softmax(output_layer)\n"
     ]
    },
    {
     "data": {
      "application/vnd.jupyter.widget-view+json": {
       "model_id": "9b1f27203a324f4688decb6c06917168",
       "version_major": 2,
       "version_minor": 0
      },
      "text/plain": [
       "Lime attribution:   0%|          | 0/25 [00:00<?, ?it/s]"
      ]
     },
     "metadata": {},
     "output_type": "display_data"
    },
    {
     "name": "stderr",
     "output_type": "stream",
     "text": [
      "/home/zhengyang/Desktop/Git_resp_limesegment/classifiers/ResNet.py:149: UserWarning: Implicit dimension choice for softmax has been deprecated. Change the call to include dim=X as an argument.\n",
      "  output_layer = self.softmax(output_layer)\n"
     ]
    },
    {
     "data": {
      "application/vnd.jupyter.widget-view+json": {
       "model_id": "67b4b5e028734a618a6a9623504e21ac",
       "version_major": 2,
       "version_minor": 0
      },
      "text/plain": [
       "Lime attribution:   0%|          | 0/25 [00:00<?, ?it/s]"
      ]
     },
     "metadata": {},
     "output_type": "display_data"
    },
    {
     "name": "stderr",
     "output_type": "stream",
     "text": [
      "/home/zhengyang/Desktop/Git_resp_limesegment/classifiers/ResNet.py:149: UserWarning: Implicit dimension choice for softmax has been deprecated. Change the call to include dim=X as an argument.\n",
      "  output_layer = self.softmax(output_layer)\n"
     ]
    },
    {
     "data": {
      "application/vnd.jupyter.widget-view+json": {
       "model_id": "7a7c4f423fbf4bfba0a1e238b8ce6dd7",
       "version_major": 2,
       "version_minor": 0
      },
      "text/plain": [
       "Lime attribution:   0%|          | 0/25 [00:00<?, ?it/s]"
      ]
     },
     "metadata": {},
     "output_type": "display_data"
    },
    {
     "name": "stderr",
     "output_type": "stream",
     "text": [
      "/home/zhengyang/Desktop/Git_resp_limesegment/classifiers/ResNet.py:149: UserWarning: Implicit dimension choice for softmax has been deprecated. Change the call to include dim=X as an argument.\n",
      "  output_layer = self.softmax(output_layer)\n"
     ]
    },
    {
     "data": {
      "application/vnd.jupyter.widget-view+json": {
       "model_id": "359cfd5aba184d0aa668b6733cd12503",
       "version_major": 2,
       "version_minor": 0
      },
      "text/plain": [
       "Lime attribution:   0%|          | 0/25 [00:00<?, ?it/s]"
      ]
     },
     "metadata": {},
     "output_type": "display_data"
    },
    {
     "name": "stderr",
     "output_type": "stream",
     "text": [
      "/home/zhengyang/Desktop/Git_resp_limesegment/classifiers/ResNet.py:149: UserWarning: Implicit dimension choice for softmax has been deprecated. Change the call to include dim=X as an argument.\n",
      "  output_layer = self.softmax(output_layer)\n"
     ]
    },
    {
     "data": {
      "application/vnd.jupyter.widget-view+json": {
       "model_id": "5a4daf9e5b174f79b272957c25479c21",
       "version_major": 2,
       "version_minor": 0
      },
      "text/plain": [
       "Lime attribution:   0%|          | 0/25 [00:00<?, ?it/s]"
      ]
     },
     "metadata": {},
     "output_type": "display_data"
    },
    {
     "name": "stderr",
     "output_type": "stream",
     "text": [
      "/home/zhengyang/Desktop/Git_resp_limesegment/classifiers/ResNet.py:149: UserWarning: Implicit dimension choice for softmax has been deprecated. Change the call to include dim=X as an argument.\n",
      "  output_layer = self.softmax(output_layer)\n"
     ]
    },
    {
     "data": {
      "application/vnd.jupyter.widget-view+json": {
       "model_id": "a9bdc0fc91e9489a86286e59ceef9cec",
       "version_major": 2,
       "version_minor": 0
      },
      "text/plain": [
       "Lime attribution:   0%|          | 0/25 [00:00<?, ?it/s]"
      ]
     },
     "metadata": {},
     "output_type": "display_data"
    },
    {
     "name": "stderr",
     "output_type": "stream",
     "text": [
      "/home/zhengyang/Desktop/Git_resp_limesegment/classifiers/ResNet.py:149: UserWarning: Implicit dimension choice for softmax has been deprecated. Change the call to include dim=X as an argument.\n",
      "  output_layer = self.softmax(output_layer)\n"
     ]
    },
    {
     "data": {
      "application/vnd.jupyter.widget-view+json": {
       "model_id": "3a8ad1c12eb846c985ed4a23804cb675",
       "version_major": 2,
       "version_minor": 0
      },
      "text/plain": [
       "Lime attribution:   0%|          | 0/25 [00:00<?, ?it/s]"
      ]
     },
     "metadata": {},
     "output_type": "display_data"
    },
    {
     "name": "stderr",
     "output_type": "stream",
     "text": [
      "/home/zhengyang/Desktop/Git_resp_limesegment/classifiers/ResNet.py:149: UserWarning: Implicit dimension choice for softmax has been deprecated. Change the call to include dim=X as an argument.\n",
      "  output_layer = self.softmax(output_layer)\n"
     ]
    },
    {
     "data": {
      "application/vnd.jupyter.widget-view+json": {
       "model_id": "a171792cd0f749919dd01efb4b7f3b04",
       "version_major": 2,
       "version_minor": 0
      },
      "text/plain": [
       "Lime attribution:   0%|          | 0/25 [00:00<?, ?it/s]"
      ]
     },
     "metadata": {},
     "output_type": "display_data"
    },
    {
     "name": "stderr",
     "output_type": "stream",
     "text": [
      "/home/zhengyang/Desktop/Git_resp_limesegment/classifiers/ResNet.py:149: UserWarning: Implicit dimension choice for softmax has been deprecated. Change the call to include dim=X as an argument.\n",
      "  output_layer = self.softmax(output_layer)\n"
     ]
    },
    {
     "data": {
      "application/vnd.jupyter.widget-view+json": {
       "model_id": "2e18504bda504b9f912fda74d34d9ea7",
       "version_major": 2,
       "version_minor": 0
      },
      "text/plain": [
       "Lime attribution:   0%|          | 0/25 [00:00<?, ?it/s]"
      ]
     },
     "metadata": {},
     "output_type": "display_data"
    },
    {
     "name": "stderr",
     "output_type": "stream",
     "text": [
      "/home/zhengyang/Desktop/Git_resp_limesegment/classifiers/ResNet.py:149: UserWarning: Implicit dimension choice for softmax has been deprecated. Change the call to include dim=X as an argument.\n",
      "  output_layer = self.softmax(output_layer)\n"
     ]
    },
    {
     "data": {
      "application/vnd.jupyter.widget-view+json": {
       "model_id": "6ca0e5df6a794d01b1a4a09e0721c28f",
       "version_major": 2,
       "version_minor": 0
      },
      "text/plain": [
       "Lime attribution:   0%|          | 0/25 [00:00<?, ?it/s]"
      ]
     },
     "metadata": {},
     "output_type": "display_data"
    },
    {
     "name": "stderr",
     "output_type": "stream",
     "text": [
      "/home/zhengyang/Desktop/Git_resp_limesegment/classifiers/ResNet.py:149: UserWarning: Implicit dimension choice for softmax has been deprecated. Change the call to include dim=X as an argument.\n",
      "  output_layer = self.softmax(output_layer)\n"
     ]
    },
    {
     "data": {
      "application/vnd.jupyter.widget-view+json": {
       "model_id": "5f85d0cd28144dadb01824c0757c7ee2",
       "version_major": 2,
       "version_minor": 0
      },
      "text/plain": [
       "Lime attribution:   0%|          | 0/25 [00:00<?, ?it/s]"
      ]
     },
     "metadata": {},
     "output_type": "display_data"
    },
    {
     "name": "stderr",
     "output_type": "stream",
     "text": [
      "/home/zhengyang/Desktop/Git_resp_limesegment/classifiers/ResNet.py:149: UserWarning: Implicit dimension choice for softmax has been deprecated. Change the call to include dim=X as an argument.\n",
      "  output_layer = self.softmax(output_layer)\n"
     ]
    },
    {
     "data": {
      "application/vnd.jupyter.widget-view+json": {
       "model_id": "e84adc63548949fbb7a5ebc10a6a462c",
       "version_major": 2,
       "version_minor": 0
      },
      "text/plain": [
       "Lime attribution:   0%|          | 0/25 [00:00<?, ?it/s]"
      ]
     },
     "metadata": {},
     "output_type": "display_data"
    },
    {
     "name": "stderr",
     "output_type": "stream",
     "text": [
      "/home/zhengyang/Desktop/Git_resp_limesegment/classifiers/ResNet.py:149: UserWarning: Implicit dimension choice for softmax has been deprecated. Change the call to include dim=X as an argument.\n",
      "  output_layer = self.softmax(output_layer)\n"
     ]
    },
    {
     "data": {
      "application/vnd.jupyter.widget-view+json": {
       "model_id": "2f7a96636ab64d9da728f5d51e7d85ab",
       "version_major": 2,
       "version_minor": 0
      },
      "text/plain": [
       "Lime attribution:   0%|          | 0/25 [00:00<?, ?it/s]"
      ]
     },
     "metadata": {},
     "output_type": "display_data"
    },
    {
     "name": "stderr",
     "output_type": "stream",
     "text": [
      "/home/zhengyang/Desktop/Git_resp_limesegment/classifiers/ResNet.py:149: UserWarning: Implicit dimension choice for softmax has been deprecated. Change the call to include dim=X as an argument.\n",
      "  output_layer = self.softmax(output_layer)\n"
     ]
    },
    {
     "data": {
      "application/vnd.jupyter.widget-view+json": {
       "model_id": "f4e2b072e8714b17b0494021c3c612b3",
       "version_major": 2,
       "version_minor": 0
      },
      "text/plain": [
       "Lime attribution:   0%|          | 0/25 [00:00<?, ?it/s]"
      ]
     },
     "metadata": {},
     "output_type": "display_data"
    },
    {
     "name": "stderr",
     "output_type": "stream",
     "text": [
      "/home/zhengyang/Desktop/Git_resp_limesegment/classifiers/ResNet.py:149: UserWarning: Implicit dimension choice for softmax has been deprecated. Change the call to include dim=X as an argument.\n",
      "  output_layer = self.softmax(output_layer)\n"
     ]
    },
    {
     "data": {
      "application/vnd.jupyter.widget-view+json": {
       "model_id": "cf33c06bfb694f50a672ee9a8a1b4a0e",
       "version_major": 2,
       "version_minor": 0
      },
      "text/plain": [
       "Lime attribution:   0%|          | 0/25 [00:00<?, ?it/s]"
      ]
     },
     "metadata": {},
     "output_type": "display_data"
    },
    {
     "name": "stderr",
     "output_type": "stream",
     "text": [
      "/home/zhengyang/Desktop/Git_resp_limesegment/classifiers/ResNet.py:149: UserWarning: Implicit dimension choice for softmax has been deprecated. Change the call to include dim=X as an argument.\n",
      "  output_layer = self.softmax(output_layer)\n"
     ]
    },
    {
     "data": {
      "application/vnd.jupyter.widget-view+json": {
       "model_id": "05debec2cce54a648d11d02a1c3dc3c6",
       "version_major": 2,
       "version_minor": 0
      },
      "text/plain": [
       "Lime attribution:   0%|          | 0/25 [00:00<?, ?it/s]"
      ]
     },
     "metadata": {},
     "output_type": "display_data"
    },
    {
     "name": "stderr",
     "output_type": "stream",
     "text": [
      "/home/zhengyang/Desktop/Git_resp_limesegment/classifiers/ResNet.py:149: UserWarning: Implicit dimension choice for softmax has been deprecated. Change the call to include dim=X as an argument.\n",
      "  output_layer = self.softmax(output_layer)\n"
     ]
    },
    {
     "data": {
      "application/vnd.jupyter.widget-view+json": {
       "model_id": "6eb62693c55946699a98d08ce69fa13a",
       "version_major": 2,
       "version_minor": 0
      },
      "text/plain": [
       "Lime attribution:   0%|          | 0/25 [00:00<?, ?it/s]"
      ]
     },
     "metadata": {},
     "output_type": "display_data"
    },
    {
     "name": "stderr",
     "output_type": "stream",
     "text": [
      "/home/zhengyang/Desktop/Git_resp_limesegment/classifiers/ResNet.py:149: UserWarning: Implicit dimension choice for softmax has been deprecated. Change the call to include dim=X as an argument.\n",
      "  output_layer = self.softmax(output_layer)\n"
     ]
    },
    {
     "data": {
      "application/vnd.jupyter.widget-view+json": {
       "model_id": "66f701fe2b014cfca20a56db85b86633",
       "version_major": 2,
       "version_minor": 0
      },
      "text/plain": [
       "Lime attribution:   0%|          | 0/25 [00:00<?, ?it/s]"
      ]
     },
     "metadata": {},
     "output_type": "display_data"
    },
    {
     "name": "stderr",
     "output_type": "stream",
     "text": [
      "/home/zhengyang/Desktop/Git_resp_limesegment/classifiers/ResNet.py:149: UserWarning: Implicit dimension choice for softmax has been deprecated. Change the call to include dim=X as an argument.\n",
      "  output_layer = self.softmax(output_layer)\n"
     ]
    },
    {
     "data": {
      "application/vnd.jupyter.widget-view+json": {
       "model_id": "04008dd7b779404e97ec2ab2661a605f",
       "version_major": 2,
       "version_minor": 0
      },
      "text/plain": [
       "Lime attribution:   0%|          | 0/25 [00:00<?, ?it/s]"
      ]
     },
     "metadata": {},
     "output_type": "display_data"
    },
    {
     "name": "stderr",
     "output_type": "stream",
     "text": [
      "/home/zhengyang/Desktop/Git_resp_limesegment/classifiers/ResNet.py:149: UserWarning: Implicit dimension choice for softmax has been deprecated. Change the call to include dim=X as an argument.\n",
      "  output_layer = self.softmax(output_layer)\n"
     ]
    },
    {
     "data": {
      "application/vnd.jupyter.widget-view+json": {
       "model_id": "4267c688124b45c8b8e0559e4a7abd99",
       "version_major": 2,
       "version_minor": 0
      },
      "text/plain": [
       "Lime attribution:   0%|          | 0/25 [00:00<?, ?it/s]"
      ]
     },
     "metadata": {},
     "output_type": "display_data"
    },
    {
     "name": "stderr",
     "output_type": "stream",
     "text": [
      "/home/zhengyang/Desktop/Git_resp_limesegment/classifiers/ResNet.py:149: UserWarning: Implicit dimension choice for softmax has been deprecated. Change the call to include dim=X as an argument.\n",
      "  output_layer = self.softmax(output_layer)\n"
     ]
    },
    {
     "data": {
      "application/vnd.jupyter.widget-view+json": {
       "model_id": "4c119435d6c142e99cacb176b13f4cd8",
       "version_major": 2,
       "version_minor": 0
      },
      "text/plain": [
       "Lime attribution:   0%|          | 0/25 [00:00<?, ?it/s]"
      ]
     },
     "metadata": {},
     "output_type": "display_data"
    },
    {
     "name": "stderr",
     "output_type": "stream",
     "text": [
      "/home/zhengyang/Desktop/Git_resp_limesegment/classifiers/ResNet.py:149: UserWarning: Implicit dimension choice for softmax has been deprecated. Change the call to include dim=X as an argument.\n",
      "  output_layer = self.softmax(output_layer)\n"
     ]
    },
    {
     "data": {
      "application/vnd.jupyter.widget-view+json": {
       "model_id": "98fcb99a772b4898b211c7df5138350d",
       "version_major": 2,
       "version_minor": 0
      },
      "text/plain": [
       "Lime attribution:   0%|          | 0/25 [00:00<?, ?it/s]"
      ]
     },
     "metadata": {},
     "output_type": "display_data"
    },
    {
     "name": "stderr",
     "output_type": "stream",
     "text": [
      "/home/zhengyang/Desktop/Git_resp_limesegment/classifiers/ResNet.py:149: UserWarning: Implicit dimension choice for softmax has been deprecated. Change the call to include dim=X as an argument.\n",
      "  output_layer = self.softmax(output_layer)\n"
     ]
    },
    {
     "data": {
      "application/vnd.jupyter.widget-view+json": {
       "model_id": "9c66e025bf4a4174b6639c0ecb1f1c69",
       "version_major": 2,
       "version_minor": 0
      },
      "text/plain": [
       "Lime attribution:   0%|          | 0/25 [00:00<?, ?it/s]"
      ]
     },
     "metadata": {},
     "output_type": "display_data"
    },
    {
     "name": "stderr",
     "output_type": "stream",
     "text": [
      "/home/zhengyang/Desktop/Git_resp_limesegment/classifiers/ResNet.py:149: UserWarning: Implicit dimension choice for softmax has been deprecated. Change the call to include dim=X as an argument.\n",
      "  output_layer = self.softmax(output_layer)\n"
     ]
    },
    {
     "data": {
      "application/vnd.jupyter.widget-view+json": {
       "model_id": "3e8d8a85034147c7ac69794ec2c16547",
       "version_major": 2,
       "version_minor": 0
      },
      "text/plain": [
       "Lime attribution:   0%|          | 0/25 [00:00<?, ?it/s]"
      ]
     },
     "metadata": {},
     "output_type": "display_data"
    },
    {
     "name": "stderr",
     "output_type": "stream",
     "text": [
      "/home/zhengyang/Desktop/Git_resp_limesegment/classifiers/ResNet.py:149: UserWarning: Implicit dimension choice for softmax has been deprecated. Change the call to include dim=X as an argument.\n",
      "  output_layer = self.softmax(output_layer)\n"
     ]
    },
    {
     "data": {
      "application/vnd.jupyter.widget-view+json": {
       "model_id": "390e73fa0ee6439397fa78621bf42b8d",
       "version_major": 2,
       "version_minor": 0
      },
      "text/plain": [
       "Lime attribution:   0%|          | 0/25 [00:00<?, ?it/s]"
      ]
     },
     "metadata": {},
     "output_type": "display_data"
    },
    {
     "name": "stderr",
     "output_type": "stream",
     "text": [
      "/home/zhengyang/Desktop/Git_resp_limesegment/classifiers/ResNet.py:149: UserWarning: Implicit dimension choice for softmax has been deprecated. Change the call to include dim=X as an argument.\n",
      "  output_layer = self.softmax(output_layer)\n"
     ]
    },
    {
     "data": {
      "application/vnd.jupyter.widget-view+json": {
       "model_id": "73e4833d45994ec68632f97744eab851",
       "version_major": 2,
       "version_minor": 0
      },
      "text/plain": [
       "Lime attribution:   0%|          | 0/25 [00:00<?, ?it/s]"
      ]
     },
     "metadata": {},
     "output_type": "display_data"
    },
    {
     "name": "stderr",
     "output_type": "stream",
     "text": [
      "/home/zhengyang/Desktop/Git_resp_limesegment/classifiers/ResNet.py:149: UserWarning: Implicit dimension choice for softmax has been deprecated. Change the call to include dim=X as an argument.\n",
      "  output_layer = self.softmax(output_layer)\n"
     ]
    },
    {
     "data": {
      "application/vnd.jupyter.widget-view+json": {
       "model_id": "58f57c2915654adea9624efe08b5ac2a",
       "version_major": 2,
       "version_minor": 0
      },
      "text/plain": [
       "Lime attribution:   0%|          | 0/25 [00:00<?, ?it/s]"
      ]
     },
     "metadata": {},
     "output_type": "display_data"
    },
    {
     "name": "stderr",
     "output_type": "stream",
     "text": [
      "/home/zhengyang/Desktop/Git_resp_limesegment/classifiers/ResNet.py:149: UserWarning: Implicit dimension choice for softmax has been deprecated. Change the call to include dim=X as an argument.\n",
      "  output_layer = self.softmax(output_layer)\n"
     ]
    },
    {
     "data": {
      "application/vnd.jupyter.widget-view+json": {
       "model_id": "b06db4642651475286a8ad89c7ba3e5c",
       "version_major": 2,
       "version_minor": 0
      },
      "text/plain": [
       "Lime attribution:   0%|          | 0/25 [00:00<?, ?it/s]"
      ]
     },
     "metadata": {},
     "output_type": "display_data"
    },
    {
     "name": "stderr",
     "output_type": "stream",
     "text": [
      "/home/zhengyang/Desktop/Git_resp_limesegment/classifiers/ResNet.py:149: UserWarning: Implicit dimension choice for softmax has been deprecated. Change the call to include dim=X as an argument.\n",
      "  output_layer = self.softmax(output_layer)\n"
     ]
    },
    {
     "data": {
      "application/vnd.jupyter.widget-view+json": {
       "model_id": "b58b7268f3fb46aa8e2374e70749d65b",
       "version_major": 2,
       "version_minor": 0
      },
      "text/plain": [
       "Lime attribution:   0%|          | 0/25 [00:00<?, ?it/s]"
      ]
     },
     "metadata": {},
     "output_type": "display_data"
    },
    {
     "name": "stderr",
     "output_type": "stream",
     "text": [
      "/home/zhengyang/Desktop/Git_resp_limesegment/classifiers/ResNet.py:149: UserWarning: Implicit dimension choice for softmax has been deprecated. Change the call to include dim=X as an argument.\n",
      "  output_layer = self.softmax(output_layer)\n"
     ]
    },
    {
     "data": {
      "application/vnd.jupyter.widget-view+json": {
       "model_id": "f9f5b86ddc9d43f49ade44d488d0581c",
       "version_major": 2,
       "version_minor": 0
      },
      "text/plain": [
       "Lime attribution:   0%|          | 0/25 [00:00<?, ?it/s]"
      ]
     },
     "metadata": {},
     "output_type": "display_data"
    },
    {
     "name": "stderr",
     "output_type": "stream",
     "text": [
      "/home/zhengyang/Desktop/Git_resp_limesegment/classifiers/ResNet.py:149: UserWarning: Implicit dimension choice for softmax has been deprecated. Change the call to include dim=X as an argument.\n",
      "  output_layer = self.softmax(output_layer)\n"
     ]
    },
    {
     "data": {
      "application/vnd.jupyter.widget-view+json": {
       "model_id": "251b7faeae2b4d829d2fbb1b6f3c3c63",
       "version_major": 2,
       "version_minor": 0
      },
      "text/plain": [
       "Lime attribution:   0%|          | 0/25 [00:00<?, ?it/s]"
      ]
     },
     "metadata": {},
     "output_type": "display_data"
    },
    {
     "name": "stderr",
     "output_type": "stream",
     "text": [
      "/home/zhengyang/Desktop/Git_resp_limesegment/classifiers/ResNet.py:149: UserWarning: Implicit dimension choice for softmax has been deprecated. Change the call to include dim=X as an argument.\n",
      "  output_layer = self.softmax(output_layer)\n"
     ]
    },
    {
     "data": {
      "application/vnd.jupyter.widget-view+json": {
       "model_id": "a1b8677be2354c4997d54a2993689e69",
       "version_major": 2,
       "version_minor": 0
      },
      "text/plain": [
       "Lime attribution:   0%|          | 0/25 [00:00<?, ?it/s]"
      ]
     },
     "metadata": {},
     "output_type": "display_data"
    },
    {
     "name": "stderr",
     "output_type": "stream",
     "text": [
      "/home/zhengyang/Desktop/Git_resp_limesegment/classifiers/ResNet.py:149: UserWarning: Implicit dimension choice for softmax has been deprecated. Change the call to include dim=X as an argument.\n",
      "  output_layer = self.softmax(output_layer)\n"
     ]
    },
    {
     "data": {
      "application/vnd.jupyter.widget-view+json": {
       "model_id": "eddd23c187ae43a587235e9b11bf3ec9",
       "version_major": 2,
       "version_minor": 0
      },
      "text/plain": [
       "Lime attribution:   0%|          | 0/25 [00:00<?, ?it/s]"
      ]
     },
     "metadata": {},
     "output_type": "display_data"
    },
    {
     "name": "stderr",
     "output_type": "stream",
     "text": [
      "/home/zhengyang/Desktop/Git_resp_limesegment/classifiers/ResNet.py:149: UserWarning: Implicit dimension choice for softmax has been deprecated. Change the call to include dim=X as an argument.\n",
      "  output_layer = self.softmax(output_layer)\n"
     ]
    },
    {
     "data": {
      "application/vnd.jupyter.widget-view+json": {
       "model_id": "9a92c322faf34d4fa0a9185bc5d9007c",
       "version_major": 2,
       "version_minor": 0
      },
      "text/plain": [
       "Lime attribution:   0%|          | 0/25 [00:00<?, ?it/s]"
      ]
     },
     "metadata": {},
     "output_type": "display_data"
    },
    {
     "name": "stderr",
     "output_type": "stream",
     "text": [
      "/home/zhengyang/Desktop/Git_resp_limesegment/classifiers/ResNet.py:149: UserWarning: Implicit dimension choice for softmax has been deprecated. Change the call to include dim=X as an argument.\n",
      "  output_layer = self.softmax(output_layer)\n"
     ]
    },
    {
     "data": {
      "application/vnd.jupyter.widget-view+json": {
       "model_id": "45e84a453b7e42ff97cc5fac76e805f7",
       "version_major": 2,
       "version_minor": 0
      },
      "text/plain": [
       "Lime attribution:   0%|          | 0/25 [00:00<?, ?it/s]"
      ]
     },
     "metadata": {},
     "output_type": "display_data"
    },
    {
     "name": "stderr",
     "output_type": "stream",
     "text": [
      "/home/zhengyang/Desktop/Git_resp_limesegment/classifiers/ResNet.py:149: UserWarning: Implicit dimension choice for softmax has been deprecated. Change the call to include dim=X as an argument.\n",
      "  output_layer = self.softmax(output_layer)\n"
     ]
    },
    {
     "data": {
      "application/vnd.jupyter.widget-view+json": {
       "model_id": "91984318e6bd4461b1c1b23e75f33e9a",
       "version_major": 2,
       "version_minor": 0
      },
      "text/plain": [
       "Lime attribution:   0%|          | 0/25 [00:00<?, ?it/s]"
      ]
     },
     "metadata": {},
     "output_type": "display_data"
    },
    {
     "name": "stderr",
     "output_type": "stream",
     "text": [
      "/home/zhengyang/Desktop/Git_resp_limesegment/classifiers/ResNet.py:149: UserWarning: Implicit dimension choice for softmax has been deprecated. Change the call to include dim=X as an argument.\n",
      "  output_layer = self.softmax(output_layer)\n"
     ]
    },
    {
     "data": {
      "application/vnd.jupyter.widget-view+json": {
       "model_id": "ec7836020e9d474b860de58984418a68",
       "version_major": 2,
       "version_minor": 0
      },
      "text/plain": [
       "Lime attribution:   0%|          | 0/25 [00:00<?, ?it/s]"
      ]
     },
     "metadata": {},
     "output_type": "display_data"
    },
    {
     "name": "stderr",
     "output_type": "stream",
     "text": [
      "/home/zhengyang/Desktop/Git_resp_limesegment/classifiers/ResNet.py:149: UserWarning: Implicit dimension choice for softmax has been deprecated. Change the call to include dim=X as an argument.\n",
      "  output_layer = self.softmax(output_layer)\n"
     ]
    },
    {
     "data": {
      "application/vnd.jupyter.widget-view+json": {
       "model_id": "e50982d271fe48e1bea093b32803497f",
       "version_major": 2,
       "version_minor": 0
      },
      "text/plain": [
       "Lime attribution:   0%|          | 0/25 [00:00<?, ?it/s]"
      ]
     },
     "metadata": {},
     "output_type": "display_data"
    },
    {
     "name": "stderr",
     "output_type": "stream",
     "text": [
      "/home/zhengyang/Desktop/Git_resp_limesegment/classifiers/ResNet.py:149: UserWarning: Implicit dimension choice for softmax has been deprecated. Change the call to include dim=X as an argument.\n",
      "  output_layer = self.softmax(output_layer)\n"
     ]
    },
    {
     "data": {
      "application/vnd.jupyter.widget-view+json": {
       "model_id": "21fc9e6e4b4a47c684505ae8bae63ade",
       "version_major": 2,
       "version_minor": 0
      },
      "text/plain": [
       "Lime attribution:   0%|          | 0/25 [00:00<?, ?it/s]"
      ]
     },
     "metadata": {},
     "output_type": "display_data"
    },
    {
     "name": "stderr",
     "output_type": "stream",
     "text": [
      "/home/zhengyang/Desktop/Git_resp_limesegment/classifiers/ResNet.py:149: UserWarning: Implicit dimension choice for softmax has been deprecated. Change the call to include dim=X as an argument.\n",
      "  output_layer = self.softmax(output_layer)\n"
     ]
    },
    {
     "data": {
      "application/vnd.jupyter.widget-view+json": {
       "model_id": "ed6c6b207dd34e62b7c783c5bd4ab2ac",
       "version_major": 2,
       "version_minor": 0
      },
      "text/plain": [
       "Lime attribution:   0%|          | 0/25 [00:00<?, ?it/s]"
      ]
     },
     "metadata": {},
     "output_type": "display_data"
    },
    {
     "name": "stderr",
     "output_type": "stream",
     "text": [
      "/home/zhengyang/Desktop/Git_resp_limesegment/classifiers/ResNet.py:149: UserWarning: Implicit dimension choice for softmax has been deprecated. Change the call to include dim=X as an argument.\n",
      "  output_layer = self.softmax(output_layer)\n"
     ]
    },
    {
     "data": {
      "application/vnd.jupyter.widget-view+json": {
       "model_id": "dcf5024330494beab81966795c227862",
       "version_major": 2,
       "version_minor": 0
      },
      "text/plain": [
       "Lime attribution:   0%|          | 0/25 [00:00<?, ?it/s]"
      ]
     },
     "metadata": {},
     "output_type": "display_data"
    },
    {
     "name": "stderr",
     "output_type": "stream",
     "text": [
      "/home/zhengyang/Desktop/Git_resp_limesegment/classifiers/ResNet.py:149: UserWarning: Implicit dimension choice for softmax has been deprecated. Change the call to include dim=X as an argument.\n",
      "  output_layer = self.softmax(output_layer)\n"
     ]
    },
    {
     "data": {
      "application/vnd.jupyter.widget-view+json": {
       "model_id": "e3347705a47e488fb4bfd77c60879606",
       "version_major": 2,
       "version_minor": 0
      },
      "text/plain": [
       "Lime attribution:   0%|          | 0/25 [00:00<?, ?it/s]"
      ]
     },
     "metadata": {},
     "output_type": "display_data"
    },
    {
     "name": "stderr",
     "output_type": "stream",
     "text": [
      "/home/zhengyang/Desktop/Git_resp_limesegment/classifiers/ResNet.py:149: UserWarning: Implicit dimension choice for softmax has been deprecated. Change the call to include dim=X as an argument.\n",
      "  output_layer = self.softmax(output_layer)\n"
     ]
    },
    {
     "data": {
      "application/vnd.jupyter.widget-view+json": {
       "model_id": "30ab8514a1d84ba0ad431f14497e7f6d",
       "version_major": 2,
       "version_minor": 0
      },
      "text/plain": [
       "Lime attribution:   0%|          | 0/25 [00:00<?, ?it/s]"
      ]
     },
     "metadata": {},
     "output_type": "display_data"
    },
    {
     "name": "stderr",
     "output_type": "stream",
     "text": [
      "/home/zhengyang/Desktop/Git_resp_limesegment/classifiers/ResNet.py:149: UserWarning: Implicit dimension choice for softmax has been deprecated. Change the call to include dim=X as an argument.\n",
      "  output_layer = self.softmax(output_layer)\n"
     ]
    },
    {
     "data": {
      "application/vnd.jupyter.widget-view+json": {
       "model_id": "eee250f6944c4de3be7a2f2ffd483de8",
       "version_major": 2,
       "version_minor": 0
      },
      "text/plain": [
       "Lime attribution:   0%|          | 0/25 [00:00<?, ?it/s]"
      ]
     },
     "metadata": {},
     "output_type": "display_data"
    },
    {
     "name": "stderr",
     "output_type": "stream",
     "text": [
      "/home/zhengyang/Desktop/Git_resp_limesegment/classifiers/ResNet.py:149: UserWarning: Implicit dimension choice for softmax has been deprecated. Change the call to include dim=X as an argument.\n",
      "  output_layer = self.softmax(output_layer)\n"
     ]
    },
    {
     "data": {
      "application/vnd.jupyter.widget-view+json": {
       "model_id": "78793aab8c474c9f9978142ad4f3e1f1",
       "version_major": 2,
       "version_minor": 0
      },
      "text/plain": [
       "Lime attribution:   0%|          | 0/25 [00:00<?, ?it/s]"
      ]
     },
     "metadata": {},
     "output_type": "display_data"
    },
    {
     "name": "stderr",
     "output_type": "stream",
     "text": [
      "/home/zhengyang/Desktop/Git_resp_limesegment/classifiers/ResNet.py:149: UserWarning: Implicit dimension choice for softmax has been deprecated. Change the call to include dim=X as an argument.\n",
      "  output_layer = self.softmax(output_layer)\n"
     ]
    },
    {
     "data": {
      "application/vnd.jupyter.widget-view+json": {
       "model_id": "c6c5144820664eb8b5daf8278bc4319f",
       "version_major": 2,
       "version_minor": 0
      },
      "text/plain": [
       "Lime attribution:   0%|          | 0/25 [00:00<?, ?it/s]"
      ]
     },
     "metadata": {},
     "output_type": "display_data"
    },
    {
     "name": "stderr",
     "output_type": "stream",
     "text": [
      "/home/zhengyang/Desktop/Git_resp_limesegment/classifiers/ResNet.py:149: UserWarning: Implicit dimension choice for softmax has been deprecated. Change the call to include dim=X as an argument.\n",
      "  output_layer = self.softmax(output_layer)\n"
     ]
    },
    {
     "data": {
      "application/vnd.jupyter.widget-view+json": {
       "model_id": "8a175c3e1e724e719a4712d6a1b176c4",
       "version_major": 2,
       "version_minor": 0
      },
      "text/plain": [
       "Lime attribution:   0%|          | 0/25 [00:00<?, ?it/s]"
      ]
     },
     "metadata": {},
     "output_type": "display_data"
    },
    {
     "name": "stderr",
     "output_type": "stream",
     "text": [
      "/home/zhengyang/Desktop/Git_resp_limesegment/classifiers/ResNet.py:149: UserWarning: Implicit dimension choice for softmax has been deprecated. Change the call to include dim=X as an argument.\n",
      "  output_layer = self.softmax(output_layer)\n"
     ]
    },
    {
     "data": {
      "application/vnd.jupyter.widget-view+json": {
       "model_id": "afe927e742bb4697a615fe15a7c03772",
       "version_major": 2,
       "version_minor": 0
      },
      "text/plain": [
       "Lime attribution:   0%|          | 0/25 [00:00<?, ?it/s]"
      ]
     },
     "metadata": {},
     "output_type": "display_data"
    },
    {
     "name": "stderr",
     "output_type": "stream",
     "text": [
      "/home/zhengyang/Desktop/Git_resp_limesegment/classifiers/ResNet.py:149: UserWarning: Implicit dimension choice for softmax has been deprecated. Change the call to include dim=X as an argument.\n",
      "  output_layer = self.softmax(output_layer)\n"
     ]
    },
    {
     "data": {
      "application/vnd.jupyter.widget-view+json": {
       "model_id": "6c8e5f4a160c4c6c958245eb0ee945e3",
       "version_major": 2,
       "version_minor": 0
      },
      "text/plain": [
       "Lime attribution:   0%|          | 0/25 [00:00<?, ?it/s]"
      ]
     },
     "metadata": {},
     "output_type": "display_data"
    },
    {
     "name": "stderr",
     "output_type": "stream",
     "text": [
      "/home/zhengyang/Desktop/Git_resp_limesegment/classifiers/ResNet.py:149: UserWarning: Implicit dimension choice for softmax has been deprecated. Change the call to include dim=X as an argument.\n",
      "  output_layer = self.softmax(output_layer)\n"
     ]
    },
    {
     "data": {
      "application/vnd.jupyter.widget-view+json": {
       "model_id": "46a3ae9b4adb45f9b51ba8923c42bb1d",
       "version_major": 2,
       "version_minor": 0
      },
      "text/plain": [
       "Lime attribution:   0%|          | 0/25 [00:00<?, ?it/s]"
      ]
     },
     "metadata": {},
     "output_type": "display_data"
    },
    {
     "name": "stderr",
     "output_type": "stream",
     "text": [
      "/home/zhengyang/Desktop/Git_resp_limesegment/classifiers/ResNet.py:149: UserWarning: Implicit dimension choice for softmax has been deprecated. Change the call to include dim=X as an argument.\n",
      "  output_layer = self.softmax(output_layer)\n"
     ]
    },
    {
     "data": {
      "application/vnd.jupyter.widget-view+json": {
       "model_id": "904adf757977491baa28fff7977b79db",
       "version_major": 2,
       "version_minor": 0
      },
      "text/plain": [
       "Lime attribution:   0%|          | 0/25 [00:00<?, ?it/s]"
      ]
     },
     "metadata": {},
     "output_type": "display_data"
    },
    {
     "name": "stderr",
     "output_type": "stream",
     "text": [
      "/home/zhengyang/Desktop/Git_resp_limesegment/classifiers/ResNet.py:149: UserWarning: Implicit dimension choice for softmax has been deprecated. Change the call to include dim=X as an argument.\n",
      "  output_layer = self.softmax(output_layer)\n"
     ]
    },
    {
     "data": {
      "application/vnd.jupyter.widget-view+json": {
       "model_id": "d8c1e707887043c99a273c4c1aae540f",
       "version_major": 2,
       "version_minor": 0
      },
      "text/plain": [
       "Lime attribution:   0%|          | 0/25 [00:00<?, ?it/s]"
      ]
     },
     "metadata": {},
     "output_type": "display_data"
    },
    {
     "name": "stderr",
     "output_type": "stream",
     "text": [
      "/home/zhengyang/Desktop/Git_resp_limesegment/classifiers/ResNet.py:149: UserWarning: Implicit dimension choice for softmax has been deprecated. Change the call to include dim=X as an argument.\n",
      "  output_layer = self.softmax(output_layer)\n"
     ]
    },
    {
     "data": {
      "application/vnd.jupyter.widget-view+json": {
       "model_id": "63529ebb8c814183bf5087c6ae118ed5",
       "version_major": 2,
       "version_minor": 0
      },
      "text/plain": [
       "Lime attribution:   0%|          | 0/25 [00:00<?, ?it/s]"
      ]
     },
     "metadata": {},
     "output_type": "display_data"
    },
    {
     "name": "stderr",
     "output_type": "stream",
     "text": [
      "/home/zhengyang/Desktop/Git_resp_limesegment/classifiers/ResNet.py:149: UserWarning: Implicit dimension choice for softmax has been deprecated. Change the call to include dim=X as an argument.\n",
      "  output_layer = self.softmax(output_layer)\n"
     ]
    },
    {
     "data": {
      "application/vnd.jupyter.widget-view+json": {
       "model_id": "506389c336be41cdafb0c9f499321ff8",
       "version_major": 2,
       "version_minor": 0
      },
      "text/plain": [
       "Lime attribution:   0%|          | 0/25 [00:00<?, ?it/s]"
      ]
     },
     "metadata": {},
     "output_type": "display_data"
    },
    {
     "name": "stderr",
     "output_type": "stream",
     "text": [
      "/home/zhengyang/Desktop/Git_resp_limesegment/classifiers/ResNet.py:149: UserWarning: Implicit dimension choice for softmax has been deprecated. Change the call to include dim=X as an argument.\n",
      "  output_layer = self.softmax(output_layer)\n"
     ]
    },
    {
     "data": {
      "application/vnd.jupyter.widget-view+json": {
       "model_id": "31c7a1e2af834426a5a0110f63b61e2c",
       "version_major": 2,
       "version_minor": 0
      },
      "text/plain": [
       "Lime attribution:   0%|          | 0/25 [00:00<?, ?it/s]"
      ]
     },
     "metadata": {},
     "output_type": "display_data"
    },
    {
     "name": "stderr",
     "output_type": "stream",
     "text": [
      "/home/zhengyang/Desktop/Git_resp_limesegment/classifiers/ResNet.py:149: UserWarning: Implicit dimension choice for softmax has been deprecated. Change the call to include dim=X as an argument.\n",
      "  output_layer = self.softmax(output_layer)\n"
     ]
    },
    {
     "data": {
      "application/vnd.jupyter.widget-view+json": {
       "model_id": "6a7d48ac5d3144c786aa2c35c745ed8d",
       "version_major": 2,
       "version_minor": 0
      },
      "text/plain": [
       "Lime attribution:   0%|          | 0/25 [00:00<?, ?it/s]"
      ]
     },
     "metadata": {},
     "output_type": "display_data"
    },
    {
     "name": "stderr",
     "output_type": "stream",
     "text": [
      "/home/zhengyang/Desktop/Git_resp_limesegment/classifiers/ResNet.py:149: UserWarning: Implicit dimension choice for softmax has been deprecated. Change the call to include dim=X as an argument.\n",
      "  output_layer = self.softmax(output_layer)\n"
     ]
    },
    {
     "data": {
      "application/vnd.jupyter.widget-view+json": {
       "model_id": "eb5142d37ff945cf9f577ccf520c558c",
       "version_major": 2,
       "version_minor": 0
      },
      "text/plain": [
       "Lime attribution:   0%|          | 0/25 [00:00<?, ?it/s]"
      ]
     },
     "metadata": {},
     "output_type": "display_data"
    },
    {
     "name": "stderr",
     "output_type": "stream",
     "text": [
      "/home/zhengyang/Desktop/Git_resp_limesegment/classifiers/ResNet.py:149: UserWarning: Implicit dimension choice for softmax has been deprecated. Change the call to include dim=X as an argument.\n",
      "  output_layer = self.softmax(output_layer)\n"
     ]
    },
    {
     "data": {
      "application/vnd.jupyter.widget-view+json": {
       "model_id": "805d1a5884414e788de8e61393720734",
       "version_major": 2,
       "version_minor": 0
      },
      "text/plain": [
       "Lime attribution:   0%|          | 0/25 [00:00<?, ?it/s]"
      ]
     },
     "metadata": {},
     "output_type": "display_data"
    },
    {
     "name": "stderr",
     "output_type": "stream",
     "text": [
      "/home/zhengyang/Desktop/Git_resp_limesegment/classifiers/ResNet.py:149: UserWarning: Implicit dimension choice for softmax has been deprecated. Change the call to include dim=X as an argument.\n",
      "  output_layer = self.softmax(output_layer)\n"
     ]
    },
    {
     "data": {
      "application/vnd.jupyter.widget-view+json": {
       "model_id": "03f45fa85b9849cebbbff098f1b99d76",
       "version_major": 2,
       "version_minor": 0
      },
      "text/plain": [
       "Lime attribution:   0%|          | 0/25 [00:00<?, ?it/s]"
      ]
     },
     "metadata": {},
     "output_type": "display_data"
    },
    {
     "name": "stderr",
     "output_type": "stream",
     "text": [
      "/home/zhengyang/Desktop/Git_resp_limesegment/classifiers/ResNet.py:149: UserWarning: Implicit dimension choice for softmax has been deprecated. Change the call to include dim=X as an argument.\n",
      "  output_layer = self.softmax(output_layer)\n"
     ]
    },
    {
     "data": {
      "application/vnd.jupyter.widget-view+json": {
       "model_id": "c160e87c26a94dbda4c50179c0bd8a8d",
       "version_major": 2,
       "version_minor": 0
      },
      "text/plain": [
       "Lime attribution:   0%|          | 0/25 [00:00<?, ?it/s]"
      ]
     },
     "metadata": {},
     "output_type": "display_data"
    },
    {
     "name": "stderr",
     "output_type": "stream",
     "text": [
      "/home/zhengyang/Desktop/Git_resp_limesegment/classifiers/ResNet.py:149: UserWarning: Implicit dimension choice for softmax has been deprecated. Change the call to include dim=X as an argument.\n",
      "  output_layer = self.softmax(output_layer)\n"
     ]
    },
    {
     "data": {
      "application/vnd.jupyter.widget-view+json": {
       "model_id": "be4cb36e36d748819df10e94f2951c8c",
       "version_major": 2,
       "version_minor": 0
      },
      "text/plain": [
       "Lime attribution:   0%|          | 0/25 [00:00<?, ?it/s]"
      ]
     },
     "metadata": {},
     "output_type": "display_data"
    },
    {
     "name": "stderr",
     "output_type": "stream",
     "text": [
      "/home/zhengyang/Desktop/Git_resp_limesegment/classifiers/ResNet.py:149: UserWarning: Implicit dimension choice for softmax has been deprecated. Change the call to include dim=X as an argument.\n",
      "  output_layer = self.softmax(output_layer)\n"
     ]
    },
    {
     "data": {
      "application/vnd.jupyter.widget-view+json": {
       "model_id": "9c203ecb8c4c41c38ce0c07de74eaa88",
       "version_major": 2,
       "version_minor": 0
      },
      "text/plain": [
       "Lime attribution:   0%|          | 0/25 [00:00<?, ?it/s]"
      ]
     },
     "metadata": {},
     "output_type": "display_data"
    },
    {
     "name": "stderr",
     "output_type": "stream",
     "text": [
      "/home/zhengyang/Desktop/Git_resp_limesegment/classifiers/ResNet.py:149: UserWarning: Implicit dimension choice for softmax has been deprecated. Change the call to include dim=X as an argument.\n",
      "  output_layer = self.softmax(output_layer)\n"
     ]
    },
    {
     "data": {
      "application/vnd.jupyter.widget-view+json": {
       "model_id": "a3c3b19659dd4eae86f9d8d799d0024b",
       "version_major": 2,
       "version_minor": 0
      },
      "text/plain": [
       "Lime attribution:   0%|          | 0/25 [00:00<?, ?it/s]"
      ]
     },
     "metadata": {},
     "output_type": "display_data"
    },
    {
     "name": "stderr",
     "output_type": "stream",
     "text": [
      "/home/zhengyang/Desktop/Git_resp_limesegment/classifiers/ResNet.py:149: UserWarning: Implicit dimension choice for softmax has been deprecated. Change the call to include dim=X as an argument.\n",
      "  output_layer = self.softmax(output_layer)\n"
     ]
    },
    {
     "data": {
      "application/vnd.jupyter.widget-view+json": {
       "model_id": "7f0dffb9f2be4662aec9209756a2249c",
       "version_major": 2,
       "version_minor": 0
      },
      "text/plain": [
       "Lime attribution:   0%|          | 0/25 [00:00<?, ?it/s]"
      ]
     },
     "metadata": {},
     "output_type": "display_data"
    },
    {
     "name": "stderr",
     "output_type": "stream",
     "text": [
      "/home/zhengyang/Desktop/Git_resp_limesegment/classifiers/ResNet.py:149: UserWarning: Implicit dimension choice for softmax has been deprecated. Change the call to include dim=X as an argument.\n",
      "  output_layer = self.softmax(output_layer)\n"
     ]
    },
    {
     "data": {
      "application/vnd.jupyter.widget-view+json": {
       "model_id": "cbd56eb1ad02492bb015f91e45b8649c",
       "version_major": 2,
       "version_minor": 0
      },
      "text/plain": [
       "Lime attribution:   0%|          | 0/25 [00:00<?, ?it/s]"
      ]
     },
     "metadata": {},
     "output_type": "display_data"
    },
    {
     "name": "stderr",
     "output_type": "stream",
     "text": [
      "/home/zhengyang/Desktop/Git_resp_limesegment/classifiers/ResNet.py:149: UserWarning: Implicit dimension choice for softmax has been deprecated. Change the call to include dim=X as an argument.\n",
      "  output_layer = self.softmax(output_layer)\n"
     ]
    },
    {
     "data": {
      "application/vnd.jupyter.widget-view+json": {
       "model_id": "bad554dd41184b8496b5bdb46b809c96",
       "version_major": 2,
       "version_minor": 0
      },
      "text/plain": [
       "Lime attribution:   0%|          | 0/25 [00:00<?, ?it/s]"
      ]
     },
     "metadata": {},
     "output_type": "display_data"
    },
    {
     "name": "stderr",
     "output_type": "stream",
     "text": [
      "/home/zhengyang/Desktop/Git_resp_limesegment/classifiers/ResNet.py:149: UserWarning: Implicit dimension choice for softmax has been deprecated. Change the call to include dim=X as an argument.\n",
      "  output_layer = self.softmax(output_layer)\n"
     ]
    },
    {
     "data": {
      "application/vnd.jupyter.widget-view+json": {
       "model_id": "73c70b19691044e5a99b03609c60d026",
       "version_major": 2,
       "version_minor": 0
      },
      "text/plain": [
       "Lime attribution:   0%|          | 0/25 [00:00<?, ?it/s]"
      ]
     },
     "metadata": {},
     "output_type": "display_data"
    },
    {
     "name": "stderr",
     "output_type": "stream",
     "text": [
      "/home/zhengyang/Desktop/Git_resp_limesegment/classifiers/ResNet.py:149: UserWarning: Implicit dimension choice for softmax has been deprecated. Change the call to include dim=X as an argument.\n",
      "  output_layer = self.softmax(output_layer)\n"
     ]
    },
    {
     "data": {
      "application/vnd.jupyter.widget-view+json": {
       "model_id": "cf72e6a3a1b64ad796fa5ec13bdc5654",
       "version_major": 2,
       "version_minor": 0
      },
      "text/plain": [
       "Lime attribution:   0%|          | 0/25 [00:00<?, ?it/s]"
      ]
     },
     "metadata": {},
     "output_type": "display_data"
    },
    {
     "name": "stderr",
     "output_type": "stream",
     "text": [
      "/home/zhengyang/Desktop/Git_resp_limesegment/classifiers/ResNet.py:149: UserWarning: Implicit dimension choice for softmax has been deprecated. Change the call to include dim=X as an argument.\n",
      "  output_layer = self.softmax(output_layer)\n"
     ]
    },
    {
     "data": {
      "application/vnd.jupyter.widget-view+json": {
       "model_id": "9e57e54700d840268dc28db91f5741d3",
       "version_major": 2,
       "version_minor": 0
      },
      "text/plain": [
       "Lime attribution:   0%|          | 0/25 [00:00<?, ?it/s]"
      ]
     },
     "metadata": {},
     "output_type": "display_data"
    },
    {
     "name": "stderr",
     "output_type": "stream",
     "text": [
      "/home/zhengyang/Desktop/Git_resp_limesegment/classifiers/ResNet.py:149: UserWarning: Implicit dimension choice for softmax has been deprecated. Change the call to include dim=X as an argument.\n",
      "  output_layer = self.softmax(output_layer)\n"
     ]
    },
    {
     "data": {
      "application/vnd.jupyter.widget-view+json": {
       "model_id": "0b5393a1ea9c45e782fc1cd9dfa59d52",
       "version_major": 2,
       "version_minor": 0
      },
      "text/plain": [
       "Lime attribution:   0%|          | 0/25 [00:00<?, ?it/s]"
      ]
     },
     "metadata": {},
     "output_type": "display_data"
    },
    {
     "name": "stderr",
     "output_type": "stream",
     "text": [
      "/home/zhengyang/Desktop/Git_resp_limesegment/classifiers/ResNet.py:149: UserWarning: Implicit dimension choice for softmax has been deprecated. Change the call to include dim=X as an argument.\n",
      "  output_layer = self.softmax(output_layer)\n"
     ]
    },
    {
     "data": {
      "application/vnd.jupyter.widget-view+json": {
       "model_id": "dc95c7b4893a40c7bbba21e930c62065",
       "version_major": 2,
       "version_minor": 0
      },
      "text/plain": [
       "Lime attribution:   0%|          | 0/25 [00:00<?, ?it/s]"
      ]
     },
     "metadata": {},
     "output_type": "display_data"
    },
    {
     "name": "stderr",
     "output_type": "stream",
     "text": [
      "/home/zhengyang/Desktop/Git_resp_limesegment/classifiers/ResNet.py:149: UserWarning: Implicit dimension choice for softmax has been deprecated. Change the call to include dim=X as an argument.\n",
      "  output_layer = self.softmax(output_layer)\n"
     ]
    },
    {
     "data": {
      "application/vnd.jupyter.widget-view+json": {
       "model_id": "37801453ac37434eabd2af1727693a21",
       "version_major": 2,
       "version_minor": 0
      },
      "text/plain": [
       "Lime attribution:   0%|          | 0/25 [00:00<?, ?it/s]"
      ]
     },
     "metadata": {},
     "output_type": "display_data"
    },
    {
     "name": "stderr",
     "output_type": "stream",
     "text": [
      "/home/zhengyang/Desktop/Git_resp_limesegment/classifiers/ResNet.py:149: UserWarning: Implicit dimension choice for softmax has been deprecated. Change the call to include dim=X as an argument.\n",
      "  output_layer = self.softmax(output_layer)\n"
     ]
    },
    {
     "data": {
      "application/vnd.jupyter.widget-view+json": {
       "model_id": "f37d3bb8f3884fba9db67b9d5f0cd7a5",
       "version_major": 2,
       "version_minor": 0
      },
      "text/plain": [
       "Lime attribution:   0%|          | 0/25 [00:00<?, ?it/s]"
      ]
     },
     "metadata": {},
     "output_type": "display_data"
    },
    {
     "name": "stderr",
     "output_type": "stream",
     "text": [
      "/home/zhengyang/Desktop/Git_resp_limesegment/classifiers/ResNet.py:149: UserWarning: Implicit dimension choice for softmax has been deprecated. Change the call to include dim=X as an argument.\n",
      "  output_layer = self.softmax(output_layer)\n"
     ]
    },
    {
     "data": {
      "application/vnd.jupyter.widget-view+json": {
       "model_id": "acef630ae933499aac6ae35ddfca5edf",
       "version_major": 2,
       "version_minor": 0
      },
      "text/plain": [
       "Lime attribution:   0%|          | 0/25 [00:00<?, ?it/s]"
      ]
     },
     "metadata": {},
     "output_type": "display_data"
    },
    {
     "name": "stderr",
     "output_type": "stream",
     "text": [
      "/home/zhengyang/Desktop/Git_resp_limesegment/classifiers/ResNet.py:149: UserWarning: Implicit dimension choice for softmax has been deprecated. Change the call to include dim=X as an argument.\n",
      "  output_layer = self.softmax(output_layer)\n"
     ]
    },
    {
     "data": {
      "application/vnd.jupyter.widget-view+json": {
       "model_id": "8243bc0c82fb498aa94aa3337bdf74b1",
       "version_major": 2,
       "version_minor": 0
      },
      "text/plain": [
       "Lime attribution:   0%|          | 0/25 [00:00<?, ?it/s]"
      ]
     },
     "metadata": {},
     "output_type": "display_data"
    },
    {
     "name": "stderr",
     "output_type": "stream",
     "text": [
      "/home/zhengyang/Desktop/Git_resp_limesegment/classifiers/ResNet.py:149: UserWarning: Implicit dimension choice for softmax has been deprecated. Change the call to include dim=X as an argument.\n",
      "  output_layer = self.softmax(output_layer)\n"
     ]
    },
    {
     "data": {
      "application/vnd.jupyter.widget-view+json": {
       "model_id": "3c4e05338d6f4331bd3e8c5a39f249a3",
       "version_major": 2,
       "version_minor": 0
      },
      "text/plain": [
       "Lime attribution:   0%|          | 0/25 [00:00<?, ?it/s]"
      ]
     },
     "metadata": {},
     "output_type": "display_data"
    },
    {
     "name": "stderr",
     "output_type": "stream",
     "text": [
      "/home/zhengyang/Desktop/Git_resp_limesegment/classifiers/ResNet.py:149: UserWarning: Implicit dimension choice for softmax has been deprecated. Change the call to include dim=X as an argument.\n",
      "  output_layer = self.softmax(output_layer)\n"
     ]
    },
    {
     "data": {
      "application/vnd.jupyter.widget-view+json": {
       "model_id": "ef19f916b3d14c80994ebf7e71ed75f0",
       "version_major": 2,
       "version_minor": 0
      },
      "text/plain": [
       "Lime attribution:   0%|          | 0/25 [00:00<?, ?it/s]"
      ]
     },
     "metadata": {},
     "output_type": "display_data"
    },
    {
     "name": "stderr",
     "output_type": "stream",
     "text": [
      "/home/zhengyang/Desktop/Git_resp_limesegment/classifiers/ResNet.py:149: UserWarning: Implicit dimension choice for softmax has been deprecated. Change the call to include dim=X as an argument.\n",
      "  output_layer = self.softmax(output_layer)\n"
     ]
    },
    {
     "data": {
      "application/vnd.jupyter.widget-view+json": {
       "model_id": "7c2daa1692924337a6c6e3e8f97ed4f3",
       "version_major": 2,
       "version_minor": 0
      },
      "text/plain": [
       "Lime attribution:   0%|          | 0/25 [00:00<?, ?it/s]"
      ]
     },
     "metadata": {},
     "output_type": "display_data"
    },
    {
     "name": "stderr",
     "output_type": "stream",
     "text": [
      "/home/zhengyang/Desktop/Git_resp_limesegment/classifiers/ResNet.py:149: UserWarning: Implicit dimension choice for softmax has been deprecated. Change the call to include dim=X as an argument.\n",
      "  output_layer = self.softmax(output_layer)\n"
     ]
    },
    {
     "data": {
      "application/vnd.jupyter.widget-view+json": {
       "model_id": "108971ea5944446c87a2c512685dcaa6",
       "version_major": 2,
       "version_minor": 0
      },
      "text/plain": [
       "Lime attribution:   0%|          | 0/25 [00:00<?, ?it/s]"
      ]
     },
     "metadata": {},
     "output_type": "display_data"
    },
    {
     "name": "stderr",
     "output_type": "stream",
     "text": [
      "/home/zhengyang/Desktop/Git_resp_limesegment/classifiers/ResNet.py:149: UserWarning: Implicit dimension choice for softmax has been deprecated. Change the call to include dim=X as an argument.\n",
      "  output_layer = self.softmax(output_layer)\n"
     ]
    },
    {
     "data": {
      "application/vnd.jupyter.widget-view+json": {
       "model_id": "ab38c5a4db61414a8dbfd766c809be96",
       "version_major": 2,
       "version_minor": 0
      },
      "text/plain": [
       "Lime attribution:   0%|          | 0/25 [00:00<?, ?it/s]"
      ]
     },
     "metadata": {},
     "output_type": "display_data"
    },
    {
     "name": "stderr",
     "output_type": "stream",
     "text": [
      "/home/zhengyang/Desktop/Git_resp_limesegment/classifiers/ResNet.py:149: UserWarning: Implicit dimension choice for softmax has been deprecated. Change the call to include dim=X as an argument.\n",
      "  output_layer = self.softmax(output_layer)\n"
     ]
    },
    {
     "data": {
      "application/vnd.jupyter.widget-view+json": {
       "model_id": "568ee38669cb40b5a3e9eabc00a08910",
       "version_major": 2,
       "version_minor": 0
      },
      "text/plain": [
       "Lime attribution:   0%|          | 0/25 [00:00<?, ?it/s]"
      ]
     },
     "metadata": {},
     "output_type": "display_data"
    },
    {
     "name": "stderr",
     "output_type": "stream",
     "text": [
      "/home/zhengyang/Desktop/Git_resp_limesegment/classifiers/ResNet.py:149: UserWarning: Implicit dimension choice for softmax has been deprecated. Change the call to include dim=X as an argument.\n",
      "  output_layer = self.softmax(output_layer)\n"
     ]
    },
    {
     "data": {
      "application/vnd.jupyter.widget-view+json": {
       "model_id": "c1c1032383a5461b9952366efade5690",
       "version_major": 2,
       "version_minor": 0
      },
      "text/plain": [
       "Lime attribution:   0%|          | 0/25 [00:00<?, ?it/s]"
      ]
     },
     "metadata": {},
     "output_type": "display_data"
    },
    {
     "name": "stderr",
     "output_type": "stream",
     "text": [
      "/home/zhengyang/Desktop/Git_resp_limesegment/classifiers/ResNet.py:149: UserWarning: Implicit dimension choice for softmax has been deprecated. Change the call to include dim=X as an argument.\n",
      "  output_layer = self.softmax(output_layer)\n"
     ]
    },
    {
     "data": {
      "application/vnd.jupyter.widget-view+json": {
       "model_id": "54d4cce6a26a44099ec1a772fa73a672",
       "version_major": 2,
       "version_minor": 0
      },
      "text/plain": [
       "Lime attribution:   0%|          | 0/25 [00:00<?, ?it/s]"
      ]
     },
     "metadata": {},
     "output_type": "display_data"
    },
    {
     "name": "stderr",
     "output_type": "stream",
     "text": [
      "/home/zhengyang/Desktop/Git_resp_limesegment/classifiers/ResNet.py:149: UserWarning: Implicit dimension choice for softmax has been deprecated. Change the call to include dim=X as an argument.\n",
      "  output_layer = self.softmax(output_layer)\n"
     ]
    },
    {
     "data": {
      "application/vnd.jupyter.widget-view+json": {
       "model_id": "48443a8961ed4213962454ba632908e6",
       "version_major": 2,
       "version_minor": 0
      },
      "text/plain": [
       "Lime attribution:   0%|          | 0/25 [00:00<?, ?it/s]"
      ]
     },
     "metadata": {},
     "output_type": "display_data"
    },
    {
     "name": "stderr",
     "output_type": "stream",
     "text": [
      "/home/zhengyang/Desktop/Git_resp_limesegment/classifiers/ResNet.py:149: UserWarning: Implicit dimension choice for softmax has been deprecated. Change the call to include dim=X as an argument.\n",
      "  output_layer = self.softmax(output_layer)\n"
     ]
    },
    {
     "data": {
      "application/vnd.jupyter.widget-view+json": {
       "model_id": "ec9c8ec645d64ad7a5cd6d3a0ebd69b9",
       "version_major": 2,
       "version_minor": 0
      },
      "text/plain": [
       "Lime attribution:   0%|          | 0/25 [00:00<?, ?it/s]"
      ]
     },
     "metadata": {},
     "output_type": "display_data"
    },
    {
     "name": "stderr",
     "output_type": "stream",
     "text": [
      "/home/zhengyang/Desktop/Git_resp_limesegment/classifiers/ResNet.py:149: UserWarning: Implicit dimension choice for softmax has been deprecated. Change the call to include dim=X as an argument.\n",
      "  output_layer = self.softmax(output_layer)\n"
     ]
    },
    {
     "data": {
      "application/vnd.jupyter.widget-view+json": {
       "model_id": "075a76e35a054589885735abeb1f28b1",
       "version_major": 2,
       "version_minor": 0
      },
      "text/plain": [
       "Lime attribution:   0%|          | 0/25 [00:00<?, ?it/s]"
      ]
     },
     "metadata": {},
     "output_type": "display_data"
    },
    {
     "name": "stderr",
     "output_type": "stream",
     "text": [
      "/home/zhengyang/Desktop/Git_resp_limesegment/classifiers/ResNet.py:149: UserWarning: Implicit dimension choice for softmax has been deprecated. Change the call to include dim=X as an argument.\n",
      "  output_layer = self.softmax(output_layer)\n"
     ]
    },
    {
     "data": {
      "application/vnd.jupyter.widget-view+json": {
       "model_id": "752a9a5ce89447d5a2b22e536ca385d4",
       "version_major": 2,
       "version_minor": 0
      },
      "text/plain": [
       "Lime attribution:   0%|          | 0/25 [00:00<?, ?it/s]"
      ]
     },
     "metadata": {},
     "output_type": "display_data"
    },
    {
     "name": "stderr",
     "output_type": "stream",
     "text": [
      "/home/zhengyang/Desktop/Git_resp_limesegment/classifiers/ResNet.py:149: UserWarning: Implicit dimension choice for softmax has been deprecated. Change the call to include dim=X as an argument.\n",
      "  output_layer = self.softmax(output_layer)\n"
     ]
    },
    {
     "data": {
      "application/vnd.jupyter.widget-view+json": {
       "model_id": "70ad0f4752d44076b75b298e01203310",
       "version_major": 2,
       "version_minor": 0
      },
      "text/plain": [
       "Lime attribution:   0%|          | 0/25 [00:00<?, ?it/s]"
      ]
     },
     "metadata": {},
     "output_type": "display_data"
    },
    {
     "name": "stderr",
     "output_type": "stream",
     "text": [
      "/home/zhengyang/Desktop/Git_resp_limesegment/classifiers/ResNet.py:149: UserWarning: Implicit dimension choice for softmax has been deprecated. Change the call to include dim=X as an argument.\n",
      "  output_layer = self.softmax(output_layer)\n"
     ]
    },
    {
     "data": {
      "application/vnd.jupyter.widget-view+json": {
       "model_id": "150be9219b484ae7b310ebb0dd52385f",
       "version_major": 2,
       "version_minor": 0
      },
      "text/plain": [
       "Lime attribution:   0%|          | 0/25 [00:00<?, ?it/s]"
      ]
     },
     "metadata": {},
     "output_type": "display_data"
    },
    {
     "name": "stderr",
     "output_type": "stream",
     "text": [
      "/home/zhengyang/Desktop/Git_resp_limesegment/classifiers/ResNet.py:149: UserWarning: Implicit dimension choice for softmax has been deprecated. Change the call to include dim=X as an argument.\n",
      "  output_layer = self.softmax(output_layer)\n"
     ]
    },
    {
     "data": {
      "application/vnd.jupyter.widget-view+json": {
       "model_id": "f5bdfefef5bf4d548cc2e1502d02964a",
       "version_major": 2,
       "version_minor": 0
      },
      "text/plain": [
       "Lime attribution:   0%|          | 0/25 [00:00<?, ?it/s]"
      ]
     },
     "metadata": {},
     "output_type": "display_data"
    },
    {
     "name": "stderr",
     "output_type": "stream",
     "text": [
      "/home/zhengyang/Desktop/Git_resp_limesegment/classifiers/ResNet.py:149: UserWarning: Implicit dimension choice for softmax has been deprecated. Change the call to include dim=X as an argument.\n",
      "  output_layer = self.softmax(output_layer)\n"
     ]
    },
    {
     "data": {
      "application/vnd.jupyter.widget-view+json": {
       "model_id": "c4e324bac37341cebe21d07a0732f33c",
       "version_major": 2,
       "version_minor": 0
      },
      "text/plain": [
       "Lime attribution:   0%|          | 0/25 [00:00<?, ?it/s]"
      ]
     },
     "metadata": {},
     "output_type": "display_data"
    },
    {
     "name": "stderr",
     "output_type": "stream",
     "text": [
      "/home/zhengyang/Desktop/Git_resp_limesegment/classifiers/ResNet.py:149: UserWarning: Implicit dimension choice for softmax has been deprecated. Change the call to include dim=X as an argument.\n",
      "  output_layer = self.softmax(output_layer)\n"
     ]
    },
    {
     "data": {
      "application/vnd.jupyter.widget-view+json": {
       "model_id": "54c00c1caa95421a9723f9a454c613c3",
       "version_major": 2,
       "version_minor": 0
      },
      "text/plain": [
       "Lime attribution:   0%|          | 0/25 [00:00<?, ?it/s]"
      ]
     },
     "metadata": {},
     "output_type": "display_data"
    },
    {
     "name": "stderr",
     "output_type": "stream",
     "text": [
      "/home/zhengyang/Desktop/Git_resp_limesegment/classifiers/ResNet.py:149: UserWarning: Implicit dimension choice for softmax has been deprecated. Change the call to include dim=X as an argument.\n",
      "  output_layer = self.softmax(output_layer)\n"
     ]
    },
    {
     "data": {
      "application/vnd.jupyter.widget-view+json": {
       "model_id": "d666c3e805a04ec58162602ddd11a025",
       "version_major": 2,
       "version_minor": 0
      },
      "text/plain": [
       "Lime attribution:   0%|          | 0/25 [00:00<?, ?it/s]"
      ]
     },
     "metadata": {},
     "output_type": "display_data"
    },
    {
     "name": "stderr",
     "output_type": "stream",
     "text": [
      "/home/zhengyang/Desktop/Git_resp_limesegment/classifiers/ResNet.py:149: UserWarning: Implicit dimension choice for softmax has been deprecated. Change the call to include dim=X as an argument.\n",
      "  output_layer = self.softmax(output_layer)\n"
     ]
    },
    {
     "data": {
      "application/vnd.jupyter.widget-view+json": {
       "model_id": "b8db308a9c5746beac54a2baeb3588f1",
       "version_major": 2,
       "version_minor": 0
      },
      "text/plain": [
       "Lime attribution:   0%|          | 0/25 [00:00<?, ?it/s]"
      ]
     },
     "metadata": {},
     "output_type": "display_data"
    },
    {
     "name": "stderr",
     "output_type": "stream",
     "text": [
      "/home/zhengyang/Desktop/Git_resp_limesegment/classifiers/ResNet.py:149: UserWarning: Implicit dimension choice for softmax has been deprecated. Change the call to include dim=X as an argument.\n",
      "  output_layer = self.softmax(output_layer)\n"
     ]
    },
    {
     "data": {
      "application/vnd.jupyter.widget-view+json": {
       "model_id": "401df1396ade4ebe87659d4ff3810860",
       "version_major": 2,
       "version_minor": 0
      },
      "text/plain": [
       "Lime attribution:   0%|          | 0/25 [00:00<?, ?it/s]"
      ]
     },
     "metadata": {},
     "output_type": "display_data"
    },
    {
     "name": "stderr",
     "output_type": "stream",
     "text": [
      "/home/zhengyang/Desktop/Git_resp_limesegment/classifiers/ResNet.py:149: UserWarning: Implicit dimension choice for softmax has been deprecated. Change the call to include dim=X as an argument.\n",
      "  output_layer = self.softmax(output_layer)\n"
     ]
    },
    {
     "data": {
      "application/vnd.jupyter.widget-view+json": {
       "model_id": "03155234be2f4532bc0be86464af6102",
       "version_major": 2,
       "version_minor": 0
      },
      "text/plain": [
       "Lime attribution:   0%|          | 0/25 [00:00<?, ?it/s]"
      ]
     },
     "metadata": {},
     "output_type": "display_data"
    },
    {
     "name": "stderr",
     "output_type": "stream",
     "text": [
      "/home/zhengyang/Desktop/Git_resp_limesegment/classifiers/ResNet.py:149: UserWarning: Implicit dimension choice for softmax has been deprecated. Change the call to include dim=X as an argument.\n",
      "  output_layer = self.softmax(output_layer)\n"
     ]
    },
    {
     "data": {
      "application/vnd.jupyter.widget-view+json": {
       "model_id": "4e212b06168e4ef385a1ab3061db5731",
       "version_major": 2,
       "version_minor": 0
      },
      "text/plain": [
       "Lime attribution:   0%|          | 0/25 [00:00<?, ?it/s]"
      ]
     },
     "metadata": {},
     "output_type": "display_data"
    },
    {
     "name": "stderr",
     "output_type": "stream",
     "text": [
      "/home/zhengyang/Desktop/Git_resp_limesegment/classifiers/ResNet.py:149: UserWarning: Implicit dimension choice for softmax has been deprecated. Change the call to include dim=X as an argument.\n",
      "  output_layer = self.softmax(output_layer)\n"
     ]
    },
    {
     "data": {
      "application/vnd.jupyter.widget-view+json": {
       "model_id": "cb01b8ea8b19489fa342fe00b83d9bb8",
       "version_major": 2,
       "version_minor": 0
      },
      "text/plain": [
       "Lime attribution:   0%|          | 0/25 [00:00<?, ?it/s]"
      ]
     },
     "metadata": {},
     "output_type": "display_data"
    },
    {
     "name": "stderr",
     "output_type": "stream",
     "text": [
      "/home/zhengyang/Desktop/Git_resp_limesegment/classifiers/ResNet.py:149: UserWarning: Implicit dimension choice for softmax has been deprecated. Change the call to include dim=X as an argument.\n",
      "  output_layer = self.softmax(output_layer)\n"
     ]
    },
    {
     "data": {
      "application/vnd.jupyter.widget-view+json": {
       "model_id": "ecb8d1733e8745c2825896cdb66b110e",
       "version_major": 2,
       "version_minor": 0
      },
      "text/plain": [
       "Lime attribution:   0%|          | 0/25 [00:00<?, ?it/s]"
      ]
     },
     "metadata": {},
     "output_type": "display_data"
    },
    {
     "name": "stderr",
     "output_type": "stream",
     "text": [
      "/home/zhengyang/Desktop/Git_resp_limesegment/classifiers/ResNet.py:149: UserWarning: Implicit dimension choice for softmax has been deprecated. Change the call to include dim=X as an argument.\n",
      "  output_layer = self.softmax(output_layer)\n"
     ]
    },
    {
     "data": {
      "application/vnd.jupyter.widget-view+json": {
       "model_id": "eb43d41422ef43fe9033fd71820b9f6b",
       "version_major": 2,
       "version_minor": 0
      },
      "text/plain": [
       "Lime attribution:   0%|          | 0/25 [00:00<?, ?it/s]"
      ]
     },
     "metadata": {},
     "output_type": "display_data"
    },
    {
     "name": "stderr",
     "output_type": "stream",
     "text": [
      "/home/zhengyang/Desktop/Git_resp_limesegment/classifiers/ResNet.py:149: UserWarning: Implicit dimension choice for softmax has been deprecated. Change the call to include dim=X as an argument.\n",
      "  output_layer = self.softmax(output_layer)\n"
     ]
    },
    {
     "data": {
      "application/vnd.jupyter.widget-view+json": {
       "model_id": "491f63a8bd424177b283b8e8a48902bb",
       "version_major": 2,
       "version_minor": 0
      },
      "text/plain": [
       "Lime attribution:   0%|          | 0/25 [00:00<?, ?it/s]"
      ]
     },
     "metadata": {},
     "output_type": "display_data"
    },
    {
     "name": "stderr",
     "output_type": "stream",
     "text": [
      "/home/zhengyang/Desktop/Git_resp_limesegment/classifiers/ResNet.py:149: UserWarning: Implicit dimension choice for softmax has been deprecated. Change the call to include dim=X as an argument.\n",
      "  output_layer = self.softmax(output_layer)\n"
     ]
    },
    {
     "data": {
      "application/vnd.jupyter.widget-view+json": {
       "model_id": "32e67868fdb2424b8af961d478ba549a",
       "version_major": 2,
       "version_minor": 0
      },
      "text/plain": [
       "Lime attribution:   0%|          | 0/25 [00:00<?, ?it/s]"
      ]
     },
     "metadata": {},
     "output_type": "display_data"
    },
    {
     "name": "stderr",
     "output_type": "stream",
     "text": [
      "/home/zhengyang/Desktop/Git_resp_limesegment/classifiers/ResNet.py:149: UserWarning: Implicit dimension choice for softmax has been deprecated. Change the call to include dim=X as an argument.\n",
      "  output_layer = self.softmax(output_layer)\n"
     ]
    },
    {
     "data": {
      "application/vnd.jupyter.widget-view+json": {
       "model_id": "4b875aa381bf4afbbfb06c1cb9fd5751",
       "version_major": 2,
       "version_minor": 0
      },
      "text/plain": [
       "Lime attribution:   0%|          | 0/25 [00:00<?, ?it/s]"
      ]
     },
     "metadata": {},
     "output_type": "display_data"
    },
    {
     "name": "stderr",
     "output_type": "stream",
     "text": [
      "/home/zhengyang/Desktop/Git_resp_limesegment/classifiers/ResNet.py:149: UserWarning: Implicit dimension choice for softmax has been deprecated. Change the call to include dim=X as an argument.\n",
      "  output_layer = self.softmax(output_layer)\n"
     ]
    },
    {
     "data": {
      "application/vnd.jupyter.widget-view+json": {
       "model_id": "b88aa116f3aa4d0ea43ab7fd5c03c5c2",
       "version_major": 2,
       "version_minor": 0
      },
      "text/plain": [
       "Lime attribution:   0%|          | 0/25 [00:00<?, ?it/s]"
      ]
     },
     "metadata": {},
     "output_type": "display_data"
    },
    {
     "name": "stderr",
     "output_type": "stream",
     "text": [
      "/home/zhengyang/Desktop/Git_resp_limesegment/classifiers/ResNet.py:149: UserWarning: Implicit dimension choice for softmax has been deprecated. Change the call to include dim=X as an argument.\n",
      "  output_layer = self.softmax(output_layer)\n"
     ]
    },
    {
     "data": {
      "application/vnd.jupyter.widget-view+json": {
       "model_id": "b5101e82051646d9b48975ddae987ab6",
       "version_major": 2,
       "version_minor": 0
      },
      "text/plain": [
       "Lime attribution:   0%|          | 0/25 [00:00<?, ?it/s]"
      ]
     },
     "metadata": {},
     "output_type": "display_data"
    },
    {
     "name": "stderr",
     "output_type": "stream",
     "text": [
      "/home/zhengyang/Desktop/Git_resp_limesegment/classifiers/ResNet.py:149: UserWarning: Implicit dimension choice for softmax has been deprecated. Change the call to include dim=X as an argument.\n",
      "  output_layer = self.softmax(output_layer)\n"
     ]
    },
    {
     "data": {
      "application/vnd.jupyter.widget-view+json": {
       "model_id": "7fe2117a643149da9912506b6f28a998",
       "version_major": 2,
       "version_minor": 0
      },
      "text/plain": [
       "Lime attribution:   0%|          | 0/25 [00:00<?, ?it/s]"
      ]
     },
     "metadata": {},
     "output_type": "display_data"
    },
    {
     "name": "stderr",
     "output_type": "stream",
     "text": [
      "/home/zhengyang/Desktop/Git_resp_limesegment/classifiers/ResNet.py:149: UserWarning: Implicit dimension choice for softmax has been deprecated. Change the call to include dim=X as an argument.\n",
      "  output_layer = self.softmax(output_layer)\n"
     ]
    },
    {
     "data": {
      "application/vnd.jupyter.widget-view+json": {
       "model_id": "12e4f75bbeba4f25b86124ef8937456f",
       "version_major": 2,
       "version_minor": 0
      },
      "text/plain": [
       "Lime attribution:   0%|          | 0/25 [00:00<?, ?it/s]"
      ]
     },
     "metadata": {},
     "output_type": "display_data"
    },
    {
     "name": "stderr",
     "output_type": "stream",
     "text": [
      "/home/zhengyang/Desktop/Git_resp_limesegment/classifiers/ResNet.py:149: UserWarning: Implicit dimension choice for softmax has been deprecated. Change the call to include dim=X as an argument.\n",
      "  output_layer = self.softmax(output_layer)\n"
     ]
    },
    {
     "data": {
      "application/vnd.jupyter.widget-view+json": {
       "model_id": "621dbd4d669442aabb8b42a410a5b15a",
       "version_major": 2,
       "version_minor": 0
      },
      "text/plain": [
       "Lime attribution:   0%|          | 0/25 [00:00<?, ?it/s]"
      ]
     },
     "metadata": {},
     "output_type": "display_data"
    },
    {
     "name": "stderr",
     "output_type": "stream",
     "text": [
      "/home/zhengyang/Desktop/Git_resp_limesegment/classifiers/ResNet.py:149: UserWarning: Implicit dimension choice for softmax has been deprecated. Change the call to include dim=X as an argument.\n",
      "  output_layer = self.softmax(output_layer)\n"
     ]
    },
    {
     "data": {
      "application/vnd.jupyter.widget-view+json": {
       "model_id": "04cd2a9f36e4442c99c67bb40dfcbcc2",
       "version_major": 2,
       "version_minor": 0
      },
      "text/plain": [
       "Lime attribution:   0%|          | 0/25 [00:00<?, ?it/s]"
      ]
     },
     "metadata": {},
     "output_type": "display_data"
    },
    {
     "name": "stderr",
     "output_type": "stream",
     "text": [
      "/home/zhengyang/Desktop/Git_resp_limesegment/classifiers/ResNet.py:149: UserWarning: Implicit dimension choice for softmax has been deprecated. Change the call to include dim=X as an argument.\n",
      "  output_layer = self.softmax(output_layer)\n"
     ]
    },
    {
     "data": {
      "application/vnd.jupyter.widget-view+json": {
       "model_id": "dad7ecf0ecd248da8bb58a393095d9fa",
       "version_major": 2,
       "version_minor": 0
      },
      "text/plain": [
       "Lime attribution:   0%|          | 0/25 [00:00<?, ?it/s]"
      ]
     },
     "metadata": {},
     "output_type": "display_data"
    },
    {
     "name": "stderr",
     "output_type": "stream",
     "text": [
      "/home/zhengyang/Desktop/Git_resp_limesegment/classifiers/ResNet.py:149: UserWarning: Implicit dimension choice for softmax has been deprecated. Change the call to include dim=X as an argument.\n",
      "  output_layer = self.softmax(output_layer)\n"
     ]
    },
    {
     "data": {
      "application/vnd.jupyter.widget-view+json": {
       "model_id": "a830428c98354bb8bb6f6e9e202fc4be",
       "version_major": 2,
       "version_minor": 0
      },
      "text/plain": [
       "Lime attribution:   0%|          | 0/25 [00:00<?, ?it/s]"
      ]
     },
     "metadata": {},
     "output_type": "display_data"
    },
    {
     "name": "stderr",
     "output_type": "stream",
     "text": [
      "/home/zhengyang/Desktop/Git_resp_limesegment/classifiers/ResNet.py:149: UserWarning: Implicit dimension choice for softmax has been deprecated. Change the call to include dim=X as an argument.\n",
      "  output_layer = self.softmax(output_layer)\n"
     ]
    },
    {
     "data": {
      "application/vnd.jupyter.widget-view+json": {
       "model_id": "292269418e2b47469be49a4fb7a51a30",
       "version_major": 2,
       "version_minor": 0
      },
      "text/plain": [
       "Lime attribution:   0%|          | 0/25 [00:00<?, ?it/s]"
      ]
     },
     "metadata": {},
     "output_type": "display_data"
    },
    {
     "name": "stderr",
     "output_type": "stream",
     "text": [
      "/home/zhengyang/Desktop/Git_resp_limesegment/classifiers/ResNet.py:149: UserWarning: Implicit dimension choice for softmax has been deprecated. Change the call to include dim=X as an argument.\n",
      "  output_layer = self.softmax(output_layer)\n"
     ]
    },
    {
     "data": {
      "application/vnd.jupyter.widget-view+json": {
       "model_id": "d43f16f7114d4bea9a81de4f190f9905",
       "version_major": 2,
       "version_minor": 0
      },
      "text/plain": [
       "Lime attribution:   0%|          | 0/25 [00:00<?, ?it/s]"
      ]
     },
     "metadata": {},
     "output_type": "display_data"
    },
    {
     "name": "stderr",
     "output_type": "stream",
     "text": [
      "/home/zhengyang/Desktop/Git_resp_limesegment/classifiers/ResNet.py:149: UserWarning: Implicit dimension choice for softmax has been deprecated. Change the call to include dim=X as an argument.\n",
      "  output_layer = self.softmax(output_layer)\n"
     ]
    },
    {
     "data": {
      "application/vnd.jupyter.widget-view+json": {
       "model_id": "40df6209dd7c4050b7cbb76c5570916c",
       "version_major": 2,
       "version_minor": 0
      },
      "text/plain": [
       "Lime attribution:   0%|          | 0/25 [00:00<?, ?it/s]"
      ]
     },
     "metadata": {},
     "output_type": "display_data"
    },
    {
     "name": "stderr",
     "output_type": "stream",
     "text": [
      "/home/zhengyang/Desktop/Git_resp_limesegment/classifiers/ResNet.py:149: UserWarning: Implicit dimension choice for softmax has been deprecated. Change the call to include dim=X as an argument.\n",
      "  output_layer = self.softmax(output_layer)\n"
     ]
    },
    {
     "data": {
      "application/vnd.jupyter.widget-view+json": {
       "model_id": "c44b24d228c24de48675ea000363ded7",
       "version_major": 2,
       "version_minor": 0
      },
      "text/plain": [
       "Lime attribution:   0%|          | 0/25 [00:00<?, ?it/s]"
      ]
     },
     "metadata": {},
     "output_type": "display_data"
    },
    {
     "name": "stderr",
     "output_type": "stream",
     "text": [
      "/home/zhengyang/Desktop/Git_resp_limesegment/classifiers/ResNet.py:149: UserWarning: Implicit dimension choice for softmax has been deprecated. Change the call to include dim=X as an argument.\n",
      "  output_layer = self.softmax(output_layer)\n"
     ]
    },
    {
     "data": {
      "application/vnd.jupyter.widget-view+json": {
       "model_id": "6fb8a6fa43c6437e9a735e1d86d9e838",
       "version_major": 2,
       "version_minor": 0
      },
      "text/plain": [
       "Lime attribution:   0%|          | 0/25 [00:00<?, ?it/s]"
      ]
     },
     "metadata": {},
     "output_type": "display_data"
    },
    {
     "name": "stderr",
     "output_type": "stream",
     "text": [
      "/home/zhengyang/Desktop/Git_resp_limesegment/classifiers/ResNet.py:149: UserWarning: Implicit dimension choice for softmax has been deprecated. Change the call to include dim=X as an argument.\n",
      "  output_layer = self.softmax(output_layer)\n"
     ]
    },
    {
     "data": {
      "application/vnd.jupyter.widget-view+json": {
       "model_id": "1dbe00d1993e4c55be09a54395e8a25c",
       "version_major": 2,
       "version_minor": 0
      },
      "text/plain": [
       "Lime attribution:   0%|          | 0/25 [00:00<?, ?it/s]"
      ]
     },
     "metadata": {},
     "output_type": "display_data"
    },
    {
     "name": "stderr",
     "output_type": "stream",
     "text": [
      "/home/zhengyang/Desktop/Git_resp_limesegment/classifiers/ResNet.py:149: UserWarning: Implicit dimension choice for softmax has been deprecated. Change the call to include dim=X as an argument.\n",
      "  output_layer = self.softmax(output_layer)\n"
     ]
    },
    {
     "data": {
      "application/vnd.jupyter.widget-view+json": {
       "model_id": "c2a3e5ff99464b17b049408f40d1cf7d",
       "version_major": 2,
       "version_minor": 0
      },
      "text/plain": [
       "Lime attribution:   0%|          | 0/25 [00:00<?, ?it/s]"
      ]
     },
     "metadata": {},
     "output_type": "display_data"
    },
    {
     "name": "stderr",
     "output_type": "stream",
     "text": [
      "/home/zhengyang/Desktop/Git_resp_limesegment/classifiers/ResNet.py:149: UserWarning: Implicit dimension choice for softmax has been deprecated. Change the call to include dim=X as an argument.\n",
      "  output_layer = self.softmax(output_layer)\n"
     ]
    },
    {
     "data": {
      "application/vnd.jupyter.widget-view+json": {
       "model_id": "d42426ea5480412fa68aebaa03e2e90e",
       "version_major": 2,
       "version_minor": 0
      },
      "text/plain": [
       "Lime attribution:   0%|          | 0/25 [00:00<?, ?it/s]"
      ]
     },
     "metadata": {},
     "output_type": "display_data"
    },
    {
     "name": "stderr",
     "output_type": "stream",
     "text": [
      "/home/zhengyang/Desktop/Git_resp_limesegment/classifiers/ResNet.py:149: UserWarning: Implicit dimension choice for softmax has been deprecated. Change the call to include dim=X as an argument.\n",
      "  output_layer = self.softmax(output_layer)\n"
     ]
    },
    {
     "data": {
      "application/vnd.jupyter.widget-view+json": {
       "model_id": "75748022c53b4e2ab4df52cbe7166775",
       "version_major": 2,
       "version_minor": 0
      },
      "text/plain": [
       "Lime attribution:   0%|          | 0/25 [00:00<?, ?it/s]"
      ]
     },
     "metadata": {},
     "output_type": "display_data"
    },
    {
     "name": "stderr",
     "output_type": "stream",
     "text": [
      "/home/zhengyang/Desktop/Git_resp_limesegment/classifiers/ResNet.py:149: UserWarning: Implicit dimension choice for softmax has been deprecated. Change the call to include dim=X as an argument.\n",
      "  output_layer = self.softmax(output_layer)\n"
     ]
    },
    {
     "data": {
      "application/vnd.jupyter.widget-view+json": {
       "model_id": "264ec9af0e83432aa9c1d70ec0bf1c35",
       "version_major": 2,
       "version_minor": 0
      },
      "text/plain": [
       "Lime attribution:   0%|          | 0/25 [00:00<?, ?it/s]"
      ]
     },
     "metadata": {},
     "output_type": "display_data"
    },
    {
     "name": "stderr",
     "output_type": "stream",
     "text": [
      "/home/zhengyang/Desktop/Git_resp_limesegment/classifiers/ResNet.py:149: UserWarning: Implicit dimension choice for softmax has been deprecated. Change the call to include dim=X as an argument.\n",
      "  output_layer = self.softmax(output_layer)\n"
     ]
    },
    {
     "data": {
      "application/vnd.jupyter.widget-view+json": {
       "model_id": "e514a16ba96642559ebb88bfa0c8c36e",
       "version_major": 2,
       "version_minor": 0
      },
      "text/plain": [
       "Lime attribution:   0%|          | 0/25 [00:00<?, ?it/s]"
      ]
     },
     "metadata": {},
     "output_type": "display_data"
    },
    {
     "name": "stderr",
     "output_type": "stream",
     "text": [
      "/home/zhengyang/Desktop/Git_resp_limesegment/classifiers/ResNet.py:149: UserWarning: Implicit dimension choice for softmax has been deprecated. Change the call to include dim=X as an argument.\n",
      "  output_layer = self.softmax(output_layer)\n"
     ]
    },
    {
     "data": {
      "application/vnd.jupyter.widget-view+json": {
       "model_id": "06d905eeef0f46fd996b219f22824449",
       "version_major": 2,
       "version_minor": 0
      },
      "text/plain": [
       "Lime attribution:   0%|          | 0/25 [00:00<?, ?it/s]"
      ]
     },
     "metadata": {},
     "output_type": "display_data"
    },
    {
     "name": "stderr",
     "output_type": "stream",
     "text": [
      "/home/zhengyang/Desktop/Git_resp_limesegment/classifiers/ResNet.py:149: UserWarning: Implicit dimension choice for softmax has been deprecated. Change the call to include dim=X as an argument.\n",
      "  output_layer = self.softmax(output_layer)\n"
     ]
    },
    {
     "data": {
      "application/vnd.jupyter.widget-view+json": {
       "model_id": "ffa59527b17f4be4b97e1f2a111291a9",
       "version_major": 2,
       "version_minor": 0
      },
      "text/plain": [
       "Lime attribution:   0%|          | 0/25 [00:00<?, ?it/s]"
      ]
     },
     "metadata": {},
     "output_type": "display_data"
    },
    {
     "name": "stderr",
     "output_type": "stream",
     "text": [
      "/home/zhengyang/Desktop/Git_resp_limesegment/classifiers/ResNet.py:149: UserWarning: Implicit dimension choice for softmax has been deprecated. Change the call to include dim=X as an argument.\n",
      "  output_layer = self.softmax(output_layer)\n"
     ]
    },
    {
     "data": {
      "application/vnd.jupyter.widget-view+json": {
       "model_id": "1ab5ed9a266a4816a865c9e9f53fd6bb",
       "version_major": 2,
       "version_minor": 0
      },
      "text/plain": [
       "Lime attribution:   0%|          | 0/25 [00:00<?, ?it/s]"
      ]
     },
     "metadata": {},
     "output_type": "display_data"
    },
    {
     "name": "stderr",
     "output_type": "stream",
     "text": [
      "/home/zhengyang/Desktop/Git_resp_limesegment/classifiers/ResNet.py:149: UserWarning: Implicit dimension choice for softmax has been deprecated. Change the call to include dim=X as an argument.\n",
      "  output_layer = self.softmax(output_layer)\n"
     ]
    },
    {
     "data": {
      "application/vnd.jupyter.widget-view+json": {
       "model_id": "0a2d93d4198147108393127fe7cb0abd",
       "version_major": 2,
       "version_minor": 0
      },
      "text/plain": [
       "Lime attribution:   0%|          | 0/25 [00:00<?, ?it/s]"
      ]
     },
     "metadata": {},
     "output_type": "display_data"
    },
    {
     "name": "stderr",
     "output_type": "stream",
     "text": [
      "/home/zhengyang/Desktop/Git_resp_limesegment/classifiers/ResNet.py:149: UserWarning: Implicit dimension choice for softmax has been deprecated. Change the call to include dim=X as an argument.\n",
      "  output_layer = self.softmax(output_layer)\n"
     ]
    },
    {
     "data": {
      "application/vnd.jupyter.widget-view+json": {
       "model_id": "fdd98e69f0104949b6f52bad97e7b42f",
       "version_major": 2,
       "version_minor": 0
      },
      "text/plain": [
       "Lime attribution:   0%|          | 0/25 [00:00<?, ?it/s]"
      ]
     },
     "metadata": {},
     "output_type": "display_data"
    },
    {
     "name": "stderr",
     "output_type": "stream",
     "text": [
      "/home/zhengyang/Desktop/Git_resp_limesegment/classifiers/ResNet.py:149: UserWarning: Implicit dimension choice for softmax has been deprecated. Change the call to include dim=X as an argument.\n",
      "  output_layer = self.softmax(output_layer)\n"
     ]
    },
    {
     "data": {
      "application/vnd.jupyter.widget-view+json": {
       "model_id": "1f85da74de39473dabe5b431b8d64d8f",
       "version_major": 2,
       "version_minor": 0
      },
      "text/plain": [
       "Lime attribution:   0%|          | 0/25 [00:00<?, ?it/s]"
      ]
     },
     "metadata": {},
     "output_type": "display_data"
    },
    {
     "name": "stderr",
     "output_type": "stream",
     "text": [
      "/home/zhengyang/Desktop/Git_resp_limesegment/classifiers/ResNet.py:149: UserWarning: Implicit dimension choice for softmax has been deprecated. Change the call to include dim=X as an argument.\n",
      "  output_layer = self.softmax(output_layer)\n"
     ]
    },
    {
     "data": {
      "application/vnd.jupyter.widget-view+json": {
       "model_id": "a7194d2c100245af8bb337b964d35259",
       "version_major": 2,
       "version_minor": 0
      },
      "text/plain": [
       "Lime attribution:   0%|          | 0/25 [00:00<?, ?it/s]"
      ]
     },
     "metadata": {},
     "output_type": "display_data"
    },
    {
     "name": "stderr",
     "output_type": "stream",
     "text": [
      "/home/zhengyang/Desktop/Git_resp_limesegment/classifiers/ResNet.py:149: UserWarning: Implicit dimension choice for softmax has been deprecated. Change the call to include dim=X as an argument.\n",
      "  output_layer = self.softmax(output_layer)\n"
     ]
    },
    {
     "data": {
      "application/vnd.jupyter.widget-view+json": {
       "model_id": "57c0d13246b944378d17ce5254bce980",
       "version_major": 2,
       "version_minor": 0
      },
      "text/plain": [
       "Lime attribution:   0%|          | 0/25 [00:00<?, ?it/s]"
      ]
     },
     "metadata": {},
     "output_type": "display_data"
    },
    {
     "name": "stderr",
     "output_type": "stream",
     "text": [
      "/home/zhengyang/Desktop/Git_resp_limesegment/classifiers/ResNet.py:149: UserWarning: Implicit dimension choice for softmax has been deprecated. Change the call to include dim=X as an argument.\n",
      "  output_layer = self.softmax(output_layer)\n"
     ]
    },
    {
     "data": {
      "application/vnd.jupyter.widget-view+json": {
       "model_id": "1239651976b849d0b0151f7c65dd2dcc",
       "version_major": 2,
       "version_minor": 0
      },
      "text/plain": [
       "Lime attribution:   0%|          | 0/25 [00:00<?, ?it/s]"
      ]
     },
     "metadata": {},
     "output_type": "display_data"
    },
    {
     "name": "stderr",
     "output_type": "stream",
     "text": [
      "/home/zhengyang/Desktop/Git_resp_limesegment/classifiers/ResNet.py:149: UserWarning: Implicit dimension choice for softmax has been deprecated. Change the call to include dim=X as an argument.\n",
      "  output_layer = self.softmax(output_layer)\n"
     ]
    },
    {
     "data": {
      "application/vnd.jupyter.widget-view+json": {
       "model_id": "f86476801be04f5e985386976600ed38",
       "version_major": 2,
       "version_minor": 0
      },
      "text/plain": [
       "Lime attribution:   0%|          | 0/25 [00:00<?, ?it/s]"
      ]
     },
     "metadata": {},
     "output_type": "display_data"
    },
    {
     "name": "stderr",
     "output_type": "stream",
     "text": [
      "/home/zhengyang/Desktop/Git_resp_limesegment/classifiers/ResNet.py:149: UserWarning: Implicit dimension choice for softmax has been deprecated. Change the call to include dim=X as an argument.\n",
      "  output_layer = self.softmax(output_layer)\n"
     ]
    },
    {
     "data": {
      "application/vnd.jupyter.widget-view+json": {
       "model_id": "47556a576b614a1cb2742180e6a490b9",
       "version_major": 2,
       "version_minor": 0
      },
      "text/plain": [
       "Lime attribution:   0%|          | 0/25 [00:00<?, ?it/s]"
      ]
     },
     "metadata": {},
     "output_type": "display_data"
    },
    {
     "name": "stderr",
     "output_type": "stream",
     "text": [
      "/home/zhengyang/Desktop/Git_resp_limesegment/classifiers/ResNet.py:149: UserWarning: Implicit dimension choice for softmax has been deprecated. Change the call to include dim=X as an argument.\n",
      "  output_layer = self.softmax(output_layer)\n"
     ]
    },
    {
     "data": {
      "application/vnd.jupyter.widget-view+json": {
       "model_id": "98d8f422ae1440d3baad7ce5dd580fcf",
       "version_major": 2,
       "version_minor": 0
      },
      "text/plain": [
       "Lime attribution:   0%|          | 0/25 [00:00<?, ?it/s]"
      ]
     },
     "metadata": {},
     "output_type": "display_data"
    },
    {
     "name": "stderr",
     "output_type": "stream",
     "text": [
      "/home/zhengyang/Desktop/Git_resp_limesegment/classifiers/ResNet.py:149: UserWarning: Implicit dimension choice for softmax has been deprecated. Change the call to include dim=X as an argument.\n",
      "  output_layer = self.softmax(output_layer)\n"
     ]
    },
    {
     "data": {
      "application/vnd.jupyter.widget-view+json": {
       "model_id": "edff21611c924e4fb5eead6042b1b56d",
       "version_major": 2,
       "version_minor": 0
      },
      "text/plain": [
       "Lime attribution:   0%|          | 0/25 [00:00<?, ?it/s]"
      ]
     },
     "metadata": {},
     "output_type": "display_data"
    },
    {
     "name": "stderr",
     "output_type": "stream",
     "text": [
      "/home/zhengyang/Desktop/Git_resp_limesegment/classifiers/ResNet.py:149: UserWarning: Implicit dimension choice for softmax has been deprecated. Change the call to include dim=X as an argument.\n",
      "  output_layer = self.softmax(output_layer)\n"
     ]
    },
    {
     "data": {
      "application/vnd.jupyter.widget-view+json": {
       "model_id": "f6e4738bced447678c19ab91e340519f",
       "version_major": 2,
       "version_minor": 0
      },
      "text/plain": [
       "Lime attribution:   0%|          | 0/25 [00:00<?, ?it/s]"
      ]
     },
     "metadata": {},
     "output_type": "display_data"
    },
    {
     "name": "stderr",
     "output_type": "stream",
     "text": [
      "/home/zhengyang/Desktop/Git_resp_limesegment/classifiers/ResNet.py:149: UserWarning: Implicit dimension choice for softmax has been deprecated. Change the call to include dim=X as an argument.\n",
      "  output_layer = self.softmax(output_layer)\n"
     ]
    },
    {
     "data": {
      "application/vnd.jupyter.widget-view+json": {
       "model_id": "8b18185f65bf45d8ac85e105b8f96b06",
       "version_major": 2,
       "version_minor": 0
      },
      "text/plain": [
       "Lime attribution:   0%|          | 0/25 [00:00<?, ?it/s]"
      ]
     },
     "metadata": {},
     "output_type": "display_data"
    },
    {
     "name": "stderr",
     "output_type": "stream",
     "text": [
      "/home/zhengyang/Desktop/Git_resp_limesegment/classifiers/ResNet.py:149: UserWarning: Implicit dimension choice for softmax has been deprecated. Change the call to include dim=X as an argument.\n",
      "  output_layer = self.softmax(output_layer)\n"
     ]
    },
    {
     "data": {
      "application/vnd.jupyter.widget-view+json": {
       "model_id": "cdcdf7c4a3584b7c86a8c0569d3b3d3a",
       "version_major": 2,
       "version_minor": 0
      },
      "text/plain": [
       "Lime attribution:   0%|          | 0/25 [00:00<?, ?it/s]"
      ]
     },
     "metadata": {},
     "output_type": "display_data"
    },
    {
     "name": "stderr",
     "output_type": "stream",
     "text": [
      "/home/zhengyang/Desktop/Git_resp_limesegment/classifiers/ResNet.py:149: UserWarning: Implicit dimension choice for softmax has been deprecated. Change the call to include dim=X as an argument.\n",
      "  output_layer = self.softmax(output_layer)\n"
     ]
    },
    {
     "data": {
      "application/vnd.jupyter.widget-view+json": {
       "model_id": "0b3e98a7163c434394db31ec44cc771f",
       "version_major": 2,
       "version_minor": 0
      },
      "text/plain": [
       "Lime attribution:   0%|          | 0/25 [00:00<?, ?it/s]"
      ]
     },
     "metadata": {},
     "output_type": "display_data"
    },
    {
     "name": "stderr",
     "output_type": "stream",
     "text": [
      "/home/zhengyang/Desktop/Git_resp_limesegment/classifiers/ResNet.py:149: UserWarning: Implicit dimension choice for softmax has been deprecated. Change the call to include dim=X as an argument.\n",
      "  output_layer = self.softmax(output_layer)\n"
     ]
    },
    {
     "data": {
      "application/vnd.jupyter.widget-view+json": {
       "model_id": "a24e40ddcd4c4cd2bab1cd876cf01c59",
       "version_major": 2,
       "version_minor": 0
      },
      "text/plain": [
       "Lime attribution:   0%|          | 0/25 [00:00<?, ?it/s]"
      ]
     },
     "metadata": {},
     "output_type": "display_data"
    },
    {
     "name": "stderr",
     "output_type": "stream",
     "text": [
      "/home/zhengyang/Desktop/Git_resp_limesegment/classifiers/ResNet.py:149: UserWarning: Implicit dimension choice for softmax has been deprecated. Change the call to include dim=X as an argument.\n",
      "  output_layer = self.softmax(output_layer)\n"
     ]
    },
    {
     "data": {
      "application/vnd.jupyter.widget-view+json": {
       "model_id": "5def4e65c84b41609642b644d882363d",
       "version_major": 2,
       "version_minor": 0
      },
      "text/plain": [
       "Lime attribution:   0%|          | 0/25 [00:00<?, ?it/s]"
      ]
     },
     "metadata": {},
     "output_type": "display_data"
    },
    {
     "name": "stderr",
     "output_type": "stream",
     "text": [
      "/home/zhengyang/Desktop/Git_resp_limesegment/classifiers/ResNet.py:149: UserWarning: Implicit dimension choice for softmax has been deprecated. Change the call to include dim=X as an argument.\n",
      "  output_layer = self.softmax(output_layer)\n"
     ]
    },
    {
     "data": {
      "application/vnd.jupyter.widget-view+json": {
       "model_id": "c836b4b5132a4aad8d1c229a4e4d2f6f",
       "version_major": 2,
       "version_minor": 0
      },
      "text/plain": [
       "Lime attribution:   0%|          | 0/25 [00:00<?, ?it/s]"
      ]
     },
     "metadata": {},
     "output_type": "display_data"
    },
    {
     "name": "stderr",
     "output_type": "stream",
     "text": [
      "/home/zhengyang/Desktop/Git_resp_limesegment/classifiers/ResNet.py:149: UserWarning: Implicit dimension choice for softmax has been deprecated. Change the call to include dim=X as an argument.\n",
      "  output_layer = self.softmax(output_layer)\n"
     ]
    },
    {
     "data": {
      "application/vnd.jupyter.widget-view+json": {
       "model_id": "ce784c329f734a0db4ab671d71c433ff",
       "version_major": 2,
       "version_minor": 0
      },
      "text/plain": [
       "Lime attribution:   0%|          | 0/25 [00:00<?, ?it/s]"
      ]
     },
     "metadata": {},
     "output_type": "display_data"
    },
    {
     "name": "stderr",
     "output_type": "stream",
     "text": [
      "/home/zhengyang/Desktop/Git_resp_limesegment/classifiers/ResNet.py:149: UserWarning: Implicit dimension choice for softmax has been deprecated. Change the call to include dim=X as an argument.\n",
      "  output_layer = self.softmax(output_layer)\n"
     ]
    },
    {
     "data": {
      "application/vnd.jupyter.widget-view+json": {
       "model_id": "e489873dc1b64ad3ad70c7d6ca96c55c",
       "version_major": 2,
       "version_minor": 0
      },
      "text/plain": [
       "Lime attribution:   0%|          | 0/25 [00:00<?, ?it/s]"
      ]
     },
     "metadata": {},
     "output_type": "display_data"
    },
    {
     "name": "stderr",
     "output_type": "stream",
     "text": [
      "/home/zhengyang/Desktop/Git_resp_limesegment/classifiers/ResNet.py:149: UserWarning: Implicit dimension choice for softmax has been deprecated. Change the call to include dim=X as an argument.\n",
      "  output_layer = self.softmax(output_layer)\n"
     ]
    },
    {
     "data": {
      "application/vnd.jupyter.widget-view+json": {
       "model_id": "3a1ea0cea0984df5a6704277b15a236e",
       "version_major": 2,
       "version_minor": 0
      },
      "text/plain": [
       "Lime attribution:   0%|          | 0/25 [00:00<?, ?it/s]"
      ]
     },
     "metadata": {},
     "output_type": "display_data"
    },
    {
     "name": "stderr",
     "output_type": "stream",
     "text": [
      "/home/zhengyang/Desktop/Git_resp_limesegment/classifiers/ResNet.py:149: UserWarning: Implicit dimension choice for softmax has been deprecated. Change the call to include dim=X as an argument.\n",
      "  output_layer = self.softmax(output_layer)\n"
     ]
    },
    {
     "data": {
      "application/vnd.jupyter.widget-view+json": {
       "model_id": "4aca674e88a74f29ab6c0afddce3076d",
       "version_major": 2,
       "version_minor": 0
      },
      "text/plain": [
       "Lime attribution:   0%|          | 0/25 [00:00<?, ?it/s]"
      ]
     },
     "metadata": {},
     "output_type": "display_data"
    },
    {
     "name": "stderr",
     "output_type": "stream",
     "text": [
      "/home/zhengyang/Desktop/Git_resp_limesegment/classifiers/ResNet.py:149: UserWarning: Implicit dimension choice for softmax has been deprecated. Change the call to include dim=X as an argument.\n",
      "  output_layer = self.softmax(output_layer)\n"
     ]
    },
    {
     "data": {
      "application/vnd.jupyter.widget-view+json": {
       "model_id": "ad8446fa4a2f4ca9a4bf40f234f8b405",
       "version_major": 2,
       "version_minor": 0
      },
      "text/plain": [
       "Lime attribution:   0%|          | 0/25 [00:00<?, ?it/s]"
      ]
     },
     "metadata": {},
     "output_type": "display_data"
    },
    {
     "name": "stderr",
     "output_type": "stream",
     "text": [
      "/home/zhengyang/Desktop/Git_resp_limesegment/classifiers/ResNet.py:149: UserWarning: Implicit dimension choice for softmax has been deprecated. Change the call to include dim=X as an argument.\n",
      "  output_layer = self.softmax(output_layer)\n"
     ]
    },
    {
     "data": {
      "application/vnd.jupyter.widget-view+json": {
       "model_id": "921f38c4e9004e2d8708158c242dd482",
       "version_major": 2,
       "version_minor": 0
      },
      "text/plain": [
       "Lime attribution:   0%|          | 0/25 [00:00<?, ?it/s]"
      ]
     },
     "metadata": {},
     "output_type": "display_data"
    },
    {
     "name": "stderr",
     "output_type": "stream",
     "text": [
      "/home/zhengyang/Desktop/Git_resp_limesegment/classifiers/ResNet.py:149: UserWarning: Implicit dimension choice for softmax has been deprecated. Change the call to include dim=X as an argument.\n",
      "  output_layer = self.softmax(output_layer)\n"
     ]
    },
    {
     "data": {
      "application/vnd.jupyter.widget-view+json": {
       "model_id": "c191e78fbbdf4c968a90edc3fe64198b",
       "version_major": 2,
       "version_minor": 0
      },
      "text/plain": [
       "Lime attribution:   0%|          | 0/25 [00:00<?, ?it/s]"
      ]
     },
     "metadata": {},
     "output_type": "display_data"
    },
    {
     "name": "stderr",
     "output_type": "stream",
     "text": [
      "/home/zhengyang/Desktop/Git_resp_limesegment/classifiers/ResNet.py:149: UserWarning: Implicit dimension choice for softmax has been deprecated. Change the call to include dim=X as an argument.\n",
      "  output_layer = self.softmax(output_layer)\n"
     ]
    },
    {
     "data": {
      "application/vnd.jupyter.widget-view+json": {
       "model_id": "7f43675b3efe4fa7883d8f6db519144b",
       "version_major": 2,
       "version_minor": 0
      },
      "text/plain": [
       "Lime attribution:   0%|          | 0/25 [00:00<?, ?it/s]"
      ]
     },
     "metadata": {},
     "output_type": "display_data"
    },
    {
     "name": "stderr",
     "output_type": "stream",
     "text": [
      "/home/zhengyang/Desktop/Git_resp_limesegment/classifiers/ResNet.py:149: UserWarning: Implicit dimension choice for softmax has been deprecated. Change the call to include dim=X as an argument.\n",
      "  output_layer = self.softmax(output_layer)\n"
     ]
    },
    {
     "data": {
      "application/vnd.jupyter.widget-view+json": {
       "model_id": "b5372c3fdf5f4016907c29a54ee55552",
       "version_major": 2,
       "version_minor": 0
      },
      "text/plain": [
       "Lime attribution:   0%|          | 0/25 [00:00<?, ?it/s]"
      ]
     },
     "metadata": {},
     "output_type": "display_data"
    },
    {
     "name": "stderr",
     "output_type": "stream",
     "text": [
      "/home/zhengyang/Desktop/Git_resp_limesegment/classifiers/ResNet.py:149: UserWarning: Implicit dimension choice for softmax has been deprecated. Change the call to include dim=X as an argument.\n",
      "  output_layer = self.softmax(output_layer)\n"
     ]
    },
    {
     "data": {
      "application/vnd.jupyter.widget-view+json": {
       "model_id": "71d23bf558c84864a9eb9a0fbfa06e24",
       "version_major": 2,
       "version_minor": 0
      },
      "text/plain": [
       "Lime attribution:   0%|          | 0/25 [00:00<?, ?it/s]"
      ]
     },
     "metadata": {},
     "output_type": "display_data"
    },
    {
     "name": "stderr",
     "output_type": "stream",
     "text": [
      "/home/zhengyang/Desktop/Git_resp_limesegment/classifiers/ResNet.py:149: UserWarning: Implicit dimension choice for softmax has been deprecated. Change the call to include dim=X as an argument.\n",
      "  output_layer = self.softmax(output_layer)\n"
     ]
    },
    {
     "data": {
      "application/vnd.jupyter.widget-view+json": {
       "model_id": "4460646c575d4d0aaf4aec4ae3a0ef8e",
       "version_major": 2,
       "version_minor": 0
      },
      "text/plain": [
       "Lime attribution:   0%|          | 0/25 [00:00<?, ?it/s]"
      ]
     },
     "metadata": {},
     "output_type": "display_data"
    },
    {
     "name": "stderr",
     "output_type": "stream",
     "text": [
      "/home/zhengyang/Desktop/Git_resp_limesegment/classifiers/ResNet.py:149: UserWarning: Implicit dimension choice for softmax has been deprecated. Change the call to include dim=X as an argument.\n",
      "  output_layer = self.softmax(output_layer)\n"
     ]
    },
    {
     "data": {
      "application/vnd.jupyter.widget-view+json": {
       "model_id": "b1c3781714a84566b350aa799af90466",
       "version_major": 2,
       "version_minor": 0
      },
      "text/plain": [
       "Lime attribution:   0%|          | 0/25 [00:00<?, ?it/s]"
      ]
     },
     "metadata": {},
     "output_type": "display_data"
    },
    {
     "name": "stderr",
     "output_type": "stream",
     "text": [
      "/home/zhengyang/Desktop/Git_resp_limesegment/classifiers/ResNet.py:149: UserWarning: Implicit dimension choice for softmax has been deprecated. Change the call to include dim=X as an argument.\n",
      "  output_layer = self.softmax(output_layer)\n"
     ]
    },
    {
     "data": {
      "application/vnd.jupyter.widget-view+json": {
       "model_id": "4f43a568538448fe807e3015580a5f8e",
       "version_major": 2,
       "version_minor": 0
      },
      "text/plain": [
       "Lime attribution:   0%|          | 0/25 [00:00<?, ?it/s]"
      ]
     },
     "metadata": {},
     "output_type": "display_data"
    },
    {
     "name": "stderr",
     "output_type": "stream",
     "text": [
      "/home/zhengyang/Desktop/Git_resp_limesegment/classifiers/ResNet.py:149: UserWarning: Implicit dimension choice for softmax has been deprecated. Change the call to include dim=X as an argument.\n",
      "  output_layer = self.softmax(output_layer)\n"
     ]
    },
    {
     "data": {
      "application/vnd.jupyter.widget-view+json": {
       "model_id": "3a79a4f089a647f1bfa1f3e519a09c56",
       "version_major": 2,
       "version_minor": 0
      },
      "text/plain": [
       "Lime attribution:   0%|          | 0/25 [00:00<?, ?it/s]"
      ]
     },
     "metadata": {},
     "output_type": "display_data"
    },
    {
     "name": "stderr",
     "output_type": "stream",
     "text": [
      "/home/zhengyang/Desktop/Git_resp_limesegment/classifiers/ResNet.py:149: UserWarning: Implicit dimension choice for softmax has been deprecated. Change the call to include dim=X as an argument.\n",
      "  output_layer = self.softmax(output_layer)\n"
     ]
    },
    {
     "data": {
      "application/vnd.jupyter.widget-view+json": {
       "model_id": "0f588188c129453aa4fc47f60706a5d0",
       "version_major": 2,
       "version_minor": 0
      },
      "text/plain": [
       "Lime attribution:   0%|          | 0/25 [00:00<?, ?it/s]"
      ]
     },
     "metadata": {},
     "output_type": "display_data"
    },
    {
     "name": "stderr",
     "output_type": "stream",
     "text": [
      "/home/zhengyang/Desktop/Git_resp_limesegment/classifiers/ResNet.py:149: UserWarning: Implicit dimension choice for softmax has been deprecated. Change the call to include dim=X as an argument.\n",
      "  output_layer = self.softmax(output_layer)\n"
     ]
    },
    {
     "data": {
      "application/vnd.jupyter.widget-view+json": {
       "model_id": "a0462bf07e544744adc8171bb4acc119",
       "version_major": 2,
       "version_minor": 0
      },
      "text/plain": [
       "Lime attribution:   0%|          | 0/25 [00:00<?, ?it/s]"
      ]
     },
     "metadata": {},
     "output_type": "display_data"
    },
    {
     "name": "stderr",
     "output_type": "stream",
     "text": [
      "/home/zhengyang/Desktop/Git_resp_limesegment/classifiers/ResNet.py:149: UserWarning: Implicit dimension choice for softmax has been deprecated. Change the call to include dim=X as an argument.\n",
      "  output_layer = self.softmax(output_layer)\n"
     ]
    },
    {
     "data": {
      "application/vnd.jupyter.widget-view+json": {
       "model_id": "92f3a6dec7804207ba5a1a168f45557f",
       "version_major": 2,
       "version_minor": 0
      },
      "text/plain": [
       "Lime attribution:   0%|          | 0/25 [00:00<?, ?it/s]"
      ]
     },
     "metadata": {},
     "output_type": "display_data"
    },
    {
     "name": "stderr",
     "output_type": "stream",
     "text": [
      "/home/zhengyang/Desktop/Git_resp_limesegment/classifiers/ResNet.py:149: UserWarning: Implicit dimension choice for softmax has been deprecated. Change the call to include dim=X as an argument.\n",
      "  output_layer = self.softmax(output_layer)\n"
     ]
    },
    {
     "data": {
      "application/vnd.jupyter.widget-view+json": {
       "model_id": "fa799c8e4d774255bb96e6fb45550263",
       "version_major": 2,
       "version_minor": 0
      },
      "text/plain": [
       "Lime attribution:   0%|          | 0/25 [00:00<?, ?it/s]"
      ]
     },
     "metadata": {},
     "output_type": "display_data"
    },
    {
     "name": "stderr",
     "output_type": "stream",
     "text": [
      "/home/zhengyang/Desktop/Git_resp_limesegment/classifiers/ResNet.py:149: UserWarning: Implicit dimension choice for softmax has been deprecated. Change the call to include dim=X as an argument.\n",
      "  output_layer = self.softmax(output_layer)\n"
     ]
    },
    {
     "data": {
      "application/vnd.jupyter.widget-view+json": {
       "model_id": "120775b7243c4085a180b45e4f390ef0",
       "version_major": 2,
       "version_minor": 0
      },
      "text/plain": [
       "Lime attribution:   0%|          | 0/25 [00:00<?, ?it/s]"
      ]
     },
     "metadata": {},
     "output_type": "display_data"
    },
    {
     "name": "stderr",
     "output_type": "stream",
     "text": [
      "/home/zhengyang/Desktop/Git_resp_limesegment/classifiers/ResNet.py:149: UserWarning: Implicit dimension choice for softmax has been deprecated. Change the call to include dim=X as an argument.\n",
      "  output_layer = self.softmax(output_layer)\n"
     ]
    },
    {
     "data": {
      "application/vnd.jupyter.widget-view+json": {
       "model_id": "50f3e6a75c2e443b81e586e86a30f499",
       "version_major": 2,
       "version_minor": 0
      },
      "text/plain": [
       "Lime attribution:   0%|          | 0/25 [00:00<?, ?it/s]"
      ]
     },
     "metadata": {},
     "output_type": "display_data"
    },
    {
     "name": "stderr",
     "output_type": "stream",
     "text": [
      "/home/zhengyang/Desktop/Git_resp_limesegment/classifiers/ResNet.py:149: UserWarning: Implicit dimension choice for softmax has been deprecated. Change the call to include dim=X as an argument.\n",
      "  output_layer = self.softmax(output_layer)\n"
     ]
    },
    {
     "data": {
      "application/vnd.jupyter.widget-view+json": {
       "model_id": "0f63ce80303649fca8ed87b2367915fe",
       "version_major": 2,
       "version_minor": 0
      },
      "text/plain": [
       "Lime attribution:   0%|          | 0/25 [00:00<?, ?it/s]"
      ]
     },
     "metadata": {},
     "output_type": "display_data"
    },
    {
     "name": "stderr",
     "output_type": "stream",
     "text": [
      "/home/zhengyang/Desktop/Git_resp_limesegment/classifiers/ResNet.py:149: UserWarning: Implicit dimension choice for softmax has been deprecated. Change the call to include dim=X as an argument.\n",
      "  output_layer = self.softmax(output_layer)\n"
     ]
    },
    {
     "data": {
      "application/vnd.jupyter.widget-view+json": {
       "model_id": "2591b4328b1e4e71b8921ef74005ab46",
       "version_major": 2,
       "version_minor": 0
      },
      "text/plain": [
       "Lime attribution:   0%|          | 0/25 [00:00<?, ?it/s]"
      ]
     },
     "metadata": {},
     "output_type": "display_data"
    },
    {
     "name": "stderr",
     "output_type": "stream",
     "text": [
      "/home/zhengyang/Desktop/Git_resp_limesegment/classifiers/ResNet.py:149: UserWarning: Implicit dimension choice for softmax has been deprecated. Change the call to include dim=X as an argument.\n",
      "  output_layer = self.softmax(output_layer)\n"
     ]
    },
    {
     "data": {
      "application/vnd.jupyter.widget-view+json": {
       "model_id": "4985b53cc7f6444b945491f833e26a07",
       "version_major": 2,
       "version_minor": 0
      },
      "text/plain": [
       "Lime attribution:   0%|          | 0/25 [00:00<?, ?it/s]"
      ]
     },
     "metadata": {},
     "output_type": "display_data"
    },
    {
     "name": "stderr",
     "output_type": "stream",
     "text": [
      "/home/zhengyang/Desktop/Git_resp_limesegment/classifiers/ResNet.py:149: UserWarning: Implicit dimension choice for softmax has been deprecated. Change the call to include dim=X as an argument.\n",
      "  output_layer = self.softmax(output_layer)\n"
     ]
    },
    {
     "data": {
      "application/vnd.jupyter.widget-view+json": {
       "model_id": "edcbd1d433714d768423c70d64626642",
       "version_major": 2,
       "version_minor": 0
      },
      "text/plain": [
       "Lime attribution:   0%|          | 0/25 [00:00<?, ?it/s]"
      ]
     },
     "metadata": {},
     "output_type": "display_data"
    },
    {
     "name": "stderr",
     "output_type": "stream",
     "text": [
      "/home/zhengyang/Desktop/Git_resp_limesegment/classifiers/ResNet.py:149: UserWarning: Implicit dimension choice for softmax has been deprecated. Change the call to include dim=X as an argument.\n",
      "  output_layer = self.softmax(output_layer)\n"
     ]
    },
    {
     "data": {
      "application/vnd.jupyter.widget-view+json": {
       "model_id": "4a94214d3b1f4d2eb26de63541ddcb00",
       "version_major": 2,
       "version_minor": 0
      },
      "text/plain": [
       "Lime attribution:   0%|          | 0/25 [00:00<?, ?it/s]"
      ]
     },
     "metadata": {},
     "output_type": "display_data"
    },
    {
     "name": "stderr",
     "output_type": "stream",
     "text": [
      "/home/zhengyang/Desktop/Git_resp_limesegment/classifiers/ResNet.py:149: UserWarning: Implicit dimension choice for softmax has been deprecated. Change the call to include dim=X as an argument.\n",
      "  output_layer = self.softmax(output_layer)\n"
     ]
    },
    {
     "data": {
      "application/vnd.jupyter.widget-view+json": {
       "model_id": "1613ae2da7f9418996443b7312002bd4",
       "version_major": 2,
       "version_minor": 0
      },
      "text/plain": [
       "Lime attribution:   0%|          | 0/25 [00:00<?, ?it/s]"
      ]
     },
     "metadata": {},
     "output_type": "display_data"
    },
    {
     "name": "stderr",
     "output_type": "stream",
     "text": [
      "/home/zhengyang/Desktop/Git_resp_limesegment/classifiers/ResNet.py:149: UserWarning: Implicit dimension choice for softmax has been deprecated. Change the call to include dim=X as an argument.\n",
      "  output_layer = self.softmax(output_layer)\n"
     ]
    },
    {
     "data": {
      "application/vnd.jupyter.widget-view+json": {
       "model_id": "8001f821aa024775936c4898cce16532",
       "version_major": 2,
       "version_minor": 0
      },
      "text/plain": [
       "Lime attribution:   0%|          | 0/25 [00:00<?, ?it/s]"
      ]
     },
     "metadata": {},
     "output_type": "display_data"
    },
    {
     "name": "stderr",
     "output_type": "stream",
     "text": [
      "/home/zhengyang/Desktop/Git_resp_limesegment/classifiers/ResNet.py:149: UserWarning: Implicit dimension choice for softmax has been deprecated. Change the call to include dim=X as an argument.\n",
      "  output_layer = self.softmax(output_layer)\n"
     ]
    },
    {
     "data": {
      "application/vnd.jupyter.widget-view+json": {
       "model_id": "f2854fda48ae4c9a960c9a275576bfd5",
       "version_major": 2,
       "version_minor": 0
      },
      "text/plain": [
       "Lime attribution:   0%|          | 0/25 [00:00<?, ?it/s]"
      ]
     },
     "metadata": {},
     "output_type": "display_data"
    },
    {
     "name": "stderr",
     "output_type": "stream",
     "text": [
      "/home/zhengyang/Desktop/Git_resp_limesegment/classifiers/ResNet.py:149: UserWarning: Implicit dimension choice for softmax has been deprecated. Change the call to include dim=X as an argument.\n",
      "  output_layer = self.softmax(output_layer)\n"
     ]
    },
    {
     "data": {
      "application/vnd.jupyter.widget-view+json": {
       "model_id": "e3e4f5713bea4d919da11056950ec34f",
       "version_major": 2,
       "version_minor": 0
      },
      "text/plain": [
       "Lime attribution:   0%|          | 0/25 [00:00<?, ?it/s]"
      ]
     },
     "metadata": {},
     "output_type": "display_data"
    },
    {
     "name": "stderr",
     "output_type": "stream",
     "text": [
      "/home/zhengyang/Desktop/Git_resp_limesegment/classifiers/ResNet.py:149: UserWarning: Implicit dimension choice for softmax has been deprecated. Change the call to include dim=X as an argument.\n",
      "  output_layer = self.softmax(output_layer)\n"
     ]
    },
    {
     "data": {
      "application/vnd.jupyter.widget-view+json": {
       "model_id": "c6e69fed4add4783b17a64048371734a",
       "version_major": 2,
       "version_minor": 0
      },
      "text/plain": [
       "Lime attribution:   0%|          | 0/25 [00:00<?, ?it/s]"
      ]
     },
     "metadata": {},
     "output_type": "display_data"
    },
    {
     "name": "stderr",
     "output_type": "stream",
     "text": [
      "/home/zhengyang/Desktop/Git_resp_limesegment/classifiers/ResNet.py:149: UserWarning: Implicit dimension choice for softmax has been deprecated. Change the call to include dim=X as an argument.\n",
      "  output_layer = self.softmax(output_layer)\n"
     ]
    },
    {
     "data": {
      "application/vnd.jupyter.widget-view+json": {
       "model_id": "00eb3bb47a3e42b5a8d8f2425b94b755",
       "version_major": 2,
       "version_minor": 0
      },
      "text/plain": [
       "Lime attribution:   0%|          | 0/25 [00:00<?, ?it/s]"
      ]
     },
     "metadata": {},
     "output_type": "display_data"
    },
    {
     "name": "stderr",
     "output_type": "stream",
     "text": [
      "/home/zhengyang/Desktop/Git_resp_limesegment/classifiers/ResNet.py:149: UserWarning: Implicit dimension choice for softmax has been deprecated. Change the call to include dim=X as an argument.\n",
      "  output_layer = self.softmax(output_layer)\n"
     ]
    },
    {
     "data": {
      "application/vnd.jupyter.widget-view+json": {
       "model_id": "ea4650f6b72c483a8ce18f5ca40f6a69",
       "version_major": 2,
       "version_minor": 0
      },
      "text/plain": [
       "Lime attribution:   0%|          | 0/25 [00:00<?, ?it/s]"
      ]
     },
     "metadata": {},
     "output_type": "display_data"
    },
    {
     "name": "stderr",
     "output_type": "stream",
     "text": [
      "/home/zhengyang/Desktop/Git_resp_limesegment/classifiers/ResNet.py:149: UserWarning: Implicit dimension choice for softmax has been deprecated. Change the call to include dim=X as an argument.\n",
      "  output_layer = self.softmax(output_layer)\n"
     ]
    },
    {
     "data": {
      "application/vnd.jupyter.widget-view+json": {
       "model_id": "9608992b15914147a0f9a3d5f57f2271",
       "version_major": 2,
       "version_minor": 0
      },
      "text/plain": [
       "Lime attribution:   0%|          | 0/25 [00:00<?, ?it/s]"
      ]
     },
     "metadata": {},
     "output_type": "display_data"
    },
    {
     "name": "stderr",
     "output_type": "stream",
     "text": [
      "/home/zhengyang/Desktop/Git_resp_limesegment/classifiers/ResNet.py:149: UserWarning: Implicit dimension choice for softmax has been deprecated. Change the call to include dim=X as an argument.\n",
      "  output_layer = self.softmax(output_layer)\n"
     ]
    },
    {
     "data": {
      "application/vnd.jupyter.widget-view+json": {
       "model_id": "e388d47cdb87435a9f90aef4be8c9f75",
       "version_major": 2,
       "version_minor": 0
      },
      "text/plain": [
       "Lime attribution:   0%|          | 0/25 [00:00<?, ?it/s]"
      ]
     },
     "metadata": {},
     "output_type": "display_data"
    },
    {
     "name": "stderr",
     "output_type": "stream",
     "text": [
      "/home/zhengyang/Desktop/Git_resp_limesegment/classifiers/ResNet.py:149: UserWarning: Implicit dimension choice for softmax has been deprecated. Change the call to include dim=X as an argument.\n",
      "  output_layer = self.softmax(output_layer)\n"
     ]
    },
    {
     "data": {
      "application/vnd.jupyter.widget-view+json": {
       "model_id": "c43ee19e8c1b4fb992bf5813e05db84d",
       "version_major": 2,
       "version_minor": 0
      },
      "text/plain": [
       "Lime attribution:   0%|          | 0/25 [00:00<?, ?it/s]"
      ]
     },
     "metadata": {},
     "output_type": "display_data"
    },
    {
     "name": "stderr",
     "output_type": "stream",
     "text": [
      "/home/zhengyang/Desktop/Git_resp_limesegment/classifiers/ResNet.py:149: UserWarning: Implicit dimension choice for softmax has been deprecated. Change the call to include dim=X as an argument.\n",
      "  output_layer = self.softmax(output_layer)\n"
     ]
    },
    {
     "data": {
      "application/vnd.jupyter.widget-view+json": {
       "model_id": "511f35da24394ca29d5af2c3317053d2",
       "version_major": 2,
       "version_minor": 0
      },
      "text/plain": [
       "Lime attribution:   0%|          | 0/25 [00:00<?, ?it/s]"
      ]
     },
     "metadata": {},
     "output_type": "display_data"
    },
    {
     "name": "stderr",
     "output_type": "stream",
     "text": [
      "/home/zhengyang/Desktop/Git_resp_limesegment/classifiers/ResNet.py:149: UserWarning: Implicit dimension choice for softmax has been deprecated. Change the call to include dim=X as an argument.\n",
      "  output_layer = self.softmax(output_layer)\n"
     ]
    },
    {
     "data": {
      "application/vnd.jupyter.widget-view+json": {
       "model_id": "d9a2e571ffff4b8cb350fc3fbf4d6009",
       "version_major": 2,
       "version_minor": 0
      },
      "text/plain": [
       "Lime attribution:   0%|          | 0/25 [00:00<?, ?it/s]"
      ]
     },
     "metadata": {},
     "output_type": "display_data"
    },
    {
     "name": "stderr",
     "output_type": "stream",
     "text": [
      "/home/zhengyang/Desktop/Git_resp_limesegment/classifiers/ResNet.py:149: UserWarning: Implicit dimension choice for softmax has been deprecated. Change the call to include dim=X as an argument.\n",
      "  output_layer = self.softmax(output_layer)\n"
     ]
    },
    {
     "data": {
      "application/vnd.jupyter.widget-view+json": {
       "model_id": "aee0d7bab4224312a7c736e7c81baea4",
       "version_major": 2,
       "version_minor": 0
      },
      "text/plain": [
       "Lime attribution:   0%|          | 0/25 [00:00<?, ?it/s]"
      ]
     },
     "metadata": {},
     "output_type": "display_data"
    },
    {
     "name": "stderr",
     "output_type": "stream",
     "text": [
      "/home/zhengyang/Desktop/Git_resp_limesegment/classifiers/ResNet.py:149: UserWarning: Implicit dimension choice for softmax has been deprecated. Change the call to include dim=X as an argument.\n",
      "  output_layer = self.softmax(output_layer)\n"
     ]
    },
    {
     "data": {
      "application/vnd.jupyter.widget-view+json": {
       "model_id": "48371ec33487439c89a5783b97153ce3",
       "version_major": 2,
       "version_minor": 0
      },
      "text/plain": [
       "Lime attribution:   0%|          | 0/25 [00:00<?, ?it/s]"
      ]
     },
     "metadata": {},
     "output_type": "display_data"
    },
    {
     "name": "stderr",
     "output_type": "stream",
     "text": [
      "/home/zhengyang/Desktop/Git_resp_limesegment/classifiers/ResNet.py:149: UserWarning: Implicit dimension choice for softmax has been deprecated. Change the call to include dim=X as an argument.\n",
      "  output_layer = self.softmax(output_layer)\n"
     ]
    },
    {
     "data": {
      "application/vnd.jupyter.widget-view+json": {
       "model_id": "8b7fc6883135485b9283d4e916f2314f",
       "version_major": 2,
       "version_minor": 0
      },
      "text/plain": [
       "Lime attribution:   0%|          | 0/25 [00:00<?, ?it/s]"
      ]
     },
     "metadata": {},
     "output_type": "display_data"
    },
    {
     "name": "stderr",
     "output_type": "stream",
     "text": [
      "/home/zhengyang/Desktop/Git_resp_limesegment/classifiers/ResNet.py:149: UserWarning: Implicit dimension choice for softmax has been deprecated. Change the call to include dim=X as an argument.\n",
      "  output_layer = self.softmax(output_layer)\n"
     ]
    },
    {
     "data": {
      "application/vnd.jupyter.widget-view+json": {
       "model_id": "8a892819410641f38697a79b4154fd69",
       "version_major": 2,
       "version_minor": 0
      },
      "text/plain": [
       "Lime attribution:   0%|          | 0/25 [00:00<?, ?it/s]"
      ]
     },
     "metadata": {},
     "output_type": "display_data"
    },
    {
     "name": "stderr",
     "output_type": "stream",
     "text": [
      "/home/zhengyang/Desktop/Git_resp_limesegment/classifiers/ResNet.py:149: UserWarning: Implicit dimension choice for softmax has been deprecated. Change the call to include dim=X as an argument.\n",
      "  output_layer = self.softmax(output_layer)\n"
     ]
    },
    {
     "data": {
      "application/vnd.jupyter.widget-view+json": {
       "model_id": "4b8d367707fc4f72a7a310509408cf7e",
       "version_major": 2,
       "version_minor": 0
      },
      "text/plain": [
       "Lime attribution:   0%|          | 0/25 [00:00<?, ?it/s]"
      ]
     },
     "metadata": {},
     "output_type": "display_data"
    },
    {
     "name": "stderr",
     "output_type": "stream",
     "text": [
      "/home/zhengyang/Desktop/Git_resp_limesegment/classifiers/ResNet.py:149: UserWarning: Implicit dimension choice for softmax has been deprecated. Change the call to include dim=X as an argument.\n",
      "  output_layer = self.softmax(output_layer)\n"
     ]
    },
    {
     "data": {
      "application/vnd.jupyter.widget-view+json": {
       "model_id": "03d2d5d35e9644a7ad388e89f82e305f",
       "version_major": 2,
       "version_minor": 0
      },
      "text/plain": [
       "Lime attribution:   0%|          | 0/25 [00:00<?, ?it/s]"
      ]
     },
     "metadata": {},
     "output_type": "display_data"
    },
    {
     "name": "stderr",
     "output_type": "stream",
     "text": [
      "/home/zhengyang/Desktop/Git_resp_limesegment/classifiers/ResNet.py:149: UserWarning: Implicit dimension choice for softmax has been deprecated. Change the call to include dim=X as an argument.\n",
      "  output_layer = self.softmax(output_layer)\n"
     ]
    },
    {
     "data": {
      "application/vnd.jupyter.widget-view+json": {
       "model_id": "98cf4af0db46492196fbf922fe28ee0a",
       "version_major": 2,
       "version_minor": 0
      },
      "text/plain": [
       "Lime attribution:   0%|          | 0/25 [00:00<?, ?it/s]"
      ]
     },
     "metadata": {},
     "output_type": "display_data"
    },
    {
     "name": "stderr",
     "output_type": "stream",
     "text": [
      "/home/zhengyang/Desktop/Git_resp_limesegment/classifiers/ResNet.py:149: UserWarning: Implicit dimension choice for softmax has been deprecated. Change the call to include dim=X as an argument.\n",
      "  output_layer = self.softmax(output_layer)\n"
     ]
    },
    {
     "data": {
      "application/vnd.jupyter.widget-view+json": {
       "model_id": "f0f227b517734cf59d1f57d0378e1c0e",
       "version_major": 2,
       "version_minor": 0
      },
      "text/plain": [
       "Lime attribution:   0%|          | 0/25 [00:00<?, ?it/s]"
      ]
     },
     "metadata": {},
     "output_type": "display_data"
    },
    {
     "name": "stderr",
     "output_type": "stream",
     "text": [
      "/home/zhengyang/Desktop/Git_resp_limesegment/classifiers/ResNet.py:149: UserWarning: Implicit dimension choice for softmax has been deprecated. Change the call to include dim=X as an argument.\n",
      "  output_layer = self.softmax(output_layer)\n"
     ]
    },
    {
     "data": {
      "application/vnd.jupyter.widget-view+json": {
       "model_id": "36b0d4fe55534551bbd9c81d9a14850b",
       "version_major": 2,
       "version_minor": 0
      },
      "text/plain": [
       "Lime attribution:   0%|          | 0/25 [00:00<?, ?it/s]"
      ]
     },
     "metadata": {},
     "output_type": "display_data"
    },
    {
     "name": "stderr",
     "output_type": "stream",
     "text": [
      "/home/zhengyang/Desktop/Git_resp_limesegment/classifiers/ResNet.py:149: UserWarning: Implicit dimension choice for softmax has been deprecated. Change the call to include dim=X as an argument.\n",
      "  output_layer = self.softmax(output_layer)\n"
     ]
    },
    {
     "data": {
      "application/vnd.jupyter.widget-view+json": {
       "model_id": "3ddd8f6e14e849689e317bff428f73fa",
       "version_major": 2,
       "version_minor": 0
      },
      "text/plain": [
       "Lime attribution:   0%|          | 0/25 [00:00<?, ?it/s]"
      ]
     },
     "metadata": {},
     "output_type": "display_data"
    },
    {
     "name": "stderr",
     "output_type": "stream",
     "text": [
      "/home/zhengyang/Desktop/Git_resp_limesegment/classifiers/ResNet.py:149: UserWarning: Implicit dimension choice for softmax has been deprecated. Change the call to include dim=X as an argument.\n",
      "  output_layer = self.softmax(output_layer)\n"
     ]
    },
    {
     "data": {
      "application/vnd.jupyter.widget-view+json": {
       "model_id": "c01e48e7e3c94baea29926a65b6a4505",
       "version_major": 2,
       "version_minor": 0
      },
      "text/plain": [
       "Lime attribution:   0%|          | 0/25 [00:00<?, ?it/s]"
      ]
     },
     "metadata": {},
     "output_type": "display_data"
    },
    {
     "name": "stderr",
     "output_type": "stream",
     "text": [
      "/home/zhengyang/Desktop/Git_resp_limesegment/classifiers/ResNet.py:149: UserWarning: Implicit dimension choice for softmax has been deprecated. Change the call to include dim=X as an argument.\n",
      "  output_layer = self.softmax(output_layer)\n"
     ]
    },
    {
     "data": {
      "application/vnd.jupyter.widget-view+json": {
       "model_id": "809e7306245148d5a606cfb38a62d52a",
       "version_major": 2,
       "version_minor": 0
      },
      "text/plain": [
       "Lime attribution:   0%|          | 0/25 [00:00<?, ?it/s]"
      ]
     },
     "metadata": {},
     "output_type": "display_data"
    },
    {
     "name": "stderr",
     "output_type": "stream",
     "text": [
      "/home/zhengyang/Desktop/Git_resp_limesegment/classifiers/ResNet.py:149: UserWarning: Implicit dimension choice for softmax has been deprecated. Change the call to include dim=X as an argument.\n",
      "  output_layer = self.softmax(output_layer)\n"
     ]
    },
    {
     "data": {
      "application/vnd.jupyter.widget-view+json": {
       "model_id": "baacc59979594161948e937e1ce50034",
       "version_major": 2,
       "version_minor": 0
      },
      "text/plain": [
       "Lime attribution:   0%|          | 0/25 [00:00<?, ?it/s]"
      ]
     },
     "metadata": {},
     "output_type": "display_data"
    },
    {
     "name": "stderr",
     "output_type": "stream",
     "text": [
      "/home/zhengyang/Desktop/Git_resp_limesegment/classifiers/ResNet.py:149: UserWarning: Implicit dimension choice for softmax has been deprecated. Change the call to include dim=X as an argument.\n",
      "  output_layer = self.softmax(output_layer)\n"
     ]
    },
    {
     "data": {
      "application/vnd.jupyter.widget-view+json": {
       "model_id": "368dfe2d557c4e4b9007fa449f04ed60",
       "version_major": 2,
       "version_minor": 0
      },
      "text/plain": [
       "Lime attribution:   0%|          | 0/25 [00:00<?, ?it/s]"
      ]
     },
     "metadata": {},
     "output_type": "display_data"
    },
    {
     "name": "stderr",
     "output_type": "stream",
     "text": [
      "/home/zhengyang/Desktop/Git_resp_limesegment/classifiers/ResNet.py:149: UserWarning: Implicit dimension choice for softmax has been deprecated. Change the call to include dim=X as an argument.\n",
      "  output_layer = self.softmax(output_layer)\n"
     ]
    },
    {
     "data": {
      "application/vnd.jupyter.widget-view+json": {
       "model_id": "1c0afcfd178547dab71053bd41e02e7c",
       "version_major": 2,
       "version_minor": 0
      },
      "text/plain": [
       "Lime attribution:   0%|          | 0/25 [00:00<?, ?it/s]"
      ]
     },
     "metadata": {},
     "output_type": "display_data"
    },
    {
     "name": "stderr",
     "output_type": "stream",
     "text": [
      "/home/zhengyang/Desktop/Git_resp_limesegment/classifiers/ResNet.py:149: UserWarning: Implicit dimension choice for softmax has been deprecated. Change the call to include dim=X as an argument.\n",
      "  output_layer = self.softmax(output_layer)\n"
     ]
    },
    {
     "data": {
      "application/vnd.jupyter.widget-view+json": {
       "model_id": "c215dd87cd824b1fb50e814b43460d8c",
       "version_major": 2,
       "version_minor": 0
      },
      "text/plain": [
       "Lime attribution:   0%|          | 0/25 [00:00<?, ?it/s]"
      ]
     },
     "metadata": {},
     "output_type": "display_data"
    },
    {
     "name": "stderr",
     "output_type": "stream",
     "text": [
      "/home/zhengyang/Desktop/Git_resp_limesegment/classifiers/ResNet.py:149: UserWarning: Implicit dimension choice for softmax has been deprecated. Change the call to include dim=X as an argument.\n",
      "  output_layer = self.softmax(output_layer)\n"
     ]
    },
    {
     "data": {
      "application/vnd.jupyter.widget-view+json": {
       "model_id": "a46f508077c0440aa4d6ea5698cc3ca1",
       "version_major": 2,
       "version_minor": 0
      },
      "text/plain": [
       "Lime attribution:   0%|          | 0/25 [00:00<?, ?it/s]"
      ]
     },
     "metadata": {},
     "output_type": "display_data"
    },
    {
     "name": "stderr",
     "output_type": "stream",
     "text": [
      "/home/zhengyang/Desktop/Git_resp_limesegment/classifiers/ResNet.py:149: UserWarning: Implicit dimension choice for softmax has been deprecated. Change the call to include dim=X as an argument.\n",
      "  output_layer = self.softmax(output_layer)\n"
     ]
    },
    {
     "data": {
      "application/vnd.jupyter.widget-view+json": {
       "model_id": "718e8250b17e4c77969254c88c47fb32",
       "version_major": 2,
       "version_minor": 0
      },
      "text/plain": [
       "Lime attribution:   0%|          | 0/25 [00:00<?, ?it/s]"
      ]
     },
     "metadata": {},
     "output_type": "display_data"
    },
    {
     "name": "stderr",
     "output_type": "stream",
     "text": [
      "/home/zhengyang/Desktop/Git_resp_limesegment/classifiers/ResNet.py:149: UserWarning: Implicit dimension choice for softmax has been deprecated. Change the call to include dim=X as an argument.\n",
      "  output_layer = self.softmax(output_layer)\n"
     ]
    },
    {
     "data": {
      "application/vnd.jupyter.widget-view+json": {
       "model_id": "239a5342b90f417f91a7bf4026f3b857",
       "version_major": 2,
       "version_minor": 0
      },
      "text/plain": [
       "Lime attribution:   0%|          | 0/25 [00:00<?, ?it/s]"
      ]
     },
     "metadata": {},
     "output_type": "display_data"
    },
    {
     "name": "stderr",
     "output_type": "stream",
     "text": [
      "/home/zhengyang/Desktop/Git_resp_limesegment/classifiers/ResNet.py:149: UserWarning: Implicit dimension choice for softmax has been deprecated. Change the call to include dim=X as an argument.\n",
      "  output_layer = self.softmax(output_layer)\n"
     ]
    },
    {
     "data": {
      "application/vnd.jupyter.widget-view+json": {
       "model_id": "beca398a351e48dabaefe006b41e5416",
       "version_major": 2,
       "version_minor": 0
      },
      "text/plain": [
       "Lime attribution:   0%|          | 0/25 [00:00<?, ?it/s]"
      ]
     },
     "metadata": {},
     "output_type": "display_data"
    },
    {
     "name": "stderr",
     "output_type": "stream",
     "text": [
      "/home/zhengyang/Desktop/Git_resp_limesegment/classifiers/ResNet.py:149: UserWarning: Implicit dimension choice for softmax has been deprecated. Change the call to include dim=X as an argument.\n",
      "  output_layer = self.softmax(output_layer)\n"
     ]
    },
    {
     "data": {
      "application/vnd.jupyter.widget-view+json": {
       "model_id": "880adfdeaa1b420fa84bb10c179605c2",
       "version_major": 2,
       "version_minor": 0
      },
      "text/plain": [
       "Lime attribution:   0%|          | 0/25 [00:00<?, ?it/s]"
      ]
     },
     "metadata": {},
     "output_type": "display_data"
    },
    {
     "name": "stderr",
     "output_type": "stream",
     "text": [
      "/home/zhengyang/Desktop/Git_resp_limesegment/classifiers/ResNet.py:149: UserWarning: Implicit dimension choice for softmax has been deprecated. Change the call to include dim=X as an argument.\n",
      "  output_layer = self.softmax(output_layer)\n"
     ]
    },
    {
     "data": {
      "application/vnd.jupyter.widget-view+json": {
       "model_id": "c66e5fa8dd4b4165ab4b5f2434cb9d9c",
       "version_major": 2,
       "version_minor": 0
      },
      "text/plain": [
       "Lime attribution:   0%|          | 0/25 [00:00<?, ?it/s]"
      ]
     },
     "metadata": {},
     "output_type": "display_data"
    },
    {
     "name": "stderr",
     "output_type": "stream",
     "text": [
      "/home/zhengyang/Desktop/Git_resp_limesegment/classifiers/ResNet.py:149: UserWarning: Implicit dimension choice for softmax has been deprecated. Change the call to include dim=X as an argument.\n",
      "  output_layer = self.softmax(output_layer)\n"
     ]
    },
    {
     "data": {
      "application/vnd.jupyter.widget-view+json": {
       "model_id": "255396795d9e4ac19a5940c4a9caf30b",
       "version_major": 2,
       "version_minor": 0
      },
      "text/plain": [
       "Lime attribution:   0%|          | 0/25 [00:00<?, ?it/s]"
      ]
     },
     "metadata": {},
     "output_type": "display_data"
    },
    {
     "name": "stderr",
     "output_type": "stream",
     "text": [
      "/home/zhengyang/Desktop/Git_resp_limesegment/classifiers/ResNet.py:149: UserWarning: Implicit dimension choice for softmax has been deprecated. Change the call to include dim=X as an argument.\n",
      "  output_layer = self.softmax(output_layer)\n"
     ]
    },
    {
     "data": {
      "application/vnd.jupyter.widget-view+json": {
       "model_id": "168ef83f443b4a6d936834abab1ca6c7",
       "version_major": 2,
       "version_minor": 0
      },
      "text/plain": [
       "Lime attribution:   0%|          | 0/25 [00:00<?, ?it/s]"
      ]
     },
     "metadata": {},
     "output_type": "display_data"
    },
    {
     "name": "stderr",
     "output_type": "stream",
     "text": [
      "/home/zhengyang/Desktop/Git_resp_limesegment/classifiers/ResNet.py:149: UserWarning: Implicit dimension choice for softmax has been deprecated. Change the call to include dim=X as an argument.\n",
      "  output_layer = self.softmax(output_layer)\n"
     ]
    },
    {
     "data": {
      "application/vnd.jupyter.widget-view+json": {
       "model_id": "41f835ae15b94e74903740f804f29a22",
       "version_major": 2,
       "version_minor": 0
      },
      "text/plain": [
       "Lime attribution:   0%|          | 0/25 [00:00<?, ?it/s]"
      ]
     },
     "metadata": {},
     "output_type": "display_data"
    },
    {
     "name": "stderr",
     "output_type": "stream",
     "text": [
      "/home/zhengyang/Desktop/Git_resp_limesegment/classifiers/ResNet.py:149: UserWarning: Implicit dimension choice for softmax has been deprecated. Change the call to include dim=X as an argument.\n",
      "  output_layer = self.softmax(output_layer)\n"
     ]
    },
    {
     "data": {
      "application/vnd.jupyter.widget-view+json": {
       "model_id": "e527cdeefb5345b0ae9b16943fdb4f60",
       "version_major": 2,
       "version_minor": 0
      },
      "text/plain": [
       "Lime attribution:   0%|          | 0/25 [00:00<?, ?it/s]"
      ]
     },
     "metadata": {},
     "output_type": "display_data"
    },
    {
     "name": "stderr",
     "output_type": "stream",
     "text": [
      "/home/zhengyang/Desktop/Git_resp_limesegment/classifiers/ResNet.py:149: UserWarning: Implicit dimension choice for softmax has been deprecated. Change the call to include dim=X as an argument.\n",
      "  output_layer = self.softmax(output_layer)\n"
     ]
    },
    {
     "data": {
      "application/vnd.jupyter.widget-view+json": {
       "model_id": "91ff9c58fb6b4f5c9571e03ddafc9de4",
       "version_major": 2,
       "version_minor": 0
      },
      "text/plain": [
       "Lime attribution:   0%|          | 0/25 [00:00<?, ?it/s]"
      ]
     },
     "metadata": {},
     "output_type": "display_data"
    },
    {
     "name": "stderr",
     "output_type": "stream",
     "text": [
      "/home/zhengyang/Desktop/Git_resp_limesegment/classifiers/ResNet.py:149: UserWarning: Implicit dimension choice for softmax has been deprecated. Change the call to include dim=X as an argument.\n",
      "  output_layer = self.softmax(output_layer)\n"
     ]
    },
    {
     "data": {
      "application/vnd.jupyter.widget-view+json": {
       "model_id": "97290d0de96f437c8692fbb611517d51",
       "version_major": 2,
       "version_minor": 0
      },
      "text/plain": [
       "Lime attribution:   0%|          | 0/25 [00:00<?, ?it/s]"
      ]
     },
     "metadata": {},
     "output_type": "display_data"
    },
    {
     "name": "stderr",
     "output_type": "stream",
     "text": [
      "/home/zhengyang/Desktop/Git_resp_limesegment/classifiers/ResNet.py:149: UserWarning: Implicit dimension choice for softmax has been deprecated. Change the call to include dim=X as an argument.\n",
      "  output_layer = self.softmax(output_layer)\n"
     ]
    },
    {
     "data": {
      "application/vnd.jupyter.widget-view+json": {
       "model_id": "f1bd8d5ec7b746139f8bee5a38508395",
       "version_major": 2,
       "version_minor": 0
      },
      "text/plain": [
       "Lime attribution:   0%|          | 0/25 [00:00<?, ?it/s]"
      ]
     },
     "metadata": {},
     "output_type": "display_data"
    },
    {
     "name": "stderr",
     "output_type": "stream",
     "text": [
      "/home/zhengyang/Desktop/Git_resp_limesegment/classifiers/ResNet.py:149: UserWarning: Implicit dimension choice for softmax has been deprecated. Change the call to include dim=X as an argument.\n",
      "  output_layer = self.softmax(output_layer)\n"
     ]
    },
    {
     "data": {
      "application/vnd.jupyter.widget-view+json": {
       "model_id": "d58e4dc3212d4e06968584a0ad6b488c",
       "version_major": 2,
       "version_minor": 0
      },
      "text/plain": [
       "Lime attribution:   0%|          | 0/25 [00:00<?, ?it/s]"
      ]
     },
     "metadata": {},
     "output_type": "display_data"
    },
    {
     "name": "stderr",
     "output_type": "stream",
     "text": [
      "/home/zhengyang/Desktop/Git_resp_limesegment/classifiers/ResNet.py:149: UserWarning: Implicit dimension choice for softmax has been deprecated. Change the call to include dim=X as an argument.\n",
      "  output_layer = self.softmax(output_layer)\n"
     ]
    },
    {
     "data": {
      "application/vnd.jupyter.widget-view+json": {
       "model_id": "a509fd8e58fb41e49a767bc145f69e59",
       "version_major": 2,
       "version_minor": 0
      },
      "text/plain": [
       "Lime attribution:   0%|          | 0/25 [00:00<?, ?it/s]"
      ]
     },
     "metadata": {},
     "output_type": "display_data"
    },
    {
     "name": "stderr",
     "output_type": "stream",
     "text": [
      "/home/zhengyang/Desktop/Git_resp_limesegment/classifiers/ResNet.py:149: UserWarning: Implicit dimension choice for softmax has been deprecated. Change the call to include dim=X as an argument.\n",
      "  output_layer = self.softmax(output_layer)\n"
     ]
    },
    {
     "data": {
      "application/vnd.jupyter.widget-view+json": {
       "model_id": "cf3debd9a0b2470aaa038b56ca78dfdb",
       "version_major": 2,
       "version_minor": 0
      },
      "text/plain": [
       "Lime attribution:   0%|          | 0/25 [00:00<?, ?it/s]"
      ]
     },
     "metadata": {},
     "output_type": "display_data"
    },
    {
     "name": "stderr",
     "output_type": "stream",
     "text": [
      "/home/zhengyang/Desktop/Git_resp_limesegment/classifiers/ResNet.py:149: UserWarning: Implicit dimension choice for softmax has been deprecated. Change the call to include dim=X as an argument.\n",
      "  output_layer = self.softmax(output_layer)\n"
     ]
    },
    {
     "data": {
      "application/vnd.jupyter.widget-view+json": {
       "model_id": "8ce1b9f614ae40dfa47ead5ec320b620",
       "version_major": 2,
       "version_minor": 0
      },
      "text/plain": [
       "Lime attribution:   0%|          | 0/25 [00:00<?, ?it/s]"
      ]
     },
     "metadata": {},
     "output_type": "display_data"
    },
    {
     "name": "stderr",
     "output_type": "stream",
     "text": [
      "/home/zhengyang/Desktop/Git_resp_limesegment/classifiers/ResNet.py:149: UserWarning: Implicit dimension choice for softmax has been deprecated. Change the call to include dim=X as an argument.\n",
      "  output_layer = self.softmax(output_layer)\n"
     ]
    }
   ],
   "source": [
    "exp_eucl_distance = get_exp_kernel_similarity_function('euclidean', kernel_width=100)\n",
    "\n",
    "lr_lime = Lime(\n",
    "    classifer.model, \n",
    "    interpretable_model=SkLearnLinearRegression(),  # build-in wrapped sklearn Linear Regression\n",
    "    similarity_func=exp_eucl_distance\n",
    ")\n",
    "\n",
    "target = 0\n",
    "\n",
    "attrs_0 = lr_lime.attribute(\n",
    "    torch.from_numpy(X_d[patients_idx_to_cycles_idx(x_test,cycle_end_idx)][y_d[patients_idx_to_cycles_idx(x_test,cycle_end_idx)]==target]).to(torch.float32),\n",
    "    target=target,\n",
    "    n_samples=5000,\n",
    "    perturbations_per_eval=200,\n",
    "    show_progress=True\n",
    ").squeeze(0)\n",
    "\n",
    "target = 1\n",
    "\n",
    "attrs_1 = lr_lime.attribute(\n",
    "    torch.from_numpy(X_d[patients_idx_to_cycles_idx(x_test,cycle_end_idx)][y_d[patients_idx_to_cycles_idx(x_test,cycle_end_idx)]==target]).to(torch.float32),\n",
    "    target=target,\n",
    "    n_samples=5000,\n",
    "    perturbations_per_eval=200,\n",
    "    show_progress=True\n",
    ").squeeze(0)\n",
    "\n",
    "np.save(\"./XAI_value/lime_tdvscp_weight_ResNet_0\", attrs_0)\n",
    "np.save(\"./XAI_value/lime_tdvscp_weight_ResNet_1\", attrs_1)"
   ]
  },
  {
   "cell_type": "markdown",
   "metadata": {},
   "source": [
    "## Compute the XAI of DeepLift and save the results\n",
    "### Due to memory limitations, calculations are performed in segments."
   ]
  },
  {
   "cell_type": "code",
   "execution_count": null,
   "metadata": {},
   "outputs": [],
   "source": [
    "from captum.attr import DeepLiftShap\n",
    "import math\n",
    "\n",
    "target=0\n",
    "\n",
    "inputs = torch.from_numpy(X_d[patients_idx_to_cycles_idx(x_test,cycle_end_idx)][y_d[patients_idx_to_cycles_idx(x_test,cycle_end_idx)]==target]).to(torch.float32)\n",
    "\n",
    "inputs = torch.split(inputs, split_size_or_sections=math.ceil(len(inputs)/20), dim=0)\n",
    "\n",
    "\n",
    "attrs_0_all = []\n",
    "\n",
    "for i in inputs:\n",
    "    \n",
    "    dls = DeepLiftShap(classifer.model)\n",
    "    i.requires_grad=True\n",
    "    attrs_0 = dls.attribute(i,target=target,baselines=i*0)\n",
    "    attrs_0_all.append(attrs_0.detach().numpy())\n",
    "\n",
    "target=1\n",
    "\n",
    "inputs = torch.from_numpy(X_d[patients_idx_to_cycles_idx(x_test,cycle_end_idx)][y_d[patients_idx_to_cycles_idx(x_test,cycle_end_idx)]==target]).to(torch.float32)\n",
    "\n",
    "inputs = torch.split(inputs, split_size_or_sections=math.ceil(len(inputs)/20), dim=0)\n",
    "\n",
    "\n",
    "attrs_1_all = []\n",
    "\n",
    "for i in inputs:\n",
    "    \n",
    "    dls = DeepLiftShap(classifer.model)\n",
    "    i.requires_grad=True\n",
    "    attrs_1 = dls.attribute(i,target=target,baselines=i*0)\n",
    "    attrs_1_all.append(attrs_1.detach().numpy())\n",
    "\n",
    "np.save(\"./XAI_value/DeepLiftShap_tdvscp_ResNet_0\", np.concatenate(attrs_0_all))\n",
    "np.save(\"./XAI_value/DeepLiftShap_tdvscp_ResNet_1\", np.concatenate(attrs_1_all))"
   ]
  }
 ],
 "metadata": {
  "kernelspec": {
   "display_name": "Python 3 (ipykernel)",
   "language": "python",
   "name": "python3"
  },
  "language_info": {
   "codemirror_mode": {
    "name": "ipython",
    "version": 3
   },
   "file_extension": ".py",
   "mimetype": "text/x-python",
   "name": "python",
   "nbconvert_exporter": "python",
   "pygments_lexer": "ipython3",
   "version": "3.12.2"
  }
 },
 "nbformat": 4,
 "nbformat_minor": 4
}
