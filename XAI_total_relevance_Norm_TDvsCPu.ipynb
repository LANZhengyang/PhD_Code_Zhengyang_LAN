{
 "cells": [
  {
   "cell_type": "markdown",
   "metadata": {},
   "source": [
    "# Plot the result of LIME, DeepShap, Integrated Gradients by angles and pixels"
   ]
  },
  {
   "cell_type": "code",
   "execution_count": 1,
   "metadata": {},
   "outputs": [],
   "source": [
    "from utils.utils import *\n",
    "import numpy as np\n",
    "import matplotlib.pyplot as plt\n",
    "import os\n",
    "\n",
    "# Create the path to save the results\n",
    "os.makedirs('XAI_plot', exist_ok=True)\n",
    "os.makedirs('XAI_ranking', exist_ok=True)"
   ]
  },
  {
   "cell_type": "code",
   "execution_count": 2,
   "metadata": {},
   "outputs": [],
   "source": [
    "# Method to normalize the data\n",
    "def normalization(data):\n",
    "    return (data-np.min(data))/(np.max(data)-np.min(data))"
   ]
  },
  {
   "cell_type": "markdown",
   "metadata": {},
   "source": [
    "# LIME"
   ]
  },
  {
   "cell_type": "markdown",
   "metadata": {},
   "source": [
    "### Load the result of XAI for LIME for three nets and do the normalization"
   ]
  },
  {
   "cell_type": "code",
   "execution_count": 3,
   "metadata": {},
   "outputs": [],
   "source": [
    "attrs_0_ResNet = np.mean(np.abs(np.load(\"./XAI_value/lime_tdvscp_weight_ResNet_0.npy\")),axis=0)\n",
    "attrs_1_ResNet = np.mean(np.abs(np.load(\"./XAI_value/lime_tdvscp_weight_ResNet_1.npy\")),axis=0)\n",
    "attrs_ResNet = attrs_0_ResNet+attrs_1_ResNet\n",
    "\n",
    "attrs_0_LSTM = np.mean(np.abs(np.load(\"./XAI_value/lime_tdvscp_weight_LSTM_0.npy\")),axis=0)\n",
    "attrs_1_LSTM = np.mean(np.abs(np.load(\"./XAI_value/lime_tdvscp_weight_LSTM_1.npy\")),axis=0)\n",
    "attrs_LSTM = attrs_0_LSTM+attrs_1_LSTM\n",
    "\n",
    "attrs_0_InceptionTime = np.mean(np.abs(np.load(\"./XAI_value/lime_tdvscp_weight_InceptionTime_0.npy\")),axis=0)\n",
    "attrs_1_InceptionTime = np.mean(np.abs(np.load(\"./XAI_value/lime_tdvscp_weight_InceptionTime_1.npy\")),axis=0)\n",
    "attrs_InceptionTime = attrs_0_InceptionTime+attrs_1_InceptionTime\n",
    "\n",
    "attrs_ResNet_norm = normalization(attrs_ResNet)\n",
    "attrs_0_ResNet_norm = normalization(attrs_0_ResNet)\n",
    "attrs_1_ResNet_norm = normalization(attrs_1_ResNet)\n",
    "\n",
    "attrs_LSTM_norm = normalization(attrs_LSTM)\n",
    "attrs_0_LSTM_norm = normalization(attrs_0_LSTM)\n",
    "attrs_1_LSTM_norm = normalization(attrs_1_LSTM)\n",
    "\n",
    "attrs_InceptionTime_norm = normalization(attrs_InceptionTime)\n",
    "attrs_0_InceptionTime_norm = normalization(attrs_0_InceptionTime)\n",
    "attrs_1_InceptionTime_norm = normalization(attrs_1_InceptionTime)\n",
    "\n",
    "attrs_ResNet_norm_angle = normalization(np.mean(attrs_ResNet_norm,axis=1))\n",
    "attrs_0_ResNet_norm_angle = normalization(np.mean(attrs_0_ResNet_norm,axis=1))\n",
    "attrs_1_ResNet_norm_angle = normalization(np.mean(attrs_1_ResNet_norm,axis=1))\n",
    "\n",
    "attrs_LSTM_norm_angle = normalization(np.mean(attrs_LSTM_norm,axis=1))\n",
    "attrs_0_LSTM_norm_angle = normalization(np.mean(attrs_0_LSTM_norm,axis=1))\n",
    "attrs_1_LSTM_norm_angle = normalization(np.mean(attrs_1_LSTM_norm,axis=1))\n",
    "\n",
    "attrs_InceptionTime_norm_angle = normalization(np.mean(attrs_InceptionTime_norm,axis=1))\n",
    "attrs_0_InceptionTime_norm_angle = normalization(np.mean(attrs_0_InceptionTime_norm,axis=1))\n",
    "attrs_1_InceptionTime_norm_angle = normalization(np.mean(attrs_1_InceptionTime_norm,axis=1))"
   ]
  },
  {
   "cell_type": "markdown",
   "metadata": {},
   "source": [
    "### Add the name of the angles and basic information for plot the results"
   ]
  },
  {
   "cell_type": "code",
   "execution_count": 4,
   "metadata": {},
   "outputs": [],
   "source": [
    "ranking = np.array(['F/E Pelvis - first side',\n",
    "'Ab/Ad Pelvis - first side',\n",
    "'Rot I/E Pelvis - first side',\n",
    "'F/E Hip - first side',\n",
    "'Ab/Ad Hip - first side',\n",
    "'Rot I/E Hip - first side',\n",
    "'F/E Knee - first side',\n",
    "'Ab/Ad Knee - first side',\n",
    "'Rot I/E Knee - first side',\n",
    "'F/E Ankle - first side',\n",
    "'Rot I/E Foot - first side',\n",
    "'F/E Pelvis - second side',\n",
    "'Ab/Ad Pelvis - second side',\n",
    "'Rot I/E Pelvis - second side',\n",
    "'F/E Hip - second side',\n",
    "'Ab/Ad Hip - second side',\n",
    "'Rot I/E Hip - second side',\n",
    "'F/E Knee - second side',\n",
    "'Ab/Ad Knee - second side',\n",
    "'Rot I/E Knee - second side',\n",
    "'F/E Ankle - second side',\n",
    "'Rot I/E Foot - second side'])  \n",
    "\n",
    "XAI_method = 'LIME'\n",
    "labels= ['TD','CPu','Total'] \n",
    "Net_name = ['ResNet','LSTM','InceptionTime']\n",
    "D_name = 'TDvsCPu'\n",
    "list_rel_nets = [[attrs_0_ResNet_norm_angle,attrs_1_ResNet_norm_angle,np.abs(attrs_0_ResNet_norm_angle)+np.abs(attrs_1_ResNet_norm_angle)], [attrs_0_LSTM_norm_angle,attrs_1_LSTM_norm_angle,np.abs(attrs_0_LSTM_norm_angle)+np.abs(attrs_1_LSTM_norm_angle)], [attrs_0_InceptionTime_norm_angle,attrs_1_InceptionTime_norm_angle,np.abs(attrs_0_InceptionTime_norm_angle)+np.abs(attrs_1_InceptionTime_norm_angle)]]"
   ]
  },
  {
   "cell_type": "markdown",
   "metadata": {},
   "source": [
    "### Pirnt and save the Ranking of relevance value for three nets by angles"
   ]
  },
  {
   "cell_type": "code",
   "execution_count": 7,
   "metadata": {},
   "outputs": [
    {
     "name": "stdout",
     "output_type": "stream",
     "text": [
      "Ranking of relevance value for three nets [[ 3  6  0 14 17 19 20 11  9  2  8 10  7 21  5 13 16 15 12  1  4 18]\n",
      " [ 3  6  9 11 17 19 14 13 10  5  0 15 16  8  2 21  1  7 12 18 20  4]\n",
      " [ 3 17  0  6 11  8 20  9  2 19 10 13 14  7 21  5 16 12  1 18  4 15]]\n"
     ]
    }
   ],
   "source": [
    "print('Ranking of relevance value for three nets',np.array([np.argsort(-attrs_ResNet_norm_angle),np.argsort(-attrs_LSTM_norm_angle) ,np.argsort(-attrs_InceptionTime_norm_angle)]))\n",
    "os.makedirs('XAI_ranking', exist_ok=True)\n",
    "np.save('./XAI_ranking/'+str(XAI_method)+'_'+str(D_name)+'_weight', np.array([np.argsort(-attrs_ResNet_norm_angle),np.argsort(-attrs_LSTM_norm_angle) ,np.argsort(-attrs_InceptionTime_norm_angle)]))"
   ]
  },
  {
   "cell_type": "markdown",
   "metadata": {},
   "source": [
    "# DeepSHAP"
   ]
  },
  {
   "cell_type": "markdown",
   "metadata": {},
   "source": [
    "### Load the result of XAI for DeepSHAP for three nets and do the normalization"
   ]
  },
  {
   "cell_type": "code",
   "execution_count": 8,
   "metadata": {},
   "outputs": [],
   "source": [
    "attrs_0_ResNet = np.mean(np.abs(np.load(\"./XAI_value/DeepLiftShap_tdvscp_weight_ResNet_0.npy\")),axis=0)\n",
    "attrs_1_ResNet = np.mean(np.abs(np.load(\"./XAI_value/DeepLiftShap_tdvscp_weight_ResNet_1.npy\")),axis=0)\n",
    "attrs_ResNet = attrs_0_ResNet+attrs_1_ResNet\n",
    "\n",
    "attrs_0_LSTM = np.mean(np.abs(np.load(\"./XAI_value/DeepLiftShap_tdvscp_weight_LSTM_0.npy\")),axis=0)\n",
    "attrs_1_LSTM = np.mean(np.abs(np.load(\"./XAI_value/DeepLiftShap_tdvscp_weight_LSTM_1.npy\")),axis=0)\n",
    "attrs_LSTM = attrs_0_LSTM+attrs_1_LSTM\n",
    "\n",
    "attrs_0_InceptionTime = np.mean(np.abs(np.load(\"./XAI_value/DeepLiftShap_tdvscp_weight_InceptionTime_0.npy\")),axis=0)\n",
    "attrs_1_InceptionTime = np.mean(np.abs(np.load(\"./XAI_value/DeepLiftShap_tdvscp_weight_InceptionTime_1.npy\")),axis=0)\n",
    "attrs_InceptionTime = attrs_0_InceptionTime+attrs_1_InceptionTime\n",
    "\n",
    "attrs_ResNet_norm = normalization(attrs_ResNet)\n",
    "attrs_0_ResNet_norm = normalization(attrs_0_ResNet)\n",
    "attrs_1_ResNet_norm = normalization(attrs_1_ResNet)\n",
    "\n",
    "attrs_LSTM_norm = normalization(attrs_LSTM)\n",
    "attrs_0_LSTM_norm = normalization(attrs_0_LSTM)\n",
    "attrs_1_LSTM_norm = normalization(attrs_1_LSTM)\n",
    "\n",
    "attrs_InceptionTime_norm = normalization(attrs_InceptionTime)\n",
    "attrs_0_InceptionTime_norm = normalization(attrs_0_InceptionTime)\n",
    "attrs_1_InceptionTime_norm = normalization(attrs_1_InceptionTime)\n",
    "\n",
    "attrs_ResNet_norm_angle = normalization(np.mean(attrs_ResNet_norm,axis=1))\n",
    "attrs_0_ResNet_norm_angle = normalization(np.mean(attrs_0_ResNet_norm,axis=1))\n",
    "attrs_1_ResNet_norm_angle = normalization(np.mean(attrs_1_ResNet_norm,axis=1))\n",
    "\n",
    "attrs_LSTM_norm_angle = normalization(np.mean(attrs_LSTM_norm,axis=1))\n",
    "attrs_0_LSTM_norm_angle = normalization(np.mean(attrs_0_LSTM_norm,axis=1))\n",
    "attrs_1_LSTM_norm_angle = normalization(np.mean(attrs_1_LSTM_norm,axis=1))\n",
    "\n",
    "attrs_InceptionTime_norm_angle = normalization(np.mean(attrs_InceptionTime_norm,axis=1))\n",
    "attrs_0_InceptionTime_norm_angle = normalization(np.mean(attrs_0_InceptionTime_norm,axis=1))\n",
    "attrs_1_InceptionTime_norm_angle = normalization(np.mean(attrs_1_InceptionTime_norm,axis=1))\n",
    "\n",
    "XAI_method = 'DeepShap'\n",
    "labels= ['TD','CPu','Total'] \n",
    "Net_name = ['ResNet','LSTM','InceptionTime']\n",
    "D_name = 'TDvsCPu'\n",
    "list_rel_nets = [[attrs_0_ResNet_norm_angle,attrs_1_ResNet_norm_angle,np.abs(attrs_0_ResNet_norm_angle)+np.abs(attrs_1_ResNet_norm_angle)], [attrs_0_LSTM_norm_angle,attrs_1_LSTM_norm_angle,np.abs(attrs_0_LSTM_norm_angle)+np.abs(attrs_1_LSTM_norm_angle)], [attrs_0_InceptionTime_norm_angle,attrs_1_InceptionTime_norm_angle,np.abs(attrs_0_InceptionTime_norm_angle)+np.abs(attrs_1_InceptionTime_norm_angle)]]\n"
   ]
  },
  {
   "cell_type": "markdown",
   "metadata": {},
   "source": [
    "### Pirnt and save the Ranking of relevance value for three nets by angles"
   ]
  },
  {
   "cell_type": "code",
   "execution_count": 11,
   "metadata": {},
   "outputs": [
    {
     "name": "stdout",
     "output_type": "stream",
     "text": [
      "Ranking of relevance value for three nets [[ 3 14  6 17 11 10  0 20  9 13 19 21  2  5  8 16  7  1 15  4 18 12]\n",
      " [ 3  6 17 11  9 14 19  8 10  5  0 13 21 16  2 15  7 20  1 18 12  4]\n",
      " [ 3 17 13  6  2  0 11 10 14 20 19  8 21  9  7 12  5 16  4  1 18 15]]\n"
     ]
    }
   ],
   "source": [
    "print('Ranking of relevance value for three nets',np.array([np.argsort(-attrs_ResNet_norm_angle),np.argsort(-attrs_LSTM_norm_angle) ,np.argsort(-attrs_InceptionTime_norm_angle)]))\n",
    "os.makedirs('XAI_ranking', exist_ok=True)\n",
    "np.save('./XAI_ranking/'+str(XAI_method)+'_'+str(D_name)+'_weight', np.array([np.argsort(-attrs_ResNet_norm_angle),np.argsort(-attrs_LSTM_norm_angle) ,np.argsort(-attrs_InceptionTime_norm_angle)]))"
   ]
  },
  {
   "cell_type": "code",
   "execution_count": null,
   "metadata": {},
   "outputs": [],
   "source": []
  },
  {
   "cell_type": "markdown",
   "metadata": {},
   "source": [
    "# Integrated Gradients"
   ]
  },
  {
   "cell_type": "markdown",
   "metadata": {},
   "source": [
    "### Load the result of XAI for integrated gradients for three nets and do the normalization"
   ]
  },
  {
   "cell_type": "code",
   "execution_count": 12,
   "metadata": {},
   "outputs": [],
   "source": [
    "attrs_0_ResNet = np.mean(np.abs(np.load(\"./XAI_value/ig_tdvscp_weight_ResNet_0.npy\")),axis=0)\n",
    "attrs_1_ResNet = np.mean(np.abs(np.load(\"./XAI_value/ig_tdvscp_weight_ResNet_1.npy\")),axis=0)\n",
    "attrs_ResNet = attrs_0_ResNet+attrs_1_ResNet\n",
    "\n",
    "attrs_0_LSTM = np.mean(np.abs(np.load(\"./XAI_value/ig_tdvscp_weight_LSTM_0.npy\")),axis=0)\n",
    "attrs_1_LSTM = np.mean(np.abs(np.load(\"./XAI_value/ig_tdvscp_weight_LSTM_1.npy\")),axis=0)\n",
    "attrs_LSTM = attrs_0_LSTM+attrs_1_LSTM\n",
    "\n",
    "attrs_0_InceptionTime = np.mean(np.abs(np.load(\"./XAI_value/ig_tdvscp_weight_InceptionTime_0.npy\")),axis=0)\n",
    "attrs_1_InceptionTime = np.mean(np.abs(np.load(\"./XAI_value/ig_tdvscp_weight_InceptionTime_1.npy\")),axis=0)\n",
    "attrs_InceptionTime = attrs_0_InceptionTime+attrs_1_InceptionTime\n",
    "\n",
    "attrs_ResNet_norm = normalization(attrs_ResNet)\n",
    "attrs_0_ResNet_norm = normalization(attrs_0_ResNet)\n",
    "attrs_1_ResNet_norm = normalization(attrs_1_ResNet)\n",
    "\n",
    "attrs_LSTM_norm = normalization(attrs_LSTM)\n",
    "attrs_0_LSTM_norm = normalization(attrs_0_LSTM)\n",
    "attrs_1_LSTM_norm = normalization(attrs_1_LSTM)\n",
    "\n",
    "attrs_InceptionTime_norm = normalization(attrs_InceptionTime)\n",
    "attrs_0_InceptionTime_norm = normalization(attrs_0_InceptionTime)\n",
    "attrs_1_InceptionTime_norm = normalization(attrs_1_InceptionTime)\n",
    "\n",
    "attrs_ResNet_norm_angle = normalization(np.mean(attrs_ResNet_norm,axis=1))\n",
    "attrs_0_ResNet_norm_angle = normalization(np.mean(attrs_0_ResNet_norm,axis=1))\n",
    "attrs_1_ResNet_norm_angle = normalization(np.mean(attrs_1_ResNet_norm,axis=1))\n",
    "\n",
    "attrs_LSTM_norm_angle = normalization(np.mean(attrs_LSTM_norm,axis=1))\n",
    "attrs_0_LSTM_norm_angle = normalization(np.mean(attrs_0_LSTM_norm,axis=1))\n",
    "attrs_1_LSTM_norm_angle = normalization(np.mean(attrs_1_LSTM_norm,axis=1))\n",
    "\n",
    "attrs_InceptionTime_norm_angle = normalization(np.mean(attrs_InceptionTime_norm,axis=1))\n",
    "attrs_0_InceptionTime_norm_angle = normalization(np.mean(attrs_0_InceptionTime_norm,axis=1))\n",
    "attrs_1_InceptionTime_norm_angle = normalization(np.mean(attrs_1_InceptionTime_norm,axis=1))\n",
    "\n",
    "XAI_method = 'IG'\n",
    "labels= ['TD','CPu','Total'] \n",
    "Net_name = ['ResNet','LSTM','InceptionTime']\n",
    "D_name = 'TDvsCPu'\n",
    "list_rel_nets = [[attrs_0_ResNet_norm_angle,attrs_1_ResNet_norm_angle,np.abs(attrs_0_ResNet_norm_angle)+np.abs(attrs_1_ResNet_norm_angle)], [attrs_0_LSTM_norm_angle,attrs_1_LSTM_norm_angle,np.abs(attrs_0_LSTM_norm_angle)+np.abs(attrs_1_LSTM_norm_angle)], [attrs_0_InceptionTime_norm_angle,attrs_1_InceptionTime_norm_angle,np.abs(attrs_0_InceptionTime_norm_angle)+np.abs(attrs_1_InceptionTime_norm_angle)]]\n"
   ]
  },
  {
   "cell_type": "markdown",
   "metadata": {},
   "source": [
    "### Pirnt and save the Ranking of relevance value for three nets by angles"
   ]
  },
  {
   "cell_type": "code",
   "execution_count": 15,
   "metadata": {},
   "outputs": [
    {
     "name": "stdout",
     "output_type": "stream",
     "text": [
      "Ranking of relevance value for three nets [[ 3 14  6 11 17  9 19  0 10 13  8 21 20  5  2  1 16 12  7 15  4 18]\n",
      " [ 3  6 14 11 17  9 19  0  5 13 10  2  8 21  7 15 16 18  1 20 12  4]\n",
      " [ 3 17  6 10  0 14 13 11  2 21 19  8 20  9  7  5 16 12  4 18  1 15]]\n"
     ]
    }
   ],
   "source": [
    "print('Ranking of relevance value for three nets',np.array([np.argsort(-attrs_ResNet_norm_angle),np.argsort(-attrs_LSTM_norm_angle) ,np.argsort(-attrs_InceptionTime_norm_angle)]))\n",
    "os.makedirs('XAI_ranking', exist_ok=True)\n",
    "np.save('./XAI_ranking/'+str(XAI_method)+'_'+str(D_name)+'_weight', np.array([np.argsort(-attrs_ResNet_norm_angle),np.argsort(-attrs_LSTM_norm_angle) ,np.argsort(-attrs_InceptionTime_norm_angle)]))"
   ]
  },
  {
   "cell_type": "code",
   "execution_count": null,
   "metadata": {},
   "outputs": [],
   "source": []
  }
 ],
 "metadata": {
  "kernelspec": {
   "display_name": "Python 3 (ipykernel)",
   "language": "python",
   "name": "python3"
  },
  "language_info": {
   "codemirror_mode": {
    "name": "ipython",
    "version": 3
   },
   "file_extension": ".py",
   "mimetype": "text/x-python",
   "name": "python",
   "nbconvert_exporter": "python",
   "pygments_lexer": "ipython3",
   "version": "3.12.2"
  }
 },
 "nbformat": 4,
 "nbformat_minor": 4
}
